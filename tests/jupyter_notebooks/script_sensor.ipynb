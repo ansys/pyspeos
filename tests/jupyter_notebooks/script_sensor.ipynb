{
 "cells": [
  {
   "cell_type": "markdown",
   "metadata": {},
   "source": [
    "Needed imports and utility"
   ]
  },
  {
   "cell_type": "code",
   "execution_count": 21,
   "metadata": {},
   "outputs": [],
   "source": [
    "import os\n",
    "import ansys.speos.script as script\n",
    "import ansys.speos.core as core\n",
    "\n",
    "tests_data_path = os.path.join(os.path.join(os.path.abspath(''), os.path.pardir), \"assets\")\n",
    "\n",
    "def clean_all_dbs(speos_client: core.SpeosClient):\n",
    "    for item in (\n",
    "        speos_client.jobs().list()\n",
    "        + speos_client.scenes().list()\n",
    "        + speos_client.simulation_templates().list()\n",
    "        + speos_client.sensor_templates().list()\n",
    "        + speos_client.source_templates().list()\n",
    "        + speos_client.intensity_templates().list()\n",
    "        + speos_client.spectrums().list()\n",
    "        + speos_client.vop_templates().list()\n",
    "        + speos_client.sop_templates().list()\n",
    "        + speos_client.parts().list()\n",
    "        + speos_client.bodies().list()\n",
    "        + speos_client.faces().list()\n",
    "    ):\n",
    "        item.delete()\n",
    "\n",
    "tests_data_path = os.path.join(os.path.join(os.path.abspath(''), os.path.pardir), \"assets\")"
   ]
  },
  {
   "cell_type": "markdown",
   "metadata": {},
   "source": [
    "Create connection with speos rpc server"
   ]
  },
  {
   "cell_type": "code",
   "execution_count": 22,
   "metadata": {},
   "outputs": [],
   "source": [
    "speos = core.Speos(host=\"localhost\", port=50051)\n",
    "clean_all_dbs(speos.client)"
   ]
  },
  {
   "cell_type": "markdown",
   "metadata": {},
   "source": [
    "New project"
   ]
  },
  {
   "cell_type": "code",
   "execution_count": 23,
   "metadata": {},
   "outputs": [
    {
     "name": "stdout",
     "output_type": "stream",
     "text": [
      "ansys.api.speos.scene.v2.Scene\n",
      "{\n",
      "    \"name\": \"\",\n",
      "    \"description\": \"\",\n",
      "    \"metadata\": {},\n",
      "    \"part_guid\": \"\",\n",
      "    \"sources\": [],\n",
      "    \"sensors\": [],\n",
      "    \"simulations\": [],\n",
      "    \"materials\": [],\n",
      "    \"scenes\": []\n",
      "}\n"
     ]
    }
   ],
   "source": [
    "p = script.Project(speos=speos)\n",
    "print(p)"
   ]
  },
  {
   "cell_type": "markdown",
   "metadata": {},
   "source": [
    "# Create\n",
    "Create locally  \n",
    "The mention \"local: \" is added when printing the sensor  \n",
    "For sensors, it is always important to set properties."
   ]
  },
  {
   "cell_type": "code",
   "execution_count": 24,
   "metadata": {},
   "outputs": [
    {
     "name": "stdout",
     "output_type": "stream",
     "text": [
      "local: ansys.api.speos.scene.v2.Scene.SensorInstance\n",
      "{\n",
      "    \"name\": \"Sensor.1\",\n",
      "    \"camera_properties\": {\n",
      "        \"axis_system\": [\n",
      "            0.0,\n",
      "            0.0,\n",
      "            0.0,\n",
      "            1.0,\n",
      "            0.0,\n",
      "            0.0,\n",
      "            0.0,\n",
      "            1.0,\n",
      "            0.0,\n",
      "            0.0,\n",
      "            0.0,\n",
      "            1.0\n",
      "        ],\n",
      "        \"layer_type_none\": {},\n",
      "        \"trajectory_file_uri\": \"\"\n",
      "    },\n",
      "    \"description\": \"\",\n",
      "    \"metadata\": {},\n",
      "    \"sensor_guid\": \"\",\n",
      "    \"result_file_name\": \"\"\n",
      "}\n",
      "local: ansys.api.speos.sensor.v1.SensorTemplate\n",
      "{\n",
      "    \"camera_sensor_template\": {\n",
      "        \"sensor_mode_photometric\": {\n",
      "            \"acquisition_integration\": 0.01,\n",
      "            \"transmittance_file_uri\": \"c:\\\\ANSYSDev\\\\NoBackup\\\\pyspeos\\\\tests\\\\jupyter_notebooks\\\\..\\\\assets\\\\CameraInputFiles\\\\CameraTransmittance.spectrum\",\n",
      "            \"gamma_correction\": 2.2,\n",
      "            \"png_bits\": \"PNG_16\",\n",
      "            \"color_mode_color\": {\n",
      "                \"red_spectrum_file_uri\": \"c:\\\\ANSYSDev\\\\NoBackup\\\\pyspeos\\\\tests\\\\jupyter_notebooks\\\\..\\\\assets\\\\CameraInputFiles\\\\CameraSensitivityRed.spectrum\",\n",
      "                \"green_spectrum_file_uri\": \"c:\\\\ANSYSDev\\\\NoBackup\\\\pyspeos\\\\tests\\\\jupyter_notebooks\\\\..\\\\assets\\\\CameraInputFiles\\\\CameraSensitivityGreen.spectrum\",\n",
      "                \"blue_spectrum_file_uri\": \"c:\\\\ANSYSDev\\\\NoBackup\\\\pyspeos\\\\tests\\\\jupyter_notebooks\\\\..\\\\assets\\\\CameraInputFiles\\\\CameraSensitivityBlue.spectrum\",\n",
      "                \"balance_mode_none\": {}\n",
      "            },\n",
      "            \"wavelengths_range\": {\n",
      "                \"w_start\": 400.0,\n",
      "                \"w_end\": 700.0,\n",
      "                \"w_sampling\": 13\n",
      "            },\n",
      "            \"acquisition_lag_time\": 0.0\n",
      "        },\n",
      "        \"focal_length\": 5.0,\n",
      "        \"imager_distance\": 10.0,\n",
      "        \"f_number\": 10.0,\n",
      "        \"horz_pixel\": 640,\n",
      "        \"vert_pixel\": 480,\n",
      "        \"width\": 5.0,\n",
      "        \"height\": 5.0,\n",
      "        \"distortion_file_uri\": \"c:\\\\ANSYSDev\\\\NoBackup\\\\pyspeos\\\\tests\\\\jupyter_notebooks\\\\..\\\\assets\\\\CameraInputFiles\\\\CameraDistortion_130deg.OPTDistortion\",\n",
      "        \"distorsion_file_uri\": \"\"\n",
      "    },\n",
      "    \"name\": \"Sensor.1\",\n",
      "    \"description\": \"\",\n",
      "    \"metadata\": {}\n",
      "}\n"
     ]
    }
   ],
   "source": [
    "distortion_file_path = os.path.join(tests_data_path, \"CameraInputFiles\", \"CameraDistortion_130deg.OPTDistortion\")\n",
    "transmittance_file_path = os.path.join(tests_data_path, \"CameraInputFiles\", \"CameraTransmittance.spectrum\")\n",
    "blue_spectrum_path = os.path.join(tests_data_path, \"CameraInputFiles\", \"CameraSensitivityBlue.spectrum\")\n",
    "green_spectrum_path = os.path.join(tests_data_path, \"CameraInputFiles\", \"CameraSensitivityGreen.spectrum\")\n",
    "red_spectrum_path = os.path.join(tests_data_path, \"CameraInputFiles\", \"CameraSensitivityRed.spectrum\")\n",
    "\n",
    "sensor1 = p.create_sensor(name=\"Sensor.1\")\n",
    "sensor1.set_camera().set_distortion_file_uri(uri=distortion_file_path)\\\n",
    "                    .set_mode_photometric().set_transmittance_file_uri(uri=transmittance_file_path)\\\n",
    "                                           .set_mode_color().set_blue_spectrum_file_uri(uri=blue_spectrum_path)\\\n",
    "                                                            .set_green_spectrum_file_uri(uri=green_spectrum_path)\\\n",
    "                                                            .set_red_spectrum_file_uri(uri=red_spectrum_path)\n",
    "sensor1.set_camera_properties()\n",
    "print(sensor1)"
   ]
  },
  {
   "cell_type": "markdown",
   "metadata": {},
   "source": [
    "Push it to the server.  \n",
    "Now that it is committed to the server, the mention \"local: \" is no more present when printing the sensor.  "
   ]
  },
  {
   "cell_type": "code",
   "execution_count": null,
   "metadata": {},
   "outputs": [],
   "source": [
    "sensor1.commit()\n",
    "print(sensor1)"
   ]
  },
  {
   "cell_type": "markdown",
   "metadata": {},
   "source": [
    "Another example by setting more characteristics"
   ]
  },
  {
   "cell_type": "code",
   "execution_count": null,
   "metadata": {},
   "outputs": [],
   "source": [
    "distortion_file_path = os.path.join(tests_data_path, \"CameraInputFiles\", \"CameraDistortion_130deg.OPTDistortion\")\n",
    "blue_spectrum_path = os.path.join(tests_data_path, \"CameraInputFiles\", \"CameraSensitivityBlue.spectrum\")\n",
    "green_spectrum_path = os.path.join(tests_data_path, \"CameraInputFiles\", \"CameraSensitivityGreen.spectrum\")\n",
    "red_spectrum_path = os.path.join(tests_data_path, \"CameraInputFiles\", \"CameraSensitivityRed.spectrum\")\n",
    "\n",
    "sensor2 = p.create_sensor(name=\"Sensor.2\")\n",
    "sensor2.set_camera().set_distortion_file_uri(uri=distortion_file_path)\\\n",
    "                    .set_mode_photometric().set_mode_color().set_blue_spectrum_file_uri(uri=blue_spectrum_path)\\\n",
    "                                                            .set_green_spectrum_file_uri(uri=green_spectrum_path)\\\n",
    "                                                            .set_red_spectrum_file_uri(uri=red_spectrum_path)\n",
    "sensor2.set_camera().set_focal_length(5.5).set_height(value=6).set_width(value=6)\n",
    "sensor2.set_camera_properties().set_axis_system([20,10,40,1,0,0,0,1,0,0,0,1]).set_layer_type_source()\n",
    "sensor2.commit()\n",
    "print(sensor2)"
   ]
  },
  {
   "cell_type": "markdown",
   "metadata": {},
   "source": [
    "## Default values\n",
    "Some default values are available when applicable in every methods and class."
   ]
  },
  {
   "cell_type": "markdown",
   "metadata": {},
   "source": [
    "# Read\n",
    "## Source Instance\n",
    "A mention \"local: \" is added if it is not yet committed to the server"
   ]
  },
  {
   "cell_type": "code",
   "execution_count": null,
   "metadata": {},
   "outputs": [],
   "source": [
    "print(sensor1)"
   ]
  },
  {
   "cell_type": "markdown",
   "metadata": {},
   "source": [
    "## Project"
   ]
  },
  {
   "cell_type": "code",
   "execution_count": null,
   "metadata": {},
   "outputs": [],
   "source": [
    "print(p)"
   ]
  },
  {
   "cell_type": "markdown",
   "metadata": {},
   "source": [
    "# Update\n",
    "Tipp: if you are manipulating a source already committed, don't forget to commit your changes.  \n",
    "If you don't, you will still only watch what is committed on the server."
   ]
  },
  {
   "cell_type": "code",
   "execution_count": null,
   "metadata": {},
   "outputs": [],
   "source": [
    "sensor1.set_camera().set_f_number(value=11)\n",
    "sensor1.set_camera_properties().set_axis_system([17, 10, 10, 1, 0, 0, 0, 1, 0, 0, 0, 1])\n",
    "sensor1.commit()\n",
    "print(sensor1)"
   ]
  },
  {
   "cell_type": "markdown",
   "metadata": {},
   "source": [
    "Be careful to have something coherent when updating.  \n",
    "Example just after source of type luminaire but with rayfile properties."
   ]
  },
  {
   "cell_type": "code",
   "execution_count": null,
   "metadata": {},
   "outputs": [],
   "source": [
    "#TODO source1.set_rayfile_properties()"
   ]
  },
  {
   "cell_type": "markdown",
   "metadata": {},
   "source": [
    "## Reset\n",
    "Possibility to reset local values from the one available in the server."
   ]
  },
  {
   "cell_type": "code",
   "execution_count": null,
   "metadata": {},
   "outputs": [],
   "source": [
    "sensor1.set_camera().set_mode_geometric() # set rayfile_properties but no commit\n",
    "sensor1.reset() # reset -> this will apply the server value to the local value\n",
    "sensor1.delete() # delete (to display the local value with the below print)\n",
    "print(sensor1._sensor_template)"
   ]
  },
  {
   "cell_type": "markdown",
   "metadata": {},
   "source": [
    "# Delete\n",
    "Once the data is deleted from the server, you can still work with local data and maybe commit later."
   ]
  },
  {
   "cell_type": "code",
   "execution_count": null,
   "metadata": {},
   "outputs": [],
   "source": [
    "sensor2.delete()\n",
    "print(sensor2)"
   ]
  },
  {
   "cell_type": "code",
   "execution_count": null,
   "metadata": {},
   "outputs": [],
   "source": [
    "sensor1.delete()"
   ]
  },
  {
   "cell_type": "markdown",
   "metadata": {},
   "source": [
    "# More content\n",
    "## Irradiance sensor"
   ]
  },
  {
   "cell_type": "code",
   "execution_count": null,
   "metadata": {},
   "outputs": [],
   "source": [
    "#TODO\n",
    "#ray_file_path = os.path.join(tests_data_path, \"Rays.ray\")\n",
    "#\n",
    "#source3 = p.create_source(name=\"Source.3\")\n",
    "#source3.set_rayfile().set_ray_file_uri(uri=ray_file_path)\n",
    "#source3.set_rayfile_properties()\n",
    "#source3.commit()\n",
    "#print(source3)"
   ]
  },
  {
   "cell_type": "code",
   "execution_count": null,
   "metadata": {},
   "outputs": [],
   "source": [
    "#source3.set_rayfile().set_flux_luminous()\n",
    "#source3.commit()\n",
    "#print(source3)"
   ]
  },
  {
   "cell_type": "code",
   "execution_count": null,
   "metadata": {},
   "outputs": [],
   "source": [
    "#source3.delete()"
   ]
  },
  {
   "cell_type": "markdown",
   "metadata": {},
   "source": [
    "## radiance sensor"
   ]
  },
  {
   "cell_type": "code",
   "execution_count": null,
   "metadata": {},
   "outputs": [],
   "source": [
    "#TODO\n",
    "#source4 = p.create_source(name=\"Source.4\")\n",
    "#source4.set_surface().set_exitance_constant()\n",
    "#source4.set_surface_properties().set_exitance_constant_properties([(script.GeoRef.from_native_link(\"TheBodyB/TheFaceF\"), False), \n",
    "#                                                                   (script.GeoRef.from_native_link(\"TheBodyB/TheFaceG\"), True)])\n",
    "#source4.commit()\n",
    "#print(source4)"
   ]
  },
  {
   "cell_type": "code",
   "execution_count": null,
   "metadata": {},
   "outputs": [],
   "source": [
    "#source4.set_surface().set_flux_luminous_intensity()\n",
    "#source4.set_surface().set_intensity().set_gaussian().set_gaussian_properties([10,50,20,1,0,0,0,1,0,0,0,1])\n",
    "#source4.commit()\n",
    "#print(source4)"
   ]
  },
  {
   "cell_type": "code",
   "execution_count": null,
   "metadata": {},
   "outputs": [],
   "source": [
    "#source4.delete()\n",
    "#print(source4)"
   ]
  },
  {
   "cell_type": "markdown",
   "metadata": {},
   "source": [
    "# Cleanup"
   ]
  },
  {
   "cell_type": "code",
   "execution_count": null,
   "metadata": {},
   "outputs": [],
   "source": [
    "clean_all_dbs(speos.client)"
   ]
  }
 ],
 "metadata": {
  "kernelspec": {
   "display_name": ".venv",
   "language": "python",
   "name": "python3"
  },
  "language_info": {
   "codemirror_mode": {
    "name": "ipython",
    "version": 3
   },
   "file_extension": ".py",
   "mimetype": "text/x-python",
   "name": "python",
   "nbconvert_exporter": "python",
   "pygments_lexer": "ipython3",
   "version": "3.10.12"
  }
 },
 "nbformat": 4,
 "nbformat_minor": 2
}
