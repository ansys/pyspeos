{
 "cells": [
  {
   "cell_type": "markdown",
   "metadata": {},
   "source": [
    "Needed imports and utility"
   ]
  },
  {
   "cell_type": "code",
   "execution_count": null,
   "metadata": {},
   "outputs": [],
   "source": [
    "import os\n",
    "import ansys.speos.core as core\n",
    "from ansys.api.speos.sensor.v1 import camera_sensor_pb2\n",
    "\n",
    "tests_data_path = os.path.join(os.path.join(os.path.abspath(''), os.path.pardir), \"assets\")\n",
    "\n",
    "def clean_all_dbs(speos_client: core.SpeosClient):\n",
    "    for item in (\n",
    "        speos_client.jobs().list()\n",
    "        + speos_client.scenes().list()\n",
    "        + speos_client.simulation_templates().list()\n",
    "        + speos_client.sensor_templates().list()\n",
    "        + speos_client.source_templates().list()\n",
    "        + speos_client.intensity_templates().list()\n",
    "        + speos_client.spectrums().list()\n",
    "        + speos_client.vop_templates().list()\n",
    "        + speos_client.sop_templates().list()\n",
    "        + speos_client.parts().list()\n",
    "        + speos_client.bodies().list()\n",
    "        + speos_client.faces().list()\n",
    "    ):\n",
    "        item.delete()\n",
    "\n",
    "def print_message(msg):\n",
    "    print(core.protobuf_message_to_str(msg))"
   ]
  },
  {
   "cell_type": "markdown",
   "metadata": {},
   "source": [
    "# Create connection with speos rpc server"
   ]
  },
  {
   "cell_type": "code",
   "execution_count": null,
   "metadata": {},
   "outputs": [],
   "source": [
    "speos = core.Speos(host=\"localhost\", port=50051)\n",
    "clean_all_dbs(speos.client)"
   ]
  },
  {
   "cell_type": "markdown",
   "metadata": {},
   "source": [
    "# Create empty scene and load file"
   ]
  },
  {
   "cell_type": "code",
   "execution_count": null,
   "metadata": {},
   "outputs": [],
   "source": [
    "speos_file = os.path.join(tests_data_path, os.path.join(\"Inverse_SeveralSensors.speos\", \"Inverse_SeveralSensors.speos\"))\n",
    "\n",
    "my_scene = speos.client.scenes().create()\n",
    "my_scene.load_file(file_uri=speos_file)"
   ]
  },
  {
   "cell_type": "markdown",
   "metadata": {},
   "source": [
    "# Print data models\n",
    "## Print whole my_scene datamodel"
   ]
  },
  {
   "cell_type": "code",
   "execution_count": null,
   "metadata": {},
   "outputs": [],
   "source": [
    "print(my_scene)"
   ]
  },
  {
   "cell_type": "markdown",
   "metadata": {},
   "source": [
    "## Look at all sensors in my_scene"
   ]
  },
  {
   "cell_type": "code",
   "execution_count": null,
   "metadata": {},
   "outputs": [],
   "source": [
    "for sensor_i in my_scene.get().sensors:\n",
    "    print(sensor_i)  # Print instance data model\n",
    "    print(speos.client.get_item(key=sensor_i.sensor_guid))  # Print template data model"
   ]
  },
  {
   "cell_type": "markdown",
   "metadata": {},
   "source": [
    "## Look at camera sensors in my_scene"
   ]
  },
  {
   "cell_type": "code",
   "execution_count": null,
   "metadata": {},
   "outputs": [],
   "source": [
    "for sensor_i in my_scene.get().sensors:\n",
    "    if sensor_i.HasField(\"camera_properties\"):\n",
    "        print(sensor_i) # Print instance data model\n",
    "        print(speos.client.get_item(key=sensor_i.sensor_guid))  # Print template data model\n",
    "\n",
    "# Equivalent by creating a camera instances list\n",
    "#camera_instances = [sensor_i for sensor_i in my_scene.get().sensors if sensor_i.HasField(\"camera_properties\")]\n",
    "#for camera_i in camera_instances:\n",
    "#    print(camera_i)  # Print instance data model\n",
    "#    print(speos.client.get_item(key=sensor_i.sensor_guid))  # Print template data model"
   ]
  },
  {
   "cell_type": "markdown",
   "metadata": {},
   "source": [
    "# Modify instance of the camera\n",
    "\n",
    "Two identical examples are given:\n",
    "- one using directly protobuf message\n",
    "- second using core factories\n",
    "\n",
    "Please keep in mind that core factories are more intended to create protobuf messages from scratch.  \n",
    "So using them to modify existing message is not the primary use case.  \n",
    "It will force the user to modify the whole object.  \n",
    "Whereas using directly protobuf message, user can modify specific part of it and keep the rest as is.\n",
    "\n",
    "## Using directly protobuf message"
   ]
  },
  {
   "cell_type": "code",
   "execution_count": null,
   "metadata": {},
   "outputs": [],
   "source": [
    "my_scene_data = my_scene.get() # get() = retrieve datamodel corresponding to my_scene from database\n",
    "camera_i_0 = my_scene_data.sensors[0]\n",
    "assert camera_i_0.HasField(\"camera_properties\")\n",
    "\n",
    "# Modification on protobuf message\n",
    "camera_i_0.camera_properties.ClearField(\"axis_system\")\n",
    "camera_i_0.camera_properties.axis_system.extend([17.0, 10.0, 15.0] + [0.0, 0.0, -1.0] + [0.0, 1.0, 0.0] + [1.0, 0.0, 0.0])\n",
    "camera_i_0.camera_properties.layer_type_none.SetInParent()\n",
    "my_scene.set(my_scene_data) # Update using modified datamodel\n",
    "\n",
    "print(my_scene.get().sensors[0]) # Do another get() to check new value on database"
   ]
  },
  {
   "cell_type": "markdown",
   "metadata": {},
   "source": [
    "## Using core factories"
   ]
  },
  {
   "cell_type": "code",
   "execution_count": null,
   "metadata": {},
   "outputs": [],
   "source": [
    "my_scene_data = my_scene.get() # get() = retrieve datamodel corresponding to my_scene from database\n",
    "camera_i_0 = my_scene_data.sensors[0]\n",
    "assert camera_i_0.HasField(\"camera_properties\")\n",
    "\n",
    "# Using factories (layer type none is set by default)\n",
    "# In this case the whole message camera_properties is replaced by the return of core.SceneFactory.camera_sensor_props\n",
    "camera_i_0.camera_properties.CopyFrom(\n",
    "    core.SceneFactory.camera_sensor_props(\n",
    "        axis_system=core.AxisSystem(\n",
    "            origin=[17.0, 10.0, 15.0], \n",
    "            x_vect=[0.0, 0.0, -1.0], \n",
    "            y_vect=[0.0, 1.0, 0.0], \n",
    "            z_vect=[1.0, 0.0, 0.0])))\n",
    "my_scene.set(my_scene_data)\n",
    "\n",
    "print(my_scene.get().sensors[0]) # Do another get() to check new value on database"
   ]
  },
  {
   "cell_type": "markdown",
   "metadata": {},
   "source": [
    "# Modify template of the camera\n",
    "\n",
    "Two identical examples are given:\n",
    "- one using directly protobuf message\n",
    "- second using core factories\n",
    "\n",
    "Please keep in mind that core factories are more intended to create protobuf messages from scratch.  \n",
    "So using them to modify existing message is not the primary use case.  \n",
    "It will force the user to modify the whole object.  \n",
    "Whereas using directly protobuf message, user can modify specific part of it and keep the rest as is.\n",
    "\n",
    "## Using directly protobuf message"
   ]
  },
  {
   "cell_type": "code",
   "execution_count": null,
   "metadata": {},
   "outputs": [],
   "source": [
    "new_distortion_file = os.path.join(tests_data_path, os.path.join(\"CameraInputFiles\", \"CameraDistortion_150deg.OPTDistortion\"))\n",
    "\n",
    "# Retrieve SensorTemplateLink corresponding to camera_i_0.sensor_guid\n",
    "camera_t_0 = speos.client.get_item(camera_i_0.sensor_guid)\n",
    "assert isinstance(camera_t_0, core.SensorTemplateLink)\n",
    "\n",
    "# get() = retrieve datamodel corresponding to camera_t_0 from database\n",
    "camera_t_0_data = camera_t_0.get()\n",
    "\n",
    "# Modification on protobuf message\n",
    "assert camera_t_0_data.HasField(\"camera_sensor_template\")\n",
    "camera_t_0_data.camera_sensor_template.distorsion_file_uri = new_distortion_file\n",
    "camera_t_0_data.camera_sensor_template.focal_length = 4.5\n",
    "assert camera_t_0_data.camera_sensor_template.HasField(\"sensor_mode_photometric\")\n",
    "camera_t_0_data.camera_sensor_template.sensor_mode_photometric.gamma_correction = 2.5\n",
    "\n",
    "# Update using modified datamodel\n",
    "camera_t_0.set(camera_t_0_data)\n",
    "\n",
    "print(camera_t_0) # Print ObjectLing to see its datamodel in database"
   ]
  },
  {
   "cell_type": "markdown",
   "metadata": {},
   "source": [
    "## Using core factories"
   ]
  },
  {
   "cell_type": "code",
   "execution_count": null,
   "metadata": {},
   "outputs": [],
   "source": [
    "new_distortion_file = os.path.join(tests_data_path, os.path.join(\"CameraInputFiles\", \"CameraDistortion_150deg.OPTDistortion\"))\n",
    "\n",
    "# Retrieve SensorTemplateLink corresponding to camera_i_0.sensor_guid\n",
    "camera_t_0 = speos.client.get_item(camera_i_0.sensor_guid)\n",
    "assert isinstance(camera_t_0, core.SensorTemplateLink)\n",
    "\n",
    "# get() = retrieve datamodel corresponding to camera_t_0 from database\n",
    "camera_t_0_data = camera_t_0.get()\n",
    "\n",
    "# As precised this is an example but not the primary aim for SensorTemplateFactory.\n",
    "# Indeed as the message will be copied entirely, it is needed here to give also data that we don't want to change (taken from camera_t_0_data)\n",
    "camera_t_0_data.CopyFrom(\n",
    "    core.SensorTemplateFactory.camera(\n",
    "        name=camera_t_0_data.name, \n",
    "        distortion_file_uri=new_distortion_file, # Modify distortion file\n",
    "        transmittance_file_uri=camera_t_0_data.camera_sensor_template.sensor_mode_photometric.transmittance_file_uri,\n",
    "        spectrum_file_uris=[camera_t_0_data.camera_sensor_template.sensor_mode_photometric.color_mode_color.red_spectrum_file_uri,\n",
    "                            camera_t_0_data.camera_sensor_template.sensor_mode_photometric.color_mode_color.green_spectrum_file_uri,\n",
    "                            camera_t_0_data.camera_sensor_template.sensor_mode_photometric.color_mode_color.blue_spectrum_file_uri],\n",
    "        settings=core.SensorTemplateFactory.CameraSettings(gamma_correction=2.5, # Modify gamma_correction\n",
    "                                                           focal_length=4.5, # Modify focal_length\n",
    "                                                           imager_distance=camera_t_0_data.camera_sensor_template.imager_distance,\n",
    "                                                           f_number=camera_t_0_data.camera_sensor_template.f_number),\n",
    "        dimensions=core.SensorTemplateFactory.CameraDimensions(horz_pixel=camera_t_0_data.camera_sensor_template.horz_pixel,\n",
    "                                                               vert_pixel=camera_t_0_data.camera_sensor_template.vert_pixel,\n",
    "                                                               width=camera_t_0_data.camera_sensor_template.width,\n",
    "                                                               height=camera_t_0_data.camera_sensor_template.height),\n",
    "        wavelengths_range=core.SensorTemplateFactory.WavelengthsRange(start=camera_t_0_data.camera_sensor_template.sensor_mode_photometric.wavelengths_range.w_start,\n",
    "                                                                      end=camera_t_0_data.camera_sensor_template.sensor_mode_photometric.wavelengths_range.w_end,\n",
    "                                                                      sampling=camera_t_0_data.camera_sensor_template.sensor_mode_photometric.wavelengths_range.w_sampling)))\n",
    "\n",
    "# Update using modified datamodel\n",
    "camera_t_0.set(camera_t_0_data)\n",
    "\n",
    "print(camera_t_0) # Print ObjectLing to see its datamodel in database"
   ]
  },
  {
   "cell_type": "markdown",
   "metadata": {},
   "source": [
    "# Create camera template\n",
    "\n",
    "Two identical examples are given:\n",
    "- one using directly protobuf message\n",
    "- second using core factories\n",
    "\n",
    "In this case it can be interesting to use factory.\n",
    "Indeed some default values are present, that can allow to fill less parameters.\n",
    "\n",
    "## Using directly protobuf message"
   ]
  },
  {
   "cell_type": "code",
   "execution_count": null,
   "metadata": {},
   "outputs": [],
   "source": [
    "sensor_t_db = speos.client.sensor_templates()\n",
    "\n",
    "# Create protobuf message SensorTemplate\n",
    "sensor_t_data = core.SensorTemplate(name=\"Camera_default by protobuf message\")\n",
    "sensor_t_data.camera_sensor_template.sensor_mode_photometric.acquisition_integration = 0.01\n",
    "sensor_t_data.camera_sensor_template.sensor_mode_photometric.acquisition_lag_time = 0\n",
    "sensor_t_data.camera_sensor_template.sensor_mode_photometric.transmittance_file_uri = os.path.join(tests_data_path, os.path.join(\"CameraInputFiles\", \"CameraTransmittance.spectrum\"))\n",
    "sensor_t_data.camera_sensor_template.sensor_mode_photometric.gamma_correction = 2.2\n",
    "sensor_t_data.camera_sensor_template.sensor_mode_photometric.png_bits = camera_sensor_pb2.EnumSensorCameraPNGBits.PNG_16\n",
    "sensor_t_data.camera_sensor_template.sensor_mode_photometric.color_mode_color.red_spectrum_file_uri = os.path.join(tests_data_path, os.path.join(\"CameraInputFiles\", \"CameraSensitivityRed.spectrum\"))\n",
    "sensor_t_data.camera_sensor_template.sensor_mode_photometric.color_mode_color.green_spectrum_file_uri = os.path.join(tests_data_path, os.path.join(\"CameraInputFiles\", \"CameraSensitivityGreen.spectrum\"))\n",
    "sensor_t_data.camera_sensor_template.sensor_mode_photometric.color_mode_color.blue_spectrum_file_uri = os.path.join(tests_data_path, os.path.join(\"CameraInputFiles\", \"CameraSensitivityBlue.spectrum\"))\n",
    "sensor_t_data.camera_sensor_template.sensor_mode_photometric.color_mode_color.balance_mode_none.SetInParent()\n",
    "sensor_t_data.camera_sensor_template.sensor_mode_photometric.wavelengths_range.w_start = 400\n",
    "sensor_t_data.camera_sensor_template.sensor_mode_photometric.wavelengths_range.w_end = 700\n",
    "sensor_t_data.camera_sensor_template.sensor_mode_photometric.wavelengths_range.w_sampling = 13\n",
    "sensor_t_data.camera_sensor_template.focal_length = 5\n",
    "sensor_t_data.camera_sensor_template.imager_distance = 10\n",
    "sensor_t_data.camera_sensor_template.f_number = 20\n",
    "sensor_t_data.camera_sensor_template.distorsion_file_uri = os.path.join(tests_data_path, os.path.join(\"CameraInputFiles\", \"CameraDistortion_130deg.OPTDistortion\"))\n",
    "sensor_t_data.camera_sensor_template.horz_pixel = 640\n",
    "sensor_t_data.camera_sensor_template.vert_pixel = 480\n",
    "sensor_t_data.camera_sensor_template.width = 5\n",
    "sensor_t_data.camera_sensor_template.height = 5\n",
    "\n",
    "# Store it in db and retrieve SensorTemplateLink\n",
    "sensor_t_new = sensor_t_db.create(message=sensor_t_data)\n",
    "print(sensor_t_new)"
   ]
  },
  {
   "cell_type": "markdown",
   "metadata": {},
   "source": [
    "## Using core factories"
   ]
  },
  {
   "cell_type": "code",
   "execution_count": null,
   "metadata": {},
   "outputs": [],
   "source": [
    "sensor_t_db = speos.client.sensor_templates()\n",
    "\n",
    "# Create protobuf message SensorTemplate using factory default params\n",
    "sensor_t_data_2 = core.SensorTemplateFactory.camera(name=\"Camera_default by factory\",\n",
    "                                                    distortion_file_uri=os.path.join(tests_data_path, os.path.join(\"CameraInputFiles\", \"CameraDistortion_130deg.OPTDistortion\")),\n",
    "                                                    transmittance_file_uri=os.path.join(tests_data_path, os.path.join(\"CameraInputFiles\", \"CameraTransmittance.spectrum\")),\n",
    "                                                    spectrum_file_uris=[os.path.join(tests_data_path, os.path.join(\"CameraInputFiles\", \"CameraSensitivityRed.spectrum\")),\n",
    "                                                                        os.path.join(tests_data_path, os.path.join(\"CameraInputFiles\", \"CameraSensitivityGreen.spectrum\")),\n",
    "                                                                        os.path.join(tests_data_path, os.path.join(\"CameraInputFiles\", \"CameraSensitivityBlue.spectrum\"))]) \n",
    "\n",
    "# Store it in db and retrieve SensorTemplateLink\n",
    "sensor_t_new_2 = sensor_t_db.create(message=sensor_t_data_2)\n",
    "print(sensor_t_new_2)"
   ]
  },
  {
   "cell_type": "code",
   "execution_count": null,
   "metadata": {},
   "outputs": [],
   "source": [
    "sensor_t_db = speos.client.sensor_templates()\n",
    "\n",
    "# Create protobuf message SensorTemplate giving all params\n",
    "sensor_t_data_3 = core.SensorTemplateFactory.camera(name=\"Camera_default by factory with params\",\n",
    "                                                    distortion_file_uri=os.path.join(tests_data_path, os.path.join(\"CameraInputFiles\", \"CameraDistortion_130deg.OPTDistortion\")),\n",
    "                                                    transmittance_file_uri=os.path.join(tests_data_path, os.path.join(\"CameraInputFiles\", \"CameraTransmittance.spectrum\")),\n",
    "                                                    spectrum_file_uris=[os.path.join(tests_data_path, os.path.join(\"CameraInputFiles\", \"CameraSensitivityRed.spectrum\")),\n",
    "                                                                        os.path.join(tests_data_path, os.path.join(\"CameraInputFiles\", \"CameraSensitivityGreen.spectrum\")),\n",
    "                                                                        os.path.join(tests_data_path, os.path.join(\"CameraInputFiles\", \"CameraSensitivityBlue.spectrum\"))],\n",
    "                                                    settings=core.SensorTemplateFactory.CameraSettings(gamma_correction=2.2,\n",
    "                                                                                                       focal_length=5,\n",
    "                                                                                                       imager_distance=10,\n",
    "                                                                                                       f_number=20),\n",
    "                                                    dimensions=core.SensorTemplateFactory.CameraDimensions(horz_pixel=640,\n",
    "                                                                                                           vert_pixel=480,\n",
    "                                                                                                           width=5,\n",
    "                                                                                                           height=5),\n",
    "                                                    wavelengths_range=core.SensorTemplateFactory.WavelengthsRange(start=400,\n",
    "                                                                                                                  end=700,\n",
    "                                                                                                                  sampling=13),\n",
    "                                                    camera_balance_mode=None) \n",
    "\n",
    "# Store it in db and retrieve SensorTemplateLink\n",
    "sensor_t_new_3 = sensor_t_db.create(message=sensor_t_data_3)\n",
    "\n",
    "# The extremes have been presented : using all default or giving all parameters.\n",
    "# For sure it can be mixed."
   ]
  },
  {
   "cell_type": "markdown",
   "metadata": {},
   "source": [
    "# Add a camera instance in the scene"
   ]
  },
  {
   "cell_type": "code",
   "execution_count": null,
   "metadata": {},
   "outputs": [],
   "source": [
    "# Retrieve scene datamodel\n",
    "my_scene_data = my_scene.get()\n",
    "\n",
    "# Create camera instance\n",
    "camera_i_2 = core.SceneFactory.sensor_instance(name=sensor_t_new_2.get().name + \".1\",\n",
    "                                               sensor_template=sensor_t_new_2,\n",
    "                                               properties=core.SceneFactory.camera_sensor_props(axis_system=core.AxisSystem(origin=[50, 50, 50]),\n",
    "                                                                                                layer_type=core.SceneFactory.Properties.Sensor.LayerType.Source()))\n",
    "# Modify scene datamodel to add camera + reference it in the first simulation\n",
    "my_scene_data.sensors.append(camera_i_2)\n",
    "my_scene_data.simulations[0].sensor_paths.append(camera_i_2.name)\n",
    "\n",
    "# Update value in db\n",
    "my_scene.set(my_scene_data)\n",
    "\n",
    "# Check scene data after update\n",
    "print(my_scene)"
   ]
  },
  {
   "cell_type": "markdown",
   "metadata": {},
   "source": [
    "# List all templates"
   ]
  },
  {
   "cell_type": "code",
   "execution_count": null,
   "metadata": {},
   "outputs": [],
   "source": [
    "# Action on all SensorTemplateLinks\n",
    "for sensor_t in speos.client.sensor_templates().list():\n",
    "    print(sensor_t.key)\n",
    "    print(sensor_t)\n",
    "    print(\"\")"
   ]
  },
  {
   "cell_type": "code",
   "execution_count": null,
   "metadata": {},
   "outputs": [],
   "source": [
    "# Action on SensorTemplateLinks that are cameras\n",
    "for sensor_t in speos.client.sensor_templates().list():\n",
    "    if sensor_t.get().HasField(\"camera_sensor_template\"):\n",
    "        print(sensor_t.key)\n",
    "        print(sensor_t)\n",
    "        print(\"\")"
   ]
  },
  {
   "cell_type": "code",
   "execution_count": null,
   "metadata": {},
   "outputs": [],
   "source": [
    "# Action on SensorTemplateLinks with specific name\n",
    "for sensor_t in speos.client.sensor_templates().list():\n",
    "    if sensor_t.get().name == \"Camera_default by factory\":\n",
    "        print(sensor_t.key)\n",
    "        print(sensor_t)\n",
    "        break"
   ]
  }
 ],
 "metadata": {
  "kernelspec": {
   "display_name": ".venv",
   "language": "python",
   "name": "python3"
  },
  "language_info": {
   "codemirror_mode": {
    "name": "ipython",
    "version": 3
   },
   "file_extension": ".py",
   "mimetype": "text/x-python",
   "name": "python",
   "nbconvert_exporter": "python",
   "pygments_lexer": "ipython3",
   "version": "3.10.12"
  }
 },
 "nbformat": 4,
 "nbformat_minor": 2
}
