{
 "cells": [
  {
   "cell_type": "code",
   "execution_count": null,
   "id": "cdf74d46-f738-437b-b225-9d6257dd3c5d",
   "metadata": {},
   "outputs": [],
   "source": [
    "import os\n",
    "import ansys.speos.script as script\n",
    "from ansys.speos.core import Speos\n",
    "\n",
    "\n",
    "tests_data_path = os.path.join(os.path.abspath(''), os.path.pardir, \"assets\")"
   ]
  },
  {
   "cell_type": "markdown",
   "id": "4a8fe546-2c46-4b1d-b56a-96676778270e",
   "metadata": {},
   "source": [
    "Create connection with Speos rpc server"
   ]
  },
  {
   "cell_type": "code",
   "execution_count": null,
   "id": "b5152aa2-90ee-4e07-9af7-5961c835c7e6",
   "metadata": {},
   "outputs": [],
   "source": [
    "speos = Speos(host=\"localhost\", port=50098)"
   ]
  },
  {
   "cell_type": "markdown",
   "id": "0d19c5d4-6547-4d58-b66b-30e3d1dce9ad",
   "metadata": {},
   "source": [
    "Load Speos model.\n",
    "This model contains an intentional Volume conflict to create error rays"
   ]
  },
  {
   "cell_type": "code",
   "execution_count": null,
   "id": "838594fb-43c8-4211-99f7-f69d9229b817",
   "metadata": {},
   "outputs": [],
   "source": [
    "p = script.Project(speos=speos, path=os.path.join(tests_data_path, \"error_data.speos\", \"error_data.speos\"))"
   ]
  },
  {
   "cell_type": "markdown",
   "id": "25c8fadc-04a7-47e8-93fe-ed699d2b994f",
   "metadata": {},
   "source": [
    "preview model"
   ]
  },
  {
   "cell_type": "code",
   "execution_count": null,
   "id": "deacaab6-20e8-4e15-80f6-64be2c51b27c",
   "metadata": {},
   "outputs": [],
   "source": [
    "p.preview()"
   ]
  },
  {
   "cell_type": "code",
   "execution_count": null,
   "id": "79b9c472-e15f-4c2a-9e30-630c11219540",
   "metadata": {
    "scrolled": true
   },
   "outputs": [],
   "source": [
    "sim=p.find(\"Direct.1\")[0]\n",
    "sim.compute_CPU()"
   ]
  },
  {
   "cell_type": "markdown",
   "id": "0ad2275b-2cfe-4f45-ad7f-00ff405bab97",
   "metadata": {},
   "source": [
    "If we have a look to the simulation report we will find that we have 40% simulation error"
   ]
  },
  {
   "cell_type": "code",
   "execution_count": null,
   "id": "5beadeff-c7a6-432f-b103-ae07af4c7602",
   "metadata": {},
   "outputs": [],
   "source": [
    "import ansys.speos.workflow.open_result as ORF\n",
    "from IPython.display import HTML, display\n",
    "data = ORF._find_correct_result(sim,\"html\")\n",
    "display(HTML(data, metadata=dict(isolated=True)))\n"
   ]
  },
  {
   "cell_type": "markdown",
   "id": "18799b8d-c0cd-45cd-9203-ecb5a944128c",
   "metadata": {},
   "source": [
    "we will define an interactive simulation to have a look at the rays in error"
   ]
  },
  {
   "cell_type": "code",
   "execution_count": null,
   "id": "1dc8d7ca-9d36-4151-95e5-993f216cc3b0",
   "metadata": {},
   "outputs": [],
   "source": [
    "interactive_sim=p.create_simulation(\"error\", feature_type=script.simulation.Interactive)\n",
    "interactive_sim.set_light_expert(True)\n",
    "interactive_sim.set_sensor_paths([\"Irradiance.1:70\"])\n",
    "interactive_sim.set_source_paths([\"Surface.1:4830\"])\n",
    "interactive_sim.commit()\n",
    "results = interactive_sim.compute_CPU()\n",
    "path = ORF._find_correct_result(interactive_sim, \"lpf\")\n",
    "lxp = script.LightPathFinder(speos,path)\n",
    "lxp.preview(project=p)"
   ]
  },
  {
   "cell_type": "markdown",
   "id": "8967150e-c134-4b1e-9216-02f66323bd31",
   "metadata": {},
   "source": [
    "We can directly see a volume conflict between two solids lets filter the rays to see only rays in error"
   ]
  },
  {
   "cell_type": "code",
   "execution_count": null,
   "id": "bf5a0623-f728-48b6-9f1a-f7b8e4076472",
   "metadata": {},
   "outputs": [],
   "source": [
    "lxp.filter_error_rays()\n",
    "lxp.preview(project=p, ray_filter=True)"
   ]
  },
  {
   "cell_type": "code",
   "execution_count": null,
   "id": "a8cf0b7b-4cb0-4df7-b825-0267355ea96b",
   "metadata": {},
   "outputs": [],
   "source": []
  }
 ],
 "metadata": {
  "kernelspec": {
   "display_name": "Python 3 (ipykernel)",
   "language": "python",
   "name": "python3"
  },
  "language_info": {
   "codemirror_mode": {
    "name": "ipython",
    "version": 3
   },
   "file_extension": ".py",
   "mimetype": "text/x-python",
   "name": "python",
   "nbconvert_exporter": "python",
   "pygments_lexer": "ipython3",
   "version": "3.10.11"
  }
 },
 "nbformat": 4,
 "nbformat_minor": 5
}
