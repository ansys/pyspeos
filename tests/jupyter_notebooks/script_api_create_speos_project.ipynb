{
 "cells": [
  {
   "cell_type": "code",
   "execution_count": 1,
   "metadata": {
    "collapsed": true,
    "ExecuteTime": {
     "end_time": "2024-11-25T17:38:49.770978200Z",
     "start_time": "2024-11-25T17:38:45.666697Z"
    }
   },
   "outputs": [],
   "source": [
    "import os\n",
    "import ansys.speos.script as script\n",
    "from ansys.speos.core import Speos\n",
    "import ansys.speos.workflow as workflow\n",
    "\n",
    "speos = Speos(host=\"localhost\", port=50052)"
   ]
  },
  {
   "cell_type": "code",
   "execution_count": 2,
   "outputs": [
    {
     "data": {
      "text/plain": "<ansys.speos.script.opt_prop.OptProp at 0x2a10ce7d5d0>"
     },
     "execution_count": 2,
     "metadata": {},
     "output_type": "execute_result"
    }
   ],
   "source": [
    "project = script.Project(speos=speos)\n",
    "opt_material_1 = project.create_optical_property(\"optical-polished\")\n",
    "opt_material_1.set_volume_optic(index=1.5, absorption=0, constringence=60).set_surface_opticalpolished().commit()\n",
    "\n",
    "opt_material_2 = project.create_optical_property(\"black\")\n",
    "opt_material_2.set_volume_none().set_surface_mirror(reflectance=0).commit()\n"
   ],
   "metadata": {
    "collapsed": false,
    "ExecuteTime": {
     "end_time": "2024-11-25T17:38:49.785613700Z",
     "start_time": "2024-11-25T17:38:49.773948400Z"
    }
   }
  },
  {
   "cell_type": "code",
   "execution_count": 3,
   "outputs": [
    {
     "data": {
      "text/plain": "<ansys.speos.script.opt_prop.OptProp at 0x2a10ce7d5d0>"
     },
     "execution_count": 3,
     "metadata": {},
     "output_type": "execute_result"
    }
   ],
   "source": [
    "root_part = project.create_root_part().commit()\n",
    "\n",
    "source_body = root_part.create_body(name=\"source_surface\").commit()\n",
    "source_body.create_face(name=\"face1\").set_vertices(\n",
    "    [-5, -11.228, 5,\n",
    "     5, -11.228, 5,\n",
    "     5, -11.228, -5,\n",
    "     -5, -11.228, -5\n",
    "     ]).set_facets(\n",
    "    [1, 2, 0,\n",
    "     2, 3, 0\n",
    "     ]).set_normals(\n",
    "    [0.0, 1.0, 0.0,\n",
    "     0.0, 1.0, 0.0,\n",
    "     0.0, 1.0, 0.0,\n",
    "     0.0, 1.0, 0.0\n",
    "     ]).commit()\n",
    "\n",
    "prism_body = root_part.create_body(name=\"prism_body\").commit()\n",
    "for face_id in range(6):\n",
    "    face = prism_body.create_face(name=\"face\"+str(face_id)).set_facets(\n",
    "        [1, 2, 0,\n",
    "         2, 3, 0\n",
    "     ])\n",
    "    if face_id == 0:\n",
    "        face.set_vertices(\n",
    "            [-5, 0.0, 5,\n",
    "             -5, 0.0, -5,\n",
    "             5, 0.0, -5,\n",
    "             5, 0.0, 5\n",
    "             ]).set_normals(\n",
    "            [-0.0, -1.0, -0.0,\n",
    "             -0.0, -1.0, -0.0,\n",
    "             -0.0, -1.0, -0.0,\n",
    "             -0.0, -1.0, -0.0\n",
    "             ]).commit()\n",
    "    elif face_id == 1:\n",
    "        face.set_vertices(\n",
    "            [5, 0.0, -5,\n",
    "             5, 10, -5,\n",
    "             5, 10, 5,\n",
    "             5, 0.0, 5,\n",
    "            ]).set_normals(\n",
    "            [1.0, -0.0, 0.0,\n",
    "             1.0, -0.0, 0.0,\n",
    "             1.0, -0.0, 0.0,\n",
    "             1.0, -0.0, 0.0\n",
    "             ]).commit()\n",
    "    elif face_id == 2:\n",
    "        face.set_vertices(\n",
    "            [-5, 10, 5,\n",
    "             5, 10, 5,\n",
    "             5, 10, -5,\n",
    "             -5, 10, -5,\n",
    "             ]).set_normals(\n",
    "            [0.0, 1.0, 0.0,\n",
    "             0.0, 1.0, 0.0,\n",
    "             0.0, 1.0, 0.0,\n",
    "             0.0, 1.0, 0.0\n",
    "             ]).commit()\n",
    "    elif face_id == 3:\n",
    "        face.set_vertices(\n",
    "            [-5, 0.0, -5,\n",
    "             -5, 10, -5,\n",
    "             5, 10, -5,\n",
    "             5, 0.0, -5,\n",
    "             ]).set_normals(\n",
    "            [0.0, 0.0, -1.0,\n",
    "             0.0, 0.0, -1.0,\n",
    "             0.0, 0.0, -1.0,\n",
    "             0.0, 0.0, -1.0\n",
    "             ]).commit()\n",
    "    elif face_id == 4:\n",
    "        face.set_vertices(\n",
    "            [-5,0.0,5,\n",
    "             -5,10,5,\n",
    "             -5,10,-5,\n",
    "             -5,0.0,-5,\n",
    "             ]).set_normals(\n",
    "            [-1.0, 0.0, 0.0,\n",
    "             -1.0, 0.0, 0.0,\n",
    "             -1.0, 0.0, 0.0,\n",
    "             -1.0, 0.0, 0.0\n",
    "             ]).commit()\n",
    "    elif face_id == 5:\n",
    "        face.set_vertices(\n",
    "            [5,0.0,5,\n",
    "             5,10,5,\n",
    "             -5,10,5,\n",
    "             -5,0.0,5,\n",
    "             ]).set_normals(\n",
    "            [0.0, 0.0, 1.0,\n",
    "             0.0, 0.0, 1.0,\n",
    "             0.0, 0.0, 1.0,\n",
    "             0.0, 0.0, 1.0\n",
    "             ]).commit()\n",
    "\n",
    "opt_material_1.set_geometries(\n",
    "    geometries=[script.GeoRef.from_native_link(geopath=\"prism_body\")]\n",
    ").commit()\n",
    "\n",
    "opt_material_2.set_geometries(\n",
    "    geometries=[script.GeoRef.from_native_link(geopath=\"source_surface\")]\n",
    ").commit()"
   ],
   "metadata": {
    "collapsed": false,
    "ExecuteTime": {
     "end_time": "2024-11-25T17:38:49.832338500Z",
     "start_time": "2024-11-25T17:38:49.793578900Z"
    }
   }
  },
  {
   "cell_type": "code",
   "execution_count": 4,
   "outputs": [
    {
     "data": {
      "text/plain": "<ansys.speos.script.source.Source at 0x2a12cedb550>"
     },
     "execution_count": 4,
     "metadata": {},
     "output_type": "execute_result"
    }
   ],
   "source": [
    "source_1 = project.create_source(name=\"surface_source\")\n",
    "source_1.set_surface().set_spectrum().set_blackbody()\n",
    "source_1.set_surface().set_exitance_constant(geometries=[(script.GeoRef.from_native_link(geopath=\"source_surface/face1\"), False)])\n",
    "source_1.commit()"
   ],
   "metadata": {
    "collapsed": false,
    "ExecuteTime": {
     "end_time": "2024-11-25T17:38:49.846125800Z",
     "start_time": "2024-11-25T17:38:49.834333Z"
    }
   }
  },
  {
   "cell_type": "code",
   "execution_count": 5,
   "outputs": [
    {
     "data": {
      "text/plain": "<ansys.speos.script.sensor.Sensor at 0x2a12f1b70d0>"
     },
     "execution_count": 5,
     "metadata": {},
     "output_type": "execute_result"
    }
   ],
   "source": [
    "sensor_1 = project.create_sensor(name=\"irradiance_sensor\")\n",
    "sensor_1.set_irradiance().set_type_spectral()\n",
    "sensor_1.set_irradiance().set_axis_system(\n",
    "    [0, 20, 0,\n",
    "     1, 0, 0,\n",
    "     0, 0, 1,\n",
    "     0, 1, 0\n",
    "     ])\n",
    "sensor_1.set_irradiance().set_illuminance_type_planar(integration_direction=[0, -1, 0])\n",
    "sensor_1.commit()"
   ],
   "metadata": {
    "collapsed": false,
    "ExecuteTime": {
     "end_time": "2024-11-25T17:38:49.903542500Z",
     "start_time": "2024-11-25T17:38:49.848091700Z"
    }
   }
  },
  {
   "cell_type": "code",
   "execution_count": 6,
   "outputs": [
    {
     "data": {
      "text/plain": "Widget(value='<iframe src=\"http://localhost:56126/index.html?ui=P_0x2a12f199290_0&reconnect=auto\" class=\"pyvis…",
      "application/vnd.jupyter.widget-view+json": {
       "version_major": 2,
       "version_minor": 0,
       "model_id": "bcc87a4085c04a19a110696b82bb0fa5"
      }
     },
     "metadata": {},
     "output_type": "display_data"
    }
   ],
   "source": [
    "workflow.preview(project)"
   ],
   "metadata": {
    "collapsed": false,
    "ExecuteTime": {
     "end_time": "2024-11-25T17:38:50.578289400Z",
     "start_time": "2024-11-25T17:38:49.858489800Z"
    }
   }
  },
  {
   "cell_type": "code",
   "execution_count": 7,
   "outputs": [
    {
     "name": "stdout",
     "output_type": "stream",
     "text": [
      "ansys.api.speos.scene.v2.Scene\n",
      "{\n",
      "    \"part_guid\": \"94281f17-1a09-4c6e-92ef-8ca56d753cfa\",\n",
      "    \"sources\": [\n",
      "        {\n",
      "            \"name\": \"surface_source\",\n",
      "            \"metadata\": {\n",
      "                \"UniqueId\": \"221022a6-ee08-4a01-9387-4e74111c28f7\"\n",
      "            },\n",
      "            \"source_guid\": \"b2f576c0-42f0-468e-ac02-8d92c10a0b98\",\n",
      "            \"surface_properties\": {\n",
      "                \"exitance_constant_properties\": {\n",
      "                    \"geo_paths\": [\n",
      "                        {\n",
      "                            \"geo_path\": \"source_surface/face1\",\n",
      "                            \"reverse_normal\": false\n",
      "                        }\n",
      "                    ]\n",
      "                },\n",
      "                \"intensity_properties\": {}\n",
      "            },\n",
      "            \"description\": \"\"\n",
      "        }\n",
      "    ],\n",
      "    \"sensors\": [\n",
      "        {\n",
      "            \"name\": \"irradiance_sensor\",\n",
      "            \"metadata\": {\n",
      "                \"UniqueId\": \"892238bb-a0b5-4dc6-8ce1-d0343e90495d\"\n",
      "            },\n",
      "            \"sensor_guid\": \"6a0afe6d-0a8e-46e2-bfdc-37e66a691de4\",\n",
      "            \"irradiance_properties\": {\n",
      "                \"axis_system\": [\n",
      "                    0.0,\n",
      "                    20.0,\n",
      "                    0.0,\n",
      "                    1.0,\n",
      "                    0.0,\n",
      "                    0.0,\n",
      "                    0.0,\n",
      "                    0.0,\n",
      "                    1.0,\n",
      "                    0.0,\n",
      "                    1.0,\n",
      "                    0.0\n",
      "                ],\n",
      "                \"layer_type_none\": {},\n",
      "                \"integration_direction\": [\n",
      "                    0.0,\n",
      "                    -1.0,\n",
      "                    0.0\n",
      "                ],\n",
      "                \"ray_file_type\": \"RayFileNone\"\n",
      "            },\n",
      "            \"description\": \"\",\n",
      "            \"result_file_name\": \"\"\n",
      "        }\n",
      "    ],\n",
      "    \"materials\": [\n",
      "        {\n",
      "            \"name\": \"optical-polished\",\n",
      "            \"metadata\": {\n",
      "                \"UniqueId\": \"add5a623-fba3-4d8b-b519-8bbdb6d87a2a\"\n",
      "            },\n",
      "            \"vop_guid\": \"ea7efd4d-516e-4580-8213-a8aeb5c7a2e3\",\n",
      "            \"sop_guids\": [\n",
      "                \"82d866d3-0de6-4bfe-9013-536bf76506b1\"\n",
      "            ],\n",
      "            \"geometries\": {\n",
      "                \"geo_paths\": [\n",
      "                    \"prism_body\"\n",
      "                ]\n",
      "            },\n",
      "            \"description\": \"\"\n",
      "        },\n",
      "        {\n",
      "            \"name\": \"black\",\n",
      "            \"metadata\": {\n",
      "                \"UniqueId\": \"3b4b3874-9eda-491f-82d1-32562c0b6a00\"\n",
      "            },\n",
      "            \"sop_guids\": [\n",
      "                \"f5d82adc-1f5f-4889-9c4e-2a0ea102b371\"\n",
      "            ],\n",
      "            \"geometries\": {\n",
      "                \"geo_paths\": [\n",
      "                    \"source_surface\"\n",
      "                ]\n",
      "            },\n",
      "            \"description\": \"\"\n",
      "        }\n",
      "    ],\n",
      "    \"name\": \"\",\n",
      "    \"description\": \"\",\n",
      "    \"metadata\": {},\n",
      "    \"simulations\": [],\n",
      "    \"scenes\": []\n",
      "}\n"
     ]
    }
   ],
   "source": [
    "print(project)"
   ],
   "metadata": {
    "collapsed": false,
    "ExecuteTime": {
     "end_time": "2024-11-25T17:38:50.584623300Z",
     "start_time": "2024-11-25T17:38:50.580237200Z"
    }
   }
  },
  {
   "cell_type": "code",
   "execution_count": 8,
   "outputs": [
    {
     "data": {
      "text/plain": "<ansys.speos.script.simulation.Simulation at 0x2a12ff7a8d0>"
     },
     "execution_count": 8,
     "metadata": {},
     "output_type": "execute_result"
    }
   ],
   "source": [
    "simu = project.create_simulation(name=\"direct.1.pyspeos\")\n",
    "simu.set_direct()\n",
    "simu.set_sensor_paths([\"irradiance_sensor\"])\n",
    "simu.set_source_paths([\"surface_source\"])\n",
    "simu.set_direct().set_stop_condition_rays_number(value=20000000)\n",
    "simu.commit()"
   ],
   "metadata": {
    "collapsed": false,
    "ExecuteTime": {
     "end_time": "2024-11-25T17:38:50.638127800Z",
     "start_time": "2024-11-25T17:38:50.586746300Z"
    }
   }
  },
  {
   "cell_type": "code",
   "execution_count": 9,
   "outputs": [
    {
     "name": "stdout",
     "output_type": "stream",
     "text": [
      "ansys.api.speos.scene.v2.Scene\n",
      "{\n",
      "    \"part_guid\": \"94281f17-1a09-4c6e-92ef-8ca56d753cfa\",\n",
      "    \"sources\": [\n",
      "        {\n",
      "            \"name\": \"surface_source\",\n",
      "            \"metadata\": {\n",
      "                \"UniqueId\": \"221022a6-ee08-4a01-9387-4e74111c28f7\"\n",
      "            },\n",
      "            \"source_guid\": \"b2f576c0-42f0-468e-ac02-8d92c10a0b98\",\n",
      "            \"surface_properties\": {\n",
      "                \"exitance_constant_properties\": {\n",
      "                    \"geo_paths\": [\n",
      "                        {\n",
      "                            \"geo_path\": \"source_surface/face1\",\n",
      "                            \"reverse_normal\": false\n",
      "                        }\n",
      "                    ]\n",
      "                },\n",
      "                \"intensity_properties\": {}\n",
      "            },\n",
      "            \"description\": \"\"\n",
      "        }\n",
      "    ],\n",
      "    \"sensors\": [\n",
      "        {\n",
      "            \"name\": \"irradiance_sensor\",\n",
      "            \"metadata\": {\n",
      "                \"UniqueId\": \"892238bb-a0b5-4dc6-8ce1-d0343e90495d\"\n",
      "            },\n",
      "            \"sensor_guid\": \"6a0afe6d-0a8e-46e2-bfdc-37e66a691de4\",\n",
      "            \"irradiance_properties\": {\n",
      "                \"axis_system\": [\n",
      "                    0.0,\n",
      "                    20.0,\n",
      "                    0.0,\n",
      "                    1.0,\n",
      "                    0.0,\n",
      "                    0.0,\n",
      "                    0.0,\n",
      "                    0.0,\n",
      "                    1.0,\n",
      "                    0.0,\n",
      "                    1.0,\n",
      "                    0.0\n",
      "                ],\n",
      "                \"layer_type_none\": {},\n",
      "                \"integration_direction\": [\n",
      "                    0.0,\n",
      "                    -1.0,\n",
      "                    0.0\n",
      "                ],\n",
      "                \"ray_file_type\": \"RayFileNone\"\n",
      "            },\n",
      "            \"description\": \"\",\n",
      "            \"result_file_name\": \"\"\n",
      "        }\n",
      "    ],\n",
      "    \"simulations\": [\n",
      "        {\n",
      "            \"name\": \"direct.1.pyspeos\",\n",
      "            \"metadata\": {\n",
      "                \"UniqueId\": \"5602fcc6-4cc1-4067-920a-cd5307580d13\"\n",
      "            },\n",
      "            \"simulation_guid\": \"bc10681b-76b4-4868-897d-e3bdb6f48e63\",\n",
      "            \"sensor_paths\": [\n",
      "                \"irradiance_sensor\"\n",
      "            ],\n",
      "            \"source_paths\": [\n",
      "                \"surface_source\"\n",
      "            ],\n",
      "            \"description\": \"\"\n",
      "        }\n",
      "    ],\n",
      "    \"materials\": [\n",
      "        {\n",
      "            \"name\": \"optical-polished\",\n",
      "            \"metadata\": {\n",
      "                \"UniqueId\": \"add5a623-fba3-4d8b-b519-8bbdb6d87a2a\"\n",
      "            },\n",
      "            \"vop_guid\": \"ea7efd4d-516e-4580-8213-a8aeb5c7a2e3\",\n",
      "            \"sop_guids\": [\n",
      "                \"82d866d3-0de6-4bfe-9013-536bf76506b1\"\n",
      "            ],\n",
      "            \"geometries\": {\n",
      "                \"geo_paths\": [\n",
      "                    \"prism_body\"\n",
      "                ]\n",
      "            },\n",
      "            \"description\": \"\"\n",
      "        },\n",
      "        {\n",
      "            \"name\": \"black\",\n",
      "            \"metadata\": {\n",
      "                \"UniqueId\": \"3b4b3874-9eda-491f-82d1-32562c0b6a00\"\n",
      "            },\n",
      "            \"sop_guids\": [\n",
      "                \"f5d82adc-1f5f-4889-9c4e-2a0ea102b371\"\n",
      "            ],\n",
      "            \"geometries\": {\n",
      "                \"geo_paths\": [\n",
      "                    \"source_surface\"\n",
      "                ]\n",
      "            },\n",
      "            \"description\": \"\"\n",
      "        }\n",
      "    ],\n",
      "    \"name\": \"\",\n",
      "    \"description\": \"\",\n",
      "    \"metadata\": {},\n",
      "    \"scenes\": []\n",
      "}\n"
     ]
    }
   ],
   "source": [
    "print(project)\n"
   ],
   "metadata": {
    "collapsed": false,
    "ExecuteTime": {
     "end_time": "2024-11-25T17:38:50.638127800Z",
     "start_time": "2024-11-25T17:38:50.612059700Z"
    }
   }
  },
  {
   "cell_type": "code",
   "execution_count": 10,
   "outputs": [
    {
     "data": {
      "text/plain": "[path: \"C:\\\\Users\\\\plu\\\\AppData\\\\Local\\\\Temp\\\\jobs\\\\f1b01ae2-ac3b-4fc9-9dce-1846674b79f3\\\\irradiance_sensor.xmp\"\n, path: \"C:\\\\Users\\\\plu\\\\AppData\\\\Local\\\\Temp\\\\jobs\\\\f1b01ae2-ac3b-4fc9-9dce-1846674b79f3\\\\direct.1.pyspeos.html\"\n]"
     },
     "execution_count": 10,
     "metadata": {},
     "output_type": "execute_result"
    }
   ],
   "source": [
    "simu.compute_CPU()"
   ],
   "metadata": {
    "collapsed": false,
    "ExecuteTime": {
     "end_time": "2024-11-25T17:39:15.674515800Z",
     "start_time": "2024-11-25T17:38:50.619135900Z"
    }
   }
  },
  {
   "cell_type": "code",
   "execution_count": 12,
   "outputs": [
    {
     "name": "stdout",
     "output_type": "stream",
     "text": [
      "local: ansys.api.speos.job.v2.Job\n",
      "{\n",
      "    \"scene_guid\": \"bed297f6-24fc-42b0-963e-a4d50696d158\",\n",
      "    \"simulation_path\": \"interactive\",\n",
      "    \"interactive_simulation_properties\": {\n",
      "        \"light_expert\": true,\n",
      "        \"rays_number_per_sources\": [],\n",
      "        \"impact_report\": false\n",
      "    },\n",
      "    \"name\": \"interactive.Job\",\n",
      "    \"description\": \"\",\n",
      "    \"metadata\": {},\n",
      "    \"job_type\": \"CPU\"\n",
      "}ansys.api.speos.scene.v2.Scene.SimulationInstance\n",
      "{\n",
      "    \"name\": \"interactive\",\n",
      "    \"metadata\": {\n",
      "        \"UniqueId\": \"8882defb-a48b-4a2d-9f83-75cdb40b783d\"\n",
      "    },\n",
      "    \"simulation_guid\": \"892be04e-e5fc-4c1e-92b1-25da6b6cf0ac\",\n",
      "    \"sensor_paths\": [\n",
      "        \"irradiance_sensor\"\n",
      "    ],\n",
      "    \"source_paths\": [\n",
      "        \"surface_source\"\n",
      "    ],\n",
      "    \"description\": \"\"\n",
      "}\n",
      "ansys.api.speos.simulation.v1.templates.SimulationTemplate\n",
      "{\n",
      "    \"name\": \"interactive\",\n",
      "    \"interactive_simulation_template\": {\n",
      "        \"geom_distance_tolerance\": 0.01,\n",
      "        \"max_impact\": 100,\n",
      "        \"weight\": {\n",
      "            \"minimum_energy_percentage\": 0.005\n",
      "        },\n",
      "        \"colorimetric_standard\": \"CIE_1931\",\n",
      "        \"ambient_material_uri\": \"\"\n",
      "    },\n",
      "    \"description\": \"\",\n",
      "    \"metadata\": {}\n",
      "}\n"
     ]
    }
   ],
   "source": [
    "sim2 = project.create_simulation(\"interactive\")\n",
    "sim2.set_interactive()\n",
    "sim2.set_source_paths([\"surface_source\"])\n",
    "sim2.set_sensor_paths([\"irradiance_sensor\"])\n",
    "sim2.set_interactive().set_light_expert(True)\n",
    "sim2.commit()\n",
    "print(sim2)\n",
    "result = sim2.compute_CPU()"
   ],
   "metadata": {
    "collapsed": false,
    "ExecuteTime": {
     "end_time": "2024-11-25T17:43:39.871150400Z",
     "start_time": "2024-11-25T17:43:34.780713800Z"
    }
   }
  },
  {
   "cell_type": "code",
   "execution_count": 16,
   "outputs": [
    {
     "name": "stdout",
     "output_type": "stream",
     "text": [
      "C:\\Users\\plu\\AppData\\Local\\Temp\\jobs\\097e8829-1940-4b69-bbaf-d33601731fa5\\interactive.lpf\n",
      "None\n"
     ]
    },
    {
     "data": {
      "text/plain": "Widget(value='<iframe src=\"http://localhost:56126/index.html?ui=P_0x2a13ce96890_1&reconnect=auto\" class=\"pyvis…",
      "application/vnd.jupyter.widget-view+json": {
       "version_major": 2,
       "version_minor": 0,
       "model_id": "8c29acc2a17d43868d08978ac18f7dce"
      }
     },
     "metadata": {},
     "output_type": "display_data"
    }
   ],
   "source": [
    "print(result[0].path)\n",
    "\n",
    "from ansys.speos.script.lxp import LightPathFinder\n",
    "lxp= script.LightPathFinder(speos,result[0].path)\n",
    "print(lxp.sensor_contributions)\n",
    "lxp.preview(project=project)\n"
   ],
   "metadata": {
    "collapsed": false,
    "ExecuteTime": {
     "end_time": "2024-11-25T17:45:14.181955800Z",
     "start_time": "2024-11-25T17:45:13.393800400Z"
    }
   }
  },
  {
   "cell_type": "code",
   "execution_count": 17,
   "outputs": [
    {
     "data": {
      "text/plain": "Widget(value='<iframe src=\"http://localhost:56126/index.html?ui=P_0x2a147706c10_2&reconnect=auto\" class=\"pyvis…",
      "application/vnd.jupyter.widget-view+json": {
       "version_major": 2,
       "version_minor": 0,
       "model_id": "df0c44b99f86488cb6bd1fb6ebb312a3"
      }
     },
     "metadata": {},
     "output_type": "display_data"
    }
   ],
   "source": [
    "lxp.filter_error_rays()\n",
    "lxp.preview(project=project,ray_filter=True)"
   ],
   "metadata": {
    "collapsed": false,
    "ExecuteTime": {
     "end_time": "2024-11-25T17:45:41.110068300Z",
     "start_time": "2024-11-25T17:45:40.423727300Z"
    }
   }
  },
  {
   "cell_type": "code",
   "execution_count": 20,
   "outputs": [
    {
     "name": "stdout",
     "output_type": "stream",
     "text": [
      "ansys.api.speos.scene.v2.Scene\n",
      "{\n",
      "    \"part_guid\": \"94281f17-1a09-4c6e-92ef-8ca56d753cfa\",\n",
      "    \"sources\": [\n",
      "        {\n",
      "            \"name\": \"surface_source\",\n",
      "            \"metadata\": {\n",
      "                \"UniqueId\": \"221022a6-ee08-4a01-9387-4e74111c28f7\"\n",
      "            },\n",
      "            \"source_guid\": \"b2f576c0-42f0-468e-ac02-8d92c10a0b98\",\n",
      "            \"surface_properties\": {\n",
      "                \"exitance_constant_properties\": {\n",
      "                    \"geo_paths\": [\n",
      "                        {\n",
      "                            \"geo_path\": \"source_surface/face1\",\n",
      "                            \"reverse_normal\": false\n",
      "                        }\n",
      "                    ]\n",
      "                },\n",
      "                \"intensity_properties\": {}\n",
      "            },\n",
      "            \"description\": \"\"\n",
      "        }\n",
      "    ],\n",
      "    \"sensors\": [\n",
      "        {\n",
      "            \"name\": \"irradiance_sensor\",\n",
      "            \"metadata\": {\n",
      "                \"UniqueId\": \"892238bb-a0b5-4dc6-8ce1-d0343e90495d\"\n",
      "            },\n",
      "            \"sensor_guid\": \"6a0afe6d-0a8e-46e2-bfdc-37e66a691de4\",\n",
      "            \"irradiance_properties\": {\n",
      "                \"axis_system\": [\n",
      "                    0.0,\n",
      "                    20.0,\n",
      "                    0.0,\n",
      "                    1.0,\n",
      "                    0.0,\n",
      "                    0.0,\n",
      "                    0.0,\n",
      "                    0.0,\n",
      "                    1.0,\n",
      "                    0.0,\n",
      "                    1.0,\n",
      "                    0.0\n",
      "                ],\n",
      "                \"layer_type_none\": {},\n",
      "                \"integration_direction\": [\n",
      "                    0.0,\n",
      "                    -1.0,\n",
      "                    0.0\n",
      "                ],\n",
      "                \"ray_file_type\": \"RayFileNone\"\n",
      "            },\n",
      "            \"description\": \"\",\n",
      "            \"result_file_name\": \"\"\n",
      "        }\n",
      "    ],\n",
      "    \"simulations\": [\n",
      "        {\n",
      "            \"name\": \"direct.1.pyspeos\",\n",
      "            \"metadata\": {\n",
      "                \"UniqueId\": \"5602fcc6-4cc1-4067-920a-cd5307580d13\"\n",
      "            },\n",
      "            \"simulation_guid\": \"bc10681b-76b4-4868-897d-e3bdb6f48e63\",\n",
      "            \"sensor_paths\": [\n",
      "                \"irradiance_sensor\"\n",
      "            ],\n",
      "            \"source_paths\": [\n",
      "                \"surface_source\"\n",
      "            ],\n",
      "            \"description\": \"\"\n",
      "        },\n",
      "        {\n",
      "            \"name\": \"interactive\",\n",
      "            \"metadata\": {\n",
      "                \"UniqueId\": \"33750f68-1d39-420b-a8b3-e2177e65ec0d\"\n",
      "            },\n",
      "            \"simulation_guid\": \"2610ad5b-b3f4-412a-b7e3-eeb2500e14c2\",\n",
      "            \"sensor_paths\": [\n",
      "                \"irradiance_sensor\"\n",
      "            ],\n",
      "            \"source_paths\": [\n",
      "                \"surface_source\"\n",
      "            ],\n",
      "            \"description\": \"\"\n",
      "        },\n",
      "        {\n",
      "            \"name\": \"interactive\",\n",
      "            \"metadata\": {\n",
      "                \"UniqueId\": \"8882defb-a48b-4a2d-9f83-75cdb40b783d\"\n",
      "            },\n",
      "            \"simulation_guid\": \"892be04e-e5fc-4c1e-92b1-25da6b6cf0ac\",\n",
      "            \"sensor_paths\": [\n",
      "                \"irradiance_sensor\"\n",
      "            ],\n",
      "            \"source_paths\": [\n",
      "                \"surface_source\"\n",
      "            ],\n",
      "            \"description\": \"\"\n",
      "        }\n",
      "    ],\n",
      "    \"materials\": [\n",
      "        {\n",
      "            \"name\": \"optical-polished\",\n",
      "            \"metadata\": {\n",
      "                \"UniqueId\": \"add5a623-fba3-4d8b-b519-8bbdb6d87a2a\"\n",
      "            },\n",
      "            \"vop_guid\": \"ea7efd4d-516e-4580-8213-a8aeb5c7a2e3\",\n",
      "            \"sop_guids\": [\n",
      "                \"82d866d3-0de6-4bfe-9013-536bf76506b1\"\n",
      "            ],\n",
      "            \"geometries\": {\n",
      "                \"geo_paths\": [\n",
      "                    \"prism_body\"\n",
      "                ]\n",
      "            },\n",
      "            \"description\": \"\"\n",
      "        },\n",
      "        {\n",
      "            \"name\": \"black\",\n",
      "            \"metadata\": {\n",
      "                \"UniqueId\": \"3b4b3874-9eda-491f-82d1-32562c0b6a00\"\n",
      "            },\n",
      "            \"sop_guids\": [\n",
      "                \"f5d82adc-1f5f-4889-9c4e-2a0ea102b371\"\n",
      "            ],\n",
      "            \"geometries\": {\n",
      "                \"geo_paths\": [\n",
      "                    \"source_surface\"\n",
      "                ]\n",
      "            },\n",
      "            \"description\": \"\"\n",
      "        }\n",
      "    ],\n",
      "    \"name\": \"\",\n",
      "    \"description\": \"\",\n",
      "    \"metadata\": {},\n",
      "    \"scenes\": []\n",
      "}\n"
     ]
    }
   ],
   "source": [
    "print(project)"
   ],
   "metadata": {
    "collapsed": false,
    "ExecuteTime": {
     "end_time": "2024-11-25T17:48:22.474594600Z",
     "start_time": "2024-11-25T17:48:22.467508900Z"
    }
   }
  },
  {
   "cell_type": "code",
   "execution_count": 21,
   "outputs": [
    {
     "name": "stdout",
     "output_type": "stream",
     "text": [
      "[874039043]\n",
      "[874039043]\n",
      "[874039043, 1857398667, 1857398667, 1857398667]\n",
      "[874039043]\n",
      "[874039043]\n",
      "[874039043]\n",
      "[874039043]\n",
      "[874039043]\n",
      "[874039043]\n",
      "[874039043, 1857398667, 1857398667]\n",
      "[874039043, 1857398667, 1857398667, 1857398667]\n",
      "[874039043]\n",
      "[874039043]\n",
      "[874039043]\n",
      "[874039043]\n",
      "[874039043]\n",
      "[874039043]\n",
      "[874039043]\n",
      "[874039043]\n",
      "[874039043]\n",
      "[874039043]\n",
      "[874039043]\n",
      "[874039043]\n",
      "[874039043]\n",
      "[874039043]\n",
      "[874039043]\n",
      "[874039043]\n",
      "[874039043]\n",
      "[874039043]\n",
      "[874039043, 1857398667, 1857398667, 1857398667]\n",
      "[874039043, 1857398667, 1857398667]\n",
      "[874039043, 1857398667, 1857398667, 1857398667]\n",
      "[874039043, 1857398667, 1857398667, 1857398667]\n",
      "[874039043, 1857398667, 1857398667]\n",
      "[874039043]\n",
      "[874039043]\n",
      "[874039043]\n",
      "[874039043]\n",
      "[874039043]\n",
      "[874039043, 1857398667, 1857398667, 1857398667]\n",
      "[874039043]\n",
      "[874039043]\n",
      "[874039043, 1857398667, 1857398667]\n",
      "[874039043]\n",
      "[874039043]\n",
      "[874039043, 1857398667, 1857398667, 1857398667]\n",
      "[874039043]\n",
      "[874039043]\n",
      "[874039043]\n",
      "[874039043]\n",
      "[874039043]\n",
      "[874039043]\n",
      "[874039043]\n",
      "[874039043, 1857398667, 1857398667]\n",
      "[874039043]\n",
      "[874039043]\n",
      "[874039043]\n",
      "[874039043]\n",
      "[874039043]\n",
      "[874039043]\n",
      "[874039043]\n",
      "[874039043, 1857398667, 1857398667, 1857398667]\n",
      "[874039043]\n",
      "[874039043]\n",
      "[874039043, 1857398667, 1857398667, 1857398667]\n",
      "[874039043]\n",
      "[874039043]\n",
      "[874039043]\n",
      "[874039043, 1857398667, 1857398667]\n",
      "[874039043]\n",
      "[874039043]\n",
      "[874039043, 1857398667, 1857398667, 1857398667]\n",
      "[874039043]\n",
      "[874039043]\n",
      "[874039043]\n",
      "[874039043]\n",
      "[874039043]\n",
      "[874039043]\n",
      "[874039043]\n",
      "[874039043]\n",
      "[874039043, 1857398667, 1857398667, 1857398667]\n",
      "[874039043]\n",
      "[874039043, 1857398667, 1857398667, 1857398667]\n",
      "[874039043]\n",
      "[874039043]\n",
      "[874039043]\n",
      "[874039043]\n",
      "[874039043]\n",
      "[874039043]\n",
      "[874039043]\n",
      "[874039043]\n",
      "[874039043]\n",
      "[874039043]\n",
      "[874039043]\n",
      "[874039043]\n",
      "[874039043]\n",
      "[874039043, 1857398667, 1857398667, 1857398667]\n",
      "[874039043]\n",
      "[874039043]\n",
      "[874039043]\n"
     ]
    }
   ],
   "source": [
    "for ray in lxp.rays:\n",
    "    print(ray.body_ids)"
   ],
   "metadata": {
    "collapsed": false,
    "ExecuteTime": {
     "end_time": "2024-11-25T17:49:13.502110100Z",
     "start_time": "2024-11-25T17:49:13.481022Z"
    }
   }
  },
  {
   "cell_type": "code",
   "execution_count": 29,
   "outputs": [
    {
     "data": {
      "text/plain": "Widget(value='<iframe src=\"http://localhost:56126/index.html?ui=P_0x2a147358dd0_10&reconnect=auto\" class=\"pyvi…",
      "application/vnd.jupyter.widget-view+json": {
       "version_major": 2,
       "version_minor": 0,
       "model_id": "e7db463320d44815936d20658fd06ca4"
      }
     },
     "metadata": {},
     "output_type": "display_data"
    }
   ],
   "source": [
    "project.preview({\"opacity\": 1})"
   ],
   "metadata": {
    "collapsed": false,
    "ExecuteTime": {
     "end_time": "2024-11-25T18:27:24.766942500Z",
     "start_time": "2024-11-25T18:27:24.660349500Z"
    }
   }
  }
 ],
 "metadata": {
  "kernelspec": {
   "display_name": "Python 3",
   "language": "python",
   "name": "python3"
  },
  "language_info": {
   "codemirror_mode": {
    "name": "ipython",
    "version": 2
   },
   "file_extension": ".py",
   "mimetype": "text/x-python",
   "name": "python",
   "nbconvert_exporter": "python",
   "pygments_lexer": "ipython2",
   "version": "2.7.6"
  }
 },
 "nbformat": 4,
 "nbformat_minor": 0
}
