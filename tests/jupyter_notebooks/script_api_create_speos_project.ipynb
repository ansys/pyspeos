{
 "cells": [
  {
   "cell_type": "code",
   "execution_count": null,
   "metadata": {
    "ExecuteTime": {
     "end_time": "2024-11-25T17:38:49.770978200Z",
     "start_time": "2024-11-25T17:38:45.666697Z"
    }
   },
   "outputs": [],
   "source": [
    "import os\n",
    "import ansys.speos.script as script\n",
    "from ansys.speos.core import Speos\n",
    "import ansys.speos.workflow as workflow"
   ]
  },
  {
   "cell_type": "code",
   "execution_count": null,
   "metadata": {
    "ExecuteTime": {
     "end_time": "2024-11-25T17:38:49.770978200Z",
     "start_time": "2024-11-25T17:38:45.666697Z"
    }
   },
   "outputs": [],
   "source": [
    "speos = Speos(host=\"localhost\", port=50077)"
   ]
  },
  {
   "cell_type": "code",
   "execution_count": null,
   "metadata": {
    "ExecuteTime": {
     "end_time": "2024-11-25T17:38:49.785613700Z",
     "start_time": "2024-11-25T17:38:49.773948400Z"
    },
    "collapsed": false,
    "jupyter": {
     "outputs_hidden": false
    }
   },
   "outputs": [],
   "source": [
    "project = script.Project(speos=speos)\n",
    "opt_material_1 = project.create_optical_property(\"optical-polished\")\n",
    "opt_material_1.set_volume_optic(index=1.5, absorption=0, constringence=60).set_surface_opticalpolished().commit()\n",
    "\n",
    "opt_material_2 = project.create_optical_property(\"black\")\n",
    "opt_material_2.set_volume_none().set_surface_mirror(reflectance=0).commit()\n"
   ]
  },
  {
   "cell_type": "code",
   "execution_count": null,
   "metadata": {
    "ExecuteTime": {
     "end_time": "2024-11-25T17:38:49.832338500Z",
     "start_time": "2024-11-25T17:38:49.793578900Z"
    },
    "collapsed": false,
    "jupyter": {
     "outputs_hidden": false
    }
   },
   "outputs": [],
   "source": [
    "root_part = project.create_root_part().commit()\n",
    "\n",
    "source_body = root_part.create_body(name=\"source_surface\").commit()\n",
    "source_body.create_face(name=\"face1\").set_vertices(\n",
    "    [-5, -11.228, 5,\n",
    "     5, -11.228, 5,\n",
    "     5, -11.228, -5,\n",
    "     -5, -11.228, -5\n",
    "     ]).set_facets(\n",
    "    [1, 2, 0,\n",
    "     2, 3, 0\n",
    "     ]).set_normals(\n",
    "    [0.0, 1.0, 0.0,\n",
    "     0.0, 1.0, 0.0,\n",
    "     0.0, 1.0, 0.0,\n",
    "     0.0, 1.0, 0.0\n",
    "     ]).commit()\n",
    "\n",
    "prism_body = root_part.create_body(name=\"prism_body\").commit()\n",
    "for face_id in range(6):\n",
    "    face = prism_body.create_face(name=\"face\"+str(face_id)).set_facets(\n",
    "        [1, 2, 0,\n",
    "         2, 3, 0\n",
    "     ])\n",
    "    if face_id == 0:\n",
    "        face.set_vertices(\n",
    "            [-5, 0.0, 5,\n",
    "             -5, 0.0, -5,\n",
    "             5, 0.0, -5,\n",
    "             5, 0.0, 5\n",
    "             ]).set_normals(\n",
    "            [-0.0, -1.0, -0.0,\n",
    "             -0.0, -1.0, -0.0,\n",
    "             -0.0, -1.0, -0.0,\n",
    "             -0.0, -1.0, -0.0\n",
    "             ]).commit()\n",
    "    elif face_id == 1:\n",
    "        face.set_vertices(\n",
    "            [5, 0.0, -5,\n",
    "             5, 10, -5,\n",
    "             5, 10, 5,\n",
    "             5, 0.0, 5,\n",
    "            ]).set_normals(\n",
    "            [1.0, -0.0, 0.0,\n",
    "             1.0, -0.0, 0.0,\n",
    "             1.0, -0.0, 0.0,\n",
    "             1.0, -0.0, 0.0\n",
    "             ]).commit()\n",
    "    elif face_id == 2:\n",
    "        face.set_vertices(\n",
    "            [-5, 10, 5,\n",
    "             5, 10, 5,\n",
    "             5, 10, -5,\n",
    "             -5, 10, -5,\n",
    "             ]).set_normals(\n",
    "            [0.0, 1.0, 0.0,\n",
    "             0.0, 1.0, 0.0,\n",
    "             0.0, 1.0, 0.0,\n",
    "             0.0, 1.0, 0.0\n",
    "             ]).commit()\n",
    "    elif face_id == 3:\n",
    "        face.set_vertices(\n",
    "            [-5, 0.0, -5,\n",
    "             -5, 10, -5,\n",
    "             5, 10, -5,\n",
    "             5, 0.0, -5,\n",
    "             ]).set_normals(\n",
    "            [0.0, 0.0, -1.0,\n",
    "             0.0, 0.0, -1.0,\n",
    "             0.0, 0.0, -1.0,\n",
    "             0.0, 0.0, -1.0\n",
    "             ]).commit()\n",
    "    elif face_id == 4:\n",
    "        face.set_vertices(\n",
    "            [-5,0.0,5,\n",
    "             -5,10,5,\n",
    "             -5,10,-5,\n",
    "             -5,0.0,-5,\n",
    "             ]).set_normals(\n",
    "            [-1.0, 0.0, 0.0,\n",
    "             -1.0, 0.0, 0.0,\n",
    "             -1.0, 0.0, 0.0,\n",
    "             -1.0, 0.0, 0.0\n",
    "             ]).commit()\n",
    "    elif face_id == 5:\n",
    "        face.set_vertices(\n",
    "            [5,0.0,5,\n",
    "             5,10,5,\n",
    "             -5,10,5,\n",
    "             -5,0.0,5,\n",
    "             ]).set_normals(\n",
    "            [0.0, 0.0, 1.0,\n",
    "             0.0, 0.0, 1.0,\n",
    "             0.0, 0.0, 1.0,\n",
    "             0.0, 0.0, 1.0\n",
    "             ]).commit()\n",
    "\n",
    "opt_material_1.set_geometries(\n",
    "    geometries=[script.GeoRef.from_native_link(geopath=\"prism_body\")]\n",
    ").commit()\n",
    "\n",
    "opt_material_2.set_geometries(\n",
    "    geometries=[script.GeoRef.from_native_link(geopath=\"source_surface\")]\n",
    ").commit()"
   ]
  },
  {
   "cell_type": "code",
   "execution_count": null,
   "metadata": {
    "ExecuteTime": {
     "end_time": "2024-11-25T17:38:49.846125800Z",
     "start_time": "2024-11-25T17:38:49.834333Z"
    },
    "collapsed": false,
    "jupyter": {
     "outputs_hidden": false
    }
   },
   "outputs": [],
   "source": [
    "source_1 = project.create_source(name=\"surface_source\")\n",
    "source_1.set_spectrum().set_blackbody()\n",
    "source_1.set_exitance_constant(geometries=[(script.GeoRef.from_native_link(geopath=\"source_surface/face1\"), False)])\n",
    "source_1.commit()"
   ]
  },
  {
   "cell_type": "code",
   "execution_count": null,
   "metadata": {
    "ExecuteTime": {
     "end_time": "2024-11-25T17:38:49.903542500Z",
     "start_time": "2024-11-25T17:38:49.848091700Z"
    },
    "collapsed": false,
    "jupyter": {
     "outputs_hidden": false
    }
   },
   "outputs": [],
   "source": [
    "sensor_1 = project.create_sensor(name=\"irradiance_sensor\")\n",
    "sensor_1.set_type_spectral()\n",
    "sensor_1.set_axis_system(\n",
    "    [0, 20, 0,\n",
    "     1, 0, 0,\n",
    "     0, 0, 1,\n",
    "     0, 1, 0\n",
    "     ])\n",
    "sensor_1.set_illuminance_type_planar(integration_direction=[0, -1, 0])\n",
    "sensor_1.commit()"
   ]
  },
  {
   "cell_type": "code",
   "execution_count": null,
   "metadata": {
    "ExecuteTime": {
     "end_time": "2024-11-25T17:38:50.578289400Z",
     "start_time": "2024-11-25T17:38:49.858489800Z"
    },
    "collapsed": false,
    "jupyter": {
     "outputs_hidden": false
    }
   },
   "outputs": [],
   "source": [
    "project.preview()"
   ]
  },
  {
   "cell_type": "code",
   "execution_count": null,
   "metadata": {
    "ExecuteTime": {
     "end_time": "2024-11-25T17:38:50.584623300Z",
     "start_time": "2024-11-25T17:38:50.580237200Z"
    },
    "collapsed": false,
    "jupyter": {
     "outputs_hidden": false
    }
   },
   "outputs": [],
   "source": [
    "print(project)"
   ]
  },
  {
   "cell_type": "code",
   "execution_count": null,
   "metadata": {
    "ExecuteTime": {
     "end_time": "2024-11-25T17:38:50.638127800Z",
     "start_time": "2024-11-25T17:38:50.586746300Z"
    },
    "collapsed": false,
    "jupyter": {
     "outputs_hidden": false
    }
   },
   "outputs": [],
   "source": [
    "simu = project.create_simulation(name=\"direct.1.pyspeos\")\n",
    "simu.set_sensor_paths([\"irradiance_sensor\"])\n",
    "simu.set_source_paths([\"surface_source\"])\n",
    "simu.set_stop_condition_rays_number(value=20000000)\n",
    "simu.commit()"
   ]
  },
  {
   "cell_type": "code",
   "execution_count": null,
   "metadata": {
    "ExecuteTime": {
     "end_time": "2024-11-25T17:38:50.638127800Z",
     "start_time": "2024-11-25T17:38:50.612059700Z"
    },
    "collapsed": false,
    "jupyter": {
     "outputs_hidden": false
    }
   },
   "outputs": [],
   "source": [
    "print(project)\n"
   ]
  },
  {
   "cell_type": "code",
   "execution_count": null,
   "metadata": {
    "ExecuteTime": {
     "end_time": "2024-11-25T17:39:15.674515800Z",
     "start_time": "2024-11-25T17:38:50.619135900Z"
    },
    "collapsed": false,
    "jupyter": {
     "outputs_hidden": false
    }
   },
   "outputs": [],
   "source": [
    "simu.compute_CPU()"
   ]
  },
  {
   "cell_type": "code",
   "execution_count": null,
   "metadata": {
    "ExecuteTime": {
     "end_time": "2024-11-25T17:43:39.871150400Z",
     "start_time": "2024-11-25T17:43:34.780713800Z"
    },
    "collapsed": false,
    "jupyter": {
     "outputs_hidden": false
    }
   },
   "outputs": [],
   "source": [
    "sim2 = project.create_simulation(\"interactive\", feature_type=script.simulation.Interactive)\n",
    "sim2.set_source_paths([\"surface_source\"])\n",
    "sim2.set_sensor_paths([\"irradiance_sensor\"])\n",
    "sim2.set_light_expert(True)\n",
    "sim2.commit()\n",
    "print(sim2)\n",
    "result = sim2.compute_CPU()"
   ]
  },
  {
   "cell_type": "code",
   "execution_count": null,
   "metadata": {
    "ExecuteTime": {
     "end_time": "2024-11-25T17:45:14.181955800Z",
     "start_time": "2024-11-25T17:45:13.393800400Z"
    },
    "collapsed": false,
    "jupyter": {
     "outputs_hidden": false
    }
   },
   "outputs": [],
   "source": [
    "print(result[0].path)\n",
    "\n",
    "from ansys.speos.script.lxp import LightPathFinder\n",
    "lxp= script.LightPathFinder(speos,result[0].path)\n",
    "print(lxp.has_sensor_contributions)\n",
    "lxp.preview(project=project)\n"
   ]
  },
  {
   "cell_type": "code",
   "execution_count": null,
   "metadata": {
    "ExecuteTime": {
     "end_time": "2024-11-25T17:45:41.110068300Z",
     "start_time": "2024-11-25T17:45:40.423727300Z"
    },
    "collapsed": false,
    "jupyter": {
     "outputs_hidden": false
    }
   },
   "outputs": [],
   "source": [
    "lxp.filter_error_rays()\n",
    "lxp.preview(project=project,ray_filter=True)"
   ]
  },
  {
   "cell_type": "code",
   "execution_count": null,
   "metadata": {
    "ExecuteTime": {
     "end_time": "2024-11-25T17:48:22.474594600Z",
     "start_time": "2024-11-25T17:48:22.467508900Z"
    },
    "collapsed": false,
    "jupyter": {
     "outputs_hidden": false
    }
   },
   "outputs": [],
   "source": [
    "print(project)"
   ]
  },
  {
   "cell_type": "code",
   "execution_count": null,
   "metadata": {
    "ExecuteTime": {
     "end_time": "2024-11-25T17:49:13.502110100Z",
     "start_time": "2024-11-25T17:49:13.481022Z"
    },
    "collapsed": false,
    "jupyter": {
     "outputs_hidden": false
    }
   },
   "outputs": [],
   "source": [
    "for ray in lxp.rays:\n",
    "    print(ray.body_ids)"
   ]
  },
  {
   "cell_type": "code",
   "execution_count": null,
   "metadata": {
    "ExecuteTime": {
     "end_time": "2024-11-25T18:27:24.766942500Z",
     "start_time": "2024-11-25T18:27:24.660349500Z"
    },
    "collapsed": false,
    "jupyter": {
     "outputs_hidden": false
    }
   },
   "outputs": [],
   "source": [
    "project.preview({\"opacity\": 1})"
   ]
  }
 ],
 "metadata": {
  "kernelspec": {
   "display_name": "Python 3 (ipykernel)",
   "language": "python",
   "name": "python3"
  },
  "language_info": {
   "codemirror_mode": {
    "name": "ipython",
    "version": 3
   },
   "file_extension": ".py",
   "mimetype": "text/x-python",
   "name": "python",
   "nbconvert_exporter": "python",
   "pygments_lexer": "ipython3",
   "version": "3.10.11"
  }
 },
 "nbformat": 4,
 "nbformat_minor": 4
}
