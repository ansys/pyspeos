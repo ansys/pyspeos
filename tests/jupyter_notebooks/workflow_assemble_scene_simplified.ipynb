{
 "cells": [
  {
   "cell_type": "markdown",
   "source": [
    "# Needed imports and utility"
   ],
   "metadata": {
    "collapsed": false
   }
  },
  {
   "cell_type": "code",
   "execution_count": null,
   "outputs": [],
   "source": [
    "import os\n",
    "\n",
    "from comtypes.client import CreateObject\n",
    "\n",
    "import ansys.speos.core as core\n",
    "from ansys.speos.core.speos import Speos\n",
    "import ansys.speos.workflow as workflow\n",
    "\n",
    "tests_data_path = os.path.join(os.path.join(os.path.abspath(''), os.path.pardir), \"assets\")\n",
    "\n",
    "def open_file(file):\n",
    "    dpf_instance = None\n",
    "    if file.endswith(\"xmp\") or file.endswith(\"XMP\"):\n",
    "        dpf_instance = CreateObject(\"XMPViewer.Application\")\n",
    "    if file.endswith(\"hdr\") or file.endswith(\"HDR\"):\n",
    "        dpf_instance = CreateObject(\"HDRIViewer.Application\")\n",
    "    dpf_instance.OpenFile(file)\n",
    "    dpf_instance.Show(1)\n",
    "    return dpf_instance\n",
    "\n",
    "\n",
    "def print_message(msg):\n",
    "    print(core.protobuf_message_to_str(msg))"
   ],
   "metadata": {
    "collapsed": false
   }
  },
  {
   "cell_type": "markdown",
   "source": [
    "# Create connected speos rpc server"
   ],
   "metadata": {
    "collapsed": false
   }
  },
  {
   "cell_type": "code",
   "execution_count": null,
   "outputs": [],
   "source": [
    "speos = Speos(host=\"localhost\", port=50051)\n",
    "workflow.clean_all_dbs(speos.client)"
   ],
   "metadata": {
    "collapsed": false
   }
  },
  {
   "cell_type": "markdown",
   "source": [
    "# Create SpeosSimulationUpdate"
   ],
   "metadata": {
    "collapsed": false
   }
  },
  {
   "cell_type": "code",
   "execution_count": null,
   "outputs": [],
   "source": [
    "sim_file = os.path.join(tests_data_path, \"student\", \"Env_Simplified_Empty.speos\", \"Env_Simplified_Empty.speos\")\n",
    "env_file = os.path.join(tests_data_path, \"student\", \"Env_Simplified.speos\", \"Env_Simplified.speos\")\n",
    "blue_car_file = os.path.join(tests_data_path, \"student\", \"BlueCar.speos\", \"BlueCar.speos\")\n",
    "red_car_file = os.path.join(tests_data_path, \"student\", \"RedCar.speos\", \"RedCar.speos\")\n",
    "\n",
    "my_scene_simu = workflow.SpeosSimulationUpdate(speos, sim_file, clean_dbs=False)\n",
    "env_scene = workflow.SpeosSimulationUpdate(speos, env_file, clean_dbs=False)\n",
    "blue_car_scene = workflow.SpeosSimulationUpdate(speos, blue_car_file, clean_dbs=False)\n",
    "red_car_scene = workflow.SpeosSimulationUpdate(speos, red_car_file, clean_dbs=False)"
   ],
   "metadata": {
    "collapsed": false
   }
  },
  {
   "cell_type": "markdown",
   "source": [
    "# Assemble multiple scenes"
   ],
   "metadata": {
    "collapsed": false
   }
  },
  {
   "cell_type": "code",
   "execution_count": null,
   "outputs": [],
   "source": [
    "env_position = workflow.PositionProperties()\n",
    "env_position.origin = [0.0, 0.0, 0.0]\n",
    "env_position.x_vector = [1.0, 0.0, 0.0]\n",
    "env_position.y_vector = [0.0, 1.0, 0.0]\n",
    "env_position.z_vector = [0.0, 0.0, 1.0]\n",
    "\n",
    "blue_car_position = workflow.PositionProperties()\n",
    "blue_car_position.origin = [1984.87, 0, 34660.06]\n",
    "blue_car_position.x_vector = [0.0, 0.0, 1.0]\n",
    "blue_car_position.y_vector = [-1.0, 0.0, 0.0]\n",
    "blue_car_position.z_vector = [0.0, 1.0, 0.0]\n",
    "\n",
    "red_car_position = workflow.PositionProperties()\n",
    "red_car_position.origin = [-3749, 0.0, 48000]\n",
    "red_car_position.x_vector = [1.0, 0.0, 0.0]\n",
    "red_car_position.y_vector = [0.0, 0.0, -1.0]\n",
    "red_car_position.z_vector = [0.0, 1.0, 0.0]\n",
    "\n",
    "my_scene_simu.add_scene(env_scene, env_position)\n",
    "my_scene_simu.add_scene(red_car_scene, red_car_position)\n",
    "my_scene_simu.add_scene(blue_car_scene, blue_car_position)"
   ],
   "metadata": {
    "collapsed": false
   }
  },
  {
   "cell_type": "markdown",
   "source": [
    "# Preview the scene"
   ],
   "metadata": {
    "collapsed": false
   }
  },
  {
   "cell_type": "code",
   "execution_count": null,
   "outputs": [],
   "source": [
    "my_scene_simu.preview()"
   ],
   "metadata": {
    "collapsed": false
   }
  },
  {
   "cell_type": "markdown",
   "source": [
    "# Add a camera sensor to the scene"
   ],
   "metadata": {
    "collapsed": false
   }
  },
  {
   "cell_type": "code",
   "execution_count": null,
   "outputs": [],
   "source": [
    "camera_input_path = os.path.join(tests_data_path, \"CameraInputFiles\")\n",
    "camera_parameters = workflow.PhotometricCameraSensorParameters()\n",
    "camera_parameters.name = \"Camera_Sensor\"\n",
    "camera_parameters.transmittance_file = os.path.join(camera_input_path, \"CameraTransmittance.spectrum\")\n",
    "camera_parameters.distorsion_file = os.path.join(camera_input_path, \"CameraDistortion_190deg.OPTDistortion\")\n",
    "camera_parameters.color_mode_red_spectrum_file = os.path.join(camera_input_path, \"CameraSensitivityRed.spectrum\")\n",
    "camera_parameters.color_mode_green_spectrum_file = os.path.join(camera_input_path, \"CameraSensitivityGreen.spectrum\")\n",
    "camera_parameters.color_mode_blue_spectrum_file = os.path.join(camera_input_path, \"CameraSensitivityBlue.spectrum\")\n",
    "camera_parameters.wavelengths_start = 380\n",
    "camera_parameters.wavelengths_end = 780\n",
    "camera_parameters.wavelengths_sampling = 21\n",
    "camera_parameters.focal_length = 7\n",
    "camera_parameters.imager_distance = 1\n",
    "camera_parameters.f_number = 20\n",
    "camera_parameters.horizontal_pixel = 964\n",
    "camera_parameters.vertical_pixel = 544\n",
    "camera_parameters.width = 8.0976\n",
    "camera_parameters.height = 4.5696\n",
    "\n",
    "camera_props = workflow.CameraSensorProperties()\n",
    "camera_props.origin = [-2118.67, 1500, 11000]\n",
    "camera_props.x_vector = [-0.999694, 0.0, -0.0247255]\n",
    "camera_props.y_vector = [0.0, 1.0, 0.0]\n",
    "camera_props.z_vector = [0.0, 0.0, -1.0]\n",
    "\n",
    "my_scene_simu.add_camera_sensor(camera_parameters, camera_props)"
   ],
   "metadata": {
    "collapsed": false
   }
  },
  {
   "cell_type": "markdown",
   "source": [
    "# Compute the first simulation"
   ],
   "metadata": {
    "collapsed": false
   }
  },
  {
   "cell_type": "code",
   "execution_count": null,
   "outputs": [],
   "source": [
    "job_link = my_scene_simu.compute(\"first_job\")\n",
    "print_message(job_link.get_results())"
   ],
   "metadata": {
    "collapsed": false
   }
  },
  {
   "cell_type": "markdown",
   "source": [
    "# Move the assembly components"
   ],
   "metadata": {
    "collapsed": false
   }
  },
  {
   "cell_type": "code",
   "execution_count": null,
   "outputs": [],
   "source": [
    "red_car_position_update = red_car_position.copy()\n",
    "red_car_position_update.origin = [0.0, 0.0, 48000]\n",
    "blue_car_position_update = blue_car_position.copy()\n",
    "blue_car_position_update.origin = [1984.87, 0, 24660.06]\n",
    "\n",
    "new_body_positions = {\n",
    "    red_car_scene.scene.get().name: red_car_position_update,\n",
    "    blue_car_scene.scene.get().name: blue_car_position_update,\n",
    "}\n",
    "my_scene_simu.update_scene_part_position(new_body_positions)"
   ],
   "metadata": {
    "collapsed": false
   }
  },
  {
   "cell_type": "markdown",
   "source": [
    "# Compute the modified simulation with GPU"
   ],
   "metadata": {
    "collapsed": false
   }
  },
  {
   "cell_type": "code",
   "execution_count": null,
   "outputs": [],
   "source": [
    "job_link = my_scene_simu.compute(\"second_job\", compute_type=\"gpu\")\n",
    "print_message(job_link.get_results())"
   ],
   "metadata": {
    "collapsed": false
   }
  },
  {
   "cell_type": "markdown",
   "source": [
    "# Move the camera position"
   ],
   "metadata": {
    "collapsed": false
   }
  },
  {
   "cell_type": "code",
   "execution_count": null,
   "outputs": [],
   "source": [
    "camera_props_update = workflow.CameraSensorProperties()\n",
    "camera_props_update.origin = [-2118.67, 1500.0, 21000.0]\n",
    "camera_props_update.x_vector = [-0.999694, 0.0, -0.0247255]\n",
    "camera_props_update.y_vector = [0.0, 1.0, 0.0]\n",
    "camera_props_update.z_vector = [0.0, 0.0, -1.0]\n",
    "\n",
    "my_scene_simu.update_sensor(camera_parameters, camera_props_update)"
   ],
   "metadata": {
    "collapsed": false
   }
  },
  {
   "cell_type": "markdown",
   "source": [
    "# Compute the modified simulation"
   ],
   "metadata": {
    "collapsed": false
   }
  },
  {
   "cell_type": "code",
   "execution_count": null,
   "outputs": [],
   "source": [
    "job_link = my_scene_simu.compute(\"third_job\", compute_type=\"gpu\")\n",
    "print_message(job_link.get_results())"
   ],
   "metadata": {
    "collapsed": false
   }
  },
  {
   "cell_type": "markdown",
   "source": [
    "# Open and view the result file"
   ],
   "metadata": {
    "collapsed": false
   }
  },
  {
   "cell_type": "code",
   "execution_count": null,
   "outputs": [],
   "source": [
    "speos_result_file = job_link.get_results().results[0].path\n",
    "open_file(speos_result_file)"
   ],
   "metadata": {
    "collapsed": false
   }
  },
  {
   "cell_type": "markdown",
   "source": [
    "# Clean after usage"
   ],
   "metadata": {
    "collapsed": false
   }
  },
  {
   "cell_type": "code",
   "execution_count": null,
   "outputs": [],
   "source": [
    "job_link.delete()\n",
    "my_scene_simu.close()"
   ],
   "metadata": {
    "collapsed": false
   }
  }
 ],
 "metadata": {
  "kernelspec": {
   "display_name": "Python 3",
   "language": "python",
   "name": "python3"
  },
  "language_info": {
   "codemirror_mode": {
    "name": "ipython",
    "version": 2
   },
   "file_extension": ".py",
   "mimetype": "text/x-python",
   "name": "python",
   "nbconvert_exporter": "python",
   "pygments_lexer": "ipython2",
   "version": "2.7.6"
  }
 },
 "nbformat": 4,
 "nbformat_minor": 0
}
