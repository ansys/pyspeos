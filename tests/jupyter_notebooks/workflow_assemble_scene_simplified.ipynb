{
 "cells": [
  {
   "cell_type": "markdown",
   "metadata": {
    "collapsed": false,
    "jupyter": {
     "outputs_hidden": false
    }
   },
   "source": [
    "# Needed imports and utility"
   ]
  },
  {
   "cell_type": "code",
   "execution_count": 1,
   "metadata": {
    "collapsed": false,
    "jupyter": {
     "outputs_hidden": false
    }
   },
   "outputs": [],
   "source": [
    "import os\n",
    "import matplotlib.pyplot as plt\n",
    "import matplotlib.image as mpimg\n",
    "\n",
    "from comtypes.client import CreateObject\n",
    "\n",
    "import ansys.speos.core as core\n",
    "from ansys.speos.core.speos import Speos\n",
    "import ansys.speos.workflow as workflow"
   ]
  },
  {
   "cell_type": "markdown",
   "metadata": {
    "collapsed": false,
    "jupyter": {
     "outputs_hidden": false
    }
   },
   "source": [
    "tests_data_path defines the asset files location, where pre-prepared files are used in this demonstration.\n",
    "In this simple demonstration, we have prepared one triangle prism geometry and flat surface source.\n",
    "Of course, you can also use or create your own geometry from mesh information."
   ]
  },
  {
   "cell_type": "code",
   "execution_count": 2,
   "metadata": {
    "collapsed": false,
    "jupyter": {
     "outputs_hidden": false
    }
   },
   "outputs": [],
   "source": [
    "tests_data_path = os.path.join(os.path.join(os.path.abspath(''), os.path.pardir), \"assets\")"
   ]
  },
  {
   "cell_type": "markdown",
   "metadata": {
    "collapsed": false,
    "jupyter": {
     "outputs_hidden": false
    }
   },
   "source": [
    "Some utility functions are defined at the beginning:\n",
    "function print_message: Print rpc simulation progress message.\n",
    "function open_file: Open and display the simulation result."
   ]
  },
  {
   "cell_type": "code",
   "execution_count": 3,
   "metadata": {
    "collapsed": false,
    "jupyter": {
     "outputs_hidden": false
    }
   },
   "outputs": [],
   "source": [
    "def open_file(file):\n",
    "    dpf_instance = None\n",
    "    if file.endswith(\"xmp\") or file.endswith(\"XMP\"):\n",
    "        dpf_instance = CreateObject(\"XMPViewer.Application\")\n",
    "        dpf_instance.OpenFile(file)\n",
    "        res = dpf_instance.ExportXMPImage(file+\".png\", 1)\n",
    "        if res:\n",
    "            img = mpimg.imread(file+\".png\")\n",
    "            plt.imshow(img)\n",
    "            plt.axis(\"off\")   # turns off axes\n",
    "            plt.axis(\"tight\")  # gets rid of white border\n",
    "            plt.axis(\"image\")  # square up the image instead of filling the \"figure\" space\n",
    "            plt.show()\n",
    "    elif file.endswith(\"hdr\") or file.endswith(\"HDR\"):\n",
    "        dpf_instance = CreateObject(\"HDRIViewer.Application\")\n",
    "        dpf_instance.OpenFile(file)\n",
    "        dpf_instance.Show(1)\n",
    "    elif file.endswith(\"png\") or file.endswith(\"PNG\"):\n",
    "        img = mpimg.imread(file)\n",
    "        plt.imshow(img)\n",
    "        plt.axis(\"off\")   # turns off axes\n",
    "        plt.axis(\"tight\")  # gets rid of white border\n",
    "        plt.axis(\"image\")  # square up the image instead of filling the \"figure\" space\n",
    "        plt.show()\n",
    "    return dpf_instance\n",
    "\n",
    "def print_message(msg):\n",
    "    print(core.protobuf_message_to_str(msg))"
   ]
  },
  {
   "cell_type": "markdown",
   "metadata": {
    "collapsed": false,
    "jupyter": {
     "outputs_hidden": false
    }
   },
   "source": [
    "# Create connection with speos rpc server\n",
    "In this simple demonstration, a local host server is used. However, such server can be a remote server or can be on cloud.\n",
    "\n",
    "Firstly, a speos client is initiated.\n",
    "This speos client will later provide all the necessary rpc API for us to create workflow.\n",
    "\n",
    "After a speos client is created, it is always best practice to clean all the database inside.\n",
    "clean_all_dbs function from workflow class is defined to clean all the database in the memory."
   ]
  },
  {
   "cell_type": "code",
   "execution_count": 6,
   "metadata": {
    "collapsed": false,
    "jupyter": {
     "outputs_hidden": false
    }
   },
   "outputs": [],
   "source": [
    "speos = Speos(host=\"localhost\", port=50098)\n",
    "workflow.clean_all_dbs(speos.client)"
   ]
  },
  {
   "cell_type": "markdown",
   "metadata": {
    "collapsed": false,
    "jupyter": {
     "outputs_hidden": false
    }
   },
   "source": [
    "# Create SpeosSimulationUpdate\n",
    "After a client is created and cleaned, it is empty, i.e. there is nothing inside.\n",
    "Thus, we need add different objects.\n",
    "Just like how we see the world, there are\n",
    "* sources: sun, lamp, etc\n",
    "* objects: table, food, street, and buildings, etc\n",
    "* detectors: our eye or cameras\n",
    "SpeosSimulationupdate is an object which is initialized to host all the necessary information required to run a simulation.\n",
    "Firstly, a pre-prepared SpeosSimulationUpdate, named my_scene_simu, is initialized."
   ]
  },
  {
   "cell_type": "code",
   "execution_count": 7,
   "metadata": {
    "collapsed": false,
    "jupyter": {
     "outputs_hidden": false
    }
   },
   "outputs": [],
   "source": [
    "sim_file = os.path.join(tests_data_path, \"Env_Simplified_Empty.speos\", \"Env_Simplified_Empty.speos\")\n",
    "my_scene_simu = workflow.SpeosSimulationUpdate(speos, sim_file, clean_dbs=False)"
   ]
  },
  {
   "cell_type": "markdown",
   "metadata": {
    "collapsed": false,
    "jupyter": {
     "outputs_hidden": false
    }
   },
   "source": [
    "Can use .scene.get() to see what has been included.\n",
    "In this pre-prepared, a sunlight environment has been added."
   ]
  },
  {
   "cell_type": "code",
   "execution_count": 8,
   "metadata": {
    "collapsed": false,
    "jupyter": {
     "outputs_hidden": false
    }
   },
   "outputs": [
    {
     "name": "stdout",
     "output_type": "stream",
     "text": [
      "ansys.api.speos.scene.v2.Scene\n",
      "{\n",
      "    \"name\": \"Env_Simplified_Empty\",\n",
      "    \"description\": \"From D:\\\\Work\\\\Gitdir\\\\pyspeos\\\\tests\\\\jupyter_notebooks\\\\..\\\\assets\\\\Env_Simplified_Empty.speos\\\\Env_Simplified_Empty.speos\",\n",
      "    \"part_guid\": \"db847e53-64b8-48e0-a7b7-ee4b439f5ee3\",\n",
      "    \"sensors\": [\n",
      "        {\n",
      "            \"name\": \"Irradiance.1:51\",\n",
      "            \"sensor_guid\": \"89c2d2de-7c9b-4221-b1a0-ddfdbf32f462\",\n",
      "            \"result_file_name\": \"Env_Simplified.Irradiance.1\",\n",
      "            \"irradiance_properties\": {\n",
      "                \"axis_system\": [\n",
      "                    0.0,\n",
      "                    0.0,\n",
      "                    0.0,\n",
      "                    1.0,\n",
      "                    0.0,\n",
      "                    0.0,\n",
      "                    0.0,\n",
      "                    1.0,\n",
      "                    0.0,\n",
      "                    0.0,\n",
      "                    0.0,\n",
      "                    1.0\n",
      "                ],\n",
      "                \"layer_type_none\": {},\n",
      "                \"ray_file_type\": \"RayFileNone\",\n",
      "                \"integration_direction\": []\n",
      "            },\n",
      "            \"description\": \"\",\n",
      "            \"metadata\": {}\n",
      "        }\n",
      "    ],\n",
      "    \"simulations\": [\n",
      "        {\n",
      "            \"name\": \"Env_Simplified\",\n",
      "            \"simulation_guid\": \"91668d36-0aa5-4ac6-ad67-fb4a83bb418e\",\n",
      "            \"sensor_paths\": [\n",
      "                \"Irradiance.1:51\"\n",
      "            ],\n",
      "            \"description\": \"\",\n",
      "            \"metadata\": {},\n",
      "            \"source_paths\": []\n",
      "        }\n",
      "    ],\n",
      "    \"materials\": [\n",
      "        {\n",
      "            \"name\": \"Material.1\",\n",
      "            \"vop_guid\": \"40512cd1-6bb8-436e-8883-fafeb191622e\",\n",
      "            \"description\": \"\",\n",
      "            \"metadata\": {},\n",
      "            \"sop_guids\": []\n",
      "        }\n",
      "    ],\n",
      "    \"metadata\": {},\n",
      "    \"sources\": [],\n",
      "    \"scenes\": []\n",
      "}\n"
     ]
    }
   ],
   "source": [
    "print(my_scene_simu.scene.get())"
   ]
  },
  {
   "cell_type": "markdown",
   "metadata": {
    "collapsed": false,
    "jupyter": {
     "outputs_hidden": false
    }
   },
   "source": [
    "Then, we would like to add more objects: road"
   ]
  },
  {
   "cell_type": "code",
   "execution_count": 9,
   "metadata": {
    "collapsed": false,
    "jupyter": {
     "outputs_hidden": false
    }
   },
   "outputs": [
    {
     "data": {
      "application/vnd.jupyter.widget-view+json": {
       "model_id": "c0b4d814f2c9439680540338a6ec573a",
       "version_major": 2,
       "version_minor": 0
      },
      "text/plain": [
       "Widget(value='<iframe src=\"http://localhost:62546/index.html?ui=P_0x2713aa2a2c0_0&reconnect=auto\" class=\"pyvis…"
      ]
     },
     "metadata": {},
     "output_type": "display_data"
    }
   ],
   "source": [
    "env_file = os.path.join(tests_data_path, \"Env_Simplified.speos\", \"Env_Simplified.speos\")\n",
    "env_scene = workflow.SpeosSimulationUpdate(speos, env_file, clean_dbs=False)\n",
    "\n",
    "env_position = core.AxisSystem()\n",
    "my_scene_simu.add_scene(simulation_scene=env_scene, position_info=env_position, only_geometry=True)\n",
    "my_scene_simu.preview()"
   ]
  },
  {
   "cell_type": "markdown",
   "metadata": {
    "collapsed": false,
    "jupyter": {
     "outputs_hidden": false
    }
   },
   "source": [
    "Add more objects: cars.\n",
    "Cars' position information are required before adding.\n",
    "Position are defined by origin and x, y, z axis vectors.\n",
    "The unit used is mm by default. You can use preview function to check how different origin coordinate and x, y, z vectors change its positions."
   ]
  },
  {
   "cell_type": "code",
   "execution_count": null,
   "metadata": {
    "collapsed": false,
    "jupyter": {
     "outputs_hidden": false
    }
   },
   "outputs": [],
   "source": [
    "blue_car_file = os.path.join(tests_data_path, \"BlueCar.speos\", \"BlueCar.speos\")\n",
    "red_car_file = os.path.join(tests_data_path, \"RedCar.speos\", \"RedCar.speos\")\n",
    "\n",
    "blue_car_scene = workflow.SpeosSimulationUpdate(speos, blue_car_file, clean_dbs=False)\n",
    "red_car_scene = workflow.SpeosSimulationUpdate(speos, red_car_file, clean_dbs=False)\n",
    "\n",
    "blue_car_position = core.AxisSystem()\n",
    "blue_car_position.origin = [1984.87, 0, 34660.06]\n",
    "blue_car_position.x_vect = [0.0, 0.0, -1.0]\n",
    "blue_car_position.y_vect = [-1.0, 0.0, 0.0]\n",
    "blue_car_position.z_vect = [0.0, 1.0, 0.0]\n",
    "\n",
    "red_car_position = core.AxisSystem()\n",
    "red_car_position.origin = [-3749, 0.0, 48000]\n",
    "red_car_position.x_vect = [1.0, 0.0, 0.0]\n",
    "red_car_position.y_vect = [0.0, 0.0, -1.0]\n",
    "red_car_position.z_vect = [0.0, 1.0, 0.0]\n",
    "\n",
    "my_scene_simu.add_scene(simulation_scene=red_car_scene, position_info=red_car_position, only_geometry=True)\n",
    "my_scene_simu.add_scene(simulation_scene=blue_car_scene, position_info=blue_car_position, only_geometry=True)\n",
    "my_scene_simu.preview()"
   ]
  },
  {
   "cell_type": "markdown",
   "metadata": {
    "collapsed": false,
    "jupyter": {
     "outputs_hidden": false
    }
   },
   "source": [
    "# Add a camera sensor to the scene\n",
    "To simulate the car camera, a camera detector is added.\n",
    "Just like cameras in the real word, there are different types of camera, e.g. one with long focal distance, one with wider field of view, etc.\n",
    "There are several parameters settings required when defining a camera:\n",
    "Transmittance: defines how different wavelength light will travel through the camera lens\n",
    "Distortion: how light will be distorted at different position after travelling through the lens. Example can be found on website: https://en.wikipedia.org/wiki/Distortion_(optics)\n",
    "Color_spectrum: defines how sensitive a camera can detector a red / blue / green light\n",
    "Wavelengths: defines the range of wavelength such camera can detector. For most camera, visual wavelength range used. There are some camera designed for infrared which means its wavelength range cover the infrared part.\n",
    "Focal_length: defines focal distance of a camera\n",
    "Pixel and dimension: define the camera size and resolution"
   ]
  },
  {
   "cell_type": "code",
   "execution_count": null,
   "metadata": {
    "collapsed": false,
    "jupyter": {
     "outputs_hidden": false
    }
   },
   "outputs": [],
   "source": [
    "camera_input_path = os.path.join(tests_data_path, \"CameraInputFiles\")\n",
    "camera_parameters = workflow.PhotometricCameraSensorParameters()\n",
    "camera_parameters.name = \"Camera_Sensor\"\n",
    "camera_parameters.transmittance_file = os.path.join(camera_input_path, \"CameraTransmittance.spectrum\")\n",
    "camera_parameters.distortion_file = os.path.join(camera_input_path, \"CameraDistortion_190deg.OPTDistortion\")\n",
    "camera_parameters.color_mode_red_spectrum_file = os.path.join(camera_input_path, \"CameraSensitivityRed.spectrum\")\n",
    "camera_parameters.color_mode_green_spectrum_file = os.path.join(camera_input_path, \"CameraSensitivityGreen.spectrum\")\n",
    "camera_parameters.color_mode_blue_spectrum_file = os.path.join(camera_input_path, \"CameraSensitivityBlue.spectrum\")\n",
    "camera_parameters.wavelengths_start = 380\n",
    "camera_parameters.wavelengths_end = 780\n",
    "camera_parameters.wavelengths_sampling = 21\n",
    "camera_parameters.focal_length = 7\n",
    "camera_parameters.imager_distance = 1\n",
    "camera_parameters.f_number = 20\n",
    "camera_parameters.horizontal_pixel = 964\n",
    "camera_parameters.vertical_pixel = 544\n",
    "camera_parameters.width = 8.0976\n",
    "camera_parameters.height = 4.5696\n",
    "\n",
    "camera_props = workflow.CameraSensorProperties()\n",
    "camera_props.origin = [-2118.67, 1500, 11000]\n",
    "camera_props.x_vect = [-0.999694, 0.0, -0.0247255]\n",
    "camera_props.y_vect = [0.0, 1.0, 0.0]\n",
    "camera_props.z_vect = [0.0, 0.0, -1.0]\n",
    "\n",
    "my_scene_simu.add_camera_sensor(camera_parameters, camera_props)"
   ]
  },
  {
   "cell_type": "markdown",
   "metadata": {
    "collapsed": false,
    "jupyter": {
     "outputs_hidden": false
    }
   },
   "source": [
    "# Compute the first simulation"
   ]
  },
  {
   "cell_type": "code",
   "execution_count": null,
   "metadata": {
    "collapsed": false,
    "jupyter": {
     "outputs_hidden": false
    }
   },
   "outputs": [],
   "source": [
    "job_link = my_scene_simu.compute(\"first_job\")\n",
    "print_message(job_link.get_results())"
   ]
  },
  {
   "cell_type": "markdown",
   "metadata": {},
   "source": [
    "# Open and view the result file"
   ]
  },
  {
   "cell_type": "code",
   "execution_count": null,
   "metadata": {},
   "outputs": [],
   "source": [
    "speos_result_file = job_link.get_results().results[4].path\n",
    "open_file(speos_result_file)\n",
    "speos_result_file = job_link.get_results().results[1].path\n",
    "open_file(speos_result_file)"
   ]
  },
  {
   "cell_type": "code",
   "execution_count": null,
   "metadata": {},
   "outputs": [],
   "source": [
    "job_link.delete()"
   ]
  },
  {
   "cell_type": "markdown",
   "metadata": {
    "collapsed": false,
    "jupyter": {
     "outputs_hidden": false
    }
   },
   "source": [
    "# Add more environment lights\n",
    "In addition to environment light, there are a lot of light sources, e.g. from traffic light, etc.\n",
    "Here we are adding traffic light.\n",
    "This time, in addition to geometry, the light source inside are also added.\n",
    "add_scene method without only_geometry as True would add light sources inside."
   ]
  },
  {
   "cell_type": "code",
   "execution_count": null,
   "metadata": {
    "collapsed": false,
    "jupyter": {
     "outputs_hidden": false
    }
   },
   "outputs": [],
   "source": [
    "traffic_light_file = os.path.join(tests_data_path, \"TrafficLight.speos\", \"TrafficLight.speos\")\n",
    "traffic_light_scene = workflow.SpeosSimulationUpdate(speos, traffic_light_file, clean_dbs=False)\n",
    "\n",
    "my_scene_simu.add_scene(traffic_light_scene, env_position)\n",
    "my_scene_simu.preview()"
   ]
  },
  {
   "cell_type": "markdown",
   "metadata": {
    "collapsed": false,
    "jupyter": {
     "outputs_hidden": false
    }
   },
   "source": [
    "# Compute the second simulation"
   ]
  },
  {
   "cell_type": "code",
   "execution_count": null,
   "metadata": {
    "collapsed": false,
    "jupyter": {
     "outputs_hidden": false
    }
   },
   "outputs": [],
   "source": [
    "job_link_2 = my_scene_simu.compute(\"second_job\")\n",
    "print_message(job_link_2.get_results())"
   ]
  },
  {
   "cell_type": "markdown",
   "metadata": {
    "collapsed": false,
    "jupyter": {
     "outputs_hidden": false
    }
   },
   "source": [
    "Open and view the result file"
   ]
  },
  {
   "cell_type": "code",
   "execution_count": null,
   "metadata": {
    "collapsed": false,
    "jupyter": {
     "outputs_hidden": false
    }
   },
   "outputs": [],
   "source": [
    "speos_result_file = job_link_2.get_results().results[4].path\n",
    "open_file(speos_result_file)\n",
    "speos_result_file = job_link_2.get_results().results[1].path\n",
    "open_file(speos_result_file)"
   ]
  },
  {
   "cell_type": "code",
   "execution_count": null,
   "metadata": {
    "collapsed": false,
    "jupyter": {
     "outputs_hidden": false
    }
   },
   "outputs": [],
   "source": [
    "job_link_2.delete()"
   ]
  },
  {
   "cell_type": "markdown",
   "metadata": {
    "collapsed": false,
    "jupyter": {
     "outputs_hidden": false
    }
   },
   "source": [
    "# Move objects\n",
    "objects change their positions in reality.\n",
    "update_scene_part_position method is used to update object position."
   ]
  },
  {
   "cell_type": "code",
   "execution_count": null,
   "metadata": {
    "collapsed": false,
    "jupyter": {
     "outputs_hidden": false
    }
   },
   "outputs": [],
   "source": [
    "red_car_position_update = red_car_position\n",
    "red_car_position_update.origin = [0.0, 0.0, 48000]\n",
    "blue_car_position_update = blue_car_position\n",
    "blue_car_position_update.origin = [1984.87, 0, 30000]\n",
    "\n",
    "new_body_positions = {\n",
    "    red_car_scene.scene.get().name: red_car_position_update,\n",
    "    blue_car_scene.scene.get().name: blue_car_position_update,\n",
    "}\n",
    "my_scene_simu.update_scene_part_position(new_body_positions)"
   ]
  },
  {
   "cell_type": "markdown",
   "metadata": {
    "collapsed": false,
    "jupyter": {
     "outputs_hidden": false
    }
   },
   "source": [
    "Here are simulate a number of different positions to simulate a car moving on the road:\n",
    "Depending on the speed of car and frame number second of camera, the new position can be calculated:\n",
    "Let's assume the camera is 24 frames per second and car is moving at 30 miles per hour (13.4112 meters by second)\n",
    "Thus, between each frame, the distance is about 0.5m or 500 mm."
   ]
  },
  {
   "cell_type": "code",
   "execution_count": null,
   "metadata": {
    "collapsed": false,
    "jupyter": {
     "outputs_hidden": false
    }
   },
   "outputs": [],
   "source": [
    "blue_car_position_update = blue_car_position\n",
    "new_body_positions = {\n",
    "    blue_car_scene.scene.get().name: blue_car_position_update,\n",
    "}\n",
    "for frame in range(5):\n",
    "    blue_car_position_update.origin = [1984.87, 0, 30000 - 500 * frame ]\n",
    "    new_body_positions[blue_car_scene.scene.get().name] = blue_car_position_update\n",
    "    my_scene_simu.update_scene_part_position(new_body_positions)\n",
    "    job_link = my_scene_simu.compute(\"road_simulation_{}\".format(frame))\n",
    "    print_message(job_link.get_results())"
   ]
  },
  {
   "cell_type": "markdown",
   "metadata": {
    "collapsed": false,
    "jupyter": {
     "outputs_hidden": false
    }
   },
   "source": [
    "# Compute the modified simulation with GPU\n",
    "Note: a student license does not support GPU compute"
   ]
  },
  {
   "cell_type": "code",
   "execution_count": null,
   "metadata": {
    "collapsed": false,
    "jupyter": {
     "outputs_hidden": false
    }
   },
   "outputs": [],
   "source": [
    "job_link2 = my_scene_simu.compute(\"second_job\", compute_type=\"gpu\")\n",
    "print_message(job_link2.get_results())"
   ]
  },
  {
   "cell_type": "markdown",
   "metadata": {},
   "source": [
    "# Open and view the modified result file"
   ]
  },
  {
   "cell_type": "code",
   "execution_count": null,
   "metadata": {
    "collapsed": false,
    "jupyter": {
     "outputs_hidden": false
    }
   },
   "outputs": [],
   "source": [
    "speos_result_file = job_link2.get_results().results[4].path\n",
    "open_file(speos_result_file)\n",
    "speos_result_file = job_link2.get_results().results[1].path\n",
    "open_file(speos_result_file)"
   ]
  },
  {
   "cell_type": "code",
   "execution_count": null,
   "metadata": {},
   "outputs": [],
   "source": [
    "job_link2.delete()"
   ]
  },
  {
   "cell_type": "markdown",
   "metadata": {
    "collapsed": false,
    "jupyter": {
     "outputs_hidden": false
    }
   },
   "source": [
    "# Move the camera position\n",
    "Similarly, camera will also move.\n",
    "update_sensor method is used to update the position of camera."
   ]
  },
  {
   "cell_type": "code",
   "execution_count": null,
   "metadata": {
    "collapsed": false,
    "jupyter": {
     "outputs_hidden": false
    }
   },
   "outputs": [],
   "source": [
    "camera_props_update = workflow.CameraSensorProperties()\n",
    "camera_props_update.origin = [-2118.67, 1500.0, 21000.0]\n",
    "camera_props_update.x_vect = [-0.999694, 0.0, -0.0247255]\n",
    "camera_props_update.y_vect = [0.0, 1.0, 0.0]\n",
    "camera_props_update.z_vect = [0.0, 0.0, -1.0]\n",
    "\n",
    "my_scene_simu.update_sensor(camera_parameters, camera_props_update)"
   ]
  },
  {
   "cell_type": "markdown",
   "metadata": {
    "collapsed": false,
    "jupyter": {
     "outputs_hidden": false
    }
   },
   "source": [
    "# Compute the modified simulation\n",
    "Note: a student license does not support GPU compute"
   ]
  },
  {
   "cell_type": "code",
   "execution_count": null,
   "metadata": {
    "collapsed": false,
    "jupyter": {
     "outputs_hidden": false
    }
   },
   "outputs": [],
   "source": [
    "job_link3 = my_scene_simu.compute(\"third_job\", compute_type=\"gpu\")\n",
    "print_message(job_link3.get_results())"
   ]
  },
  {
   "cell_type": "markdown",
   "metadata": {
    "collapsed": false,
    "jupyter": {
     "outputs_hidden": false
    }
   },
   "source": [
    "# Open and view the modified simulation result files"
   ]
  },
  {
   "cell_type": "code",
   "execution_count": null,
   "metadata": {
    "collapsed": false,
    "jupyter": {
     "outputs_hidden": false
    }
   },
   "outputs": [],
   "source": [
    "speos_result_file = job_link3.get_results().results[4].path\n",
    "open_file(speos_result_file)\n",
    "speos_result_file = job_link3.get_results().results[1].path\n",
    "open_file(speos_result_file)"
   ]
  },
  {
   "cell_type": "code",
   "execution_count": null,
   "metadata": {},
   "outputs": [],
   "source": [
    "job_link3.delete()"
   ]
  },
  {
   "cell_type": "markdown",
   "metadata": {
    "collapsed": false,
    "jupyter": {
     "outputs_hidden": false
    }
   },
   "source": [
    "# Clean after usage"
   ]
  },
  {
   "cell_type": "code",
   "execution_count": null,
   "metadata": {
    "collapsed": false,
    "jupyter": {
     "outputs_hidden": false
    }
   },
   "outputs": [],
   "source": [
    "my_scene_simu.close()"
   ]
  }
 ],
 "metadata": {
  "kernelspec": {
   "display_name": "Python 3 (ipykernel)",
   "language": "python",
   "name": "python3"
  },
  "language_info": {
   "codemirror_mode": {
    "name": "ipython",
    "version": 3
   },
   "file_extension": ".py",
   "mimetype": "text/x-python",
   "name": "python",
   "nbconvert_exporter": "python",
   "pygments_lexer": "ipython3",
   "version": "3.10.11"
  }
 },
 "nbformat": 4,
 "nbformat_minor": 4
}
