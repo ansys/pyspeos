{
 "cells": [
  {
   "cell_type": "markdown",
   "metadata": {},
   "source": [
    "Needed imports and utility"
   ]
  },
  {
   "cell_type": "code",
   "execution_count": null,
   "metadata": {},
   "outputs": [],
   "source": [
    "import os\n",
    "import ansys.speos.script as script\n",
    "import ansys.speos.core as core\n",
    "\n",
    "tests_data_path = os.path.join(os.path.join(os.path.abspath(''), os.path.pardir), \"assets\")\n",
    "\n",
    "def clean_all_dbs(speos_client: core.SpeosClient):\n",
    "    for item in (\n",
    "        speos_client.jobs().list()\n",
    "        + speos_client.scenes().list()\n",
    "        + speos_client.simulation_templates().list()\n",
    "        + speos_client.sensor_templates().list()\n",
    "        + speos_client.source_templates().list()\n",
    "        + speos_client.intensity_templates().list()\n",
    "        + speos_client.spectrums().list()\n",
    "        + speos_client.vop_templates().list()\n",
    "        + speos_client.sop_templates().list()\n",
    "        + speos_client.parts().list()\n",
    "        + speos_client.bodies().list()\n",
    "        + speos_client.faces().list()\n",
    "    ):\n",
    "        item.delete()\n",
    "\n",
    "tests_data_path = os.path.join(os.path.join(os.path.abspath(''), os.path.pardir), \"assets\")"
   ]
  },
  {
   "cell_type": "markdown",
   "metadata": {},
   "source": [
    "Create connection with speos rpc server"
   ]
  },
  {
   "cell_type": "code",
   "execution_count": null,
   "metadata": {},
   "outputs": [],
   "source": [
    "speos = core.Speos(host=\"localhost\", port=50051)\n",
    "clean_all_dbs(speos.client)"
   ]
  },
  {
   "cell_type": "markdown",
   "metadata": {},
   "source": [
    "New project"
   ]
  },
  {
   "cell_type": "code",
   "execution_count": null,
   "metadata": {},
   "outputs": [],
   "source": [
    "p = script.Project(speos=speos)\n",
    "print(p)"
   ]
  },
  {
   "cell_type": "markdown",
   "metadata": {},
   "source": [
    "# PreRequisites\n",
    "\n",
    "Sensor, source, root part are prerequisites."
   ]
  },
  {
   "cell_type": "code",
   "execution_count": null,
   "metadata": {},
   "outputs": [],
   "source": [
    "root_part = p.create_root_part()\n",
    "root_part.create_body(name=\"Body.1\").create_face(name=\"Face.1\").set_vertices([0, 1, 2, 0, 2, 2, 1, 2, 2])\\\n",
    "                                                               .set_facets([0, 1, 2])\\\n",
    "                                                               .set_normals([0, 0, 1, 0, 0, 1, 0, 0, 1])\n",
    "root_part.commit()\n",
    "\n",
    "sensor1 = p.create_sensor(name=\"Irradiance.1\")\n",
    "sensor1.set_irradiance().set_type_colorimetric() # colorimetric or spectral so that the sensor can be used both in direct and inverse simulation\n",
    "sensor1.commit()\n",
    "\n",
    "source1 = p.create_source(name=\"Surface.1\")\n",
    "source1.set_surface().set_exitance_constant(geometries=[(script.GeoRef.from_native_link(geopath=\"Body.1/Face.1\"), True)])\n",
    "source1.set_surface().set_spectrum().set_blackbody() # blackbody so that the source can be used both in direct and inverse simulation\n",
    "source1.commit()\n",
    "\n"
   ]
  },
  {
   "cell_type": "markdown",
   "metadata": {},
   "source": [
    "# Create\n",
    "Create locally  \n",
    "The mention \"local: \" is added when printing the simulation"
   ]
  },
  {
   "cell_type": "code",
   "execution_count": null,
   "metadata": {},
   "outputs": [],
   "source": [
    "simulation1 = p.create_simulation(name=\"Simulation.1\")\n",
    "simulation1.set_direct()\n",
    "simulation1.set_sensor_paths([\"Irradiance.1\"]).set_source_paths([\"Surface.1\"])\n",
    "print(simulation1)"
   ]
  },
  {
   "cell_type": "markdown",
   "metadata": {},
   "source": [
    "Push it to the server.  \n",
    "Now that it is committed to the server, the mention \"local: \" is no more present when printing the simulation1."
   ]
  },
  {
   "cell_type": "code",
   "execution_count": null,
   "metadata": {},
   "outputs": [],
   "source": [
    "simulation1.commit()\n",
    "print(simulation1)"
   ]
  },
  {
   "cell_type": "markdown",
   "metadata": {},
   "source": [
    "Another example by setting several characteristics"
   ]
  },
  {
   "cell_type": "code",
   "execution_count": null,
   "metadata": {},
   "outputs": [],
   "source": [
    "simulation2 = p.create_simulation(name=\"Simulation.2\")\n",
    "\n",
    "simulation2_direct = simulation2.set_direct()\n",
    "simulation2_direct  .set_ambient_material_file_uri(uri=os.path.join(tests_data_path, \"AIR.material\"))\\\n",
    "                    .set_colorimetric_standard_CIE_1964()\\\n",
    "                    .set_weight_none()\\\n",
    "                    .set_geom_distance_tolerance(0.01)\\\n",
    "                    .set_max_impact(200)\\\n",
    "                    .set_fast_transmission_gathering()\\\n",
    "                    .set_dispersion(False)\n",
    "simulation2.set_sensor_paths([\"Irradiance.1\"]).set_source_paths([\"Surface.1\"]).commit()\n",
    "print(simulation2)"
   ]
  },
  {
   "cell_type": "markdown",
   "metadata": {},
   "source": [
    "## Default values\n",
    "Some default values are available when applicable in every methods and class."
   ]
  },
  {
   "cell_type": "markdown",
   "metadata": {},
   "source": [
    "# Read\n",
    "## Simulation Instance\n",
    "A mention \"local: \" is added if it is not yet committed to the server"
   ]
  },
  {
   "cell_type": "code",
   "execution_count": null,
   "metadata": {},
   "outputs": [],
   "source": [
    "print(simulation1)"
   ]
  },
  {
   "cell_type": "markdown",
   "metadata": {},
   "source": [
    "# Project"
   ]
  },
  {
   "cell_type": "code",
   "execution_count": null,
   "metadata": {},
   "outputs": [],
   "source": [
    "print(p)"
   ]
  },
  {
   "cell_type": "markdown",
   "metadata": {},
   "source": [
    "# Update\n",
    "Tipp: if you are manipulating a simulation already committed, don't forget to commit your changes.  \n",
    "If you don't, you will still only watch what is committed on the server."
   ]
  },
  {
   "cell_type": "code",
   "execution_count": null,
   "metadata": {},
   "outputs": [],
   "source": [
    "simulation1.set_direct().set_ambient_material_file_uri(uri=os.path.join(tests_data_path, \"AIR.material\"))\n",
    "simulation1.commit()\n",
    "print(simulation1)"
   ]
  },
  {
   "cell_type": "markdown",
   "metadata": {},
   "source": [
    "## Reset\n",
    "Possibility to reset local values from the one available in the server."
   ]
  },
  {
   "cell_type": "code",
   "execution_count": null,
   "metadata": {},
   "outputs": [],
   "source": [
    "simulation1.set_inverse() # set inverse but no commit\n",
    "simulation1.reset() # reset -> this will apply the server value to the local value\n",
    "simulation1.delete() # delete (to display the local value with the below print)\n",
    "print(simulation1)"
   ]
  },
  {
   "cell_type": "markdown",
   "metadata": {},
   "source": [
    "# Delete\n",
    "Once the data is deleted from the server, you can still work with local data and maybe commit later."
   ]
  },
  {
   "cell_type": "code",
   "execution_count": null,
   "metadata": {},
   "outputs": [],
   "source": [
    "simulation2.delete()\n",
    "print(simulation2)"
   ]
  },
  {
   "cell_type": "code",
   "execution_count": null,
   "metadata": {},
   "outputs": [],
   "source": [
    "print(p)"
   ]
  },
  {
   "cell_type": "code",
   "execution_count": null,
   "metadata": {},
   "outputs": [],
   "source": [
    "simulation1.delete()"
   ]
  },
  {
   "cell_type": "markdown",
   "metadata": {},
   "source": [
    "# More content\n",
    "## Inverse Simulation "
   ]
  },
  {
   "cell_type": "code",
   "execution_count": null,
   "metadata": {},
   "outputs": [],
   "source": [
    "simulation3 = p.create_simulation(name=\"Simulation.3\")\n",
    "simulation3.set_inverse()\n",
    "simulation3.set_sensor_paths(sensor_paths=[\"Irradiance.1\"]).set_source_paths(source_paths=[\"Surface.1\"]).commit()\n",
    "print(simulation3)"
   ]
  },
  {
   "cell_type": "markdown",
   "metadata": {},
   "source": [
    "## Interactive"
   ]
  },
  {
   "cell_type": "code",
   "execution_count": null,
   "metadata": {},
   "outputs": [],
   "source": [
    "simulation4 = p.create_simulation(name=\"Simulation.4\")\n",
    "simulation4.set_interactive()\n",
    "simulation4.set_source_paths(source_paths=[\"Surface.1\"]).commit()\n",
    "print(simulation4)"
   ]
  },
  {
   "cell_type": "markdown",
   "metadata": {},
   "source": [
    "# Cleanup"
   ]
  },
  {
   "cell_type": "code",
   "execution_count": null,
   "metadata": {},
   "outputs": [],
   "source": [
    "clean_all_dbs(speos.client)"
   ]
  }
 ],
 "metadata": {
  "kernelspec": {
   "display_name": ".venv",
   "language": "python",
   "name": "python3"
  },
  "language_info": {
   "codemirror_mode": {
    "name": "ipython",
    "version": 3
   },
   "file_extension": ".py",
   "mimetype": "text/x-python",
   "name": "python",
   "nbconvert_exporter": "python",
   "pygments_lexer": "ipython3",
   "version": "3.10.12"
  }
 },
 "nbformat": 4,
 "nbformat_minor": 2
}
