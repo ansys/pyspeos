{
 "cells": [
  {
   "cell_type": "code",
   "execution_count": null,
   "metadata": {
    "ExecuteTime": {
     "end_time": "2024-12-10T15:12:18.071420Z",
     "start_time": "2024-12-10T15:12:14.689013Z"
    }
   },
   "outputs": [],
   "source": [
    "import shutil\n",
    "import math\n",
    "import numpy as np\n",
    "import os\n",
    "import ansys.speos.core as core\n",
    "import ansys.speos.script as script\n",
    "\n",
    "\n",
    "def clean_all_dbs(speos_client: core.SpeosClient):\n",
    "    for item in (\n",
    "        speos_client.jobs().list()\n",
    "        + speos_client.scenes().list()\n",
    "        + speos_client.simulation_templates().list()\n",
    "        + speos_client.sensor_templates().list()\n",
    "        + speos_client.source_templates().list()\n",
    "        + speos_client.intensity_templates().list()\n",
    "        + speos_client.spectrums().list()\n",
    "        + speos_client.vop_templates().list()\n",
    "        + speos_client.sop_templates().list()\n",
    "        + speos_client.parts().list()\n",
    "        + speos_client.bodies().list()\n",
    "        + speos_client.faces().list()\n",
    "    ):\n",
    "        item.delete()\n",
    "\n",
    "def rotation_matrix(theta, phi, coordinate):\n",
    "    theta_rad = theta* math.pi/180\n",
    "    phi_rad = phi*math.pi/180\n",
    "    rotation_phi = np.array([\n",
    "        [math.cos(phi_rad), -math.sin(phi_rad), 0],\n",
    "        [math.sin(phi_rad), math.cos(phi_rad), 0],\n",
    "        [0, 0, 1]\n",
    "    ])\n",
    "    rotation_theta = np.array([\n",
    "        [1, 0, 0],\n",
    "        [0, math.cos(theta_rad), -math.sin(theta_rad)],\n",
    "        [0, math.sin(theta_rad), math.cos(theta_rad)],\n",
    "    ])\n",
    "    return np.matmul(rotation_theta, np.matmul(rotation_phi, coordinate))\n",
    "\n",
    "def rotate_face(face, theta_degree, phi_degree):\n",
    "    temp_face_vertices = face._face.vertices\n",
    "    temp_face_vertices = np.array(temp_face_vertices).reshape((-1,3))\n",
    "    new_face_vertices = [rotation_matrix(theta_degree, phi_degree, item) for item in temp_face_vertices]\n",
    "    new_face_vertices = np.array(new_face_vertices).reshape((1,-1)).tolist()[0]\n",
    "\n",
    "    temp_face_normals = face._face.normals\n",
    "    temp_face_normals = np.array(temp_face_normals).reshape((-1,3))\n",
    "    new_face_normals = [rotation_matrix(theta_degree, phi_degree, item) for item in temp_face_normals]\n",
    "    new_face_normals = np.array(new_face_normals).reshape((1,-1)).tolist()[0]\n",
    "    # new_face_normals = [round(item, 3) for item in new_face_normals]\n",
    "\n",
    "    face.set_vertices(new_face_vertices)\n",
    "    face.set_normals(new_face_normals)\n",
    "    face.commit()\n",
    "\n",
    "tests_data_path = os.path.join(os.path.abspath(''), os.path.pardir, \"assets\")"
   ]
  },
  {
   "cell_type": "code",
   "execution_count": null,
   "metadata": {
    "ExecuteTime": {
     "end_time": "2024-12-10T15:12:18.071420Z",
     "start_time": "2024-12-10T15:12:14.689013Z"
    }
   },
   "outputs": [],
   "source": [
    "speos = core.Speos(host=\"localhost\", port=50098)\n",
    "clean_all_dbs(speos_client=speos.client)"
   ]
  },
  {
   "cell_type": "code",
   "execution_count": null,
   "metadata": {
    "ExecuteTime": {
     "end_time": "2024-12-10T15:12:22.292035Z",
     "start_time": "2024-12-10T15:12:18.076433Z"
    },
    "collapsed": false,
    "jupyter": {
     "outputs_hidden": false
    }
   },
   "outputs": [],
   "source": [
    "project = script.Project(speos=speos, path=os.path.join(tests_data_path,\"Washout_study\",\"washout_study.speos\")\n",
    "project.preview()"
   ]
  },
  {
   "cell_type": "code",
   "execution_count": null,
   "metadata": {
    "ExecuteTime": {
     "end_time": "2024-12-10T15:17:18.154679Z",
     "start_time": "2024-12-10T15:16:13.330130Z"
    },
    "collapsed": false,
    "jupyter": {
     "outputs_hidden": false
    }
   },
   "outputs": [],
   "source": [
    "simu = project.find(name=\"washout\", name_regex=True, feature_type=script.simulation.Inverse)[0]\n",
    "source_face = project.find(name=\"RootPart/sun_surface:3186726592/face.1:1968921392\")[0]\n",
    "step_size = 30\n",
    "for i in range(int(90/step_size)):\n",
    "    rotate_face(face=source_face, theta_degree=-step_size, phi_degree=0)\n",
    "    res = simu.compute_CPU()\n",
    "    print(res[1].path)\n",
    "    shutil.copy(res[1].path, \"D:\\\\test_{}.html\".format(str(i)))"
   ]
  }
 ],
 "metadata": {
  "kernelspec": {
   "display_name": "Python 3 (ipykernel)",
   "language": "python",
   "name": "python3"
  },
  "language_info": {
   "codemirror_mode": {
    "name": "ipython",
    "version": 3
   },
   "file_extension": ".py",
   "mimetype": "text/x-python",
   "name": "python",
   "nbconvert_exporter": "python",
   "pygments_lexer": "ipython3",
   "version": "3.10.11"
  }
 },
 "nbformat": 4,
 "nbformat_minor": 4
}
