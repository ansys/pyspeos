{
 "cells": [
  {
   "cell_type": "code",
   "metadata": {
    "collapsed": true,
    "ExecuteTime": {
     "end_time": "2024-12-10T15:12:18.071420Z",
     "start_time": "2024-12-10T15:12:14.689013Z"
    }
   },
   "source": [
    "import shutil\n",
    "from ansys.speos import core\n",
    "import ansys.speos.script as script\n",
    "from ansys.speos.core import Speos\n",
    "import math\n",
    "import numpy as np\n",
    "\n",
    "\n",
    "def clean_all_dbs(speos_client: core.SpeosClient):\n",
    "    for item in (\n",
    "        speos_client.jobs().list()\n",
    "        + speos_client.scenes().list()\n",
    "        + speos_client.simulation_templates().list()\n",
    "        + speos_client.sensor_templates().list()\n",
    "        + speos_client.source_templates().list()\n",
    "        + speos_client.intensity_templates().list()\n",
    "        + speos_client.spectrums().list()\n",
    "        + speos_client.vop_templates().list()\n",
    "        + speos_client.sop_templates().list()\n",
    "        + speos_client.parts().list()\n",
    "        + speos_client.bodies().list()\n",
    "        + speos_client.faces().list()\n",
    "    ):\n",
    "        item.delete()\n",
    "\n",
    "def rotation_matrix(theta, phi, coordinate):\n",
    "    theta_rad = theta* math.pi/180\n",
    "    phi_rad = phi*math.pi/180\n",
    "    rotation_phi = np.array([\n",
    "        [math.cos(phi_rad), -math.sin(phi_rad), 0],\n",
    "        [math.sin(phi_rad), math.cos(phi_rad), 0],\n",
    "        [0, 0, 1]\n",
    "    ])\n",
    "    rotation_theta = np.array([\n",
    "        [1, 0, 0],\n",
    "        [0, math.cos(theta_rad), -math.sin(theta_rad)],\n",
    "        [0, math.sin(theta_rad), math.cos(theta_rad)],\n",
    "    ])\n",
    "    return np.matmul(rotation_theta, np.matmul(rotation_phi, coordinate))\n",
    "\n",
    "def rotate_face(face, theta_degree, phi_degree):\n",
    "    temp_face_vertices = face._face.vertices\n",
    "    temp_face_vertices = np.array(temp_face_vertices).reshape((-1,3))\n",
    "    new_face_vertices = [rotation_matrix(theta_degree, phi_degree, item) for item in temp_face_vertices]\n",
    "    new_face_vertices = np.array(new_face_vertices).reshape((1,-1)).tolist()[0]\n",
    "\n",
    "    temp_face_normals = face._face.normals\n",
    "    temp_face_normals = np.array(temp_face_normals).reshape((-1,3))\n",
    "    new_face_normals = [rotation_matrix(theta_degree, phi_degree, item) for item in temp_face_normals]\n",
    "    new_face_normals = np.array(new_face_normals).reshape((1,-1)).tolist()[0]\n",
    "    # new_face_normals = [round(item, 3) for item in new_face_normals]\n",
    "\n",
    "    face.set_vertices(new_face_vertices)\n",
    "    face.set_normals(new_face_normals)\n",
    "    face.commit()\n",
    "\n",
    "\n",
    "speos = Speos(host=\"localhost\", port=50052)\n",
    "clean_all_dbs(speos_client=speos.client)"
   ],
   "outputs": [],
   "execution_count": 19
  },
  {
   "cell_type": "code",
   "source": [
    "project = script.Project(speos=speos, path=r\"D:\\Demo\\Automotive Photonics\\OneDrive_2_17-06-2024\\AS 2020R1 - SUV GENERIC CAR\\SPEOS isolated files\\SUV_GENERIC_CAR_241\\washout_study.speos\\washout_study.speos\")\n",
    "project.preview()"
   ],
   "metadata": {
    "collapsed": false,
    "ExecuteTime": {
     "end_time": "2024-12-10T15:12:22.292035Z",
     "start_time": "2024-12-10T15:12:18.076433Z"
    }
   },
   "outputs": [
    {
     "data": {
      "text/plain": [
       "Widget(value='<iframe src=\"http://localhost:60464/index.html?ui=P_0x25debcedd50_4&reconnect=auto\" class=\"pyvis…"
      ],
      "application/vnd.jupyter.widget-view+json": {
       "version_major": 2,
       "version_minor": 0,
       "model_id": "09bbf395159840b787a51a3aa2547c56"
      }
     },
     "metadata": {},
     "output_type": "display_data"
    }
   ],
   "execution_count": 20
  },
  {
   "cell_type": "code",
   "source": [
    "simu = project.find(name=\"washout\", name_regex=True, feature_type=script.simulation.Inverse)[0]\n",
    "source_face = project.find(name=\"RootPart/sun_surface:3186726592/face.1:1968921392\")[0]\n",
    "step_size = 30\n",
    "for i in range(int(90/step_size)):\n",
    "    rotate_face(face=source_face, theta_degree=-step_size, phi_degree=0)\n",
    "    res = simu.compute_CPU()\n",
    "    print(res[1].path)\n",
    "    shutil.copy(res[1].path, \"D:\\\\test_{}.html\".format(str(i)))"
   ],
   "metadata": {
    "collapsed": false,
    "ExecuteTime": {
     "end_time": "2024-12-10T15:17:18.154679Z",
     "start_time": "2024-12-10T15:16:13.330130Z"
    }
   },
   "outputs": [
    {
     "name": "stdout",
     "output_type": "stream",
     "text": [
      "C:\\Users\\plu\\AppData\\Local\\Temp\\jobs\\528cfd42-21e5-4f8b-8a04-76addc98527f\\washout_study.html\n",
      "C:\\Users\\plu\\AppData\\Local\\Temp\\jobs\\9e61cc08-cfc2-4934-9ce4-8fa692186864\\washout_study.html\n",
      "C:\\Users\\plu\\AppData\\Local\\Temp\\jobs\\11098a8b-159d-4a60-b8e8-aec42318cf2d\\washout_study.html\n"
     ]
    }
   ],
   "execution_count": 24
  }
 ],
 "metadata": {
  "kernelspec": {
   "display_name": "Python 3",
   "language": "python",
   "name": "python3"
  },
  "language_info": {
   "codemirror_mode": {
    "name": "ipython",
    "version": 2
   },
   "file_extension": ".py",
   "mimetype": "text/x-python",
   "name": "python",
   "nbconvert_exporter": "python",
   "pygments_lexer": "ipython2",
   "version": "2.7.6"
  }
 },
 "nbformat": 4,
 "nbformat_minor": 0
}
