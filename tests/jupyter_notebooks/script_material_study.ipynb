{
 "cells": [
  {
   "cell_type": "code",
   "metadata": {
    "collapsed": true,
    "ExecuteTime": {
     "end_time": "2024-12-12T23:44:15.031690Z",
     "start_time": "2024-12-12T23:44:14.954183Z"
    }
   },
   "source": [
    "import ansys.speos.script as script\n",
    "from ansys.speos.core import Speos\n",
    "from ansys.speos import core\n",
    "\n",
    "def clean_all_dbs(speos_client: core.SpeosClient):\n",
    "    for item in (\n",
    "        speos_client.jobs().list()\n",
    "        + speos_client.scenes().list()\n",
    "        + speos_client.simulation_templates().list()\n",
    "        + speos_client.sensor_templates().list()\n",
    "        + speos_client.source_templates().list()\n",
    "        + speos_client.intensity_templates().list()\n",
    "        + speos_client.spectrums().list()\n",
    "        + speos_client.vop_templates().list()\n",
    "        + speos_client.sop_templates().list()\n",
    "        + speos_client.parts().list()\n",
    "        + speos_client.bodies().list()\n",
    "        + speos_client.faces().list()\n",
    "    ):\n",
    "        item.delete()\n",
    "\n",
    "speos = Speos(host=\"localhost\", port=50052)\n",
    "clean_all_dbs(speos_client=speos.client)"
   ],
   "outputs": [],
   "execution_count": 14
  },
  {
   "metadata": {},
   "cell_type": "markdown",
   "source": [
    "Create connection with Speos rpc server.\n",
    "Load Speos model and check the names of material properties using find_key method"
   ]
  },
  {
   "cell_type": "code",
   "source": [
    "project = script.Project(speos=speos, path=\"D:\\Library\\ASP - OptisSphere\\SPEOS isolated files\\OptisSphere_24R1\\Inverse Studio environment.1.speos\\Inverse Studio environment.1.speos\")\n",
    "print(project.find_key(key=\"materials\"))"
   ],
   "metadata": {
    "collapsed": false,
    "ExecuteTime": {
     "end_time": "2024-12-12T23:44:38.843827Z",
     "start_time": "2024-12-12T23:44:15.035701Z"
    }
   },
   "outputs": [
    {
     "name": "stdout",
     "output_type": "stream",
     "text": [
      "[('.materials', [{'name': 'Material.1', 'metadata': {'UniqueId': '96b32928-4bc8-48c5-b2fa-7d918f99486b'}, 'sop_guids': ['d771c3c6-177a-497e-b00f-285438dcbbbf'], 'geometries': {'geo_paths': ['11:4237121414/face.1:673878176']}, 'description': '', 'sops': [{'library': {'sop_file_uri': 'D:\\\\Library\\\\ASP - OptisSphere\\\\SPEOS isolated files\\\\OptisSphere_24R1\\\\Inverse Studio environment.1.speos\\\\xCC11_98b0-340c-5ec8-e167..brdf'}, 'name': '', 'description': '', 'metadata': {}}]}, {'name': 'Material.2', 'metadata': {'UniqueId': '7296ca32-5008-4ba5-936d-5df4cf6417eb'}, 'sop_guids': ['9d8466b9-1271-49cc-a63d-7411faaba639'], 'geometries': {'geo_paths': ['B:1375250088/face.1:620261063', 'Blue:3636290210/face.1:168104266']}, 'description': '', 'sops': [{'library': {'sop_file_uri': 'D:\\\\Library\\\\ASP - OptisSphere\\\\SPEOS isolated files\\\\OptisSphere_24R1\\\\Inverse Studio environment.1.speos\\\\xCC13_4dec-e4e1-b933-4cb7..brdf'}, 'name': '', 'description': '', 'metadata': {}}]}, {'name': 'Material.3', 'metadata': {'UniqueId': '0cf2c54f-549b-47d3-b476-85ebe36ff93b'}, 'sop_guids': ['d65eed3a-d6a0-438b-8f8f-cd719e5aee25'], 'geometries': {'geo_paths': ['7:3061890197/face.1:2138935081']}, 'description': '', 'sops': [{'library': {'sop_file_uri': 'D:\\\\Library\\\\ASP - OptisSphere\\\\SPEOS isolated files\\\\OptisSphere_24R1\\\\Inverse Studio environment.1.speos\\\\xCC07_b34f-5f5c-0a02-7db3..brdf'}, 'name': '', 'description': '', 'metadata': {}}]}, {'name': 'Material.4', 'metadata': {'UniqueId': '5b53d1ca-e5e8-4e11-8b70-35bc87fd81f7'}, 'sop_guids': ['3222da5c-8947-4123-b639-70cc67eda962'], 'geometries': {'geo_paths': ['8:3577162206/face.1:2356683869']}, 'description': '', 'sops': [{'library': {'sop_file_uri': 'D:\\\\Library\\\\ASP - OptisSphere\\\\SPEOS isolated files\\\\OptisSphere_24R1\\\\Inverse Studio environment.1.speos\\\\xCC08_e2ee-3328-e455-8020..brdf'}, 'name': '', 'description': '', 'metadata': {}}]}, {'name': 'Material.5', 'metadata': {'UniqueId': '9403f08b-f261-4096-b166-df48b56cccc1'}, 'sop_guids': ['74d43bf0-2045-45c2-b586-dc60edc18933'], 'geometries': {'geo_paths': ['9:4113915752/face.1:3923915091']}, 'description': '', 'sops': [{'library': {'sop_file_uri': 'D:\\\\Library\\\\ASP - OptisSphere\\\\SPEOS isolated files\\\\OptisSphere_24R1\\\\Inverse Studio environment.1.speos\\\\xCC09_9a66-6112-d07f-ba55..brdf'}, 'name': '', 'description': '', 'metadata': {}}]}, {'name': 'Material.6', 'metadata': {'UniqueId': 'fb24fada-d737-43b6-9a29-7c1a54f19a63'}, 'sop_guids': ['21bbcad9-6907-4f72-86a2-6103c91cd543'], 'geometries': {'geo_paths': ['Spot:3716459362/face.1:1077671641']}, 'description': '', 'sops': [{'library': {'sop_file_uri': 'D:\\\\Library\\\\ASP - OptisSphere\\\\SPEOS isolated files\\\\OptisSphere_24R1\\\\Inverse Studio environment.1.speos\\\\Lambertian Grey50_089d-941f-70d8-a170..scattering'}, 'name': '', 'description': '', 'metadata': {}}]}, {'name': 'Material.7', 'metadata': {'UniqueId': '10c7e917-53fb-4db0-9e4c-8b29f29e6f62'}, 'sop_guids': ['a1a6c666-7408-42ed-a6d8-d2ce05fef92f'], 'geometries': {'geo_paths': ['12:4226888391/face.1:1303414190']}, 'description': '', 'sops': [{'library': {'sop_file_uri': 'D:\\\\Library\\\\ASP - OptisSphere\\\\SPEOS isolated files\\\\OptisSphere_24R1\\\\Inverse Studio environment.1.speos\\\\xCC12_0479-0c5f-cd2f-0d19..brdf'}, 'name': '', 'description': '', 'metadata': {}}]}, {'name': 'Material.8', 'metadata': {'UniqueId': '802cf5ae-bd24-463f-985c-cfcb4c595314'}, 'sop_guids': ['9018fc87-69cf-48df-9a96-31740ca9e072'], 'geometries': {'geo_paths': ['10:431235976/face.1:2691115660']}, 'description': '', 'sops': [{'library': {'sop_file_uri': 'D:\\\\Library\\\\ASP - OptisSphere\\\\SPEOS isolated files\\\\OptisSphere_24R1\\\\Inverse Studio environment.1.speos\\\\xCC10_56e8-0ecb-7317-ba1a..brdf'}, 'name': '', 'description': '', 'metadata': {}}]}, {'name': 'Material.9', 'metadata': {'UniqueId': '85097d92-7731-4264-8544-567d1fd6d392'}, 'sop_guids': ['c1b236bd-e55c-4f1b-a264-6dda01f8a053'], 'geometries': {'geo_paths': ['MainSphere:239178105/face.1:453006140', 'Lens:3095574698/face.1:701323707']}, 'description': '', 'sops': [{'optical_polished': {}, 'name': '', 'description': '', 'metadata': {}}]}, {'name': 'Material.10', 'metadata': {'UniqueId': '8c9b9827-54cc-42c0-84e2-83d80399056e'}, 'sop_guids': ['2af3d34c-f3f1-4785-9f11-68c6d522c72f'], 'geometries': {'geo_paths': ['C:2662135836/face.1:126771773']}, 'description': '', 'sops': [{'library': {'sop_file_uri': 'D:\\\\Library\\\\ASP - OptisSphere\\\\SPEOS isolated files\\\\OptisSphere_24R1\\\\Inverse Studio environment.1.speos\\\\xCC18_91c8-7705-a5b5-cfd5..brdf'}, 'name': '', 'description': '', 'metadata': {}}]}, {'name': 'Material.11', 'metadata': {'UniqueId': 'a71a3d1b-e862-4b11-8052-4e0077b16dd1'}, 'sop_guids': ['9fdaa589-4de6-45e7-9569-71e92b937f7a'], 'geometries': {'geo_paths': ['Green:3085735679/face.1:1544258515', 'G:2138918097/face.1:372597824']}, 'description': '', 'sops': [{'library': {'sop_file_uri': 'D:\\\\Library\\\\ASP - OptisSphere\\\\SPEOS isolated files\\\\OptisSphere_24R1\\\\Inverse Studio environment.1.speos\\\\xCC14_a9ee-8964-08d2-8784..brdf'}, 'name': '', 'description': '', 'metadata': {}}]}, {'name': 'Material.12', 'metadata': {'UniqueId': '6b6d22a0-2818-4cdd-8b2d-909849606504'}, 'sop_guids': ['777a60b2-7f32-4a39-ab07-7b65dc437f8c'], 'geometries': {'geo_paths': ['Y:1861352450/face.1:2917947899']}, 'description': '', 'sops': [{'library': {'sop_file_uri': 'D:\\\\Library\\\\ASP - OptisSphere\\\\SPEOS isolated files\\\\OptisSphere_24R1\\\\Inverse Studio environment.1.speos\\\\xCC16_0681-f9c2-caaf-a51a..brdf'}, 'name': '', 'description': '', 'metadata': {}}]}, {'name': 'Material.13', 'metadata': {'UniqueId': '178e52df-f373-43fe-871c-9b7569462835'}, 'sop_guids': ['abd138d3-3ae0-45fa-9a85-4943bf4a1829'], 'geometries': {'geo_paths': ['R:1635138390/face.1:695410096', 'Red:2597378718/face.1:2180208426']}, 'description': '', 'sops': [{'library': {'sop_file_uri': 'D:\\\\Library\\\\ASP - OptisSphere\\\\SPEOS isolated files\\\\OptisSphere_24R1\\\\Inverse Studio environment.1.speos\\\\xCC15_5e3d-9f13-4327-c94d..brdf'}, 'name': '', 'description': '', 'metadata': {}}]}, {'name': 'Material.14', 'metadata': {'UniqueId': '364acef1-4da8-4037-baf8-d7631ff93931'}, 'sop_guids': ['1741e8e0-eac0-48d8-8aa1-22557abc13fc'], 'geometries': {'geo_paths': ['M:920591031/face.1:2116289081']}, 'description': '', 'sops': [{'library': {'sop_file_uri': 'D:\\\\Library\\\\ASP - OptisSphere\\\\SPEOS isolated files\\\\OptisSphere_24R1\\\\Inverse Studio environment.1.speos\\\\xCC17_a3fe-f623-2b9c-1c12..brdf'}, 'name': '', 'description': '', 'metadata': {}}]}, {'name': 'Material.15', 'metadata': {'UniqueId': '55c15b61-082b-4aee-98e8-e2def3cb615c'}, 'sop_guids': ['50551ab1-8228-4bad-b459-1e7ba6a2dc0b'], 'geometries': {'geo_paths': ['MainSphere:239178105/face.1:1307739057', 'MainSphere:239178105/face.1:2917132112', 'MainSphere:239178105/face.1:4214044637', 'MainSphere:239178105/face.1:3736529935', 'Lens:3095574698/face.1:3170253052', 'Lens:3095574698/face.1:3386916186', 'Circle:1265515788/face.1:924802541', 'Circle:1265515788/face.1:3610392844', 'Circle:1265515788/face.1:4071219934', 'Circle:1265515788/face.1:2617609896', 'Circle:1265515788/face.1:3749837530', 'Circle:1265515788/face.1:1171495350', 'Circle:1265515788/face.1:2494975358', 'Circle:1265515788/face.1:818256912', 'Circle:1265515788/face.1:358500290', 'Circle:1265515788/face.1:4117963555', 'Circle:1265515788/face.1:3584159972', 'Circle:1265515788/face.1:898405381', 'Prism:97154556/face.1:87107074', 'Prism:97154556/face.1:1805470324', 'Prism:97154556/face.1:1881613220', 'Prism:97154556/face.1:3933552840', 'Prism:97154556/face.1:2175877432', 'Prism:97154556/face.1:2754255594', 'Prism:97154556/face.1:1141374475', 'Prism:97154556/face.1:3510411084', 'Prism:97154556/face.1:823262125', 'Prism:97154556/face.1:344596607', 'Prism:97154556/face.1:1122642211', 'Prism:97154556/face.1:3635956303', 'Marble:944456256/face.1:2577538961', 'Marble:944456256/face.1:2039446384', 'ThickSample:1326646297/face.1:1181246970', 'ThickSample:1326646297/face.1:2534256946', 'ThickSample:1326646297/face.1:766272522', 'ThickSample:1326646297/face.1:137871320', 'ThickSample:1326646297/face.1:3894074169', 'ThickSample:1326646297/face.1:2099362430', 'ThickSample:1326646297/face.1:2634866335', 'ThickSample:1326646297/face.1:3096905037', 'ThickSample:1326646297/face.1:3594217787', 'ThickSample:1326646297/face.1:4009167889', 'ThickSample:1326646297/face.1:1956999037', 'ThickSample:1326646297/face.1:2780871605']}, 'description': '', 'sops': [{'library': {'sop_file_uri': 'D:\\\\Library\\\\ASP - OptisSphere\\\\SPEOS isolated files\\\\OptisSphere_24R1\\\\Inverse Studio environment.1.speos\\\\NobleChrome_c220-22f0-b3b9-808e..brdf'}, 'name': '', 'description': '', 'metadata': {}}]}, {'name': 'Material.16', 'metadata': {'UniqueId': 'f941d06a-7e66-4d1a-8bd7-35eb53fbf73c'}, 'sop_guids': ['c0e79d26-25a4-4639-802f-25b85c3ac5dd'], 'geometries': {'geo_paths': ['Prism:97154556/face.1:990942208', 'Prism:97154556/face.1:2049330185']}, 'description': '', 'sops': [{'mirror': {'reflectance': 70.0}, 'name': '', 'description': '', 'metadata': {}}]}, {'name': 'Material.17', 'metadata': {'UniqueId': '2c9a33d7-82ba-4a7d-a124-6c79344c4eab'}, 'vop_guid': 'cfa278ec-76de-42eb-82e3-8c9b2c4075a6', 'sop_guids': ['6083ca68-6513-476f-ad7e-b466c257800f'], 'geometries': {'geo_paths': ['Table:1656620408', 'InnerSphere:2063286123', 'SampleRuler:2081138197']}, 'description': '', 'vop': {'opaque': {}, 'name': '', 'description': '', 'metadata': {}}, 'sops': [{'library': {'sop_file_uri': 'D:\\\\Library\\\\ASP - OptisSphere\\\\SPEOS isolated files\\\\OptisSphere_24R1\\\\Inverse Studio environment.1.speos\\\\Lambertian_be29-acb4-b905-aa5d..scattering'}, 'name': '', 'description': '', 'metadata': {}}]}, {'name': 'Material.18', 'metadata': {'UniqueId': 'c57e9fa3-0331-4d9f-8607-2abfe1367aba'}, 'vop_guid': 'cfa278ec-76de-42eb-82e3-8c9b2c4075a6', 'sop_guids': ['21bbcad9-6907-4f72-86a2-6103c91cd543'], 'geometries': {'geo_paths': ['LowerPedestal:2523438168', 'Pedestal:3996940070', 'GreyLine:3050862232', 'GreyLine:992216986', 'GreyLine:427920987', 'GreyLine:8198252', 'GreyLine:3997702814']}, 'description': '', 'vop': {'opaque': {}, 'name': '', 'description': '', 'metadata': {}}, 'sops': [{'library': {'sop_file_uri': 'D:\\\\Library\\\\ASP - OptisSphere\\\\SPEOS isolated files\\\\OptisSphere_24R1\\\\Inverse Studio environment.1.speos\\\\Lambertian Grey50_089d-941f-70d8-a170..scattering'}, 'name': '', 'description': '', 'metadata': {}}]}, {'name': 'Material.19', 'metadata': {'UniqueId': '893e49a3-20a6-4176-8bc2-65ba63cb8422'}, 'vop_guid': '4ea93479-bb97-4e9e-84ca-c45ffde18c55', 'description': '', 'sop_guids': [], 'vop': {'optic': {'index': 1.0, 'constringence': 20.0, 'absorption': 0.0}, 'name': '', 'description': '', 'metadata': {}}}])]\n"
     ]
    }
   ],
   "execution_count": 15
  },
  {
   "metadata": {},
   "cell_type": "markdown",
   "source": [
    "Get material property with a given name.\n",
    "using set method to modify the surface property library file.\n",
    "commit to have information registered into speos solver file."
   ]
  },
  {
   "metadata": {
    "collapsed": false,
    "ExecuteTime": {
     "end_time": "2024-12-12T23:44:38.919904Z",
     "start_time": "2024-12-12T23:44:38.910816Z"
    }
   },
   "cell_type": "code",
   "source": [
    "optical_material = project.find(\"Material.7\", feature_type=script.opt_prop.OptProp)[0]\n",
    "optical_material.set_surface_library(r\"D:\\Library\\ASP - OptisSphere\\SPEOS input files\\Lambertian Grey50.scattering\")\n",
    "optical_material.commit()"
   ],
   "outputs": [
    {
     "data": {
      "text/plain": [
       "<ansys.speos.script.opt_prop.OptProp at 0x28a59ae6490>"
      ]
     },
     "execution_count": 16,
     "metadata": {},
     "output_type": "execute_result"
    }
   ],
   "execution_count": 16
  },
  {
   "metadata": {},
   "cell_type": "markdown",
   "source": "Get the simulation with name_regex as True and run simulation with CPU"
  },
  {
   "cell_type": "code",
   "source": [
    "simu = project.find(name=\"Inverse Studio\", name_regex=True, feature_type=script.simulation.Inverse)[0]\n",
    "result_files = simu.compute_CPU()"
   ],
   "metadata": {
    "collapsed": false,
    "ExecuteTime": {
     "end_time": "2024-12-12T23:45:19.902229Z",
     "start_time": "2024-12-12T23:44:39.012286Z"
    }
   },
   "outputs": [
    {
     "data": {
      "text/plain": [
       "[path: \"C:\\\\Users\\\\plu\\\\AppData\\\\Local\\\\Temp\\\\jobs\\\\c702772d-6a73-453e-96fe-e0501b250c93\\\\Inverse Studio environment.1.MainView.xmp\"\n",
       ", path: \"C:\\\\Users\\\\plu\\\\AppData\\\\Local\\\\Temp\\\\jobs\\\\c702772d-6a73-453e-96fe-e0501b250c93\\\\Inverse Studio environment.1.html\"\n",
       "]"
      ]
     },
     "execution_count": 17,
     "metadata": {},
     "output_type": "execute_result"
    }
   ],
   "execution_count": 17
  }
 ],
 "metadata": {
  "kernelspec": {
   "display_name": "Python 3",
   "language": "python",
   "name": "python3"
  },
  "language_info": {
   "codemirror_mode": {
    "name": "ipython",
    "version": 2
   },
   "file_extension": ".py",
   "mimetype": "text/x-python",
   "name": "python",
   "nbconvert_exporter": "python",
   "pygments_lexer": "ipython2",
   "version": "2.7.6"
  }
 },
 "nbformat": 4,
 "nbformat_minor": 0
}
