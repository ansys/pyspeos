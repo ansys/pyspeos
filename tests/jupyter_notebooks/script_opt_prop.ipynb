{
 "cells": [
  {
   "cell_type": "markdown",
   "metadata": {},
   "source": [
    "Needed imports and utility"
   ]
  },
  {
   "cell_type": "code",
   "execution_count": null,
   "metadata": {},
   "outputs": [],
   "source": [
    "import os\n",
    "import ansys.speos.script as script\n",
    "import ansys.speos.core as core\n",
    "\n",
    "tests_data_path = os.path.join(os.path.abspath(''), os.path.pardir, \"assets\")\n",
    "\n",
    "def clean_all_dbs(speos_client: core.SpeosClient):\n",
    "    for item in (\n",
    "        speos_client.jobs().list()\n",
    "        + speos_client.scenes().list()\n",
    "        + speos_client.simulation_templates().list()\n",
    "        + speos_client.sensor_templates().list()\n",
    "        + speos_client.source_templates().list()\n",
    "        + speos_client.intensity_templates().list()\n",
    "        + speos_client.spectrums().list()\n",
    "        + speos_client.vop_templates().list()\n",
    "        + speos_client.sop_templates().list()\n",
    "        + speos_client.parts().list()\n",
    "        + speos_client.bodies().list()\n",
    "        + speos_client.faces().list()\n",
    "    ):\n",
    "        item.delete()"
   ]
  },
  {
   "cell_type": "markdown",
   "metadata": {},
   "source": [
    "# Create connection with speos rpc server"
   ]
  },
  {
   "cell_type": "code",
   "execution_count": null,
   "metadata": {},
   "outputs": [],
   "source": [
    "speos = core.Speos(host=\"localhost\", port=50051)\n",
    "clean_all_dbs(speos.client)"
   ]
  },
  {
   "cell_type": "markdown",
   "metadata": {},
   "source": [
    "# New project"
   ]
  },
  {
   "cell_type": "code",
   "execution_count": null,
   "metadata": {},
   "outputs": [],
   "source": [
    "p = script.Project(speos=speos)\n",
    "print(p)"
   ]
  },
  {
   "cell_type": "markdown",
   "metadata": {},
   "source": [
    "# Add a new optical property"
   ]
  },
  {
   "cell_type": "code",
   "execution_count": null,
   "metadata": {},
   "outputs": [],
   "source": [
    "op = (\n",
    "        p.create_optical_property(name=\"myprop\", description=\"mydesc\")\n",
    "        .set_geometries(geometries=[script.GeoRef.from_native_link(geopath=\"mybody\")])\n",
    "        .set_surface_mirror(reflectance=100)\n",
    "        .set_volume_library(os.path.join(tests_data_path, \"AIR.material\"))\n",
    "        .commit()\n",
    "    )\n",
    "print(op)"
   ]
  },
  {
   "cell_type": "code",
   "execution_count": null,
   "metadata": {},
   "outputs": [],
   "source": [
    "print(p)"
   ]
  },
  {
   "cell_type": "markdown",
   "metadata": {},
   "source": [
    "# Cleanup"
   ]
  },
  {
   "cell_type": "code",
   "execution_count": null,
   "metadata": {},
   "outputs": [],
   "source": [
    "clean_all_dbs(speos.client)"
   ]
  }
 ],
 "metadata": {
  "kernelspec": {
   "display_name": ".venv",
   "language": "python",
   "name": "python3"
  },
  "language_info": {
   "codemirror_mode": {
    "name": "ipython",
    "version": 3
   },
   "file_extension": ".py",
   "mimetype": "text/x-python",
   "name": "python",
   "nbconvert_exporter": "python",
   "pygments_lexer": "ipython3",
   "version": "3.10.12"
  }
 },
 "nbformat": 4,
 "nbformat_minor": 2
}
