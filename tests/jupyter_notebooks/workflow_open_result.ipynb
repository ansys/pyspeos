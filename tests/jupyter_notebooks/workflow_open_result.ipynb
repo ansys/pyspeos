{
 "cells": [
  {
   "cell_type": "code",
   "execution_count": null,
   "metadata": {},
   "outputs": [],
   "source": [
    "import os\n",
    "import ansys.speos.script as script\n",
    "from ansys.speos.core import Speos\n",
    "\n",
    "tests_data_path = os.path.join(os.path.abspath(''), os.path.pardir, \"assets\")"
   ]
  },
  {
   "cell_type": "markdown",
   "metadata": {},
   "source": [
    "Create connection with speos rpc server"
   ]
  },
  {
   "cell_type": "code",
   "execution_count": null,
   "metadata": {},
   "outputs": [],
   "source": [
    "speos = Speos(host=\"localhost\", port=50098)"
   ]
  },
  {
   "cell_type": "markdown",
   "metadata": {},
   "source": [
    "Create project from speos file"
   ]
  },
  {
   "cell_type": "code",
   "execution_count": null,
   "metadata": {},
   "outputs": [],
   "source": [
    "p = script.Project(speos=speos, path=os.path.join(tests_data_path, \"LG_50M_Colorimetric_short.sv5\", \"LG_50M_Colorimetric_short.sv5\"))\n",
    "#print(p)"
   ]
  },
  {
   "cell_type": "markdown",
   "metadata": {},
   "source": [
    "Retrieve the simulation feature"
   ]
  },
  {
   "cell_type": "code",
   "execution_count": null,
   "metadata": {},
   "outputs": [],
   "source": [
    "f3 = p.find(name=\"ASSEMBLY1.DS (0)\")"
   ]
  },
  {
   "cell_type": "markdown",
   "metadata": {},
   "source": [
    "Compute the simulation"
   ]
  },
  {
   "cell_type": "code",
   "execution_count": null,
   "metadata": {},
   "outputs": [],
   "source": [
    "results = f3.compute_CPU()\n",
    "print(results)"
   ]
  },
  {
   "cell_type": "markdown",
   "metadata": {},
   "source": [
    "Display one result as image\n",
    "\n",
    "A full path can be given, or the name of the result."
   ]
  },
  {
   "cell_type": "code",
   "execution_count": null,
   "metadata": {},
   "outputs": [],
   "source": [
    "from ansys.speos.workflow.open_result import open_result_image\n",
    "\n",
    "open_result_image(simulation_feature=f3, result_name=results[0].path)"
   ]
  },
  {
   "cell_type": "markdown",
   "metadata": {},
   "source": [
    "Display one result in the appropriate viewer\n",
    "\n",
    "A full path can be given, or the name of the result."
   ]
  },
  {
   "cell_type": "code",
   "execution_count": null,
   "metadata": {},
   "outputs": [],
   "source": [
    "from ansys.speos.workflow.open_result import open_result_in_viewer\n",
    "open_result_in_viewer(simulation_feature=f3, result_name=\"ASSEMBLY1.DS (0).Dom Irradiance Sensor (0).xmp\")"
   ]
  }
 ],
 "metadata": {
  "kernelspec": {
   "display_name": ".venv",
   "language": "python",
   "name": "python3"
  },
  "language_info": {
   "codemirror_mode": {
    "name": "ipython",
    "version": 3
   },
   "file_extension": ".py",
   "mimetype": "text/x-python",
   "name": "python",
   "nbconvert_exporter": "python",
   "pygments_lexer": "ipython3",
   "version": "3.10.12"
  }
 },
 "nbformat": 4,
 "nbformat_minor": 2
}
