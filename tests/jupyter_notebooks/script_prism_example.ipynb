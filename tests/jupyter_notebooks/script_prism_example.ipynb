{
 "cells": [
  {
   "cell_type": "code",
   "execution_count": null,
   "metadata": {},
   "outputs": [],
   "source": [
    "import os\n",
    "import ansys.speos.script as script\n",
    "from ansys.speos.core import Speos\n",
    "\n",
    "tests_data_path = os.path.join(os.path.abspath(''), os.path.pardir, \"assets\")"
   ]
  },
  {
   "cell_type": "markdown",
   "metadata": {},
   "source": [
    "Create connection with speos rpc server"
   ]
  },
  {
   "cell_type": "code",
   "execution_count": null,
   "metadata": {},
   "outputs": [],
   "source": [
    "speos = Speos(host=\"localhost\", port=50051)"
   ]
  },
  {
   "cell_type": "markdown",
   "metadata": {},
   "source": [
    "Load a speos file into a project feature."
   ]
  },
  {
   "cell_type": "code",
   "execution_count": null,
   "metadata": {},
   "outputs": [],
   "source": [
    "p = script.Project(speos=speos, path=os.path.join(tests_data_path, \"Prism.speos\", \"Prism.speos\"))\n",
    "print(p)"
   ]
  },
  {
   "cell_type": "code",
   "execution_count": null,
   "metadata": {},
   "outputs": [],
   "source": [
    "import pyvista as pv\n",
    "import numpy as np\n",
    "import ansys.speos.core as core\n",
    "from google.protobuf.internal.containers import RepeatedScalarFieldContainer\n",
    "\n",
    "def __extract_part_mesh_info(part_data: core.Part, part_coordinate_info: RepeatedScalarFieldContainer = None) -> pv.PolyData:\n",
    "        \"\"\"\n",
    "        extract mesh data info from a part.\n",
    "\n",
    "        Parameters\n",
    "        ----------\n",
    "        part_data: ansys.api.speos.part.v1.part_pb2\n",
    "            Part from scene.\n",
    "        part_coordinate_info: RepeatedScalarFieldContainer\n",
    "            message contains part coordinate info: origin, x_vector, y_vector, z_vector\n",
    "        Returns\n",
    "        -------\n",
    "        pv.PolyData\n",
    "            mesh data extracted.\n",
    "\n",
    "        \"\"\"\n",
    "\n",
    "        def local2absolute(local_vertice: np.ndarray) -> np.ndarray:\n",
    "            \"\"\"\n",
    "            convert local coordinate to global coordinate.\n",
    "\n",
    "            Parameters\n",
    "            ----------\n",
    "            local_vertice: np.ndarray\n",
    "                numpy array includes x, y, z info.\n",
    "\n",
    "            Returns\n",
    "            -------\n",
    "            np.ndarray\n",
    "             numpy array includes x, y, z info\n",
    "\n",
    "            \"\"\"\n",
    "            global_origin = np.array(part_coordinate.origin)\n",
    "            global_x = np.array(part_coordinate.x_vect) * local_vertice[0]\n",
    "            global_y = np.array(part_coordinate.y_vect) * local_vertice[1]\n",
    "            global_z = np.array(part_coordinate.z_vect) * local_vertice[2]\n",
    "            return global_origin + global_x + global_y + global_z\n",
    "\n",
    "        part_coordinate = core.AxisSystem()\n",
    "        part_coordinate.origin = [0.0, 0.0, 0.0]\n",
    "        part_coordinate.x_vect = [1.0, 0.0, 0.0]\n",
    "        part_coordinate.y_vect = [0.0, 1.0, 0.0]\n",
    "        part_coordinate.z_vect = [0.0, 0.0, 1.0]\n",
    "        if part_coordinate_info is not None:\n",
    "            part_coordinate.origin = part_coordinate_info[:3]\n",
    "            part_coordinate.x_vect = part_coordinate_info[3:6]\n",
    "            part_coordinate.y_vect = part_coordinate_info[6:9]\n",
    "            part_coordinate.z_vect = part_coordinate_info[9:]\n",
    "        part_mesh_info = None\n",
    "        for body_idx, body_guid in enumerate(part_data.body_guids):\n",
    "            body_item_data = speos.client.get_item(body_guid).get()\n",
    "            for face_idx, face_guid in enumerate(body_item_data.face_guids):\n",
    "                face_item_data = speos.client.get_item(face_guid).get()\n",
    "                vertices = np.array(face_item_data.vertices)\n",
    "                facets = np.array(face_item_data.facets)\n",
    "                vertices = vertices.reshape(-1, 3)\n",
    "                vertices = np.array([local2absolute(vertice) for vertice in vertices])\n",
    "                facets = facets.reshape(-1, 3)\n",
    "                temp = np.full(facets.shape[0], 3)\n",
    "                temp = np.vstack(temp)\n",
    "                facets = np.hstack((temp, facets))\n",
    "                face_mesh_data = pv.PolyData(vertices, facets)\n",
    "                if part_mesh_info is None:\n",
    "                    part_mesh_info = face_mesh_data\n",
    "                else:\n",
    "                    part_mesh_info = part_mesh_info.append_polydata(face_mesh_data)\n",
    "        return part_mesh_info\n",
    "\n",
    "def preview(project: script.Project) -> None:\n",
    "    \"\"\"preview cad bodies inside the scene.\"\"\"\n",
    "\n",
    "    p = pv.Plotter()\n",
    "\n",
    "    _preview_mesh = None\n",
    "    \n",
    "    root_part_data = speos.client.get_item(project.scene_link.get().part_guid).get()\n",
    "    if len(root_part_data.parts) != 0:\n",
    "        for part_idx, part_item in enumerate(root_part_data.parts):\n",
    "            part_item_data = speos.client.get_item(part_item.part_guid).get()\n",
    "            if _preview_mesh is None:\n",
    "                _preview_mesh = __extract_part_mesh_info(part_item_data, part_item.axis_system)\n",
    "            else:\n",
    "                _preview_mesh = _preview_mesh.append_polydata(\n",
    "                    __extract_part_mesh_info(part_item_data, part_item.axis_system)\n",
    "                )\n",
    "    else:\n",
    "        _preview_mesh = __extract_part_mesh_info(root_part_data)\n",
    "\n",
    "    p.add_mesh(_preview_mesh, show_edges=True)\n",
    "    p.show()"
   ]
  },
  {
   "cell_type": "code",
   "execution_count": null,
   "metadata": {},
   "outputs": [],
   "source": [
    "preview(project=p)"
   ]
  },
  {
   "cell_type": "markdown",
   "metadata": {},
   "source": [
    "Compute"
   ]
  },
  {
   "cell_type": "code",
   "execution_count": null,
   "metadata": {},
   "outputs": [],
   "source": [
    "sim = p.find(name=\"Prism\", feature_type=script.Simulation)\n",
    "sim.compute_CPU()"
   ]
  },
  {
   "cell_type": "markdown",
   "metadata": {},
   "source": [
    "Watch results"
   ]
  },
  {
   "cell_type": "code",
   "execution_count": null,
   "metadata": {},
   "outputs": [],
   "source": [
    "from ansys.speos.workflow.open_result import open_result_image\n",
    "\n",
    "open_result_image(simulation_feature=sim, result_name=\"Prism.Irradiance.1.xmp\")"
   ]
  },
  {
   "cell_type": "markdown",
   "metadata": {},
   "source": [
    "Modify irradiance sensor - compute - watch result\n",
    "\n",
    "Here the irradiance sensor is modified regarding its wavelengths range : from 500 to 600 nm.  \n",
    "Then the simulation is computed again, and we can see the difference in the output xmp."
   ]
  },
  {
   "cell_type": "code",
   "execution_count": null,
   "metadata": {},
   "outputs": [],
   "source": [
    "irr = p.find(name=\"Irradiance.1:564\")\n",
    "irr.set_irradiance().set_type_spectral().set_wavelengths_range().set_start(500).set_end(600).set_sampling(11)\n",
    "irr.commit()\n",
    "\n",
    "sim.compute_CPU()\n",
    "\n",
    "open_result_image(simulation_feature=sim, result_name=\"Prism.Irradiance.1.xmp\")"
   ]
  }
 ],
 "metadata": {
  "kernelspec": {
   "display_name": ".venv",
   "language": "python",
   "name": "python3"
  },
  "language_info": {
   "codemirror_mode": {
    "name": "ipython",
    "version": 3
   },
   "file_extension": ".py",
   "mimetype": "text/x-python",
   "name": "python",
   "nbconvert_exporter": "python",
   "pygments_lexer": "ipython3",
   "version": "3.10.12"
  }
 },
 "nbformat": 4,
 "nbformat_minor": 2
}
