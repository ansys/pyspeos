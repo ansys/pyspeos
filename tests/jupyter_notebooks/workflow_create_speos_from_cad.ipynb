{
 "cells": [
  {
   "cell_type": "markdown",
   "source": [
    "add necessary library and functions"
   ],
   "metadata": {
    "collapsed": false
   }
  },
  {
   "cell_type": "code",
   "execution_count": null,
   "metadata": {
    "collapsed": true
   },
   "outputs": [],
   "source": [
    "import pyvista as pv\n",
    "import os\n",
    "from pathlib import Path\n",
    "import matplotlib.pyplot as plt\n",
    "import matplotlib.image as mpimg\n",
    "from comtypes.client import CreateObject\n",
    "import ansys.speos.core as core\n",
    "import ansys.speos.workflow as workflow\n",
    "\n",
    "\n",
    "def open_file(file):\n",
    "    dpf_instance = None\n",
    "    if file.endswith(\"xmp\") or file.endswith(\"XMP\"):\n",
    "        dpf_instance = CreateObject(\"XMPViewer.Application\")\n",
    "        dpf_instance.OpenFile(file)\n",
    "        res = dpf_instance.ExportXMPImage(file + \".png\", 1)\n",
    "        if res:\n",
    "            img = mpimg.imread(file + \".png\")\n",
    "            plt.imshow(img)\n",
    "            plt.axis(\"off\")  # turns off axes\n",
    "            plt.axis(\"tight\")  # gets rid of white border\n",
    "            plt.axis(\"image\")  # square up the image instead of filling the \"figure\" space\n",
    "            plt.show()\n",
    "    elif file.endswith(\"hdr\") or file.endswith(\"HDR\"):\n",
    "        dpf_instance = CreateObject(\"HDRIViewer.Application\")\n",
    "        dpf_instance.OpenFile(file)\n",
    "        dpf_instance.Show(1)\n",
    "    elif file.endswith(\"png\") or file.endswith(\"PNG\"):\n",
    "        img = mpimg.imread(file)\n",
    "        plt.imshow(img)\n",
    "        plt.axis(\"off\")  # turns off axes\n",
    "        plt.axis(\"tight\")  # gets rid of white border\n",
    "        plt.axis(\"image\")  # square up the image instead of filling the \"figure\" space\n",
    "        plt.show()\n",
    "    return dpf_instance\n",
    "\n",
    "\n",
    "def load_glb(glb_path):\n",
    "    data = pv.read(glb_path)\n",
    "    faces_data = []\n",
    "    vertices_data = []\n",
    "    normals_data = []\n",
    "    for data_block in data:\n",
    "        faces_data.append(data_block[0][0].regular_faces.flatten().tolist())\n",
    "        vertices_data.append(data_block[0][0].points.flatten().tolist())\n",
    "        normals_data.append(data_block[0][0].point_normals.flatten().tolist())\n",
    "    return faces_data, vertices_data, normals_data"
   ]
  },
  {
   "cell_type": "markdown",
   "source": [
    "initiate speos client"
   ],
   "metadata": {
    "collapsed": false
   }
  },
  {
   "cell_type": "code",
   "execution_count": null,
   "outputs": [],
   "source": [
    "speos = core.Speos(host=\"localhost\", port=50051)\n",
    "workflow.clean_all_dbs(speos.client)"
   ],
   "metadata": {
    "collapsed": false
   }
  },
  {
   "cell_type": "markdown",
   "source": [
    "load cad file"
   ],
   "metadata": {
    "collapsed": false
   }
  },
  {
   "cell_type": "code",
   "execution_count": null,
   "outputs": [],
   "source": [
    "tests_data_path = Path(Path.cwd().parent, \"assets\")\n",
    "glb_file_path = os.path.join(tests_data_path, \"ref_tri.glb\")\n",
    "facets, vertices, normals = load_glb(glb_file_path)"
   ],
   "metadata": {
    "collapsed": false
   }
  },
  {
   "cell_type": "markdown",
   "source": [
    "create face data"
   ],
   "metadata": {
    "collapsed": false
   }
  },
  {
   "cell_type": "code",
   "execution_count": null,
   "outputs": [],
   "source": [
    "facets_info = facets[0]\n",
    "vertices_info = vertices[0]\n",
    "normals_info = normals[0]\n",
    "vertices_info = [1000 * item for item in vertices_info]\n",
    "prism_face_list = []\n",
    "prism_face = speos.client.faces().create(message=core.face.FaceFactory.new(name=\"face{}\".format(0),\n",
    "                                                                           description=\"source from stl\",\n",
    "                                                                           vertices=vertices_info,\n",
    "                                                                           facets=facets_info,\n",
    "                                                                           normals=normals_info))\n",
    "prism_face_list.append(prism_face)\n",
    "\n",
    "facets_info = facets[1]\n",
    "vertices_info = vertices[1]\n",
    "normals_info = normals[1]\n",
    "vertices_info = [1000 * item for item in vertices_info]\n",
    "print(vertices_info)\n",
    "source_face_list = []\n",
    "source_face = speos.client.faces().create(message=core.face.FaceFactory.new(name=\"face{}\".format(0),\n",
    "                                                                            description=\"source from stl\",\n",
    "                                                                            vertices=vertices_info,\n",
    "                                                                            facets=facets_info,\n",
    "                                                                            normals=normals_info))\n",
    "source_face_list.append(source_face)"
   ],
   "metadata": {
    "collapsed": false
   }
  },
  {
   "cell_type": "markdown",
   "source": [
    "create body data"
   ],
   "metadata": {
    "collapsed": false
   }
  },
  {
   "cell_type": "code",
   "execution_count": null,
   "outputs": [],
   "source": [
    "bd_prism = speos.client.bodies().create(message=core.body.BodyFactory.new(name=\"prism\",\n",
    "                                                                          description=\"triangle\",\n",
    "                                                                          faces=prism_face_list))\n",
    "bd_source = speos.client.bodies().create(message=core.body.BodyFactory.new(name=\"source\",\n",
    "                                                                           description=\"triangle\",\n",
    "                                                                           faces=source_face_list))"
   ],
   "metadata": {
    "collapsed": false
   }
  },
  {
   "cell_type": "markdown",
   "source": [
    "create part data"
   ],
   "metadata": {
    "collapsed": false
   }
  },
  {
   "cell_type": "code",
   "execution_count": null,
   "outputs": [],
   "source": [
    "part1 = speos.client.parts().create(\n",
    "    message=core.part.PartFactory.new(\n",
    "        name=\"part_0\",\n",
    "        description=\"part with one box as body\",\n",
    "        bodies=[bd_prism, bd_source]))\n"
   ],
   "metadata": {
    "collapsed": false
   }
  },
  {
   "cell_type": "markdown",
   "source": [
    "create sop data"
   ],
   "metadata": {
    "collapsed": false
   }
  },
  {
   "cell_type": "code",
   "execution_count": null,
   "outputs": [],
   "source": [
    "sop_instances = [\n",
    "    core.scene.SceneFactory.sop_instance(\n",
    "        name=\"OP\",\n",
    "        sop_template=speos.client.sop_templates().create(\n",
    "            message=core.sop_template.SOPTemplateFactory.optical_polished(\n",
    "                name=\"OP\",\n",
    "                description=\"Opticalpolished\")),\n",
    "        geometries=core.geometry_utils.GeoPaths(geo_paths=[\n",
    "            \"prism/face0\",\n",
    "            \"source/face0\",\n",
    "        ])\n",
    "    )]"
   ],
   "metadata": {
    "collapsed": false
   }
  },
  {
   "cell_type": "markdown",
   "source": [
    "create vop data"
   ],
   "metadata": {
    "collapsed": false
   }
  },
  {
   "cell_type": "code",
   "execution_count": null,
   "outputs": [],
   "source": [
    "vop_instances = [\n",
    "    core.scene.SceneFactory.vop_instance(\n",
    "        name=\"Optic\",\n",
    "        vop_template=speos.client.vop_templates().create(\n",
    "            message=core.vop_template.VOPTemplateFactory.optic(\n",
    "                name=\"refractive\",\n",
    "                index=1.51,\n",
    "                absorption=0.001,\n",
    "                constringence=60.0)),\n",
    "        geometries=core.geometry_utils.GeoPaths(geo_paths=[\"prism\", \"source\"]),\n",
    "    )\n",
    "]"
   ],
   "metadata": {
    "collapsed": false
   }
  },
  {
   "cell_type": "markdown",
   "source": [
    "create source data"
   ],
   "metadata": {
    "collapsed": false
   }
  },
  {
   "cell_type": "code",
   "execution_count": null,
   "outputs": [],
   "source": [
    "spec_bb_5800 = speos.client.spectrums().create(\n",
    "    message=core.spectrum.SpectrumFactory.blackbody(\n",
    "        name=\"blackbody_5800\",\n",
    "        description=\"blackbody spectrum - T 3500K\",\n",
    "        temperature=5800))\n",
    "\n",
    "# Create lambertian intensity template\n",
    "intens_t_lamb_180 = speos.client.intensity_templates().create(\n",
    "    message=core.intensity_template.IntensityTemplateFactory.lambertian(\n",
    "        name=\"lambertian_180\",\n",
    "        description=\"lambertian intensity template 180\",\n",
    "        total_angle=0.1))\n",
    "\n",
    "src_t_surface_bb = speos.client.source_templates().create(\n",
    "    message=core.source_template.SourceTemplateFactory.surface(\n",
    "        name=\"surface_with_monochromatic\",\n",
    "        description=\"Surface source template with blackbody spectrum\",\n",
    "        intensity_template=intens_t_lamb_180,\n",
    "        flux=core.source_template.SourceTemplateFactory.Flux(),\n",
    "        spectrum=spec_bb_5800,\n",
    "    )\n",
    ")\n",
    "\n",
    "source_instance = [\n",
    "    core.scene.SceneFactory.source_instance(\n",
    "        name=\"whitesource_1\",\n",
    "        source_template=src_t_surface_bb,\n",
    "        properties=core.scene.SceneFactory.surface_source_props(\n",
    "            exitance_constant_geo_paths=[\n",
    "                core.geometry_utils.GeoPathWithReverseNormal(\"source/face0\")]),\n",
    "    )\n",
    "]"
   ],
   "metadata": {
    "collapsed": false
   }
  },
  {
   "cell_type": "markdown",
   "source": [
    "create sensor data"
   ],
   "metadata": {
    "collapsed": false
   }
  },
  {
   "cell_type": "code",
   "execution_count": null,
   "outputs": [],
   "source": [
    "ssr_t_irr_colo = speos.client.sensor_templates().create(\n",
    "    message=core.sensor_template.SensorTemplateFactory.irradiance(\n",
    "        name=\"irradiance_colorimetric\",\n",
    "        description=\"Irradiance sensor template spectral\",\n",
    "        type=core.sensor_template.SensorTemplateFactory.Type.Spectral,\n",
    "        illuminance_type=core.sensor_template.SensorTemplateFactory.IlluminanceType.Planar,\n",
    "        dimensions=core.sensor_template.SensorTemplateFactory.Dimensions(\n",
    "            x_start=-10, x_end=10, x_sampling=200, y_start=-10, y_end=10, y_sampling=200\n",
    "        ),\n",
    "        wavelengths_range=core.sensor_template.SensorTemplateFactory.WavelengthsRange(start=380, end=780, sampling=41),\n",
    "    )\n",
    ")\n",
    "\n",
    "irr_sensor_props = core.scene.SceneFactory.irradiance_sensor_props(\n",
    "    axis_system=core.geometry_utils.AxisSystem(origin=[143.39, -500, 0.0],\n",
    "                                               x_vect=[-1.0, 0.0, 0.0],\n",
    "                                               y_vect=[0.0, 0.0, 1.0],\n",
    "                                               z_vect=[0.0, -1.0, 0.0]),\n",
    "    layer_type=core.scene.SceneFactory.Properties.Sensor.LayerType.Source(),\n",
    ")\n",
    "\n",
    "sensor_instance = [\n",
    "    core.scene.SceneFactory.sensor_instance(\n",
    "        name=\"irradiance_spectral\",\n",
    "        sensor_template=ssr_t_irr_colo,\n",
    "        properties=irr_sensor_props)\n",
    "]"
   ],
   "metadata": {
    "collapsed": false
   }
  },
  {
   "cell_type": "markdown",
   "source": [
    "create simulation data"
   ],
   "metadata": {
    "collapsed": false
   }
  },
  {
   "cell_type": "code",
   "execution_count": null,
   "outputs": [],
   "source": [
    "direct_t = speos.client.simulation_templates().create(\n",
    "    message=core.simulation_template.SimulationTemplateFactory.direct_mc(name=\"direct_simu\",\n",
    "                                                                         description=\"Direct simulation template with \"\n",
    "                                                                                     \"default parameters\")\n",
    ")\n",
    "\n",
    "scene = speos.client.scenes().create(\n",
    "    message=core.scene.SceneFactory.new(\n",
    "        name=\"scene_0\",\n",
    "        description=\"scene from scratch\",\n",
    "        part=part1,\n",
    "        vop_instances=vop_instances,\n",
    "        sop_instances=sop_instances,\n",
    "        source_instances=source_instance,\n",
    "        sensor_instances=sensor_instance,\n",
    "        simulation_instances=[\n",
    "            core.scene.SceneFactory.simulation_instance(\n",
    "                name=\"direct_simu.2\",\n",
    "                simulation_template=direct_t,\n",
    "                source_paths=[\"whitesource_1\"],\n",
    "                sensor_paths=[\"irradiance_spectral\"],\n",
    "                geometries=core.geometry_utils.GeoPaths([\"prism\", \"source\"]))\n",
    "        ]\n",
    "    )\n",
    ")\n"
   ],
   "metadata": {
    "collapsed": false
   }
  },
  {
   "cell_type": "markdown",
   "source": [
    "create simulation job to run"
   ],
   "metadata": {
    "collapsed": false
   }
  },
  {
   "cell_type": "code",
   "execution_count": null,
   "outputs": [],
   "source": [
    "props = core.JobFactory.direct_mc_props(stop_condition_duration=500)\n",
    "new_job = speos.client.jobs().create(\n",
    "    message=core.JobFactory.new(\n",
    "        name=\"test\",\n",
    "        scene=scene,\n",
    "        simulation_path=\"direct_simu.2\",\n",
    "        properties=props,\n",
    "    )\n",
    ")\n",
    "\n",
    "new_job.start()\n",
    "print(new_job)"
   ],
   "metadata": {
    "collapsed": false
   }
  },
  {
   "cell_type": "markdown",
   "source": [
    "wait for simulation to complete, get the xmp result"
   ],
   "metadata": {
    "collapsed": false
   }
  },
  {
   "cell_type": "code",
   "execution_count": null,
   "outputs": [],
   "source": [
    "print(new_job.get_results().results[0].path)"
   ],
   "metadata": {
    "collapsed": false
   }
  },
  {
   "cell_type": "markdown",
   "source": [
    "open and review the rainbow result"
   ],
   "metadata": {
    "collapsed": false
   }
  },
  {
   "cell_type": "code",
   "execution_count": null,
   "outputs": [],
   "source": [
    "open_file(new_job.get_results().results[0].path)"
   ],
   "metadata": {
    "collapsed": false
   }
  }
 ],
 "metadata": {
  "kernelspec": {
   "display_name": "Python 3",
   "language": "python",
   "name": "python3"
  },
  "language_info": {
   "codemirror_mode": {
    "name": "ipython",
    "version": 2
   },
   "file_extension": ".py",
   "mimetype": "text/x-python",
   "name": "python",
   "nbconvert_exporter": "python",
   "pygments_lexer": "ipython2",
   "version": "2.7.6"
  }
 },
 "nbformat": 4,
 "nbformat_minor": 0
}
