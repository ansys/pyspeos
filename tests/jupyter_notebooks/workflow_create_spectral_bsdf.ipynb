{
 "cells": [
  {
   "cell_type": "raw",
   "source": [
    "# Introduction of Speos BSDF Structure\n",
    "\n",
    "Please review the [Optics Knowledge Base Article](https://optics.ansys.com/hc/en-us/articles/18384793374227-Speos-BRDF-BTDF-and-BSDF-Formats)\n",
    "As you can understand from the article, to generate a speos brdf file,a 4D bsdf is required\n",
    "corresponding to incident angle, wavelength, theta and phi angles.\n",
    "\n",
    "\n",
    "# Initiate of Speos BSDF information\n",
    "\n",
    "In this example, python numpy is used to create:\n",
    "* incident angles list\n",
    "* wavelength values list\n",
    "* theta angle list\n",
    "* phi angle list\n"
   ],
   "metadata": {
    "collapsed": false
   }
  },
  {
   "cell_type": "code",
   "execution_count": 3,
   "outputs": [],
   "source": [
    "import numpy as np\n",
    "import math\n",
    "\n",
    "wavelength_nb = 10\n",
    "incident_angle_nb = 7\n",
    "theta_nb = 10\n",
    "phi_nb = 37\n",
    "\n",
    "wavelength_list = np.linspace(360.0, 780.0, wavelength_nb)\n",
    "incident_angles = np.linspace(0, 90, incident_angle_nb)\n",
    "theta_list = np.linspace(0, 90, theta_nb)\n",
    "phi_list = np.linspace(0, 360, phi_nb)\n"
   ],
   "metadata": {
    "collapsed": false,
    "ExecuteTime": {
     "end_time": "2024-01-22T11:35:16.219704300Z",
     "start_time": "2024-01-22T11:35:16.212799900Z"
    }
   }
  },
  {
   "cell_type": "raw",
   "source": [
    "Both reflectance and transmittance values lists are also defined as numpy.list.\n",
    "The dimension of both reflectance and transmittance lists should match with seize\n",
    "of incident and wavelenth list.\n",
    "Similarly, brdf and btdf are also defined using numpy.list. The dimension should match\n",
    "with the incident, wavelength, theta and phi lists.\n",
    "In this example, numpy.zeros are used to initialize the reflectance, transmisstance,\n",
    "brdf and btdf lists.\n"
   ],
   "metadata": {
    "collapsed": false
   }
  },
  {
   "cell_type": "code",
   "execution_count": 4,
   "outputs": [],
   "source": [
    "reflectance = np.zeros((len(incident_angles), len(wavelength_list)))\n",
    "transmittance = np.zeros((len(incident_angles), len(wavelength_list)))\n",
    "brdf = np.zeros((len(incident_angles), len(wavelength_list), len(theta_list), len(phi_list)))\n",
    "btdf = np.zeros((len(incident_angles), len(wavelength_list), len(theta_list), len(phi_list)))"
   ],
   "metadata": {
    "collapsed": false,
    "ExecuteTime": {
     "end_time": "2024-01-22T11:35:18.469176200Z",
     "start_time": "2024-01-22T11:35:18.453941600Z"
    }
   }
  },
  {
   "cell_type": "raw",
   "source": [
    "# Assign Speos BSDF values\n",
    "\n",
    "A for loop is used to assign reflectance, transmittance, brdf and btdf values at different\n",
    "incident angle, wavelength, theta and phi angle.\n",
    "In this example, 50 percentage reflectance and 50 percentage transmittance values at all different\n",
    "incident angled and wavelength values.\n",
    "A lambertian type of brdf and btdf are used in this example:\n",
    "brdf(incident, wavelength, phi, theta) = 0.5 * math.cos(theta * math.pi / 180.0) / math.pi\n",
    "btdf(incident, wavelength, phi, theta) = 0.5 * abs(math.cos(math.pi * 0.5 + theta * math.pi / 180.0)) / math.pi"
   ],
   "metadata": {
    "collapsed": false
   }
  },
  {
   "cell_type": "code",
   "execution_count": 5,
   "outputs": [],
   "source": [
    "for incident_angle_idx, incident_angle in enumerate(incident_angles):\n",
    "    for wavelength_idx, wavelength in enumerate(wavelength_list):\n",
    "        reflectance[incident_angle_idx, wavelength_idx] = 0.5\n",
    "        for theta_idx, theta in enumerate(theta_list):\n",
    "            for phi_idx, phi in enumerate(phi_list):\n",
    "                brdf[incident_angle_idx, wavelength_idx, theta_idx, phi_idx] = 0.5 * math.cos(theta * math.pi / 180.0) / math.pi\n",
    "\n",
    "        transmittance[incident_angle_idx, wavelength_idx] = 0.5\n",
    "        for theta_idx, theta in enumerate(theta_list):\n",
    "            for phi_idx, phi in enumerate(phi_list):\n",
    "                btdf[incident_angle_idx, wavelength_idx, theta_idx, phi_idx] = (\n",
    "                    0.5 * abs(math.cos(math.pi * 0.5 + theta * math.pi / 180.0)) / math.pi\n",
    "                )"
   ],
   "metadata": {
    "collapsed": false,
    "ExecuteTime": {
     "end_time": "2024-01-22T11:35:19.738666900Z",
     "start_time": "2024-01-22T11:35:19.651467600Z"
    }
   }
  },
  {
   "cell_type": "raw",
   "source": [
    "# Export Speos BRDF file\n",
    "\n",
    "After all incident angles, wavelength, theta, phi, reflectance, tranmittance,\n",
    "brdf and btdf are defined. Those values can be assigned to the BrdfStructure.\n",
    "The export_to_speos method under BrdfStructure is used to export a speos brdf file.\n",
    "By default, the output of export_to_speos method generates a speos brdf file\n",
    "with interpolation enhancement applied.\n",
    "\n",
    "Optionally, the export_to_speos provided an option with an additional function\n",
    "input debug=True, which generates additional speos brdf file without interpolation\n",
    "enhancement to allow further investigation."
   ],
   "metadata": {
    "collapsed": false
   }
  },
  {
   "cell_type": "code",
   "execution_count": 6,
   "outputs": [],
   "source": [
    "from src.ansys.speos.workflow.create_speos_bsdf.create_spectral_bsdf import BrdfStructure\n",
    "\n",
    "brdf_data = BrdfStructure(wavelength_list)\n",
    "brdf_data.file_name = \"example_2\"\n",
    "brdf_data.incident_angles = incident_angles\n",
    "brdf_data.theta_1d_ressampled = theta_list\n",
    "brdf_data.phi_1d_ressampled = phi_list\n",
    "brdf_data.reflectance = reflectance\n",
    "brdf_data.brdf = brdf\n",
    "brdf_data.transmittance = transmittance\n",
    "brdf_data.btdf = btdf\n",
    "brdf_data.export_to_speos(r\"D:\\\\\", debug=True)"
   ],
   "metadata": {
    "collapsed": false,
    "ExecuteTime": {
     "end_time": "2024-01-22T11:35:23.372581300Z",
     "start_time": "2024-01-22T11:35:21.219851300Z"
    }
   }
  },
  {
   "cell_type": "code",
   "execution_count": null,
   "outputs": [],
   "source": [],
   "metadata": {
    "collapsed": false
   }
  }
 ],
 "metadata": {
  "kernelspec": {
   "display_name": "Python 3",
   "language": "python",
   "name": "python3"
  },
  "language_info": {
   "codemirror_mode": {
    "name": "ipython",
    "version": 2
   },
   "file_extension": ".py",
   "mimetype": "text/x-python",
   "name": "python",
   "nbconvert_exporter": "python",
   "pygments_lexer": "ipython2",
   "version": "2.7.6"
  }
 },
 "nbformat": 4,
 "nbformat_minor": 0
}
