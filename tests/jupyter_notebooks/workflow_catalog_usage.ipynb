{
 "cells": [
  {
   "cell_type": "code",
   "execution_count": null,
   "metadata": {},
   "outputs": [],
   "source": [
    "import os\n",
    "import ansys.speos.core as core\n",
    "import ansys.speos.workflow as workflow\n",
    "\n",
    "tests_data_path = os.path.join(os.path.join(os.path.abspath(''), os.path.pardir), \"assets\")"
   ]
  },
  {
   "cell_type": "code",
   "execution_count": null,
   "metadata": {},
   "outputs": [],
   "source": [
    "from ansys.speos.core.speos import Speos\n",
    "speos = Speos(host=\"localhost\", port=50051)\n",
    "workflow.clean_all_dbs(speos.client)"
   ]
  },
  {
   "cell_type": "markdown",
   "metadata": {},
   "source": [
    "# Create a catalog with camera sensor templates"
   ]
  },
  {
   "cell_type": "code",
   "execution_count": null,
   "metadata": {},
   "outputs": [],
   "source": [
    "camera_input_path = os.path.join(tests_data_path, \"CameraInputFiles\")\n",
    "\n",
    "camera_t_1 = core.SensorTemplateFactory.camera(name=\"CameraTemplate_1\", \n",
    "                                               distorsion_file_uri=os.path.join(camera_input_path, \"CameraDistortion_130deg.OPTDistortion\"),\n",
    "                                               transmittance_file_uri=os.path.join(camera_input_path, \"CameraTransmittance.spectrum\"),\n",
    "                                               spectrum_file_uris=[os.path.join(camera_input_path, \"CameraSensitivityRed.spectrum\"),\n",
    "                                                                   os.path.join(camera_input_path, \"CameraSensitivityGreen.spectrum\"),\n",
    "                                                                   os.path.join(camera_input_path, \"CameraSensitivityBlue.spectrum\")],\n",
    "                                               settings=core.SensorTemplateFactory.CameraSettings(gamma_correction=2.2,\n",
    "                                                                                                  focal_length=8.0,\n",
    "                                                                                                  imager_distance=10.0,\n",
    "                                                                                                  f_number=30.0),\n",
    "                                               dimensions=core.SensorTemplateFactory.CameraDimensions(horz_pixel=640, vert_pixel=480, width=5.0, height=5.0),\n",
    "                                               wavelengths_range=core.SensorTemplateFactory.WavelengthsRange(start=400.0, end=700.0, sampling=13),\n",
    "                                               description=\"focal_length 8.0mm | distorsion 130deg\")\n",
    "\n",
    "camera_t_2 = core.SensorTemplateFactory.camera(name=\"CameraTemplate_2\", \n",
    "                                               distorsion_file_uri=os.path.join(camera_input_path, \"CameraDistortion_130deg.OPTDistortion\"),\n",
    "                                               transmittance_file_uri=os.path.join(camera_input_path, \"CameraTransmittance.spectrum\"),\n",
    "                                               spectrum_file_uris=[os.path.join(camera_input_path, \"CameraSensitivityRed.spectrum\"),\n",
    "                                                                   os.path.join(camera_input_path, \"CameraSensitivityGreen.spectrum\"),\n",
    "                                                                   os.path.join(camera_input_path, \"CameraSensitivityBlue.spectrum\")],\n",
    "                                               settings=core.SensorTemplateFactory.CameraSettings(gamma_correction=2.2,\n",
    "                                                                                                  focal_length=4.0,\n",
    "                                                                                                  imager_distance=10.0,\n",
    "                                                                                                  f_number=30.0),\n",
    "                                               dimensions=core.SensorTemplateFactory.CameraDimensions(horz_pixel=640, vert_pixel=480, width=5.0, height=5.0),\n",
    "                                               wavelengths_range=core.SensorTemplateFactory.WavelengthsRange(start=400.0, end=700.0, sampling=13),\n",
    "                                               description=\"focal_length 4.0mm | distorsion 130deg\")\n",
    "\n",
    "camera_t_3 = core.SensorTemplateFactory.camera(name=\"CameraTemplate_3\", \n",
    "                                               distorsion_file_uri=os.path.join(camera_input_path, \"CameraDistortion_190deg.OPTDistortion\"),\n",
    "                                               transmittance_file_uri=os.path.join(camera_input_path, \"CameraTransmittance.spectrum\"),\n",
    "                                               spectrum_file_uris=[os.path.join(camera_input_path, \"CameraSensitivityRed.spectrum\"),\n",
    "                                                                   os.path.join(camera_input_path, \"CameraSensitivityGreen.spectrum\"),\n",
    "                                                                   os.path.join(camera_input_path, \"CameraSensitivityBlue.spectrum\")],\n",
    "                                               settings=core.SensorTemplateFactory.CameraSettings(gamma_correction=2.2,\n",
    "                                                                                                  focal_length=8.0,\n",
    "                                                                                                  imager_distance=10.0,\n",
    "                                                                                                  f_number=30.0),\n",
    "                                               dimensions=core.SensorTemplateFactory.CameraDimensions(horz_pixel=640, vert_pixel=480, width=5.0, height=5.0),\n",
    "                                               wavelengths_range=core.SensorTemplateFactory.WavelengthsRange(start=400.0, end=700.0, sampling=13),\n",
    "                                               description=\"focal_length 8.0mm | distorsion 190deg\")\n",
    "\n",
    "camera_t_4 = core.SensorTemplateFactory.camera(name=\"CameraTemplate_4\", \n",
    "                                               distorsion_file_uri=os.path.join(camera_input_path, \"CameraDistortion_190deg.OPTDistortion\"),\n",
    "                                               transmittance_file_uri=os.path.join(camera_input_path, \"CameraTransmittance.spectrum\"),\n",
    "                                               spectrum_file_uris=[os.path.join(camera_input_path, \"CameraSensitivityRed.spectrum\"),\n",
    "                                                                   os.path.join(camera_input_path, \"CameraSensitivityGreen.spectrum\"),\n",
    "                                                                   os.path.join(camera_input_path, \"CameraSensitivityBlue.spectrum\")],\n",
    "                                               settings=core.SensorTemplateFactory.CameraSettings(gamma_correction=2.2,\n",
    "                                                                                                  focal_length=4.0,\n",
    "                                                                                                  imager_distance=10.0,\n",
    "                                                                                                  f_number=30.0),\n",
    "                                               dimensions=core.SensorTemplateFactory.CameraDimensions(horz_pixel=640, vert_pixel=480, width=5.0, height=5.0),\n",
    "                                               wavelengths_range=core.SensorTemplateFactory.WavelengthsRange(start=400.0, end=700.0, sampling=13),\n",
    "                                               description=\"focal_length 4.0mm | distorsion 190deg\")\n",
    "\n",
    "catalog = workflow.Catalog(speos=speos)\n",
    "catalog.fill(catalog_name=\"CameraCatalog\", sensor_templates=[camera_t_1, camera_t_2, camera_t_3, camera_t_4])"
   ]
  },
  {
   "cell_type": "markdown",
   "metadata": {},
   "source": [
    "# Load a speos file"
   ]
  },
  {
   "cell_type": "code",
   "execution_count": null,
   "metadata": {},
   "outputs": [],
   "source": [
    "simu_name = \"Inverse_SeveralSensors.speos\"\n",
    "speos_file = os.path.join(tests_data_path, os.path.join(simu_name, simu_name))\n",
    "\n",
    "ssm = workflow.SpeosSimulationMod(speos=speos, file_name=speos_file)\n",
    "print(ssm.scene.get().sensors) # first sensor instance is a camera"
   ]
  },
  {
   "cell_type": "markdown",
   "metadata": {},
   "source": [
    "## Print the sensor template in use"
   ]
  },
  {
   "cell_type": "code",
   "execution_count": null,
   "metadata": {},
   "outputs": [],
   "source": [
    "print(speos.client.get_item(ssm.scene.get().sensors[0].sensor_guid)) # focal length at 4.0"
   ]
  },
  {
   "cell_type": "code",
   "execution_count": null,
   "metadata": {},
   "outputs": [],
   "source": [
    "job_before = ssm.compute(job_name=\"beforeModification\", stop_condition_duration=7)\n",
    "print(job_before.get_results())"
   ]
  },
  {
   "cell_type": "code",
   "execution_count": null,
   "metadata": {},
   "outputs": [],
   "source": [
    "ssr_t = catalog.find_sensor_template(name=\"CameraTemplate_3\") # focal length at 8.0 and different distortion file \n",
    "ssm.modify_template(instance_index=0, template=ssr_t)\n"
   ]
  },
  {
   "cell_type": "code",
   "execution_count": null,
   "metadata": {},
   "outputs": [],
   "source": [
    "job_after = ssm.compute(job_name=\"afterModification\", stop_condition_duration=7)\n",
    "print(job_before.get_results())"
   ]
  },
  {
   "cell_type": "code",
   "execution_count": null,
   "metadata": {},
   "outputs": [],
   "source": [
    "job_before.delete()\n",
    "job_after.delete()"
   ]
  }
 ],
 "metadata": {
  "kernelspec": {
   "display_name": ".venv",
   "language": "python",
   "name": "python3"
  },
  "language_info": {
   "codemirror_mode": {
    "name": "ipython",
    "version": 3
   },
   "file_extension": ".py",
   "mimetype": "text/x-python",
   "name": "python",
   "nbconvert_exporter": "python",
   "pygments_lexer": "ipython3",
   "version": "3.10.12"
  }
 },
 "nbformat": 4,
 "nbformat_minor": 2
}
