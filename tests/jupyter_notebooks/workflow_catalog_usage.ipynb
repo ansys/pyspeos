{
 "cells": [
  {
   "cell_type": "code",
   "execution_count": 1,
   "metadata": {},
   "outputs": [],
   "source": [
    "import os\n",
    "import ansys.speos.core as core\n",
    "import ansys.speos.workflow as workflow\n",
    "\n",
    "tests_data_path = os.path.join(os.path.join(os.path.abspath(''), os.path.pardir), \"assets\")"
   ]
  },
  {
   "cell_type": "code",
   "execution_count": 2,
   "metadata": {},
   "outputs": [],
   "source": [
    "from ansys.speos.core.speos import Speos\n",
    "speos = Speos(host=\"localhost\", port=50051)\n",
    "workflow.clean_all_dbs(speos.client)"
   ]
  },
  {
   "cell_type": "markdown",
   "metadata": {},
   "source": [
    "# Create a catalog with camera sensor templates"
   ]
  },
  {
   "cell_type": "code",
   "execution_count": 3,
   "metadata": {},
   "outputs": [],
   "source": [
    "camera_input_path = os.path.join(tests_data_path, \"CameraInputFiles\")\n",
    "\n",
    "camera_t_1 = core.SensorTemplateFactory.camera(name=\"CameraTemplate_1\", \n",
    "                                               distorsion_file_uri=os.path.join(camera_input_path, \"CameraDistortion_130deg.OPTDistortion\"),\n",
    "                                               transmittance_file_uri=os.path.join(camera_input_path, \"CameraTransmittance.spectrum\"),\n",
    "                                               spectrum_file_uris=[os.path.join(camera_input_path, \"CameraSensitivityRed.spectrum\"),\n",
    "                                                                   os.path.join(camera_input_path, \"CameraSensitivityGreen.spectrum\"),\n",
    "                                                                   os.path.join(camera_input_path, \"CameraSensitivityBlue.spectrum\")],\n",
    "                                               settings=core.SensorTemplateFactory.CameraSettings(gamma_correction=2.2,\n",
    "                                                                                                  focal_length=8.0,\n",
    "                                                                                                  imager_distance=10.0,\n",
    "                                                                                                  f_number=30.0),\n",
    "                                               dimensions=core.SensorTemplateFactory.CameraDimensions(horz_pixel=640, vert_pixel=480, width=5.0, height=5.0),\n",
    "                                               wavelengths_range=core.SensorTemplateFactory.WavelengthsRange(start=400.0, end=700.0, sampling=13),\n",
    "                                               description=\"focal_length 8.0mm | distorsion 130deg\")\n",
    "\n",
    "camera_t_2 = core.SensorTemplateFactory.camera(name=\"CameraTemplate_2\", \n",
    "                                               distorsion_file_uri=os.path.join(camera_input_path, \"CameraDistortion_130deg.OPTDistortion\"),\n",
    "                                               transmittance_file_uri=os.path.join(camera_input_path, \"CameraTransmittance.spectrum\"),\n",
    "                                               spectrum_file_uris=[os.path.join(camera_input_path, \"CameraSensitivityRed.spectrum\"),\n",
    "                                                                   os.path.join(camera_input_path, \"CameraSensitivityGreen.spectrum\"),\n",
    "                                                                   os.path.join(camera_input_path, \"CameraSensitivityBlue.spectrum\")],\n",
    "                                               settings=core.SensorTemplateFactory.CameraSettings(gamma_correction=2.2,\n",
    "                                                                                                  focal_length=4.0,\n",
    "                                                                                                  imager_distance=10.0,\n",
    "                                                                                                  f_number=30.0),\n",
    "                                               dimensions=core.SensorTemplateFactory.CameraDimensions(horz_pixel=640, vert_pixel=480, width=5.0, height=5.0),\n",
    "                                               wavelengths_range=core.SensorTemplateFactory.WavelengthsRange(start=400.0, end=700.0, sampling=13),\n",
    "                                               description=\"focal_length 4.0mm | distorsion 130deg\")\n",
    "\n",
    "camera_t_3 = core.SensorTemplateFactory.camera(name=\"CameraTemplate_3\", \n",
    "                                               distorsion_file_uri=os.path.join(camera_input_path, \"CameraDistortion_190deg.OPTDistortion\"),\n",
    "                                               transmittance_file_uri=os.path.join(camera_input_path, \"CameraTransmittance.spectrum\"),\n",
    "                                               spectrum_file_uris=[os.path.join(camera_input_path, \"CameraSensitivityRed.spectrum\"),\n",
    "                                                                   os.path.join(camera_input_path, \"CameraSensitivityGreen.spectrum\"),\n",
    "                                                                   os.path.join(camera_input_path, \"CameraSensitivityBlue.spectrum\")],\n",
    "                                               settings=core.SensorTemplateFactory.CameraSettings(gamma_correction=2.2,\n",
    "                                                                                                  focal_length=8.0,\n",
    "                                                                                                  imager_distance=10.0,\n",
    "                                                                                                  f_number=30.0),\n",
    "                                               dimensions=core.SensorTemplateFactory.CameraDimensions(horz_pixel=640, vert_pixel=480, width=5.0, height=5.0),\n",
    "                                               wavelengths_range=core.SensorTemplateFactory.WavelengthsRange(start=400.0, end=700.0, sampling=13),\n",
    "                                               description=\"focal_length 8.0mm | distorsion 190deg\")\n",
    "\n",
    "camera_t_4 = core.SensorTemplateFactory.camera(name=\"CameraTemplate_4\", \n",
    "                                               distorsion_file_uri=os.path.join(camera_input_path, \"CameraDistortion_190deg.OPTDistortion\"),\n",
    "                                               transmittance_file_uri=os.path.join(camera_input_path, \"CameraTransmittance.spectrum\"),\n",
    "                                               spectrum_file_uris=[os.path.join(camera_input_path, \"CameraSensitivityRed.spectrum\"),\n",
    "                                                                   os.path.join(camera_input_path, \"CameraSensitivityGreen.spectrum\"),\n",
    "                                                                   os.path.join(camera_input_path, \"CameraSensitivityBlue.spectrum\")],\n",
    "                                               settings=core.SensorTemplateFactory.CameraSettings(gamma_correction=2.2,\n",
    "                                                                                                  focal_length=4.0,\n",
    "                                                                                                  imager_distance=10.0,\n",
    "                                                                                                  f_number=30.0),\n",
    "                                               dimensions=core.SensorTemplateFactory.CameraDimensions(horz_pixel=640, vert_pixel=480, width=5.0, height=5.0),\n",
    "                                               wavelengths_range=core.SensorTemplateFactory.WavelengthsRange(start=400.0, end=700.0, sampling=13),\n",
    "                                               description=\"focal_length 4.0mm | distorsion 190deg\")\n",
    "\n",
    "catalog = workflow.Catalog(speos=speos)\n",
    "catalog.fill(catalog_name=\"CameraCatalog\", sensor_templates=[camera_t_1, camera_t_2, camera_t_3, camera_t_4])"
   ]
  },
  {
   "cell_type": "markdown",
   "metadata": {},
   "source": [
    "# Load a speos file"
   ]
  },
  {
   "cell_type": "code",
   "execution_count": 6,
   "metadata": {},
   "outputs": [
    {
     "name": "stdout",
     "output_type": "stream",
     "text": [
      "[name: \"Camera.1:21\"\n",
      "sensor_guid: \"829219b3-65cc-4072-98a7-1c94f585576a\"\n",
      "result_file_name: \"Inverse.1.Camera.1\"\n",
      "camera_sensor_properties {\n",
      "  axis_system: 17.0\n",
      "  axis_system: 10.050000000000002\n",
      "  axis_system: 14.499999999999998\n",
      "  axis_system: -0.0\n",
      "  axis_system: -0.0\n",
      "  axis_system: -1.0\n",
      "  axis_system: 0.0\n",
      "  axis_system: 1.0\n",
      "  axis_system: 0.0\n",
      "  axis_system: 1.0\n",
      "  axis_system: 0.0\n",
      "  axis_system: 0.0\n",
      "  layer_type_source {\n",
      "  }\n",
      "}\n",
      ", name: \"Irradiance.1:28\"\n",
      "sensor_guid: \"26c4caea-bd6e-418a-9ec2-07a0865080cc\"\n",
      "result_file_name: \"Inverse.1.Irradiance.1\"\n",
      "irradiance_sensor_properties {\n",
      "  axis_system: 0.0\n",
      "  axis_system: 0.0\n",
      "  axis_system: 0.0\n",
      "  axis_system: 0.0\n",
      "  axis_system: 0.0\n",
      "  axis_system: 1.0\n",
      "  axis_system: 0.0\n",
      "  axis_system: 1.0\n",
      "  axis_system: -0.0\n",
      "  axis_system: -1.0\n",
      "  axis_system: 0.0\n",
      "  axis_system: 0.0\n",
      "  layer_type_sequence {\n",
      "    maximum_nb_of_sequence: 10\n",
      "    define_sequence_per: Faces\n",
      "  }\n",
      "  integration_direction: 0.0\n",
      "  integration_direction: 0.0\n",
      "  integration_direction: 1.0\n",
      "}\n",
      "]\n"
     ]
    }
   ],
   "source": [
    "simu_name = \"Inverse_SeveralSensors.speos\"\n",
    "speos_file = os.path.join(tests_data_path, os.path.join(simu_name, simu_name))\n",
    "\n",
    "ssm = workflow.SpeosSimulationMod(speos=speos, file_name=speos_file)\n",
    "print(ssm.scene.get().sensors) # first sensor instance is a camera"
   ]
  },
  {
   "cell_type": "markdown",
   "metadata": {},
   "source": [
    "## Print the sensor template in use"
   ]
  },
  {
   "cell_type": "code",
   "execution_count": 7,
   "metadata": {},
   "outputs": [
    {
     "name": "stdout",
     "output_type": "stream",
     "text": [
      "ansys.api.speos.sensor.v1.SensorTemplate\n",
      "{\n",
      "    \"camera_sensor_template\": {\n",
      "        \"sensor_mode_photometric\": {\n",
      "            \"transmittance_file_uri\": \"c:\\\\ANSYSDev\\\\NoBackup\\\\pyspeos\\\\tests\\\\jupyter_notebooks\\\\..\\\\assets\\\\Inverse_SeveralSensors.speos\\\\CameraTransmittance_7345-0c60-5ae6-d225.spectrum\",\n",
      "            \"gamma_correction\": 2.2,\n",
      "            \"color_mode_color\": {\n",
      "                \"red_spectrum_file_uri\": \"c:\\\\ANSYSDev\\\\NoBackup\\\\pyspeos\\\\tests\\\\jupyter_notebooks\\\\..\\\\assets\\\\Inverse_SeveralSensors.speos\\\\CameraSensitivityRed_9433-b5a9-12ab-7c7f.spectrum\",\n",
      "                \"green_spectrum_file_uri\": \"c:\\\\ANSYSDev\\\\NoBackup\\\\pyspeos\\\\tests\\\\jupyter_notebooks\\\\..\\\\assets\\\\Inverse_SeveralSensors.speos\\\\CameraSensitivityGreen_b5d3-6c51-134d-a5d6.spectrum\",\n",
      "                \"blue_spectrum_file_uri\": \"c:\\\\ANSYSDev\\\\NoBackup\\\\pyspeos\\\\tests\\\\jupyter_notebooks\\\\..\\\\assets\\\\Inverse_SeveralSensors.speos\\\\CameraSensitivityBlue_1044-9741-9c42-85c2.spectrum\",\n",
      "                \"balance_mode_none\": {}\n",
      "            },\n",
      "            \"wavelengths_range\": {\n",
      "                \"w_start\": 400.0,\n",
      "                \"w_end\": 700.0,\n",
      "                \"w_sampling\": 13\n",
      "            },\n",
      "            \"acquisition_integration\": 0.0,\n",
      "            \"acquisition_lag_time\": 0.0,\n",
      "            \"png_bits\": \"PNG_08\"\n",
      "        },\n",
      "        \"focal_length\": 4.0,\n",
      "        \"imager_distance\": 10.0,\n",
      "        \"f_number\": 30.0,\n",
      "        \"distorsion_file_uri\": \"c:\\\\ANSYSDev\\\\NoBackup\\\\pyspeos\\\\tests\\\\jupyter_notebooks\\\\..\\\\assets\\\\Inverse_SeveralSensors.speos\\\\CameraDistortion.OPTDistortion\",\n",
      "        \"horz_pixel\": 640,\n",
      "        \"vert_pixel\": 480,\n",
      "        \"width\": 5.0,\n",
      "        \"height\": 5.0\n",
      "    },\n",
      "    \"name\": \"Camera.1:21\",\n",
      "    \"description\": \"\",\n",
      "    \"metadata\": {}\n",
      "}\n"
     ]
    }
   ],
   "source": [
    "print(speos.client.get_item(ssm.scene.get().sensors[0].sensor_guid)) # focal length at 4.0"
   ]
  },
  {
   "cell_type": "code",
   "execution_count": 12,
   "metadata": {},
   "outputs": [
    {
     "name": "stdout",
     "output_type": "stream",
     "text": [
      "results {\n",
      "  path: \"C:\\\\Users\\\\echambla\\\\AppData\\\\Local\\\\Temp\\\\jobs\\\\d57dbdf4-cb78-4084-a815-f28fe7539a64\\\\Inverse.1.Camera.1.Irradiance.xmp\"\n",
      "}\n",
      "results {\n",
      "  path: \"C:\\\\Users\\\\echambla\\\\AppData\\\\Local\\\\Temp\\\\jobs\\\\d57dbdf4-cb78-4084-a815-f28fe7539a64\\\\Inverse.1.Camera.1.hdr\"\n",
      "}\n",
      "results {\n",
      "  path: \"C:\\\\Users\\\\echambla\\\\AppData\\\\Local\\\\Temp\\\\jobs\\\\d57dbdf4-cb78-4084-a815-f28fe7539a64\\\\Inverse.1.Camera.1.xmp\"\n",
      "}\n",
      "results {\n",
      "  path: \"C:\\\\Users\\\\echambla\\\\AppData\\\\Local\\\\Temp\\\\jobs\\\\d57dbdf4-cb78-4084-a815-f28fe7539a64\\\\Inverse.1.Camera.1.png\"\n",
      "}\n",
      "results {\n",
      "  path: \"C:\\\\Users\\\\echambla\\\\AppData\\\\Local\\\\Temp\\\\jobs\\\\d57dbdf4-cb78-4084-a815-f28fe7539a64\\\\Inverse.1.Irradiance.1.xmp\"\n",
      "}\n",
      "results {\n",
      "  path: \"C:\\\\Users\\\\echambla\\\\AppData\\\\Local\\\\Temp\\\\jobs\\\\d57dbdf4-cb78-4084-a815-f28fe7539a64\\\\Inverse.1.Irradiance.1.lpf.OptHash\"\n",
      "}\n",
      "results {\n",
      "  path: \"C:\\\\Users\\\\echambla\\\\AppData\\\\Local\\\\Temp\\\\jobs\\\\d57dbdf4-cb78-4084-a815-f28fe7539a64\\\\Inverse.1.Irradiance.1.lpf\"\n",
      "}\n",
      "results {\n",
      "  path: \"C:\\\\Users\\\\echambla\\\\AppData\\\\Local\\\\Temp\\\\jobs\\\\d57dbdf4-cb78-4084-a815-f28fe7539a64\\\\Inverse.1.Irradiance.1.OptSequence\"\n",
      "}\n",
      "results {\n",
      "  path: \"C:\\\\Users\\\\echambla\\\\AppData\\\\Local\\\\Temp\\\\jobs\\\\d57dbdf4-cb78-4084-a815-f28fe7539a64\\\\Inverse.1.html\"\n",
      "}\n",
      "\n"
     ]
    }
   ],
   "source": [
    "job_before = ssm.compute(job_name=\"beforeModification\", stop_condition_duration=7)\n",
    "print(job_before.get_results())"
   ]
  },
  {
   "cell_type": "code",
   "execution_count": 13,
   "metadata": {},
   "outputs": [],
   "source": [
    "ssr_t = catalog.find_sensor_template(name=\"CameraTemplate_3\") # focal length at 8.0 and different distortion file \n",
    "ssm.modify_template(instance_index=0, template=ssr_t)\n"
   ]
  },
  {
   "cell_type": "code",
   "execution_count": 14,
   "metadata": {},
   "outputs": [
    {
     "name": "stdout",
     "output_type": "stream",
     "text": [
      "results {\n",
      "  path: \"C:\\\\Users\\\\echambla\\\\AppData\\\\Local\\\\Temp\\\\jobs\\\\d57dbdf4-cb78-4084-a815-f28fe7539a64\\\\Inverse.1.Camera.1.Irradiance.xmp\"\n",
      "}\n",
      "results {\n",
      "  path: \"C:\\\\Users\\\\echambla\\\\AppData\\\\Local\\\\Temp\\\\jobs\\\\d57dbdf4-cb78-4084-a815-f28fe7539a64\\\\Inverse.1.Camera.1.hdr\"\n",
      "}\n",
      "results {\n",
      "  path: \"C:\\\\Users\\\\echambla\\\\AppData\\\\Local\\\\Temp\\\\jobs\\\\d57dbdf4-cb78-4084-a815-f28fe7539a64\\\\Inverse.1.Camera.1.xmp\"\n",
      "}\n",
      "results {\n",
      "  path: \"C:\\\\Users\\\\echambla\\\\AppData\\\\Local\\\\Temp\\\\jobs\\\\d57dbdf4-cb78-4084-a815-f28fe7539a64\\\\Inverse.1.Camera.1.png\"\n",
      "}\n",
      "results {\n",
      "  path: \"C:\\\\Users\\\\echambla\\\\AppData\\\\Local\\\\Temp\\\\jobs\\\\d57dbdf4-cb78-4084-a815-f28fe7539a64\\\\Inverse.1.Irradiance.1.xmp\"\n",
      "}\n",
      "results {\n",
      "  path: \"C:\\\\Users\\\\echambla\\\\AppData\\\\Local\\\\Temp\\\\jobs\\\\d57dbdf4-cb78-4084-a815-f28fe7539a64\\\\Inverse.1.Irradiance.1.lpf.OptHash\"\n",
      "}\n",
      "results {\n",
      "  path: \"C:\\\\Users\\\\echambla\\\\AppData\\\\Local\\\\Temp\\\\jobs\\\\d57dbdf4-cb78-4084-a815-f28fe7539a64\\\\Inverse.1.Irradiance.1.lpf\"\n",
      "}\n",
      "results {\n",
      "  path: \"C:\\\\Users\\\\echambla\\\\AppData\\\\Local\\\\Temp\\\\jobs\\\\d57dbdf4-cb78-4084-a815-f28fe7539a64\\\\Inverse.1.Irradiance.1.OptSequence\"\n",
      "}\n",
      "results {\n",
      "  path: \"C:\\\\Users\\\\echambla\\\\AppData\\\\Local\\\\Temp\\\\jobs\\\\d57dbdf4-cb78-4084-a815-f28fe7539a64\\\\Inverse.1.html\"\n",
      "}\n",
      "\n"
     ]
    }
   ],
   "source": [
    "job_after = ssm.compute(job_name=\"afterModification\", stop_condition_duration=7)\n",
    "print(job_before.get_results())"
   ]
  },
  {
   "cell_type": "code",
   "execution_count": 11,
   "metadata": {},
   "outputs": [],
   "source": [
    "job_before.delete()\n",
    "job_after.delete()"
   ]
  }
 ],
 "metadata": {
  "kernelspec": {
   "display_name": ".venv",
   "language": "python",
   "name": "python3"
  },
  "language_info": {
   "codemirror_mode": {
    "name": "ipython",
    "version": 3
   },
   "file_extension": ".py",
   "mimetype": "text/x-python",
   "name": "python",
   "nbconvert_exporter": "python",
   "pygments_lexer": "ipython3",
   "version": "3.10.12"
  }
 },
 "nbformat": 4,
 "nbformat_minor": 2
}
