{
 "cells": [
  {
   "cell_type": "markdown",
   "metadata": {},
   "source": [
    "Needed imports and utility"
   ]
  },
  {
   "cell_type": "code",
   "execution_count": null,
   "metadata": {},
   "outputs": [],
   "source": [
    "import os\n",
    "import ansys.speos.core as core\n",
    "import ansys.speos.workflow as workflow\n",
    "\n",
    "tests_data_path = os.path.join(os.path.join(os.path.abspath(''), os.path.pardir), \"assets\")\n",
    "\n",
    "def print_message(msg):\n",
    "    print(core.protobuf_message_to_str(msg))"
   ]
  },
  {
   "cell_type": "markdown",
   "metadata": {},
   "source": [
    "# Create connection with speos rpc server"
   ]
  },
  {
   "cell_type": "code",
   "execution_count": null,
   "metadata": {},
   "outputs": [],
   "source": [
    "from ansys.speos.core.speos import Speos\n",
    "speos = Speos(host=\"localhost\", port=50051)\n",
    "workflow.clean_all_dbs(speos.client)"
   ]
  },
  {
   "cell_type": "markdown",
   "metadata": {},
   "source": [
    "# Create SpeosSimulationUpdate"
   ]
  },
  {
   "cell_type": "code",
   "execution_count": null,
   "metadata": {},
   "outputs": [],
   "source": [
    "simu_name = \"Inverse_SeveralSensors.speos\"\n",
    "speos_file = os.path.join(tests_data_path, os.path.join(simu_name, simu_name))\n",
    "\n",
    "ssu = workflow.SpeosSimulationUpdate(speos=speos, file_name=speos_file)\n",
    "print(ssu.status)\n",
    "print(ssu.scene)"
   ]
  },
  {
   "cell_type": "markdown",
   "metadata": {},
   "source": [
    "# New Cameras\n",
    "## Create two PhotometricCameraSensorParameters"
   ]
  },
  {
   "cell_type": "code",
   "execution_count": null,
   "metadata": {},
   "outputs": [],
   "source": [
    "camera_input_path = os.path.join(tests_data_path, \"CameraInputFiles\")\n",
    "\n",
    "camera_fov_190 = workflow.PhotometricCameraSensorParameters()\n",
    "camera_fov_190.name = \"FOV_190deg\"\n",
    "camera_fov_190.transmittance_file = os.path.join(camera_input_path, \"CameraTransmittance.spectrum\")\n",
    "camera_fov_190.distorsion_file = os.path.join(camera_input_path, \"CameraDistortion_190deg.OPTDistortion\")\n",
    "camera_fov_190.color_mode_red_spectrum_file = os.path.join(camera_input_path, \"CameraSensitivityRed.spectrum\")\n",
    "camera_fov_190.color_mode_green_spectrum_file = os.path.join(camera_input_path, \"CameraSensitivityGreen.spectrum\")\n",
    "camera_fov_190.color_mode_blue_spectrum_file = os.path.join(camera_input_path, \"CameraSensitivityBlue.spectrum\")\n",
    "camera_fov_190.wavelengths_start = 380\n",
    "camera_fov_190.wavelengths_end = 780\n",
    "camera_fov_190.wavelengths_sampling = 21\n",
    "camera_fov_190.focal_length = 0.9\n",
    "camera_fov_190.imager_distance = 19.1\n",
    "camera_fov_190.f_number = 2\n",
    "camera_fov_190.horizontal_pixel = 640\n",
    "camera_fov_190.vertical_pixel = 480\n",
    "camera_fov_190.width = 3.6\n",
    "camera_fov_190.height = 2.7\n",
    "\n",
    "camera_fov_150 = camera_fov_190.copy()\n",
    "camera_fov_150.name = \"FOV_150deg\"\n",
    "camera_fov_150.distorsion_file = os.path.join(camera_input_path, \"CameraDistortion_150deg.OPTDistortion\")\n",
    "\n",
    "cameras = []\n",
    "cameras.append(camera_fov_190)\n",
    "cameras.append(camera_fov_150)\n"
   ]
  },
  {
   "cell_type": "markdown",
   "metadata": {},
   "source": [
    "## Create CameraSensorProperties"
   ]
  },
  {
   "cell_type": "code",
   "execution_count": null,
   "metadata": {},
   "outputs": [],
   "source": [
    "camera_props = workflow.CameraSensorProperties()\n",
    "camera_props.origin = [17, 10, 15]\n",
    "camera_props.x_vector = [0.0, 0.0, -1.0]\n",
    "camera_props.y_vector = [0.0, 1.0, 0.0]\n",
    "camera_props.z_vector = [1.0, 0.0, 0.0]"
   ]
  },
  {
   "cell_type": "markdown",
   "metadata": {},
   "source": [
    "# Add cameras to the simulation"
   ]
  },
  {
   "cell_type": "code",
   "execution_count": null,
   "metadata": {},
   "outputs": [],
   "source": [
    "for camera in cameras:\n",
    "    ssu.add_camera_sensor(camera, camera_props)"
   ]
  },
  {
   "cell_type": "markdown",
   "metadata": {},
   "source": [
    "# Compute"
   ]
  },
  {
   "cell_type": "code",
   "execution_count": null,
   "metadata": {},
   "outputs": [],
   "source": [
    "job_link = ssu.compute(\"first_job\")\n",
    "print_message(job_link.get_results())"
   ]
  },
  {
   "cell_type": "markdown",
   "metadata": {},
   "source": [
    "# Clean after usage"
   ]
  },
  {
   "cell_type": "code",
   "execution_count": null,
   "metadata": {},
   "outputs": [],
   "source": [
    "job_link.delete()"
   ]
  },
  {
   "cell_type": "code",
   "execution_count": null,
   "metadata": {},
   "outputs": [],
   "source": [
    "ssu.close()\n",
    "print(ssu.status)"
   ]
  }
 ],
 "metadata": {
  "kernelspec": {
   "display_name": ".venv",
   "language": "python",
   "name": "python3"
  },
  "language_info": {
   "codemirror_mode": {
    "name": "ipython",
    "version": 3
   },
   "file_extension": ".py",
   "mimetype": "text/x-python",
   "name": "python",
   "nbconvert_exporter": "python",
   "pygments_lexer": "ipython3",
   "version": "3.10.12"
  }
 },
 "nbformat": 4,
 "nbformat_minor": 2
}
