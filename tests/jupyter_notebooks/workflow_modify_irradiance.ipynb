{
 "cells": [
  {
   "cell_type": "markdown",
   "metadata": {
    "collapsed": false,
    "jupyter": {
     "outputs_hidden": false
    }
   },
   "source": [
    "# Needed imports and utility"
   ]
  },
  {
   "cell_type": "code",
   "execution_count": 9,
   "metadata": {
    "collapsed": false,
    "jupyter": {
     "outputs_hidden": false
    }
   },
   "outputs": [],
   "source": [
    "import os\n",
    "import matplotlib.pyplot as plt\n",
    "import matplotlib.image as mpimg\n",
    "\n",
    "from comtypes.client import CreateObject\n",
    "\n",
    "import ansys.speos.core as core\n",
    "from ansys.speos.core.speos import Speos\n",
    "import ansys.speos.workflow as workflow\n",
    "\n",
    "tests_data_path = os.path.join(os.path.join(os.path.abspath(''), os.path.pardir), \"assets\")\n",
    "\n",
    "def print_message(msg):\n",
    "    print(core.protobuf_message_to_str(msg))\n",
    "\n",
    "def open_file(file):\n",
    "    dpf_instance = None\n",
    "    if file.endswith(\"xmp\") or file.endswith(\"XMP\"):\n",
    "        dpf_instance = CreateObject(\"XMPViewer.Application\")\n",
    "        dpf_instance.OpenFile(file)\n",
    "        res = dpf_instance.ExportXMPImage(file+\".png\", 1)\n",
    "        if res:\n",
    "            img = mpimg.imread(file+\".png\")\n",
    "            plt.imshow(img)\n",
    "            plt.axis(\"off\")   # turns off axes\n",
    "            plt.axis(\"tight\")  # gets rid of white border\n",
    "            plt.axis(\"image\")  # square up the image instead of filling the \"figure\" space\n",
    "            plt.show()\n",
    "    elif file.endswith(\"hdr\") or file.endswith(\"HDR\"):\n",
    "        dpf_instance = CreateObject(\"HDRIViewer.Application\")\n",
    "        dpf_instance.OpenFile(file)\n",
    "        dpf_instance.Show(1)\n",
    "    elif file.endswith(\"png\") or file.endswith(\"PNG\"):\n",
    "        img = mpimg.imread(file)\n",
    "        plt.imshow(img)\n",
    "        plt.axis(\"off\")   # turns off axes\n",
    "        plt.axis(\"tight\")  # gets rid of white border\n",
    "        plt.axis(\"image\")  # square up the image instead of filling the \"figure\" space\n",
    "        plt.show()\n",
    "    return dpf_instance"
   ]
  },
  {
   "cell_type": "markdown",
   "metadata": {
    "collapsed": false,
    "jupyter": {
     "outputs_hidden": false
    }
   },
   "source": [
    "# Create connection with speos rpc server"
   ]
  },
  {
   "cell_type": "code",
   "execution_count": 10,
   "metadata": {
    "collapsed": false,
    "jupyter": {
     "outputs_hidden": false
    }
   },
   "outputs": [],
   "source": [
    "speos = Speos(host=\"localhost\", port=50051)\n",
    "workflow.clean_all_dbs(speos.client)"
   ]
  },
  {
   "cell_type": "markdown",
   "metadata": {
    "collapsed": false,
    "jupyter": {
     "outputs_hidden": false
    }
   },
   "source": [
    "# Create SpeosSimulationUpdate"
   ]
  },
  {
   "cell_type": "code",
   "execution_count": 11,
   "metadata": {
    "collapsed": false,
    "jupyter": {
     "outputs_hidden": false
    }
   },
   "outputs": [
    {
     "name": "stdout",
     "output_type": "stream",
     "text": [
      "Opened\n",
      "ansys.api.speos.scene.v1.Scene\n",
      "{\n",
      "    \"name\": \"Direct.1\",\n",
      "    \"description\": \"From D:\\\\Work\\\\Gitdir\\\\pyspeos\\\\tests\\\\jupyter_notebooks\\\\..\\\\assets\\\\Prism\\\\Direct.1.speos\",\n",
      "    \"part_guid\": \"be2cc71a-18b1-43ac-a232-4773e148e341\",\n",
      "    \"vops\": [\n",
      "        {\n",
      "            \"vop_guid\": \"d55f5f51-9bfc-45ab-bcc2-d60689881e66\",\n",
      "            \"geometries\": {\n",
      "                \"geo_paths\": [\n",
      "                    \"Solid:1692326488\"\n",
      "                ]\n",
      "            },\n",
      "            \"name\": \"\",\n",
      "            \"description\": \"\",\n",
      "            \"metadata\": {}\n",
      "        }\n",
      "    ],\n",
      "    \"sops\": [\n",
      "        {\n",
      "            \"sop_guid\": \"4a1771bb-fb76-4ef2-897b-97d2d5989fad\",\n",
      "            \"geometries\": {\n",
      "                \"geo_paths\": [\n",
      "                    \"Solid:1692326488/face.1:242396665\"\n",
      "                ]\n",
      "            },\n",
      "            \"name\": \"\",\n",
      "            \"description\": \"\",\n",
      "            \"metadata\": {}\n",
      "        },\n",
      "        {\n",
      "            \"sop_guid\": \"252171dd-d09b-474a-9004-beda14578047\",\n",
      "            \"geometries\": {\n",
      "                \"geo_paths\": [\n",
      "                    \"Surface:1439698964/face.1:1941163931\"\n",
      "                ]\n",
      "            },\n",
      "            \"name\": \"\",\n",
      "            \"description\": \"\",\n",
      "            \"metadata\": {}\n",
      "        },\n",
      "        {\n",
      "            \"sop_guid\": \"481819c3-e0ad-4167-a50c-402bc8170318\",\n",
      "            \"geometries\": {\n",
      "                \"geo_paths\": [\n",
      "                    \"Solid:1692326488/face.1:2461558887\",\n",
      "                    \"Solid:1692326488/face.1:3666598035\",\n",
      "                    \"Solid:1692326488/face.1:1178672397\",\n",
      "                    \"Solid:1692326488/face.1:3592846565\"\n",
      "                ]\n",
      "            },\n",
      "            \"name\": \"\",\n",
      "            \"description\": \"\",\n",
      "            \"metadata\": {}\n",
      "        }\n",
      "    ],\n",
      "    \"sources\": [\n",
      "        {\n",
      "            \"name\": \"Surface.1:7758\",\n",
      "            \"source_guid\": \"699f0b9f-90e8-400a-bd33-6360c4ffc393\",\n",
      "            \"surface_properties\": {\n",
      "                \"exitance_constant_properties\": {\n",
      "                    \"geo_paths\": [\n",
      "                        {\n",
      "                            \"geo_path\": \"Surface:1439698964/face.1:1941163931\",\n",
      "                            \"reverse_normal\": true\n",
      "                        }\n",
      "                    ]\n",
      "                }\n",
      "            },\n",
      "            \"description\": \"\",\n",
      "            \"metadata\": {}\n",
      "        }\n",
      "    ],\n",
      "    \"sensors\": [\n",
      "        {\n",
      "            \"name\": \"Irradiance.1:564\",\n",
      "            \"sensor_guid\": \"fe651488-bf21-4c0c-9e35-73d9951458d7\",\n",
      "            \"result_file_name\": \"Direct.1.Irradiance.1\",\n",
      "            \"irradiance_sensor_properties\": {\n",
      "                \"axis_system\": [\n",
      "                    921.3551052231927,\n",
      "                    0.0,\n",
      "                    388.72197015239516,\n",
      "                    -0.3887219701523952,\n",
      "                    -0.0,\n",
      "                    0.9213551052231927,\n",
      "                    0.0,\n",
      "                    1.0000000000000002,\n",
      "                    0.0,\n",
      "                    -0.9213551052231927,\n",
      "                    0.0,\n",
      "                    -0.3887219701523952\n",
      "                ],\n",
      "                \"layer_type_none\": {},\n",
      "                \"integration_direction\": [\n",
      "                    0.0,\n",
      "                    0.0,\n",
      "                    1.0000000000000002\n",
      "                ],\n",
      "                \"ray_file_type\": \"RayFileNone\"\n",
      "            },\n",
      "            \"description\": \"\",\n",
      "            \"metadata\": {}\n",
      "        }\n",
      "    ],\n",
      "    \"simulations\": [\n",
      "        {\n",
      "            \"name\": \"Direct.1\",\n",
      "            \"simulation_guid\": \"55621822-f109-47a8-8fd1-9e0bf5d4cb56\",\n",
      "            \"sensor_paths\": [\n",
      "                \"Irradiance.1:564\"\n",
      "            ],\n",
      "            \"source_paths\": [\n",
      "                \"Surface.1:7758\"\n",
      "            ],\n",
      "            \"description\": \"\",\n",
      "            \"metadata\": {}\n",
      "        }\n",
      "    ],\n",
      "    \"metadata\": {},\n",
      "    \"scenes\": []\n",
      "}\n"
     ]
    }
   ],
   "source": [
    "sim_file = os.path.join(tests_data_path, \"Prism\", \"Direct.1.speos\")\n",
    "ssu = workflow.SpeosSimulationUpdate(speos=speos, file_name=sim_file)\n",
    "print(ssu.status)\n",
    "print(ssu.scene)"
   ]
  },
  {
   "cell_type": "markdown",
   "metadata": {
    "collapsed": false,
    "jupyter": {
     "outputs_hidden": false
    }
   },
   "source": [
    "# New Irradiance sensor\n",
    "## Create two IrradianceSensorParameters"
   ]
  },
  {
   "cell_type": "code",
   "execution_count": 12,
   "metadata": {
    "collapsed": false,
    "jupyter": {
     "outputs_hidden": false
    }
   },
   "outputs": [],
   "source": [
    "sensors = []\n",
    "\n",
    "irradiance_sensor = workflow.IrradianceSensorParameters() # use default parameters\n",
    "sensors.append(irradiance_sensor)\n",
    "\n",
    "irradiance_sensor_new = irradiance_sensor.copy() # assign values to parameters\n",
    "irradiance_sensor_new.name = \"new_sensor\"\n",
    "irradiance_sensor_new.integration_type = core.SensorTemplateFactory.IlluminanceType.Planar\n",
    "irradiance_sensor_new.type = core.SensorTemplateFactory.Type.Spectral\n",
    "irradiance_sensor_new.wavelengths_start = 380\n",
    "irradiance_sensor_new.wavelengths_end = 780\n",
    "irradiance_sensor_new.wavelengths_sampling = 41\n",
    "irradiance_sensor_new.x_range_start = -40\n",
    "irradiance_sensor_new.x_range_end = 40\n",
    "irradiance_sensor_new.x_range_sampling = 400\n",
    "irradiance_sensor_new.y_range_start = -5\n",
    "irradiance_sensor_new.y_range_end = 5\n",
    "irradiance_sensor_new.y_range_sampling = 100\n",
    "sensors.append(irradiance_sensor_new)\n"
   ]
  },
  {
   "cell_type": "markdown",
   "metadata": {
    "collapsed": false,
    "jupyter": {
     "outputs_hidden": false
    }
   },
   "source": [
    "# Create IrradianceSensorProperties"
   ]
  },
  {
   "cell_type": "code",
   "execution_count": 13,
   "metadata": {
    "collapsed": false,
    "jupyter": {
     "outputs_hidden": false
    }
   },
   "outputs": [],
   "source": [
    "irradiance_props = workflow.IrradianceSensorProperties()\n",
    "irradiance_props.origin = [921.36, 0, 388.72]\n",
    "irradiance_props.x_vector = [0.388721970152395, 0, -0.921355105223193]\n",
    "irradiance_props.y_vector = [0.0, 1.0, 0.0]\n",
    "irradiance_props.z_vector = [0.921355105223193, 0.0, 0.388721970152395]"
   ]
  },
  {
   "cell_type": "markdown",
   "metadata": {
    "collapsed": false,
    "jupyter": {
     "outputs_hidden": false
    }
   },
   "source": [
    "# Add Irradiance sensors to simulation"
   ]
  },
  {
   "cell_type": "code",
   "execution_count": 14,
   "metadata": {
    "collapsed": false,
    "jupyter": {
     "outputs_hidden": false
    }
   },
   "outputs": [],
   "source": [
    "for sensor in sensors:\n",
    "    ssu.add_irradiance_sensor(sensor, irradiance_props)"
   ]
  },
  {
   "cell_type": "markdown",
   "metadata": {
    "collapsed": false,
    "jupyter": {
     "outputs_hidden": false
    }
   },
   "source": [
    "# Compute simulation"
   ]
  },
  {
   "cell_type": "code",
   "execution_count": 15,
   "metadata": {
    "collapsed": false,
    "jupyter": {
     "outputs_hidden": false
    }
   },
   "outputs": [
    {
     "name": "stdout",
     "output_type": "stream",
     "text": [
      "██████████████████████████████████████████████████| 100.\n",
      "ansys.api.speos.job.v2.GetResults_Response\n",
      "{\n",
      "    \"results\": [\n",
      "        {\n",
      "            \"path\": \"C:\\\\Users\\\\sthoene\\\\AppData\\\\Local\\\\Temp\\\\jobs\\\\84138841-86c9-4212-979c-1fce8132a80a\\\\Direct.1.Irradiance.1.xmp\"\n",
      "        },\n",
      "        {\n",
      "            \"path\": \"C:\\\\Users\\\\sthoene\\\\AppData\\\\Local\\\\Temp\\\\jobs\\\\84138841-86c9-4212-979c-1fce8132a80a\\\\irradiance sensor.1.xmp\"\n",
      "        },\n",
      "        {\n",
      "            \"path\": \"C:\\\\Users\\\\sthoene\\\\AppData\\\\Local\\\\Temp\\\\jobs\\\\84138841-86c9-4212-979c-1fce8132a80a\\\\new_sensor.1.xmp\"\n",
      "        },\n",
      "        {\n",
      "            \"path\": \"C:\\\\Users\\\\sthoene\\\\AppData\\\\Local\\\\Temp\\\\jobs\\\\84138841-86c9-4212-979c-1fce8132a80a\\\\Direct.1.html\"\n",
      "        }\n",
      "    ]\n",
      "}\n"
     ]
    },
    {
     "data": {
      "image/png": "[encoded data removed]",
      "text/plain": [
       "<Figure size 640x480 with 1 Axes>"
      ]
     },
     "metadata": {},
     "output_type": "display_data"
    },
    {
     "data": {
      "image/png": "[encoded data removed]",
      "text/plain": [
       "<Figure size 640x480 with 1 Axes>"
      ]
     },
     "metadata": {},
     "output_type": "display_data"
    },
    {
     "data": {
      "text/plain": [
       "<comtypes.client.dynamic._Dispatch at 0x1e6a1f129d0>"
      ]
     },
     "execution_count": 15,
     "metadata": {},
     "output_type": "execute_result"
    }
   ],
   "source": [
    "job_link = ssu.compute(\"first_job\")\n",
    "print_message(job_link.get_results())\n",
    "open_file(job_link.get_results().results[2].path)\n",
    "open_file(job_link.get_results().results[1].path)"
   ]
  },
  {
   "cell_type": "markdown",
   "metadata": {
    "collapsed": false,
    "jupyter": {
     "outputs_hidden": false
    }
   },
   "source": [
    "# Modify the irradiance sensor"
   ]
  },
  {
   "cell_type": "code",
   "execution_count": 16,
   "metadata": {
    "collapsed": false,
    "jupyter": {
     "outputs_hidden": false
    }
   },
   "outputs": [],
   "source": [
    "irradiance_sensor_update = irradiance_sensor_new.copy()\n",
    "\n",
    "irradiance_props_update = workflow.IrradianceSensorProperties()\n",
    "irradiance_props_update.origin = [1000, 0, 400]\n",
    "irradiance_props_update.x_vector = [0.388721970152395, 0, -0.921355105223193]\n",
    "irradiance_props_update.y_vector = [0.0, 1.0, 0.0]\n",
    "irradiance_props_update.z_vector = [0.921355105223193, 0.0, 0.388721970152395]\n",
    "\n",
    "ssu.update_sensor(irradiance_sensor_update, irradiance_props_update)"
   ]
  },
  {
   "cell_type": "markdown",
   "metadata": {
    "collapsed": false,
    "jupyter": {
     "outputs_hidden": false
    }
   },
   "source": [
    "# Compute the modified simulation"
   ]
  },
  {
   "cell_type": "code",
   "execution_count": 17,
   "metadata": {
    "collapsed": false,
    "jupyter": {
     "outputs_hidden": false
    }
   },
   "outputs": [
    {
     "name": "stdout",
     "output_type": "stream",
     "text": [
      "██████████████████████████████████████████████████| 100.\n",
      "ansys.api.speos.job.v2.GetResults_Response\n",
      "{\n",
      "    \"results\": [\n",
      "        {\n",
      "            \"path\": \"C:\\\\Users\\\\sthoene\\\\AppData\\\\Local\\\\Temp\\\\jobs\\\\96f858ce-c4b3-4f3b-8e20-958501451101\\\\Direct.1.Irradiance.1.xmp\"\n",
      "        },\n",
      "        {\n",
      "            \"path\": \"C:\\\\Users\\\\sthoene\\\\AppData\\\\Local\\\\Temp\\\\jobs\\\\96f858ce-c4b3-4f3b-8e20-958501451101\\\\irradiance sensor.1.xmp\"\n",
      "        },\n",
      "        {\n",
      "            \"path\": \"C:\\\\Users\\\\sthoene\\\\AppData\\\\Local\\\\Temp\\\\jobs\\\\96f858ce-c4b3-4f3b-8e20-958501451101\\\\new_sensor.1.xmp\"\n",
      "        },\n",
      "        {\n",
      "            \"path\": \"C:\\\\Users\\\\sthoene\\\\AppData\\\\Local\\\\Temp\\\\jobs\\\\96f858ce-c4b3-4f3b-8e20-958501451101\\\\Direct.1.html\"\n",
      "        }\n",
      "    ]\n",
      "}\n"
     ]
    },
    {
     "data": {
      "image/png": "[encoded data removed]",
      "text/plain": [
       "<Figure size 640x480 with 1 Axes>"
      ]
     },
     "metadata": {},
     "output_type": "display_data"
    },
    {
     "data": {
      "text/plain": [
       "<comtypes.client.dynamic._Dispatch at 0x1e6a3248d90>"
      ]
     },
     "execution_count": 17,
     "metadata": {},
     "output_type": "execute_result"
    }
   ],
   "source": [
    "job_link = ssu.compute(\"second_job\")\n",
    "print_message(job_link.get_results())\n",
    "open_file(job_link.get_results().results[2].path)"
   ]
  },
  {
   "cell_type": "markdown",
   "metadata": {
    "collapsed": false,
    "jupyter": {
     "outputs_hidden": false
    }
   },
   "source": [
    "# Compute the modified simulation using GPU"
   ]
  },
  {
   "cell_type": "code",
   "execution_count": 18,
   "metadata": {
    "collapsed": false,
    "jupyter": {
     "outputs_hidden": false
    }
   },
   "outputs": [
    {
     "name": "stdout",
     "output_type": "stream",
     "text": [
      "██████████████████████████████████████████████████| 100.\n",
      "ansys.api.speos.job.v2.GetResults_Response\n",
      "{\n",
      "    \"results\": [\n",
      "        {\n",
      "            \"path\": \"C:\\\\Users\\\\sthoene\\\\AppData\\\\Local\\\\Temp\\\\jobs\\\\93163a39-0279-4db7-be68-3acf8891aab4\\\\Direct.1.Irradiance.1.xmp\"\n",
      "        },\n",
      "        {\n",
      "            \"path\": \"C:\\\\Users\\\\sthoene\\\\AppData\\\\Local\\\\Temp\\\\jobs\\\\93163a39-0279-4db7-be68-3acf8891aab4\\\\irradiance sensor.1.xmp\"\n",
      "        },\n",
      "        {\n",
      "            \"path\": \"C:\\\\Users\\\\sthoene\\\\AppData\\\\Local\\\\Temp\\\\jobs\\\\93163a39-0279-4db7-be68-3acf8891aab4\\\\new_sensor.1.xmp\"\n",
      "        },\n",
      "        {\n",
      "            \"path\": \"C:\\\\Users\\\\sthoene\\\\AppData\\\\Local\\\\Temp\\\\jobs\\\\93163a39-0279-4db7-be68-3acf8891aab4\\\\Direct.1.html\"\n",
      "        }\n",
      "    ]\n",
      "}\n"
     ]
    },
    {
     "data": {
      "image/png": "[encoded data removed]",
      "text/plain": [
       "<Figure size 640x480 with 1 Axes>"
      ]
     },
     "metadata": {},
     "output_type": "display_data"
    },
    {
     "data": {
      "text/plain": [
       "<comtypes.client.dynamic._Dispatch at 0x1e6a3539190>"
      ]
     },
     "execution_count": 18,
     "metadata": {},
     "output_type": "execute_result"
    }
   ],
   "source": [
    "job_link = ssu.compute(\"second_job\", compute_type=\"gpu\")\n",
    "print_message(job_link.get_results())\n",
    "open_file(job_link.get_results().results[2].path)"
   ]
  },
  {
   "cell_type": "markdown",
   "metadata": {
    "collapsed": false,
    "jupyter": {
     "outputs_hidden": false
    }
   },
   "source": [
    "# Clean after usage"
   ]
  },
  {
   "cell_type": "code",
   "execution_count": 8,
   "metadata": {
    "collapsed": false,
    "jupyter": {
     "outputs_hidden": false
    }
   },
   "outputs": [
    {
     "name": "stdout",
     "output_type": "stream",
     "text": [
      "Closed\n"
     ]
    }
   ],
   "source": [
    "job_link.delete()\n",
    "ssu.close()\n",
    "print(ssu.status)"
   ]
  },
  {
   "cell_type": "code",
   "execution_count": null,
   "metadata": {},
   "outputs": [],
   "source": []
  }
 ],
 "metadata": {
  "kernelspec": {
   "display_name": "Python 3 (ipykernel)",
   "language": "python",
   "name": "python3"
  },
  "language_info": {
   "codemirror_mode": {
    "name": "ipython",
    "version": 3
   },
   "file_extension": ".py",
   "mimetype": "text/x-python",
   "name": "python",
   "nbconvert_exporter": "python",
   "pygments_lexer": "ipython3",
   "version": "3.9.13"
  }
 },
 "nbformat": 4,
 "nbformat_minor": 4
}
