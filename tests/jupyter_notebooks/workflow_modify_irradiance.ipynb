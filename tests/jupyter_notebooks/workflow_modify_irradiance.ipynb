{
 "cells": [
  {
   "cell_type": "markdown",
   "metadata": {
    "collapsed": false,
    "jupyter": {
     "outputs_hidden": false
    }
   },
   "source": [
    "# Needed imports and utility"
   ]
  },
  {
   "cell_type": "code",
   "execution_count": null,
   "metadata": {
    "collapsed": false
   },
   "outputs": [],
   "source": [
    "import os\n",
    "import matplotlib.pyplot as plt\n",
    "import matplotlib.image as mpimg\n",
    "\n",
    "from comtypes.client import CreateObject\n",
    "\n",
    "import ansys.speos.core as core\n",
    "from ansys.speos.core.speos import Speos\n",
    "import ansys.speos.workflow as workflow"
   ]
  },
  {
   "cell_type": "markdown",
   "metadata": {
    "collapsed": false
   },
   "source": [
    "tests_data_path defines the asset files location, where pre-prepared files are used in this demonstration.\n",
    "In this simple demonstration, we have prepared one triangle prism geometry and flat surface source.\n",
    "Of course, you can also use or create your own geometry from mesh information."
   ]
  },
  {
   "cell_type": "code",
   "execution_count": null,
   "metadata": {
    "collapsed": false
   },
   "outputs": [],
   "source": [
    "tests_data_path = os.path.join(os.path.join(os.path.abspath(''), os.path.pardir), \"assets\")"
   ]
  },
  {
   "cell_type": "markdown",
   "metadata": {
    "collapsed": false
   },
   "source": [
    "Some utility functions are defined at the beginning:\n",
    "function print_message: Print rpc simulation progress message.\n",
    "function open_file: Open and display the simulation result."
   ]
  },
  {
   "cell_type": "code",
   "execution_count": null,
   "metadata": {
    "collapsed": false,
    "is_executing": true,
    "jupyter": {
     "outputs_hidden": false
    }
   },
   "outputs": [],
   "source": [
    "def print_message(msg):\n",
    "    print(core.protobuf_message_to_str(msg))\n",
    "\n",
    "def open_file(file):\n",
    "    dpf_instance = None\n",
    "    if file.endswith(\"xmp\") or file.endswith(\"XMP\"):\n",
    "        dpf_instance = CreateObject(\"XMPViewer.Application\")\n",
    "        dpf_instance.OpenFile(file)\n",
    "        res = dpf_instance.ExportXMPImage(file+\".png\", 1)\n",
    "        if res:\n",
    "            img = mpimg.imread(file+\".png\")\n",
    "            plt.imshow(img)\n",
    "            plt.axis(\"off\")   # turns off axes\n",
    "            plt.axis(\"tight\")  # gets rid of white border\n",
    "            plt.axis(\"image\")  # square up the image instead of filling the \"figure\" space\n",
    "            plt.show()\n",
    "    elif file.endswith(\"hdr\") or file.endswith(\"HDR\"):\n",
    "        dpf_instance = CreateObject(\"HDRIViewer.Application\")\n",
    "        dpf_instance.OpenFile(file)\n",
    "        dpf_instance.Show(1)\n",
    "    elif file.endswith(\"png\") or file.endswith(\"PNG\"):\n",
    "        img = mpimg.imread(file)\n",
    "        plt.imshow(img)\n",
    "        plt.axis(\"off\")   # turns off axes\n",
    "        plt.axis(\"tight\")  # gets rid of white border\n",
    "        plt.axis(\"image\")  # square up the image instead of filling the \"figure\" space\n",
    "        plt.show()\n",
    "    return dpf_instance"
   ]
  },
  {
   "cell_type": "markdown",
   "metadata": {
    "collapsed": false,
    "jupyter": {
     "outputs_hidden": false
    }
   },
   "source": [
    "# Create connection with speos rpc server\n",
    "In this simple demonstration, a local host server is used. However, such server can be a remote server or can be on cloud.\n",
    "\n",
    "Firstly, a speos client is initiated.\n",
    "This speos client will later provide all the necessary rpc API for us to create workflow.\n",
    "\n",
    "After a speos client is created, it is always best practice to clean all the database inside.\n",
    "clean_all_dbs function from workflow class is defined to clean all the database in the memory."
   ]
  },
  {
   "cell_type": "code",
   "execution_count": null,
   "metadata": {
    "collapsed": false,
    "jupyter": {
     "outputs_hidden": false
    }
   },
   "outputs": [],
   "source": [
    "speos = Speos(host=\"localhost\", port=50051)\n",
    "workflow.clean_all_dbs(speos.client)"
   ]
  },
  {
   "cell_type": "markdown",
   "metadata": {
    "collapsed": false,
    "jupyter": {
     "outputs_hidden": false
    }
   },
   "source": [
    "# Create SpeosSimulationUpdate\n",
    "After a client is created and cleaned, it is empty, i.e. there is nothing inside.\n",
    "Thus, we need add different objects.\n",
    "Just like how we see the world, there are\n",
    "* sources: sun, lamp, etc\n",
    "* objects: table, food, street, and buildings, etc\n",
    "* detectors: our eye or cameras\n",
    "SpeosSimulationupdate is an object which is initialized to host all the necessary information required to run a simulation.\n",
    "Firstly, an empty SpeosSimulationUpdate, named ssu, is initialized."
   ]
  },
  {
   "cell_type": "code",
   "execution_count": null,
   "metadata": {
    "collapsed": false
   },
   "outputs": [],
   "source": [
    "ssu = workflow.SpeosSimulationUpdate(speos=speos, clean_dbs=False)\n",
    "print(ssu.status)\n",
    "print(ssu.scene)"
   ]
  },
  {
   "cell_type": "markdown",
   "metadata": {
    "collapsed": false
   },
   "source": [
    "Then, we want to add a geometry, i.e. triangle-prism in this case.\n",
    "sim_file is file path where a triangle-prism geometry is pre-prepared with glass material linked. Of course, you can also create your own geometry.\n",
    "an SpeosSimulationupdate object, named prism_scene, for triangle-prism is initialized with a given speos client and optionally file path.\n",
    "Instead of using it for simulation, it will be added into ssu.\n",
    "when adding, it is necessary to define where in the space you want to add it. Thus, you can specify the 3d space location.\n",
    "a position information is created defined by origin and x, y, z axis vectors.\n",
    "the unit used is mm by default. You can use preview function to check how different origin coordinate and x, y, z vectors change its positions.\n",
    "using add_scene method, prism_scene is added into ssu."
   ]
  },
  {
   "cell_type": "code",
   "execution_count": null,
   "metadata": {
    "collapsed": false,
    "jupyter": {
     "outputs_hidden": false
    }
   },
   "outputs": [],
   "source": [
    "prism_file = os.path.join(tests_data_path, \"Prism.speos\", \"Prism.speos\")\n",
    "prism_scene = workflow.SpeosSimulationUpdate(speos=speos, file_name=prism_file, clean_dbs=False)\n",
    "prism_position = core.AxisSystem()\n",
    "prism_position.origin = [0.0, 0.0, 0.0]\n",
    "prism_position.x_vect = [1.0, 0.0, 0.0]\n",
    "prism_position.y_vect = [0.0, 1.0, 0.0]\n",
    "prism_position.z_vect = [0.0, 0.0, 1.0]\n",
    "\n",
    "ssu.add_scene(prism_scene, prism_position)"
   ]
  },
  {
   "cell_type": "markdown",
   "metadata": {
    "collapsed": false
   },
   "source": [
    "# Preview geometries inside the simulation\n",
    "preview function allows you to have a 3D view about the geometries added."
   ]
  },
  {
   "cell_type": "code",
   "execution_count": null,
   "metadata": {},
   "outputs": [],
   "source": [
    "ssu.preview()"
   ]
  },
  {
   "cell_type": "markdown",
   "metadata": {
    "collapsed": false
   },
   "source": [
    "# Add source into the simulation and preview source and geometry locations\n",
    "The, to be able to \"see\" something, light source needs to be added.\n",
    "In this demonstration, a pre-define surface shape source is added to the simulation:\n",
    "the position is also pre-defined by the global coordinate of prim, thus in this example, we just need to put at global origin."
   ]
  },
  {
   "cell_type": "code",
   "execution_count": null,
   "metadata": {},
   "outputs": [],
   "source": [
    "source_file = os.path.join(tests_data_path, \"Source.speos\", \"Source.speos\")\n",
    "source_scene = workflow.SpeosSimulationUpdate(speos=speos, file_name=source_file, clean_dbs=False)\n",
    "source_position = core.AxisSystem()\n",
    "ssu.add_scene(source_scene, source_position)\n",
    "\n",
    "ssu.preview()"
   ]
  },
  {
   "cell_type": "markdown",
   "metadata": {
    "collapsed": false,
    "jupyter": {
     "outputs_hidden": false
    }
   },
   "source": [
    "# New Irradiance sensor\n",
    "A sensor is like a detector to receive result/light at defined position & orientation & target information to be recorded.\n",
    "Here, a plane-type sensor is chosen to detect the refraction light from the triangle prism.\n",
    "Default parameter are used in the first sensor"
   ]
  },
  {
   "cell_type": "code",
   "execution_count": null,
   "metadata": {
    "collapsed": false
   },
   "outputs": [],
   "source": [
    "irradiance_sensor = workflow.IrradianceSensorParameters()\n",
    "\n",
    "irradiance_props = workflow.IrradianceSensorProperties()\n",
    "irradiance_props.origin = [921.36, 0, 388.72]\n",
    "irradiance_props.x_vect = [0.388721970152395, 0, -0.921355105223193]\n",
    "irradiance_props.y_vect = [0.0, 1.0, 0.0]\n",
    "irradiance_props.z_vect = [0.921355105223193, 0.0, 0.388721970152395]\n",
    "\n",
    "ssu.add_irradiance_sensor(irradiance_sensor, irradiance_props)"
   ]
  },
  {
   "cell_type": "markdown",
   "metadata": {
    "collapsed": false
   },
   "source": [
    "More parameters for the second sensor are defined.\n",
    "There are some interesting parameters that you can play, e.g.\n",
    "type: this gives option for you to study photometric result, i.e. photometric energy received by detector. Or colormetric result if you are interested in certain wavelength visual result, or spectral which gives extra information at different wavelength value."
   ]
  },
  {
   "cell_type": "code",
   "execution_count": null,
   "metadata": {
    "collapsed": false,
    "jupyter": {
     "outputs_hidden": false
    }
   },
   "outputs": [],
   "source": [
    "irradiance_sensor_new = irradiance_sensor.copy() # assign values to parameters\n",
    "irradiance_sensor_new.name = \"new_sensor\"\n",
    "irradiance_sensor_new.integration_type = core.SensorTemplateFactory.IlluminanceType.Planar\n",
    "irradiance_sensor_new.type = core.SensorTemplateFactory.Type.Spectral\n",
    "irradiance_sensor_new.wavelengths_start = 380\n",
    "irradiance_sensor_new.wavelengths_end = 780\n",
    "irradiance_sensor_new.wavelengths_sampling = 41\n",
    "irradiance_sensor_new.x_range_start = -40\n",
    "irradiance_sensor_new.x_range_end = 40\n",
    "irradiance_sensor_new.x_range_sampling = 400\n",
    "irradiance_sensor_new.y_range_start = -5\n",
    "irradiance_sensor_new.y_range_end = 5\n",
    "irradiance_sensor_new.y_range_sampling = 100\n",
    "\n",
    "ssu.add_irradiance_sensor(irradiance_sensor_new, irradiance_props)"
   ]
  },
  {
   "cell_type": "markdown",
   "metadata": {
    "collapsed": false,
    "jupyter": {
     "outputs_hidden": false
    }
   },
   "source": [
    "# Compute simulation\n",
    "With all the necessary info added, i.e. source, geometry, and detector.\n",
    "we can run the simulation.\n",
    "By default, compute run the simulation on CPU.\n",
    "Optionally, compute can run on GPU with parameter compute_type set as \"GPU\"/\"gpu\"."
   ]
  },
  {
   "cell_type": "code",
   "execution_count": null,
   "metadata": {
    "collapsed": false,
    "jupyter": {
     "outputs_hidden": false
    }
   },
   "outputs": [],
   "source": [
    "job_link = ssu.compute(\"first_job\")\n",
    "print_message(job_link.get_results())"
   ]
  },
  {
   "cell_type": "markdown",
   "metadata": {
    "collapsed": false,
    "jupyter": {
     "outputs_hidden": false
    }
   },
   "source": [
    "# Open and review results"
   ]
  },
  {
   "cell_type": "code",
   "execution_count": null,
   "metadata": {
    "collapsed": false,
    "jupyter": {
     "outputs_hidden": false
    }
   },
   "outputs": [],
   "source": [
    "open_file(job_link.get_results().results[2].path)\n",
    "open_file(job_link.get_results().results[1].path)"
   ]
  },
  {
   "cell_type": "markdown",
   "metadata": {
    "collapsed": false,
    "jupyter": {
     "outputs_hidden": false
    }
   },
   "source": [
    "# Modify the irradiance sensor\n",
    "The detector information can be modified using update_sensor method.\n",
    "e.g. change detector settings like wavelength range for infrared range\n",
    "e.g. change detector positions and orientation"
   ]
  },
  {
   "cell_type": "code",
   "execution_count": null,
   "metadata": {
    "collapsed": false,
    "jupyter": {
     "outputs_hidden": false
    }
   },
   "outputs": [],
   "source": [
    "irradiance_sensor_update = irradiance_sensor_new.copy()\n",
    "\n",
    "irradiance_props_update = workflow.IrradianceSensorProperties()\n",
    "irradiance_props_update.origin = [1000, 0, 400]\n",
    "irradiance_props_update.x_vect = [0.388721970152395, 0, -0.921355105223193]\n",
    "irradiance_props_update.y_vect = [0.0, 1.0, 0.0]\n",
    "irradiance_props_update.z_vect = [0.921355105223193, 0.0, 0.388721970152395]\n",
    "\n",
    "ssu.update_sensor(irradiance_sensor_update, irradiance_props_update)"
   ]
  },
  {
   "cell_type": "markdown",
   "metadata": {
    "collapsed": false,
    "jupyter": {
     "outputs_hidden": false
    }
   },
   "source": [
    "# Compute the modified simulation"
   ]
  },
  {
   "cell_type": "code",
   "execution_count": null,
   "metadata": {
    "collapsed": false,
    "jupyter": {
     "outputs_hidden": false
    }
   },
   "outputs": [],
   "source": [
    "job_link = ssu.compute(\"second_job\")\n",
    "print_message(job_link.get_results())"
   ]
  },
  {
   "cell_type": "markdown",
   "metadata": {
    "collapsed": false,
    "jupyter": {
     "outputs_hidden": false
    }
   },
   "source": [
    "# Open and view the modified result"
   ]
  },
  {
   "cell_type": "code",
   "execution_count": null,
   "metadata": {
    "collapsed": false,
    "jupyter": {
     "outputs_hidden": false
    }
   },
   "outputs": [],
   "source": [
    "open_file(job_link.get_results().results[2].path)"
   ]
  },
  {
   "cell_type": "markdown",
   "metadata": {
    "collapsed": false,
    "jupyter": {
     "outputs_hidden": false
    }
   },
   "source": [
    "# Compute the modified simulation using GPU\n",
    "Note: a student license does not support GPU compute"
   ]
  },
  {
   "cell_type": "code",
   "execution_count": null,
   "metadata": {
    "collapsed": false,
    "jupyter": {
     "outputs_hidden": false
    }
   },
   "outputs": [],
   "source": [
    "job_link = ssu.compute(\"second_job\", compute_type=\"gpu\")\n",
    "print_message(job_link.get_results())"
   ]
  },
  {
   "cell_type": "markdown",
   "metadata": {
    "collapsed": false,
    "jupyter": {
     "outputs_hidden": false
    }
   },
   "source": [
    "# Open the view the GPU simulation result"
   ]
  },
  {
   "cell_type": "code",
   "execution_count": null,
   "metadata": {
    "collapsed": false,
    "jupyter": {
     "outputs_hidden": false
    }
   },
   "outputs": [],
   "source": [
    "open_file(job_link.get_results().results[2].path)"
   ]
  },
  {
   "cell_type": "markdown",
   "metadata": {
    "collapsed": false,
    "jupyter": {
     "outputs_hidden": false
    }
   },
   "source": [
    "# Clean after usage"
   ]
  },
  {
   "cell_type": "code",
   "execution_count": null,
   "metadata": {
    "collapsed": false,
    "jupyter": {
     "outputs_hidden": false
    }
   },
   "outputs": [],
   "source": [
    "job_link.delete()\n",
    "ssu.close()\n",
    "print(ssu.status)"
   ]
  }
 ],
 "metadata": {
  "kernelspec": {
   "display_name": "Python 3 (ipykernel)",
   "language": "python",
   "name": "python3"
  },
  "language_info": {
   "codemirror_mode": {
    "name": "ipython",
    "version": 3
   },
   "file_extension": ".py",
   "mimetype": "text/x-python",
   "name": "python",
   "nbconvert_exporter": "python",
   "pygments_lexer": "ipython3",
   "version": "3.11.9"
  }
 },
 "nbformat": 4,
 "nbformat_minor": 4
}
