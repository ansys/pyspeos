{
 "cells": [
  {
   "cell_type": "markdown",
   "metadata": {
    "collapsed": false,
    "jupyter": {
     "outputs_hidden": false
    }
   },
   "source": [
    "# Needed imports and utility"
   ]
  },
  {
   "cell_type": "code",
   "execution_count": null,
   "metadata": {
    "collapsed": false,
    "jupyter": {
     "outputs_hidden": false
    }
   },
   "outputs": [],
   "source": [
    "import os\n",
    "import matplotlib.pyplot as plt\n",
    "import matplotlib.image as mpimg\n",
    "\n",
    "from comtypes.client import CreateObject\n",
    "\n",
    "import ansys.speos.core as core\n",
    "from ansys.speos.core.speos import Speos\n",
    "import ansys.speos.workflow as workflow\n",
    "\n",
    "tests_data_path = os.path.join(os.path.join(os.path.abspath(''), os.path.pardir), \"assets\")\n",
    "\n",
    "def print_message(msg):\n",
    "    print(core.protobuf_message_to_str(msg))\n",
    "\n",
    "def open_file(file):\n",
    "    dpf_instance = None\n",
    "    if file.endswith(\"xmp\") or file.endswith(\"XMP\"):\n",
    "        dpf_instance = CreateObject(\"XMPViewer.Application\")\n",
    "        dpf_instance.OpenFile(file)\n",
    "        res = dpf_instance.ExportXMPImage(file+\".png\", 1)\n",
    "        if res:\n",
    "            img = mpimg.imread(file+\".png\")\n",
    "            plt.imshow(img)\n",
    "            plt.axis(\"off\")   # turns off axes\n",
    "            plt.axis(\"tight\")  # gets rid of white border\n",
    "            plt.axis(\"image\")  # square up the image instead of filling the \"figure\" space\n",
    "            plt.show()\n",
    "    elif file.endswith(\"hdr\") or file.endswith(\"HDR\"):\n",
    "        dpf_instance = CreateObject(\"HDRIViewer.Application\")\n",
    "        dpf_instance.OpenFile(file)\n",
    "        dpf_instance.Show(1)\n",
    "    elif file.endswith(\"png\") or file.endswith(\"PNG\"):\n",
    "        img = mpimg.imread(file)\n",
    "        plt.imshow(img)\n",
    "        plt.axis(\"off\")   # turns off axes\n",
    "        plt.axis(\"tight\")  # gets rid of white border\n",
    "        plt.axis(\"image\")  # square up the image instead of filling the \"figure\" space\n",
    "        plt.show()\n",
    "    return dpf_instance"
   ]
  },
  {
   "cell_type": "markdown",
   "metadata": {
    "collapsed": false,
    "jupyter": {
     "outputs_hidden": false
    }
   },
   "source": [
    "# Create connection with speos rpc server"
   ]
  },
  {
   "cell_type": "code",
   "execution_count": null,
   "metadata": {
    "collapsed": false,
    "jupyter": {
     "outputs_hidden": false
    }
   },
   "outputs": [],
   "source": [
    "speos = Speos(host=\"localhost\", port=50051)\n",
    "workflow.clean_all_dbs(speos.client)"
   ]
  },
  {
   "cell_type": "markdown",
   "metadata": {
    "collapsed": false,
    "jupyter": {
     "outputs_hidden": false
    }
   },
   "source": [
    "# Create SpeosSimulationUpdate"
   ]
  },
  {
   "cell_type": "code",
   "execution_count": null,
   "metadata": {
    "collapsed": false,
    "jupyter": {
     "outputs_hidden": false
    }
   },
   "outputs": [],
   "source": [
    "sim_file = os.path.join(tests_data_path, \"Prism\", \"Direct.1.speos\")\n",
    "ssu = workflow.SpeosSimulationUpdate(speos=speos, file_name=sim_file)\n",
    "print(ssu.status)\n",
    "print(ssu.scene)"
   ]
  },
  {
   "cell_type": "markdown",
   "metadata": {
    "collapsed": false,
    "jupyter": {
     "outputs_hidden": false
    }
   },
   "source": [
    "# New Irradiance sensor\n",
    "## Create two IrradianceSensorParameters"
   ]
  },
  {
   "cell_type": "code",
   "execution_count": null,
   "metadata": {
    "collapsed": false,
    "jupyter": {
     "outputs_hidden": false
    }
   },
   "outputs": [],
   "source": [
    "sensors = []\n",
    "\n",
    "irradiance_sensor = workflow.IrradianceSensorParameters() # use default parameters\n",
    "sensors.append(irradiance_sensor)\n",
    "\n",
    "irradiance_sensor_new = irradiance_sensor.copy() # assign values to parameters\n",
    "irradiance_sensor_new.name = \"new_sensor\"\n",
    "irradiance_sensor_new.integration_type = core.SensorTemplateFactory.IlluminanceType.Planar\n",
    "irradiance_sensor_new.type = core.SensorTemplateFactory.Type.Spectral\n",
    "irradiance_sensor_new.wavelengths_start = 380\n",
    "irradiance_sensor_new.wavelengths_end = 780\n",
    "irradiance_sensor_new.wavelengths_sampling = 41\n",
    "irradiance_sensor_new.x_range_start = -40\n",
    "irradiance_sensor_new.x_range_end = 40\n",
    "irradiance_sensor_new.x_range_sampling = 400\n",
    "irradiance_sensor_new.y_range_start = -5\n",
    "irradiance_sensor_new.y_range_end = 5\n",
    "irradiance_sensor_new.y_range_sampling = 100\n",
    "sensors.append(irradiance_sensor_new)\n"
   ]
  },
  {
   "cell_type": "markdown",
   "metadata": {
    "collapsed": false,
    "jupyter": {
     "outputs_hidden": false
    }
   },
   "source": [
    "# Create IrradianceSensorProperties"
   ]
  },
  {
   "cell_type": "code",
   "execution_count": null,
   "metadata": {
    "collapsed": false,
    "jupyter": {
     "outputs_hidden": false
    }
   },
   "outputs": [],
   "source": [
    "irradiance_props = workflow.IrradianceSensorProperties()\n",
    "irradiance_props.origin = [921.36, 0, 388.72]\n",
    "irradiance_props.x_vector = [0.388721970152395, 0, -0.921355105223193]\n",
    "irradiance_props.y_vector = [0.0, 1.0, 0.0]\n",
    "irradiance_props.z_vector = [0.921355105223193, 0.0, 0.388721970152395]"
   ]
  },
  {
   "cell_type": "markdown",
   "metadata": {
    "collapsed": false,
    "jupyter": {
     "outputs_hidden": false
    }
   },
   "source": [
    "# Add Irradiance sensors to simulation"
   ]
  },
  {
   "cell_type": "code",
   "execution_count": null,
   "metadata": {
    "collapsed": false,
    "jupyter": {
     "outputs_hidden": false
    }
   },
   "outputs": [],
   "source": [
    "for sensor in sensors:\n",
    "    ssu.add_irradiance_sensor(sensor, irradiance_props)"
   ]
  },
  {
   "cell_type": "markdown",
   "metadata": {
    "collapsed": false,
    "jupyter": {
     "outputs_hidden": false
    }
   },
   "source": [
    "# Compute simulation"
   ]
  },
  {
   "cell_type": "code",
   "execution_count": null,
   "metadata": {
    "collapsed": false,
    "jupyter": {
     "outputs_hidden": false
    }
   },
   "outputs": [],
   "source": [
    "job_link = ssu.compute(\"first_job\")\n",
    "print_message(job_link.get_results())"
   ]
  },
  {
   "cell_type": "markdown",
   "source": [
    "# Open and review results"
   ],
   "metadata": {
    "collapsed": false
   }
  },
  {
   "cell_type": "code",
   "execution_count": null,
   "outputs": [],
   "source": [
    "open_file(job_link.get_results().results[2].path)\n",
    "open_file(job_link.get_results().results[1].path)"
   ],
   "metadata": {
    "collapsed": false
   }
  },
  {
   "cell_type": "markdown",
   "metadata": {
    "collapsed": false,
    "jupyter": {
     "outputs_hidden": false
    }
   },
   "source": [
    "# Modify the irradiance sensor"
   ]
  },
  {
   "cell_type": "code",
   "execution_count": null,
   "metadata": {
    "collapsed": false,
    "jupyter": {
     "outputs_hidden": false
    }
   },
   "outputs": [],
   "source": [
    "irradiance_sensor_update = irradiance_sensor_new.copy()\n",
    "\n",
    "irradiance_props_update = workflow.IrradianceSensorProperties()\n",
    "irradiance_props_update.origin = [1000, 0, 400]\n",
    "irradiance_props_update.x_vector = [0.388721970152395, 0, -0.921355105223193]\n",
    "irradiance_props_update.y_vector = [0.0, 1.0, 0.0]\n",
    "irradiance_props_update.z_vector = [0.921355105223193, 0.0, 0.388721970152395]\n",
    "\n",
    "ssu.update_sensor(irradiance_sensor_update, irradiance_props_update)"
   ]
  },
  {
   "cell_type": "markdown",
   "metadata": {
    "collapsed": false,
    "jupyter": {
     "outputs_hidden": false
    }
   },
   "source": [
    "# Compute the modified simulation"
   ]
  },
  {
   "cell_type": "code",
   "execution_count": null,
   "metadata": {
    "collapsed": false,
    "jupyter": {
     "outputs_hidden": false
    }
   },
   "outputs": [],
   "source": [
    "job_link = ssu.compute(\"second_job\")\n",
    "print_message(job_link.get_results())"
   ]
  },
  {
   "cell_type": "markdown",
   "source": [
    "# Open and view the modified result"
   ],
   "metadata": {
    "collapsed": false
   }
  },
  {
   "cell_type": "code",
   "execution_count": null,
   "outputs": [],
   "source": [
    "open_file(job_link.get_results().results[2].path)"
   ],
   "metadata": {
    "collapsed": false
   }
  },
  {
   "cell_type": "markdown",
   "metadata": {
    "collapsed": false,
    "jupyter": {
     "outputs_hidden": false
    }
   },
   "source": [
    "# Compute the modified simulation using GPU\n",
    "Note: a student license does not support GPU compute"
   ]
  },
  {
   "cell_type": "code",
   "execution_count": null,
   "metadata": {
    "collapsed": false,
    "jupyter": {
     "outputs_hidden": false
    }
   },
   "outputs": [],
   "source": [
    "job_link = ssu.compute(\"second_job\", compute_type=\"gpu\")\n",
    "print_message(job_link.get_results())"
   ]
  },
  {
   "cell_type": "markdown",
   "source": [
    "# Open the view the GPU simulation result"
   ],
   "metadata": {
    "collapsed": false
   }
  },
  {
   "cell_type": "code",
   "execution_count": null,
   "outputs": [],
   "source": [
    "open_file(job_link.get_results().results[2].path)"
   ],
   "metadata": {
    "collapsed": false
   }
  },
  {
   "cell_type": "markdown",
   "metadata": {
    "collapsed": false,
    "jupyter": {
     "outputs_hidden": false
    }
   },
   "source": [
    "# Clean after usage"
   ]
  },
  {
   "cell_type": "code",
   "execution_count": null,
   "metadata": {
    "collapsed": false,
    "jupyter": {
     "outputs_hidden": false
    }
   },
   "outputs": [],
   "source": [
    "job_link.delete()\n",
    "ssu.close()\n",
    "print(ssu.status)"
   ]
  }
 ],
 "metadata": {
  "kernelspec": {
   "display_name": "Python 3 (ipykernel)",
   "language": "python",
   "name": "python3"
  },
  "language_info": {
   "codemirror_mode": {
    "name": "ipython",
    "version": 3
   },
   "file_extension": ".py",
   "mimetype": "text/x-python",
   "name": "python",
   "nbconvert_exporter": "python",
   "pygments_lexer": "ipython3",
   "version": "3.9.13"
  }
 },
 "nbformat": 4,
 "nbformat_minor": 4
}
