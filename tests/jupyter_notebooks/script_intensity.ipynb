{
 "cells": [
  {
   "cell_type": "markdown",
   "metadata": {},
   "source": [
    "Needed imports and utility"
   ]
  },
  {
   "cell_type": "code",
   "execution_count": null,
   "metadata": {},
   "outputs": [],
   "source": [
    "import os\n",
    "import ansys.speos.script as script\n",
    "import ansys.speos.core as core\n",
    "\n",
    "tests_data_path = os.path.join(os.path.abspath(''), os.path.pardir, \"assets\")\n",
    "\n",
    "def clean_all_dbs(speos_client: core.SpeosClient):\n",
    "    for item in (\n",
    "        speos_client.jobs().list()\n",
    "        + speos_client.scenes().list()\n",
    "        + speos_client.simulation_templates().list()\n",
    "        + speos_client.sensor_templates().list()\n",
    "        + speos_client.source_templates().list()\n",
    "        + speos_client.intensity_templates().list()\n",
    "        + speos_client.spectrums().list()\n",
    "        + speos_client.vop_templates().list()\n",
    "        + speos_client.sop_templates().list()\n",
    "        + speos_client.parts().list()\n",
    "        + speos_client.bodies().list()\n",
    "        + speos_client.faces().list()\n",
    "    ):\n",
    "        item.delete()"
   ]
  },
  {
   "cell_type": "markdown",
   "metadata": {},
   "source": [
    "# Create connection with speos rpc server"
   ]
  },
  {
   "cell_type": "code",
   "execution_count": null,
   "metadata": {},
   "outputs": [],
   "source": [
    "speos = core.Speos(host=\"localhost\", port=50051)\n",
    "clean_all_dbs(speos.client)"
   ]
  },
  {
   "cell_type": "markdown",
   "metadata": {},
   "source": [
    "# Create\n",
    "## In two steps\n",
    "### Create locally\n",
    "The mention \"local: \" is added when printing the intensity"
   ]
  },
  {
   "cell_type": "code",
   "execution_count": null,
   "metadata": {},
   "outputs": [],
   "source": [
    "intensity1 = script.Intensity(speos_client=speos.client, name=\"Intensity.1\").set_cos(N=1, total_angle=160)\n",
    "print(intensity1)"
   ]
  },
  {
   "cell_type": "markdown",
   "metadata": {},
   "source": [
    "### Push it to the server\n",
    "Now that it is committed to the server, the mention \"local: \" is no more present when printing the intensity.  \n",
    "Except for the properties that stays local until a whole project is committed."
   ]
  },
  {
   "cell_type": "code",
   "execution_count": null,
   "metadata": {},
   "outputs": [],
   "source": [
    "intensity1.commit()\n",
    "print(intensity1)"
   ]
  },
  {
   "cell_type": "markdown",
   "metadata": {},
   "source": [
    "## In one step"
   ]
  },
  {
   "cell_type": "code",
   "execution_count": null,
   "metadata": {},
   "outputs": [],
   "source": [
    "intensity2 = script.Intensity(speos_client=speos.client, name=\"Intensity.2\").set_cos(N=2, total_angle=140)\\\n",
    "                                                                            .commit()\n",
    "print(intensity2)"
   ]
  },
  {
   "cell_type": "markdown",
   "metadata": {},
   "source": [
    "## Specificity with properties needed\n",
    "When using a set_xxx, if you observe that there is a set_xxx_properties available, better for you to fill it"
   ]
  },
  {
   "cell_type": "code",
   "execution_count": null,
   "metadata": {},
   "outputs": [],
   "source": [
    "intensity3 = script.Intensity(speos_client=speos.client, name=\"Intensity.3\")\n",
    "intensity3.set_gaussian().set_FWHM_angle_x(value=40)\\\n",
    "                         .set_FWHM_angle_y(value=30)\\\n",
    "                         .set_total_angle(value=170)\\\n",
    "                         .set_axis_system(axis_system=[0.0, 0.0, 0.0, 1.0, 0.0, 0.0, 0.0, 0.1, 0.0, 0.0, 0.0, 1.0])\n",
    "intensity3.commit()\n",
    "print(intensity3)"
   ]
  },
  {
   "cell_type": "markdown",
   "metadata": {},
   "source": [
    "## Default values\n",
    "Some default values are available when applicable in every methods and class."
   ]
  },
  {
   "cell_type": "code",
   "execution_count": null,
   "metadata": {},
   "outputs": [],
   "source": [
    "intensity4 = script.Intensity(speos_client=speos.client, name=\"Intensity.4\")\n",
    "print(intensity4)"
   ]
  },
  {
   "cell_type": "markdown",
   "metadata": {},
   "source": [
    "# Read\n",
    "## Datamodel\n",
    "A mention \"local: \" is added if it is not yet committed to the server"
   ]
  },
  {
   "cell_type": "code",
   "execution_count": null,
   "metadata": {},
   "outputs": [],
   "source": [
    "print(intensity1)"
   ]
  },
  {
   "cell_type": "markdown",
   "metadata": {},
   "source": [
    "# Update\n",
    "Tipp: if you are manipulating an intensity already committed, don't forget to commit your changes.  \n",
    "If you don't, you will still only watch what is committed on the server."
   ]
  },
  {
   "cell_type": "code",
   "execution_count": null,
   "metadata": {},
   "outputs": [],
   "source": [
    "intensity1.set_cos(N=1, total_angle=50)\\\n",
    "          .commit()\n",
    "print(intensity1)"
   ]
  },
  {
   "cell_type": "markdown",
   "metadata": {},
   "source": [
    "## Reset\n",
    "Possibility to reset local values from the one available in the server."
   ]
  },
  {
   "cell_type": "code",
   "execution_count": null,
   "metadata": {},
   "outputs": [],
   "source": [
    "intensity3.set_library().set_intensity_file_uri(uri=\"wrong_file\") # set lambertian but no commit\n",
    "intensity3.reset() # reset -> this will apply the server value to the local value\n",
    "intensity3.delete() # delete (to display the local value with the below print)\n",
    "print(intensity3)"
   ]
  },
  {
   "cell_type": "markdown",
   "metadata": {},
   "source": [
    "# Delete\n",
    "Once the data is deleted from the server, you can still work with local data and maybe commit later."
   ]
  },
  {
   "cell_type": "code",
   "execution_count": null,
   "metadata": {},
   "outputs": [],
   "source": [
    "intensity1.delete()\n",
    "print(intensity1)"
   ]
  },
  {
   "cell_type": "code",
   "execution_count": null,
   "metadata": {},
   "outputs": [],
   "source": [
    "intensity2.delete()\n",
    "intensity3.delete()"
   ]
  },
  {
   "cell_type": "markdown",
   "metadata": {},
   "source": [
    "# Cleanup"
   ]
  },
  {
   "cell_type": "code",
   "execution_count": null,
   "metadata": {},
   "outputs": [],
   "source": [
    "clean_all_dbs(speos.client)"
   ]
  }
 ],
 "metadata": {
  "kernelspec": {
   "display_name": ".venv",
   "language": "python",
   "name": "python3"
  },
  "language_info": {
   "codemirror_mode": {
    "name": "ipython",
    "version": 3
   },
   "file_extension": ".py",
   "mimetype": "text/x-python",
   "name": "python",
   "nbconvert_exporter": "python",
   "pygments_lexer": "ipython3",
   "version": "3.10.12"
  }
 },
 "nbformat": 4,
 "nbformat_minor": 2
}
