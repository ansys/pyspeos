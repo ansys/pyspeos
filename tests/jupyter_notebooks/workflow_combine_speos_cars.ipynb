{
 "cells": [
  {
   "cell_type": "code",
   "execution_count": null,
   "metadata": {},
   "outputs": [],
   "source": [
    "import os\n",
    "import ansys.speos.script as script\n",
    "from ansys.speos.core import Speos\n",
    "\n",
    "tests_data_path = os.path.join(os.path.abspath(''), os.path.pardir, \"assets\")"
   ]
  },
  {
   "cell_type": "markdown",
   "metadata": {},
   "source": [
    "Create connection with speos rpc server"
   ]
  },
  {
   "cell_type": "code",
   "execution_count": null,
   "metadata": {},
   "outputs": [],
   "source": [
    "speos = Speos(host=\"localhost\", port=50051)"
   ]
  },
  {
   "cell_type": "markdown",
   "metadata": {},
   "source": [
    "Combine several speos file into one project feature\n",
    "\n",
    "Here we are building a project with:\n",
    "- An environment which is a road\n",
    "- A blue car\n",
    "- A red car"
   ]
  },
  {
   "cell_type": "code",
   "execution_count": null,
   "metadata": {},
   "outputs": [],
   "source": [
    "from ansys.speos.workflow.combine_speos import combine_speos, LocatedSpeos\n",
    "p = combine_speos(speos=speos, speos_to_combine=[LocatedSpeos(speos_file=os.path.join(tests_data_path, \"Env_Simplified.speos\", \"Env_Simplified.speos\"), axis_system=[0,0,0,1,0,0,0,1,0,0,0,1]),\n",
    "                                                 LocatedSpeos(speos_file=os.path.join(tests_data_path, \"BlueCar.speos\", \"BlueCar.speos\"), axis_system=[2000, 0, 35000, 0.0, 0.0, -1.0, -1.0, 0.0, 0.0, 0.0, 1.0, 0.0]),\n",
    "                                                 LocatedSpeos(speos_file=os.path.join(tests_data_path, \"RedCar.speos\", \"RedCar.speos\"), axis_system=[-4000, 0, 48000, 1.0, 0.0, 0.0, 0.0, 0.0, -1.0, 0.0, 1.0, 0.0])])\n",
    "#print(p)\n"
   ]
  },
  {
   "cell_type": "code",
   "execution_count": null,
   "metadata": {},
   "outputs": [],
   "source": [
    "import pyvista as pv\n",
    "import numpy as np\n",
    "import ansys.speos.core as core\n",
    "from google.protobuf.internal.containers import RepeatedScalarFieldContainer\n",
    "\n",
    "def __extract_part_mesh_info(part_data: core.Part, part_coordinate_info: RepeatedScalarFieldContainer = None) -> pv.PolyData:\n",
    "        \"\"\"\n",
    "        extract mesh data info from a part.\n",
    "\n",
    "        Parameters\n",
    "        ----------\n",
    "        part_data: ansys.api.speos.part.v1.part_pb2\n",
    "            Part from scene.\n",
    "        part_coordinate_info: RepeatedScalarFieldContainer\n",
    "            message contains part coordinate info: origin, x_vector, y_vector, z_vector\n",
    "        Returns\n",
    "        -------\n",
    "        pv.PolyData\n",
    "            mesh data extracted.\n",
    "\n",
    "        \"\"\"\n",
    "\n",
    "        def local2absolute(local_vertice: np.ndarray) -> np.ndarray:\n",
    "            \"\"\"\n",
    "            convert local coordinate to global coordinate.\n",
    "\n",
    "            Parameters\n",
    "            ----------\n",
    "            local_vertice: np.ndarray\n",
    "                numpy array includes x, y, z info.\n",
    "\n",
    "            Returns\n",
    "            -------\n",
    "            np.ndarray\n",
    "             numpy array includes x, y, z info\n",
    "\n",
    "            \"\"\"\n",
    "            global_origin = np.array(part_coordinate.origin)\n",
    "            global_x = np.array(part_coordinate.x_vect) * local_vertice[0]\n",
    "            global_y = np.array(part_coordinate.y_vect) * local_vertice[1]\n",
    "            global_z = np.array(part_coordinate.z_vect) * local_vertice[2]\n",
    "            return global_origin + global_x + global_y + global_z\n",
    "\n",
    "        part_coordinate = core.AxisSystem()\n",
    "        part_coordinate.origin = [0.0, 0.0, 0.0]\n",
    "        part_coordinate.x_vect = [1.0, 0.0, 0.0]\n",
    "        part_coordinate.y_vect = [0.0, 1.0, 0.0]\n",
    "        part_coordinate.z_vect = [0.0, 0.0, 1.0]\n",
    "        if part_coordinate_info is not None:\n",
    "            part_coordinate.origin = part_coordinate_info[:3]\n",
    "            part_coordinate.x_vect = part_coordinate_info[3:6]\n",
    "            part_coordinate.y_vect = part_coordinate_info[6:9]\n",
    "            part_coordinate.z_vect = part_coordinate_info[9:]\n",
    "        part_mesh_info = None\n",
    "        for body_idx, body_guid in enumerate(part_data.body_guids):\n",
    "            body_item_data = speos.client.get_item(body_guid).get()\n",
    "            for face_idx, face_guid in enumerate(body_item_data.face_guids):\n",
    "                face_item_data = speos.client.get_item(face_guid).get()\n",
    "                vertices = np.array(face_item_data.vertices)\n",
    "                facets = np.array(face_item_data.facets)\n",
    "                vertices = vertices.reshape(-1, 3)\n",
    "                vertices = np.array([local2absolute(vertice) for vertice in vertices])\n",
    "                facets = facets.reshape(-1, 3)\n",
    "                temp = np.full(facets.shape[0], 3)\n",
    "                temp = np.vstack(temp)\n",
    "                facets = np.hstack((temp, facets))\n",
    "                face_mesh_data = pv.PolyData(vertices, facets)\n",
    "                if part_mesh_info is None:\n",
    "                    part_mesh_info = face_mesh_data\n",
    "                else:\n",
    "                    part_mesh_info = part_mesh_info.append_polydata(face_mesh_data)\n",
    "        return part_mesh_info\n",
    "\n",
    "def preview(project: script.Project) -> None:\n",
    "    \"\"\"preview cad bodies inside the scene.\"\"\"\n",
    "    _preview_mesh = pv.PolyData()\n",
    "    \n",
    "    root_part_data = speos.client.get_item(project.scene_link.get().part_guid).get()\n",
    "    if len(root_part_data.parts) != 0:\n",
    "        for part_idx, part_item in enumerate(root_part_data.parts):\n",
    "            part_item_data = speos.client.get_item(part_item.part_guid).get()\n",
    "            poly_data = __extract_part_mesh_info(part_item_data, part_item.axis_system)\n",
    "            if poly_data is not None:\n",
    "                _preview_mesh = _preview_mesh.append_polydata(poly_data)\n",
    "\n",
    "    poly_data = __extract_part_mesh_info(root_part_data)\n",
    "    if poly_data is not None:\n",
    "        _preview_mesh = _preview_mesh.append_polydata(poly_data)\n",
    "\n",
    "    p = pv.Plotter()\n",
    "    p.add_mesh(_preview_mesh, show_edges=True)\n",
    "    p.show()"
   ]
  },
  {
   "cell_type": "code",
   "execution_count": null,
   "metadata": {},
   "outputs": [],
   "source": [
    "preview(project=p)"
   ]
  },
  {
   "cell_type": "markdown",
   "metadata": {},
   "source": [
    "Complete the project with source/sensor/simulation\n",
    "\n",
    "We are adding a camera sensor to have output results, a luminaire to have a light source.  \n",
    "And we gather the sensor and the camera into a simulation. (we will compute it just after)"
   ]
  },
  {
   "cell_type": "code",
   "execution_count": null,
   "metadata": {},
   "outputs": [],
   "source": [
    "ssr = p.create_sensor(name=\"Camera.1\")\n",
    "ssr.set_camera().set_distortion_file_uri(uri=os.path.join(tests_data_path, \"CameraInputFiles\", \"CameraDistortion_190deg.OPTDistortion\"))\\\n",
    "                .set_mode_photometric().set_transmittance_file_uri(uri=os.path.join(tests_data_path, \"CameraInputFiles\", \"CameraTransmittance.spectrum\"))\\\n",
    "                .set_mode_color().set_red_spectrum_file_uri(uri=os.path.join(tests_data_path, \"CameraInputFiles\", \"CameraSensitivityRed.spectrum\"))\\\n",
    "                                 .set_blue_spectrum_file_uri(uri=os.path.join(tests_data_path, \"CameraInputFiles\", \"CameraSensitivityBlue.spectrum\"))\\\n",
    "                                 .set_green_spectrum_file_uri(uri=os.path.join(tests_data_path, \"CameraInputFiles\", \"CameraSensitivityGreen.spectrum\"))\n",
    "ssr.set_camera().set_axis_system([-2000, 1500, 11000, -1, 0, 0, 0, 1, 0, 0, 0, -1])\n",
    "ssr.commit()\n",
    "\n",
    "src = p.create_source(name=\"Luminaire.1\")\n",
    "src.set_luminaire().set_intensity_file_uri(uri=os.path.join(tests_data_path, \"IES_C_DETECTOR.ies\")).set_spectrum().set_daylightfluorescent()\n",
    "src.set_luminaire().set_axis_system([0, 10000, 50000, 1, 0, 0, 0, 1, 0, 0, 0, 1])\n",
    "src.commit()\n",
    "\n",
    "sim = p.create_simulation(name=\"Inverse.1\")\n",
    "sim.set_inverse()\n",
    "sim.set_sensor_paths([\"Camera.1\"]).set_source_paths([\"Luminaire.1\"])\n",
    "sim.commit()"
   ]
  },
  {
   "cell_type": "markdown",
   "metadata": {},
   "source": [
    "Compute"
   ]
  },
  {
   "cell_type": "code",
   "execution_count": null,
   "metadata": {},
   "outputs": [],
   "source": [
    "sim.compute_CPU()"
   ]
  },
  {
   "cell_type": "markdown",
   "metadata": {},
   "source": [
    "Watch results"
   ]
  },
  {
   "cell_type": "code",
   "execution_count": null,
   "metadata": {},
   "outputs": [],
   "source": [
    "from ansys.speos.workflow.open_result import open_result_image\n",
    "\n",
    "open_result_image(simulation_feature=sim, result_name=\"Camera.1.png\")"
   ]
  },
  {
   "cell_type": "markdown",
   "metadata": {},
   "source": [
    "Modify geometry - compute - watch result\n",
    "\n",
    "Here we are moving the blue car. The new position is clother to the camera sensor."
   ]
  },
  {
   "cell_type": "code",
   "execution_count": null,
   "metadata": {},
   "outputs": [],
   "source": [
    "blue_car_sub_part = p.find(name=\"RootPart/BlueCar\")\n",
    "blue_car_sub_part.set_axis_system([2000,0.0,20000,0.0,0.0,-1.0,-1.0,0.0,0.0,0.0,1.0,0.0])\n",
    "blue_car_sub_part.commit()\n",
    "\n",
    "sim.compute_CPU()\n",
    "\n",
    "open_result_image(simulation_feature=sim, result_name=\"Camera.1.png\")"
   ]
  },
  {
   "cell_type": "markdown",
   "metadata": {},
   "source": [
    "Modify camera - compute - watch result\n",
    "\n",
    "He we are modifying camera characteristic: focal length."
   ]
  },
  {
   "cell_type": "code",
   "execution_count": null,
   "metadata": {},
   "outputs": [],
   "source": [
    "cam1 = p.find(name=\"Camera.1\")\n",
    "cam1.set_camera().set_focal_length(value=10)\n",
    "cam1.commit()\n",
    "\n",
    "sim.compute_CPU()\n",
    "\n",
    "open_result_image(simulation_feature=sim, result_name=\"Camera.1.png\")"
   ]
  }
 ],
 "metadata": {
  "kernelspec": {
   "display_name": ".venv",
   "language": "python",
   "name": "python3"
  },
  "language_info": {
   "codemirror_mode": {
    "name": "ipython",
    "version": 3
   },
   "file_extension": ".py",
   "mimetype": "text/x-python",
   "name": "python",
   "nbconvert_exporter": "python",
   "pygments_lexer": "ipython3",
   "version": "3.10.12"
  }
 },
 "nbformat": 4,
 "nbformat_minor": 2
}
