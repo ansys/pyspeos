{
 "cells": [
  {
   "cell_type": "code",
   "execution_count": null,
   "metadata": {},
   "outputs": [],
   "source": [
    "import os\n",
    "import ansys.speos.script as script\n",
    "from ansys.speos.core import Speos\n",
    "\n",
    "tests_data_path = os.path.join(os.path.abspath(''), os.path.pardir, \"assets\")"
   ]
  },
  {
   "cell_type": "markdown",
   "metadata": {},
   "source": [
    "Create connection with speos rpc server"
   ]
  },
  {
   "cell_type": "code",
   "execution_count": null,
   "metadata": {},
   "outputs": [],
   "source": [
    "speos = Speos(host=\"localhost\", port=50098)"
   ]
  },
  {
   "cell_type": "markdown",
   "metadata": {},
   "source": [
    "Combine several speos file into one project feature\n",
    "\n",
    "Here we are building a project with:\n",
    "- An environment which is a road\n",
    "- A blue car\n",
    "- A red car"
   ]
  },
  {
   "cell_type": "code",
   "execution_count": null,
   "metadata": {},
   "outputs": [],
   "source": [
    "from ansys.speos.workflow.combine_speos import combine_speos, SpeosFileInstance\n",
    "p = combine_speos(speos=speos, speos_to_combine=[SpeosFileInstance(speos_file=os.path.join(tests_data_path, \"Env_Simplified.speos\", \"Env_Simplified.speos\"), axis_system=[0,0,0,1,0,0,0,1,0,0,0,1]),\n",
    "                                                 SpeosFileInstance(speos_file=os.path.join(tests_data_path, \"BlueCar.speos\", \"BlueCar.speos\"), axis_system=[2000, 0, 35000, 0.0, 0.0, -1.0, -1.0, 0.0, 0.0, 0.0, 1.0, 0.0]),\n",
    "                                                 SpeosFileInstance(speos_file=os.path.join(tests_data_path, \"RedCar.speos\", \"RedCar.speos\"), axis_system=[-4000, 0, 48000, 1.0, 0.0, 0.0, 0.0, 0.0, -1.0, 0.0, 1.0, 0.0])])\n",
    "#print(p)\n"
   ]
  },
  {
   "cell_type": "markdown",
   "metadata": {},
   "source": [
    "Preview the project"
   ]
  },
  {
   "cell_type": "code",
   "execution_count": null,
   "metadata": {},
   "outputs": [],
   "source": [
    "p.preview()"
   ]
  },
  {
   "cell_type": "markdown",
   "metadata": {},
   "source": [
    "Complete the project with source/sensor/simulation\n",
    "\n",
    "We are adding a camera sensor to have output results, a luminaire to have a light source.  \n",
    "And we gather the sensor and the camera into a simulation. (we will compute it just after)"
   ]
  },
  {
   "cell_type": "code",
   "execution_count": null,
   "metadata": {},
   "outputs": [],
   "source": [
    "ssr = p.create_sensor(name=\"Camera.1\", feature_type=script.Camera)\n",
    "ssr.set_distortion_file_uri(uri=os.path.join(tests_data_path, \"CameraInputFiles\", \"CameraDistortion_190deg.OPTDistortion\"))\\\n",
    "    .set_mode_photometric().set_transmittance_file_uri(uri=os.path.join(tests_data_path, \"CameraInputFiles\", \"CameraTransmittance.spectrum\"))\\\n",
    "    .set_mode_color().set_red_spectrum_file_uri(uri=os.path.join(tests_data_path, \"CameraInputFiles\", \"CameraSensitivityRed.spectrum\"))\\\n",
    "                    .set_blue_spectrum_file_uri(uri=os.path.join(tests_data_path, \"CameraInputFiles\", \"CameraSensitivityBlue.spectrum\"))\\\n",
    "                    .set_green_spectrum_file_uri(uri=os.path.join(tests_data_path, \"CameraInputFiles\", \"CameraSensitivityGreen.spectrum\"))\n",
    "ssr.set_axis_system([-2000, 1500, 11000, -1, 0, 0, 0, 1, 0, 0, 0, -1])\n",
    "ssr.commit()\n",
    "\n",
    "src = p.create_source(name=\"Luminaire.1\", feature_type=script.Luminaire)\n",
    "src.set_intensity_file_uri(uri=os.path.join(tests_data_path, \"IES_C_DETECTOR.ies\")).set_spectrum().set_daylightfluorescent()\n",
    "src.set_axis_system([0, 10000, 50000, 1, 0, 0, 0, 1, 0, 0, 0, 1])\n",
    "src.commit()\n",
    "\n",
    "sim = p.create_simulation(name=\"Inverse.1\", feature_type=script.Inverse)\n",
    "sim.set_sensor_paths([\"Camera.1\"]).set_source_paths([\"Luminaire.1\"])\n",
    "sim.commit()"
   ]
  },
  {
   "cell_type": "markdown",
   "metadata": {},
   "source": [
    "Compute"
   ]
  },
  {
   "cell_type": "code",
   "execution_count": null,
   "metadata": {},
   "outputs": [],
   "source": [
    "sim.compute_CPU()"
   ]
  },
  {
   "cell_type": "markdown",
   "metadata": {},
   "source": [
    "Watch results"
   ]
  },
  {
   "cell_type": "code",
   "execution_count": null,
   "metadata": {},
   "outputs": [],
   "source": [
    "from ansys.speos.workflow.open_result import open_result_image\n",
    "\n",
    "open_result_image(simulation_feature=sim, result_name=\"Camera.1.png\")"
   ]
  },
  {
   "cell_type": "markdown",
   "metadata": {},
   "source": [
    "Modify geometry - compute - watch result\n",
    "\n",
    "Here we are moving the blue car. The new position is clother to the camera sensor."
   ]
  },
  {
   "cell_type": "code",
   "execution_count": null,
   "metadata": {},
   "outputs": [],
   "source": [
    "blue_car_sub_part = p.find(name=\"BlueCar\", feature_type=script.Part.SubPart)[0]\n",
    "blue_car_sub_part.set_axis_system([2000,0.0,20000,0.0,0.0,-1.0,-1.0,0.0,0.0,0.0,1.0,0.0])\n",
    "blue_car_sub_part.commit()\n",
    "\n",
    "sim.compute_CPU()\n",
    "\n",
    "open_result_image(simulation_feature=sim, result_name=\"Camera.1.png\")"
   ]
  },
  {
   "cell_type": "markdown",
   "metadata": {},
   "source": [
    "Modify camera - compute - watch result\n",
    "\n",
    "He we are modifying camera characteristic: focal length."
   ]
  },
  {
   "cell_type": "code",
   "execution_count": null,
   "metadata": {},
   "outputs": [],
   "source": [
    "cam1 = p.find(name=\"Camera.1\", feature_type=script.Camera)[0]\n",
    "cam1.set_focal_length(value=10)\n",
    "cam1.commit()\n",
    "\n",
    "sim.compute_CPU()\n",
    "\n",
    "open_result_image(simulation_feature=sim, result_name=\"Camera.1.png\")"
   ]
  }
 ],
 "metadata": {
  "kernelspec": {
   "display_name": "Python 3 (ipykernel)",
   "language": "python",
   "name": "python3"
  },
  "language_info": {
   "codemirror_mode": {
    "name": "ipython",
    "version": 3
   },
   "file_extension": ".py",
   "mimetype": "text/x-python",
   "name": "python",
   "nbconvert_exporter": "python",
   "pygments_lexer": "ipython3",
   "version": "3.10.11"
  }
 },
 "nbformat": 4,
 "nbformat_minor": 4
}
