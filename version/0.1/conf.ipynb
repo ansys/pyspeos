{
 "cells": [
  {
   "cell_type": "code",
   "execution_count": 1,
   "id": "a57c7d9b",
   "metadata": {
    "execution": {
     "iopub.execute_input": "2025-02-25T09:30:57.973722Z",
     "iopub.status.busy": "2025-02-25T09:30:57.973419Z",
     "iopub.status.idle": "2025-02-25T09:30:57.984622Z",
     "shell.execute_reply": "2025-02-25T09:30:57.983841Z"
    }
   },
   "outputs": [
    {
     "data": {
      "text/plain": [
       "'Sphinx documentation configuration file.'"
      ]
     },
     "execution_count": 1,
     "metadata": {},
     "output_type": "execute_result"
    }
   ],
   "source": [
    "\"\"\"Sphinx documentation configuration file.\"\"\""
   ]
  },
  {
   "cell_type": "code",
   "execution_count": 2,
   "id": "cde98688",
   "metadata": {
    "execution": {
     "iopub.execute_input": "2025-02-25T09:30:57.986929Z",
     "iopub.status.busy": "2025-02-25T09:30:57.986682Z",
     "iopub.status.idle": "2025-02-25T09:30:57.989977Z",
     "shell.execute_reply": "2025-02-25T09:30:57.989289Z"
    }
   },
   "outputs": [],
   "source": [
    "from datetime import datetime\n",
    "import os\n",
    "import pathlib\n",
    "import shutil"
   ]
  },
  {
   "cell_type": "code",
   "execution_count": 3,
   "id": "39c785b2",
   "metadata": {
    "execution": {
     "iopub.execute_input": "2025-02-25T09:30:57.992148Z",
     "iopub.status.busy": "2025-02-25T09:30:57.991939Z",
     "iopub.status.idle": "2025-02-25T09:30:58.124926Z",
     "shell.execute_reply": "2025-02-25T09:30:58.124072Z"
    }
   },
   "outputs": [],
   "source": [
    "from ansys_sphinx_theme import ansys_favicon, get_version_match\n",
    "import sphinx\n",
    "from sphinx.builders.latex import LaTeXBuilder\n",
    "from sphinx.util import logging\n",
    "from sphinx.util.display import status_iterator"
   ]
  },
  {
   "cell_type": "code",
   "execution_count": 4,
   "id": "6f15c82d",
   "metadata": {
    "execution": {
     "iopub.execute_input": "2025-02-25T09:30:58.127905Z",
     "iopub.status.busy": "2025-02-25T09:30:58.127562Z",
     "iopub.status.idle": "2025-02-25T09:30:58.915509Z",
     "shell.execute_reply": "2025-02-25T09:30:58.914709Z"
    }
   },
   "outputs": [],
   "source": [
    "from ansys.speos.core import __version__"
   ]
  },
  {
   "cell_type": "code",
   "execution_count": 5,
   "id": "85b64166",
   "metadata": {
    "execution": {
     "iopub.execute_input": "2025-02-25T09:30:58.918238Z",
     "iopub.status.busy": "2025-02-25T09:30:58.917904Z",
     "iopub.status.idle": "2025-02-25T09:30:58.921584Z",
     "shell.execute_reply": "2025-02-25T09:30:58.920892Z"
    }
   },
   "outputs": [],
   "source": [
    "LaTeXBuilder.supported_image_types = [\"image/png\", \"image/pdf\", \"image/svg+xml\"]\n",
    "os.environ[\"DOCUMENTATION_BUILDING\"] = \"true\""
   ]
  },
  {
   "cell_type": "code",
   "execution_count": 6,
   "id": "4402c484",
   "metadata": {
    "execution": {
     "iopub.execute_input": "2025-02-25T09:30:58.923733Z",
     "iopub.status.busy": "2025-02-25T09:30:58.923519Z",
     "iopub.status.idle": "2025-02-25T09:30:58.927303Z",
     "shell.execute_reply": "2025-02-25T09:30:58.926606Z"
    }
   },
   "outputs": [],
   "source": [
    "# Project information\n",
    "project = \"ansys-speos-core\"\n",
    "copyright = f\"(c) {datetime.now().year} ANSYS, Inc. All rights reserved\"\n",
    "author = \"Ansys Inc.\"\n",
    "release = version = __version__\n",
    "cname = os.getenv(\"DOCUMENTATION_CNAME\", default=\"speos.docs.pyansys.com\")"
   ]
  },
  {
   "cell_type": "code",
   "execution_count": 7,
   "id": "1c6eddfb",
   "metadata": {
    "execution": {
     "iopub.execute_input": "2025-02-25T09:30:58.929362Z",
     "iopub.status.busy": "2025-02-25T09:30:58.929158Z",
     "iopub.status.idle": "2025-02-25T09:30:58.932251Z",
     "shell.execute_reply": "2025-02-25T09:30:58.931581Z"
    }
   },
   "outputs": [],
   "source": [
    "# use the default pyansys logo\n",
    "html_theme = \"ansys_sphinx_theme\"\n",
    "html_favicon = ansys_favicon"
   ]
  },
  {
   "cell_type": "code",
   "execution_count": 8,
   "id": "5253bd6f",
   "metadata": {
    "execution": {
     "iopub.execute_input": "2025-02-25T09:30:58.934381Z",
     "iopub.status.busy": "2025-02-25T09:30:58.934177Z",
     "iopub.status.idle": "2025-02-25T09:30:58.938826Z",
     "shell.execute_reply": "2025-02-25T09:30:58.938133Z"
    },
    "lines_to_next_cell": 2
   },
   "outputs": [],
   "source": [
    "# specify the location of your github repo\n",
    "html_theme_options = {\n",
    "    \"logo\": \"pyansys\",\n",
    "    \"github_url\": \"https://github.com/ansys-internal/pyspeos\",\n",
    "    \"show_prev_next\": False,\n",
    "    \"switcher\": {\n",
    "        \"json_url\": f\"https://{cname}/versions.json\",\n",
    "        \"version_match\": get_version_match(__version__),\n",
    "    },\n",
    "    \"check_switcher\": False,\n",
    "    \"ansys_sphinx_theme_autoapi\": {\n",
    "        \"project\": project,\n",
    "    },\n",
    "}\n",
    "BUILD_CHEATSHEET = os.environ.get(\"BUILD_CHEATSHEET\", \"false\").lower() == \"true\"\n",
    "if BUILD_CHEATSHEET:\n",
    "    html_theme_options[\"cheatsheet\"] = {\n",
    "        \"file\": \"cheat_sheet/cheat_sheet_script.qmd\",\n",
    "        \"title\": \"PySpeos cheat sheet\",\n",
    "        \"version\": f\"v{version}\",\n",
    "        \"pages\": [\"index\"],\n",
    "    }"
   ]
  },
  {
   "cell_type": "code",
   "execution_count": 9,
   "id": "e2231298",
   "metadata": {
    "execution": {
     "iopub.execute_input": "2025-02-25T09:30:58.940884Z",
     "iopub.status.busy": "2025-02-25T09:30:58.940659Z",
     "iopub.status.idle": "2025-02-25T09:30:58.943957Z",
     "shell.execute_reply": "2025-02-25T09:30:58.943275Z"
    }
   },
   "outputs": [],
   "source": [
    "# Sphinx extensions\n",
    "extensions = [\n",
    "    \"numpydoc\",\n",
    "    \"sphinx.ext.intersphinx\",\n",
    "    \"sphinx_copybutton\",\n",
    "    \"sphinx.ext.autodoc\",\n",
    "    \"sphinx_design\",\n",
    "    \"sphinx_jinja\",\n",
    "    \"ansys_sphinx_theme.extension.autoapi\",\n",
    "    \"nbsphinx\",\n",
    "    \"myst_parser\",\n",
    "    \"sphinxcontrib.mermaid\",\n",
    "]"
   ]
  },
  {
   "cell_type": "code",
   "execution_count": 10,
   "id": "e2ad6b70",
   "metadata": {
    "execution": {
     "iopub.execute_input": "2025-02-25T09:30:58.946045Z",
     "iopub.status.busy": "2025-02-25T09:30:58.945782Z",
     "iopub.status.idle": "2025-02-25T09:30:58.950020Z",
     "shell.execute_reply": "2025-02-25T09:30:58.949085Z"
    }
   },
   "outputs": [],
   "source": [
    "# Intersphinx mapping\n",
    "intersphinx_mapping = {\n",
    "    \"python\": (\"https://docs.python.org/3/\", None),\n",
    "    \"grpc\": (\"https://grpc.github.io/grpc/python/\", None),\n",
    "    \"pypim\": (\"https://pypim.docs.pyansys.com/version/stable\", None),\n",
    "    # kept here as an example\n",
    "    # \"scipy\": (\"https://docs.scipy.org/doc/scipy/reference\", None),\n",
    "    # \"numpy\": (\"https://numpy.org/devdocs\", None),\n",
    "    # \"matplotlib\": (\"https://matplotlib.org/stable\", None),\n",
    "    # \"pandas\": (\"https://pandas.pydata.org/pandas-docs/stable\", None),\n",
    "    # \"pyvista\": (\"https://docs.pyvista.org/\", None),\n",
    "}"
   ]
  },
  {
   "cell_type": "code",
   "execution_count": 11,
   "id": "4ccd5aa0",
   "metadata": {
    "execution": {
     "iopub.execute_input": "2025-02-25T09:30:58.953311Z",
     "iopub.status.busy": "2025-02-25T09:30:58.952696Z",
     "iopub.status.idle": "2025-02-25T09:30:58.957451Z",
     "shell.execute_reply": "2025-02-25T09:30:58.956500Z"
    }
   },
   "outputs": [],
   "source": [
    "numpydoc_show_class_members = False\n",
    "numpydoc_xref_param_type = True\n",
    "numpydoc_validate = True\n",
    "numpydoc_validation_checks = {\n",
    "    \"GL06\",  # Found unknown section\n",
    "    \"GL07\",  # Sections are in the wrong order.\n",
    "    # \"GL08\",  # The object does not have a docstring\n",
    "    \"GL09\",  # Deprecation warning should precede extended summary\n",
    "    \"GL10\",  # reST directives {directives} must be followed by two colons\n",
    "    \"SS01\",  # No summary found\n",
    "    \"SS02\",  # Summary does not start with a capital letter\n",
    "    # \"SS03\", # Summary does not end with a period\n",
    "    \"SS04\",  # Summary contains heading whitespaces\n",
    "    # \"SS05\", # Summary must start with infinitive verb, not third person\n",
    "    \"RT02\",  # The first line of the Returns section should contain only the\n",
    "    # type, unless multiple values are being returned\"\n",
    "}"
   ]
  },
  {
   "cell_type": "code",
   "execution_count": 12,
   "id": "f9745736",
   "metadata": {
    "execution": {
     "iopub.execute_input": "2025-02-25T09:30:58.960079Z",
     "iopub.status.busy": "2025-02-25T09:30:58.959774Z",
     "iopub.status.idle": "2025-02-25T09:30:58.963640Z",
     "shell.execute_reply": "2025-02-25T09:30:58.962834Z"
    }
   },
   "outputs": [],
   "source": [
    "# static path\n",
    "html_static_path = [\"_static\"]\n",
    "html_css_files = [\"custom.css\"]"
   ]
  },
  {
   "cell_type": "code",
   "execution_count": 13,
   "id": "f8b719b5",
   "metadata": {
    "execution": {
     "iopub.execute_input": "2025-02-25T09:30:58.966184Z",
     "iopub.status.busy": "2025-02-25T09:30:58.965924Z",
     "iopub.status.idle": "2025-02-25T09:30:58.969630Z",
     "shell.execute_reply": "2025-02-25T09:30:58.968874Z"
    }
   },
   "outputs": [],
   "source": [
    "# Add any paths that contain templates here, relative to this directory.\n",
    "templates_path = [\"_templates\"]"
   ]
  },
  {
   "cell_type": "code",
   "execution_count": 14,
   "id": "5175ddf1",
   "metadata": {
    "execution": {
     "iopub.execute_input": "2025-02-25T09:30:58.972019Z",
     "iopub.status.busy": "2025-02-25T09:30:58.971733Z",
     "iopub.status.idle": "2025-02-25T09:30:58.975266Z",
     "shell.execute_reply": "2025-02-25T09:30:58.974507Z"
    }
   },
   "outputs": [],
   "source": [
    "# The suffix(es) of source filenames.\n",
    "source_suffix = \".rst\""
   ]
  },
  {
   "cell_type": "code",
   "execution_count": 15,
   "id": "83b1d3d5",
   "metadata": {
    "execution": {
     "iopub.execute_input": "2025-02-25T09:30:58.977651Z",
     "iopub.status.busy": "2025-02-25T09:30:58.977399Z",
     "iopub.status.idle": "2025-02-25T09:30:58.981225Z",
     "shell.execute_reply": "2025-02-25T09:30:58.980487Z"
    }
   },
   "outputs": [],
   "source": [
    "# The master toctree document.\n",
    "master_doc = \"index\"\n",
    "suppress_warnings = [\"autoapi\"]\n",
    "autodoc_typehints = \"description\""
   ]
  },
  {
   "cell_type": "code",
   "execution_count": 16,
   "id": "ad5c3eb9",
   "metadata": {
    "execution": {
     "iopub.execute_input": "2025-02-25T09:30:58.983872Z",
     "iopub.status.busy": "2025-02-25T09:30:58.983555Z",
     "iopub.status.idle": "2025-02-25T09:30:58.989893Z",
     "shell.execute_reply": "2025-02-25T09:30:58.988991Z"
    },
    "lines_to_next_cell": 2
   },
   "outputs": [],
   "source": [
    "# -- Declare the Jinja context -----------------------------------------------\n",
    "BUILD_EXAMPLES = True if os.environ.get(\"BUILD_EXAMPLES\", \"true\") == \"true\" else False\n",
    "if BUILD_EXAMPLES:\n",
    "    extensions.extend([\"myst_parser\", \"nbsphinx\"])\n",
    "    nbsphinx_execute = \"always\"\n",
    "    nbsphinx_custom_formats = {\n",
    "        \".mystnb\": [\"jupytext.reads\", {\"fmt\": \"mystnb\"}],\n",
    "        \".py\": [\"jupytext.reads\", {\"fmt\": \"\"}],\n",
    "    }\n",
    "    nbsphinx_thumbnails = {\n",
    "        \"examples/core/opt-prop\": \"_static/thumbnails/property_520x520.png\",\n",
    "        \"examples/core/source\": \"_static/thumbnails/source_520x520.png\",\n",
    "        \"examples/core/sensor\": \"_static/thumbnails/sensor_520x520.png\",\n",
    "        \"examples/core/part\": \"_static/thumbnails/part_520x520.png\",\n",
    "        \"examples/core/simulation\": \"_static/thumbnails/simulation_520x520.png\",\n",
    "        \"examples/core/project\": \"_static/thumbnails/how_to_create_a_project.PNG\",\n",
    "        \"examples/core/lpf-preview\": \"_static/thumbnails/script_lpf_preview.PNG\",\n",
    "        \"examples/core/prism-example\": \"_static/thumbnails/prism_example_using_script_layer.PNG\",\n",
    "        \"examples/kernel/object-link\": \"_static/thumbnails/pySpeos_520x520.png\",\n",
    "        \"examples/kernel/scene-job\": \"_static/thumbnails/pySpeos_520x520.png\",\n",
    "        \"examples/kernel/modify-scene\": \"_static/thumbnails/pySpeos_520x520.png\",\n",
    "        \"examples/workflow/open-result\": \"_static/thumbnails/how_to_open_result_using_workflow_method.png\",\n",
    "        \"examples/workflow/combine-speos\": \"_static/thumbnails/moving_car_workflow_example_using_script_layer.PNG\",\n",
    "    }\n",
    "    nbsphinx_prompt_width = \"\"\n",
    "    nbsphinx_prolog = \"\"\"\n",
    "\n",
    "    .. grid:: 3\n",
    "        :gutter: 1\n",
    "\n",
    "        .. grid-item::\n",
    "            :child-align: center\n",
    "\n",
    "            .. button-link:: {cname_pref}/{python_file_loc}\n",
    "                :color: primary\n",
    "                :shadow:\n",
    "\n",
    "                Download as Python script :fab:`python`\n",
    "\n",
    "        .. grid-item::\n",
    "            :child-align: center\n",
    "\n",
    "            .. button-link:: {cname_pref}/{ipynb_file_loc}\n",
    "               :color: primary\n",
    "               :shadow:\n",
    "\n",
    "                Download as Jupyter notebook :fas:`book`\n",
    "\n",
    "----\n",
    "\n",
    "    \"\"\".format(\n",
    "        cname_pref=f\"https://{cname}/version/{get_version_match(version)}\",\n",
    "        python_file_loc=\"{{ env.docname }}.py\",\n",
    "        ipynb_file_loc=\"{{ env.docname }}.ipynb\",\n",
    "    )"
   ]
  },
  {
   "cell_type": "code",
   "execution_count": 17,
   "id": "b10c1864",
   "metadata": {
    "execution": {
     "iopub.execute_input": "2025-02-25T09:30:58.992354Z",
     "iopub.status.busy": "2025-02-25T09:30:58.992102Z",
     "iopub.status.idle": "2025-02-25T09:30:58.995366Z",
     "shell.execute_reply": "2025-02-25T09:30:58.994910Z"
    }
   },
   "outputs": [],
   "source": [
    "jinja_contexts = {\n",
    "    \"linux_containers\": {},\n",
    "    \"main_toctree\": {\n",
    "        \"build_examples\": BUILD_EXAMPLES,\n",
    "    },\n",
    "}"
   ]
  },
  {
   "cell_type": "code",
   "execution_count": 18,
   "id": "6047f76a",
   "metadata": {
    "execution": {
     "iopub.execute_input": "2025-02-25T09:30:58.997535Z",
     "iopub.status.busy": "2025-02-25T09:30:58.997304Z",
     "iopub.status.idle": "2025-02-25T09:30:59.003173Z",
     "shell.execute_reply": "2025-02-25T09:30:59.002479Z"
    }
   },
   "outputs": [],
   "source": [
    "def copy_examples_to_output_dir(app: sphinx.application.Sphinx, exception: Exception):\n",
    "    \"\"\"\n",
    "    Copy the examples directory to the output directory of the documentation.\n",
    "\n",
    "    Parameters\n",
    "    ----------\n",
    "    app : sphinx.application.Sphinx\n",
    "        Sphinx application instance containing the all the doc build configuration.\n",
    "    exception : Exception\n",
    "        Exception encountered during the building of the documentation.\n",
    "\n",
    "    \"\"\"\n",
    "    # TODO: investigate issues when using OUTPUT_EXAMPLES instead of SOURCE_EXAMPLES\n",
    "    # https://github.com/ansys-internal/pystk/issues/415\n",
    "    OUTPUT_EXAMPLES = pathlib.Path(app.outdir) / \"examples\"\n",
    "    OUTPUT_IMAGES = OUTPUT_EXAMPLES / \"img\"\n",
    "    OUTPUT_CORE = OUTPUT_EXAMPLES / \"core\"\n",
    "    OUTPUT_KERNEL = OUTPUT_EXAMPLES / \"kernel\"\n",
    "    OUTPUT_WORKFLOW = OUTPUT_EXAMPLES / \"workflow\"\n",
    "    for directory in [OUTPUT_EXAMPLES, OUTPUT_IMAGES, OUTPUT_CORE, OUTPUT_KERNEL, OUTPUT_WORKFLOW]:\n",
    "        if not directory.exists():\n",
    "            directory.mkdir(parents=True, exist_ok=True)\n",
    "\n",
    "    SOURCE_EXAMPLES = pathlib.Path(app.srcdir) / \"examples\"\n",
    "    EXAMPLES_DIRECTORY = SOURCE_EXAMPLES.parent.parent.parent / \"examples\"\n",
    "\n",
    "    # Copyt the examples\n",
    "    examples = list(EXAMPLES_DIRECTORY.glob(\"*.py\"))\n",
    "    for file in status_iterator(\n",
    "        examples,\n",
    "        \"Copying example to doc/_build/examples/\",\n",
    "        \"green\",\n",
    "        len(examples),\n",
    "        verbosity=1,\n",
    "        stringify_func=(lambda file: file.name),\n",
    "    ):\n",
    "        destination_file = OUTPUT_EXAMPLES / file.parent.name / file.name\n",
    "        destination_file.write_text(file.read_text(encoding=\"utf-8\"), encoding=\"utf-8\")"
   ]
  },
  {
   "cell_type": "code",
   "execution_count": 19,
   "id": "cd8130e8",
   "metadata": {
    "execution": {
     "iopub.execute_input": "2025-02-25T09:30:59.005403Z",
     "iopub.status.busy": "2025-02-25T09:30:59.005180Z",
     "iopub.status.idle": "2025-02-25T09:30:59.010637Z",
     "shell.execute_reply": "2025-02-25T09:30:59.010092Z"
    }
   },
   "outputs": [],
   "source": [
    "def copy_examples_files_to_source_dir(app: sphinx.application.Sphinx):\n",
    "    \"\"\"\n",
    "    Copy the examples directory to the source directory of the documentation.\n",
    "\n",
    "    Parameters\n",
    "    ----------\n",
    "    app : sphinx.application.Sphinx\n",
    "        Sphinx application instance containing the all the doc build configuration.\n",
    "\n",
    "    \"\"\"\n",
    "    SOURCE_EXAMPLES = pathlib.Path(app.srcdir) / \"examples\"\n",
    "    SOURCE_IMAGES = SOURCE_EXAMPLES / \"img\"\n",
    "    CORE_EXAMPLES = SOURCE_EXAMPLES / \"core\"\n",
    "    KERNEL_EXAMPLES = SOURCE_EXAMPLES / \"kernel\"\n",
    "    WORKFLOW_EXAMPLES = SOURCE_EXAMPLES / \"workflow\"\n",
    "    for directory in [\n",
    "        SOURCE_EXAMPLES,\n",
    "        SOURCE_IMAGES,\n",
    "        CORE_EXAMPLES,\n",
    "        KERNEL_EXAMPLES,\n",
    "        WORKFLOW_EXAMPLES,\n",
    "    ]:\n",
    "        if not directory.exists():\n",
    "            directory.mkdir(parents=True, exist_ok=True)\n",
    "\n",
    "    EXAMPLES_DIRECTORY = SOURCE_EXAMPLES.parent.parent.parent / \"examples\"\n",
    "\n",
    "    # Copy the the examples\n",
    "    examples = list(EXAMPLES_DIRECTORY.glob(\"**/*.py\"))\n",
    "    for file in status_iterator(\n",
    "        examples,\n",
    "        \"Copying example to doc/source/examples/\",\n",
    "        \"green\",\n",
    "        len(examples),\n",
    "        verbosity=1,\n",
    "        stringify_func=(lambda file: file.name),\n",
    "    ):\n",
    "        destination_file = SOURCE_EXAMPLES / file.parent.name / file.name\n",
    "        destination_file.write_text(file.read_text(encoding=\"utf-8\"), encoding=\"utf-8\")"
   ]
  },
  {
   "cell_type": "code",
   "execution_count": 20,
   "id": "334e4453",
   "metadata": {
    "execution": {
     "iopub.execute_input": "2025-02-25T09:30:59.013023Z",
     "iopub.status.busy": "2025-02-25T09:30:59.012746Z",
     "iopub.status.idle": "2025-02-25T09:30:59.016640Z",
     "shell.execute_reply": "2025-02-25T09:30:59.016143Z"
    }
   },
   "outputs": [],
   "source": [
    "def remove_examples_from_source_dir(app: sphinx.application.Sphinx, exception: Exception):\n",
    "    \"\"\"\n",
    "    Remove the example files from the documentation source directory.\n",
    "\n",
    "    Parameters\n",
    "    ----------\n",
    "    app : sphinx.application.Sphinx\n",
    "        Sphinx application instance containing the all the doc build configuration.\n",
    "    exception : Exception\n",
    "        Exception encountered during the building of the documentation.\n",
    "\n",
    "    \"\"\"\n",
    "    EXAMPLES_DIRECTORY = pathlib.Path(app.srcdir) / \"examples\"\n",
    "    logger = logging.getLogger(__name__)\n",
    "    logger.info(f\"\\nRemoving {EXAMPLES_DIRECTORY} directory...\")\n",
    "    shutil.rmtree(EXAMPLES_DIRECTORY)"
   ]
  },
  {
   "cell_type": "code",
   "execution_count": 21,
   "id": "327c2140",
   "metadata": {
    "execution": {
     "iopub.execute_input": "2025-02-25T09:30:59.018712Z",
     "iopub.status.busy": "2025-02-25T09:30:59.018494Z",
     "iopub.status.idle": "2025-02-25T09:30:59.022304Z",
     "shell.execute_reply": "2025-02-25T09:30:59.021825Z"
    }
   },
   "outputs": [],
   "source": [
    "def setup(app: sphinx.application.Sphinx):\n",
    "    \"\"\"\n",
    "    Run different hook functions during the documentation build.\n",
    "\n",
    "    Parameters\n",
    "    ----------\n",
    "    app : sphinx.application.Sphinx\n",
    "        Sphinx application instance containing the all the doc build configuration.\n",
    "\n",
    "    \"\"\"\n",
    "    # HACK: rST files are copied to the doc/source directory before the build.\n",
    "    # Sphinx needs all source files to be in the source directory to build.\n",
    "    # However, the examples are desired to be kept in the root directory. Once the\n",
    "    # build has completed, no matter its success, the examples are removed from\n",
    "    # the source directory.\n",
    "    if BUILD_EXAMPLES:\n",
    "        app.connect(\"builder-inited\", copy_examples_files_to_source_dir)\n",
    "        app.connect(\"build-finished\", remove_examples_from_source_dir)\n",
    "        app.connect(\"build-finished\", copy_examples_to_output_dir)"
   ]
  }
 ],
 "metadata": {
  "jupytext": {
   "cell_metadata_filter": "-all",
   "main_language": "python",
   "notebook_metadata_filter": "-all",
   "text_representation": {
    "extension": ".py",
    "format_name": "light"
   }
  },
  "language_info": {
   "codemirror_mode": {
    "name": "ipython",
    "version": 3
   },
   "file_extension": ".py",
   "mimetype": "text/x-python",
   "name": "python",
   "nbconvert_exporter": "python",
   "pygments_lexer": "ipython3",
   "version": "3.10.16"
  }
 },
 "nbformat": 4,
 "nbformat_minor": 5
}
