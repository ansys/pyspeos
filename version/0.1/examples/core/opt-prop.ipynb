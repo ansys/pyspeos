{
 "cells": [
  {
   "cell_type": "markdown",
   "id": "33621af9",
   "metadata": {},
   "source": [
    "# How to create an optical property"
   ]
  },
  {
   "cell_type": "markdown",
   "id": "20534f2e",
   "metadata": {},
   "source": [
    "This tutorial demonstrates how to create an optical property."
   ]
  },
  {
   "cell_type": "markdown",
   "id": "e54fbc04",
   "metadata": {},
   "source": [
    "## What is an optical property?"
   ]
  },
  {
   "cell_type": "markdown",
   "id": "13584013",
   "metadata": {},
   "source": [
    "An optical property (also named material), gathers two notions:\n",
    "the surface optical property (SOP) and the volume optical property (VOP)."
   ]
  },
  {
   "cell_type": "markdown",
   "id": "e76cc45b",
   "metadata": {},
   "source": [
    "The property is then applied to a geometry (like bodies, faces)."
   ]
  },
  {
   "cell_type": "code",
   "execution_count": 1,
   "id": "de9967f6",
   "metadata": {
    "execution": {
     "iopub.execute_input": "2025-02-25T09:31:22.163430Z",
     "iopub.status.busy": "2025-02-25T09:31:22.163144Z",
     "iopub.status.idle": "2025-02-25T09:31:22.838606Z",
     "shell.execute_reply": "2025-02-25T09:31:22.837790Z"
    }
   },
   "outputs": [],
   "source": [
    "import os\n",
    "\n",
    "from ansys.speos.core import GeoRef, Project, Speos\n",
    "\n",
    "# If using docker container\n",
    "tests_data_path = os.path.join(\"/app\", \"assets\")\n",
    "# If using local server\n",
    "# tests_data_path = os.path.join(os.path.abspath(\"\"), os.path.pardir, os.path.pardir, \"tests\", \"assets\")"
   ]
  },
  {
   "cell_type": "markdown",
   "id": "5e3959a9",
   "metadata": {},
   "source": [
    "## Create connection with speos rpc server"
   ]
  },
  {
   "cell_type": "code",
   "execution_count": 2,
   "id": "cb76d44b",
   "metadata": {
    "execution": {
     "iopub.execute_input": "2025-02-25T09:31:22.841415Z",
     "iopub.status.busy": "2025-02-25T09:31:22.841104Z",
     "iopub.status.idle": "2025-02-25T09:31:22.851834Z",
     "shell.execute_reply": "2025-02-25T09:31:22.851115Z"
    }
   },
   "outputs": [],
   "source": [
    "speos = Speos(host=\"localhost\", port=50098)"
   ]
  },
  {
   "cell_type": "markdown",
   "id": "b81f6293",
   "metadata": {},
   "source": [
    "## New Project"
   ]
  },
  {
   "cell_type": "markdown",
   "id": "3f6c52df",
   "metadata": {},
   "source": [
    "The only way to create an optical property is to create it from a project."
   ]
  },
  {
   "cell_type": "code",
   "execution_count": 3,
   "id": "ff2d8b57",
   "metadata": {
    "execution": {
     "iopub.execute_input": "2025-02-25T09:31:22.854248Z",
     "iopub.status.busy": "2025-02-25T09:31:22.853892Z",
     "iopub.status.idle": "2025-02-25T09:31:22.860654Z",
     "shell.execute_reply": "2025-02-25T09:31:22.860118Z"
    }
   },
   "outputs": [
    {
     "name": "stdout",
     "output_type": "stream",
     "text": [
      "{\n",
      "    \"name\": \"\",\n",
      "    \"description\": \"\",\n",
      "    \"metadata\": {},\n",
      "    \"part_guid\": \"\",\n",
      "    \"sources\": [],\n",
      "    \"sensors\": [],\n",
      "    \"simulations\": [],\n",
      "    \"materials\": [],\n",
      "    \"scenes\": []\n",
      "}\n"
     ]
    }
   ],
   "source": [
    "p = Project(speos=speos)\n",
    "print(p)"
   ]
  },
  {
   "cell_type": "markdown",
   "id": "576dcebd",
   "metadata": {},
   "source": [
    "## Create VOP (volume optical property)"
   ]
  },
  {
   "cell_type": "markdown",
   "id": "724750f9",
   "metadata": {},
   "source": [
    "Create locally."
   ]
  },
  {
   "cell_type": "markdown",
   "id": "b3cb13bc",
   "metadata": {},
   "source": [
    "The mention \"local: \" is added when printing the optical property."
   ]
  },
  {
   "cell_type": "code",
   "execution_count": 4,
   "id": "ba3af0de",
   "metadata": {
    "execution": {
     "iopub.execute_input": "2025-02-25T09:31:22.862850Z",
     "iopub.status.busy": "2025-02-25T09:31:22.862607Z",
     "iopub.status.idle": "2025-02-25T09:31:22.867402Z",
     "shell.execute_reply": "2025-02-25T09:31:22.866597Z"
    }
   },
   "outputs": [
    {
     "name": "stdout",
     "output_type": "stream",
     "text": [
      "local: {\n",
      "    \"name\": \"Material.1\",\n",
      "    \"geometries\": {\n",
      "        \"geo_paths\": [\n",
      "            \"TheBodyB\",\n",
      "            \"TheBodyC\"\n",
      "        ]\n",
      "    },\n",
      "    \"description\": \"\",\n",
      "    \"metadata\": {},\n",
      "    \"sop_guids\": [],\n",
      "    \"vop\": {\n",
      "        \"name\": \"Material.1.VOP\",\n",
      "        \"opaque\": {},\n",
      "        \"description\": \"\",\n",
      "        \"metadata\": {}\n",
      "    },\n",
      "    \"sops\": [\n",
      "        {\n",
      "            \"name\": \"Material.1.SOP\",\n",
      "            \"mirror\": {\n",
      "                \"reflectance\": 80.0\n",
      "            },\n",
      "            \"description\": \"\",\n",
      "            \"metadata\": {}\n",
      "        }\n",
      "    ]\n",
      "}\n"
     ]
    }
   ],
   "source": [
    "op1 = p.create_optical_property(name=\"Material.1\")\n",
    "op1.set_surface_mirror(reflectance=80)  # SOP : mirror\n",
    "op1.set_volume_opaque()  # VOP : opaque\n",
    "# This optical property will be applied to two bodies named : \"TheBodyB\" and \"TheBodyC\".\n",
    "op1.set_geometries(\n",
    "    geometries=[\n",
    "        GeoRef.from_native_link(geopath=\"TheBodyB\"),\n",
    "        GeoRef.from_native_link(geopath=\"TheBodyC\"),\n",
    "    ]\n",
    ")\n",
    "print(op1)"
   ]
  },
  {
   "cell_type": "markdown",
   "id": "4c7cef9a",
   "metadata": {},
   "source": [
    "## Push it to the server."
   ]
  },
  {
   "cell_type": "markdown",
   "id": "cf626b40",
   "metadata": {},
   "source": [
    "Now that it is committed to the server,\n",
    "the mention \"local: \" is no more present when printing the optical property."
   ]
  },
  {
   "cell_type": "code",
   "execution_count": 5,
   "id": "ad8ed2eb",
   "metadata": {
    "execution": {
     "iopub.execute_input": "2025-02-25T09:31:22.869584Z",
     "iopub.status.busy": "2025-02-25T09:31:22.869388Z",
     "iopub.status.idle": "2025-02-25T09:31:22.878694Z",
     "shell.execute_reply": "2025-02-25T09:31:22.877995Z"
    }
   },
   "outputs": [
    {
     "name": "stdout",
     "output_type": "stream",
     "text": [
      "{\n",
      "    \"name\": \"Material.1\",\n",
      "    \"metadata\": {\n",
      "        \"UniqueId\": \"467611e1-c47e-4bbb-925a-75b5c20eadc9\"\n",
      "    },\n",
      "    \"vop_guid\": \"18bff883-1bd1-402d-ae19-9ae7a2ff722d\",\n",
      "    \"sop_guids\": [\n",
      "        \"222c9a3d-d03d-4e2b-be07-b3b3e95fca51\"\n",
      "    ],\n",
      "    \"geometries\": {\n",
      "        \"geo_paths\": [\n",
      "            \"TheBodyB\",\n",
      "            \"TheBodyC\"\n",
      "        ]\n",
      "    },\n",
      "    \"description\": \"\",\n",
      "    \"vop\": {\n",
      "        \"name\": \"Material.1.VOP\",\n",
      "        \"opaque\": {},\n",
      "        \"description\": \"\",\n",
      "        \"metadata\": {}\n",
      "    },\n",
      "    \"sops\": [\n",
      "        {\n",
      "            \"name\": \"Material.1.SOP\",\n",
      "            \"mirror\": {\n",
      "                \"reflectance\": 80.0\n",
      "            },\n",
      "            \"description\": \"\",\n",
      "            \"metadata\": {}\n",
      "        }\n",
      "    ]\n",
      "}\n"
     ]
    }
   ],
   "source": [
    "op1.commit()\n",
    "print(op1)"
   ]
  },
  {
   "cell_type": "markdown",
   "id": "62d44c5d",
   "metadata": {},
   "source": [
    "## Another example."
   ]
  },
  {
   "cell_type": "markdown",
   "id": "7560c7cf",
   "metadata": {},
   "source": [
    "Setting several more characteristics."
   ]
  },
  {
   "cell_type": "code",
   "execution_count": 6,
   "id": "576de47d",
   "metadata": {
    "execution": {
     "iopub.execute_input": "2025-02-25T09:31:22.880924Z",
     "iopub.status.busy": "2025-02-25T09:31:22.880702Z",
     "iopub.status.idle": "2025-02-25T09:31:22.890917Z",
     "shell.execute_reply": "2025-02-25T09:31:22.890220Z"
    }
   },
   "outputs": [
    {
     "name": "stdout",
     "output_type": "stream",
     "text": [
      "{\n",
      "    \"name\": \"Material.2\",\n",
      "    \"metadata\": {\n",
      "        \"UniqueId\": \"d4cd1360-76b5-4e23-bc1a-a50758c04997\"\n",
      "    },\n",
      "    \"vop_guid\": \"fb265758-6b6d-4b62-9d97-df644643ef02\",\n",
      "    \"sop_guids\": [\n",
      "        \"1c082be0-33be-4ed1-a1cc-481eba535039\"\n",
      "    ],\n",
      "    \"geometries\": {\n",
      "        \"geo_paths\": [\n",
      "            \"TheBodyD\",\n",
      "            \"TheBodyE\"\n",
      "        ]\n",
      "    },\n",
      "    \"description\": \"\",\n",
      "    \"vop\": {\n",
      "        \"name\": \"Material.2.VOP\",\n",
      "        \"library\": {\n",
      "            \"material_file_uri\": \"/app/assets/AIR.material\"\n",
      "        },\n",
      "        \"description\": \"\",\n",
      "        \"metadata\": {}\n",
      "    },\n",
      "    \"sops\": [\n",
      "        {\n",
      "            \"name\": \"Material.2.SOP\",\n",
      "            \"optical_polished\": {},\n",
      "            \"description\": \"\",\n",
      "            \"metadata\": {}\n",
      "        }\n",
      "    ]\n",
      "}\n"
     ]
    }
   ],
   "source": [
    "op2 = p.create_optical_property(name=\"Material.2\")\n",
    "op2.set_surface_opticalpolished()  # SOP : optical polished\n",
    "op2.set_volume_library(\n",
    "    path=os.path.join(tests_data_path, \"AIR.material\")\n",
    ")  # VOP : selected library via a file .material\n",
    "# This optical property will be applied to two bodies named : \"TheBodyD\" and \"TheBodyE\".\n",
    "op2.set_geometries(\n",
    "    geometries=[\n",
    "        GeoRef.from_native_link(geopath=\"TheBodyD\"),\n",
    "        GeoRef.from_native_link(geopath=\"TheBodyE\"),\n",
    "    ]\n",
    ")\n",
    "op2.commit()\n",
    "print(op2)"
   ]
  },
  {
   "cell_type": "markdown",
   "id": "3a2c88d4",
   "metadata": {},
   "source": [
    "## Create FOP (face optical property)"
   ]
  },
  {
   "cell_type": "markdown",
   "id": "72a9c8ac",
   "metadata": {},
   "source": [
    "Sometimes it is needed to create property but only for surface."
   ]
  },
  {
   "cell_type": "markdown",
   "id": "cf6997c0",
   "metadata": {},
   "source": [
    "In this case, no call for set_volume_xxx function is needed, and we will select a face for the geometries."
   ]
  },
  {
   "cell_type": "code",
   "execution_count": 7,
   "id": "48fafc18",
   "metadata": {
    "execution": {
     "iopub.execute_input": "2025-02-25T09:31:22.893127Z",
     "iopub.status.busy": "2025-02-25T09:31:22.892922Z",
     "iopub.status.idle": "2025-02-25T09:31:22.900726Z",
     "shell.execute_reply": "2025-02-25T09:31:22.900070Z"
    }
   },
   "outputs": [
    {
     "name": "stdout",
     "output_type": "stream",
     "text": [
      "{\n",
      "    \"name\": \"Material.FOP\",\n",
      "    \"metadata\": {\n",
      "        \"UniqueId\": \"26cf822a-82a7-4201-98e3-aa2eccb48281\"\n",
      "    },\n",
      "    \"sop_guids\": [\n",
      "        \"85786b9e-547d-4850-86e5-b6f5cdc3c9b5\"\n",
      "    ],\n",
      "    \"geometries\": {\n",
      "        \"geo_paths\": [\n",
      "            \"TheBodyD/TheFaceF\"\n",
      "        ]\n",
      "    },\n",
      "    \"description\": \"\",\n",
      "    \"sops\": [\n",
      "        {\n",
      "            \"name\": \"Material.FOP.SOP\",\n",
      "            \"mirror\": {\n",
      "                \"reflectance\": 90.0\n",
      "            },\n",
      "            \"description\": \"\",\n",
      "            \"metadata\": {}\n",
      "        }\n",
      "    ]\n",
      "}\n"
     ]
    }
   ],
   "source": [
    "op3 = p.create_optical_property(name=\"Material.FOP\")\n",
    "op3.set_surface_mirror(reflectance=90)  # SOP : mirror\n",
    "# This optical property will be applied a face from TheBodyD named : \"TheFaceF\".\n",
    "op3.set_geometries(geometries=[GeoRef.from_native_link(geopath=\"TheBodyD/TheFaceF\")])\n",
    "op3.commit()\n",
    "print(op3)"
   ]
  },
  {
   "cell_type": "markdown",
   "id": "009a7268",
   "metadata": {},
   "source": [
    "## Default values"
   ]
  },
  {
   "cell_type": "markdown",
   "id": "18e863dd",
   "metadata": {},
   "source": [
    "Some default values are available when applicable in every methods and class."
   ]
  },
  {
   "cell_type": "code",
   "execution_count": 8,
   "id": "8ebb433c",
   "metadata": {
    "execution": {
     "iopub.execute_input": "2025-02-25T09:31:22.902863Z",
     "iopub.status.busy": "2025-02-25T09:31:22.902633Z",
     "iopub.status.idle": "2025-02-25T09:31:22.909703Z",
     "shell.execute_reply": "2025-02-25T09:31:22.909043Z"
    }
   },
   "outputs": [
    {
     "name": "stdout",
     "output_type": "stream",
     "text": [
      "{\n",
      "    \"name\": \"Material.3\",\n",
      "    \"metadata\": {\n",
      "        \"UniqueId\": \"0cf1afed-6d58-4b6b-ba19-08a49aa33ca1\"\n",
      "    },\n",
      "    \"sop_guids\": [\n",
      "        \"96e0d06b-5380-4239-823b-337fb1f51db2\"\n",
      "    ],\n",
      "    \"description\": \"\",\n",
      "    \"sops\": [\n",
      "        {\n",
      "            \"name\": \"Material.3.SOP\",\n",
      "            \"mirror\": {\n",
      "                \"reflectance\": 100.0\n",
      "            },\n",
      "            \"description\": \"\",\n",
      "            \"metadata\": {}\n",
      "        }\n",
      "    ]\n",
      "}\n"
     ]
    }
   ],
   "source": [
    "op4 = p.create_optical_property(name=\"Material.3\").commit()\n",
    "print(op4)"
   ]
  },
  {
   "cell_type": "markdown",
   "id": "b5b2c1dc",
   "metadata": {},
   "source": [
    "## Read\n",
    "### Material Instance Information"
   ]
  },
  {
   "cell_type": "markdown",
   "id": "0ff81ed4",
   "metadata": {},
   "source": [
    "A mention \"local: \" is added if it is not yet committed to the server."
   ]
  },
  {
   "cell_type": "code",
   "execution_count": 9,
   "id": "bfed0139",
   "metadata": {
    "execution": {
     "iopub.execute_input": "2025-02-25T09:31:22.911872Z",
     "iopub.status.busy": "2025-02-25T09:31:22.911633Z",
     "iopub.status.idle": "2025-02-25T09:31:22.918748Z",
     "shell.execute_reply": "2025-02-25T09:31:22.918082Z"
    }
   },
   "outputs": [
    {
     "name": "stdout",
     "output_type": "stream",
     "text": [
      "{\n",
      "    \"name\": \"Material.1\",\n",
      "    \"metadata\": {\n",
      "        \"UniqueId\": \"467611e1-c47e-4bbb-925a-75b5c20eadc9\"\n",
      "    },\n",
      "    \"vop_guid\": \"18bff883-1bd1-402d-ae19-9ae7a2ff722d\",\n",
      "    \"sop_guids\": [\n",
      "        \"222c9a3d-d03d-4e2b-be07-b3b3e95fca51\"\n",
      "    ],\n",
      "    \"geometries\": {\n",
      "        \"geo_paths\": [\n",
      "            \"TheBodyB\",\n",
      "            \"TheBodyC\"\n",
      "        ]\n",
      "    },\n",
      "    \"description\": \"\",\n",
      "    \"vop\": {\n",
      "        \"name\": \"Material.1.VOP\",\n",
      "        \"opaque\": {},\n",
      "        \"description\": \"\",\n",
      "        \"metadata\": {}\n",
      "    },\n",
      "    \"sops\": [\n",
      "        {\n",
      "            \"name\": \"Material.1.SOP\",\n",
      "            \"mirror\": {\n",
      "                \"reflectance\": 80.0\n",
      "            },\n",
      "            \"description\": \"\",\n",
      "            \"metadata\": {}\n",
      "        }\n",
      "    ]\n",
      "}\n"
     ]
    }
   ],
   "source": [
    "print(op1)"
   ]
  },
  {
   "cell_type": "markdown",
   "id": "b1e85d78",
   "metadata": {},
   "source": [
    "The get methods allows you to get some properties of your feature"
   ]
  },
  {
   "cell_type": "code",
   "execution_count": 10,
   "id": "d5ab460e",
   "metadata": {
    "execution": {
     "iopub.execute_input": "2025-02-25T09:31:22.920885Z",
     "iopub.status.busy": "2025-02-25T09:31:22.920652Z",
     "iopub.status.idle": "2025-02-25T09:31:22.956517Z",
     "shell.execute_reply": "2025-02-25T09:31:22.955763Z"
    }
   },
   "outputs": [
    {
     "name": "stdout",
     "output_type": "stream",
     "text": [
      "op1 name: Material.1\n",
      "geometries linked to op1: ['TheBodyB', 'TheBodyC']\n",
      "op1 surface optical properties info: [{'name': 'Material.1.SOP', 'mirror': {'reflectance': 80.0}, 'description': '', 'metadata': {}}]\n",
      "op1 volume optical property info: {'name': 'Material.1.VOP', 'opaque': {}, 'description': '', 'metadata': {}}\n",
      "op1 is opaque type volume optical property\n",
      "{\n",
      "    \"name\": \"Material.2\",\n",
      "    \"metadata\": {\n",
      "        \"UniqueId\": \"d4cd1360-76b5-4e23-bc1a-a50758c04997\"\n",
      "    },\n",
      "    \"vop_guid\": \"fb265758-6b6d-4b62-9d97-df644643ef02\",\n",
      "    \"sop_guids\": [\n",
      "        \"1c082be0-33be-4ed1-a1cc-481eba535039\"\n",
      "    ],\n",
      "    \"geometries\": {\n",
      "        \"geo_paths\": [\n",
      "            \"TheBodyD\",\n",
      "            \"TheBodyE\"\n",
      "        ]\n",
      "    },\n",
      "    \"description\": \"\",\n",
      "    \"vop\": {\n",
      "        \"name\": \"Material.2.VOP\",\n",
      "        \"library\": {\n",
      "            \"material_file_uri\": \"/app/assets/AIR.material\"\n",
      "        },\n",
      "        \"description\": \"\",\n",
      "        \"metadata\": {}\n",
      "    },\n",
      "    \"sops\": [\n",
      "        {\n",
      "            \"name\": \"Material.2.SOP\",\n",
      "            \"optical_polished\": {},\n",
      "            \"description\": \"\",\n",
      "            \"metadata\": {}\n",
      "        }\n",
      "    ]\n",
      "}\n",
      "op2 name: Material.2\n",
      "op2 is optical polished type surface property\n",
      "op2 is library type volume optical property\n",
      "{\n",
      "    \"name\": \"Material.FOP\",\n",
      "    \"metadata\": {\n",
      "        \"UniqueId\": \"26cf822a-82a7-4201-98e3-aa2eccb48281\"\n",
      "    },\n",
      "    \"sop_guids\": [\n",
      "        \"85786b9e-547d-4850-86e5-b6f5cdc3c9b5\"\n",
      "    ],\n",
      "    \"geometries\": {\n",
      "        \"geo_paths\": [\n",
      "            \"TheBodyD/TheFaceF\"\n",
      "        ]\n",
      "    },\n",
      "    \"description\": \"\",\n",
      "    \"sops\": [\n",
      "        {\n",
      "            \"name\": \"Material.FOP.SOP\",\n",
      "            \"mirror\": {\n",
      "                \"reflectance\": 90.0\n",
      "            },\n",
      "            \"description\": \"\",\n",
      "            \"metadata\": {}\n",
      "        }\n",
      "    ]\n",
      "}\n",
      "op3 name: Material.FOP\n",
      "op3 has reflectance value of 90.0\n"
     ]
    }
   ],
   "source": [
    "print(\"op1 name: {}\".format(op1.get(key=\"name\")))\n",
    "print(\"geometries linked to op1: {}\".format(op1.get(key=\"geo_paths\")))\n",
    "print(\"op1 surface optical properties info: {}\".format(op1.get(key=\"sops\")))\n",
    "print(\"op1 volume optical property info: {}\".format(op1.get(key=\"vop\")))\n",
    "# user can use get with vop type as key word to check volume property type\n",
    "print(\n",
    "    \"op1 {} opaque type volume optical property\".format(\n",
    "        \"is\" if op1.get(key=\"opaque\") is not None else \"is not\"\n",
    "    )\n",
    ")\n",
    "\n",
    "print(op2)\n",
    "print(\"op2 name: {}\".format(op2.get(key=\"name\")))\n",
    "print(\n",
    "    \"op2 {} optical polished type surface property\".format(\n",
    "        (\"is\" if \"optical_polished\" in op2.get(key=\"sops\")[0] else \"is not\")\n",
    "    )\n",
    ")\n",
    "# an alternative way to check the type of optical property\n",
    "print(\n",
    "    \"op2 {} library type volume optical property\".format(\n",
    "        \"is\" if \"library\" in op2.get(key=\"vop\") is not None else \"is not\"\n",
    "    )\n",
    ")\n",
    "\n",
    "print(op3)\n",
    "print(\"op3 name: {}\".format(op3.get(key=\"name\")))\n",
    "print(\"op3 has reflectance value of {}\".format(op3.get(key=\"sops\")[0][\"mirror\"][\"reflectance\"]))"
   ]
  },
  {
   "cell_type": "markdown",
   "id": "49a5c48b",
   "metadata": {},
   "source": [
    "### Project Information\n",
    "Committed feature information will appear inside a project information."
   ]
  },
  {
   "cell_type": "code",
   "execution_count": 11,
   "id": "5ce83696",
   "metadata": {
    "execution": {
     "iopub.execute_input": "2025-02-25T09:31:22.958989Z",
     "iopub.status.busy": "2025-02-25T09:31:22.958741Z",
     "iopub.status.idle": "2025-02-25T09:31:22.969388Z",
     "shell.execute_reply": "2025-02-25T09:31:22.968640Z"
    }
   },
   "outputs": [
    {
     "name": "stdout",
     "output_type": "stream",
     "text": [
      "{\n",
      "    \"materials\": [\n",
      "        {\n",
      "            \"name\": \"Material.1\",\n",
      "            \"metadata\": {\n",
      "                \"UniqueId\": \"467611e1-c47e-4bbb-925a-75b5c20eadc9\"\n",
      "            },\n",
      "            \"vop_guid\": \"18bff883-1bd1-402d-ae19-9ae7a2ff722d\",\n",
      "            \"sop_guids\": [\n",
      "                \"222c9a3d-d03d-4e2b-be07-b3b3e95fca51\"\n",
      "            ],\n",
      "            \"geometries\": {\n",
      "                \"geo_paths\": [\n",
      "                    \"TheBodyB\",\n",
      "                    \"TheBodyC\"\n",
      "                ]\n",
      "            },\n",
      "            \"description\": \"\",\n",
      "            \"vop\": {\n",
      "                \"name\": \"Material.1.VOP\",\n",
      "                \"opaque\": {},\n",
      "                \"description\": \"\",\n",
      "                \"metadata\": {}\n",
      "            },\n",
      "            \"sops\": [\n",
      "                {\n",
      "                    \"name\": \"Material.1.SOP\",\n",
      "                    \"mirror\": {\n",
      "                        \"reflectance\": 80.0\n",
      "                    },\n",
      "                    \"description\": \"\",\n",
      "                    \"metadata\": {}\n",
      "                }\n",
      "            ]\n",
      "        },\n",
      "        {\n",
      "            \"name\": \"Material.2\",\n",
      "            \"metadata\": {\n",
      "                \"UniqueId\": \"d4cd1360-76b5-4e23-bc1a-a50758c04997\"\n",
      "            },\n",
      "            \"vop_guid\": \"fb265758-6b6d-4b62-9d97-df644643ef02\",\n",
      "            \"sop_guids\": [\n",
      "                \"1c082be0-33be-4ed1-a1cc-481eba535039\"\n",
      "            ],\n",
      "            \"geometries\": {\n",
      "                \"geo_paths\": [\n",
      "                    \"TheBodyD\",\n",
      "                    \"TheBodyE\"\n",
      "                ]\n",
      "            },\n",
      "            \"description\": \"\",\n",
      "            \"vop\": {\n",
      "                \"name\": \"Material.2.VOP\",\n",
      "                \"library\": {\n",
      "                    \"material_file_uri\": \"/app/assets/AIR.material\"\n",
      "                },\n",
      "                \"description\": \"\",\n",
      "                \"metadata\": {}\n",
      "            },\n",
      "            \"sops\": [\n",
      "                {\n",
      "                    \"name\": \"Material.2.SOP\",\n",
      "                    \"optical_polished\": {},\n",
      "                    \"description\": \"\",\n",
      "                    \"metadata\": {}\n",
      "                }\n",
      "            ]\n",
      "        },\n",
      "        {\n",
      "            \"name\": \"Material.FOP\",\n",
      "            \"metadata\": {\n",
      "                \"UniqueId\": \"26cf822a-82a7-4201-98e3-aa2eccb48281\"\n",
      "            },\n",
      "            \"sop_guids\": [\n",
      "                \"85786b9e-547d-4850-86e5-b6f5cdc3c9b5\"\n",
      "            ],\n",
      "            \"geometries\": {\n",
      "                \"geo_paths\": [\n",
      "                    \"TheBodyD/TheFaceF\"\n",
      "                ]\n",
      "            },\n",
      "            \"description\": \"\",\n",
      "            \"sops\": [\n",
      "                {\n",
      "                    \"name\": \"Material.FOP.SOP\",\n",
      "                    \"mirror\": {\n",
      "                        \"reflectance\": 90.0\n",
      "                    },\n",
      "                    \"description\": \"\",\n",
      "                    \"metadata\": {}\n",
      "                }\n",
      "            ]\n",
      "        },\n",
      "        {\n",
      "            \"name\": \"Material.3\",\n",
      "            \"metadata\": {\n",
      "                \"UniqueId\": \"0cf1afed-6d58-4b6b-ba19-08a49aa33ca1\"\n",
      "            },\n",
      "            \"sop_guids\": [\n",
      "                \"96e0d06b-5380-4239-823b-337fb1f51db2\"\n",
      "            ],\n",
      "            \"description\": \"\",\n",
      "            \"sops\": [\n",
      "                {\n",
      "                    \"name\": \"Material.3.SOP\",\n",
      "                    \"mirror\": {\n",
      "                        \"reflectance\": 100.0\n",
      "                    },\n",
      "                    \"description\": \"\",\n",
      "                    \"metadata\": {}\n",
      "                }\n",
      "            ]\n",
      "        }\n",
      "    ],\n",
      "    \"name\": \"\",\n",
      "    \"description\": \"\",\n",
      "    \"metadata\": {},\n",
      "    \"part_guid\": \"\",\n",
      "    \"sources\": [],\n",
      "    \"sensors\": [],\n",
      "    \"simulations\": [],\n",
      "    \"scenes\": []\n",
      "}\n"
     ]
    }
   ],
   "source": [
    "print(p)"
   ]
  },
  {
   "cell_type": "markdown",
   "id": "48ab6e4c",
   "metadata": {},
   "source": [
    "## Update"
   ]
  },
  {
   "cell_type": "markdown",
   "id": "0a62d0de",
   "metadata": {},
   "source": [
    "Tipp: if you are manipulating an optical property already committed, don't forget to commit your changes."
   ]
  },
  {
   "cell_type": "markdown",
   "id": "30559b58",
   "metadata": {},
   "source": [
    "If you don't, you will still only watch what is committed on the server."
   ]
  },
  {
   "cell_type": "code",
   "execution_count": 12,
   "id": "5f1574e2",
   "metadata": {
    "execution": {
     "iopub.execute_input": "2025-02-25T09:31:22.971600Z",
     "iopub.status.busy": "2025-02-25T09:31:22.971411Z",
     "iopub.status.idle": "2025-02-25T09:31:22.987034Z",
     "shell.execute_reply": "2025-02-25T09:31:22.986244Z"
    }
   },
   "outputs": [
    {
     "name": "stdout",
     "output_type": "stream",
     "text": [
      "op1 surface type before update: {'name': 'Material.1.SOP', 'mirror': {'reflectance': 80.0}, 'description': '', 'metadata': {}}\n",
      "{\n",
      "    \"name\": \"Material.1\",\n",
      "    \"metadata\": {\n",
      "        \"UniqueId\": \"467611e1-c47e-4bbb-925a-75b5c20eadc9\"\n",
      "    },\n",
      "    \"vop_guid\": \"18bff883-1bd1-402d-ae19-9ae7a2ff722d\",\n",
      "    \"sop_guids\": [\n",
      "        \"222c9a3d-d03d-4e2b-be07-b3b3e95fca51\"\n",
      "    ],\n",
      "    \"geometries\": {\n",
      "        \"geo_paths\": [\n",
      "            \"TheBodyB\",\n",
      "            \"TheBodyC\"\n",
      "        ]\n",
      "    },\n",
      "    \"description\": \"\",\n",
      "    \"vop\": {\n",
      "        \"name\": \"Material.1.VOP\",\n",
      "        \"optic\": {\n",
      "            \"index\": 1.5,\n",
      "            \"absorption\": 0.0\n",
      "        },\n",
      "        \"description\": \"\",\n",
      "        \"metadata\": {}\n",
      "    },\n",
      "    \"sops\": [\n",
      "        {\n",
      "            \"name\": \"Material.1.SOP\",\n",
      "            \"optical_polished\": {},\n",
      "            \"description\": \"\",\n",
      "            \"metadata\": {}\n",
      "        }\n",
      "    ]\n",
      "}\n",
      "op1 surface type after update: {'name': 'Material.1.SOP', 'optical_polished': {}, 'description': '', 'metadata': {}}\n"
     ]
    }
   ],
   "source": [
    "print(\"op1 surface type before update: {}\".format(op1.get(key=\"sops\")[0]))\n",
    "op1.set_volume_optic().set_surface_opticalpolished().commit()\n",
    "print(op1)\n",
    "print(\"op1 surface type after update: {}\".format(op1.get(key=\"sops\")[0]))"
   ]
  },
  {
   "cell_type": "markdown",
   "id": "2a916d33",
   "metadata": {},
   "source": [
    "## Reset"
   ]
  },
  {
   "cell_type": "markdown",
   "id": "29d6e946",
   "metadata": {},
   "source": [
    "Possibility to reset local values from the one available in the server."
   ]
  },
  {
   "cell_type": "code",
   "execution_count": 13,
   "id": "42dba4db",
   "metadata": {
    "execution": {
     "iopub.execute_input": "2025-02-25T09:31:22.989297Z",
     "iopub.status.busy": "2025-02-25T09:31:22.989079Z",
     "iopub.status.idle": "2025-02-25T09:31:22.996625Z",
     "shell.execute_reply": "2025-02-25T09:31:22.995937Z"
    }
   },
   "outputs": [
    {
     "name": "stdout",
     "output_type": "stream",
     "text": [
      "local: {\n",
      "    \"name\": \"Material.1\",\n",
      "    \"vop_guid\": \"\",\n",
      "    \"geometries\": {\n",
      "        \"geo_paths\": [\n",
      "            \"TheBodyB\",\n",
      "            \"TheBodyC\"\n",
      "        ]\n",
      "    },\n",
      "    \"description\": \"\",\n",
      "    \"metadata\": {},\n",
      "    \"sop_guids\": [],\n",
      "    \"vop\": {\n",
      "        \"name\": \"Material.1.VOP\",\n",
      "        \"optic\": {\n",
      "            \"index\": 1.5,\n",
      "            \"absorption\": 0.0\n",
      "        },\n",
      "        \"description\": \"\",\n",
      "        \"metadata\": {}\n",
      "    },\n",
      "    \"sops\": [\n",
      "        {\n",
      "            \"name\": \"Material.1.SOP\",\n",
      "            \"optical_polished\": {},\n",
      "            \"description\": \"\",\n",
      "            \"metadata\": {}\n",
      "        }\n",
      "    ]\n",
      "}\n"
     ]
    }
   ],
   "source": [
    "op1.set_surface_mirror()  # set surface as a mirror but no commit\n",
    "op1.reset()  # reset -> this will apply the server value to the local value\n",
    "op1.delete()  # delete (to display the local value with the below print)\n",
    "print(op1)"
   ]
  },
  {
   "cell_type": "markdown",
   "id": "48b00e57",
   "metadata": {},
   "source": [
    "## Delete"
   ]
  },
  {
   "cell_type": "markdown",
   "id": "c9fe7b11",
   "metadata": {},
   "source": [
    "Once the data is deleted from the server, you can still work with local data and maybe commit later."
   ]
  },
  {
   "cell_type": "code",
   "execution_count": 14,
   "id": "094f46d2",
   "metadata": {
    "execution": {
     "iopub.execute_input": "2025-02-25T09:31:22.998984Z",
     "iopub.status.busy": "2025-02-25T09:31:22.998737Z",
     "iopub.status.idle": "2025-02-25T09:31:23.004698Z",
     "shell.execute_reply": "2025-02-25T09:31:23.004001Z"
    }
   },
   "outputs": [
    {
     "name": "stdout",
     "output_type": "stream",
     "text": [
      "local: {\n",
      "    \"name\": \"Material.2\",\n",
      "    \"vop_guid\": \"\",\n",
      "    \"geometries\": {\n",
      "        \"geo_paths\": [\n",
      "            \"TheBodyD\",\n",
      "            \"TheBodyE\"\n",
      "        ]\n",
      "    },\n",
      "    \"description\": \"\",\n",
      "    \"metadata\": {},\n",
      "    \"sop_guids\": [],\n",
      "    \"vop\": {\n",
      "        \"name\": \"Material.2.VOP\",\n",
      "        \"library\": {\n",
      "            \"material_file_uri\": \"/app/assets/AIR.material\"\n",
      "        },\n",
      "        \"description\": \"\",\n",
      "        \"metadata\": {}\n",
      "    },\n",
      "    \"sops\": [\n",
      "        {\n",
      "            \"name\": \"Material.2.SOP\",\n",
      "            \"optical_polished\": {},\n",
      "            \"description\": \"\",\n",
      "            \"metadata\": {}\n",
      "        }\n",
      "    ]\n",
      "}\n"
     ]
    }
   ],
   "source": [
    "op2.delete()\n",
    "print(op2)"
   ]
  },
  {
   "cell_type": "code",
   "execution_count": 15,
   "id": "c2c97869",
   "metadata": {
    "execution": {
     "iopub.execute_input": "2025-02-25T09:31:23.006914Z",
     "iopub.status.busy": "2025-02-25T09:31:23.006687Z",
     "iopub.status.idle": "2025-02-25T09:31:23.016016Z",
     "shell.execute_reply": "2025-02-25T09:31:23.015532Z"
    }
   },
   "outputs": [
    {
     "data": {
      "text/plain": [
       "<ansys.speos.core.opt_prop.OptProp at 0x7f160f14b700>"
      ]
     },
     "execution_count": 15,
     "metadata": {},
     "output_type": "execute_result"
    }
   ],
   "source": [
    "op1.delete()\n",
    "op3.delete()\n",
    "op4.delete()"
   ]
  }
 ],
 "metadata": {
  "jupytext": {
   "cell_metadata_filter": "-all",
   "main_language": "python",
   "notebook_metadata_filter": "-all",
   "text_representation": {
    "extension": ".py",
    "format_name": "light"
   }
  },
  "language_info": {
   "codemirror_mode": {
    "name": "ipython",
    "version": 3
   },
   "file_extension": ".py",
   "mimetype": "text/x-python",
   "name": "python",
   "nbconvert_exporter": "python",
   "pygments_lexer": "ipython3",
   "version": "3.10.16"
  }
 },
 "nbformat": 4,
 "nbformat_minor": 5
}
