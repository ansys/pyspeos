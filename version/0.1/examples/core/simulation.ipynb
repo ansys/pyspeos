{
 "cells": [
  {
   "cell_type": "markdown",
   "id": "3bfa9ce7",
   "metadata": {},
   "source": [
    "# How to create a simulation"
   ]
  },
  {
   "cell_type": "markdown",
   "id": "3059bb68",
   "metadata": {},
   "source": [
    "This tutorial demonstrates how to create a simulation."
   ]
  },
  {
   "cell_type": "markdown",
   "id": "1e87a014",
   "metadata": {},
   "source": [
    "## What is a simulation?"
   ]
  },
  {
   "cell_type": "markdown",
   "id": "bf8a32e5",
   "metadata": {},
   "source": [
    "A simulation contains selected sensors, sources to model ray-trace in space."
   ]
  },
  {
   "cell_type": "code",
   "execution_count": 1,
   "id": "05f222f4",
   "metadata": {
    "execution": {
     "iopub.execute_input": "2025-02-25T09:34:17.721369Z",
     "iopub.status.busy": "2025-02-25T09:34:17.721074Z",
     "iopub.status.idle": "2025-02-25T09:34:18.460979Z",
     "shell.execute_reply": "2025-02-25T09:34:18.460187Z"
    }
   },
   "outputs": [],
   "source": [
    "import os\n",
    "\n",
    "from ansys.speos.core import GeoRef, Project, Speos\n",
    "from ansys.speos.core.simulation import SimulationInteractive, SimulationInverse\n",
    "\n",
    "# If using docker container\n",
    "tests_data_path = os.path.join(\"/app\", \"assets\")\n",
    "# If using local server\n",
    "# tests_data_path = os.path.join(os.path.abspath(\"\"), os.path.pardir, os.path.pardir, \"tests\", \"assets\")"
   ]
  },
  {
   "cell_type": "markdown",
   "id": "7dc08f2a",
   "metadata": {},
   "source": [
    "## Create connection with speos rpc server"
   ]
  },
  {
   "cell_type": "code",
   "execution_count": 2,
   "id": "2145bb41",
   "metadata": {
    "execution": {
     "iopub.execute_input": "2025-02-25T09:34:18.463691Z",
     "iopub.status.busy": "2025-02-25T09:34:18.463380Z",
     "iopub.status.idle": "2025-02-25T09:34:18.474409Z",
     "shell.execute_reply": "2025-02-25T09:34:18.473589Z"
    }
   },
   "outputs": [],
   "source": [
    "speos = Speos(host=\"localhost\", port=50098)"
   ]
  },
  {
   "cell_type": "markdown",
   "id": "c265cc8d",
   "metadata": {},
   "source": [
    "## Create Project"
   ]
  },
  {
   "cell_type": "markdown",
   "id": "1b1e0ac5",
   "metadata": {},
   "source": [
    "Create a new project first."
   ]
  },
  {
   "cell_type": "markdown",
   "id": "290cc84d",
   "metadata": {},
   "source": [
    "The only way to create a simulation is to create it from a project."
   ]
  },
  {
   "cell_type": "code",
   "execution_count": 3,
   "id": "42024d72",
   "metadata": {
    "execution": {
     "iopub.execute_input": "2025-02-25T09:34:18.477157Z",
     "iopub.status.busy": "2025-02-25T09:34:18.476914Z",
     "iopub.status.idle": "2025-02-25T09:34:18.484888Z",
     "shell.execute_reply": "2025-02-25T09:34:18.484082Z"
    }
   },
   "outputs": [
    {
     "name": "stdout",
     "output_type": "stream",
     "text": [
      "{\n",
      "    \"name\": \"\",\n",
      "    \"description\": \"\",\n",
      "    \"metadata\": {},\n",
      "    \"part_guid\": \"\",\n",
      "    \"sources\": [],\n",
      "    \"sensors\": [],\n",
      "    \"simulations\": [],\n",
      "    \"materials\": [],\n",
      "    \"scenes\": []\n",
      "}\n"
     ]
    }
   ],
   "source": [
    "p = Project(speos=speos)\n",
    "print(p)"
   ]
  },
  {
   "cell_type": "markdown",
   "id": "e8101157",
   "metadata": {},
   "source": [
    "## Prepare prerequisites"
   ]
  },
  {
   "cell_type": "markdown",
   "id": "f1f77753",
   "metadata": {},
   "source": [
    "Create the necessary elements for a simulation: Sensor, source, root part, optical property are prerequisites."
   ]
  },
  {
   "cell_type": "markdown",
   "id": "c17ae412",
   "metadata": {},
   "source": [
    "### Prepare the root part"
   ]
  },
  {
   "cell_type": "code",
   "execution_count": 4,
   "id": "6fdf683d",
   "metadata": {
    "execution": {
     "iopub.execute_input": "2025-02-25T09:34:18.487470Z",
     "iopub.status.busy": "2025-02-25T09:34:18.487204Z",
     "iopub.status.idle": "2025-02-25T09:34:18.501596Z",
     "shell.execute_reply": "2025-02-25T09:34:18.500683Z"
    }
   },
   "outputs": [
    {
     "data": {
      "text/plain": [
       "<ansys.speos.core.part.Part at 0x7f8669d47880>"
      ]
     },
     "execution_count": 4,
     "metadata": {},
     "output_type": "execute_result"
    }
   ],
   "source": [
    "root_part = p.create_root_part()\n",
    "root_part.create_body(name=\"Body.1\").create_face(name=\"Face.1\").set_vertices(\n",
    "    [0, 1, 2, 0, 2, 2, 1, 2, 2]\n",
    ").set_facets([0, 1, 2]).set_normals([0, 0, 1, 0, 0, 1, 0, 0, 1])\n",
    "root_part.commit()"
   ]
  },
  {
   "cell_type": "markdown",
   "id": "7f95f380",
   "metadata": {},
   "source": [
    "### Prepare an optical property"
   ]
  },
  {
   "cell_type": "code",
   "execution_count": 5,
   "id": "3e97fc8c",
   "metadata": {
    "execution": {
     "iopub.execute_input": "2025-02-25T09:34:18.504603Z",
     "iopub.status.busy": "2025-02-25T09:34:18.504320Z",
     "iopub.status.idle": "2025-02-25T09:34:18.512877Z",
     "shell.execute_reply": "2025-02-25T09:34:18.511970Z"
    }
   },
   "outputs": [
    {
     "data": {
      "text/plain": [
       "<ansys.speos.core.opt_prop.OptProp at 0x7f8669d472b0>"
      ]
     },
     "execution_count": 5,
     "metadata": {},
     "output_type": "execute_result"
    }
   ],
   "source": [
    "opt_prop = p.create_optical_property(\"Material.1\")\n",
    "opt_prop.set_volume_opaque().set_surface_mirror()  # vop as opaque and sop as mirror\n",
    "# Choose the geometry for this optical property : Body.1\n",
    "opt_prop.set_geometries(geometries=[GeoRef.from_native_link(geopath=\"Body.1\")])\n",
    "opt_prop.commit()"
   ]
  },
  {
   "cell_type": "markdown",
   "id": "8db4692d",
   "metadata": {},
   "source": [
    "### Prepare an irradiance sensor"
   ]
  },
  {
   "cell_type": "code",
   "execution_count": 6,
   "id": "323f8df0",
   "metadata": {
    "execution": {
     "iopub.execute_input": "2025-02-25T09:34:18.515517Z",
     "iopub.status.busy": "2025-02-25T09:34:18.515250Z",
     "iopub.status.idle": "2025-02-25T09:34:18.522679Z",
     "shell.execute_reply": "2025-02-25T09:34:18.522161Z"
    }
   },
   "outputs": [
    {
     "data": {
      "text/plain": [
       "<ansys.speos.core.sensor.SensorIrradiance at 0x7f8669d47a90>"
      ]
     },
     "execution_count": 6,
     "metadata": {},
     "output_type": "execute_result"
    }
   ],
   "source": [
    "sensor1 = p.create_sensor(name=\"Irradiance.1\")\n",
    "sensor1.set_type_colorimetric()  # colorimetric or spectral so that the sensor can be used both in direct and inverse simulation\n",
    "sensor1.commit()"
   ]
  },
  {
   "cell_type": "markdown",
   "id": "26ef8c81",
   "metadata": {},
   "source": [
    "### Prepare a surface source"
   ]
  },
  {
   "cell_type": "code",
   "execution_count": 7,
   "id": "f015c10a",
   "metadata": {
    "execution": {
     "iopub.execute_input": "2025-02-25T09:34:18.525251Z",
     "iopub.status.busy": "2025-02-25T09:34:18.524986Z",
     "iopub.status.idle": "2025-02-25T09:34:18.537453Z",
     "shell.execute_reply": "2025-02-25T09:34:18.536554Z"
    }
   },
   "outputs": [
    {
     "data": {
      "text/plain": [
       "<ansys.speos.core.source.SourceSurface at 0x7f8669d47e50>"
      ]
     },
     "execution_count": 7,
     "metadata": {},
     "output_type": "execute_result"
    }
   ],
   "source": [
    "source1 = p.create_source(name=\"Surface.1\")\n",
    "source1.set_exitance_constant(geometries=[(GeoRef.from_native_link(geopath=\"Body.1/Face.1\"), True)])\n",
    "source1.set_spectrum().set_blackbody()  # blackbody so that the source can be used both in direct and inverse simulation\n",
    "source1.commit()"
   ]
  },
  {
   "cell_type": "markdown",
   "id": "423170fc",
   "metadata": {},
   "source": [
    "## Create a simulation"
   ]
  },
  {
   "cell_type": "code",
   "execution_count": 8,
   "id": "5de0b66a",
   "metadata": {
    "execution": {
     "iopub.execute_input": "2025-02-25T09:34:18.540190Z",
     "iopub.status.busy": "2025-02-25T09:34:18.539897Z",
     "iopub.status.idle": "2025-02-25T09:34:18.566959Z",
     "shell.execute_reply": "2025-02-25T09:34:18.566011Z"
    }
   },
   "outputs": [
    {
     "name": "stdout",
     "output_type": "stream",
     "text": [
      "local: {\n",
      "    \"name\": \"Simulation.1\",\n",
      "    \"sensor_paths\": [\n",
      "        \"Irradiance.1\"\n",
      "    ],\n",
      "    \"source_paths\": [\n",
      "        \"Surface.1\"\n",
      "    ],\n",
      "    \"description\": \"\",\n",
      "    \"metadata\": {},\n",
      "    \"simulation_guid\": \"\",\n",
      "    \"simulation\": {\n",
      "        \"direct_mc_simulation_template\": {\n",
      "            \"geom_distance_tolerance\": 0.01,\n",
      "            \"max_impact\": 100,\n",
      "            \"weight\": {\n",
      "                \"minimum_energy_percentage\": 0.005\n",
      "            },\n",
      "            \"dispersion\": true,\n",
      "            \"colorimetric_standard\": \"CIE_1931\",\n",
      "            \"fast_transmission_gathering\": false,\n",
      "            \"ambient_material_uri\": \"\",\n",
      "            \"stop_condition_rays_number\": \"200000\",\n",
      "            \"automatic_save_frequency\": 1800\n",
      "        },\n",
      "        \"name\": \"Simulation.1\",\n",
      "        \"description\": \"\",\n",
      "        \"metadata\": {},\n",
      "        \"scene_guid\": \"12d7d8db-6a86-467d-894d-e170af82f952\",\n",
      "        \"simulation_path\": \"Simulation.1\",\n",
      "        \"job_type\": \"CPU\"\n",
      "    }\n",
      "}\n",
      "{\n",
      "    \"name\": \"Simulation.1\",\n",
      "    \"metadata\": {\n",
      "        \"UniqueId\": \"f4c03ad6-db2a-45c3-bb02-1600afa670f9\"\n",
      "    },\n",
      "    \"simulation_guid\": \"26d25652-0319-4834-9f7e-34b200b975e1\",\n",
      "    \"sensor_paths\": [\n",
      "        \"Irradiance.1\"\n",
      "    ],\n",
      "    \"source_paths\": [\n",
      "        \"Surface.1\"\n",
      "    ],\n",
      "    \"description\": \"\",\n",
      "    \"simulation\": {\n",
      "        \"direct_mc_simulation_template\": {\n",
      "            \"geom_distance_tolerance\": 0.01,\n",
      "            \"max_impact\": 100,\n",
      "            \"weight\": {\n",
      "                \"minimum_energy_percentage\": 0.005\n",
      "            },\n",
      "            \"dispersion\": true,\n",
      "            \"colorimetric_standard\": \"CIE_1931\",\n",
      "            \"fast_transmission_gathering\": false,\n",
      "            \"ambient_material_uri\": \"\",\n",
      "            \"stop_condition_rays_number\": \"200000\",\n",
      "            \"automatic_save_frequency\": 1800\n",
      "        },\n",
      "        \"name\": \"Simulation.1\",\n",
      "        \"description\": \"\",\n",
      "        \"metadata\": {},\n",
      "        \"scene_guid\": \"12d7d8db-6a86-467d-894d-e170af82f952\",\n",
      "        \"simulation_path\": \"Simulation.1\",\n",
      "        \"job_type\": \"CPU\"\n",
      "    }\n",
      "}\n"
     ]
    }
   ],
   "source": [
    "simulation1 = p.create_simulation(name=\"Simulation.1\")\n",
    "simulation1.set_sensor_paths([\"Irradiance.1\"]).set_source_paths([\"Surface.1\"])\n",
    "print(simulation1)\n",
    "\n",
    "simulation1.commit()\n",
    "print(simulation1)"
   ]
  },
  {
   "cell_type": "markdown",
   "id": "6109d2a3",
   "metadata": {},
   "source": [
    "## Set simulation characteristics"
   ]
  },
  {
   "cell_type": "markdown",
   "id": "edbda295",
   "metadata": {},
   "source": [
    "Simulation is defined with the same default values as the GUI speos."
   ]
  },
  {
   "cell_type": "markdown",
   "id": "6d44d5ff",
   "metadata": {},
   "source": [
    "If the user would like to modify the simulation characteristics,\n",
    "it is possible to do so by setting the simulation characteristics as below."
   ]
  },
  {
   "cell_type": "code",
   "execution_count": 9,
   "id": "34957ee9",
   "metadata": {
    "execution": {
     "iopub.execute_input": "2025-02-25T09:34:18.569818Z",
     "iopub.status.busy": "2025-02-25T09:34:18.569537Z",
     "iopub.status.idle": "2025-02-25T09:34:18.609006Z",
     "shell.execute_reply": "2025-02-25T09:34:18.608194Z"
    }
   },
   "outputs": [
    {
     "name": "stdout",
     "output_type": "stream",
     "text": [
      "{\n",
      "    \"name\": \"Simulation.2\",\n",
      "    \"metadata\": {\n",
      "        \"UniqueId\": \"8fd50d29-708d-44dc-b648-5cb104333867\"\n",
      "    },\n",
      "    \"simulation_guid\": \"5f7b1539-9d23-42c1-8395-ee7af58286fd\",\n",
      "    \"sensor_paths\": [\n",
      "        \"Irradiance.1\"\n",
      "    ],\n",
      "    \"source_paths\": [\n",
      "        \"Surface.1\"\n",
      "    ],\n",
      "    \"description\": \"\",\n",
      "    \"simulation\": {\n",
      "        \"direct_mc_simulation_template\": {\n",
      "            \"geom_distance_tolerance\": 0.01,\n",
      "            \"max_impact\": 200,\n",
      "            \"colorimetric_standard\": \"CIE_1964\",\n",
      "            \"ambient_material_uri\": \"/app/assets/AIR.material\",\n",
      "            \"dispersion\": false,\n",
      "            \"fast_transmission_gathering\": false,\n",
      "            \"stop_condition_rays_number\": \"200000\",\n",
      "            \"automatic_save_frequency\": 1800\n",
      "        },\n",
      "        \"name\": \"Simulation.2\",\n",
      "        \"description\": \"\",\n",
      "        \"metadata\": {},\n",
      "        \"scene_guid\": \"12d7d8db-6a86-467d-894d-e170af82f952\",\n",
      "        \"simulation_path\": \"Simulation.2\",\n",
      "        \"job_type\": \"CPU\"\n",
      "    }\n",
      "}\n"
     ]
    }
   ],
   "source": [
    "simulation2_direct = p.create_simulation(name=\"Simulation.2\")\n",
    "\n",
    "simulation2_direct.set_ambient_material_file_uri(\n",
    "    uri=os.path.join(tests_data_path, \"AIR.material\")\n",
    ").set_colorimetric_standard_CIE_1964().set_weight_none().set_geom_distance_tolerance(\n",
    "    0.01\n",
    ").set_max_impact(200).set_dispersion(False)\n",
    "simulation2_direct.set_sensor_paths([\"Irradiance.1\"]).set_source_paths([\"Surface.1\"]).commit()\n",
    "print(simulation2_direct)"
   ]
  },
  {
   "cell_type": "markdown",
   "id": "293a4ae0",
   "metadata": {},
   "source": [
    "## Read information"
   ]
  },
  {
   "cell_type": "markdown",
   "id": "c263f2f7",
   "metadata": {},
   "source": [
    "Read simulation information"
   ]
  },
  {
   "cell_type": "code",
   "execution_count": 10,
   "id": "0db21cf2",
   "metadata": {
    "execution": {
     "iopub.execute_input": "2025-02-25T09:34:18.611312Z",
     "iopub.status.busy": "2025-02-25T09:34:18.611076Z",
     "iopub.status.idle": "2025-02-25T09:34:18.619670Z",
     "shell.execute_reply": "2025-02-25T09:34:18.618851Z"
    }
   },
   "outputs": [
    {
     "name": "stdout",
     "output_type": "stream",
     "text": [
      "{\n",
      "    \"name\": \"Simulation.1\",\n",
      "    \"metadata\": {\n",
      "        \"UniqueId\": \"f4c03ad6-db2a-45c3-bb02-1600afa670f9\"\n",
      "    },\n",
      "    \"simulation_guid\": \"26d25652-0319-4834-9f7e-34b200b975e1\",\n",
      "    \"sensor_paths\": [\n",
      "        \"Irradiance.1\"\n",
      "    ],\n",
      "    \"source_paths\": [\n",
      "        \"Surface.1\"\n",
      "    ],\n",
      "    \"description\": \"\",\n",
      "    \"simulation\": {\n",
      "        \"direct_mc_simulation_template\": {\n",
      "            \"geom_distance_tolerance\": 0.01,\n",
      "            \"max_impact\": 100,\n",
      "            \"weight\": {\n",
      "                \"minimum_energy_percentage\": 0.005\n",
      "            },\n",
      "            \"dispersion\": true,\n",
      "            \"colorimetric_standard\": \"CIE_1931\",\n",
      "            \"fast_transmission_gathering\": false,\n",
      "            \"ambient_material_uri\": \"\",\n",
      "            \"stop_condition_rays_number\": \"200000\",\n",
      "            \"automatic_save_frequency\": 1800\n",
      "        },\n",
      "        \"name\": \"Simulation.1\",\n",
      "        \"description\": \"\",\n",
      "        \"metadata\": {},\n",
      "        \"scene_guid\": \"12d7d8db-6a86-467d-894d-e170af82f952\",\n",
      "        \"simulation_path\": \"Simulation.1\",\n",
      "        \"job_type\": \"CPU\"\n",
      "    }\n",
      "}\n"
     ]
    }
   ],
   "source": [
    "print(simulation1)"
   ]
  },
  {
   "cell_type": "markdown",
   "id": "c7676db7",
   "metadata": {},
   "source": [
    "Read project information"
   ]
  },
  {
   "cell_type": "code",
   "execution_count": 11,
   "id": "5b1933c4",
   "metadata": {
    "execution": {
     "iopub.execute_input": "2025-02-25T09:34:18.622126Z",
     "iopub.status.busy": "2025-02-25T09:34:18.621901Z",
     "iopub.status.idle": "2025-02-25T09:34:18.649450Z",
     "shell.execute_reply": "2025-02-25T09:34:18.648641Z"
    }
   },
   "outputs": [
    {
     "name": "stdout",
     "output_type": "stream",
     "text": [
      "{\n",
      "    \"part_guid\": \"7b52d9cc-9aaa-4918-b119-0f6fba6e2d30\",\n",
      "    \"sources\": [\n",
      "        {\n",
      "            \"name\": \"Surface.1\",\n",
      "            \"metadata\": {\n",
      "                \"UniqueId\": \"e848e451-c3b5-4414-94fb-e88e531f7ada\"\n",
      "            },\n",
      "            \"source_guid\": \"016253ea-68c6-44f5-a795-81159d607e86\",\n",
      "            \"description\": \"\",\n",
      "            \"source\": {\n",
      "                \"name\": \"Surface.1\",\n",
      "                \"surface\": {\n",
      "                    \"luminous_flux\": {\n",
      "                        \"luminous_value\": 683.0\n",
      "                    },\n",
      "                    \"intensity_guid\": \"77ee28fd-9c4f-499f-af57-dc79948a4193\",\n",
      "                    \"exitance_constant\": {\n",
      "                        \"geo_paths\": [\n",
      "                            {\n",
      "                                \"geo_path\": \"Body.1/Face.1\",\n",
      "                                \"reverse_normal\": true\n",
      "                            }\n",
      "                        ]\n",
      "                    },\n",
      "                    \"spectrum_guid\": \"ad16c1b6-b3af-4776-ba94-b0b8296cca47\",\n",
      "                    \"intensity\": {\n",
      "                        \"name\": \"Surface.1.Intensity\",\n",
      "                        \"cos\": {\n",
      "                            \"N\": 1.0,\n",
      "                            \"total_angle\": 180.0\n",
      "                        },\n",
      "                        \"description\": \"\",\n",
      "                        \"metadata\": {}\n",
      "                    },\n",
      "                    \"spectrum\": {\n",
      "                        \"name\": \"Surface.1.Spectrum\",\n",
      "                        \"blackbody\": {\n",
      "                            \"temperature\": 2856.0\n",
      "                        },\n",
      "                        \"description\": \"\",\n",
      "                        \"metadata\": {}\n",
      "                    }\n",
      "                },\n",
      "                \"description\": \"\",\n",
      "                \"metadata\": {}\n",
      "            }\n",
      "        }\n",
      "    ],\n",
      "    \"sensors\": [\n",
      "        {\n",
      "            \"name\": \"Irradiance.1\",\n",
      "            \"metadata\": {\n",
      "                \"UniqueId\": \"4754b420-28b6-4a54-929f-1df6c5cfce8f\"\n",
      "            },\n",
      "            \"sensor_guid\": \"89af97a6-b9cf-4e52-8e99-7b3c2c9a2072\",\n",
      "            \"description\": \"\",\n",
      "            \"result_file_name\": \"\",\n",
      "            \"sensor\": {\n",
      "                \"irradiance_sensor_template\": {\n",
      "                    \"sensor_type_colorimetric\": {\n",
      "                        \"wavelengths_range\": {\n",
      "                            \"w_start\": 400.0,\n",
      "                            \"w_end\": 700.0,\n",
      "                            \"w_sampling\": 13\n",
      "                        }\n",
      "                    },\n",
      "                    \"illuminance_type_planar\": {},\n",
      "                    \"dimensions\": {\n",
      "                        \"x_start\": -50.0,\n",
      "                        \"x_end\": 50.0,\n",
      "                        \"x_sampling\": 100,\n",
      "                        \"y_start\": -50.0,\n",
      "                        \"y_end\": 50.0,\n",
      "                        \"y_sampling\": 100\n",
      "                    },\n",
      "                    \"axis_system\": [\n",
      "                        0.0,\n",
      "                        0.0,\n",
      "                        0.0,\n",
      "                        1.0,\n",
      "                        0.0,\n",
      "                        0.0,\n",
      "                        0.0,\n",
      "                        1.0,\n",
      "                        0.0,\n",
      "                        0.0,\n",
      "                        0.0,\n",
      "                        1.0\n",
      "                    ],\n",
      "                    \"layer_type_none\": {},\n",
      "                    \"ray_file_type\": \"RayFileNone\",\n",
      "                    \"integration_direction\": []\n",
      "                },\n",
      "                \"name\": \"Irradiance.1\",\n",
      "                \"description\": \"\",\n",
      "                \"metadata\": {}\n",
      "            }\n",
      "        }\n",
      "    ],\n",
      "    \"simulations\": [\n",
      "        {\n",
      "            \"name\": \"Simulation.1\",\n",
      "            \"metadata\": {\n",
      "                \"UniqueId\": \"f4c03ad6-db2a-45c3-bb02-1600afa670f9\"\n",
      "            },\n",
      "            \"simulation_guid\": \"26d25652-0319-4834-9f7e-34b200b975e1\",\n",
      "            \"sensor_paths\": [\n",
      "                \"Irradiance.1\"\n",
      "            ],\n",
      "            \"source_paths\": [\n",
      "                \"Surface.1\"\n",
      "            ],\n",
      "            \"description\": \"\",\n",
      "            \"simulation\": {\n",
      "                \"direct_mc_simulation_template\": {\n",
      "                    \"geom_distance_tolerance\": 0.01,\n",
      "                    \"max_impact\": 100,\n",
      "                    \"weight\": {\n",
      "                        \"minimum_energy_percentage\": 0.005\n",
      "                    },\n",
      "                    \"dispersion\": true,\n",
      "                    \"colorimetric_standard\": \"CIE_1931\",\n",
      "                    \"fast_transmission_gathering\": false,\n",
      "                    \"ambient_material_uri\": \"\",\n",
      "                    \"stop_condition_rays_number\": \"200000\",\n",
      "                    \"automatic_save_frequency\": 1800\n",
      "                },\n",
      "                \"name\": \"Simulation.1\",\n",
      "                \"description\": \"\",\n",
      "                \"metadata\": {},\n",
      "                \"scene_guid\": \"12d7d8db-6a86-467d-894d-e170af82f952\",\n",
      "                \"simulation_path\": \"Simulation.1\",\n",
      "                \"job_type\": \"CPU\"\n",
      "            }\n",
      "        },\n",
      "        {\n",
      "            \"name\": \"Simulation.2\",\n",
      "            \"metadata\": {\n",
      "                \"UniqueId\": \"8fd50d29-708d-44dc-b648-5cb104333867\"\n",
      "            },\n",
      "            \"simulation_guid\": \"5f7b1539-9d23-42c1-8395-ee7af58286fd\",\n",
      "            \"sensor_paths\": [\n",
      "                \"Irradiance.1\"\n",
      "            ],\n",
      "            \"source_paths\": [\n",
      "                \"Surface.1\"\n",
      "            ],\n",
      "            \"description\": \"\",\n",
      "            \"simulation\": {\n",
      "                \"direct_mc_simulation_template\": {\n",
      "                    \"geom_distance_tolerance\": 0.01,\n",
      "                    \"max_impact\": 200,\n",
      "                    \"colorimetric_standard\": \"CIE_1964\",\n",
      "                    \"ambient_material_uri\": \"/app/assets/AIR.material\",\n",
      "                    \"dispersion\": false,\n",
      "                    \"fast_transmission_gathering\": false,\n",
      "                    \"stop_condition_rays_number\": \"200000\",\n",
      "                    \"automatic_save_frequency\": 1800\n",
      "                },\n",
      "                \"name\": \"Simulation.2\",\n",
      "                \"description\": \"\",\n",
      "                \"metadata\": {},\n",
      "                \"scene_guid\": \"12d7d8db-6a86-467d-894d-e170af82f952\",\n",
      "                \"simulation_path\": \"Simulation.2\",\n",
      "                \"job_type\": \"CPU\"\n",
      "            }\n",
      "        }\n",
      "    ],\n",
      "    \"materials\": [\n",
      "        {\n",
      "            \"name\": \"Material.1\",\n",
      "            \"metadata\": {\n",
      "                \"UniqueId\": \"297fc230-c9bd-4e7b-958e-4f3fcde52f46\"\n",
      "            },\n",
      "            \"vop_guid\": \"dbd7db51-b162-4ebb-b2ac-04589b59cd68\",\n",
      "            \"sop_guids\": [\n",
      "                \"e4b917ba-9a20-4043-8765-efd785e58e0d\"\n",
      "            ],\n",
      "            \"geometries\": {\n",
      "                \"geo_paths\": [\n",
      "                    \"Body.1\"\n",
      "                ]\n",
      "            },\n",
      "            \"description\": \"\",\n",
      "            \"vop\": {\n",
      "                \"name\": \"Material.1.VOP\",\n",
      "                \"opaque\": {},\n",
      "                \"description\": \"\",\n",
      "                \"metadata\": {}\n",
      "            },\n",
      "            \"sops\": [\n",
      "                {\n",
      "                    \"name\": \"Material.1.SOP\",\n",
      "                    \"mirror\": {\n",
      "                        \"reflectance\": 100.0\n",
      "                    },\n",
      "                    \"description\": \"\",\n",
      "                    \"metadata\": {}\n",
      "                }\n",
      "            ]\n",
      "        }\n",
      "    ],\n",
      "    \"name\": \"\",\n",
      "    \"description\": \"\",\n",
      "    \"metadata\": {},\n",
      "    \"scenes\": []\n",
      "}\n"
     ]
    }
   ],
   "source": [
    "print(p)"
   ]
  },
  {
   "cell_type": "markdown",
   "id": "54ea6ac6",
   "metadata": {},
   "source": [
    "## Update simulation settings"
   ]
  },
  {
   "cell_type": "markdown",
   "id": "f1a70154",
   "metadata": {},
   "source": [
    "If you are manipulating a simulation already committed, remember to commit your changes."
   ]
  },
  {
   "cell_type": "markdown",
   "id": "fff39280",
   "metadata": {},
   "source": [
    "If you don't, you will still only watch what is committed on the server."
   ]
  },
  {
   "cell_type": "code",
   "execution_count": 12,
   "id": "0db41d8d",
   "metadata": {
    "execution": {
     "iopub.execute_input": "2025-02-25T09:34:18.652226Z",
     "iopub.status.busy": "2025-02-25T09:34:18.651724Z",
     "iopub.status.idle": "2025-02-25T09:34:18.662792Z",
     "shell.execute_reply": "2025-02-25T09:34:18.661971Z"
    }
   },
   "outputs": [
    {
     "name": "stdout",
     "output_type": "stream",
     "text": [
      "{\n",
      "    \"name\": \"Simulation.1\",\n",
      "    \"metadata\": {\n",
      "        \"UniqueId\": \"f4c03ad6-db2a-45c3-bb02-1600afa670f9\"\n",
      "    },\n",
      "    \"simulation_guid\": \"26d25652-0319-4834-9f7e-34b200b975e1\",\n",
      "    \"sensor_paths\": [\n",
      "        \"Irradiance.1\"\n",
      "    ],\n",
      "    \"source_paths\": [\n",
      "        \"Surface.1\"\n",
      "    ],\n",
      "    \"description\": \"\",\n",
      "    \"simulation\": {\n",
      "        \"direct_mc_simulation_template\": {\n",
      "            \"geom_distance_tolerance\": 0.01,\n",
      "            \"max_impact\": 100,\n",
      "            \"weight\": {\n",
      "                \"minimum_energy_percentage\": 0.005\n",
      "            },\n",
      "            \"dispersion\": true,\n",
      "            \"ambient_material_uri\": \"/app/assets/AIR.material\",\n",
      "            \"colorimetric_standard\": \"CIE_1931\",\n",
      "            \"fast_transmission_gathering\": false,\n",
      "            \"stop_condition_rays_number\": \"200000\",\n",
      "            \"automatic_save_frequency\": 1800\n",
      "        },\n",
      "        \"name\": \"Simulation.1\",\n",
      "        \"description\": \"\",\n",
      "        \"metadata\": {},\n",
      "        \"scene_guid\": \"12d7d8db-6a86-467d-894d-e170af82f952\",\n",
      "        \"simulation_path\": \"Simulation.1\",\n",
      "        \"job_type\": \"CPU\"\n",
      "    }\n",
      "}\n"
     ]
    }
   ],
   "source": [
    "simulation1.set_ambient_material_file_uri(uri=os.path.join(tests_data_path, \"AIR.material\"))\n",
    "simulation1.commit()\n",
    "print(simulation1)"
   ]
  },
  {
   "cell_type": "markdown",
   "id": "ca3cf8bc",
   "metadata": {},
   "source": [
    "## Reset"
   ]
  },
  {
   "cell_type": "markdown",
   "id": "9ee684e2",
   "metadata": {},
   "source": [
    "Possibility to reset local values from the one available in the server."
   ]
  },
  {
   "cell_type": "code",
   "execution_count": 13,
   "id": "ddcc3132",
   "metadata": {
    "execution": {
     "iopub.execute_input": "2025-02-25T09:34:18.665238Z",
     "iopub.status.busy": "2025-02-25T09:34:18.665013Z",
     "iopub.status.idle": "2025-02-25T09:34:18.687067Z",
     "shell.execute_reply": "2025-02-25T09:34:18.686145Z"
    }
   },
   "outputs": [
    {
     "name": "stdout",
     "output_type": "stream",
     "text": [
      "local: {\n",
      "    \"name\": \"Simulation.1\",\n",
      "    \"sensor_paths\": [\n",
      "        \"Irradiance.1\"\n",
      "    ],\n",
      "    \"source_paths\": [\n",
      "        \"Surface.1\"\n",
      "    ],\n",
      "    \"description\": \"\",\n",
      "    \"metadata\": {},\n",
      "    \"simulation_guid\": \"\",\n",
      "    \"simulation\": {\n",
      "        \"direct_mc_simulation_template\": {\n",
      "            \"geom_distance_tolerance\": 0.01,\n",
      "            \"max_impact\": 100,\n",
      "            \"weight\": {\n",
      "                \"minimum_energy_percentage\": 0.005\n",
      "            },\n",
      "            \"dispersion\": true,\n",
      "            \"ambient_material_uri\": \"/app/assets/AIR.material\",\n",
      "            \"colorimetric_standard\": \"CIE_1931\",\n",
      "            \"fast_transmission_gathering\": false,\n",
      "            \"stop_condition_rays_number\": \"200000\",\n",
      "            \"automatic_save_frequency\": 1800\n",
      "        },\n",
      "        \"name\": \"Simulation.1\",\n",
      "        \"description\": \"\",\n",
      "        \"metadata\": {},\n",
      "        \"scene_guid\": \"12d7d8db-6a86-467d-894d-e170af82f952\",\n",
      "        \"simulation_path\": \"Simulation.1\",\n",
      "        \"job_type\": \"CPU\"\n",
      "    }\n",
      "}"
     ]
    },
    {
     "name": "stdout",
     "output_type": "stream",
     "text": [
      "\n"
     ]
    }
   ],
   "source": [
    "simulation1.set_max_impact(1000)  # adjust max impact but no commit\n",
    "simulation1.reset()  # reset -> this will apply the server value to the local value\n",
    "simulation1.delete()  # delete (to display the local value with the below print)\n",
    "print(simulation1)"
   ]
  },
  {
   "cell_type": "markdown",
   "id": "807d2ca5",
   "metadata": {},
   "source": [
    "## Other simulation examples"
   ]
  },
  {
   "cell_type": "markdown",
   "id": "3cf6f0f4",
   "metadata": {},
   "source": [
    "### Inverse simulation"
   ]
  },
  {
   "cell_type": "code",
   "execution_count": 14,
   "id": "c8c0747f",
   "metadata": {
    "execution": {
     "iopub.execute_input": "2025-02-25T09:34:18.689860Z",
     "iopub.status.busy": "2025-02-25T09:34:18.689363Z",
     "iopub.status.idle": "2025-02-25T09:34:18.727296Z",
     "shell.execute_reply": "2025-02-25T09:34:18.726490Z"
    }
   },
   "outputs": [
    {
     "name": "stdout",
     "output_type": "stream",
     "text": [
      "{\n",
      "    \"name\": \"Simulation.3\",\n",
      "    \"metadata\": {\n",
      "        \"UniqueId\": \"dd8bc0b0-5619-4fee-b334-8c4fb8ea68e6\"\n",
      "    },\n",
      "    \"simulation_guid\": \"7405e2e1-243f-4e7f-afa7-4e7a4bd8cb31\",\n",
      "    \"sensor_paths\": [\n",
      "        \"Irradiance.1\"\n",
      "    ],\n",
      "    \"source_paths\": [\n",
      "        \"Surface.1\"\n",
      "    ],\n",
      "    \"description\": \"\",\n",
      "    \"simulation\": {\n",
      "        \"inverse_mc_simulation_template\": {\n",
      "            \"geom_distance_tolerance\": 0.01,\n",
      "            \"max_impact\": 100,\n",
      "            \"weight\": {\n",
      "                \"minimum_energy_percentage\": 0.005\n",
      "            },\n",
      "            \"number_of_gathering_rays_per_source\": 1,\n",
      "            \"colorimetric_standard\": \"CIE_1931\",\n",
      "            \"dispersion\": false,\n",
      "            \"splitting\": false,\n",
      "            \"maximum_gathering_error\": 0,\n",
      "            \"maximum_gathering_error_percentage\": 0.0,\n",
      "            \"fast_transmission_gathering\": false,\n",
      "            \"ambient_material_uri\": \"\",\n",
      "            \"optimized_propagation_none\": {\n",
      "                \"stop_condition_passes_number\": 5\n",
      "            },\n",
      "            \"automatic_save_frequency\": 1800\n",
      "        },\n",
      "        \"name\": \"Simulation.3\",\n",
      "        \"description\": \"\",\n",
      "        \"metadata\": {},\n",
      "        \"scene_guid\": \"12d7d8db-6a86-467d-894d-e170af82f952\",\n",
      "        \"simulation_path\": \"Simulation.3\",\n",
      "        \"job_type\": \"CPU\"\n",
      "    }\n",
      "}\n"
     ]
    }
   ],
   "source": [
    "simulation3 = p.create_simulation(name=\"Simulation.3\", feature_type=SimulationInverse)\n",
    "simulation3.set_sensor_paths(sensor_paths=[\"Irradiance.1\"]).set_source_paths(\n",
    "    source_paths=[\"Surface.1\"]\n",
    ").commit()\n",
    "print(simulation3)"
   ]
  },
  {
   "cell_type": "markdown",
   "id": "d170d0cb",
   "metadata": {},
   "source": [
    "### Interactive simulation"
   ]
  },
  {
   "cell_type": "code",
   "execution_count": 15,
   "id": "78e773da",
   "metadata": {
    "execution": {
     "iopub.execute_input": "2025-02-25T09:34:18.729909Z",
     "iopub.status.busy": "2025-02-25T09:34:18.729631Z",
     "iopub.status.idle": "2025-02-25T09:34:18.779046Z",
     "shell.execute_reply": "2025-02-25T09:34:18.778171Z"
    }
   },
   "outputs": [
    {
     "name": "stdout",
     "output_type": "stream",
     "text": [
      "{\n",
      "    \"name\": \"Simulation.4\",\n",
      "    \"metadata\": {\n",
      "        \"UniqueId\": \"bcd3e250-8474-494a-9979-70ebdc7747e9\"\n",
      "    },\n",
      "    \"simulation_guid\": \"6af54042-990f-4f23-aab6-914549c83b20\",\n",
      "    \"source_paths\": [\n",
      "        \"Surface.1\"\n",
      "    ],\n",
      "    \"description\": \"\",\n",
      "    \"sensor_paths\": [],\n",
      "    \"simulation\": {\n",
      "        \"name\": \"Simulation.4\",\n",
      "        \"interactive_simulation_template\": {\n",
      "            \"geom_distance_tolerance\": 0.01,\n",
      "            \"max_impact\": 100,\n",
      "            \"weight\": {\n",
      "                \"minimum_energy_percentage\": 0.005\n",
      "            },\n",
      "            \"colorimetric_standard\": \"CIE_1931\",\n",
      "            \"ambient_material_uri\": \"\",\n",
      "            \"rays_number_per_sources\": [],\n",
      "            \"light_expert\": false,\n",
      "            \"impact_report\": false\n",
      "        },\n",
      "        \"description\": \"\",\n",
      "        \"metadata\": {},\n",
      "        \"scene_guid\": \"12d7d8db-6a86-467d-894d-e170af82f952\",\n",
      "        \"simulation_path\": \"Simulation.4\",\n",
      "        \"job_type\": \"CPU\"\n",
      "    }\n",
      "}\n"
     ]
    }
   ],
   "source": [
    "simulation4 = p.create_simulation(name=\"Simulation.4\", feature_type=SimulationInteractive)\n",
    "simulation4.set_source_paths(source_paths=[\"Surface.1\"]).commit()\n",
    "print(simulation4)"
   ]
  }
 ],
 "metadata": {
  "jupytext": {
   "cell_metadata_filter": "-all",
   "main_language": "python",
   "notebook_metadata_filter": "-all",
   "text_representation": {
    "extension": ".py",
    "format_name": "light"
   }
  },
  "language_info": {
   "codemirror_mode": {
    "name": "ipython",
    "version": 3
   },
   "file_extension": ".py",
   "mimetype": "text/x-python",
   "name": "python",
   "nbconvert_exporter": "python",
   "pygments_lexer": "ipython3",
   "version": "3.10.16"
  }
 },
 "nbformat": 4,
 "nbformat_minor": 5
}
