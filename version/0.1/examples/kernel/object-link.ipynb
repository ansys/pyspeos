{
 "cells": [
  {
   "cell_type": "markdown",
   "id": "691e2ad1",
   "metadata": {},
   "source": [
    "# How to use an ObjectLink"
   ]
  },
  {
   "cell_type": "markdown",
   "id": "024d9d0a",
   "metadata": {},
   "source": [
    "This tutorial demonstrates how to use speos objects in layer core."
   ]
  },
  {
   "cell_type": "markdown",
   "id": "afc5d614",
   "metadata": {},
   "source": [
    "## What is an ObjectLink?"
   ]
  },
  {
   "cell_type": "markdown",
   "id": "41faa7d2",
   "metadata": {},
   "source": [
    "The ObjectLink is an object that is created from a protobuf message and then stored in the server database."
   ]
  },
  {
   "cell_type": "markdown",
   "id": "75989405",
   "metadata": {},
   "source": [
    "## Which speos objects are used via ObjectLink?"
   ]
  },
  {
   "cell_type": "markdown",
   "id": "1b76249d",
   "metadata": {},
   "source": [
    "Almost all speos objects are used via ObjectLink: like sources, sensors, simulations and more.\n",
    "For this tutorial we will use as example the surface optical property (sop)"
   ]
  },
  {
   "cell_type": "code",
   "execution_count": 1,
   "id": "35a9c29f",
   "metadata": {
    "execution": {
     "iopub.execute_input": "2025-02-25T09:34:28.866207Z",
     "iopub.status.busy": "2025-02-25T09:34:28.865912Z",
     "iopub.status.idle": "2025-02-25T09:34:29.607698Z",
     "shell.execute_reply": "2025-02-25T09:34:29.606844Z"
    }
   },
   "outputs": [],
   "source": [
    "from ansys.speos.core.kernel.sop_template import ProtoSOPTemplate\n",
    "from ansys.speos.core.speos import Speos\n"
   ]
  },
  {
   "cell_type": "markdown",
   "id": "311e4b58",
   "metadata": {},
   "source": [
    "Create connection with speos rpc server"
   ]
  },
  {
   "cell_type": "code",
   "execution_count": 2,
   "id": "eaa12dd3",
   "metadata": {
    "execution": {
     "iopub.execute_input": "2025-02-25T09:34:29.610644Z",
     "iopub.status.busy": "2025-02-25T09:34:29.610329Z",
     "iopub.status.idle": "2025-02-25T09:34:29.621013Z",
     "shell.execute_reply": "2025-02-25T09:34:29.620328Z"
    }
   },
   "outputs": [],
   "source": [
    "speos = Speos(host=\"localhost\", port=50098)"
   ]
  },
  {
   "cell_type": "markdown",
   "id": "4fd692a7",
   "metadata": {},
   "source": [
    "## Create an ObjectLink"
   ]
  },
  {
   "cell_type": "markdown",
   "id": "bfec75a0",
   "metadata": {},
   "source": [
    "Retrieve the access to the database."
   ]
  },
  {
   "cell_type": "code",
   "execution_count": 3,
   "id": "0f362f27",
   "metadata": {
    "execution": {
     "iopub.execute_input": "2025-02-25T09:34:29.623413Z",
     "iopub.status.busy": "2025-02-25T09:34:29.623199Z",
     "iopub.status.idle": "2025-02-25T09:34:29.626509Z",
     "shell.execute_reply": "2025-02-25T09:34:29.626027Z"
    }
   },
   "outputs": [],
   "source": [
    "sop_t_db = speos.client.sop_templates()"
   ]
  },
  {
   "cell_type": "markdown",
   "id": "a69275ee",
   "metadata": {},
   "source": [
    "Create the protobuf message."
   ]
  },
  {
   "cell_type": "code",
   "execution_count": 4,
   "id": "232ffca2",
   "metadata": {
    "execution": {
     "iopub.execute_input": "2025-02-25T09:34:29.628708Z",
     "iopub.status.busy": "2025-02-25T09:34:29.628523Z",
     "iopub.status.idle": "2025-02-25T09:34:29.631441Z",
     "shell.execute_reply": "2025-02-25T09:34:29.631008Z"
    }
   },
   "outputs": [],
   "source": [
    "sop_t = ProtoSOPTemplate()\n",
    "sop_t.name = \"Mirror_90\"\n",
    "sop_t.mirror.reflectance = 90.0"
   ]
  },
  {
   "cell_type": "markdown",
   "id": "17c63ff8",
   "metadata": {},
   "source": [
    "Create the ObjectLink (here a SOPTemplateLink)."
   ]
  },
  {
   "cell_type": "code",
   "execution_count": 5,
   "id": "b32d401e",
   "metadata": {
    "execution": {
     "iopub.execute_input": "2025-02-25T09:34:29.633619Z",
     "iopub.status.busy": "2025-02-25T09:34:29.633416Z",
     "iopub.status.idle": "2025-02-25T09:34:29.659750Z",
     "shell.execute_reply": "2025-02-25T09:34:29.655768Z"
    }
   },
   "outputs": [
    {
     "name": "stdout",
     "output_type": "stream",
     "text": [
      "ansys.api.speos.sop.v1.SOPTemplate\n",
      "{\n",
      "    \"name\": \"Mirror_90\",\n",
      "    \"mirror\": {\n",
      "        \"reflectance\": 90.0\n",
      "    },\n",
      "    \"description\": \"\",\n",
      "    \"metadata\": {}\n",
      "}\n"
     ]
    }
   ],
   "source": [
    "mirror_90_link = sop_t_db.create(message=sop_t)\n",
    "print(mirror_90_link)"
   ]
  },
  {
   "cell_type": "markdown",
   "id": "7819371e",
   "metadata": {},
   "source": [
    "Create another ObjectLink from another protobuf message."
   ]
  },
  {
   "cell_type": "code",
   "execution_count": 6,
   "id": "8ef3fe0a",
   "metadata": {
    "execution": {
     "iopub.execute_input": "2025-02-25T09:34:29.670267Z",
     "iopub.status.busy": "2025-02-25T09:34:29.668319Z",
     "iopub.status.idle": "2025-02-25T09:34:29.683288Z",
     "shell.execute_reply": "2025-02-25T09:34:29.680955Z"
    }
   },
   "outputs": [],
   "source": [
    "sop_t = ProtoSOPTemplate()\n",
    "sop_t.name = \"Mirror_100\"\n",
    "sop_t.mirror.reflectance = 100.0\n",
    "\n",
    "mirror_100_link = sop_t_db.create(message=sop_t)"
   ]
  },
  {
   "cell_type": "markdown",
   "id": "7a58ab4a",
   "metadata": {},
   "source": [
    "## Modify an ObjectLink"
   ]
  },
  {
   "cell_type": "markdown",
   "id": "dd2f599a",
   "metadata": {},
   "source": [
    "Retrieve the protobuf message corresponding to the ObjectLink."
   ]
  },
  {
   "cell_type": "code",
   "execution_count": 7,
   "id": "d5816c07",
   "metadata": {
    "execution": {
     "iopub.execute_input": "2025-02-25T09:34:29.692596Z",
     "iopub.status.busy": "2025-02-25T09:34:29.691502Z",
     "iopub.status.idle": "2025-02-25T09:34:29.705991Z",
     "shell.execute_reply": "2025-02-25T09:34:29.702789Z"
    }
   },
   "outputs": [],
   "source": [
    "mirror_data = mirror_90_link.get()"
   ]
  },
  {
   "cell_type": "markdown",
   "id": "3d266b00",
   "metadata": {},
   "source": [
    "Modify data locally"
   ]
  },
  {
   "cell_type": "code",
   "execution_count": 8,
   "id": "bfdf299a",
   "metadata": {
    "execution": {
     "iopub.execute_input": "2025-02-25T09:34:29.715945Z",
     "iopub.status.busy": "2025-02-25T09:34:29.714767Z",
     "iopub.status.idle": "2025-02-25T09:34:29.727063Z",
     "shell.execute_reply": "2025-02-25T09:34:29.723316Z"
    }
   },
   "outputs": [],
   "source": [
    "mirror_data.name = \"Mirror_50\"\n",
    "mirror_data.mirror.reflectance = 50"
   ]
  },
  {
   "cell_type": "markdown",
   "id": "33b0f80c",
   "metadata": {},
   "source": [
    "Update on db"
   ]
  },
  {
   "cell_type": "code",
   "execution_count": 9,
   "id": "42bd6016",
   "metadata": {
    "execution": {
     "iopub.execute_input": "2025-02-25T09:34:29.736741Z",
     "iopub.status.busy": "2025-02-25T09:34:29.735730Z",
     "iopub.status.idle": "2025-02-25T09:34:29.759278Z",
     "shell.execute_reply": "2025-02-25T09:34:29.754972Z"
    }
   },
   "outputs": [
    {
     "name": "stdout",
     "output_type": "stream",
     "text": [
      "ansys.api.speos.sop.v1.SOPTemplate\n",
      "{\n",
      "    \"name\": \"Mirror_50\",\n",
      "    \"mirror\": {\n",
      "        \"reflectance\": 50.0\n",
      "    },\n",
      "    \"description\": \"\",\n",
      "    \"metadata\": {}\n",
      "}\n"
     ]
    }
   ],
   "source": [
    "mirror_90_link.set(data=mirror_data)\n",
    "print(mirror_90_link)"
   ]
  },
  {
   "cell_type": "markdown",
   "id": "42ccae98",
   "metadata": {},
   "source": [
    "## Delete an ObjectLink"
   ]
  },
  {
   "cell_type": "markdown",
   "id": "5a1df08f",
   "metadata": {},
   "source": [
    "This means deleting data in db"
   ]
  },
  {
   "cell_type": "code",
   "execution_count": 10,
   "id": "6708d384",
   "metadata": {
    "execution": {
     "iopub.execute_input": "2025-02-25T09:34:29.771551Z",
     "iopub.status.busy": "2025-02-25T09:34:29.769499Z",
     "iopub.status.idle": "2025-02-25T09:34:29.801145Z",
     "shell.execute_reply": "2025-02-25T09:34:29.798723Z"
    }
   },
   "outputs": [
    {
     "data": {
      "text/plain": [
       "[]"
      ]
     },
     "execution_count": 10,
     "metadata": {},
     "output_type": "execute_result"
    }
   ],
   "source": [
    "mirror_100_link.delete()\n",
    "mirror_90_link.delete()\n",
    "sop_t_db.list()"
   ]
  }
 ],
 "metadata": {
  "jupytext": {
   "cell_metadata_filter": "-all",
   "main_language": "python",
   "notebook_metadata_filter": "-all",
   "text_representation": {
    "extension": ".py",
    "format_name": "light"
   }
  },
  "language_info": {
   "codemirror_mode": {
    "name": "ipython",
    "version": 3
   },
   "file_extension": ".py",
   "mimetype": "text/x-python",
   "name": "python",
   "nbconvert_exporter": "python",
   "pygments_lexer": "ipython3",
   "version": "3.10.16"
  }
 },
 "nbformat": 4,
 "nbformat_minor": 5
}
