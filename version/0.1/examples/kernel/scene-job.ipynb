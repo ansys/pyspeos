{
 "cells": [
  {
   "cell_type": "markdown",
   "id": "0c0d199f",
   "metadata": {},
   "source": [
    "# How to use scene and job"
   ]
  },
  {
   "cell_type": "markdown",
   "id": "02b58685",
   "metadata": {},
   "source": [
    "This tutorial demonstrates how to create a scene, and fill it from a speos file.\n",
    "Then this demonstrates how to create a job from the scene, and run it."
   ]
  },
  {
   "cell_type": "code",
   "execution_count": 1,
   "id": "7bb86c26",
   "metadata": {
    "execution": {
     "iopub.execute_input": "2025-02-25T09:34:32.268315Z",
     "iopub.status.busy": "2025-02-25T09:34:32.267861Z",
     "iopub.status.idle": "2025-02-25T09:34:33.101771Z",
     "shell.execute_reply": "2025-02-25T09:34:33.097326Z"
    }
   },
   "outputs": [],
   "source": [
    "import os\n",
    "import time\n",
    "\n",
    "from ansys.speos.core.kernel.job import ProtoJob\n",
    "from ansys.speos.core.speos import Speos\n",
    "\n",
    "# If using docker container\n",
    "tests_data_path = os.path.join(\"/app\", \"assets\")\n",
    "# If using local server\n",
    "# tests_data_path = os.path.join(os.path.abspath(\"\"), os.path.pardir, os.path.pardir, \"tests\", \"assets\")"
   ]
  },
  {
   "cell_type": "markdown",
   "id": "4c4eaa14",
   "metadata": {},
   "source": [
    "Create connection with speos rpc server"
   ]
  },
  {
   "cell_type": "code",
   "execution_count": 2,
   "id": "55fb674a",
   "metadata": {
    "execution": {
     "iopub.execute_input": "2025-02-25T09:34:33.114338Z",
     "iopub.status.busy": "2025-02-25T09:34:33.112666Z",
     "iopub.status.idle": "2025-02-25T09:34:33.154036Z",
     "shell.execute_reply": "2025-02-25T09:34:33.149662Z"
    }
   },
   "outputs": [],
   "source": [
    "speos = Speos(host=\"localhost\", port=50098)"
   ]
  },
  {
   "cell_type": "markdown",
   "id": "c10ce1ae",
   "metadata": {},
   "source": [
    "## Scene"
   ]
  },
  {
   "cell_type": "markdown",
   "id": "ea1c011b",
   "metadata": {},
   "source": [
    "Create an empty scene"
   ]
  },
  {
   "cell_type": "code",
   "execution_count": 3,
   "id": "9a0572b6",
   "metadata": {
    "execution": {
     "iopub.execute_input": "2025-02-25T09:34:33.168371Z",
     "iopub.status.busy": "2025-02-25T09:34:33.167004Z",
     "iopub.status.idle": "2025-02-25T09:34:33.186869Z",
     "shell.execute_reply": "2025-02-25T09:34:33.183098Z"
    }
   },
   "outputs": [],
   "source": [
    "my_scene = speos.client.scenes().create()"
   ]
  },
  {
   "cell_type": "markdown",
   "id": "302c4c8a",
   "metadata": {},
   "source": [
    "Load a file to fill the scene"
   ]
  },
  {
   "cell_type": "code",
   "execution_count": 4,
   "id": "9413e41a",
   "metadata": {
    "execution": {
     "iopub.execute_input": "2025-02-25T09:34:33.198372Z",
     "iopub.status.busy": "2025-02-25T09:34:33.197213Z",
     "iopub.status.idle": "2025-02-25T09:34:33.231633Z",
     "shell.execute_reply": "2025-02-25T09:34:33.227623Z"
    }
   },
   "outputs": [],
   "source": [
    "speos_file = os.path.join(\n",
    "    tests_data_path, \"LG_50M_Colorimetric_short.sv5\", \"LG_50M_Colorimetric_short.sv5\"\n",
    ")\n",
    "my_scene.load_file(file_uri=speos_file)"
   ]
  },
  {
   "cell_type": "markdown",
   "id": "5b085da9",
   "metadata": {},
   "source": [
    "Print scene data model"
   ]
  },
  {
   "cell_type": "markdown",
   "id": "7073be38",
   "metadata": {},
   "source": [
    "Here it is possible to see that the scene contains two surface sources, one irradiance sensor."
   ]
  },
  {
   "cell_type": "code",
   "execution_count": 5,
   "id": "6e405841",
   "metadata": {
    "execution": {
     "iopub.execute_input": "2025-02-25T09:34:33.242352Z",
     "iopub.status.busy": "2025-02-25T09:34:33.241656Z",
     "iopub.status.idle": "2025-02-25T09:34:33.260539Z",
     "shell.execute_reply": "2025-02-25T09:34:33.258434Z"
    }
   },
   "outputs": [
    {
     "name": "stdout",
     "output_type": "stream",
     "text": [
      "ansys.api.speos.scene.v2.Scene\n",
      "{\n",
      "    \"name\": \"LG_50M_Colorimetric_short\",\n",
      "    \"description\": \"From /app/assets/LG_50M_Colorimetric_short.sv5/LG_50M_Colorimetric_short.sv5\",\n",
      "    \"part_guid\": \"26bde376-363a-4010-838a-3feb7d40e4cf\",\n",
      "    \"sources\": [\n",
      "        {\n",
      "            \"name\": \"Dom Source 2 (0) in SOURCE2\",\n",
      "            \"source_guid\": \"45524708-3777-4909-861d-0354df51deeb\",\n",
      "            \"surface_properties\": {\n",
      "                \"exitance_constant_properties\": {\n",
      "                    \"geo_paths\": [\n",
      "                        {\n",
      "                            \"geo_path\": \"Solid Body in SOURCE2:2920204960/Face in SOURCE2:222\",\n",
      "                            \"reverse_normal\": false\n",
      "                        }\n",
      "                    ]\n",
      "                }\n",
      "            },\n",
      "            \"description\": \"\",\n",
      "            \"metadata\": {}\n",
      "        },\n",
      "        {\n",
      "            \"name\": \"Surface Source (0) in SOURCE1\",\n",
      "            \"source_guid\": \"9253fcfe-3228-49bc-82ec-56cbfa670466\",\n",
      "            \"surface_properties\": {\n",
      "                \"exitance_constant_properties\": {\n",
      "                    \"geo_paths\": [\n",
      "                        {\n",
      "                            \"geo_path\": \"Solid Body in SOURCE1:2494956811/Face in SOURCE1:187\",\n",
      "                            \"reverse_normal\": false\n",
      "                        }\n",
      "                    ]\n",
      "                }\n",
      "            },\n",
      "            \"description\": \"\",\n",
      "            \"metadata\": {}\n",
      "        }\n",
      "    ],\n",
      "    \"sensors\": [\n",
      "        {\n",
      "            \"name\": \"Dom Irradiance Sensor (0)\",\n",
      "            \"sensor_guid\": \"1d2a59b1-0580-4e79-b4dc-538961e93bed\",\n",
      "            \"result_file_name\": \"ASSEMBLY1.DS (0).Dom Irradiance Sensor (0)\",\n",
      "            \"irradiance_properties\": {\n",
      "                \"axis_system\": [\n",
      "                    -42.0,\n",
      "                    2.0,\n",
      "                    5.0,\n",
      "                    0.0,\n",
      "                    1.0,\n",
      "                    0.0,\n",
      "                    0.0,\n",
      "                    0.0,\n",
      "                    -1.0,\n",
      "                    -1.0,\n",
      "                    0.0,\n",
      "                    0.0\n",
      "                ],\n",
      "                \"layer_type_source\": {},\n",
      "                \"integration_direction\": [\n",
      "                    1.0,\n",
      "                    -0.0,\n",
      "                    -0.0\n",
      "                ],\n",
      "                \"ray_file_type\": \"RayFileNone\"\n",
      "            },\n",
      "            \"description\": \"\",\n",
      "            \"metadata\": {}\n",
      "        }\n",
      "    ],\n",
      "    \"simulations\": [\n",
      "        {\n",
      "            \"name\": \"ASSEMBLY1.DS (0)\",\n",
      "            \"simulation_guid\": \"260f5923-b504-4dd0-b852-fb3f44ae0621\",\n",
      "            \"sensor_paths\": [\n",
      "                \"Dom Irradiance Sensor (0)\"\n",
      "            ],\n",
      "            \"source_paths\": [\n",
      "                \"Dom Source 2 (0) in SOURCE2\",\n",
      "                \"Surface Source (0) in SOURCE1\"\n",
      "            ],\n",
      "            \"description\": \"\",\n",
      "            \"metadata\": {}\n",
      "        }\n",
      "    ],\n",
      "    \"materials\": [\n",
      "        {\n",
      "            \"name\": \"Material.1\",\n",
      "            \"sop_guids\": [\n",
      "                \"cc2d17dd-1a1d-456d-b276-54127a895962\"\n",
      "            ],\n",
      "            \"geometries\": {\n",
      "                \"geo_paths\": [\n",
      "                    \"Solid Body in GUIDE:1379760262/Face in GUIDE:169\"\n",
      "                ]\n",
      "            },\n",
      "            \"description\": \"\",\n",
      "            \"metadata\": {}\n",
      "        },\n",
      "        {\n",
      "            \"name\": \"Material.2\",\n",
      "            \"vop_guid\": \"e9ac83c8-cf65-4d3e-bb52-15162a1478d4\",\n",
      "            \"sop_guids\": [\n",
      "                \"980ba67b-e06d-4473-88b5-8c640f31f643\"\n",
      "            ],\n",
      "            \"geometries\": {\n",
      "                \"geo_paths\": [\n",
      "                    \"Solid Body in GUIDE:1379760262\"\n",
      "                ]\n",
      "            },\n",
      "            \"description\": \"\",\n",
      "            \"metadata\": {}\n",
      "        },\n",
      "        {\n",
      "            \"name\": \"Material.3\",\n",
      "            \"vop_guid\": \"648ab864-f745-40c6-95fc-455b2897f3f7\",\n",
      "            \"sop_guids\": [\n",
      "                \"cc2d17dd-1a1d-456d-b276-54127a895962\"\n",
      "            ],\n",
      "            \"geometries\": {\n",
      "                \"geo_paths\": [\n",
      "                    \"Solid Body in SOURCE2:2920204960\",\n",
      "                    \"Solid Body in SOURCE1:2494956811\"\n",
      "                ]\n",
      "            },\n",
      "            \"description\": \"\",\n",
      "            \"metadata\": {}\n",
      "        },\n",
      "        {\n",
      "            \"name\": \"Material.4\",\n",
      "            \"vop_guid\": \"cfb9c43f-b68b-4829-95f6-5a92defe5856\",\n",
      "            \"description\": \"\",\n",
      "            \"metadata\": {},\n",
      "            \"sop_guids\": []\n",
      "        }\n",
      "    ],\n",
      "    \"metadata\": {},\n",
      "    \"scenes\": []\n",
      "}\n"
     ]
    }
   ],
   "source": [
    "print(my_scene)"
   ]
  },
  {
   "cell_type": "markdown",
   "id": "9d2fb502",
   "metadata": {},
   "source": [
    "## Job"
   ]
  },
  {
   "cell_type": "markdown",
   "id": "0c7e7192",
   "metadata": {},
   "source": [
    "Create a job for the first simulation. When loaded from a speos file, there is always only one simulation in the scene."
   ]
  },
  {
   "cell_type": "code",
   "execution_count": 6,
   "id": "53ba8562",
   "metadata": {
    "execution": {
     "iopub.execute_input": "2025-02-25T09:34:33.268503Z",
     "iopub.status.busy": "2025-02-25T09:34:33.267005Z",
     "iopub.status.idle": "2025-02-25T09:34:33.367635Z",
     "shell.execute_reply": "2025-02-25T09:34:33.366872Z"
    }
   },
   "outputs": [],
   "source": [
    "# First create the protobuf message\n",
    "job_message = ProtoJob(name=\"my_job\")\n",
    "job_message.scene_guid = my_scene.key  # The job needs a scene guid\n",
    "job_message.simulation_path = (\n",
    "    my_scene.get().simulations[0].name\n",
    ")  # And needs to know which simulation in the scene is involved.\n",
    "job_message.job_type = ProtoJob.Type.CPU  # Choose type of job, can also be GPU.\n",
    "job_message.direct_mc_simulation_properties.automatic_save_frequency = 1800\n",
    "job_message.direct_mc_simulation_properties.stop_condition_rays_number = (\n",
    "    200000  # Stop condition, here 200000 rays will be sent.\n",
    ")\n",
    "\n",
    "# Create the JobLink\n",
    "job_link = speos.client.jobs().create(message=job_message)"
   ]
  },
  {
   "cell_type": "markdown",
   "id": "139541ec",
   "metadata": {},
   "source": [
    "Start the job"
   ]
  },
  {
   "cell_type": "code",
   "execution_count": 7,
   "id": "aa0580d1",
   "metadata": {
    "execution": {
     "iopub.execute_input": "2025-02-25T09:34:33.370537Z",
     "iopub.status.busy": "2025-02-25T09:34:33.370310Z",
     "iopub.status.idle": "2025-02-25T09:34:33.373775Z",
     "shell.execute_reply": "2025-02-25T09:34:33.373070Z"
    }
   },
   "outputs": [],
   "source": [
    "job_link.start()"
   ]
  },
  {
   "cell_type": "markdown",
   "id": "dcb3e9b7",
   "metadata": {},
   "source": [
    "Verify state of the job"
   ]
  },
  {
   "cell_type": "code",
   "execution_count": 8,
   "id": "7022db79",
   "metadata": {
    "execution": {
     "iopub.execute_input": "2025-02-25T09:34:33.376161Z",
     "iopub.status.busy": "2025-02-25T09:34:33.375952Z",
     "iopub.status.idle": "2025-02-25T09:34:33.383559Z",
     "shell.execute_reply": "2025-02-25T09:34:33.382862Z"
    }
   },
   "outputs": [
    {
     "data": {
      "text/plain": [
       "state: RUNNING"
      ]
     },
     "execution_count": 8,
     "metadata": {},
     "output_type": "execute_result"
    }
   ],
   "source": [
    "job_link.get_state()"
   ]
  },
  {
   "cell_type": "markdown",
   "id": "8455b4af",
   "metadata": {},
   "source": [
    "Wait that the job is finished"
   ]
  },
  {
   "cell_type": "code",
   "execution_count": 9,
   "id": "905e8ba8",
   "metadata": {
    "execution": {
     "iopub.execute_input": "2025-02-25T09:34:33.385915Z",
     "iopub.status.busy": "2025-02-25T09:34:33.385689Z",
     "iopub.status.idle": "2025-02-25T09:34:43.405300Z",
     "shell.execute_reply": "2025-02-25T09:34:43.404506Z"
    }
   },
   "outputs": [],
   "source": [
    "job_state_res = job_link.get_state()\n",
    "while (\n",
    "    job_state_res.state != ProtoJob.State.FINISHED\n",
    "    and job_state_res.state != ProtoJob.State.STOPPED\n",
    "    and job_state_res.state != ProtoJob.State.IN_ERROR\n",
    "):\n",
    "    time.sleep(2)\n",
    "\n",
    "    job_state_res = job_link.get_state()"
   ]
  },
  {
   "cell_type": "markdown",
   "id": "5de94c32",
   "metadata": {},
   "source": [
    "Retrieve results of the job"
   ]
  },
  {
   "cell_type": "markdown",
   "id": "2ac97c7a",
   "metadata": {},
   "source": [
    "Two results are generated : the result of irradiance sensor: ASSEMBLY1.DS (0).Dom Irradiance Sensor (0).xmp\n",
    "and the simulation report in html"
   ]
  },
  {
   "cell_type": "code",
   "execution_count": 10,
   "id": "849e6700",
   "metadata": {
    "execution": {
     "iopub.execute_input": "2025-02-25T09:34:43.407874Z",
     "iopub.status.busy": "2025-02-25T09:34:43.407613Z",
     "iopub.status.idle": "2025-02-25T09:34:43.416991Z",
     "shell.execute_reply": "2025-02-25T09:34:43.416240Z"
    }
   },
   "outputs": [
    {
     "name": "stdout",
     "output_type": "stream",
     "text": [
      "[upload_response {\n",
      "  info {\n",
      "    uri: \"589622c5-d569-419e-bf48-b3be2d87183b\"\n",
      "    file_name: \"ASSEMBLY1.DS (0).Dom Irradiance Sensor (0).xmp\"\n",
      "    file_size: 1432883\n",
      "  }\n",
      "  upload_duration {\n",
      "    nanos: 2829872\n",
      "  }\n",
      "}\n",
      ", upload_response {\n",
      "  info {\n",
      "    uri: \"bb0ab6b2-1769-4517-a3d1-23c17f177695\"\n",
      "    file_name: \"ASSEMBLY1.DS (0).html\"\n",
      "    file_size: 505261\n",
      "  }\n",
      "  upload_duration {\n",
      "    nanos: 872905\n",
      "  }\n",
      "}\n",
      "]\n"
     ]
    }
   ],
   "source": [
    "results = job_link.get_results().results\n",
    "print(results)"
   ]
  },
  {
   "cell_type": "markdown",
   "id": "9f4848f5",
   "metadata": {},
   "source": [
    "Once no more needed: delete the job"
   ]
  },
  {
   "cell_type": "code",
   "execution_count": 11,
   "id": "75250f9b",
   "metadata": {
    "execution": {
     "iopub.execute_input": "2025-02-25T09:34:43.419415Z",
     "iopub.status.busy": "2025-02-25T09:34:43.419189Z",
     "iopub.status.idle": "2025-02-25T09:34:43.429906Z",
     "shell.execute_reply": "2025-02-25T09:34:43.429158Z"
    },
    "lines_to_next_cell": 2
   },
   "outputs": [],
   "source": [
    "job_link.delete()"
   ]
  },
  {
   "cell_type": "markdown",
   "id": "a9b82588",
   "metadata": {},
   "source": [
    "When loading a speos file into a scene, this creates many objects (source templates, sensor templates, vop template, sop templates).\n",
    "Then at the end of the example, we just clean all databases"
   ]
  },
  {
   "cell_type": "code",
   "execution_count": 12,
   "id": "f0478402",
   "metadata": {
    "execution": {
     "iopub.execute_input": "2025-02-25T09:34:43.432529Z",
     "iopub.status.busy": "2025-02-25T09:34:43.432302Z",
     "iopub.status.idle": "2025-02-25T09:34:43.479906Z",
     "shell.execute_reply": "2025-02-25T09:34:43.476557Z"
    }
   },
   "outputs": [],
   "source": [
    "for item in (\n",
    "    speos.client.scenes().list()\n",
    "    + speos.client.simulation_templates().list()\n",
    "    + speos.client.sensor_templates().list()\n",
    "    + speos.client.source_templates().list()\n",
    "    + speos.client.intensity_templates().list()\n",
    "    + speos.client.spectrums().list()\n",
    "    + speos.client.vop_templates().list()\n",
    "    + speos.client.sop_templates().list()\n",
    "    + speos.client.parts().list()\n",
    "    + speos.client.bodies().list()\n",
    "    + speos.client.faces().list()\n",
    "):\n",
    "    item.delete()"
   ]
  }
 ],
 "metadata": {
  "jupytext": {
   "cell_metadata_filter": "-all",
   "main_language": "python",
   "notebook_metadata_filter": "-all",
   "text_representation": {
    "extension": ".py",
    "format_name": "light"
   }
  },
  "language_info": {
   "codemirror_mode": {
    "name": "ipython",
    "version": 3
   },
   "file_extension": ".py",
   "mimetype": "text/x-python",
   "name": "python",
   "nbconvert_exporter": "python",
   "pygments_lexer": "ipython3",
   "version": "3.10.16"
  }
 },
 "nbformat": 4,
 "nbformat_minor": 5
}
