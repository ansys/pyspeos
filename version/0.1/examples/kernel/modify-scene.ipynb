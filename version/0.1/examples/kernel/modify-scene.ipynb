{
 "cells": [
  {
   "cell_type": "markdown",
   "id": "627a7c93",
   "metadata": {},
   "source": [
    "# How to modify scene elements"
   ]
  },
  {
   "cell_type": "markdown",
   "id": "1b8e7bae",
   "metadata": {},
   "source": [
    "This tutorial demonstrates how to modify a scene. For example how to modify an existing sensor, how to add a new sensor.\n",
    "The logic is the same to modify sources, simulations, materials."
   ]
  },
  {
   "cell_type": "markdown",
   "id": "7b498982",
   "metadata": {},
   "source": [
    "## Template vs Instance"
   ]
  },
  {
   "cell_type": "markdown",
   "id": "ecb2be09",
   "metadata": {},
   "source": [
    "When applicable, the speos objects are separated in two different notions: template and instance.\n",
    "The template represents the feature with its inherent characteristics.\n",
    "The instance represents the completion of a template by adding properties such as spatial position, link to geometry, etc."
   ]
  },
  {
   "cell_type": "markdown",
   "id": "d3fd4900",
   "metadata": {},
   "source": [
    "### Template"
   ]
  },
  {
   "cell_type": "markdown",
   "id": "0cd6c122",
   "metadata": {},
   "source": [
    "The template objects are handled by a manager.\n",
    "It was explained how to interact with them in the kernel-object-link example (\"How to use an ObjectLink\").\n",
    "The interesting thing about the template notion is that the same template can be used several times with different properties."
   ]
  },
  {
   "cell_type": "markdown",
   "id": "1316b19b",
   "metadata": {},
   "source": [
    "### Instance"
   ]
  },
  {
   "cell_type": "markdown",
   "id": "f9580b3c",
   "metadata": {},
   "source": [
    "The template objects are instantiated in the Scene object, with properties needed to place them at the wanted position,\n",
    "or attached to the wanted geometry.\n",
    "The Scene object will gather all features that you need to run a job (compute a simulation)."
   ]
  },
  {
   "cell_type": "code",
   "execution_count": 1,
   "id": "11428263",
   "metadata": {
    "execution": {
     "iopub.execute_input": "2025-02-25T09:34:25.330574Z",
     "iopub.status.busy": "2025-02-25T09:34:25.330279Z",
     "iopub.status.idle": "2025-02-25T09:34:26.268431Z",
     "shell.execute_reply": "2025-02-25T09:34:26.266419Z"
    }
   },
   "outputs": [],
   "source": [
    "import os\n",
    "\n",
    "from ansys.api.speos.sensor.v1 import camera_sensor_pb2\n",
    "from ansys.speos.core import Speos\n",
    "from ansys.speos.core.kernel import SensorTemplateLink\n",
    "from ansys.speos.core.kernel.scene import ProtoScene\n",
    "from ansys.speos.core.kernel.sensor_template import ProtoSensorTemplate\n",
    "\n",
    "# If using docker container\n",
    "tests_data_path = os.path.join(\"/app\", \"assets\")\n",
    "# If using local server\n",
    "# tests_data_path = os.path.join(os.path.abspath(\"\"), os.path.pardir, os.path.pardir, \"tests\", \"assets\")"
   ]
  },
  {
   "cell_type": "markdown",
   "id": "4e300082",
   "metadata": {},
   "source": [
    "Create connection with speos rpc server"
   ]
  },
  {
   "cell_type": "code",
   "execution_count": 2,
   "id": "27ec367d",
   "metadata": {
    "execution": {
     "iopub.execute_input": "2025-02-25T09:34:26.274782Z",
     "iopub.status.busy": "2025-02-25T09:34:26.273589Z",
     "iopub.status.idle": "2025-02-25T09:34:26.289082Z",
     "shell.execute_reply": "2025-02-25T09:34:26.287926Z"
    }
   },
   "outputs": [],
   "source": [
    "speos = Speos(host=\"localhost\", port=50098)"
   ]
  },
  {
   "cell_type": "markdown",
   "id": "44c3c3a6",
   "metadata": {},
   "source": [
    "Create an empty scene and load speos file to fill it."
   ]
  },
  {
   "cell_type": "code",
   "execution_count": 3,
   "id": "2419ac8b",
   "metadata": {
    "execution": {
     "iopub.execute_input": "2025-02-25T09:34:26.293472Z",
     "iopub.status.busy": "2025-02-25T09:34:26.292651Z",
     "iopub.status.idle": "2025-02-25T09:34:26.315904Z",
     "shell.execute_reply": "2025-02-25T09:34:26.315010Z"
    }
   },
   "outputs": [],
   "source": [
    "my_scene = speos.client.scenes().create()\n",
    "\n",
    "speos_file = os.path.join(\n",
    "    tests_data_path, \"Inverse_SeveralSensors.speos\", \"Inverse_SeveralSensors.speos\"\n",
    ")\n",
    "my_scene.load_file(file_uri=speos_file)"
   ]
  },
  {
   "cell_type": "markdown",
   "id": "9080a4b6",
   "metadata": {},
   "source": [
    "## Print data models"
   ]
  },
  {
   "cell_type": "markdown",
   "id": "270355ee",
   "metadata": {},
   "source": [
    "### Whole scene"
   ]
  },
  {
   "cell_type": "code",
   "execution_count": 4,
   "id": "2a386f90",
   "metadata": {
    "execution": {
     "iopub.execute_input": "2025-02-25T09:34:26.318928Z",
     "iopub.status.busy": "2025-02-25T09:34:26.318405Z",
     "iopub.status.idle": "2025-02-25T09:34:26.325355Z",
     "shell.execute_reply": "2025-02-25T09:34:26.324891Z"
    }
   },
   "outputs": [
    {
     "name": "stdout",
     "output_type": "stream",
     "text": [
      "ansys.api.speos.scene.v2.Scene\n",
      "{\n",
      "    \"name\": \"Inverse_SeveralSensors\",\n",
      "    \"description\": \"From /app/assets/Inverse_SeveralSensors.speos/Inverse_SeveralSensors.speos\",\n",
      "    \"part_guid\": \"c6c064c2-6f55-4bb0-b01e-1cfe502849ca\",\n",
      "    \"sources\": [\n",
      "        {\n",
      "            \"name\": \"Surface.1:1\",\n",
      "            \"source_guid\": \"4eb887f5-8220-4d6a-b3f0-ab683194ad68\",\n",
      "            \"surface_properties\": {\n",
      "                \"exitance_constant_properties\": {\n",
      "                    \"geo_paths\": [\n",
      "                        {\n",
      "                            \"geo_path\": \"Corps:2408912477/face.1:3892963602\",\n",
      "                            \"reverse_normal\": false\n",
      "                        }\n",
      "                    ]\n",
      "                }\n",
      "            },\n",
      "            \"description\": \"\",\n",
      "            \"metadata\": {}\n",
      "        },\n",
      "        {\n",
      "            \"name\": \"Surface.2:1\",\n",
      "            \"source_guid\": \"6f176250-e822-4a59-ac68-fa54b2fc0b21\",\n",
      "            \"surface_properties\": {\n",
      "                \"exitance_constant_properties\": {\n",
      "                    \"geo_paths\": [\n",
      "                        {\n",
      "                            \"geo_path\": \"Corps:1976534910/face.1:889032133\",\n",
      "                            \"reverse_normal\": false\n",
      "                        }\n",
      "                    ]\n",
      "                }\n",
      "            },\n",
      "            \"description\": \"\",\n",
      "            \"metadata\": {}\n",
      "        }\n",
      "    ],\n",
      "    \"sensors\": [\n",
      "        {\n",
      "            \"name\": \"Camera.1:21\",\n",
      "            \"sensor_guid\": \"f67cc3f2-dc66-4479-bd71-b632a8cd4ddc\",\n",
      "            \"result_file_name\": \"Inverse.1.Camera.1\",\n",
      "            \"camera_properties\": {\n",
      "                \"axis_system\": [\n",
      "                    17.0,\n",
      "                    10.050000000000002,\n",
      "                    14.499999999999998,\n",
      "                    -0.0,\n",
      "                    -0.0,\n",
      "                    -1.0,\n",
      "                    0.0,\n",
      "                    1.0,\n",
      "                    0.0,\n",
      "                    1.0,\n",
      "                    0.0,\n",
      "                    0.0\n",
      "                ],\n",
      "                \"layer_type_source\": {},\n",
      "                \"trajectory_file_uri\": \"\"\n",
      "            },\n",
      "            \"description\": \"\",\n",
      "            \"metadata\": {}\n",
      "        },\n",
      "        {\n",
      "            \"name\": \"Irradiance.1:28\",\n",
      "            \"sensor_guid\": \"f5aa44e8-e21a-4ac8-b00b-5e24b6b4bd66\",\n",
      "            \"result_file_name\": \"Inverse.1.Irradiance.1\",\n",
      "            \"irradiance_properties\": {\n",
      "                \"axis_system\": [\n",
      "                    0.0,\n",
      "                    0.0,\n",
      "                    0.0,\n",
      "                    0.0,\n",
      "                    0.0,\n",
      "                    1.0,\n",
      "                    0.0,\n",
      "                    1.0,\n",
      "                    -0.0,\n",
      "                    -1.0,\n",
      "                    0.0,\n",
      "                    0.0\n",
      "                ],\n",
      "                \"layer_type_sequence\": {\n",
      "                    \"maximum_nb_of_sequence\": 10,\n",
      "                    \"define_sequence_per\": \"Faces\"\n",
      "                },\n",
      "                \"ray_file_type\": \"RayFileNone\",\n",
      "                \"integration_direction\": []\n",
      "            },\n",
      "            \"description\": \"\",\n",
      "            \"metadata\": {}\n",
      "        }\n",
      "    ],\n",
      "    \"simulations\": [\n",
      "        {\n",
      "            \"name\": \"Inverse.1\",\n",
      "            \"simulation_guid\": \"2dc674cc-50c5-4431-a3a7-d929c600e069\",\n",
      "            \"sensor_paths\": [\n",
      "                \"Camera.1:21\",\n",
      "                \"Irradiance.1:28\"\n",
      "            ],\n",
      "            \"source_paths\": [\n",
      "                \"Surface.1:1\",\n",
      "                \"Surface.2:1\"\n",
      "            ],\n",
      "            \"description\": \"\",\n",
      "            \"metadata\": {}\n",
      "        }\n",
      "    ],\n",
      "    \"materials\": [\n",
      "        {\n",
      "            \"name\": \"Material.1\",\n",
      "            \"vop_guid\": \"b1cabbc7-ad24-4ee7-8ebb-37cae5e42c2f\",\n",
      "            \"sop_guids\": [\n",
      "                \"88e2c0b1-c6c3-45f6-aa64-938464d6f9d9\"\n",
      "            ],\n",
      "            \"geometries\": {\n",
      "                \"geo_paths\": [\n",
      "                    \"Corps:2408912477\",\n",
      "                    \"Corps:1976534910\"\n",
      "                ]\n",
      "            },\n",
      "            \"description\": \"\",\n",
      "            \"metadata\": {}\n",
      "        },\n",
      "        {\n",
      "            \"name\": \"Material.2\",\n",
      "            \"vop_guid\": \"97bca881-ff64-4169-a101-d513586fe589\",\n",
      "            \"description\": \"\",\n",
      "            \"metadata\": {},\n",
      "            \"sop_guids\": []\n",
      "        }\n",
      "    ],\n",
      "    \"metadata\": {},\n",
      "    \"scenes\": []\n",
      "}\n"
     ]
    }
   ],
   "source": [
    "print(my_scene)"
   ]
  },
  {
   "cell_type": "markdown",
   "id": "1fcb499c",
   "metadata": {},
   "source": [
    "### Sensors (instance + template) in this scene"
   ]
  },
  {
   "cell_type": "code",
   "execution_count": 5,
   "id": "341368fb",
   "metadata": {
    "execution": {
     "iopub.execute_input": "2025-02-25T09:34:26.327594Z",
     "iopub.status.busy": "2025-02-25T09:34:26.327386Z",
     "iopub.status.idle": "2025-02-25T09:34:26.338329Z",
     "shell.execute_reply": "2025-02-25T09:34:26.337859Z"
    }
   },
   "outputs": [
    {
     "name": "stdout",
     "output_type": "stream",
     "text": [
      "ansys.api.speos.scene.v2.Scene.SensorInstance\n",
      "{\n",
      "    \"name\": \"Camera.1:21\",\n",
      "    \"sensor_guid\": \"f67cc3f2-dc66-4479-bd71-b632a8cd4ddc\",\n",
      "    \"result_file_name\": \"Inverse.1.Camera.1\",\n",
      "    \"camera_properties\": {\n",
      "        \"axis_system\": [\n",
      "            17.0,\n",
      "            10.050000000000002,\n",
      "            14.499999999999998,\n",
      "            -0.0,\n",
      "            -0.0,\n",
      "            -1.0,\n",
      "            0.0,\n",
      "            1.0,\n",
      "            0.0,\n",
      "            1.0,\n",
      "            0.0,\n",
      "            0.0\n",
      "        ],\n",
      "        \"layer_type_source\": {},\n",
      "        \"trajectory_file_uri\": \"\"\n",
      "    },\n",
      "    \"description\": \"\",\n",
      "    \"metadata\": {}\n",
      "}\n",
      "ansys.api.speos.sensor.v1.SensorTemplate\n",
      "{\n",
      "    \"camera_sensor_template\": {\n",
      "        \"sensor_mode_photometric\": {\n",
      "            \"transmittance_file_uri\": \"/app/assets/Inverse_SeveralSensors.speos/CameraTransmittance_7906-9f99-c97d-838a..spectrum\",\n",
      "            \"gamma_correction\": 2.2,\n",
      "            \"color_mode_color\": {\n",
      "                \"red_spectrum_file_uri\": \"/app/assets/Inverse_SeveralSensors.speos/CameraSensitivityRed_adf4-0b27-cefc-fa35..spectrum\",\n",
      "                \"green_spectrum_file_uri\": \"/app/assets/Inverse_SeveralSensors.speos/CameraSensitivityGreen_7c86-e7df-6de8-cb15..spectrum\",\n",
      "                \"blue_spectrum_file_uri\": \"/app/assets/Inverse_SeveralSensors.speos/CameraSensitivityBlue_8072-c4fe-d903-ca3f..spectrum\",\n",
      "                \"balance_mode_none\": {}\n",
      "            },\n",
      "            \"wavelengths_range\": {\n",
      "                \"w_start\": 400.0,\n",
      "                \"w_end\": 700.0,\n",
      "                \"w_sampling\": 13\n",
      "            },\n",
      "            \"acquisition_integration\": 0.0,\n",
      "            \"acquisition_lag_time\": 0.0,\n",
      "            \"png_bits\": \"PNG_08\"\n",
      "        },\n",
      "        \"focal_length\": 4.0,\n",
      "        \"imager_distance\": 10.0,\n",
      "        \"f_number\": 30.0,\n",
      "        \"distorsion_file_uri\": \"/app/assets/Inverse_SeveralSensors.speos/CameraDistortion.OPTDistortion\",\n",
      "        \"horz_pixel\": 640,\n",
      "        \"vert_pixel\": 480,\n",
      "        \"width\": 5.0,\n",
      "        \"height\": 5.0,\n",
      "        \"distortion_file_uri\": \"/app/assets/Inverse_SeveralSensors.speos/CameraDistortion.OPTDistortion\"\n",
      "    },\n",
      "    \"name\": \"Camera.1:21\",\n",
      "    \"description\": \"\",\n",
      "    \"metadata\": {}\n",
      "}\n",
      "\n",
      "\n",
      "ansys.api.speos.scene.v2.Scene.SensorInstance\n",
      "{\n",
      "    \"name\": \"Irradiance.1:28\",\n",
      "    \"sensor_guid\": \"f5aa44e8-e21a-4ac8-b00b-5e24b6b4bd66\",\n",
      "    \"result_file_name\": \"Inverse.1.Irradiance.1\",\n",
      "    \"irradiance_properties\": {\n",
      "        \"axis_system\": [\n",
      "            0.0,\n",
      "            0.0,\n",
      "            0.0,\n",
      "            0.0,\n",
      "            0.0,\n",
      "            1.0,\n",
      "            0.0,\n",
      "            1.0,\n",
      "            -0.0,\n",
      "            -1.0,\n",
      "            0.0,\n",
      "            0.0\n",
      "        ],\n",
      "        \"layer_type_sequence\": {\n",
      "            \"maximum_nb_of_sequence\": 10,\n",
      "            \"define_sequence_per\": \"Faces\"\n",
      "        },\n",
      "        \"ray_file_type\": \"RayFileNone\",\n",
      "        \"integration_direction\": []\n",
      "    },\n",
      "    \"description\": \"\",\n",
      "    \"metadata\": {}\n",
      "}\n",
      "ansys.api.speos.sensor.v1.SensorTemplate\n",
      "{\n",
      "    \"irradiance_sensor_template\": {\n",
      "        \"sensor_type_colorimetric\": {\n",
      "            \"wavelengths_range\": {\n",
      "                \"w_start\": 400.0,\n",
      "                \"w_end\": 700.0,\n",
      "                \"w_sampling\": 13\n",
      "            }\n",
      "        },\n",
      "        \"illuminance_type_planar\": {},\n",
      "        \"dimensions\": {\n",
      "            \"x_start\": -50.0,\n",
      "            \"x_end\": 50.0,\n",
      "            \"x_sampling\": 100,\n",
      "            \"y_start\": -50.0,\n",
      "            \"y_end\": 50.0,\n",
      "            \"y_sampling\": 100\n",
      "        }\n",
      "    },\n",
      "    \"name\": \"Irradiance.1:28\",\n",
      "    \"description\": \"\",\n",
      "    \"metadata\": {}\n",
      "}\n",
      "\n",
      "\n"
     ]
    }
   ],
   "source": [
    "for sensor_i in my_scene.get().sensors:\n",
    "    print(sensor_i)  # Print instance data model\n",
    "    print(speos.client[sensor_i.sensor_guid])  # Print template data model\n",
    "    print(\"\\n\")"
   ]
  },
  {
   "cell_type": "markdown",
   "id": "b2bd7c5e",
   "metadata": {},
   "source": [
    "### Camera sensors in this scene"
   ]
  },
  {
   "cell_type": "code",
   "execution_count": 6,
   "id": "f22e1ef6",
   "metadata": {
    "execution": {
     "iopub.execute_input": "2025-02-25T09:34:26.340490Z",
     "iopub.status.busy": "2025-02-25T09:34:26.340271Z",
     "iopub.status.idle": "2025-02-25T09:34:26.348504Z",
     "shell.execute_reply": "2025-02-25T09:34:26.347791Z"
    }
   },
   "outputs": [
    {
     "name": "stdout",
     "output_type": "stream",
     "text": [
      "ansys.api.speos.scene.v2.Scene.SensorInstance\n",
      "{\n",
      "    \"name\": \"Camera.1:21\",\n",
      "    \"sensor_guid\": \"f67cc3f2-dc66-4479-bd71-b632a8cd4ddc\",\n",
      "    \"result_file_name\": \"Inverse.1.Camera.1\",\n",
      "    \"camera_properties\": {\n",
      "        \"axis_system\": [\n",
      "            17.0,\n",
      "            10.050000000000002,\n",
      "            14.499999999999998,\n",
      "            -0.0,\n",
      "            -0.0,\n",
      "            -1.0,\n",
      "            0.0,\n",
      "            1.0,\n",
      "            0.0,\n",
      "            1.0,\n",
      "            0.0,\n",
      "            0.0\n",
      "        ],\n",
      "        \"layer_type_source\": {},\n",
      "        \"trajectory_file_uri\": \"\"\n",
      "    },\n",
      "    \"description\": \"\",\n",
      "    \"metadata\": {}\n",
      "}\n",
      "ansys.api.speos.sensor.v1.SensorTemplate\n",
      "{\n",
      "    \"camera_sensor_template\": {\n",
      "        \"sensor_mode_photometric\": {\n",
      "            \"transmittance_file_uri\": \"/app/assets/Inverse_SeveralSensors.speos/CameraTransmittance_7906-9f99-c97d-838a..spectrum\",\n",
      "            \"gamma_correction\": 2.2,\n",
      "            \"color_mode_color\": {\n",
      "                \"red_spectrum_file_uri\": \"/app/assets/Inverse_SeveralSensors.speos/CameraSensitivityRed_adf4-0b27-cefc-fa35..spectrum\",\n",
      "                \"green_spectrum_file_uri\": \"/app/assets/Inverse_SeveralSensors.speos/CameraSensitivityGreen_7c86-e7df-6de8-cb15..spectrum\",\n",
      "                \"blue_spectrum_file_uri\": \"/app/assets/Inverse_SeveralSensors.speos/CameraSensitivityBlue_8072-c4fe-d903-ca3f..spectrum\",\n",
      "                \"balance_mode_none\": {}\n",
      "            },\n",
      "            \"wavelengths_range\": {\n",
      "                \"w_start\": 400.0,\n",
      "                \"w_end\": 700.0,\n",
      "                \"w_sampling\": 13\n",
      "            },\n",
      "            \"acquisition_integration\": 0.0,\n",
      "            \"acquisition_lag_time\": 0.0,\n",
      "            \"png_bits\": \"PNG_08\"\n",
      "        },\n",
      "        \"focal_length\": 4.0,\n",
      "        \"imager_distance\": 10.0,\n",
      "        \"f_number\": 30.0,\n",
      "        \"distorsion_file_uri\": \"/app/assets/Inverse_SeveralSensors.speos/CameraDistortion.OPTDistortion\",\n",
      "        \"horz_pixel\": 640,\n",
      "        \"vert_pixel\": 480,\n",
      "        \"width\": 5.0,\n",
      "        \"height\": 5.0,\n",
      "        \"distortion_file_uri\": \"/app/assets/Inverse_SeveralSensors.speos/CameraDistortion.OPTDistortion\"\n",
      "    },\n",
      "    \"name\": \"Camera.1:21\",\n",
      "    \"description\": \"\",\n",
      "    \"metadata\": {}\n",
      "}\n",
      "\n",
      "\n"
     ]
    }
   ],
   "source": [
    "for sensor_i in my_scene.get().sensors:\n",
    "    if sensor_i.HasField(\"camera_properties\"):\n",
    "        print(sensor_i)  # Print instance data model\n",
    "        print(speos.client[sensor_i.sensor_guid])  # Print template data model\n",
    "        print(\"\\n\")"
   ]
  },
  {
   "cell_type": "markdown",
   "id": "dbdd208f",
   "metadata": {},
   "source": [
    "## Modify existing data"
   ]
  },
  {
   "cell_type": "markdown",
   "id": "37d69cc7",
   "metadata": {},
   "source": [
    "### Modify a camera instance"
   ]
  },
  {
   "cell_type": "code",
   "execution_count": 7,
   "id": "72707fed",
   "metadata": {
    "execution": {
     "iopub.execute_input": "2025-02-25T09:34:26.350708Z",
     "iopub.status.busy": "2025-02-25T09:34:26.350511Z",
     "iopub.status.idle": "2025-02-25T09:34:26.388654Z",
     "shell.execute_reply": "2025-02-25T09:34:26.387828Z"
    }
   },
   "outputs": [
    {
     "name": "stdout",
     "output_type": "stream",
     "text": [
      "ansys.api.speos.scene.v2.Scene.SensorInstance\n",
      "{\n",
      "    \"name\": \"Camera.1:21\",\n",
      "    \"sensor_guid\": \"f67cc3f2-dc66-4479-bd71-b632a8cd4ddc\",\n",
      "    \"result_file_name\": \"Inverse.1.Camera.1\",\n",
      "    \"camera_properties\": {\n",
      "        \"axis_system\": [\n",
      "            17.0,\n",
      "            10.0,\n",
      "            15.0,\n",
      "            0.0,\n",
      "            0.0,\n",
      "            -1.0,\n",
      "            0.0,\n",
      "            1.0,\n",
      "            0.0,\n",
      "            1.0,\n",
      "            0.0,\n",
      "            0.0\n",
      "        ],\n",
      "        \"layer_type_none\": {},\n",
      "        \"trajectory_file_uri\": \"\"\n",
      "    },\n",
      "    \"description\": \"\",\n",
      "    \"metadata\": {}\n",
      "}\n"
     ]
    }
   ],
   "source": [
    "my_scene_data = my_scene.get()  # get() = retrieve datamodel corresponding to my_scene\n",
    "camera_i_0 = my_scene_data.sensors[\n",
    "    0\n",
    "]  # retrieve the specific part of the message corresponding to the first sensor\n",
    "assert camera_i_0.HasField(\"camera_properties\")  # verify that it is a camera\n",
    "\n",
    "# Modification on protobuf message : axis system + layer type\n",
    "camera_i_0.camera_properties.ClearField(\"axis_system\")\n",
    "camera_i_0.camera_properties.axis_system.extend(\n",
    "    [17.0, 10.0, 15.0] + [0.0, 0.0, -1.0] + [0.0, 1.0, 0.0] + [1.0, 0.0, 0.0]\n",
    ")  # Origin + Xvector + Yvector + Zvector\n",
    "camera_i_0.camera_properties.layer_type_none.SetInParent()\n",
    "\n",
    "# Until now, we only modified the data locally. We need to push the changes to the server:\n",
    "my_scene.set(my_scene_data)  # set = Update using modified datamodel\n",
    "\n",
    "print(my_scene.get().sensors[0])  # Do another get() to check new value on database"
   ]
  },
  {
   "cell_type": "markdown",
   "id": "8c718515",
   "metadata": {},
   "source": [
    "### Modify a camera template"
   ]
  },
  {
   "cell_type": "code",
   "execution_count": 8,
   "id": "578963b3",
   "metadata": {
    "execution": {
     "iopub.execute_input": "2025-02-25T09:34:26.391030Z",
     "iopub.status.busy": "2025-02-25T09:34:26.390779Z",
     "iopub.status.idle": "2025-02-25T09:34:26.400842Z",
     "shell.execute_reply": "2025-02-25T09:34:26.400096Z"
    }
   },
   "outputs": [
    {
     "name": "stdout",
     "output_type": "stream",
     "text": [
      "ansys.api.speos.sensor.v1.SensorTemplate\n",
      "{\n",
      "    \"camera_sensor_template\": {\n",
      "        \"sensor_mode_photometric\": {\n",
      "            \"transmittance_file_uri\": \"/app/assets/Inverse_SeveralSensors.speos/CameraTransmittance_7906-9f99-c97d-838a..spectrum\",\n",
      "            \"gamma_correction\": 2.2,\n",
      "            \"color_mode_color\": {\n",
      "                \"red_spectrum_file_uri\": \"/app/assets/Inverse_SeveralSensors.speos/CameraSensitivityRed_adf4-0b27-cefc-fa35..spectrum\",\n",
      "                \"green_spectrum_file_uri\": \"/app/assets/Inverse_SeveralSensors.speos/CameraSensitivityGreen_7c86-e7df-6de8-cb15..spectrum\",\n",
      "                \"blue_spectrum_file_uri\": \"/app/assets/Inverse_SeveralSensors.speos/CameraSensitivityBlue_8072-c4fe-d903-ca3f..spectrum\",\n",
      "                \"balance_mode_none\": {}\n",
      "            },\n",
      "            \"wavelengths_range\": {\n",
      "                \"w_start\": 400.0,\n",
      "                \"w_end\": 700.0,\n",
      "                \"w_sampling\": 13\n",
      "            },\n",
      "            \"acquisition_integration\": 0.0,\n",
      "            \"acquisition_lag_time\": 0.0,\n",
      "            \"png_bits\": \"PNG_08\"\n",
      "        },\n",
      "        \"focal_length\": 4.5,\n",
      "        \"imager_distance\": 10.0,\n",
      "        \"f_number\": 30.0,\n",
      "        \"distorsion_file_uri\": \"/app/assets/Inverse_SeveralSensors.speos/CameraDistortion.OPTDistortion\",\n",
      "        \"horz_pixel\": 640,\n",
      "        \"vert_pixel\": 480,\n",
      "        \"width\": 5.0,\n",
      "        \"height\": 5.0,\n",
      "        \"distortion_file_uri\": \"/app/assets/CameraInputFiles/CameraDistortion_150deg.OPTDistortion\"\n",
      "    },\n",
      "    \"name\": \"Camera.1:21\",\n",
      "    \"description\": \"\",\n",
      "    \"metadata\": {}\n",
      "}\n"
     ]
    }
   ],
   "source": [
    "new_distortion_file = os.path.join(\n",
    "    tests_data_path, os.path.join(\"CameraInputFiles\", \"CameraDistortion_150deg.OPTDistortion\")\n",
    ")\n",
    "\n",
    "# Retrieve SensorTemplateLink corresponding to camera_i_0.sensor_guid\n",
    "camera_t_0 = speos.client[camera_i_0.sensor_guid]\n",
    "\n",
    "# get() = retrieve datamodel corresponding to camera_t_0 from database\n",
    "camera_t_0_data = camera_t_0.get()\n",
    "\n",
    "# Modification on protobuf message : distortion_file_uri + focal_length\n",
    "assert camera_t_0_data.HasField(\"camera_sensor_template\")\n",
    "camera_t_0_data.camera_sensor_template.distortion_file_uri = new_distortion_file\n",
    "camera_t_0_data.camera_sensor_template.focal_length = 4.5\n",
    "\n",
    "# set = Update using modified datamodel (push modified data to the server)\n",
    "camera_t_0.set(camera_t_0_data)\n",
    "\n",
    "print(camera_t_0)  # Print ObjectLink to see its datamodel in database"
   ]
  },
  {
   "cell_type": "markdown",
   "id": "2f151216",
   "metadata": {},
   "source": [
    "## Add new data (like a new sensor)"
   ]
  },
  {
   "cell_type": "markdown",
   "id": "7c2bd747",
   "metadata": {},
   "source": [
    "### Create a camera template"
   ]
  },
  {
   "cell_type": "code",
   "execution_count": 9,
   "id": "505ddcf1",
   "metadata": {
    "execution": {
     "iopub.execute_input": "2025-02-25T09:34:26.403178Z",
     "iopub.status.busy": "2025-02-25T09:34:26.402954Z",
     "iopub.status.idle": "2025-02-25T09:34:26.412831Z",
     "shell.execute_reply": "2025-02-25T09:34:26.412115Z"
    }
   },
   "outputs": [
    {
     "name": "stdout",
     "output_type": "stream",
     "text": [
      "ansys.api.speos.sensor.v1.SensorTemplate\n",
      "{\n",
      "    \"camera_sensor_template\": {\n",
      "        \"sensor_mode_photometric\": {\n",
      "            \"acquisition_integration\": 0.01,\n",
      "            \"transmittance_file_uri\": \"/app/assets/CameraInputFiles/CameraTransmittance.spectrum\",\n",
      "            \"gamma_correction\": 2.2,\n",
      "            \"png_bits\": \"PNG_16\",\n",
      "            \"color_mode_color\": {\n",
      "                \"red_spectrum_file_uri\": \"/app/assets/CameraInputFiles/CameraSensitivityRed.spectrum\",\n",
      "                \"green_spectrum_file_uri\": \"/app/assets/CameraInputFiles/CameraSensitivityGreen.spectrum\",\n",
      "                \"blue_spectrum_file_uri\": \"/app/assets/CameraInputFiles/CameraSensitivityBlue.spectrum\",\n",
      "                \"balance_mode_none\": {}\n",
      "            },\n",
      "            \"wavelengths_range\": {\n",
      "                \"w_start\": 400.0,\n",
      "                \"w_end\": 700.0,\n",
      "                \"w_sampling\": 13\n",
      "            },\n",
      "            \"acquisition_lag_time\": 0.0\n",
      "        },\n",
      "        \"focal_length\": 5.0,\n",
      "        \"imager_distance\": 10.0,\n",
      "        \"f_number\": 20.0,\n",
      "        \"horz_pixel\": 640,\n",
      "        \"vert_pixel\": 480,\n",
      "        \"width\": 5.0,\n",
      "        \"height\": 5.0,\n",
      "        \"distortion_file_uri\": \"/app/assets/CameraInputFiles/CameraDistortion_130deg.OPTDistortion\",\n",
      "        \"distorsion_file_uri\": \"\"\n",
      "    },\n",
      "    \"name\": \"CameraFromScratch\",\n",
      "    \"description\": \"\",\n",
      "    \"metadata\": {}\n",
      "}\n"
     ]
    }
   ],
   "source": [
    "sensor_t_db = speos.client.sensor_templates()  # Retrieve access to sensor templates db\n",
    "\n",
    "# Create protobuf message SensorTemplate\n",
    "sensor_t_data = ProtoSensorTemplate(name=\"CameraFromScratch\")\n",
    "sensor_t_data.camera_sensor_template.sensor_mode_photometric.acquisition_integration = 0.01\n",
    "sensor_t_data.camera_sensor_template.sensor_mode_photometric.acquisition_lag_time = 0\n",
    "sensor_t_data.camera_sensor_template.sensor_mode_photometric.transmittance_file_uri = os.path.join(\n",
    "    tests_data_path, os.path.join(\"CameraInputFiles\", \"CameraTransmittance.spectrum\")\n",
    ")\n",
    "sensor_t_data.camera_sensor_template.sensor_mode_photometric.gamma_correction = 2.2\n",
    "sensor_t_data.camera_sensor_template.sensor_mode_photometric.png_bits = (\n",
    "    camera_sensor_pb2.EnumSensorCameraPNGBits.PNG_16\n",
    ")\n",
    "sensor_t_data.camera_sensor_template.sensor_mode_photometric.color_mode_color.red_spectrum_file_uri = os.path.join(\n",
    "    tests_data_path, os.path.join(\"CameraInputFiles\", \"CameraSensitivityRed.spectrum\")\n",
    ")\n",
    "sensor_t_data.camera_sensor_template.sensor_mode_photometric.color_mode_color.green_spectrum_file_uri = os.path.join(\n",
    "    tests_data_path, os.path.join(\"CameraInputFiles\", \"CameraSensitivityGreen.spectrum\")\n",
    ")\n",
    "sensor_t_data.camera_sensor_template.sensor_mode_photometric.color_mode_color.blue_spectrum_file_uri = os.path.join(\n",
    "    tests_data_path, os.path.join(\"CameraInputFiles\", \"CameraSensitivityBlue.spectrum\")\n",
    ")\n",
    "sensor_t_data.camera_sensor_template.sensor_mode_photometric.color_mode_color.balance_mode_none.SetInParent()\n",
    "sensor_t_data.camera_sensor_template.sensor_mode_photometric.wavelengths_range.w_start = 400\n",
    "sensor_t_data.camera_sensor_template.sensor_mode_photometric.wavelengths_range.w_end = 700\n",
    "sensor_t_data.camera_sensor_template.sensor_mode_photometric.wavelengths_range.w_sampling = 13\n",
    "sensor_t_data.camera_sensor_template.focal_length = 5\n",
    "sensor_t_data.camera_sensor_template.imager_distance = 10\n",
    "sensor_t_data.camera_sensor_template.f_number = 20\n",
    "sensor_t_data.camera_sensor_template.distortion_file_uri = os.path.join(\n",
    "    tests_data_path, os.path.join(\"CameraInputFiles\", \"CameraDistortion_130deg.OPTDistortion\")\n",
    ")\n",
    "sensor_t_data.camera_sensor_template.horz_pixel = 640\n",
    "sensor_t_data.camera_sensor_template.vert_pixel = 480\n",
    "sensor_t_data.camera_sensor_template.width = 5\n",
    "sensor_t_data.camera_sensor_template.height = 5\n",
    "\n",
    "# Store it in db and retrieve SensorTemplateLink\n",
    "sensor_t_new = sensor_t_db.create(message=sensor_t_data)\n",
    "print(sensor_t_new)"
   ]
  },
  {
   "cell_type": "markdown",
   "id": "11022ae7",
   "metadata": {},
   "source": [
    "### Create a camera instance"
   ]
  },
  {
   "cell_type": "code",
   "execution_count": 10,
   "id": "a0b04460",
   "metadata": {
    "execution": {
     "iopub.execute_input": "2025-02-25T09:34:26.415135Z",
     "iopub.status.busy": "2025-02-25T09:34:26.414902Z",
     "iopub.status.idle": "2025-02-25T09:34:26.419574Z",
     "shell.execute_reply": "2025-02-25T09:34:26.418878Z"
    }
   },
   "outputs": [],
   "source": [
    "camera_i_2 = ProtoScene.SensorInstance(name=sensor_t_new.get().name + \".1\")\n",
    "camera_i_2.sensor_guid = sensor_t_new.key  # An instance has to reference a template - here we use the SensorTemplateLink's key that we got just above.\n",
    "camera_i_2.camera_properties.axis_system.extend(\n",
    "    [50, 50, 50, 1, 0, 0, 0, 1, 0, 0, 0, 1]\n",
    ")  # Choose axis system\n",
    "camera_i_2.camera_properties.layer_type_source.SetInParent()  # choose separation by source"
   ]
  },
  {
   "cell_type": "markdown",
   "id": "8dff8d09",
   "metadata": {},
   "source": [
    "### Add this instance in our scene"
   ]
  },
  {
   "cell_type": "code",
   "execution_count": 11,
   "id": "453673e5",
   "metadata": {
    "execution": {
     "iopub.execute_input": "2025-02-25T09:34:26.421777Z",
     "iopub.status.busy": "2025-02-25T09:34:26.421561Z",
     "iopub.status.idle": "2025-02-25T09:34:26.461628Z",
     "shell.execute_reply": "2025-02-25T09:34:26.460852Z"
    }
   },
   "outputs": [
    {
     "name": "stdout",
     "output_type": "stream",
     "text": [
      "ansys.api.speos.scene.v2.Scene\n",
      "{\n",
      "    \"name\": \"Inverse_SeveralSensors\",\n",
      "    \"description\": \"From /app/assets/Inverse_SeveralSensors.speos/Inverse_SeveralSensors.speos\",\n",
      "    \"part_guid\": \"c6c064c2-6f55-4bb0-b01e-1cfe502849ca\",\n",
      "    \"sources\": [\n",
      "        {\n",
      "            \"name\": \"Surface.1:1\",\n",
      "            \"source_guid\": \"4eb887f5-8220-4d6a-b3f0-ab683194ad68\",\n",
      "            \"surface_properties\": {\n",
      "                \"exitance_constant_properties\": {\n",
      "                    \"geo_paths\": [\n",
      "                        {\n",
      "                            \"geo_path\": \"Corps:2408912477/face.1:3892963602\",\n",
      "                            \"reverse_normal\": false\n",
      "                        }\n",
      "                    ]\n",
      "                }\n",
      "            },\n",
      "            \"description\": \"\",\n",
      "            \"metadata\": {}\n",
      "        },\n",
      "        {\n",
      "            \"name\": \"Surface.2:1\",\n",
      "            \"source_guid\": \"6f176250-e822-4a59-ac68-fa54b2fc0b21\",\n",
      "            \"surface_properties\": {\n",
      "                \"exitance_constant_properties\": {\n",
      "                    \"geo_paths\": [\n",
      "                        {\n",
      "                            \"geo_path\": \"Corps:1976534910/face.1:889032133\",\n",
      "                            \"reverse_normal\": false\n",
      "                        }\n",
      "                    ]\n",
      "                }\n",
      "            },\n",
      "            \"description\": \"\",\n",
      "            \"metadata\": {}\n",
      "        }\n",
      "    ],\n",
      "    \"sensors\": [\n",
      "        {\n",
      "            \"name\": \"Camera.1:21\",\n",
      "            \"sensor_guid\": \"f67cc3f2-dc66-4479-bd71-b632a8cd4ddc\",\n",
      "            \"result_file_name\": \"Inverse.1.Camera.1\",\n",
      "            \"camera_properties\": {\n",
      "                \"axis_system\": [\n",
      "                    17.0,\n",
      "                    10.0,\n",
      "                    15.0,\n",
      "                    0.0,\n",
      "                    0.0,\n",
      "                    -1.0,\n",
      "                    0.0,\n",
      "                    1.0,\n",
      "                    0.0,\n",
      "                    1.0,\n",
      "                    0.0,\n",
      "                    0.0\n",
      "                ],\n",
      "                \"layer_type_none\": {},\n",
      "                \"trajectory_file_uri\": \"\"\n",
      "            },\n",
      "            \"description\": \"\",\n",
      "            \"metadata\": {}\n",
      "        },\n",
      "        {\n",
      "            \"name\": \"Irradiance.1:28\",\n",
      "            \"sensor_guid\": \"f5aa44e8-e21a-4ac8-b00b-5e24b6b4bd66\",\n",
      "            \"result_file_name\": \"Inverse.1.Irradiance.1\",\n",
      "            \"irradiance_properties\": {\n",
      "                \"axis_system\": [\n",
      "                    0.0,\n",
      "                    0.0,\n",
      "                    0.0,\n",
      "                    0.0,\n",
      "                    0.0,\n",
      "                    1.0,\n",
      "                    0.0,\n",
      "                    1.0,\n",
      "                    -0.0,\n",
      "                    -1.0,\n",
      "                    0.0,\n",
      "                    0.0\n",
      "                ],\n",
      "                \"layer_type_sequence\": {\n",
      "                    \"maximum_nb_of_sequence\": 10,\n",
      "                    \"define_sequence_per\": \"Faces\"\n",
      "                },\n",
      "                \"ray_file_type\": \"RayFileNone\",\n",
      "                \"integration_direction\": []\n",
      "            },\n",
      "            \"description\": \"\",\n",
      "            \"metadata\": {}\n",
      "        },\n",
      "        {\n",
      "            \"name\": \"CameraFromScratch.1\",\n",
      "            \"sensor_guid\": \"642c4a9c-dcee-4cda-b31a-1117719ae6b9\",\n",
      "            \"camera_properties\": {\n",
      "                \"axis_system\": [\n",
      "                    50.0,\n",
      "                    50.0,\n",
      "                    50.0,\n",
      "                    1.0,\n",
      "                    0.0,\n",
      "                    0.0,\n",
      "                    0.0,\n",
      "                    1.0,\n",
      "                    0.0,\n",
      "                    0.0,\n",
      "                    0.0,\n",
      "                    1.0\n",
      "                ],\n",
      "                \"layer_type_source\": {},\n",
      "                \"trajectory_file_uri\": \"\"\n",
      "            },\n",
      "            \"description\": \"\",\n",
      "            \"metadata\": {},\n",
      "            \"result_file_name\": \"\"\n",
      "        }\n",
      "    ],\n",
      "    \"simulations\": [\n",
      "        {\n",
      "            \"name\": \"Inverse.1\",\n",
      "            \"simulation_guid\": \"2dc674cc-50c5-4431-a3a7-d929c600e069\",\n",
      "            \"sensor_paths\": [\n",
      "                \"Camera.1:21\",\n",
      "                \"Irradiance.1:28\",\n",
      "                \"CameraFromScratch.1\"\n",
      "            ],\n",
      "            \"source_paths\": [\n",
      "                \"Surface.1:1\",\n",
      "                \"Surface.2:1\"\n",
      "            ],\n",
      "            \"description\": \"\",\n",
      "            \"metadata\": {}\n",
      "        }\n",
      "    ],\n",
      "    \"materials\": [\n",
      "        {\n",
      "            \"name\": \"Material.1\",\n",
      "            \"vop_guid\": \"b1cabbc7-ad24-4ee7-8ebb-37cae5e42c2f\",\n",
      "            \"sop_guids\": [\n",
      "                \"88e2c0b1-c6c3-45f6-aa64-938464d6f9d9\"\n",
      "            ],\n",
      "            \"geometries\": {\n",
      "                \"geo_paths\": [\n",
      "                    \"Corps:2408912477\",\n",
      "                    \"Corps:1976534910\"\n",
      "                ]\n",
      "            },\n",
      "            \"description\": \"\",\n",
      "            \"metadata\": {}\n",
      "        },\n",
      "        {\n",
      "            \"name\": \"Material.2\",\n",
      "            \"vop_guid\": \"97bca881-ff64-4169-a101-d513586fe589\",\n",
      "            \"description\": \"\",\n",
      "            \"metadata\": {},\n",
      "            \"sop_guids\": []\n",
      "        }\n",
      "    ],\n",
      "    \"metadata\": {},\n",
      "    \"scenes\": []\n",
      "}\n"
     ]
    }
   ],
   "source": [
    "my_scene_data = my_scene.get()  # Retrieve scene datamodel\n",
    "\n",
    "# Modify scene datamodel to add our camera instance\n",
    "my_scene_data.sensors.append(camera_i_2)\n",
    "\n",
    "# We can also reference it in the first simulation, so that it will be taken into account by this simulation\n",
    "my_scene_data.simulations[0].sensor_paths.append(camera_i_2.name)  # We reference by name\n",
    "\n",
    "# Update value in db\n",
    "my_scene.set(my_scene_data)\n",
    "\n",
    "# Check scene data after update\n",
    "print(my_scene)"
   ]
  },
  {
   "cell_type": "markdown",
   "id": "63faf024",
   "metadata": {},
   "source": [
    "When loading a speos file into a scene, this creates many objects (source templates, sensor templates, vop template, sop templates).\n",
    "Then at the end of the example, we just clean all databases"
   ]
  },
  {
   "cell_type": "code",
   "execution_count": 12,
   "id": "6800ec66",
   "metadata": {
    "execution": {
     "iopub.execute_input": "2025-02-25T09:34:26.464033Z",
     "iopub.status.busy": "2025-02-25T09:34:26.463780Z",
     "iopub.status.idle": "2025-02-25T09:34:26.517215Z",
     "shell.execute_reply": "2025-02-25T09:34:26.516451Z"
    }
   },
   "outputs": [],
   "source": [
    "for item in (\n",
    "    speos.client.scenes().list()\n",
    "    + speos.client.simulation_templates().list()\n",
    "    + speos.client.sensor_templates().list()\n",
    "    + speos.client.source_templates().list()\n",
    "    + speos.client.intensity_templates().list()\n",
    "    + speos.client.spectrums().list()\n",
    "    + speos.client.vop_templates().list()\n",
    "    + speos.client.sop_templates().list()\n",
    "    + speos.client.parts().list()\n",
    "    + speos.client.bodies().list()\n",
    "    + speos.client.faces().list()\n",
    "):\n",
    "    item.delete()"
   ]
  }
 ],
 "metadata": {
  "jupytext": {
   "cell_metadata_filter": "-all",
   "main_language": "python",
   "notebook_metadata_filter": "-all",
   "text_representation": {
    "extension": ".py",
    "format_name": "light"
   }
  },
  "language_info": {
   "codemirror_mode": {
    "name": "ipython",
    "version": 3
   },
   "file_extension": ".py",
   "mimetype": "text/x-python",
   "name": "python",
   "nbconvert_exporter": "python",
   "pygments_lexer": "ipython3",
   "version": "3.10.16"
  }
 },
 "nbformat": 4,
 "nbformat_minor": 5
}
