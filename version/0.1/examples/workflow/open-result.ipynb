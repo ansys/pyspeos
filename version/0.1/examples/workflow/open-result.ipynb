{
 "cells": [
  {
   "cell_type": "markdown",
   "id": "71e8db4b",
   "metadata": {},
   "source": [
    "# How to open result (windows os)"
   ]
  },
  {
   "cell_type": "markdown",
   "id": "33ed75b3",
   "metadata": {},
   "source": [
    "This tutorial demonstrates how to open and review results using workflow method."
   ]
  },
  {
   "cell_type": "code",
   "execution_count": 1,
   "id": "38dc44ac",
   "metadata": {
    "execution": {
     "iopub.execute_input": "2025-02-25T09:36:17.565636Z",
     "iopub.status.busy": "2025-02-25T09:36:17.565320Z",
     "iopub.status.idle": "2025-02-25T09:36:18.384185Z",
     "shell.execute_reply": "2025-02-25T09:36:18.383127Z"
    }
   },
   "outputs": [],
   "source": [
    "import os\n",
    "\n",
    "from ansys.speos.core import Project, Speos\n",
    "from ansys.speos.core.simulation import SimulationDirect\n",
    "\n",
    "# If using docker container\n",
    "tests_data_path = os.path.join(\"/app\", \"assets\")\n",
    "# If using local server\n",
    "# tests_data_path = os.path.join(os.path.abspath(\"\"), os.path.pardir, os.path.pardir, os.path.pardir, \"tests\", \"assets\")"
   ]
  },
  {
   "cell_type": "markdown",
   "id": "62a7af4c",
   "metadata": {},
   "source": [
    "## Create connection with speos rpc server"
   ]
  },
  {
   "cell_type": "code",
   "execution_count": 2,
   "id": "fa2a4a16",
   "metadata": {
    "execution": {
     "iopub.execute_input": "2025-02-25T09:36:18.387974Z",
     "iopub.status.busy": "2025-02-25T09:36:18.387465Z",
     "iopub.status.idle": "2025-02-25T09:36:18.398425Z",
     "shell.execute_reply": "2025-02-25T09:36:18.397446Z"
    }
   },
   "outputs": [],
   "source": [
    "speos = Speos(host=\"localhost\", port=50098)"
   ]
  },
  {
   "cell_type": "markdown",
   "id": "d2315810",
   "metadata": {},
   "source": [
    "## Create project from speos file"
   ]
  },
  {
   "cell_type": "code",
   "execution_count": 3,
   "id": "27370db4",
   "metadata": {
    "execution": {
     "iopub.execute_input": "2025-02-25T09:36:18.402508Z",
     "iopub.status.busy": "2025-02-25T09:36:18.401741Z",
     "iopub.status.idle": "2025-02-25T09:36:18.612236Z",
     "shell.execute_reply": "2025-02-25T09:36:18.611475Z"
    }
   },
   "outputs": [
    {
     "name": "stdout",
     "output_type": "stream",
     "text": [
      "{\n",
      "    \"name\": \"LG_50M_Colorimetric_short\",\n",
      "    \"description\": \"From /app/assets/LG_50M_Colorimetric_short.sv5/LG_50M_Colorimetric_short.sv5\",\n",
      "    \"part_guid\": \"b9fadd42-a91c-46e7-85c4-f15ac8d955af\",\n",
      "    \"sources\": [\n",
      "        {\n",
      "            \"name\": \"Dom Source 2 (0) in SOURCE2\",\n",
      "            \"metadata\": {\n",
      "                \"UniqueId\": \"6bbc7682-0f5c-4ff3-9ac4-0c51bad6fa37\"\n",
      "            },\n",
      "            \"source_guid\": \"4cc3ea27-ad0c-4698-946f-8394da125e39\",\n",
      "            \"description\": \"\",\n",
      "            \"source\": {\n",
      "                \"name\": \"Dom Source 2 (0) in SOURCE2\",\n",
      "                \"surface\": {\n",
      "                    \"radiant_flux\": {\n",
      "                        \"radiant_value\": 6.590041607465698\n",
      "                    },\n",
      "                    \"intensity_guid\": \"d8a0124e-3189-4620-8717-8e7c441e8742\",\n",
      "                    \"exitance_constant\": {\n",
      "                        \"geo_paths\": [\n",
      "                            {\n",
      "                                \"geo_path\": \"Solid Body in SOURCE2:2920204960/Face in SOURCE2:222\",\n",
      "                                \"reverse_normal\": false\n",
      "                            }\n",
      "                        ]\n",
      "                    },\n",
      "                    \"spectrum_guid\": \"f83ff8b6-94ff-4765-a1ea-2b4753b69934\",\n",
      "                    \"intensity\": {\n",
      "                        \"cos\": {\n",
      "                            \"N\": 1.0,\n",
      "                            \"total_angle\": 180.0\n",
      "                        },\n",
      "                        \"name\": \"\",\n",
      "                        \"description\": \"\",\n",
      "                        \"metadata\": {}\n",
      "                    },\n",
      "                    \"spectrum\": {\n",
      "                        \"library\": {\n",
      "                            \"file_uri\": \"/app/assets/LG_50M_Colorimetric_short.sv5/Red Spectrum.spectrum\"\n",
      "                        },\n",
      "                        \"name\": \"\",\n",
      "                        \"description\": \"\",\n",
      "                        \"metadata\": {}\n",
      "                    }\n",
      "                },\n",
      "                \"description\": \"\",\n",
      "                \"metadata\": {}\n",
      "            }\n",
      "        },\n",
      "        {\n",
      "            \"name\": \"Surface Source (0) in SOURCE1\",\n",
      "            \"metadata\": {\n",
      "                \"UniqueId\": \"fb345b83-1204-4bcb-bcbc-3d76746808c6\"\n",
      "            },\n",
      "            \"source_guid\": \"2482e04b-297b-4f5a-a75a-eebaf72736d6\",\n",
      "            \"description\": \"\",\n",
      "            \"source\": {\n",
      "                \"name\": \"Surface Source (0) in SOURCE1\",\n",
      "                \"surface\": {\n",
      "                    \"radiant_flux\": {\n",
      "                        \"radiant_value\": 9.290411220389682\n",
      "                    },\n",
      "                    \"intensity_guid\": \"b796ea7b-ff58-49e7-b3a7-e087315545ad\",\n",
      "                    \"exitance_constant\": {\n",
      "                        \"geo_paths\": [\n",
      "                            {\n",
      "                                \"geo_path\": \"Solid Body in SOURCE1:2494956811/Face in SOURCE1:187\",\n",
      "                                \"reverse_normal\": false\n",
      "                            }\n",
      "                        ]\n",
      "                    },\n",
      "                    \"spectrum_guid\": \"3752eda6-11a9-47a0-a20e-7dfa8e04b1b1\",\n",
      "                    \"intensity\": {\n",
      "                        \"cos\": {\n",
      "                            \"N\": 1.0,\n",
      "                            \"total_angle\": 180.0\n",
      "                        },\n",
      "                        \"name\": \"\",\n",
      "                        \"description\": \"\",\n",
      "                        \"metadata\": {}\n",
      "                    },\n",
      "                    \"spectrum\": {\n",
      "                        \"library\": {\n",
      "                            \"file_uri\": \"/app/assets/LG_50M_Colorimetric_short.sv5/Blue Spectrum.spectrum\"\n",
      "                        },\n",
      "                        \"name\": \"\",\n",
      "                        \"description\": \"\",\n",
      "                        \"metadata\": {}\n",
      "                    }\n",
      "                },\n",
      "                \"description\": \"\",\n",
      "                \"metadata\": {}\n",
      "            }\n",
      "        }\n",
      "    ],\n",
      "    \"sensors\": [\n",
      "        {\n",
      "            \"name\": \"Dom Irradiance Sensor (0)\",\n",
      "            \"metadata\": {\n",
      "                \"UniqueId\": \"25a9ed3c-f60c-4785-8f71-675d79c41e27\"\n",
      "            },\n",
      "            \"sensor_guid\": \"b1aceefd-6983-4e94-927d-e4bab3e6b306\",\n",
      "            \"result_file_name\": \"ASSEMBLY1.DS (0).Dom Irradiance Sensor (0)\",\n",
      "            \"description\": \"\",\n",
      "            \"sensor\": {\n",
      "                \"irradiance_sensor_template\": {\n",
      "                    \"sensor_type_colorimetric\": {\n",
      "                        \"wavelengths_range\": {\n",
      "                            \"w_start\": 400.0,\n",
      "                            \"w_end\": 700.0,\n",
      "                            \"w_sampling\": 25\n",
      "                        }\n",
      "                    },\n",
      "                    \"illuminance_type_planar\": {},\n",
      "                    \"dimensions\": {\n",
      "                        \"x_start\": -20.0,\n",
      "                        \"x_end\": 20.0,\n",
      "                        \"x_sampling\": 500,\n",
      "                        \"y_start\": -20.0,\n",
      "                        \"y_end\": 20.0,\n",
      "                        \"y_sampling\": 500\n",
      "                    },\n",
      "                    \"axis_system\": [\n",
      "                        -42.0,\n",
      "                        2.0,\n",
      "                        5.0,\n",
      "                        0.0,\n",
      "                        1.0,\n",
      "                        0.0,\n",
      "                        0.0,\n",
      "                        0.0,\n",
      "                        -1.0,\n",
      "                        -1.0,\n",
      "                        0.0,\n",
      "                        0.0\n",
      "                    ],\n",
      "                    \"layer_type_source\": {},\n",
      "                    \"integration_direction\": [\n",
      "                        1.0,\n",
      "                        -0.0,\n",
      "                        -0.0\n",
      "                    ],\n",
      "                    \"ray_file_type\": \"RayFileNone\"\n",
      "                },\n",
      "                \"name\": \"Dom Irradiance Sensor (0)\",\n",
      "                \"description\": \"\",\n",
      "                \"metadata\": {}\n",
      "            }\n",
      "        }\n",
      "    ],\n",
      "    \"simulations\": [\n",
      "        {\n",
      "            \"name\": \"ASSEMBLY1.DS (0)\",\n",
      "            \"metadata\": {\n",
      "                \"UniqueId\": \"09391cd9-bd42-46f4-a58a-ec3305761ac0\"\n",
      "            },\n",
      "            \"simulation_guid\": \"d0f77ce3-d00d-4f2b-b21a-52bdee65b00e\",\n",
      "            \"sensor_paths\": [\n",
      "                \"Dom Irradiance Sensor (0)\"\n",
      "            ],\n",
      "            \"source_paths\": [\n",
      "                \"Dom Source 2 (0) in SOURCE2\",\n",
      "                \"Surface Source (0) in SOURCE1\"\n",
      "            ],\n",
      "            \"description\": \"\",\n",
      "            \"simulation\": {\n",
      "                \"direct_mc_simulation_template\": {\n",
      "                    \"geom_distance_tolerance\": 0.05,\n",
      "                    \"max_impact\": 100,\n",
      "                    \"weight\": {\n",
      "                        \"minimum_energy_percentage\": 0.005\n",
      "                    },\n",
      "                    \"dispersion\": true,\n",
      "                    \"colorimetric_standard\": \"CIE_1931\",\n",
      "                    \"fast_transmission_gathering\": false,\n",
      "                    \"ambient_material_uri\": \"\"\n",
      "                },\n",
      "                \"name\": \"ASSEMBLY1.DS (0)\",\n",
      "                \"metadata\": {},\n",
      "                \"description\": \"\",\n",
      "                \"scene_guid\": \"128ab5ca-fa99-4578-af30-0eb4ab66ce2c\",\n",
      "                \"simulation_path\": \"ASSEMBLY1.DS (0)\",\n",
      "                \"job_type\": \"CPU\"\n",
      "            }\n",
      "        }\n",
      "    ],\n",
      "    \"materials\": [\n",
      "        {\n",
      "            \"name\": \"Material.1\",\n",
      "            \"metadata\": {\n",
      "                \"UniqueId\": \"8b472ac6-a29e-4fbc-a605-e672185d2f54\"\n",
      "            },\n",
      "            \"sop_guids\": [\n",
      "                \"340e881c-ded2-4349-97f5-25000fe1074a\"\n",
      "            ],\n",
      "            \"geometries\": {\n",
      "                \"geo_paths\": [\n",
      "                    \"Solid Body in GUIDE:1379760262/Face in GUIDE:169\"\n",
      "                ]\n",
      "            },\n",
      "            \"description\": \"\",\n",
      "            \"sops\": [\n",
      "                {\n",
      "                    \"mirror\": {\n",
      "                        \"reflectance\": 100.0\n",
      "                    },\n",
      "                    \"name\": \"\",\n",
      "                    \"description\": \"\",\n",
      "                    \"metadata\": {}\n",
      "                }\n",
      "            ]\n",
      "        },\n",
      "        {\n",
      "            \"name\": \"Material.2\",\n",
      "            \"metadata\": {\n",
      "                \"UniqueId\": \"9fc9e484-8e82-49f8-b5e1-5c0f325ceb44\"\n",
      "            },\n",
      "            \"vop_guid\": \"fb3c3d54-d837-4c75-bbc0-b87519399e96\",\n",
      "            \"sop_guids\": [\n",
      "                \"340e881c-ded2-4349-97f5-25000fe1074a\"\n",
      "            ],\n",
      "            \"geometries\": {\n",
      "                \"geo_paths\": [\n",
      "                    \"Solid Body in SOURCE2:2920204960\",\n",
      "                    \"Solid Body in SOURCE1:2494956811\"\n",
      "                ]\n",
      "            },\n",
      "            \"description\": \"\",\n",
      "            \"vop\": {\n",
      "                \"opaque\": {},\n",
      "                \"name\": \"\",\n",
      "                \"description\": \"\",\n",
      "                \"metadata\": {}\n",
      "            },\n",
      "            \"sops\": [\n",
      "                {\n",
      "                    \"mirror\": {\n",
      "                        \"reflectance\": 100.0\n",
      "                    },\n",
      "                    \"name\": \"\",\n",
      "                    \"description\": \"\",\n",
      "                    \"metadata\": {}\n",
      "                }\n",
      "            ]\n",
      "        },\n",
      "        {\n",
      "            \"name\": \"Material.3\",\n",
      "            \"metadata\": {\n",
      "                \"UniqueId\": \"bc8d0763-061c-4a03-8c0b-f86f2f8d1a54\"\n",
      "            },\n",
      "            \"vop_guid\": \"22072a04-e57d-4cf4-b82e-64b9bc680fe9\",\n",
      "            \"sop_guids\": [\n",
      "                \"90d93dba-d151-4150-96aa-aa0ed845338d\"\n",
      "            ],\n",
      "            \"geometries\": {\n",
      "                \"geo_paths\": [\n",
      "                    \"Solid Body in GUIDE:1379760262\"\n",
      "                ]\n",
      "            },\n",
      "            \"description\": \"\",\n",
      "            \"vop\": {\n",
      "                \"optic\": {\n",
      "                    \"index\": 1.4,\n",
      "                    \"constringence\": 60.0,\n",
      "                    \"absorption\": 0.0\n",
      "                },\n",
      "                \"name\": \"\",\n",
      "                \"description\": \"\",\n",
      "                \"metadata\": {}\n",
      "            },\n",
      "            \"sops\": [\n",
      "                {\n",
      "                    \"optical_polished\": {},\n",
      "                    \"name\": \"\",\n",
      "                    \"description\": \"\",\n",
      "                    \"metadata\": {}\n",
      "                }\n",
      "            ]\n",
      "        },\n",
      "        {\n",
      "            \"name\": \"Material.4\",\n",
      "            \"metadata\": {\n",
      "                \"UniqueId\": \"aa992b41-616c-4d6b-9961-bd70311ad289\"\n",
      "            },\n",
      "            \"vop_guid\": \"48930789-d542-4dc6-b708-f515182a4619\",\n",
      "            \"description\": \"\",\n",
      "            \"sop_guids\": [],\n",
      "            \"vop\": {\n",
      "                \"optic\": {\n",
      "                    \"index\": 1.0,\n",
      "                    \"absorption\": 0.0\n",
      "                },\n",
      "                \"name\": \"\",\n",
      "                \"description\": \"\",\n",
      "                \"metadata\": {}\n",
      "            }\n",
      "        }\n",
      "    ],\n",
      "    \"metadata\": {},\n",
      "    \"scenes\": []\n",
      "}\n"
     ]
    }
   ],
   "source": [
    "p = Project(\n",
    "    speos=speos,\n",
    "    path=os.path.join(\n",
    "        tests_data_path, \"LG_50M_Colorimetric_short.sv5\", \"LG_50M_Colorimetric_short.sv5\"\n",
    "    ),\n",
    ")\n",
    "print(p)"
   ]
  },
  {
   "cell_type": "markdown",
   "id": "cffa9c06",
   "metadata": {},
   "source": [
    "## Retrieve the simulation feature"
   ]
  },
  {
   "cell_type": "markdown",
   "id": "d0b52499",
   "metadata": {},
   "source": [
    "Use find method from project class to retrieve the simulation feature."
   ]
  },
  {
   "cell_type": "code",
   "execution_count": 4,
   "id": "72e593d8",
   "metadata": {
    "execution": {
     "iopub.execute_input": "2025-02-25T09:36:18.614500Z",
     "iopub.status.busy": "2025-02-25T09:36:18.614293Z",
     "iopub.status.idle": "2025-02-25T09:36:18.617778Z",
     "shell.execute_reply": "2025-02-25T09:36:18.617138Z"
    }
   },
   "outputs": [],
   "source": [
    "sim = p.find(name=\".*\", name_regex=True, feature_type=SimulationDirect)[0]"
   ]
  },
  {
   "cell_type": "markdown",
   "id": "1ede30c2",
   "metadata": {},
   "source": [
    "## Run simulation"
   ]
  },
  {
   "cell_type": "markdown",
   "id": "ed70e6c8",
   "metadata": {},
   "source": [
    "simulation can be run using CPU via compute_CPU method or using GPU via compute_GPU method."
   ]
  },
  {
   "cell_type": "code",
   "execution_count": 5,
   "id": "0d7aa06b",
   "metadata": {
    "execution": {
     "iopub.execute_input": "2025-02-25T09:36:18.619765Z",
     "iopub.status.busy": "2025-02-25T09:36:18.619573Z",
     "iopub.status.idle": "2025-02-25T09:36:33.729048Z",
     "shell.execute_reply": "2025-02-25T09:36:33.728301Z"
    }
   },
   "outputs": [
    {
     "name": "stdout",
     "output_type": "stream",
     "text": [
      "[upload_response {\n",
      "  info {\n",
      "    uri: \"074512aa-047c-4278-9b63-dafadc841ef7\"\n",
      "    file_name: \"ASSEMBLY1.DS (0).Dom Irradiance Sensor (0).xmp\"\n",
      "    file_size: 2150849\n",
      "  }\n",
      "  upload_duration {\n",
      "    nanos: 3277642\n",
      "  }\n",
      "}\n",
      ", upload_response {\n",
      "  info {\n",
      "    uri: \"d4f08496-493c-4d33-bd71-4d0c4d39534c\"\n",
      "    file_name: \"ASSEMBLY1.DS (0).html\"\n",
      "    file_size: 644072\n",
      "  }\n",
      "  upload_duration {\n",
      "    nanos: 1078074\n",
      "  }\n",
      "}\n",
      "]\n"
     ]
    }
   ],
   "source": [
    "results = sim.compute_CPU()  # run in CPU\n",
    "print(results)"
   ]
  },
  {
   "cell_type": "markdown",
   "id": "c0fb1b2a",
   "metadata": {},
   "source": [
    "## Open result (only windows):"
   ]
  },
  {
   "cell_type": "markdown",
   "id": "e9b0d6a0",
   "metadata": {},
   "source": [
    "Display one result as image."
   ]
  },
  {
   "cell_type": "markdown",
   "id": "4f400136",
   "metadata": {},
   "source": [
    "A full path can be given, or the name of the result."
   ]
  },
  {
   "cell_type": "code",
   "execution_count": 6,
   "id": "3da8525c",
   "metadata": {
    "execution": {
     "iopub.execute_input": "2025-02-25T09:36:33.731396Z",
     "iopub.status.busy": "2025-02-25T09:36:33.731178Z",
     "iopub.status.idle": "2025-02-25T09:36:33.734772Z",
     "shell.execute_reply": "2025-02-25T09:36:33.734108Z"
    }
   },
   "outputs": [],
   "source": [
    "if os.name == \"nt\":\n",
    "    from ansys.speos.core.workflow.open_result import open_result_image\n",
    "\n",
    "    open_result_image(\n",
    "        simulation_feature=sim, result_name=\"ASSEMBLY1.DS (0).Dom Irradiance Sensor (0).xmp\"\n",
    "    )"
   ]
  },
  {
   "cell_type": "markdown",
   "id": "a34a7758",
   "metadata": {},
   "source": [
    "## Display result in viewer (only windows)."
   ]
  },
  {
   "cell_type": "markdown",
   "id": "568109c7",
   "metadata": {},
   "source": [
    "Display one result in a result viewer."
   ]
  },
  {
   "cell_type": "markdown",
   "id": "9a74fc8b",
   "metadata": {},
   "source": [
    "A full path can be given, or the name of the result."
   ]
  },
  {
   "cell_type": "code",
   "execution_count": 7,
   "id": "60ffd69e",
   "metadata": {
    "execution": {
     "iopub.execute_input": "2025-02-25T09:36:33.737015Z",
     "iopub.status.busy": "2025-02-25T09:36:33.736786Z",
     "iopub.status.idle": "2025-02-25T09:36:33.740243Z",
     "shell.execute_reply": "2025-02-25T09:36:33.739559Z"
    }
   },
   "outputs": [],
   "source": [
    "if os.name == \"nt\":\n",
    "    from ansys.speos.core.workflow.open_result import open_result_in_viewer\n",
    "\n",
    "    open_result_in_viewer(\n",
    "        simulation_feature=sim, result_name=\"ASSEMBLY1.DS (0).Dom Irradiance Sensor (0).xmp\"\n",
    "    )"
   ]
  }
 ],
 "metadata": {
  "jupytext": {
   "cell_metadata_filter": "-all",
   "main_language": "python",
   "notebook_metadata_filter": "-all",
   "text_representation": {
    "extension": ".py",
    "format_name": "light"
   }
  },
  "language_info": {
   "codemirror_mode": {
    "name": "ipython",
    "version": 3
   },
   "file_extension": ".py",
   "mimetype": "text/x-python",
   "name": "python",
   "nbconvert_exporter": "python",
   "pygments_lexer": "ipython3",
   "version": "3.10.16"
  }
 },
 "nbformat": 4,
 "nbformat_minor": 5
}
