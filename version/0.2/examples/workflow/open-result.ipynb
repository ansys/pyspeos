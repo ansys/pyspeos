{
 "cells": [
  {
   "cell_type": "markdown",
   "id": "4205d1b7",
   "metadata": {},
   "source": [
    "# How to open result (windows os)"
   ]
  },
  {
   "cell_type": "markdown",
   "id": "9c83364c",
   "metadata": {},
   "source": [
    "This tutorial demonstrates how to open and review results using workflow method."
   ]
  },
  {
   "cell_type": "code",
   "execution_count": 1,
   "id": "cb4ee387",
   "metadata": {
    "execution": {
     "iopub.execute_input": "2025-03-06T16:12:58.340504Z",
     "iopub.status.busy": "2025-03-06T16:12:58.339939Z",
     "iopub.status.idle": "2025-03-06T16:12:58.918335Z",
     "shell.execute_reply": "2025-03-06T16:12:58.917562Z"
    }
   },
   "outputs": [],
   "source": [
    "import os\n",
    "from pathlib import Path\n",
    "\n",
    "from ansys.speos.core import Project, Speos\n",
    "from ansys.speos.core.simulation import SimulationDirect\n",
    "\n",
    "# If using docker container\n",
    "tests_data_path = Path(\"/app\") / \"assets\"\n",
    "# If using local server\n",
    "# tests_data_path = Path().resolve().parent.parent / \"tests\" / \"assets\""
   ]
  },
  {
   "cell_type": "markdown",
   "id": "0cc238d0",
   "metadata": {},
   "source": [
    "## Create connection with speos rpc server"
   ]
  },
  {
   "cell_type": "code",
   "execution_count": 2,
   "id": "f4ea99b4",
   "metadata": {
    "execution": {
     "iopub.execute_input": "2025-03-06T16:12:58.920814Z",
     "iopub.status.busy": "2025-03-06T16:12:58.920548Z",
     "iopub.status.idle": "2025-03-06T16:12:58.927523Z",
     "shell.execute_reply": "2025-03-06T16:12:58.926858Z"
    }
   },
   "outputs": [],
   "source": [
    "speos = Speos(host=\"localhost\", port=50098)"
   ]
  },
  {
   "cell_type": "markdown",
   "id": "8ea9d217",
   "metadata": {},
   "source": [
    "## Create project from speos file"
   ]
  },
  {
   "cell_type": "code",
   "execution_count": 3,
   "id": "88aabe19",
   "metadata": {
    "execution": {
     "iopub.execute_input": "2025-03-06T16:12:58.929942Z",
     "iopub.status.busy": "2025-03-06T16:12:58.929393Z",
     "iopub.status.idle": "2025-03-06T16:12:59.100247Z",
     "shell.execute_reply": "2025-03-06T16:12:59.099602Z"
    }
   },
   "outputs": [
    {
     "name": "stdout",
     "output_type": "stream",
     "text": [
      "{\n",
      "    \"name\": \"LG_50M_Colorimetric_short\",\n",
      "    \"description\": \"From /app/assets/LG_50M_Colorimetric_short.sv5/LG_50M_Colorimetric_short.sv5\",\n",
      "    \"part_guid\": \"4c0a630c-ec8b-4452-9b73-650e193a3675\",\n",
      "    \"sources\": [\n",
      "        {\n",
      "            \"name\": \"Dom Source 2 (0) in SOURCE2\",\n",
      "            \"metadata\": {\n",
      "                \"UniqueId\": \"a6775db0-399f-4675-ad6a-8997a2ea2297\"\n",
      "            },\n",
      "            \"source_guid\": \"dcc33d3b-e7ea-44c6-b923-c07fb51276b9\",\n",
      "            \"description\": \"\",\n",
      "            \"source\": {\n",
      "                \"name\": \"Dom Source 2 (0) in SOURCE2\",\n",
      "                \"surface\": {\n",
      "                    \"radiant_flux\": {\n",
      "                        \"radiant_value\": 6.590041607465698\n",
      "                    },\n",
      "                    \"intensity_guid\": \"cc620ca6-7092-46ce-8355-a0b6115dce71\",\n",
      "                    \"exitance_constant\": {\n",
      "                        \"geo_paths\": [\n",
      "                            {\n",
      "                                \"geo_path\": \"Solid Body in SOURCE2:2920204960/Face in SOURCE2:222\",\n",
      "                                \"reverse_normal\": false\n",
      "                            }\n",
      "                        ]\n",
      "                    },\n",
      "                    \"spectrum_guid\": \"964dc183-f78d-498f-8489-aecbec64c7ba\",\n",
      "                    \"intensity\": {\n",
      "                        \"cos\": {\n",
      "                            \"N\": 1.0,\n",
      "                            \"total_angle\": 180.0\n",
      "                        },\n",
      "                        \"name\": \"\",\n",
      "                        \"description\": \"\",\n",
      "                        \"metadata\": {}\n",
      "                    },\n",
      "                    \"spectrum\": {\n",
      "                        \"library\": {\n",
      "                            \"file_uri\": \"/app/assets/LG_50M_Colorimetric_short.sv5/Red Spectrum.spectrum\"\n",
      "                        },\n",
      "                        \"name\": \"\",\n",
      "                        \"description\": \"\",\n",
      "                        \"metadata\": {}\n",
      "                    }\n",
      "                },\n",
      "                \"description\": \"\",\n",
      "                \"metadata\": {}\n",
      "            }\n",
      "        },\n",
      "        {\n",
      "            \"name\": \"Surface Source (0) in SOURCE1\",\n",
      "            \"metadata\": {\n",
      "                \"UniqueId\": \"b888c1b9-4166-41f0-819b-5e6320b78487\"\n",
      "            },\n",
      "            \"source_guid\": \"d49163c6-a048-42d4-a288-7832e22f5ac2\",\n",
      "            \"description\": \"\",\n",
      "            \"source\": {\n",
      "                \"name\": \"Surface Source (0) in SOURCE1\",\n",
      "                \"surface\": {\n",
      "                    \"radiant_flux\": {\n",
      "                        \"radiant_value\": 9.290411220389682\n",
      "                    },\n",
      "                    \"intensity_guid\": \"04f18dab-c76a-4bfc-872a-f5803b56a5d6\",\n",
      "                    \"exitance_constant\": {\n",
      "                        \"geo_paths\": [\n",
      "                            {\n",
      "                                \"geo_path\": \"Solid Body in SOURCE1:2494956811/Face in SOURCE1:187\",\n",
      "                                \"reverse_normal\": false\n",
      "                            }\n",
      "                        ]\n",
      "                    },\n",
      "                    \"spectrum_guid\": \"0ee20e6a-a5a4-48b2-b4e5-043e3e9e815f\",\n",
      "                    \"intensity\": {\n",
      "                        \"cos\": {\n",
      "                            \"N\": 1.0,\n",
      "                            \"total_angle\": 180.0\n",
      "                        },\n",
      "                        \"name\": \"\",\n",
      "                        \"description\": \"\",\n",
      "                        \"metadata\": {}\n",
      "                    },\n",
      "                    \"spectrum\": {\n",
      "                        \"library\": {\n",
      "                            \"file_uri\": \"/app/assets/LG_50M_Colorimetric_short.sv5/Blue Spectrum.spectrum\"\n",
      "                        },\n",
      "                        \"name\": \"\",\n",
      "                        \"description\": \"\",\n",
      "                        \"metadata\": {}\n",
      "                    }\n",
      "                },\n",
      "                \"description\": \"\",\n",
      "                \"metadata\": {}\n",
      "            }\n",
      "        }\n",
      "    ],\n",
      "    \"sensors\": [\n",
      "        {\n",
      "            \"name\": \"Dom Irradiance Sensor (0)\",\n",
      "            \"metadata\": {\n",
      "                \"UniqueId\": \"e1e62eb5-79e1-47d8-afa4-8e4f60d09b83\"\n",
      "            },\n",
      "            \"sensor_guid\": \"45a72a73-d703-4399-a3dd-da90cf220232\",\n",
      "            \"result_file_name\": \"ASSEMBLY1.DS (0).Dom Irradiance Sensor (0)\",\n",
      "            \"description\": \"\",\n",
      "            \"sensor\": {\n",
      "                \"irradiance_sensor_template\": {\n",
      "                    \"sensor_type_colorimetric\": {\n",
      "                        \"wavelengths_range\": {\n",
      "                            \"w_start\": 400.0,\n",
      "                            \"w_end\": 700.0,\n",
      "                            \"w_sampling\": 25\n",
      "                        }\n",
      "                    },\n",
      "                    \"illuminance_type_planar\": {},\n",
      "                    \"dimensions\": {\n",
      "                        \"x_start\": -20.0,\n",
      "                        \"x_end\": 20.0,\n",
      "                        \"x_sampling\": 500,\n",
      "                        \"y_start\": -20.0,\n",
      "                        \"y_end\": 20.0,\n",
      "                        \"y_sampling\": 500\n",
      "                    },\n",
      "                    \"axis_system\": [\n",
      "                        -42.0,\n",
      "                        2.0,\n",
      "                        5.0,\n",
      "                        0.0,\n",
      "                        1.0,\n",
      "                        0.0,\n",
      "                        0.0,\n",
      "                        0.0,\n",
      "                        -1.0,\n",
      "                        -1.0,\n",
      "                        0.0,\n",
      "                        0.0\n",
      "                    ],\n",
      "                    \"layer_type_source\": {},\n",
      "                    \"integration_direction\": [\n",
      "                        1.0,\n",
      "                        -0.0,\n",
      "                        -0.0\n",
      "                    ],\n",
      "                    \"ray_file_type\": \"RayFileNone\"\n",
      "                },\n",
      "                \"name\": \"Dom Irradiance Sensor (0)\",\n",
      "                \"description\": \"\",\n",
      "                \"metadata\": {}\n",
      "            }\n",
      "        }\n",
      "    ],\n",
      "    \"simulations\": [\n",
      "        {\n",
      "            \"name\": \"ASSEMBLY1.DS (0)\",\n",
      "            \"metadata\": {\n",
      "                \"UniqueId\": \"2ab5d4f2-fe21-4c28-8e18-e7b598ca69ad\"\n",
      "            },\n",
      "            \"simulation_guid\": \"16c521a8-f8b8-4555-9b88-0c002011a4ea\",\n",
      "            \"sensor_paths\": [\n",
      "                \"Dom Irradiance Sensor (0)\"\n",
      "            ],\n",
      "            \"source_paths\": [\n",
      "                \"Dom Source 2 (0) in SOURCE2\",\n",
      "                \"Surface Source (0) in SOURCE1\"\n",
      "            ],\n",
      "            \"description\": \"\",\n",
      "            \"simulation\": {\n",
      "                \"direct_mc_simulation_template\": {\n",
      "                    \"geom_distance_tolerance\": 0.05,\n",
      "                    \"max_impact\": 100,\n",
      "                    \"weight\": {\n",
      "                        \"minimum_energy_percentage\": 0.005\n",
      "                    },\n",
      "                    \"dispersion\": true,\n",
      "                    \"colorimetric_standard\": \"CIE_1931\",\n",
      "                    \"fast_transmission_gathering\": false,\n",
      "                    \"ambient_material_uri\": \"\"\n",
      "                },\n",
      "                \"name\": \"ASSEMBLY1.DS (0)\",\n",
      "                \"metadata\": {},\n",
      "                \"description\": \"\",\n",
      "                \"scene_guid\": \"3ea2cb3e-c6cd-47b8-bd9d-8907e8aa6842\",\n",
      "                \"simulation_path\": \"ASSEMBLY1.DS (0)\",\n",
      "                \"job_type\": \"CPU\"\n",
      "            }\n",
      "        }\n",
      "    ],\n",
      "    \"materials\": [\n",
      "        {\n",
      "            \"name\": \"Material.1\",\n",
      "            \"metadata\": {\n",
      "                \"UniqueId\": \"c4b6c78f-ef14-4481-9eed-290f8d33d41e\"\n",
      "            },\n",
      "            \"sop_guids\": [\n",
      "                \"7827202a-bed4-4219-b96c-255e8a8203a4\"\n",
      "            ],\n",
      "            \"geometries\": {\n",
      "                \"geo_paths\": [\n",
      "                    \"Solid Body in GUIDE:1379760262/Face in GUIDE:169\"\n",
      "                ]\n",
      "            },\n",
      "            \"description\": \"\",\n",
      "            \"sops\": [\n",
      "                {\n",
      "                    \"mirror\": {\n",
      "                        \"reflectance\": 100.0\n",
      "                    },\n",
      "                    \"name\": \"\",\n",
      "                    \"description\": \"\",\n",
      "                    \"metadata\": {}\n",
      "                }\n",
      "            ]\n",
      "        },\n",
      "        {\n",
      "            \"name\": \"Material.2\",\n",
      "            \"metadata\": {\n",
      "                \"UniqueId\": \"9d876455-17e5-4e6b-a05f-0dd270f8b0e5\"\n",
      "            },\n",
      "            \"vop_guid\": \"520bf129-348c-4e54-bcab-2cb0245fe3f6\",\n",
      "            \"sop_guids\": [\n",
      "                \"f4a3cfca-ce37-4fe0-aca1-3395a1317667\"\n",
      "            ],\n",
      "            \"geometries\": {\n",
      "                \"geo_paths\": [\n",
      "                    \"Solid Body in GUIDE:1379760262\"\n",
      "                ]\n",
      "            },\n",
      "            \"description\": \"\",\n",
      "            \"vop\": {\n",
      "                \"optic\": {\n",
      "                    \"index\": 1.4,\n",
      "                    \"constringence\": 60.0,\n",
      "                    \"absorption\": 0.0\n",
      "                },\n",
      "                \"name\": \"\",\n",
      "                \"description\": \"\",\n",
      "                \"metadata\": {}\n",
      "            },\n",
      "            \"sops\": [\n",
      "                {\n",
      "                    \"optical_polished\": {},\n",
      "                    \"name\": \"\",\n",
      "                    \"description\": \"\",\n",
      "                    \"metadata\": {}\n",
      "                }\n",
      "            ]\n",
      "        },\n",
      "        {\n",
      "            \"name\": \"Material.3\",\n",
      "            \"metadata\": {\n",
      "                \"UniqueId\": \"80dcda38-683d-4875-8f1c-88789500a21f\"\n",
      "            },\n",
      "            \"vop_guid\": \"01ed3878-e699-4282-bd45-a9875526dd0b\",\n",
      "            \"sop_guids\": [\n",
      "                \"7827202a-bed4-4219-b96c-255e8a8203a4\"\n",
      "            ],\n",
      "            \"geometries\": {\n",
      "                \"geo_paths\": [\n",
      "                    \"Solid Body in SOURCE2:2920204960\",\n",
      "                    \"Solid Body in SOURCE1:2494956811\"\n",
      "                ]\n",
      "            },\n",
      "            \"description\": \"\",\n",
      "            \"vop\": {\n",
      "                \"opaque\": {},\n",
      "                \"name\": \"\",\n",
      "                \"description\": \"\",\n",
      "                \"metadata\": {}\n",
      "            },\n",
      "            \"sops\": [\n",
      "                {\n",
      "                    \"mirror\": {\n",
      "                        \"reflectance\": 100.0\n",
      "                    },\n",
      "                    \"name\": \"\",\n",
      "                    \"description\": \"\",\n",
      "                    \"metadata\": {}\n",
      "                }\n",
      "            ]\n",
      "        },\n",
      "        {\n",
      "            \"name\": \"Material.4\",\n",
      "            \"metadata\": {\n",
      "                \"UniqueId\": \"16a3295b-bdc0-474e-bf87-cf110e896afd\"\n",
      "            },\n",
      "            \"vop_guid\": \"300f5f83-5265-409c-898d-200367e20e98\",\n",
      "            \"description\": \"\",\n",
      "            \"sop_guids\": [],\n",
      "            \"vop\": {\n",
      "                \"optic\": {\n",
      "                    \"index\": 1.0,\n",
      "                    \"absorption\": 0.0\n",
      "                },\n",
      "                \"name\": \"\",\n",
      "                \"description\": \"\",\n",
      "                \"metadata\": {}\n",
      "            }\n",
      "        }\n",
      "    ],\n",
      "    \"metadata\": {},\n",
      "    \"scenes\": []\n",
      "}\n"
     ]
    }
   ],
   "source": [
    "p = Project(\n",
    "    speos=speos,\n",
    "    path=str(tests_data_path / \"LG_50M_Colorimetric_short.sv5\" / \"LG_50M_Colorimetric_short.sv5\"),\n",
    ")\n",
    "print(p)"
   ]
  },
  {
   "cell_type": "markdown",
   "id": "2f37d649",
   "metadata": {},
   "source": [
    "## Retrieve the simulation feature"
   ]
  },
  {
   "cell_type": "markdown",
   "id": "bcffbb2d",
   "metadata": {},
   "source": [
    "Use find method from project class to retrieve the simulation feature."
   ]
  },
  {
   "cell_type": "code",
   "execution_count": 4,
   "id": "57ec39f7",
   "metadata": {
    "execution": {
     "iopub.execute_input": "2025-03-06T16:12:59.102420Z",
     "iopub.status.busy": "2025-03-06T16:12:59.102018Z",
     "iopub.status.idle": "2025-03-06T16:12:59.105421Z",
     "shell.execute_reply": "2025-03-06T16:12:59.104861Z"
    }
   },
   "outputs": [],
   "source": [
    "sim = p.find(name=\".*\", name_regex=True, feature_type=SimulationDirect)[0]"
   ]
  },
  {
   "cell_type": "markdown",
   "id": "191429bb",
   "metadata": {},
   "source": [
    "## Run simulation"
   ]
  },
  {
   "cell_type": "markdown",
   "id": "6067180f",
   "metadata": {},
   "source": [
    "simulation can be run using CPU via compute_CPU method or using GPU via compute_GPU method."
   ]
  },
  {
   "cell_type": "code",
   "execution_count": 5,
   "id": "0c574b9e",
   "metadata": {
    "execution": {
     "iopub.execute_input": "2025-03-06T16:12:59.107347Z",
     "iopub.status.busy": "2025-03-06T16:12:59.107164Z",
     "iopub.status.idle": "2025-03-06T16:13:04.197863Z",
     "shell.execute_reply": "2025-03-06T16:13:04.197257Z"
    }
   },
   "outputs": [
    {
     "name": "stdout",
     "output_type": "stream",
     "text": [
      "[upload_response {\n",
      "  info {\n",
      "    uri: \"daa169a8-0d3d-49b9-9923-55acc66e8106\"\n",
      "    file_name: \"ASSEMBLY1.DS (0).Dom Irradiance Sensor (0).xmp\"\n",
      "    file_size: 2153345\n",
      "  }\n",
      "  upload_duration {\n",
      "    nanos: 2716685\n",
      "  }\n",
      "}\n",
      ", upload_response {\n",
      "  info {\n",
      "    uri: \"eeddfbfa-7418-4b59-8246-879877e43962\"\n",
      "    file_name: \"ASSEMBLY1.DS (0).html\"\n",
      "    file_size: 645832\n",
      "  }\n",
      "  upload_duration {\n",
      "    nanos: 1005585\n",
      "  }\n",
      "}\n",
      "]\n"
     ]
    }
   ],
   "source": [
    "results = sim.compute_CPU()  # run in CPU\n",
    "print(results)"
   ]
  },
  {
   "cell_type": "markdown",
   "id": "1b116540",
   "metadata": {},
   "source": [
    "## Open result (only windows):"
   ]
  },
  {
   "cell_type": "markdown",
   "id": "c7143d6b",
   "metadata": {},
   "source": [
    "Display one result as image."
   ]
  },
  {
   "cell_type": "markdown",
   "id": "494a8ee7",
   "metadata": {},
   "source": [
    "A full path can be given, or the name of the result."
   ]
  },
  {
   "cell_type": "code",
   "execution_count": 6,
   "id": "d1ad565f",
   "metadata": {
    "execution": {
     "iopub.execute_input": "2025-03-06T16:13:04.199958Z",
     "iopub.status.busy": "2025-03-06T16:13:04.199735Z",
     "iopub.status.idle": "2025-03-06T16:13:04.202976Z",
     "shell.execute_reply": "2025-03-06T16:13:04.202442Z"
    }
   },
   "outputs": [],
   "source": [
    "if os.name == \"nt\":\n",
    "    from ansys.speos.core.workflow.open_result import open_result_image\n",
    "\n",
    "    open_result_image(\n",
    "        simulation_feature=sim, result_name=\"ASSEMBLY1.DS (0).Dom Irradiance Sensor (0).xmp\"\n",
    "    )"
   ]
  },
  {
   "cell_type": "markdown",
   "id": "3b7637fe",
   "metadata": {},
   "source": [
    "## Display result in viewer (only windows)."
   ]
  },
  {
   "cell_type": "markdown",
   "id": "13d80bcf",
   "metadata": {},
   "source": [
    "Display one result in a result viewer."
   ]
  },
  {
   "cell_type": "markdown",
   "id": "e88b170d",
   "metadata": {},
   "source": [
    "A full path can be given, or the name of the result."
   ]
  },
  {
   "cell_type": "code",
   "execution_count": 7,
   "id": "369abe65",
   "metadata": {
    "execution": {
     "iopub.execute_input": "2025-03-06T16:13:04.204906Z",
     "iopub.status.busy": "2025-03-06T16:13:04.204699Z",
     "iopub.status.idle": "2025-03-06T16:13:04.207703Z",
     "shell.execute_reply": "2025-03-06T16:13:04.207201Z"
    }
   },
   "outputs": [],
   "source": [
    "if os.name == \"nt\":\n",
    "    from ansys.speos.core.workflow.open_result import open_result_in_viewer\n",
    "\n",
    "    open_result_in_viewer(\n",
    "        simulation_feature=sim, result_name=\"ASSEMBLY1.DS (0).Dom Irradiance Sensor (0).xmp\"\n",
    "    )"
   ]
  }
 ],
 "metadata": {
  "jupytext": {
   "cell_metadata_filter": "-all",
   "main_language": "python",
   "notebook_metadata_filter": "-all",
   "text_representation": {
    "extension": ".py",
    "format_name": "light"
   }
  },
  "language_info": {
   "codemirror_mode": {
    "name": "ipython",
    "version": 3
   },
   "file_extension": ".py",
   "mimetype": "text/x-python",
   "name": "python",
   "nbconvert_exporter": "python",
   "pygments_lexer": "ipython3",
   "version": "3.10.16"
  }
 },
 "nbformat": 4,
 "nbformat_minor": 5
}
