{
 "cells": [
  {
   "cell_type": "markdown",
   "id": "a46ed371",
   "metadata": {},
   "source": [
    "# How to create a simulation"
   ]
  },
  {
   "cell_type": "markdown",
   "id": "75d12d63",
   "metadata": {},
   "source": [
    "This tutorial demonstrates how to create a simulation."
   ]
  },
  {
   "cell_type": "markdown",
   "id": "0a8a853e",
   "metadata": {},
   "source": [
    "## What is a simulation?"
   ]
  },
  {
   "cell_type": "markdown",
   "id": "726aa635",
   "metadata": {},
   "source": [
    "A simulation contains selected sensors, sources to model ray-trace in space."
   ]
  },
  {
   "cell_type": "code",
   "execution_count": 1,
   "id": "c2c9cd6c",
   "metadata": {
    "execution": {
     "iopub.execute_input": "2025-03-06T16:11:47.347671Z",
     "iopub.status.busy": "2025-03-06T16:11:47.347477Z",
     "iopub.status.idle": "2025-03-06T16:11:47.920043Z",
     "shell.execute_reply": "2025-03-06T16:11:47.919274Z"
    }
   },
   "outputs": [],
   "source": [
    "from pathlib import Path\n",
    "\n",
    "from ansys.speos.core import GeoRef, Project, Speos\n",
    "from ansys.speos.core.simulation import SimulationInteractive, SimulationInverse\n",
    "\n",
    "# If using docker container\n",
    "tests_data_path = Path(\"/app\") / \"assets\"\n",
    "# If using local server\n",
    "# tests_data_path = Path().resolve().parent.parent / \"tests\" / \"assets\""
   ]
  },
  {
   "cell_type": "markdown",
   "id": "5ffc24cf",
   "metadata": {},
   "source": [
    "## Create connection with speos rpc server"
   ]
  },
  {
   "cell_type": "code",
   "execution_count": 2,
   "id": "71afac7a",
   "metadata": {
    "execution": {
     "iopub.execute_input": "2025-03-06T16:11:47.922513Z",
     "iopub.status.busy": "2025-03-06T16:11:47.922247Z",
     "iopub.status.idle": "2025-03-06T16:11:47.928432Z",
     "shell.execute_reply": "2025-03-06T16:11:47.927915Z"
    }
   },
   "outputs": [],
   "source": [
    "speos = Speos(host=\"localhost\", port=50098)"
   ]
  },
  {
   "cell_type": "markdown",
   "id": "8e0914b3",
   "metadata": {},
   "source": [
    "## Create Project"
   ]
  },
  {
   "cell_type": "markdown",
   "id": "cd29b918",
   "metadata": {},
   "source": [
    "Create a new project first."
   ]
  },
  {
   "cell_type": "markdown",
   "id": "97c90849",
   "metadata": {},
   "source": [
    "The only way to create a simulation is to create it from a project."
   ]
  },
  {
   "cell_type": "code",
   "execution_count": 3,
   "id": "0299b2b3",
   "metadata": {
    "execution": {
     "iopub.execute_input": "2025-03-06T16:11:47.930490Z",
     "iopub.status.busy": "2025-03-06T16:11:47.930065Z",
     "iopub.status.idle": "2025-03-06T16:11:47.936091Z",
     "shell.execute_reply": "2025-03-06T16:11:47.935536Z"
    }
   },
   "outputs": [
    {
     "name": "stdout",
     "output_type": "stream",
     "text": [
      "{\n",
      "    \"name\": \"\",\n",
      "    \"description\": \"\",\n",
      "    \"metadata\": {},\n",
      "    \"part_guid\": \"\",\n",
      "    \"sources\": [],\n",
      "    \"sensors\": [],\n",
      "    \"simulations\": [],\n",
      "    \"materials\": [],\n",
      "    \"scenes\": []\n",
      "}\n"
     ]
    }
   ],
   "source": [
    "p = Project(speos=speos)\n",
    "print(p)"
   ]
  },
  {
   "cell_type": "markdown",
   "id": "3d868def",
   "metadata": {},
   "source": [
    "## Prepare prerequisites"
   ]
  },
  {
   "cell_type": "markdown",
   "id": "bc092e83",
   "metadata": {},
   "source": [
    "Create the necessary elements for a simulation: Sensor, source, root part, optical property are prerequisites."
   ]
  },
  {
   "cell_type": "markdown",
   "id": "82be406d",
   "metadata": {},
   "source": [
    "### Prepare the root part"
   ]
  },
  {
   "cell_type": "code",
   "execution_count": 4,
   "id": "8726d480",
   "metadata": {
    "execution": {
     "iopub.execute_input": "2025-03-06T16:11:47.938166Z",
     "iopub.status.busy": "2025-03-06T16:11:47.937764Z",
     "iopub.status.idle": "2025-03-06T16:11:47.948458Z",
     "shell.execute_reply": "2025-03-06T16:11:47.947808Z"
    }
   },
   "outputs": [
    {
     "data": {
      "text/plain": [
       "<ansys.speos.core.part.Part at 0x7f41cd043760>"
      ]
     },
     "execution_count": 4,
     "metadata": {},
     "output_type": "execute_result"
    }
   ],
   "source": [
    "root_part = p.create_root_part()\n",
    "root_part.create_body(name=\"Body.1\").create_face(name=\"Face.1\").set_vertices(\n",
    "    [0, 1, 2, 0, 2, 2, 1, 2, 2]\n",
    ").set_facets([0, 1, 2]).set_normals([0, 0, 1, 0, 0, 1, 0, 0, 1])\n",
    "root_part.commit()"
   ]
  },
  {
   "cell_type": "markdown",
   "id": "b83585ac",
   "metadata": {},
   "source": [
    "### Prepare an optical property"
   ]
  },
  {
   "cell_type": "code",
   "execution_count": 5,
   "id": "af7b8e1a",
   "metadata": {
    "execution": {
     "iopub.execute_input": "2025-03-06T16:11:47.950430Z",
     "iopub.status.busy": "2025-03-06T16:11:47.950237Z",
     "iopub.status.idle": "2025-03-06T16:11:47.956499Z",
     "shell.execute_reply": "2025-03-06T16:11:47.955862Z"
    }
   },
   "outputs": [
    {
     "data": {
      "text/plain": [
       "<ansys.speos.core.opt_prop.OptProp at 0x7f41cd043220>"
      ]
     },
     "execution_count": 5,
     "metadata": {},
     "output_type": "execute_result"
    }
   ],
   "source": [
    "opt_prop = p.create_optical_property(\"Material.1\")\n",
    "opt_prop.set_volume_opaque().set_surface_mirror()  # vop as opaque and sop as mirror\n",
    "# Choose the geometry for this optical property : Body.1\n",
    "opt_prop.set_geometries(geometries=[GeoRef.from_native_link(geopath=\"Body.1\")])\n",
    "opt_prop.commit()"
   ]
  },
  {
   "cell_type": "markdown",
   "id": "737dd8ed",
   "metadata": {},
   "source": [
    "### Prepare an irradiance sensor"
   ]
  },
  {
   "cell_type": "code",
   "execution_count": 6,
   "id": "8a713138",
   "metadata": {
    "execution": {
     "iopub.execute_input": "2025-03-06T16:11:47.958477Z",
     "iopub.status.busy": "2025-03-06T16:11:47.958258Z",
     "iopub.status.idle": "2025-03-06T16:11:47.963790Z",
     "shell.execute_reply": "2025-03-06T16:11:47.963238Z"
    }
   },
   "outputs": [
    {
     "data": {
      "text/plain": [
       "<ansys.speos.core.sensor.SensorIrradiance at 0x7f41cd041bd0>"
      ]
     },
     "execution_count": 6,
     "metadata": {},
     "output_type": "execute_result"
    }
   ],
   "source": [
    "sensor1 = p.create_sensor(name=\"Irradiance.1\")\n",
    "sensor1.set_type_colorimetric()  # colorimetric or spectral so that the sensor can be used both in direct and inverse simulation\n",
    "sensor1.commit()"
   ]
  },
  {
   "cell_type": "markdown",
   "id": "4bcea6bb",
   "metadata": {},
   "source": [
    "### Prepare a surface source"
   ]
  },
  {
   "cell_type": "code",
   "execution_count": 7,
   "id": "4b58f53e",
   "metadata": {
    "execution": {
     "iopub.execute_input": "2025-03-06T16:11:47.965515Z",
     "iopub.status.busy": "2025-03-06T16:11:47.965339Z",
     "iopub.status.idle": "2025-03-06T16:11:47.974862Z",
     "shell.execute_reply": "2025-03-06T16:11:47.974374Z"
    }
   },
   "outputs": [
    {
     "data": {
      "text/plain": [
       "<ansys.speos.core.source.SourceSurface at 0x7f41cd043e50>"
      ]
     },
     "execution_count": 7,
     "metadata": {},
     "output_type": "execute_result"
    }
   ],
   "source": [
    "source1 = p.create_source(name=\"Surface.1\")\n",
    "source1.set_exitance_constant(geometries=[(GeoRef.from_native_link(geopath=\"Body.1/Face.1\"), True)])\n",
    "source1.set_spectrum().set_blackbody()  # blackbody so that the source can be used both in direct and inverse simulation\n",
    "source1.commit()"
   ]
  },
  {
   "cell_type": "markdown",
   "id": "49dc05f8",
   "metadata": {},
   "source": [
    "## Create a simulation"
   ]
  },
  {
   "cell_type": "code",
   "execution_count": 8,
   "id": "c1ca840b",
   "metadata": {
    "execution": {
     "iopub.execute_input": "2025-03-06T16:11:47.976724Z",
     "iopub.status.busy": "2025-03-06T16:11:47.976545Z",
     "iopub.status.idle": "2025-03-06T16:11:47.998564Z",
     "shell.execute_reply": "2025-03-06T16:11:47.998054Z"
    }
   },
   "outputs": [
    {
     "name": "stdout",
     "output_type": "stream",
     "text": [
      "local: {\n",
      "    \"name\": \"Simulation.1\",\n",
      "    \"sensor_paths\": [\n",
      "        \"Irradiance.1\"\n",
      "    ],\n",
      "    \"source_paths\": [\n",
      "        \"Surface.1\"\n",
      "    ],\n",
      "    \"description\": \"\",\n",
      "    \"metadata\": {},\n",
      "    \"simulation_guid\": \"\",\n",
      "    \"simulation\": {\n",
      "        \"direct_mc_simulation_template\": {\n",
      "            \"geom_distance_tolerance\": 0.01,\n",
      "            \"max_impact\": 100,\n",
      "            \"weight\": {\n",
      "                \"minimum_energy_percentage\": 0.005\n",
      "            },\n",
      "            \"dispersion\": true,\n",
      "            \"colorimetric_standard\": \"CIE_1931\",\n",
      "            \"fast_transmission_gathering\": false,\n",
      "            \"ambient_material_uri\": \"\",\n",
      "            \"stop_condition_rays_number\": \"200000\",\n",
      "            \"automatic_save_frequency\": 1800\n",
      "        },\n",
      "        \"name\": \"Simulation.1\",\n",
      "        \"description\": \"\",\n",
      "        \"metadata\": {},\n",
      "        \"scene_guid\": \"26053d74-d329-428d-9054-7e08d9d5fd85\",\n",
      "        \"simulation_path\": \"Simulation.1\",\n",
      "        \"job_type\": \"CPU\"\n",
      "    }\n",
      "}\n",
      "{\n",
      "    \"name\": \"Simulation.1\",\n",
      "    \"metadata\": {\n",
      "        \"UniqueId\": \"8b0da080-93b3-4f7e-b3f6-954466ae6e61\"\n",
      "    },\n",
      "    \"simulation_guid\": \"a579b8c2-9874-4ecb-847f-8efa07312d98\",\n",
      "    \"sensor_paths\": [\n",
      "        \"Irradiance.1\"\n",
      "    ],\n",
      "    \"source_paths\": [\n",
      "        \"Surface.1\"\n",
      "    ],\n",
      "    \"description\": \"\",\n",
      "    \"simulation\": {\n",
      "        \"direct_mc_simulation_template\": {\n",
      "            \"geom_distance_tolerance\": 0.01,\n",
      "            \"max_impact\": 100,\n",
      "            \"weight\": {\n",
      "                \"minimum_energy_percentage\": 0.005\n",
      "            },\n",
      "            \"dispersion\": true,\n",
      "            \"colorimetric_standard\": \"CIE_1931\",\n",
      "            \"fast_transmission_gathering\": false,\n",
      "            \"ambient_material_uri\": \"\",\n",
      "            \"stop_condition_rays_number\": \"200000\",\n",
      "            \"automatic_save_frequency\": 1800\n",
      "        },\n",
      "        \"name\": \"Simulation.1\",\n",
      "        \"description\": \"\",\n",
      "        \"metadata\": {},\n",
      "        \"scene_guid\": \"26053d74-d329-428d-9054-7e08d9d5fd85\",\n",
      "        \"simulation_path\": \"Simulation.1\",\n",
      "        \"job_type\": \"CPU\"\n",
      "    }\n",
      "}\n"
     ]
    }
   ],
   "source": [
    "simulation1 = p.create_simulation(name=\"Simulation.1\")\n",
    "simulation1.set_sensor_paths([\"Irradiance.1\"]).set_source_paths([\"Surface.1\"])\n",
    "print(simulation1)\n",
    "\n",
    "simulation1.commit()\n",
    "print(simulation1)"
   ]
  },
  {
   "cell_type": "markdown",
   "id": "7c33e95c",
   "metadata": {},
   "source": [
    "## Set simulation characteristics"
   ]
  },
  {
   "cell_type": "markdown",
   "id": "7525ee76",
   "metadata": {},
   "source": [
    "Simulation is defined with the same default values as the GUI speos."
   ]
  },
  {
   "cell_type": "markdown",
   "id": "2d24b61e",
   "metadata": {},
   "source": [
    "If the user would like to modify the simulation characteristics,\n",
    "it is possible to do so by setting the simulation characteristics as below."
   ]
  },
  {
   "cell_type": "code",
   "execution_count": 9,
   "id": "9547f21d",
   "metadata": {
    "execution": {
     "iopub.execute_input": "2025-03-06T16:11:48.000421Z",
     "iopub.status.busy": "2025-03-06T16:11:48.000221Z",
     "iopub.status.idle": "2025-03-06T16:11:48.036682Z",
     "shell.execute_reply": "2025-03-06T16:11:48.036019Z"
    }
   },
   "outputs": [
    {
     "name": "stdout",
     "output_type": "stream",
     "text": [
      "{\n",
      "    \"name\": \"Simulation.2\",\n",
      "    \"metadata\": {\n",
      "        \"UniqueId\": \"2fbacbca-46a5-400d-8b69-290e18b8f142\"\n",
      "    },\n",
      "    \"simulation_guid\": \"884b468c-53ed-4888-919e-c36ef3fe8829\",\n",
      "    \"sensor_paths\": [\n",
      "        \"Irradiance.1\"\n",
      "    ],\n",
      "    \"source_paths\": [\n",
      "        \"Surface.1\"\n",
      "    ],\n",
      "    \"description\": \"\",\n",
      "    \"simulation\": {\n",
      "        \"direct_mc_simulation_template\": {\n",
      "            \"geom_distance_tolerance\": 0.01,\n",
      "            \"max_impact\": 200,\n",
      "            \"colorimetric_standard\": \"CIE_1964\",\n",
      "            \"ambient_material_uri\": \"/app/assets/AIR.material\",\n",
      "            \"dispersion\": false,\n",
      "            \"fast_transmission_gathering\": false,\n",
      "            \"stop_condition_rays_number\": \"200000\",\n",
      "            \"automatic_save_frequency\": 1800\n",
      "        },\n",
      "        \"name\": \"Simulation.2\",\n",
      "        \"description\": \"\",\n",
      "        \"metadata\": {},\n",
      "        \"scene_guid\": \"26053d74-d329-428d-9054-7e08d9d5fd85\",\n",
      "        \"simulation_path\": \"Simulation.2\",\n",
      "        \"job_type\": \"CPU\"\n",
      "    }\n",
      "}\n"
     ]
    }
   ],
   "source": [
    "simulation2_direct = p.create_simulation(name=\"Simulation.2\")\n",
    "\n",
    "simulation2_direct.set_ambient_material_file_uri(\n",
    "    uri=str(tests_data_path / \"AIR.material\")\n",
    ").set_colorimetric_standard_CIE_1964().set_weight_none().set_geom_distance_tolerance(\n",
    "    0.01\n",
    ").set_max_impact(200).set_dispersion(False)\n",
    "simulation2_direct.set_sensor_paths([\"Irradiance.1\"]).set_source_paths([\"Surface.1\"]).commit()\n",
    "print(simulation2_direct)"
   ]
  },
  {
   "cell_type": "markdown",
   "id": "bbd16c1c",
   "metadata": {},
   "source": [
    "## Read information"
   ]
  },
  {
   "cell_type": "markdown",
   "id": "28069554",
   "metadata": {},
   "source": [
    "Read simulation information"
   ]
  },
  {
   "cell_type": "code",
   "execution_count": 10,
   "id": "b648618d",
   "metadata": {
    "execution": {
     "iopub.execute_input": "2025-03-06T16:11:48.038713Z",
     "iopub.status.busy": "2025-03-06T16:11:48.038514Z",
     "iopub.status.idle": "2025-03-06T16:11:48.045272Z",
     "shell.execute_reply": "2025-03-06T16:11:48.044734Z"
    }
   },
   "outputs": [
    {
     "name": "stdout",
     "output_type": "stream",
     "text": [
      "{\n",
      "    \"name\": \"Simulation.1\",\n",
      "    \"metadata\": {\n",
      "        \"UniqueId\": \"8b0da080-93b3-4f7e-b3f6-954466ae6e61\"\n",
      "    },\n",
      "    \"simulation_guid\": \"a579b8c2-9874-4ecb-847f-8efa07312d98\",\n",
      "    \"sensor_paths\": [\n",
      "        \"Irradiance.1\"\n",
      "    ],\n",
      "    \"source_paths\": [\n",
      "        \"Surface.1\"\n",
      "    ],\n",
      "    \"description\": \"\",\n",
      "    \"simulation\": {\n",
      "        \"direct_mc_simulation_template\": {\n",
      "            \"geom_distance_tolerance\": 0.01,\n",
      "            \"max_impact\": 100,\n",
      "            \"weight\": {\n",
      "                \"minimum_energy_percentage\": 0.005\n",
      "            },\n",
      "            \"dispersion\": true,\n",
      "            \"colorimetric_standard\": \"CIE_1931\",\n",
      "            \"fast_transmission_gathering\": false,\n",
      "            \"ambient_material_uri\": \"\",\n",
      "            \"stop_condition_rays_number\": \"200000\",\n",
      "            \"automatic_save_frequency\": 1800\n",
      "        },\n",
      "        \"name\": \"Simulation.1\",\n",
      "        \"description\": \"\",\n",
      "        \"metadata\": {},\n",
      "        \"scene_guid\": \"26053d74-d329-428d-9054-7e08d9d5fd85\",\n",
      "        \"simulation_path\": \"Simulation.1\",\n",
      "        \"job_type\": \"CPU\"\n",
      "    }\n",
      "}\n"
     ]
    }
   ],
   "source": [
    "print(simulation1)"
   ]
  },
  {
   "cell_type": "markdown",
   "id": "e2966fe4",
   "metadata": {},
   "source": [
    "Read project information"
   ]
  },
  {
   "cell_type": "code",
   "execution_count": 11,
   "id": "34c0d098",
   "metadata": {
    "execution": {
     "iopub.execute_input": "2025-03-06T16:11:48.047010Z",
     "iopub.status.busy": "2025-03-06T16:11:48.046805Z",
     "iopub.status.idle": "2025-03-06T16:11:48.066993Z",
     "shell.execute_reply": "2025-03-06T16:11:48.066384Z"
    }
   },
   "outputs": [
    {
     "name": "stdout",
     "output_type": "stream",
     "text": [
      "{\n",
      "    \"part_guid\": \"59cff296-36f6-45fd-adf8-0d685439d439\",\n",
      "    \"sources\": [\n",
      "        {\n",
      "            \"name\": \"Surface.1\",\n",
      "            \"metadata\": {\n",
      "                \"UniqueId\": \"d0fed246-19b5-4035-9d83-2a212da2af7f\"\n",
      "            },\n",
      "            \"source_guid\": \"dae3a2ab-71bb-4b3b-ad5f-36ea87d49161\",\n",
      "            \"description\": \"\",\n",
      "            \"source\": {\n",
      "                \"name\": \"Surface.1\",\n",
      "                \"surface\": {\n",
      "                    \"luminous_flux\": {\n",
      "                        \"luminous_value\": 683.0\n",
      "                    },\n",
      "                    \"intensity_guid\": \"b0e2a078-5a7f-4121-bb02-fb524cfa8762\",\n",
      "                    \"exitance_constant\": {\n",
      "                        \"geo_paths\": [\n",
      "                            {\n",
      "                                \"geo_path\": \"Body.1/Face.1\",\n",
      "                                \"reverse_normal\": true\n",
      "                            }\n",
      "                        ]\n",
      "                    },\n",
      "                    \"spectrum_guid\": \"75fdae1b-e110-47a5-93c6-fb3022a6d1d0\",\n",
      "                    \"intensity\": {\n",
      "                        \"name\": \"Surface.1.Intensity\",\n",
      "                        \"cos\": {\n",
      "                            \"N\": 1.0,\n",
      "                            \"total_angle\": 180.0\n",
      "                        },\n",
      "                        \"description\": \"\",\n",
      "                        \"metadata\": {}\n",
      "                    },\n",
      "                    \"spectrum\": {\n",
      "                        \"name\": \"Surface.1.Spectrum\",\n",
      "                        \"blackbody\": {\n",
      "                            \"temperature\": 2856.0\n",
      "                        },\n",
      "                        \"description\": \"\",\n",
      "                        \"metadata\": {}\n",
      "                    }\n",
      "                },\n",
      "                \"description\": \"\",\n",
      "                \"metadata\": {}\n",
      "            }\n",
      "        }\n",
      "    ],\n",
      "    \"sensors\": [\n",
      "        {\n",
      "            \"name\": \"Irradiance.1\",\n",
      "            \"metadata\": {\n",
      "                \"UniqueId\": \"fb5d9a6d-ae9a-4684-bff6-9b8ab5f218fd\"\n",
      "            },\n",
      "            \"sensor_guid\": \"301cd6fe-ae7d-47f9-ae1a-5384a790ec19\",\n",
      "            \"description\": \"\",\n",
      "            \"result_file_name\": \"\",\n",
      "            \"sensor\": {\n",
      "                \"irradiance_sensor_template\": {\n",
      "                    \"sensor_type_colorimetric\": {\n",
      "                        \"wavelengths_range\": {\n",
      "                            \"w_start\": 400.0,\n",
      "                            \"w_end\": 700.0,\n",
      "                            \"w_sampling\": 13\n",
      "                        }\n",
      "                    },\n",
      "                    \"illuminance_type_planar\": {},\n",
      "                    \"dimensions\": {\n",
      "                        \"x_start\": -50.0,\n",
      "                        \"x_end\": 50.0,\n",
      "                        \"x_sampling\": 100,\n",
      "                        \"y_start\": -50.0,\n",
      "                        \"y_end\": 50.0,\n",
      "                        \"y_sampling\": 100\n",
      "                    },\n",
      "                    \"axis_system\": [\n",
      "                        0.0,\n",
      "                        0.0,\n",
      "                        0.0,\n",
      "                        1.0,\n",
      "                        0.0,\n",
      "                        0.0,\n",
      "                        0.0,\n",
      "                        1.0,\n",
      "                        0.0,\n",
      "                        0.0,\n",
      "                        0.0,\n",
      "                        1.0\n",
      "                    ],\n",
      "                    \"layer_type_none\": {},\n",
      "                    \"ray_file_type\": \"RayFileNone\",\n",
      "                    \"integration_direction\": []\n",
      "                },\n",
      "                \"name\": \"Irradiance.1\",\n",
      "                \"description\": \"\",\n",
      "                \"metadata\": {}\n",
      "            }\n",
      "        }\n",
      "    ],\n",
      "    \"simulations\": [\n",
      "        {\n",
      "            \"name\": \"Simulation.1\",\n",
      "            \"metadata\": {\n",
      "                \"UniqueId\": \"8b0da080-93b3-4f7e-b3f6-954466ae6e61\"\n",
      "            },\n",
      "            \"simulation_guid\": \"a579b8c2-9874-4ecb-847f-8efa07312d98\",\n",
      "            \"sensor_paths\": [\n",
      "                \"Irradiance.1\"\n",
      "            ],\n",
      "            \"source_paths\": [\n",
      "                \"Surface.1\"\n",
      "            ],\n",
      "            \"description\": \"\",\n",
      "            \"simulation\": {\n",
      "                \"direct_mc_simulation_template\": {\n",
      "                    \"geom_distance_tolerance\": 0.01,\n",
      "                    \"max_impact\": 100,\n",
      "                    \"weight\": {\n",
      "                        \"minimum_energy_percentage\": 0.005\n",
      "                    },\n",
      "                    \"dispersion\": true,\n",
      "                    \"colorimetric_standard\": \"CIE_1931\",\n",
      "                    \"fast_transmission_gathering\": false,\n",
      "                    \"ambient_material_uri\": \"\",\n",
      "                    \"stop_condition_rays_number\": \"200000\",\n",
      "                    \"automatic_save_frequency\": 1800\n",
      "                },\n",
      "                \"name\": \"Simulation.1\",\n",
      "                \"description\": \"\",\n",
      "                \"metadata\": {},\n",
      "                \"scene_guid\": \"26053d74-d329-428d-9054-7e08d9d5fd85\",\n",
      "                \"simulation_path\": \"Simulation.1\",\n",
      "                \"job_type\": \"CPU\"\n",
      "            }\n",
      "        },\n",
      "        {\n",
      "            \"name\": \"Simulation.2\",\n",
      "            \"metadata\": {\n",
      "                \"UniqueId\": \"2fbacbca-46a5-400d-8b69-290e18b8f142\"\n",
      "            },\n",
      "            \"simulation_guid\": \"884b468c-53ed-4888-919e-c36ef3fe8829\",\n",
      "            \"sensor_paths\": [\n",
      "                \"Irradiance.1\"\n",
      "            ],\n",
      "            \"source_paths\": [\n",
      "                \"Surface.1\"\n",
      "            ],\n",
      "            \"description\": \"\",\n",
      "            \"simulation\": {\n",
      "                \"direct_mc_simulation_template\": {\n",
      "                    \"geom_distance_tolerance\": 0.01,\n",
      "                    \"max_impact\": 200,\n",
      "                    \"colorimetric_standard\": \"CIE_1964\",\n",
      "                    \"ambient_material_uri\": \"/app/assets/AIR.material\",\n",
      "                    \"dispersion\": false,\n",
      "                    \"fast_transmission_gathering\": false,\n",
      "                    \"stop_condition_rays_number\": \"200000\",\n",
      "                    \"automatic_save_frequency\": 1800\n",
      "                },\n",
      "                \"name\": \"Simulation.2\",\n",
      "                \"description\": \"\",\n",
      "                \"metadata\": {},\n",
      "                \"scene_guid\": \"26053d74-d329-428d-9054-7e08d9d5fd85\",\n",
      "                \"simulation_path\": \"Simulation.2\",\n",
      "                \"job_type\": \"CPU\"\n",
      "            }\n",
      "        }\n",
      "    ],\n",
      "    \"materials\": [\n",
      "        {\n",
      "            \"name\": \"Material.1\",\n",
      "            \"metadata\": {\n",
      "                \"UniqueId\": \"473d2873-ac5e-4dc9-8c96-3b388d6e88fb\"\n",
      "            },\n",
      "            \"vop_guid\": \"53c131db-3e60-4943-8f0b-d0baa155b74f\",\n",
      "            \"sop_guids\": [\n",
      "                \"60fc2ce1-6114-42ed-a4a7-fd1b5739376f\"\n",
      "            ],\n",
      "            \"geometries\": {\n",
      "                \"geo_paths\": [\n",
      "                    \"Body.1\"\n",
      "                ]\n",
      "            },\n",
      "            \"description\": \"\",\n",
      "            \"vop\": {\n",
      "                \"name\": \"Material.1.VOP\",\n",
      "                \"opaque\": {},\n",
      "                \"description\": \"\",\n",
      "                \"metadata\": {}\n",
      "            },\n",
      "            \"sops\": [\n",
      "                {\n",
      "                    \"name\": \"Material.1.SOP\",\n",
      "                    \"mirror\": {\n",
      "                        \"reflectance\": 100.0\n",
      "                    },\n",
      "                    \"description\": \"\",\n",
      "                    \"metadata\": {}\n",
      "                }\n",
      "            ]\n",
      "        }\n",
      "    ],\n",
      "    \"name\": \"\",\n",
      "    \"description\": \"\",\n",
      "    \"metadata\": {},\n",
      "    \"scenes\": []\n",
      "}\n"
     ]
    }
   ],
   "source": [
    "print(p)"
   ]
  },
  {
   "cell_type": "markdown",
   "id": "44219ee8",
   "metadata": {},
   "source": [
    "## Update simulation settings"
   ]
  },
  {
   "cell_type": "markdown",
   "id": "e23b3202",
   "metadata": {},
   "source": [
    "If you are manipulating a simulation already committed, remember to commit your changes."
   ]
  },
  {
   "cell_type": "markdown",
   "id": "f41bc0ff",
   "metadata": {},
   "source": [
    "If you don't, you will still only watch what is committed on the server."
   ]
  },
  {
   "cell_type": "code",
   "execution_count": 12,
   "id": "5784a049",
   "metadata": {
    "execution": {
     "iopub.execute_input": "2025-03-06T16:11:48.069290Z",
     "iopub.status.busy": "2025-03-06T16:11:48.068873Z",
     "iopub.status.idle": "2025-03-06T16:11:48.077864Z",
     "shell.execute_reply": "2025-03-06T16:11:48.077217Z"
    }
   },
   "outputs": [
    {
     "name": "stdout",
     "output_type": "stream",
     "text": [
      "{\n",
      "    \"name\": \"Simulation.1\",\n",
      "    \"metadata\": {\n",
      "        \"UniqueId\": \"8b0da080-93b3-4f7e-b3f6-954466ae6e61\"\n",
      "    },\n",
      "    \"simulation_guid\": \"a579b8c2-9874-4ecb-847f-8efa07312d98\",\n",
      "    \"sensor_paths\": [\n",
      "        \"Irradiance.1\"\n",
      "    ],\n",
      "    \"source_paths\": [\n",
      "        \"Surface.1\"\n",
      "    ],\n",
      "    \"description\": \"\",\n",
      "    \"simulation\": {\n",
      "        \"direct_mc_simulation_template\": {\n",
      "            \"geom_distance_tolerance\": 0.01,\n",
      "            \"max_impact\": 100,\n",
      "            \"weight\": {\n",
      "                \"minimum_energy_percentage\": 0.005\n",
      "            },\n",
      "            \"dispersion\": true,\n",
      "            \"ambient_material_uri\": \"/app/assets/AIR.material\",\n",
      "            \"colorimetric_standard\": \"CIE_1931\",\n",
      "            \"fast_transmission_gathering\": false,\n",
      "            \"stop_condition_rays_number\": \"200000\",\n",
      "            \"automatic_save_frequency\": 1800\n",
      "        },\n",
      "        \"name\": \"Simulation.1\",\n",
      "        \"description\": \"\",\n",
      "        \"metadata\": {},\n",
      "        \"scene_guid\": \"26053d74-d329-428d-9054-7e08d9d5fd85\",\n",
      "        \"simulation_path\": \"Simulation.1\",\n",
      "        \"job_type\": \"CPU\"\n",
      "    }\n",
      "}\n"
     ]
    }
   ],
   "source": [
    "simulation1.set_ambient_material_file_uri(uri=str(tests_data_path / \"AIR.material\"))\n",
    "simulation1.commit()\n",
    "print(simulation1)"
   ]
  },
  {
   "cell_type": "markdown",
   "id": "4d1c5938",
   "metadata": {},
   "source": [
    "## Reset"
   ]
  },
  {
   "cell_type": "markdown",
   "id": "3370983e",
   "metadata": {},
   "source": [
    "Possibility to reset local values from the one available in the server."
   ]
  },
  {
   "cell_type": "code",
   "execution_count": 13,
   "id": "6b2ff516",
   "metadata": {
    "execution": {
     "iopub.execute_input": "2025-03-06T16:11:48.080043Z",
     "iopub.status.busy": "2025-03-06T16:11:48.079649Z",
     "iopub.status.idle": "2025-03-06T16:11:48.098456Z",
     "shell.execute_reply": "2025-03-06T16:11:48.097871Z"
    }
   },
   "outputs": [
    {
     "name": "stdout",
     "output_type": "stream",
     "text": [
      "local: {\n",
      "    \"name\": \"Simulation.1\",\n",
      "    \"sensor_paths\": [\n",
      "        \"Irradiance.1\"\n",
      "    ],\n",
      "    \"source_paths\": [\n",
      "        \"Surface.1\"\n",
      "    ],\n",
      "    \"description\": \"\",\n",
      "    \"metadata\": {},\n",
      "    \"simulation_guid\": \"\",\n",
      "    \"simulation\": {\n",
      "        \"direct_mc_simulation_template\": {\n",
      "            \"geom_distance_tolerance\": 0.01,\n",
      "            \"max_impact\": 100,\n",
      "            \"weight\": {\n",
      "                \"minimum_energy_percentage\": 0.005\n",
      "            },\n",
      "            \"dispersion\": true,\n",
      "            \"ambient_material_uri\": \"/app/assets/AIR.material\",\n",
      "            \"colorimetric_standard\": \"CIE_1931\",\n",
      "            \"fast_transmission_gathering\": false,\n",
      "            \"stop_condition_rays_number\": \"200000\",\n",
      "            \"automatic_save_frequency\": 1800\n",
      "        },\n",
      "        \"name\": \"Simulation.1\",\n",
      "        \"description\": \"\",\n",
      "        \"metadata\": {},\n",
      "        \"scene_guid\": \"26053d74-d329-428d-9054-7e08d9d5fd85\",\n",
      "        \"simulation_path\": \"Simulation.1\",\n",
      "        \"job_type\": \"CPU\"\n",
      "    }\n",
      "}\n"
     ]
    }
   ],
   "source": [
    "simulation1.set_max_impact(1000)  # adjust max impact but no commit\n",
    "simulation1.reset()  # reset -> this will apply the server value to the local value\n",
    "simulation1.delete()  # delete (to display the local value with the below print)\n",
    "print(simulation1)"
   ]
  },
  {
   "cell_type": "markdown",
   "id": "4cabbafe",
   "metadata": {},
   "source": [
    "## Other simulation examples"
   ]
  },
  {
   "cell_type": "markdown",
   "id": "2c30ad49",
   "metadata": {},
   "source": [
    "### Inverse simulation"
   ]
  },
  {
   "cell_type": "code",
   "execution_count": 14,
   "id": "d0cb9d9d",
   "metadata": {
    "execution": {
     "iopub.execute_input": "2025-03-06T16:11:48.100546Z",
     "iopub.status.busy": "2025-03-06T16:11:48.100151Z",
     "iopub.status.idle": "2025-03-06T16:11:48.133802Z",
     "shell.execute_reply": "2025-03-06T16:11:48.133265Z"
    }
   },
   "outputs": [
    {
     "name": "stdout",
     "output_type": "stream",
     "text": [
      "{\n",
      "    \"name\": \"Simulation.3\",\n",
      "    \"metadata\": {\n",
      "        \"UniqueId\": \"ba94f095-8166-4143-a5fc-eb6b6644e57d\"\n",
      "    },\n",
      "    \"simulation_guid\": \"eda6a510-619e-4a89-a388-6b6354485257\",\n",
      "    \"sensor_paths\": [\n",
      "        \"Irradiance.1\"\n",
      "    ],\n",
      "    \"source_paths\": [\n",
      "        \"Surface.1\"\n",
      "    ],\n",
      "    \"description\": \"\",\n",
      "    \"simulation\": {\n",
      "        \"inverse_mc_simulation_template\": {\n",
      "            \"geom_distance_tolerance\": 0.01,\n",
      "            \"max_impact\": 100,\n",
      "            \"weight\": {\n",
      "                \"minimum_energy_percentage\": 0.005\n",
      "            },\n",
      "            \"number_of_gathering_rays_per_source\": 1,\n",
      "            \"colorimetric_standard\": \"CIE_1931\",\n",
      "            \"dispersion\": false,\n",
      "            \"splitting\": false,\n",
      "            \"maximum_gathering_error\": 0,\n",
      "            \"maximum_gathering_error_percentage\": 0.0,\n",
      "            \"fast_transmission_gathering\": false,\n",
      "            \"ambient_material_uri\": \"\",\n",
      "            \"optimized_propagation_none\": {\n",
      "                \"stop_condition_passes_number\": 5\n",
      "            },\n",
      "            \"automatic_save_frequency\": 1800\n",
      "        },\n",
      "        \"name\": \"Simulation.3\",\n",
      "        \"description\": \"\",\n",
      "        \"metadata\": {},\n",
      "        \"scene_guid\": \"26053d74-d329-428d-9054-7e08d9d5fd85\",\n",
      "        \"simulation_path\": \"Simulation.3\",\n",
      "        \"job_type\": \"CPU\"\n",
      "    }\n",
      "}\n"
     ]
    }
   ],
   "source": [
    "simulation3 = p.create_simulation(name=\"Simulation.3\", feature_type=SimulationInverse)\n",
    "simulation3.set_sensor_paths(sensor_paths=[\"Irradiance.1\"]).set_source_paths(\n",
    "    source_paths=[\"Surface.1\"]\n",
    ").commit()\n",
    "print(simulation3)"
   ]
  },
  {
   "cell_type": "markdown",
   "id": "d3b98d47",
   "metadata": {},
   "source": [
    "### Interactive simulation"
   ]
  },
  {
   "cell_type": "code",
   "execution_count": 15,
   "id": "57b1914c",
   "metadata": {
    "execution": {
     "iopub.execute_input": "2025-03-06T16:11:48.135958Z",
     "iopub.status.busy": "2025-03-06T16:11:48.135485Z",
     "iopub.status.idle": "2025-03-06T16:11:48.180956Z",
     "shell.execute_reply": "2025-03-06T16:11:48.180228Z"
    }
   },
   "outputs": [
    {
     "name": "stdout",
     "output_type": "stream",
     "text": [
      "{\n",
      "    \"name\": \"Simulation.4\",\n",
      "    \"metadata\": {\n",
      "        \"UniqueId\": \"a7bb803f-ec82-4288-8768-e45198578afe\"\n",
      "    },\n",
      "    \"simulation_guid\": \"fd2f73b3-5b09-4f1d-9727-8aa94fb20217\",\n",
      "    \"source_paths\": [\n",
      "        \"Surface.1\"\n",
      "    ],\n",
      "    \"description\": \"\",\n",
      "    \"sensor_paths\": [],\n",
      "    \"simulation\": {\n",
      "        \"name\": \"Simulation.4\",\n",
      "        \"interactive_simulation_template\": {\n",
      "            \"geom_distance_tolerance\": 0.01,\n",
      "            \"max_impact\": 100,\n",
      "            \"weight\": {\n",
      "                \"minimum_energy_percentage\": 0.005\n",
      "            },\n",
      "            \"colorimetric_standard\": \"CIE_1931\",\n",
      "            \"ambient_material_uri\": \"\",\n",
      "            \"rays_number_per_sources\": [],\n",
      "            \"light_expert\": false,\n",
      "            \"impact_report\": false\n",
      "        },\n",
      "        \"description\": \"\",\n",
      "        \"metadata\": {},\n",
      "        \"scene_guid\": \"26053d74-d329-428d-9054-7e08d9d5fd85\",\n",
      "        \"simulation_path\": \"Simulation.4\",\n",
      "        \"job_type\": \"CPU\"\n",
      "    }\n",
      "}\n"
     ]
    }
   ],
   "source": [
    "simulation4 = p.create_simulation(name=\"Simulation.4\", feature_type=SimulationInteractive)\n",
    "simulation4.set_source_paths(source_paths=[\"Surface.1\"]).commit()\n",
    "print(simulation4)"
   ]
  }
 ],
 "metadata": {
  "jupytext": {
   "cell_metadata_filter": "-all",
   "main_language": "python",
   "notebook_metadata_filter": "-all",
   "text_representation": {
    "extension": ".py",
    "format_name": "light"
   }
  },
  "language_info": {
   "codemirror_mode": {
    "name": "ipython",
    "version": 3
   },
   "file_extension": ".py",
   "mimetype": "text/x-python",
   "name": "python",
   "nbconvert_exporter": "python",
   "pygments_lexer": "ipython3",
   "version": "3.10.16"
  }
 },
 "nbformat": 4,
 "nbformat_minor": 5
}
