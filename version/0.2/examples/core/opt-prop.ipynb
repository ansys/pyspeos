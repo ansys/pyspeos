{
 "cells": [
  {
   "cell_type": "markdown",
   "id": "5123eb53",
   "metadata": {},
   "source": [
    "# How to create an optical property"
   ]
  },
  {
   "cell_type": "markdown",
   "id": "9ef908db",
   "metadata": {},
   "source": [
    "This tutorial demonstrates how to create an optical property."
   ]
  },
  {
   "cell_type": "markdown",
   "id": "4ab36d59",
   "metadata": {},
   "source": [
    "## What is an optical property?"
   ]
  },
  {
   "cell_type": "markdown",
   "id": "f02785e7",
   "metadata": {},
   "source": [
    "An optical property (also named material), gathers two notions:\n",
    "the surface optical property (SOP) and the volume optical property (VOP)."
   ]
  },
  {
   "cell_type": "markdown",
   "id": "c7fe48b5",
   "metadata": {},
   "source": [
    "The property is then applied to a geometry (like bodies, faces)."
   ]
  },
  {
   "cell_type": "code",
   "execution_count": 1,
   "id": "6ceccf25",
   "metadata": {
    "execution": {
     "iopub.execute_input": "2025-03-06T16:10:08.790492Z",
     "iopub.status.busy": "2025-03-06T16:10:08.790301Z",
     "iopub.status.idle": "2025-03-06T16:10:09.373137Z",
     "shell.execute_reply": "2025-03-06T16:10:09.372453Z"
    }
   },
   "outputs": [],
   "source": [
    "from pathlib import Path\n",
    "\n",
    "from ansys.speos.core import GeoRef, Project, Speos\n",
    "\n",
    "# If using docker container\n",
    "tests_data_path = Path(\"/app\") / \"assets\"\n",
    "# If using local server\n",
    "# tests_data_path = Path().resolve().parent.parent / \"tests\" / \"assets\""
   ]
  },
  {
   "cell_type": "markdown",
   "id": "a3d39a83",
   "metadata": {},
   "source": [
    "## Create connection with speos rpc server"
   ]
  },
  {
   "cell_type": "code",
   "execution_count": 2,
   "id": "9ebb6306",
   "metadata": {
    "execution": {
     "iopub.execute_input": "2025-03-06T16:10:09.375456Z",
     "iopub.status.busy": "2025-03-06T16:10:09.375189Z",
     "iopub.status.idle": "2025-03-06T16:10:09.384563Z",
     "shell.execute_reply": "2025-03-06T16:10:09.384007Z"
    }
   },
   "outputs": [],
   "source": [
    "speos = Speos(host=\"localhost\", port=50098)"
   ]
  },
  {
   "cell_type": "markdown",
   "id": "474c6b30",
   "metadata": {},
   "source": [
    "## New Project"
   ]
  },
  {
   "cell_type": "markdown",
   "id": "fb8c07d2",
   "metadata": {},
   "source": [
    "The only way to create an optical property is to create it from a project."
   ]
  },
  {
   "cell_type": "code",
   "execution_count": 3,
   "id": "ad151f1d",
   "metadata": {
    "execution": {
     "iopub.execute_input": "2025-03-06T16:10:09.386596Z",
     "iopub.status.busy": "2025-03-06T16:10:09.386260Z",
     "iopub.status.idle": "2025-03-06T16:10:09.392365Z",
     "shell.execute_reply": "2025-03-06T16:10:09.391694Z"
    }
   },
   "outputs": [
    {
     "name": "stdout",
     "output_type": "stream",
     "text": [
      "{\n",
      "    \"name\": \"\",\n",
      "    \"description\": \"\",\n",
      "    \"metadata\": {},\n",
      "    \"part_guid\": \"\",\n",
      "    \"sources\": [],\n",
      "    \"sensors\": [],\n",
      "    \"simulations\": [],\n",
      "    \"materials\": [],\n",
      "    \"scenes\": []\n",
      "}\n"
     ]
    }
   ],
   "source": [
    "p = Project(speos=speos)\n",
    "print(p)"
   ]
  },
  {
   "cell_type": "markdown",
   "id": "b2b61141",
   "metadata": {},
   "source": [
    "## Create VOP (volume optical property)"
   ]
  },
  {
   "cell_type": "markdown",
   "id": "63c31081",
   "metadata": {},
   "source": [
    "Create locally."
   ]
  },
  {
   "cell_type": "markdown",
   "id": "80ed063c",
   "metadata": {},
   "source": [
    "The mention \"local: \" is added when printing the optical property."
   ]
  },
  {
   "cell_type": "code",
   "execution_count": 4,
   "id": "4ac941dd",
   "metadata": {
    "execution": {
     "iopub.execute_input": "2025-03-06T16:10:09.394399Z",
     "iopub.status.busy": "2025-03-06T16:10:09.394043Z",
     "iopub.status.idle": "2025-03-06T16:10:09.398404Z",
     "shell.execute_reply": "2025-03-06T16:10:09.397775Z"
    }
   },
   "outputs": [
    {
     "name": "stdout",
     "output_type": "stream",
     "text": [
      "local: {\n",
      "    \"name\": \"Material.1\",\n",
      "    \"geometries\": {\n",
      "        \"geo_paths\": [\n",
      "            \"TheBodyB\",\n",
      "            \"TheBodyC\"\n",
      "        ]\n",
      "    },\n",
      "    \"description\": \"\",\n",
      "    \"metadata\": {},\n",
      "    \"sop_guids\": [],\n",
      "    \"vop\": {\n",
      "        \"name\": \"Material.1.VOP\",\n",
      "        \"opaque\": {},\n",
      "        \"description\": \"\",\n",
      "        \"metadata\": {}\n",
      "    },\n",
      "    \"sops\": [\n",
      "        {\n",
      "            \"name\": \"Material.1.SOP\",\n",
      "            \"mirror\": {\n",
      "                \"reflectance\": 80.0\n",
      "            },\n",
      "            \"description\": \"\",\n",
      "            \"metadata\": {}\n",
      "        }\n",
      "    ]\n",
      "}\n"
     ]
    }
   ],
   "source": [
    "op1 = p.create_optical_property(name=\"Material.1\")\n",
    "op1.set_surface_mirror(reflectance=80)  # SOP : mirror\n",
    "op1.set_volume_opaque()  # VOP : opaque\n",
    "# This optical property will be applied to two bodies named : \"TheBodyB\" and \"TheBodyC\".\n",
    "op1.set_geometries(\n",
    "    geometries=[\n",
    "        GeoRef.from_native_link(geopath=\"TheBodyB\"),\n",
    "        GeoRef.from_native_link(geopath=\"TheBodyC\"),\n",
    "    ]\n",
    ")\n",
    "print(op1)"
   ]
  },
  {
   "cell_type": "markdown",
   "id": "f8f3ff85",
   "metadata": {},
   "source": [
    "## Push it to the server."
   ]
  },
  {
   "cell_type": "markdown",
   "id": "92109d18",
   "metadata": {},
   "source": [
    "Now that it is committed to the server,\n",
    "the mention \"local: \" is no more present when printing the optical property."
   ]
  },
  {
   "cell_type": "code",
   "execution_count": 5,
   "id": "f5e329e5",
   "metadata": {
    "execution": {
     "iopub.execute_input": "2025-03-06T16:10:09.400574Z",
     "iopub.status.busy": "2025-03-06T16:10:09.400203Z",
     "iopub.status.idle": "2025-03-06T16:10:09.407498Z",
     "shell.execute_reply": "2025-03-06T16:10:09.406966Z"
    }
   },
   "outputs": [
    {
     "name": "stdout",
     "output_type": "stream",
     "text": [
      "{\n",
      "    \"name\": \"Material.1\",\n",
      "    \"metadata\": {\n",
      "        \"UniqueId\": \"a7d705d9-ef4b-47ad-bebe-afb1704d08b5\"\n",
      "    },\n",
      "    \"vop_guid\": \"1cac0558-0959-4705-bd01-90f513c812cb\",\n",
      "    \"sop_guids\": [\n",
      "        \"30188488-2795-44b8-8e82-df64abbecbda\"\n",
      "    ],\n",
      "    \"geometries\": {\n",
      "        \"geo_paths\": [\n",
      "            \"TheBodyB\",\n",
      "            \"TheBodyC\"\n",
      "        ]\n",
      "    },\n",
      "    \"description\": \"\",\n",
      "    \"vop\": {\n",
      "        \"name\": \"Material.1.VOP\",\n",
      "        \"opaque\": {},\n",
      "        \"description\": \"\",\n",
      "        \"metadata\": {}\n",
      "    },\n",
      "    \"sops\": [\n",
      "        {\n",
      "            \"name\": \"Material.1.SOP\",\n",
      "            \"mirror\": {\n",
      "                \"reflectance\": 80.0\n",
      "            },\n",
      "            \"description\": \"\",\n",
      "            \"metadata\": {}\n",
      "        }\n",
      "    ]\n",
      "}\n"
     ]
    }
   ],
   "source": [
    "op1.commit()\n",
    "print(op1)"
   ]
  },
  {
   "cell_type": "markdown",
   "id": "0664d794",
   "metadata": {},
   "source": [
    "## Another example."
   ]
  },
  {
   "cell_type": "markdown",
   "id": "dcff0b29",
   "metadata": {},
   "source": [
    "Setting several more characteristics."
   ]
  },
  {
   "cell_type": "code",
   "execution_count": 6,
   "id": "925d5032",
   "metadata": {
    "execution": {
     "iopub.execute_input": "2025-03-06T16:10:09.409499Z",
     "iopub.status.busy": "2025-03-06T16:10:09.409126Z",
     "iopub.status.idle": "2025-03-06T16:10:09.417476Z",
     "shell.execute_reply": "2025-03-06T16:10:09.416924Z"
    }
   },
   "outputs": [
    {
     "name": "stdout",
     "output_type": "stream",
     "text": [
      "{\n",
      "    \"name\": \"Material.2\",\n",
      "    \"metadata\": {\n",
      "        \"UniqueId\": \"26a3e1ba-80a7-4e67-83ca-9d5809ca91ce\"\n",
      "    },\n",
      "    \"vop_guid\": \"e07f819f-c607-40ee-bce6-272c63994bb2\",\n",
      "    \"sop_guids\": [\n",
      "        \"2b42150f-8547-4dfc-876c-4c446d901c8b\"\n",
      "    ],\n",
      "    \"geometries\": {\n",
      "        \"geo_paths\": [\n",
      "            \"TheBodyD\",\n",
      "            \"TheBodyE\"\n",
      "        ]\n",
      "    },\n",
      "    \"description\": \"\",\n",
      "    \"vop\": {\n",
      "        \"name\": \"Material.2.VOP\",\n",
      "        \"library\": {\n",
      "            \"material_file_uri\": \"/app/assets/AIR.material\"\n",
      "        },\n",
      "        \"description\": \"\",\n",
      "        \"metadata\": {}\n",
      "    },\n",
      "    \"sops\": [\n",
      "        {\n",
      "            \"name\": \"Material.2.SOP\",\n",
      "            \"optical_polished\": {},\n",
      "            \"description\": \"\",\n",
      "            \"metadata\": {}\n",
      "        }\n",
      "    ]\n",
      "}\n"
     ]
    }
   ],
   "source": [
    "op2 = p.create_optical_property(name=\"Material.2\")\n",
    "op2.set_surface_opticalpolished()  # SOP : optical polished\n",
    "op2.set_volume_library(\n",
    "    path=str(tests_data_path / \"AIR.material\")\n",
    ")  # VOP : selected library via a file .material\n",
    "# This optical property will be applied to two bodies named : \"TheBodyD\" and \"TheBodyE\".\n",
    "op2.set_geometries(\n",
    "    geometries=[\n",
    "        GeoRef.from_native_link(geopath=\"TheBodyD\"),\n",
    "        GeoRef.from_native_link(geopath=\"TheBodyE\"),\n",
    "    ]\n",
    ")\n",
    "op2.commit()\n",
    "print(op2)"
   ]
  },
  {
   "cell_type": "markdown",
   "id": "2b1d6193",
   "metadata": {},
   "source": [
    "## Create FOP (face optical property)"
   ]
  },
  {
   "cell_type": "markdown",
   "id": "85328700",
   "metadata": {},
   "source": [
    "Sometimes it is needed to create property but only for surface."
   ]
  },
  {
   "cell_type": "markdown",
   "id": "f78bd612",
   "metadata": {},
   "source": [
    "In this case, no call for set_volume_xxx function is needed, and we will select a face for the geometries."
   ]
  },
  {
   "cell_type": "code",
   "execution_count": 7,
   "id": "20da5d55",
   "metadata": {
    "execution": {
     "iopub.execute_input": "2025-03-06T16:10:09.419339Z",
     "iopub.status.busy": "2025-03-06T16:10:09.419161Z",
     "iopub.status.idle": "2025-03-06T16:10:09.425557Z",
     "shell.execute_reply": "2025-03-06T16:10:09.425038Z"
    }
   },
   "outputs": [
    {
     "name": "stdout",
     "output_type": "stream",
     "text": [
      "{\n",
      "    \"name\": \"Material.FOP\",\n",
      "    \"metadata\": {\n",
      "        \"UniqueId\": \"f018bc88-bfa4-4727-9617-fa6696320877\"\n",
      "    },\n",
      "    \"sop_guids\": [\n",
      "        \"bb7149f5-d8db-4d79-9365-c4cf1a0b3cf3\"\n",
      "    ],\n",
      "    \"geometries\": {\n",
      "        \"geo_paths\": [\n",
      "            \"TheBodyD/TheFaceF\"\n",
      "        ]\n",
      "    },\n",
      "    \"description\": \"\",\n",
      "    \"sops\": [\n",
      "        {\n",
      "            \"name\": \"Material.FOP.SOP\",\n",
      "            \"mirror\": {\n",
      "                \"reflectance\": 90.0\n",
      "            },\n",
      "            \"description\": \"\",\n",
      "            \"metadata\": {}\n",
      "        }\n",
      "    ]\n",
      "}\n"
     ]
    }
   ],
   "source": [
    "op3 = p.create_optical_property(name=\"Material.FOP\")\n",
    "op3.set_surface_mirror(reflectance=90)  # SOP : mirror\n",
    "# This optical property will be applied a face from TheBodyD named : \"TheFaceF\".\n",
    "op3.set_geometries(geometries=[GeoRef.from_native_link(geopath=\"TheBodyD/TheFaceF\")])\n",
    "op3.commit()\n",
    "print(op3)"
   ]
  },
  {
   "cell_type": "markdown",
   "id": "023a805e",
   "metadata": {},
   "source": [
    "## Default values"
   ]
  },
  {
   "cell_type": "markdown",
   "id": "883fbbe9",
   "metadata": {},
   "source": [
    "Some default values are available when applicable in every methods and class."
   ]
  },
  {
   "cell_type": "code",
   "execution_count": 8,
   "id": "8f6848e9",
   "metadata": {
    "execution": {
     "iopub.execute_input": "2025-03-06T16:10:09.427380Z",
     "iopub.status.busy": "2025-03-06T16:10:09.427189Z",
     "iopub.status.idle": "2025-03-06T16:10:09.433002Z",
     "shell.execute_reply": "2025-03-06T16:10:09.432482Z"
    }
   },
   "outputs": [
    {
     "name": "stdout",
     "output_type": "stream",
     "text": [
      "{\n",
      "    \"name\": \"Material.3\",\n",
      "    \"metadata\": {\n",
      "        \"UniqueId\": \"26d1b564-3243-42e7-bc65-9f0fd645eb7b\"\n",
      "    },\n",
      "    \"sop_guids\": [\n",
      "        \"4be2b79c-e9f4-419a-bf5d-4d04ab0a2b2a\"\n",
      "    ],\n",
      "    \"description\": \"\",\n",
      "    \"sops\": [\n",
      "        {\n",
      "            \"name\": \"Material.3.SOP\",\n",
      "            \"mirror\": {\n",
      "                \"reflectance\": 100.0\n",
      "            },\n",
      "            \"description\": \"\",\n",
      "            \"metadata\": {}\n",
      "        }\n",
      "    ]\n",
      "}\n"
     ]
    }
   ],
   "source": [
    "op4 = p.create_optical_property(name=\"Material.3\").commit()\n",
    "print(op4)"
   ]
  },
  {
   "cell_type": "markdown",
   "id": "323325a3",
   "metadata": {},
   "source": [
    "## Read\n",
    "### Material Instance Information"
   ]
  },
  {
   "cell_type": "markdown",
   "id": "74e30265",
   "metadata": {},
   "source": [
    "A mention \"local: \" is added if it is not yet committed to the server."
   ]
  },
  {
   "cell_type": "code",
   "execution_count": 9,
   "id": "86cd9446",
   "metadata": {
    "execution": {
     "iopub.execute_input": "2025-03-06T16:10:09.435090Z",
     "iopub.status.busy": "2025-03-06T16:10:09.434699Z",
     "iopub.status.idle": "2025-03-06T16:10:09.440554Z",
     "shell.execute_reply": "2025-03-06T16:10:09.440010Z"
    }
   },
   "outputs": [
    {
     "name": "stdout",
     "output_type": "stream",
     "text": [
      "{\n",
      "    \"name\": \"Material.1\",\n",
      "    \"metadata\": {\n",
      "        \"UniqueId\": \"a7d705d9-ef4b-47ad-bebe-afb1704d08b5\"\n",
      "    },\n",
      "    \"vop_guid\": \"1cac0558-0959-4705-bd01-90f513c812cb\",\n",
      "    \"sop_guids\": [\n",
      "        \"30188488-2795-44b8-8e82-df64abbecbda\"\n",
      "    ],\n",
      "    \"geometries\": {\n",
      "        \"geo_paths\": [\n",
      "            \"TheBodyB\",\n",
      "            \"TheBodyC\"\n",
      "        ]\n",
      "    },\n",
      "    \"description\": \"\",\n",
      "    \"vop\": {\n",
      "        \"name\": \"Material.1.VOP\",\n",
      "        \"opaque\": {},\n",
      "        \"description\": \"\",\n",
      "        \"metadata\": {}\n",
      "    },\n",
      "    \"sops\": [\n",
      "        {\n",
      "            \"name\": \"Material.1.SOP\",\n",
      "            \"mirror\": {\n",
      "                \"reflectance\": 80.0\n",
      "            },\n",
      "            \"description\": \"\",\n",
      "            \"metadata\": {}\n",
      "        }\n",
      "    ]\n",
      "}\n"
     ]
    }
   ],
   "source": [
    "print(op1)"
   ]
  },
  {
   "cell_type": "markdown",
   "id": "a4e3c592",
   "metadata": {},
   "source": [
    "The get methods allows you to get some properties of your feature"
   ]
  },
  {
   "cell_type": "code",
   "execution_count": 10,
   "id": "a9cf813d",
   "metadata": {
    "execution": {
     "iopub.execute_input": "2025-03-06T16:10:09.442328Z",
     "iopub.status.busy": "2025-03-06T16:10:09.442154Z",
     "iopub.status.idle": "2025-03-06T16:10:09.472770Z",
     "shell.execute_reply": "2025-03-06T16:10:09.472208Z"
    }
   },
   "outputs": [
    {
     "name": "stdout",
     "output_type": "stream",
     "text": [
      "op1 name: Material.1\n",
      "geometries linked to op1: ['TheBodyB', 'TheBodyC']\n",
      "op1 surface optical properties info: [{'name': 'Material.1.SOP', 'mirror': {'reflectance': 80.0}, 'description': '', 'metadata': {}}]\n",
      "op1 volume optical property info: {'name': 'Material.1.VOP', 'opaque': {}, 'description': '', 'metadata': {}}\n",
      "op1 is opaque type volume optical property\n",
      "{\n",
      "    \"name\": \"Material.2\",\n",
      "    \"metadata\": {\n",
      "        \"UniqueId\": \"26a3e1ba-80a7-4e67-83ca-9d5809ca91ce\"\n",
      "    },\n",
      "    \"vop_guid\": \"e07f819f-c607-40ee-bce6-272c63994bb2\",\n",
      "    \"sop_guids\": [\n",
      "        \"2b42150f-8547-4dfc-876c-4c446d901c8b\"\n",
      "    ],\n",
      "    \"geometries\": {\n",
      "        \"geo_paths\": [\n",
      "            \"TheBodyD\",\n",
      "            \"TheBodyE\"\n",
      "        ]\n",
      "    },\n",
      "    \"description\": \"\",\n",
      "    \"vop\": {\n",
      "        \"name\": \"Material.2.VOP\",\n",
      "        \"library\": {\n",
      "            \"material_file_uri\": \"/app/assets/AIR.material\"\n",
      "        },\n",
      "        \"description\": \"\",\n",
      "        \"metadata\": {}\n",
      "    },\n",
      "    \"sops\": [\n",
      "        {\n",
      "            \"name\": \"Material.2.SOP\",\n",
      "            \"optical_polished\": {},\n",
      "            \"description\": \"\",\n",
      "            \"metadata\": {}\n",
      "        }\n",
      "    ]\n",
      "}\n",
      "op2 name: Material.2\n",
      "op2 is optical polished type surface property\n",
      "op2 is library type volume optical property\n",
      "{\n",
      "    \"name\": \"Material.FOP\",\n",
      "    \"metadata\": {\n",
      "        \"UniqueId\": \"f018bc88-bfa4-4727-9617-fa6696320877\"\n",
      "    },\n",
      "    \"sop_guids\": [\n",
      "        \"bb7149f5-d8db-4d79-9365-c4cf1a0b3cf3\"\n",
      "    ],\n",
      "    \"geometries\": {\n",
      "        \"geo_paths\": [\n",
      "            \"TheBodyD/TheFaceF\"\n",
      "        ]\n",
      "    },\n",
      "    \"description\": \"\",\n",
      "    \"sops\": [\n",
      "        {\n",
      "            \"name\": \"Material.FOP.SOP\",\n",
      "            \"mirror\": {\n",
      "                \"reflectance\": 90.0\n",
      "            },\n",
      "            \"description\": \"\",\n",
      "            \"metadata\": {}\n",
      "        }\n",
      "    ]\n",
      "}\n",
      "op3 name: Material.FOP\n",
      "op3 has reflectance value of 90.0\n"
     ]
    }
   ],
   "source": [
    "print(\"op1 name: {}\".format(op1.get(key=\"name\")))\n",
    "print(\"geometries linked to op1: {}\".format(op1.get(key=\"geo_paths\")))\n",
    "print(\"op1 surface optical properties info: {}\".format(op1.get(key=\"sops\")))\n",
    "print(\"op1 volume optical property info: {}\".format(op1.get(key=\"vop\")))\n",
    "# user can use get with vop type as key word to check volume property type\n",
    "print(\n",
    "    \"op1 {} opaque type volume optical property\".format(\n",
    "        \"is\" if op1.get(key=\"opaque\") is not None else \"is not\"\n",
    "    )\n",
    ")\n",
    "\n",
    "print(op2)\n",
    "print(\"op2 name: {}\".format(op2.get(key=\"name\")))\n",
    "print(\n",
    "    \"op2 {} optical polished type surface property\".format(\n",
    "        (\"is\" if \"optical_polished\" in op2.get(key=\"sops\")[0] else \"is not\")\n",
    "    )\n",
    ")\n",
    "# an alternative way to check the type of optical property\n",
    "print(\n",
    "    \"op2 {} library type volume optical property\".format(\n",
    "        \"is\" if \"library\" in op2.get(key=\"vop\") is not None else \"is not\"\n",
    "    )\n",
    ")\n",
    "\n",
    "print(op3)\n",
    "print(\"op3 name: {}\".format(op3.get(key=\"name\")))\n",
    "print(\"op3 has reflectance value of {}\".format(op3.get(key=\"sops\")[0][\"mirror\"][\"reflectance\"]))"
   ]
  },
  {
   "cell_type": "markdown",
   "id": "eb8e1992",
   "metadata": {},
   "source": [
    "### Project Information\n",
    "Committed feature information will appear inside a project information."
   ]
  },
  {
   "cell_type": "code",
   "execution_count": 11,
   "id": "4b190c66",
   "metadata": {
    "execution": {
     "iopub.execute_input": "2025-03-06T16:10:09.474498Z",
     "iopub.status.busy": "2025-03-06T16:10:09.474316Z",
     "iopub.status.idle": "2025-03-06T16:10:09.483390Z",
     "shell.execute_reply": "2025-03-06T16:10:09.482824Z"
    }
   },
   "outputs": [
    {
     "name": "stdout",
     "output_type": "stream",
     "text": [
      "{\n",
      "    \"materials\": [\n",
      "        {\n",
      "            \"name\": \"Material.1\",\n",
      "            \"metadata\": {\n",
      "                \"UniqueId\": \"a7d705d9-ef4b-47ad-bebe-afb1704d08b5\"\n",
      "            },\n",
      "            \"vop_guid\": \"1cac0558-0959-4705-bd01-90f513c812cb\",\n",
      "            \"sop_guids\": [\n",
      "                \"30188488-2795-44b8-8e82-df64abbecbda\"\n",
      "            ],\n",
      "            \"geometries\": {\n",
      "                \"geo_paths\": [\n",
      "                    \"TheBodyB\",\n",
      "                    \"TheBodyC\"\n",
      "                ]\n",
      "            },\n",
      "            \"description\": \"\",\n",
      "            \"vop\": {\n",
      "                \"name\": \"Material.1.VOP\",\n",
      "                \"opaque\": {},\n",
      "                \"description\": \"\",\n",
      "                \"metadata\": {}\n",
      "            },\n",
      "            \"sops\": [\n",
      "                {\n",
      "                    \"name\": \"Material.1.SOP\",\n",
      "                    \"mirror\": {\n",
      "                        \"reflectance\": 80.0\n",
      "                    },\n",
      "                    \"description\": \"\",\n",
      "                    \"metadata\": {}\n",
      "                }\n",
      "            ]\n",
      "        },\n",
      "        {\n",
      "            \"name\": \"Material.2\",\n",
      "            \"metadata\": {\n",
      "                \"UniqueId\": \"26a3e1ba-80a7-4e67-83ca-9d5809ca91ce\"\n",
      "            },\n",
      "            \"vop_guid\": \"e07f819f-c607-40ee-bce6-272c63994bb2\",\n",
      "            \"sop_guids\": [\n",
      "                \"2b42150f-8547-4dfc-876c-4c446d901c8b\"\n",
      "            ],\n",
      "            \"geometries\": {\n",
      "                \"geo_paths\": [\n",
      "                    \"TheBodyD\",\n",
      "                    \"TheBodyE\"\n",
      "                ]\n",
      "            },\n",
      "            \"description\": \"\",\n",
      "            \"vop\": {\n",
      "                \"name\": \"Material.2.VOP\",\n",
      "                \"library\": {\n",
      "                    \"material_file_uri\": \"/app/assets/AIR.material\"\n",
      "                },\n",
      "                \"description\": \"\",\n",
      "                \"metadata\": {}\n",
      "            },\n",
      "            \"sops\": [\n",
      "                {\n",
      "                    \"name\": \"Material.2.SOP\",\n",
      "                    \"optical_polished\": {},\n",
      "                    \"description\": \"\",\n",
      "                    \"metadata\": {}\n",
      "                }\n",
      "            ]\n",
      "        },\n",
      "        {\n",
      "            \"name\": \"Material.FOP\",\n",
      "            \"metadata\": {\n",
      "                \"UniqueId\": \"f018bc88-bfa4-4727-9617-fa6696320877\"\n",
      "            },\n",
      "            \"sop_guids\": [\n",
      "                \"bb7149f5-d8db-4d79-9365-c4cf1a0b3cf3\"\n",
      "            ],\n",
      "            \"geometries\": {\n",
      "                \"geo_paths\": [\n",
      "                    \"TheBodyD/TheFaceF\"\n",
      "                ]\n",
      "            },\n",
      "            \"description\": \"\",\n",
      "            \"sops\": [\n",
      "                {\n",
      "                    \"name\": \"Material.FOP.SOP\",\n",
      "                    \"mirror\": {\n",
      "                        \"reflectance\": 90.0\n",
      "                    },\n",
      "                    \"description\": \"\",\n",
      "                    \"metadata\": {}\n",
      "                }\n",
      "            ]\n",
      "        },\n",
      "        {\n",
      "            \"name\": \"Material.3\",\n",
      "            \"metadata\": {\n",
      "                \"UniqueId\": \"26d1b564-3243-42e7-bc65-9f0fd645eb7b\"\n",
      "            },\n",
      "            \"sop_guids\": [\n",
      "                \"4be2b79c-e9f4-419a-bf5d-4d04ab0a2b2a\"\n",
      "            ],\n",
      "            \"description\": \"\",\n",
      "            \"sops\": [\n",
      "                {\n",
      "                    \"name\": \"Material.3.SOP\",\n",
      "                    \"mirror\": {\n",
      "                        \"reflectance\": 100.0\n",
      "                    },\n",
      "                    \"description\": \"\",\n",
      "                    \"metadata\": {}\n",
      "                }\n",
      "            ]\n",
      "        }\n",
      "    ],\n",
      "    \"name\": \"\",\n",
      "    \"description\": \"\",\n",
      "    \"metadata\": {},\n",
      "    \"part_guid\": \"\",\n",
      "    \"sources\": [],\n",
      "    \"sensors\": [],\n",
      "    \"simulations\": [],\n",
      "    \"scenes\": []\n",
      "}\n"
     ]
    }
   ],
   "source": [
    "print(p)"
   ]
  },
  {
   "cell_type": "markdown",
   "id": "b5504fd6",
   "metadata": {},
   "source": [
    "## Update"
   ]
  },
  {
   "cell_type": "markdown",
   "id": "78472a4a",
   "metadata": {},
   "source": [
    "Tipp: if you are manipulating an optical property already committed, don't forget to commit your changes."
   ]
  },
  {
   "cell_type": "markdown",
   "id": "4de02085",
   "metadata": {},
   "source": [
    "If you don't, you will still only watch what is committed on the server."
   ]
  },
  {
   "cell_type": "code",
   "execution_count": 12,
   "id": "dbc5e650",
   "metadata": {
    "execution": {
     "iopub.execute_input": "2025-03-06T16:10:09.485370Z",
     "iopub.status.busy": "2025-03-06T16:10:09.485180Z",
     "iopub.status.idle": "2025-03-06T16:10:09.498842Z",
     "shell.execute_reply": "2025-03-06T16:10:09.498211Z"
    }
   },
   "outputs": [
    {
     "name": "stdout",
     "output_type": "stream",
     "text": [
      "op1 surface type before update: {'name': 'Material.1.SOP', 'mirror': {'reflectance': 80.0}, 'description': '', 'metadata': {}}\n",
      "{\n",
      "    \"name\": \"Material.1\",\n",
      "    \"metadata\": {\n",
      "        \"UniqueId\": \"a7d705d9-ef4b-47ad-bebe-afb1704d08b5\"\n",
      "    },\n",
      "    \"vop_guid\": \"1cac0558-0959-4705-bd01-90f513c812cb\",\n",
      "    \"sop_guids\": [\n",
      "        \"30188488-2795-44b8-8e82-df64abbecbda\"\n",
      "    ],\n",
      "    \"geometries\": {\n",
      "        \"geo_paths\": [\n",
      "            \"TheBodyB\",\n",
      "            \"TheBodyC\"\n",
      "        ]\n",
      "    },\n",
      "    \"description\": \"\",\n",
      "    \"vop\": {\n",
      "        \"name\": \"Material.1.VOP\",\n",
      "        \"optic\": {\n",
      "            \"index\": 1.5,\n",
      "            \"absorption\": 0.0\n",
      "        },\n",
      "        \"description\": \"\",\n",
      "        \"metadata\": {}\n",
      "    },\n",
      "    \"sops\": [\n",
      "        {\n",
      "            \"name\": \"Material.1.SOP\",\n",
      "            \"optical_polished\": {},\n",
      "            \"description\": \"\",\n",
      "            \"metadata\": {}\n",
      "        }\n",
      "    ]\n",
      "}\n",
      "op1 surface type after update: {'name': 'Material.1.SOP', 'optical_polished': {}, 'description': '', 'metadata': {}}\n"
     ]
    }
   ],
   "source": [
    "print(\"op1 surface type before update: {}\".format(op1.get(key=\"sops\")[0]))\n",
    "op1.set_volume_optic().set_surface_opticalpolished().commit()\n",
    "print(op1)\n",
    "print(\"op1 surface type after update: {}\".format(op1.get(key=\"sops\")[0]))"
   ]
  },
  {
   "cell_type": "markdown",
   "id": "51a776a8",
   "metadata": {},
   "source": [
    "## Reset"
   ]
  },
  {
   "cell_type": "markdown",
   "id": "a7cc4e5d",
   "metadata": {},
   "source": [
    "Possibility to reset local values from the one available in the server."
   ]
  },
  {
   "cell_type": "code",
   "execution_count": 13,
   "id": "c91a76e3",
   "metadata": {
    "execution": {
     "iopub.execute_input": "2025-03-06T16:10:09.501049Z",
     "iopub.status.busy": "2025-03-06T16:10:09.500676Z",
     "iopub.status.idle": "2025-03-06T16:10:09.506821Z",
     "shell.execute_reply": "2025-03-06T16:10:09.506314Z"
    }
   },
   "outputs": [
    {
     "name": "stdout",
     "output_type": "stream",
     "text": [
      "local: {\n",
      "    \"name\": \"Material.1\",\n",
      "    \"vop_guid\": \"\",\n",
      "    \"geometries\": {\n",
      "        \"geo_paths\": [\n",
      "            \"TheBodyB\",\n",
      "            \"TheBodyC\"\n",
      "        ]\n",
      "    },\n",
      "    \"description\": \"\",\n",
      "    \"metadata\": {},\n",
      "    \"sop_guids\": [],\n",
      "    \"vop\": {\n",
      "        \"name\": \"Material.1.VOP\",\n",
      "        \"optic\": {\n",
      "            \"index\": 1.5,\n",
      "            \"absorption\": 0.0\n",
      "        },\n",
      "        \"description\": \"\",\n",
      "        \"metadata\": {}\n",
      "    },\n",
      "    \"sops\": [\n",
      "        {\n",
      "            \"name\": \"Material.1.SOP\",\n",
      "            \"optical_polished\": {},\n",
      "            \"description\": \"\",\n",
      "            \"metadata\": {}\n",
      "        }\n",
      "    ]\n",
      "}\n"
     ]
    }
   ],
   "source": [
    "op1.set_surface_mirror()  # set surface as a mirror but no commit\n",
    "op1.reset()  # reset -> this will apply the server value to the local value\n",
    "op1.delete()  # delete (to display the local value with the below print)\n",
    "print(op1)"
   ]
  },
  {
   "cell_type": "markdown",
   "id": "fcd4719e",
   "metadata": {},
   "source": [
    "## Delete"
   ]
  },
  {
   "cell_type": "markdown",
   "id": "106a919c",
   "metadata": {},
   "source": [
    "Once the data is deleted from the server, you can still work with local data and maybe commit later."
   ]
  },
  {
   "cell_type": "code",
   "execution_count": 14,
   "id": "dbbd9e9e",
   "metadata": {
    "execution": {
     "iopub.execute_input": "2025-03-06T16:10:09.508811Z",
     "iopub.status.busy": "2025-03-06T16:10:09.508436Z",
     "iopub.status.idle": "2025-03-06T16:10:09.513286Z",
     "shell.execute_reply": "2025-03-06T16:10:09.512755Z"
    }
   },
   "outputs": [
    {
     "name": "stdout",
     "output_type": "stream",
     "text": [
      "local: {\n",
      "    \"name\": \"Material.2\",\n",
      "    \"vop_guid\": \"\",\n",
      "    \"geometries\": {\n",
      "        \"geo_paths\": [\n",
      "            \"TheBodyD\",\n",
      "            \"TheBodyE\"\n",
      "        ]\n",
      "    },\n",
      "    \"description\": \"\",\n",
      "    \"metadata\": {},\n",
      "    \"sop_guids\": [],\n",
      "    \"vop\": {\n",
      "        \"name\": \"Material.2.VOP\",\n",
      "        \"library\": {\n",
      "            \"material_file_uri\": \"/app/assets/AIR.material\"\n",
      "        },\n",
      "        \"description\": \"\",\n",
      "        \"metadata\": {}\n",
      "    },\n",
      "    \"sops\": [\n",
      "        {\n",
      "            \"name\": \"Material.2.SOP\",\n",
      "            \"optical_polished\": {},\n",
      "            \"description\": \"\",\n",
      "            \"metadata\": {}\n",
      "        }\n",
      "    ]\n",
      "}\n"
     ]
    }
   ],
   "source": [
    "op2.delete()\n",
    "print(op2)"
   ]
  },
  {
   "cell_type": "code",
   "execution_count": 15,
   "id": "b08b1884",
   "metadata": {
    "execution": {
     "iopub.execute_input": "2025-03-06T16:10:09.515212Z",
     "iopub.status.busy": "2025-03-06T16:10:09.514830Z",
     "iopub.status.idle": "2025-03-06T16:10:09.523505Z",
     "shell.execute_reply": "2025-03-06T16:10:09.522835Z"
    }
   },
   "outputs": [
    {
     "data": {
      "text/plain": [
       "<ansys.speos.core.opt_prop.OptProp at 0x7feca4e46fe0>"
      ]
     },
     "execution_count": 15,
     "metadata": {},
     "output_type": "execute_result"
    }
   ],
   "source": [
    "op1.delete()\n",
    "op3.delete()\n",
    "op4.delete()"
   ]
  }
 ],
 "metadata": {
  "jupytext": {
   "cell_metadata_filter": "-all",
   "main_language": "python",
   "notebook_metadata_filter": "-all",
   "text_representation": {
    "extension": ".py",
    "format_name": "light"
   }
  },
  "language_info": {
   "codemirror_mode": {
    "name": "ipython",
    "version": 3
   },
   "file_extension": ".py",
   "mimetype": "text/x-python",
   "name": "python",
   "nbconvert_exporter": "python",
   "pygments_lexer": "ipython3",
   "version": "3.10.16"
  }
 },
 "nbformat": 4,
 "nbformat_minor": 5
}
