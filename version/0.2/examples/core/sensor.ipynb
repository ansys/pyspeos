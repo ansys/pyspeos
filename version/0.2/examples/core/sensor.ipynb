{
 "cells": [
  {
   "cell_type": "markdown",
   "id": "6b2882b6",
   "metadata": {},
   "source": [
    "# How to create a sensor"
   ]
  },
  {
   "cell_type": "markdown",
   "id": "b5ae1bbe",
   "metadata": {},
   "source": [
    "This tutorial demonstrates how to create a sensor."
   ]
  },
  {
   "cell_type": "markdown",
   "id": "257bdb05",
   "metadata": {},
   "source": [
    "There are different type of sensors available: irradiance sensor, radiance sensor, camera sensor."
   ]
  },
  {
   "cell_type": "code",
   "execution_count": 1,
   "id": "4b992373",
   "metadata": {
    "execution": {
     "iopub.execute_input": "2025-03-06T16:11:44.105940Z",
     "iopub.status.busy": "2025-03-06T16:11:44.105722Z",
     "iopub.status.idle": "2025-03-06T16:11:44.680221Z",
     "shell.execute_reply": "2025-03-06T16:11:44.679549Z"
    }
   },
   "outputs": [],
   "source": [
    "from pathlib import Path\n",
    "\n",
    "from ansys.speos.core import Project, Speos\n",
    "from ansys.speos.core.sensor import SensorCamera, SensorIrradiance, SensorRadiance\n",
    "\n",
    "# If using docker container\n",
    "tests_data_path = Path(\"/app\") / \"assets\"\n",
    "# If using local server\n",
    "# tests_data_path = Path().resolve().parent.parent / \"tests\" / \"assets\""
   ]
  },
  {
   "cell_type": "markdown",
   "id": "ae57a4c0",
   "metadata": {},
   "source": [
    "## Create connection with speos rpc server"
   ]
  },
  {
   "cell_type": "code",
   "execution_count": 2,
   "id": "9edd8fbc",
   "metadata": {
    "execution": {
     "iopub.execute_input": "2025-03-06T16:11:44.682776Z",
     "iopub.status.busy": "2025-03-06T16:11:44.682316Z",
     "iopub.status.idle": "2025-03-06T16:11:44.688509Z",
     "shell.execute_reply": "2025-03-06T16:11:44.687988Z"
    }
   },
   "outputs": [],
   "source": [
    "speos = Speos(host=\"localhost\", port=50098)"
   ]
  },
  {
   "cell_type": "markdown",
   "id": "cb75fe73",
   "metadata": {},
   "source": [
    "## Create a new project"
   ]
  },
  {
   "cell_type": "markdown",
   "id": "acf4622c",
   "metadata": {},
   "source": [
    "The only way to create a sensor, is to create it from a project."
   ]
  },
  {
   "cell_type": "code",
   "execution_count": 3,
   "id": "52ae8e8f",
   "metadata": {
    "execution": {
     "iopub.execute_input": "2025-03-06T16:11:44.690558Z",
     "iopub.status.busy": "2025-03-06T16:11:44.690192Z",
     "iopub.status.idle": "2025-03-06T16:11:44.696242Z",
     "shell.execute_reply": "2025-03-06T16:11:44.695583Z"
    }
   },
   "outputs": [
    {
     "name": "stdout",
     "output_type": "stream",
     "text": [
      "{\n",
      "    \"name\": \"\",\n",
      "    \"description\": \"\",\n",
      "    \"metadata\": {},\n",
      "    \"part_guid\": \"\",\n",
      "    \"sources\": [],\n",
      "    \"sensors\": [],\n",
      "    \"simulations\": [],\n",
      "    \"materials\": [],\n",
      "    \"scenes\": []\n",
      "}\n"
     ]
    }
   ],
   "source": [
    "p = Project(speos=speos)\n",
    "print(p)"
   ]
  },
  {
   "cell_type": "markdown",
   "id": "59a0c4c6",
   "metadata": {},
   "source": [
    "## Create"
   ]
  },
  {
   "cell_type": "markdown",
   "id": "547d0888",
   "metadata": {},
   "source": [
    "Create locally."
   ]
  },
  {
   "cell_type": "markdown",
   "id": "7c7bcf46",
   "metadata": {},
   "source": [
    "The mention \"local: \" is added when printing the sensor"
   ]
  },
  {
   "cell_type": "code",
   "execution_count": 4,
   "id": "e45d999e",
   "metadata": {
    "execution": {
     "iopub.execute_input": "2025-03-06T16:11:44.698438Z",
     "iopub.status.busy": "2025-03-06T16:11:44.698001Z",
     "iopub.status.idle": "2025-03-06T16:11:44.703853Z",
     "shell.execute_reply": "2025-03-06T16:11:44.703224Z"
    }
   },
   "outputs": [
    {
     "name": "stdout",
     "output_type": "stream",
     "text": [
      "local: {\n",
      "    \"name\": \"Camera.1\",\n",
      "    \"description\": \"\",\n",
      "    \"metadata\": {},\n",
      "    \"sensor_guid\": \"\",\n",
      "    \"result_file_name\": \"\",\n",
      "    \"sensor\": {\n",
      "        \"camera_sensor_template\": {\n",
      "            \"sensor_mode_photometric\": {\n",
      "                \"acquisition_integration\": 0.01,\n",
      "                \"transmittance_file_uri\": \"/app/assets/CameraInputFiles/CameraTransmittance.spectrum\",\n",
      "                \"gamma_correction\": 2.2,\n",
      "                \"png_bits\": \"PNG_16\",\n",
      "                \"color_mode_color\": {\n",
      "                    \"red_spectrum_file_uri\": \"/app/assets/CameraInputFiles/CameraSensitivityRed.spectrum\",\n",
      "                    \"green_spectrum_file_uri\": \"/app/assets/CameraInputFiles/CameraSensitivityGreen.spectrum\",\n",
      "                    \"blue_spectrum_file_uri\": \"/app/assets/CameraInputFiles/CameraSensitivityBlue.spectrum\",\n",
      "                    \"balance_mode_none\": {}\n",
      "                },\n",
      "                \"wavelengths_range\": {\n",
      "                    \"w_start\": 400.0,\n",
      "                    \"w_end\": 700.0,\n",
      "                    \"w_sampling\": 13\n",
      "                },\n",
      "                \"acquisition_lag_time\": 0.0\n",
      "            },\n",
      "            \"focal_length\": 5.0,\n",
      "            \"imager_distance\": 10.0,\n",
      "            \"f_number\": 20.0,\n",
      "            \"horz_pixel\": 640,\n",
      "            \"vert_pixel\": 480,\n",
      "            \"width\": 5.0,\n",
      "            \"height\": 5.0,\n",
      "            \"distortion_file_uri\": \"/app/assets/CameraInputFiles/CameraDistortion_130deg.OPTDistortion\",\n",
      "            \"distorsion_file_uri\": \"\",\n",
      "            \"axis_system\": [\n",
      "                0.0,\n",
      "                0.0,\n",
      "                0.0,\n",
      "                1.0,\n",
      "                0.0,\n",
      "                0.0,\n",
      "                0.0,\n",
      "                1.0,\n",
      "                0.0,\n",
      "                0.0,\n",
      "                0.0,\n",
      "                1.0\n",
      "            ],\n",
      "            \"layer_type_none\": {},\n",
      "            \"trajectory_file_uri\": \"\"\n",
      "        },\n",
      "        \"name\": \"Camera.1\",\n",
      "        \"description\": \"\",\n",
      "        \"metadata\": {}\n",
      "    }\n",
      "}\n"
     ]
    }
   ],
   "source": [
    "distortion_file_path = str(\n",
    "    tests_data_path / \"CameraInputFiles\" / \"CameraDistortion_130deg.OPTDistortion\"\n",
    ")\n",
    "transmittance_file_path = str(tests_data_path / \"CameraInputFiles\" / \"CameraTransmittance.spectrum\")\n",
    "blue_spectrum_path = str(tests_data_path / \"CameraInputFiles\" / \"CameraSensitivityBlue.spectrum\")\n",
    "green_spectrum_path = str(tests_data_path / \"CameraInputFiles\" / \"CameraSensitivityGreen.spectrum\")\n",
    "red_spectrum_path = str(tests_data_path / \"CameraInputFiles\" / \"CameraSensitivityRed.spectrum\")\n",
    "\n",
    "sensor1 = p.create_sensor(name=\"Camera.1\", feature_type=SensorCamera)\n",
    "sensor1.set_distortion_file_uri(uri=distortion_file_path)\n",
    "# Choose photometric mode\n",
    "sensor1.set_mode_photometric().set_transmittance_file_uri(uri=transmittance_file_path)\n",
    "# Choose color mode (will imply to give spectrum file for blue, green and red)\n",
    "sensor1.set_mode_photometric().set_mode_color().set_blue_spectrum_file_uri(uri=blue_spectrum_path)\n",
    "sensor1.set_mode_photometric().set_mode_color().set_green_spectrum_file_uri(uri=green_spectrum_path)\n",
    "sensor1.set_mode_photometric().set_mode_color().set_red_spectrum_file_uri(uri=red_spectrum_path)\n",
    "print(sensor1)"
   ]
  },
  {
   "cell_type": "markdown",
   "id": "c5a6a025",
   "metadata": {},
   "source": [
    "## Push it to the server."
   ]
  },
  {
   "cell_type": "markdown",
   "id": "91812c0d",
   "metadata": {},
   "source": [
    "Now that it is committed to the server, the mention \"local: \" is no more present when printing the sensor."
   ]
  },
  {
   "cell_type": "code",
   "execution_count": 5,
   "id": "4ccb73ca",
   "metadata": {
    "execution": {
     "iopub.execute_input": "2025-03-06T16:11:44.705939Z",
     "iopub.status.busy": "2025-03-06T16:11:44.705459Z",
     "iopub.status.idle": "2025-03-06T16:11:45.020523Z",
     "shell.execute_reply": "2025-03-06T16:11:45.019808Z"
    }
   },
   "outputs": [
    {
     "name": "stdout",
     "output_type": "stream",
     "text": [
      "{\n",
      "    \"name\": \"Camera.1\",\n",
      "    \"metadata\": {\n",
      "        \"UniqueId\": \"89335a03-51b9-446d-a6c6-a998baa3ccb5\"\n",
      "    },\n",
      "    \"sensor_guid\": \"5cec3a85-c927-4d27-b34d-b1fd096f498f\",\n",
      "    \"description\": \"\",\n",
      "    \"result_file_name\": \"\",\n",
      "    \"sensor\": {\n",
      "        \"camera_sensor_template\": {\n",
      "            \"sensor_mode_photometric\": {\n",
      "                \"acquisition_integration\": 0.01,\n",
      "                \"transmittance_file_uri\": \"/app/assets/CameraInputFiles/CameraTransmittance.spectrum\",\n",
      "                \"gamma_correction\": 2.2,\n",
      "                \"png_bits\": \"PNG_16\",\n",
      "                \"color_mode_color\": {\n",
      "                    \"red_spectrum_file_uri\": \"/app/assets/CameraInputFiles/CameraSensitivityRed.spectrum\",\n",
      "                    \"green_spectrum_file_uri\": \"/app/assets/CameraInputFiles/CameraSensitivityGreen.spectrum\",\n",
      "                    \"blue_spectrum_file_uri\": \"/app/assets/CameraInputFiles/CameraSensitivityBlue.spectrum\",\n",
      "                    \"balance_mode_none\": {}\n",
      "                },\n",
      "                \"wavelengths_range\": {\n",
      "                    \"w_start\": 400.0,\n",
      "                    \"w_end\": 700.0,\n",
      "                    \"w_sampling\": 13\n",
      "                },\n",
      "                \"acquisition_lag_time\": 0.0\n",
      "            },\n",
      "            \"focal_length\": 5.0,\n",
      "            \"imager_distance\": 10.0,\n",
      "            \"f_number\": 20.0,\n",
      "            \"horz_pixel\": 640,\n",
      "            \"vert_pixel\": 480,\n",
      "            \"width\": 5.0,\n",
      "            \"height\": 5.0,\n",
      "            \"distortion_file_uri\": \"/app/assets/CameraInputFiles/CameraDistortion_130deg.OPTDistortion\",\n",
      "            \"distorsion_file_uri\": \"\",\n",
      "            \"axis_system\": [\n",
      "                0.0,\n",
      "                0.0,\n",
      "                0.0,\n",
      "                1.0,\n",
      "                0.0,\n",
      "                0.0,\n",
      "                0.0,\n",
      "                1.0,\n",
      "                0.0,\n",
      "                0.0,\n",
      "                0.0,\n",
      "                1.0\n",
      "            ],\n",
      "            \"layer_type_none\": {},\n",
      "            \"trajectory_file_uri\": \"\"\n",
      "        },\n",
      "        \"name\": \"Camera.1\",\n",
      "        \"description\": \"\",\n",
      "        \"metadata\": {}\n",
      "    }\n",
      "}\n"
     ]
    }
   ],
   "source": [
    "sensor1.commit()\n",
    "print(sensor1)"
   ]
  },
  {
   "cell_type": "markdown",
   "id": "c4c654a1",
   "metadata": {},
   "source": [
    "## Another example\n",
    "\n",
    "Set more characteristics."
   ]
  },
  {
   "cell_type": "markdown",
   "id": "1e35f569",
   "metadata": {},
   "source": [
    "Camera feature is created with the same default values as the GUI speos."
   ]
  },
  {
   "cell_type": "markdown",
   "id": "af32a690",
   "metadata": {},
   "source": [
    "If the user would like to modify the camera characteristics,\n",
    "it is possible to do so as below."
   ]
  },
  {
   "cell_type": "code",
   "execution_count": 6,
   "id": "a442a8a7",
   "metadata": {
    "execution": {
     "iopub.execute_input": "2025-03-06T16:11:45.022844Z",
     "iopub.status.busy": "2025-03-06T16:11:45.022385Z",
     "iopub.status.idle": "2025-03-06T16:11:45.033475Z",
     "shell.execute_reply": "2025-03-06T16:11:45.032797Z"
    },
    "lines_to_next_cell": 2
   },
   "outputs": [
    {
     "name": "stdout",
     "output_type": "stream",
     "text": [
      "{\n",
      "    \"name\": \"Camera.2\",\n",
      "    \"metadata\": {\n",
      "        \"UniqueId\": \"aad96b13-1645-4c9d-9ab5-41002c20880c\"\n",
      "    },\n",
      "    \"sensor_guid\": \"43987fce-b3f9-4087-9a96-17a48e5455fd\",\n",
      "    \"description\": \"\",\n",
      "    \"result_file_name\": \"\",\n",
      "    \"sensor\": {\n",
      "        \"camera_sensor_template\": {\n",
      "            \"sensor_mode_photometric\": {\n",
      "                \"acquisition_integration\": 0.01,\n",
      "                \"transmittance_file_uri\": \"/app/assets/CameraInputFiles/CameraTransmittance.spectrum\",\n",
      "                \"gamma_correction\": 2.2,\n",
      "                \"png_bits\": \"PNG_16\",\n",
      "                \"color_mode_color\": {\n",
      "                    \"red_spectrum_file_uri\": \"/app/assets/CameraInputFiles/CameraSensitivityRed.spectrum\",\n",
      "                    \"green_spectrum_file_uri\": \"/app/assets/CameraInputFiles/CameraSensitivityGreen.spectrum\",\n",
      "                    \"blue_spectrum_file_uri\": \"/app/assets/CameraInputFiles/CameraSensitivityBlue.spectrum\",\n",
      "                    \"balance_mode_none\": {}\n",
      "                },\n",
      "                \"wavelengths_range\": {\n",
      "                    \"w_start\": 400.0,\n",
      "                    \"w_end\": 700.0,\n",
      "                    \"w_sampling\": 13\n",
      "                },\n",
      "                \"acquisition_lag_time\": 0.0\n",
      "            },\n",
      "            \"focal_length\": 5.5,\n",
      "            \"imager_distance\": 10.0,\n",
      "            \"f_number\": 20.0,\n",
      "            \"horz_pixel\": 640,\n",
      "            \"vert_pixel\": 480,\n",
      "            \"width\": 6.0,\n",
      "            \"height\": 6.0,\n",
      "            \"distortion_file_uri\": \"/app/assets/CameraInputFiles/CameraDistortion_130deg.OPTDistortion\",\n",
      "            \"distorsion_file_uri\": \"\",\n",
      "            \"axis_system\": [\n",
      "                20.0,\n",
      "                10.0,\n",
      "                40.0,\n",
      "                1.0,\n",
      "                0.0,\n",
      "                0.0,\n",
      "                0.0,\n",
      "                1.0,\n",
      "                0.0,\n",
      "                0.0,\n",
      "                0.0,\n",
      "                1.0\n",
      "            ],\n",
      "            \"layer_type_source\": {},\n",
      "            \"trajectory_file_uri\": \"\"\n",
      "        },\n",
      "        \"name\": \"Camera.2\",\n",
      "        \"description\": \"\",\n",
      "        \"metadata\": {}\n",
      "    }\n",
      "}\n"
     ]
    }
   ],
   "source": [
    "distortion_file_path = str(\n",
    "    tests_data_path / \"CameraInputFiles\" / \"CameraDistortion_130deg.OPTDistortion\"\n",
    ")\n",
    "transmittance_file_path = str(tests_data_path / \"CameraInputFiles\" / \"CameraTransmittance.spectrum\")\n",
    "blue_spectrum_path = str(tests_data_path / \"CameraInputFiles\" / \"CameraSensitivityBlue.spectrum\")\n",
    "green_spectrum_path = str(tests_data_path / \"CameraInputFiles\" / \"CameraSensitivityGreen.spectrum\")\n",
    "red_spectrum_path = str(tests_data_path / \"CameraInputFiles\" / \"CameraSensitivityRed.spectrum\")\n",
    "\n",
    "sensor2 = p.create_sensor(name=\"Camera.2\", feature_type=SensorCamera)\n",
    "sensor2.set_distortion_file_uri(uri=distortion_file_path)\n",
    "sensor2.set_mode_photometric().set_transmittance_file_uri(uri=transmittance_file_path)\n",
    "sensor2.set_mode_photometric().set_layer_type_source()\n",
    "sensor2.set_mode_photometric().set_mode_color().set_blue_spectrum_file_uri(uri=blue_spectrum_path)\n",
    "sensor2.set_mode_photometric().set_mode_color().set_green_spectrum_file_uri(uri=green_spectrum_path)\n",
    "sensor2.set_mode_photometric().set_mode_color().set_red_spectrum_file_uri(uri=red_spectrum_path)\n",
    "sensor2.set_focal_length(5.5)\n",
    "sensor2.set_height(value=6).set_width(value=6)  # dimensions\n",
    "sensor2.set_axis_system(\n",
    "    [20, 10, 40, 1, 0, 0, 0, 1, 0, 0, 0, 1]\n",
    ")  # camera location [Origin, Xvector, Yvector, Zvector]\n",
    "sensor2.commit()\n",
    "\n",
    "print(sensor2)"
   ]
  },
  {
   "cell_type": "markdown",
   "id": "e078c034",
   "metadata": {},
   "source": [
    "## Read"
   ]
  },
  {
   "cell_type": "markdown",
   "id": "2e3c46bd",
   "metadata": {},
   "source": [
    "### Sensor Instance"
   ]
  },
  {
   "cell_type": "markdown",
   "id": "edeca47f",
   "metadata": {},
   "source": [
    "A mention \"local: \" is added if it is not yet committed to the server"
   ]
  },
  {
   "cell_type": "code",
   "execution_count": 7,
   "id": "350f1e08",
   "metadata": {
    "execution": {
     "iopub.execute_input": "2025-03-06T16:11:45.035503Z",
     "iopub.status.busy": "2025-03-06T16:11:45.035309Z",
     "iopub.status.idle": "2025-03-06T16:11:45.041835Z",
     "shell.execute_reply": "2025-03-06T16:11:45.041308Z"
    }
   },
   "outputs": [
    {
     "name": "stdout",
     "output_type": "stream",
     "text": [
      "{\n",
      "    \"name\": \"Camera.1\",\n",
      "    \"metadata\": {\n",
      "        \"UniqueId\": \"89335a03-51b9-446d-a6c6-a998baa3ccb5\"\n",
      "    },\n",
      "    \"sensor_guid\": \"5cec3a85-c927-4d27-b34d-b1fd096f498f\",\n",
      "    \"description\": \"\",\n",
      "    \"result_file_name\": \"\",\n",
      "    \"sensor\": {\n",
      "        \"camera_sensor_template\": {\n",
      "            \"sensor_mode_photometric\": {\n",
      "                \"acquisition_integration\": 0.01,\n",
      "                \"transmittance_file_uri\": \"/app/assets/CameraInputFiles/CameraTransmittance.spectrum\",\n",
      "                \"gamma_correction\": 2.2,\n",
      "                \"png_bits\": \"PNG_16\",\n",
      "                \"color_mode_color\": {\n",
      "                    \"red_spectrum_file_uri\": \"/app/assets/CameraInputFiles/CameraSensitivityRed.spectrum\",\n",
      "                    \"green_spectrum_file_uri\": \"/app/assets/CameraInputFiles/CameraSensitivityGreen.spectrum\",\n",
      "                    \"blue_spectrum_file_uri\": \"/app/assets/CameraInputFiles/CameraSensitivityBlue.spectrum\",\n",
      "                    \"balance_mode_none\": {}\n",
      "                },\n",
      "                \"wavelengths_range\": {\n",
      "                    \"w_start\": 400.0,\n",
      "                    \"w_end\": 700.0,\n",
      "                    \"w_sampling\": 13\n",
      "                },\n",
      "                \"acquisition_lag_time\": 0.0\n",
      "            },\n",
      "            \"focal_length\": 5.0,\n",
      "            \"imager_distance\": 10.0,\n",
      "            \"f_number\": 20.0,\n",
      "            \"horz_pixel\": 640,\n",
      "            \"vert_pixel\": 480,\n",
      "            \"width\": 5.0,\n",
      "            \"height\": 5.0,\n",
      "            \"distortion_file_uri\": \"/app/assets/CameraInputFiles/CameraDistortion_130deg.OPTDistortion\",\n",
      "            \"distorsion_file_uri\": \"\",\n",
      "            \"axis_system\": [\n",
      "                0.0,\n",
      "                0.0,\n",
      "                0.0,\n",
      "                1.0,\n",
      "                0.0,\n",
      "                0.0,\n",
      "                0.0,\n",
      "                1.0,\n",
      "                0.0,\n",
      "                0.0,\n",
      "                0.0,\n",
      "                1.0\n",
      "            ],\n",
      "            \"layer_type_none\": {},\n",
      "            \"trajectory_file_uri\": \"\"\n",
      "        },\n",
      "        \"name\": \"Camera.1\",\n",
      "        \"description\": \"\",\n",
      "        \"metadata\": {}\n",
      "    }\n",
      "}\n"
     ]
    }
   ],
   "source": [
    "print(sensor1)"
   ]
  },
  {
   "cell_type": "markdown",
   "id": "f0a633cb",
   "metadata": {},
   "source": [
    "### Project"
   ]
  },
  {
   "cell_type": "markdown",
   "id": "710dea3d",
   "metadata": {},
   "source": [
    "Committed feature will appear in the project."
   ]
  },
  {
   "cell_type": "code",
   "execution_count": 8,
   "id": "f9dec439",
   "metadata": {
    "execution": {
     "iopub.execute_input": "2025-03-06T16:11:45.043895Z",
     "iopub.status.busy": "2025-03-06T16:11:45.043687Z",
     "iopub.status.idle": "2025-03-06T16:11:45.052464Z",
     "shell.execute_reply": "2025-03-06T16:11:45.051914Z"
    }
   },
   "outputs": [
    {
     "name": "stdout",
     "output_type": "stream",
     "text": [
      "{\n",
      "    \"sensors\": [\n",
      "        {\n",
      "            \"name\": \"Camera.1\",\n",
      "            \"metadata\": {\n",
      "                \"UniqueId\": \"89335a03-51b9-446d-a6c6-a998baa3ccb5\"\n",
      "            },\n",
      "            \"sensor_guid\": \"5cec3a85-c927-4d27-b34d-b1fd096f498f\",\n",
      "            \"description\": \"\",\n",
      "            \"result_file_name\": \"\",\n",
      "            \"sensor\": {\n",
      "                \"camera_sensor_template\": {\n",
      "                    \"sensor_mode_photometric\": {\n",
      "                        \"acquisition_integration\": 0.01,\n",
      "                        \"transmittance_file_uri\": \"/app/assets/CameraInputFiles/CameraTransmittance.spectrum\",\n",
      "                        \"gamma_correction\": 2.2,\n",
      "                        \"png_bits\": \"PNG_16\",\n",
      "                        \"color_mode_color\": {\n",
      "                            \"red_spectrum_file_uri\": \"/app/assets/CameraInputFiles/CameraSensitivityRed.spectrum\",\n",
      "                            \"green_spectrum_file_uri\": \"/app/assets/CameraInputFiles/CameraSensitivityGreen.spectrum\",\n",
      "                            \"blue_spectrum_file_uri\": \"/app/assets/CameraInputFiles/CameraSensitivityBlue.spectrum\",\n",
      "                            \"balance_mode_none\": {}\n",
      "                        },\n",
      "                        \"wavelengths_range\": {\n",
      "                            \"w_start\": 400.0,\n",
      "                            \"w_end\": 700.0,\n",
      "                            \"w_sampling\": 13\n",
      "                        },\n",
      "                        \"acquisition_lag_time\": 0.0\n",
      "                    },\n",
      "                    \"focal_length\": 5.0,\n",
      "                    \"imager_distance\": 10.0,\n",
      "                    \"f_number\": 20.0,\n",
      "                    \"horz_pixel\": 640,\n",
      "                    \"vert_pixel\": 480,\n",
      "                    \"width\": 5.0,\n",
      "                    \"height\": 5.0,\n",
      "                    \"distortion_file_uri\": \"/app/assets/CameraInputFiles/CameraDistortion_130deg.OPTDistortion\",\n",
      "                    \"distorsion_file_uri\": \"\",\n",
      "                    \"axis_system\": [\n",
      "                        0.0,\n",
      "                        0.0,\n",
      "                        0.0,\n",
      "                        1.0,\n",
      "                        0.0,\n",
      "                        0.0,\n",
      "                        0.0,\n",
      "                        1.0,\n",
      "                        0.0,\n",
      "                        0.0,\n",
      "                        0.0,\n",
      "                        1.0\n",
      "                    ],\n",
      "                    \"layer_type_none\": {},\n",
      "                    \"trajectory_file_uri\": \"\"\n",
      "                },\n",
      "                \"name\": \"Camera.1\",\n",
      "                \"description\": \"\",\n",
      "                \"metadata\": {}\n",
      "            }\n",
      "        },\n",
      "        {\n",
      "            \"name\": \"Camera.2\",\n",
      "            \"metadata\": {\n",
      "                \"UniqueId\": \"aad96b13-1645-4c9d-9ab5-41002c20880c\"\n",
      "            },\n",
      "            \"sensor_guid\": \"43987fce-b3f9-4087-9a96-17a48e5455fd\",\n",
      "            \"description\": \"\",\n",
      "            \"result_file_name\": \"\",\n",
      "            \"sensor\": {\n",
      "                \"camera_sensor_template\": {\n",
      "                    \"sensor_mode_photometric\": {\n",
      "                        \"acquisition_integration\": 0.01,\n",
      "                        \"transmittance_file_uri\": \"/app/assets/CameraInputFiles/CameraTransmittance.spectrum\",\n",
      "                        \"gamma_correction\": 2.2,\n",
      "                        \"png_bits\": \"PNG_16\",\n",
      "                        \"color_mode_color\": {\n",
      "                            \"red_spectrum_file_uri\": \"/app/assets/CameraInputFiles/CameraSensitivityRed.spectrum\",\n",
      "                            \"green_spectrum_file_uri\": \"/app/assets/CameraInputFiles/CameraSensitivityGreen.spectrum\",\n",
      "                            \"blue_spectrum_file_uri\": \"/app/assets/CameraInputFiles/CameraSensitivityBlue.spectrum\",\n",
      "                            \"balance_mode_none\": {}\n",
      "                        },\n",
      "                        \"wavelengths_range\": {\n",
      "                            \"w_start\": 400.0,\n",
      "                            \"w_end\": 700.0,\n",
      "                            \"w_sampling\": 13\n",
      "                        },\n",
      "                        \"acquisition_lag_time\": 0.0\n",
      "                    },\n",
      "                    \"focal_length\": 5.5,\n",
      "                    \"imager_distance\": 10.0,\n",
      "                    \"f_number\": 20.0,\n",
      "                    \"horz_pixel\": 640,\n",
      "                    \"vert_pixel\": 480,\n",
      "                    \"width\": 6.0,\n",
      "                    \"height\": 6.0,\n",
      "                    \"distortion_file_uri\": \"/app/assets/CameraInputFiles/CameraDistortion_130deg.OPTDistortion\",\n",
      "                    \"distorsion_file_uri\": \"\",\n",
      "                    \"axis_system\": [\n",
      "                        20.0,\n",
      "                        10.0,\n",
      "                        40.0,\n",
      "                        1.0,\n",
      "                        0.0,\n",
      "                        0.0,\n",
      "                        0.0,\n",
      "                        1.0,\n",
      "                        0.0,\n",
      "                        0.0,\n",
      "                        0.0,\n",
      "                        1.0\n",
      "                    ],\n",
      "                    \"layer_type_source\": {},\n",
      "                    \"trajectory_file_uri\": \"\"\n",
      "                },\n",
      "                \"name\": \"Camera.2\",\n",
      "                \"description\": \"\",\n",
      "                \"metadata\": {}\n",
      "            }\n",
      "        }\n",
      "    ],\n",
      "    \"name\": \"\",\n",
      "    \"description\": \"\",\n",
      "    \"metadata\": {},\n",
      "    \"part_guid\": \"\",\n",
      "    \"sources\": [],\n",
      "    \"simulations\": [],\n",
      "    \"materials\": [],\n",
      "    \"scenes\": []\n",
      "}\n"
     ]
    }
   ],
   "source": [
    "print(p)"
   ]
  },
  {
   "cell_type": "markdown",
   "id": "03a7664b",
   "metadata": {},
   "source": [
    "## Update"
   ]
  },
  {
   "cell_type": "markdown",
   "id": "20973374",
   "metadata": {},
   "source": [
    "Tipp: if you are manipulating a source already committed, don't forget to commit your changes."
   ]
  },
  {
   "cell_type": "markdown",
   "id": "805e95dc",
   "metadata": {},
   "source": [
    "If you don't, you will still only watch what is committed on the server."
   ]
  },
  {
   "cell_type": "code",
   "execution_count": 9,
   "id": "1b1b53eb",
   "metadata": {
    "execution": {
     "iopub.execute_input": "2025-03-06T16:11:45.054597Z",
     "iopub.status.busy": "2025-03-06T16:11:45.054225Z",
     "iopub.status.idle": "2025-03-06T16:11:45.062682Z",
     "shell.execute_reply": "2025-03-06T16:11:45.062092Z"
    }
   },
   "outputs": [
    {
     "name": "stdout",
     "output_type": "stream",
     "text": [
      "{\n",
      "    \"name\": \"Camera.1\",\n",
      "    \"metadata\": {\n",
      "        \"UniqueId\": \"89335a03-51b9-446d-a6c6-a998baa3ccb5\"\n",
      "    },\n",
      "    \"sensor_guid\": \"5cec3a85-c927-4d27-b34d-b1fd096f498f\",\n",
      "    \"description\": \"\",\n",
      "    \"result_file_name\": \"\",\n",
      "    \"sensor\": {\n",
      "        \"camera_sensor_template\": {\n",
      "            \"sensor_mode_photometric\": {\n",
      "                \"acquisition_integration\": 0.01,\n",
      "                \"transmittance_file_uri\": \"/app/assets/CameraInputFiles/CameraTransmittance.spectrum\",\n",
      "                \"gamma_correction\": 2.2,\n",
      "                \"png_bits\": \"PNG_16\",\n",
      "                \"color_mode_color\": {\n",
      "                    \"red_spectrum_file_uri\": \"/app/assets/CameraInputFiles/CameraSensitivityRed.spectrum\",\n",
      "                    \"green_spectrum_file_uri\": \"/app/assets/CameraInputFiles/CameraSensitivityGreen.spectrum\",\n",
      "                    \"blue_spectrum_file_uri\": \"/app/assets/CameraInputFiles/CameraSensitivityBlue.spectrum\",\n",
      "                    \"balance_mode_none\": {}\n",
      "                },\n",
      "                \"wavelengths_range\": {\n",
      "                    \"w_start\": 400.0,\n",
      "                    \"w_end\": 700.0,\n",
      "                    \"w_sampling\": 13\n",
      "                },\n",
      "                \"acquisition_lag_time\": 0.0\n",
      "            },\n",
      "            \"focal_length\": 5.0,\n",
      "            \"imager_distance\": 10.0,\n",
      "            \"f_number\": 11.0,\n",
      "            \"horz_pixel\": 640,\n",
      "            \"vert_pixel\": 480,\n",
      "            \"width\": 5.0,\n",
      "            \"height\": 5.0,\n",
      "            \"distortion_file_uri\": \"/app/assets/CameraInputFiles/CameraDistortion_130deg.OPTDistortion\",\n",
      "            \"distorsion_file_uri\": \"\",\n",
      "            \"axis_system\": [\n",
      "                17.0,\n",
      "                10.0,\n",
      "                10.0,\n",
      "                1.0,\n",
      "                0.0,\n",
      "                0.0,\n",
      "                0.0,\n",
      "                1.0,\n",
      "                0.0,\n",
      "                0.0,\n",
      "                0.0,\n",
      "                1.0\n",
      "            ],\n",
      "            \"layer_type_none\": {},\n",
      "            \"trajectory_file_uri\": \"\"\n",
      "        },\n",
      "        \"name\": \"Camera.1\",\n",
      "        \"description\": \"\",\n",
      "        \"metadata\": {}\n",
      "    }\n",
      "}\n"
     ]
    }
   ],
   "source": [
    "# modify f number and axis system\n",
    "sensor1.set_f_number(value=11).set_axis_system([17, 10, 10, 1, 0, 0, 0, 1, 0, 0, 0, 1])\n",
    "sensor1.commit()\n",
    "print(sensor1)"
   ]
  },
  {
   "cell_type": "markdown",
   "id": "9d7419cc",
   "metadata": {},
   "source": [
    "## Reset"
   ]
  },
  {
   "cell_type": "markdown",
   "id": "4406b529",
   "metadata": {},
   "source": [
    "Possibility to reset local values from the one available in the server."
   ]
  },
  {
   "cell_type": "code",
   "execution_count": 10,
   "id": "90e93506",
   "metadata": {
    "execution": {
     "iopub.execute_input": "2025-03-06T16:11:45.065009Z",
     "iopub.status.busy": "2025-03-06T16:11:45.064601Z",
     "iopub.status.idle": "2025-03-06T16:11:45.069993Z",
     "shell.execute_reply": "2025-03-06T16:11:45.069434Z"
    }
   },
   "outputs": [
    {
     "name": "stdout",
     "output_type": "stream",
     "text": [
      "ansys.api.speos.sensor.v1.SensorTemplate\n",
      "{\n",
      "    \"camera_sensor_template\": {\n",
      "        \"sensor_mode_photometric\": {\n",
      "            \"acquisition_integration\": 0.01,\n",
      "            \"transmittance_file_uri\": \"/app/assets/CameraInputFiles/CameraTransmittance.spectrum\",\n",
      "            \"gamma_correction\": 2.2,\n",
      "            \"png_bits\": \"PNG_16\",\n",
      "            \"color_mode_color\": {\n",
      "                \"red_spectrum_file_uri\": \"/app/assets/CameraInputFiles/CameraSensitivityRed.spectrum\",\n",
      "                \"green_spectrum_file_uri\": \"/app/assets/CameraInputFiles/CameraSensitivityGreen.spectrum\",\n",
      "                \"blue_spectrum_file_uri\": \"/app/assets/CameraInputFiles/CameraSensitivityBlue.spectrum\",\n",
      "                \"balance_mode_none\": {}\n",
      "            },\n",
      "            \"wavelengths_range\": {\n",
      "                \"w_start\": 400.0,\n",
      "                \"w_end\": 700.0,\n",
      "                \"w_sampling\": 13\n",
      "            },\n",
      "            \"acquisition_lag_time\": 0.0\n",
      "        },\n",
      "        \"focal_length\": 5.0,\n",
      "        \"imager_distance\": 10.0,\n",
      "        \"f_number\": 11.0,\n",
      "        \"horz_pixel\": 640,\n",
      "        \"vert_pixel\": 480,\n",
      "        \"width\": 5.0,\n",
      "        \"height\": 5.0,\n",
      "        \"distortion_file_uri\": \"/app/assets/CameraInputFiles/CameraDistortion_130deg.OPTDistortion\",\n",
      "        \"distorsion_file_uri\": \"\"\n",
      "    },\n",
      "    \"name\": \"Camera.1\",\n",
      "    \"description\": \"\",\n",
      "    \"metadata\": {}\n",
      "}\n"
     ]
    }
   ],
   "source": [
    "sensor1.set_mode_geometric()  # set camera in geometric mode but no commit\n",
    "sensor1.reset()  # reset -> this will apply the server value (photometric mode) to the local value\n",
    "sensor1.delete()  # delete (to display the local value with the below print)\n",
    "print(sensor1._sensor_template)"
   ]
  },
  {
   "cell_type": "markdown",
   "id": "1ec6f281",
   "metadata": {},
   "source": [
    "## Delete"
   ]
  },
  {
   "cell_type": "markdown",
   "id": "58223902",
   "metadata": {},
   "source": [
    "Once the data is deleted from the server, you can still work with local data and maybe commit later."
   ]
  },
  {
   "cell_type": "code",
   "execution_count": 11,
   "id": "fd18fda8",
   "metadata": {
    "execution": {
     "iopub.execute_input": "2025-03-06T16:11:45.072052Z",
     "iopub.status.busy": "2025-03-06T16:11:45.071659Z",
     "iopub.status.idle": "2025-03-06T16:11:45.076428Z",
     "shell.execute_reply": "2025-03-06T16:11:45.075775Z"
    }
   },
   "outputs": [
    {
     "name": "stdout",
     "output_type": "stream",
     "text": [
      "local: {\n",
      "    \"name\": \"Camera.2\",\n",
      "    \"description\": \"\",\n",
      "    \"metadata\": {},\n",
      "    \"sensor_guid\": \"\",\n",
      "    \"result_file_name\": \"\",\n",
      "    \"sensor\": {\n",
      "        \"camera_sensor_template\": {\n",
      "            \"sensor_mode_photometric\": {\n",
      "                \"acquisition_integration\": 0.01,\n",
      "                \"transmittance_file_uri\": \"/app/assets/CameraInputFiles/CameraTransmittance.spectrum\",\n",
      "                \"gamma_correction\": 2.2,\n",
      "                \"png_bits\": \"PNG_16\",\n",
      "                \"color_mode_color\": {\n",
      "                    \"red_spectrum_file_uri\": \"/app/assets/CameraInputFiles/CameraSensitivityRed.spectrum\",\n",
      "                    \"green_spectrum_file_uri\": \"/app/assets/CameraInputFiles/CameraSensitivityGreen.spectrum\",\n",
      "                    \"blue_spectrum_file_uri\": \"/app/assets/CameraInputFiles/CameraSensitivityBlue.spectrum\",\n",
      "                    \"balance_mode_none\": {}\n",
      "                },\n",
      "                \"wavelengths_range\": {\n",
      "                    \"w_start\": 400.0,\n",
      "                    \"w_end\": 700.0,\n",
      "                    \"w_sampling\": 13\n",
      "                },\n",
      "                \"acquisition_lag_time\": 0.0\n",
      "            },\n",
      "            \"focal_length\": 5.5,\n",
      "            \"imager_distance\": 10.0,\n",
      "            \"f_number\": 20.0,\n",
      "            \"horz_pixel\": 640,\n",
      "            \"vert_pixel\": 480,\n",
      "            \"width\": 6.0,\n",
      "            \"height\": 6.0,\n",
      "            \"distortion_file_uri\": \"/app/assets/CameraInputFiles/CameraDistortion_130deg.OPTDistortion\",\n",
      "            \"distorsion_file_uri\": \"\",\n",
      "            \"axis_system\": [\n",
      "                20.0,\n",
      "                10.0,\n",
      "                40.0,\n",
      "                1.0,\n",
      "                0.0,\n",
      "                0.0,\n",
      "                0.0,\n",
      "                1.0,\n",
      "                0.0,\n",
      "                0.0,\n",
      "                0.0,\n",
      "                1.0\n",
      "            ],\n",
      "            \"layer_type_source\": {},\n",
      "            \"trajectory_file_uri\": \"\"\n",
      "        },\n",
      "        \"name\": \"Camera.2\",\n",
      "        \"description\": \"\",\n",
      "        \"metadata\": {}\n",
      "    }\n",
      "}\n"
     ]
    }
   ],
   "source": [
    "sensor2.delete()\n",
    "print(sensor2)"
   ]
  },
  {
   "cell_type": "code",
   "execution_count": 12,
   "id": "ee8d239e",
   "metadata": {
    "execution": {
     "iopub.execute_input": "2025-03-06T16:11:45.078492Z",
     "iopub.status.busy": "2025-03-06T16:11:45.078005Z",
     "iopub.status.idle": "2025-03-06T16:11:45.084900Z",
     "shell.execute_reply": "2025-03-06T16:11:45.084212Z"
    }
   },
   "outputs": [
    {
     "data": {
      "text/plain": [
       "<ansys.speos.core.sensor.SensorCamera at 0x7fccd345aaa0>"
      ]
     },
     "execution_count": 12,
     "metadata": {},
     "output_type": "execute_result"
    }
   ],
   "source": [
    "sensor1.delete()"
   ]
  },
  {
   "cell_type": "markdown",
   "id": "0c856463",
   "metadata": {},
   "source": [
    "## Other sensors"
   ]
  },
  {
   "cell_type": "markdown",
   "id": "e4632bf6",
   "metadata": {},
   "source": [
    "### Irradiance sensor"
   ]
  },
  {
   "cell_type": "code",
   "execution_count": 13,
   "id": "8449dc53",
   "metadata": {
    "execution": {
     "iopub.execute_input": "2025-03-06T16:11:45.086900Z",
     "iopub.status.busy": "2025-03-06T16:11:45.086526Z",
     "iopub.status.idle": "2025-03-06T16:11:45.094320Z",
     "shell.execute_reply": "2025-03-06T16:11:45.093754Z"
    }
   },
   "outputs": [
    {
     "name": "stdout",
     "output_type": "stream",
     "text": [
      "{\n",
      "    \"name\": \"Irradiance.1\",\n",
      "    \"metadata\": {\n",
      "        \"UniqueId\": \"9be936d8-0542-4b03-94b5-3bce71503075\"\n",
      "    },\n",
      "    \"sensor_guid\": \"97396c7c-9f3a-489f-98d8-ca62dcea4558\",\n",
      "    \"description\": \"\",\n",
      "    \"result_file_name\": \"\",\n",
      "    \"sensor\": {\n",
      "        \"irradiance_sensor_template\": {\n",
      "            \"sensor_type_photometric\": {},\n",
      "            \"illuminance_type_planar\": {},\n",
      "            \"dimensions\": {\n",
      "                \"x_start\": -50.0,\n",
      "                \"x_end\": 50.0,\n",
      "                \"x_sampling\": 100,\n",
      "                \"y_start\": -50.0,\n",
      "                \"y_end\": 50.0,\n",
      "                \"y_sampling\": 100\n",
      "            },\n",
      "            \"axis_system\": [\n",
      "                0.0,\n",
      "                0.0,\n",
      "                0.0,\n",
      "                1.0,\n",
      "                0.0,\n",
      "                0.0,\n",
      "                0.0,\n",
      "                1.0,\n",
      "                0.0,\n",
      "                0.0,\n",
      "                0.0,\n",
      "                1.0\n",
      "            ],\n",
      "            \"layer_type_none\": {},\n",
      "            \"ray_file_type\": \"RayFileNone\",\n",
      "            \"integration_direction\": []\n",
      "        },\n",
      "        \"name\": \"Irradiance.1\",\n",
      "        \"description\": \"\",\n",
      "        \"metadata\": {}\n",
      "    }\n",
      "}\n"
     ]
    }
   ],
   "source": [
    "sensor3 = p.create_sensor(name=\"Irradiance.1\", feature_type=SensorIrradiance)\n",
    "sensor3.commit()\n",
    "print(sensor3)"
   ]
  },
  {
   "cell_type": "code",
   "execution_count": 14,
   "id": "cf73deec",
   "metadata": {
    "execution": {
     "iopub.execute_input": "2025-03-06T16:11:45.096101Z",
     "iopub.status.busy": "2025-03-06T16:11:45.095907Z",
     "iopub.status.idle": "2025-03-06T16:11:45.103839Z",
     "shell.execute_reply": "2025-03-06T16:11:45.103324Z"
    }
   },
   "outputs": [
    {
     "name": "stdout",
     "output_type": "stream",
     "text": [
      "{\n",
      "    \"name\": \"Irradiance.1\",\n",
      "    \"metadata\": {\n",
      "        \"UniqueId\": \"9be936d8-0542-4b03-94b5-3bce71503075\"\n",
      "    },\n",
      "    \"sensor_guid\": \"97396c7c-9f3a-489f-98d8-ca62dcea4558\",\n",
      "    \"description\": \"\",\n",
      "    \"result_file_name\": \"\",\n",
      "    \"sensor\": {\n",
      "        \"irradiance_sensor_template\": {\n",
      "            \"sensor_type_colorimetric\": {\n",
      "                \"wavelengths_range\": {\n",
      "                    \"w_start\": 400.0,\n",
      "                    \"w_end\": 700.0,\n",
      "                    \"w_sampling\": 13\n",
      "                }\n",
      "            },\n",
      "            \"illuminance_type_planar\": {},\n",
      "            \"dimensions\": {\n",
      "                \"x_start\": -50.0,\n",
      "                \"x_end\": 50.0,\n",
      "                \"x_sampling\": 100,\n",
      "                \"y_start\": -50.0,\n",
      "                \"y_end\": 50.0,\n",
      "                \"y_sampling\": 100\n",
      "            },\n",
      "            \"axis_system\": [\n",
      "                0.0,\n",
      "                0.0,\n",
      "                0.0,\n",
      "                1.0,\n",
      "                0.0,\n",
      "                0.0,\n",
      "                0.0,\n",
      "                1.0,\n",
      "                0.0,\n",
      "                0.0,\n",
      "                0.0,\n",
      "                1.0\n",
      "            ],\n",
      "            \"layer_type_polarization\": {},\n",
      "            \"ray_file_type\": \"RayFileNone\",\n",
      "            \"integration_direction\": []\n",
      "        },\n",
      "        \"name\": \"Irradiance.1\",\n",
      "        \"description\": \"\",\n",
      "        \"metadata\": {}\n",
      "    }\n",
      "}\n"
     ]
    }
   ],
   "source": [
    "sensor3.set_type_colorimetric()\n",
    "sensor3.set_layer_type_polarization()\n",
    "sensor3.commit()\n",
    "print(sensor3)"
   ]
  },
  {
   "cell_type": "code",
   "execution_count": 15,
   "id": "7f1c7f63",
   "metadata": {
    "execution": {
     "iopub.execute_input": "2025-03-06T16:11:45.105642Z",
     "iopub.status.busy": "2025-03-06T16:11:45.105447Z",
     "iopub.status.idle": "2025-03-06T16:11:45.110406Z",
     "shell.execute_reply": "2025-03-06T16:11:45.109869Z"
    }
   },
   "outputs": [
    {
     "data": {
      "text/plain": [
       "<ansys.speos.core.sensor.SensorIrradiance at 0x7fccd345a7d0>"
      ]
     },
     "execution_count": 15,
     "metadata": {},
     "output_type": "execute_result"
    }
   ],
   "source": [
    "sensor3.delete()"
   ]
  },
  {
   "cell_type": "markdown",
   "id": "188b0360",
   "metadata": {},
   "source": [
    "### radiance sensor"
   ]
  },
  {
   "cell_type": "code",
   "execution_count": 16,
   "id": "c8b70e3b",
   "metadata": {
    "execution": {
     "iopub.execute_input": "2025-03-06T16:11:45.112363Z",
     "iopub.status.busy": "2025-03-06T16:11:45.111985Z",
     "iopub.status.idle": "2025-03-06T16:11:45.119596Z",
     "shell.execute_reply": "2025-03-06T16:11:45.119038Z"
    }
   },
   "outputs": [
    {
     "name": "stdout",
     "output_type": "stream",
     "text": [
      "{\n",
      "    \"name\": \"Radiance.1\",\n",
      "    \"metadata\": {\n",
      "        \"UniqueId\": \"05a814f6-658c-4a3b-a787-d0fb12edf404\"\n",
      "    },\n",
      "    \"sensor_guid\": \"596e9b23-f475-40d4-b992-8629dcc536a8\",\n",
      "    \"description\": \"\",\n",
      "    \"result_file_name\": \"\",\n",
      "    \"sensor\": {\n",
      "        \"radiance_sensor_template\": {\n",
      "            \"sensor_type_photometric\": {},\n",
      "            \"focal\": 250.0,\n",
      "            \"integration_angle\": 5.0,\n",
      "            \"dimensions\": {\n",
      "                \"x_start\": -50.0,\n",
      "                \"x_end\": 50.0,\n",
      "                \"x_sampling\": 100,\n",
      "                \"y_start\": -50.0,\n",
      "                \"y_end\": 50.0,\n",
      "                \"y_sampling\": 100\n",
      "            },\n",
      "            \"axis_system\": [\n",
      "                0.0,\n",
      "                0.0,\n",
      "                0.0,\n",
      "                1.0,\n",
      "                0.0,\n",
      "                0.0,\n",
      "                0.0,\n",
      "                1.0,\n",
      "                0.0,\n",
      "                0.0,\n",
      "                0.0,\n",
      "                1.0\n",
      "            ],\n",
      "            \"layer_type_none\": {},\n",
      "            \"observer_point\": []\n",
      "        },\n",
      "        \"name\": \"Radiance.1\",\n",
      "        \"description\": \"\",\n",
      "        \"metadata\": {}\n",
      "    }\n",
      "}\n"
     ]
    }
   ],
   "source": [
    "sensor4 = p.create_sensor(name=\"Radiance.1\", feature_type=SensorRadiance)\n",
    "sensor4.commit()\n",
    "print(sensor4)"
   ]
  },
  {
   "cell_type": "code",
   "execution_count": 17,
   "id": "fe17c351",
   "metadata": {
    "execution": {
     "iopub.execute_input": "2025-03-06T16:11:45.121510Z",
     "iopub.status.busy": "2025-03-06T16:11:45.121134Z",
     "iopub.status.idle": "2025-03-06T16:11:45.129423Z",
     "shell.execute_reply": "2025-03-06T16:11:45.128858Z"
    }
   },
   "outputs": [
    {
     "name": "stdout",
     "output_type": "stream",
     "text": [
      "{\n",
      "    \"name\": \"Radiance.1\",\n",
      "    \"metadata\": {\n",
      "        \"UniqueId\": \"05a814f6-658c-4a3b-a787-d0fb12edf404\"\n",
      "    },\n",
      "    \"sensor_guid\": \"596e9b23-f475-40d4-b992-8629dcc536a8\",\n",
      "    \"description\": \"\",\n",
      "    \"result_file_name\": \"\",\n",
      "    \"sensor\": {\n",
      "        \"radiance_sensor_template\": {\n",
      "            \"sensor_type_spectral\": {\n",
      "                \"wavelengths_range\": {\n",
      "                    \"w_start\": 400.0,\n",
      "                    \"w_end\": 700.0,\n",
      "                    \"w_sampling\": 13\n",
      "                }\n",
      "            },\n",
      "            \"focal\": 200.0,\n",
      "            \"integration_angle\": 5.0,\n",
      "            \"dimensions\": {\n",
      "                \"x_start\": -50.0,\n",
      "                \"x_end\": 50.0,\n",
      "                \"x_sampling\": 100,\n",
      "                \"y_start\": -50.0,\n",
      "                \"y_end\": 50.0,\n",
      "                \"y_sampling\": 100\n",
      "            },\n",
      "            \"axis_system\": [\n",
      "                0.0,\n",
      "                0.0,\n",
      "                0.0,\n",
      "                1.0,\n",
      "                0.0,\n",
      "                0.0,\n",
      "                0.0,\n",
      "                1.0,\n",
      "                0.0,\n",
      "                0.0,\n",
      "                0.0,\n",
      "                1.0\n",
      "            ],\n",
      "            \"layer_type_source\": {},\n",
      "            \"observer_point\": []\n",
      "        },\n",
      "        \"name\": \"Radiance.1\",\n",
      "        \"description\": \"\",\n",
      "        \"metadata\": {}\n",
      "    }\n",
      "}\n"
     ]
    }
   ],
   "source": [
    "sensor4.set_focal(value=200).set_type_spectral()\n",
    "sensor4.set_layer_type_source()\n",
    "sensor4.commit()\n",
    "print(sensor4)"
   ]
  },
  {
   "cell_type": "code",
   "execution_count": 18,
   "id": "cdf61f63",
   "metadata": {
    "execution": {
     "iopub.execute_input": "2025-03-06T16:11:45.131397Z",
     "iopub.status.busy": "2025-03-06T16:11:45.131022Z",
     "iopub.status.idle": "2025-03-06T16:11:45.135729Z",
     "shell.execute_reply": "2025-03-06T16:11:45.135199Z"
    }
   },
   "outputs": [
    {
     "name": "stdout",
     "output_type": "stream",
     "text": [
      "local: {\n",
      "    \"name\": \"Radiance.1\",\n",
      "    \"description\": \"\",\n",
      "    \"metadata\": {},\n",
      "    \"sensor_guid\": \"\",\n",
      "    \"result_file_name\": \"\",\n",
      "    \"sensor\": {\n",
      "        \"radiance_sensor_template\": {\n",
      "            \"sensor_type_spectral\": {\n",
      "                \"wavelengths_range\": {\n",
      "                    \"w_start\": 400.0,\n",
      "                    \"w_end\": 700.0,\n",
      "                    \"w_sampling\": 13\n",
      "                }\n",
      "            },\n",
      "            \"focal\": 200.0,\n",
      "            \"integration_angle\": 5.0,\n",
      "            \"dimensions\": {\n",
      "                \"x_start\": -50.0,\n",
      "                \"x_end\": 50.0,\n",
      "                \"x_sampling\": 100,\n",
      "                \"y_start\": -50.0,\n",
      "                \"y_end\": 50.0,\n",
      "                \"y_sampling\": 100\n",
      "            },\n",
      "            \"axis_system\": [\n",
      "                0.0,\n",
      "                0.0,\n",
      "                0.0,\n",
      "                1.0,\n",
      "                0.0,\n",
      "                0.0,\n",
      "                0.0,\n",
      "                1.0,\n",
      "                0.0,\n",
      "                0.0,\n",
      "                0.0,\n",
      "                1.0\n",
      "            ],\n",
      "            \"layer_type_source\": {},\n",
      "            \"observer_point\": []\n",
      "        },\n",
      "        \"name\": \"Radiance.1\",\n",
      "        \"description\": \"\",\n",
      "        \"metadata\": {}\n",
      "    }\n",
      "}\n"
     ]
    }
   ],
   "source": [
    "sensor4.delete()\n",
    "print(sensor4)"
   ]
  }
 ],
 "metadata": {
  "jupytext": {
   "cell_metadata_filter": "-all",
   "main_language": "python",
   "notebook_metadata_filter": "-all",
   "text_representation": {
    "extension": ".py",
    "format_name": "light"
   }
  },
  "language_info": {
   "codemirror_mode": {
    "name": "ipython",
    "version": 3
   },
   "file_extension": ".py",
   "mimetype": "text/x-python",
   "name": "python",
   "nbconvert_exporter": "python",
   "pygments_lexer": "ipython3",
   "version": "3.10.16"
  }
 },
 "nbformat": 4,
 "nbformat_minor": 5
}
