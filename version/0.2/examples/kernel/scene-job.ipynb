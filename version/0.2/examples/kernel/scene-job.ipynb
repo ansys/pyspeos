{
 "cells": [
  {
   "cell_type": "markdown",
   "id": "8271d58e",
   "metadata": {},
   "source": [
    "# How to use scene and job"
   ]
  },
  {
   "cell_type": "markdown",
   "id": "ac84dead",
   "metadata": {},
   "source": [
    "This tutorial demonstrates how to create a scene, and fill it from a speos file.\n",
    "Then this demonstrates how to create a job from the scene, and run it."
   ]
  },
  {
   "cell_type": "code",
   "execution_count": 1,
   "id": "1216f440",
   "metadata": {
    "execution": {
     "iopub.execute_input": "2025-03-06T16:11:58.944603Z",
     "iopub.status.busy": "2025-03-06T16:11:58.944408Z",
     "iopub.status.idle": "2025-03-06T16:11:59.518391Z",
     "shell.execute_reply": "2025-03-06T16:11:59.517646Z"
    }
   },
   "outputs": [],
   "source": [
    "from pathlib import Path\n",
    "import time\n",
    "\n",
    "from ansys.speos.core.kernel.job import ProtoJob\n",
    "from ansys.speos.core.speos import Speos\n",
    "\n",
    "# If using docker container\n",
    "tests_data_path = Path(\"/app\") / \"assets\"\n",
    "# If using local server\n",
    "# tests_data_path = Path().resolve().parent.parent / \"tests\" / \"assets\""
   ]
  },
  {
   "cell_type": "markdown",
   "id": "012030ee",
   "metadata": {},
   "source": [
    "Create connection with speos rpc server"
   ]
  },
  {
   "cell_type": "code",
   "execution_count": 2,
   "id": "c37e598e",
   "metadata": {
    "execution": {
     "iopub.execute_input": "2025-03-06T16:11:59.520903Z",
     "iopub.status.busy": "2025-03-06T16:11:59.520609Z",
     "iopub.status.idle": "2025-03-06T16:11:59.526952Z",
     "shell.execute_reply": "2025-03-06T16:11:59.526405Z"
    }
   },
   "outputs": [],
   "source": [
    "speos = Speos(host=\"localhost\", port=50098)"
   ]
  },
  {
   "cell_type": "markdown",
   "id": "3cdff04c",
   "metadata": {},
   "source": [
    "## Scene"
   ]
  },
  {
   "cell_type": "markdown",
   "id": "c3dff1d1",
   "metadata": {},
   "source": [
    "Create an empty scene"
   ]
  },
  {
   "cell_type": "code",
   "execution_count": 3,
   "id": "19c1263c",
   "metadata": {
    "execution": {
     "iopub.execute_input": "2025-03-06T16:11:59.529234Z",
     "iopub.status.busy": "2025-03-06T16:11:59.528735Z",
     "iopub.status.idle": "2025-03-06T16:11:59.532666Z",
     "shell.execute_reply": "2025-03-06T16:11:59.532027Z"
    }
   },
   "outputs": [],
   "source": [
    "my_scene = speos.client.scenes().create()"
   ]
  },
  {
   "cell_type": "markdown",
   "id": "90b93c7a",
   "metadata": {},
   "source": [
    "Load a file to fill the scene"
   ]
  },
  {
   "cell_type": "code",
   "execution_count": 4,
   "id": "5d9b7c60",
   "metadata": {
    "execution": {
     "iopub.execute_input": "2025-03-06T16:11:59.534748Z",
     "iopub.status.busy": "2025-03-06T16:11:59.534401Z",
     "iopub.status.idle": "2025-03-06T16:11:59.543128Z",
     "shell.execute_reply": "2025-03-06T16:11:59.542479Z"
    }
   },
   "outputs": [],
   "source": [
    "speos_file = str(\n",
    "    tests_data_path / \"LG_50M_Colorimetric_short.sv5\" / \"LG_50M_Colorimetric_short.sv5\"\n",
    ")\n",
    "my_scene.load_file(file_uri=speos_file)"
   ]
  },
  {
   "cell_type": "markdown",
   "id": "73680e4e",
   "metadata": {},
   "source": [
    "Print scene data model"
   ]
  },
  {
   "cell_type": "markdown",
   "id": "cdbc66e6",
   "metadata": {},
   "source": [
    "Here it is possible to see that the scene contains two surface sources, one irradiance sensor."
   ]
  },
  {
   "cell_type": "code",
   "execution_count": 5,
   "id": "c16589f5",
   "metadata": {
    "execution": {
     "iopub.execute_input": "2025-03-06T16:11:59.545367Z",
     "iopub.status.busy": "2025-03-06T16:11:59.545012Z",
     "iopub.status.idle": "2025-03-06T16:11:59.550671Z",
     "shell.execute_reply": "2025-03-06T16:11:59.550021Z"
    }
   },
   "outputs": [
    {
     "name": "stdout",
     "output_type": "stream",
     "text": [
      "ansys.api.speos.scene.v2.Scene\n",
      "{\n",
      "    \"name\": \"LG_50M_Colorimetric_short\",\n",
      "    \"description\": \"From /app/assets/LG_50M_Colorimetric_short.sv5/LG_50M_Colorimetric_short.sv5\",\n",
      "    \"part_guid\": \"fa4cf5c9-999f-41c3-905f-838fefd95644\",\n",
      "    \"sources\": [\n",
      "        {\n",
      "            \"name\": \"Dom Source 2 (0) in SOURCE2\",\n",
      "            \"source_guid\": \"53e550de-23eb-4d54-a580-10b05dc1ed65\",\n",
      "            \"surface_properties\": {\n",
      "                \"exitance_constant_properties\": {\n",
      "                    \"geo_paths\": [\n",
      "                        {\n",
      "                            \"geo_path\": \"Solid Body in SOURCE2:2920204960/Face in SOURCE2:222\",\n",
      "                            \"reverse_normal\": false\n",
      "                        }\n",
      "                    ]\n",
      "                }\n",
      "            },\n",
      "            \"description\": \"\",\n",
      "            \"metadata\": {}\n",
      "        },\n",
      "        {\n",
      "            \"name\": \"Surface Source (0) in SOURCE1\",\n",
      "            \"source_guid\": \"c046330a-8ddc-44e1-9ad3-d3bce3cc7d31\",\n",
      "            \"surface_properties\": {\n",
      "                \"exitance_constant_properties\": {\n",
      "                    \"geo_paths\": [\n",
      "                        {\n",
      "                            \"geo_path\": \"Solid Body in SOURCE1:2494956811/Face in SOURCE1:187\",\n",
      "                            \"reverse_normal\": false\n",
      "                        }\n",
      "                    ]\n",
      "                }\n",
      "            },\n",
      "            \"description\": \"\",\n",
      "            \"metadata\": {}\n",
      "        }\n",
      "    ],\n",
      "    \"sensors\": [\n",
      "        {\n",
      "            \"name\": \"Dom Irradiance Sensor (0)\",\n",
      "            \"sensor_guid\": \"6e49fb7c-e10a-4204-b7b8-55774c470f9e\",\n",
      "            \"result_file_name\": \"ASSEMBLY1.DS (0).Dom Irradiance Sensor (0)\",\n",
      "            \"irradiance_properties\": {\n",
      "                \"axis_system\": [\n",
      "                    -42.0,\n",
      "                    2.0,\n",
      "                    5.0,\n",
      "                    0.0,\n",
      "                    1.0,\n",
      "                    0.0,\n",
      "                    0.0,\n",
      "                    0.0,\n",
      "                    -1.0,\n",
      "                    -1.0,\n",
      "                    0.0,\n",
      "                    0.0\n",
      "                ],\n",
      "                \"layer_type_source\": {},\n",
      "                \"integration_direction\": [\n",
      "                    1.0,\n",
      "                    -0.0,\n",
      "                    -0.0\n",
      "                ],\n",
      "                \"ray_file_type\": \"RayFileNone\"\n",
      "            },\n",
      "            \"description\": \"\",\n",
      "            \"metadata\": {}\n",
      "        }\n",
      "    ],\n",
      "    \"simulations\": [\n",
      "        {\n",
      "            \"name\": \"ASSEMBLY1.DS (0)\",\n",
      "            \"simulation_guid\": \"28e50add-b2ee-4ecb-b360-c8d0da52f2e7\",\n",
      "            \"sensor_paths\": [\n",
      "                \"Dom Irradiance Sensor (0)\"\n",
      "            ],\n",
      "            \"source_paths\": [\n",
      "                \"Dom Source 2 (0) in SOURCE2\",\n",
      "                \"Surface Source (0) in SOURCE1\"\n",
      "            ],\n",
      "            \"description\": \"\",\n",
      "            \"metadata\": {}\n",
      "        }\n",
      "    ],\n",
      "    \"materials\": [\n",
      "        {\n",
      "            \"name\": \"Material.1\",\n",
      "            \"sop_guids\": [\n",
      "                \"d466e000-34d7-4d4c-a993-3f2fffac162e\"\n",
      "            ],\n",
      "            \"geometries\": {\n",
      "                \"geo_paths\": [\n",
      "                    \"Solid Body in GUIDE:1379760262/Face in GUIDE:169\"\n",
      "                ]\n",
      "            },\n",
      "            \"description\": \"\",\n",
      "            \"metadata\": {}\n",
      "        },\n",
      "        {\n",
      "            \"name\": \"Material.2\",\n",
      "            \"vop_guid\": \"67c166f0-fe45-4555-baac-23cc8d19b9ff\",\n",
      "            \"sop_guids\": [\n",
      "                \"d466e000-34d7-4d4c-a993-3f2fffac162e\"\n",
      "            ],\n",
      "            \"geometries\": {\n",
      "                \"geo_paths\": [\n",
      "                    \"Solid Body in SOURCE2:2920204960\",\n",
      "                    \"Solid Body in SOURCE1:2494956811\"\n",
      "                ]\n",
      "            },\n",
      "            \"description\": \"\",\n",
      "            \"metadata\": {}\n",
      "        },\n",
      "        {\n",
      "            \"name\": \"Material.3\",\n",
      "            \"vop_guid\": \"8ccbf4fa-3ca3-4473-a51d-33d9cd78912e\",\n",
      "            \"sop_guids\": [\n",
      "                \"fd691f24-5f36-4e47-b8c5-57b089673f59\"\n",
      "            ],\n",
      "            \"geometries\": {\n",
      "                \"geo_paths\": [\n",
      "                    \"Solid Body in GUIDE:1379760262\"\n",
      "                ]\n",
      "            },\n",
      "            \"description\": \"\",\n",
      "            \"metadata\": {}\n",
      "        },\n",
      "        {\n",
      "            \"name\": \"Material.4\",\n",
      "            \"vop_guid\": \"09640fa6-db6c-420c-9dc8-ef6802a68188\",\n",
      "            \"description\": \"\",\n",
      "            \"metadata\": {},\n",
      "            \"sop_guids\": []\n",
      "        }\n",
      "    ],\n",
      "    \"metadata\": {},\n",
      "    \"scenes\": []\n",
      "}\n"
     ]
    }
   ],
   "source": [
    "print(my_scene)"
   ]
  },
  {
   "cell_type": "markdown",
   "id": "bd3fd3ec",
   "metadata": {},
   "source": [
    "## Job"
   ]
  },
  {
   "cell_type": "markdown",
   "id": "06b5c32b",
   "metadata": {},
   "source": [
    "Create a job for the first simulation. When loaded from a speos file, there is always only one simulation in the scene."
   ]
  },
  {
   "cell_type": "code",
   "execution_count": 6,
   "id": "67a87c95",
   "metadata": {
    "execution": {
     "iopub.execute_input": "2025-03-06T16:11:59.552894Z",
     "iopub.status.busy": "2025-03-06T16:11:59.552476Z",
     "iopub.status.idle": "2025-03-06T16:11:59.631173Z",
     "shell.execute_reply": "2025-03-06T16:11:59.630434Z"
    }
   },
   "outputs": [],
   "source": [
    "# First create the protobuf message\n",
    "job_message = ProtoJob(name=\"my_job\")\n",
    "job_message.scene_guid = my_scene.key  # The job needs a scene guid\n",
    "job_message.simulation_path = (\n",
    "    my_scene.get().simulations[0].name\n",
    ")  # And needs to know which simulation in the scene is involved.\n",
    "job_message.job_type = ProtoJob.Type.CPU  # Choose type of job, can also be GPU.\n",
    "job_message.direct_mc_simulation_properties.automatic_save_frequency = 1800\n",
    "job_message.direct_mc_simulation_properties.stop_condition_rays_number = (\n",
    "    200000  # Stop condition, here 200000 rays will be sent.\n",
    ")\n",
    "\n",
    "# Create the JobLink\n",
    "job_link = speos.client.jobs().create(message=job_message)"
   ]
  },
  {
   "cell_type": "markdown",
   "id": "8e97c0ea",
   "metadata": {},
   "source": [
    "Start the job"
   ]
  },
  {
   "cell_type": "code",
   "execution_count": 7,
   "id": "2f0efa48",
   "metadata": {
    "execution": {
     "iopub.execute_input": "2025-03-06T16:11:59.633674Z",
     "iopub.status.busy": "2025-03-06T16:11:59.633213Z",
     "iopub.status.idle": "2025-03-06T16:11:59.636793Z",
     "shell.execute_reply": "2025-03-06T16:11:59.636174Z"
    }
   },
   "outputs": [],
   "source": [
    "job_link.start()"
   ]
  },
  {
   "cell_type": "markdown",
   "id": "2e0342ab",
   "metadata": {},
   "source": [
    "Verify state of the job"
   ]
  },
  {
   "cell_type": "code",
   "execution_count": 8,
   "id": "e23dd164",
   "metadata": {
    "execution": {
     "iopub.execute_input": "2025-03-06T16:11:59.638747Z",
     "iopub.status.busy": "2025-03-06T16:11:59.638546Z",
     "iopub.status.idle": "2025-03-06T16:11:59.645346Z",
     "shell.execute_reply": "2025-03-06T16:11:59.644701Z"
    }
   },
   "outputs": [
    {
     "data": {
      "text/plain": [
       "state: RUNNING"
      ]
     },
     "execution_count": 8,
     "metadata": {},
     "output_type": "execute_result"
    }
   ],
   "source": [
    "job_link.get_state()"
   ]
  },
  {
   "cell_type": "markdown",
   "id": "b7daaaa0",
   "metadata": {},
   "source": [
    "Wait that the job is finished"
   ]
  },
  {
   "cell_type": "code",
   "execution_count": 9,
   "id": "79ddbadc",
   "metadata": {
    "execution": {
     "iopub.execute_input": "2025-03-06T16:11:59.647384Z",
     "iopub.status.busy": "2025-03-06T16:11:59.646931Z",
     "iopub.status.idle": "2025-03-06T16:12:05.660948Z",
     "shell.execute_reply": "2025-03-06T16:12:05.660360Z"
    }
   },
   "outputs": [],
   "source": [
    "job_state_res = job_link.get_state()\n",
    "while (\n",
    "    job_state_res.state != ProtoJob.State.FINISHED\n",
    "    and job_state_res.state != ProtoJob.State.STOPPED\n",
    "    and job_state_res.state != ProtoJob.State.IN_ERROR\n",
    "):\n",
    "    time.sleep(2)\n",
    "\n",
    "    job_state_res = job_link.get_state()"
   ]
  },
  {
   "cell_type": "markdown",
   "id": "6c015474",
   "metadata": {},
   "source": [
    "Retrieve results of the job"
   ]
  },
  {
   "cell_type": "markdown",
   "id": "a6c79b42",
   "metadata": {},
   "source": [
    "Two results are generated : the result of irradiance sensor: ASSEMBLY1.DS (0).Dom Irradiance Sensor (0).xmp\n",
    "and the simulation report in html"
   ]
  },
  {
   "cell_type": "code",
   "execution_count": 10,
   "id": "2b189150",
   "metadata": {
    "execution": {
     "iopub.execute_input": "2025-03-06T16:12:05.663317Z",
     "iopub.status.busy": "2025-03-06T16:12:05.662841Z",
     "iopub.status.idle": "2025-03-06T16:12:05.670541Z",
     "shell.execute_reply": "2025-03-06T16:12:05.670020Z"
    }
   },
   "outputs": [
    {
     "name": "stdout",
     "output_type": "stream",
     "text": [
      "[upload_response {\n",
      "  info {\n",
      "    uri: \"1d8fc7c6-5791-469b-b539-85eb81d40d30\"\n",
      "    file_name: \"ASSEMBLY1.DS (0).Dom Irradiance Sensor (0).xmp\"\n",
      "    file_size: 1445958\n",
      "  }\n",
      "  upload_duration {\n",
      "    nanos: 2395285\n",
      "  }\n",
      "}\n",
      ", upload_response {\n",
      "  info {\n",
      "    uri: \"37635e7e-5ad2-47da-bb85-07111e582218\"\n",
      "    file_name: \"ASSEMBLY1.DS (0).html\"\n",
      "    file_size: 510703\n",
      "  }\n",
      "  upload_duration {\n",
      "    nanos: 833513\n",
      "  }\n",
      "}\n",
      "]\n"
     ]
    }
   ],
   "source": [
    "results = job_link.get_results().results\n",
    "print(results)"
   ]
  },
  {
   "cell_type": "markdown",
   "id": "67544870",
   "metadata": {},
   "source": [
    "Once no more needed: delete the job"
   ]
  },
  {
   "cell_type": "code",
   "execution_count": 11,
   "id": "558e24b1",
   "metadata": {
    "execution": {
     "iopub.execute_input": "2025-03-06T16:12:05.672557Z",
     "iopub.status.busy": "2025-03-06T16:12:05.672166Z",
     "iopub.status.idle": "2025-03-06T16:12:05.681916Z",
     "shell.execute_reply": "2025-03-06T16:12:05.681243Z"
    },
    "lines_to_next_cell": 2
   },
   "outputs": [],
   "source": [
    "job_link.delete()"
   ]
  },
  {
   "cell_type": "markdown",
   "id": "485898da",
   "metadata": {},
   "source": [
    "When loading a speos file into a scene, this creates many objects (source templates, sensor templates, vop template, sop templates).\n",
    "Then at the end of the example, we just clean all databases"
   ]
  },
  {
   "cell_type": "code",
   "execution_count": 12,
   "id": "3695fcc0",
   "metadata": {
    "execution": {
     "iopub.execute_input": "2025-03-06T16:12:05.684195Z",
     "iopub.status.busy": "2025-03-06T16:12:05.683687Z",
     "iopub.status.idle": "2025-03-06T16:12:05.704722Z",
     "shell.execute_reply": "2025-03-06T16:12:05.704194Z"
    }
   },
   "outputs": [],
   "source": [
    "for item in (\n",
    "    speos.client.scenes().list()\n",
    "    + speos.client.simulation_templates().list()\n",
    "    + speos.client.sensor_templates().list()\n",
    "    + speos.client.source_templates().list()\n",
    "    + speos.client.intensity_templates().list()\n",
    "    + speos.client.spectrums().list()\n",
    "    + speos.client.vop_templates().list()\n",
    "    + speos.client.sop_templates().list()\n",
    "    + speos.client.parts().list()\n",
    "    + speos.client.bodies().list()\n",
    "    + speos.client.faces().list()\n",
    "):\n",
    "    item.delete()"
   ]
  }
 ],
 "metadata": {
  "jupytext": {
   "cell_metadata_filter": "-all",
   "main_language": "python",
   "notebook_metadata_filter": "-all",
   "text_representation": {
    "extension": ".py",
    "format_name": "light"
   }
  },
  "language_info": {
   "codemirror_mode": {
    "name": "ipython",
    "version": 3
   },
   "file_extension": ".py",
   "mimetype": "text/x-python",
   "name": "python",
   "nbconvert_exporter": "python",
   "pygments_lexer": "ipython3",
   "version": "3.10.16"
  }
 },
 "nbformat": 4,
 "nbformat_minor": 5
}
