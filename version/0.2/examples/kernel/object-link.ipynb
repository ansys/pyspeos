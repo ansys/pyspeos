{
 "cells": [
  {
   "cell_type": "markdown",
   "id": "8ed51462",
   "metadata": {},
   "source": [
    "# How to use an ObjectLink"
   ]
  },
  {
   "cell_type": "markdown",
   "id": "9004d6df",
   "metadata": {},
   "source": [
    "This tutorial demonstrates how to use speos objects in layer core."
   ]
  },
  {
   "cell_type": "markdown",
   "id": "4b6feae1",
   "metadata": {},
   "source": [
    "## What is an ObjectLink?"
   ]
  },
  {
   "cell_type": "markdown",
   "id": "c6251c41",
   "metadata": {},
   "source": [
    "The ObjectLink is an object that is created from a protobuf message and then stored in the server database."
   ]
  },
  {
   "cell_type": "markdown",
   "id": "5e203903",
   "metadata": {},
   "source": [
    "## Which speos objects are used via ObjectLink?"
   ]
  },
  {
   "cell_type": "markdown",
   "id": "8d384a30",
   "metadata": {},
   "source": [
    "Almost all speos objects are used via ObjectLink: like sources, sensors, simulations and more.\n",
    "For this tutorial we will use as example the surface optical property (sop)"
   ]
  },
  {
   "cell_type": "code",
   "execution_count": 1,
   "id": "a4d06168",
   "metadata": {
    "execution": {
     "iopub.execute_input": "2025-03-06T16:11:56.502349Z",
     "iopub.status.busy": "2025-03-06T16:11:56.502154Z",
     "iopub.status.idle": "2025-03-06T16:11:57.077361Z",
     "shell.execute_reply": "2025-03-06T16:11:57.076673Z"
    }
   },
   "outputs": [],
   "source": [
    "from ansys.speos.core.kernel.sop_template import ProtoSOPTemplate\n",
    "from ansys.speos.core.speos import Speos\n"
   ]
  },
  {
   "cell_type": "markdown",
   "id": "8721f07c",
   "metadata": {},
   "source": [
    "Create connection with speos rpc server"
   ]
  },
  {
   "cell_type": "code",
   "execution_count": 2,
   "id": "aa55d8ed",
   "metadata": {
    "execution": {
     "iopub.execute_input": "2025-03-06T16:11:57.080089Z",
     "iopub.status.busy": "2025-03-06T16:11:57.079549Z",
     "iopub.status.idle": "2025-03-06T16:11:57.086210Z",
     "shell.execute_reply": "2025-03-06T16:11:57.085564Z"
    }
   },
   "outputs": [],
   "source": [
    "speos = Speos(host=\"localhost\", port=50098)"
   ]
  },
  {
   "cell_type": "markdown",
   "id": "545d1e92",
   "metadata": {},
   "source": [
    "## Create an ObjectLink"
   ]
  },
  {
   "cell_type": "markdown",
   "id": "fdaa2d0b",
   "metadata": {},
   "source": [
    "Retrieve the access to the database."
   ]
  },
  {
   "cell_type": "code",
   "execution_count": 3,
   "id": "70e2549b",
   "metadata": {
    "execution": {
     "iopub.execute_input": "2025-03-06T16:11:57.088089Z",
     "iopub.status.busy": "2025-03-06T16:11:57.087864Z",
     "iopub.status.idle": "2025-03-06T16:11:57.091140Z",
     "shell.execute_reply": "2025-03-06T16:11:57.090571Z"
    }
   },
   "outputs": [],
   "source": [
    "sop_t_db = speos.client.sop_templates()"
   ]
  },
  {
   "cell_type": "markdown",
   "id": "fd0ce331",
   "metadata": {},
   "source": [
    "Create the protobuf message."
   ]
  },
  {
   "cell_type": "code",
   "execution_count": 4,
   "id": "543d8f3c",
   "metadata": {
    "execution": {
     "iopub.execute_input": "2025-03-06T16:11:57.093105Z",
     "iopub.status.busy": "2025-03-06T16:11:57.092715Z",
     "iopub.status.idle": "2025-03-06T16:11:57.095837Z",
     "shell.execute_reply": "2025-03-06T16:11:57.095303Z"
    }
   },
   "outputs": [],
   "source": [
    "sop_t = ProtoSOPTemplate()\n",
    "sop_t.name = \"Mirror_90\"\n",
    "sop_t.mirror.reflectance = 90.0"
   ]
  },
  {
   "cell_type": "markdown",
   "id": "ddb46c38",
   "metadata": {},
   "source": [
    "Create the ObjectLink (here a SOPTemplateLink)."
   ]
  },
  {
   "cell_type": "code",
   "execution_count": 5,
   "id": "9f6d73bc",
   "metadata": {
    "execution": {
     "iopub.execute_input": "2025-03-06T16:11:57.097742Z",
     "iopub.status.busy": "2025-03-06T16:11:57.097374Z",
     "iopub.status.idle": "2025-03-06T16:11:57.103465Z",
     "shell.execute_reply": "2025-03-06T16:11:57.102824Z"
    }
   },
   "outputs": [
    {
     "name": "stdout",
     "output_type": "stream",
     "text": [
      "ansys.api.speos.sop.v1.SOPTemplate\n",
      "{\n",
      "    \"name\": \"Mirror_90\",\n",
      "    \"mirror\": {\n",
      "        \"reflectance\": 90.0\n",
      "    },\n",
      "    \"description\": \"\",\n",
      "    \"metadata\": {}\n",
      "}\n"
     ]
    }
   ],
   "source": [
    "mirror_90_link = sop_t_db.create(message=sop_t)\n",
    "print(mirror_90_link)"
   ]
  },
  {
   "cell_type": "markdown",
   "id": "1fa07e9c",
   "metadata": {},
   "source": [
    "Create another ObjectLink from another protobuf message."
   ]
  },
  {
   "cell_type": "code",
   "execution_count": 6,
   "id": "76920791",
   "metadata": {
    "execution": {
     "iopub.execute_input": "2025-03-06T16:11:57.105383Z",
     "iopub.status.busy": "2025-03-06T16:11:57.105031Z",
     "iopub.status.idle": "2025-03-06T16:11:57.108549Z",
     "shell.execute_reply": "2025-03-06T16:11:57.107924Z"
    }
   },
   "outputs": [],
   "source": [
    "sop_t = ProtoSOPTemplate()\n",
    "sop_t.name = \"Mirror_100\"\n",
    "sop_t.mirror.reflectance = 100.0\n",
    "\n",
    "mirror_100_link = sop_t_db.create(message=sop_t)"
   ]
  },
  {
   "cell_type": "markdown",
   "id": "defdccda",
   "metadata": {},
   "source": [
    "## Modify an ObjectLink"
   ]
  },
  {
   "cell_type": "markdown",
   "id": "d222b3c9",
   "metadata": {},
   "source": [
    "Retrieve the protobuf message corresponding to the ObjectLink."
   ]
  },
  {
   "cell_type": "code",
   "execution_count": 7,
   "id": "0814995a",
   "metadata": {
    "execution": {
     "iopub.execute_input": "2025-03-06T16:11:57.110662Z",
     "iopub.status.busy": "2025-03-06T16:11:57.110309Z",
     "iopub.status.idle": "2025-03-06T16:11:57.113717Z",
     "shell.execute_reply": "2025-03-06T16:11:57.113033Z"
    }
   },
   "outputs": [],
   "source": [
    "mirror_data = mirror_90_link.get()"
   ]
  },
  {
   "cell_type": "markdown",
   "id": "3198a0ab",
   "metadata": {},
   "source": [
    "Modify data locally"
   ]
  },
  {
   "cell_type": "code",
   "execution_count": 8,
   "id": "9c1f8ee8",
   "metadata": {
    "execution": {
     "iopub.execute_input": "2025-03-06T16:11:57.115750Z",
     "iopub.status.busy": "2025-03-06T16:11:57.115554Z",
     "iopub.status.idle": "2025-03-06T16:11:57.118608Z",
     "shell.execute_reply": "2025-03-06T16:11:57.117990Z"
    }
   },
   "outputs": [],
   "source": [
    "mirror_data.name = \"Mirror_50\"\n",
    "mirror_data.mirror.reflectance = 50"
   ]
  },
  {
   "cell_type": "markdown",
   "id": "719bf983",
   "metadata": {},
   "source": [
    "Update on db"
   ]
  },
  {
   "cell_type": "code",
   "execution_count": 9,
   "id": "c007d27c",
   "metadata": {
    "execution": {
     "iopub.execute_input": "2025-03-06T16:11:57.120815Z",
     "iopub.status.busy": "2025-03-06T16:11:57.120429Z",
     "iopub.status.idle": "2025-03-06T16:11:57.124753Z",
     "shell.execute_reply": "2025-03-06T16:11:57.124207Z"
    }
   },
   "outputs": [
    {
     "name": "stdout",
     "output_type": "stream",
     "text": [
      "ansys.api.speos.sop.v1.SOPTemplate\n",
      "{\n",
      "    \"name\": \"Mirror_50\",\n",
      "    \"mirror\": {\n",
      "        \"reflectance\": 50.0\n",
      "    },\n",
      "    \"description\": \"\",\n",
      "    \"metadata\": {}\n",
      "}\n"
     ]
    }
   ],
   "source": [
    "mirror_90_link.set(data=mirror_data)\n",
    "print(mirror_90_link)"
   ]
  },
  {
   "cell_type": "markdown",
   "id": "207be28c",
   "metadata": {},
   "source": [
    "## Delete an ObjectLink"
   ]
  },
  {
   "cell_type": "markdown",
   "id": "d2e5a99c",
   "metadata": {},
   "source": [
    "This means deleting data in db"
   ]
  },
  {
   "cell_type": "code",
   "execution_count": 10,
   "id": "7b3bc9d2",
   "metadata": {
    "execution": {
     "iopub.execute_input": "2025-03-06T16:11:57.126756Z",
     "iopub.status.busy": "2025-03-06T16:11:57.126385Z",
     "iopub.status.idle": "2025-03-06T16:11:57.133835Z",
     "shell.execute_reply": "2025-03-06T16:11:57.133212Z"
    }
   },
   "outputs": [
    {
     "data": {
      "text/plain": [
       "[]"
      ]
     },
     "execution_count": 10,
     "metadata": {},
     "output_type": "execute_result"
    }
   ],
   "source": [
    "mirror_100_link.delete()\n",
    "mirror_90_link.delete()\n",
    "sop_t_db.list()"
   ]
  }
 ],
 "metadata": {
  "jupytext": {
   "cell_metadata_filter": "-all",
   "main_language": "python",
   "notebook_metadata_filter": "-all",
   "text_representation": {
    "extension": ".py",
    "format_name": "light"
   }
  },
  "language_info": {
   "codemirror_mode": {
    "name": "ipython",
    "version": 3
   },
   "file_extension": ".py",
   "mimetype": "text/x-python",
   "name": "python",
   "nbconvert_exporter": "python",
   "pygments_lexer": "ipython3",
   "version": "3.10.16"
  }
 },
 "nbformat": 4,
 "nbformat_minor": 5
}
