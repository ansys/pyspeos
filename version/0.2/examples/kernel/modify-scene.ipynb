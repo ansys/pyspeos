{
 "cells": [
  {
   "cell_type": "markdown",
   "id": "a6746582",
   "metadata": {},
   "source": [
    "# How to modify scene elements"
   ]
  },
  {
   "cell_type": "markdown",
   "id": "ef49e205",
   "metadata": {},
   "source": [
    "This tutorial demonstrates how to modify a scene. For example how to modify an existing sensor, how to add a new sensor.\n",
    "The logic is the same to modify sources, simulations, materials."
   ]
  },
  {
   "cell_type": "markdown",
   "id": "54938b6a",
   "metadata": {},
   "source": [
    "## Template vs Instance"
   ]
  },
  {
   "cell_type": "markdown",
   "id": "4dd1b532",
   "metadata": {},
   "source": [
    "When applicable, the speos objects are separated in two different notions: template and instance.\n",
    "The template represents the feature with its inherent characteristics.\n",
    "The instance represents the completion of a template by adding properties such as spatial position, link to geometry, etc."
   ]
  },
  {
   "cell_type": "markdown",
   "id": "1d7e61c2",
   "metadata": {},
   "source": [
    "### Template"
   ]
  },
  {
   "cell_type": "markdown",
   "id": "d60182c1",
   "metadata": {},
   "source": [
    "The template objects are handled by a manager.\n",
    "It was explained how to interact with them in the kernel-object-link example (\"How to use an ObjectLink\").\n",
    "The interesting thing about the template notion is that the same template can be used several times with different properties."
   ]
  },
  {
   "cell_type": "markdown",
   "id": "1c7ab00b",
   "metadata": {},
   "source": [
    "### Instance"
   ]
  },
  {
   "cell_type": "markdown",
   "id": "929599d6",
   "metadata": {},
   "source": [
    "The template objects are instantiated in the Scene object, with properties needed to place them at the wanted position,\n",
    "or attached to the wanted geometry.\n",
    "The Scene object will gather all features that you need to run a job (compute a simulation)."
   ]
  },
  {
   "cell_type": "code",
   "execution_count": 1,
   "id": "bdf79785",
   "metadata": {
    "execution": {
     "iopub.execute_input": "2025-03-06T16:11:53.745808Z",
     "iopub.status.busy": "2025-03-06T16:11:53.745328Z",
     "iopub.status.idle": "2025-03-06T16:11:54.329170Z",
     "shell.execute_reply": "2025-03-06T16:11:54.328491Z"
    }
   },
   "outputs": [],
   "source": [
    "from pathlib import Path\n",
    "\n",
    "from ansys.api.speos.sensor.v1 import camera_sensor_pb2\n",
    "from ansys.speos.core import Speos\n",
    "from ansys.speos.core.kernel import SensorTemplateLink\n",
    "from ansys.speos.core.kernel.scene import ProtoScene\n",
    "from ansys.speos.core.kernel.sensor_template import ProtoSensorTemplate\n",
    "\n",
    "# If using docker container\n",
    "tests_data_path = Path(\"/app\") / \"assets\"\n",
    "# If using local server\n",
    "# tests_data_path = Path().resolve().parent.parent / \"tests\" / \"assets\""
   ]
  },
  {
   "cell_type": "markdown",
   "id": "0bff13d0",
   "metadata": {},
   "source": [
    "Create connection with speos rpc server"
   ]
  },
  {
   "cell_type": "code",
   "execution_count": 2,
   "id": "8ef5166b",
   "metadata": {
    "execution": {
     "iopub.execute_input": "2025-03-06T16:11:54.331727Z",
     "iopub.status.busy": "2025-03-06T16:11:54.331276Z",
     "iopub.status.idle": "2025-03-06T16:11:54.337783Z",
     "shell.execute_reply": "2025-03-06T16:11:54.337152Z"
    }
   },
   "outputs": [],
   "source": [
    "speos = Speos(host=\"localhost\", port=50098)"
   ]
  },
  {
   "cell_type": "markdown",
   "id": "b5f62def",
   "metadata": {},
   "source": [
    "Create an empty scene and load speos file to fill it."
   ]
  },
  {
   "cell_type": "code",
   "execution_count": 3,
   "id": "62f5ad6c",
   "metadata": {
    "execution": {
     "iopub.execute_input": "2025-03-06T16:11:54.340025Z",
     "iopub.status.busy": "2025-03-06T16:11:54.339606Z",
     "iopub.status.idle": "2025-03-06T16:11:54.355323Z",
     "shell.execute_reply": "2025-03-06T16:11:54.354790Z"
    }
   },
   "outputs": [],
   "source": [
    "my_scene = speos.client.scenes().create()\n",
    "\n",
    "speos_file = str(tests_data_path / \"Inverse_SeveralSensors.speos\" / \"Inverse_SeveralSensors.speos\")\n",
    "my_scene.load_file(file_uri=speos_file)"
   ]
  },
  {
   "cell_type": "markdown",
   "id": "f5a2b54d",
   "metadata": {},
   "source": [
    "## Print data models"
   ]
  },
  {
   "cell_type": "markdown",
   "id": "e34ecbc8",
   "metadata": {},
   "source": [
    "### Whole scene"
   ]
  },
  {
   "cell_type": "code",
   "execution_count": 4,
   "id": "f3dbe851",
   "metadata": {
    "execution": {
     "iopub.execute_input": "2025-03-06T16:11:54.357393Z",
     "iopub.status.busy": "2025-03-06T16:11:54.357048Z",
     "iopub.status.idle": "2025-03-06T16:11:54.362779Z",
     "shell.execute_reply": "2025-03-06T16:11:54.362232Z"
    }
   },
   "outputs": [
    {
     "name": "stdout",
     "output_type": "stream",
     "text": [
      "ansys.api.speos.scene.v2.Scene\n",
      "{\n",
      "    \"name\": \"Inverse_SeveralSensors\",\n",
      "    \"description\": \"From /app/assets/Inverse_SeveralSensors.speos/Inverse_SeveralSensors.speos\",\n",
      "    \"part_guid\": \"89876349-a6de-45fd-ae5d-cc7fdb883f63\",\n",
      "    \"sources\": [\n",
      "        {\n",
      "            \"name\": \"Surface.1:1\",\n",
      "            \"source_guid\": \"74dd900c-d6e4-4eac-961f-9112cf710aa7\",\n",
      "            \"surface_properties\": {\n",
      "                \"exitance_constant_properties\": {\n",
      "                    \"geo_paths\": [\n",
      "                        {\n",
      "                            \"geo_path\": \"Corps:2408912477/face.1:3892963602\",\n",
      "                            \"reverse_normal\": false\n",
      "                        }\n",
      "                    ]\n",
      "                }\n",
      "            },\n",
      "            \"description\": \"\",\n",
      "            \"metadata\": {}\n",
      "        },\n",
      "        {\n",
      "            \"name\": \"Surface.2:1\",\n",
      "            \"source_guid\": \"fe216d96-eeac-4293-99d8-34895d57dfb9\",\n",
      "            \"surface_properties\": {\n",
      "                \"exitance_constant_properties\": {\n",
      "                    \"geo_paths\": [\n",
      "                        {\n",
      "                            \"geo_path\": \"Corps:1976534910/face.1:889032133\",\n",
      "                            \"reverse_normal\": false\n",
      "                        }\n",
      "                    ]\n",
      "                }\n",
      "            },\n",
      "            \"description\": \"\",\n",
      "            \"metadata\": {}\n",
      "        }\n",
      "    ],\n",
      "    \"sensors\": [\n",
      "        {\n",
      "            \"name\": \"Camera.1:21\",\n",
      "            \"sensor_guid\": \"b7a71a5f-a549-43c6-b8e5-306ca753f46e\",\n",
      "            \"result_file_name\": \"Inverse.1.Camera.1\",\n",
      "            \"camera_properties\": {\n",
      "                \"axis_system\": [\n",
      "                    17.0,\n",
      "                    10.050000000000002,\n",
      "                    14.499999999999998,\n",
      "                    -0.0,\n",
      "                    -0.0,\n",
      "                    -1.0,\n",
      "                    0.0,\n",
      "                    1.0,\n",
      "                    0.0,\n",
      "                    1.0,\n",
      "                    0.0,\n",
      "                    0.0\n",
      "                ],\n",
      "                \"layer_type_source\": {},\n",
      "                \"trajectory_file_uri\": \"\"\n",
      "            },\n",
      "            \"description\": \"\",\n",
      "            \"metadata\": {}\n",
      "        },\n",
      "        {\n",
      "            \"name\": \"Irradiance.1:28\",\n",
      "            \"sensor_guid\": \"6fb808a0-4d68-4475-a0f5-660f279dc726\",\n",
      "            \"result_file_name\": \"Inverse.1.Irradiance.1\",\n",
      "            \"irradiance_properties\": {\n",
      "                \"axis_system\": [\n",
      "                    0.0,\n",
      "                    0.0,\n",
      "                    0.0,\n",
      "                    0.0,\n",
      "                    0.0,\n",
      "                    1.0,\n",
      "                    0.0,\n",
      "                    1.0,\n",
      "                    -0.0,\n",
      "                    -1.0,\n",
      "                    0.0,\n",
      "                    0.0\n",
      "                ],\n",
      "                \"layer_type_sequence\": {\n",
      "                    \"maximum_nb_of_sequence\": 10,\n",
      "                    \"define_sequence_per\": \"Faces\"\n",
      "                },\n",
      "                \"ray_file_type\": \"RayFileNone\",\n",
      "                \"integration_direction\": []\n",
      "            },\n",
      "            \"description\": \"\",\n",
      "            \"metadata\": {}\n",
      "        }\n",
      "    ],\n",
      "    \"simulations\": [\n",
      "        {\n",
      "            \"name\": \"Inverse.1\",\n",
      "            \"simulation_guid\": \"f2238693-2283-4a7b-bcd9-cfd8e39b962e\",\n",
      "            \"sensor_paths\": [\n",
      "                \"Camera.1:21\",\n",
      "                \"Irradiance.1:28\"\n",
      "            ],\n",
      "            \"source_paths\": [\n",
      "                \"Surface.1:1\",\n",
      "                \"Surface.2:1\"\n",
      "            ],\n",
      "            \"description\": \"\",\n",
      "            \"metadata\": {}\n",
      "        }\n",
      "    ],\n",
      "    \"materials\": [\n",
      "        {\n",
      "            \"name\": \"Material.1\",\n",
      "            \"vop_guid\": \"26458d21-cee4-466c-bc19-4b10d6d2d27d\",\n",
      "            \"sop_guids\": [\n",
      "                \"c4c75fa3-c453-410f-a2af-64e8e0c83c9f\"\n",
      "            ],\n",
      "            \"geometries\": {\n",
      "                \"geo_paths\": [\n",
      "                    \"Corps:2408912477\",\n",
      "                    \"Corps:1976534910\"\n",
      "                ]\n",
      "            },\n",
      "            \"description\": \"\",\n",
      "            \"metadata\": {}\n",
      "        },\n",
      "        {\n",
      "            \"name\": \"Material.2\",\n",
      "            \"vop_guid\": \"b90cd5f1-1114-4a58-9058-845b47ffb5ed\",\n",
      "            \"description\": \"\",\n",
      "            \"metadata\": {},\n",
      "            \"sop_guids\": []\n",
      "        }\n",
      "    ],\n",
      "    \"metadata\": {},\n",
      "    \"scenes\": []\n",
      "}\n"
     ]
    }
   ],
   "source": [
    "print(my_scene)"
   ]
  },
  {
   "cell_type": "markdown",
   "id": "3c28ae6b",
   "metadata": {},
   "source": [
    "### Sensors (instance + template) in this scene"
   ]
  },
  {
   "cell_type": "code",
   "execution_count": 5,
   "id": "0566c308",
   "metadata": {
    "execution": {
     "iopub.execute_input": "2025-03-06T16:11:54.364725Z",
     "iopub.status.busy": "2025-03-06T16:11:54.364391Z",
     "iopub.status.idle": "2025-03-06T16:11:54.373946Z",
     "shell.execute_reply": "2025-03-06T16:11:54.373405Z"
    }
   },
   "outputs": [
    {
     "name": "stdout",
     "output_type": "stream",
     "text": [
      "ansys.api.speos.scene.v2.Scene.SensorInstance\n",
      "{\n",
      "    \"name\": \"Camera.1:21\",\n",
      "    \"sensor_guid\": \"b7a71a5f-a549-43c6-b8e5-306ca753f46e\",\n",
      "    \"result_file_name\": \"Inverse.1.Camera.1\",\n",
      "    \"camera_properties\": {\n",
      "        \"axis_system\": [\n",
      "            17.0,\n",
      "            10.050000000000002,\n",
      "            14.499999999999998,\n",
      "            -0.0,\n",
      "            -0.0,\n",
      "            -1.0,\n",
      "            0.0,\n",
      "            1.0,\n",
      "            0.0,\n",
      "            1.0,\n",
      "            0.0,\n",
      "            0.0\n",
      "        ],\n",
      "        \"layer_type_source\": {},\n",
      "        \"trajectory_file_uri\": \"\"\n",
      "    },\n",
      "    \"description\": \"\",\n",
      "    \"metadata\": {}\n",
      "}\n",
      "ansys.api.speos.sensor.v1.SensorTemplate\n",
      "{\n",
      "    \"camera_sensor_template\": {\n",
      "        \"sensor_mode_photometric\": {\n",
      "            \"transmittance_file_uri\": \"/app/assets/Inverse_SeveralSensors.speos/CameraTransmittance_7906-9f99-c97d-838a..spectrum\",\n",
      "            \"gamma_correction\": 2.2,\n",
      "            \"color_mode_color\": {\n",
      "                \"red_spectrum_file_uri\": \"/app/assets/Inverse_SeveralSensors.speos/CameraSensitivityRed_adf4-0b27-cefc-fa35..spectrum\",\n",
      "                \"green_spectrum_file_uri\": \"/app/assets/Inverse_SeveralSensors.speos/CameraSensitivityGreen_7c86-e7df-6de8-cb15..spectrum\",\n",
      "                \"blue_spectrum_file_uri\": \"/app/assets/Inverse_SeveralSensors.speos/CameraSensitivityBlue_8072-c4fe-d903-ca3f..spectrum\",\n",
      "                \"balance_mode_none\": {}\n",
      "            },\n",
      "            \"wavelengths_range\": {\n",
      "                \"w_start\": 400.0,\n",
      "                \"w_end\": 700.0,\n",
      "                \"w_sampling\": 13\n",
      "            },\n",
      "            \"acquisition_integration\": 0.0,\n",
      "            \"acquisition_lag_time\": 0.0,\n",
      "            \"png_bits\": \"PNG_08\"\n",
      "        },\n",
      "        \"focal_length\": 4.0,\n",
      "        \"imager_distance\": 10.0,\n",
      "        \"f_number\": 30.0,\n",
      "        \"distorsion_file_uri\": \"/app/assets/Inverse_SeveralSensors.speos/CameraDistortion.OPTDistortion\",\n",
      "        \"horz_pixel\": 640,\n",
      "        \"vert_pixel\": 480,\n",
      "        \"width\": 5.0,\n",
      "        \"height\": 5.0,\n",
      "        \"distortion_file_uri\": \"/app/assets/Inverse_SeveralSensors.speos/CameraDistortion.OPTDistortion\"\n",
      "    },\n",
      "    \"name\": \"Camera.1:21\",\n",
      "    \"description\": \"\",\n",
      "    \"metadata\": {}\n",
      "}\n",
      "\n",
      "\n",
      "ansys.api.speos.scene.v2.Scene.SensorInstance\n",
      "{\n",
      "    \"name\": \"Irradiance.1:28\",\n",
      "    \"sensor_guid\": \"6fb808a0-4d68-4475-a0f5-660f279dc726\",\n",
      "    \"result_file_name\": \"Inverse.1.Irradiance.1\",\n",
      "    \"irradiance_properties\": {\n",
      "        \"axis_system\": [\n",
      "            0.0,\n",
      "            0.0,\n",
      "            0.0,\n",
      "            0.0,\n",
      "            0.0,\n",
      "            1.0,\n",
      "            0.0,\n",
      "            1.0,\n",
      "            -0.0,\n",
      "            -1.0,\n",
      "            0.0,\n",
      "            0.0\n",
      "        ],\n",
      "        \"layer_type_sequence\": {\n",
      "            \"maximum_nb_of_sequence\": 10,\n",
      "            \"define_sequence_per\": \"Faces\"\n",
      "        },\n",
      "        \"ray_file_type\": \"RayFileNone\",\n",
      "        \"integration_direction\": []\n",
      "    },\n",
      "    \"description\": \"\",\n",
      "    \"metadata\": {}\n",
      "}\n",
      "ansys.api.speos.sensor.v1.SensorTemplate\n",
      "{\n",
      "    \"irradiance_sensor_template\": {\n",
      "        \"sensor_type_colorimetric\": {\n",
      "            \"wavelengths_range\": {\n",
      "                \"w_start\": 400.0,\n",
      "                \"w_end\": 700.0,\n",
      "                \"w_sampling\": 13\n",
      "            }\n",
      "        },\n",
      "        \"illuminance_type_planar\": {},\n",
      "        \"dimensions\": {\n",
      "            \"x_start\": -50.0,\n",
      "            \"x_end\": 50.0,\n",
      "            \"x_sampling\": 100,\n",
      "            \"y_start\": -50.0,\n",
      "            \"y_end\": 50.0,\n",
      "            \"y_sampling\": 100\n",
      "        }\n",
      "    },\n",
      "    \"name\": \"Irradiance.1:28\",\n",
      "    \"description\": \"\",\n",
      "    \"metadata\": {}\n",
      "}\n",
      "\n",
      "\n"
     ]
    }
   ],
   "source": [
    "for sensor_i in my_scene.get().sensors:\n",
    "    print(sensor_i)  # Print instance data model\n",
    "    print(speos.client[sensor_i.sensor_guid])  # Print template data model\n",
    "    print(\"\\n\")"
   ]
  },
  {
   "cell_type": "markdown",
   "id": "ffe29037",
   "metadata": {},
   "source": [
    "### Camera sensors in this scene"
   ]
  },
  {
   "cell_type": "code",
   "execution_count": 6,
   "id": "3747d869",
   "metadata": {
    "execution": {
     "iopub.execute_input": "2025-03-06T16:11:54.375735Z",
     "iopub.status.busy": "2025-03-06T16:11:54.375547Z",
     "iopub.status.idle": "2025-03-06T16:11:54.382251Z",
     "shell.execute_reply": "2025-03-06T16:11:54.381697Z"
    }
   },
   "outputs": [
    {
     "name": "stdout",
     "output_type": "stream",
     "text": [
      "ansys.api.speos.scene.v2.Scene.SensorInstance\n",
      "{\n",
      "    \"name\": \"Camera.1:21\",\n",
      "    \"sensor_guid\": \"b7a71a5f-a549-43c6-b8e5-306ca753f46e\",\n",
      "    \"result_file_name\": \"Inverse.1.Camera.1\",\n",
      "    \"camera_properties\": {\n",
      "        \"axis_system\": [\n",
      "            17.0,\n",
      "            10.050000000000002,\n",
      "            14.499999999999998,\n",
      "            -0.0,\n",
      "            -0.0,\n",
      "            -1.0,\n",
      "            0.0,\n",
      "            1.0,\n",
      "            0.0,\n",
      "            1.0,\n",
      "            0.0,\n",
      "            0.0\n",
      "        ],\n",
      "        \"layer_type_source\": {},\n",
      "        \"trajectory_file_uri\": \"\"\n",
      "    },\n",
      "    \"description\": \"\",\n",
      "    \"metadata\": {}\n",
      "}\n",
      "ansys.api.speos.sensor.v1.SensorTemplate\n",
      "{\n",
      "    \"camera_sensor_template\": {\n",
      "        \"sensor_mode_photometric\": {\n",
      "            \"transmittance_file_uri\": \"/app/assets/Inverse_SeveralSensors.speos/CameraTransmittance_7906-9f99-c97d-838a..spectrum\",\n",
      "            \"gamma_correction\": 2.2,\n",
      "            \"color_mode_color\": {\n",
      "                \"red_spectrum_file_uri\": \"/app/assets/Inverse_SeveralSensors.speos/CameraSensitivityRed_adf4-0b27-cefc-fa35..spectrum\",\n",
      "                \"green_spectrum_file_uri\": \"/app/assets/Inverse_SeveralSensors.speos/CameraSensitivityGreen_7c86-e7df-6de8-cb15..spectrum\",\n",
      "                \"blue_spectrum_file_uri\": \"/app/assets/Inverse_SeveralSensors.speos/CameraSensitivityBlue_8072-c4fe-d903-ca3f..spectrum\",\n",
      "                \"balance_mode_none\": {}\n",
      "            },\n",
      "            \"wavelengths_range\": {\n",
      "                \"w_start\": 400.0,\n",
      "                \"w_end\": 700.0,\n",
      "                \"w_sampling\": 13\n",
      "            },\n",
      "            \"acquisition_integration\": 0.0,\n",
      "            \"acquisition_lag_time\": 0.0,\n",
      "            \"png_bits\": \"PNG_08\"\n",
      "        },\n",
      "        \"focal_length\": 4.0,\n",
      "        \"imager_distance\": 10.0,\n",
      "        \"f_number\": 30.0,\n",
      "        \"distorsion_file_uri\": \"/app/assets/Inverse_SeveralSensors.speos/CameraDistortion.OPTDistortion\",\n",
      "        \"horz_pixel\": 640,\n",
      "        \"vert_pixel\": 480,\n",
      "        \"width\": 5.0,\n",
      "        \"height\": 5.0,\n",
      "        \"distortion_file_uri\": \"/app/assets/Inverse_SeveralSensors.speos/CameraDistortion.OPTDistortion\"\n",
      "    },\n",
      "    \"name\": \"Camera.1:21\",\n",
      "    \"description\": \"\",\n",
      "    \"metadata\": {}\n",
      "}\n",
      "\n",
      "\n"
     ]
    }
   ],
   "source": [
    "for sensor_i in my_scene.get().sensors:\n",
    "    if sensor_i.HasField(\"camera_properties\"):\n",
    "        print(sensor_i)  # Print instance data model\n",
    "        print(speos.client[sensor_i.sensor_guid])  # Print template data model\n",
    "        print(\"\\n\")"
   ]
  },
  {
   "cell_type": "markdown",
   "id": "9217faa3",
   "metadata": {},
   "source": [
    "## Modify existing data"
   ]
  },
  {
   "cell_type": "markdown",
   "id": "be2bb908",
   "metadata": {},
   "source": [
    "### Modify a camera instance"
   ]
  },
  {
   "cell_type": "code",
   "execution_count": 7,
   "id": "df806136",
   "metadata": {
    "execution": {
     "iopub.execute_input": "2025-03-06T16:11:54.384280Z",
     "iopub.status.busy": "2025-03-06T16:11:54.383919Z",
     "iopub.status.idle": "2025-03-06T16:11:54.418517Z",
     "shell.execute_reply": "2025-03-06T16:11:54.417848Z"
    }
   },
   "outputs": [
    {
     "name": "stdout",
     "output_type": "stream",
     "text": [
      "ansys.api.speos.scene.v2.Scene.SensorInstance\n",
      "{\n",
      "    \"name\": \"Camera.1:21\",\n",
      "    \"sensor_guid\": \"b7a71a5f-a549-43c6-b8e5-306ca753f46e\",\n",
      "    \"result_file_name\": \"Inverse.1.Camera.1\",\n",
      "    \"camera_properties\": {\n",
      "        \"axis_system\": [\n",
      "            17.0,\n",
      "            10.0,\n",
      "            15.0,\n",
      "            0.0,\n",
      "            0.0,\n",
      "            -1.0,\n",
      "            0.0,\n",
      "            1.0,\n",
      "            0.0,\n",
      "            1.0,\n",
      "            0.0,\n",
      "            0.0\n",
      "        ],\n",
      "        \"layer_type_none\": {},\n",
      "        \"trajectory_file_uri\": \"\"\n",
      "    },\n",
      "    \"description\": \"\",\n",
      "    \"metadata\": {}\n",
      "}\n"
     ]
    }
   ],
   "source": [
    "my_scene_data = my_scene.get()  # get() = retrieve datamodel corresponding to my_scene\n",
    "camera_i_0 = my_scene_data.sensors[\n",
    "    0\n",
    "]  # retrieve the specific part of the message corresponding to the first sensor\n",
    "assert camera_i_0.HasField(\"camera_properties\")  # verify that it is a camera\n",
    "\n",
    "# Modification on protobuf message : axis system + layer type\n",
    "camera_i_0.camera_properties.ClearField(\"axis_system\")\n",
    "camera_i_0.camera_properties.axis_system.extend(\n",
    "    [17.0, 10.0, 15.0] + [0.0, 0.0, -1.0] + [0.0, 1.0, 0.0] + [1.0, 0.0, 0.0]\n",
    ")  # Origin + Xvector + Yvector + Zvector\n",
    "camera_i_0.camera_properties.layer_type_none.SetInParent()\n",
    "\n",
    "# Until now, we only modified the data locally. We need to push the changes to the server:\n",
    "my_scene.set(my_scene_data)  # set = Update using modified datamodel\n",
    "\n",
    "print(my_scene.get().sensors[0])  # Do another get() to check new value on database"
   ]
  },
  {
   "cell_type": "markdown",
   "id": "ec7214ee",
   "metadata": {},
   "source": [
    "### Modify a camera template"
   ]
  },
  {
   "cell_type": "code",
   "execution_count": 8,
   "id": "2d36f48b",
   "metadata": {
    "execution": {
     "iopub.execute_input": "2025-03-06T16:11:54.420466Z",
     "iopub.status.busy": "2025-03-06T16:11:54.420087Z",
     "iopub.status.idle": "2025-03-06T16:11:54.427848Z",
     "shell.execute_reply": "2025-03-06T16:11:54.427305Z"
    }
   },
   "outputs": [
    {
     "name": "stdout",
     "output_type": "stream",
     "text": [
      "ansys.api.speos.sensor.v1.SensorTemplate\n",
      "{\n",
      "    \"camera_sensor_template\": {\n",
      "        \"sensor_mode_photometric\": {\n",
      "            \"transmittance_file_uri\": \"/app/assets/Inverse_SeveralSensors.speos/CameraTransmittance_7906-9f99-c97d-838a..spectrum\",\n",
      "            \"gamma_correction\": 2.2,\n",
      "            \"color_mode_color\": {\n",
      "                \"red_spectrum_file_uri\": \"/app/assets/Inverse_SeveralSensors.speos/CameraSensitivityRed_adf4-0b27-cefc-fa35..spectrum\",\n",
      "                \"green_spectrum_file_uri\": \"/app/assets/Inverse_SeveralSensors.speos/CameraSensitivityGreen_7c86-e7df-6de8-cb15..spectrum\",\n",
      "                \"blue_spectrum_file_uri\": \"/app/assets/Inverse_SeveralSensors.speos/CameraSensitivityBlue_8072-c4fe-d903-ca3f..spectrum\",\n",
      "                \"balance_mode_none\": {}\n",
      "            },\n",
      "            \"wavelengths_range\": {\n",
      "                \"w_start\": 400.0,\n",
      "                \"w_end\": 700.0,\n",
      "                \"w_sampling\": 13\n",
      "            },\n",
      "            \"acquisition_integration\": 0.0,\n",
      "            \"acquisition_lag_time\": 0.0,\n",
      "            \"png_bits\": \"PNG_08\"\n",
      "        },\n",
      "        \"focal_length\": 4.5,\n",
      "        \"imager_distance\": 10.0,\n",
      "        \"f_number\": 30.0,\n",
      "        \"distorsion_file_uri\": \"/app/assets/Inverse_SeveralSensors.speos/CameraDistortion.OPTDistortion\",\n",
      "        \"horz_pixel\": 640,\n",
      "        \"vert_pixel\": 480,\n",
      "        \"width\": 5.0,\n",
      "        \"height\": 5.0,\n",
      "        \"distortion_file_uri\": \"/app/assets/CameraInputFiles/CameraDistortion_150deg.OPTDistortion\"\n",
      "    },\n",
      "    \"name\": \"Camera.1:21\",\n",
      "    \"description\": \"\",\n",
      "    \"metadata\": {}\n",
      "}\n"
     ]
    }
   ],
   "source": [
    "new_distortion_file = str(\n",
    "    tests_data_path / \"CameraInputFiles\" / \"CameraDistortion_150deg.OPTDistortion\"\n",
    ")\n",
    "\n",
    "# Retrieve SensorTemplateLink corresponding to camera_i_0.sensor_guid\n",
    "camera_t_0 = speos.client[camera_i_0.sensor_guid]\n",
    "\n",
    "# get() = retrieve datamodel corresponding to camera_t_0 from database\n",
    "camera_t_0_data = camera_t_0.get()\n",
    "\n",
    "# Modification on protobuf message : distortion_file_uri + focal_length\n",
    "assert camera_t_0_data.HasField(\"camera_sensor_template\")\n",
    "camera_t_0_data.camera_sensor_template.distortion_file_uri = new_distortion_file\n",
    "camera_t_0_data.camera_sensor_template.focal_length = 4.5\n",
    "\n",
    "# set = Update using modified datamodel (push modified data to the server)\n",
    "camera_t_0.set(camera_t_0_data)\n",
    "\n",
    "print(camera_t_0)  # Print ObjectLink to see its datamodel in database"
   ]
  },
  {
   "cell_type": "markdown",
   "id": "b4c42769",
   "metadata": {},
   "source": [
    "## Add new data (like a new sensor)"
   ]
  },
  {
   "cell_type": "markdown",
   "id": "a1301d3e",
   "metadata": {},
   "source": [
    "### Create a camera template"
   ]
  },
  {
   "cell_type": "code",
   "execution_count": 9,
   "id": "4314cf76",
   "metadata": {
    "execution": {
     "iopub.execute_input": "2025-03-06T16:11:54.429742Z",
     "iopub.status.busy": "2025-03-06T16:11:54.429551Z",
     "iopub.status.idle": "2025-03-06T16:11:54.437277Z",
     "shell.execute_reply": "2025-03-06T16:11:54.436747Z"
    }
   },
   "outputs": [
    {
     "name": "stdout",
     "output_type": "stream",
     "text": [
      "ansys.api.speos.sensor.v1.SensorTemplate\n",
      "{\n",
      "    \"camera_sensor_template\": {\n",
      "        \"sensor_mode_photometric\": {\n",
      "            \"acquisition_integration\": 0.01,\n",
      "            \"transmittance_file_uri\": \"/app/assets/CameraInputFiles/CameraTransmittance.spectrum\",\n",
      "            \"gamma_correction\": 2.2,\n",
      "            \"png_bits\": \"PNG_16\",\n",
      "            \"color_mode_color\": {\n",
      "                \"red_spectrum_file_uri\": \"/app/assets/CameraInputFiles/CameraSensitivityRed.spectrum\",\n",
      "                \"green_spectrum_file_uri\": \"/app/assets/CameraInputFiles/CameraSensitivityGreen.spectrum\",\n",
      "                \"blue_spectrum_file_uri\": \"/app/assets/CameraInputFiles/CameraSensitivityBlue.spectrum\",\n",
      "                \"balance_mode_none\": {}\n",
      "            },\n",
      "            \"wavelengths_range\": {\n",
      "                \"w_start\": 400.0,\n",
      "                \"w_end\": 700.0,\n",
      "                \"w_sampling\": 13\n",
      "            },\n",
      "            \"acquisition_lag_time\": 0.0\n",
      "        },\n",
      "        \"focal_length\": 5.0,\n",
      "        \"imager_distance\": 10.0,\n",
      "        \"f_number\": 20.0,\n",
      "        \"horz_pixel\": 640,\n",
      "        \"vert_pixel\": 480,\n",
      "        \"width\": 5.0,\n",
      "        \"height\": 5.0,\n",
      "        \"distortion_file_uri\": \"/app/assets/CameraInputFiles/CameraDistortion_130deg.OPTDistortion\",\n",
      "        \"distorsion_file_uri\": \"\"\n",
      "    },\n",
      "    \"name\": \"CameraFromScratch\",\n",
      "    \"description\": \"\",\n",
      "    \"metadata\": {}\n",
      "}\n"
     ]
    }
   ],
   "source": [
    "sensor_t_db = speos.client.sensor_templates()  # Retrieve access to sensor templates db\n",
    "\n",
    "# Create protobuf message SensorTemplate\n",
    "sensor_t_data = ProtoSensorTemplate(name=\"CameraFromScratch\")\n",
    "sensor_t_data.camera_sensor_template.sensor_mode_photometric.acquisition_integration = 0.01\n",
    "sensor_t_data.camera_sensor_template.sensor_mode_photometric.acquisition_lag_time = 0\n",
    "sensor_t_data.camera_sensor_template.sensor_mode_photometric.transmittance_file_uri = str(\n",
    "    tests_data_path / \"CameraInputFiles\" / \"CameraTransmittance.spectrum\"\n",
    ")\n",
    "sensor_t_data.camera_sensor_template.sensor_mode_photometric.gamma_correction = 2.2\n",
    "sensor_t_data.camera_sensor_template.sensor_mode_photometric.png_bits = (\n",
    "    camera_sensor_pb2.EnumSensorCameraPNGBits.PNG_16\n",
    ")\n",
    "sensor_t_data.camera_sensor_template.sensor_mode_photometric.color_mode_color.red_spectrum_file_uri = str(\n",
    "    tests_data_path / \"CameraInputFiles\" / \"CameraSensitivityRed.spectrum\"\n",
    ")\n",
    "sensor_t_data.camera_sensor_template.sensor_mode_photometric.color_mode_color.green_spectrum_file_uri = str(\n",
    "    tests_data_path / \"CameraInputFiles\" / \"CameraSensitivityGreen.spectrum\"\n",
    ")\n",
    "sensor_t_data.camera_sensor_template.sensor_mode_photometric.color_mode_color.blue_spectrum_file_uri = str(\n",
    "    tests_data_path / \"CameraInputFiles\" / \"CameraSensitivityBlue.spectrum\"\n",
    ")\n",
    "sensor_t_data.camera_sensor_template.sensor_mode_photometric.color_mode_color.balance_mode_none.SetInParent()\n",
    "sensor_t_data.camera_sensor_template.sensor_mode_photometric.wavelengths_range.w_start = 400\n",
    "sensor_t_data.camera_sensor_template.sensor_mode_photometric.wavelengths_range.w_end = 700\n",
    "sensor_t_data.camera_sensor_template.sensor_mode_photometric.wavelengths_range.w_sampling = 13\n",
    "sensor_t_data.camera_sensor_template.focal_length = 5\n",
    "sensor_t_data.camera_sensor_template.imager_distance = 10\n",
    "sensor_t_data.camera_sensor_template.f_number = 20\n",
    "sensor_t_data.camera_sensor_template.distortion_file_uri = str(\n",
    "    tests_data_path / \"CameraInputFiles\" / \"CameraDistortion_130deg.OPTDistortion\"\n",
    ")\n",
    "sensor_t_data.camera_sensor_template.horz_pixel = 640\n",
    "sensor_t_data.camera_sensor_template.vert_pixel = 480\n",
    "sensor_t_data.camera_sensor_template.width = 5\n",
    "sensor_t_data.camera_sensor_template.height = 5\n",
    "\n",
    "# Store it in db and retrieve SensorTemplateLink\n",
    "sensor_t_new = sensor_t_db.create(message=sensor_t_data)\n",
    "print(sensor_t_new)"
   ]
  },
  {
   "cell_type": "markdown",
   "id": "af7c3290",
   "metadata": {},
   "source": [
    "### Create a camera instance"
   ]
  },
  {
   "cell_type": "code",
   "execution_count": 10,
   "id": "ae69545d",
   "metadata": {
    "execution": {
     "iopub.execute_input": "2025-03-06T16:11:54.439153Z",
     "iopub.status.busy": "2025-03-06T16:11:54.438962Z",
     "iopub.status.idle": "2025-03-06T16:11:54.443212Z",
     "shell.execute_reply": "2025-03-06T16:11:54.442508Z"
    }
   },
   "outputs": [],
   "source": [
    "camera_i_2 = ProtoScene.SensorInstance(name=sensor_t_new.get().name + \".1\")\n",
    "camera_i_2.sensor_guid = sensor_t_new.key  # An instance has to reference a template - here we use the SensorTemplateLink's key that we got just above.\n",
    "camera_i_2.camera_properties.axis_system.extend(\n",
    "    [50, 50, 50, 1, 0, 0, 0, 1, 0, 0, 0, 1]\n",
    ")  # Choose axis system\n",
    "camera_i_2.camera_properties.layer_type_source.SetInParent()  # choose separation by source"
   ]
  },
  {
   "cell_type": "markdown",
   "id": "b3157d12",
   "metadata": {},
   "source": [
    "### Add this instance in our scene"
   ]
  },
  {
   "cell_type": "code",
   "execution_count": 11,
   "id": "a3a04a47",
   "metadata": {
    "execution": {
     "iopub.execute_input": "2025-03-06T16:11:54.445241Z",
     "iopub.status.busy": "2025-03-06T16:11:54.444856Z",
     "iopub.status.idle": "2025-03-06T16:11:54.479748Z",
     "shell.execute_reply": "2025-03-06T16:11:54.479109Z"
    }
   },
   "outputs": [
    {
     "name": "stdout",
     "output_type": "stream",
     "text": [
      "ansys.api.speos.scene.v2.Scene\n",
      "{\n",
      "    \"name\": \"Inverse_SeveralSensors\",\n",
      "    \"description\": \"From /app/assets/Inverse_SeveralSensors.speos/Inverse_SeveralSensors.speos\",\n",
      "    \"part_guid\": \"89876349-a6de-45fd-ae5d-cc7fdb883f63\",\n",
      "    \"sources\": [\n",
      "        {\n",
      "            \"name\": \"Surface.1:1\",\n",
      "            \"source_guid\": \"74dd900c-d6e4-4eac-961f-9112cf710aa7\",\n",
      "            \"surface_properties\": {\n",
      "                \"exitance_constant_properties\": {\n",
      "                    \"geo_paths\": [\n",
      "                        {\n",
      "                            \"geo_path\": \"Corps:2408912477/face.1:3892963602\",\n",
      "                            \"reverse_normal\": false\n",
      "                        }\n",
      "                    ]\n",
      "                }\n",
      "            },\n",
      "            \"description\": \"\",\n",
      "            \"metadata\": {}\n",
      "        },\n",
      "        {\n",
      "            \"name\": \"Surface.2:1\",\n",
      "            \"source_guid\": \"fe216d96-eeac-4293-99d8-34895d57dfb9\",\n",
      "            \"surface_properties\": {\n",
      "                \"exitance_constant_properties\": {\n",
      "                    \"geo_paths\": [\n",
      "                        {\n",
      "                            \"geo_path\": \"Corps:1976534910/face.1:889032133\",\n",
      "                            \"reverse_normal\": false\n",
      "                        }\n",
      "                    ]\n",
      "                }\n",
      "            },\n",
      "            \"description\": \"\",\n",
      "            \"metadata\": {}\n",
      "        }\n",
      "    ],\n",
      "    \"sensors\": [\n",
      "        {\n",
      "            \"name\": \"Camera.1:21\",\n",
      "            \"sensor_guid\": \"b7a71a5f-a549-43c6-b8e5-306ca753f46e\",\n",
      "            \"result_file_name\": \"Inverse.1.Camera.1\",\n",
      "            \"camera_properties\": {\n",
      "                \"axis_system\": [\n",
      "                    17.0,\n",
      "                    10.0,\n",
      "                    15.0,\n",
      "                    0.0,\n",
      "                    0.0,\n",
      "                    -1.0,\n",
      "                    0.0,\n",
      "                    1.0,\n",
      "                    0.0,\n",
      "                    1.0,\n",
      "                    0.0,\n",
      "                    0.0\n",
      "                ],\n",
      "                \"layer_type_none\": {},\n",
      "                \"trajectory_file_uri\": \"\"\n",
      "            },\n",
      "            \"description\": \"\",\n",
      "            \"metadata\": {}\n",
      "        },\n",
      "        {\n",
      "            \"name\": \"Irradiance.1:28\",\n",
      "            \"sensor_guid\": \"6fb808a0-4d68-4475-a0f5-660f279dc726\",\n",
      "            \"result_file_name\": \"Inverse.1.Irradiance.1\",\n",
      "            \"irradiance_properties\": {\n",
      "                \"axis_system\": [\n",
      "                    0.0,\n",
      "                    0.0,\n",
      "                    0.0,\n",
      "                    0.0,\n",
      "                    0.0,\n",
      "                    1.0,\n",
      "                    0.0,\n",
      "                    1.0,\n",
      "                    -0.0,\n",
      "                    -1.0,\n",
      "                    0.0,\n",
      "                    0.0\n",
      "                ],\n",
      "                \"layer_type_sequence\": {\n",
      "                    \"maximum_nb_of_sequence\": 10,\n",
      "                    \"define_sequence_per\": \"Faces\"\n",
      "                },\n",
      "                \"ray_file_type\": \"RayFileNone\",\n",
      "                \"integration_direction\": []\n",
      "            },\n",
      "            \"description\": \"\",\n",
      "            \"metadata\": {}\n",
      "        },\n",
      "        {\n",
      "            \"name\": \"CameraFromScratch.1\",\n",
      "            \"sensor_guid\": \"80a3d4c8-f65c-4a74-b78e-f89b8dab05f3\",\n",
      "            \"camera_properties\": {\n",
      "                \"axis_system\": [\n",
      "                    50.0,\n",
      "                    50.0,\n",
      "                    50.0,\n",
      "                    1.0,\n",
      "                    0.0,\n",
      "                    0.0,\n",
      "                    0.0,\n",
      "                    1.0,\n",
      "                    0.0,\n",
      "                    0.0,\n",
      "                    0.0,\n",
      "                    1.0\n",
      "                ],\n",
      "                \"layer_type_source\": {},\n",
      "                \"trajectory_file_uri\": \"\"\n",
      "            },\n",
      "            \"description\": \"\",\n",
      "            \"metadata\": {},\n",
      "            \"result_file_name\": \"\"\n",
      "        }\n",
      "    ],\n",
      "    \"simulations\": [\n",
      "        {\n",
      "            \"name\": \"Inverse.1\",\n",
      "            \"simulation_guid\": \"f2238693-2283-4a7b-bcd9-cfd8e39b962e\",\n",
      "            \"sensor_paths\": [\n",
      "                \"Camera.1:21\",\n",
      "                \"Irradiance.1:28\",\n",
      "                \"CameraFromScratch.1\"\n",
      "            ],\n",
      "            \"source_paths\": [\n",
      "                \"Surface.1:1\",\n",
      "                \"Surface.2:1\"\n",
      "            ],\n",
      "            \"description\": \"\",\n",
      "            \"metadata\": {}\n",
      "        }\n",
      "    ],\n",
      "    \"materials\": [\n",
      "        {\n",
      "            \"name\": \"Material.1\",\n",
      "            \"vop_guid\": \"26458d21-cee4-466c-bc19-4b10d6d2d27d\",\n",
      "            \"sop_guids\": [\n",
      "                \"c4c75fa3-c453-410f-a2af-64e8e0c83c9f\"\n",
      "            ],\n",
      "            \"geometries\": {\n",
      "                \"geo_paths\": [\n",
      "                    \"Corps:2408912477\",\n",
      "                    \"Corps:1976534910\"\n",
      "                ]\n",
      "            },\n",
      "            \"description\": \"\",\n",
      "            \"metadata\": {}\n",
      "        },\n",
      "        {\n",
      "            \"name\": \"Material.2\",\n",
      "            \"vop_guid\": \"b90cd5f1-1114-4a58-9058-845b47ffb5ed\",\n",
      "            \"description\": \"\",\n",
      "            \"metadata\": {},\n",
      "            \"sop_guids\": []\n",
      "        }\n",
      "    ],\n",
      "    \"metadata\": {},\n",
      "    \"scenes\": []\n",
      "}\n"
     ]
    }
   ],
   "source": [
    "my_scene_data = my_scene.get()  # Retrieve scene datamodel\n",
    "\n",
    "# Modify scene datamodel to add our camera instance\n",
    "my_scene_data.sensors.append(camera_i_2)\n",
    "\n",
    "# We can also reference it in the first simulation, so that it will be taken into account by this simulation\n",
    "my_scene_data.simulations[0].sensor_paths.append(camera_i_2.name)  # We reference by name\n",
    "\n",
    "# Update value in db\n",
    "my_scene.set(my_scene_data)\n",
    "\n",
    "# Check scene data after update\n",
    "print(my_scene)"
   ]
  },
  {
   "cell_type": "markdown",
   "id": "7a7b6157",
   "metadata": {},
   "source": [
    "When loading a speos file into a scene, this creates many objects (source templates, sensor templates, vop template, sop templates).\n",
    "Then at the end of the example, we just clean all databases"
   ]
  },
  {
   "cell_type": "code",
   "execution_count": 12,
   "id": "7eae70c1",
   "metadata": {
    "execution": {
     "iopub.execute_input": "2025-03-06T16:11:54.481758Z",
     "iopub.status.busy": "2025-03-06T16:11:54.481313Z",
     "iopub.status.idle": "2025-03-06T16:11:54.529981Z",
     "shell.execute_reply": "2025-03-06T16:11:54.529295Z"
    }
   },
   "outputs": [],
   "source": [
    "for item in (\n",
    "    speos.client.scenes().list()\n",
    "    + speos.client.simulation_templates().list()\n",
    "    + speos.client.sensor_templates().list()\n",
    "    + speos.client.source_templates().list()\n",
    "    + speos.client.intensity_templates().list()\n",
    "    + speos.client.spectrums().list()\n",
    "    + speos.client.vop_templates().list()\n",
    "    + speos.client.sop_templates().list()\n",
    "    + speos.client.parts().list()\n",
    "    + speos.client.bodies().list()\n",
    "    + speos.client.faces().list()\n",
    "):\n",
    "    item.delete()"
   ]
  }
 ],
 "metadata": {
  "jupytext": {
   "cell_metadata_filter": "-all",
   "main_language": "python",
   "notebook_metadata_filter": "-all",
   "text_representation": {
    "extension": ".py",
    "format_name": "light"
   }
  },
  "language_info": {
   "codemirror_mode": {
    "name": "ipython",
    "version": 3
   },
   "file_extension": ".py",
   "mimetype": "text/x-python",
   "name": "python",
   "nbconvert_exporter": "python",
   "pygments_lexer": "ipython3",
   "version": "3.10.16"
  }
 },
 "nbformat": 4,
 "nbformat_minor": 5
}
