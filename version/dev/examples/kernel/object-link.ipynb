{
 "cells": [
  {
   "cell_type": "code",
   "execution_count": 1,
   "id": "ef7333ae",
   "metadata": {
    "execution": {
     "iopub.execute_input": "2025-10-10T08:22:42.006971Z",
     "iopub.status.busy": "2025-10-10T08:22:42.006751Z",
     "iopub.status.idle": "2025-10-10T08:22:43.063219Z",
     "shell.execute_reply": "2025-10-10T08:22:43.062433Z"
    }
   },
   "outputs": [],
   "source": [
    "# # How to use an ObjectLink\n",
    "from ansys.speos.core import launcher"
   ]
  },
  {
   "cell_type": "code",
   "execution_count": 2,
   "id": "bcff5633",
   "metadata": {
    "execution": {
     "iopub.execute_input": "2025-10-10T08:22:43.065918Z",
     "iopub.status.busy": "2025-10-10T08:22:43.065625Z",
     "iopub.status.idle": "2025-10-10T08:22:43.068957Z",
     "shell.execute_reply": "2025-10-10T08:22:43.068354Z"
    },
    "lines_to_next_cell": 0
   },
   "outputs": [],
   "source": [
    "# This tutorial demonstrates how to use speos objects in layer core.\n",
    "# ## What is an ObjectLink?\n",
    "# The ObjectLink is an object that is created from a protobuf message and then stored in the server\n",
    "# database.\n",
    "# ## Which speos objects are used via ObjectLink?\n",
    "# Almost all speos objects are used via ObjectLink: like sources, sensors, simulations and more.\n",
    "# For this tutorial we will use as example the surface optical property (sop)\n",
    "# ## Prerequisites\n",
    "#\n",
    "# ### Perform imports"
   ]
  },
  {
   "cell_type": "code",
   "execution_count": 3,
   "id": "89868a15",
   "metadata": {
    "execution": {
     "iopub.execute_input": "2025-10-10T08:22:43.070899Z",
     "iopub.status.busy": "2025-10-10T08:22:43.070704Z",
     "iopub.status.idle": "2025-10-10T08:22:43.073894Z",
     "shell.execute_reply": "2025-10-10T08:22:43.073175Z"
    },
    "lines_to_next_cell": 0
   },
   "outputs": [],
   "source": [
    "from ansys.speos.core.kernel.sop_template import ProtoSOPTemplate\n",
    "from ansys.speos.core.speos import Speos\n"
   ]
  },
  {
   "cell_type": "markdown",
   "id": "9ae1243d",
   "metadata": {},
   "source": [
    "### Define constants\n",
    "Constants help ensure consistency and avoid repetition throughout the example."
   ]
  },
  {
   "cell_type": "code",
   "execution_count": 4,
   "id": "8abc564c",
   "metadata": {
    "execution": {
     "iopub.execute_input": "2025-10-10T08:22:43.075690Z",
     "iopub.status.busy": "2025-10-10T08:22:43.075496Z",
     "iopub.status.idle": "2025-10-10T08:22:43.078607Z",
     "shell.execute_reply": "2025-10-10T08:22:43.078002Z"
    }
   },
   "outputs": [],
   "source": [
    "HOSTNAME = \"localhost\"\n",
    "GRPC_PORT = 50098  # Be sure the Speos GRPC Server has been started on this port.\n",
    "USE_DOCKER = True  # Set to False if you're running this example locally as a Notebook."
   ]
  },
  {
   "cell_type": "markdown",
   "id": "c1ccd497",
   "metadata": {},
   "source": [
    "### Start/Connect to Speos RPC Server\n",
    "This Python client connects to a server where the Speos engine\n",
    "is running as a service. In this example, the server and\n",
    "client are the same machine. The launch_local_speos_rpc_method can\n",
    "be used to start a local instance of the service."
   ]
  },
  {
   "cell_type": "code",
   "execution_count": 5,
   "id": "cc826ddf",
   "metadata": {
    "execution": {
     "iopub.execute_input": "2025-10-10T08:22:43.080436Z",
     "iopub.status.busy": "2025-10-10T08:22:43.080242Z",
     "iopub.status.idle": "2025-10-10T08:22:43.087408Z",
     "shell.execute_reply": "2025-10-10T08:22:43.086820Z"
    }
   },
   "outputs": [],
   "source": [
    "if USE_DOCKER:\n",
    "    speos = Speos(host=HOSTNAME, port=GRPC_PORT)\n",
    "else:\n",
    "    speos = launcher.launch_local_speos_rpc_server(port=GRPC_PORT)"
   ]
  },
  {
   "cell_type": "markdown",
   "id": "59227d91",
   "metadata": {},
   "source": [
    "## Create an ObjectLink"
   ]
  },
  {
   "cell_type": "markdown",
   "id": "016c502a",
   "metadata": {},
   "source": [
    "Retrieve the access to the database."
   ]
  },
  {
   "cell_type": "code",
   "execution_count": 6,
   "id": "f82803a7",
   "metadata": {
    "execution": {
     "iopub.execute_input": "2025-10-10T08:22:43.089520Z",
     "iopub.status.busy": "2025-10-10T08:22:43.089325Z",
     "iopub.status.idle": "2025-10-10T08:22:43.092575Z",
     "shell.execute_reply": "2025-10-10T08:22:43.091989Z"
    }
   },
   "outputs": [],
   "source": [
    "sop_t_db = speos.client.sop_templates()"
   ]
  },
  {
   "cell_type": "markdown",
   "id": "787746cd",
   "metadata": {},
   "source": [
    "Create the protobuf message."
   ]
  },
  {
   "cell_type": "code",
   "execution_count": 7,
   "id": "947eec2c",
   "metadata": {
    "execution": {
     "iopub.execute_input": "2025-10-10T08:22:43.094373Z",
     "iopub.status.busy": "2025-10-10T08:22:43.094155Z",
     "iopub.status.idle": "2025-10-10T08:22:43.097212Z",
     "shell.execute_reply": "2025-10-10T08:22:43.096617Z"
    }
   },
   "outputs": [],
   "source": [
    "sop_t = ProtoSOPTemplate()\n",
    "sop_t.name = \"Mirror_90\"\n",
    "sop_t.mirror.reflectance = 90.0"
   ]
  },
  {
   "cell_type": "markdown",
   "id": "b0ac5d6e",
   "metadata": {},
   "source": [
    "Create the ObjectLink (here a SOPTemplateLink)."
   ]
  },
  {
   "cell_type": "code",
   "execution_count": 8,
   "id": "0112cba6",
   "metadata": {
    "execution": {
     "iopub.execute_input": "2025-10-10T08:22:43.099109Z",
     "iopub.status.busy": "2025-10-10T08:22:43.098901Z",
     "iopub.status.idle": "2025-10-10T08:22:43.105401Z",
     "shell.execute_reply": "2025-10-10T08:22:43.104729Z"
    }
   },
   "outputs": [
    {
     "name": "stdout",
     "output_type": "stream",
     "text": [
      "ansys.api.speos.sop.v1.SOPTemplate\n",
      "{\n",
      "    \"name\": \"Mirror_90\",\n",
      "    \"mirror\": {\n",
      "        \"reflectance\": 90.0\n",
      "    },\n",
      "    \"description\": \"\",\n",
      "    \"metadata\": {}\n",
      "}\n"
     ]
    }
   ],
   "source": [
    "mirror_90_link = sop_t_db.create(message=sop_t)\n",
    "print(mirror_90_link)"
   ]
  },
  {
   "cell_type": "markdown",
   "id": "cfa2c1ab",
   "metadata": {},
   "source": [
    "Create another ObjectLink from another protobuf message."
   ]
  },
  {
   "cell_type": "code",
   "execution_count": 9,
   "id": "b95d506b",
   "metadata": {
    "execution": {
     "iopub.execute_input": "2025-10-10T08:22:43.107400Z",
     "iopub.status.busy": "2025-10-10T08:22:43.107123Z",
     "iopub.status.idle": "2025-10-10T08:22:43.111003Z",
     "shell.execute_reply": "2025-10-10T08:22:43.110419Z"
    }
   },
   "outputs": [],
   "source": [
    "sop_t = ProtoSOPTemplate()\n",
    "sop_t.name = \"Mirror_100\"\n",
    "sop_t.mirror.reflectance = 100.0\n",
    "\n",
    "mirror_100_link = sop_t_db.create(message=sop_t)"
   ]
  },
  {
   "cell_type": "markdown",
   "id": "f536aafe",
   "metadata": {},
   "source": [
    "## Modify an ObjectLink"
   ]
  },
  {
   "cell_type": "markdown",
   "id": "e5e3d6bf",
   "metadata": {},
   "source": [
    "Retrieve the protobuf message corresponding to the ObjectLink."
   ]
  },
  {
   "cell_type": "code",
   "execution_count": 10,
   "id": "b2523f87",
   "metadata": {
    "execution": {
     "iopub.execute_input": "2025-10-10T08:22:43.112872Z",
     "iopub.status.busy": "2025-10-10T08:22:43.112666Z",
     "iopub.status.idle": "2025-10-10T08:22:43.115744Z",
     "shell.execute_reply": "2025-10-10T08:22:43.115216Z"
    }
   },
   "outputs": [],
   "source": [
    "mirror_data = mirror_90_link.get()"
   ]
  },
  {
   "cell_type": "markdown",
   "id": "5478f108",
   "metadata": {},
   "source": [
    "Modify data locally"
   ]
  },
  {
   "cell_type": "code",
   "execution_count": 11,
   "id": "b21d0a55",
   "metadata": {
    "execution": {
     "iopub.execute_input": "2025-10-10T08:22:43.117618Z",
     "iopub.status.busy": "2025-10-10T08:22:43.117406Z",
     "iopub.status.idle": "2025-10-10T08:22:43.120492Z",
     "shell.execute_reply": "2025-10-10T08:22:43.119787Z"
    }
   },
   "outputs": [],
   "source": [
    "mirror_data.name = \"Mirror_50\"\n",
    "mirror_data.mirror.reflectance = 50"
   ]
  },
  {
   "cell_type": "markdown",
   "id": "cd7264e6",
   "metadata": {},
   "source": [
    "Update on db"
   ]
  },
  {
   "cell_type": "code",
   "execution_count": 12,
   "id": "83e0650a",
   "metadata": {
    "execution": {
     "iopub.execute_input": "2025-10-10T08:22:43.122491Z",
     "iopub.status.busy": "2025-10-10T08:22:43.122295Z",
     "iopub.status.idle": "2025-10-10T08:22:43.126462Z",
     "shell.execute_reply": "2025-10-10T08:22:43.125848Z"
    }
   },
   "outputs": [
    {
     "name": "stdout",
     "output_type": "stream",
     "text": [
      "ansys.api.speos.sop.v1.SOPTemplate\n",
      "{\n",
      "    \"name\": \"Mirror_50\",\n",
      "    \"mirror\": {\n",
      "        \"reflectance\": 50.0\n",
      "    },\n",
      "    \"description\": \"\",\n",
      "    \"metadata\": {}\n",
      "}\n"
     ]
    }
   ],
   "source": [
    "mirror_90_link.set(data=mirror_data)\n",
    "print(mirror_90_link)"
   ]
  },
  {
   "cell_type": "markdown",
   "id": "b24ae2db",
   "metadata": {},
   "source": [
    "## Delete an ObjectLink"
   ]
  },
  {
   "cell_type": "markdown",
   "id": "1cc642d2",
   "metadata": {},
   "source": [
    "This means deleting data in db"
   ]
  },
  {
   "cell_type": "code",
   "execution_count": 13,
   "id": "497ea2aa",
   "metadata": {
    "execution": {
     "iopub.execute_input": "2025-10-10T08:22:43.128520Z",
     "iopub.status.busy": "2025-10-10T08:22:43.128328Z",
     "iopub.status.idle": "2025-10-10T08:22:43.136207Z",
     "shell.execute_reply": "2025-10-10T08:22:43.135594Z"
    }
   },
   "outputs": [
    {
     "data": {
      "text/plain": [
       "[]"
      ]
     },
     "execution_count": 13,
     "metadata": {},
     "output_type": "execute_result"
    }
   ],
   "source": [
    "mirror_100_link.delete()\n",
    "mirror_90_link.delete()\n",
    "sop_t_db.list()"
   ]
  },
  {
   "cell_type": "code",
   "execution_count": 14,
   "id": "b9c67f37",
   "metadata": {
    "execution": {
     "iopub.execute_input": "2025-10-10T08:22:43.138069Z",
     "iopub.status.busy": "2025-10-10T08:22:43.137872Z",
     "iopub.status.idle": "2025-10-10T08:22:43.292203Z",
     "shell.execute_reply": "2025-10-10T08:22:43.291497Z"
    }
   },
   "outputs": [
    {
     "data": {
      "text/plain": [
       "True"
      ]
     },
     "execution_count": 14,
     "metadata": {},
     "output_type": "execute_result"
    }
   ],
   "source": [
    "speos.close()"
   ]
  }
 ],
 "metadata": {
  "jupytext": {
   "cell_metadata_filter": "-all",
   "main_language": "python",
   "notebook_metadata_filter": "-all",
   "text_representation": {
    "extension": ".py",
    "format_name": "light"
   }
  },
  "language_info": {
   "codemirror_mode": {
    "name": "ipython",
    "version": 3
   },
   "file_extension": ".py",
   "mimetype": "text/x-python",
   "name": "python",
   "nbconvert_exporter": "python",
   "pygments_lexer": "ipython3",
   "version": "3.10.18"
  }
 },
 "nbformat": 4,
 "nbformat_minor": 5
}
