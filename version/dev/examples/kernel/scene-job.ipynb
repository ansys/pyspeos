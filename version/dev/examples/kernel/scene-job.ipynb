{
 "cells": [
  {
   "cell_type": "markdown",
   "id": "3ff1e58c",
   "metadata": {},
   "source": [
    "# How to use scene and job"
   ]
  },
  {
   "cell_type": "markdown",
   "id": "67c42d88",
   "metadata": {},
   "source": [
    "This tutorial demonstrates how to create a scene, and fill it from a speos file.\n",
    "Then this demonstrates how to create a job from the scene, and run it."
   ]
  },
  {
   "cell_type": "markdown",
   "id": "ec9977b5",
   "metadata": {},
   "source": [
    "## Prerequisites\n",
    "\n",
    "### Perform imports"
   ]
  },
  {
   "cell_type": "code",
   "execution_count": 1,
   "id": "12b2469e",
   "metadata": {
    "execution": {
     "iopub.execute_input": "2025-10-10T08:22:45.697345Z",
     "iopub.status.busy": "2025-10-10T08:22:45.697047Z",
     "iopub.status.idle": "2025-10-10T08:22:46.776283Z",
     "shell.execute_reply": "2025-10-10T08:22:46.775465Z"
    }
   },
   "outputs": [],
   "source": [
    "from pathlib import Path\n",
    "import time\n",
    "\n",
    "from ansys.speos.core import launcher\n",
    "from ansys.speos.core.kernel.job import ProtoJob\n",
    "from ansys.speos.core.speos import Speos\n",
    "\n",
    "# ### Define constants\n",
    "# Constants help ensure consistency and avoid repetition throughout the example.\n",
    "\n",
    "HOSTNAME = \"localhost\"\n",
    "GRPC_PORT = 50098  # Be sure the Speos GRPC Server has been started on this port.\n",
    "USE_DOCKER = True  # Set to False if you're running this example locally as a Notebook.\n",
    "\n",
    "# ### Load assets\n",
    "# The assets used to run this example are available in the\n",
    "# [PySpeos repository](https://github.com/ansys/pyspeos/) on GitHub.\n",
    "#\n",
    "# > **Note:** Make sure you\n",
    "# > have downloaded simulation assets and set ``assets_data_path``\n",
    "# > to point to the assets folder.\n",
    "\n",
    "if USE_DOCKER:  # Running on the remote server.\n",
    "    assets_data_path = Path(\"/app\") / \"assets\"\n",
    "else:\n",
    "    assets_data_path = Path(\"/path/to/your/download/assets/directory\")\n",
    "\n",
    "\n",
    "# ### Start/Connect to Speos RPC Server\n",
    "# This Python client connects to a server where the Speos engine\n",
    "# is running as a service. In this example, the server and\n",
    "# client are the same machine. The launch_local_speos_rpc_method can\n",
    "# be used to start a local instance of the service.\n",
    "\n",
    "if USE_DOCKER:\n",
    "    speos = Speos(host=HOSTNAME, port=GRPC_PORT)\n",
    "else:\n",
    "    speos = launcher.launch_local_speos_rpc_server(port=GRPC_PORT)\n",
    "\n",
    "# ## Scene\n",
    "\n",
    "# Create an empty scene"
   ]
  },
  {
   "cell_type": "code",
   "execution_count": 2,
   "id": "1cc51aad",
   "metadata": {
    "execution": {
     "iopub.execute_input": "2025-10-10T08:22:46.779414Z",
     "iopub.status.busy": "2025-10-10T08:22:46.779013Z",
     "iopub.status.idle": "2025-10-10T08:22:46.785728Z",
     "shell.execute_reply": "2025-10-10T08:22:46.785118Z"
    }
   },
   "outputs": [],
   "source": [
    "my_scene = speos.client.scenes().create()"
   ]
  },
  {
   "cell_type": "markdown",
   "id": "c23bb9d6",
   "metadata": {},
   "source": [
    "Load a file to fill the scene"
   ]
  },
  {
   "cell_type": "code",
   "execution_count": 3,
   "id": "9a5dc522",
   "metadata": {
    "execution": {
     "iopub.execute_input": "2025-10-10T08:22:46.787739Z",
     "iopub.status.busy": "2025-10-10T08:22:46.787538Z",
     "iopub.status.idle": "2025-10-10T08:22:46.798517Z",
     "shell.execute_reply": "2025-10-10T08:22:46.797882Z"
    }
   },
   "outputs": [],
   "source": [
    "speos_file = str(\n",
    "    assets_data_path / \"LG_50M_Colorimetric_short.sv5\" / \"LG_50M_Colorimetric_short.sv5\"\n",
    ")\n",
    "my_scene.load_file(file_uri=speos_file)"
   ]
  },
  {
   "cell_type": "markdown",
   "id": "11d3f682",
   "metadata": {},
   "source": [
    "Print scene data model"
   ]
  },
  {
   "cell_type": "markdown",
   "id": "8682f96d",
   "metadata": {},
   "source": [
    "Here it is possible to see that the scene contains two surface sources, one irradiance sensor."
   ]
  },
  {
   "cell_type": "code",
   "execution_count": 4,
   "id": "1ce63cb5",
   "metadata": {
    "execution": {
     "iopub.execute_input": "2025-10-10T08:22:46.800664Z",
     "iopub.status.busy": "2025-10-10T08:22:46.800475Z",
     "iopub.status.idle": "2025-10-10T08:22:46.806640Z",
     "shell.execute_reply": "2025-10-10T08:22:46.806041Z"
    }
   },
   "outputs": [
    {
     "name": "stdout",
     "output_type": "stream",
     "text": [
      "ansys.api.speos.scene.v2.Scene\n",
      "{\n",
      "    \"name\": \"LG_50M_Colorimetric_short\",\n",
      "    \"description\": \"From /app/assets/LG_50M_Colorimetric_short.sv5/LG_50M_Colorimetric_short.sv5\",\n",
      "    \"part_guid\": \"c5a54564-7b45-4f8e-86d8-a4251c501f95\",\n",
      "    \"sources\": [\n",
      "        {\n",
      "            \"name\": \"Dom Source 2 (0) in SOURCE2\",\n",
      "            \"source_guid\": \"874df96e-59d6-4df9-a399-b44b46cd5b44\",\n",
      "            \"surface_properties\": {\n",
      "                \"exitance_constant_properties\": {\n",
      "                    \"geo_paths\": [\n",
      "                        {\n",
      "                            \"geo_path\": \"Solid Body in SOURCE2:2920204960/Face in SOURCE2:222\",\n",
      "                            \"reverse_normal\": false\n",
      "                        }\n",
      "                    ]\n",
      "                }\n",
      "            },\n",
      "            \"description\": \"\",\n",
      "            \"metadata\": {}\n",
      "        },\n",
      "        {\n",
      "            \"name\": \"Surface Source (0) in SOURCE1\",\n",
      "            \"source_guid\": \"60af297a-8ab2-4060-b474-01b35f0dfc2a\",\n",
      "            \"surface_properties\": {\n",
      "                \"exitance_constant_properties\": {\n",
      "                    \"geo_paths\": [\n",
      "                        {\n",
      "                            \"geo_path\": \"Solid Body in SOURCE1:2494956811/Face in SOURCE1:187\",\n",
      "                            \"reverse_normal\": false\n",
      "                        }\n",
      "                    ]\n",
      "                }\n",
      "            },\n",
      "            \"description\": \"\",\n",
      "            \"metadata\": {}\n",
      "        }\n",
      "    ],\n",
      "    \"sensors\": [\n",
      "        {\n",
      "            \"name\": \"Dom Irradiance Sensor (0)\",\n",
      "            \"sensor_guid\": \"344e4828-0ddd-4856-9f36-66bdfba5032d\",\n",
      "            \"result_file_name\": \"ASSEMBLY1.DS (0).Dom Irradiance Sensor (0)\",\n",
      "            \"irradiance_properties\": {\n",
      "                \"axis_system\": [\n",
      "                    -42.0,\n",
      "                    2.0,\n",
      "                    5.0,\n",
      "                    0.0,\n",
      "                    1.0,\n",
      "                    0.0,\n",
      "                    0.0,\n",
      "                    0.0,\n",
      "                    -1.0,\n",
      "                    -1.0,\n",
      "                    0.0,\n",
      "                    0.0\n",
      "                ],\n",
      "                \"layer_type_source\": {},\n",
      "                \"integration_direction\": [\n",
      "                    1.0,\n",
      "                    -0.0,\n",
      "                    -0.0\n",
      "                ],\n",
      "                \"ray_file_type\": \"RayFileNone\"\n",
      "            },\n",
      "            \"description\": \"\",\n",
      "            \"metadata\": {}\n",
      "        }\n",
      "    ],\n",
      "    \"simulations\": [\n",
      "        {\n",
      "            \"name\": \"ASSEMBLY1.DS (0)\",\n",
      "            \"simulation_guid\": \"4e090a35-056c-46b5-86b6-7e039d348406\",\n",
      "            \"sensor_paths\": [\n",
      "                \"Dom Irradiance Sensor (0)\"\n",
      "            ],\n",
      "            \"source_paths\": [\n",
      "                \"Dom Source 2 (0) in SOURCE2\",\n",
      "                \"Surface Source (0) in SOURCE1\"\n",
      "            ],\n",
      "            \"description\": \"\",\n",
      "            \"metadata\": {}\n",
      "        }\n",
      "    ],\n",
      "    \"materials\": [\n",
      "        {\n",
      "            \"name\": \"Material.1\",\n",
      "            \"geometries\": {\n",
      "                \"geo_paths\": [\n",
      "                    \"Solid Body in GUIDE:1379760262/Face in GUIDE:169\"\n",
      "                ]\n",
      "            },\n",
      "            \"sop_guid\": \"40fdfe2c-76eb-45c5-885b-fb8cca520d6d\",\n",
      "            \"description\": \"\",\n",
      "            \"metadata\": {},\n",
      "            \"sop_guids\": []\n",
      "        },\n",
      "        {\n",
      "            \"name\": \"Material.2\",\n",
      "            \"vop_guid\": \"fbcee3bc-d337-422c-a5b0-8a1be64d94a6\",\n",
      "            \"geometries\": {\n",
      "                \"geo_paths\": [\n",
      "                    \"Solid Body in GUIDE:1379760262\"\n",
      "                ]\n",
      "            },\n",
      "            \"sop_guid\": \"df3fa6e9-509d-4c17-9b0f-6a11406023c1\",\n",
      "            \"description\": \"\",\n",
      "            \"metadata\": {},\n",
      "            \"sop_guids\": []\n",
      "        },\n",
      "        {\n",
      "            \"name\": \"Material.3\",\n",
      "            \"vop_guid\": \"52724e52-3414-4baf-a314-51d1e896f29a\",\n",
      "            \"geometries\": {\n",
      "                \"geo_paths\": [\n",
      "                    \"Solid Body in SOURCE2:2920204960\",\n",
      "                    \"Solid Body in SOURCE1:2494956811\"\n",
      "                ]\n",
      "            },\n",
      "            \"sop_guid\": \"40fdfe2c-76eb-45c5-885b-fb8cca520d6d\",\n",
      "            \"description\": \"\",\n",
      "            \"metadata\": {},\n",
      "            \"sop_guids\": []\n",
      "        },\n",
      "        {\n",
      "            \"name\": \"Material.4\",\n",
      "            \"vop_guid\": \"e451efd4-49c3-45ae-a67d-5ef130519038\",\n",
      "            \"description\": \"\",\n",
      "            \"metadata\": {},\n",
      "            \"sop_guids\": []\n",
      "        }\n",
      "    ],\n",
      "    \"metadata\": {},\n",
      "    \"scenes\": []\n",
      "}\n"
     ]
    }
   ],
   "source": [
    "print(my_scene)"
   ]
  },
  {
   "cell_type": "markdown",
   "id": "4239101d",
   "metadata": {},
   "source": [
    "## Job"
   ]
  },
  {
   "cell_type": "markdown",
   "id": "facdcdd5",
   "metadata": {},
   "source": [
    "Create a job for the first simulation. When loaded from a speos file, there is always only one\n",
    "simulation in the scene."
   ]
  },
  {
   "cell_type": "code",
   "execution_count": 5,
   "id": "6db1f57d",
   "metadata": {
    "execution": {
     "iopub.execute_input": "2025-10-10T08:22:46.808512Z",
     "iopub.status.busy": "2025-10-10T08:22:46.808310Z",
     "iopub.status.idle": "2025-10-10T08:22:46.904107Z",
     "shell.execute_reply": "2025-10-10T08:22:46.903203Z"
    }
   },
   "outputs": [],
   "source": [
    "# First create the protobuf message\n",
    "job_message = ProtoJob(name=\"my_job\")\n",
    "job_message.scene_guid = my_scene.key  # The job needs a scene guid\n",
    "job_message.simulation_path = (\n",
    "    my_scene.get().simulations[0].name\n",
    ")  # And needs to know which simulation in the scene is involved.\n",
    "job_message.job_type = ProtoJob.Type.CPU  # Choose type of job, can also be GPU.\n",
    "job_message.direct_mc_simulation_properties.automatic_save_frequency = 1800\n",
    "job_message.direct_mc_simulation_properties.stop_condition_rays_number = (\n",
    "    200000  # Stop condition, here 200000 rays will be sent.\n",
    ")\n",
    "\n",
    "# Create the JobLink\n",
    "job_link = speos.client.jobs().create(message=job_message)"
   ]
  },
  {
   "cell_type": "markdown",
   "id": "0c810fef",
   "metadata": {},
   "source": [
    "Start the job"
   ]
  },
  {
   "cell_type": "code",
   "execution_count": 6,
   "id": "a40d8216",
   "metadata": {
    "execution": {
     "iopub.execute_input": "2025-10-10T08:22:46.907133Z",
     "iopub.status.busy": "2025-10-10T08:22:46.906910Z",
     "iopub.status.idle": "2025-10-10T08:22:46.910925Z",
     "shell.execute_reply": "2025-10-10T08:22:46.910263Z"
    }
   },
   "outputs": [],
   "source": [
    "job_link.start()"
   ]
  },
  {
   "cell_type": "markdown",
   "id": "dc98fffb",
   "metadata": {},
   "source": [
    "Verify state of the job"
   ]
  },
  {
   "cell_type": "code",
   "execution_count": 7,
   "id": "79e8771d",
   "metadata": {
    "execution": {
     "iopub.execute_input": "2025-10-10T08:22:46.912897Z",
     "iopub.status.busy": "2025-10-10T08:22:46.912703Z",
     "iopub.status.idle": "2025-10-10T08:22:46.919742Z",
     "shell.execute_reply": "2025-10-10T08:22:46.919201Z"
    }
   },
   "outputs": [
    {
     "data": {
      "text/plain": [
       "state: RUNNING"
      ]
     },
     "execution_count": 7,
     "metadata": {},
     "output_type": "execute_result"
    }
   ],
   "source": [
    "job_link.get_state()"
   ]
  },
  {
   "cell_type": "markdown",
   "id": "943a721b",
   "metadata": {},
   "source": [
    "Wait that the job is finished"
   ]
  },
  {
   "cell_type": "code",
   "execution_count": 8,
   "id": "73fab8f7",
   "metadata": {
    "execution": {
     "iopub.execute_input": "2025-10-10T08:22:46.921556Z",
     "iopub.status.busy": "2025-10-10T08:22:46.921353Z",
     "iopub.status.idle": "2025-10-10T08:22:54.941052Z",
     "shell.execute_reply": "2025-10-10T08:22:54.940218Z"
    }
   },
   "outputs": [],
   "source": [
    "job_state_res = job_link.get_state()\n",
    "while (\n",
    "    job_state_res.state != ProtoJob.State.FINISHED\n",
    "    and job_state_res.state != ProtoJob.State.STOPPED\n",
    "    and job_state_res.state != ProtoJob.State.IN_ERROR\n",
    "):\n",
    "    time.sleep(2)\n",
    "\n",
    "    job_state_res = job_link.get_state()"
   ]
  },
  {
   "cell_type": "markdown",
   "id": "a6f01393",
   "metadata": {},
   "source": [
    "Retrieve results of the job"
   ]
  },
  {
   "cell_type": "markdown",
   "id": "49075316",
   "metadata": {},
   "source": [
    "Two results are generated : the result of irradiance sensor:\n",
    "\"ASSEMBLY1.DS (0).Dom Irradiance Sensor (0).xmp\" and the simulation report in html"
   ]
  },
  {
   "cell_type": "code",
   "execution_count": 9,
   "id": "7aadccba",
   "metadata": {
    "execution": {
     "iopub.execute_input": "2025-10-10T08:22:54.944093Z",
     "iopub.status.busy": "2025-10-10T08:22:54.943850Z",
     "iopub.status.idle": "2025-10-10T08:22:54.954700Z",
     "shell.execute_reply": "2025-10-10T08:22:54.954027Z"
    }
   },
   "outputs": [
    {
     "name": "stdout",
     "output_type": "stream",
     "text": [
      "[upload_response {\n",
      "  info {\n",
      "    uri: \"d6204ec5-aa41-4500-8b84-9e68d76f473b\"\n",
      "    file_name: \"ASSEMBLY1.DS (0).Dom Irradiance Sensor (0).xmp\"\n",
      "    file_size: 1439732\n",
      "  }\n",
      "  upload_duration {\n",
      "    nanos: 3100292\n",
      "  }\n",
      "}\n",
      ", upload_response {\n",
      "  info {\n",
      "    uri: \"eca21646-9445-4b74-8a40-fd6f834ab686\"\n",
      "    file_name: \"ASSEMBLY1.DS (0).html\"\n",
      "    file_size: 506371\n",
      "  }\n",
      "  upload_duration {\n",
      "    nanos: 1193669\n",
      "  }\n",
      "}\n",
      "]\n"
     ]
    }
   ],
   "source": [
    "results = job_link.get_results().results\n",
    "print(results)"
   ]
  },
  {
   "cell_type": "markdown",
   "id": "1fa2d7a4",
   "metadata": {
    "lines_to_next_cell": 2
   },
   "source": [
    "Once no more needed: delete the job"
   ]
  },
  {
   "cell_type": "code",
   "execution_count": 10,
   "id": "cc935948",
   "metadata": {
    "execution": {
     "iopub.execute_input": "2025-10-10T08:22:54.956814Z",
     "iopub.status.busy": "2025-10-10T08:22:54.956565Z",
     "iopub.status.idle": "2025-10-10T08:22:54.960689Z",
     "shell.execute_reply": "2025-10-10T08:22:54.960137Z"
    },
    "lines_to_next_cell": 2
   },
   "outputs": [],
   "source": [
    "job_link.delete()"
   ]
  },
  {
   "cell_type": "markdown",
   "id": "8f8a7292",
   "metadata": {
    "lines_to_next_cell": 2
   },
   "source": [
    "When loading a speos file into a scene, this creates many objects\n",
    "(source templates, sensor templates, vop template, sop templates).\n",
    "Then at the end of the example, we just clean all databases"
   ]
  },
  {
   "cell_type": "code",
   "execution_count": 11,
   "id": "f3ad0ed0",
   "metadata": {
    "execution": {
     "iopub.execute_input": "2025-10-10T08:22:54.962534Z",
     "iopub.status.busy": "2025-10-10T08:22:54.962319Z",
     "iopub.status.idle": "2025-10-10T08:22:54.985633Z",
     "shell.execute_reply": "2025-10-10T08:22:54.985043Z"
    }
   },
   "outputs": [],
   "source": [
    "for item in (\n",
    "    speos.client.scenes().list()\n",
    "    + speos.client.simulation_templates().list()\n",
    "    + speos.client.sensor_templates().list()\n",
    "    + speos.client.source_templates().list()\n",
    "    + speos.client.intensity_templates().list()\n",
    "    + speos.client.spectrums().list()\n",
    "    + speos.client.vop_templates().list()\n",
    "    + speos.client.sop_templates().list()\n",
    "    + speos.client.parts().list()\n",
    "    + speos.client.bodies().list()\n",
    "    + speos.client.faces().list()\n",
    "):\n",
    "    item.delete()"
   ]
  },
  {
   "cell_type": "code",
   "execution_count": 12,
   "id": "7b4f46ed",
   "metadata": {
    "execution": {
     "iopub.execute_input": "2025-10-10T08:22:54.987550Z",
     "iopub.status.busy": "2025-10-10T08:22:54.987364Z",
     "iopub.status.idle": "2025-10-10T08:22:54.991884Z",
     "shell.execute_reply": "2025-10-10T08:22:54.991311Z"
    }
   },
   "outputs": [
    {
     "data": {
      "text/plain": [
       "True"
      ]
     },
     "execution_count": 12,
     "metadata": {},
     "output_type": "execute_result"
    }
   ],
   "source": [
    "speos.close()"
   ]
  }
 ],
 "metadata": {
  "jupytext": {
   "cell_metadata_filter": "-all",
   "main_language": "python",
   "notebook_metadata_filter": "-all",
   "text_representation": {
    "extension": ".py",
    "format_name": "light"
   }
  },
  "language_info": {
   "codemirror_mode": {
    "name": "ipython",
    "version": 3
   },
   "file_extension": ".py",
   "mimetype": "text/x-python",
   "name": "python",
   "nbconvert_exporter": "python",
   "pygments_lexer": "ipython3",
   "version": "3.10.18"
  }
 },
 "nbformat": 4,
 "nbformat_minor": 5
}
