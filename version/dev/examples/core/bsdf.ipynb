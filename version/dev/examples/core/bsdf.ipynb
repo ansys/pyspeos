{
 "cells": [
  {
   "cell_type": "markdown",
   "id": "ee868900",
   "metadata": {},
   "source": [
    "# How to create a anisotropic bsdf file"
   ]
  },
  {
   "cell_type": "markdown",
   "id": "60a655c7",
   "metadata": {},
   "source": [
    "This tutorial demonstrates how to create bsdf file using pyspeos"
   ]
  },
  {
   "cell_type": "markdown",
   "id": "22ac539e",
   "metadata": {},
   "source": [
    "## What is a BSDF"
   ]
  },
  {
   "cell_type": "markdown",
   "id": "376b1373",
   "metadata": {},
   "source": [
    "BSDF stands for Bidirectional Scattering Distribution Function, which is\n",
    "a mathematical function that characterizes how light is scattered from a\n",
    "surface.\n",
    "In Speos we have two models to represent BSDF data: Spectral BSDF(*.brdf)\n",
    "and Anisotropic BSDF (*.anisotropicbsdf).\n",
    "The first allows for each wavelength to store a full bsdf description with\n",
    "this it allows for great color representation.\n",
    "the second uses spectral modulation to represent the color but allows for\n",
    "anisotropic behaviour by taking a BSDF for each anistropic angle.\n",
    "Both formats need an interpolation between incident/anistropic angles and wavelength\n",
    "In many cases the data comes from measurements and need coordinate transformations\n",
    "to be used"
   ]
  },
  {
   "cell_type": "markdown",
   "id": "ead3564e",
   "metadata": {},
   "source": [
    "## Prerequisites\n",
    "\n",
    "### Perform imports"
   ]
  },
  {
   "cell_type": "code",
   "execution_count": 1,
   "id": "d47eb6ca",
   "metadata": {
    "execution": {
     "iopub.execute_input": "2025-10-10T08:19:48.835960Z",
     "iopub.status.busy": "2025-10-10T08:19:48.835623Z",
     "iopub.status.idle": "2025-10-10T08:19:49.916062Z",
     "shell.execute_reply": "2025-10-10T08:19:49.915246Z"
    }
   },
   "outputs": [],
   "source": [
    "from pathlib import Path\n",
    "\n",
    "import numpy as np\n",
    "\n",
    "from ansys.speos.core import Speos\n",
    "from ansys.speos.core.bsdf import AnisotropicBSDF, BxdfDatapoint\n",
    "from ansys.speos.core.launcher import launch_local_speos_rpc_server\n",
    "from ansys.speos.core.speos import SpeosClient\n"
   ]
  },
  {
   "cell_type": "markdown",
   "id": "9438e48a",
   "metadata": {},
   "source": [
    "### Define constants\n",
    "Constants help ensure consistency and avoid repetition throughout the example."
   ]
  },
  {
   "cell_type": "code",
   "execution_count": 2,
   "id": "d0769ade",
   "metadata": {
    "execution": {
     "iopub.execute_input": "2025-10-10T08:19:49.919046Z",
     "iopub.status.busy": "2025-10-10T08:19:49.918722Z",
     "iopub.status.idle": "2025-10-10T08:19:49.922055Z",
     "shell.execute_reply": "2025-10-10T08:19:49.921476Z"
    }
   },
   "outputs": [],
   "source": [
    "HOSTNAME = \"localhost\"\n",
    "GRPC_PORT = 50098  # Be sure the Speos GRPC Server has been started on this port.\n",
    "USE_DOCKER = True  # Set to False if you're running this example locally as a Notebook."
   ]
  },
  {
   "cell_type": "markdown",
   "id": "a2c6c357",
   "metadata": {
    "lines_to_next_cell": 2
   },
   "source": [
    "### Define helper functions"
   ]
  },
  {
   "cell_type": "code",
   "execution_count": 3,
   "id": "42852a40",
   "metadata": {
    "execution": {
     "iopub.execute_input": "2025-10-10T08:19:49.924000Z",
     "iopub.status.busy": "2025-10-10T08:19:49.923812Z",
     "iopub.status.idle": "2025-10-10T08:19:49.928653Z",
     "shell.execute_reply": "2025-10-10T08:19:49.928042Z"
    }
   },
   "outputs": [],
   "source": [
    "def clean_all_dbs(speos_client: SpeosClient):\n",
    "    \"\"\"Clean all database entries of a current SpeosRPC client.\n",
    "\n",
    "    Parameters\n",
    "    ----------\n",
    "    speos_client : ansys.speos.core.kernel.client.SpeosClient\n",
    "        SpeosRPC server client\n",
    "\n",
    "    Returns\n",
    "    -------\n",
    "    None\n",
    "    \"\"\"\n",
    "    for item in (\n",
    "        speos_client.jobs().list()\n",
    "        + speos_client.scenes().list()\n",
    "        + speos_client.simulation_templates().list()\n",
    "        + speos_client.sensor_templates().list()\n",
    "        + speos_client.source_templates().list()\n",
    "        + speos_client.intensity_templates().list()\n",
    "        + speos_client.spectrums().list()\n",
    "        + speos_client.vop_templates().list()\n",
    "        + speos_client.sop_templates().list()\n",
    "        + speos_client.parts().list()\n",
    "        + speos_client.bodies().list()\n",
    "        + speos_client.faces().list()\n",
    "    ):\n",
    "        item.delete()"
   ]
  },
  {
   "cell_type": "code",
   "execution_count": 4,
   "id": "1a690a09",
   "metadata": {
    "execution": {
     "iopub.execute_input": "2025-10-10T08:19:49.930631Z",
     "iopub.status.busy": "2025-10-10T08:19:49.930353Z",
     "iopub.status.idle": "2025-10-10T08:19:49.936108Z",
     "shell.execute_reply": "2025-10-10T08:19:49.935434Z"
    }
   },
   "outputs": [],
   "source": [
    "def create_lambertian_bsdf(is_brdf, nb_theta=5, nb_phi=5):\n",
    "    \"\"\"\n",
    "    Create a lambertian Distribution as np.array.\n",
    "\n",
    "    Parameters\n",
    "    ----------\n",
    "    is_brdf: bool\n",
    "        True if generating brdf data, False btdf data\n",
    "    nb_theta: int\n",
    "        number of theta samplings\n",
    "    nb_phi: int\n",
    "        number of phi samplings\n",
    "\n",
    "    Returns\n",
    "    -------\n",
    "    theta: np.array,\n",
    "        shape (nb_theta, 3)\n",
    "    phi: np.array,\n",
    "        shape (nb_phi, 3)\n",
    "    brdf: np.array,\n",
    "        shape (nb_theta, nb_phi)\n",
    "\n",
    "    \"\"\"\n",
    "    thetas = np.zeros(nb_theta)\n",
    "    phis = np.zeros(nb_phi)\n",
    "    bxdf = np.zeros((nb_theta, nb_phi))\n",
    "    if is_brdf:\n",
    "        for t in range(nb_theta):\n",
    "            thetas[t] = t * np.pi * 0.5 / (nb_theta - 1)\n",
    "            for p in range(nb_phi):\n",
    "                phis[p] = p * 2 * np.pi / (nb_phi - 1)\n",
    "                bxdf[t, p] = np.cos(thetas[t]) / np.pi\n",
    "    else:\n",
    "        for t in range(nb_theta):\n",
    "            thetas[t] = np.pi * 0.5 * (1 + t / (nb_theta - 1))\n",
    "            for p in range(nb_phi):\n",
    "                phis[p] = p * 2 * np.pi / (nb_phi - 1)\n",
    "    return thetas, phis, bxdf"
   ]
  },
  {
   "cell_type": "code",
   "execution_count": 5,
   "id": "4e091513",
   "metadata": {
    "execution": {
     "iopub.execute_input": "2025-10-10T08:19:49.938013Z",
     "iopub.status.busy": "2025-10-10T08:19:49.937812Z",
     "iopub.status.idle": "2025-10-10T08:19:49.941801Z",
     "shell.execute_reply": "2025-10-10T08:19:49.941219Z"
    }
   },
   "outputs": [],
   "source": [
    "def create_spectrum(value, w_start=380.0, w_end=780.0, w_step=10):\n",
    "    \"\"\"\n",
    "    Create a spectrum for a bsdf.\n",
    "\n",
    "    Parameters\n",
    "    ----------\n",
    "    value: float\n",
    "        spectrum value\n",
    "    w_start: float\n",
    "        wavelength start\n",
    "    w_end: float\n",
    "        wavelength end\n",
    "    w_step: int\n",
    "        wavelength sampling number\n",
    "\n",
    "    Returns\n",
    "    -------\n",
    "    spectrum: np.array,\n",
    "\n",
    "    \"\"\"\n",
    "    spectrum = np.zeros((2, w_step))\n",
    "    for w in range(w_step):\n",
    "        spectrum[0, w] = w_start + w * (w_end - w_start) / (w_step - 1)\n",
    "        spectrum[1, w] = value\n",
    "    return spectrum"
   ]
  },
  {
   "cell_type": "markdown",
   "id": "df02ea37",
   "metadata": {},
   "source": [
    "## Model Setup\n",
    "\n",
    "### Load assets\n",
    "The assets used to run this example are available in the\n",
    "[PySpeos repository](https://github.com/ansys/pyspeos/) on GitHub.\n",
    "\n",
    "> **Note:** Make sure you have downloaded simulation assets and\n",
    "> set ``assets_data_path`` to point to the assets folder."
   ]
  },
  {
   "cell_type": "code",
   "execution_count": 6,
   "id": "36919d60",
   "metadata": {
    "execution": {
     "iopub.execute_input": "2025-10-10T08:19:49.943818Z",
     "iopub.status.busy": "2025-10-10T08:19:49.943633Z",
     "iopub.status.idle": "2025-10-10T08:19:49.946560Z",
     "shell.execute_reply": "2025-10-10T08:19:49.945992Z"
    },
    "lines_to_next_cell": 2
   },
   "outputs": [],
   "source": [
    "if USE_DOCKER:  # Running on the remote server.\n",
    "    assets_data_path = Path(\"/app\") / \"assets\"\n",
    "else:\n",
    "    assets_data_path = Path(\"/path/to/your/download/assets/directory\")"
   ]
  },
  {
   "cell_type": "markdown",
   "id": "7d586b33",
   "metadata": {},
   "source": [
    "### Create Anisotropic BSDF from datapoints\n",
    "To create and save a bsdf we need to first create a connection to the SpeosRPC server\n",
    "### Connect to the RPC Server\n",
    "This Python client connects to a server where the Speos engine\n",
    "is running as a service. In this example, the server and\n",
    "client are the same machine. The launch_local_speos_rpc_method can\n",
    "be used to start a local instance of the service."
   ]
  },
  {
   "cell_type": "code",
   "execution_count": 7,
   "id": "b9388b09",
   "metadata": {
    "execution": {
     "iopub.execute_input": "2025-10-10T08:19:49.948361Z",
     "iopub.status.busy": "2025-10-10T08:19:49.948154Z",
     "iopub.status.idle": "2025-10-10T08:19:49.993884Z",
     "shell.execute_reply": "2025-10-10T08:19:49.993067Z"
    }
   },
   "outputs": [],
   "source": [
    "if USE_DOCKER:\n",
    "    speos = Speos(host=HOSTNAME, port=GRPC_PORT)\n",
    "else:\n",
    "    speos = launch_local_speos_rpc_server(port=GRPC_PORT)"
   ]
  },
  {
   "cell_type": "markdown",
   "id": "f64163a5",
   "metadata": {},
   "source": [
    "### Create a BXDFDatapoint\n",
    "to create a bsdf we need the bsdf for multiple incident angles.\n",
    "In this example we assume the color doesn't change over the icnident\n",
    "angles so we can use anisotropic bsdf and we assume the data has no\n",
    "anisotropy"
   ]
  },
  {
   "cell_type": "code",
   "execution_count": 8,
   "id": "7ef4cfa1",
   "metadata": {
    "execution": {
     "iopub.execute_input": "2025-10-10T08:19:49.996390Z",
     "iopub.status.busy": "2025-10-10T08:19:49.996143Z",
     "iopub.status.idle": "2025-10-10T08:19:50.013013Z",
     "shell.execute_reply": "2025-10-10T08:19:50.012344Z"
    }
   },
   "outputs": [
    {
     "name": "stdout",
     "output_type": "stream",
     "text": [
      "{'anisotropy': 0, 'bxdf': array([[3.18309886e-01, 3.18309886e-01, 3.18309886e-01, 3.18309886e-01,\n",
      "        3.18309886e-01],\n",
      "       [2.94079989e-01, 2.94079989e-01, 2.94079989e-01, 2.94079989e-01,\n",
      "        2.94079989e-01],\n",
      "       [2.25079079e-01, 2.25079079e-01, 2.25079079e-01, 2.25079079e-01,\n",
      "        2.25079079e-01],\n",
      "       [1.21811920e-01, 1.21811920e-01, 1.21811920e-01, 1.21811920e-01,\n",
      "        1.21811920e-01],\n",
      "       [1.94908592e-17, 1.94908592e-17, 1.94908592e-17, 1.94908592e-17,\n",
      "        1.94908592e-17]]), 'is_brdf': True, 'incident_angle': np.float64(0.08726646259971647), 'theta_values': array([0.        , 0.39269908, 0.78539816, 1.17809725, 1.57079633]), 'phi_values': array([0.        , 1.57079633, 3.14159265, 4.71238898, 6.28318531])}\n"
     ]
    }
   ],
   "source": [
    "clean_all_dbs(speos.client)  # clean all the database entries\n",
    "incident_angles = [np.radians(5), np.radians(25), np.radians(45), np.radians(65), np.radians(85)]\n",
    "all_brdfs = []\n",
    "for inc in incident_angles:\n",
    "    thetas, phis, brdf = create_lambertian_bsdf(True)\n",
    "    all_brdfs.append(BxdfDatapoint(True, inc, thetas, phis, brdf))\n",
    "print(all_brdfs[0])"
   ]
  },
  {
   "cell_type": "markdown",
   "id": "2680c8eb",
   "metadata": {},
   "source": [
    "### Create Anistropic BSDF class instance"
   ]
  },
  {
   "cell_type": "code",
   "execution_count": 9,
   "id": "36c2eeb1",
   "metadata": {
    "execution": {
     "iopub.execute_input": "2025-10-10T08:19:50.015052Z",
     "iopub.status.busy": "2025-10-10T08:19:50.014860Z",
     "iopub.status.idle": "2025-10-10T08:19:50.018301Z",
     "shell.execute_reply": "2025-10-10T08:19:50.017605Z"
    }
   },
   "outputs": [],
   "source": [
    "new_bsdf = AnisotropicBSDF(speos)\n",
    "new_bsdf.description = \"PySpeos BSDF Example\"\n",
    "new_bsdf.anisotropy_vector = [1, 0, 0]"
   ]
  },
  {
   "cell_type": "markdown",
   "id": "b83ce33c",
   "metadata": {},
   "source": [
    "Create Spectrum with 80% reflectivity"
   ]
  },
  {
   "cell_type": "code",
   "execution_count": 10,
   "id": "1f597888",
   "metadata": {
    "execution": {
     "iopub.execute_input": "2025-10-10T08:19:50.020372Z",
     "iopub.status.busy": "2025-10-10T08:19:50.020155Z",
     "iopub.status.idle": "2025-10-10T08:19:50.023219Z",
     "shell.execute_reply": "2025-10-10T08:19:50.022496Z"
    }
   },
   "outputs": [],
   "source": [
    "spectrum = create_spectrum(0.8)"
   ]
  },
  {
   "cell_type": "markdown",
   "id": "a74dc34b",
   "metadata": {},
   "source": [
    "Assign reflection spectrum to bsdf"
   ]
  },
  {
   "cell_type": "code",
   "execution_count": 11,
   "id": "f9f1bdcb",
   "metadata": {
    "execution": {
     "iopub.execute_input": "2025-10-10T08:19:50.025329Z",
     "iopub.status.busy": "2025-10-10T08:19:50.025110Z",
     "iopub.status.idle": "2025-10-10T08:19:50.028463Z",
     "shell.execute_reply": "2025-10-10T08:19:50.027797Z"
    }
   },
   "outputs": [],
   "source": [
    "new_bsdf.has_reflection = True\n",
    "new_bsdf.spectrum_incidence = np.radians(0)\n",
    "new_bsdf.spectrum_anisotropy = np.radians(0)\n",
    "new_bsdf.reflection_spectrum = spectrum"
   ]
  },
  {
   "cell_type": "markdown",
   "id": "4b0829a6",
   "metadata": {},
   "source": [
    "Assign brdf data"
   ]
  },
  {
   "cell_type": "code",
   "execution_count": 12,
   "id": "cd71cf1c",
   "metadata": {
    "execution": {
     "iopub.execute_input": "2025-10-10T08:19:50.030338Z",
     "iopub.status.busy": "2025-10-10T08:19:50.030136Z",
     "iopub.status.idle": "2025-10-10T08:19:50.035385Z",
     "shell.execute_reply": "2025-10-10T08:19:50.034804Z"
    }
   },
   "outputs": [
    {
     "name": "stdout",
     "output_type": "stream",
     "text": [
      "{'has_transmission': False, 'has_reflection': True, 'brdf': [<ansys.speos.core.bsdf.BxdfDatapoint object at 0x7fa54d4c5030>, <ansys.speos.core.bsdf.BxdfDatapoint object at 0x7fa54d4c5450>, <ansys.speos.core.bsdf.BxdfDatapoint object at 0x7fa54d4c4f10>, <ansys.speos.core.bsdf.BxdfDatapoint object at 0x7fa54d4c5600>, <ansys.speos.core.bsdf.BxdfDatapoint object at 0x7fa54d4c4eb0>], 'btdf': None, 'nb_incidents': [5, 0], 'incident_angles': [[np.float64(0.08726646259971647), np.float64(0.4363323129985824), np.float64(0.7853981633974483), np.float64(1.1344640137963142), np.float64(1.4835298641951802)], []], 'interpolation_settings': None, 'anisotropic_angles': [[0], []], 'spectrum_incidence': [np.float64(0.0), 0], 'spectrum_anisotropy': [np.float64(0.0), 0], 'reflection_spectrum': array([[380.        , 424.44444444, 468.88888889, 513.33333333,\n",
      "        557.77777778, 602.22222222, 646.66666667, 691.11111111,\n",
      "        735.55555556, 780.        ],\n",
      "       [  0.8       ,   0.8       ,   0.8       ,   0.8       ,\n",
      "          0.8       ,   0.8       ,   0.8       ,   0.8       ,\n",
      "          0.8       ,   0.8       ]]), 'transmission_spectrum': None}\n"
     ]
    }
   ],
   "source": [
    "new_bsdf.brdf = all_brdfs\n",
    "save_path = assets_data_path / \"example_bsdf.anisotropicbsdf\"\n",
    "new_bsdf.save(save_path)\n",
    "print(new_bsdf)"
   ]
  },
  {
   "cell_type": "markdown",
   "id": "784bf4ae",
   "metadata": {},
   "source": [
    "### BSDF Interpolation Enhancement\n",
    "This section shows:\n",
    "- How to apply automatic interpolation settings and save a post-processed bsdf file.\n",
    "- How to change interpolation settings, apply the new settings to bsdf,\n",
    "and save the post-processed file\n",
    "- How to re-load a bsdf file has interpolation enhanced and retrieve the interpolation settings."
   ]
  },
  {
   "cell_type": "code",
   "execution_count": 13,
   "id": "e71df793",
   "metadata": {
    "execution": {
     "iopub.execute_input": "2025-10-10T08:19:50.037198Z",
     "iopub.status.busy": "2025-10-10T08:19:50.036993Z",
     "iopub.status.idle": "2025-10-10T08:19:50.048711Z",
     "shell.execute_reply": "2025-10-10T08:19:50.048129Z"
    }
   },
   "outputs": [
    {
     "name": "stdout",
     "output_type": "stream",
     "text": [
      "None\n",
      "<ansys.speos.core.bsdf.InterpolationEnhancement object at 0x7fa54d46fe50>\n"
     ]
    },
    {
     "data": {
      "text/plain": [
       "PosixPath('/app/assets/example_bsdf_automatic_interpolation.anisotropicbsdf')"
      ]
     },
     "execution_count": 13,
     "metadata": {},
     "output_type": "execute_result"
    }
   ],
   "source": [
    "print(\n",
    "    new_bsdf.interpolation_settings\n",
    ")  # user can check if there was interpolation settings, here is None\n",
    "new_bsdf.create_interpolation_enhancement(index_1=1.0, index_2=1.4)\n",
    "print(new_bsdf.interpolation_settings)  # Now interpolation settings is not None\n",
    "new_bsdf.save(file_path=assets_data_path / \"example_bsdf_automatic_interpolation.anisotropicbsdf\")"
   ]
  },
  {
   "cell_type": "markdown",
   "id": "57a14168",
   "metadata": {},
   "source": [
    "Apply user defined interpolation enhancement"
   ]
  },
  {
   "cell_type": "code",
   "execution_count": 14,
   "id": "f3dfaf15",
   "metadata": {
    "execution": {
     "iopub.execute_input": "2025-10-10T08:19:50.050667Z",
     "iopub.status.busy": "2025-10-10T08:19:50.050479Z",
     "iopub.status.idle": "2025-10-10T08:19:50.055984Z",
     "shell.execute_reply": "2025-10-10T08:19:50.055419Z"
    }
   },
   "outputs": [
    {
     "name": "stdout",
     "output_type": "stream",
     "text": [
      "{'0': {'0.08726646259971647': {'half_angle': 1.5533430342749535, 'height': 0.3141551883034776}, '0.4363323129985824': {'half_angle': 1.5533430342749535, 'height': 0.3141551883034776}, '0.7853981633974483': {'half_angle': 1.5533430342749535, 'height': 0.3141551883034776}, '1.1344640137963142': {'half_angle': 1.5533430342749535, 'height': 0.3141551883034776}, '1.4835298641951802': {'half_angle': 1.5533430342749535, 'height': 0.3141551883034776}}}\n"
     ]
    }
   ],
   "source": [
    "interpolation_settings = new_bsdf.create_interpolation_enhancement(index_1=1.0, index_2=1.4)\n",
    "interpolation_settings_reflection = (\n",
    "    interpolation_settings.get_reflection_interpolation_settings\n",
    ")  # return as fixed dictionary, user cannot add/remove item\n",
    "print(interpolation_settings_reflection)"
   ]
  },
  {
   "cell_type": "markdown",
   "id": "a306633b",
   "metadata": {},
   "source": [
    "Change interpolation settings"
   ]
  },
  {
   "cell_type": "code",
   "execution_count": 15,
   "id": "9acddbce",
   "metadata": {
    "execution": {
     "iopub.execute_input": "2025-10-10T08:19:50.057824Z",
     "iopub.status.busy": "2025-10-10T08:19:50.057608Z",
     "iopub.status.idle": "2025-10-10T08:19:50.060819Z",
     "shell.execute_reply": "2025-10-10T08:19:50.060281Z"
    }
   },
   "outputs": [],
   "source": [
    "interpolation_settings_reflection[\"0\"][str(np.radians(5))][\"half_angle\"] = 0.523\n",
    "interpolation_settings_reflection[\"0\"][str(np.radians(5))][\"height\"] = 0.5"
   ]
  },
  {
   "cell_type": "markdown",
   "id": "1a6414b5",
   "metadata": {},
   "source": [
    "Set the changed interpolation settings back to bsdf file and save"
   ]
  },
  {
   "cell_type": "code",
   "execution_count": 16,
   "id": "f0ef255f",
   "metadata": {
    "execution": {
     "iopub.execute_input": "2025-10-10T08:19:50.062615Z",
     "iopub.status.busy": "2025-10-10T08:19:50.062430Z",
     "iopub.status.idle": "2025-10-10T08:19:50.069025Z",
     "shell.execute_reply": "2025-10-10T08:19:50.068372Z"
    }
   },
   "outputs": [
    {
     "data": {
      "text/plain": [
       "PosixPath('/app/assets/example_bsdf_user_interpolation.anisotropicbsdf')"
      ]
     },
     "execution_count": 16,
     "metadata": {},
     "output_type": "execute_result"
    }
   ],
   "source": [
    "interpolation_settings.set_interpolation_settings(\n",
    "    is_brdf=True, settings=interpolation_settings_reflection\n",
    ")\n",
    "new_bsdf.save(file_path=assets_data_path / \"example_bsdf_user_interpolation.anisotropicbsdf\")"
   ]
  },
  {
   "cell_type": "markdown",
   "id": "a2f68d83",
   "metadata": {},
   "source": [
    "Load a bsdf file with interpolation enhanced"
   ]
  },
  {
   "cell_type": "code",
   "execution_count": 17,
   "id": "25f7d31e",
   "metadata": {
    "execution": {
     "iopub.execute_input": "2025-10-10T08:19:50.070828Z",
     "iopub.status.busy": "2025-10-10T08:19:50.070645Z",
     "iopub.status.idle": "2025-10-10T08:19:50.083612Z",
     "shell.execute_reply": "2025-10-10T08:19:50.082988Z"
    }
   },
   "outputs": [
    {
     "name": "stdout",
     "output_type": "stream",
     "text": [
      "<ansys.speos.core.bsdf.InterpolationEnhancement object at 0x7fa54d4c67a0>\n",
      "{'0.0': {'0.08726646259971647': {'half_angle': 0.523, 'height': 0.5}, '0.4363323129985824': {'half_angle': 1.5533430342749535, 'height': 0.3141551883034776}, '0.7853981633974483': {'half_angle': 1.5533430342749535, 'height': 0.3141551883034776}, '1.1344640137963142': {'half_angle': 1.5533430342749535, 'height': 0.3141551883034776}, '1.4835298641951802': {'half_angle': 1.5533430342749535, 'height': 0.3141551883034776}}}\n",
      "{'0.0': {'0.08726646259971647': {'half_angle': 1.5533430342749535, 'height': 0.3141551883034776}, '0.4363323129985824': {'half_angle': 1.5533430342749535, 'height': 0.3141551883034776}, '0.7853981633974483': {'half_angle': 1.5533430342749535, 'height': 0.3141551883034776}, '1.1344640137963142': {'half_angle': 1.5533430342749535, 'height': 0.3141551883034776}, '1.4835298641951802': {'half_angle': 1.5533430342749535, 'height': 0.3141551883034776}}}\n"
     ]
    }
   ],
   "source": [
    "clean_all_dbs(speos.client)\n",
    "saved_bsdf = AnisotropicBSDF(\n",
    "    speos=speos, file_path=assets_data_path / \"example_bsdf_user_interpolation.anisotropicbsdf\"\n",
    ")\n",
    "print(\n",
    "    saved_bsdf.interpolation_settings\n",
    ")  # here an InterpolationEnhancement Class object is returned\n",
    "previous_settings = saved_bsdf.interpolation_settings\n",
    "print(\n",
    "    previous_settings.get_reflection_interpolation_settings\n",
    ")  # user can review the previous settings\n",
    "previous_settings = saved_bsdf.create_interpolation_enhancement(index_1=1.0, index_2=1.4)\n",
    "print(\n",
    "    previous_settings.get_reflection_interpolation_settings\n",
    ")  # with same index values, user use create_interpolation_enhancement to create a new settings"
   ]
  },
  {
   "cell_type": "markdown",
   "id": "53aed067",
   "metadata": {},
   "source": [
    "Defined new interpolation settings for an already enhanced bsdf file"
   ]
  },
  {
   "cell_type": "code",
   "execution_count": 18,
   "id": "14907eac",
   "metadata": {
    "execution": {
     "iopub.execute_input": "2025-10-10T08:19:50.085659Z",
     "iopub.status.busy": "2025-10-10T08:19:50.085459Z",
     "iopub.status.idle": "2025-10-10T08:19:50.090950Z",
     "shell.execute_reply": "2025-10-10T08:19:50.090293Z"
    }
   },
   "outputs": [
    {
     "name": "stdout",
     "output_type": "stream",
     "text": [
      "{'0.0': {'0.08726646259971647': {'half_angle': 1.5533430342749535, 'height': 0.3141551883034776}, '0.4363323129985824': {'half_angle': 1.5533430342749535, 'height': 0.3141551883034776}, '0.7853981633974483': {'half_angle': 1.5533430342749535, 'height': 0.3141551883034776}, '1.1344640137963142': {'half_angle': 1.5533430342749535, 'height': 0.3141551883034776}, '1.4835298641951802': {'half_angle': 1.5533430342749535, 'height': 0.3141551883034776}}}\n"
     ]
    }
   ],
   "source": [
    "previous_settings_diff_index = saved_bsdf.create_interpolation_enhancement(index_1=1.0, index_2=1.5)\n",
    "print(\n",
    "    previous_settings.get_reflection_interpolation_settings\n",
    ")  # with different index values, a new automatic settings is returned"
   ]
  },
  {
   "cell_type": "code",
   "execution_count": 19,
   "id": "5d9cffd4",
   "metadata": {
    "execution": {
     "iopub.execute_input": "2025-10-10T08:19:50.092992Z",
     "iopub.status.busy": "2025-10-10T08:19:50.092795Z",
     "iopub.status.idle": "2025-10-10T08:19:50.198222Z",
     "shell.execute_reply": "2025-10-10T08:19:50.197505Z"
    }
   },
   "outputs": [
    {
     "data": {
      "text/plain": [
       "True"
      ]
     },
     "execution_count": 19,
     "metadata": {},
     "output_type": "execute_result"
    }
   ],
   "source": [
    "speos.close()"
   ]
  }
 ],
 "metadata": {
  "jupytext": {
   "cell_metadata_filter": "-all",
   "main_language": "python",
   "notebook_metadata_filter": "-all",
   "text_representation": {
    "extension": ".py",
    "format_name": "light"
   }
  },
  "language_info": {
   "codemirror_mode": {
    "name": "ipython",
    "version": 3
   },
   "file_extension": ".py",
   "mimetype": "text/x-python",
   "name": "python",
   "nbconvert_exporter": "python",
   "pygments_lexer": "ipython3",
   "version": "3.10.18"
  }
 },
 "nbformat": 4,
 "nbformat_minor": 5
}
