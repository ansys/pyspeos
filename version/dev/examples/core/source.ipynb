{
 "cells": [
  {
   "cell_type": "markdown",
   "id": "8749f2d7",
   "metadata": {},
   "source": [
    "# How to create a source"
   ]
  },
  {
   "cell_type": "markdown",
   "id": "1ba85405",
   "metadata": {},
   "source": [
    "This tutorial demonstrates how to create a source.\n",
    "\n",
    "There are different type of sources available: luminaire source, surface source, ray file source.\n",
    "\n",
    "## Prerequisites\n",
    "\n",
    "### Perform imports"
   ]
  },
  {
   "cell_type": "code",
   "execution_count": 1,
   "id": "622670f8",
   "metadata": {
    "execution": {
     "iopub.execute_input": "2025-10-10T08:22:34.029028Z",
     "iopub.status.busy": "2025-10-10T08:22:34.028793Z",
     "iopub.status.idle": "2025-10-10T08:22:35.078331Z",
     "shell.execute_reply": "2025-10-10T08:22:35.077399Z"
    }
   },
   "outputs": [],
   "source": [
    "from pathlib import Path\n",
    "\n",
    "from ansys.speos.core import GeoRef, Project, Speos, launcher\n",
    "from ansys.speos.core.source import (\n",
    "    SourceAmbientNaturalLight,\n",
    "    SourceLuminaire,\n",
    "    SourceRayFile,\n",
    "    SourceSurface,\n",
    ")\n"
   ]
  },
  {
   "cell_type": "markdown",
   "id": "f05fb886",
   "metadata": {},
   "source": [
    "### Define constants\n",
    "Constants help ensure consistency and avoid repetition throughout the example."
   ]
  },
  {
   "cell_type": "code",
   "execution_count": 2,
   "id": "e230bae8",
   "metadata": {
    "execution": {
     "iopub.execute_input": "2025-10-10T08:22:35.081459Z",
     "iopub.status.busy": "2025-10-10T08:22:35.081104Z",
     "iopub.status.idle": "2025-10-10T08:22:35.084870Z",
     "shell.execute_reply": "2025-10-10T08:22:35.084140Z"
    }
   },
   "outputs": [],
   "source": [
    "HOSTNAME = \"localhost\"\n",
    "GRPC_PORT = 50098  # Be sure the Speos GRPC Server has been started on this port.\n",
    "USE_DOCKER = True  # Set to False if you're running this example locally as a Notebook.\n",
    "IES = \"IES_C_DETECTOR.ies\""
   ]
  },
  {
   "cell_type": "markdown",
   "id": "8ab12972",
   "metadata": {
    "lines_to_next_cell": 2
   },
   "source": [
    "### Define helper functions"
   ]
  },
  {
   "cell_type": "code",
   "execution_count": 3,
   "id": "79414011",
   "metadata": {
    "execution": {
     "iopub.execute_input": "2025-10-10T08:22:35.086687Z",
     "iopub.status.busy": "2025-10-10T08:22:35.086488Z",
     "iopub.status.idle": "2025-10-10T08:22:35.092224Z",
     "shell.execute_reply": "2025-10-10T08:22:35.091551Z"
    }
   },
   "outputs": [],
   "source": [
    "def create_helper_geometries(project: Project):\n",
    "    \"\"\"Create bodies and faces.\"\"\"\n",
    "\n",
    "    def create_face(body):\n",
    "        (\n",
    "            body.create_face(name=\"TheFaceF\")\n",
    "            .set_vertices([0, 0, 0, 1, 0, 0, 0, 1, 0])\n",
    "            .set_facets([0, 1, 2])\n",
    "            .set_normals([0, 0, 1, 0, 0, 1, 0, 0, 1])\n",
    "            .commit()\n",
    "        )\n",
    "\n",
    "    root_part = project.create_root_part().commit()\n",
    "    body_b1 = root_part.create_body(name=\"TheBodyB\").commit()\n",
    "    body_b2 = root_part.create_body(name=\"TheBodyC\").commit()\n",
    "    body_b3 = root_part.create_body(name=\"TheBodyD\").commit()\n",
    "    body_b4 = root_part.create_body(name=\"TheBodyE\").commit()\n",
    "    for b in [body_b1, body_b2, body_b3, body_b4]:\n",
    "        create_face(b)"
   ]
  },
  {
   "cell_type": "markdown",
   "id": "d0918770",
   "metadata": {},
   "source": [
    "## Model Setup\n",
    "\n",
    "### Load assets\n",
    "The assets used to run this example are available in the\n",
    "[PySpeos repository](https://github.com/ansys/pyspeos/) on GitHub.\n",
    "\n",
    "> **Note:** Make sure you\n",
    "> have downloaded simulation assets and set ``assets_data_path``\n",
    "> to point to the assets folder."
   ]
  },
  {
   "cell_type": "code",
   "execution_count": 4,
   "id": "cfadf109",
   "metadata": {
    "execution": {
     "iopub.execute_input": "2025-10-10T08:22:35.094136Z",
     "iopub.status.busy": "2025-10-10T08:22:35.093946Z",
     "iopub.status.idle": "2025-10-10T08:22:35.097012Z",
     "shell.execute_reply": "2025-10-10T08:22:35.096444Z"
    }
   },
   "outputs": [],
   "source": [
    "if USE_DOCKER:  # Running on the remote server.\n",
    "    assets_data_path = Path(\"/app\") / \"assets\"\n",
    "else:\n",
    "    assets_data_path = Path(\"/path/to/your/download/assets/directory\")"
   ]
  },
  {
   "cell_type": "markdown",
   "id": "744265c7",
   "metadata": {},
   "source": [
    "### Connect to the RPC Server\n",
    "This Python client connects to a server where the Speos engine\n",
    "is running as a service. In this example, the server and\n",
    "client are the same machine. The launch_local_speos_rpc_method can\n",
    "be used to start a local instance of the service."
   ]
  },
  {
   "cell_type": "code",
   "execution_count": 5,
   "id": "f47b82f2",
   "metadata": {
    "execution": {
     "iopub.execute_input": "2025-10-10T08:22:35.098818Z",
     "iopub.status.busy": "2025-10-10T08:22:35.098630Z",
     "iopub.status.idle": "2025-10-10T08:22:35.105646Z",
     "shell.execute_reply": "2025-10-10T08:22:35.104970Z"
    }
   },
   "outputs": [],
   "source": [
    "if USE_DOCKER:\n",
    "    speos = Speos(host=HOSTNAME, port=GRPC_PORT)\n",
    "else:\n",
    "    speos = launcher.launch_local_speos_rpc_server(port=GRPC_PORT)"
   ]
  },
  {
   "cell_type": "markdown",
   "id": "aacef95f",
   "metadata": {},
   "source": [
    "### Create a new project\n",
    "\n",
    "The only way to create a source using the core layer, is to create it from a project.\n",
    "The ``Project`` class is instantiated by passing a ``Speos`` instance"
   ]
  },
  {
   "cell_type": "code",
   "execution_count": 6,
   "id": "95d77684",
   "metadata": {
    "execution": {
     "iopub.execute_input": "2025-10-10T08:22:35.107539Z",
     "iopub.status.busy": "2025-10-10T08:22:35.107328Z",
     "iopub.status.idle": "2025-10-10T08:22:35.116269Z",
     "shell.execute_reply": "2025-10-10T08:22:35.115595Z"
    },
    "lines_to_next_cell": 2
   },
   "outputs": [
    {
     "name": "stdout",
     "output_type": "stream",
     "text": [
      "{\n",
      "    \"name\": \"\",\n",
      "    \"description\": \"\",\n",
      "    \"metadata\": {},\n",
      "    \"part_guid\": \"\",\n",
      "    \"sources\": [],\n",
      "    \"sensors\": [],\n",
      "    \"simulations\": [],\n",
      "    \"materials\": [],\n",
      "    \"scenes\": []\n",
      "}\n"
     ]
    }
   ],
   "source": [
    "p = Project(speos=speos)\n",
    "print(p)"
   ]
  },
  {
   "cell_type": "markdown",
   "id": "d6ad1ef3",
   "metadata": {},
   "source": [
    "### Source Creation\n",
    "\n",
    "**Create locally:**\n",
    "The mention \"local: \" is added when printing the source data and information is not yet\n",
    "pushed to the RPC server"
   ]
  },
  {
   "cell_type": "code",
   "execution_count": 7,
   "id": "19ea1479",
   "metadata": {
    "execution": {
     "iopub.execute_input": "2025-10-10T08:22:35.118178Z",
     "iopub.status.busy": "2025-10-10T08:22:35.117977Z",
     "iopub.status.idle": "2025-10-10T08:22:35.129754Z",
     "shell.execute_reply": "2025-10-10T08:22:35.129034Z"
    }
   },
   "outputs": [
    {
     "name": "stdout",
     "output_type": "stream",
     "text": [
      "local: {\n",
      "    \"name\": \"Luminaire.1\",\n",
      "    \"description\": \"\",\n",
      "    \"metadata\": {},\n",
      "    \"source_guid\": \"\",\n",
      "    \"source\": {\n",
      "        \"name\": \"Luminaire.1\",\n",
      "        \"luminaire\": {\n",
      "            \"flux_from_intensity_file\": {},\n",
      "            \"intensity_file_uri\": \"/app/assets/IES_C_DETECTOR.ies\",\n",
      "            \"spectrum_guid\": \"\",\n",
      "            \"axis_system\": [\n",
      "                0.0,\n",
      "                0.0,\n",
      "                0.0,\n",
      "                1.0,\n",
      "                0.0,\n",
      "                0.0,\n",
      "                0.0,\n",
      "                1.0,\n",
      "                0.0,\n",
      "                0.0,\n",
      "                0.0,\n",
      "                1.0\n",
      "            ]\n",
      "        },\n",
      "        \"description\": \"\",\n",
      "        \"metadata\": {}\n",
      "    }\n",
      "}\n"
     ]
    },
    {
     "name": "stderr",
     "output_type": "stream",
     "text": [
      "/home/runner/work/pyspeos/pyspeos/.venv/lib/python3.10/site-packages/ansys/speos/core/project.py:214: UserWarning: The pySpeos feature : SourceLuminaire needs a Speos Version of 2025 R2 SP0 or higher.\n",
      "  feature = SourceLuminaire(\n"
     ]
    }
   ],
   "source": [
    "intensity_file_path = str(assets_data_path / IES)\n",
    "source1 = p.create_source(name=\"Luminaire.1\", feature_type=SourceLuminaire)  # type luminaire\n",
    "source1.set_intensity_file_uri(uri=intensity_file_path)\n",
    "print(source1)"
   ]
  },
  {
   "cell_type": "markdown",
   "id": "e18d6d23",
   "metadata": {},
   "source": [
    "**Push it to the server.**\n",
    "\n",
    "After it is committed to the server, the mention \"local: \" is no more present when printing the\n",
    "source."
   ]
  },
  {
   "cell_type": "code",
   "execution_count": 8,
   "id": "3dc0a80e",
   "metadata": {
    "execution": {
     "iopub.execute_input": "2025-10-10T08:22:35.131687Z",
     "iopub.status.busy": "2025-10-10T08:22:35.131493Z",
     "iopub.status.idle": "2025-10-10T08:22:35.147221Z",
     "shell.execute_reply": "2025-10-10T08:22:35.146508Z"
    }
   },
   "outputs": [
    {
     "name": "stdout",
     "output_type": "stream",
     "text": [
      "{\n",
      "    \"name\": \"Luminaire.1\",\n",
      "    \"metadata\": {\n",
      "        \"UniqueId\": \"ead2ed7f-e25f-4b57-af60-01c7ecb04076\"\n",
      "    },\n",
      "    \"source_guid\": \"c2956c83-0698-4aec-a139-3e6ecc9089c0\",\n",
      "    \"description\": \"\",\n",
      "    \"source\": {\n",
      "        \"name\": \"Luminaire.1\",\n",
      "        \"luminaire\": {\n",
      "            \"flux_from_intensity_file\": {},\n",
      "            \"intensity_file_uri\": \"/app/assets/IES_C_DETECTOR.ies\",\n",
      "            \"spectrum_guid\": \"9f561efe-6a68-4ad5-ab2f-f1fc019b5e51\",\n",
      "            \"spectrum\": {\n",
      "                \"name\": \"Luminaire.1.Spectrum\",\n",
      "                \"predefined\": {\n",
      "                    \"incandescent\": {}\n",
      "                },\n",
      "                \"description\": \"\",\n",
      "                \"metadata\": {}\n",
      "            },\n",
      "            \"axis_system\": [\n",
      "                0.0,\n",
      "                0.0,\n",
      "                0.0,\n",
      "                1.0,\n",
      "                0.0,\n",
      "                0.0,\n",
      "                0.0,\n",
      "                1.0,\n",
      "                0.0,\n",
      "                0.0,\n",
      "                0.0,\n",
      "                1.0\n",
      "            ]\n",
      "        },\n",
      "        \"description\": \"\",\n",
      "        \"metadata\": {}\n",
      "    }\n",
      "}\n"
     ]
    }
   ],
   "source": [
    "source1.commit()\n",
    "print(source1)"
   ]
  },
  {
   "cell_type": "markdown",
   "id": "71e82593",
   "metadata": {
    "lines_to_next_cell": 2
   },
   "source": [
    "**Changing additional Source Properties**\n",
    "\n",
    "Setting several more characteristics."
   ]
  },
  {
   "cell_type": "code",
   "execution_count": 9,
   "id": "ffe054c0",
   "metadata": {
    "execution": {
     "iopub.execute_input": "2025-10-10T08:22:35.149065Z",
     "iopub.status.busy": "2025-10-10T08:22:35.148855Z",
     "iopub.status.idle": "2025-10-10T08:22:35.180130Z",
     "shell.execute_reply": "2025-10-10T08:22:35.179536Z"
    }
   },
   "outputs": [
    {
     "name": "stdout",
     "output_type": "stream",
     "text": [
      "{\n",
      "    \"name\": \"Luminaire.2\",\n",
      "    \"metadata\": {\n",
      "        \"UniqueId\": \"f7e38234-d800-4cff-a008-153f919fbfed\"\n",
      "    },\n",
      "    \"source_guid\": \"367e8984-76ca-4e7d-a47d-72c6ad62e35a\",\n",
      "    \"description\": \"\",\n",
      "    \"source\": {\n",
      "        \"name\": \"Luminaire.2\",\n",
      "        \"luminaire\": {\n",
      "            \"radiant_flux\": {\n",
      "                \"radiant_value\": 1.0\n",
      "            },\n",
      "            \"intensity_file_uri\": \"/app/assets/IES_C_DETECTOR.ies\",\n",
      "            \"spectrum_guid\": \"09314b59-3904-4983-a181-08767c9050fa\",\n",
      "            \"spectrum\": {\n",
      "                \"name\": \"Luminaire.2.Spectrum\",\n",
      "                \"blackbody\": {\n",
      "                    \"temperature\": 2856.0\n",
      "                },\n",
      "                \"description\": \"\",\n",
      "                \"metadata\": {}\n",
      "            },\n",
      "            \"axis_system\": [\n",
      "                20.0,\n",
      "                50.0,\n",
      "                10.0,\n",
      "                1.0,\n",
      "                0.0,\n",
      "                0.0,\n",
      "                0.0,\n",
      "                1.0,\n",
      "                0.0,\n",
      "                0.0,\n",
      "                0.0,\n",
      "                1.0\n",
      "            ]\n",
      "        },\n",
      "        \"description\": \"\",\n",
      "        \"metadata\": {}\n",
      "    }\n",
      "}\n"
     ]
    }
   ],
   "source": [
    "intensity_file_path = str(assets_data_path / IES)\n",
    "source2 = p.create_source(name=\"Luminaire.2\", feature_type=SourceLuminaire)\n",
    "source2.set_intensity_file_uri(uri=intensity_file_path)\n",
    "source2.set_flux_radiant()  # select flux radiant with default value\n",
    "# choose the source location [Origin, Xvector, Yvector, Zvector]\n",
    "source2.set_axis_system(axis_system=[20, 50, 10, 1, 0, 0, 0, 1, 0, 0, 0, 1])\n",
    "source2.set_spectrum().set_blackbody()  # choose blackbody with default value for the spectrum\n",
    "source2.commit()  # Push to the server\n",
    "print(source2)"
   ]
  },
  {
   "cell_type": "markdown",
   "id": "e8953a03",
   "metadata": {},
   "source": [
    "**Source Instance**\n",
    "\n",
    "As mention \"local: \" is added if it is not yet committed to the server."
   ]
  },
  {
   "cell_type": "code",
   "execution_count": 10,
   "id": "515df049",
   "metadata": {
    "execution": {
     "iopub.execute_input": "2025-10-10T08:22:35.182117Z",
     "iopub.status.busy": "2025-10-10T08:22:35.181918Z",
     "iopub.status.idle": "2025-10-10T08:22:35.190133Z",
     "shell.execute_reply": "2025-10-10T08:22:35.189551Z"
    }
   },
   "outputs": [
    {
     "name": "stdout",
     "output_type": "stream",
     "text": [
      "{\n",
      "    \"name\": \"Luminaire.1\",\n",
      "    \"metadata\": {\n",
      "        \"UniqueId\": \"ead2ed7f-e25f-4b57-af60-01c7ecb04076\"\n",
      "    },\n",
      "    \"source_guid\": \"c2956c83-0698-4aec-a139-3e6ecc9089c0\",\n",
      "    \"description\": \"\",\n",
      "    \"source\": {\n",
      "        \"name\": \"Luminaire.1\",\n",
      "        \"luminaire\": {\n",
      "            \"flux_from_intensity_file\": {},\n",
      "            \"intensity_file_uri\": \"/app/assets/IES_C_DETECTOR.ies\",\n",
      "            \"spectrum_guid\": \"9f561efe-6a68-4ad5-ab2f-f1fc019b5e51\",\n",
      "            \"spectrum\": {\n",
      "                \"name\": \"Luminaire.1.Spectrum\",\n",
      "                \"predefined\": {\n",
      "                    \"incandescent\": {}\n",
      "                },\n",
      "                \"description\": \"\",\n",
      "                \"metadata\": {}\n",
      "            },\n",
      "            \"axis_system\": [\n",
      "                0.0,\n",
      "                0.0,\n",
      "                0.0,\n",
      "                1.0,\n",
      "                0.0,\n",
      "                0.0,\n",
      "                0.0,\n",
      "                1.0,\n",
      "                0.0,\n",
      "                0.0,\n",
      "                0.0,\n",
      "                1.0\n",
      "            ]\n",
      "        },\n",
      "        \"description\": \"\",\n",
      "        \"metadata\": {}\n",
      "    }\n",
      "}\n"
     ]
    }
   ],
   "source": [
    "print(source1)"
   ]
  },
  {
   "cell_type": "markdown",
   "id": "ac64de17",
   "metadata": {},
   "source": [
    "**Project:**\n",
    "\n",
    "Committed feature will appear inside the project information."
   ]
  },
  {
   "cell_type": "code",
   "execution_count": 11,
   "id": "b75fa292",
   "metadata": {
    "execution": {
     "iopub.execute_input": "2025-10-10T08:22:35.191975Z",
     "iopub.status.busy": "2025-10-10T08:22:35.191784Z",
     "iopub.status.idle": "2025-10-10T08:22:35.203548Z",
     "shell.execute_reply": "2025-10-10T08:22:35.202940Z"
    }
   },
   "outputs": [
    {
     "name": "stdout",
     "output_type": "stream",
     "text": [
      "{\n",
      "    \"sources\": [\n",
      "        {\n",
      "            \"name\": \"Luminaire.1\",\n",
      "            \"metadata\": {\n",
      "                \"UniqueId\": \"ead2ed7f-e25f-4b57-af60-01c7ecb04076\"\n",
      "            },\n",
      "            \"source_guid\": \"c2956c83-0698-4aec-a139-3e6ecc9089c0\",\n",
      "            \"description\": \"\",\n",
      "            \"source\": {\n",
      "                \"name\": \"Luminaire.1\",\n",
      "                \"luminaire\": {\n",
      "                    \"flux_from_intensity_file\": {},\n",
      "                    \"intensity_file_uri\": \"/app/assets/IES_C_DETECTOR.ies\",\n",
      "                    \"spectrum_guid\": \"9f561efe-6a68-4ad5-ab2f-f1fc019b5e51\",\n",
      "                    \"spectrum\": {\n",
      "                        \"name\": \"Luminaire.1.Spectrum\",\n",
      "                        \"predefined\": {\n",
      "                            \"incandescent\": {}\n",
      "                        },\n",
      "                        \"description\": \"\",\n",
      "                        \"metadata\": {}\n",
      "                    },\n",
      "                    \"axis_system\": [\n",
      "                        0.0,\n",
      "                        0.0,\n",
      "                        0.0,\n",
      "                        1.0,\n",
      "                        0.0,\n",
      "                        0.0,\n",
      "                        0.0,\n",
      "                        1.0,\n",
      "                        0.0,\n",
      "                        0.0,\n",
      "                        0.0,\n",
      "                        1.0\n",
      "                    ]\n",
      "                },\n",
      "                \"description\": \"\",\n",
      "                \"metadata\": {}\n",
      "            }\n",
      "        },\n",
      "        {\n",
      "            \"name\": \"Luminaire.2\",\n",
      "            \"metadata\": {\n",
      "                \"UniqueId\": \"f7e38234-d800-4cff-a008-153f919fbfed\"\n",
      "            },\n",
      "            \"source_guid\": \"367e8984-76ca-4e7d-a47d-72c6ad62e35a\",\n",
      "            \"description\": \"\",\n",
      "            \"source\": {\n",
      "                \"name\": \"Luminaire.2\",\n",
      "                \"luminaire\": {\n",
      "                    \"radiant_flux\": {\n",
      "                        \"radiant_value\": 1.0\n",
      "                    },\n",
      "                    \"intensity_file_uri\": \"/app/assets/IES_C_DETECTOR.ies\",\n",
      "                    \"spectrum_guid\": \"09314b59-3904-4983-a181-08767c9050fa\",\n",
      "                    \"spectrum\": {\n",
      "                        \"name\": \"Luminaire.2.Spectrum\",\n",
      "                        \"blackbody\": {\n",
      "                            \"temperature\": 2856.0\n",
      "                        },\n",
      "                        \"description\": \"\",\n",
      "                        \"metadata\": {}\n",
      "                    },\n",
      "                    \"axis_system\": [\n",
      "                        20.0,\n",
      "                        50.0,\n",
      "                        10.0,\n",
      "                        1.0,\n",
      "                        0.0,\n",
      "                        0.0,\n",
      "                        0.0,\n",
      "                        1.0,\n",
      "                        0.0,\n",
      "                        0.0,\n",
      "                        0.0,\n",
      "                        1.0\n",
      "                    ]\n",
      "                },\n",
      "                \"description\": \"\",\n",
      "                \"metadata\": {}\n",
      "            }\n",
      "        }\n",
      "    ],\n",
      "    \"name\": \"\",\n",
      "    \"description\": \"\",\n",
      "    \"metadata\": {},\n",
      "    \"part_guid\": \"\",\n",
      "    \"sensors\": [],\n",
      "    \"simulations\": [],\n",
      "    \"materials\": [],\n",
      "    \"scenes\": []\n",
      "}\n"
     ]
    }
   ],
   "source": [
    "print(p)"
   ]
  },
  {
   "cell_type": "markdown",
   "id": "c9c99706",
   "metadata": {},
   "source": [
    "**Update:**\n",
    "\n",
    "> **Note:** If you are manipulating a source already committed, don't forget to commit your\n",
    "> changes.\n",
    "> If you don't, you will still only watch what is committed on the server."
   ]
  },
  {
   "cell_type": "code",
   "execution_count": 12,
   "id": "0fd15594",
   "metadata": {
    "execution": {
     "iopub.execute_input": "2025-10-10T08:22:35.205388Z",
     "iopub.status.busy": "2025-10-10T08:22:35.205157Z",
     "iopub.status.idle": "2025-10-10T08:22:35.225571Z",
     "shell.execute_reply": "2025-10-10T08:22:35.224914Z"
    }
   },
   "outputs": [
    {
     "name": "stdout",
     "output_type": "stream",
     "text": [
      "{\n",
      "    \"name\": \"Luminaire.1\",\n",
      "    \"metadata\": {\n",
      "        \"UniqueId\": \"ead2ed7f-e25f-4b57-af60-01c7ecb04076\"\n",
      "    },\n",
      "    \"source_guid\": \"c2956c83-0698-4aec-a139-3e6ecc9089c0\",\n",
      "    \"description\": \"\",\n",
      "    \"source\": {\n",
      "        \"name\": \"Luminaire.1\",\n",
      "        \"luminaire\": {\n",
      "            \"radiant_flux\": {\n",
      "                \"radiant_value\": 1.2\n",
      "            },\n",
      "            \"intensity_file_uri\": \"/app/assets/IES_C_DETECTOR.ies\",\n",
      "            \"spectrum_guid\": \"9f561efe-6a68-4ad5-ab2f-f1fc019b5e51\",\n",
      "            \"spectrum\": {\n",
      "                \"name\": \"Luminaire.1.Spectrum\",\n",
      "                \"predefined\": {\n",
      "                    \"halogen\": {}\n",
      "                },\n",
      "                \"description\": \"\",\n",
      "                \"metadata\": {}\n",
      "            },\n",
      "            \"axis_system\": [\n",
      "                17.0,\n",
      "                10.0,\n",
      "                10.0,\n",
      "                1.0,\n",
      "                0.0,\n",
      "                0.0,\n",
      "                0.0,\n",
      "                1.0,\n",
      "                0.0,\n",
      "                0.0,\n",
      "                0.0,\n",
      "                1.0\n",
      "            ]\n",
      "        },\n",
      "        \"description\": \"\",\n",
      "        \"metadata\": {}\n",
      "    }\n",
      "}\n"
     ]
    }
   ],
   "source": [
    "source1.set_flux_radiant(value=1.2)  # modify radiant flux value\n",
    "source1.set_axis_system(axis_system=[17, 10, 10, 1, 0, 0, 0, 1, 0, 0, 0, 1])  # modify axis system\n",
    "source1.set_spectrum().set_halogen()  # modify spectrum by choosing halogen\n",
    "source1.commit()  # Push changes to the server\n",
    "print(source1)"
   ]
  },
  {
   "cell_type": "markdown",
   "id": "5d7a530c",
   "metadata": {},
   "source": [
    "**Reset**\n",
    "\n",
    "Possibility to reset local values from the one available in the server."
   ]
  },
  {
   "cell_type": "code",
   "execution_count": 13,
   "id": "fc19170e",
   "metadata": {
    "execution": {
     "iopub.execute_input": "2025-10-10T08:22:35.227468Z",
     "iopub.status.busy": "2025-10-10T08:22:35.227227Z",
     "iopub.status.idle": "2025-10-10T08:22:35.241474Z",
     "shell.execute_reply": "2025-10-10T08:22:35.240749Z"
    },
    "lines_to_next_cell": 2
   },
   "outputs": [
    {
     "name": "stdout",
     "output_type": "stream",
     "text": [
      "local: {\n",
      "    \"name\": \"Luminaire.1\",\n",
      "    \"description\": \"\",\n",
      "    \"metadata\": {},\n",
      "    \"source_guid\": \"\",\n",
      "    \"source\": {\n",
      "        \"name\": \"Luminaire.1\",\n",
      "        \"luminaire\": {\n",
      "            \"radiant_flux\": {\n",
      "                \"radiant_value\": 1.2\n",
      "            },\n",
      "            \"intensity_file_uri\": \"/app/assets/IES_C_DETECTOR.ies\",\n",
      "            \"spectrum_guid\": \"9f561efe-6a68-4ad5-ab2f-f1fc019b5e51\",\n",
      "            \"spectrum\": {\n",
      "                \"name\": \"Luminaire.1.Spectrum\",\n",
      "                \"predefined\": {\n",
      "                    \"halogen\": {}\n",
      "                },\n",
      "                \"description\": \"\",\n",
      "                \"metadata\": {}\n",
      "            },\n",
      "            \"axis_system\": [\n",
      "                17.0,\n",
      "                10.0,\n",
      "                10.0,\n",
      "                1.0,\n",
      "                0.0,\n",
      "                0.0,\n",
      "                0.0,\n",
      "                1.0,\n",
      "                0.0,\n",
      "                0.0,\n",
      "                0.0,\n",
      "                1.0\n",
      "            ]\n",
      "        },\n",
      "        \"description\": \"\",\n",
      "        \"metadata\": {}\n",
      "    }\n",
      "}\n"
     ]
    }
   ],
   "source": [
    "source1.set_flux_luminous()  # modify to luminous flux BUT no commit\n",
    "source1.reset()\n",
    "# reset -> this will apply the server value to the local value the local value will be back to\n",
    "# halogen\n",
    "source1.delete()  # delete (to display the local value with the below print)\n",
    "print(source1)"
   ]
  },
  {
   "cell_type": "markdown",
   "id": "aa69a260",
   "metadata": {},
   "source": [
    "**Delete**\n",
    "\n",
    "Once the data is deleted from the server, you can still work with local data and maybe commit\n",
    "later."
   ]
  },
  {
   "cell_type": "code",
   "execution_count": 14,
   "id": "cc1492b2",
   "metadata": {
    "execution": {
     "iopub.execute_input": "2025-10-10T08:22:35.243568Z",
     "iopub.status.busy": "2025-10-10T08:22:35.243376Z",
     "iopub.status.idle": "2025-10-10T08:22:35.250708Z",
     "shell.execute_reply": "2025-10-10T08:22:35.250115Z"
    }
   },
   "outputs": [
    {
     "name": "stdout",
     "output_type": "stream",
     "text": [
      "local: {\n",
      "    \"name\": \"Luminaire.2\",\n",
      "    \"description\": \"\",\n",
      "    \"metadata\": {},\n",
      "    \"source_guid\": \"\",\n",
      "    \"source\": {\n",
      "        \"name\": \"Luminaire.2\",\n",
      "        \"luminaire\": {\n",
      "            \"radiant_flux\": {\n",
      "                \"radiant_value\": 1.0\n",
      "            },\n",
      "            \"intensity_file_uri\": \"/app/assets/IES_C_DETECTOR.ies\",\n",
      "            \"spectrum_guid\": \"09314b59-3904-4983-a181-08767c9050fa\",\n",
      "            \"spectrum\": {\n",
      "                \"name\": \"Luminaire.2.Spectrum\",\n",
      "                \"blackbody\": {\n",
      "                    \"temperature\": 2856.0\n",
      "                },\n",
      "                \"description\": \"\",\n",
      "                \"metadata\": {}\n",
      "            },\n",
      "            \"axis_system\": [\n",
      "                20.0,\n",
      "                50.0,\n",
      "                10.0,\n",
      "                1.0,\n",
      "                0.0,\n",
      "                0.0,\n",
      "                0.0,\n",
      "                1.0,\n",
      "                0.0,\n",
      "                0.0,\n",
      "                0.0,\n",
      "                1.0\n",
      "            ]\n",
      "        },\n",
      "        \"description\": \"\",\n",
      "        \"metadata\": {}\n",
      "    }\n",
      "}\n",
      "{\n",
      "    \"name\": \"\",\n",
      "    \"description\": \"\",\n",
      "    \"metadata\": {},\n",
      "    \"part_guid\": \"\",\n",
      "    \"sources\": [],\n",
      "    \"sensors\": [],\n",
      "    \"simulations\": [],\n",
      "    \"materials\": [],\n",
      "    \"scenes\": []\n",
      "}\n"
     ]
    }
   ],
   "source": [
    "source2.delete()\n",
    "print(source2)\n",
    "source1.delete()\n",
    "print(p)"
   ]
  },
  {
   "cell_type": "markdown",
   "id": "fb2a0b5a",
   "metadata": {},
   "source": [
    "## Other Sources Examples"
   ]
  },
  {
   "cell_type": "markdown",
   "id": "9a9678eb",
   "metadata": {},
   "source": [
    "### Ray-file source"
   ]
  },
  {
   "cell_type": "code",
   "execution_count": 15,
   "id": "e2a9e113",
   "metadata": {
    "execution": {
     "iopub.execute_input": "2025-10-10T08:22:35.252898Z",
     "iopub.status.busy": "2025-10-10T08:22:35.252698Z",
     "iopub.status.idle": "2025-10-10T08:22:35.269918Z",
     "shell.execute_reply": "2025-10-10T08:22:35.269037Z"
    }
   },
   "outputs": [
    {
     "name": "stdout",
     "output_type": "stream",
     "text": [
      "{\n",
      "    \"name\": \"Ray-file.1\",\n",
      "    \"metadata\": {\n",
      "        \"UniqueId\": \"1b26b000-f5a0-4966-9cb7-af07135779f4\"\n",
      "    },\n",
      "    \"source_guid\": \"fa3d6056-0b81-4383-98ae-0b060b8d6966\",\n",
      "    \"description\": \"\",\n",
      "    \"source\": {\n",
      "        \"name\": \"Ray-file.1\",\n",
      "        \"rayfile\": {\n",
      "            \"ray_file_uri\": \"/app/assets/Rays.ray\",\n",
      "            \"flux_from_ray_file\": {},\n",
      "            \"spectrum_from_ray_file\": {},\n",
      "            \"axis_system\": [\n",
      "                0.0,\n",
      "                0.0,\n",
      "                0.0,\n",
      "                1.0,\n",
      "                0.0,\n",
      "                0.0,\n",
      "                0.0,\n",
      "                1.0,\n",
      "                0.0,\n",
      "                0.0,\n",
      "                0.0,\n",
      "                1.0\n",
      "            ]\n",
      "        },\n",
      "        \"description\": \"\",\n",
      "        \"metadata\": {}\n",
      "    }\n",
      "}\n"
     ]
    },
    {
     "name": "stderr",
     "output_type": "stream",
     "text": [
      "/home/runner/work/pyspeos/pyspeos/.venv/lib/python3.10/site-packages/ansys/speos/core/project.py:207: UserWarning: The pySpeos feature : SourceRayFile needs a Speos Version of 2025 R2 SP0 or higher.\n",
      "  feature = SourceRayFile(\n"
     ]
    }
   ],
   "source": [
    "ray_file_path = str(assets_data_path / \"Rays.ray\")\n",
    "\n",
    "source3 = p.create_source(name=\"Ray-file.1\", feature_type=SourceRayFile)  # type ray file\n",
    "source3.set_ray_file_uri(uri=ray_file_path)\n",
    "source3.commit()\n",
    "print(source3)"
   ]
  },
  {
   "cell_type": "code",
   "execution_count": 16,
   "id": "923e132c",
   "metadata": {
    "execution": {
     "iopub.execute_input": "2025-10-10T08:22:35.271900Z",
     "iopub.status.busy": "2025-10-10T08:22:35.271703Z",
     "iopub.status.idle": "2025-10-10T08:22:35.279483Z",
     "shell.execute_reply": "2025-10-10T08:22:35.278796Z"
    }
   },
   "outputs": [
    {
     "name": "stdout",
     "output_type": "stream",
     "text": [
      "{\n",
      "    \"name\": \"Ray-file.1\",\n",
      "    \"metadata\": {\n",
      "        \"UniqueId\": \"1b26b000-f5a0-4966-9cb7-af07135779f4\"\n",
      "    },\n",
      "    \"source_guid\": \"fa3d6056-0b81-4383-98ae-0b060b8d6966\",\n",
      "    \"description\": \"\",\n",
      "    \"source\": {\n",
      "        \"name\": \"Ray-file.1\",\n",
      "        \"rayfile\": {\n",
      "            \"ray_file_uri\": \"/app/assets/Rays.ray\",\n",
      "            \"luminous_flux\": {\n",
      "                \"luminous_value\": 683.0\n",
      "            },\n",
      "            \"spectrum_from_ray_file\": {},\n",
      "            \"axis_system\": [\n",
      "                0.0,\n",
      "                0.0,\n",
      "                0.0,\n",
      "                1.0,\n",
      "                0.0,\n",
      "                0.0,\n",
      "                0.0,\n",
      "                1.0,\n",
      "                0.0,\n",
      "                0.0,\n",
      "                0.0,\n",
      "                1.0\n",
      "            ]\n",
      "        },\n",
      "        \"description\": \"\",\n",
      "        \"metadata\": {}\n",
      "    }\n",
      "}\n"
     ]
    }
   ],
   "source": [
    "source3.set_flux_luminous()\n",
    "source3.commit()\n",
    "print(source3)"
   ]
  },
  {
   "cell_type": "code",
   "execution_count": 17,
   "id": "2b192832",
   "metadata": {
    "execution": {
     "iopub.execute_input": "2025-10-10T08:22:35.281494Z",
     "iopub.status.busy": "2025-10-10T08:22:35.281304Z",
     "iopub.status.idle": "2025-10-10T08:22:35.288777Z",
     "shell.execute_reply": "2025-10-10T08:22:35.288207Z"
    }
   },
   "outputs": [
    {
     "data": {
      "text/plain": [
       "<ansys.speos.core.source.SourceRayFile at 0x7f3ffcdef700>"
      ]
     },
     "execution_count": 17,
     "metadata": {},
     "output_type": "execute_result"
    }
   ],
   "source": [
    "source3.delete()"
   ]
  },
  {
   "cell_type": "markdown",
   "id": "13a0bde7",
   "metadata": {},
   "source": [
    "### Surface source"
   ]
  },
  {
   "cell_type": "code",
   "execution_count": 18,
   "id": "4f8e3671",
   "metadata": {
    "execution": {
     "iopub.execute_input": "2025-10-10T08:22:35.290720Z",
     "iopub.status.busy": "2025-10-10T08:22:35.290474Z",
     "iopub.status.idle": "2025-10-10T08:22:35.349124Z",
     "shell.execute_reply": "2025-10-10T08:22:35.348394Z"
    }
   },
   "outputs": [
    {
     "name": "stderr",
     "output_type": "stream",
     "text": [
      "/home/runner/work/pyspeos/pyspeos/.venv/lib/python3.10/site-packages/ansys/speos/core/project.py:200: UserWarning: The pySpeos feature : SourceSurface needs a Speos Version of 2025 R2 SP0 or higher.\n",
      "  feature = SourceSurface(\n"
     ]
    },
    {
     "name": "stdout",
     "output_type": "stream",
     "text": [
      "{\n",
      "    \"name\": \"Surface.1\",\n",
      "    \"metadata\": {\n",
      "        \"UniqueId\": \"f60fd13c-3db4-44f9-bc66-ce17deec391a\"\n",
      "    },\n",
      "    \"source_guid\": \"91c6e210-8cd4-4137-889c-b2acd03648c4\",\n",
      "    \"description\": \"\",\n",
      "    \"source\": {\n",
      "        \"name\": \"Surface.1\",\n",
      "        \"surface\": {\n",
      "            \"luminous_flux\": {\n",
      "                \"luminous_value\": 683.0\n",
      "            },\n",
      "            \"intensity_guid\": \"fab1785e-4c47-4037-a0a7-ee601f442c4c\",\n",
      "            \"exitance_constant\": {\n",
      "                \"geo_paths\": [\n",
      "                    {\n",
      "                        \"geo_path\": \"TheBodyB/TheFaceF\",\n",
      "                        \"reverse_normal\": false\n",
      "                    },\n",
      "                    {\n",
      "                        \"geo_path\": \"TheBodyC/TheFaceF\",\n",
      "                        \"reverse_normal\": true\n",
      "                    }\n",
      "                ]\n",
      "            },\n",
      "            \"spectrum_guid\": \"eea49e23-c01b-492b-9401-f6b5dd383daa\",\n",
      "            \"intensity\": {\n",
      "                \"name\": \"Surface.1.Intensity\",\n",
      "                \"cos\": {\n",
      "                    \"N\": 1.0,\n",
      "                    \"total_angle\": 180.0\n",
      "                },\n",
      "                \"description\": \"\",\n",
      "                \"metadata\": {}\n",
      "            },\n",
      "            \"spectrum\": {\n",
      "                \"name\": \"Surface.1.Spectrum\",\n",
      "                \"monochromatic\": {\n",
      "                    \"wavelength\": 555.0\n",
      "                },\n",
      "                \"description\": \"\",\n",
      "                \"metadata\": {}\n",
      "            }\n",
      "        },\n",
      "        \"description\": \"\",\n",
      "        \"metadata\": {}\n",
      "    }\n",
      "}\n"
     ]
    }
   ],
   "source": [
    "create_helper_geometries(p)\n",
    "source4 = p.create_source(name=\"Surface.1\", feature_type=SourceSurface)\n",
    "source4.set_exitance_constant(\n",
    "    geometries=[\n",
    "        (GeoRef.from_native_link(\"TheBodyB/TheFaceF\"), False),\n",
    "        (GeoRef.from_native_link(\"TheBodyC/TheFaceF\"), True),\n",
    "    ]\n",
    ")\n",
    "source4.commit()\n",
    "print(source4)"
   ]
  },
  {
   "cell_type": "code",
   "execution_count": 19,
   "id": "b8c3034c",
   "metadata": {
    "execution": {
     "iopub.execute_input": "2025-10-10T08:22:35.351384Z",
     "iopub.status.busy": "2025-10-10T08:22:35.351148Z",
     "iopub.status.idle": "2025-10-10T08:22:35.391510Z",
     "shell.execute_reply": "2025-10-10T08:22:35.390747Z"
    }
   },
   "outputs": [
    {
     "name": "stdout",
     "output_type": "stream",
     "text": [
      "{\n",
      "    \"name\": \"Surface.1\",\n",
      "    \"metadata\": {\n",
      "        \"UniqueId\": \"f60fd13c-3db4-44f9-bc66-ce17deec391a\"\n",
      "    },\n",
      "    \"source_guid\": \"91c6e210-8cd4-4137-889c-b2acd03648c4\",\n",
      "    \"description\": \"\",\n",
      "    \"source\": {\n",
      "        \"name\": \"Surface.1\",\n",
      "        \"surface\": {\n",
      "            \"luminous_intensity_flux\": {\n",
      "                \"luminous_intensity_value\": 5.0\n",
      "            },\n",
      "            \"intensity_guid\": \"fab1785e-4c47-4037-a0a7-ee601f442c4c\",\n",
      "            \"exitance_constant\": {\n",
      "                \"geo_paths\": [\n",
      "                    {\n",
      "                        \"geo_path\": \"TheBodyB/TheFaceF\",\n",
      "                        \"reverse_normal\": false\n",
      "                    },\n",
      "                    {\n",
      "                        \"geo_path\": \"TheBodyC/TheFaceF\",\n",
      "                        \"reverse_normal\": true\n",
      "                    }\n",
      "                ]\n",
      "            },\n",
      "            \"spectrum_guid\": \"eea49e23-c01b-492b-9401-f6b5dd383daa\",\n",
      "            \"intensity\": {\n",
      "                \"name\": \"Surface.1.Intensity\",\n",
      "                \"gaussian\": {\n",
      "                    \"FWHM_angle_x\": 30.0,\n",
      "                    \"FWHM_angle_y\": 30.0,\n",
      "                    \"total_angle\": 180.0,\n",
      "                    \"axis_system\": [\n",
      "                        10.0,\n",
      "                        50.0,\n",
      "                        20.0,\n",
      "                        1.0,\n",
      "                        0.0,\n",
      "                        0.0,\n",
      "                        0.0,\n",
      "                        1.0,\n",
      "                        0.0,\n",
      "                        0.0,\n",
      "                        0.0,\n",
      "                        1.0\n",
      "                    ]\n",
      "                },\n",
      "                \"description\": \"\",\n",
      "                \"metadata\": {}\n",
      "            },\n",
      "            \"spectrum\": {\n",
      "                \"name\": \"Surface.1.Spectrum\",\n",
      "                \"monochromatic\": {\n",
      "                    \"wavelength\": 555.0\n",
      "                },\n",
      "                \"description\": \"\",\n",
      "                \"metadata\": {}\n",
      "            }\n",
      "        },\n",
      "        \"description\": \"\",\n",
      "        \"metadata\": {}\n",
      "    }\n",
      "}\n"
     ]
    }
   ],
   "source": [
    "source4.set_flux_luminous_intensity()\n",
    "source4.set_intensity().set_gaussian().set_axis_system(\n",
    "    axis_system=[10, 50, 20, 1, 0, 0, 0, 1, 0, 0, 0, 1]\n",
    ")\n",
    "source4.commit()\n",
    "print(source4)"
   ]
  },
  {
   "cell_type": "code",
   "execution_count": 20,
   "id": "714dafbf",
   "metadata": {
    "execution": {
     "iopub.execute_input": "2025-10-10T08:22:35.393417Z",
     "iopub.status.busy": "2025-10-10T08:22:35.393199Z",
     "iopub.status.idle": "2025-10-10T08:22:35.404373Z",
     "shell.execute_reply": "2025-10-10T08:22:35.403677Z"
    }
   },
   "outputs": [
    {
     "name": "stdout",
     "output_type": "stream",
     "text": [
      "local: {\n",
      "    \"name\": \"Surface.1\",\n",
      "    \"description\": \"\",\n",
      "    \"metadata\": {},\n",
      "    \"source_guid\": \"\",\n",
      "    \"source\": {\n",
      "        \"name\": \"Surface.1\",\n",
      "        \"surface\": {\n",
      "            \"luminous_intensity_flux\": {\n",
      "                \"luminous_intensity_value\": 5.0\n",
      "            },\n",
      "            \"intensity_guid\": \"fab1785e-4c47-4037-a0a7-ee601f442c4c\",\n",
      "            \"exitance_constant\": {\n",
      "                \"geo_paths\": [\n",
      "                    {\n",
      "                        \"geo_path\": \"TheBodyB/TheFaceF\",\n",
      "                        \"reverse_normal\": false\n",
      "                    },\n",
      "                    {\n",
      "                        \"geo_path\": \"TheBodyC/TheFaceF\",\n",
      "                        \"reverse_normal\": true\n",
      "                    }\n",
      "                ]\n",
      "            },\n",
      "            \"spectrum_guid\": \"eea49e23-c01b-492b-9401-f6b5dd383daa\",\n",
      "            \"intensity\": {\n",
      "                \"name\": \"Surface.1.Intensity\",\n",
      "                \"gaussian\": {\n",
      "                    \"FWHM_angle_x\": 30.0,\n",
      "                    \"FWHM_angle_y\": 30.0,\n",
      "                    \"total_angle\": 180.0,\n",
      "                    \"axis_system\": [\n",
      "                        10.0,\n",
      "                        50.0,\n",
      "                        20.0,\n",
      "                        1.0,\n",
      "                        0.0,\n",
      "                        0.0,\n",
      "                        0.0,\n",
      "                        1.0,\n",
      "                        0.0,\n",
      "                        0.0,\n",
      "                        0.0,\n",
      "                        1.0\n",
      "                    ]\n",
      "                },\n",
      "                \"description\": \"\",\n",
      "                \"metadata\": {}\n",
      "            },\n",
      "            \"spectrum\": {\n",
      "                \"name\": \"Surface.1.Spectrum\",\n",
      "                \"monochromatic\": {\n",
      "                    \"wavelength\": 555.0\n",
      "                },\n",
      "                \"description\": \"\",\n",
      "                \"metadata\": {}\n",
      "            }\n",
      "        },\n",
      "        \"description\": \"\",\n",
      "        \"metadata\": {}\n",
      "    }\n",
      "}\n"
     ]
    }
   ],
   "source": [
    "source4.delete()\n",
    "print(source4)"
   ]
  },
  {
   "cell_type": "markdown",
   "id": "70f2d830",
   "metadata": {},
   "source": [
    "### Ambient natural light source"
   ]
  },
  {
   "cell_type": "code",
   "execution_count": 21,
   "id": "252c4384",
   "metadata": {
    "execution": {
     "iopub.execute_input": "2025-10-10T08:22:35.406315Z",
     "iopub.status.busy": "2025-10-10T08:22:35.406062Z",
     "iopub.status.idle": "2025-10-10T08:22:35.446024Z",
     "shell.execute_reply": "2025-10-10T08:22:35.445273Z"
    }
   },
   "outputs": [
    {
     "name": "stdout",
     "output_type": "stream",
     "text": [
      "[0.0, 0.0, 1.0]\n",
      "[0.0, 1.0, 0.0]\n",
      "local: {\n",
      "    \"name\": \"NaturalLight.1\",\n",
      "    \"description\": \"\",\n",
      "    \"metadata\": {},\n",
      "    \"source_guid\": \"\",\n",
      "    \"source\": {\n",
      "        \"name\": \"NaturalLight.1\",\n",
      "        \"ambient\": {\n",
      "            \"natural_light\": {\n",
      "                \"turbidity\": 4.0,\n",
      "                \"with_sky\": true,\n",
      "                \"north_direction\": [\n",
      "                    0.0,\n",
      "                    1.0,\n",
      "                    0.0\n",
      "                ],\n",
      "                \"reverse_north\": true,\n",
      "                \"sun_axis_system\": {\n",
      "                    \"automatic_sun\": {\n",
      "                        \"time_zone_uri\": \"CET\",\n",
      "                        \"year\": 2025,\n",
      "                        \"month\": 10,\n",
      "                        \"day\": 10,\n",
      "                        \"hour\": 8,\n",
      "                        \"minute\": 22,\n",
      "                        \"longitude\": 0.0,\n",
      "                        \"latitude\": 0.0\n",
      "                    }\n",
      "                }\n",
      "            },\n",
      "            \"zenith_direction\": [\n",
      "                0.0,\n",
      "                0.0,\n",
      "                1.0\n",
      "            ],\n",
      "            \"reverse_zenith\": false\n",
      "        },\n",
      "        \"description\": \"\",\n",
      "        \"metadata\": {}\n",
      "    }\n",
      "}\n"
     ]
    },
    {
     "name": "stdout",
     "output_type": "stream",
     "text": [
      "{\n",
      "    \"name\": \"NaturalLight.1\",\n",
      "    \"metadata\": {\n",
      "        \"UniqueId\": \"49742177-8fe1-411e-a373-db7a694c0489\"\n",
      "    },\n",
      "    \"source_guid\": \"097e4144-de28-4a30-8b0e-4e5512298d36\",\n",
      "    \"description\": \"\",\n",
      "    \"source\": {\n",
      "        \"name\": \"NaturalLight.1\",\n",
      "        \"ambient\": {\n",
      "            \"natural_light\": {\n",
      "                \"turbidity\": 4.0,\n",
      "                \"with_sky\": true,\n",
      "                \"north_direction\": [\n",
      "                    0.0,\n",
      "                    1.0,\n",
      "                    0.0\n",
      "                ],\n",
      "                \"reverse_north\": true,\n",
      "                \"sun_axis_system\": {\n",
      "                    \"automatic_sun\": {\n",
      "                        \"time_zone_uri\": \"CET\",\n",
      "                        \"year\": 2025,\n",
      "                        \"month\": 10,\n",
      "                        \"day\": 10,\n",
      "                        \"hour\": 8,\n",
      "                        \"minute\": 22,\n",
      "                        \"longitude\": 0.0,\n",
      "                        \"latitude\": 0.0\n",
      "                    }\n",
      "                }\n",
      "            },\n",
      "            \"zenith_direction\": [\n",
      "                0.0,\n",
      "                0.0,\n",
      "                1.0\n",
      "            ],\n",
      "            \"reverse_zenith\": false\n",
      "        },\n",
      "        \"description\": \"\",\n",
      "        \"metadata\": {}\n",
      "    }\n",
      "}\n"
     ]
    }
   ],
   "source": [
    "source5 = p.create_source(name=\"NaturalLight.1\", feature_type=SourceAmbientNaturalLight)\n",
    "source5.turbidity = 4\n",
    "source5.with_sky = True\n",
    "print(source5.zenith_direction)  # default zenith direction\n",
    "print(source5.north_direction)  # default north direction\n",
    "source5.reverse_north_direction = True\n",
    "print(source5)\n",
    "\n",
    "source5.commit()\n",
    "print(source5)"
   ]
  },
  {
   "cell_type": "code",
   "execution_count": 22,
   "id": "23e0dc9f",
   "metadata": {
    "execution": {
     "iopub.execute_input": "2025-10-10T08:22:35.448276Z",
     "iopub.status.busy": "2025-10-10T08:22:35.448030Z",
     "iopub.status.idle": "2025-10-10T08:22:35.476950Z",
     "shell.execute_reply": "2025-10-10T08:22:35.476371Z"
    }
   },
   "outputs": [
    {
     "name": "stdout",
     "output_type": "stream",
     "text": [
      "{\n",
      "    \"name\": \"NaturalLight.1\",\n",
      "    \"metadata\": {\n",
      "        \"UniqueId\": \"49742177-8fe1-411e-a373-db7a694c0489\"\n",
      "    },\n",
      "    \"source_guid\": \"097e4144-de28-4a30-8b0e-4e5512298d36\",\n",
      "    \"description\": \"\",\n",
      "    \"source\": {\n",
      "        \"name\": \"NaturalLight.1\",\n",
      "        \"ambient\": {\n",
      "            \"natural_light\": {\n",
      "                \"turbidity\": 4.0,\n",
      "                \"with_sky\": true,\n",
      "                \"north_direction\": [\n",
      "                    0.0,\n",
      "                    1.0,\n",
      "                    0.0\n",
      "                ],\n",
      "                \"reverse_north\": true,\n",
      "                \"sun_axis_system\": {\n",
      "                    \"automatic_sun\": {\n",
      "                        \"time_zone_uri\": \"CST\",\n",
      "                        \"year\": 2026,\n",
      "                        \"month\": 12,\n",
      "                        \"day\": 31,\n",
      "                        \"hour\": 12,\n",
      "                        \"minute\": 23,\n",
      "                        \"longitude\": 10.0,\n",
      "                        \"latitude\": 45.0\n",
      "                    }\n",
      "                }\n",
      "            },\n",
      "            \"zenith_direction\": [\n",
      "                0.0,\n",
      "                0.0,\n",
      "                1.0\n",
      "            ],\n",
      "            \"reverse_zenith\": false\n",
      "        },\n",
      "        \"description\": \"\",\n",
      "        \"metadata\": {}\n",
      "    }\n",
      "}\n"
     ]
    }
   ],
   "source": [
    "source5.set_sun_automatic().year = 2026\n",
    "source5.set_sun_automatic().month = 12\n",
    "source5.set_sun_automatic().day = 31\n",
    "source5.set_sun_automatic().hour = 12\n",
    "source5.set_sun_automatic().minute = 23\n",
    "source5.set_sun_automatic().longitude = 10\n",
    "source5.set_sun_automatic().latitude = 45\n",
    "source5.set_sun_automatic().time_zone = \"CST\"\n",
    "source5.commit()\n",
    "print(source5)"
   ]
  },
  {
   "cell_type": "code",
   "execution_count": 23,
   "id": "f1ee9952",
   "metadata": {
    "execution": {
     "iopub.execute_input": "2025-10-10T08:22:35.478779Z",
     "iopub.status.busy": "2025-10-10T08:22:35.478577Z",
     "iopub.status.idle": "2025-10-10T08:22:35.487120Z",
     "shell.execute_reply": "2025-10-10T08:22:35.486523Z"
    }
   },
   "outputs": [
    {
     "data": {
      "text/plain": [
       "<ansys.speos.core.source.SourceAmbientNaturalLight at 0x7f3ffcdf9f90>"
      ]
     },
     "execution_count": 23,
     "metadata": {},
     "output_type": "execute_result"
    }
   ],
   "source": [
    "source5.delete()"
   ]
  },
  {
   "cell_type": "markdown",
   "id": "37aa805d",
   "metadata": {},
   "source": [
    "When creating sources, this creates some intermediate objects (spectrums, intensity templates).\n",
    "\n",
    "Deleting a source does not delete in cascade those objects\n",
    "because they could be used by some other entities from core layer.\n",
    "\n",
    "Then at the end of the example, we just clean all databases"
   ]
  },
  {
   "cell_type": "code",
   "execution_count": 24,
   "id": "0fa578d5",
   "metadata": {
    "execution": {
     "iopub.execute_input": "2025-10-10T08:22:35.488990Z",
     "iopub.status.busy": "2025-10-10T08:22:35.488788Z",
     "iopub.status.idle": "2025-10-10T08:22:35.499541Z",
     "shell.execute_reply": "2025-10-10T08:22:35.498842Z"
    }
   },
   "outputs": [
    {
     "data": {
      "text/plain": [
       "True"
      ]
     },
     "execution_count": 24,
     "metadata": {},
     "output_type": "execute_result"
    }
   ],
   "source": [
    "for item in speos.client.intensity_templates().list() + speos.client.spectrums().list():\n",
    "    item.delete()\n",
    "\n",
    "speos.close()"
   ]
  }
 ],
 "metadata": {
  "jupytext": {
   "cell_metadata_filter": "-all",
   "main_language": "python",
   "notebook_metadata_filter": "-all",
   "text_representation": {
    "extension": ".py",
    "format_name": "light"
   }
  },
  "language_info": {
   "codemirror_mode": {
    "name": "ipython",
    "version": 3
   },
   "file_extension": ".py",
   "mimetype": "text/x-python",
   "name": "python",
   "nbconvert_exporter": "python",
   "pygments_lexer": "ipython3",
   "version": "3.10.18"
  }
 },
 "nbformat": 4,
 "nbformat_minor": 5
}
