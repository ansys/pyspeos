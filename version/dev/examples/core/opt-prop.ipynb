{
 "cells": [
  {
   "cell_type": "markdown",
   "id": "549664e7",
   "metadata": {},
   "source": [
    "# How to create an optical property"
   ]
  },
  {
   "cell_type": "markdown",
   "id": "87056ded",
   "metadata": {},
   "source": [
    "This tutorial demonstrates how to create an optical property."
   ]
  },
  {
   "cell_type": "markdown",
   "id": "e37e2b63",
   "metadata": {},
   "source": [
    "## What is an optical property?"
   ]
  },
  {
   "cell_type": "markdown",
   "id": "7a65ef34",
   "metadata": {},
   "source": [
    "An optical property (also named material), gathers two notions:\n",
    "the surface optical property (SOP) and the volume optical property (VOP)."
   ]
  },
  {
   "cell_type": "markdown",
   "id": "89b6d78e",
   "metadata": {},
   "source": [
    "The property is then applied to a geometry (like bodies, faces).\n",
    "\n",
    "## Prerequisites\n",
    "\n",
    "### Perform imports"
   ]
  },
  {
   "cell_type": "code",
   "execution_count": 1,
   "id": "8a5ff92a",
   "metadata": {
    "execution": {
     "iopub.execute_input": "2025-10-10T08:20:30.166381Z",
     "iopub.status.busy": "2025-10-10T08:20:30.166104Z",
     "iopub.status.idle": "2025-10-10T08:20:31.201327Z",
     "shell.execute_reply": "2025-10-10T08:20:31.200442Z"
    }
   },
   "outputs": [],
   "source": [
    "from pathlib import Path\n",
    "\n",
    "from ansys.speos.core import Project, Speos, launcher\n"
   ]
  },
  {
   "cell_type": "markdown",
   "id": "0f1ccc2a",
   "metadata": {},
   "source": [
    "### Define constants\n",
    "Constants help ensure consistency and avoid repetition throughout the example."
   ]
  },
  {
   "cell_type": "code",
   "execution_count": 2,
   "id": "c247e0fc",
   "metadata": {
    "execution": {
     "iopub.execute_input": "2025-10-10T08:20:31.204551Z",
     "iopub.status.busy": "2025-10-10T08:20:31.204225Z",
     "iopub.status.idle": "2025-10-10T08:20:31.207841Z",
     "shell.execute_reply": "2025-10-10T08:20:31.207144Z"
    }
   },
   "outputs": [],
   "source": [
    "HOSTNAME = \"localhost\"\n",
    "GRPC_PORT = 50098  # Be sure the Speos GRPC Server has been started on this port.\n",
    "USE_DOCKER = True  # Set to False if you're running this example locally as a Notebook."
   ]
  },
  {
   "cell_type": "markdown",
   "id": "5381379e",
   "metadata": {
    "lines_to_next_cell": 2
   },
   "source": [
    "### Define helper functions"
   ]
  },
  {
   "cell_type": "code",
   "execution_count": 3,
   "id": "13c734c4",
   "metadata": {
    "execution": {
     "iopub.execute_input": "2025-10-10T08:20:31.209790Z",
     "iopub.status.busy": "2025-10-10T08:20:31.209581Z",
     "iopub.status.idle": "2025-10-10T08:20:31.215664Z",
     "shell.execute_reply": "2025-10-10T08:20:31.215064Z"
    }
   },
   "outputs": [],
   "source": [
    "def create_helper_geometries(project: Project):\n",
    "    \"\"\"Create bodies and faces.\"\"\"\n",
    "\n",
    "    def create_face(body):\n",
    "        face = (\n",
    "            body.create_face(name=\"TheFaceF\")\n",
    "            .set_vertices([0, 0, 0, 1, 0, 0, 0, 1, 0])\n",
    "            .set_facets([0, 1, 2])\n",
    "            .set_normals([0, 0, 1, 0, 0, 1, 0, 0, 1])\n",
    "            .commit()\n",
    "        )\n",
    "        return face\n",
    "\n",
    "    data = {\"bodies\": [], \"faces\": []}\n",
    "    root_part = project.create_root_part().commit()\n",
    "    data[\"bodies\"].append(root_part.create_body(name=\"TheBodyB\").commit())\n",
    "    data[\"bodies\"].append(root_part.create_body(name=\"TheBodyC\").commit())\n",
    "    data[\"bodies\"].append(root_part.create_body(name=\"TheBodyD\").commit())\n",
    "    data[\"bodies\"].append(root_part.create_body(name=\"TheBodyE\").commit())\n",
    "    for b in data[\"bodies\"]:\n",
    "        data[\"faces\"].append(create_face(b))\n",
    "    return data"
   ]
  },
  {
   "cell_type": "markdown",
   "id": "91329bf9",
   "metadata": {},
   "source": [
    "## Model Setup\n",
    "\n",
    "### Load assets\n",
    "The assets used to run this example are available in the\n",
    "[PySpeos repository](https://github.com/ansys/pyspeos/) on GitHub.\n",
    "\n",
    "> **Note:** Make sure you\n",
    "> have downloaded simulation assets and set ``assets_data_path``\n",
    "> to point to the assets folder."
   ]
  },
  {
   "cell_type": "code",
   "execution_count": 4,
   "id": "f0e8d8b9",
   "metadata": {
    "execution": {
     "iopub.execute_input": "2025-10-10T08:20:31.217523Z",
     "iopub.status.busy": "2025-10-10T08:20:31.217335Z",
     "iopub.status.idle": "2025-10-10T08:20:31.220489Z",
     "shell.execute_reply": "2025-10-10T08:20:31.219893Z"
    }
   },
   "outputs": [],
   "source": [
    "if USE_DOCKER:  # Running on the remote server.\n",
    "    assets_data_path = Path(\"/app\") / \"assets\"\n",
    "else:\n",
    "    assets_data_path = Path(\"/path/to/your/download/assets/directory\")"
   ]
  },
  {
   "cell_type": "markdown",
   "id": "be02c34d",
   "metadata": {},
   "source": [
    "### Connect to the RPC Server\n",
    "This Python client connects to a server where the Speos engine\n",
    "is running as a service. In this example, the server and\n",
    "client are the same machine. The launch_local_speos_rpc_method can\n",
    "be used to start a local instance of the service."
   ]
  },
  {
   "cell_type": "code",
   "execution_count": 5,
   "id": "b6a6f556",
   "metadata": {
    "execution": {
     "iopub.execute_input": "2025-10-10T08:20:31.222257Z",
     "iopub.status.busy": "2025-10-10T08:20:31.222047Z",
     "iopub.status.idle": "2025-10-10T08:20:31.229219Z",
     "shell.execute_reply": "2025-10-10T08:20:31.228627Z"
    }
   },
   "outputs": [],
   "source": [
    "if USE_DOCKER:\n",
    "    speos = Speos(host=HOSTNAME, port=GRPC_PORT)\n",
    "else:\n",
    "    speos = launcher.launch_local_speos_rpc_server(port=GRPC_PORT)"
   ]
  },
  {
   "cell_type": "markdown",
   "id": "1c886b45",
   "metadata": {},
   "source": [
    "### Create a new project\n",
    "\n",
    "The only way to create an optical property using the core layer, is to create it from a project.\n",
    "The ``Project`` class is instantiated by passing a ``Speos`` instance"
   ]
  },
  {
   "cell_type": "code",
   "execution_count": 6,
   "id": "c5fba7e4",
   "metadata": {
    "execution": {
     "iopub.execute_input": "2025-10-10T08:20:31.231079Z",
     "iopub.status.busy": "2025-10-10T08:20:31.230888Z",
     "iopub.status.idle": "2025-10-10T08:20:31.276950Z",
     "shell.execute_reply": "2025-10-10T08:20:31.276278Z"
    }
   },
   "outputs": [
    {
     "name": "stdout",
     "output_type": "stream",
     "text": [
      "{\n",
      "    \"name\": \"\",\n",
      "    \"description\": \"\",\n",
      "    \"metadata\": {},\n",
      "    \"part_guid\": \"\",\n",
      "    \"sources\": [],\n",
      "    \"sensors\": [],\n",
      "    \"simulations\": [],\n",
      "    \"materials\": [],\n",
      "    \"scenes\": []\n",
      "}\n"
     ]
    }
   ],
   "source": [
    "p = Project(speos=speos)\n",
    "print(p)\n",
    "data = create_helper_geometries(p)\n",
    "bodies = data[\"bodies\"]\n",
    "faces = data[\"faces\"]"
   ]
  },
  {
   "cell_type": "markdown",
   "id": "6917af41",
   "metadata": {},
   "source": [
    "## Create VOP (volume optical property)\n",
    "\n",
    "Create locally.\n",
    "The mention \"local: \" is added when printing the optical property."
   ]
  },
  {
   "cell_type": "code",
   "execution_count": 7,
   "id": "88396bdb",
   "metadata": {
    "execution": {
     "iopub.execute_input": "2025-10-10T08:20:31.278984Z",
     "iopub.status.busy": "2025-10-10T08:20:31.278778Z",
     "iopub.status.idle": "2025-10-10T08:20:31.283046Z",
     "shell.execute_reply": "2025-10-10T08:20:31.282331Z"
    },
    "lines_to_next_cell": 2
   },
   "outputs": [
    {
     "name": "stdout",
     "output_type": "stream",
     "text": [
      "local: {\n",
      "    \"name\": \"Material.1\",\n",
      "    \"geometries\": {\n",
      "        \"geo_paths\": [\n",
      "            \"TheBodyB\",\n",
      "            \"TheBodyC\"\n",
      "        ]\n",
      "    },\n",
      "    \"description\": \"\",\n",
      "    \"metadata\": {},\n",
      "    \"sop_guids\": [],\n",
      "    \"vop\": {\n",
      "        \"name\": \"Material.1.VOP\",\n",
      "        \"opaque\": {},\n",
      "        \"description\": \"\",\n",
      "        \"metadata\": {}\n",
      "    },\n",
      "    \"sops\": [\n",
      "        {\n",
      "            \"name\": \"Material.1.SOP\",\n",
      "            \"mirror\": {\n",
      "                \"reflectance\": 80.0\n",
      "            },\n",
      "            \"description\": \"\",\n",
      "            \"metadata\": {}\n",
      "        }\n",
      "    ]\n",
      "}\n"
     ]
    }
   ],
   "source": [
    "op1 = p.create_optical_property(name=\"Material.1\")\n",
    "op1.set_surface_mirror(reflectance=80)  # SOP : mirror\n",
    "op1.set_volume_opaque()  # VOP : opaque\n",
    "# This optical property will be applied to two bodies named : \"TheBodyB\" and \"TheBodyC\".\n",
    "op1.set_geometries(\n",
    "    geometries=[\n",
    "        bodies[0],\n",
    "        bodies[1],\n",
    "    ]\n",
    ")\n",
    "print(op1)"
   ]
  },
  {
   "cell_type": "markdown",
   "id": "7975ed52",
   "metadata": {},
   "source": [
    "### Push it to the server.\n",
    "\n",
    "Now that it is committed to the server,\n",
    "the mention \"local: \" is no more present when printing the optical property."
   ]
  },
  {
   "cell_type": "code",
   "execution_count": 8,
   "id": "468285dc",
   "metadata": {
    "execution": {
     "iopub.execute_input": "2025-10-10T08:20:31.284885Z",
     "iopub.status.busy": "2025-10-10T08:20:31.284680Z",
     "iopub.status.idle": "2025-10-10T08:20:31.295272Z",
     "shell.execute_reply": "2025-10-10T08:20:31.294565Z"
    }
   },
   "outputs": [
    {
     "name": "stdout",
     "output_type": "stream",
     "text": [
      "{\n",
      "    \"name\": \"Material.1\",\n",
      "    \"metadata\": {\n",
      "        \"UniqueId\": \"3b6bb845-de1c-47ac-a1ba-3a6512fb0b9b\"\n",
      "    },\n",
      "    \"vop_guid\": \"f9b69899-ae31-492d-8a04-8d8db77c3e6f\",\n",
      "    \"geometries\": {\n",
      "        \"geo_paths\": [\n",
      "            \"TheBodyB\",\n",
      "            \"TheBodyC\"\n",
      "        ]\n",
      "    },\n",
      "    \"sop_guid\": \"eb2369b9-57cb-4d0c-a606-7ad905fdc951\",\n",
      "    \"description\": \"\",\n",
      "    \"sop_guids\": [],\n",
      "    \"vop\": {\n",
      "        \"name\": \"Material.1.VOP\",\n",
      "        \"opaque\": {},\n",
      "        \"description\": \"\",\n",
      "        \"metadata\": {}\n",
      "    },\n",
      "    \"sop\": {\n",
      "        \"name\": \"Material.1.SOP\",\n",
      "        \"mirror\": {\n",
      "            \"reflectance\": 80.0\n",
      "        },\n",
      "        \"description\": \"\",\n",
      "        \"metadata\": {}\n",
      "    },\n",
      "    \"sops\": [\n",
      "        {\n",
      "            \"name\": \"Material.1.SOP\",\n",
      "            \"mirror\": {\n",
      "                \"reflectance\": 80.0\n",
      "            },\n",
      "            \"description\": \"\",\n",
      "            \"metadata\": {}\n",
      "        }\n",
      "    ]\n",
      "}\n"
     ]
    }
   ],
   "source": [
    "op1.commit()\n",
    "print(op1)"
   ]
  },
  {
   "cell_type": "markdown",
   "id": "a19a1c12",
   "metadata": {},
   "source": [
    "## Another example.\n",
    "\n",
    "Setting several more characteristics."
   ]
  },
  {
   "cell_type": "code",
   "execution_count": 9,
   "id": "d539ccb0",
   "metadata": {
    "execution": {
     "iopub.execute_input": "2025-10-10T08:20:31.297252Z",
     "iopub.status.busy": "2025-10-10T08:20:31.297022Z",
     "iopub.status.idle": "2025-10-10T08:20:31.307031Z",
     "shell.execute_reply": "2025-10-10T08:20:31.306458Z"
    },
    "lines_to_next_cell": 2
   },
   "outputs": [
    {
     "name": "stdout",
     "output_type": "stream",
     "text": [
      "{\n",
      "    \"name\": \"Material.2\",\n",
      "    \"metadata\": {\n",
      "        \"UniqueId\": \"8c15f181-3943-4b47-ab9d-5e527fa91574\"\n",
      "    },\n",
      "    \"vop_guid\": \"d9786cf7-88db-415b-bc53-221b1859d09e\",\n",
      "    \"geometries\": {\n",
      "        \"geo_paths\": [\n",
      "            \"TheBodyD\",\n",
      "            \"TheBodyE\"\n",
      "        ]\n",
      "    },\n",
      "    \"sop_guid\": \"f1ed5e42-0770-45be-a969-45abd5941c57\",\n",
      "    \"description\": \"\",\n",
      "    \"sop_guids\": [],\n",
      "    \"vop\": {\n",
      "        \"name\": \"Material.2.VOP\",\n",
      "        \"library\": {\n",
      "            \"material_file_uri\": \"/app/assets/AIR.material\"\n",
      "        },\n",
      "        \"description\": \"\",\n",
      "        \"metadata\": {}\n",
      "    },\n",
      "    \"sop\": {\n",
      "        \"name\": \"Material.2.SOP\",\n",
      "        \"optical_polished\": {},\n",
      "        \"description\": \"\",\n",
      "        \"metadata\": {}\n",
      "    },\n",
      "    \"sops\": [\n",
      "        {\n",
      "            \"name\": \"Material.2.SOP\",\n",
      "            \"optical_polished\": {},\n",
      "            \"description\": \"\",\n",
      "            \"metadata\": {}\n",
      "        }\n",
      "    ]\n",
      "}\n"
     ]
    }
   ],
   "source": [
    "op2 = p.create_optical_property(name=\"Material.2\")\n",
    "op2.set_surface_opticalpolished()  # SOP : optical polished\n",
    "op2.set_volume_library(\n",
    "    path=str(assets_data_path / \"AIR.material\")\n",
    ")  # VOP : selected library via a file .material\n",
    "# This optical property will be applied to two bodies named : \"TheBodyD\" and \"TheBodyE\".\n",
    "op2.set_geometries(\n",
    "    geometries=[\n",
    "        bodies[2],\n",
    "        bodies[3],\n",
    "    ]\n",
    ")\n",
    "op2.commit()\n",
    "print(op2)"
   ]
  },
  {
   "cell_type": "markdown",
   "id": "f6088280",
   "metadata": {},
   "source": [
    "## Create FOP (face optical property)\n",
    "\n",
    "Sometimes it is needed to create property but only for surface.\n",
    "\n",
    "In this case, no call for set_volume_xxx function is needed, and we will select a face for the\n",
    "geometries."
   ]
  },
  {
   "cell_type": "code",
   "execution_count": 10,
   "id": "2b238631",
   "metadata": {
    "execution": {
     "iopub.execute_input": "2025-10-10T08:20:31.309044Z",
     "iopub.status.busy": "2025-10-10T08:20:31.308850Z",
     "iopub.status.idle": "2025-10-10T08:20:31.316594Z",
     "shell.execute_reply": "2025-10-10T08:20:31.315990Z"
    }
   },
   "outputs": [
    {
     "name": "stdout",
     "output_type": "stream",
     "text": [
      "{\n",
      "    \"name\": \"Material.FOP\",\n",
      "    \"metadata\": {\n",
      "        \"UniqueId\": \"9313a769-33ec-41b3-94e2-6d2c083a22b8\"\n",
      "    },\n",
      "    \"geometries\": {\n",
      "        \"geo_paths\": [\n",
      "            \"TheBodyD/TheFaceF\"\n",
      "        ]\n",
      "    },\n",
      "    \"sop_guid\": \"3b98d6d5-2482-4dcc-a5e8-56d632ab3655\",\n",
      "    \"description\": \"\",\n",
      "    \"sop_guids\": [],\n",
      "    \"sop\": {\n",
      "        \"name\": \"Material.FOP.SOP\",\n",
      "        \"mirror\": {\n",
      "            \"reflectance\": 90.0\n",
      "        },\n",
      "        \"description\": \"\",\n",
      "        \"metadata\": {}\n",
      "    },\n",
      "    \"sops\": [\n",
      "        {\n",
      "            \"name\": \"Material.FOP.SOP\",\n",
      "            \"mirror\": {\n",
      "                \"reflectance\": 90.0\n",
      "            },\n",
      "            \"description\": \"\",\n",
      "            \"metadata\": {}\n",
      "        }\n",
      "    ]\n",
      "}\n"
     ]
    }
   ],
   "source": [
    "op3 = p.create_optical_property(name=\"Material.FOP\")\n",
    "op3.set_surface_mirror(reflectance=90)  # SOP : mirror\n",
    "# This optical property will be applied a face from TheBodyD named : \"TheFaceF\".\n",
    "op3.set_geometries(geometries=[faces[2]])\n",
    "op3.commit()\n",
    "print(op3)"
   ]
  },
  {
   "cell_type": "markdown",
   "id": "3bd63f3f",
   "metadata": {},
   "source": [
    "### Default values\n",
    "\n",
    "Some default values are available when applicable in every methods and class."
   ]
  },
  {
   "cell_type": "code",
   "execution_count": 11,
   "id": "ede63737",
   "metadata": {
    "execution": {
     "iopub.execute_input": "2025-10-10T08:20:31.318548Z",
     "iopub.status.busy": "2025-10-10T08:20:31.318353Z",
     "iopub.status.idle": "2025-10-10T08:20:31.325767Z",
     "shell.execute_reply": "2025-10-10T08:20:31.325062Z"
    }
   },
   "outputs": [
    {
     "name": "stdout",
     "output_type": "stream",
     "text": [
      "{\n",
      "    \"name\": \"Material.3\",\n",
      "    \"metadata\": {\n",
      "        \"UniqueId\": \"1df7a84d-4d21-47f1-91e9-51d70cca47e1\"\n",
      "    },\n",
      "    \"sop_guid\": \"6b856de0-845d-498f-9b39-6e8a10ecefd9\",\n",
      "    \"description\": \"\",\n",
      "    \"sop_guids\": [],\n",
      "    \"sop\": {\n",
      "        \"name\": \"Material.3.SOP\",\n",
      "        \"mirror\": {\n",
      "            \"reflectance\": 100.0\n",
      "        },\n",
      "        \"description\": \"\",\n",
      "        \"metadata\": {}\n",
      "    },\n",
      "    \"sops\": [\n",
      "        {\n",
      "            \"name\": \"Material.3.SOP\",\n",
      "            \"mirror\": {\n",
      "                \"reflectance\": 100.0\n",
      "            },\n",
      "            \"description\": \"\",\n",
      "            \"metadata\": {}\n",
      "        }\n",
      "    ]\n",
      "}\n"
     ]
    }
   ],
   "source": [
    "op4 = p.create_optical_property(name=\"Material.3\").commit()\n",
    "print(op4)"
   ]
  },
  {
   "cell_type": "markdown",
   "id": "44b60cd0",
   "metadata": {},
   "source": [
    "## Read\n",
    "### Material Instance Information\n",
    "\n",
    "A mention \"local: \" is added if it is not yet committed to the server."
   ]
  },
  {
   "cell_type": "code",
   "execution_count": 12,
   "id": "bab282ff",
   "metadata": {
    "execution": {
     "iopub.execute_input": "2025-10-10T08:20:31.327759Z",
     "iopub.status.busy": "2025-10-10T08:20:31.327551Z",
     "iopub.status.idle": "2025-10-10T08:20:31.337794Z",
     "shell.execute_reply": "2025-10-10T08:20:31.337160Z"
    }
   },
   "outputs": [
    {
     "name": "stdout",
     "output_type": "stream",
     "text": [
      "{\n",
      "    \"name\": \"Material.1\",\n",
      "    \"metadata\": {\n",
      "        \"UniqueId\": \"3b6bb845-de1c-47ac-a1ba-3a6512fb0b9b\"\n",
      "    },\n",
      "    \"vop_guid\": \"f9b69899-ae31-492d-8a04-8d8db77c3e6f\",\n",
      "    \"geometries\": {\n",
      "        \"geo_paths\": [\n",
      "            \"TheBodyB\",\n",
      "            \"TheBodyC\"\n",
      "        ]\n",
      "    },\n",
      "    \"sop_guid\": \"eb2369b9-57cb-4d0c-a606-7ad905fdc951\",\n",
      "    \"description\": \"\",\n",
      "    \"sop_guids\": [],\n",
      "    \"vop\": {\n",
      "        \"name\": \"Material.1.VOP\",\n",
      "        \"opaque\": {},\n",
      "        \"description\": \"\",\n",
      "        \"metadata\": {}\n",
      "    },\n",
      "    \"sop\": {\n",
      "        \"name\": \"Material.1.SOP\",\n",
      "        \"mirror\": {\n",
      "            \"reflectance\": 80.0\n",
      "        },\n",
      "        \"description\": \"\",\n",
      "        \"metadata\": {}\n",
      "    },\n",
      "    \"sops\": [\n",
      "        {\n",
      "            \"name\": \"Material.1.SOP\",\n",
      "            \"mirror\": {\n",
      "                \"reflectance\": 80.0\n",
      "            },\n",
      "            \"description\": \"\",\n",
      "            \"metadata\": {}\n",
      "        }\n",
      "    ]\n",
      "}\n"
     ]
    }
   ],
   "source": [
    "print(op1)"
   ]
  },
  {
   "cell_type": "markdown",
   "id": "759e1d03",
   "metadata": {},
   "source": [
    "The get methods allows you to get some properties of your feature"
   ]
  },
  {
   "cell_type": "code",
   "execution_count": 13,
   "id": "fba870ee",
   "metadata": {
    "execution": {
     "iopub.execute_input": "2025-10-10T08:20:31.339729Z",
     "iopub.status.busy": "2025-10-10T08:20:31.339519Z",
     "iopub.status.idle": "2025-10-10T08:20:31.380423Z",
     "shell.execute_reply": "2025-10-10T08:20:31.379717Z"
    }
   },
   "outputs": [
    {
     "name": "stdout",
     "output_type": "stream",
     "text": [
      "op1 name: Material.1\n",
      "geometries linked to op1: ['TheBodyB', 'TheBodyC']\n",
      "op1 surface optical properties info: [{'name': 'Material.1.SOP', 'mirror': {'reflectance': 80.0}, 'description': '', 'metadata': {}}]\n",
      "op1 volume optical property info: {'name': 'Material.1.VOP', 'opaque': {}, 'description': '', 'metadata': {}}\n",
      "op1 is opaque type volume optical property\n",
      "{\n",
      "    \"name\": \"Material.2\",\n",
      "    \"metadata\": {\n",
      "        \"UniqueId\": \"8c15f181-3943-4b47-ab9d-5e527fa91574\"\n",
      "    },\n",
      "    \"vop_guid\": \"d9786cf7-88db-415b-bc53-221b1859d09e\",\n",
      "    \"geometries\": {\n",
      "        \"geo_paths\": [\n",
      "            \"TheBodyD\",\n",
      "            \"TheBodyE\"\n",
      "        ]\n",
      "    },\n",
      "    \"sop_guid\": \"f1ed5e42-0770-45be-a969-45abd5941c57\",\n",
      "    \"description\": \"\",\n",
      "    \"sop_guids\": [],\n",
      "    \"vop\": {\n",
      "        \"name\": \"Material.2.VOP\",\n",
      "        \"library\": {\n",
      "            \"material_file_uri\": \"/app/assets/AIR.material\"\n",
      "        },\n",
      "        \"description\": \"\",\n",
      "        \"metadata\": {}\n",
      "    },\n",
      "    \"sop\": {\n",
      "        \"name\": \"Material.2.SOP\",\n",
      "        \"optical_polished\": {},\n",
      "        \"description\": \"\",\n",
      "        \"metadata\": {}\n",
      "    },\n",
      "    \"sops\": [\n",
      "        {\n",
      "            \"name\": \"Material.2.SOP\",\n",
      "            \"optical_polished\": {},\n",
      "            \"description\": \"\",\n",
      "            \"metadata\": {}\n",
      "        }\n",
      "    ]\n",
      "}\n",
      "op2 name: Material.2\n",
      "op2 is optical polished type surface property\n",
      "op2 is library type volume optical property\n",
      "{\n",
      "    \"name\": \"Material.FOP\",\n",
      "    \"metadata\": {\n",
      "        \"UniqueId\": \"9313a769-33ec-41b3-94e2-6d2c083a22b8\"\n",
      "    },\n",
      "    \"geometries\": {\n",
      "        \"geo_paths\": [\n",
      "            \"TheBodyD/TheFaceF\"\n",
      "        ]\n",
      "    },\n",
      "    \"sop_guid\": \"3b98d6d5-2482-4dcc-a5e8-56d632ab3655\",\n",
      "    \"description\": \"\",\n",
      "    \"sop_guids\": [],\n",
      "    \"sop\": {\n",
      "        \"name\": \"Material.FOP.SOP\",\n",
      "        \"mirror\": {\n",
      "            \"reflectance\": 90.0\n",
      "        },\n",
      "        \"description\": \"\",\n",
      "        \"metadata\": {}\n",
      "    },\n",
      "    \"sops\": [\n",
      "        {\n",
      "            \"name\": \"Material.FOP.SOP\",\n",
      "            \"mirror\": {\n",
      "                \"reflectance\": 90.0\n",
      "            },\n",
      "            \"description\": \"\",\n",
      "            \"metadata\": {}\n",
      "        }\n",
      "    ]\n",
      "}\n",
      "op3 name: Material.FOP\n",
      "op3 has reflectance value of 90.0\n"
     ]
    }
   ],
   "source": [
    "print(\"op1 name: {}\".format(op1.get(key=\"name\")))\n",
    "print(\"geometries linked to op1: {}\".format(op1.get(key=\"geo_paths\")))\n",
    "print(\"op1 surface optical properties info: {}\".format(op1.get(key=\"sops\")))\n",
    "print(\"op1 volume optical property info: {}\".format(op1.get(key=\"vop\")))\n",
    "# user can use get with vop type as key word to check volume property type\n",
    "print(\n",
    "    \"op1 {} opaque type volume optical property\".format(\n",
    "        \"is\" if op1.get(key=\"opaque\") is not None else \"is not\"\n",
    "    )\n",
    ")\n",
    "\n",
    "print(op2)\n",
    "print(\"op2 name: {}\".format(op2.get(key=\"name\")))\n",
    "print(\n",
    "    \"op2 {} optical polished type surface property\".format(\n",
    "        (\"is\" if \"optical_polished\" in op2.get(key=\"sops\")[0] else \"is not\")\n",
    "    )\n",
    ")\n",
    "# an alternative way to check the type of optical property\n",
    "print(\n",
    "    \"op2 {} library type volume optical property\".format(\n",
    "        \"is\" if \"library\" in op2.get(key=\"vop\") is not None else \"is not\"\n",
    "    )\n",
    ")\n",
    "\n",
    "print(op3)\n",
    "print(\"op3 name: {}\".format(op3.get(key=\"name\")))\n",
    "print(\"op3 has reflectance value of {}\".format(op3.get(key=\"sops\")[0][\"mirror\"][\"reflectance\"]))"
   ]
  },
  {
   "cell_type": "markdown",
   "id": "75d67c57",
   "metadata": {},
   "source": [
    "### Project Information\n",
    "Committed feature information will appear inside a project information."
   ]
  },
  {
   "cell_type": "code",
   "execution_count": 14,
   "id": "db5e23bb",
   "metadata": {
    "execution": {
     "iopub.execute_input": "2025-10-10T08:20:31.382691Z",
     "iopub.status.busy": "2025-10-10T08:20:31.382431Z",
     "iopub.status.idle": "2025-10-10T08:20:31.392327Z",
     "shell.execute_reply": "2025-10-10T08:20:31.391686Z"
    }
   },
   "outputs": [
    {
     "name": "stdout",
     "output_type": "stream",
     "text": [
      "{\n",
      "    \"part_guid\": \"0193c355-1e4d-4677-8ba3-e4cb2f8e7b0a\",\n",
      "    \"materials\": [\n",
      "        {\n",
      "            \"name\": \"Material.1\",\n",
      "            \"metadata\": {\n",
      "                \"UniqueId\": \"3b6bb845-de1c-47ac-a1ba-3a6512fb0b9b\"\n",
      "            },\n",
      "            \"vop_guid\": \"f9b69899-ae31-492d-8a04-8d8db77c3e6f\",\n",
      "            \"geometries\": {\n",
      "                \"geo_paths\": [\n",
      "                    \"TheBodyB\",\n",
      "                    \"TheBodyC\"\n",
      "                ]\n",
      "            },\n",
      "            \"sop_guid\": \"eb2369b9-57cb-4d0c-a606-7ad905fdc951\",\n",
      "            \"description\": \"\",\n",
      "            \"sop_guids\": [],\n",
      "            \"vop\": {\n",
      "                \"name\": \"Material.1.VOP\",\n",
      "                \"opaque\": {},\n",
      "                \"description\": \"\",\n",
      "                \"metadata\": {}\n",
      "            },\n",
      "            \"sop\": {\n",
      "                \"name\": \"Material.1.SOP\",\n",
      "                \"mirror\": {\n",
      "                    \"reflectance\": 80.0\n",
      "                },\n",
      "                \"description\": \"\",\n",
      "                \"metadata\": {}\n",
      "            }\n",
      "        },\n",
      "        {\n",
      "            \"name\": \"Material.2\",\n",
      "            \"metadata\": {\n",
      "                \"UniqueId\": \"8c15f181-3943-4b47-ab9d-5e527fa91574\"\n",
      "            },\n",
      "            \"vop_guid\": \"d9786cf7-88db-415b-bc53-221b1859d09e\",\n",
      "            \"geometries\": {\n",
      "                \"geo_paths\": [\n",
      "                    \"TheBodyD\",\n",
      "                    \"TheBodyE\"\n",
      "                ]\n",
      "            },\n",
      "            \"sop_guid\": \"f1ed5e42-0770-45be-a969-45abd5941c57\",\n",
      "            \"description\": \"\",\n",
      "            \"sop_guids\": [],\n",
      "            \"vop\": {\n",
      "                \"name\": \"Material.2.VOP\",\n",
      "                \"library\": {\n",
      "                    \"material_file_uri\": \"/app/assets/AIR.material\"\n",
      "                },\n",
      "                \"description\": \"\",\n",
      "                \"metadata\": {}\n",
      "            },\n",
      "            \"sop\": {\n",
      "                \"name\": \"Material.2.SOP\",\n",
      "                \"optical_polished\": {},\n",
      "                \"description\": \"\",\n",
      "                \"metadata\": {}\n",
      "            }\n",
      "        },\n",
      "        {\n",
      "            \"name\": \"Material.FOP\",\n",
      "            \"metadata\": {\n",
      "                \"UniqueId\": \"9313a769-33ec-41b3-94e2-6d2c083a22b8\"\n",
      "            },\n",
      "            \"geometries\": {\n",
      "                \"geo_paths\": [\n",
      "                    \"TheBodyD/TheFaceF\"\n",
      "                ]\n",
      "            },\n",
      "            \"sop_guid\": \"3b98d6d5-2482-4dcc-a5e8-56d632ab3655\",\n",
      "            \"description\": \"\",\n",
      "            \"sop_guids\": [],\n",
      "            \"sop\": {\n",
      "                \"name\": \"Material.FOP.SOP\",\n",
      "                \"mirror\": {\n",
      "                    \"reflectance\": 90.0\n",
      "                },\n",
      "                \"description\": \"\",\n",
      "                \"metadata\": {}\n",
      "            }\n",
      "        },\n",
      "        {\n",
      "            \"name\": \"Material.3\",\n",
      "            \"metadata\": {\n",
      "                \"UniqueId\": \"1df7a84d-4d21-47f1-91e9-51d70cca47e1\"\n",
      "            },\n",
      "            \"sop_guid\": \"6b856de0-845d-498f-9b39-6e8a10ecefd9\",\n",
      "            \"description\": \"\",\n",
      "            \"sop_guids\": [],\n",
      "            \"sop\": {\n",
      "                \"name\": \"Material.3.SOP\",\n",
      "                \"mirror\": {\n",
      "                    \"reflectance\": 100.0\n",
      "                },\n",
      "                \"description\": \"\",\n",
      "                \"metadata\": {}\n",
      "            }\n",
      "        }\n",
      "    ],\n",
      "    \"name\": \"\",\n",
      "    \"description\": \"\",\n",
      "    \"metadata\": {},\n",
      "    \"sources\": [],\n",
      "    \"sensors\": [],\n",
      "    \"simulations\": [],\n",
      "    \"scenes\": []\n",
      "}\n"
     ]
    }
   ],
   "source": [
    "print(p)"
   ]
  },
  {
   "cell_type": "markdown",
   "id": "6cb4574e",
   "metadata": {
    "lines_to_next_cell": 2
   },
   "source": [
    "## Update\n",
    "\n",
    "Tipp: if you are manipulating an optical property already committed, don't forget to commit your\n",
    "changes.\n",
    "\n",
    "If you don't, you will still only watch what is committed on the server."
   ]
  },
  {
   "cell_type": "code",
   "execution_count": 15,
   "id": "5ebcf46b",
   "metadata": {
    "execution": {
     "iopub.execute_input": "2025-10-10T08:20:31.394346Z",
     "iopub.status.busy": "2025-10-10T08:20:31.394115Z",
     "iopub.status.idle": "2025-10-10T08:20:31.410988Z",
     "shell.execute_reply": "2025-10-10T08:20:31.410279Z"
    },
    "lines_to_next_cell": 2
   },
   "outputs": [
    {
     "name": "stdout",
     "output_type": "stream",
     "text": [
      "op1 surface type before update: {'name': 'Material.1.SOP', 'mirror': {'reflectance': 80.0}, 'description': '', 'metadata': {}}\n",
      "{\n",
      "    \"name\": \"Material.1\",\n",
      "    \"metadata\": {\n",
      "        \"UniqueId\": \"3b6bb845-de1c-47ac-a1ba-3a6512fb0b9b\"\n",
      "    },\n",
      "    \"vop_guid\": \"f9b69899-ae31-492d-8a04-8d8db77c3e6f\",\n",
      "    \"geometries\": {\n",
      "        \"geo_paths\": [\n",
      "            \"TheBodyB\",\n",
      "            \"TheBodyC\"\n",
      "        ]\n",
      "    },\n",
      "    \"sop_guid\": \"eb2369b9-57cb-4d0c-a606-7ad905fdc951\",\n",
      "    \"description\": \"\",\n",
      "    \"sop_guids\": [],\n",
      "    \"vop\": {\n",
      "        \"name\": \"Material.1.VOP\",\n",
      "        \"optic\": {\n",
      "            \"index\": 1.5,\n",
      "            \"absorption\": 0.0\n",
      "        },\n",
      "        \"description\": \"\",\n",
      "        \"metadata\": {}\n",
      "    },\n",
      "    \"sop\": {\n",
      "        \"name\": \"Material.1.SOP\",\n",
      "        \"optical_polished\": {},\n",
      "        \"description\": \"\",\n",
      "        \"metadata\": {}\n",
      "    },\n",
      "    \"sops\": [\n",
      "        {\n",
      "            \"name\": \"Material.1.SOP\",\n",
      "            \"optical_polished\": {},\n",
      "            \"description\": \"\",\n",
      "            \"metadata\": {}\n",
      "        }\n",
      "    ]\n",
      "}\n",
      "op1 surface type after update: {'name': 'Material.1.SOP', 'optical_polished': {}, 'description': '', 'metadata': {}}\n"
     ]
    }
   ],
   "source": [
    "print(\"op1 surface type before update: {}\".format(op1.get(key=\"sops\")[0]))\n",
    "op1.set_volume_optic().set_surface_opticalpolished().commit()\n",
    "print(op1)\n",
    "print(\"op1 surface type after update: {}\".format(op1.get(key=\"sops\")[0]))"
   ]
  },
  {
   "cell_type": "markdown",
   "id": "0e38f23f",
   "metadata": {},
   "source": [
    "## Reset\n",
    "\n",
    "Possibility to reset local values from the one available in the server."
   ]
  },
  {
   "cell_type": "code",
   "execution_count": 16,
   "id": "b387dc4c",
   "metadata": {
    "execution": {
     "iopub.execute_input": "2025-10-10T08:20:31.413463Z",
     "iopub.status.busy": "2025-10-10T08:20:31.413071Z",
     "iopub.status.idle": "2025-10-10T08:20:31.422375Z",
     "shell.execute_reply": "2025-10-10T08:20:31.421692Z"
    },
    "lines_to_next_cell": 2
   },
   "outputs": [
    {
     "name": "stdout",
     "output_type": "stream",
     "text": [
      "local: {\n",
      "    \"name\": \"Material.1\",\n",
      "    \"vop_guid\": \"\",\n",
      "    \"geometries\": {\n",
      "        \"geo_paths\": [\n",
      "            \"TheBodyB\",\n",
      "            \"TheBodyC\"\n",
      "        ]\n",
      "    },\n",
      "    \"description\": \"\",\n",
      "    \"metadata\": {},\n",
      "    \"sop_guids\": [],\n",
      "    \"vop\": {\n",
      "        \"name\": \"Material.1.VOP\",\n",
      "        \"optic\": {\n",
      "            \"index\": 1.5,\n",
      "            \"absorption\": 0.0\n",
      "        },\n",
      "        \"description\": \"\",\n",
      "        \"metadata\": {}\n",
      "    },\n",
      "    \"sops\": [\n",
      "        {\n",
      "            \"name\": \"Material.1.SOP\",\n",
      "            \"optical_polished\": {},\n",
      "            \"description\": \"\",\n",
      "            \"metadata\": {}\n",
      "        }\n",
      "    ]\n",
      "}\n"
     ]
    }
   ],
   "source": [
    "op1.set_surface_mirror()  # set surface as a mirror but no commit\n",
    "op1.reset()  # reset -> this will apply the server value to the local value\n",
    "op1.delete()  # delete (to display the local value with the below print)\n",
    "print(op1)"
   ]
  },
  {
   "cell_type": "markdown",
   "id": "5df791d1",
   "metadata": {
    "lines_to_next_cell": 2
   },
   "source": [
    "## Delete\n",
    "\n",
    "Once the data is deleted from the server, you can still work with local data and maybe commit\n",
    "later."
   ]
  },
  {
   "cell_type": "code",
   "execution_count": 17,
   "id": "fba04593",
   "metadata": {
    "execution": {
     "iopub.execute_input": "2025-10-10T08:20:31.424395Z",
     "iopub.status.busy": "2025-10-10T08:20:31.424168Z",
     "iopub.status.idle": "2025-10-10T08:20:31.431883Z",
     "shell.execute_reply": "2025-10-10T08:20:31.431204Z"
    }
   },
   "outputs": [
    {
     "name": "stdout",
     "output_type": "stream",
     "text": [
      "local: {\n",
      "    \"name\": \"Material.2\",\n",
      "    \"vop_guid\": \"\",\n",
      "    \"geometries\": {\n",
      "        \"geo_paths\": [\n",
      "            \"TheBodyD\",\n",
      "            \"TheBodyE\"\n",
      "        ]\n",
      "    },\n",
      "    \"description\": \"\",\n",
      "    \"metadata\": {},\n",
      "    \"sop_guids\": [],\n",
      "    \"vop\": {\n",
      "        \"name\": \"Material.2.VOP\",\n",
      "        \"library\": {\n",
      "            \"material_file_uri\": \"/app/assets/AIR.material\"\n",
      "        },\n",
      "        \"description\": \"\",\n",
      "        \"metadata\": {}\n",
      "    },\n",
      "    \"sops\": [\n",
      "        {\n",
      "            \"name\": \"Material.2.SOP\",\n",
      "            \"optical_polished\": {},\n",
      "            \"description\": \"\",\n",
      "            \"metadata\": {}\n",
      "        }\n",
      "    ]\n",
      "}\n"
     ]
    }
   ],
   "source": [
    "op2.delete()\n",
    "print(op2)"
   ]
  },
  {
   "cell_type": "markdown",
   "id": "d232bac1",
   "metadata": {},
   "source": [
    "Clean up all Optical properties"
   ]
  },
  {
   "cell_type": "code",
   "execution_count": 18,
   "id": "f6299ea4",
   "metadata": {
    "execution": {
     "iopub.execute_input": "2025-10-10T08:20:31.433852Z",
     "iopub.status.busy": "2025-10-10T08:20:31.433643Z",
     "iopub.status.idle": "2025-10-10T08:20:31.448937Z",
     "shell.execute_reply": "2025-10-10T08:20:31.448235Z"
    }
   },
   "outputs": [
    {
     "data": {
      "text/plain": [
       "<ansys.speos.core.opt_prop.OptProp at 0x7f04affee230>"
      ]
     },
     "execution_count": 18,
     "metadata": {},
     "output_type": "execute_result"
    }
   ],
   "source": [
    "op1.delete()\n",
    "op3.delete()\n",
    "op4.delete()"
   ]
  },
  {
   "cell_type": "code",
   "execution_count": 19,
   "id": "3ff31074",
   "metadata": {
    "execution": {
     "iopub.execute_input": "2025-10-10T08:20:31.450833Z",
     "iopub.status.busy": "2025-10-10T08:20:31.450627Z",
     "iopub.status.idle": "2025-10-10T08:20:31.455013Z",
     "shell.execute_reply": "2025-10-10T08:20:31.454343Z"
    }
   },
   "outputs": [
    {
     "data": {
      "text/plain": [
       "True"
      ]
     },
     "execution_count": 19,
     "metadata": {},
     "output_type": "execute_result"
    }
   ],
   "source": [
    "speos.close()"
   ]
  }
 ],
 "metadata": {
  "jupytext": {
   "cell_metadata_filter": "-all",
   "main_language": "python",
   "notebook_metadata_filter": "-all",
   "text_representation": {
    "extension": ".py",
    "format_name": "light"
   }
  },
  "language_info": {
   "codemirror_mode": {
    "name": "ipython",
    "version": 3
   },
   "file_extension": ".py",
   "mimetype": "text/x-python",
   "name": "python",
   "nbconvert_exporter": "python",
   "pygments_lexer": "ipython3",
   "version": "3.10.18"
  }
 },
 "nbformat": 4,
 "nbformat_minor": 5
}
