{
 "cells": [
  {
   "cell_type": "markdown",
   "id": "82e11c75",
   "metadata": {},
   "source": [
    "# How to create a sensor\n",
    "\n",
    "This tutorial demonstrates how to create a sensor.\n",
    "\n",
    "There are different type of sensors available: irradiance sensor, radiance sensor, camera sensor."
   ]
  },
  {
   "cell_type": "markdown",
   "id": "3f000235",
   "metadata": {},
   "source": [
    "## Prerequisites\n",
    "\n",
    "### Perform imports"
   ]
  },
  {
   "cell_type": "code",
   "execution_count": 1,
   "id": "03fb4c40",
   "metadata": {
    "execution": {
     "iopub.execute_input": "2025-10-10T08:22:24.694926Z",
     "iopub.status.busy": "2025-10-10T08:22:24.694604Z",
     "iopub.status.idle": "2025-10-10T08:22:24.701841Z",
     "shell.execute_reply": "2025-10-10T08:22:24.701303Z"
    }
   },
   "outputs": [],
   "source": [
    "from pathlib import Path"
   ]
  },
  {
   "cell_type": "code",
   "execution_count": 2,
   "id": "f695995d",
   "metadata": {
    "execution": {
     "iopub.execute_input": "2025-10-10T08:22:24.703588Z",
     "iopub.status.busy": "2025-10-10T08:22:24.703406Z",
     "iopub.status.idle": "2025-10-10T08:22:25.772232Z",
     "shell.execute_reply": "2025-10-10T08:22:25.771384Z"
    }
   },
   "outputs": [],
   "source": [
    "from ansys.speos.core import GeoRef, Project, Speos, launcher\n",
    "from ansys.speos.core.sensor import (\n",
    "    Sensor3DIrradiance,\n",
    "    SensorCamera,\n",
    "    SensorIrradiance,\n",
    "    SensorRadiance,\n",
    ")"
   ]
  },
  {
   "cell_type": "markdown",
   "id": "e2fc180f",
   "metadata": {},
   "source": [
    "### Define constants\n",
    "\n",
    "The constants help ensure consistency and avoid repetition throughout the example."
   ]
  },
  {
   "cell_type": "code",
   "execution_count": 3,
   "id": "49382eef",
   "metadata": {
    "execution": {
     "iopub.execute_input": "2025-10-10T08:22:25.775235Z",
     "iopub.status.busy": "2025-10-10T08:22:25.774833Z",
     "iopub.status.idle": "2025-10-10T08:22:25.778753Z",
     "shell.execute_reply": "2025-10-10T08:22:25.778116Z"
    }
   },
   "outputs": [],
   "source": [
    "HOSTNAME = \"localhost\"\n",
    "GRPC_PORT = 50098  # Be sure the Speos GRPC Server has been started on this port.\n",
    "USE_DOCKER = True  # Set to False if you're running this example locally as a Notebook.\n",
    "FILES = \"CameraInputFiles\""
   ]
  },
  {
   "cell_type": "markdown",
   "id": "941a09d1",
   "metadata": {
    "lines_to_next_cell": 2
   },
   "source": [
    "### Define helper functions"
   ]
  },
  {
   "cell_type": "code",
   "execution_count": 4,
   "id": "fc3e4282",
   "metadata": {
    "execution": {
     "iopub.execute_input": "2025-10-10T08:22:25.780811Z",
     "iopub.status.busy": "2025-10-10T08:22:25.780604Z",
     "iopub.status.idle": "2025-10-10T08:22:25.786460Z",
     "shell.execute_reply": "2025-10-10T08:22:25.785856Z"
    }
   },
   "outputs": [],
   "source": [
    "def create_helper_geometries(project: Project):\n",
    "    \"\"\"Create bodies and faces.\"\"\"\n",
    "\n",
    "    def create_face(body):\n",
    "        (\n",
    "            body.create_face(name=\"TheFaceF\")\n",
    "            .set_vertices([0, 0, 0, 1, 0, 0, 0, 1, 0])\n",
    "            .set_facets([0, 1, 2])\n",
    "            .set_normals([0, 0, 1, 0, 0, 1, 0, 0, 1])\n",
    "            .commit()\n",
    "        )\n",
    "\n",
    "    root_part = project.create_root_part().commit()\n",
    "    body_b1 = root_part.create_body(name=\"TheBodyB\").commit()\n",
    "    body_b2 = root_part.create_body(name=\"TheBodyC\").commit()\n",
    "    body_b3 = root_part.create_body(name=\"TheBodyD\").commit()\n",
    "    body_b4 = root_part.create_body(name=\"TheBodyE\").commit()\n",
    "    for b in [body_b1, body_b2, body_b3, body_b4]:\n",
    "        create_face(b)"
   ]
  },
  {
   "cell_type": "markdown",
   "id": "abc32038",
   "metadata": {},
   "source": [
    "## Model Setup\n",
    "\n",
    "### Load assets\n",
    "The assets used to run this example are available in the\n",
    "[PySpeos repository](https://github.com/ansys/pyspeos/) on GitHub.\n",
    "\n",
    "> **Note:** Make sure you\n",
    "> have downloaded simulation assets and set ``assets_data_path``\n",
    "> to point to the assets folder."
   ]
  },
  {
   "cell_type": "code",
   "execution_count": 5,
   "id": "7ce764f1",
   "metadata": {
    "execution": {
     "iopub.execute_input": "2025-10-10T08:22:25.788405Z",
     "iopub.status.busy": "2025-10-10T08:22:25.788166Z",
     "iopub.status.idle": "2025-10-10T08:22:25.791130Z",
     "shell.execute_reply": "2025-10-10T08:22:25.790581Z"
    }
   },
   "outputs": [],
   "source": [
    "if USE_DOCKER:  # Running on the remote server.\n",
    "    assets_data_path = Path(\"/app\") / \"assets\"\n",
    "else:\n",
    "    assets_data_path = Path(\"/path/to/your/download/assets/directory\")"
   ]
  },
  {
   "cell_type": "markdown",
   "id": "aed639ce",
   "metadata": {},
   "source": [
    "### Connect to the RPC Server\n",
    "This Python client connects to a server where the Speos engine\n",
    "is running as a service. In this example, the server and\n",
    "client are the same machine. The launch_local_speos_rpc_method can\n",
    "be used to start a local instance of the service."
   ]
  },
  {
   "cell_type": "code",
   "execution_count": 6,
   "id": "84023c9f",
   "metadata": {
    "execution": {
     "iopub.execute_input": "2025-10-10T08:22:25.792958Z",
     "iopub.status.busy": "2025-10-10T08:22:25.792744Z",
     "iopub.status.idle": "2025-10-10T08:22:25.799998Z",
     "shell.execute_reply": "2025-10-10T08:22:25.799425Z"
    }
   },
   "outputs": [],
   "source": [
    "if USE_DOCKER:\n",
    "    speos = Speos(host=HOSTNAME, port=GRPC_PORT)\n",
    "else:\n",
    "    speos = launcher.launch_local_speos_rpc_server(port=GRPC_PORT)"
   ]
  },
  {
   "cell_type": "markdown",
   "id": "cc557297",
   "metadata": {},
   "source": [
    "## Create a new project\n",
    "\n",
    "The only way to create a sensor, is to create it from a project."
   ]
  },
  {
   "cell_type": "code",
   "execution_count": 7,
   "id": "67f705f2",
   "metadata": {
    "execution": {
     "iopub.execute_input": "2025-10-10T08:22:25.801962Z",
     "iopub.status.busy": "2025-10-10T08:22:25.801720Z",
     "iopub.status.idle": "2025-10-10T08:22:25.810910Z",
     "shell.execute_reply": "2025-10-10T08:22:25.810314Z"
    }
   },
   "outputs": [
    {
     "name": "stdout",
     "output_type": "stream",
     "text": [
      "{\n",
      "    \"name\": \"\",\n",
      "    \"description\": \"\",\n",
      "    \"metadata\": {},\n",
      "    \"part_guid\": \"\",\n",
      "    \"sources\": [],\n",
      "    \"sensors\": [],\n",
      "    \"simulations\": [],\n",
      "    \"materials\": [],\n",
      "    \"scenes\": []\n",
      "}\n"
     ]
    }
   ],
   "source": [
    "p = Project(speos=speos)\n",
    "print(p)"
   ]
  },
  {
   "cell_type": "markdown",
   "id": "84928b86",
   "metadata": {},
   "source": [
    "## Create\n",
    "\n",
    "Create locally."
   ]
  },
  {
   "cell_type": "markdown",
   "id": "bb3518b6",
   "metadata": {},
   "source": [
    "The mention \"local: \" is added when printing the sensor"
   ]
  },
  {
   "cell_type": "code",
   "execution_count": 8,
   "id": "ba62f29a",
   "metadata": {
    "execution": {
     "iopub.execute_input": "2025-10-10T08:22:25.813051Z",
     "iopub.status.busy": "2025-10-10T08:22:25.812860Z",
     "iopub.status.idle": "2025-10-10T08:22:25.825988Z",
     "shell.execute_reply": "2025-10-10T08:22:25.825295Z"
    }
   },
   "outputs": [
    {
     "name": "stdout",
     "output_type": "stream",
     "text": [
      "local: {\n",
      "    \"name\": \"Camera.1\",\n",
      "    \"description\": \"\",\n",
      "    \"metadata\": {},\n",
      "    \"sensor_guid\": \"\",\n",
      "    \"result_file_name\": \"\",\n",
      "    \"sensor\": {\n",
      "        \"camera_sensor_template\": {\n",
      "            \"sensor_mode_photometric\": {\n",
      "                \"acquisition_integration\": 0.01,\n",
      "                \"transmittance_file_uri\": \"/app/assets/CameraInputFiles/CameraTransmittance.spectrum\",\n",
      "                \"gamma_correction\": 2.2,\n",
      "                \"png_bits\": \"PNG_16\",\n",
      "                \"color_mode_color\": {\n",
      "                    \"red_spectrum_file_uri\": \"/app/assets/CameraInputFiles/CameraSensitivityRed.spectrum\",\n",
      "                    \"green_spectrum_file_uri\": \"/app/assets/CameraInputFiles/CameraSensitivityGreen.spectrum\",\n",
      "                    \"blue_spectrum_file_uri\": \"/app/assets/CameraInputFiles/CameraSensitivityBlue.spectrum\",\n",
      "                    \"balance_mode_none\": {}\n",
      "                },\n",
      "                \"wavelengths_range\": {\n",
      "                    \"w_start\": 400.0,\n",
      "                    \"w_end\": 700.0,\n",
      "                    \"w_sampling\": 13\n",
      "                },\n",
      "                \"acquisition_lag_time\": 0.0\n",
      "            },\n",
      "            \"focal_length\": 5.0,\n",
      "            \"imager_distance\": 10.0,\n",
      "            \"f_number\": 20.0,\n",
      "            \"horz_pixel\": 640,\n",
      "            \"vert_pixel\": 480,\n",
      "            \"width\": 5.0,\n",
      "            \"height\": 5.0,\n",
      "            \"distortion_file_uri\": \"/app/assets/CameraInputFiles/CameraDistortion_130deg.OPTDistortion\",\n",
      "            \"distorsion_file_uri\": \"\",\n",
      "            \"axis_system\": [\n",
      "                0.0,\n",
      "                0.0,\n",
      "                0.0,\n",
      "                1.0,\n",
      "                0.0,\n",
      "                0.0,\n",
      "                0.0,\n",
      "                1.0,\n",
      "                0.0,\n",
      "                0.0,\n",
      "                0.0,\n",
      "                1.0\n",
      "            ],\n",
      "            \"layer_type_none\": {},\n",
      "            \"trajectory_file_uri\": \"\"\n",
      "        },\n",
      "        \"name\": \"Camera.1\",\n",
      "        \"description\": \"\",\n",
      "        \"metadata\": {}\n",
      "    }\n",
      "}\n"
     ]
    }
   ],
   "source": [
    "\n",
    "distortion_file_path = str(assets_data_path / FILES / \"CameraDistortion_130deg.OPTDistortion\")\n",
    "transmittance_file_path = str(assets_data_path / FILES / \"CameraTransmittance.spectrum\")\n",
    "blue_spectrum_path = str(assets_data_path / FILES / \"CameraSensitivityBlue.spectrum\")\n",
    "green_spectrum_path = str(assets_data_path / FILES / \"CameraSensitivityGreen.spectrum\")\n",
    "red_spectrum_path = str(assets_data_path / FILES / \"CameraSensitivityRed.spectrum\")\n",
    "\n",
    "sensor1 = p.create_sensor(name=\"Camera.1\", feature_type=SensorCamera)\n",
    "sensor1.set_distortion_file_uri(uri=distortion_file_path)\n",
    "# Choose photometric mode\n",
    "sensor1.set_mode_photometric().set_transmittance_file_uri(uri=transmittance_file_path)\n",
    "# Choose color mode (will imply to give spectrum file for blue, green and red)\n",
    "sensor1.set_mode_photometric().set_mode_color().set_blue_spectrum_file_uri(uri=blue_spectrum_path)\n",
    "sensor1.set_mode_photometric().set_mode_color().set_green_spectrum_file_uri(uri=green_spectrum_path)\n",
    "sensor1.set_mode_photometric().set_mode_color().set_red_spectrum_file_uri(uri=red_spectrum_path)\n",
    "print(sensor1)"
   ]
  },
  {
   "cell_type": "markdown",
   "id": "e6765f31",
   "metadata": {},
   "source": [
    "## Push it to the server.\n",
    "\n",
    "Now that it is committed to the server, the mention \"local: \" is no more present when printing the\n",
    "sensor."
   ]
  },
  {
   "cell_type": "code",
   "execution_count": 9,
   "id": "3fc7540e",
   "metadata": {
    "execution": {
     "iopub.execute_input": "2025-10-10T08:22:25.827979Z",
     "iopub.status.busy": "2025-10-10T08:22:25.827790Z",
     "iopub.status.idle": "2025-10-10T08:22:27.345417Z",
     "shell.execute_reply": "2025-10-10T08:22:27.344574Z"
    }
   },
   "outputs": [
    {
     "name": "stdout",
     "output_type": "stream",
     "text": [
      "{\n",
      "    \"name\": \"Camera.1\",\n",
      "    \"metadata\": {\n",
      "        \"UniqueId\": \"731c0c0e-63d1-4139-81ca-3567c75359c6\"\n",
      "    },\n",
      "    \"sensor_guid\": \"fbbc2e25-7248-48b2-808f-9eef9fa225df\",\n",
      "    \"description\": \"\",\n",
      "    \"result_file_name\": \"\",\n",
      "    \"sensor\": {\n",
      "        \"camera_sensor_template\": {\n",
      "            \"sensor_mode_photometric\": {\n",
      "                \"acquisition_integration\": 0.01,\n",
      "                \"transmittance_file_uri\": \"/app/assets/CameraInputFiles/CameraTransmittance.spectrum\",\n",
      "                \"gamma_correction\": 2.2,\n",
      "                \"png_bits\": \"PNG_16\",\n",
      "                \"color_mode_color\": {\n",
      "                    \"red_spectrum_file_uri\": \"/app/assets/CameraInputFiles/CameraSensitivityRed.spectrum\",\n",
      "                    \"green_spectrum_file_uri\": \"/app/assets/CameraInputFiles/CameraSensitivityGreen.spectrum\",\n",
      "                    \"blue_spectrum_file_uri\": \"/app/assets/CameraInputFiles/CameraSensitivityBlue.spectrum\",\n",
      "                    \"balance_mode_none\": {}\n",
      "                },\n",
      "                \"wavelengths_range\": {\n",
      "                    \"w_start\": 400.0,\n",
      "                    \"w_end\": 700.0,\n",
      "                    \"w_sampling\": 13\n",
      "                },\n",
      "                \"acquisition_lag_time\": 0.0\n",
      "            },\n",
      "            \"focal_length\": 5.0,\n",
      "            \"imager_distance\": 10.0,\n",
      "            \"f_number\": 20.0,\n",
      "            \"horz_pixel\": 640,\n",
      "            \"vert_pixel\": 480,\n",
      "            \"width\": 5.0,\n",
      "            \"height\": 5.0,\n",
      "            \"distortion_file_uri\": \"/app/assets/CameraInputFiles/CameraDistortion_130deg.OPTDistortion\",\n",
      "            \"distorsion_file_uri\": \"\",\n",
      "            \"axis_system\": [\n",
      "                0.0,\n",
      "                0.0,\n",
      "                0.0,\n",
      "                1.0,\n",
      "                0.0,\n",
      "                0.0,\n",
      "                0.0,\n",
      "                1.0,\n",
      "                0.0,\n",
      "                0.0,\n",
      "                0.0,\n",
      "                1.0\n",
      "            ],\n",
      "            \"layer_type_none\": {},\n",
      "            \"trajectory_file_uri\": \"\"\n",
      "        },\n",
      "        \"name\": \"Camera.1\",\n",
      "        \"description\": \"\",\n",
      "        \"metadata\": {}\n",
      "    }\n",
      "}\n"
     ]
    }
   ],
   "source": [
    "sensor1.commit()\n",
    "print(sensor1)"
   ]
  },
  {
   "cell_type": "markdown",
   "id": "fce183d9",
   "metadata": {},
   "source": [
    "## Another example\n",
    "\n",
    "Set more characteristics.\n",
    "\n",
    "Camera feature is created with the same default values as the GUI speos.\n",
    "\n",
    "If the user would like to modify the camera characteristics,\n",
    "it is possible to do so as below."
   ]
  },
  {
   "cell_type": "code",
   "execution_count": 10,
   "id": "0fee0f7d",
   "metadata": {
    "execution": {
     "iopub.execute_input": "2025-10-10T08:22:27.347736Z",
     "iopub.status.busy": "2025-10-10T08:22:27.347475Z",
     "iopub.status.idle": "2025-10-10T08:22:27.369460Z",
     "shell.execute_reply": "2025-10-10T08:22:27.368734Z"
    },
    "lines_to_next_cell": 2
   },
   "outputs": [
    {
     "name": "stdout",
     "output_type": "stream",
     "text": [
      "{\n",
      "    \"name\": \"Camera.2\",\n",
      "    \"metadata\": {\n",
      "        \"UniqueId\": \"2fe1e35a-a662-4be6-b1e9-3806b66d176e\"\n",
      "    },\n",
      "    \"sensor_guid\": \"0f53e1cc-fd5f-40c6-a62c-8d980d83934c\",\n",
      "    \"description\": \"\",\n",
      "    \"result_file_name\": \"\",\n",
      "    \"sensor\": {\n",
      "        \"camera_sensor_template\": {\n",
      "            \"sensor_mode_photometric\": {\n",
      "                \"acquisition_integration\": 0.01,\n",
      "                \"transmittance_file_uri\": \"/app/assets/CameraInputFiles/CameraTransmittance.spectrum\",\n",
      "                \"gamma_correction\": 2.2,\n",
      "                \"png_bits\": \"PNG_16\",\n",
      "                \"color_mode_color\": {\n",
      "                    \"red_spectrum_file_uri\": \"/app/assets/CameraInputFiles/CameraSensitivityRed.spectrum\",\n",
      "                    \"green_spectrum_file_uri\": \"/app/assets/CameraInputFiles/CameraSensitivityGreen.spectrum\",\n",
      "                    \"blue_spectrum_file_uri\": \"/app/assets/CameraInputFiles/CameraSensitivityBlue.spectrum\",\n",
      "                    \"balance_mode_none\": {}\n",
      "                },\n",
      "                \"wavelengths_range\": {\n",
      "                    \"w_start\": 400.0,\n",
      "                    \"w_end\": 700.0,\n",
      "                    \"w_sampling\": 13\n",
      "                },\n",
      "                \"acquisition_lag_time\": 0.0\n",
      "            },\n",
      "            \"focal_length\": 5.5,\n",
      "            \"imager_distance\": 10.0,\n",
      "            \"f_number\": 20.0,\n",
      "            \"horz_pixel\": 640,\n",
      "            \"vert_pixel\": 480,\n",
      "            \"width\": 6.0,\n",
      "            \"height\": 6.0,\n",
      "            \"distortion_file_uri\": \"/app/assets/CameraInputFiles/CameraDistortion_130deg.OPTDistortion\",\n",
      "            \"distorsion_file_uri\": \"\",\n",
      "            \"axis_system\": [\n",
      "                20.0,\n",
      "                10.0,\n",
      "                40.0,\n",
      "                1.0,\n",
      "                0.0,\n",
      "                0.0,\n",
      "                0.0,\n",
      "                1.0,\n",
      "                0.0,\n",
      "                0.0,\n",
      "                0.0,\n",
      "                1.0\n",
      "            ],\n",
      "            \"layer_type_source\": {},\n",
      "            \"trajectory_file_uri\": \"\"\n",
      "        },\n",
      "        \"name\": \"Camera.2\",\n",
      "        \"description\": \"\",\n",
      "        \"metadata\": {}\n",
      "    }\n",
      "}\n"
     ]
    }
   ],
   "source": [
    "distortion_file_path = str(assets_data_path / FILES / \"CameraDistortion_130deg.OPTDistortion\")\n",
    "transmittance_file_path = str(assets_data_path / FILES / \"CameraTransmittance.spectrum\")\n",
    "blue_spectrum_path = str(assets_data_path / FILES / \"CameraSensitivityBlue.spectrum\")\n",
    "green_spectrum_path = str(assets_data_path / FILES / \"CameraSensitivityGreen.spectrum\")\n",
    "red_spectrum_path = str(assets_data_path / FILES / \"CameraSensitivityRed.spectrum\")\n",
    "\n",
    "sensor2 = p.create_sensor(name=\"Camera.2\", feature_type=SensorCamera)\n",
    "sensor2.set_distortion_file_uri(uri=distortion_file_path)\n",
    "sensor2.set_mode_photometric().set_transmittance_file_uri(uri=transmittance_file_path)\n",
    "sensor2.set_mode_photometric().set_layer_type_source()\n",
    "sensor2.set_mode_photometric().set_mode_color().set_blue_spectrum_file_uri(uri=blue_spectrum_path)\n",
    "sensor2.set_mode_photometric().set_mode_color().set_green_spectrum_file_uri(uri=green_spectrum_path)\n",
    "sensor2.set_mode_photometric().set_mode_color().set_red_spectrum_file_uri(uri=red_spectrum_path)\n",
    "sensor2.set_focal_length(5.5)\n",
    "sensor2.set_height(value=6).set_width(value=6)  # dimensions\n",
    "sensor2.set_axis_system(\n",
    "    [20, 10, 40, 1, 0, 0, 0, 1, 0, 0, 0, 1]\n",
    ")  # camera location [Origin, Xvector, Yvector, Zvector]\n",
    "sensor2.commit()\n",
    "\n",
    "print(sensor2)"
   ]
  },
  {
   "cell_type": "markdown",
   "id": "97eb089e",
   "metadata": {},
   "source": [
    "## Read\n",
    "\n",
    "### Sensor Instance\n",
    "\n",
    "A mention \"local: \" is added if it is not yet committed to the server"
   ]
  },
  {
   "cell_type": "code",
   "execution_count": 11,
   "id": "bff5c54e",
   "metadata": {
    "execution": {
     "iopub.execute_input": "2025-10-10T08:22:27.371713Z",
     "iopub.status.busy": "2025-10-10T08:22:27.371498Z",
     "iopub.status.idle": "2025-10-10T08:22:27.378799Z",
     "shell.execute_reply": "2025-10-10T08:22:27.378093Z"
    }
   },
   "outputs": [
    {
     "name": "stdout",
     "output_type": "stream",
     "text": [
      "{\n",
      "    \"name\": \"Camera.1\",\n",
      "    \"metadata\": {\n",
      "        \"UniqueId\": \"731c0c0e-63d1-4139-81ca-3567c75359c6\"\n",
      "    },\n",
      "    \"sensor_guid\": \"fbbc2e25-7248-48b2-808f-9eef9fa225df\",\n",
      "    \"description\": \"\",\n",
      "    \"result_file_name\": \"\",\n",
      "    \"sensor\": {\n",
      "        \"camera_sensor_template\": {\n",
      "            \"sensor_mode_photometric\": {\n",
      "                \"acquisition_integration\": 0.01,\n",
      "                \"transmittance_file_uri\": \"/app/assets/CameraInputFiles/CameraTransmittance.spectrum\",\n",
      "                \"gamma_correction\": 2.2,\n",
      "                \"png_bits\": \"PNG_16\",\n",
      "                \"color_mode_color\": {\n",
      "                    \"red_spectrum_file_uri\": \"/app/assets/CameraInputFiles/CameraSensitivityRed.spectrum\",\n",
      "                    \"green_spectrum_file_uri\": \"/app/assets/CameraInputFiles/CameraSensitivityGreen.spectrum\",\n",
      "                    \"blue_spectrum_file_uri\": \"/app/assets/CameraInputFiles/CameraSensitivityBlue.spectrum\",\n",
      "                    \"balance_mode_none\": {}\n",
      "                },\n",
      "                \"wavelengths_range\": {\n",
      "                    \"w_start\": 400.0,\n",
      "                    \"w_end\": 700.0,\n",
      "                    \"w_sampling\": 13\n",
      "                },\n",
      "                \"acquisition_lag_time\": 0.0\n",
      "            },\n",
      "            \"focal_length\": 5.0,\n",
      "            \"imager_distance\": 10.0,\n",
      "            \"f_number\": 20.0,\n",
      "            \"horz_pixel\": 640,\n",
      "            \"vert_pixel\": 480,\n",
      "            \"width\": 5.0,\n",
      "            \"height\": 5.0,\n",
      "            \"distortion_file_uri\": \"/app/assets/CameraInputFiles/CameraDistortion_130deg.OPTDistortion\",\n",
      "            \"distorsion_file_uri\": \"\",\n",
      "            \"axis_system\": [\n",
      "                0.0,\n",
      "                0.0,\n",
      "                0.0,\n",
      "                1.0,\n",
      "                0.0,\n",
      "                0.0,\n",
      "                0.0,\n",
      "                1.0,\n",
      "                0.0,\n",
      "                0.0,\n",
      "                0.0,\n",
      "                1.0\n",
      "            ],\n",
      "            \"layer_type_none\": {},\n",
      "            \"trajectory_file_uri\": \"\"\n",
      "        },\n",
      "        \"name\": \"Camera.1\",\n",
      "        \"description\": \"\",\n",
      "        \"metadata\": {}\n",
      "    }\n",
      "}\n"
     ]
    }
   ],
   "source": [
    "print(sensor1)"
   ]
  },
  {
   "cell_type": "markdown",
   "id": "350a7194",
   "metadata": {},
   "source": [
    "### Project"
   ]
  },
  {
   "cell_type": "markdown",
   "id": "dca5a205",
   "metadata": {},
   "source": [
    "Committed feature will appear in the project."
   ]
  },
  {
   "cell_type": "code",
   "execution_count": 12,
   "id": "880c226c",
   "metadata": {
    "execution": {
     "iopub.execute_input": "2025-10-10T08:22:27.380828Z",
     "iopub.status.busy": "2025-10-10T08:22:27.380619Z",
     "iopub.status.idle": "2025-10-10T08:22:27.390063Z",
     "shell.execute_reply": "2025-10-10T08:22:27.389453Z"
    }
   },
   "outputs": [
    {
     "name": "stdout",
     "output_type": "stream",
     "text": [
      "{\n",
      "    \"sensors\": [\n",
      "        {\n",
      "            \"name\": \"Camera.1\",\n",
      "            \"metadata\": {\n",
      "                \"UniqueId\": \"731c0c0e-63d1-4139-81ca-3567c75359c6\"\n",
      "            },\n",
      "            \"sensor_guid\": \"fbbc2e25-7248-48b2-808f-9eef9fa225df\",\n",
      "            \"description\": \"\",\n",
      "            \"result_file_name\": \"\",\n",
      "            \"sensor\": {\n",
      "                \"camera_sensor_template\": {\n",
      "                    \"sensor_mode_photometric\": {\n",
      "                        \"acquisition_integration\": 0.01,\n",
      "                        \"transmittance_file_uri\": \"/app/assets/CameraInputFiles/CameraTransmittance.spectrum\",\n",
      "                        \"gamma_correction\": 2.2,\n",
      "                        \"png_bits\": \"PNG_16\",\n",
      "                        \"color_mode_color\": {\n",
      "                            \"red_spectrum_file_uri\": \"/app/assets/CameraInputFiles/CameraSensitivityRed.spectrum\",\n",
      "                            \"green_spectrum_file_uri\": \"/app/assets/CameraInputFiles/CameraSensitivityGreen.spectrum\",\n",
      "                            \"blue_spectrum_file_uri\": \"/app/assets/CameraInputFiles/CameraSensitivityBlue.spectrum\",\n",
      "                            \"balance_mode_none\": {}\n",
      "                        },\n",
      "                        \"wavelengths_range\": {\n",
      "                            \"w_start\": 400.0,\n",
      "                            \"w_end\": 700.0,\n",
      "                            \"w_sampling\": 13\n",
      "                        },\n",
      "                        \"acquisition_lag_time\": 0.0\n",
      "                    },\n",
      "                    \"focal_length\": 5.0,\n",
      "                    \"imager_distance\": 10.0,\n",
      "                    \"f_number\": 20.0,\n",
      "                    \"horz_pixel\": 640,\n",
      "                    \"vert_pixel\": 480,\n",
      "                    \"width\": 5.0,\n",
      "                    \"height\": 5.0,\n",
      "                    \"distortion_file_uri\": \"/app/assets/CameraInputFiles/CameraDistortion_130deg.OPTDistortion\",\n",
      "                    \"distorsion_file_uri\": \"\",\n",
      "                    \"axis_system\": [\n",
      "                        0.0,\n",
      "                        0.0,\n",
      "                        0.0,\n",
      "                        1.0,\n",
      "                        0.0,\n",
      "                        0.0,\n",
      "                        0.0,\n",
      "                        1.0,\n",
      "                        0.0,\n",
      "                        0.0,\n",
      "                        0.0,\n",
      "                        1.0\n",
      "                    ],\n",
      "                    \"layer_type_none\": {},\n",
      "                    \"trajectory_file_uri\": \"\"\n",
      "                },\n",
      "                \"name\": \"Camera.1\",\n",
      "                \"description\": \"\",\n",
      "                \"metadata\": {}\n",
      "            }\n",
      "        },\n",
      "        {\n",
      "            \"name\": \"Camera.2\",\n",
      "            \"metadata\": {\n",
      "                \"UniqueId\": \"2fe1e35a-a662-4be6-b1e9-3806b66d176e\"\n",
      "            },\n",
      "            \"sensor_guid\": \"0f53e1cc-fd5f-40c6-a62c-8d980d83934c\",\n",
      "            \"description\": \"\",\n",
      "            \"result_file_name\": \"\",\n",
      "            \"sensor\": {\n",
      "                \"camera_sensor_template\": {\n",
      "                    \"sensor_mode_photometric\": {\n",
      "                        \"acquisition_integration\": 0.01,\n",
      "                        \"transmittance_file_uri\": \"/app/assets/CameraInputFiles/CameraTransmittance.spectrum\",\n",
      "                        \"gamma_correction\": 2.2,\n",
      "                        \"png_bits\": \"PNG_16\",\n",
      "                        \"color_mode_color\": {\n",
      "                            \"red_spectrum_file_uri\": \"/app/assets/CameraInputFiles/CameraSensitivityRed.spectrum\",\n",
      "                            \"green_spectrum_file_uri\": \"/app/assets/CameraInputFiles/CameraSensitivityGreen.spectrum\",\n",
      "                            \"blue_spectrum_file_uri\": \"/app/assets/CameraInputFiles/CameraSensitivityBlue.spectrum\",\n",
      "                            \"balance_mode_none\": {}\n",
      "                        },\n",
      "                        \"wavelengths_range\": {\n",
      "                            \"w_start\": 400.0,\n",
      "                            \"w_end\": 700.0,\n",
      "                            \"w_sampling\": 13\n",
      "                        },\n",
      "                        \"acquisition_lag_time\": 0.0\n",
      "                    },\n",
      "                    \"focal_length\": 5.5,\n",
      "                    \"imager_distance\": 10.0,\n",
      "                    \"f_number\": 20.0,\n",
      "                    \"horz_pixel\": 640,\n",
      "                    \"vert_pixel\": 480,\n",
      "                    \"width\": 6.0,\n",
      "                    \"height\": 6.0,\n",
      "                    \"distortion_file_uri\": \"/app/assets/CameraInputFiles/CameraDistortion_130deg.OPTDistortion\",\n",
      "                    \"distorsion_file_uri\": \"\",\n",
      "                    \"axis_system\": [\n",
      "                        20.0,\n",
      "                        10.0,\n",
      "                        40.0,\n",
      "                        1.0,\n",
      "                        0.0,\n",
      "                        0.0,\n",
      "                        0.0,\n",
      "                        1.0,\n",
      "                        0.0,\n",
      "                        0.0,\n",
      "                        0.0,\n",
      "                        1.0\n",
      "                    ],\n",
      "                    \"layer_type_source\": {},\n",
      "                    \"trajectory_file_uri\": \"\"\n",
      "                },\n",
      "                \"name\": \"Camera.2\",\n",
      "                \"description\": \"\",\n",
      "                \"metadata\": {}\n",
      "            }\n",
      "        }\n",
      "    ],\n",
      "    \"name\": \"\",\n",
      "    \"description\": \"\",\n",
      "    \"metadata\": {},\n",
      "    \"part_guid\": \"\",\n",
      "    \"sources\": [],\n",
      "    \"simulations\": [],\n",
      "    \"materials\": [],\n",
      "    \"scenes\": []\n",
      "}\n"
     ]
    }
   ],
   "source": [
    "print(p)"
   ]
  },
  {
   "cell_type": "markdown",
   "id": "d8b82c56",
   "metadata": {},
   "source": [
    "## Update\n",
    "\n",
    "Tipp: if you are manipulating a sensor already committed, don't forget to commit your changes.\n",
    "\n",
    "If you don't, you will still only watch what is committed on the server."
   ]
  },
  {
   "cell_type": "code",
   "execution_count": 13,
   "id": "1367c9c1",
   "metadata": {
    "execution": {
     "iopub.execute_input": "2025-10-10T08:22:27.391999Z",
     "iopub.status.busy": "2025-10-10T08:22:27.391802Z",
     "iopub.status.idle": "2025-10-10T08:22:27.403597Z",
     "shell.execute_reply": "2025-10-10T08:22:27.402862Z"
    }
   },
   "outputs": [
    {
     "name": "stdout",
     "output_type": "stream",
     "text": [
      "{\n",
      "    \"name\": \"Camera.1\",\n",
      "    \"metadata\": {\n",
      "        \"UniqueId\": \"731c0c0e-63d1-4139-81ca-3567c75359c6\"\n",
      "    },\n",
      "    \"sensor_guid\": \"fbbc2e25-7248-48b2-808f-9eef9fa225df\",\n",
      "    \"description\": \"\",\n",
      "    \"result_file_name\": \"\",\n",
      "    \"sensor\": {\n",
      "        \"camera_sensor_template\": {\n",
      "            \"sensor_mode_photometric\": {\n",
      "                \"acquisition_integration\": 0.01,\n",
      "                \"transmittance_file_uri\": \"/app/assets/CameraInputFiles/CameraTransmittance.spectrum\",\n",
      "                \"gamma_correction\": 2.2,\n",
      "                \"png_bits\": \"PNG_16\",\n",
      "                \"color_mode_color\": {\n",
      "                    \"red_spectrum_file_uri\": \"/app/assets/CameraInputFiles/CameraSensitivityRed.spectrum\",\n",
      "                    \"green_spectrum_file_uri\": \"/app/assets/CameraInputFiles/CameraSensitivityGreen.spectrum\",\n",
      "                    \"blue_spectrum_file_uri\": \"/app/assets/CameraInputFiles/CameraSensitivityBlue.spectrum\",\n",
      "                    \"balance_mode_none\": {}\n",
      "                },\n",
      "                \"wavelengths_range\": {\n",
      "                    \"w_start\": 400.0,\n",
      "                    \"w_end\": 700.0,\n",
      "                    \"w_sampling\": 13\n",
      "                },\n",
      "                \"acquisition_lag_time\": 0.0\n",
      "            },\n",
      "            \"focal_length\": 5.0,\n",
      "            \"imager_distance\": 10.0,\n",
      "            \"f_number\": 11.0,\n",
      "            \"horz_pixel\": 640,\n",
      "            \"vert_pixel\": 480,\n",
      "            \"width\": 5.0,\n",
      "            \"height\": 5.0,\n",
      "            \"distortion_file_uri\": \"/app/assets/CameraInputFiles/CameraDistortion_130deg.OPTDistortion\",\n",
      "            \"distorsion_file_uri\": \"\",\n",
      "            \"axis_system\": [\n",
      "                17.0,\n",
      "                10.0,\n",
      "                10.0,\n",
      "                1.0,\n",
      "                0.0,\n",
      "                0.0,\n",
      "                0.0,\n",
      "                1.0,\n",
      "                0.0,\n",
      "                0.0,\n",
      "                0.0,\n",
      "                1.0\n",
      "            ],\n",
      "            \"layer_type_none\": {},\n",
      "            \"trajectory_file_uri\": \"\"\n",
      "        },\n",
      "        \"name\": \"Camera.1\",\n",
      "        \"description\": \"\",\n",
      "        \"metadata\": {}\n",
      "    }\n",
      "}\n"
     ]
    }
   ],
   "source": [
    "# modify f number and axis system\n",
    "sensor1.set_f_number(value=11).set_axis_system([17, 10, 10, 1, 0, 0, 0, 1, 0, 0, 0, 1])\n",
    "sensor1.commit()\n",
    "print(sensor1)"
   ]
  },
  {
   "cell_type": "markdown",
   "id": "70f7ec0d",
   "metadata": {},
   "source": [
    "## Reset\n",
    "\n",
    "Possibility to reset local values from the one available in the server."
   ]
  },
  {
   "cell_type": "code",
   "execution_count": 14,
   "id": "dd4779fc",
   "metadata": {
    "execution": {
     "iopub.execute_input": "2025-10-10T08:22:27.405577Z",
     "iopub.status.busy": "2025-10-10T08:22:27.405386Z",
     "iopub.status.idle": "2025-10-10T08:22:27.412453Z",
     "shell.execute_reply": "2025-10-10T08:22:27.411745Z"
    }
   },
   "outputs": [
    {
     "name": "stdout",
     "output_type": "stream",
     "text": [
      "ansys.api.speos.sensor.v1.SensorTemplate\n",
      "{\n",
      "    \"camera_sensor_template\": {\n",
      "        \"sensor_mode_photometric\": {\n",
      "            \"acquisition_integration\": 0.01,\n",
      "            \"transmittance_file_uri\": \"/app/assets/CameraInputFiles/CameraTransmittance.spectrum\",\n",
      "            \"gamma_correction\": 2.2,\n",
      "            \"png_bits\": \"PNG_16\",\n",
      "            \"color_mode_color\": {\n",
      "                \"red_spectrum_file_uri\": \"/app/assets/CameraInputFiles/CameraSensitivityRed.spectrum\",\n",
      "                \"green_spectrum_file_uri\": \"/app/assets/CameraInputFiles/CameraSensitivityGreen.spectrum\",\n",
      "                \"blue_spectrum_file_uri\": \"/app/assets/CameraInputFiles/CameraSensitivityBlue.spectrum\",\n",
      "                \"balance_mode_none\": {}\n",
      "            },\n",
      "            \"wavelengths_range\": {\n",
      "                \"w_start\": 400.0,\n",
      "                \"w_end\": 700.0,\n",
      "                \"w_sampling\": 13\n",
      "            },\n",
      "            \"acquisition_lag_time\": 0.0\n",
      "        },\n",
      "        \"focal_length\": 5.0,\n",
      "        \"imager_distance\": 10.0,\n",
      "        \"f_number\": 11.0,\n",
      "        \"horz_pixel\": 640,\n",
      "        \"vert_pixel\": 480,\n",
      "        \"width\": 5.0,\n",
      "        \"height\": 5.0,\n",
      "        \"distortion_file_uri\": \"/app/assets/CameraInputFiles/CameraDistortion_130deg.OPTDistortion\",\n",
      "        \"distorsion_file_uri\": \"\"\n",
      "    },\n",
      "    \"name\": \"Camera.1\",\n",
      "    \"description\": \"\",\n",
      "    \"metadata\": {}\n",
      "}\n"
     ]
    }
   ],
   "source": [
    "sensor1.set_mode_geometric()  # set camera in geometric mode but no commit\n",
    "sensor1.reset()  # reset -> this will apply the server value (photometric mode) to the local value\n",
    "sensor1.delete()  # delete (to display the local value with the below print)\n",
    "print(sensor1._sensor_template)"
   ]
  },
  {
   "cell_type": "markdown",
   "id": "111d3967",
   "metadata": {},
   "source": [
    "## Delete\n",
    "\n",
    "Once the data is deleted from the server, you can still work with local data and maybe commit\n",
    "later."
   ]
  },
  {
   "cell_type": "code",
   "execution_count": 15,
   "id": "8fca4092",
   "metadata": {
    "execution": {
     "iopub.execute_input": "2025-10-10T08:22:27.414421Z",
     "iopub.status.busy": "2025-10-10T08:22:27.414226Z",
     "iopub.status.idle": "2025-10-10T08:22:27.419271Z",
     "shell.execute_reply": "2025-10-10T08:22:27.418555Z"
    }
   },
   "outputs": [
    {
     "name": "stdout",
     "output_type": "stream",
     "text": [
      "local: {\n",
      "    \"name\": \"Camera.2\",\n",
      "    \"description\": \"\",\n",
      "    \"metadata\": {},\n",
      "    \"sensor_guid\": \"\",\n",
      "    \"result_file_name\": \"\",\n",
      "    \"sensor\": {\n",
      "        \"camera_sensor_template\": {\n",
      "            \"sensor_mode_photometric\": {\n",
      "                \"acquisition_integration\": 0.01,\n",
      "                \"transmittance_file_uri\": \"/app/assets/CameraInputFiles/CameraTransmittance.spectrum\",\n",
      "                \"gamma_correction\": 2.2,\n",
      "                \"png_bits\": \"PNG_16\",\n",
      "                \"color_mode_color\": {\n",
      "                    \"red_spectrum_file_uri\": \"/app/assets/CameraInputFiles/CameraSensitivityRed.spectrum\",\n",
      "                    \"green_spectrum_file_uri\": \"/app/assets/CameraInputFiles/CameraSensitivityGreen.spectrum\",\n",
      "                    \"blue_spectrum_file_uri\": \"/app/assets/CameraInputFiles/CameraSensitivityBlue.spectrum\",\n",
      "                    \"balance_mode_none\": {}\n",
      "                },\n",
      "                \"wavelengths_range\": {\n",
      "                    \"w_start\": 400.0,\n",
      "                    \"w_end\": 700.0,\n",
      "                    \"w_sampling\": 13\n",
      "                },\n",
      "                \"acquisition_lag_time\": 0.0\n",
      "            },\n",
      "            \"focal_length\": 5.5,\n",
      "            \"imager_distance\": 10.0,\n",
      "            \"f_number\": 20.0,\n",
      "            \"horz_pixel\": 640,\n",
      "            \"vert_pixel\": 480,\n",
      "            \"width\": 6.0,\n",
      "            \"height\": 6.0,\n",
      "            \"distortion_file_uri\": \"/app/assets/CameraInputFiles/CameraDistortion_130deg.OPTDistortion\",\n",
      "            \"distorsion_file_uri\": \"\",\n",
      "            \"axis_system\": [\n",
      "                20.0,\n",
      "                10.0,\n",
      "                40.0,\n",
      "                1.0,\n",
      "                0.0,\n",
      "                0.0,\n",
      "                0.0,\n",
      "                1.0,\n",
      "                0.0,\n",
      "                0.0,\n",
      "                0.0,\n",
      "                1.0\n",
      "            ],\n",
      "            \"layer_type_source\": {},\n",
      "            \"trajectory_file_uri\": \"\"\n",
      "        },\n",
      "        \"name\": \"Camera.2\",\n",
      "        \"description\": \"\",\n",
      "        \"metadata\": {}\n",
      "    }\n",
      "}\n"
     ]
    }
   ],
   "source": [
    "sensor2.delete()\n",
    "print(sensor2)"
   ]
  },
  {
   "cell_type": "code",
   "execution_count": 16,
   "id": "4e3c8fe0",
   "metadata": {
    "execution": {
     "iopub.execute_input": "2025-10-10T08:22:27.421153Z",
     "iopub.status.busy": "2025-10-10T08:22:27.420955Z",
     "iopub.status.idle": "2025-10-10T08:22:27.428074Z",
     "shell.execute_reply": "2025-10-10T08:22:27.427501Z"
    },
    "lines_to_next_cell": 2
   },
   "outputs": [
    {
     "data": {
      "text/plain": [
       "<ansys.speos.core.sensor.SensorCamera at 0x7f3210f08760>"
      ]
     },
     "execution_count": 16,
     "metadata": {},
     "output_type": "execute_result"
    }
   ],
   "source": [
    "sensor1.delete()"
   ]
  },
  {
   "cell_type": "markdown",
   "id": "9c348603",
   "metadata": {},
   "source": [
    "## Other sensors\n",
    "\n",
    "### Irradiance sensor"
   ]
  },
  {
   "cell_type": "code",
   "execution_count": 17,
   "id": "6881a0fc",
   "metadata": {
    "execution": {
     "iopub.execute_input": "2025-10-10T08:22:27.429942Z",
     "iopub.status.busy": "2025-10-10T08:22:27.429749Z",
     "iopub.status.idle": "2025-10-10T08:22:27.444655Z",
     "shell.execute_reply": "2025-10-10T08:22:27.444064Z"
    }
   },
   "outputs": [
    {
     "name": "stdout",
     "output_type": "stream",
     "text": [
      "{\n",
      "    \"name\": \"Irradiance.1\",\n",
      "    \"metadata\": {\n",
      "        \"UniqueId\": \"96de93d0-d8ce-43e1-b47a-bd8ebd522ca5\"\n",
      "    },\n",
      "    \"sensor_guid\": \"e380e878-a927-4d3d-9004-26080c280c41\",\n",
      "    \"description\": \"\",\n",
      "    \"result_file_name\": \"\",\n",
      "    \"sensor\": {\n",
      "        \"irradiance_sensor_template\": {\n",
      "            \"sensor_type_photometric\": {},\n",
      "            \"illuminance_type_planar\": {},\n",
      "            \"dimensions\": {\n",
      "                \"x_start\": -50.0,\n",
      "                \"x_end\": 50.0,\n",
      "                \"x_sampling\": 100,\n",
      "                \"y_start\": -50.0,\n",
      "                \"y_end\": 50.0,\n",
      "                \"y_sampling\": 100\n",
      "            },\n",
      "            \"axis_system\": [\n",
      "                0.0,\n",
      "                0.0,\n",
      "                0.0,\n",
      "                1.0,\n",
      "                0.0,\n",
      "                0.0,\n",
      "                0.0,\n",
      "                1.0,\n",
      "                0.0,\n",
      "                0.0,\n",
      "                0.0,\n",
      "                1.0\n",
      "            ],\n",
      "            \"layer_type_none\": {},\n",
      "            \"ray_file_type\": \"RayFileNone\",\n",
      "            \"integration_direction\": []\n",
      "        },\n",
      "        \"name\": \"Irradiance.1\",\n",
      "        \"description\": \"\",\n",
      "        \"metadata\": {}\n",
      "    }\n",
      "}\n"
     ]
    }
   ],
   "source": [
    "sensor3 = p.create_sensor(name=\"Irradiance.1\", feature_type=SensorIrradiance)\n",
    "sensor3.commit()\n",
    "print(sensor3)"
   ]
  },
  {
   "cell_type": "code",
   "execution_count": 18,
   "id": "a3ec5132",
   "metadata": {
    "execution": {
     "iopub.execute_input": "2025-10-10T08:22:27.446593Z",
     "iopub.status.busy": "2025-10-10T08:22:27.446351Z",
     "iopub.status.idle": "2025-10-10T08:22:27.455469Z",
     "shell.execute_reply": "2025-10-10T08:22:27.454888Z"
    }
   },
   "outputs": [
    {
     "name": "stdout",
     "output_type": "stream",
     "text": [
      "{\n",
      "    \"name\": \"Irradiance.1\",\n",
      "    \"metadata\": {\n",
      "        \"UniqueId\": \"96de93d0-d8ce-43e1-b47a-bd8ebd522ca5\"\n",
      "    },\n",
      "    \"sensor_guid\": \"e380e878-a927-4d3d-9004-26080c280c41\",\n",
      "    \"description\": \"\",\n",
      "    \"result_file_name\": \"\",\n",
      "    \"sensor\": {\n",
      "        \"irradiance_sensor_template\": {\n",
      "            \"sensor_type_radiometric\": {},\n",
      "            \"illuminance_type_planar\": {},\n",
      "            \"dimensions\": {\n",
      "                \"x_start\": -50.0,\n",
      "                \"x_end\": 50.0,\n",
      "                \"x_sampling\": 100,\n",
      "                \"y_start\": -50.0,\n",
      "                \"y_end\": 50.0,\n",
      "                \"y_sampling\": 100\n",
      "            },\n",
      "            \"axis_system\": [\n",
      "                0.0,\n",
      "                0.0,\n",
      "                0.0,\n",
      "                1.0,\n",
      "                0.0,\n",
      "                0.0,\n",
      "                0.0,\n",
      "                1.0,\n",
      "                0.0,\n",
      "                0.0,\n",
      "                0.0,\n",
      "                1.0\n",
      "            ],\n",
      "            \"layer_type_polarization\": {},\n",
      "            \"ray_file_type\": \"RayFileNone\",\n",
      "            \"integration_direction\": []\n",
      "        },\n",
      "        \"name\": \"Irradiance.1\",\n",
      "        \"description\": \"\",\n",
      "        \"metadata\": {}\n",
      "    }\n",
      "}\n"
     ]
    }
   ],
   "source": [
    "sensor3.set_type_radiometric()\n",
    "sensor3.set_layer_type_polarization()\n",
    "sensor3.commit()\n",
    "print(sensor3)"
   ]
  },
  {
   "cell_type": "code",
   "execution_count": 19,
   "id": "71b9804a",
   "metadata": {
    "execution": {
     "iopub.execute_input": "2025-10-10T08:22:27.457333Z",
     "iopub.status.busy": "2025-10-10T08:22:27.457087Z",
     "iopub.status.idle": "2025-10-10T08:22:27.462279Z",
     "shell.execute_reply": "2025-10-10T08:22:27.461692Z"
    }
   },
   "outputs": [
    {
     "data": {
      "text/plain": [
       "<ansys.speos.core.sensor.SensorIrradiance at 0x7f3210f09240>"
      ]
     },
     "execution_count": 19,
     "metadata": {},
     "output_type": "execute_result"
    }
   ],
   "source": [
    "sensor3.delete()"
   ]
  },
  {
   "cell_type": "markdown",
   "id": "bccf11d5",
   "metadata": {},
   "source": [
    "### radiance sensor"
   ]
  },
  {
   "cell_type": "code",
   "execution_count": 20,
   "id": "e0399ec0",
   "metadata": {
    "execution": {
     "iopub.execute_input": "2025-10-10T08:22:27.464125Z",
     "iopub.status.busy": "2025-10-10T08:22:27.463925Z",
     "iopub.status.idle": "2025-10-10T08:22:27.478361Z",
     "shell.execute_reply": "2025-10-10T08:22:27.477724Z"
    }
   },
   "outputs": [
    {
     "name": "stdout",
     "output_type": "stream",
     "text": [
      "{\n",
      "    \"name\": \"Radiance.1\",\n",
      "    \"metadata\": {\n",
      "        \"UniqueId\": \"030c31e3-4200-4d87-9b87-cfb1d1ee60f0\"\n",
      "    },\n",
      "    \"sensor_guid\": \"325ac844-960f-4f6e-b11e-39c80c788816\",\n",
      "    \"description\": \"\",\n",
      "    \"result_file_name\": \"\",\n",
      "    \"sensor\": {\n",
      "        \"radiance_sensor_template\": {\n",
      "            \"sensor_type_photometric\": {},\n",
      "            \"focal\": 250.0,\n",
      "            \"integration_angle\": 5.0,\n",
      "            \"dimensions\": {\n",
      "                \"x_start\": -50.0,\n",
      "                \"x_end\": 50.0,\n",
      "                \"x_sampling\": 100,\n",
      "                \"y_start\": -50.0,\n",
      "                \"y_end\": 50.0,\n",
      "                \"y_sampling\": 100\n",
      "            },\n",
      "            \"axis_system\": [\n",
      "                0.0,\n",
      "                0.0,\n",
      "                0.0,\n",
      "                1.0,\n",
      "                0.0,\n",
      "                0.0,\n",
      "                0.0,\n",
      "                1.0,\n",
      "                0.0,\n",
      "                0.0,\n",
      "                0.0,\n",
      "                1.0\n",
      "            ],\n",
      "            \"layer_type_none\": {},\n",
      "            \"observer_point\": []\n",
      "        },\n",
      "        \"name\": \"Radiance.1\",\n",
      "        \"description\": \"\",\n",
      "        \"metadata\": {}\n",
      "    }\n",
      "}\n"
     ]
    }
   ],
   "source": [
    "sensor4 = p.create_sensor(name=\"Radiance.1\", feature_type=SensorRadiance)\n",
    "sensor4.commit()\n",
    "print(sensor4)"
   ]
  },
  {
   "cell_type": "code",
   "execution_count": 21,
   "id": "4b709af8",
   "metadata": {
    "execution": {
     "iopub.execute_input": "2025-10-10T08:22:27.480368Z",
     "iopub.status.busy": "2025-10-10T08:22:27.480143Z",
     "iopub.status.idle": "2025-10-10T08:22:27.489422Z",
     "shell.execute_reply": "2025-10-10T08:22:27.488687Z"
    }
   },
   "outputs": [
    {
     "name": "stdout",
     "output_type": "stream",
     "text": [
      "{\n",
      "    \"name\": \"Radiance.1\",\n",
      "    \"metadata\": {\n",
      "        \"UniqueId\": \"030c31e3-4200-4d87-9b87-cfb1d1ee60f0\"\n",
      "    },\n",
      "    \"sensor_guid\": \"325ac844-960f-4f6e-b11e-39c80c788816\",\n",
      "    \"description\": \"\",\n",
      "    \"result_file_name\": \"\",\n",
      "    \"sensor\": {\n",
      "        \"radiance_sensor_template\": {\n",
      "            \"sensor_type_spectral\": {\n",
      "                \"wavelengths_range\": {\n",
      "                    \"w_start\": 400.0,\n",
      "                    \"w_end\": 700.0,\n",
      "                    \"w_sampling\": 13\n",
      "                }\n",
      "            },\n",
      "            \"focal\": 200.0,\n",
      "            \"integration_angle\": 5.0,\n",
      "            \"dimensions\": {\n",
      "                \"x_start\": -50.0,\n",
      "                \"x_end\": 50.0,\n",
      "                \"x_sampling\": 100,\n",
      "                \"y_start\": -50.0,\n",
      "                \"y_end\": 50.0,\n",
      "                \"y_sampling\": 100\n",
      "            },\n",
      "            \"axis_system\": [\n",
      "                0.0,\n",
      "                0.0,\n",
      "                0.0,\n",
      "                1.0,\n",
      "                0.0,\n",
      "                0.0,\n",
      "                0.0,\n",
      "                1.0,\n",
      "                0.0,\n",
      "                0.0,\n",
      "                0.0,\n",
      "                1.0\n",
      "            ],\n",
      "            \"layer_type_source\": {},\n",
      "            \"observer_point\": []\n",
      "        },\n",
      "        \"name\": \"Radiance.1\",\n",
      "        \"description\": \"\",\n",
      "        \"metadata\": {}\n",
      "    }\n",
      "}\n"
     ]
    }
   ],
   "source": [
    "sensor4.set_focal(value=200).set_type_spectral()\n",
    "sensor4.set_layer_type_source()\n",
    "sensor4.commit()\n",
    "print(sensor4)"
   ]
  },
  {
   "cell_type": "code",
   "execution_count": 22,
   "id": "198c2026",
   "metadata": {
    "execution": {
     "iopub.execute_input": "2025-10-10T08:22:27.491589Z",
     "iopub.status.busy": "2025-10-10T08:22:27.491375Z",
     "iopub.status.idle": "2025-10-10T08:22:27.496611Z",
     "shell.execute_reply": "2025-10-10T08:22:27.495995Z"
    }
   },
   "outputs": [
    {
     "name": "stdout",
     "output_type": "stream",
     "text": [
      "local: {\n",
      "    \"name\": \"Radiance.1\",\n",
      "    \"description\": \"\",\n",
      "    \"metadata\": {},\n",
      "    \"sensor_guid\": \"\",\n",
      "    \"result_file_name\": \"\",\n",
      "    \"sensor\": {\n",
      "        \"radiance_sensor_template\": {\n",
      "            \"sensor_type_spectral\": {\n",
      "                \"wavelengths_range\": {\n",
      "                    \"w_start\": 400.0,\n",
      "                    \"w_end\": 700.0,\n",
      "                    \"w_sampling\": 13\n",
      "                }\n",
      "            },\n",
      "            \"focal\": 200.0,\n",
      "            \"integration_angle\": 5.0,\n",
      "            \"dimensions\": {\n",
      "                \"x_start\": -50.0,\n",
      "                \"x_end\": 50.0,\n",
      "                \"x_sampling\": 100,\n",
      "                \"y_start\": -50.0,\n",
      "                \"y_end\": 50.0,\n",
      "                \"y_sampling\": 100\n",
      "            },\n",
      "            \"axis_system\": [\n",
      "                0.0,\n",
      "                0.0,\n",
      "                0.0,\n",
      "                1.0,\n",
      "                0.0,\n",
      "                0.0,\n",
      "                0.0,\n",
      "                1.0,\n",
      "                0.0,\n",
      "                0.0,\n",
      "                0.0,\n",
      "                1.0\n",
      "            ],\n",
      "            \"layer_type_source\": {},\n",
      "            \"observer_point\": []\n",
      "        },\n",
      "        \"name\": \"Radiance.1\",\n",
      "        \"description\": \"\",\n",
      "        \"metadata\": {}\n",
      "    }\n",
      "}\n"
     ]
    }
   ],
   "source": [
    "sensor4.delete()\n",
    "print(sensor4)"
   ]
  },
  {
   "cell_type": "markdown",
   "id": "f0aafcff",
   "metadata": {},
   "source": [
    "### 3D irradiance sensor"
   ]
  },
  {
   "cell_type": "code",
   "execution_count": 23,
   "id": "f8738dc8",
   "metadata": {
    "execution": {
     "iopub.execute_input": "2025-10-10T08:22:27.498466Z",
     "iopub.status.busy": "2025-10-10T08:22:27.498274Z",
     "iopub.status.idle": "2025-10-10T08:22:27.552105Z",
     "shell.execute_reply": "2025-10-10T08:22:27.551454Z"
    }
   },
   "outputs": [
    {
     "name": "stdout",
     "output_type": "stream",
     "text": [
      "{\n",
      "    \"name\": \"3D_Irradiance.2\",\n",
      "    \"metadata\": {\n",
      "        \"UniqueId\": \"2b888309-65c2-4d38-a126-d2eacef2ec9c\"\n",
      "    },\n",
      "    \"sensor_guid\": \"ba2152f0-3636-4043-ab35-a98f41ed753b\",\n",
      "    \"description\": \"\",\n",
      "    \"result_file_name\": \"\",\n",
      "    \"sensor\": {\n",
      "        \"name\": \"3D_Irradiance.2\",\n",
      "        \"irradiance_3d\": {\n",
      "            \"type_photometric\": {\n",
      "                \"integration_type_planar\": {\n",
      "                    \"reflection\": true,\n",
      "                    \"transmission\": true,\n",
      "                    \"absorption\": true\n",
      "                }\n",
      "            },\n",
      "            \"layer_type_none\": {},\n",
      "            \"geometries\": {\n",
      "                \"geo_paths\": [\n",
      "                    \"TheBodyB/TheFaceF\"\n",
      "                ]\n",
      "            },\n",
      "            \"ray_file_type\": \"RayFileNone\"\n",
      "        },\n",
      "        \"description\": \"\",\n",
      "        \"metadata\": {}\n",
      "    }\n",
      "}\n"
     ]
    }
   ],
   "source": [
    "create_helper_geometries(p)\n",
    "sensor5 = p.create_sensor(name=\"3D_Irradiance.2\", feature_type=Sensor3DIrradiance)\n",
    "sensor5.set_geometries([GeoRef.from_native_link(\"TheBodyB/TheFaceF\")])\n",
    "sensor5.commit()\n",
    "print(sensor5)"
   ]
  },
  {
   "cell_type": "code",
   "execution_count": 24,
   "id": "bf8a1ea9",
   "metadata": {
    "execution": {
     "iopub.execute_input": "2025-10-10T08:22:27.554313Z",
     "iopub.status.busy": "2025-10-10T08:22:27.554057Z",
     "iopub.status.idle": "2025-10-10T08:22:27.558967Z",
     "shell.execute_reply": "2025-10-10T08:22:27.558278Z"
    }
   },
   "outputs": [
    {
     "data": {
      "text/plain": [
       "True"
      ]
     },
     "execution_count": 24,
     "metadata": {},
     "output_type": "execute_result"
    }
   ],
   "source": [
    "speos.close()"
   ]
  }
 ],
 "metadata": {
  "jupytext": {
   "cell_metadata_filter": "-all",
   "main_language": "python",
   "notebook_metadata_filter": "-all",
   "text_representation": {
    "extension": ".py",
    "format_name": "light"
   }
  },
  "language_info": {
   "codemirror_mode": {
    "name": "ipython",
    "version": 3
   },
   "file_extension": ".py",
   "mimetype": "text/x-python",
   "name": "python",
   "nbconvert_exporter": "python",
   "pygments_lexer": "ipython3",
   "version": "3.10.18"
  }
 },
 "nbformat": 4,
 "nbformat_minor": 5
}
