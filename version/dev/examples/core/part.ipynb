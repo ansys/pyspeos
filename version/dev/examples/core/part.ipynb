{
 "cells": [
  {
   "cell_type": "markdown",
   "id": "1152c7ad",
   "metadata": {},
   "source": [
    "# How to create a part\n",
    "\n",
    "This tutorial demonstrates how to create a part.\n",
    "\n",
    "## What is a part?\n",
    "\n",
    "A part is either a volume or a face type bodies that are defined by a number of mesh triangles.\n",
    "\n",
    "Then a material optical property can be then applied to a part (like bodies, faces)."
   ]
  },
  {
   "cell_type": "markdown",
   "id": "2230cd1b",
   "metadata": {},
   "source": [
    "## Prerequisites\n",
    "\n",
    "### Perform imports"
   ]
  },
  {
   "cell_type": "code",
   "execution_count": 1,
   "id": "59943f51",
   "metadata": {
    "execution": {
     "iopub.execute_input": "2025-10-10T08:20:33.866921Z",
     "iopub.status.busy": "2025-10-10T08:20:33.866709Z",
     "iopub.status.idle": "2025-10-10T08:20:34.936452Z",
     "shell.execute_reply": "2025-10-10T08:20:34.935559Z"
    }
   },
   "outputs": [],
   "source": [
    "from pathlib import Path\n",
    "\n",
    "from ansys.speos.core import Body, Face, Part, Project, Speos\n",
    "from ansys.speos.core.launcher import launch_local_speos_rpc_server\n"
   ]
  },
  {
   "cell_type": "markdown",
   "id": "e19fb768",
   "metadata": {},
   "source": [
    "### Define constants\n",
    "\n",
    "The constants help ensure consistency and avoid repetition throughout the example."
   ]
  },
  {
   "cell_type": "code",
   "execution_count": 2,
   "id": "8584ea69",
   "metadata": {
    "execution": {
     "iopub.execute_input": "2025-10-10T08:20:34.939592Z",
     "iopub.status.busy": "2025-10-10T08:20:34.939270Z",
     "iopub.status.idle": "2025-10-10T08:20:34.942570Z",
     "shell.execute_reply": "2025-10-10T08:20:34.941949Z"
    }
   },
   "outputs": [],
   "source": [
    "HOSTNAME = \"localhost\"\n",
    "GRPC_PORT = 50098  # Be sure the Speos GRPC Server has been started on this port.\n",
    "USE_DOCKER = True  # Set to False if you're running this example locally as a Notebook."
   ]
  },
  {
   "cell_type": "markdown",
   "id": "6569cbde",
   "metadata": {},
   "source": [
    "## Model Setup\n",
    "\n",
    "### Load assets\n",
    "The assets used to run this example are available in the\n",
    "[PySpeos repository](https://github.com/ansys/pyspeos/) on GitHub.\n",
    "\n",
    "> **Note:** Make sure you have downloaded the simulation assets\n",
    "> and set ``assets_data_path`` to point to the assets folder."
   ]
  },
  {
   "cell_type": "code",
   "execution_count": 3,
   "id": "e021941f",
   "metadata": {
    "execution": {
     "iopub.execute_input": "2025-10-10T08:20:34.944383Z",
     "iopub.status.busy": "2025-10-10T08:20:34.944160Z",
     "iopub.status.idle": "2025-10-10T08:20:34.947515Z",
     "shell.execute_reply": "2025-10-10T08:20:34.946850Z"
    },
    "lines_to_next_cell": 2
   },
   "outputs": [],
   "source": [
    "if USE_DOCKER:  # Running on the remote server.\n",
    "    assets_data_path = Path(\"/app\") / \"assets\"\n",
    "else:\n",
    "    assets_data_path = Path(\"/path/to/your/download/assets/directory\")"
   ]
  },
  {
   "cell_type": "markdown",
   "id": "780660e9",
   "metadata": {},
   "source": [
    "### Start/Connect to Speos RPC Server\n",
    "This Python client connects to a server where the Speos engine\n",
    "is running as a service. In this example, the server and\n",
    "client are the same machine. The launch_local_speos_rpc_method can\n",
    "be used to start a local instance of the service."
   ]
  },
  {
   "cell_type": "code",
   "execution_count": 4,
   "id": "55f04418",
   "metadata": {
    "execution": {
     "iopub.execute_input": "2025-10-10T08:20:34.949437Z",
     "iopub.status.busy": "2025-10-10T08:20:34.949248Z",
     "iopub.status.idle": "2025-10-10T08:20:34.956270Z",
     "shell.execute_reply": "2025-10-10T08:20:34.955698Z"
    },
    "lines_to_next_cell": 2
   },
   "outputs": [],
   "source": [
    "if USE_DOCKER:\n",
    "    speos = Speos(host=HOSTNAME, port=GRPC_PORT)\n",
    "else:\n",
    "    speos = launch_local_speos_rpc_server(port=GRPC_PORT)"
   ]
  },
  {
   "cell_type": "markdown",
   "id": "8daf298c",
   "metadata": {},
   "source": [
    "## New Project\n",
    "\n",
    "The only way to create parts, bodies and faces is from a project."
   ]
  },
  {
   "cell_type": "code",
   "execution_count": 5,
   "id": "036e5bff",
   "metadata": {
    "execution": {
     "iopub.execute_input": "2025-10-10T08:20:34.958332Z",
     "iopub.status.busy": "2025-10-10T08:20:34.958102Z",
     "iopub.status.idle": "2025-10-10T08:20:34.966585Z",
     "shell.execute_reply": "2025-10-10T08:20:34.965998Z"
    }
   },
   "outputs": [
    {
     "name": "stdout",
     "output_type": "stream",
     "text": [
      "{\n",
      "    \"name\": \"\",\n",
      "    \"description\": \"\",\n",
      "    \"metadata\": {},\n",
      "    \"part_guid\": \"\",\n",
      "    \"sources\": [],\n",
      "    \"sensors\": [],\n",
      "    \"simulations\": [],\n",
      "    \"materials\": [],\n",
      "    \"scenes\": []\n",
      "}\n"
     ]
    }
   ],
   "source": [
    "p = Project(speos=speos)\n",
    "print(p)"
   ]
  },
  {
   "cell_type": "markdown",
   "id": "3e7fa374",
   "metadata": {},
   "source": [
    "## Create\n",
    "\n",
    "Before creating a body, a Root part needs to be created and committed."
   ]
  },
  {
   "cell_type": "code",
   "execution_count": 6,
   "id": "5f3de34a",
   "metadata": {
    "execution": {
     "iopub.execute_input": "2025-10-10T08:20:34.968502Z",
     "iopub.status.busy": "2025-10-10T08:20:34.968282Z",
     "iopub.status.idle": "2025-10-10T08:20:34.973528Z",
     "shell.execute_reply": "2025-10-10T08:20:34.972853Z"
    }
   },
   "outputs": [
    {
     "name": "stdout",
     "output_type": "stream",
     "text": [
      "{\n",
      "    \"name\": \"RootPart\",\n",
      "    \"description\": \"\",\n",
      "    \"metadata\": {},\n",
      "    \"body_guids\": [],\n",
      "    \"parts\": []\n",
      "}\n"
     ]
    }
   ],
   "source": [
    "root_part = p.create_root_part().commit()\n",
    "print(root_part)"
   ]
  },
  {
   "cell_type": "markdown",
   "id": "a256c202",
   "metadata": {},
   "source": [
    "### Create bodies in root part.\n",
    "A body can either a volume or face type. Both use the method named \"create_body\"."
   ]
  },
  {
   "cell_type": "code",
   "execution_count": 7,
   "id": "30eded32",
   "metadata": {
    "execution": {
     "iopub.execute_input": "2025-10-10T08:20:34.975405Z",
     "iopub.status.busy": "2025-10-10T08:20:34.975209Z",
     "iopub.status.idle": "2025-10-10T08:20:35.002104Z",
     "shell.execute_reply": "2025-10-10T08:20:35.001377Z"
    }
   },
   "outputs": [
    {
     "name": "stdout",
     "output_type": "stream",
     "text": [
      "{\n",
      "    \"name\": \"RootPart\",\n",
      "    \"body_guids\": [\n",
      "        \"fd783f88-abcf-46c3-8d11-c4903ee88ada\",\n",
      "        \"38348680-a014-4fb7-84b2-aec6c4d05ab8\"\n",
      "    ],\n",
      "    \"description\": \"\",\n",
      "    \"metadata\": {},\n",
      "    \"parts\": [],\n",
      "    \"bodys\": [\n",
      "        {\n",
      "            \"name\": \"TheBodyB1\",\n",
      "            \"description\": \"\",\n",
      "            \"metadata\": {},\n",
      "            \"face_guids\": []\n",
      "        },\n",
      "        {\n",
      "            \"name\": \"TheBodyB2\",\n",
      "            \"description\": \"\",\n",
      "            \"metadata\": {},\n",
      "            \"face_guids\": []\n",
      "        }\n",
      "    ]\n",
      "}\n"
     ]
    }
   ],
   "source": [
    "body_b1 = root_part.create_body(name=\"TheBodyB1\").commit()\n",
    "body_b2 = root_part.create_body(name=\"TheBodyB2\").commit()\n",
    "print(root_part)"
   ]
  },
  {
   "cell_type": "markdown",
   "id": "80c040c3",
   "metadata": {},
   "source": [
    "### Create faces inside a body.\n",
    "A body can have one (example, surface/open-volume type of body) or multiple faces\n",
    "(close-volume type of body).\n",
    "\n",
    "Each face is then defined by a number of triangles/facets.\n",
    "\n",
    "Each triangle/facet is defined by vertices and vertice normals."
   ]
  },
  {
   "cell_type": "code",
   "execution_count": 8,
   "id": "b6badc3c",
   "metadata": {
    "execution": {
     "iopub.execute_input": "2025-10-10T08:20:35.004078Z",
     "iopub.status.busy": "2025-10-10T08:20:35.003878Z",
     "iopub.status.idle": "2025-10-10T08:20:35.025826Z",
     "shell.execute_reply": "2025-10-10T08:20:35.025230Z"
    }
   },
   "outputs": [
    {
     "name": "stdout",
     "output_type": "stream",
     "text": [
      "{\n",
      "    \"name\": \"RootPart\",\n",
      "    \"body_guids\": [\n",
      "        \"fd783f88-abcf-46c3-8d11-c4903ee88ada\",\n",
      "        \"38348680-a014-4fb7-84b2-aec6c4d05ab8\"\n",
      "    ],\n",
      "    \"description\": \"\",\n",
      "    \"metadata\": {},\n",
      "    \"parts\": [],\n",
      "    \"bodys\": [\n",
      "        {\n",
      "            \"name\": \"TheBodyB1\",\n",
      "            \"face_guids\": [\n",
      "                \"1d141ded-c78f-44f5-b43f-ba95718e1c9f\"\n",
      "            ],\n",
      "            \"description\": \"\",\n",
      "            \"metadata\": {},\n",
      "            \"faces\": [\n",
      "                {\n",
      "                    \"name\": \"TheFaceF1\",\n",
      "                    \"vertices\": [\n",
      "                        0.0,\n",
      "                        0.0,\n",
      "                        0.0,\n",
      "                        1.0,\n",
      "                        0.0,\n",
      "                        0.0,\n",
      "                        0.0,\n",
      "                        1.0,\n",
      "                        0.0\n",
      "                    ],\n",
      "                    \"facets\": [\n",
      "                        0,\n",
      "                        1,\n",
      "                        2\n",
      "                    ],\n",
      "                    \"normals\": [\n",
      "                        0.0,\n",
      "                        0.0,\n",
      "                        1.0,\n",
      "                        0.0,\n",
      "                        0.0,\n",
      "                        1.0,\n",
      "                        0.0,\n",
      "                        0.0,\n",
      "                        1.0\n",
      "                    ],\n",
      "                    \"description\": \"\",\n",
      "                    \"metadata\": {},\n",
      "                    \"vertices_data\": [],\n",
      "                    \"facets_data\": []\n",
      "                }\n",
      "            ]\n",
      "        },\n",
      "        {\n",
      "            \"name\": \"TheBodyB2\",\n",
      "            \"description\": \"\",\n",
      "            \"metadata\": {},\n",
      "            \"face_guids\": []\n",
      "        }\n",
      "    ]\n",
      "}\n"
     ]
    }
   ],
   "source": [
    "face_b1_f1 = (\n",
    "    body_b1.create_face(name=\"TheFaceF1\")\n",
    "    .set_vertices([0, 0, 0, 1, 0, 0, 0, 1, 0])\n",
    "    .set_facets([0, 1, 2])\n",
    "    .set_normals([0, 0, 1, 0, 0, 1, 0, 0, 1])\n",
    "    .commit()\n",
    ")\n",
    "print(root_part)"
   ]
  },
  {
   "cell_type": "markdown",
   "id": "1d73c66e",
   "metadata": {},
   "source": [
    "### Create bodies in sub part.\n",
    "\n",
    "Part can also be created under a sub-part.\n",
    "\n",
    "The location sub-part can be defined using set_axis_system method."
   ]
  },
  {
   "cell_type": "code",
   "execution_count": 9,
   "id": "17d42155",
   "metadata": {
    "execution": {
     "iopub.execute_input": "2025-10-10T08:20:35.027778Z",
     "iopub.status.busy": "2025-10-10T08:20:35.027585Z",
     "iopub.status.idle": "2025-10-10T08:20:35.049892Z",
     "shell.execute_reply": "2025-10-10T08:20:35.049265Z"
    }
   },
   "outputs": [
    {
     "name": "stdout",
     "output_type": "stream",
     "text": [
      "{\n",
      "    \"name\": \"RootPart\",\n",
      "    \"body_guids\": [\n",
      "        \"fd783f88-abcf-46c3-8d11-c4903ee88ada\",\n",
      "        \"38348680-a014-4fb7-84b2-aec6c4d05ab8\"\n",
      "    ],\n",
      "    \"parts\": [\n",
      "        {\n",
      "            \"name\": \"TheSubPartSP1\",\n",
      "            \"description\": \"UniqueId_c18b2bea-d6d1-4d96-808b-8dada0a5633f\",\n",
      "            \"part_guid\": \"97db7f89-1b5f-4377-9fdb-b270153e0c4f\",\n",
      "            \"axis_system\": [\n",
      "                5.0,\n",
      "                5.0,\n",
      "                5.0,\n",
      "                1.0,\n",
      "                0.0,\n",
      "                0.0,\n",
      "                0.0,\n",
      "                1.0,\n",
      "                0.0,\n",
      "                0.0,\n",
      "                0.0,\n",
      "                1.0\n",
      "            ],\n",
      "            \"part\": {\n",
      "                \"name\": \"TheSubPartSP1\",\n",
      "                \"description\": \"\",\n",
      "                \"metadata\": {},\n",
      "                \"body_guids\": [],\n",
      "                \"parts\": []\n",
      "            }\n",
      "        }\n",
      "    ],\n",
      "    \"description\": \"\",\n",
      "    \"metadata\": {},\n",
      "    \"bodys\": [\n",
      "        {\n",
      "            \"name\": \"TheBodyB1\",\n",
      "            \"face_guids\": [\n",
      "                \"1d141ded-c78f-44f5-b43f-ba95718e1c9f\"\n",
      "            ],\n",
      "            \"description\": \"\",\n",
      "            \"metadata\": {},\n",
      "            \"faces\": [\n",
      "                {\n",
      "                    \"name\": \"TheFaceF1\",\n",
      "                    \"vertices\": [\n",
      "                        0.0,\n",
      "                        0.0,\n",
      "                        0.0,\n",
      "                        1.0,\n",
      "                        0.0,\n",
      "                        0.0,\n",
      "                        0.0,\n",
      "                        1.0,\n",
      "                        0.0\n",
      "                    ],\n",
      "                    \"facets\": [\n",
      "                        0,\n",
      "                        1,\n",
      "                        2\n",
      "                    ],\n",
      "                    \"normals\": [\n",
      "                        0.0,\n",
      "                        0.0,\n",
      "                        1.0,\n",
      "                        0.0,\n",
      "                        0.0,\n",
      "                        1.0,\n",
      "                        0.0,\n",
      "                        0.0,\n",
      "                        1.0\n",
      "                    ],\n",
      "                    \"description\": \"\",\n",
      "                    \"metadata\": {},\n",
      "                    \"vertices_data\": [],\n",
      "                    \"facets_data\": []\n",
      "                }\n",
      "            ]\n",
      "        },\n",
      "        {\n",
      "            \"name\": \"TheBodyB2\",\n",
      "            \"description\": \"\",\n",
      "            \"metadata\": {},\n",
      "            \"face_guids\": []\n",
      "        }\n",
      "    ]\n",
      "}\n"
     ]
    }
   ],
   "source": [
    "sub_part1 = (\n",
    "    root_part.create_sub_part(name=\"TheSubPartSP1\")\n",
    "    .set_axis_system(axis_system=[5, 5, 5, 1, 0, 0, 0, 1, 0, 0, 0, 1])\n",
    "    .commit()\n",
    ")\n",
    "print(root_part)"
   ]
  },
  {
   "cell_type": "markdown",
   "id": "6af2837d",
   "metadata": {},
   "source": [
    "### Create body and faces in sub part body"
   ]
  },
  {
   "cell_type": "code",
   "execution_count": 10,
   "id": "9389e620",
   "metadata": {
    "execution": {
     "iopub.execute_input": "2025-10-10T08:20:35.051905Z",
     "iopub.status.busy": "2025-10-10T08:20:35.051651Z",
     "iopub.status.idle": "2025-10-10T08:20:35.114214Z",
     "shell.execute_reply": "2025-10-10T08:20:35.113576Z"
    }
   },
   "outputs": [
    {
     "name": "stdout",
     "output_type": "stream",
     "text": [
      "{\n",
      "    \"name\": \"RootPart\",\n",
      "    \"body_guids\": [\n",
      "        \"fd783f88-abcf-46c3-8d11-c4903ee88ada\",\n",
      "        \"38348680-a014-4fb7-84b2-aec6c4d05ab8\"\n",
      "    ],\n",
      "    \"parts\": [\n",
      "        {\n",
      "            \"name\": \"TheSubPartSP1\",\n",
      "            \"description\": \"UniqueId_c18b2bea-d6d1-4d96-808b-8dada0a5633f\",\n",
      "            \"part_guid\": \"97db7f89-1b5f-4377-9fdb-b270153e0c4f\",\n",
      "            \"axis_system\": [\n",
      "                5.0,\n",
      "                5.0,\n",
      "                5.0,\n",
      "                1.0,\n",
      "                0.0,\n",
      "                0.0,\n",
      "                0.0,\n",
      "                1.0,\n",
      "                0.0,\n",
      "                0.0,\n",
      "                0.0,\n",
      "                1.0\n",
      "            ],\n",
      "            \"part\": {\n",
      "                \"name\": \"TheSubPartSP1\",\n",
      "                \"body_guids\": [\n",
      "                    \"eddea8cd-f669-45a3-b9cf-e387f6c84609\"\n",
      "                ],\n",
      "                \"description\": \"\",\n",
      "                \"metadata\": {},\n",
      "                \"parts\": [],\n",
      "                \"bodys\": [\n",
      "                    {\n",
      "                        \"name\": \"TheBodySP1_B1\",\n",
      "                        \"description\": \"\",\n",
      "                        \"metadata\": {},\n",
      "                        \"face_guids\": []\n",
      "                    }\n",
      "                ]\n",
      "            }\n",
      "        }\n",
      "    ],\n",
      "    \"description\": \"\",\n",
      "    \"metadata\": {},\n",
      "    \"bodys\": [\n",
      "        {\n",
      "            \"name\": \"TheBodyB1\",\n",
      "            \"face_guids\": [\n",
      "                \"1d141ded-c78f-44f5-b43f-ba95718e1c9f\"\n",
      "            ],\n",
      "            \"description\": \"\",\n",
      "            \"metadata\": {},\n",
      "            \"faces\": [\n",
      "                {\n",
      "                    \"name\": \"TheFaceF1\",\n",
      "                    \"vertices\": [\n",
      "                        0.0,\n",
      "                        0.0,\n",
      "                        0.0,\n",
      "                        1.0,\n",
      "                        0.0,\n",
      "                        0.0,\n",
      "                        0.0,\n",
      "                        1.0,\n",
      "                        0.0\n",
      "                    ],\n",
      "                    \"facets\": [\n",
      "                        0,\n",
      "                        1,\n",
      "                        2\n",
      "                    ],\n",
      "                    \"normals\": [\n",
      "                        0.0,\n",
      "                        0.0,\n",
      "                        1.0,\n",
      "                        0.0,\n",
      "                        0.0,\n",
      "                        1.0,\n",
      "                        0.0,\n",
      "                        0.0,\n",
      "                        1.0\n",
      "                    ],\n",
      "                    \"description\": \"\",\n",
      "                    \"metadata\": {},\n",
      "                    \"vertices_data\": [],\n",
      "                    \"facets_data\": []\n",
      "                }\n",
      "            ]\n",
      "        },\n",
      "        {\n",
      "            \"name\": \"TheBodyB2\",\n",
      "            \"description\": \"\",\n",
      "            \"metadata\": {},\n",
      "            \"face_guids\": []\n",
      "        }\n",
      "    ]\n",
      "}\n",
      "{\n",
      "    \"name\": \"RootPart\",\n",
      "    \"body_guids\": [\n",
      "        \"fd783f88-abcf-46c3-8d11-c4903ee88ada\",\n",
      "        \"38348680-a014-4fb7-84b2-aec6c4d05ab8\"\n",
      "    ],\n",
      "    \"parts\": [\n",
      "        {\n",
      "            \"name\": \"TheSubPartSP1\",\n",
      "            \"description\": \"UniqueId_c18b2bea-d6d1-4d96-808b-8dada0a5633f\",\n",
      "            \"part_guid\": \"97db7f89-1b5f-4377-9fdb-b270153e0c4f\",\n",
      "            \"axis_system\": [\n",
      "                5.0,\n",
      "                5.0,\n",
      "                5.0,\n",
      "                1.0,\n",
      "                0.0,\n",
      "                0.0,\n",
      "                0.0,\n",
      "                1.0,\n",
      "                0.0,\n",
      "                0.0,\n",
      "                0.0,\n",
      "                1.0\n",
      "            ],\n",
      "            \"part\": {\n",
      "                \"name\": \"TheSubPartSP1\",\n",
      "                \"body_guids\": [\n",
      "                    \"eddea8cd-f669-45a3-b9cf-e387f6c84609\"\n",
      "                ],\n",
      "                \"description\": \"\",\n",
      "                \"metadata\": {},\n",
      "                \"parts\": [],\n",
      "                \"bodys\": [\n",
      "                    {\n",
      "                        \"name\": \"TheBodySP1_B1\",\n",
      "                        \"face_guids\": [\n",
      "                            \"9d00159f-995e-4090-a65d-e0f1efb8f2fa\"\n",
      "                        ],\n",
      "                        \"description\": \"\",\n",
      "                        \"metadata\": {},\n",
      "                        \"faces\": [\n",
      "                            {\n",
      "                                \"name\": \"TheFaceSP1_B1_F1\",\n",
      "                                \"vertices\": [\n",
      "                                    0.0,\n",
      "                                    1.0,\n",
      "                                    0.0,\n",
      "                                    0.0,\n",
      "                                    2.0,\n",
      "                                    0.0,\n",
      "                                    1.0,\n",
      "                                    2.0,\n",
      "                                    0.0\n",
      "                                ],\n",
      "                                \"facets\": [\n",
      "                                    0,\n",
      "                                    1,\n",
      "                                    2\n",
      "                                ],\n",
      "                                \"normals\": [\n",
      "                                    0.0,\n",
      "                                    0.0,\n",
      "                                    1.0,\n",
      "                                    0.0,\n",
      "                                    0.0,\n",
      "                                    1.0,\n",
      "                                    0.0,\n",
      "                                    0.0,\n",
      "                                    1.0\n",
      "                                ],\n",
      "                                \"description\": \"\",\n",
      "                                \"metadata\": {},\n",
      "                                \"vertices_data\": [],\n",
      "                                \"facets_data\": []\n",
      "                            }\n",
      "                        ]\n",
      "                    }\n",
      "                ]\n",
      "            }\n",
      "        }\n",
      "    ],\n",
      "    \"description\": \"\",\n",
      "    \"metadata\": {},\n",
      "    \"bodys\": [\n",
      "        {\n",
      "            \"name\": \"TheBodyB1\",\n",
      "            \"face_guids\": [\n",
      "                \"1d141ded-c78f-44f5-b43f-ba95718e1c9f\"\n",
      "            ],\n",
      "            \"description\": \"\",\n",
      "            \"metadata\": {},\n",
      "            \"faces\": [\n",
      "                {\n",
      "                    \"name\": \"TheFaceF1\",\n",
      "                    \"vertices\": [\n",
      "                        0.0,\n",
      "                        0.0,\n",
      "                        0.0,\n",
      "                        1.0,\n",
      "                        0.0,\n",
      "                        0.0,\n",
      "                        0.0,\n",
      "                        1.0,\n",
      "                        0.0\n",
      "                    ],\n",
      "                    \"facets\": [\n",
      "                        0,\n",
      "                        1,\n",
      "                        2\n",
      "                    ],\n",
      "                    \"normals\": [\n",
      "                        0.0,\n",
      "                        0.0,\n",
      "                        1.0,\n",
      "                        0.0,\n",
      "                        0.0,\n",
      "                        1.0,\n",
      "                        0.0,\n",
      "                        0.0,\n",
      "                        1.0\n",
      "                    ],\n",
      "                    \"description\": \"\",\n",
      "                    \"metadata\": {},\n",
      "                    \"vertices_data\": [],\n",
      "                    \"facets_data\": []\n",
      "                }\n",
      "            ]\n",
      "        },\n",
      "        {\n",
      "            \"name\": \"TheBodyB2\",\n",
      "            \"description\": \"\",\n",
      "            \"metadata\": {},\n",
      "            \"face_guids\": []\n",
      "        }\n",
      "    ]\n",
      "}\n"
     ]
    }
   ],
   "source": [
    "body_sp1_b1 = sub_part1.create_body(name=\"TheBodySP1_B1\").commit()\n",
    "print(root_part)\n",
    "face_sp1_b1_f1 = (\n",
    "    body_sp1_b1.create_face(name=\"TheFaceSP1_B1_F1\")\n",
    "    .set_vertices([0, 1, 0, 0, 2, 0, 1, 2, 0])\n",
    "    .set_facets([0, 1, 2])\n",
    "    .set_normals([0, 0, 1, 0, 0, 1, 0, 0, 1])\n",
    "    .commit()\n",
    ")\n",
    "print(root_part)"
   ]
  },
  {
   "cell_type": "markdown",
   "id": "a6f3c318",
   "metadata": {},
   "source": [
    "### Create sub parts in sub part"
   ]
  },
  {
   "cell_type": "code",
   "execution_count": 11,
   "id": "780e66c2",
   "metadata": {
    "execution": {
     "iopub.execute_input": "2025-10-10T08:20:35.116503Z",
     "iopub.status.busy": "2025-10-10T08:20:35.116280Z",
     "iopub.status.idle": "2025-10-10T08:20:35.157266Z",
     "shell.execute_reply": "2025-10-10T08:20:35.156593Z"
    }
   },
   "outputs": [
    {
     "name": "stdout",
     "output_type": "stream",
     "text": [
      "{\n",
      "    \"name\": \"RootPart\",\n",
      "    \"body_guids\": [\n",
      "        \"fd783f88-abcf-46c3-8d11-c4903ee88ada\",\n",
      "        \"38348680-a014-4fb7-84b2-aec6c4d05ab8\"\n",
      "    ],\n",
      "    \"parts\": [\n",
      "        {\n",
      "            \"name\": \"TheSubPartSP1\",\n",
      "            \"description\": \"UniqueId_c18b2bea-d6d1-4d96-808b-8dada0a5633f\",\n",
      "            \"part_guid\": \"97db7f89-1b5f-4377-9fdb-b270153e0c4f\",\n",
      "            \"axis_system\": [\n",
      "                5.0,\n",
      "                5.0,\n",
      "                5.0,\n",
      "                1.0,\n",
      "                0.0,\n",
      "                0.0,\n",
      "                0.0,\n",
      "                1.0,\n",
      "                0.0,\n",
      "                0.0,\n",
      "                0.0,\n",
      "                1.0\n",
      "            ],\n",
      "            \"part\": {\n",
      "                \"name\": \"TheSubPartSP1\",\n",
      "                \"body_guids\": [\n",
      "                    \"eddea8cd-f669-45a3-b9cf-e387f6c84609\"\n",
      "                ],\n",
      "                \"parts\": [\n",
      "                    {\n",
      "                        \"name\": \"TheSubPartSP11\",\n",
      "                        \"description\": \"UniqueId_c66e9fca-b655-41ac-92ea-879f44249878\",\n",
      "                        \"part_guid\": \"f4792dfc-6320-43c3-9efc-29c286764fe7\",\n",
      "                        \"axis_system\": [\n",
      "                            1.0,\n",
      "                            1.0,\n",
      "                            1.0,\n",
      "                            1.0,\n",
      "                            0.0,\n",
      "                            0.0,\n",
      "                            0.0,\n",
      "                            1.0,\n",
      "                            0.0,\n",
      "                            0.0,\n",
      "                            0.0,\n",
      "                            1.0\n",
      "                        ],\n",
      "                        \"part\": {\n",
      "                            \"name\": \"TheSubPartSP11\",\n",
      "                            \"description\": \"\",\n",
      "                            \"metadata\": {},\n",
      "                            \"body_guids\": [],\n",
      "                            \"parts\": []\n",
      "                        }\n",
      "                    }\n",
      "                ],\n",
      "                \"description\": \"\",\n",
      "                \"metadata\": {},\n",
      "                \"bodys\": [\n",
      "                    {\n",
      "                        \"name\": \"TheBodySP1_B1\",\n",
      "                        \"face_guids\": [\n",
      "                            \"9d00159f-995e-4090-a65d-e0f1efb8f2fa\"\n",
      "                        ],\n",
      "                        \"description\": \"\",\n",
      "                        \"metadata\": {},\n",
      "                        \"faces\": [\n",
      "                            {\n",
      "                                \"name\": \"TheFaceSP1_B1_F1\",\n",
      "                                \"vertices\": [\n",
      "                                    0.0,\n",
      "                                    1.0,\n",
      "                                    0.0,\n",
      "                                    0.0,\n",
      "                                    2.0,\n",
      "                                    0.0,\n",
      "                                    1.0,\n",
      "                                    2.0,\n",
      "                                    0.0\n",
      "                                ],\n",
      "                                \"facets\": [\n",
      "                                    0,\n",
      "                                    1,\n",
      "                                    2\n",
      "                                ],\n",
      "                                \"normals\": [\n",
      "                                    0.0,\n",
      "                                    0.0,\n",
      "                                    1.0,\n",
      "                                    0.0,\n",
      "                                    0.0,\n",
      "                                    1.0,\n",
      "                                    0.0,\n",
      "                                    0.0,\n",
      "                                    1.0\n",
      "                                ],\n",
      "                                \"description\": \"\",\n",
      "                                \"metadata\": {},\n",
      "                                \"vertices_data\": [],\n",
      "                                \"facets_data\": []\n",
      "                            }\n",
      "                        ]\n",
      "                    }\n",
      "                ]\n",
      "            }\n",
      "        }\n",
      "    ],\n",
      "    \"description\": \"\",\n",
      "    \"metadata\": {},\n",
      "    \"bodys\": [\n",
      "        {\n",
      "            \"name\": \"TheBodyB1\",\n",
      "            \"face_guids\": [\n",
      "                \"1d141ded-c78f-44f5-b43f-ba95718e1c9f\"\n",
      "            ],\n",
      "            \"description\": \"\",\n",
      "            \"metadata\": {},\n",
      "            \"faces\": [\n",
      "                {\n",
      "                    \"name\": \"TheFaceF1\",\n",
      "                    \"vertices\": [\n",
      "                        0.0,\n",
      "                        0.0,\n",
      "                        0.0,\n",
      "                        1.0,\n",
      "                        0.0,\n",
      "                        0.0,\n",
      "                        0.0,\n",
      "                        1.0,\n",
      "                        0.0\n",
      "                    ],\n",
      "                    \"facets\": [\n",
      "                        0,\n",
      "                        1,\n",
      "                        2\n",
      "                    ],\n",
      "                    \"normals\": [\n",
      "                        0.0,\n",
      "                        0.0,\n",
      "                        1.0,\n",
      "                        0.0,\n",
      "                        0.0,\n",
      "                        1.0,\n",
      "                        0.0,\n",
      "                        0.0,\n",
      "                        1.0\n",
      "                    ],\n",
      "                    \"description\": \"\",\n",
      "                    \"metadata\": {},\n",
      "                    \"vertices_data\": [],\n",
      "                    \"facets_data\": []\n",
      "                }\n",
      "            ]\n",
      "        },\n",
      "        {\n",
      "            \"name\": \"TheBodyB2\",\n",
      "            \"description\": \"\",\n",
      "            \"metadata\": {},\n",
      "            \"face_guids\": []\n",
      "        }\n",
      "    ]\n",
      "}\n"
     ]
    }
   ],
   "source": [
    "sub_part11 = (\n",
    "    sub_part1.create_sub_part(name=\"TheSubPartSP11\")\n",
    "    .set_axis_system([1, 1, 1, 1, 0, 0, 0, 1, 0, 0, 0, 1])\n",
    "    .commit()\n",
    ")\n",
    "print(root_part)"
   ]
  },
  {
   "cell_type": "markdown",
   "id": "248ffa3c",
   "metadata": {},
   "source": [
    "## Read\n",
    "\n",
    "### Find with exact name\n",
    "\n",
    "Find the root part"
   ]
  },
  {
   "cell_type": "code",
   "execution_count": 12,
   "id": "ab8f4799",
   "metadata": {
    "execution": {
     "iopub.execute_input": "2025-10-10T08:20:35.159294Z",
     "iopub.status.busy": "2025-10-10T08:20:35.159064Z",
     "iopub.status.idle": "2025-10-10T08:20:35.192979Z",
     "shell.execute_reply": "2025-10-10T08:20:35.192300Z"
    }
   },
   "outputs": [
    {
     "name": "stdout",
     "output_type": "stream",
     "text": [
      "{\n",
      "    \"name\": \"RootPart\",\n",
      "    \"body_guids\": [\n",
      "        \"fd783f88-abcf-46c3-8d11-c4903ee88ada\",\n",
      "        \"38348680-a014-4fb7-84b2-aec6c4d05ab8\"\n",
      "    ],\n",
      "    \"parts\": [\n",
      "        {\n",
      "            \"name\": \"TheSubPartSP1\",\n",
      "            \"description\": \"UniqueId_c18b2bea-d6d1-4d96-808b-8dada0a5633f\",\n",
      "            \"part_guid\": \"97db7f89-1b5f-4377-9fdb-b270153e0c4f\",\n",
      "            \"axis_system\": [\n",
      "                5.0,\n",
      "                5.0,\n",
      "                5.0,\n",
      "                1.0,\n",
      "                0.0,\n",
      "                0.0,\n",
      "                0.0,\n",
      "                1.0,\n",
      "                0.0,\n",
      "                0.0,\n",
      "                0.0,\n",
      "                1.0\n",
      "            ],\n",
      "            \"part\": {\n",
      "                \"name\": \"TheSubPartSP1\",\n",
      "                \"body_guids\": [\n",
      "                    \"eddea8cd-f669-45a3-b9cf-e387f6c84609\"\n",
      "                ],\n",
      "                \"parts\": [\n",
      "                    {\n",
      "                        \"name\": \"TheSubPartSP11\",\n",
      "                        \"description\": \"UniqueId_c66e9fca-b655-41ac-92ea-879f44249878\",\n",
      "                        \"part_guid\": \"f4792dfc-6320-43c3-9efc-29c286764fe7\",\n",
      "                        \"axis_system\": [\n",
      "                            1.0,\n",
      "                            1.0,\n",
      "                            1.0,\n",
      "                            1.0,\n",
      "                            0.0,\n",
      "                            0.0,\n",
      "                            0.0,\n",
      "                            1.0,\n",
      "                            0.0,\n",
      "                            0.0,\n",
      "                            0.0,\n",
      "                            1.0\n",
      "                        ],\n",
      "                        \"part\": {\n",
      "                            \"name\": \"TheSubPartSP11\",\n",
      "                            \"description\": \"\",\n",
      "                            \"metadata\": {},\n",
      "                            \"body_guids\": [],\n",
      "                            \"parts\": []\n",
      "                        }\n",
      "                    }\n",
      "                ],\n",
      "                \"description\": \"\",\n",
      "                \"metadata\": {},\n",
      "                \"bodys\": [\n",
      "                    {\n",
      "                        \"name\": \"TheBodySP1_B1\",\n",
      "                        \"face_guids\": [\n",
      "                            \"9d00159f-995e-4090-a65d-e0f1efb8f2fa\"\n",
      "                        ],\n",
      "                        \"description\": \"\",\n",
      "                        \"metadata\": {},\n",
      "                        \"faces\": [\n",
      "                            {\n",
      "                                \"name\": \"TheFaceSP1_B1_F1\",\n",
      "                                \"vertices\": [\n",
      "                                    0.0,\n",
      "                                    1.0,\n",
      "                                    0.0,\n",
      "                                    0.0,\n",
      "                                    2.0,\n",
      "                                    0.0,\n",
      "                                    1.0,\n",
      "                                    2.0,\n",
      "                                    0.0\n",
      "                                ],\n",
      "                                \"facets\": [\n",
      "                                    0,\n",
      "                                    1,\n",
      "                                    2\n",
      "                                ],\n",
      "                                \"normals\": [\n",
      "                                    0.0,\n",
      "                                    0.0,\n",
      "                                    1.0,\n",
      "                                    0.0,\n",
      "                                    0.0,\n",
      "                                    1.0,\n",
      "                                    0.0,\n",
      "                                    0.0,\n",
      "                                    1.0\n",
      "                                ],\n",
      "                                \"description\": \"\",\n",
      "                                \"metadata\": {},\n",
      "                                \"vertices_data\": [],\n",
      "                                \"facets_data\": []\n",
      "                            }\n",
      "                        ]\n",
      "                    }\n",
      "                ]\n",
      "            }\n",
      "        }\n",
      "    ],\n",
      "    \"description\": \"\",\n",
      "    \"metadata\": {},\n",
      "    \"bodys\": [\n",
      "        {\n",
      "            \"name\": \"TheBodyB1\",\n",
      "            \"face_guids\": [\n",
      "                \"1d141ded-c78f-44f5-b43f-ba95718e1c9f\"\n",
      "            ],\n",
      "            \"description\": \"\",\n",
      "            \"metadata\": {},\n",
      "            \"faces\": [\n",
      "                {\n",
      "                    \"name\": \"TheFaceF1\",\n",
      "                    \"vertices\": [\n",
      "                        0.0,\n",
      "                        0.0,\n",
      "                        0.0,\n",
      "                        1.0,\n",
      "                        0.0,\n",
      "                        0.0,\n",
      "                        0.0,\n",
      "                        1.0,\n",
      "                        0.0\n",
      "                    ],\n",
      "                    \"facets\": [\n",
      "                        0,\n",
      "                        1,\n",
      "                        2\n",
      "                    ],\n",
      "                    \"normals\": [\n",
      "                        0.0,\n",
      "                        0.0,\n",
      "                        1.0,\n",
      "                        0.0,\n",
      "                        0.0,\n",
      "                        1.0,\n",
      "                        0.0,\n",
      "                        0.0,\n",
      "                        1.0\n",
      "                    ],\n",
      "                    \"description\": \"\",\n",
      "                    \"metadata\": {},\n",
      "                    \"vertices_data\": [],\n",
      "                    \"facets_data\": []\n",
      "                }\n",
      "            ]\n",
      "        },\n",
      "        {\n",
      "            \"name\": \"TheBodyB2\",\n",
      "            \"description\": \"\",\n",
      "            \"metadata\": {},\n",
      "            \"face_guids\": []\n",
      "        }\n",
      "    ]\n",
      "}\n"
     ]
    }
   ],
   "source": [
    "features = p.find(name=\"\", feature_type=Part)\n",
    "print(features[0])"
   ]
  },
  {
   "cell_type": "markdown",
   "id": "632b2053",
   "metadata": {},
   "source": [
    "Find a specific body in root part"
   ]
  },
  {
   "cell_type": "code",
   "execution_count": 13,
   "id": "d6560d7d",
   "metadata": {
    "execution": {
     "iopub.execute_input": "2025-10-10T08:20:35.194972Z",
     "iopub.status.busy": "2025-10-10T08:20:35.194766Z",
     "iopub.status.idle": "2025-10-10T08:20:35.203939Z",
     "shell.execute_reply": "2025-10-10T08:20:35.203360Z"
    }
   },
   "outputs": [
    {
     "name": "stdout",
     "output_type": "stream",
     "text": [
      "{\n",
      "    \"name\": \"TheBodyB1\",\n",
      "    \"face_guids\": [\n",
      "        \"1d141ded-c78f-44f5-b43f-ba95718e1c9f\"\n",
      "    ],\n",
      "    \"description\": \"\",\n",
      "    \"metadata\": {},\n",
      "    \"faces\": [\n",
      "        {\n",
      "            \"name\": \"TheFaceF1\",\n",
      "            \"vertices\": [\n",
      "                0.0,\n",
      "                0.0,\n",
      "                0.0,\n",
      "                1.0,\n",
      "                0.0,\n",
      "                0.0,\n",
      "                0.0,\n",
      "                1.0,\n",
      "                0.0\n",
      "            ],\n",
      "            \"facets\": [\n",
      "                0,\n",
      "                1,\n",
      "                2\n",
      "            ],\n",
      "            \"normals\": [\n",
      "                0.0,\n",
      "                0.0,\n",
      "                1.0,\n",
      "                0.0,\n",
      "                0.0,\n",
      "                1.0,\n",
      "                0.0,\n",
      "                0.0,\n",
      "                1.0\n",
      "            ],\n",
      "            \"description\": \"\",\n",
      "            \"metadata\": {},\n",
      "            \"vertices_data\": [],\n",
      "            \"facets_data\": []\n",
      "        }\n",
      "    ]\n",
      "}\n"
     ]
    }
   ],
   "source": [
    "features = p.find(name=\"TheBodyB1\", feature_type=Body)\n",
    "print(features[0])"
   ]
  },
  {
   "cell_type": "markdown",
   "id": "cc797fc4",
   "metadata": {},
   "source": [
    "Find a specific face of a body in root part"
   ]
  },
  {
   "cell_type": "code",
   "execution_count": 14,
   "id": "e8a78f67",
   "metadata": {
    "execution": {
     "iopub.execute_input": "2025-10-10T08:20:35.205936Z",
     "iopub.status.busy": "2025-10-10T08:20:35.205733Z",
     "iopub.status.idle": "2025-10-10T08:20:35.210107Z",
     "shell.execute_reply": "2025-10-10T08:20:35.209548Z"
    }
   },
   "outputs": [
    {
     "name": "stdout",
     "output_type": "stream",
     "text": [
      "{\n",
      "    \"name\": \"TheFaceF1\",\n",
      "    \"vertices\": [\n",
      "        0.0,\n",
      "        0.0,\n",
      "        0.0,\n",
      "        1.0,\n",
      "        0.0,\n",
      "        0.0,\n",
      "        0.0,\n",
      "        1.0,\n",
      "        0.0\n",
      "    ],\n",
      "    \"facets\": [\n",
      "        0,\n",
      "        1,\n",
      "        2\n",
      "    ],\n",
      "    \"normals\": [\n",
      "        0.0,\n",
      "        0.0,\n",
      "        1.0,\n",
      "        0.0,\n",
      "        0.0,\n",
      "        1.0,\n",
      "        0.0,\n",
      "        0.0,\n",
      "        1.0\n",
      "    ],\n",
      "    \"description\": \"\",\n",
      "    \"metadata\": {},\n",
      "    \"vertices_data\": [],\n",
      "    \"facets_data\": []\n",
      "}\n"
     ]
    }
   ],
   "source": [
    "features = p.find(name=\"TheBodyB1/TheFaceF1\", feature_type=Face)\n",
    "print(features[0])"
   ]
  },
  {
   "cell_type": "markdown",
   "id": "965d1b27",
   "metadata": {},
   "source": [
    "Find a sub part"
   ]
  },
  {
   "cell_type": "code",
   "execution_count": 15,
   "id": "22a3061e",
   "metadata": {
    "execution": {
     "iopub.execute_input": "2025-10-10T08:20:35.212108Z",
     "iopub.status.busy": "2025-10-10T08:20:35.211918Z",
     "iopub.status.idle": "2025-10-10T08:20:35.232805Z",
     "shell.execute_reply": "2025-10-10T08:20:35.232214Z"
    },
    "lines_to_next_cell": 2
   },
   "outputs": [
    {
     "name": "stdout",
     "output_type": "stream",
     "text": [
      "{\n",
      "    \"name\": \"TheSubPartSP1\",\n",
      "    \"description\": \"UniqueId_c18b2bea-d6d1-4d96-808b-8dada0a5633f\",\n",
      "    \"part_guid\": \"97db7f89-1b5f-4377-9fdb-b270153e0c4f\",\n",
      "    \"axis_system\": [\n",
      "        5.0,\n",
      "        5.0,\n",
      "        5.0,\n",
      "        1.0,\n",
      "        0.0,\n",
      "        0.0,\n",
      "        0.0,\n",
      "        1.0,\n",
      "        0.0,\n",
      "        0.0,\n",
      "        0.0,\n",
      "        1.0\n",
      "    ],\n",
      "    \"part\": {\n",
      "        \"name\": \"TheSubPartSP1\",\n",
      "        \"body_guids\": [\n",
      "            \"eddea8cd-f669-45a3-b9cf-e387f6c84609\"\n",
      "        ],\n",
      "        \"parts\": [\n",
      "            {\n",
      "                \"name\": \"TheSubPartSP11\",\n",
      "                \"description\": \"UniqueId_c66e9fca-b655-41ac-92ea-879f44249878\",\n",
      "                \"part_guid\": \"f4792dfc-6320-43c3-9efc-29c286764fe7\",\n",
      "                \"axis_system\": [\n",
      "                    1.0,\n",
      "                    1.0,\n",
      "                    1.0,\n",
      "                    1.0,\n",
      "                    0.0,\n",
      "                    0.0,\n",
      "                    0.0,\n",
      "                    1.0,\n",
      "                    0.0,\n",
      "                    0.0,\n",
      "                    0.0,\n",
      "                    1.0\n",
      "                ],\n",
      "                \"part\": {\n",
      "                    \"name\": \"TheSubPartSP11\",\n",
      "                    \"description\": \"\",\n",
      "                    \"metadata\": {},\n",
      "                    \"body_guids\": [],\n",
      "                    \"parts\": []\n",
      "                }\n",
      "            }\n",
      "        ],\n",
      "        \"description\": \"\",\n",
      "        \"metadata\": {},\n",
      "        \"bodys\": [\n",
      "            {\n",
      "                \"name\": \"TheBodySP1_B1\",\n",
      "                \"face_guids\": [\n",
      "                    \"9d00159f-995e-4090-a65d-e0f1efb8f2fa\"\n",
      "                ],\n",
      "                \"description\": \"\",\n",
      "                \"metadata\": {},\n",
      "                \"faces\": [\n",
      "                    {\n",
      "                        \"name\": \"TheFaceSP1_B1_F1\",\n",
      "                        \"vertices\": [\n",
      "                            0.0,\n",
      "                            1.0,\n",
      "                            0.0,\n",
      "                            0.0,\n",
      "                            2.0,\n",
      "                            0.0,\n",
      "                            1.0,\n",
      "                            2.0,\n",
      "                            0.0\n",
      "                        ],\n",
      "                        \"facets\": [\n",
      "                            0,\n",
      "                            1,\n",
      "                            2\n",
      "                        ],\n",
      "                        \"normals\": [\n",
      "                            0.0,\n",
      "                            0.0,\n",
      "                            1.0,\n",
      "                            0.0,\n",
      "                            0.0,\n",
      "                            1.0,\n",
      "                            0.0,\n",
      "                            0.0,\n",
      "                            1.0\n",
      "                        ],\n",
      "                        \"description\": \"\",\n",
      "                        \"metadata\": {},\n",
      "                        \"vertices_data\": [],\n",
      "                        \"facets_data\": []\n",
      "                    }\n",
      "                ]\n",
      "            }\n",
      "        ]\n",
      "    }\n",
      "}\n"
     ]
    }
   ],
   "source": [
    "features = p.find(name=\"TheSubPartSP1\", feature_type=Part.SubPart)\n",
    "print(features[0])"
   ]
  },
  {
   "cell_type": "markdown",
   "id": "c49316b2",
   "metadata": {},
   "source": [
    "Find a specific body in sub part"
   ]
  },
  {
   "cell_type": "code",
   "execution_count": 16,
   "id": "61479995",
   "metadata": {
    "execution": {
     "iopub.execute_input": "2025-10-10T08:20:35.234744Z",
     "iopub.status.busy": "2025-10-10T08:20:35.234531Z",
     "iopub.status.idle": "2025-10-10T08:20:35.243638Z",
     "shell.execute_reply": "2025-10-10T08:20:35.243022Z"
    }
   },
   "outputs": [
    {
     "name": "stdout",
     "output_type": "stream",
     "text": [
      "{\n",
      "    \"name\": \"TheBodySP1_B1\",\n",
      "    \"face_guids\": [\n",
      "        \"9d00159f-995e-4090-a65d-e0f1efb8f2fa\"\n",
      "    ],\n",
      "    \"description\": \"\",\n",
      "    \"metadata\": {},\n",
      "    \"faces\": [\n",
      "        {\n",
      "            \"name\": \"TheFaceSP1_B1_F1\",\n",
      "            \"vertices\": [\n",
      "                0.0,\n",
      "                1.0,\n",
      "                0.0,\n",
      "                0.0,\n",
      "                2.0,\n",
      "                0.0,\n",
      "                1.0,\n",
      "                2.0,\n",
      "                0.0\n",
      "            ],\n",
      "            \"facets\": [\n",
      "                0,\n",
      "                1,\n",
      "                2\n",
      "            ],\n",
      "            \"normals\": [\n",
      "                0.0,\n",
      "                0.0,\n",
      "                1.0,\n",
      "                0.0,\n",
      "                0.0,\n",
      "                1.0,\n",
      "                0.0,\n",
      "                0.0,\n",
      "                1.0\n",
      "            ],\n",
      "            \"description\": \"\",\n",
      "            \"metadata\": {},\n",
      "            \"vertices_data\": [],\n",
      "            \"facets_data\": []\n",
      "        }\n",
      "    ]\n",
      "}\n"
     ]
    }
   ],
   "source": [
    "features = p.find(name=\"TheSubPartSP1/TheBodySP1_B1\", feature_type=Body)\n",
    "print(features[0])"
   ]
  },
  {
   "cell_type": "markdown",
   "id": "ba71b080",
   "metadata": {},
   "source": [
    "Find a specific face of a body in sub part"
   ]
  },
  {
   "cell_type": "code",
   "execution_count": 17,
   "id": "6cbd00c2",
   "metadata": {
    "execution": {
     "iopub.execute_input": "2025-10-10T08:20:35.245777Z",
     "iopub.status.busy": "2025-10-10T08:20:35.245502Z",
     "iopub.status.idle": "2025-10-10T08:20:35.250798Z",
     "shell.execute_reply": "2025-10-10T08:20:35.250215Z"
    }
   },
   "outputs": [
    {
     "name": "stdout",
     "output_type": "stream",
     "text": [
      "{\n",
      "    \"name\": \"TheFaceSP1_B1_F1\",\n",
      "    \"vertices\": [\n",
      "        0.0,\n",
      "        1.0,\n",
      "        0.0,\n",
      "        0.0,\n",
      "        2.0,\n",
      "        0.0,\n",
      "        1.0,\n",
      "        2.0,\n",
      "        0.0\n",
      "    ],\n",
      "    \"facets\": [\n",
      "        0,\n",
      "        1,\n",
      "        2\n",
      "    ],\n",
      "    \"normals\": [\n",
      "        0.0,\n",
      "        0.0,\n",
      "        1.0,\n",
      "        0.0,\n",
      "        0.0,\n",
      "        1.0,\n",
      "        0.0,\n",
      "        0.0,\n",
      "        1.0\n",
      "    ],\n",
      "    \"description\": \"\",\n",
      "    \"metadata\": {},\n",
      "    \"vertices_data\": [],\n",
      "    \"facets_data\": []\n",
      "}\n"
     ]
    }
   ],
   "source": [
    "features = p.find(name=\"TheSubPartSP1/TheBodySP1_B1/TheFaceSP1_B1_F1\", feature_type=Face)\n",
    "print(features[0])"
   ]
  },
  {
   "cell_type": "markdown",
   "id": "75d3dddc",
   "metadata": {},
   "source": [
    "### Find with approximation name"
   ]
  },
  {
   "cell_type": "markdown",
   "id": "42ad327b",
   "metadata": {},
   "source": [
    "Find all bodies in root part"
   ]
  },
  {
   "cell_type": "code",
   "execution_count": 18,
   "id": "18ae42a1",
   "metadata": {
    "execution": {
     "iopub.execute_input": "2025-10-10T08:20:35.252704Z",
     "iopub.status.busy": "2025-10-10T08:20:35.252467Z",
     "iopub.status.idle": "2025-10-10T08:20:35.256622Z",
     "shell.execute_reply": "2025-10-10T08:20:35.255938Z"
    }
   },
   "outputs": [
    {
     "name": "stdout",
     "output_type": "stream",
     "text": [
      "TheBodyB1\n",
      "TheBodyB2\n"
     ]
    }
   ],
   "source": [
    "features = p.find(name=\".*\", name_regex=True, feature_type=Body)\n",
    "for feat in features:\n",
    "    print(feat._name)"
   ]
  },
  {
   "cell_type": "markdown",
   "id": "2000b3b9",
   "metadata": {},
   "source": [
    "Find all faces inside body called \"TheBodyB1\""
   ]
  },
  {
   "cell_type": "code",
   "execution_count": 19,
   "id": "92077044",
   "metadata": {
    "execution": {
     "iopub.execute_input": "2025-10-10T08:20:35.258504Z",
     "iopub.status.busy": "2025-10-10T08:20:35.258308Z",
     "iopub.status.idle": "2025-10-10T08:20:35.262152Z",
     "shell.execute_reply": "2025-10-10T08:20:35.261472Z"
    },
    "lines_to_next_cell": 2
   },
   "outputs": [
    {
     "name": "stdout",
     "output_type": "stream",
     "text": [
      "TheFaceF1\n"
     ]
    }
   ],
   "source": [
    "features = p.find(name=\"TheBodyB1/.*\", name_regex=True, feature_type=Face)\n",
    "for feat in features:\n",
    "    print(feat._name)"
   ]
  },
  {
   "cell_type": "markdown",
   "id": "ce8e62c7",
   "metadata": {},
   "source": [
    "If you want to retrieve several kind of geometry features at a certain level, give\n",
    "feature_type=Part"
   ]
  },
  {
   "cell_type": "markdown",
   "id": "4824fae0",
   "metadata": {},
   "source": [
    "All the geometry features at root part level:"
   ]
  },
  {
   "cell_type": "code",
   "execution_count": 20,
   "id": "0f478d79",
   "metadata": {
    "execution": {
     "iopub.execute_input": "2025-10-10T08:20:35.264110Z",
     "iopub.status.busy": "2025-10-10T08:20:35.263916Z",
     "iopub.status.idle": "2025-10-10T08:20:35.267275Z",
     "shell.execute_reply": "2025-10-10T08:20:35.266638Z"
    }
   },
   "outputs": [
    {
     "name": "stdout",
     "output_type": "stream",
     "text": [
      "<class 'ansys.speos.core.body.Body'> : name=TheBodyB1\n",
      "<class 'ansys.speos.core.body.Body'> : name=TheBodyB2\n",
      "<class 'ansys.speos.core.part.Part.SubPart'> : name=TheSubPartSP1\n"
     ]
    }
   ],
   "source": [
    "features = p.find(name=\".*\", name_regex=True, feature_type=Part)\n",
    "for feat in features:\n",
    "    print(str(type(feat)) + \" : name=\" + feat._name)"
   ]
  },
  {
   "cell_type": "markdown",
   "id": "f0e98804",
   "metadata": {},
   "source": [
    "All the geometry features at second level: e.g.:\n",
    "- TheBodyB1's all faces\n",
    "- TheSubPartSP1's all bodies\n",
    "- TheSubPartSP1's all sub part"
   ]
  },
  {
   "cell_type": "code",
   "execution_count": 21,
   "id": "8cc476c9",
   "metadata": {
    "execution": {
     "iopub.execute_input": "2025-10-10T08:20:35.269078Z",
     "iopub.status.busy": "2025-10-10T08:20:35.268876Z",
     "iopub.status.idle": "2025-10-10T08:20:35.272707Z",
     "shell.execute_reply": "2025-10-10T08:20:35.272014Z"
    }
   },
   "outputs": [
    {
     "name": "stdout",
     "output_type": "stream",
     "text": [
      "<class 'ansys.speos.core.face.Face'> : name=TheFaceF1\n",
      "<class 'ansys.speos.core.body.Body'> : name=TheBodySP1_B1\n",
      "<class 'ansys.speos.core.part.Part.SubPart'> : name=TheSubPartSP11\n"
     ]
    }
   ],
   "source": [
    "features = p.find(name=\".*/.*\", name_regex=True, feature_type=Part)\n",
    "for feat in features:\n",
    "    print(str(type(feat)) + \" : name=\" + feat._name)"
   ]
  },
  {
   "cell_type": "markdown",
   "id": "425491e9",
   "metadata": {},
   "source": [
    "All the geometry features at the third level:\n",
    "e.g. TheSubPartSP1's all bodies' faces"
   ]
  },
  {
   "cell_type": "code",
   "execution_count": 22,
   "id": "e1c05d28",
   "metadata": {
    "execution": {
     "iopub.execute_input": "2025-10-10T08:20:35.274679Z",
     "iopub.status.busy": "2025-10-10T08:20:35.274487Z",
     "iopub.status.idle": "2025-10-10T08:20:35.278308Z",
     "shell.execute_reply": "2025-10-10T08:20:35.277626Z"
    },
    "lines_to_next_cell": 2
   },
   "outputs": [
    {
     "name": "stdout",
     "output_type": "stream",
     "text": [
      "<class 'ansys.speos.core.face.Face'> : name=TheFaceSP1_B1_F1\n"
     ]
    }
   ],
   "source": [
    "features = p.find(name=\".*/.*/.*\", name_regex=True, feature_type=Part)\n",
    "for feat in features:\n",
    "    print(str(type(feat)) + \" : name=\" + feat._name)"
   ]
  },
  {
   "cell_type": "markdown",
   "id": "c71eb5eb",
   "metadata": {},
   "source": [
    "## Delete"
   ]
  },
  {
   "cell_type": "code",
   "execution_count": 23,
   "id": "88364a15",
   "metadata": {
    "execution": {
     "iopub.execute_input": "2025-10-10T08:20:35.280176Z",
     "iopub.status.busy": "2025-10-10T08:20:35.279968Z",
     "iopub.status.idle": "2025-10-10T08:20:35.289618Z",
     "shell.execute_reply": "2025-10-10T08:20:35.288901Z"
    }
   },
   "outputs": [
    {
     "name": "stdout",
     "output_type": "stream",
     "text": [
      "local: {\n",
      "    \"name\": \"RootPart\",\n",
      "    \"description\": \"\",\n",
      "    \"metadata\": {},\n",
      "    \"body_guids\": [],\n",
      "    \"parts\": []\n",
      "}\n"
     ]
    }
   ],
   "source": [
    "root_part.delete()\n",
    "print(root_part)"
   ]
  },
  {
   "cell_type": "code",
   "execution_count": 24,
   "id": "d5d9552f",
   "metadata": {
    "execution": {
     "iopub.execute_input": "2025-10-10T08:20:35.291683Z",
     "iopub.status.busy": "2025-10-10T08:20:35.291482Z",
     "iopub.status.idle": "2025-10-10T08:20:35.299265Z",
     "shell.execute_reply": "2025-10-10T08:20:35.298475Z"
    }
   },
   "outputs": [
    {
     "data": {
      "text/plain": [
       "True"
      ]
     },
     "execution_count": 24,
     "metadata": {},
     "output_type": "execute_result"
    }
   ],
   "source": [
    "speos.close()"
   ]
  }
 ],
 "metadata": {
  "jupytext": {
   "cell_metadata_filter": "-all",
   "main_language": "python",
   "notebook_metadata_filter": "-all",
   "text_representation": {
    "extension": ".py",
    "format_name": "light"
   }
  },
  "language_info": {
   "codemirror_mode": {
    "name": "ipython",
    "version": 3
   },
   "file_extension": ".py",
   "mimetype": "text/x-python",
   "name": "python",
   "nbconvert_exporter": "python",
   "pygments_lexer": "ipython3",
   "version": "3.10.18"
  }
 },
 "nbformat": 4,
 "nbformat_minor": 5
}
