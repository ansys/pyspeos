{
 "cells": [
  {
   "cell_type": "markdown",
   "id": "4804dad3",
   "metadata": {},
   "source": [
    "# How to create a simulation"
   ]
  },
  {
   "cell_type": "markdown",
   "id": "6cecb5b7",
   "metadata": {},
   "source": [
    "This tutorial demonstrates how to create a simulation.\n",
    "\n",
    "## What is a simulation?\n",
    "\n",
    "A simulation contains selected sensors, sources to model ray-trace in space.\n",
    "\n",
    "## Prerequisites\n",
    "\n",
    "### Perform imports"
   ]
  },
  {
   "cell_type": "code",
   "execution_count": 1,
   "id": "d84e3fa7",
   "metadata": {
    "execution": {
     "iopub.execute_input": "2025-10-10T08:22:30.166074Z",
     "iopub.status.busy": "2025-10-10T08:22:30.165868Z",
     "iopub.status.idle": "2025-10-10T08:22:31.259242Z",
     "shell.execute_reply": "2025-10-10T08:22:31.258409Z"
    }
   },
   "outputs": [],
   "source": [
    "from pathlib import Path\n",
    "\n",
    "from ansys.speos.core import Project, Speos, launcher\n",
    "from ansys.speos.core.simulation import SimulationInteractive, SimulationInverse\n"
   ]
  },
  {
   "cell_type": "markdown",
   "id": "9ea68a56",
   "metadata": {},
   "source": [
    "### Define constants\n",
    "\n",
    "The constants help ensure consistency and avoid repetition throughout the example."
   ]
  },
  {
   "cell_type": "code",
   "execution_count": 2,
   "id": "b2661495",
   "metadata": {
    "execution": {
     "iopub.execute_input": "2025-10-10T08:22:31.262397Z",
     "iopub.status.busy": "2025-10-10T08:22:31.261996Z",
     "iopub.status.idle": "2025-10-10T08:22:31.266012Z",
     "shell.execute_reply": "2025-10-10T08:22:31.265383Z"
    }
   },
   "outputs": [],
   "source": [
    "HOSTNAME = \"localhost\"\n",
    "GRPC_PORT = 50098  # Be sure the Speos GRPC Server has been started on this port.\n",
    "USE_DOCKER = True  # Set to False if you're running this example locally as a Notebook.\n",
    "SOURCE_NAME = \"Surface.1\"\n",
    "SENSOR_NAME = \"Irradiance.1\""
   ]
  },
  {
   "cell_type": "markdown",
   "id": "45b24870",
   "metadata": {},
   "source": [
    "## Model Setup\n",
    "\n",
    "### Load assets\n",
    "The assets used to run this example are available in the\n",
    "[PySpeos repository](https://github.com/ansys/pyspeos/) on GitHub.\n",
    "\n",
    "> **Note:** Make sure you\n",
    "> have downloaded simulation assets and set ``assets_data_path``\n",
    "> to point to the assets folder."
   ]
  },
  {
   "cell_type": "code",
   "execution_count": 3,
   "id": "b60e2337",
   "metadata": {
    "execution": {
     "iopub.execute_input": "2025-10-10T08:22:31.268151Z",
     "iopub.status.busy": "2025-10-10T08:22:31.267938Z",
     "iopub.status.idle": "2025-10-10T08:22:31.271297Z",
     "shell.execute_reply": "2025-10-10T08:22:31.270683Z"
    }
   },
   "outputs": [],
   "source": [
    "if USE_DOCKER:  # Running on the remote server.\n",
    "    assets_data_path = Path(\"/app\") / \"assets\"\n",
    "else:\n",
    "    assets_data_path = Path(\"/path/to/your/download/assets/directory\")"
   ]
  },
  {
   "cell_type": "markdown",
   "id": "4321e8bd",
   "metadata": {},
   "source": [
    "### Connect to the RPC Server\n",
    "This Python client connects to a server where the Speos engine\n",
    "is running as a service. In this example, the server and\n",
    "client are the same machine. The launch_local_speos_rpc_method can\n",
    "be used to start a local instance of the service.."
   ]
  },
  {
   "cell_type": "code",
   "execution_count": 4,
   "id": "48d3981f",
   "metadata": {
    "execution": {
     "iopub.execute_input": "2025-10-10T08:22:31.273522Z",
     "iopub.status.busy": "2025-10-10T08:22:31.273331Z",
     "iopub.status.idle": "2025-10-10T08:22:31.281090Z",
     "shell.execute_reply": "2025-10-10T08:22:31.280504Z"
    }
   },
   "outputs": [],
   "source": [
    "if USE_DOCKER:\n",
    "    speos = Speos(host=HOSTNAME, port=GRPC_PORT)\n",
    "else:\n",
    "    speos = launcher.launch_local_speos_rpc_server(port=GRPC_PORT)"
   ]
  },
  {
   "cell_type": "markdown",
   "id": "3fcc93db",
   "metadata": {},
   "source": [
    "### Create a new project\n",
    "\n",
    "The only way to create a simulation using the core layer, is to create it from a\n",
    "project. The ``Project`` class is instantiated by passing a ``Speos`` instance."
   ]
  },
  {
   "cell_type": "code",
   "execution_count": 5,
   "id": "b67c3158",
   "metadata": {
    "execution": {
     "iopub.execute_input": "2025-10-10T08:22:31.283072Z",
     "iopub.status.busy": "2025-10-10T08:22:31.282882Z",
     "iopub.status.idle": "2025-10-10T08:22:31.291623Z",
     "shell.execute_reply": "2025-10-10T08:22:31.291021Z"
    }
   },
   "outputs": [
    {
     "name": "stdout",
     "output_type": "stream",
     "text": [
      "{\n",
      "    \"name\": \"\",\n",
      "    \"description\": \"\",\n",
      "    \"metadata\": {},\n",
      "    \"part_guid\": \"\",\n",
      "    \"sources\": [],\n",
      "    \"sensors\": [],\n",
      "    \"simulations\": [],\n",
      "    \"materials\": [],\n",
      "    \"scenes\": []\n",
      "}\n"
     ]
    }
   ],
   "source": [
    "p = Project(speos=speos)\n",
    "print(p)"
   ]
  },
  {
   "cell_type": "markdown",
   "id": "66ab6d8e",
   "metadata": {},
   "source": [
    "### Prepare prerequisites\n",
    "\n",
    "Create the necessary elements for a simulation: Sensor, source, root part, optical property are\n",
    "prerequisites."
   ]
  },
  {
   "cell_type": "markdown",
   "id": "63cdab17",
   "metadata": {},
   "source": [
    "### Prepare the root part"
   ]
  },
  {
   "cell_type": "code",
   "execution_count": 6,
   "id": "0a631a51",
   "metadata": {
    "execution": {
     "iopub.execute_input": "2025-10-10T08:22:31.293589Z",
     "iopub.status.busy": "2025-10-10T08:22:31.293397Z",
     "iopub.status.idle": "2025-10-10T08:22:31.315381Z",
     "shell.execute_reply": "2025-10-10T08:22:31.314787Z"
    }
   },
   "outputs": [
    {
     "data": {
      "text/plain": [
       "<ansys.speos.core.part.Part at 0x7f21bf1b1c00>"
      ]
     },
     "execution_count": 6,
     "metadata": {},
     "output_type": "execute_result"
    }
   ],
   "source": [
    "root_part = p.create_root_part()\n",
    "body_1 = root_part.create_body(name=\"Body.1\")\n",
    "face_1 = (\n",
    "    body_1.create_face(name=\"Face.1\")\n",
    "    .set_vertices([0, 1, 2, 0, 2, 2, 1, 2, 2])\n",
    "    .set_facets([0, 1, 2])\n",
    "    .set_normals([0, 0, 1, 0, 0, 1, 0, 0, 1])\n",
    ")\n",
    "root_part.commit()"
   ]
  },
  {
   "cell_type": "markdown",
   "id": "d80407b3",
   "metadata": {},
   "source": [
    "### Prepare an optical property\n",
    "Create Optical Property"
   ]
  },
  {
   "cell_type": "code",
   "execution_count": 7,
   "id": "3fd00cc7",
   "metadata": {
    "execution": {
     "iopub.execute_input": "2025-10-10T08:22:31.317406Z",
     "iopub.status.busy": "2025-10-10T08:22:31.317087Z",
     "iopub.status.idle": "2025-10-10T08:22:31.321610Z",
     "shell.execute_reply": "2025-10-10T08:22:31.320930Z"
    }
   },
   "outputs": [
    {
     "data": {
      "text/plain": [
       "<ansys.speos.core.opt_prop.OptProp at 0x7f21bf1b1900>"
      ]
     },
     "execution_count": 7,
     "metadata": {},
     "output_type": "execute_result"
    }
   ],
   "source": [
    "opt_prop = p.create_optical_property(\"Material.1\")\n",
    "opt_prop.set_volume_opaque().set_surface_mirror()"
   ]
  },
  {
   "cell_type": "markdown",
   "id": "ce627835",
   "metadata": {},
   "source": [
    "Choose the geometry for this optical property : Body.1"
   ]
  },
  {
   "cell_type": "code",
   "execution_count": 8,
   "id": "4f2093e5",
   "metadata": {
    "execution": {
     "iopub.execute_input": "2025-10-10T08:22:31.323435Z",
     "iopub.status.busy": "2025-10-10T08:22:31.323239Z",
     "iopub.status.idle": "2025-10-10T08:22:31.328947Z",
     "shell.execute_reply": "2025-10-10T08:22:31.328419Z"
    },
    "lines_to_next_cell": 2
   },
   "outputs": [
    {
     "data": {
      "text/plain": [
       "<ansys.speos.core.opt_prop.OptProp at 0x7f21bf1b1900>"
      ]
     },
     "execution_count": 8,
     "metadata": {},
     "output_type": "execute_result"
    }
   ],
   "source": [
    "opt_prop.set_geometries(geometries=[body_1])\n",
    "opt_prop.commit()"
   ]
  },
  {
   "cell_type": "markdown",
   "id": "00cadc3b",
   "metadata": {
    "lines_to_next_cell": 2
   },
   "source": [
    "### Prepare an irradiance sensor"
   ]
  },
  {
   "cell_type": "code",
   "execution_count": 9,
   "id": "0a9c7c2d",
   "metadata": {
    "execution": {
     "iopub.execute_input": "2025-10-10T08:22:31.330773Z",
     "iopub.status.busy": "2025-10-10T08:22:31.330567Z",
     "iopub.status.idle": "2025-10-10T08:22:31.342878Z",
     "shell.execute_reply": "2025-10-10T08:22:31.342321Z"
    }
   },
   "outputs": [
    {
     "data": {
      "text/plain": [
       "<ansys.speos.core.sensor.SensorIrradiance at 0x7f21bf1b2c50>"
      ]
     },
     "execution_count": 9,
     "metadata": {},
     "output_type": "execute_result"
    }
   ],
   "source": [
    "sensor1 = p.create_sensor(name=SENSOR_NAME)\n",
    "# set type to colorimetric or spectral so that the sensor can be used both in\n",
    "# direct and inverse simulation\n",
    "sensor1.set_type_colorimetric()\n",
    "sensor1.commit()"
   ]
  },
  {
   "cell_type": "markdown",
   "id": "1a199813",
   "metadata": {},
   "source": [
    "### Prepare a surface source"
   ]
  },
  {
   "cell_type": "code",
   "execution_count": 10,
   "id": "f9420ebe",
   "metadata": {
    "execution": {
     "iopub.execute_input": "2025-10-10T08:22:31.344727Z",
     "iopub.status.busy": "2025-10-10T08:22:31.344534Z",
     "iopub.status.idle": "2025-10-10T08:22:31.375214Z",
     "shell.execute_reply": "2025-10-10T08:22:31.374598Z"
    }
   },
   "outputs": [
    {
     "name": "stderr",
     "output_type": "stream",
     "text": [
      "/home/runner/work/pyspeos/pyspeos/.venv/lib/python3.10/site-packages/ansys/speos/core/project.py:200: UserWarning: The pySpeos feature : SourceSurface needs a Speos Version of 2025 R2 SP0 or higher.\n",
      "  feature = SourceSurface(\n"
     ]
    },
    {
     "data": {
      "text/plain": [
       "<ansys.speos.core.source.SourceSurface at 0x7f21bf1b38e0>"
      ]
     },
     "execution_count": 10,
     "metadata": {},
     "output_type": "execute_result"
    }
   ],
   "source": [
    "source1 = p.create_source(name=SOURCE_NAME)\n",
    "source1.set_exitance_constant(geometries=[(face_1, True)])\n",
    "# define a spectrum which is not monochromatic so it can be used in both direct and inverse\n",
    "# simulation\n",
    "source1.set_spectrum().set_blackbody()\n",
    "source1.commit()"
   ]
  },
  {
   "cell_type": "markdown",
   "id": "ea67501c",
   "metadata": {},
   "source": [
    "## Create a simulation"
   ]
  },
  {
   "cell_type": "code",
   "execution_count": 11,
   "id": "1a30b3e9",
   "metadata": {
    "execution": {
     "iopub.execute_input": "2025-10-10T08:22:31.377299Z",
     "iopub.status.busy": "2025-10-10T08:22:31.377080Z",
     "iopub.status.idle": "2025-10-10T08:22:31.415355Z",
     "shell.execute_reply": "2025-10-10T08:22:31.414610Z"
    },
    "lines_to_next_cell": 2
   },
   "outputs": [
    {
     "name": "stdout",
     "output_type": "stream",
     "text": [
      "local: {\n",
      "    \"name\": \"Simulation.1\",\n",
      "    \"sensor_paths\": [\n",
      "        \"Irradiance.1\"\n",
      "    ],\n",
      "    \"source_paths\": [\n",
      "        \"Surface.1\"\n",
      "    ],\n",
      "    \"description\": \"\",\n",
      "    \"metadata\": {},\n",
      "    \"simulation_guid\": \"\",\n",
      "    \"simulation\": {\n",
      "        \"direct_mc_simulation_template\": {\n",
      "            \"geom_distance_tolerance\": 0.01,\n",
      "            \"max_impact\": 100,\n",
      "            \"weight\": {\n",
      "                \"minimum_energy_percentage\": 0.005\n",
      "            },\n",
      "            \"dispersion\": true,\n",
      "            \"colorimetric_standard\": \"CIE_1931\",\n",
      "            \"fast_transmission_gathering\": false,\n",
      "            \"ambient_material_uri\": \"\",\n",
      "            \"stop_condition_rays_number\": \"200000\",\n",
      "            \"automatic_save_frequency\": 1800\n",
      "        },\n",
      "        \"name\": \"Simulation.1\",\n",
      "        \"description\": \"\",\n",
      "        \"metadata\": {},\n",
      "        \"scene_guid\": \"8eb6c1f9-8b90-4751-8a57-89b15cf892b4\",\n",
      "        \"simulation_path\": \"Simulation.1\",\n",
      "        \"job_type\": \"CPU\"\n",
      "    }\n",
      "}\n",
      "{\n",
      "    \"name\": \"Simulation.1\",\n",
      "    \"metadata\": {\n",
      "        \"UniqueId\": \"c27ef16e-80fc-45c3-896c-30499b74acb4\"\n",
      "    },\n",
      "    \"simulation_guid\": \"e392c228-aeec-4c2b-bbec-35fcc3aecf78\",\n",
      "    \"sensor_paths\": [\n",
      "        \"Irradiance.1\"\n",
      "    ],\n",
      "    \"source_paths\": [\n",
      "        \"Surface.1\"\n",
      "    ],\n",
      "    \"description\": \"\",\n",
      "    \"simulation\": {\n",
      "        \"direct_mc_simulation_template\": {\n",
      "            \"geom_distance_tolerance\": 0.01,\n",
      "            \"max_impact\": 100,\n",
      "            \"weight\": {\n",
      "                \"minimum_energy_percentage\": 0.005\n",
      "            },\n",
      "            \"dispersion\": true,\n",
      "            \"colorimetric_standard\": \"CIE_1931\",\n",
      "            \"fast_transmission_gathering\": false,\n",
      "            \"ambient_material_uri\": \"\",\n",
      "            \"stop_condition_rays_number\": \"200000\",\n",
      "            \"automatic_save_frequency\": 1800\n",
      "        },\n",
      "        \"name\": \"Simulation.1\",\n",
      "        \"description\": \"\",\n",
      "        \"metadata\": {},\n",
      "        \"scene_guid\": \"8eb6c1f9-8b90-4751-8a57-89b15cf892b4\",\n",
      "        \"simulation_path\": \"Simulation.1\",\n",
      "        \"job_type\": \"CPU\"\n",
      "    }\n",
      "}\n"
     ]
    },
    {
     "name": "stderr",
     "output_type": "stream",
     "text": [
      "/home/runner/work/pyspeos/pyspeos/.venv/lib/python3.10/site-packages/ansys/speos/core/project.py:280: UserWarning: The pySpeos feature : SimulationDirect needs a Speos Version of 2025 R2 SP0 or higher.\n",
      "  feature = SimulationDirect(\n",
      "/home/runner/work/pyspeos/pyspeos/.venv/lib/python3.10/site-packages/ansys/speos/core/simulation.py:677: UserWarning: Please note that setting a value for light expert option forces a sensorcommit when committing the Simulation class\n",
      "  self.set_light_expert()\n"
     ]
    }
   ],
   "source": [
    "simulation1 = p.create_simulation(name=\"Simulation.1\")\n",
    "simulation1.set_sensor_paths([SENSOR_NAME]).set_source_paths([SOURCE_NAME])\n",
    "print(simulation1)\n",
    "simulation1.commit()\n",
    "print(simulation1)"
   ]
  },
  {
   "cell_type": "markdown",
   "id": "d0402306",
   "metadata": {
    "lines_to_next_cell": 2
   },
   "source": [
    "### Set simulation characteristics\n",
    "\n",
    "Simulation is defined with the same default values as the GUI speos.\n",
    "\n",
    "If the user would like to modify the simulation characteristics,\n",
    "it is possible to do so by setting the simulation characteristics as below."
   ]
  },
  {
   "cell_type": "code",
   "execution_count": 12,
   "id": "cad0e767",
   "metadata": {
    "execution": {
     "iopub.execute_input": "2025-10-10T08:22:31.417538Z",
     "iopub.status.busy": "2025-10-10T08:22:31.417342Z",
     "iopub.status.idle": "2025-10-10T08:22:31.468176Z",
     "shell.execute_reply": "2025-10-10T08:22:31.467612Z"
    },
    "lines_to_next_cell": 2
   },
   "outputs": [
    {
     "name": "stdout",
     "output_type": "stream",
     "text": [
      "{\n",
      "    \"name\": \"Simulation.2\",\n",
      "    \"metadata\": {\n",
      "        \"UniqueId\": \"39d908cf-8f5e-4fa3-9286-9818a19d43ba\"\n",
      "    },\n",
      "    \"simulation_guid\": \"44dadeca-34cb-43b9-ba21-02ac8dd66e4d\",\n",
      "    \"sensor_paths\": [\n",
      "        \"Irradiance.1\"\n",
      "    ],\n",
      "    \"source_paths\": [\n",
      "        \"Surface.1\"\n",
      "    ],\n",
      "    \"description\": \"\",\n",
      "    \"simulation\": {\n",
      "        \"direct_mc_simulation_template\": {\n",
      "            \"geom_distance_tolerance\": 0.01,\n",
      "            \"max_impact\": 200,\n",
      "            \"colorimetric_standard\": \"CIE_1964\",\n",
      "            \"ambient_material_uri\": \"/app/assets/AIR.material\",\n",
      "            \"dispersion\": false,\n",
      "            \"fast_transmission_gathering\": false,\n",
      "            \"stop_condition_rays_number\": \"200000\",\n",
      "            \"automatic_save_frequency\": 1800\n",
      "        },\n",
      "        \"name\": \"Simulation.2\",\n",
      "        \"description\": \"\",\n",
      "        \"metadata\": {},\n",
      "        \"scene_guid\": \"8eb6c1f9-8b90-4751-8a57-89b15cf892b4\",\n",
      "        \"simulation_path\": \"Simulation.2\",\n",
      "        \"job_type\": \"CPU\"\n",
      "    }\n",
      "}\n"
     ]
    }
   ],
   "source": [
    "simulation2_direct = p.create_simulation(name=\"Simulation.2\")\n",
    "simulation2_direct.set_ambient_material_file_uri(\n",
    "    uri=str(assets_data_path / \"AIR.material\")\n",
    ").set_colorimetric_standard_CIE_1964().set_weight_none().set_geom_distance_tolerance(\n",
    "    0.01\n",
    ").set_max_impact(200).set_dispersion(False)\n",
    "simulation2_direct.set_sensor_paths([SENSOR_NAME]).set_source_paths([SOURCE_NAME]).commit()\n",
    "print(simulation2_direct)"
   ]
  },
  {
   "cell_type": "markdown",
   "id": "315d8feb",
   "metadata": {},
   "source": [
    "### Read information\n",
    "\n",
    "Read simulation information"
   ]
  },
  {
   "cell_type": "code",
   "execution_count": 13,
   "id": "9fd76d74",
   "metadata": {
    "execution": {
     "iopub.execute_input": "2025-10-10T08:22:31.470117Z",
     "iopub.status.busy": "2025-10-10T08:22:31.469904Z",
     "iopub.status.idle": "2025-10-10T08:22:31.477654Z",
     "shell.execute_reply": "2025-10-10T08:22:31.477042Z"
    }
   },
   "outputs": [
    {
     "name": "stdout",
     "output_type": "stream",
     "text": [
      "{\n",
      "    \"name\": \"Simulation.1\",\n",
      "    \"metadata\": {\n",
      "        \"UniqueId\": \"c27ef16e-80fc-45c3-896c-30499b74acb4\"\n",
      "    },\n",
      "    \"simulation_guid\": \"e392c228-aeec-4c2b-bbec-35fcc3aecf78\",\n",
      "    \"sensor_paths\": [\n",
      "        \"Irradiance.1\"\n",
      "    ],\n",
      "    \"source_paths\": [\n",
      "        \"Surface.1\"\n",
      "    ],\n",
      "    \"description\": \"\",\n",
      "    \"simulation\": {\n",
      "        \"direct_mc_simulation_template\": {\n",
      "            \"geom_distance_tolerance\": 0.01,\n",
      "            \"max_impact\": 100,\n",
      "            \"weight\": {\n",
      "                \"minimum_energy_percentage\": 0.005\n",
      "            },\n",
      "            \"dispersion\": true,\n",
      "            \"colorimetric_standard\": \"CIE_1931\",\n",
      "            \"fast_transmission_gathering\": false,\n",
      "            \"ambient_material_uri\": \"\",\n",
      "            \"stop_condition_rays_number\": \"200000\",\n",
      "            \"automatic_save_frequency\": 1800\n",
      "        },\n",
      "        \"name\": \"Simulation.1\",\n",
      "        \"description\": \"\",\n",
      "        \"metadata\": {},\n",
      "        \"scene_guid\": \"8eb6c1f9-8b90-4751-8a57-89b15cf892b4\",\n",
      "        \"simulation_path\": \"Simulation.1\",\n",
      "        \"job_type\": \"CPU\"\n",
      "    }\n",
      "}\n"
     ]
    }
   ],
   "source": [
    "print(simulation1)"
   ]
  },
  {
   "cell_type": "markdown",
   "id": "8e6f7c86",
   "metadata": {},
   "source": [
    "Read project information"
   ]
  },
  {
   "cell_type": "code",
   "execution_count": 14,
   "id": "1a1b9cf6",
   "metadata": {
    "execution": {
     "iopub.execute_input": "2025-10-10T08:22:31.479575Z",
     "iopub.status.busy": "2025-10-10T08:22:31.479371Z",
     "iopub.status.idle": "2025-10-10T08:22:31.500513Z",
     "shell.execute_reply": "2025-10-10T08:22:31.499891Z"
    }
   },
   "outputs": [
    {
     "name": "stdout",
     "output_type": "stream",
     "text": [
      "{\n",
      "    \"part_guid\": \"a4b2e0c0-1716-4806-8471-d964c5ddafca\",\n",
      "    \"sources\": [\n",
      "        {\n",
      "            \"name\": \"Surface.1\",\n",
      "            \"metadata\": {\n",
      "                \"UniqueId\": \"8d163fcd-8524-4780-9e95-2f7af187c72c\"\n",
      "            },\n",
      "            \"source_guid\": \"3b1d5e52-e756-48d4-9d2c-cc07598ae7e6\",\n",
      "            \"description\": \"\",\n",
      "            \"source\": {\n",
      "                \"name\": \"Surface.1\",\n",
      "                \"surface\": {\n",
      "                    \"luminous_flux\": {\n",
      "                        \"luminous_value\": 683.0\n",
      "                    },\n",
      "                    \"intensity_guid\": \"7dfab71a-084c-4b23-812f-612e74d3c452\",\n",
      "                    \"exitance_constant\": {\n",
      "                        \"geo_paths\": [\n",
      "                            {\n",
      "                                \"geo_path\": \"Body.1/Face.1\",\n",
      "                                \"reverse_normal\": true\n",
      "                            }\n",
      "                        ]\n",
      "                    },\n",
      "                    \"spectrum_guid\": \"83bb04f2-9386-44c4-b024-f28760d37846\",\n",
      "                    \"intensity\": {\n",
      "                        \"name\": \"Surface.1.Intensity\",\n",
      "                        \"cos\": {\n",
      "                            \"N\": 1.0,\n",
      "                            \"total_angle\": 180.0\n",
      "                        },\n",
      "                        \"description\": \"\",\n",
      "                        \"metadata\": {}\n",
      "                    },\n",
      "                    \"spectrum\": {\n",
      "                        \"name\": \"Surface.1.Spectrum\",\n",
      "                        \"blackbody\": {\n",
      "                            \"temperature\": 2856.0\n",
      "                        },\n",
      "                        \"description\": \"\",\n",
      "                        \"metadata\": {}\n",
      "                    }\n",
      "                },\n",
      "                \"description\": \"\",\n",
      "                \"metadata\": {}\n",
      "            }\n",
      "        }\n",
      "    ],\n",
      "    \"sensors\": [\n",
      "        {\n",
      "            \"name\": \"Irradiance.1\",\n",
      "            \"metadata\": {\n",
      "                \"UniqueId\": \"05c0eb6e-15c6-4853-a228-f34e05658d50\"\n",
      "            },\n",
      "            \"sensor_guid\": \"f64a0c67-cbda-4b40-b283-f2faa7ff035d\",\n",
      "            \"description\": \"\",\n",
      "            \"result_file_name\": \"\",\n",
      "            \"sensor\": {\n",
      "                \"irradiance_sensor_template\": {\n",
      "                    \"sensor_type_colorimetric\": {\n",
      "                        \"wavelengths_range\": {\n",
      "                            \"w_start\": 400.0,\n",
      "                            \"w_end\": 700.0,\n",
      "                            \"w_sampling\": 13\n",
      "                        }\n",
      "                    },\n",
      "                    \"illuminance_type_planar\": {},\n",
      "                    \"dimensions\": {\n",
      "                        \"x_start\": -50.0,\n",
      "                        \"x_end\": 50.0,\n",
      "                        \"x_sampling\": 100,\n",
      "                        \"y_start\": -50.0,\n",
      "                        \"y_end\": 50.0,\n",
      "                        \"y_sampling\": 100\n",
      "                    },\n",
      "                    \"axis_system\": [\n",
      "                        0.0,\n",
      "                        0.0,\n",
      "                        0.0,\n",
      "                        1.0,\n",
      "                        0.0,\n",
      "                        0.0,\n",
      "                        0.0,\n",
      "                        1.0,\n",
      "                        0.0,\n",
      "                        0.0,\n",
      "                        0.0,\n",
      "                        1.0\n",
      "                    ],\n",
      "                    \"layer_type_none\": {},\n",
      "                    \"ray_file_type\": \"RayFileNone\",\n",
      "                    \"integration_direction\": []\n",
      "                },\n",
      "                \"name\": \"Irradiance.1\",\n",
      "                \"description\": \"\",\n",
      "                \"metadata\": {}\n",
      "            }\n",
      "        }\n",
      "    ],\n",
      "    \"simulations\": [\n",
      "        {\n",
      "            \"name\": \"Simulation.1\",\n",
      "            \"metadata\": {\n",
      "                \"UniqueId\": \"c27ef16e-80fc-45c3-896c-30499b74acb4\"\n",
      "            },\n",
      "            \"simulation_guid\": \"e392c228-aeec-4c2b-bbec-35fcc3aecf78\",\n",
      "            \"sensor_paths\": [\n",
      "                \"Irradiance.1\"\n",
      "            ],\n",
      "            \"source_paths\": [\n",
      "                \"Surface.1\"\n",
      "            ],\n",
      "            \"description\": \"\",\n",
      "            \"simulation\": {\n",
      "                \"direct_mc_simulation_template\": {\n",
      "                    \"geom_distance_tolerance\": 0.01,\n",
      "                    \"max_impact\": 100,\n",
      "                    \"weight\": {\n",
      "                        \"minimum_energy_percentage\": 0.005\n",
      "                    },\n",
      "                    \"dispersion\": true,\n",
      "                    \"colorimetric_standard\": \"CIE_1931\",\n",
      "                    \"fast_transmission_gathering\": false,\n",
      "                    \"ambient_material_uri\": \"\",\n",
      "                    \"stop_condition_rays_number\": \"200000\",\n",
      "                    \"automatic_save_frequency\": 1800\n",
      "                },\n",
      "                \"name\": \"Simulation.1\",\n",
      "                \"description\": \"\",\n",
      "                \"metadata\": {},\n",
      "                \"scene_guid\": \"8eb6c1f9-8b90-4751-8a57-89b15cf892b4\",\n",
      "                \"simulation_path\": \"Simulation.1\",\n",
      "                \"job_type\": \"CPU\"\n",
      "            }\n",
      "        },\n",
      "        {\n",
      "            \"name\": \"Simulation.2\",\n",
      "            \"metadata\": {\n",
      "                \"UniqueId\": \"39d908cf-8f5e-4fa3-9286-9818a19d43ba\"\n",
      "            },\n",
      "            \"simulation_guid\": \"44dadeca-34cb-43b9-ba21-02ac8dd66e4d\",\n",
      "            \"sensor_paths\": [\n",
      "                \"Irradiance.1\"\n",
      "            ],\n",
      "            \"source_paths\": [\n",
      "                \"Surface.1\"\n",
      "            ],\n",
      "            \"description\": \"\",\n",
      "            \"simulation\": {\n",
      "                \"direct_mc_simulation_template\": {\n",
      "                    \"geom_distance_tolerance\": 0.01,\n",
      "                    \"max_impact\": 200,\n",
      "                    \"colorimetric_standard\": \"CIE_1964\",\n",
      "                    \"ambient_material_uri\": \"/app/assets/AIR.material\",\n",
      "                    \"dispersion\": false,\n",
      "                    \"fast_transmission_gathering\": false,\n",
      "                    \"stop_condition_rays_number\": \"200000\",\n",
      "                    \"automatic_save_frequency\": 1800\n",
      "                },\n",
      "                \"name\": \"Simulation.2\",\n",
      "                \"description\": \"\",\n",
      "                \"metadata\": {},\n",
      "                \"scene_guid\": \"8eb6c1f9-8b90-4751-8a57-89b15cf892b4\",\n",
      "                \"simulation_path\": \"Simulation.2\",\n",
      "                \"job_type\": \"CPU\"\n",
      "            }\n",
      "        }\n",
      "    ],\n",
      "    \"materials\": [\n",
      "        {\n",
      "            \"name\": \"Material.1\",\n",
      "            \"metadata\": {\n",
      "                \"UniqueId\": \"97587f7d-b8a0-48e1-8e1f-876fa0f1d2b0\"\n",
      "            },\n",
      "            \"vop_guid\": \"dcea7592-c1cc-406f-9188-1d257b72118e\",\n",
      "            \"geometries\": {\n",
      "                \"geo_paths\": [\n",
      "                    \"Body.1\"\n",
      "                ]\n",
      "            },\n",
      "            \"sop_guid\": \"e7ba81dd-1f0c-4381-9888-2a17dc449cb3\",\n",
      "            \"description\": \"\",\n",
      "            \"sop_guids\": [],\n",
      "            \"vop\": {\n",
      "                \"name\": \"Material.1.VOP\",\n",
      "                \"opaque\": {},\n",
      "                \"description\": \"\",\n",
      "                \"metadata\": {}\n",
      "            },\n",
      "            \"sop\": {\n",
      "                \"name\": \"Material.1.SOP\",\n",
      "                \"mirror\": {\n",
      "                    \"reflectance\": 100.0\n",
      "                },\n",
      "                \"description\": \"\",\n",
      "                \"metadata\": {}\n",
      "            }\n",
      "        }\n",
      "    ],\n",
      "    \"name\": \"\",\n",
      "    \"description\": \"\",\n",
      "    \"metadata\": {},\n",
      "    \"scenes\": []\n",
      "}\n"
     ]
    }
   ],
   "source": [
    "print(p)"
   ]
  },
  {
   "cell_type": "markdown",
   "id": "5584568f",
   "metadata": {},
   "source": [
    "## Update simulation settings\n",
    "\n",
    "If you are manipulating a simulation already committed, remember to commit your changes.\n",
    "\n",
    "If you don't, you will still only watch what is committed on the server."
   ]
  },
  {
   "cell_type": "code",
   "execution_count": 15,
   "id": "af95d9f1",
   "metadata": {
    "execution": {
     "iopub.execute_input": "2025-10-10T08:22:31.502617Z",
     "iopub.status.busy": "2025-10-10T08:22:31.502405Z",
     "iopub.status.idle": "2025-10-10T08:22:31.511541Z",
     "shell.execute_reply": "2025-10-10T08:22:31.510859Z"
    },
    "lines_to_next_cell": 2
   },
   "outputs": [
    {
     "name": "stdout",
     "output_type": "stream",
     "text": [
      "{\n",
      "    \"name\": \"Simulation.1\",\n",
      "    \"metadata\": {\n",
      "        \"UniqueId\": \"c27ef16e-80fc-45c3-896c-30499b74acb4\"\n",
      "    },\n",
      "    \"simulation_guid\": \"e392c228-aeec-4c2b-bbec-35fcc3aecf78\",\n",
      "    \"sensor_paths\": [\n",
      "        \"Irradiance.1\"\n",
      "    ],\n",
      "    \"source_paths\": [\n",
      "        \"Surface.1\"\n",
      "    ],\n",
      "    \"description\": \"\",\n",
      "    \"simulation\": {\n",
      "        \"direct_mc_simulation_template\": {\n",
      "            \"geom_distance_tolerance\": 0.01,\n",
      "            \"max_impact\": 100,\n",
      "            \"weight\": {\n",
      "                \"minimum_energy_percentage\": 0.005\n",
      "            },\n",
      "            \"dispersion\": true,\n",
      "            \"ambient_material_uri\": \"/app/assets/AIR.material\",\n",
      "            \"colorimetric_standard\": \"CIE_1931\",\n",
      "            \"fast_transmission_gathering\": false,\n",
      "            \"stop_condition_rays_number\": \"200000\",\n",
      "            \"automatic_save_frequency\": 1800\n",
      "        },\n",
      "        \"name\": \"Simulation.1\",\n",
      "        \"description\": \"\",\n",
      "        \"metadata\": {},\n",
      "        \"scene_guid\": \"8eb6c1f9-8b90-4751-8a57-89b15cf892b4\",\n",
      "        \"simulation_path\": \"Simulation.1\",\n",
      "        \"job_type\": \"CPU\"\n",
      "    }\n",
      "}\n"
     ]
    }
   ],
   "source": [
    "simulation1.set_ambient_material_file_uri(uri=str(assets_data_path / \"AIR.material\"))\n",
    "simulation1.commit()\n",
    "print(simulation1)"
   ]
  },
  {
   "cell_type": "markdown",
   "id": "1a37188d",
   "metadata": {},
   "source": [
    "## Reset\n",
    "\n",
    "Possibility to reset local values from the one available in the server."
   ]
  },
  {
   "cell_type": "code",
   "execution_count": 16,
   "id": "d14dfabd",
   "metadata": {
    "execution": {
     "iopub.execute_input": "2025-10-10T08:22:31.513573Z",
     "iopub.status.busy": "2025-10-10T08:22:31.513344Z",
     "iopub.status.idle": "2025-10-10T08:22:31.546210Z",
     "shell.execute_reply": "2025-10-10T08:22:31.545481Z"
    },
    "lines_to_next_cell": 2
   },
   "outputs": [
    {
     "name": "stdout",
     "output_type": "stream",
     "text": [
      "local: {\n",
      "    \"name\": \"Simulation.1\",\n",
      "    \"sensor_paths\": [\n",
      "        \"Irradiance.1\"\n",
      "    ],\n",
      "    \"source_paths\": [\n",
      "        \"Surface.1\"\n",
      "    ],\n",
      "    \"description\": \"\",\n",
      "    \"metadata\": {},\n",
      "    \"simulation_guid\": \"\",\n",
      "    \"simulation\": {\n",
      "        \"direct_mc_simulation_template\": {\n",
      "            \"geom_distance_tolerance\": 0.01,\n",
      "            \"max_impact\": 100,\n",
      "            \"weight\": {\n",
      "                \"minimum_energy_percentage\": 0.005\n",
      "            },\n",
      "            \"dispersion\": true,\n",
      "            \"ambient_material_uri\": \"/app/assets/AIR.material\",\n",
      "            \"colorimetric_standard\": \"CIE_1931\",\n",
      "            \"fast_transmission_gathering\": false,\n",
      "            \"stop_condition_rays_number\": \"200000\",\n",
      "            \"automatic_save_frequency\": 1800\n",
      "        },\n",
      "        \"name\": \"Simulation.1\",\n",
      "        \"description\": \"\",\n",
      "        \"metadata\": {},\n",
      "        \"scene_guid\": \"8eb6c1f9-8b90-4751-8a57-89b15cf892b4\",\n",
      "        \"simulation_path\": \"Simulation.1\",\n",
      "        \"job_type\": \"CPU\"\n",
      "    }\n",
      "}\n"
     ]
    }
   ],
   "source": [
    "simulation1.set_max_impact(1000)  # adjust max impact but no commit\n",
    "simulation1.reset()  # reset -> this will apply the server value to the local value\n",
    "simulation1.delete()  # delete (to display the local value with the below print)\n",
    "print(simulation1)"
   ]
  },
  {
   "cell_type": "markdown",
   "id": "27975f2b",
   "metadata": {},
   "source": [
    "## Other simulation examples\n",
    "\n",
    "### Inverse simulation"
   ]
  },
  {
   "cell_type": "code",
   "execution_count": 17,
   "id": "9f4733a5",
   "metadata": {
    "execution": {
     "iopub.execute_input": "2025-10-10T08:22:31.548248Z",
     "iopub.status.busy": "2025-10-10T08:22:31.548028Z",
     "iopub.status.idle": "2025-10-10T08:22:31.597473Z",
     "shell.execute_reply": "2025-10-10T08:22:31.596856Z"
    }
   },
   "outputs": [
    {
     "name": "stderr",
     "output_type": "stream",
     "text": [
      "/home/runner/work/pyspeos/pyspeos/.venv/lib/python3.10/site-packages/ansys/speos/core/project.py:287: UserWarning: The pySpeos feature : SimulationInverse needs a Speos Version of 2025 R2 SP0 or higher.\n",
      "  feature = SimulationInverse(\n"
     ]
    },
    {
     "name": "stdout",
     "output_type": "stream",
     "text": [
      "{\n",
      "    \"name\": \"Simulation.3\",\n",
      "    \"metadata\": {\n",
      "        \"UniqueId\": \"c1d566a8-cb67-4b29-9e64-5cc450b8c7f5\"\n",
      "    },\n",
      "    \"simulation_guid\": \"ccb4a422-53f2-4531-b152-5f55bc354300\",\n",
      "    \"sensor_paths\": [\n",
      "        \"Irradiance.1\"\n",
      "    ],\n",
      "    \"source_paths\": [\n",
      "        \"Surface.1\"\n",
      "    ],\n",
      "    \"description\": \"\",\n",
      "    \"simulation\": {\n",
      "        \"inverse_mc_simulation_template\": {\n",
      "            \"geom_distance_tolerance\": 0.01,\n",
      "            \"max_impact\": 100,\n",
      "            \"weight\": {\n",
      "                \"minimum_energy_percentage\": 0.005\n",
      "            },\n",
      "            \"number_of_gathering_rays_per_source\": 1,\n",
      "            \"colorimetric_standard\": \"CIE_1931\",\n",
      "            \"dispersion\": false,\n",
      "            \"splitting\": false,\n",
      "            \"maximum_gathering_error\": 0,\n",
      "            \"maximum_gathering_error_percentage\": 0.0,\n",
      "            \"fast_transmission_gathering\": false,\n",
      "            \"ambient_material_uri\": \"\",\n",
      "            \"optimized_propagation_none\": {\n",
      "                \"stop_condition_passes_number\": 5\n",
      "            },\n",
      "            \"automatic_save_frequency\": 1800\n",
      "        },\n",
      "        \"name\": \"Simulation.3\",\n",
      "        \"description\": \"\",\n",
      "        \"metadata\": {},\n",
      "        \"scene_guid\": \"8eb6c1f9-8b90-4751-8a57-89b15cf892b4\",\n",
      "        \"simulation_path\": \"Simulation.3\",\n",
      "        \"job_type\": \"CPU\"\n",
      "    }\n",
      "}\n"
     ]
    }
   ],
   "source": [
    "simulation3 = p.create_simulation(name=\"Simulation.3\", feature_type=SimulationInverse)\n",
    "simulation3.set_sensor_paths(sensor_paths=[SENSOR_NAME]).set_source_paths(\n",
    "    source_paths=[SOURCE_NAME]\n",
    ").commit()\n",
    "print(simulation3)"
   ]
  },
  {
   "cell_type": "markdown",
   "id": "bef0c054",
   "metadata": {},
   "source": [
    "### Interactive simulation"
   ]
  },
  {
   "cell_type": "code",
   "execution_count": 18,
   "id": "193f0ef9",
   "metadata": {
    "execution": {
     "iopub.execute_input": "2025-10-10T08:22:31.599405Z",
     "iopub.status.busy": "2025-10-10T08:22:31.599175Z",
     "iopub.status.idle": "2025-10-10T08:22:31.660459Z",
     "shell.execute_reply": "2025-10-10T08:22:31.659703Z"
    }
   },
   "outputs": [
    {
     "name": "stdout",
     "output_type": "stream",
     "text": [
      "{\n",
      "    \"name\": \"Simulation.4\",\n",
      "    \"metadata\": {\n",
      "        \"UniqueId\": \"0e1dadf8-b550-416d-9010-f447afa189fd\"\n",
      "    },\n",
      "    \"simulation_guid\": \"19067577-48e9-477b-a4c2-7b175b44d0c7\",\n",
      "    \"source_paths\": [\n",
      "        \"Surface.1\"\n",
      "    ],\n",
      "    \"description\": \"\",\n",
      "    \"sensor_paths\": [],\n",
      "    \"simulation\": {\n",
      "        \"name\": \"Simulation.4\",\n",
      "        \"interactive_simulation_template\": {\n",
      "            \"geom_distance_tolerance\": 0.01,\n",
      "            \"max_impact\": 100,\n",
      "            \"weight\": {\n",
      "                \"minimum_energy_percentage\": 0.005\n",
      "            },\n",
      "            \"colorimetric_standard\": \"CIE_1931\",\n",
      "            \"ambient_material_uri\": \"\",\n",
      "            \"rays_number_per_sources\": [],\n",
      "            \"light_expert\": false,\n",
      "            \"impact_report\": false\n",
      "        },\n",
      "        \"description\": \"\",\n",
      "        \"metadata\": {},\n",
      "        \"scene_guid\": \"8eb6c1f9-8b90-4751-8a57-89b15cf892b4\",\n",
      "        \"simulation_path\": \"Simulation.4\",\n",
      "        \"job_type\": \"CPU\"\n",
      "    }\n",
      "}\n"
     ]
    }
   ],
   "source": [
    "simulation4 = p.create_simulation(name=\"Simulation.4\", feature_type=SimulationInteractive)\n",
    "simulation4.set_source_paths(source_paths=[SOURCE_NAME]).commit()\n",
    "print(simulation4)"
   ]
  },
  {
   "cell_type": "code",
   "execution_count": 19,
   "id": "b9ad69a3",
   "metadata": {
    "execution": {
     "iopub.execute_input": "2025-10-10T08:22:31.662643Z",
     "iopub.status.busy": "2025-10-10T08:22:31.662426Z",
     "iopub.status.idle": "2025-10-10T08:22:31.667205Z",
     "shell.execute_reply": "2025-10-10T08:22:31.666610Z"
    }
   },
   "outputs": [
    {
     "data": {
      "text/plain": [
       "True"
      ]
     },
     "execution_count": 19,
     "metadata": {},
     "output_type": "execute_result"
    }
   ],
   "source": [
    "speos.close()"
   ]
  }
 ],
 "metadata": {
  "jupytext": {
   "cell_metadata_filter": "-all",
   "main_language": "python",
   "notebook_metadata_filter": "-all",
   "text_representation": {
    "extension": ".py",
    "format_name": "light"
   }
  },
  "language_info": {
   "codemirror_mode": {
    "name": "ipython",
    "version": 3
   },
   "file_extension": ".py",
   "mimetype": "text/x-python",
   "name": "python",
   "nbconvert_exporter": "python",
   "pygments_lexer": "ipython3",
   "version": "3.10.18"
  }
 },
 "nbformat": 4,
 "nbformat_minor": 5
}
