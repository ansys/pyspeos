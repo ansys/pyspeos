{
 "cells": [
  {
   "cell_type": "markdown",
   "id": "5d05aa4f",
   "metadata": {},
   "source": [
    "# How to open result (MS Windows OS only)"
   ]
  },
  {
   "cell_type": "markdown",
   "id": "6f0868f5",
   "metadata": {},
   "source": [
    "This tutorial demonstrates how to open and review results using workflow method."
   ]
  },
  {
   "cell_type": "markdown",
   "id": "d09a670e",
   "metadata": {},
   "source": [
    "## Prerequisites\n",
    "\n",
    "### Perform imports"
   ]
  },
  {
   "cell_type": "code",
   "execution_count": 1,
   "id": "54cad994",
   "metadata": {
    "execution": {
     "iopub.execute_input": "2025-10-10T08:23:58.649877Z",
     "iopub.status.busy": "2025-10-10T08:23:58.649538Z",
     "iopub.status.idle": "2025-10-10T08:23:59.771343Z",
     "shell.execute_reply": "2025-10-10T08:23:59.770401Z"
    }
   },
   "outputs": [],
   "source": [
    "import os\n",
    "from pathlib import Path\n",
    "\n",
    "from ansys.speos.core import Project, Speos\n",
    "from ansys.speos.core.simulation import SimulationDirect\n"
   ]
  },
  {
   "cell_type": "markdown",
   "id": "9606d972",
   "metadata": {},
   "source": [
    "### Define constants\n",
    "Constants help ensure consistency and avoid repetition throughout the example."
   ]
  },
  {
   "cell_type": "code",
   "execution_count": 2,
   "id": "3a63f73d",
   "metadata": {
    "execution": {
     "iopub.execute_input": "2025-10-10T08:23:59.774435Z",
     "iopub.status.busy": "2025-10-10T08:23:59.774037Z",
     "iopub.status.idle": "2025-10-10T08:23:59.777923Z",
     "shell.execute_reply": "2025-10-10T08:23:59.777231Z"
    }
   },
   "outputs": [],
   "source": [
    "HOSTNAME = \"localhost\"\n",
    "GRPC_PORT = 50098  # Be sure the Speos GRPC Server has been started on this port.\n",
    "FILE_NAME = \"LG_50M_Colorimetric_short.sv5\"\n",
    "RESULT_NAME = \"ASSEMBLY1.DS (0).Dom Irradiance Sensor (0).xmp\"\n",
    "USE_DOCKER = True  # Set to False if you're running this example locally as a Notebook.\n",
    "USE_GPU = False"
   ]
  },
  {
   "cell_type": "markdown",
   "id": "6686844b",
   "metadata": {},
   "source": [
    "## Model Setup\n",
    "\n",
    "### Load assets\n",
    "The assets used to run this example are available in the\n",
    "[PySpeos repository](https://github.com/ansys/pyspeos/) on GitHub.\n",
    "\n",
    "> **Note:** Make sure you\n",
    "> have downloaded simulation assets and set ``assets_data_path``\n",
    "> to point to the assets folder."
   ]
  },
  {
   "cell_type": "code",
   "execution_count": 3,
   "id": "d6b9afc1",
   "metadata": {
    "execution": {
     "iopub.execute_input": "2025-10-10T08:23:59.779953Z",
     "iopub.status.busy": "2025-10-10T08:23:59.779747Z",
     "iopub.status.idle": "2025-10-10T08:23:59.782958Z",
     "shell.execute_reply": "2025-10-10T08:23:59.782296Z"
    }
   },
   "outputs": [],
   "source": [
    "if USE_DOCKER:  # Running on the remote server.\n",
    "    assets_data_path = Path(\"/app\") / \"assets\"\n",
    "else:\n",
    "    assets_data_path = Path(\"/path/to/your/download/assets/directory\")"
   ]
  },
  {
   "cell_type": "markdown",
   "id": "00c9080b",
   "metadata": {},
   "source": [
    "### Connect to the RPC Server\n",
    "This Python client connects to a server where the Speos engine\n",
    "is running as a service. In this example, the server and\n",
    "client are the same\n",
    "machine."
   ]
  },
  {
   "cell_type": "code",
   "execution_count": 4,
   "id": "08f4aaba",
   "metadata": {
    "execution": {
     "iopub.execute_input": "2025-10-10T08:23:59.784922Z",
     "iopub.status.busy": "2025-10-10T08:23:59.784724Z",
     "iopub.status.idle": "2025-10-10T08:23:59.791788Z",
     "shell.execute_reply": "2025-10-10T08:23:59.791233Z"
    }
   },
   "outputs": [],
   "source": [
    "speos = Speos(host=HOSTNAME, port=GRPC_PORT)"
   ]
  },
  {
   "cell_type": "markdown",
   "id": "00074dd1",
   "metadata": {},
   "source": [
    "### Create project from a Speos file\n",
    "\n",
    "The ``Project`` class is instantiated by passing a ``Speos`` instance and the name of the Speos\n",
    "project file."
   ]
  },
  {
   "cell_type": "code",
   "execution_count": 5,
   "id": "711d929e",
   "metadata": {
    "execution": {
     "iopub.execute_input": "2025-10-10T08:23:59.793753Z",
     "iopub.status.busy": "2025-10-10T08:23:59.793527Z",
     "iopub.status.idle": "2025-10-10T08:24:00.018061Z",
     "shell.execute_reply": "2025-10-10T08:24:00.017221Z"
    }
   },
   "outputs": [
    {
     "name": "stdout",
     "output_type": "stream",
     "text": [
      "{\n",
      "    \"name\": \"LG_50M_Colorimetric_short\",\n",
      "    \"description\": \"From /app/assets/LG_50M_Colorimetric_short.sv5/LG_50M_Colorimetric_short.sv5\",\n",
      "    \"part_guid\": \"05d2869e-4481-43b1-bb73-c778c0f861e2\",\n",
      "    \"sources\": [\n",
      "        {\n",
      "            \"name\": \"Dom Source 2 (0) in SOURCE2\",\n",
      "            \"metadata\": {\n",
      "                \"UniqueId\": \"5f3f4dd1-9f3d-4544-939f-fed5171055a7\"\n",
      "            },\n",
      "            \"source_guid\": \"0bfd1cb5-cd8e-4691-9bf4-2d7810391c3e\",\n",
      "            \"description\": \"\",\n",
      "            \"source\": {\n",
      "                \"name\": \"Dom Source 2 (0) in SOURCE2\",\n",
      "                \"surface\": {\n",
      "                    \"radiant_flux\": {\n",
      "                        \"radiant_value\": 6.590041607465698\n",
      "                    },\n",
      "                    \"intensity_guid\": \"62317a5a-6172-4607-b51f-ee3caecfe940\",\n",
      "                    \"exitance_constant\": {\n",
      "                        \"geo_paths\": [\n",
      "                            {\n",
      "                                \"geo_path\": \"Solid Body in SOURCE2:2920204960/Face in SOURCE2:222\",\n",
      "                                \"reverse_normal\": false\n",
      "                            }\n",
      "                        ]\n",
      "                    },\n",
      "                    \"spectrum_guid\": \"9bf9947a-e00e-405d-9dc2-e25d62bc8fd3\",\n",
      "                    \"intensity\": {\n",
      "                        \"cos\": {\n",
      "                            \"N\": 1.0,\n",
      "                            \"total_angle\": 180.0\n",
      "                        },\n",
      "                        \"name\": \"\",\n",
      "                        \"description\": \"\",\n",
      "                        \"metadata\": {}\n",
      "                    },\n",
      "                    \"spectrum\": {\n",
      "                        \"library\": {\n",
      "                            \"file_uri\": \"/app/assets/LG_50M_Colorimetric_short.sv5/Red Spectrum.spectrum\"\n",
      "                        },\n",
      "                        \"name\": \"\",\n",
      "                        \"description\": \"\",\n",
      "                        \"metadata\": {}\n",
      "                    }\n",
      "                },\n",
      "                \"description\": \"\",\n",
      "                \"metadata\": {}\n",
      "            }\n",
      "        },\n",
      "        {\n",
      "            \"name\": \"Surface Source (0) in SOURCE1\",\n",
      "            \"metadata\": {\n",
      "                \"UniqueId\": \"576ff32a-586e-4723-9f87-55699487820a\"\n",
      "            },\n",
      "            \"source_guid\": \"291c6f39-4b58-4ee3-ba7d-ffe8be591751\",\n",
      "            \"description\": \"\",\n",
      "            \"source\": {\n",
      "                \"name\": \"Surface Source (0) in SOURCE1\",\n",
      "                \"surface\": {\n",
      "                    \"radiant_flux\": {\n",
      "                        \"radiant_value\": 9.290411220389682\n",
      "                    },\n",
      "                    \"intensity_guid\": \"4249d9c4-a820-4b43-a18d-ecfeaf6a6633\",\n",
      "                    \"exitance_constant\": {\n",
      "                        \"geo_paths\": [\n",
      "                            {\n",
      "                                \"geo_path\": \"Solid Body in SOURCE1:2494956811/Face in SOURCE1:187\",\n",
      "                                \"reverse_normal\": false\n",
      "                            }\n",
      "                        ]\n",
      "                    },\n",
      "                    \"spectrum_guid\": \"d1a91279-605e-4e7a-a45d-e61a6f8e7bec\",\n",
      "                    \"intensity\": {\n",
      "                        \"cos\": {\n",
      "                            \"N\": 1.0,\n",
      "                            \"total_angle\": 180.0\n",
      "                        },\n",
      "                        \"name\": \"\",\n",
      "                        \"description\": \"\",\n",
      "                        \"metadata\": {}\n",
      "                    },\n",
      "                    \"spectrum\": {\n",
      "                        \"library\": {\n",
      "                            \"file_uri\": \"/app/assets/LG_50M_Colorimetric_short.sv5/Blue Spectrum.spectrum\"\n",
      "                        },\n",
      "                        \"name\": \"\",\n",
      "                        \"description\": \"\",\n",
      "                        \"metadata\": {}\n",
      "                    }\n",
      "                },\n",
      "                \"description\": \"\",\n",
      "                \"metadata\": {}\n",
      "            }\n",
      "        }\n",
      "    ],\n",
      "    \"sensors\": [\n",
      "        {\n",
      "            \"name\": \"Dom Irradiance Sensor (0)\",\n",
      "            \"metadata\": {\n",
      "                \"UniqueId\": \"c8398fd7-7556-456f-b308-02e0b8e2e431\"\n",
      "            },\n",
      "            \"sensor_guid\": \"ac0d7276-b8df-47a2-b7f8-9af66611fc35\",\n",
      "            \"result_file_name\": \"ASSEMBLY1.DS (0).Dom Irradiance Sensor (0)\",\n",
      "            \"description\": \"\",\n",
      "            \"sensor\": {\n",
      "                \"irradiance_sensor_template\": {\n",
      "                    \"sensor_type_colorimetric\": {\n",
      "                        \"wavelengths_range\": {\n",
      "                            \"w_start\": 400.0,\n",
      "                            \"w_end\": 700.0,\n",
      "                            \"w_sampling\": 25\n",
      "                        }\n",
      "                    },\n",
      "                    \"illuminance_type_planar\": {},\n",
      "                    \"dimensions\": {\n",
      "                        \"x_start\": -20.0,\n",
      "                        \"x_end\": 20.0,\n",
      "                        \"x_sampling\": 500,\n",
      "                        \"y_start\": -20.0,\n",
      "                        \"y_end\": 20.0,\n",
      "                        \"y_sampling\": 500\n",
      "                    },\n",
      "                    \"axis_system\": [\n",
      "                        -42.0,\n",
      "                        2.0,\n",
      "                        5.0,\n",
      "                        0.0,\n",
      "                        1.0,\n",
      "                        0.0,\n",
      "                        0.0,\n",
      "                        0.0,\n",
      "                        -1.0,\n",
      "                        -1.0,\n",
      "                        0.0,\n",
      "                        0.0\n",
      "                    ],\n",
      "                    \"layer_type_source\": {},\n",
      "                    \"integration_direction\": [\n",
      "                        1.0,\n",
      "                        -0.0,\n",
      "                        -0.0\n",
      "                    ],\n",
      "                    \"ray_file_type\": \"RayFileNone\"\n",
      "                },\n",
      "                \"name\": \"Dom Irradiance Sensor (0)\",\n",
      "                \"description\": \"\",\n",
      "                \"metadata\": {}\n",
      "            }\n",
      "        }\n",
      "    ],\n",
      "    \"simulations\": [\n",
      "        {\n",
      "            \"name\": \"ASSEMBLY1.DS (0)\",\n",
      "            \"metadata\": {\n",
      "                \"UniqueId\": \"a3d6c444-382a-4fcc-8eb8-00362cdfc5c3\"\n",
      "            },\n",
      "            \"simulation_guid\": \"9a9d8db8-ed56-4622-945c-2bbefe6634d5\",\n",
      "            \"sensor_paths\": [\n",
      "                \"Dom Irradiance Sensor (0)\"\n",
      "            ],\n",
      "            \"source_paths\": [\n",
      "                \"Dom Source 2 (0) in SOURCE2\",\n",
      "                \"Surface Source (0) in SOURCE1\"\n",
      "            ],\n",
      "            \"description\": \"\",\n",
      "            \"simulation\": {\n",
      "                \"direct_mc_simulation_template\": {\n",
      "                    \"geom_distance_tolerance\": 0.05,\n",
      "                    \"max_impact\": 100,\n",
      "                    \"weight\": {\n",
      "                        \"minimum_energy_percentage\": 0.005\n",
      "                    },\n",
      "                    \"dispersion\": true,\n",
      "                    \"colorimetric_standard\": \"CIE_1931\",\n",
      "                    \"fast_transmission_gathering\": false,\n",
      "                    \"ambient_material_uri\": \"\"\n",
      "                },\n",
      "                \"name\": \"ASSEMBLY1.DS (0)\",\n",
      "                \"metadata\": {},\n",
      "                \"description\": \"\",\n",
      "                \"scene_guid\": \"86a59494-2377-40da-b1f8-bed2cd1a7a2b\",\n",
      "                \"simulation_path\": \"ASSEMBLY1.DS (0)\",\n",
      "                \"job_type\": \"CPU\"\n",
      "            }\n",
      "        }\n",
      "    ],\n",
      "    \"materials\": [\n",
      "        {\n",
      "            \"name\": \"Material.1\",\n",
      "            \"metadata\": {\n",
      "                \"UniqueId\": \"de012624-47af-4e93-8097-3b556452d86f\"\n",
      "            },\n",
      "            \"geometries\": {\n",
      "                \"geo_paths\": [\n",
      "                    \"Solid Body in GUIDE:1379760262/Face in GUIDE:169\"\n",
      "                ]\n",
      "            },\n",
      "            \"sop_guid\": \"f40e8dbb-0dfd-49b6-82ec-c58dd971bf3c\",\n",
      "            \"description\": \"\",\n",
      "            \"sop_guids\": [],\n",
      "            \"sop\": {\n",
      "                \"mirror\": {\n",
      "                    \"reflectance\": 100.0\n",
      "                },\n",
      "                \"name\": \"\",\n",
      "                \"description\": \"\",\n",
      "                \"metadata\": {}\n",
      "            }\n",
      "        },\n",
      "        {\n",
      "            \"name\": \"Material.2\",\n",
      "            \"metadata\": {\n",
      "                \"UniqueId\": \"57c1e8a4-4145-4a43-a056-b5ca3fd400d4\"\n",
      "            },\n",
      "            \"vop_guid\": \"705f3c40-ae3d-477f-8ac3-3da7952ab95e\",\n",
      "            \"geometries\": {\n",
      "                \"geo_paths\": [\n",
      "                    \"Solid Body in GUIDE:1379760262\"\n",
      "                ]\n",
      "            },\n",
      "            \"sop_guid\": \"e5a59ec2-f55b-4db2-ba26-0188814aaeb7\",\n",
      "            \"description\": \"\",\n",
      "            \"sop_guids\": [],\n",
      "            \"vop\": {\n",
      "                \"optic\": {\n",
      "                    \"index\": 1.4,\n",
      "                    \"constringence\": 60.0,\n",
      "                    \"absorption\": 0.0\n",
      "                },\n",
      "                \"name\": \"\",\n",
      "                \"description\": \"\",\n",
      "                \"metadata\": {}\n",
      "            },\n",
      "            \"sop\": {\n",
      "                \"optical_polished\": {},\n",
      "                \"name\": \"\",\n",
      "                \"description\": \"\",\n",
      "                \"metadata\": {}\n",
      "            }\n",
      "        },\n",
      "        {\n",
      "            \"name\": \"Material.3\",\n",
      "            \"metadata\": {\n",
      "                \"UniqueId\": \"2b73a3ff-9aa4-473b-8f0e-52ae49fdc89f\"\n",
      "            },\n",
      "            \"vop_guid\": \"35775586-dd4b-437e-9e17-0cefbc800f9c\",\n",
      "            \"geometries\": {\n",
      "                \"geo_paths\": [\n",
      "                    \"Solid Body in SOURCE2:2920204960\",\n",
      "                    \"Solid Body in SOURCE1:2494956811\"\n",
      "                ]\n",
      "            },\n",
      "            \"sop_guid\": \"f40e8dbb-0dfd-49b6-82ec-c58dd971bf3c\",\n",
      "            \"description\": \"\",\n",
      "            \"sop_guids\": [],\n",
      "            \"vop\": {\n",
      "                \"opaque\": {},\n",
      "                \"name\": \"\",\n",
      "                \"description\": \"\",\n",
      "                \"metadata\": {}\n",
      "            },\n",
      "            \"sop\": {\n",
      "                \"mirror\": {\n",
      "                    \"reflectance\": 100.0\n",
      "                },\n",
      "                \"name\": \"\",\n",
      "                \"description\": \"\",\n",
      "                \"metadata\": {}\n",
      "            }\n",
      "        },\n",
      "        {\n",
      "            \"name\": \"Material.4\",\n",
      "            \"metadata\": {\n",
      "                \"UniqueId\": \"b81f4a99-7ad8-4cf9-88f6-bef9225dc9a2\"\n",
      "            },\n",
      "            \"vop_guid\": \"92c9ad84-7428-4247-8e0e-4762441fcfa4\",\n",
      "            \"description\": \"\",\n",
      "            \"sop_guids\": [],\n",
      "            \"vop\": {\n",
      "                \"optic\": {\n",
      "                    \"index\": 1.0,\n",
      "                    \"absorption\": 0.0\n",
      "                },\n",
      "                \"name\": \"\",\n",
      "                \"description\": \"\",\n",
      "                \"metadata\": {}\n",
      "            }\n",
      "        }\n",
      "    ],\n",
      "    \"metadata\": {},\n",
      "    \"scenes\": []\n",
      "}\n"
     ]
    },
    {
     "name": "stderr",
     "output_type": "stream",
     "text": [
      "/home/runner/work/pyspeos/pyspeos/.venv/lib/python3.10/site-packages/ansys/speos/core/project.py:698: UserWarning: The pySpeos feature : FaceStub.read_batch needs a Speos Version of 2025 R2 SP0 or higher.\n",
      "  f_data_list = face_db.read_batch(refs=f_links)\n",
      "/home/runner/work/pyspeos/pyspeos/.venv/lib/python3.10/site-packages/ansys/speos/core/project.py:804: UserWarning: The pySpeos feature : SourceSurface needs a Speos Version of 2025 R2 SP0 or higher.\n",
      "  src_feat = SourceSurface(\n",
      "/home/runner/work/pyspeos/pyspeos/.venv/lib/python3.10/site-packages/ansys/speos/core/project.py:862: UserWarning: The pySpeos feature : SimulationDirect needs a Speos Version of 2025 R2 SP0 or higher.\n",
      "  sim_feat = SimulationDirect(\n"
     ]
    }
   ],
   "source": [
    "p = Project(\n",
    "    speos=speos,\n",
    "    path=str(assets_data_path / FILE_NAME / FILE_NAME),\n",
    ")\n",
    "print(p)"
   ]
  },
  {
   "cell_type": "markdown",
   "id": "666b13b8",
   "metadata": {},
   "source": [
    "### Retrieve the simulation feature\n",
    "\n",
    "Use the method ``Project.find()`` to retrieve an instance\n",
    "of the ``SimulationDirect`` feature."
   ]
  },
  {
   "cell_type": "code",
   "execution_count": 6,
   "id": "0871ca40",
   "metadata": {
    "execution": {
     "iopub.execute_input": "2025-10-10T08:24:00.020896Z",
     "iopub.status.busy": "2025-10-10T08:24:00.020620Z",
     "iopub.status.idle": "2025-10-10T08:24:00.024765Z",
     "shell.execute_reply": "2025-10-10T08:24:00.024114Z"
    }
   },
   "outputs": [],
   "source": [
    "sim = p.find(name=\".*\", name_regex=True, feature_type=SimulationDirect)[0]"
   ]
  },
  {
   "cell_type": "markdown",
   "id": "9820f43d",
   "metadata": {},
   "source": [
    "## Run simulation\n",
    "\n",
    "The simulation can be run using either the CPU or with GPU acceleration. The following cell shows\n",
    "how Python is used to assign the appropriate method to ``run_sim``."
   ]
  },
  {
   "cell_type": "code",
   "execution_count": 7,
   "id": "648401e3",
   "metadata": {
    "execution": {
     "iopub.execute_input": "2025-10-10T08:24:00.027238Z",
     "iopub.status.busy": "2025-10-10T08:24:00.026941Z",
     "iopub.status.idle": "2025-10-10T08:24:15.146860Z",
     "shell.execute_reply": "2025-10-10T08:24:15.146034Z"
    },
    "lines_to_next_cell": 2
   },
   "outputs": [
    {
     "name": "stdout",
     "output_type": "stream",
     "text": [
      "[upload_response {\n",
      "  info {\n",
      "    uri: \"1eee0571-cb85-40e4-bc66-91f844929126\"\n",
      "    file_name: \"ASSEMBLY1.DS (0).Dom Irradiance Sensor (0).xmp\"\n",
      "    file_size: 2157306\n",
      "  }\n",
      "  upload_duration {\n",
      "    nanos: 4162116\n",
      "  }\n",
      "}\n",
      ", upload_response {\n",
      "  info {\n",
      "    uri: \"f3f08106-f12f-4ece-a3ee-d87e2fcaa5d0\"\n",
      "    file_name: \"ASSEMBLY1.DS (0).html\"\n",
      "    file_size: 647409\n",
      "  }\n",
      "  upload_duration {\n",
      "    nanos: 1305667\n",
      "  }\n",
      "}\n",
      "]\n"
     ]
    }
   ],
   "source": [
    "run_sim = sim.compute_GPU if USE_GPU else sim.compute_CPU\n",
    "results = run_sim()  # run the simulation\n",
    "print(results)"
   ]
  },
  {
   "cell_type": "markdown",
   "id": "0351e92b",
   "metadata": {},
   "source": [
    "## Postprocessing\n",
    "### Open the results (MS Windows OS only):\n",
    "\n",
    "Display one result as image.\n",
    "\n",
    "A full path can be given, or the name of the result."
   ]
  },
  {
   "cell_type": "code",
   "execution_count": 8,
   "id": "07ef2342",
   "metadata": {
    "execution": {
     "iopub.execute_input": "2025-10-10T08:24:15.149337Z",
     "iopub.status.busy": "2025-10-10T08:24:15.149082Z",
     "iopub.status.idle": "2025-10-10T08:24:15.152883Z",
     "shell.execute_reply": "2025-10-10T08:24:15.152266Z"
    }
   },
   "outputs": [],
   "source": [
    "if os.name == \"nt\":  # Are we running on Windows OS?\n",
    "    from ansys.speos.core.workflow.open_result import open_result_image\n",
    "\n",
    "    open_result_image(simulation_feature=sim, result_name=RESULT_NAME)"
   ]
  },
  {
   "cell_type": "markdown",
   "id": "9d4447b4",
   "metadata": {},
   "source": [
    "### Display the image\n",
    "\n",
    "Display one result in a result viewer.\n",
    "\n",
    "A full path can be given, or the name of the result."
   ]
  },
  {
   "cell_type": "code",
   "execution_count": 9,
   "id": "4ed77f0a",
   "metadata": {
    "execution": {
     "iopub.execute_input": "2025-10-10T08:24:15.154808Z",
     "iopub.status.busy": "2025-10-10T08:24:15.154565Z",
     "iopub.status.idle": "2025-10-10T08:24:15.162807Z",
     "shell.execute_reply": "2025-10-10T08:24:15.162123Z"
    }
   },
   "outputs": [
    {
     "data": {
      "text/plain": [
       "True"
      ]
     },
     "execution_count": 9,
     "metadata": {},
     "output_type": "execute_result"
    }
   ],
   "source": [
    "if os.name == \"nt\":\n",
    "    from ansys.speos.core.workflow.open_result import open_result_in_viewer\n",
    "\n",
    "    open_result_in_viewer(\n",
    "        simulation_feature=sim,\n",
    "        result_name=RESULT_NAME,\n",
    "    )\n",
    "speos.close()"
   ]
  }
 ],
 "metadata": {
  "jupytext": {
   "cell_metadata_filter": "-all",
   "main_language": "python",
   "notebook_metadata_filter": "-all",
   "text_representation": {
    "extension": ".py",
    "format_name": "light"
   }
  },
  "language_info": {
   "codemirror_mode": {
    "name": "ipython",
    "version": 3
   },
   "file_extension": ".py",
   "mimetype": "text/x-python",
   "name": "python",
   "nbconvert_exporter": "python",
   "pygments_lexer": "ipython3",
   "version": "3.10.18"
  }
 },
 "nbformat": 4,
 "nbformat_minor": 5
}
