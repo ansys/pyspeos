{
 "cells": [
  {
   "cell_type": "markdown",
   "id": "315c7cf1",
   "metadata": {},
   "source": [
    "# How to create a source"
   ]
  },
  {
   "cell_type": "markdown",
   "id": "84e1aefe",
   "metadata": {},
   "source": [
    "This tutorial demonstrates how to create a source."
   ]
  },
  {
   "cell_type": "markdown",
   "id": "e1bc49aa",
   "metadata": {},
   "source": [
    "There are different type of sources available: luminaire source, surface source, ray file source."
   ]
  },
  {
   "cell_type": "code",
   "execution_count": 1,
   "id": "278ae556",
   "metadata": {
    "execution": {
     "iopub.execute_input": "2025-03-28T09:27:34.146082Z",
     "iopub.status.busy": "2025-03-28T09:27:34.145887Z",
     "iopub.status.idle": "2025-03-28T09:27:34.718459Z",
     "shell.execute_reply": "2025-03-28T09:27:34.717814Z"
    }
   },
   "outputs": [],
   "source": [
    "from pathlib import Path\n",
    "\n",
    "from ansys.speos.core import GeoRef, Project, Speos\n",
    "from ansys.speos.core.source import (\n",
    "    SourceLuminaire,\n",
    "    SourceRayFile,\n",
    "    SourceSurface,\n",
    ")\n",
    "\n",
    "# If using docker container\n",
    "assets_data_path = Path(\"/app\") / \"assets\"\n",
    "# If using local server\n",
    "# assets_data_path = Path().resolve().parent.parent / \"tests\" / \"assets\"\n",
    "# If using a different path\n",
    "# assets_data_path = Path(\"path/to/downloaded/example/assets\")"
   ]
  },
  {
   "cell_type": "markdown",
   "id": "54aaa26d",
   "metadata": {},
   "source": [
    "## Create connection with speos rpc server"
   ]
  },
  {
   "cell_type": "code",
   "execution_count": 2,
   "id": "2a5abee5",
   "metadata": {
    "execution": {
     "iopub.execute_input": "2025-03-28T09:27:34.720723Z",
     "iopub.status.busy": "2025-03-28T09:27:34.720464Z",
     "iopub.status.idle": "2025-03-28T09:27:34.726705Z",
     "shell.execute_reply": "2025-03-28T09:27:34.726201Z"
    }
   },
   "outputs": [],
   "source": [
    "speos = Speos(host=\"localhost\", port=50098)"
   ]
  },
  {
   "cell_type": "markdown",
   "id": "f6e5297b",
   "metadata": {},
   "source": [
    "## Create a new project"
   ]
  },
  {
   "cell_type": "markdown",
   "id": "85d557aa",
   "metadata": {},
   "source": [
    "The only way to create a source, is to create it from a project."
   ]
  },
  {
   "cell_type": "code",
   "execution_count": 3,
   "id": "797ce7ea",
   "metadata": {
    "execution": {
     "iopub.execute_input": "2025-03-28T09:27:34.728777Z",
     "iopub.status.busy": "2025-03-28T09:27:34.728437Z",
     "iopub.status.idle": "2025-03-28T09:27:34.734337Z",
     "shell.execute_reply": "2025-03-28T09:27:34.733776Z"
    }
   },
   "outputs": [
    {
     "name": "stdout",
     "output_type": "stream",
     "text": [
      "{\n",
      "    \"name\": \"\",\n",
      "    \"description\": \"\",\n",
      "    \"metadata\": {},\n",
      "    \"part_guid\": \"\",\n",
      "    \"sources\": [],\n",
      "    \"sensors\": [],\n",
      "    \"simulations\": [],\n",
      "    \"materials\": [],\n",
      "    \"scenes\": []\n",
      "}\n"
     ]
    }
   ],
   "source": [
    "p = Project(speos=speos)\n",
    "print(p)"
   ]
  },
  {
   "cell_type": "markdown",
   "id": "83fbcbfb",
   "metadata": {},
   "source": [
    "## Create"
   ]
  },
  {
   "cell_type": "markdown",
   "id": "c5d06167",
   "metadata": {},
   "source": [
    "Create locally"
   ]
  },
  {
   "cell_type": "markdown",
   "id": "9deee5e9",
   "metadata": {},
   "source": [
    "The mention \"local: \" is added when printing the source."
   ]
  },
  {
   "cell_type": "code",
   "execution_count": 4,
   "id": "e3c8aff9",
   "metadata": {
    "execution": {
     "iopub.execute_input": "2025-03-28T09:27:34.736453Z",
     "iopub.status.busy": "2025-03-28T09:27:34.736102Z",
     "iopub.status.idle": "2025-03-28T09:27:34.740375Z",
     "shell.execute_reply": "2025-03-28T09:27:34.739786Z"
    }
   },
   "outputs": [
    {
     "name": "stdout",
     "output_type": "stream",
     "text": [
      "local: {\n",
      "    \"name\": \"Luminaire.1\",\n",
      "    \"description\": \"\",\n",
      "    \"metadata\": {},\n",
      "    \"source_guid\": \"\",\n",
      "    \"source\": {\n",
      "        \"name\": \"Luminaire.1\",\n",
      "        \"luminaire\": {\n",
      "            \"flux_from_intensity_file\": {},\n",
      "            \"intensity_file_uri\": \"/app/assets/IES_C_DETECTOR.ies\",\n",
      "            \"spectrum_guid\": \"\",\n",
      "            \"axis_system\": [\n",
      "                0.0,\n",
      "                0.0,\n",
      "                0.0,\n",
      "                1.0,\n",
      "                0.0,\n",
      "                0.0,\n",
      "                0.0,\n",
      "                1.0,\n",
      "                0.0,\n",
      "                0.0,\n",
      "                0.0,\n",
      "                1.0\n",
      "            ]\n",
      "        },\n",
      "        \"description\": \"\",\n",
      "        \"metadata\": {}\n",
      "    }\n",
      "}\n"
     ]
    }
   ],
   "source": [
    "intensity_file_path = str(assets_data_path / \"IES_C_DETECTOR.ies\")\n",
    "\n",
    "source1 = p.create_source(name=\"Luminaire.1\", feature_type=SourceLuminaire)  # type luminaire\n",
    "source1.set_intensity_file_uri(uri=intensity_file_path)\n",
    "print(source1)"
   ]
  },
  {
   "cell_type": "markdown",
   "id": "0dabffa5",
   "metadata": {},
   "source": [
    "## Push it to the server."
   ]
  },
  {
   "cell_type": "markdown",
   "id": "ab2d815f",
   "metadata": {},
   "source": [
    "Now that it is committed to the server, the mention \"local: \" is no more present when printing the\n",
    "source."
   ]
  },
  {
   "cell_type": "code",
   "execution_count": 5,
   "id": "486bb0de",
   "metadata": {
    "execution": {
     "iopub.execute_input": "2025-03-28T09:27:34.742446Z",
     "iopub.status.busy": "2025-03-28T09:27:34.741982Z",
     "iopub.status.idle": "2025-03-28T09:27:34.753238Z",
     "shell.execute_reply": "2025-03-28T09:27:34.752646Z"
    }
   },
   "outputs": [
    {
     "name": "stdout",
     "output_type": "stream",
     "text": [
      "{\n",
      "    \"name\": \"Luminaire.1\",\n",
      "    \"metadata\": {\n",
      "        \"UniqueId\": \"f9ed5c94-6a51-4ca5-97bf-adb343dfbf45\"\n",
      "    },\n",
      "    \"source_guid\": \"c9169d01-b6ef-4fed-878e-4d402019a943\",\n",
      "    \"description\": \"\",\n",
      "    \"source\": {\n",
      "        \"name\": \"Luminaire.1\",\n",
      "        \"luminaire\": {\n",
      "            \"flux_from_intensity_file\": {},\n",
      "            \"intensity_file_uri\": \"/app/assets/IES_C_DETECTOR.ies\",\n",
      "            \"spectrum_guid\": \"3abe8a6f-5fa3-4421-86d2-bf5971f4e04b\",\n",
      "            \"spectrum\": {\n",
      "                \"name\": \"Luminaire.1.Spectrum\",\n",
      "                \"predefined\": {\n",
      "                    \"incandescent\": {}\n",
      "                },\n",
      "                \"description\": \"\",\n",
      "                \"metadata\": {}\n",
      "            },\n",
      "            \"axis_system\": [\n",
      "                0.0,\n",
      "                0.0,\n",
      "                0.0,\n",
      "                1.0,\n",
      "                0.0,\n",
      "                0.0,\n",
      "                0.0,\n",
      "                1.0,\n",
      "                0.0,\n",
      "                0.0,\n",
      "                0.0,\n",
      "                1.0\n",
      "            ]\n",
      "        },\n",
      "        \"description\": \"\",\n",
      "        \"metadata\": {}\n",
      "    }\n",
      "}\n"
     ]
    }
   ],
   "source": [
    "source1.commit()\n",
    "print(source1)"
   ]
  },
  {
   "cell_type": "markdown",
   "id": "0766a582",
   "metadata": {},
   "source": [
    "## Another example"
   ]
  },
  {
   "cell_type": "markdown",
   "id": "cbb3a4d3",
   "metadata": {},
   "source": [
    "Setting several more characteristics."
   ]
  },
  {
   "cell_type": "code",
   "execution_count": 6,
   "id": "cb0f9c4c",
   "metadata": {
    "execution": {
     "iopub.execute_input": "2025-03-28T09:27:34.755250Z",
     "iopub.status.busy": "2025-03-28T09:27:34.755051Z",
     "iopub.status.idle": "2025-03-28T09:27:34.768995Z",
     "shell.execute_reply": "2025-03-28T09:27:34.768419Z"
    }
   },
   "outputs": [
    {
     "name": "stdout",
     "output_type": "stream",
     "text": [
      "{\n",
      "    \"name\": \"Luminaire.2\",\n",
      "    \"metadata\": {\n",
      "        \"UniqueId\": \"9ea97b59-3ee7-4a55-a8f6-80aafc6b424c\"\n",
      "    },\n",
      "    \"source_guid\": \"87794efd-19bf-4361-b6ce-401acfe48247\",\n",
      "    \"description\": \"\",\n",
      "    \"source\": {\n",
      "        \"name\": \"Luminaire.2\",\n",
      "        \"luminaire\": {\n",
      "            \"radiant_flux\": {\n",
      "                \"radiant_value\": 1.0\n",
      "            },\n",
      "            \"intensity_file_uri\": \"/app/assets/IES_C_DETECTOR.ies\",\n",
      "            \"spectrum_guid\": \"cf95407f-bf7d-45a4-bee4-f40b3455e4d9\",\n",
      "            \"spectrum\": {\n",
      "                \"name\": \"Luminaire.2.Spectrum\",\n",
      "                \"blackbody\": {\n",
      "                    \"temperature\": 2856.0\n",
      "                },\n",
      "                \"description\": \"\",\n",
      "                \"metadata\": {}\n",
      "            },\n",
      "            \"axis_system\": [\n",
      "                20.0,\n",
      "                50.0,\n",
      "                10.0,\n",
      "                1.0,\n",
      "                0.0,\n",
      "                0.0,\n",
      "                0.0,\n",
      "                1.0,\n",
      "                0.0,\n",
      "                0.0,\n",
      "                0.0,\n",
      "                1.0\n",
      "            ]\n",
      "        },\n",
      "        \"description\": \"\",\n",
      "        \"metadata\": {}\n",
      "    }\n",
      "}\n"
     ]
    }
   ],
   "source": [
    "intensity_file_path = str(assets_data_path / \"IES_C_DETECTOR.ies\")\n",
    "\n",
    "source2 = p.create_source(name=\"Luminaire.2\", feature_type=SourceLuminaire)\n",
    "source2.set_intensity_file_uri(uri=intensity_file_path)\n",
    "source2.set_flux_radiant()  # select flux radiant with default value\n",
    "# choose the source location [Origin, Xvector, Yvector, Zvector]\n",
    "source2.set_axis_system(axis_system=[20, 50, 10, 1, 0, 0, 0, 1, 0, 0, 0, 1])\n",
    "source2.set_spectrum().set_blackbody()  # choose blacbody with default value for the source spectrum\n",
    "source2.commit()  # Push to the server\n",
    "print(source2)"
   ]
  },
  {
   "cell_type": "markdown",
   "id": "7d28bc11",
   "metadata": {},
   "source": [
    "## Read"
   ]
  },
  {
   "cell_type": "markdown",
   "id": "56f296fb",
   "metadata": {},
   "source": [
    "### Source Instance"
   ]
  },
  {
   "cell_type": "markdown",
   "id": "e3822bc8",
   "metadata": {},
   "source": [
    "As mention \"local: \" is added if it is not yet committed to the server."
   ]
  },
  {
   "cell_type": "code",
   "execution_count": 7,
   "id": "b86e04ab",
   "metadata": {
    "execution": {
     "iopub.execute_input": "2025-03-28T09:27:34.771089Z",
     "iopub.status.busy": "2025-03-28T09:27:34.770692Z",
     "iopub.status.idle": "2025-03-28T09:27:34.778529Z",
     "shell.execute_reply": "2025-03-28T09:27:34.777877Z"
    }
   },
   "outputs": [
    {
     "name": "stdout",
     "output_type": "stream",
     "text": [
      "{\n",
      "    \"name\": \"Luminaire.1\",\n",
      "    \"metadata\": {\n",
      "        \"UniqueId\": \"f9ed5c94-6a51-4ca5-97bf-adb343dfbf45\"\n",
      "    },\n",
      "    \"source_guid\": \"c9169d01-b6ef-4fed-878e-4d402019a943\",\n",
      "    \"description\": \"\",\n",
      "    \"source\": {\n",
      "        \"name\": \"Luminaire.1\",\n",
      "        \"luminaire\": {\n",
      "            \"flux_from_intensity_file\": {},\n",
      "            \"intensity_file_uri\": \"/app/assets/IES_C_DETECTOR.ies\",\n",
      "            \"spectrum_guid\": \"3abe8a6f-5fa3-4421-86d2-bf5971f4e04b\",\n",
      "            \"spectrum\": {\n",
      "                \"name\": \"Luminaire.1.Spectrum\",\n",
      "                \"predefined\": {\n",
      "                    \"incandescent\": {}\n",
      "                },\n",
      "                \"description\": \"\",\n",
      "                \"metadata\": {}\n",
      "            },\n",
      "            \"axis_system\": [\n",
      "                0.0,\n",
      "                0.0,\n",
      "                0.0,\n",
      "                1.0,\n",
      "                0.0,\n",
      "                0.0,\n",
      "                0.0,\n",
      "                1.0,\n",
      "                0.0,\n",
      "                0.0,\n",
      "                0.0,\n",
      "                1.0\n",
      "            ]\n",
      "        },\n",
      "        \"description\": \"\",\n",
      "        \"metadata\": {}\n",
      "    }\n",
      "}\n"
     ]
    }
   ],
   "source": [
    "print(source1)"
   ]
  },
  {
   "cell_type": "markdown",
   "id": "61ab21b1",
   "metadata": {},
   "source": [
    "### Project"
   ]
  },
  {
   "cell_type": "markdown",
   "id": "3bbe2f25",
   "metadata": {},
   "source": [
    "Committed feature will appear inside the project information."
   ]
  },
  {
   "cell_type": "code",
   "execution_count": 8,
   "id": "a36a4ea9",
   "metadata": {
    "execution": {
     "iopub.execute_input": "2025-03-28T09:27:34.780716Z",
     "iopub.status.busy": "2025-03-28T09:27:34.780352Z",
     "iopub.status.idle": "2025-03-28T09:27:34.794868Z",
     "shell.execute_reply": "2025-03-28T09:27:34.794212Z"
    }
   },
   "outputs": [
    {
     "name": "stdout",
     "output_type": "stream",
     "text": [
      "{\n",
      "    \"sources\": [\n",
      "        {\n",
      "            \"name\": \"Luminaire.1\",\n",
      "            \"metadata\": {\n",
      "                \"UniqueId\": \"f9ed5c94-6a51-4ca5-97bf-adb343dfbf45\"\n",
      "            },\n",
      "            \"source_guid\": \"c9169d01-b6ef-4fed-878e-4d402019a943\",\n",
      "            \"description\": \"\",\n",
      "            \"source\": {\n",
      "                \"name\": \"Luminaire.1\",\n",
      "                \"luminaire\": {\n",
      "                    \"flux_from_intensity_file\": {},\n",
      "                    \"intensity_file_uri\": \"/app/assets/IES_C_DETECTOR.ies\",\n",
      "                    \"spectrum_guid\": \"3abe8a6f-5fa3-4421-86d2-bf5971f4e04b\",\n",
      "                    \"spectrum\": {\n",
      "                        \"name\": \"Luminaire.1.Spectrum\",\n",
      "                        \"predefined\": {\n",
      "                            \"incandescent\": {}\n",
      "                        },\n",
      "                        \"description\": \"\",\n",
      "                        \"metadata\": {}\n",
      "                    },\n",
      "                    \"axis_system\": [\n",
      "                        0.0,\n",
      "                        0.0,\n",
      "                        0.0,\n",
      "                        1.0,\n",
      "                        0.0,\n",
      "                        0.0,\n",
      "                        0.0,\n",
      "                        1.0,\n",
      "                        0.0,\n",
      "                        0.0,\n",
      "                        0.0,\n",
      "                        1.0\n",
      "                    ]\n",
      "                },\n",
      "                \"description\": \"\",\n",
      "                \"metadata\": {}\n",
      "            }\n",
      "        },\n",
      "        {\n",
      "            \"name\": \"Luminaire.2\",\n",
      "            \"metadata\": {\n",
      "                \"UniqueId\": \"9ea97b59-3ee7-4a55-a8f6-80aafc6b424c\"\n",
      "            },\n",
      "            \"source_guid\": \"87794efd-19bf-4361-b6ce-401acfe48247\",\n",
      "            \"description\": \"\",\n",
      "            \"source\": {\n",
      "                \"name\": \"Luminaire.2\",\n",
      "                \"luminaire\": {\n",
      "                    \"radiant_flux\": {\n",
      "                        \"radiant_value\": 1.0\n",
      "                    },\n",
      "                    \"intensity_file_uri\": \"/app/assets/IES_C_DETECTOR.ies\",\n",
      "                    \"spectrum_guid\": \"cf95407f-bf7d-45a4-bee4-f40b3455e4d9\",\n",
      "                    \"spectrum\": {\n",
      "                        \"name\": \"Luminaire.2.Spectrum\",\n",
      "                        \"blackbody\": {\n",
      "                            \"temperature\": 2856.0\n",
      "                        },\n",
      "                        \"description\": \"\",\n",
      "                        \"metadata\": {}\n",
      "                    },\n",
      "                    \"axis_system\": [\n",
      "                        20.0,\n",
      "                        50.0,\n",
      "                        10.0,\n",
      "                        1.0,\n",
      "                        0.0,\n",
      "                        0.0,\n",
      "                        0.0,\n",
      "                        1.0,\n",
      "                        0.0,\n",
      "                        0.0,\n",
      "                        0.0,\n",
      "                        1.0\n",
      "                    ]\n",
      "                },\n",
      "                \"description\": \"\",\n",
      "                \"metadata\": {}\n",
      "            }\n",
      "        }\n",
      "    ],\n",
      "    \"name\": \"\",\n",
      "    \"description\": \"\",\n",
      "    \"metadata\": {},\n",
      "    \"part_guid\": \"\",\n",
      "    \"sensors\": [],\n",
      "    \"simulations\": [],\n",
      "    \"materials\": [],\n",
      "    \"scenes\": []\n",
      "}\n"
     ]
    }
   ],
   "source": [
    "print(p)"
   ]
  },
  {
   "cell_type": "markdown",
   "id": "518b9acd",
   "metadata": {},
   "source": [
    "## Update"
   ]
  },
  {
   "cell_type": "markdown",
   "id": "7b48ff33",
   "metadata": {},
   "source": [
    "Tipp: if you are manipulating a source already committed, don't forget to commit your changes."
   ]
  },
  {
   "cell_type": "markdown",
   "id": "b92e9b79",
   "metadata": {},
   "source": [
    "If you don't, you will still only watch what is committed on the server."
   ]
  },
  {
   "cell_type": "code",
   "execution_count": 9,
   "id": "c7eb4db9",
   "metadata": {
    "execution": {
     "iopub.execute_input": "2025-03-28T09:27:34.796822Z",
     "iopub.status.busy": "2025-03-28T09:27:34.796609Z",
     "iopub.status.idle": "2025-03-28T09:27:34.808666Z",
     "shell.execute_reply": "2025-03-28T09:27:34.808020Z"
    }
   },
   "outputs": [
    {
     "name": "stdout",
     "output_type": "stream",
     "text": [
      "{\n",
      "    \"name\": \"Luminaire.1\",\n",
      "    \"metadata\": {\n",
      "        \"UniqueId\": \"f9ed5c94-6a51-4ca5-97bf-adb343dfbf45\"\n",
      "    },\n",
      "    \"source_guid\": \"c9169d01-b6ef-4fed-878e-4d402019a943\",\n",
      "    \"description\": \"\",\n",
      "    \"source\": {\n",
      "        \"name\": \"Luminaire.1\",\n",
      "        \"luminaire\": {\n",
      "            \"radiant_flux\": {\n",
      "                \"radiant_value\": 1.2\n",
      "            },\n",
      "            \"intensity_file_uri\": \"/app/assets/IES_C_DETECTOR.ies\",\n",
      "            \"spectrum_guid\": \"3abe8a6f-5fa3-4421-86d2-bf5971f4e04b\",\n",
      "            \"spectrum\": {\n",
      "                \"name\": \"Luminaire.1.Spectrum\",\n",
      "                \"predefined\": {\n",
      "                    \"halogen\": {}\n",
      "                },\n",
      "                \"description\": \"\",\n",
      "                \"metadata\": {}\n",
      "            },\n",
      "            \"axis_system\": [\n",
      "                17.0,\n",
      "                10.0,\n",
      "                10.0,\n",
      "                1.0,\n",
      "                0.0,\n",
      "                0.0,\n",
      "                0.0,\n",
      "                1.0,\n",
      "                0.0,\n",
      "                0.0,\n",
      "                0.0,\n",
      "                1.0\n",
      "            ]\n",
      "        },\n",
      "        \"description\": \"\",\n",
      "        \"metadata\": {}\n",
      "    }\n",
      "}\n"
     ]
    }
   ],
   "source": [
    "source1.set_flux_radiant(value=1.2)  # modify radiant flux value\n",
    "source1.set_axis_system(axis_system=[17, 10, 10, 1, 0, 0, 0, 1, 0, 0, 0, 1])  # modify axis system\n",
    "source1.set_spectrum().set_halogen()  # modify spectrum by choosing halogen\n",
    "source1.commit()  # Push changes to the server\n",
    "print(source1)"
   ]
  },
  {
   "cell_type": "markdown",
   "id": "d4e38449",
   "metadata": {},
   "source": [
    "## Reset"
   ]
  },
  {
   "cell_type": "markdown",
   "id": "68a4963a",
   "metadata": {},
   "source": [
    "Possibility to reset local values from the one available in the server."
   ]
  },
  {
   "cell_type": "code",
   "execution_count": 10,
   "id": "5a45ca4b",
   "metadata": {
    "execution": {
     "iopub.execute_input": "2025-03-28T09:27:34.810582Z",
     "iopub.status.busy": "2025-03-28T09:27:34.810392Z",
     "iopub.status.idle": "2025-03-28T09:27:34.817471Z",
     "shell.execute_reply": "2025-03-28T09:27:34.816943Z"
    }
   },
   "outputs": [
    {
     "name": "stdout",
     "output_type": "stream",
     "text": [
      "local: {\n",
      "    \"name\": \"Luminaire.1\",\n",
      "    \"description\": \"\",\n",
      "    \"metadata\": {},\n",
      "    \"source_guid\": \"\",\n",
      "    \"source\": {\n",
      "        \"name\": \"Luminaire.1\",\n",
      "        \"luminaire\": {\n",
      "            \"radiant_flux\": {\n",
      "                \"radiant_value\": 1.2\n",
      "            },\n",
      "            \"intensity_file_uri\": \"/app/assets/IES_C_DETECTOR.ies\",\n",
      "            \"spectrum_guid\": \"3abe8a6f-5fa3-4421-86d2-bf5971f4e04b\",\n",
      "            \"spectrum\": {\n",
      "                \"name\": \"Luminaire.1.Spectrum\",\n",
      "                \"predefined\": {\n",
      "                    \"halogen\": {}\n",
      "                },\n",
      "                \"description\": \"\",\n",
      "                \"metadata\": {}\n",
      "            },\n",
      "            \"axis_system\": [\n",
      "                17.0,\n",
      "                10.0,\n",
      "                10.0,\n",
      "                1.0,\n",
      "                0.0,\n",
      "                0.0,\n",
      "                0.0,\n",
      "                1.0,\n",
      "                0.0,\n",
      "                0.0,\n",
      "                0.0,\n",
      "                1.0\n",
      "            ]\n",
      "        },\n",
      "        \"description\": \"\",\n",
      "        \"metadata\": {}\n",
      "    }\n",
      "}\n"
     ]
    }
   ],
   "source": [
    "source1.set_flux_luminous()  # modify to luminous flux BUT no commit\n",
    "source1.reset()\n",
    "# reset -> this will apply the server value to the local value the local value will be back to\n",
    "# halogen\n",
    "source1.delete()  # delete (to display the local value with the below print)\n",
    "print(source1)"
   ]
  },
  {
   "cell_type": "markdown",
   "id": "b7897ef8",
   "metadata": {},
   "source": [
    "## Delete"
   ]
  },
  {
   "cell_type": "markdown",
   "id": "3416aa74",
   "metadata": {},
   "source": [
    "Once the data is deleted from the server, you can still work with local data and maybe commit\n",
    "later."
   ]
  },
  {
   "cell_type": "code",
   "execution_count": 11,
   "id": "2dbbd8b5",
   "metadata": {
    "execution": {
     "iopub.execute_input": "2025-03-28T09:27:34.819620Z",
     "iopub.status.busy": "2025-03-28T09:27:34.819183Z",
     "iopub.status.idle": "2025-03-28T09:27:34.825209Z",
     "shell.execute_reply": "2025-03-28T09:27:34.824675Z"
    }
   },
   "outputs": [
    {
     "name": "stdout",
     "output_type": "stream",
     "text": [
      "local: {\n",
      "    \"name\": \"Luminaire.2\",\n",
      "    \"description\": \"\",\n",
      "    \"metadata\": {},\n",
      "    \"source_guid\": \"\",\n",
      "    \"source\": {\n",
      "        \"name\": \"Luminaire.2\",\n",
      "        \"luminaire\": {\n",
      "            \"radiant_flux\": {\n",
      "                \"radiant_value\": 1.0\n",
      "            },\n",
      "            \"intensity_file_uri\": \"/app/assets/IES_C_DETECTOR.ies\",\n",
      "            \"spectrum_guid\": \"cf95407f-bf7d-45a4-bee4-f40b3455e4d9\",\n",
      "            \"spectrum\": {\n",
      "                \"name\": \"Luminaire.2.Spectrum\",\n",
      "                \"blackbody\": {\n",
      "                    \"temperature\": 2856.0\n",
      "                },\n",
      "                \"description\": \"\",\n",
      "                \"metadata\": {}\n",
      "            },\n",
      "            \"axis_system\": [\n",
      "                20.0,\n",
      "                50.0,\n",
      "                10.0,\n",
      "                1.0,\n",
      "                0.0,\n",
      "                0.0,\n",
      "                0.0,\n",
      "                1.0,\n",
      "                0.0,\n",
      "                0.0,\n",
      "                0.0,\n",
      "                1.0\n",
      "            ]\n",
      "        },\n",
      "        \"description\": \"\",\n",
      "        \"metadata\": {}\n",
      "    }\n",
      "}\n"
     ]
    }
   ],
   "source": [
    "source2.delete()\n",
    "print(source2)"
   ]
  },
  {
   "cell_type": "code",
   "execution_count": 12,
   "id": "3a63290b",
   "metadata": {
    "execution": {
     "iopub.execute_input": "2025-03-28T09:27:34.827054Z",
     "iopub.status.busy": "2025-03-28T09:27:34.826860Z",
     "iopub.status.idle": "2025-03-28T09:27:34.833400Z",
     "shell.execute_reply": "2025-03-28T09:27:34.832865Z"
    }
   },
   "outputs": [
    {
     "data": {
      "text/plain": [
       "<ansys.speos.core.source.SourceLuminaire at 0x7f4e9dd5f6a0>"
      ]
     },
     "execution_count": 12,
     "metadata": {},
     "output_type": "execute_result"
    }
   ],
   "source": [
    "source1.delete()"
   ]
  },
  {
   "cell_type": "markdown",
   "id": "cd194250",
   "metadata": {},
   "source": [
    "## Other Sources Examples"
   ]
  },
  {
   "cell_type": "markdown",
   "id": "29795287",
   "metadata": {},
   "source": [
    "### ray-file source"
   ]
  },
  {
   "cell_type": "code",
   "execution_count": 13,
   "id": "1236ae79",
   "metadata": {
    "execution": {
     "iopub.execute_input": "2025-03-28T09:27:34.835219Z",
     "iopub.status.busy": "2025-03-28T09:27:34.835029Z",
     "iopub.status.idle": "2025-03-28T09:27:34.843146Z",
     "shell.execute_reply": "2025-03-28T09:27:34.842599Z"
    }
   },
   "outputs": [
    {
     "name": "stdout",
     "output_type": "stream",
     "text": [
      "{\n",
      "    \"name\": \"Ray-file.1\",\n",
      "    \"metadata\": {\n",
      "        \"UniqueId\": \"6b24dac9-5b08-45de-81f4-bcca73d2359a\"\n",
      "    },\n",
      "    \"source_guid\": \"80b3fd78-0227-4ad0-a581-0531ef633498\",\n",
      "    \"description\": \"\",\n",
      "    \"source\": {\n",
      "        \"name\": \"Ray-file.1\",\n",
      "        \"rayfile\": {\n",
      "            \"ray_file_uri\": \"/app/assets/Rays.ray\",\n",
      "            \"flux_from_ray_file\": {},\n",
      "            \"spectrum_from_ray_file\": {},\n",
      "            \"axis_system\": [\n",
      "                0.0,\n",
      "                0.0,\n",
      "                0.0,\n",
      "                1.0,\n",
      "                0.0,\n",
      "                0.0,\n",
      "                0.0,\n",
      "                1.0,\n",
      "                0.0,\n",
      "                0.0,\n",
      "                0.0,\n",
      "                1.0\n",
      "            ]\n",
      "        },\n",
      "        \"description\": \"\",\n",
      "        \"metadata\": {}\n",
      "    }\n",
      "}\n"
     ]
    }
   ],
   "source": [
    "ray_file_path = str(assets_data_path / \"Rays.ray\")\n",
    "\n",
    "source3 = p.create_source(name=\"Ray-file.1\", feature_type=SourceRayFile)  # type ray file\n",
    "source3.set_ray_file_uri(uri=ray_file_path)\n",
    "source3.commit()\n",
    "print(source3)"
   ]
  },
  {
   "cell_type": "code",
   "execution_count": 14,
   "id": "b5927306",
   "metadata": {
    "execution": {
     "iopub.execute_input": "2025-03-28T09:27:34.844934Z",
     "iopub.status.busy": "2025-03-28T09:27:34.844719Z",
     "iopub.status.idle": "2025-03-28T09:27:34.852261Z",
     "shell.execute_reply": "2025-03-28T09:27:34.851691Z"
    }
   },
   "outputs": [
    {
     "name": "stdout",
     "output_type": "stream",
     "text": [
      "{\n",
      "    \"name\": \"Ray-file.1\",\n",
      "    \"metadata\": {\n",
      "        \"UniqueId\": \"6b24dac9-5b08-45de-81f4-bcca73d2359a\"\n",
      "    },\n",
      "    \"source_guid\": \"80b3fd78-0227-4ad0-a581-0531ef633498\",\n",
      "    \"description\": \"\",\n",
      "    \"source\": {\n",
      "        \"name\": \"Ray-file.1\",\n",
      "        \"rayfile\": {\n",
      "            \"ray_file_uri\": \"/app/assets/Rays.ray\",\n",
      "            \"luminous_flux\": {\n",
      "                \"luminous_value\": 683.0\n",
      "            },\n",
      "            \"spectrum_from_ray_file\": {},\n",
      "            \"axis_system\": [\n",
      "                0.0,\n",
      "                0.0,\n",
      "                0.0,\n",
      "                1.0,\n",
      "                0.0,\n",
      "                0.0,\n",
      "                0.0,\n",
      "                1.0,\n",
      "                0.0,\n",
      "                0.0,\n",
      "                0.0,\n",
      "                1.0\n",
      "            ]\n",
      "        },\n",
      "        \"description\": \"\",\n",
      "        \"metadata\": {}\n",
      "    }\n",
      "}\n"
     ]
    }
   ],
   "source": [
    "source3.set_flux_luminous()\n",
    "source3.commit()\n",
    "print(source3)"
   ]
  },
  {
   "cell_type": "code",
   "execution_count": 15,
   "id": "a736dd58",
   "metadata": {
    "execution": {
     "iopub.execute_input": "2025-03-28T09:27:34.854100Z",
     "iopub.status.busy": "2025-03-28T09:27:34.853910Z",
     "iopub.status.idle": "2025-03-28T09:27:34.858701Z",
     "shell.execute_reply": "2025-03-28T09:27:34.858070Z"
    }
   },
   "outputs": [
    {
     "data": {
      "text/plain": [
       "<ansys.speos.core.source.SourceRayFile at 0x7f4e9dd9db70>"
      ]
     },
     "execution_count": 15,
     "metadata": {},
     "output_type": "execute_result"
    }
   ],
   "source": [
    "source3.delete()"
   ]
  },
  {
   "cell_type": "markdown",
   "id": "9c99aace",
   "metadata": {},
   "source": [
    "### surface source"
   ]
  },
  {
   "cell_type": "code",
   "execution_count": 16,
   "id": "4fefa2d1",
   "metadata": {
    "execution": {
     "iopub.execute_input": "2025-03-28T09:27:34.860733Z",
     "iopub.status.busy": "2025-03-28T09:27:34.860384Z",
     "iopub.status.idle": "2025-03-28T09:27:34.872847Z",
     "shell.execute_reply": "2025-03-28T09:27:34.872266Z"
    }
   },
   "outputs": [
    {
     "name": "stdout",
     "output_type": "stream",
     "text": [
      "{\n",
      "    \"name\": \"Surface.1\",\n",
      "    \"metadata\": {\n",
      "        \"UniqueId\": \"db8526b8-fbde-41ff-a1c7-61735a3e297d\"\n",
      "    },\n",
      "    \"source_guid\": \"3c7a9e2f-07be-45a1-a593-9fcbc5801da4\",\n",
      "    \"description\": \"\",\n",
      "    \"source\": {\n",
      "        \"name\": \"Surface.1\",\n",
      "        \"surface\": {\n",
      "            \"luminous_flux\": {\n",
      "                \"luminous_value\": 683.0\n",
      "            },\n",
      "            \"intensity_guid\": \"b43ad23f-d4f7-40b3-a785-bd4e8deb6852\",\n",
      "            \"exitance_constant\": {\n",
      "                \"geo_paths\": [\n",
      "                    {\n",
      "                        \"geo_path\": \"TheBodyB/TheFaceF\",\n",
      "                        \"reverse_normal\": false\n",
      "                    },\n",
      "                    {\n",
      "                        \"geo_path\": \"TheBodyB/TheFaceG\",\n",
      "                        \"reverse_normal\": true\n",
      "                    }\n",
      "                ]\n",
      "            },\n",
      "            \"spectrum_guid\": \"d81d75e1-d633-4de7-812b-87123e3ac7f8\",\n",
      "            \"intensity\": {\n",
      "                \"name\": \"Surface.1.Intensity\",\n",
      "                \"cos\": {\n",
      "                    \"N\": 1.0,\n",
      "                    \"total_angle\": 180.0\n",
      "                },\n",
      "                \"description\": \"\",\n",
      "                \"metadata\": {}\n",
      "            },\n",
      "            \"spectrum\": {\n",
      "                \"name\": \"Surface.1.Spectrum\",\n",
      "                \"monochromatic\": {\n",
      "                    \"wavelength\": 555.0\n",
      "                },\n",
      "                \"description\": \"\",\n",
      "                \"metadata\": {}\n",
      "            }\n",
      "        },\n",
      "        \"description\": \"\",\n",
      "        \"metadata\": {}\n",
      "    }\n",
      "}\n"
     ]
    }
   ],
   "source": [
    "source4 = p.create_source(name=\"Surface.1\", feature_type=SourceSurface)\n",
    "source4.set_exitance_constant(\n",
    "    geometries=[\n",
    "        (GeoRef.from_native_link(\"TheBodyB/TheFaceF\"), False),\n",
    "        (GeoRef.from_native_link(\"TheBodyB/TheFaceG\"), True),\n",
    "    ]\n",
    ")\n",
    "source4.commit()\n",
    "print(source4)"
   ]
  },
  {
   "cell_type": "code",
   "execution_count": 17,
   "id": "d08d5d93",
   "metadata": {
    "execution": {
     "iopub.execute_input": "2025-03-28T09:27:34.874584Z",
     "iopub.status.busy": "2025-03-28T09:27:34.874392Z",
     "iopub.status.idle": "2025-03-28T09:27:34.898100Z",
     "shell.execute_reply": "2025-03-28T09:27:34.897427Z"
    }
   },
   "outputs": [
    {
     "name": "stdout",
     "output_type": "stream",
     "text": [
      "{\n",
      "    \"name\": \"Surface.1\",\n",
      "    \"metadata\": {\n",
      "        \"UniqueId\": \"db8526b8-fbde-41ff-a1c7-61735a3e297d\"\n",
      "    },\n",
      "    \"source_guid\": \"3c7a9e2f-07be-45a1-a593-9fcbc5801da4\",\n",
      "    \"description\": \"\",\n",
      "    \"source\": {\n",
      "        \"name\": \"Surface.1\",\n",
      "        \"surface\": {\n",
      "            \"luminous_intensity_flux\": {\n",
      "                \"luminous_intensity_value\": 5.0\n",
      "            },\n",
      "            \"intensity_guid\": \"b43ad23f-d4f7-40b3-a785-bd4e8deb6852\",\n",
      "            \"exitance_constant\": {\n",
      "                \"geo_paths\": [\n",
      "                    {\n",
      "                        \"geo_path\": \"TheBodyB/TheFaceF\",\n",
      "                        \"reverse_normal\": false\n",
      "                    },\n",
      "                    {\n",
      "                        \"geo_path\": \"TheBodyB/TheFaceG\",\n",
      "                        \"reverse_normal\": true\n",
      "                    }\n",
      "                ]\n",
      "            },\n",
      "            \"spectrum_guid\": \"d81d75e1-d633-4de7-812b-87123e3ac7f8\",\n",
      "            \"intensity\": {\n",
      "                \"name\": \"Surface.1.Intensity\",\n",
      "                \"gaussian\": {\n",
      "                    \"FWHM_angle_x\": 30.0,\n",
      "                    \"FWHM_angle_y\": 30.0,\n",
      "                    \"total_angle\": 180.0,\n",
      "                    \"axis_system\": [\n",
      "                        10.0,\n",
      "                        50.0,\n",
      "                        20.0,\n",
      "                        1.0,\n",
      "                        0.0,\n",
      "                        0.0,\n",
      "                        0.0,\n",
      "                        1.0,\n",
      "                        0.0,\n",
      "                        0.0,\n",
      "                        0.0,\n",
      "                        1.0\n",
      "                    ]\n",
      "                },\n",
      "                \"description\": \"\",\n",
      "                \"metadata\": {}\n",
      "            },\n",
      "            \"spectrum\": {\n",
      "                \"name\": \"Surface.1.Spectrum\",\n",
      "                \"monochromatic\": {\n",
      "                    \"wavelength\": 555.0\n",
      "                },\n",
      "                \"description\": \"\",\n",
      "                \"metadata\": {}\n",
      "            }\n",
      "        },\n",
      "        \"description\": \"\",\n",
      "        \"metadata\": {}\n",
      "    }\n",
      "}\n"
     ]
    }
   ],
   "source": [
    "source4.set_flux_luminous_intensity()\n",
    "source4.set_intensity().set_gaussian().set_axis_system(\n",
    "    axis_system=[10, 50, 20, 1, 0, 0, 0, 1, 0, 0, 0, 1]\n",
    ")\n",
    "source4.commit()\n",
    "print(source4)"
   ]
  },
  {
   "cell_type": "code",
   "execution_count": 18,
   "id": "eed8d34e",
   "metadata": {
    "execution": {
     "iopub.execute_input": "2025-03-28T09:27:34.900040Z",
     "iopub.status.busy": "2025-03-28T09:27:34.899628Z",
     "iopub.status.idle": "2025-03-28T09:27:34.907685Z",
     "shell.execute_reply": "2025-03-28T09:27:34.907129Z"
    }
   },
   "outputs": [
    {
     "name": "stdout",
     "output_type": "stream",
     "text": [
      "local: {\n",
      "    \"name\": \"Surface.1\",\n",
      "    \"description\": \"\",\n",
      "    \"metadata\": {},\n",
      "    \"source_guid\": \"\",\n",
      "    \"source\": {\n",
      "        \"name\": \"Surface.1\",\n",
      "        \"surface\": {\n",
      "            \"luminous_intensity_flux\": {\n",
      "                \"luminous_intensity_value\": 5.0\n",
      "            },\n",
      "            \"intensity_guid\": \"b43ad23f-d4f7-40b3-a785-bd4e8deb6852\",\n",
      "            \"exitance_constant\": {\n",
      "                \"geo_paths\": [\n",
      "                    {\n",
      "                        \"geo_path\": \"TheBodyB/TheFaceF\",\n",
      "                        \"reverse_normal\": false\n",
      "                    },\n",
      "                    {\n",
      "                        \"geo_path\": \"TheBodyB/TheFaceG\",\n",
      "                        \"reverse_normal\": true\n",
      "                    }\n",
      "                ]\n",
      "            },\n",
      "            \"spectrum_guid\": \"d81d75e1-d633-4de7-812b-87123e3ac7f8\",\n",
      "            \"intensity\": {\n",
      "                \"name\": \"Surface.1.Intensity\",\n",
      "                \"gaussian\": {\n",
      "                    \"FWHM_angle_x\": 30.0,\n",
      "                    \"FWHM_angle_y\": 30.0,\n",
      "                    \"total_angle\": 180.0,\n",
      "                    \"axis_system\": [\n",
      "                        10.0,\n",
      "                        50.0,\n",
      "                        20.0,\n",
      "                        1.0,\n",
      "                        0.0,\n",
      "                        0.0,\n",
      "                        0.0,\n",
      "                        1.0,\n",
      "                        0.0,\n",
      "                        0.0,\n",
      "                        0.0,\n",
      "                        1.0\n",
      "                    ]\n",
      "                },\n",
      "                \"description\": \"\",\n",
      "                \"metadata\": {}\n",
      "            },\n",
      "            \"spectrum\": {\n",
      "                \"name\": \"Surface.1.Spectrum\",\n",
      "                \"monochromatic\": {\n",
      "                    \"wavelength\": 555.0\n",
      "                },\n",
      "                \"description\": \"\",\n",
      "                \"metadata\": {}\n",
      "            }\n",
      "        },\n",
      "        \"description\": \"\",\n",
      "        \"metadata\": {}\n",
      "    }\n",
      "}\n"
     ]
    }
   ],
   "source": [
    "source4.delete()\n",
    "print(source4)"
   ]
  },
  {
   "cell_type": "markdown",
   "id": "e59906f7",
   "metadata": {},
   "source": [
    "When creating sources, this creates some intermediate objects (spectrums, intensity templates)."
   ]
  },
  {
   "cell_type": "markdown",
   "id": "32bb1030",
   "metadata": {},
   "source": [
    "Deleting a source does not delete in cascade those objects\n",
    "because they could be used by some other entities from core layer."
   ]
  },
  {
   "cell_type": "markdown",
   "id": "c88a93c8",
   "metadata": {},
   "source": [
    "Then at the end of the example, we just clean all databases"
   ]
  },
  {
   "cell_type": "code",
   "execution_count": 19,
   "id": "19a5dacf",
   "metadata": {
    "execution": {
     "iopub.execute_input": "2025-03-28T09:27:34.909790Z",
     "iopub.status.busy": "2025-03-28T09:27:34.909443Z",
     "iopub.status.idle": "2025-03-28T09:27:34.918281Z",
     "shell.execute_reply": "2025-03-28T09:27:34.917743Z"
    }
   },
   "outputs": [],
   "source": [
    "for item in speos.client.intensity_templates().list() + speos.client.spectrums().list():\n",
    "    item.delete()"
   ]
  }
 ],
 "metadata": {
  "jupytext": {
   "cell_metadata_filter": "-all",
   "main_language": "python",
   "notebook_metadata_filter": "-all",
   "text_representation": {
    "extension": ".py",
    "format_name": "light"
   }
  },
  "language_info": {
   "codemirror_mode": {
    "name": "ipython",
    "version": 3
   },
   "file_extension": ".py",
   "mimetype": "text/x-python",
   "name": "python",
   "nbconvert_exporter": "python",
   "pygments_lexer": "ipython3",
   "version": "3.10.16"
  }
 },
 "nbformat": 4,
 "nbformat_minor": 5
}
