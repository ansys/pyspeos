{
 "cells": [
  {
   "cell_type": "markdown",
   "id": "d8f5ad6e",
   "metadata": {},
   "source": [
    "# How to create a simulation"
   ]
  },
  {
   "cell_type": "markdown",
   "id": "82d06420",
   "metadata": {},
   "source": [
    "This tutorial demonstrates how to create a simulation."
   ]
  },
  {
   "cell_type": "markdown",
   "id": "a1927077",
   "metadata": {},
   "source": [
    "## What is a simulation?"
   ]
  },
  {
   "cell_type": "markdown",
   "id": "fe5f8c5a",
   "metadata": {},
   "source": [
    "A simulation contains selected sensors, sources to model ray-trace in space."
   ]
  },
  {
   "cell_type": "code",
   "execution_count": 1,
   "id": "3c87d821",
   "metadata": {
    "execution": {
     "iopub.execute_input": "2025-03-28T09:27:30.955913Z",
     "iopub.status.busy": "2025-03-28T09:27:30.955698Z",
     "iopub.status.idle": "2025-03-28T09:27:31.530632Z",
     "shell.execute_reply": "2025-03-28T09:27:31.529921Z"
    }
   },
   "outputs": [],
   "source": [
    "from pathlib import Path\n",
    "\n",
    "from ansys.speos.core import GeoRef, Project, Speos\n",
    "from ansys.speos.core.simulation import SimulationInteractive, SimulationInverse\n",
    "\n",
    "# If using docker container\n",
    "assets_data_path = Path(\"/app\") / \"assets\"\n",
    "# If using local server\n",
    "# assets_data_path = Path().resolve().parent.parent / \"tests\" / \"assets\"\n",
    "# If using a different path\n",
    "# assets_data_path = Path(\"path/to/downloaded/example/assets\")"
   ]
  },
  {
   "cell_type": "markdown",
   "id": "811a7dee",
   "metadata": {},
   "source": [
    "## Create connection with speos rpc server"
   ]
  },
  {
   "cell_type": "code",
   "execution_count": 2,
   "id": "e23b04fe",
   "metadata": {
    "execution": {
     "iopub.execute_input": "2025-03-28T09:27:31.533267Z",
     "iopub.status.busy": "2025-03-28T09:27:31.532641Z",
     "iopub.status.idle": "2025-03-28T09:27:31.539119Z",
     "shell.execute_reply": "2025-03-28T09:27:31.538467Z"
    }
   },
   "outputs": [],
   "source": [
    "speos = Speos(host=\"localhost\", port=50098)"
   ]
  },
  {
   "cell_type": "markdown",
   "id": "db4a6a12",
   "metadata": {},
   "source": [
    "## Create Project"
   ]
  },
  {
   "cell_type": "markdown",
   "id": "92c723d9",
   "metadata": {},
   "source": [
    "Create a new project first."
   ]
  },
  {
   "cell_type": "markdown",
   "id": "9aedfa0d",
   "metadata": {},
   "source": [
    "The only way to create a simulation is to create it from a project."
   ]
  },
  {
   "cell_type": "code",
   "execution_count": 3,
   "id": "d1f16189",
   "metadata": {
    "execution": {
     "iopub.execute_input": "2025-03-28T09:27:31.541183Z",
     "iopub.status.busy": "2025-03-28T09:27:31.540797Z",
     "iopub.status.idle": "2025-03-28T09:27:31.546861Z",
     "shell.execute_reply": "2025-03-28T09:27:31.546200Z"
    }
   },
   "outputs": [
    {
     "name": "stdout",
     "output_type": "stream",
     "text": [
      "{\n",
      "    \"name\": \"\",\n",
      "    \"description\": \"\",\n",
      "    \"metadata\": {},\n",
      "    \"part_guid\": \"\",\n",
      "    \"sources\": [],\n",
      "    \"sensors\": [],\n",
      "    \"simulations\": [],\n",
      "    \"materials\": [],\n",
      "    \"scenes\": []\n",
      "}\n"
     ]
    }
   ],
   "source": [
    "p = Project(speos=speos)\n",
    "print(p)"
   ]
  },
  {
   "cell_type": "markdown",
   "id": "49e8f080",
   "metadata": {},
   "source": [
    "## Prepare prerequisites"
   ]
  },
  {
   "cell_type": "markdown",
   "id": "0aab0914",
   "metadata": {},
   "source": [
    "Create the necessary elements for a simulation: Sensor, source, root part, optical property are\n",
    "prerequisites."
   ]
  },
  {
   "cell_type": "markdown",
   "id": "7560a858",
   "metadata": {},
   "source": [
    "### Prepare the root part"
   ]
  },
  {
   "cell_type": "code",
   "execution_count": 4,
   "id": "2715e235",
   "metadata": {
    "execution": {
     "iopub.execute_input": "2025-03-28T09:27:31.549198Z",
     "iopub.status.busy": "2025-03-28T09:27:31.548669Z",
     "iopub.status.idle": "2025-03-28T09:27:31.559527Z",
     "shell.execute_reply": "2025-03-28T09:27:31.558969Z"
    }
   },
   "outputs": [
    {
     "data": {
      "text/plain": [
       "<ansys.speos.core.part.Part at 0x7f9eb2d5f460>"
      ]
     },
     "execution_count": 4,
     "metadata": {},
     "output_type": "execute_result"
    }
   ],
   "source": [
    "root_part = p.create_root_part()\n",
    "root_part.create_body(name=\"Body.1\").create_face(name=\"Face.1\").set_vertices(\n",
    "    [0, 1, 2, 0, 2, 2, 1, 2, 2]\n",
    ").set_facets([0, 1, 2]).set_normals([0, 0, 1, 0, 0, 1, 0, 0, 1])\n",
    "root_part.commit()"
   ]
  },
  {
   "cell_type": "markdown",
   "id": "d602720f",
   "metadata": {},
   "source": [
    "### Prepare an optical property"
   ]
  },
  {
   "cell_type": "code",
   "execution_count": 5,
   "id": "6c1eff92",
   "metadata": {
    "execution": {
     "iopub.execute_input": "2025-03-28T09:27:31.561533Z",
     "iopub.status.busy": "2025-03-28T09:27:31.561145Z",
     "iopub.status.idle": "2025-03-28T09:27:31.567326Z",
     "shell.execute_reply": "2025-03-28T09:27:31.566768Z"
    }
   },
   "outputs": [
    {
     "data": {
      "text/plain": [
       "<ansys.speos.core.opt_prop.OptProp at 0x7f9eb2d5feb0>"
      ]
     },
     "execution_count": 5,
     "metadata": {},
     "output_type": "execute_result"
    }
   ],
   "source": [
    "opt_prop = p.create_optical_property(\"Material.1\")\n",
    "opt_prop.set_volume_opaque().set_surface_mirror()  # vop as opaque and sop as mirror\n",
    "# Choose the geometry for this optical property : Body.1\n",
    "opt_prop.set_geometries(geometries=[GeoRef.from_native_link(geopath=\"Body.1\")])\n",
    "opt_prop.commit()"
   ]
  },
  {
   "cell_type": "markdown",
   "id": "d8b70c55",
   "metadata": {},
   "source": [
    "### Prepare an irradiance sensor"
   ]
  },
  {
   "cell_type": "code",
   "execution_count": 6,
   "id": "d82a5522",
   "metadata": {
    "execution": {
     "iopub.execute_input": "2025-03-28T09:27:31.569325Z",
     "iopub.status.busy": "2025-03-28T09:27:31.568948Z",
     "iopub.status.idle": "2025-03-28T09:27:31.574858Z",
     "shell.execute_reply": "2025-03-28T09:27:31.574202Z"
    }
   },
   "outputs": [
    {
     "data": {
      "text/plain": [
       "<ansys.speos.core.sensor.SensorIrradiance at 0x7f9eb2d5e080>"
      ]
     },
     "execution_count": 6,
     "metadata": {},
     "output_type": "execute_result"
    }
   ],
   "source": [
    "sensor1 = p.create_sensor(name=\"Irradiance.1\")\n",
    "# colorimetric or spectral so that the sensor can be used both in direct and inverse simulation\n",
    "sensor1.set_type_colorimetric()\n",
    "sensor1.commit()"
   ]
  },
  {
   "cell_type": "markdown",
   "id": "b3500389",
   "metadata": {},
   "source": [
    "### Prepare a surface source"
   ]
  },
  {
   "cell_type": "code",
   "execution_count": 7,
   "id": "31fce64f",
   "metadata": {
    "execution": {
     "iopub.execute_input": "2025-03-28T09:27:31.577038Z",
     "iopub.status.busy": "2025-03-28T09:27:31.576648Z",
     "iopub.status.idle": "2025-03-28T09:27:31.589833Z",
     "shell.execute_reply": "2025-03-28T09:27:31.589297Z"
    }
   },
   "outputs": [
    {
     "data": {
      "text/plain": [
       "<ansys.speos.core.source.SourceSurface at 0x7f9eb2da4af0>"
      ]
     },
     "execution_count": 7,
     "metadata": {},
     "output_type": "execute_result"
    }
   ],
   "source": [
    "source1 = p.create_source(name=\"Surface.1\")\n",
    "source1.set_exitance_constant(geometries=[(GeoRef.from_native_link(geopath=\"Body.1/Face.1\"), True)])\n",
    "# blackbody so that the source can be used both in direct and inverse simulation\n",
    "source1.set_spectrum().set_blackbody()\n",
    "source1.commit()"
   ]
  },
  {
   "cell_type": "markdown",
   "id": "07d945f0",
   "metadata": {},
   "source": [
    "## Create a simulation"
   ]
  },
  {
   "cell_type": "code",
   "execution_count": 8,
   "id": "aebffeb4",
   "metadata": {
    "execution": {
     "iopub.execute_input": "2025-03-28T09:27:31.591615Z",
     "iopub.status.busy": "2025-03-28T09:27:31.591423Z",
     "iopub.status.idle": "2025-03-28T09:27:31.613231Z",
     "shell.execute_reply": "2025-03-28T09:27:31.612702Z"
    }
   },
   "outputs": [
    {
     "name": "stdout",
     "output_type": "stream",
     "text": [
      "local: {\n",
      "    \"name\": \"Simulation.1\",\n",
      "    \"sensor_paths\": [\n",
      "        \"Irradiance.1\"\n",
      "    ],\n",
      "    \"source_paths\": [\n",
      "        \"Surface.1\"\n",
      "    ],\n",
      "    \"description\": \"\",\n",
      "    \"metadata\": {},\n",
      "    \"simulation_guid\": \"\",\n",
      "    \"simulation\": {\n",
      "        \"direct_mc_simulation_template\": {\n",
      "            \"geom_distance_tolerance\": 0.01,\n",
      "            \"max_impact\": 100,\n",
      "            \"weight\": {\n",
      "                \"minimum_energy_percentage\": 0.005\n",
      "            },\n",
      "            \"dispersion\": true,\n",
      "            \"colorimetric_standard\": \"CIE_1931\",\n",
      "            \"fast_transmission_gathering\": false,\n",
      "            \"ambient_material_uri\": \"\",\n",
      "            \"stop_condition_rays_number\": \"200000\",\n",
      "            \"automatic_save_frequency\": 1800\n",
      "        },\n",
      "        \"name\": \"Simulation.1\",\n",
      "        \"description\": \"\",\n",
      "        \"metadata\": {},\n",
      "        \"scene_guid\": \"d1d733f2-9420-42f9-8b64-f607fda19cec\",\n",
      "        \"simulation_path\": \"Simulation.1\",\n",
      "        \"job_type\": \"CPU\"\n",
      "    }\n",
      "}\n",
      "{\n",
      "    \"name\": \"Simulation.1\",\n",
      "    \"metadata\": {\n",
      "        \"UniqueId\": \"e7b9cb87-125b-44d6-bc81-ad3426a05b5a\"\n",
      "    },\n",
      "    \"simulation_guid\": \"3a0d6d50-fac6-4df9-9d26-5c668e97416d\",\n",
      "    \"sensor_paths\": [\n",
      "        \"Irradiance.1\"\n",
      "    ],\n",
      "    \"source_paths\": [\n",
      "        \"Surface.1\"\n",
      "    ],\n",
      "    \"description\": \"\",\n",
      "    \"simulation\": {\n",
      "        \"direct_mc_simulation_template\": {\n",
      "            \"geom_distance_tolerance\": 0.01,\n",
      "            \"max_impact\": 100,\n",
      "            \"weight\": {\n",
      "                \"minimum_energy_percentage\": 0.005\n",
      "            },\n",
      "            \"dispersion\": true,\n",
      "            \"colorimetric_standard\": \"CIE_1931\",\n",
      "            \"fast_transmission_gathering\": false,\n",
      "            \"ambient_material_uri\": \"\",\n",
      "            \"stop_condition_rays_number\": \"200000\",\n",
      "            \"automatic_save_frequency\": 1800\n",
      "        },\n",
      "        \"name\": \"Simulation.1\",\n",
      "        \"description\": \"\",\n",
      "        \"metadata\": {},\n",
      "        \"scene_guid\": \"d1d733f2-9420-42f9-8b64-f607fda19cec\",\n",
      "        \"simulation_path\": \"Simulation.1\",\n",
      "        \"job_type\": \"CPU\"\n",
      "    }\n",
      "}\n"
     ]
    }
   ],
   "source": [
    "simulation1 = p.create_simulation(name=\"Simulation.1\")\n",
    "simulation1.set_sensor_paths([\"Irradiance.1\"]).set_source_paths([\"Surface.1\"])\n",
    "print(simulation1)\n",
    "\n",
    "simulation1.commit()\n",
    "print(simulation1)"
   ]
  },
  {
   "cell_type": "markdown",
   "id": "869a642d",
   "metadata": {},
   "source": [
    "## Set simulation characteristics"
   ]
  },
  {
   "cell_type": "markdown",
   "id": "3e8dc927",
   "metadata": {},
   "source": [
    "Simulation is defined with the same default values as the GUI speos."
   ]
  },
  {
   "cell_type": "markdown",
   "id": "aea1dc54",
   "metadata": {},
   "source": [
    "If the user would like to modify the simulation characteristics,\n",
    "it is possible to do so by setting the simulation characteristics as below."
   ]
  },
  {
   "cell_type": "code",
   "execution_count": 9,
   "id": "c9f61dd0",
   "metadata": {
    "execution": {
     "iopub.execute_input": "2025-03-28T09:27:31.615231Z",
     "iopub.status.busy": "2025-03-28T09:27:31.615040Z",
     "iopub.status.idle": "2025-03-28T09:27:31.648999Z",
     "shell.execute_reply": "2025-03-28T09:27:31.648417Z"
    }
   },
   "outputs": [
    {
     "name": "stdout",
     "output_type": "stream",
     "text": [
      "{\n",
      "    \"name\": \"Simulation.2\",\n",
      "    \"metadata\": {\n",
      "        \"UniqueId\": \"0b3dca06-11f3-4501-8137-a9faf134b257\"\n",
      "    },\n",
      "    \"simulation_guid\": \"89e48372-4732-4d92-b797-cbaf7f8e2f36\",\n",
      "    \"sensor_paths\": [\n",
      "        \"Irradiance.1\"\n",
      "    ],\n",
      "    \"source_paths\": [\n",
      "        \"Surface.1\"\n",
      "    ],\n",
      "    \"description\": \"\",\n",
      "    \"simulation\": {\n",
      "        \"direct_mc_simulation_template\": {\n",
      "            \"geom_distance_tolerance\": 0.01,\n",
      "            \"max_impact\": 200,\n",
      "            \"colorimetric_standard\": \"CIE_1964\",\n",
      "            \"ambient_material_uri\": \"/app/assets/AIR.material\",\n",
      "            \"dispersion\": false,\n",
      "            \"fast_transmission_gathering\": false,\n",
      "            \"stop_condition_rays_number\": \"200000\",\n",
      "            \"automatic_save_frequency\": 1800\n",
      "        },\n",
      "        \"name\": \"Simulation.2\",\n",
      "        \"description\": \"\",\n",
      "        \"metadata\": {},\n",
      "        \"scene_guid\": \"d1d733f2-9420-42f9-8b64-f607fda19cec\",\n",
      "        \"simulation_path\": \"Simulation.2\",\n",
      "        \"job_type\": \"CPU\"\n",
      "    }\n",
      "}\n"
     ]
    }
   ],
   "source": [
    "simulation2_direct = p.create_simulation(name=\"Simulation.2\")\n",
    "\n",
    "simulation2_direct.set_ambient_material_file_uri(\n",
    "    uri=str(assets_data_path / \"AIR.material\")\n",
    ").set_colorimetric_standard_CIE_1964().set_weight_none().set_geom_distance_tolerance(\n",
    "    0.01\n",
    ").set_max_impact(200).set_dispersion(False)\n",
    "simulation2_direct.set_sensor_paths([\"Irradiance.1\"]).set_source_paths([\"Surface.1\"]).commit()\n",
    "print(simulation2_direct)"
   ]
  },
  {
   "cell_type": "markdown",
   "id": "b8354b0e",
   "metadata": {},
   "source": [
    "## Read information"
   ]
  },
  {
   "cell_type": "markdown",
   "id": "3a073b0d",
   "metadata": {},
   "source": [
    "Read simulation information"
   ]
  },
  {
   "cell_type": "code",
   "execution_count": 10,
   "id": "4bcdeca7",
   "metadata": {
    "execution": {
     "iopub.execute_input": "2025-03-28T09:27:31.650830Z",
     "iopub.status.busy": "2025-03-28T09:27:31.650624Z",
     "iopub.status.idle": "2025-03-28T09:27:31.657386Z",
     "shell.execute_reply": "2025-03-28T09:27:31.656877Z"
    }
   },
   "outputs": [
    {
     "name": "stdout",
     "output_type": "stream",
     "text": [
      "{\n",
      "    \"name\": \"Simulation.1\",\n",
      "    \"metadata\": {\n",
      "        \"UniqueId\": \"e7b9cb87-125b-44d6-bc81-ad3426a05b5a\"\n",
      "    },\n",
      "    \"simulation_guid\": \"3a0d6d50-fac6-4df9-9d26-5c668e97416d\",\n",
      "    \"sensor_paths\": [\n",
      "        \"Irradiance.1\"\n",
      "    ],\n",
      "    \"source_paths\": [\n",
      "        \"Surface.1\"\n",
      "    ],\n",
      "    \"description\": \"\",\n",
      "    \"simulation\": {\n",
      "        \"direct_mc_simulation_template\": {\n",
      "            \"geom_distance_tolerance\": 0.01,\n",
      "            \"max_impact\": 100,\n",
      "            \"weight\": {\n",
      "                \"minimum_energy_percentage\": 0.005\n",
      "            },\n",
      "            \"dispersion\": true,\n",
      "            \"colorimetric_standard\": \"CIE_1931\",\n",
      "            \"fast_transmission_gathering\": false,\n",
      "            \"ambient_material_uri\": \"\",\n",
      "            \"stop_condition_rays_number\": \"200000\",\n",
      "            \"automatic_save_frequency\": 1800\n",
      "        },\n",
      "        \"name\": \"Simulation.1\",\n",
      "        \"description\": \"\",\n",
      "        \"metadata\": {},\n",
      "        \"scene_guid\": \"d1d733f2-9420-42f9-8b64-f607fda19cec\",\n",
      "        \"simulation_path\": \"Simulation.1\",\n",
      "        \"job_type\": \"CPU\"\n",
      "    }\n",
      "}\n"
     ]
    }
   ],
   "source": [
    "print(simulation1)"
   ]
  },
  {
   "cell_type": "markdown",
   "id": "c6fdc8d6",
   "metadata": {},
   "source": [
    "Read project information"
   ]
  },
  {
   "cell_type": "code",
   "execution_count": 11,
   "id": "8c7f0789",
   "metadata": {
    "execution": {
     "iopub.execute_input": "2025-03-28T09:27:31.659428Z",
     "iopub.status.busy": "2025-03-28T09:27:31.659060Z",
     "iopub.status.idle": "2025-03-28T09:27:31.678530Z",
     "shell.execute_reply": "2025-03-28T09:27:31.677868Z"
    }
   },
   "outputs": [
    {
     "name": "stdout",
     "output_type": "stream",
     "text": [
      "{\n",
      "    \"part_guid\": \"9c605305-21ab-4619-b863-c983f26572f5\",\n",
      "    \"sources\": [\n",
      "        {\n",
      "            \"name\": \"Surface.1\",\n",
      "            \"metadata\": {\n",
      "                \"UniqueId\": \"434edcb8-c676-4884-881e-b9c26e4e239e\"\n",
      "            },\n",
      "            \"source_guid\": \"ac2e141f-73e6-4389-966a-f97f6d7011da\",\n",
      "            \"description\": \"\",\n",
      "            \"source\": {\n",
      "                \"name\": \"Surface.1\",\n",
      "                \"surface\": {\n",
      "                    \"luminous_flux\": {\n",
      "                        \"luminous_value\": 683.0\n",
      "                    },\n",
      "                    \"intensity_guid\": \"be2a69f8-cf74-490f-a7a5-542e782ed7b9\",\n",
      "                    \"exitance_constant\": {\n",
      "                        \"geo_paths\": [\n",
      "                            {\n",
      "                                \"geo_path\": \"Body.1/Face.1\",\n",
      "                                \"reverse_normal\": true\n",
      "                            }\n",
      "                        ]\n",
      "                    },\n",
      "                    \"spectrum_guid\": \"b2df0340-c97c-42f5-ab6d-f9fa7cae1e01\",\n",
      "                    \"intensity\": {\n",
      "                        \"name\": \"Surface.1.Intensity\",\n",
      "                        \"cos\": {\n",
      "                            \"N\": 1.0,\n",
      "                            \"total_angle\": 180.0\n",
      "                        },\n",
      "                        \"description\": \"\",\n",
      "                        \"metadata\": {}\n",
      "                    },\n",
      "                    \"spectrum\": {\n",
      "                        \"name\": \"Surface.1.Spectrum\",\n",
      "                        \"blackbody\": {\n",
      "                            \"temperature\": 2856.0\n",
      "                        },\n",
      "                        \"description\": \"\",\n",
      "                        \"metadata\": {}\n",
      "                    }\n",
      "                },\n",
      "                \"description\": \"\",\n",
      "                \"metadata\": {}\n",
      "            }\n",
      "        }\n",
      "    ],\n",
      "    \"sensors\": [\n",
      "        {\n",
      "            \"name\": \"Irradiance.1\",\n",
      "            \"metadata\": {\n",
      "                \"UniqueId\": \"60e158ca-2a75-4cde-9f11-72457066729d\"\n",
      "            },\n",
      "            \"sensor_guid\": \"568df67f-5119-44f7-a271-9be86a92124b\",\n",
      "            \"description\": \"\",\n",
      "            \"result_file_name\": \"\",\n",
      "            \"sensor\": {\n",
      "                \"irradiance_sensor_template\": {\n",
      "                    \"sensor_type_colorimetric\": {\n",
      "                        \"wavelengths_range\": {\n",
      "                            \"w_start\": 400.0,\n",
      "                            \"w_end\": 700.0,\n",
      "                            \"w_sampling\": 13\n",
      "                        }\n",
      "                    },\n",
      "                    \"illuminance_type_planar\": {},\n",
      "                    \"dimensions\": {\n",
      "                        \"x_start\": -50.0,\n",
      "                        \"x_end\": 50.0,\n",
      "                        \"x_sampling\": 100,\n",
      "                        \"y_start\": -50.0,\n",
      "                        \"y_end\": 50.0,\n",
      "                        \"y_sampling\": 100\n",
      "                    },\n",
      "                    \"axis_system\": [\n",
      "                        0.0,\n",
      "                        0.0,\n",
      "                        0.0,\n",
      "                        1.0,\n",
      "                        0.0,\n",
      "                        0.0,\n",
      "                        0.0,\n",
      "                        1.0,\n",
      "                        0.0,\n",
      "                        0.0,\n",
      "                        0.0,\n",
      "                        1.0\n",
      "                    ],\n",
      "                    \"layer_type_none\": {},\n",
      "                    \"ray_file_type\": \"RayFileNone\",\n",
      "                    \"integration_direction\": []\n",
      "                },\n",
      "                \"name\": \"Irradiance.1\",\n",
      "                \"description\": \"\",\n",
      "                \"metadata\": {}\n",
      "            }\n",
      "        }\n",
      "    ],\n",
      "    \"simulations\": [\n",
      "        {\n",
      "            \"name\": \"Simulation.1\",\n",
      "            \"metadata\": {\n",
      "                \"UniqueId\": \"e7b9cb87-125b-44d6-bc81-ad3426a05b5a\"\n",
      "            },\n",
      "            \"simulation_guid\": \"3a0d6d50-fac6-4df9-9d26-5c668e97416d\",\n",
      "            \"sensor_paths\": [\n",
      "                \"Irradiance.1\"\n",
      "            ],\n",
      "            \"source_paths\": [\n",
      "                \"Surface.1\"\n",
      "            ],\n",
      "            \"description\": \"\",\n",
      "            \"simulation\": {\n",
      "                \"direct_mc_simulation_template\": {\n",
      "                    \"geom_distance_tolerance\": 0.01,\n",
      "                    \"max_impact\": 100,\n",
      "                    \"weight\": {\n",
      "                        \"minimum_energy_percentage\": 0.005\n",
      "                    },\n",
      "                    \"dispersion\": true,\n",
      "                    \"colorimetric_standard\": \"CIE_1931\",\n",
      "                    \"fast_transmission_gathering\": false,\n",
      "                    \"ambient_material_uri\": \"\",\n",
      "                    \"stop_condition_rays_number\": \"200000\",\n",
      "                    \"automatic_save_frequency\": 1800\n",
      "                },\n",
      "                \"name\": \"Simulation.1\",\n",
      "                \"description\": \"\",\n",
      "                \"metadata\": {},\n",
      "                \"scene_guid\": \"d1d733f2-9420-42f9-8b64-f607fda19cec\",\n",
      "                \"simulation_path\": \"Simulation.1\",\n",
      "                \"job_type\": \"CPU\"\n",
      "            }\n",
      "        },\n",
      "        {\n",
      "            \"name\": \"Simulation.2\",\n",
      "            \"metadata\": {\n",
      "                \"UniqueId\": \"0b3dca06-11f3-4501-8137-a9faf134b257\"\n",
      "            },\n",
      "            \"simulation_guid\": \"89e48372-4732-4d92-b797-cbaf7f8e2f36\",\n",
      "            \"sensor_paths\": [\n",
      "                \"Irradiance.1\"\n",
      "            ],\n",
      "            \"source_paths\": [\n",
      "                \"Surface.1\"\n",
      "            ],\n",
      "            \"description\": \"\",\n",
      "            \"simulation\": {\n",
      "                \"direct_mc_simulation_template\": {\n",
      "                    \"geom_distance_tolerance\": 0.01,\n",
      "                    \"max_impact\": 200,\n",
      "                    \"colorimetric_standard\": \"CIE_1964\",\n",
      "                    \"ambient_material_uri\": \"/app/assets/AIR.material\",\n",
      "                    \"dispersion\": false,\n",
      "                    \"fast_transmission_gathering\": false,\n",
      "                    \"stop_condition_rays_number\": \"200000\",\n",
      "                    \"automatic_save_frequency\": 1800\n",
      "                },\n",
      "                \"name\": \"Simulation.2\",\n",
      "                \"description\": \"\",\n",
      "                \"metadata\": {},\n",
      "                \"scene_guid\": \"d1d733f2-9420-42f9-8b64-f607fda19cec\",\n",
      "                \"simulation_path\": \"Simulation.2\",\n",
      "                \"job_type\": \"CPU\"\n",
      "            }\n",
      "        }\n",
      "    ],\n",
      "    \"materials\": [\n",
      "        {\n",
      "            \"name\": \"Material.1\",\n",
      "            \"metadata\": {\n",
      "                \"UniqueId\": \"3d1b644d-698e-4b31-aa9e-56ed8cf63711\"\n",
      "            },\n",
      "            \"vop_guid\": \"d63d0621-953e-4a26-8526-06b6be201233\",\n",
      "            \"sop_guids\": [\n",
      "                \"1bc04421-e0c1-47e1-9294-982611c2a70d\"\n",
      "            ],\n",
      "            \"geometries\": {\n",
      "                \"geo_paths\": [\n",
      "                    \"Body.1\"\n",
      "                ]\n",
      "            },\n",
      "            \"description\": \"\",\n",
      "            \"vop\": {\n",
      "                \"name\": \"Material.1.VOP\",\n",
      "                \"opaque\": {},\n",
      "                \"description\": \"\",\n",
      "                \"metadata\": {}\n",
      "            },\n",
      "            \"sops\": [\n",
      "                {\n",
      "                    \"name\": \"Material.1.SOP\",\n",
      "                    \"mirror\": {\n",
      "                        \"reflectance\": 100.0\n",
      "                    },\n",
      "                    \"description\": \"\",\n",
      "                    \"metadata\": {}\n",
      "                }\n",
      "            ]\n",
      "        }\n",
      "    ],\n",
      "    \"name\": \"\",\n",
      "    \"description\": \"\",\n",
      "    \"metadata\": {},\n",
      "    \"scenes\": []\n",
      "}\n"
     ]
    }
   ],
   "source": [
    "print(p)"
   ]
  },
  {
   "cell_type": "markdown",
   "id": "694bfd74",
   "metadata": {},
   "source": [
    "## Update simulation settings"
   ]
  },
  {
   "cell_type": "markdown",
   "id": "fe962f58",
   "metadata": {},
   "source": [
    "If you are manipulating a simulation already committed, remember to commit your changes."
   ]
  },
  {
   "cell_type": "markdown",
   "id": "6414b84a",
   "metadata": {},
   "source": [
    "If you don't, you will still only watch what is committed on the server."
   ]
  },
  {
   "cell_type": "code",
   "execution_count": 12,
   "id": "ae1dc478",
   "metadata": {
    "execution": {
     "iopub.execute_input": "2025-03-28T09:27:31.680615Z",
     "iopub.status.busy": "2025-03-28T09:27:31.680258Z",
     "iopub.status.idle": "2025-03-28T09:27:31.688584Z",
     "shell.execute_reply": "2025-03-28T09:27:31.688073Z"
    }
   },
   "outputs": [
    {
     "name": "stdout",
     "output_type": "stream",
     "text": [
      "{\n",
      "    \"name\": \"Simulation.1\",\n",
      "    \"metadata\": {\n",
      "        \"UniqueId\": \"e7b9cb87-125b-44d6-bc81-ad3426a05b5a\"\n",
      "    },\n",
      "    \"simulation_guid\": \"3a0d6d50-fac6-4df9-9d26-5c668e97416d\",\n",
      "    \"sensor_paths\": [\n",
      "        \"Irradiance.1\"\n",
      "    ],\n",
      "    \"source_paths\": [\n",
      "        \"Surface.1\"\n",
      "    ],\n",
      "    \"description\": \"\",\n",
      "    \"simulation\": {\n",
      "        \"direct_mc_simulation_template\": {\n",
      "            \"geom_distance_tolerance\": 0.01,\n",
      "            \"max_impact\": 100,\n",
      "            \"weight\": {\n",
      "                \"minimum_energy_percentage\": 0.005\n",
      "            },\n",
      "            \"dispersion\": true,\n",
      "            \"ambient_material_uri\": \"/app/assets/AIR.material\",\n",
      "            \"colorimetric_standard\": \"CIE_1931\",\n",
      "            \"fast_transmission_gathering\": false,\n",
      "            \"stop_condition_rays_number\": \"200000\",\n",
      "            \"automatic_save_frequency\": 1800\n",
      "        },\n",
      "        \"name\": \"Simulation.1\",\n",
      "        \"description\": \"\",\n",
      "        \"metadata\": {},\n",
      "        \"scene_guid\": \"d1d733f2-9420-42f9-8b64-f607fda19cec\",\n",
      "        \"simulation_path\": \"Simulation.1\",\n",
      "        \"job_type\": \"CPU\"\n",
      "    }\n",
      "}\n"
     ]
    }
   ],
   "source": [
    "simulation1.set_ambient_material_file_uri(uri=str(assets_data_path / \"AIR.material\"))\n",
    "simulation1.commit()\n",
    "print(simulation1)"
   ]
  },
  {
   "cell_type": "markdown",
   "id": "b8e04c40",
   "metadata": {},
   "source": [
    "## Reset"
   ]
  },
  {
   "cell_type": "markdown",
   "id": "a10eb4fa",
   "metadata": {},
   "source": [
    "Possibility to reset local values from the one available in the server."
   ]
  },
  {
   "cell_type": "code",
   "execution_count": 13,
   "id": "4449b94a",
   "metadata": {
    "execution": {
     "iopub.execute_input": "2025-03-28T09:27:31.690411Z",
     "iopub.status.busy": "2025-03-28T09:27:31.690222Z",
     "iopub.status.idle": "2025-03-28T09:27:31.708345Z",
     "shell.execute_reply": "2025-03-28T09:27:31.707838Z"
    }
   },
   "outputs": [
    {
     "name": "stdout",
     "output_type": "stream",
     "text": [
      "local: {\n",
      "    \"name\": \"Simulation.1\",\n",
      "    \"sensor_paths\": [\n",
      "        \"Irradiance.1\"\n",
      "    ],\n",
      "    \"source_paths\": [\n",
      "        \"Surface.1\"\n",
      "    ],\n",
      "    \"description\": \"\",\n",
      "    \"metadata\": {},\n",
      "    \"simulation_guid\": \"\",\n",
      "    \"simulation\": {\n",
      "        \"direct_mc_simulation_template\": {\n",
      "            \"geom_distance_tolerance\": 0.01,\n",
      "            \"max_impact\": 100,\n",
      "            \"weight\": {\n",
      "                \"minimum_energy_percentage\": 0.005\n",
      "            },\n",
      "            \"dispersion\": true,\n",
      "            \"ambient_material_uri\": \"/app/assets/AIR.material\",\n",
      "            \"colorimetric_standard\": \"CIE_1931\",\n",
      "            \"fast_transmission_gathering\": false,\n",
      "            \"stop_condition_rays_number\": \"200000\",\n",
      "            \"automatic_save_frequency\": 1800\n",
      "        },\n",
      "        \"name\": \"Simulation.1\",\n",
      "        \"description\": \"\",\n",
      "        \"metadata\": {},\n",
      "        \"scene_guid\": \"d1d733f2-9420-42f9-8b64-f607fda19cec\",\n",
      "        \"simulation_path\": \"Simulation.1\",\n",
      "        \"job_type\": \"CPU\"\n",
      "    }\n",
      "}\n"
     ]
    }
   ],
   "source": [
    "simulation1.set_max_impact(1000)  # adjust max impact but no commit\n",
    "simulation1.reset()  # reset -> this will apply the server value to the local value\n",
    "simulation1.delete()  # delete (to display the local value with the below print)\n",
    "print(simulation1)"
   ]
  },
  {
   "cell_type": "markdown",
   "id": "e5aea498",
   "metadata": {},
   "source": [
    "## Other simulation examples"
   ]
  },
  {
   "cell_type": "markdown",
   "id": "0c969d1c",
   "metadata": {},
   "source": [
    "### Inverse simulation"
   ]
  },
  {
   "cell_type": "code",
   "execution_count": 14,
   "id": "a6f05606",
   "metadata": {
    "execution": {
     "iopub.execute_input": "2025-03-28T09:27:31.710238Z",
     "iopub.status.busy": "2025-03-28T09:27:31.710043Z",
     "iopub.status.idle": "2025-03-28T09:27:31.743280Z",
     "shell.execute_reply": "2025-03-28T09:27:31.742704Z"
    }
   },
   "outputs": [
    {
     "name": "stdout",
     "output_type": "stream",
     "text": [
      "{\n",
      "    \"name\": \"Simulation.3\",\n",
      "    \"metadata\": {\n",
      "        \"UniqueId\": \"65799362-139f-45a1-bcc6-77021607b436\"\n",
      "    },\n",
      "    \"simulation_guid\": \"e7d19978-a742-4bbc-9c6b-a15d4694bae3\",\n",
      "    \"sensor_paths\": [\n",
      "        \"Irradiance.1\"\n",
      "    ],\n",
      "    \"source_paths\": [\n",
      "        \"Surface.1\"\n",
      "    ],\n",
      "    \"description\": \"\",\n",
      "    \"simulation\": {\n",
      "        \"inverse_mc_simulation_template\": {\n",
      "            \"geom_distance_tolerance\": 0.01,\n",
      "            \"max_impact\": 100,\n",
      "            \"weight\": {\n",
      "                \"minimum_energy_percentage\": 0.005\n",
      "            },\n",
      "            \"number_of_gathering_rays_per_source\": 1,\n",
      "            \"colorimetric_standard\": \"CIE_1931\",\n",
      "            \"dispersion\": false,\n",
      "            \"splitting\": false,\n",
      "            \"maximum_gathering_error\": 0,\n",
      "            \"maximum_gathering_error_percentage\": 0.0,\n",
      "            \"fast_transmission_gathering\": false,\n",
      "            \"ambient_material_uri\": \"\",\n",
      "            \"optimized_propagation_none\": {\n",
      "                \"stop_condition_passes_number\": 5\n",
      "            },\n",
      "            \"automatic_save_frequency\": 1800\n",
      "        },\n",
      "        \"name\": \"Simulation.3\",\n",
      "        \"description\": \"\",\n",
      "        \"metadata\": {},\n",
      "        \"scene_guid\": \"d1d733f2-9420-42f9-8b64-f607fda19cec\",\n",
      "        \"simulation_path\": \"Simulation.3\",\n",
      "        \"job_type\": \"CPU\"\n",
      "    }\n",
      "}\n"
     ]
    }
   ],
   "source": [
    "simulation3 = p.create_simulation(name=\"Simulation.3\", feature_type=SimulationInverse)\n",
    "simulation3.set_sensor_paths(sensor_paths=[\"Irradiance.1\"]).set_source_paths(\n",
    "    source_paths=[\"Surface.1\"]\n",
    ").commit()\n",
    "print(simulation3)"
   ]
  },
  {
   "cell_type": "markdown",
   "id": "ed5385db",
   "metadata": {},
   "source": [
    "### Interactive simulation"
   ]
  },
  {
   "cell_type": "code",
   "execution_count": 15,
   "id": "e00acf0b",
   "metadata": {
    "execution": {
     "iopub.execute_input": "2025-03-28T09:27:31.745312Z",
     "iopub.status.busy": "2025-03-28T09:27:31.744929Z",
     "iopub.status.idle": "2025-03-28T09:27:31.790025Z",
     "shell.execute_reply": "2025-03-28T09:27:31.789453Z"
    }
   },
   "outputs": [
    {
     "name": "stdout",
     "output_type": "stream",
     "text": [
      "{\n",
      "    \"name\": \"Simulation.4\",\n",
      "    \"metadata\": {\n",
      "        \"UniqueId\": \"c0330d56-5f1e-4b19-8c1b-8a52938c23d0\"\n",
      "    },\n",
      "    \"simulation_guid\": \"52161007-249f-4f60-9d80-041288b6426a\",\n",
      "    \"source_paths\": [\n",
      "        \"Surface.1\"\n",
      "    ],\n",
      "    \"description\": \"\",\n",
      "    \"sensor_paths\": [],\n",
      "    \"simulation\": {\n",
      "        \"name\": \"Simulation.4\",\n",
      "        \"interactive_simulation_template\": {\n",
      "            \"geom_distance_tolerance\": 0.01,\n",
      "            \"max_impact\": 100,\n",
      "            \"weight\": {\n",
      "                \"minimum_energy_percentage\": 0.005\n",
      "            },\n",
      "            \"colorimetric_standard\": \"CIE_1931\",\n",
      "            \"ambient_material_uri\": \"\",\n",
      "            \"rays_number_per_sources\": [],\n",
      "            \"light_expert\": false,\n",
      "            \"impact_report\": false\n",
      "        },\n",
      "        \"description\": \"\",\n",
      "        \"metadata\": {},\n",
      "        \"scene_guid\": \"d1d733f2-9420-42f9-8b64-f607fda19cec\",\n",
      "        \"simulation_path\": \"Simulation.4\",\n",
      "        \"job_type\": \"CPU\"\n",
      "    }\n",
      "}\n"
     ]
    }
   ],
   "source": [
    "simulation4 = p.create_simulation(name=\"Simulation.4\", feature_type=SimulationInteractive)\n",
    "simulation4.set_source_paths(source_paths=[\"Surface.1\"]).commit()\n",
    "print(simulation4)"
   ]
  }
 ],
 "metadata": {
  "jupytext": {
   "cell_metadata_filter": "-all",
   "main_language": "python",
   "notebook_metadata_filter": "-all",
   "text_representation": {
    "extension": ".py",
    "format_name": "light"
   }
  },
  "language_info": {
   "codemirror_mode": {
    "name": "ipython",
    "version": 3
   },
   "file_extension": ".py",
   "mimetype": "text/x-python",
   "name": "python",
   "nbconvert_exporter": "python",
   "pygments_lexer": "ipython3",
   "version": "3.10.16"
  }
 },
 "nbformat": 4,
 "nbformat_minor": 5
}
