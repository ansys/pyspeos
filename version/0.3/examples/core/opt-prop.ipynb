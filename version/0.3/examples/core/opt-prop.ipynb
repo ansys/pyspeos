{
 "cells": [
  {
   "cell_type": "markdown",
   "id": "4c910bb0",
   "metadata": {},
   "source": [
    "# How to create an optical property"
   ]
  },
  {
   "cell_type": "markdown",
   "id": "2d744214",
   "metadata": {},
   "source": [
    "This tutorial demonstrates how to create an optical property."
   ]
  },
  {
   "cell_type": "markdown",
   "id": "3c6ece9c",
   "metadata": {},
   "source": [
    "## What is an optical property?"
   ]
  },
  {
   "cell_type": "markdown",
   "id": "07001364",
   "metadata": {},
   "source": [
    "An optical property (also named material), gathers two notions:\n",
    "the surface optical property (SOP) and the volume optical property (VOP)."
   ]
  },
  {
   "cell_type": "markdown",
   "id": "a44878b9",
   "metadata": {},
   "source": [
    "The property is then applied to a geometry (like bodies, faces)."
   ]
  },
  {
   "cell_type": "code",
   "execution_count": 1,
   "id": "dac181f5",
   "metadata": {
    "execution": {
     "iopub.execute_input": "2025-03-28T09:25:46.599148Z",
     "iopub.status.busy": "2025-03-28T09:25:46.598956Z",
     "iopub.status.idle": "2025-03-28T09:25:47.170206Z",
     "shell.execute_reply": "2025-03-28T09:25:47.169520Z"
    }
   },
   "outputs": [],
   "source": [
    "from pathlib import Path\n",
    "\n",
    "from ansys.speos.core import GeoRef, Project, Speos\n",
    "\n",
    "# If using docker container\n",
    "assets_data_path = Path(\"/app\") / \"assets\"\n",
    "# If using local server\n",
    "# assets_data_path = Path().resolve().parent.parent / \"tests\" / \"assets\"\n",
    "# If using a different path\n",
    "# assets_data_path = Path(\"path/to/downloaded/example/assets\")"
   ]
  },
  {
   "cell_type": "markdown",
   "id": "9ea36a04",
   "metadata": {},
   "source": [
    "## Create connection with speos rpc server"
   ]
  },
  {
   "cell_type": "code",
   "execution_count": 2,
   "id": "333bb5f5",
   "metadata": {
    "execution": {
     "iopub.execute_input": "2025-03-28T09:25:47.172791Z",
     "iopub.status.busy": "2025-03-28T09:25:47.172529Z",
     "iopub.status.idle": "2025-03-28T09:25:47.179069Z",
     "shell.execute_reply": "2025-03-28T09:25:47.178434Z"
    }
   },
   "outputs": [],
   "source": [
    "speos = Speos(host=\"localhost\", port=50098)"
   ]
  },
  {
   "cell_type": "markdown",
   "id": "800eac42",
   "metadata": {},
   "source": [
    "## New Project"
   ]
  },
  {
   "cell_type": "markdown",
   "id": "3b87bee9",
   "metadata": {},
   "source": [
    "The only way to create an optical property is to create it from a project."
   ]
  },
  {
   "cell_type": "code",
   "execution_count": 3,
   "id": "612c7c32",
   "metadata": {
    "execution": {
     "iopub.execute_input": "2025-03-28T09:25:47.181218Z",
     "iopub.status.busy": "2025-03-28T09:25:47.180856Z",
     "iopub.status.idle": "2025-03-28T09:25:47.186823Z",
     "shell.execute_reply": "2025-03-28T09:25:47.186250Z"
    }
   },
   "outputs": [
    {
     "name": "stdout",
     "output_type": "stream",
     "text": [
      "{\n",
      "    \"name\": \"\",\n",
      "    \"description\": \"\",\n",
      "    \"metadata\": {},\n",
      "    \"part_guid\": \"\",\n",
      "    \"sources\": [],\n",
      "    \"sensors\": [],\n",
      "    \"simulations\": [],\n",
      "    \"materials\": [],\n",
      "    \"scenes\": []\n",
      "}\n"
     ]
    }
   ],
   "source": [
    "p = Project(speos=speos)\n",
    "print(p)"
   ]
  },
  {
   "cell_type": "markdown",
   "id": "0007b6dc",
   "metadata": {},
   "source": [
    "## Create VOP (volume optical property)"
   ]
  },
  {
   "cell_type": "markdown",
   "id": "0baa880d",
   "metadata": {},
   "source": [
    "Create locally."
   ]
  },
  {
   "cell_type": "markdown",
   "id": "8fb336e3",
   "metadata": {},
   "source": [
    "The mention \"local: \" is added when printing the optical property."
   ]
  },
  {
   "cell_type": "code",
   "execution_count": 4,
   "id": "4303bc09",
   "metadata": {
    "execution": {
     "iopub.execute_input": "2025-03-28T09:25:47.189109Z",
     "iopub.status.busy": "2025-03-28T09:25:47.188628Z",
     "iopub.status.idle": "2025-03-28T09:25:47.193273Z",
     "shell.execute_reply": "2025-03-28T09:25:47.192685Z"
    }
   },
   "outputs": [
    {
     "name": "stdout",
     "output_type": "stream",
     "text": [
      "local: {\n",
      "    \"name\": \"Material.1\",\n",
      "    \"geometries\": {\n",
      "        \"geo_paths\": [\n",
      "            \"TheBodyB\",\n",
      "            \"TheBodyC\"\n",
      "        ]\n",
      "    },\n",
      "    \"description\": \"\",\n",
      "    \"metadata\": {},\n",
      "    \"sop_guids\": [],\n",
      "    \"vop\": {\n",
      "        \"name\": \"Material.1.VOP\",\n",
      "        \"opaque\": {},\n",
      "        \"description\": \"\",\n",
      "        \"metadata\": {}\n",
      "    },\n",
      "    \"sops\": [\n",
      "        {\n",
      "            \"name\": \"Material.1.SOP\",\n",
      "            \"mirror\": {\n",
      "                \"reflectance\": 80.0\n",
      "            },\n",
      "            \"description\": \"\",\n",
      "            \"metadata\": {}\n",
      "        }\n",
      "    ]\n",
      "}\n"
     ]
    }
   ],
   "source": [
    "op1 = p.create_optical_property(name=\"Material.1\")\n",
    "op1.set_surface_mirror(reflectance=80)  # SOP : mirror\n",
    "op1.set_volume_opaque()  # VOP : opaque\n",
    "# This optical property will be applied to two bodies named : \"TheBodyB\" and \"TheBodyC\".\n",
    "op1.set_geometries(\n",
    "    geometries=[\n",
    "        GeoRef.from_native_link(geopath=\"TheBodyB\"),\n",
    "        GeoRef.from_native_link(geopath=\"TheBodyC\"),\n",
    "    ]\n",
    ")\n",
    "print(op1)"
   ]
  },
  {
   "cell_type": "markdown",
   "id": "0e1a9dd2",
   "metadata": {},
   "source": [
    "## Push it to the server."
   ]
  },
  {
   "cell_type": "markdown",
   "id": "a188fbb1",
   "metadata": {},
   "source": [
    "Now that it is committed to the server,\n",
    "the mention \"local: \" is no more present when printing the optical property."
   ]
  },
  {
   "cell_type": "code",
   "execution_count": 5,
   "id": "8e50b827",
   "metadata": {
    "execution": {
     "iopub.execute_input": "2025-03-28T09:25:47.195137Z",
     "iopub.status.busy": "2025-03-28T09:25:47.194952Z",
     "iopub.status.idle": "2025-03-28T09:25:47.202449Z",
     "shell.execute_reply": "2025-03-28T09:25:47.201831Z"
    }
   },
   "outputs": [
    {
     "name": "stdout",
     "output_type": "stream",
     "text": [
      "{\n",
      "    \"name\": \"Material.1\",\n",
      "    \"metadata\": {\n",
      "        \"UniqueId\": \"d5c039f6-1944-43bb-9edb-cd6c84cc9f66\"\n",
      "    },\n",
      "    \"vop_guid\": \"d97d6f97-c4f2-4980-87f3-7a0ede453ac7\",\n",
      "    \"sop_guids\": [\n",
      "        \"50ce05c4-8904-4439-b0a8-5d0a0e3d51ea\"\n",
      "    ],\n",
      "    \"geometries\": {\n",
      "        \"geo_paths\": [\n",
      "            \"TheBodyB\",\n",
      "            \"TheBodyC\"\n",
      "        ]\n",
      "    },\n",
      "    \"description\": \"\",\n",
      "    \"vop\": {\n",
      "        \"name\": \"Material.1.VOP\",\n",
      "        \"opaque\": {},\n",
      "        \"description\": \"\",\n",
      "        \"metadata\": {}\n",
      "    },\n",
      "    \"sops\": [\n",
      "        {\n",
      "            \"name\": \"Material.1.SOP\",\n",
      "            \"mirror\": {\n",
      "                \"reflectance\": 80.0\n",
      "            },\n",
      "            \"description\": \"\",\n",
      "            \"metadata\": {}\n",
      "        }\n",
      "    ]\n",
      "}\n"
     ]
    }
   ],
   "source": [
    "op1.commit()\n",
    "print(op1)"
   ]
  },
  {
   "cell_type": "markdown",
   "id": "6d3cdf8b",
   "metadata": {},
   "source": [
    "## Another example."
   ]
  },
  {
   "cell_type": "markdown",
   "id": "f3a7e1d1",
   "metadata": {},
   "source": [
    "Setting several more characteristics."
   ]
  },
  {
   "cell_type": "code",
   "execution_count": 6,
   "id": "c7ed6bd6",
   "metadata": {
    "execution": {
     "iopub.execute_input": "2025-03-28T09:25:47.204285Z",
     "iopub.status.busy": "2025-03-28T09:25:47.204087Z",
     "iopub.status.idle": "2025-03-28T09:25:47.212489Z",
     "shell.execute_reply": "2025-03-28T09:25:47.211848Z"
    }
   },
   "outputs": [
    {
     "name": "stdout",
     "output_type": "stream",
     "text": [
      "{\n",
      "    \"name\": \"Material.2\",\n",
      "    \"metadata\": {\n",
      "        \"UniqueId\": \"0b2f11f4-84d5-4b18-97b0-09d60668cc10\"\n",
      "    },\n",
      "    \"vop_guid\": \"5dec730f-704e-455d-ade1-4823fb46877f\",\n",
      "    \"sop_guids\": [\n",
      "        \"542159cd-caeb-40e2-83e7-eb6a0c5281f4\"\n",
      "    ],\n",
      "    \"geometries\": {\n",
      "        \"geo_paths\": [\n",
      "            \"TheBodyD\",\n",
      "            \"TheBodyE\"\n",
      "        ]\n",
      "    },\n",
      "    \"description\": \"\",\n",
      "    \"vop\": {\n",
      "        \"name\": \"Material.2.VOP\",\n",
      "        \"library\": {\n",
      "            \"material_file_uri\": \"/app/assets/AIR.material\"\n",
      "        },\n",
      "        \"description\": \"\",\n",
      "        \"metadata\": {}\n",
      "    },\n",
      "    \"sops\": [\n",
      "        {\n",
      "            \"name\": \"Material.2.SOP\",\n",
      "            \"optical_polished\": {},\n",
      "            \"description\": \"\",\n",
      "            \"metadata\": {}\n",
      "        }\n",
      "    ]\n",
      "}\n"
     ]
    }
   ],
   "source": [
    "op2 = p.create_optical_property(name=\"Material.2\")\n",
    "op2.set_surface_opticalpolished()  # SOP : optical polished\n",
    "op2.set_volume_library(\n",
    "    path=str(assets_data_path / \"AIR.material\")\n",
    ")  # VOP : selected library via a file .material\n",
    "# This optical property will be applied to two bodies named : \"TheBodyD\" and \"TheBodyE\".\n",
    "op2.set_geometries(\n",
    "    geometries=[\n",
    "        GeoRef.from_native_link(geopath=\"TheBodyD\"),\n",
    "        GeoRef.from_native_link(geopath=\"TheBodyE\"),\n",
    "    ]\n",
    ")\n",
    "op2.commit()\n",
    "print(op2)"
   ]
  },
  {
   "cell_type": "markdown",
   "id": "b38eded2",
   "metadata": {},
   "source": [
    "## Create FOP (face optical property)"
   ]
  },
  {
   "cell_type": "markdown",
   "id": "115d2fee",
   "metadata": {},
   "source": [
    "Sometimes it is needed to create property but only for surface."
   ]
  },
  {
   "cell_type": "markdown",
   "id": "83cf0d88",
   "metadata": {},
   "source": [
    "In this case, no call for set_volume_xxx function is needed, and we will select a face for the\n",
    "geometries."
   ]
  },
  {
   "cell_type": "code",
   "execution_count": 7,
   "id": "2f070960",
   "metadata": {
    "execution": {
     "iopub.execute_input": "2025-03-28T09:25:47.214659Z",
     "iopub.status.busy": "2025-03-28T09:25:47.214279Z",
     "iopub.status.idle": "2025-03-28T09:25:47.220886Z",
     "shell.execute_reply": "2025-03-28T09:25:47.220228Z"
    }
   },
   "outputs": [
    {
     "name": "stdout",
     "output_type": "stream",
     "text": [
      "{\n",
      "    \"name\": \"Material.FOP\",\n",
      "    \"metadata\": {\n",
      "        \"UniqueId\": \"0eebd6af-3860-415c-80f4-7b9c6028b895\"\n",
      "    },\n",
      "    \"sop_guids\": [\n",
      "        \"bc42a1ae-d22c-4d27-bf61-c4bf7a96bda2\"\n",
      "    ],\n",
      "    \"geometries\": {\n",
      "        \"geo_paths\": [\n",
      "            \"TheBodyD/TheFaceF\"\n",
      "        ]\n",
      "    },\n",
      "    \"description\": \"\",\n",
      "    \"sops\": [\n",
      "        {\n",
      "            \"name\": \"Material.FOP.SOP\",\n",
      "            \"mirror\": {\n",
      "                \"reflectance\": 90.0\n",
      "            },\n",
      "            \"description\": \"\",\n",
      "            \"metadata\": {}\n",
      "        }\n",
      "    ]\n",
      "}\n"
     ]
    }
   ],
   "source": [
    "op3 = p.create_optical_property(name=\"Material.FOP\")\n",
    "op3.set_surface_mirror(reflectance=90)  # SOP : mirror\n",
    "# This optical property will be applied a face from TheBodyD named : \"TheFaceF\".\n",
    "op3.set_geometries(geometries=[GeoRef.from_native_link(geopath=\"TheBodyD/TheFaceF\")])\n",
    "op3.commit()\n",
    "print(op3)"
   ]
  },
  {
   "cell_type": "markdown",
   "id": "185c1ce3",
   "metadata": {},
   "source": [
    "## Default values"
   ]
  },
  {
   "cell_type": "markdown",
   "id": "7d2119f3",
   "metadata": {},
   "source": [
    "Some default values are available when applicable in every methods and class."
   ]
  },
  {
   "cell_type": "code",
   "execution_count": 8,
   "id": "84282cd9",
   "metadata": {
    "execution": {
     "iopub.execute_input": "2025-03-28T09:25:47.223049Z",
     "iopub.status.busy": "2025-03-28T09:25:47.222639Z",
     "iopub.status.idle": "2025-03-28T09:25:47.228741Z",
     "shell.execute_reply": "2025-03-28T09:25:47.228220Z"
    }
   },
   "outputs": [
    {
     "name": "stdout",
     "output_type": "stream",
     "text": [
      "{\n",
      "    \"name\": \"Material.3\",\n",
      "    \"metadata\": {\n",
      "        \"UniqueId\": \"374283f3-2a7f-47c6-b8f8-7cb4c622e616\"\n",
      "    },\n",
      "    \"sop_guids\": [\n",
      "        \"b8bb9516-6497-4a9e-94cf-2cb55f1cbc7f\"\n",
      "    ],\n",
      "    \"description\": \"\",\n",
      "    \"sops\": [\n",
      "        {\n",
      "            \"name\": \"Material.3.SOP\",\n",
      "            \"mirror\": {\n",
      "                \"reflectance\": 100.0\n",
      "            },\n",
      "            \"description\": \"\",\n",
      "            \"metadata\": {}\n",
      "        }\n",
      "    ]\n",
      "}\n"
     ]
    }
   ],
   "source": [
    "op4 = p.create_optical_property(name=\"Material.3\").commit()\n",
    "print(op4)"
   ]
  },
  {
   "cell_type": "markdown",
   "id": "d31edc33",
   "metadata": {},
   "source": [
    "## Read\n",
    "### Material Instance Information"
   ]
  },
  {
   "cell_type": "markdown",
   "id": "4a25b47b",
   "metadata": {},
   "source": [
    "A mention \"local: \" is added if it is not yet committed to the server."
   ]
  },
  {
   "cell_type": "code",
   "execution_count": 9,
   "id": "12ba6335",
   "metadata": {
    "execution": {
     "iopub.execute_input": "2025-03-28T09:25:47.230566Z",
     "iopub.status.busy": "2025-03-28T09:25:47.230372Z",
     "iopub.status.idle": "2025-03-28T09:25:47.236084Z",
     "shell.execute_reply": "2025-03-28T09:25:47.235534Z"
    }
   },
   "outputs": [
    {
     "name": "stdout",
     "output_type": "stream",
     "text": [
      "{\n",
      "    \"name\": \"Material.1\",\n",
      "    \"metadata\": {\n",
      "        \"UniqueId\": \"d5c039f6-1944-43bb-9edb-cd6c84cc9f66\"\n",
      "    },\n",
      "    \"vop_guid\": \"d97d6f97-c4f2-4980-87f3-7a0ede453ac7\",\n",
      "    \"sop_guids\": [\n",
      "        \"50ce05c4-8904-4439-b0a8-5d0a0e3d51ea\"\n",
      "    ],\n",
      "    \"geometries\": {\n",
      "        \"geo_paths\": [\n",
      "            \"TheBodyB\",\n",
      "            \"TheBodyC\"\n",
      "        ]\n",
      "    },\n",
      "    \"description\": \"\",\n",
      "    \"vop\": {\n",
      "        \"name\": \"Material.1.VOP\",\n",
      "        \"opaque\": {},\n",
      "        \"description\": \"\",\n",
      "        \"metadata\": {}\n",
      "    },\n",
      "    \"sops\": [\n",
      "        {\n",
      "            \"name\": \"Material.1.SOP\",\n",
      "            \"mirror\": {\n",
      "                \"reflectance\": 80.0\n",
      "            },\n",
      "            \"description\": \"\",\n",
      "            \"metadata\": {}\n",
      "        }\n",
      "    ]\n",
      "}\n"
     ]
    }
   ],
   "source": [
    "print(op1)"
   ]
  },
  {
   "cell_type": "markdown",
   "id": "9a479722",
   "metadata": {},
   "source": [
    "The get methods allows you to get some properties of your feature"
   ]
  },
  {
   "cell_type": "code",
   "execution_count": 10,
   "id": "aef9b3f9",
   "metadata": {
    "execution": {
     "iopub.execute_input": "2025-03-28T09:25:47.237988Z",
     "iopub.status.busy": "2025-03-28T09:25:47.237762Z",
     "iopub.status.idle": "2025-03-28T09:25:47.272658Z",
     "shell.execute_reply": "2025-03-28T09:25:47.272023Z"
    }
   },
   "outputs": [
    {
     "name": "stdout",
     "output_type": "stream",
     "text": [
      "op1 name: Material.1\n",
      "geometries linked to op1: ['TheBodyB', 'TheBodyC']\n",
      "op1 surface optical properties info: [{'name': 'Material.1.SOP', 'mirror': {'reflectance': 80.0}, 'description': '', 'metadata': {}}]\n",
      "op1 volume optical property info: {'name': 'Material.1.VOP', 'opaque': {}, 'description': '', 'metadata': {}}\n",
      "op1 is opaque type volume optical property\n",
      "{\n",
      "    \"name\": \"Material.2\",\n",
      "    \"metadata\": {\n",
      "        \"UniqueId\": \"0b2f11f4-84d5-4b18-97b0-09d60668cc10\"\n",
      "    },\n",
      "    \"vop_guid\": \"5dec730f-704e-455d-ade1-4823fb46877f\",\n",
      "    \"sop_guids\": [\n",
      "        \"542159cd-caeb-40e2-83e7-eb6a0c5281f4\"\n",
      "    ],\n",
      "    \"geometries\": {\n",
      "        \"geo_paths\": [\n",
      "            \"TheBodyD\",\n",
      "            \"TheBodyE\"\n",
      "        ]\n",
      "    },\n",
      "    \"description\": \"\",\n",
      "    \"vop\": {\n",
      "        \"name\": \"Material.2.VOP\",\n",
      "        \"library\": {\n",
      "            \"material_file_uri\": \"/app/assets/AIR.material\"\n",
      "        },\n",
      "        \"description\": \"\",\n",
      "        \"metadata\": {}\n",
      "    },\n",
      "    \"sops\": [\n",
      "        {\n",
      "            \"name\": \"Material.2.SOP\",\n",
      "            \"optical_polished\": {},\n",
      "            \"description\": \"\",\n",
      "            \"metadata\": {}\n",
      "        }\n",
      "    ]\n",
      "}\n",
      "op2 name: Material.2\n",
      "op2 is optical polished type surface property\n",
      "op2 is library type volume optical property\n",
      "{\n",
      "    \"name\": \"Material.FOP\",\n",
      "    \"metadata\": {\n",
      "        \"UniqueId\": \"0eebd6af-3860-415c-80f4-7b9c6028b895\"\n",
      "    },\n",
      "    \"sop_guids\": [\n",
      "        \"bc42a1ae-d22c-4d27-bf61-c4bf7a96bda2\"\n",
      "    ],\n",
      "    \"geometries\": {\n",
      "        \"geo_paths\": [\n",
      "            \"TheBodyD/TheFaceF\"\n",
      "        ]\n",
      "    },\n",
      "    \"description\": \"\",\n",
      "    \"sops\": [\n",
      "        {\n",
      "            \"name\": \"Material.FOP.SOP\",\n",
      "            \"mirror\": {\n",
      "                \"reflectance\": 90.0\n",
      "            },\n",
      "            \"description\": \"\",\n",
      "            \"metadata\": {}\n",
      "        }\n",
      "    ]\n",
      "}\n",
      "op3 name: Material.FOP\n",
      "op3 has reflectance value of 90.0\n"
     ]
    }
   ],
   "source": [
    "print(\"op1 name: {}\".format(op1.get(key=\"name\")))\n",
    "print(\"geometries linked to op1: {}\".format(op1.get(key=\"geo_paths\")))\n",
    "print(\"op1 surface optical properties info: {}\".format(op1.get(key=\"sops\")))\n",
    "print(\"op1 volume optical property info: {}\".format(op1.get(key=\"vop\")))\n",
    "# user can use get with vop type as key word to check volume property type\n",
    "print(\n",
    "    \"op1 {} opaque type volume optical property\".format(\n",
    "        \"is\" if op1.get(key=\"opaque\") is not None else \"is not\"\n",
    "    )\n",
    ")\n",
    "\n",
    "print(op2)\n",
    "print(\"op2 name: {}\".format(op2.get(key=\"name\")))\n",
    "print(\n",
    "    \"op2 {} optical polished type surface property\".format(\n",
    "        (\"is\" if \"optical_polished\" in op2.get(key=\"sops\")[0] else \"is not\")\n",
    "    )\n",
    ")\n",
    "# an alternative way to check the type of optical property\n",
    "print(\n",
    "    \"op2 {} library type volume optical property\".format(\n",
    "        \"is\" if \"library\" in op2.get(key=\"vop\") is not None else \"is not\"\n",
    "    )\n",
    ")\n",
    "\n",
    "print(op3)\n",
    "print(\"op3 name: {}\".format(op3.get(key=\"name\")))\n",
    "print(\"op3 has reflectance value of {}\".format(op3.get(key=\"sops\")[0][\"mirror\"][\"reflectance\"]))"
   ]
  },
  {
   "cell_type": "markdown",
   "id": "c181372a",
   "metadata": {},
   "source": [
    "### Project Information\n",
    "Committed feature information will appear inside a project information."
   ]
  },
  {
   "cell_type": "code",
   "execution_count": 11,
   "id": "ea3fa43b",
   "metadata": {
    "execution": {
     "iopub.execute_input": "2025-03-28T09:25:47.274783Z",
     "iopub.status.busy": "2025-03-28T09:25:47.274413Z",
     "iopub.status.idle": "2025-03-28T09:25:47.283597Z",
     "shell.execute_reply": "2025-03-28T09:25:47.282970Z"
    }
   },
   "outputs": [
    {
     "name": "stdout",
     "output_type": "stream",
     "text": [
      "{\n",
      "    \"materials\": [\n",
      "        {\n",
      "            \"name\": \"Material.1\",\n",
      "            \"metadata\": {\n",
      "                \"UniqueId\": \"d5c039f6-1944-43bb-9edb-cd6c84cc9f66\"\n",
      "            },\n",
      "            \"vop_guid\": \"d97d6f97-c4f2-4980-87f3-7a0ede453ac7\",\n",
      "            \"sop_guids\": [\n",
      "                \"50ce05c4-8904-4439-b0a8-5d0a0e3d51ea\"\n",
      "            ],\n",
      "            \"geometries\": {\n",
      "                \"geo_paths\": [\n",
      "                    \"TheBodyB\",\n",
      "                    \"TheBodyC\"\n",
      "                ]\n",
      "            },\n",
      "            \"description\": \"\",\n",
      "            \"vop\": {\n",
      "                \"name\": \"Material.1.VOP\",\n",
      "                \"opaque\": {},\n",
      "                \"description\": \"\",\n",
      "                \"metadata\": {}\n",
      "            },\n",
      "            \"sops\": [\n",
      "                {\n",
      "                    \"name\": \"Material.1.SOP\",\n",
      "                    \"mirror\": {\n",
      "                        \"reflectance\": 80.0\n",
      "                    },\n",
      "                    \"description\": \"\",\n",
      "                    \"metadata\": {}\n",
      "                }\n",
      "            ]\n",
      "        },\n",
      "        {\n",
      "            \"name\": \"Material.2\",\n",
      "            \"metadata\": {\n",
      "                \"UniqueId\": \"0b2f11f4-84d5-4b18-97b0-09d60668cc10\"\n",
      "            },\n",
      "            \"vop_guid\": \"5dec730f-704e-455d-ade1-4823fb46877f\",\n",
      "            \"sop_guids\": [\n",
      "                \"542159cd-caeb-40e2-83e7-eb6a0c5281f4\"\n",
      "            ],\n",
      "            \"geometries\": {\n",
      "                \"geo_paths\": [\n",
      "                    \"TheBodyD\",\n",
      "                    \"TheBodyE\"\n",
      "                ]\n",
      "            },\n",
      "            \"description\": \"\",\n",
      "            \"vop\": {\n",
      "                \"name\": \"Material.2.VOP\",\n",
      "                \"library\": {\n",
      "                    \"material_file_uri\": \"/app/assets/AIR.material\"\n",
      "                },\n",
      "                \"description\": \"\",\n",
      "                \"metadata\": {}\n",
      "            },\n",
      "            \"sops\": [\n",
      "                {\n",
      "                    \"name\": \"Material.2.SOP\",\n",
      "                    \"optical_polished\": {},\n",
      "                    \"description\": \"\",\n",
      "                    \"metadata\": {}\n",
      "                }\n",
      "            ]\n",
      "        },\n",
      "        {\n",
      "            \"name\": \"Material.FOP\",\n",
      "            \"metadata\": {\n",
      "                \"UniqueId\": \"0eebd6af-3860-415c-80f4-7b9c6028b895\"\n",
      "            },\n",
      "            \"sop_guids\": [\n",
      "                \"bc42a1ae-d22c-4d27-bf61-c4bf7a96bda2\"\n",
      "            ],\n",
      "            \"geometries\": {\n",
      "                \"geo_paths\": [\n",
      "                    \"TheBodyD/TheFaceF\"\n",
      "                ]\n",
      "            },\n",
      "            \"description\": \"\",\n",
      "            \"sops\": [\n",
      "                {\n",
      "                    \"name\": \"Material.FOP.SOP\",\n",
      "                    \"mirror\": {\n",
      "                        \"reflectance\": 90.0\n",
      "                    },\n",
      "                    \"description\": \"\",\n",
      "                    \"metadata\": {}\n",
      "                }\n",
      "            ]\n",
      "        },\n",
      "        {\n",
      "            \"name\": \"Material.3\",\n",
      "            \"metadata\": {\n",
      "                \"UniqueId\": \"374283f3-2a7f-47c6-b8f8-7cb4c622e616\"\n",
      "            },\n",
      "            \"sop_guids\": [\n",
      "                \"b8bb9516-6497-4a9e-94cf-2cb55f1cbc7f\"\n",
      "            ],\n",
      "            \"description\": \"\",\n",
      "            \"sops\": [\n",
      "                {\n",
      "                    \"name\": \"Material.3.SOP\",\n",
      "                    \"mirror\": {\n",
      "                        \"reflectance\": 100.0\n",
      "                    },\n",
      "                    \"description\": \"\",\n",
      "                    \"metadata\": {}\n",
      "                }\n",
      "            ]\n",
      "        }\n",
      "    ],\n",
      "    \"name\": \"\",\n",
      "    \"description\": \"\",\n",
      "    \"metadata\": {},\n",
      "    \"part_guid\": \"\",\n",
      "    \"sources\": [],\n",
      "    \"sensors\": [],\n",
      "    \"simulations\": [],\n",
      "    \"scenes\": []\n",
      "}\n"
     ]
    }
   ],
   "source": [
    "print(p)"
   ]
  },
  {
   "cell_type": "markdown",
   "id": "a3a9ef2b",
   "metadata": {},
   "source": [
    "## Update"
   ]
  },
  {
   "cell_type": "markdown",
   "id": "f5665836",
   "metadata": {},
   "source": [
    "Tipp: if you are manipulating an optical property already committed, don't forget to commit your\n",
    "changes."
   ]
  },
  {
   "cell_type": "markdown",
   "id": "2a519bbd",
   "metadata": {},
   "source": [
    "If you don't, you will still only watch what is committed on the server."
   ]
  },
  {
   "cell_type": "code",
   "execution_count": 12,
   "id": "db1e2df0",
   "metadata": {
    "execution": {
     "iopub.execute_input": "2025-03-28T09:25:47.285787Z",
     "iopub.status.busy": "2025-03-28T09:25:47.285412Z",
     "iopub.status.idle": "2025-03-28T09:25:47.298719Z",
     "shell.execute_reply": "2025-03-28T09:25:47.298069Z"
    }
   },
   "outputs": [
    {
     "name": "stdout",
     "output_type": "stream",
     "text": [
      "op1 surface type before update: {'name': 'Material.1.SOP', 'mirror': {'reflectance': 80.0}, 'description': '', 'metadata': {}}\n",
      "{\n",
      "    \"name\": \"Material.1\",\n",
      "    \"metadata\": {\n",
      "        \"UniqueId\": \"d5c039f6-1944-43bb-9edb-cd6c84cc9f66\"\n",
      "    },\n",
      "    \"vop_guid\": \"d97d6f97-c4f2-4980-87f3-7a0ede453ac7\",\n",
      "    \"sop_guids\": [\n",
      "        \"50ce05c4-8904-4439-b0a8-5d0a0e3d51ea\"\n",
      "    ],\n",
      "    \"geometries\": {\n",
      "        \"geo_paths\": [\n",
      "            \"TheBodyB\",\n",
      "            \"TheBodyC\"\n",
      "        ]\n",
      "    },\n",
      "    \"description\": \"\",\n",
      "    \"vop\": {\n",
      "        \"name\": \"Material.1.VOP\",\n",
      "        \"optic\": {\n",
      "            \"index\": 1.5,\n",
      "            \"absorption\": 0.0\n",
      "        },\n",
      "        \"description\": \"\",\n",
      "        \"metadata\": {}\n",
      "    },\n",
      "    \"sops\": [\n",
      "        {\n",
      "            \"name\": \"Material.1.SOP\",\n",
      "            \"optical_polished\": {},\n",
      "            \"description\": \"\",\n",
      "            \"metadata\": {}\n",
      "        }\n",
      "    ]\n",
      "}\n",
      "op1 surface type after update: {'name': 'Material.1.SOP', 'optical_polished': {}, 'description': '', 'metadata': {}}\n"
     ]
    }
   ],
   "source": [
    "print(\"op1 surface type before update: {}\".format(op1.get(key=\"sops\")[0]))\n",
    "op1.set_volume_optic().set_surface_opticalpolished().commit()\n",
    "print(op1)\n",
    "print(\"op1 surface type after update: {}\".format(op1.get(key=\"sops\")[0]))"
   ]
  },
  {
   "cell_type": "markdown",
   "id": "fa68d523",
   "metadata": {},
   "source": [
    "## Reset"
   ]
  },
  {
   "cell_type": "markdown",
   "id": "e2599b58",
   "metadata": {},
   "source": [
    "Possibility to reset local values from the one available in the server."
   ]
  },
  {
   "cell_type": "code",
   "execution_count": 13,
   "id": "0396fbcc",
   "metadata": {
    "execution": {
     "iopub.execute_input": "2025-03-28T09:25:47.300892Z",
     "iopub.status.busy": "2025-03-28T09:25:47.300515Z",
     "iopub.status.idle": "2025-03-28T09:25:47.306505Z",
     "shell.execute_reply": "2025-03-28T09:25:47.305983Z"
    }
   },
   "outputs": [
    {
     "name": "stdout",
     "output_type": "stream",
     "text": [
      "local: {\n",
      "    \"name\": \"Material.1\",\n",
      "    \"vop_guid\": \"\",\n",
      "    \"geometries\": {\n",
      "        \"geo_paths\": [\n",
      "            \"TheBodyB\",\n",
      "            \"TheBodyC\"\n",
      "        ]\n",
      "    },\n",
      "    \"description\": \"\",\n",
      "    \"metadata\": {},\n",
      "    \"sop_guids\": [],\n",
      "    \"vop\": {\n",
      "        \"name\": \"Material.1.VOP\",\n",
      "        \"optic\": {\n",
      "            \"index\": 1.5,\n",
      "            \"absorption\": 0.0\n",
      "        },\n",
      "        \"description\": \"\",\n",
      "        \"metadata\": {}\n",
      "    },\n",
      "    \"sops\": [\n",
      "        {\n",
      "            \"name\": \"Material.1.SOP\",\n",
      "            \"optical_polished\": {},\n",
      "            \"description\": \"\",\n",
      "            \"metadata\": {}\n",
      "        }\n",
      "    ]\n",
      "}\n"
     ]
    }
   ],
   "source": [
    "op1.set_surface_mirror()  # set surface as a mirror but no commit\n",
    "op1.reset()  # reset -> this will apply the server value to the local value\n",
    "op1.delete()  # delete (to display the local value with the below print)\n",
    "print(op1)"
   ]
  },
  {
   "cell_type": "markdown",
   "id": "bd6a1697",
   "metadata": {},
   "source": [
    "## Delete"
   ]
  },
  {
   "cell_type": "markdown",
   "id": "acf14d67",
   "metadata": {},
   "source": [
    "Once the data is deleted from the server, you can still work with local data and maybe commit\n",
    "later."
   ]
  },
  {
   "cell_type": "code",
   "execution_count": 14,
   "id": "5bc2450a",
   "metadata": {
    "execution": {
     "iopub.execute_input": "2025-03-28T09:25:47.308659Z",
     "iopub.status.busy": "2025-03-28T09:25:47.308213Z",
     "iopub.status.idle": "2025-03-28T09:25:47.313123Z",
     "shell.execute_reply": "2025-03-28T09:25:47.312553Z"
    }
   },
   "outputs": [
    {
     "name": "stdout",
     "output_type": "stream",
     "text": [
      "local: {\n",
      "    \"name\": \"Material.2\",\n",
      "    \"vop_guid\": \"\",\n",
      "    \"geometries\": {\n",
      "        \"geo_paths\": [\n",
      "            \"TheBodyD\",\n",
      "            \"TheBodyE\"\n",
      "        ]\n",
      "    },\n",
      "    \"description\": \"\",\n",
      "    \"metadata\": {},\n",
      "    \"sop_guids\": [],\n",
      "    \"vop\": {\n",
      "        \"name\": \"Material.2.VOP\",\n",
      "        \"library\": {\n",
      "            \"material_file_uri\": \"/app/assets/AIR.material\"\n",
      "        },\n",
      "        \"description\": \"\",\n",
      "        \"metadata\": {}\n",
      "    },\n",
      "    \"sops\": [\n",
      "        {\n",
      "            \"name\": \"Material.2.SOP\",\n",
      "            \"optical_polished\": {},\n",
      "            \"description\": \"\",\n",
      "            \"metadata\": {}\n",
      "        }\n",
      "    ]\n",
      "}\n"
     ]
    }
   ],
   "source": [
    "op2.delete()\n",
    "print(op2)"
   ]
  },
  {
   "cell_type": "code",
   "execution_count": 15,
   "id": "20527591",
   "metadata": {
    "execution": {
     "iopub.execute_input": "2025-03-28T09:25:47.314882Z",
     "iopub.status.busy": "2025-03-28T09:25:47.314662Z",
     "iopub.status.idle": "2025-03-28T09:25:47.323209Z",
     "shell.execute_reply": "2025-03-28T09:25:47.322677Z"
    }
   },
   "outputs": [
    {
     "data": {
      "text/plain": [
       "<ansys.speos.core.opt_prop.OptProp at 0x7fd9822338b0>"
      ]
     },
     "execution_count": 15,
     "metadata": {},
     "output_type": "execute_result"
    }
   ],
   "source": [
    "op1.delete()\n",
    "op3.delete()\n",
    "op4.delete()"
   ]
  }
 ],
 "metadata": {
  "jupytext": {
   "cell_metadata_filter": "-all",
   "main_language": "python",
   "notebook_metadata_filter": "-all",
   "text_representation": {
    "extension": ".py",
    "format_name": "light"
   }
  },
  "language_info": {
   "codemirror_mode": {
    "name": "ipython",
    "version": 3
   },
   "file_extension": ".py",
   "mimetype": "text/x-python",
   "name": "python",
   "nbconvert_exporter": "python",
   "pygments_lexer": "ipython3",
   "version": "3.10.16"
  }
 },
 "nbformat": 4,
 "nbformat_minor": 5
}
