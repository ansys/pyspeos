{
 "cells": [
  {
   "cell_type": "markdown",
   "id": "04db7803",
   "metadata": {},
   "source": [
    "# How to create a part"
   ]
  },
  {
   "cell_type": "markdown",
   "id": "557cb81c",
   "metadata": {},
   "source": [
    "This tutorial demonstrates how to create a part."
   ]
  },
  {
   "cell_type": "markdown",
   "id": "7769c949",
   "metadata": {},
   "source": [
    "## What is a part?"
   ]
  },
  {
   "cell_type": "markdown",
   "id": "f5ce14c5",
   "metadata": {},
   "source": [
    "A part is either a volume or a face type bodies that are defined by a number of mesh triangles."
   ]
  },
  {
   "cell_type": "markdown",
   "id": "17a02b30",
   "metadata": {},
   "source": [
    "Then a material optical property can be then applied to a part (like bodies, faces)."
   ]
  },
  {
   "cell_type": "code",
   "execution_count": 1,
   "id": "0f111a5f",
   "metadata": {
    "execution": {
     "iopub.execute_input": "2025-03-28T09:25:49.573531Z",
     "iopub.status.busy": "2025-03-28T09:25:49.573322Z",
     "iopub.status.idle": "2025-03-28T09:25:50.153587Z",
     "shell.execute_reply": "2025-03-28T09:25:50.152948Z"
    }
   },
   "outputs": [],
   "source": [
    "from pathlib import Path\n",
    "\n",
    "from ansys.speos.core import Body, Face, Part, Project, Speos\n",
    "\n",
    "# If using docker container\n",
    "assets_data_path = Path(\"/app\") / \"assets\"\n",
    "# If using local server\n",
    "# assets_data_path = Path().resolve().parent.parent / \"tests\" / \"assets\"\n",
    "# If using a different path\n",
    "# assets_data_path = Path(\"path/to/downloaded/example/assets\")"
   ]
  },
  {
   "cell_type": "markdown",
   "id": "84a5f8a8",
   "metadata": {},
   "source": [
    "## Create connection with speos rpc server"
   ]
  },
  {
   "cell_type": "code",
   "execution_count": 2,
   "id": "f261f4e3",
   "metadata": {
    "execution": {
     "iopub.execute_input": "2025-03-28T09:25:50.156109Z",
     "iopub.status.busy": "2025-03-28T09:25:50.155616Z",
     "iopub.status.idle": "2025-03-28T09:25:50.162048Z",
     "shell.execute_reply": "2025-03-28T09:25:50.161486Z"
    }
   },
   "outputs": [],
   "source": [
    "speos = Speos(host=\"localhost\", port=50098)"
   ]
  },
  {
   "cell_type": "markdown",
   "id": "1f3a154a",
   "metadata": {},
   "source": [
    "## New Project"
   ]
  },
  {
   "cell_type": "markdown",
   "id": "10d3bb80",
   "metadata": {},
   "source": [
    "The only way to create an optical property, is to create it from a project."
   ]
  },
  {
   "cell_type": "code",
   "execution_count": 3,
   "id": "0a2586bd",
   "metadata": {
    "execution": {
     "iopub.execute_input": "2025-03-28T09:25:50.164080Z",
     "iopub.status.busy": "2025-03-28T09:25:50.163667Z",
     "iopub.status.idle": "2025-03-28T09:25:50.169774Z",
     "shell.execute_reply": "2025-03-28T09:25:50.169225Z"
    }
   },
   "outputs": [
    {
     "name": "stdout",
     "output_type": "stream",
     "text": [
      "{\n",
      "    \"name\": \"\",\n",
      "    \"description\": \"\",\n",
      "    \"metadata\": {},\n",
      "    \"part_guid\": \"\",\n",
      "    \"sources\": [],\n",
      "    \"sensors\": [],\n",
      "    \"simulations\": [],\n",
      "    \"materials\": [],\n",
      "    \"scenes\": []\n",
      "}\n"
     ]
    }
   ],
   "source": [
    "p = Project(speos=speos)\n",
    "print(p)"
   ]
  },
  {
   "cell_type": "markdown",
   "id": "bdc1a8a2",
   "metadata": {},
   "source": [
    "## Create"
   ]
  },
  {
   "cell_type": "markdown",
   "id": "eafcad8e",
   "metadata": {},
   "source": [
    "Before creating a body, a Root part needs to be created and committed."
   ]
  },
  {
   "cell_type": "code",
   "execution_count": 4,
   "id": "3f24c942",
   "metadata": {
    "execution": {
     "iopub.execute_input": "2025-03-28T09:25:50.171752Z",
     "iopub.status.busy": "2025-03-28T09:25:50.171397Z",
     "iopub.status.idle": "2025-03-28T09:25:50.176427Z",
     "shell.execute_reply": "2025-03-28T09:25:50.175864Z"
    }
   },
   "outputs": [
    {
     "name": "stdout",
     "output_type": "stream",
     "text": [
      "{\n",
      "    \"name\": \"RootPart\",\n",
      "    \"description\": \"\",\n",
      "    \"metadata\": {},\n",
      "    \"body_guids\": [],\n",
      "    \"parts\": []\n",
      "}\n"
     ]
    }
   ],
   "source": [
    "root_part = p.create_root_part().commit()\n",
    "print(root_part)"
   ]
  },
  {
   "cell_type": "markdown",
   "id": "74fbe785",
   "metadata": {},
   "source": [
    "### Create bodies in root part.\n",
    "A body can either a volume or face type. Both use the method named \"create_body\"."
   ]
  },
  {
   "cell_type": "code",
   "execution_count": 5,
   "id": "96569a6c",
   "metadata": {
    "execution": {
     "iopub.execute_input": "2025-03-28T09:25:50.178432Z",
     "iopub.status.busy": "2025-03-28T09:25:50.178057Z",
     "iopub.status.idle": "2025-03-28T09:25:50.192514Z",
     "shell.execute_reply": "2025-03-28T09:25:50.191902Z"
    }
   },
   "outputs": [
    {
     "name": "stdout",
     "output_type": "stream",
     "text": [
      "{\n",
      "    \"name\": \"RootPart\",\n",
      "    \"body_guids\": [\n",
      "        \"99e0a1f1-99dd-4304-81fb-f24c9240a5a9\",\n",
      "        \"24a16163-beed-43db-b129-93d94b6d1c28\"\n",
      "    ],\n",
      "    \"description\": \"\",\n",
      "    \"metadata\": {},\n",
      "    \"parts\": [],\n",
      "    \"bodys\": [\n",
      "        {\n",
      "            \"name\": \"TheBodyB1\",\n",
      "            \"description\": \"\",\n",
      "            \"metadata\": {},\n",
      "            \"face_guids\": []\n",
      "        },\n",
      "        {\n",
      "            \"name\": \"TheBodyB2\",\n",
      "            \"description\": \"\",\n",
      "            \"metadata\": {},\n",
      "            \"face_guids\": []\n",
      "        }\n",
      "    ]\n",
      "}\n"
     ]
    }
   ],
   "source": [
    "body_b1 = root_part.create_body(name=\"TheBodyB1\").commit()\n",
    "body_b2 = root_part.create_body(name=\"TheBodyB2\").commit()\n",
    "print(root_part)"
   ]
  },
  {
   "cell_type": "markdown",
   "id": "6f779f62",
   "metadata": {},
   "source": [
    "### Create faces inside a body.\n",
    "A body can have one (example, surface/open-volume type of body) or multiple faces\n",
    "(close-volume type of body)."
   ]
  },
  {
   "cell_type": "markdown",
   "id": "7c753cec",
   "metadata": {},
   "source": [
    "Each face is then defined by a number of triangles/facets."
   ]
  },
  {
   "cell_type": "markdown",
   "id": "ad4273c6",
   "metadata": {},
   "source": [
    "Each triangle/facet is defined by vertices and vertice normals."
   ]
  },
  {
   "cell_type": "code",
   "execution_count": 6,
   "id": "8643a8f9",
   "metadata": {
    "execution": {
     "iopub.execute_input": "2025-03-28T09:25:50.195039Z",
     "iopub.status.busy": "2025-03-28T09:25:50.194593Z",
     "iopub.status.idle": "2025-03-28T09:25:50.214361Z",
     "shell.execute_reply": "2025-03-28T09:25:50.213838Z"
    }
   },
   "outputs": [
    {
     "name": "stdout",
     "output_type": "stream",
     "text": [
      "{\n",
      "    \"name\": \"RootPart\",\n",
      "    \"body_guids\": [\n",
      "        \"99e0a1f1-99dd-4304-81fb-f24c9240a5a9\",\n",
      "        \"24a16163-beed-43db-b129-93d94b6d1c28\"\n",
      "    ],\n",
      "    \"description\": \"\",\n",
      "    \"metadata\": {},\n",
      "    \"parts\": [],\n",
      "    \"bodys\": [\n",
      "        {\n",
      "            \"name\": \"TheBodyB1\",\n",
      "            \"face_guids\": [\n",
      "                \"8fe07862-b57d-4923-a154-a6651c7f7f51\"\n",
      "            ],\n",
      "            \"description\": \"\",\n",
      "            \"metadata\": {},\n",
      "            \"faces\": [\n",
      "                {\n",
      "                    \"name\": \"TheFaceF1\",\n",
      "                    \"vertices\": [\n",
      "                        0.0,\n",
      "                        0.0,\n",
      "                        0.0,\n",
      "                        1.0,\n",
      "                        0.0,\n",
      "                        0.0,\n",
      "                        0.0,\n",
      "                        1.0,\n",
      "                        0.0\n",
      "                    ],\n",
      "                    \"facets\": [\n",
      "                        0,\n",
      "                        1,\n",
      "                        2\n",
      "                    ],\n",
      "                    \"normals\": [\n",
      "                        0.0,\n",
      "                        0.0,\n",
      "                        1.0,\n",
      "                        0.0,\n",
      "                        0.0,\n",
      "                        1.0,\n",
      "                        0.0,\n",
      "                        0.0,\n",
      "                        1.0\n",
      "                    ],\n",
      "                    \"description\": \"\",\n",
      "                    \"metadata\": {},\n",
      "                    \"texture_coordinates_channels\": []\n",
      "                }\n",
      "            ]\n",
      "        },\n",
      "        {\n",
      "            \"name\": \"TheBodyB2\",\n",
      "            \"description\": \"\",\n",
      "            \"metadata\": {},\n",
      "            \"face_guids\": []\n",
      "        }\n",
      "    ]\n",
      "}\n"
     ]
    }
   ],
   "source": [
    "face_b1_f1 = (\n",
    "    body_b1.create_face(name=\"TheFaceF1\")\n",
    "    .set_vertices([0, 0, 0, 1, 0, 0, 0, 1, 0])\n",
    "    .set_facets([0, 1, 2])\n",
    "    .set_normals([0, 0, 1, 0, 0, 1, 0, 0, 1])\n",
    "    .commit()\n",
    ")\n",
    "print(root_part)"
   ]
  },
  {
   "cell_type": "markdown",
   "id": "debffded",
   "metadata": {},
   "source": [
    "### Create bodies in sub part."
   ]
  },
  {
   "cell_type": "markdown",
   "id": "4239d5c5",
   "metadata": {},
   "source": [
    "Part can also be created under a sub-part."
   ]
  },
  {
   "cell_type": "markdown",
   "id": "056fc422",
   "metadata": {},
   "source": [
    "The location sub-part can be defined using set_axis_system method."
   ]
  },
  {
   "cell_type": "code",
   "execution_count": 7,
   "id": "2c441161",
   "metadata": {
    "execution": {
     "iopub.execute_input": "2025-03-28T09:25:50.216406Z",
     "iopub.status.busy": "2025-03-28T09:25:50.216105Z",
     "iopub.status.idle": "2025-03-28T09:25:50.237771Z",
     "shell.execute_reply": "2025-03-28T09:25:50.237164Z"
    }
   },
   "outputs": [
    {
     "name": "stdout",
     "output_type": "stream",
     "text": [
      "{\n",
      "    \"name\": \"RootPart\",\n",
      "    \"body_guids\": [\n",
      "        \"99e0a1f1-99dd-4304-81fb-f24c9240a5a9\",\n",
      "        \"24a16163-beed-43db-b129-93d94b6d1c28\"\n",
      "    ],\n",
      "    \"parts\": [\n",
      "        {\n",
      "            \"name\": \"TheSubPartSP1\",\n",
      "            \"description\": \"UniqueId_9b448726-8923-48f9-8249-4dbc2e93acdb\",\n",
      "            \"part_guid\": \"3b197b63-433a-41ce-a85a-c5d7d02f6fbc\",\n",
      "            \"axis_system\": [\n",
      "                5.0,\n",
      "                5.0,\n",
      "                5.0,\n",
      "                1.0,\n",
      "                0.0,\n",
      "                0.0,\n",
      "                0.0,\n",
      "                1.0,\n",
      "                0.0,\n",
      "                0.0,\n",
      "                0.0,\n",
      "                1.0\n",
      "            ],\n",
      "            \"part\": {\n",
      "                \"name\": \"TheSubPartSP1\",\n",
      "                \"description\": \"\",\n",
      "                \"metadata\": {},\n",
      "                \"body_guids\": [],\n",
      "                \"parts\": []\n",
      "            }\n",
      "        }\n",
      "    ],\n",
      "    \"description\": \"\",\n",
      "    \"metadata\": {},\n",
      "    \"bodys\": [\n",
      "        {\n",
      "            \"name\": \"TheBodyB1\",\n",
      "            \"face_guids\": [\n",
      "                \"8fe07862-b57d-4923-a154-a6651c7f7f51\"\n",
      "            ],\n",
      "            \"description\": \"\",\n",
      "            \"metadata\": {},\n",
      "            \"faces\": [\n",
      "                {\n",
      "                    \"name\": \"TheFaceF1\",\n",
      "                    \"vertices\": [\n",
      "                        0.0,\n",
      "                        0.0,\n",
      "                        0.0,\n",
      "                        1.0,\n",
      "                        0.0,\n",
      "                        0.0,\n",
      "                        0.0,\n",
      "                        1.0,\n",
      "                        0.0\n",
      "                    ],\n",
      "                    \"facets\": [\n",
      "                        0,\n",
      "                        1,\n",
      "                        2\n",
      "                    ],\n",
      "                    \"normals\": [\n",
      "                        0.0,\n",
      "                        0.0,\n",
      "                        1.0,\n",
      "                        0.0,\n",
      "                        0.0,\n",
      "                        1.0,\n",
      "                        0.0,\n",
      "                        0.0,\n",
      "                        1.0\n",
      "                    ],\n",
      "                    \"description\": \"\",\n",
      "                    \"metadata\": {},\n",
      "                    \"texture_coordinates_channels\": []\n",
      "                }\n",
      "            ]\n",
      "        },\n",
      "        {\n",
      "            \"name\": \"TheBodyB2\",\n",
      "            \"description\": \"\",\n",
      "            \"metadata\": {},\n",
      "            \"face_guids\": []\n",
      "        }\n",
      "    ]\n",
      "}\n"
     ]
    }
   ],
   "source": [
    "sub_part1 = (\n",
    "    root_part.create_sub_part(name=\"TheSubPartSP1\")\n",
    "    .set_axis_system(axis_system=[5, 5, 5, 1, 0, 0, 0, 1, 0, 0, 0, 1])\n",
    "    .commit()\n",
    ")\n",
    "print(root_part)"
   ]
  },
  {
   "cell_type": "markdown",
   "id": "bc63dc3f",
   "metadata": {},
   "source": [
    "### Create body and faces in sub part body"
   ]
  },
  {
   "cell_type": "code",
   "execution_count": 8,
   "id": "485cb2aa",
   "metadata": {
    "execution": {
     "iopub.execute_input": "2025-03-28T09:25:50.239751Z",
     "iopub.status.busy": "2025-03-28T09:25:50.239393Z",
     "iopub.status.idle": "2025-03-28T09:25:50.291428Z",
     "shell.execute_reply": "2025-03-28T09:25:50.290890Z"
    }
   },
   "outputs": [
    {
     "name": "stdout",
     "output_type": "stream",
     "text": [
      "{\n",
      "    \"name\": \"RootPart\",\n",
      "    \"body_guids\": [\n",
      "        \"99e0a1f1-99dd-4304-81fb-f24c9240a5a9\",\n",
      "        \"24a16163-beed-43db-b129-93d94b6d1c28\"\n",
      "    ],\n",
      "    \"parts\": [\n",
      "        {\n",
      "            \"name\": \"TheSubPartSP1\",\n",
      "            \"description\": \"UniqueId_9b448726-8923-48f9-8249-4dbc2e93acdb\",\n",
      "            \"part_guid\": \"3b197b63-433a-41ce-a85a-c5d7d02f6fbc\",\n",
      "            \"axis_system\": [\n",
      "                5.0,\n",
      "                5.0,\n",
      "                5.0,\n",
      "                1.0,\n",
      "                0.0,\n",
      "                0.0,\n",
      "                0.0,\n",
      "                1.0,\n",
      "                0.0,\n",
      "                0.0,\n",
      "                0.0,\n",
      "                1.0\n",
      "            ],\n",
      "            \"part\": {\n",
      "                \"name\": \"TheSubPartSP1\",\n",
      "                \"body_guids\": [\n",
      "                    \"c5f30eb4-ea2e-4011-8b9d-43671a886b56\"\n",
      "                ],\n",
      "                \"description\": \"\",\n",
      "                \"metadata\": {},\n",
      "                \"parts\": [],\n",
      "                \"bodys\": [\n",
      "                    {\n",
      "                        \"name\": \"TheBodySP1_B1\",\n",
      "                        \"description\": \"\",\n",
      "                        \"metadata\": {},\n",
      "                        \"face_guids\": []\n",
      "                    }\n",
      "                ]\n",
      "            }\n",
      "        }\n",
      "    ],\n",
      "    \"description\": \"\",\n",
      "    \"metadata\": {},\n",
      "    \"bodys\": [\n",
      "        {\n",
      "            \"name\": \"TheBodyB1\",\n",
      "            \"face_guids\": [\n",
      "                \"8fe07862-b57d-4923-a154-a6651c7f7f51\"\n",
      "            ],\n",
      "            \"description\": \"\",\n",
      "            \"metadata\": {},\n",
      "            \"faces\": [\n",
      "                {\n",
      "                    \"name\": \"TheFaceF1\",\n",
      "                    \"vertices\": [\n",
      "                        0.0,\n",
      "                        0.0,\n",
      "                        0.0,\n",
      "                        1.0,\n",
      "                        0.0,\n",
      "                        0.0,\n",
      "                        0.0,\n",
      "                        1.0,\n",
      "                        0.0\n",
      "                    ],\n",
      "                    \"facets\": [\n",
      "                        0,\n",
      "                        1,\n",
      "                        2\n",
      "                    ],\n",
      "                    \"normals\": [\n",
      "                        0.0,\n",
      "                        0.0,\n",
      "                        1.0,\n",
      "                        0.0,\n",
      "                        0.0,\n",
      "                        1.0,\n",
      "                        0.0,\n",
      "                        0.0,\n",
      "                        1.0\n",
      "                    ],\n",
      "                    \"description\": \"\",\n",
      "                    \"metadata\": {},\n",
      "                    \"texture_coordinates_channels\": []\n",
      "                }\n",
      "            ]\n",
      "        },\n",
      "        {\n",
      "            \"name\": \"TheBodyB2\",\n",
      "            \"description\": \"\",\n",
      "            \"metadata\": {},\n",
      "            \"face_guids\": []\n",
      "        }\n",
      "    ]\n",
      "}\n",
      "{\n",
      "    \"name\": \"RootPart\",\n",
      "    \"body_guids\": [\n",
      "        \"99e0a1f1-99dd-4304-81fb-f24c9240a5a9\",\n",
      "        \"24a16163-beed-43db-b129-93d94b6d1c28\"\n",
      "    ],\n",
      "    \"parts\": [\n",
      "        {\n",
      "            \"name\": \"TheSubPartSP1\",\n",
      "            \"description\": \"UniqueId_9b448726-8923-48f9-8249-4dbc2e93acdb\",\n",
      "            \"part_guid\": \"3b197b63-433a-41ce-a85a-c5d7d02f6fbc\",\n",
      "            \"axis_system\": [\n",
      "                5.0,\n",
      "                5.0,\n",
      "                5.0,\n",
      "                1.0,\n",
      "                0.0,\n",
      "                0.0,\n",
      "                0.0,\n",
      "                1.0,\n",
      "                0.0,\n",
      "                0.0,\n",
      "                0.0,\n",
      "                1.0\n",
      "            ],\n",
      "            \"part\": {\n",
      "                \"name\": \"TheSubPartSP1\",\n",
      "                \"body_guids\": [\n",
      "                    \"c5f30eb4-ea2e-4011-8b9d-43671a886b56\"\n",
      "                ],\n",
      "                \"description\": \"\",\n",
      "                \"metadata\": {},\n",
      "                \"parts\": [],\n",
      "                \"bodys\": [\n",
      "                    {\n",
      "                        \"name\": \"TheBodySP1_B1\",\n",
      "                        \"face_guids\": [\n",
      "                            \"4d5778ba-230a-4659-a1cb-e9e0ef1515d7\"\n",
      "                        ],\n",
      "                        \"description\": \"\",\n",
      "                        \"metadata\": {},\n",
      "                        \"faces\": [\n",
      "                            {\n",
      "                                \"name\": \"TheFaceSP1_B1_F1\",\n",
      "                                \"vertices\": [\n",
      "                                    0.0,\n",
      "                                    1.0,\n",
      "                                    0.0,\n",
      "                                    0.0,\n",
      "                                    2.0,\n",
      "                                    0.0,\n",
      "                                    1.0,\n",
      "                                    2.0,\n",
      "                                    0.0\n",
      "                                ],\n",
      "                                \"facets\": [\n",
      "                                    0,\n",
      "                                    1,\n",
      "                                    2\n",
      "                                ],\n",
      "                                \"normals\": [\n",
      "                                    0.0,\n",
      "                                    0.0,\n",
      "                                    1.0,\n",
      "                                    0.0,\n",
      "                                    0.0,\n",
      "                                    1.0,\n",
      "                                    0.0,\n",
      "                                    0.0,\n",
      "                                    1.0\n",
      "                                ],\n",
      "                                \"description\": \"\",\n",
      "                                \"metadata\": {},\n",
      "                                \"texture_coordinates_channels\": []\n",
      "                            }\n",
      "                        ]\n",
      "                    }\n",
      "                ]\n",
      "            }\n",
      "        }\n",
      "    ],\n",
      "    \"description\": \"\",\n",
      "    \"metadata\": {},\n",
      "    \"bodys\": [\n",
      "        {\n",
      "            \"name\": \"TheBodyB1\",\n",
      "            \"face_guids\": [\n",
      "                \"8fe07862-b57d-4923-a154-a6651c7f7f51\"\n",
      "            ],\n",
      "            \"description\": \"\",\n",
      "            \"metadata\": {},\n",
      "            \"faces\": [\n",
      "                {\n",
      "                    \"name\": \"TheFaceF1\",\n",
      "                    \"vertices\": [\n",
      "                        0.0,\n",
      "                        0.0,\n",
      "                        0.0,\n",
      "                        1.0,\n",
      "                        0.0,\n",
      "                        0.0,\n",
      "                        0.0,\n",
      "                        1.0,\n",
      "                        0.0\n",
      "                    ],\n",
      "                    \"facets\": [\n",
      "                        0,\n",
      "                        1,\n",
      "                        2\n",
      "                    ],\n",
      "                    \"normals\": [\n",
      "                        0.0,\n",
      "                        0.0,\n",
      "                        1.0,\n",
      "                        0.0,\n",
      "                        0.0,\n",
      "                        1.0,\n",
      "                        0.0,\n",
      "                        0.0,\n",
      "                        1.0\n",
      "                    ],\n",
      "                    \"description\": \"\",\n",
      "                    \"metadata\": {},\n",
      "                    \"texture_coordinates_channels\": []\n",
      "                }\n",
      "            ]\n",
      "        },\n",
      "        {\n",
      "            \"name\": \"TheBodyB2\",\n",
      "            \"description\": \"\",\n",
      "            \"metadata\": {},\n",
      "            \"face_guids\": []\n",
      "        }\n",
      "    ]\n",
      "}\n"
     ]
    }
   ],
   "source": [
    "body_sp1_b1 = sub_part1.create_body(name=\"TheBodySP1_B1\").commit()\n",
    "print(root_part)\n",
    "face_sp1_b1_f1 = (\n",
    "    body_sp1_b1.create_face(name=\"TheFaceSP1_B1_F1\")\n",
    "    .set_vertices([0, 1, 0, 0, 2, 0, 1, 2, 0])\n",
    "    .set_facets([0, 1, 2])\n",
    "    .set_normals([0, 0, 1, 0, 0, 1, 0, 0, 1])\n",
    "    .commit()\n",
    ")\n",
    "print(root_part)\n",
    "# -"
   ]
  },
  {
   "cell_type": "markdown",
   "id": "d2180541",
   "metadata": {},
   "source": [
    "### Create sub parts in sub part"
   ]
  },
  {
   "cell_type": "code",
   "execution_count": 9,
   "id": "25e82bad",
   "metadata": {
    "execution": {
     "iopub.execute_input": "2025-03-28T09:25:50.293388Z",
     "iopub.status.busy": "2025-03-28T09:25:50.293027Z",
     "iopub.status.idle": "2025-03-28T09:25:50.326447Z",
     "shell.execute_reply": "2025-03-28T09:25:50.325828Z"
    }
   },
   "outputs": [
    {
     "name": "stdout",
     "output_type": "stream",
     "text": [
      "{\n",
      "    \"name\": \"RootPart\",\n",
      "    \"body_guids\": [\n",
      "        \"99e0a1f1-99dd-4304-81fb-f24c9240a5a9\",\n",
      "        \"24a16163-beed-43db-b129-93d94b6d1c28\"\n",
      "    ],\n",
      "    \"parts\": [\n",
      "        {\n",
      "            \"name\": \"TheSubPartSP1\",\n",
      "            \"description\": \"UniqueId_9b448726-8923-48f9-8249-4dbc2e93acdb\",\n",
      "            \"part_guid\": \"3b197b63-433a-41ce-a85a-c5d7d02f6fbc\",\n",
      "            \"axis_system\": [\n",
      "                5.0,\n",
      "                5.0,\n",
      "                5.0,\n",
      "                1.0,\n",
      "                0.0,\n",
      "                0.0,\n",
      "                0.0,\n",
      "                1.0,\n",
      "                0.0,\n",
      "                0.0,\n",
      "                0.0,\n",
      "                1.0\n",
      "            ],\n",
      "            \"part\": {\n",
      "                \"name\": \"TheSubPartSP1\",\n",
      "                \"body_guids\": [\n",
      "                    \"c5f30eb4-ea2e-4011-8b9d-43671a886b56\"\n",
      "                ],\n",
      "                \"parts\": [\n",
      "                    {\n",
      "                        \"name\": \"TheSubPartSP11\",\n",
      "                        \"description\": \"UniqueId_3e37831b-e7e2-4c35-9319-bf5ef7f7d307\",\n",
      "                        \"part_guid\": \"928971bf-a119-4af5-a76e-d60fa5b88cdd\",\n",
      "                        \"axis_system\": [\n",
      "                            1.0,\n",
      "                            1.0,\n",
      "                            1.0,\n",
      "                            1.0,\n",
      "                            0.0,\n",
      "                            0.0,\n",
      "                            0.0,\n",
      "                            1.0,\n",
      "                            0.0,\n",
      "                            0.0,\n",
      "                            0.0,\n",
      "                            1.0\n",
      "                        ],\n",
      "                        \"part\": {\n",
      "                            \"name\": \"TheSubPartSP11\",\n",
      "                            \"description\": \"\",\n",
      "                            \"metadata\": {},\n",
      "                            \"body_guids\": [],\n",
      "                            \"parts\": []\n",
      "                        }\n",
      "                    }\n",
      "                ],\n",
      "                \"description\": \"\",\n",
      "                \"metadata\": {},\n",
      "                \"bodys\": [\n",
      "                    {\n",
      "                        \"name\": \"TheBodySP1_B1\",\n",
      "                        \"face_guids\": [\n",
      "                            \"4d5778ba-230a-4659-a1cb-e9e0ef1515d7\"\n",
      "                        ],\n",
      "                        \"description\": \"\",\n",
      "                        \"metadata\": {},\n",
      "                        \"faces\": [\n",
      "                            {\n",
      "                                \"name\": \"TheFaceSP1_B1_F1\",\n",
      "                                \"vertices\": [\n",
      "                                    0.0,\n",
      "                                    1.0,\n",
      "                                    0.0,\n",
      "                                    0.0,\n",
      "                                    2.0,\n",
      "                                    0.0,\n",
      "                                    1.0,\n",
      "                                    2.0,\n",
      "                                    0.0\n",
      "                                ],\n",
      "                                \"facets\": [\n",
      "                                    0,\n",
      "                                    1,\n",
      "                                    2\n",
      "                                ],\n",
      "                                \"normals\": [\n",
      "                                    0.0,\n",
      "                                    0.0,\n",
      "                                    1.0,\n",
      "                                    0.0,\n",
      "                                    0.0,\n",
      "                                    1.0,\n",
      "                                    0.0,\n",
      "                                    0.0,\n",
      "                                    1.0\n",
      "                                ],\n",
      "                                \"description\": \"\",\n",
      "                                \"metadata\": {},\n",
      "                                \"texture_coordinates_channels\": []\n",
      "                            }\n",
      "                        ]\n",
      "                    }\n",
      "                ]\n",
      "            }\n",
      "        }\n",
      "    ],\n",
      "    \"description\": \"\",\n",
      "    \"metadata\": {},\n",
      "    \"bodys\": [\n",
      "        {\n",
      "            \"name\": \"TheBodyB1\",\n",
      "            \"face_guids\": [\n",
      "                \"8fe07862-b57d-4923-a154-a6651c7f7f51\"\n",
      "            ],\n",
      "            \"description\": \"\",\n",
      "            \"metadata\": {},\n",
      "            \"faces\": [\n",
      "                {\n",
      "                    \"name\": \"TheFaceF1\",\n",
      "                    \"vertices\": [\n",
      "                        0.0,\n",
      "                        0.0,\n",
      "                        0.0,\n",
      "                        1.0,\n",
      "                        0.0,\n",
      "                        0.0,\n",
      "                        0.0,\n",
      "                        1.0,\n",
      "                        0.0\n",
      "                    ],\n",
      "                    \"facets\": [\n",
      "                        0,\n",
      "                        1,\n",
      "                        2\n",
      "                    ],\n",
      "                    \"normals\": [\n",
      "                        0.0,\n",
      "                        0.0,\n",
      "                        1.0,\n",
      "                        0.0,\n",
      "                        0.0,\n",
      "                        1.0,\n",
      "                        0.0,\n",
      "                        0.0,\n",
      "                        1.0\n",
      "                    ],\n",
      "                    \"description\": \"\",\n",
      "                    \"metadata\": {},\n",
      "                    \"texture_coordinates_channels\": []\n",
      "                }\n",
      "            ]\n",
      "        },\n",
      "        {\n",
      "            \"name\": \"TheBodyB2\",\n",
      "            \"description\": \"\",\n",
      "            \"metadata\": {},\n",
      "            \"face_guids\": []\n",
      "        }\n",
      "    ]\n",
      "}\n"
     ]
    }
   ],
   "source": [
    "sub_part11 = (\n",
    "    sub_part1.create_sub_part(name=\"TheSubPartSP11\")\n",
    "    .set_axis_system([1, 1, 1, 1, 0, 0, 0, 1, 0, 0, 0, 1])\n",
    "    .commit()\n",
    ")\n",
    "print(root_part)"
   ]
  },
  {
   "cell_type": "markdown",
   "id": "8ca18f3c",
   "metadata": {},
   "source": [
    "## Read"
   ]
  },
  {
   "cell_type": "markdown",
   "id": "9b6d109a",
   "metadata": {},
   "source": [
    "### Find with exact name"
   ]
  },
  {
   "cell_type": "markdown",
   "id": "1543af7d",
   "metadata": {},
   "source": [
    "Find the root part"
   ]
  },
  {
   "cell_type": "code",
   "execution_count": 10,
   "id": "649bd6b0",
   "metadata": {
    "execution": {
     "iopub.execute_input": "2025-03-28T09:25:50.328604Z",
     "iopub.status.busy": "2025-03-28T09:25:50.328222Z",
     "iopub.status.idle": "2025-03-28T09:25:50.360607Z",
     "shell.execute_reply": "2025-03-28T09:25:50.360051Z"
    }
   },
   "outputs": [
    {
     "name": "stdout",
     "output_type": "stream",
     "text": [
      "{\n",
      "    \"name\": \"RootPart\",\n",
      "    \"body_guids\": [\n",
      "        \"99e0a1f1-99dd-4304-81fb-f24c9240a5a9\",\n",
      "        \"24a16163-beed-43db-b129-93d94b6d1c28\"\n",
      "    ],\n",
      "    \"parts\": [\n",
      "        {\n",
      "            \"name\": \"TheSubPartSP1\",\n",
      "            \"description\": \"UniqueId_9b448726-8923-48f9-8249-4dbc2e93acdb\",\n",
      "            \"part_guid\": \"3b197b63-433a-41ce-a85a-c5d7d02f6fbc\",\n",
      "            \"axis_system\": [\n",
      "                5.0,\n",
      "                5.0,\n",
      "                5.0,\n",
      "                1.0,\n",
      "                0.0,\n",
      "                0.0,\n",
      "                0.0,\n",
      "                1.0,\n",
      "                0.0,\n",
      "                0.0,\n",
      "                0.0,\n",
      "                1.0\n",
      "            ],\n",
      "            \"part\": {\n",
      "                \"name\": \"TheSubPartSP1\",\n",
      "                \"body_guids\": [\n",
      "                    \"c5f30eb4-ea2e-4011-8b9d-43671a886b56\"\n",
      "                ],\n",
      "                \"parts\": [\n",
      "                    {\n",
      "                        \"name\": \"TheSubPartSP11\",\n",
      "                        \"description\": \"UniqueId_3e37831b-e7e2-4c35-9319-bf5ef7f7d307\",\n",
      "                        \"part_guid\": \"928971bf-a119-4af5-a76e-d60fa5b88cdd\",\n",
      "                        \"axis_system\": [\n",
      "                            1.0,\n",
      "                            1.0,\n",
      "                            1.0,\n",
      "                            1.0,\n",
      "                            0.0,\n",
      "                            0.0,\n",
      "                            0.0,\n",
      "                            1.0,\n",
      "                            0.0,\n",
      "                            0.0,\n",
      "                            0.0,\n",
      "                            1.0\n",
      "                        ],\n",
      "                        \"part\": {\n",
      "                            \"name\": \"TheSubPartSP11\",\n",
      "                            \"description\": \"\",\n",
      "                            \"metadata\": {},\n",
      "                            \"body_guids\": [],\n",
      "                            \"parts\": []\n",
      "                        }\n",
      "                    }\n",
      "                ],\n",
      "                \"description\": \"\",\n",
      "                \"metadata\": {},\n",
      "                \"bodys\": [\n",
      "                    {\n",
      "                        \"name\": \"TheBodySP1_B1\",\n",
      "                        \"face_guids\": [\n",
      "                            \"4d5778ba-230a-4659-a1cb-e9e0ef1515d7\"\n",
      "                        ],\n",
      "                        \"description\": \"\",\n",
      "                        \"metadata\": {},\n",
      "                        \"faces\": [\n",
      "                            {\n",
      "                                \"name\": \"TheFaceSP1_B1_F1\",\n",
      "                                \"vertices\": [\n",
      "                                    0.0,\n",
      "                                    1.0,\n",
      "                                    0.0,\n",
      "                                    0.0,\n",
      "                                    2.0,\n",
      "                                    0.0,\n",
      "                                    1.0,\n",
      "                                    2.0,\n",
      "                                    0.0\n",
      "                                ],\n",
      "                                \"facets\": [\n",
      "                                    0,\n",
      "                                    1,\n",
      "                                    2\n",
      "                                ],\n",
      "                                \"normals\": [\n",
      "                                    0.0,\n",
      "                                    0.0,\n",
      "                                    1.0,\n",
      "                                    0.0,\n",
      "                                    0.0,\n",
      "                                    1.0,\n",
      "                                    0.0,\n",
      "                                    0.0,\n",
      "                                    1.0\n",
      "                                ],\n",
      "                                \"description\": \"\",\n",
      "                                \"metadata\": {},\n",
      "                                \"texture_coordinates_channels\": []\n",
      "                            }\n",
      "                        ]\n",
      "                    }\n",
      "                ]\n",
      "            }\n",
      "        }\n",
      "    ],\n",
      "    \"description\": \"\",\n",
      "    \"metadata\": {},\n",
      "    \"bodys\": [\n",
      "        {\n",
      "            \"name\": \"TheBodyB1\",\n",
      "            \"face_guids\": [\n",
      "                \"8fe07862-b57d-4923-a154-a6651c7f7f51\"\n",
      "            ],\n",
      "            \"description\": \"\",\n",
      "            \"metadata\": {},\n",
      "            \"faces\": [\n",
      "                {\n",
      "                    \"name\": \"TheFaceF1\",\n",
      "                    \"vertices\": [\n",
      "                        0.0,\n",
      "                        0.0,\n",
      "                        0.0,\n",
      "                        1.0,\n",
      "                        0.0,\n",
      "                        0.0,\n",
      "                        0.0,\n",
      "                        1.0,\n",
      "                        0.0\n",
      "                    ],\n",
      "                    \"facets\": [\n",
      "                        0,\n",
      "                        1,\n",
      "                        2\n",
      "                    ],\n",
      "                    \"normals\": [\n",
      "                        0.0,\n",
      "                        0.0,\n",
      "                        1.0,\n",
      "                        0.0,\n",
      "                        0.0,\n",
      "                        1.0,\n",
      "                        0.0,\n",
      "                        0.0,\n",
      "                        1.0\n",
      "                    ],\n",
      "                    \"description\": \"\",\n",
      "                    \"metadata\": {},\n",
      "                    \"texture_coordinates_channels\": []\n",
      "                }\n",
      "            ]\n",
      "        },\n",
      "        {\n",
      "            \"name\": \"TheBodyB2\",\n",
      "            \"description\": \"\",\n",
      "            \"metadata\": {},\n",
      "            \"face_guids\": []\n",
      "        }\n",
      "    ]\n",
      "}\n"
     ]
    }
   ],
   "source": [
    "features = p.find(name=\"\", feature_type=Part)\n",
    "print(features[0])"
   ]
  },
  {
   "cell_type": "markdown",
   "id": "01e2f440",
   "metadata": {},
   "source": [
    "Find a specific body in root part"
   ]
  },
  {
   "cell_type": "code",
   "execution_count": 11,
   "id": "bbb7e1ec",
   "metadata": {
    "execution": {
     "iopub.execute_input": "2025-03-28T09:25:50.362454Z",
     "iopub.status.busy": "2025-03-28T09:25:50.362260Z",
     "iopub.status.idle": "2025-03-28T09:25:50.370740Z",
     "shell.execute_reply": "2025-03-28T09:25:50.370195Z"
    }
   },
   "outputs": [
    {
     "name": "stdout",
     "output_type": "stream",
     "text": [
      "{\n",
      "    \"name\": \"TheBodyB1\",\n",
      "    \"face_guids\": [\n",
      "        \"8fe07862-b57d-4923-a154-a6651c7f7f51\"\n",
      "    ],\n",
      "    \"description\": \"\",\n",
      "    \"metadata\": {},\n",
      "    \"faces\": [\n",
      "        {\n",
      "            \"name\": \"TheFaceF1\",\n",
      "            \"vertices\": [\n",
      "                0.0,\n",
      "                0.0,\n",
      "                0.0,\n",
      "                1.0,\n",
      "                0.0,\n",
      "                0.0,\n",
      "                0.0,\n",
      "                1.0,\n",
      "                0.0\n",
      "            ],\n",
      "            \"facets\": [\n",
      "                0,\n",
      "                1,\n",
      "                2\n",
      "            ],\n",
      "            \"normals\": [\n",
      "                0.0,\n",
      "                0.0,\n",
      "                1.0,\n",
      "                0.0,\n",
      "                0.0,\n",
      "                1.0,\n",
      "                0.0,\n",
      "                0.0,\n",
      "                1.0\n",
      "            ],\n",
      "            \"description\": \"\",\n",
      "            \"metadata\": {},\n",
      "            \"texture_coordinates_channels\": []\n",
      "        }\n",
      "    ]\n",
      "}\n"
     ]
    }
   ],
   "source": [
    "features = p.find(name=\"TheBodyB1\", feature_type=Body)\n",
    "print(features[0])"
   ]
  },
  {
   "cell_type": "markdown",
   "id": "2c12f9b3",
   "metadata": {},
   "source": [
    "Find a specific face of a body in root part"
   ]
  },
  {
   "cell_type": "code",
   "execution_count": 12,
   "id": "031d93d5",
   "metadata": {
    "execution": {
     "iopub.execute_input": "2025-03-28T09:25:50.372598Z",
     "iopub.status.busy": "2025-03-28T09:25:50.372268Z",
     "iopub.status.idle": "2025-03-28T09:25:50.377055Z",
     "shell.execute_reply": "2025-03-28T09:25:50.376402Z"
    }
   },
   "outputs": [
    {
     "name": "stdout",
     "output_type": "stream",
     "text": [
      "{\n",
      "    \"name\": \"TheFaceF1\",\n",
      "    \"vertices\": [\n",
      "        0.0,\n",
      "        0.0,\n",
      "        0.0,\n",
      "        1.0,\n",
      "        0.0,\n",
      "        0.0,\n",
      "        0.0,\n",
      "        1.0,\n",
      "        0.0\n",
      "    ],\n",
      "    \"facets\": [\n",
      "        0,\n",
      "        1,\n",
      "        2\n",
      "    ],\n",
      "    \"normals\": [\n",
      "        0.0,\n",
      "        0.0,\n",
      "        1.0,\n",
      "        0.0,\n",
      "        0.0,\n",
      "        1.0,\n",
      "        0.0,\n",
      "        0.0,\n",
      "        1.0\n",
      "    ],\n",
      "    \"description\": \"\",\n",
      "    \"metadata\": {},\n",
      "    \"texture_coordinates_channels\": []\n",
      "}\n"
     ]
    }
   ],
   "source": [
    "features = p.find(name=\"TheBodyB1/TheFaceF1\", feature_type=Face)\n",
    "print(features[0])"
   ]
  },
  {
   "cell_type": "markdown",
   "id": "934d0b79",
   "metadata": {},
   "source": [
    "Find a sub part"
   ]
  },
  {
   "cell_type": "code",
   "execution_count": 13,
   "id": "17ff0dd8",
   "metadata": {
    "execution": {
     "iopub.execute_input": "2025-03-28T09:25:50.379152Z",
     "iopub.status.busy": "2025-03-28T09:25:50.378753Z",
     "iopub.status.idle": "2025-03-28T09:25:50.397706Z",
     "shell.execute_reply": "2025-03-28T09:25:50.397102Z"
    },
    "lines_to_next_cell": 2
   },
   "outputs": [
    {
     "name": "stdout",
     "output_type": "stream",
     "text": [
      "{\n",
      "    \"name\": \"TheSubPartSP1\",\n",
      "    \"description\": \"UniqueId_9b448726-8923-48f9-8249-4dbc2e93acdb\",\n",
      "    \"part_guid\": \"3b197b63-433a-41ce-a85a-c5d7d02f6fbc\",\n",
      "    \"axis_system\": [\n",
      "        5.0,\n",
      "        5.0,\n",
      "        5.0,\n",
      "        1.0,\n",
      "        0.0,\n",
      "        0.0,\n",
      "        0.0,\n",
      "        1.0,\n",
      "        0.0,\n",
      "        0.0,\n",
      "        0.0,\n",
      "        1.0\n",
      "    ],\n",
      "    \"part\": {\n",
      "        \"name\": \"TheSubPartSP1\",\n",
      "        \"body_guids\": [\n",
      "            \"c5f30eb4-ea2e-4011-8b9d-43671a886b56\"\n",
      "        ],\n",
      "        \"parts\": [\n",
      "            {\n",
      "                \"name\": \"TheSubPartSP11\",\n",
      "                \"description\": \"UniqueId_3e37831b-e7e2-4c35-9319-bf5ef7f7d307\",\n",
      "                \"part_guid\": \"928971bf-a119-4af5-a76e-d60fa5b88cdd\",\n",
      "                \"axis_system\": [\n",
      "                    1.0,\n",
      "                    1.0,\n",
      "                    1.0,\n",
      "                    1.0,\n",
      "                    0.0,\n",
      "                    0.0,\n",
      "                    0.0,\n",
      "                    1.0,\n",
      "                    0.0,\n",
      "                    0.0,\n",
      "                    0.0,\n",
      "                    1.0\n",
      "                ],\n",
      "                \"part\": {\n",
      "                    \"name\": \"TheSubPartSP11\",\n",
      "                    \"description\": \"\",\n",
      "                    \"metadata\": {},\n",
      "                    \"body_guids\": [],\n",
      "                    \"parts\": []\n",
      "                }\n",
      "            }\n",
      "        ],\n",
      "        \"description\": \"\",\n",
      "        \"metadata\": {},\n",
      "        \"bodys\": [\n",
      "            {\n",
      "                \"name\": \"TheBodySP1_B1\",\n",
      "                \"face_guids\": [\n",
      "                    \"4d5778ba-230a-4659-a1cb-e9e0ef1515d7\"\n",
      "                ],\n",
      "                \"description\": \"\",\n",
      "                \"metadata\": {},\n",
      "                \"faces\": [\n",
      "                    {\n",
      "                        \"name\": \"TheFaceSP1_B1_F1\",\n",
      "                        \"vertices\": [\n",
      "                            0.0,\n",
      "                            1.0,\n",
      "                            0.0,\n",
      "                            0.0,\n",
      "                            2.0,\n",
      "                            0.0,\n",
      "                            1.0,\n",
      "                            2.0,\n",
      "                            0.0\n",
      "                        ],\n",
      "                        \"facets\": [\n",
      "                            0,\n",
      "                            1,\n",
      "                            2\n",
      "                        ],\n",
      "                        \"normals\": [\n",
      "                            0.0,\n",
      "                            0.0,\n",
      "                            1.0,\n",
      "                            0.0,\n",
      "                            0.0,\n",
      "                            1.0,\n",
      "                            0.0,\n",
      "                            0.0,\n",
      "                            1.0\n",
      "                        ],\n",
      "                        \"description\": \"\",\n",
      "                        \"metadata\": {},\n",
      "                        \"texture_coordinates_channels\": []\n",
      "                    }\n",
      "                ]\n",
      "            }\n",
      "        ]\n",
      "    }\n",
      "}\n"
     ]
    }
   ],
   "source": [
    "features = p.find(name=\"TheSubPartSP1\", feature_type=Part.SubPart)\n",
    "print(features[0])"
   ]
  },
  {
   "cell_type": "markdown",
   "id": "2b537d87",
   "metadata": {},
   "source": [
    "Find a specific body in sub part"
   ]
  },
  {
   "cell_type": "code",
   "execution_count": 14,
   "id": "cf3793fb",
   "metadata": {
    "execution": {
     "iopub.execute_input": "2025-03-28T09:25:50.399859Z",
     "iopub.status.busy": "2025-03-28T09:25:50.399471Z",
     "iopub.status.idle": "2025-03-28T09:25:50.407713Z",
     "shell.execute_reply": "2025-03-28T09:25:50.407174Z"
    }
   },
   "outputs": [
    {
     "name": "stdout",
     "output_type": "stream",
     "text": [
      "{\n",
      "    \"name\": \"TheBodySP1_B1\",\n",
      "    \"face_guids\": [\n",
      "        \"4d5778ba-230a-4659-a1cb-e9e0ef1515d7\"\n",
      "    ],\n",
      "    \"description\": \"\",\n",
      "    \"metadata\": {},\n",
      "    \"faces\": [\n",
      "        {\n",
      "            \"name\": \"TheFaceSP1_B1_F1\",\n",
      "            \"vertices\": [\n",
      "                0.0,\n",
      "                1.0,\n",
      "                0.0,\n",
      "                0.0,\n",
      "                2.0,\n",
      "                0.0,\n",
      "                1.0,\n",
      "                2.0,\n",
      "                0.0\n",
      "            ],\n",
      "            \"facets\": [\n",
      "                0,\n",
      "                1,\n",
      "                2\n",
      "            ],\n",
      "            \"normals\": [\n",
      "                0.0,\n",
      "                0.0,\n",
      "                1.0,\n",
      "                0.0,\n",
      "                0.0,\n",
      "                1.0,\n",
      "                0.0,\n",
      "                0.0,\n",
      "                1.0\n",
      "            ],\n",
      "            \"description\": \"\",\n",
      "            \"metadata\": {},\n",
      "            \"texture_coordinates_channels\": []\n",
      "        }\n",
      "    ]\n",
      "}\n"
     ]
    }
   ],
   "source": [
    "features = p.find(name=\"TheSubPartSP1/TheBodySP1_B1\", feature_type=Body)\n",
    "print(features[0])"
   ]
  },
  {
   "cell_type": "markdown",
   "id": "46a88e69",
   "metadata": {},
   "source": [
    "Find a specific face of a body in sub part"
   ]
  },
  {
   "cell_type": "code",
   "execution_count": 15,
   "id": "d597fc81",
   "metadata": {
    "execution": {
     "iopub.execute_input": "2025-03-28T09:25:50.409653Z",
     "iopub.status.busy": "2025-03-28T09:25:50.409280Z",
     "iopub.status.idle": "2025-03-28T09:25:50.413995Z",
     "shell.execute_reply": "2025-03-28T09:25:50.413336Z"
    }
   },
   "outputs": [
    {
     "name": "stdout",
     "output_type": "stream",
     "text": [
      "{\n",
      "    \"name\": \"TheFaceSP1_B1_F1\",\n",
      "    \"vertices\": [\n",
      "        0.0,\n",
      "        1.0,\n",
      "        0.0,\n",
      "        0.0,\n",
      "        2.0,\n",
      "        0.0,\n",
      "        1.0,\n",
      "        2.0,\n",
      "        0.0\n",
      "    ],\n",
      "    \"facets\": [\n",
      "        0,\n",
      "        1,\n",
      "        2\n",
      "    ],\n",
      "    \"normals\": [\n",
      "        0.0,\n",
      "        0.0,\n",
      "        1.0,\n",
      "        0.0,\n",
      "        0.0,\n",
      "        1.0,\n",
      "        0.0,\n",
      "        0.0,\n",
      "        1.0\n",
      "    ],\n",
      "    \"description\": \"\",\n",
      "    \"metadata\": {},\n",
      "    \"texture_coordinates_channels\": []\n",
      "}\n"
     ]
    }
   ],
   "source": [
    "features = p.find(name=\"TheSubPartSP1/TheBodySP1_B1/TheFaceSP1_B1_F1\", feature_type=Face)\n",
    "print(features[0])"
   ]
  },
  {
   "cell_type": "markdown",
   "id": "cceae2e3",
   "metadata": {},
   "source": [
    "### Find with approximation name"
   ]
  },
  {
   "cell_type": "markdown",
   "id": "fef09bad",
   "metadata": {},
   "source": [
    "Find all bodies in root part"
   ]
  },
  {
   "cell_type": "code",
   "execution_count": 16,
   "id": "c51a91c0",
   "metadata": {
    "execution": {
     "iopub.execute_input": "2025-03-28T09:25:50.416178Z",
     "iopub.status.busy": "2025-03-28T09:25:50.415633Z",
     "iopub.status.idle": "2025-03-28T09:25:50.419478Z",
     "shell.execute_reply": "2025-03-28T09:25:50.418858Z"
    }
   },
   "outputs": [
    {
     "name": "stdout",
     "output_type": "stream",
     "text": [
      "TheBodyB1\n",
      "TheBodyB2\n"
     ]
    }
   ],
   "source": [
    "features = p.find(name=\".*\", name_regex=True, feature_type=Body)\n",
    "for feat in features:\n",
    "    print(feat._name)"
   ]
  },
  {
   "cell_type": "markdown",
   "id": "80d9b586",
   "metadata": {},
   "source": [
    "Find all faces inside body called \"TheBodyB1\""
   ]
  },
  {
   "cell_type": "code",
   "execution_count": 17,
   "id": "4feebdc7",
   "metadata": {
    "execution": {
     "iopub.execute_input": "2025-03-28T09:25:50.421456Z",
     "iopub.status.busy": "2025-03-28T09:25:50.421108Z",
     "iopub.status.idle": "2025-03-28T09:25:50.424716Z",
     "shell.execute_reply": "2025-03-28T09:25:50.424108Z"
    },
    "lines_to_next_cell": 2
   },
   "outputs": [
    {
     "name": "stdout",
     "output_type": "stream",
     "text": [
      "TheFaceF1\n"
     ]
    }
   ],
   "source": [
    "features = p.find(name=\"TheBodyB1/.*\", name_regex=True, feature_type=Face)\n",
    "for feat in features:\n",
    "    print(feat._name)"
   ]
  },
  {
   "cell_type": "markdown",
   "id": "7d21df2e",
   "metadata": {},
   "source": [
    "If you want to retrieve several kind of geometry features at a certain level, give\n",
    "feature_type=Part"
   ]
  },
  {
   "cell_type": "markdown",
   "id": "ba7b53ab",
   "metadata": {},
   "source": [
    "all the geometry features at root part level:"
   ]
  },
  {
   "cell_type": "code",
   "execution_count": 18,
   "id": "d7833ac0",
   "metadata": {
    "execution": {
     "iopub.execute_input": "2025-03-28T09:25:50.426922Z",
     "iopub.status.busy": "2025-03-28T09:25:50.426413Z",
     "iopub.status.idle": "2025-03-28T09:25:50.430243Z",
     "shell.execute_reply": "2025-03-28T09:25:50.429579Z"
    }
   },
   "outputs": [
    {
     "name": "stdout",
     "output_type": "stream",
     "text": [
      "<class 'ansys.speos.core.body.Body'> : name=TheBodyB1\n",
      "<class 'ansys.speos.core.body.Body'> : name=TheBodyB2\n",
      "<class 'ansys.speos.core.part.Part.SubPart'> : name=TheSubPartSP1\n"
     ]
    }
   ],
   "source": [
    "features = p.find(name=\".*\", name_regex=True, feature_type=Part)\n",
    "for feat in features:\n",
    "    print(str(type(feat)) + \" : name=\" + feat._name)"
   ]
  },
  {
   "cell_type": "markdown",
   "id": "2b50336b",
   "metadata": {
    "lines_to_next_cell": 2
   },
   "source": [
    "all the geometry features at second level: e.g.:\n",
    "- TheBodyB1's all faces\n",
    "- TheSubPartSP1's all bodies\n",
    "- TheSubPartSP1's all sub part"
   ]
  },
  {
   "cell_type": "code",
   "execution_count": 19,
   "id": "37c45667",
   "metadata": {
    "execution": {
     "iopub.execute_input": "2025-03-28T09:25:50.432438Z",
     "iopub.status.busy": "2025-03-28T09:25:50.432071Z",
     "iopub.status.idle": "2025-03-28T09:25:50.435534Z",
     "shell.execute_reply": "2025-03-28T09:25:50.435005Z"
    }
   },
   "outputs": [
    {
     "name": "stdout",
     "output_type": "stream",
     "text": [
      "<class 'ansys.speos.core.face.Face'> : name=TheFaceF1\n",
      "<class 'ansys.speos.core.body.Body'> : name=TheBodySP1_B1\n",
      "<class 'ansys.speos.core.part.Part.SubPart'> : name=TheSubPartSP11\n"
     ]
    }
   ],
   "source": [
    "features = p.find(name=\".*/.*\", name_regex=True, feature_type=Part)\n",
    "for feat in features:\n",
    "    print(str(type(feat)) + \" : name=\" + feat._name)"
   ]
  },
  {
   "cell_type": "code",
   "execution_count": 20,
   "id": "62eb85e0",
   "metadata": {
    "execution": {
     "iopub.execute_input": "2025-03-28T09:25:50.437513Z",
     "iopub.status.busy": "2025-03-28T09:25:50.437154Z",
     "iopub.status.idle": "2025-03-28T09:25:50.441061Z",
     "shell.execute_reply": "2025-03-28T09:25:50.440408Z"
    }
   },
   "outputs": [
    {
     "name": "stdout",
     "output_type": "stream",
     "text": [
      "<class 'ansys.speos.core.face.Face'> : name=TheFaceSP1_B1_F1\n"
     ]
    }
   ],
   "source": [
    "# all the geometry features at the third level:\n",
    "# e.g. TheSubPartSP1's all bodies' faces\n",
    "features = p.find(name=\".*/.*/.*\", name_regex=True, feature_type=Part)\n",
    "for feat in features:\n",
    "    print(str(type(feat)) + \" : name=\" + feat._name)\n",
    "# -"
   ]
  },
  {
   "cell_type": "markdown",
   "id": "cb4d7e16",
   "metadata": {},
   "source": [
    "## Delete"
   ]
  },
  {
   "cell_type": "code",
   "execution_count": 21,
   "id": "ec13d6b8",
   "metadata": {
    "execution": {
     "iopub.execute_input": "2025-03-28T09:25:50.443196Z",
     "iopub.status.busy": "2025-03-28T09:25:50.442731Z",
     "iopub.status.idle": "2025-03-28T09:25:50.451718Z",
     "shell.execute_reply": "2025-03-28T09:25:50.451153Z"
    }
   },
   "outputs": [
    {
     "name": "stdout",
     "output_type": "stream",
     "text": [
      "local: {\n",
      "    \"name\": \"RootPart\",\n",
      "    \"description\": \"\",\n",
      "    \"metadata\": {},\n",
      "    \"body_guids\": [],\n",
      "    \"parts\": []\n",
      "}\n"
     ]
    }
   ],
   "source": [
    "root_part.delete()\n",
    "print(root_part)"
   ]
  }
 ],
 "metadata": {
  "jupytext": {
   "cell_metadata_filter": "-all",
   "main_language": "python",
   "notebook_metadata_filter": "-all",
   "text_representation": {
    "extension": ".py",
    "format_name": "light"
   }
  },
  "language_info": {
   "codemirror_mode": {
    "name": "ipython",
    "version": 3
   },
   "file_extension": ".py",
   "mimetype": "text/x-python",
   "name": "python",
   "nbconvert_exporter": "python",
   "pygments_lexer": "ipython3",
   "version": "3.10.16"
  }
 },
 "nbformat": 4,
 "nbformat_minor": 5
}
