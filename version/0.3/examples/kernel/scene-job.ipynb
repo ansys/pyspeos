{
 "cells": [
  {
   "cell_type": "markdown",
   "id": "0a99a094",
   "metadata": {},
   "source": [
    "# How to use scene and job"
   ]
  },
  {
   "cell_type": "markdown",
   "id": "c4d8a80d",
   "metadata": {},
   "source": [
    "This tutorial demonstrates how to create a scene, and fill it from a speos file.\n",
    "Then this demonstrates how to create a job from the scene, and run it."
   ]
  },
  {
   "cell_type": "code",
   "execution_count": 1,
   "id": "08d099d9",
   "metadata": {
    "execution": {
     "iopub.execute_input": "2025-03-28T09:27:42.474669Z",
     "iopub.status.busy": "2025-03-28T09:27:42.474483Z",
     "iopub.status.idle": "2025-03-28T09:27:43.053336Z",
     "shell.execute_reply": "2025-03-28T09:27:43.052640Z"
    }
   },
   "outputs": [],
   "source": [
    "from pathlib import Path\n",
    "import time\n",
    "\n",
    "from ansys.speos.core.kernel.job import ProtoJob\n",
    "from ansys.speos.core.speos import Speos\n",
    "\n",
    "# If using docker container\n",
    "assets_data_path = Path(\"/app\") / \"assets\"\n",
    "# If using local server\n",
    "# assets_data_path = Path().resolve().parent.parent / \"tests\" / \"assets\"\n",
    "# If using a different path\n",
    "# assets_data_path = Path(\"path/to/downloaded/example/assets\")"
   ]
  },
  {
   "cell_type": "markdown",
   "id": "ba545492",
   "metadata": {},
   "source": [
    "Create connection with speos rpc server"
   ]
  },
  {
   "cell_type": "code",
   "execution_count": 2,
   "id": "2ee49131",
   "metadata": {
    "execution": {
     "iopub.execute_input": "2025-03-28T09:27:43.055834Z",
     "iopub.status.busy": "2025-03-28T09:27:43.055368Z",
     "iopub.status.idle": "2025-03-28T09:27:43.061370Z",
     "shell.execute_reply": "2025-03-28T09:27:43.060836Z"
    }
   },
   "outputs": [],
   "source": [
    "speos = Speos(host=\"localhost\", port=50098)"
   ]
  },
  {
   "cell_type": "markdown",
   "id": "3e515a8e",
   "metadata": {},
   "source": [
    "## Scene"
   ]
  },
  {
   "cell_type": "markdown",
   "id": "d8f02a70",
   "metadata": {},
   "source": [
    "Create an empty scene"
   ]
  },
  {
   "cell_type": "code",
   "execution_count": 3,
   "id": "647cf6ea",
   "metadata": {
    "execution": {
     "iopub.execute_input": "2025-03-28T09:27:43.063184Z",
     "iopub.status.busy": "2025-03-28T09:27:43.063002Z",
     "iopub.status.idle": "2025-03-28T09:27:43.066606Z",
     "shell.execute_reply": "2025-03-28T09:27:43.065985Z"
    }
   },
   "outputs": [],
   "source": [
    "my_scene = speos.client.scenes().create()"
   ]
  },
  {
   "cell_type": "markdown",
   "id": "ccfe0d23",
   "metadata": {},
   "source": [
    "Load a file to fill the scene"
   ]
  },
  {
   "cell_type": "code",
   "execution_count": 4,
   "id": "1d43bd12",
   "metadata": {
    "execution": {
     "iopub.execute_input": "2025-03-28T09:27:43.068548Z",
     "iopub.status.busy": "2025-03-28T09:27:43.068176Z",
     "iopub.status.idle": "2025-03-28T09:27:43.077000Z",
     "shell.execute_reply": "2025-03-28T09:27:43.076468Z"
    }
   },
   "outputs": [],
   "source": [
    "speos_file = str(\n",
    "    assets_data_path / \"LG_50M_Colorimetric_short.sv5\" / \"LG_50M_Colorimetric_short.sv5\"\n",
    ")\n",
    "my_scene.load_file(file_uri=speos_file)"
   ]
  },
  {
   "cell_type": "markdown",
   "id": "a43529ed",
   "metadata": {},
   "source": [
    "Print scene data model"
   ]
  },
  {
   "cell_type": "markdown",
   "id": "cceac134",
   "metadata": {},
   "source": [
    "Here it is possible to see that the scene contains two surface sources, one irradiance sensor."
   ]
  },
  {
   "cell_type": "code",
   "execution_count": 5,
   "id": "7d60bb95",
   "metadata": {
    "execution": {
     "iopub.execute_input": "2025-03-28T09:27:43.078941Z",
     "iopub.status.busy": "2025-03-28T09:27:43.078729Z",
     "iopub.status.idle": "2025-03-28T09:27:43.084349Z",
     "shell.execute_reply": "2025-03-28T09:27:43.083829Z"
    }
   },
   "outputs": [
    {
     "name": "stdout",
     "output_type": "stream",
     "text": [
      "ansys.api.speos.scene.v2.Scene\n",
      "{\n",
      "    \"name\": \"LG_50M_Colorimetric_short\",\n",
      "    \"description\": \"From /app/assets/LG_50M_Colorimetric_short.sv5/LG_50M_Colorimetric_short.sv5\",\n",
      "    \"part_guid\": \"ce949cd1-1575-4f6b-ba0e-440b56592cc8\",\n",
      "    \"sources\": [\n",
      "        {\n",
      "            \"name\": \"Dom Source 2 (0) in SOURCE2\",\n",
      "            \"source_guid\": \"b2b74319-6736-4289-946f-33b61a793104\",\n",
      "            \"surface_properties\": {\n",
      "                \"exitance_constant_properties\": {\n",
      "                    \"geo_paths\": [\n",
      "                        {\n",
      "                            \"geo_path\": \"Solid Body in SOURCE2:2920204960/Face in SOURCE2:222\",\n",
      "                            \"reverse_normal\": false\n",
      "                        }\n",
      "                    ]\n",
      "                }\n",
      "            },\n",
      "            \"description\": \"\",\n",
      "            \"metadata\": {}\n",
      "        },\n",
      "        {\n",
      "            \"name\": \"Surface Source (0) in SOURCE1\",\n",
      "            \"source_guid\": \"a93b4959-450a-42c5-aaf3-5340f6084538\",\n",
      "            \"surface_properties\": {\n",
      "                \"exitance_constant_properties\": {\n",
      "                    \"geo_paths\": [\n",
      "                        {\n",
      "                            \"geo_path\": \"Solid Body in SOURCE1:2494956811/Face in SOURCE1:187\",\n",
      "                            \"reverse_normal\": false\n",
      "                        }\n",
      "                    ]\n",
      "                }\n",
      "            },\n",
      "            \"description\": \"\",\n",
      "            \"metadata\": {}\n",
      "        }\n",
      "    ],\n",
      "    \"sensors\": [\n",
      "        {\n",
      "            \"name\": \"Dom Irradiance Sensor (0)\",\n",
      "            \"sensor_guid\": \"4f7bc9a4-85c8-4370-a6c8-4b572fb40f45\",\n",
      "            \"result_file_name\": \"ASSEMBLY1.DS (0).Dom Irradiance Sensor (0)\",\n",
      "            \"irradiance_properties\": {\n",
      "                \"axis_system\": [\n",
      "                    -42.0,\n",
      "                    2.0,\n",
      "                    5.0,\n",
      "                    0.0,\n",
      "                    1.0,\n",
      "                    0.0,\n",
      "                    0.0,\n",
      "                    0.0,\n",
      "                    -1.0,\n",
      "                    -1.0,\n",
      "                    0.0,\n",
      "                    0.0\n",
      "                ],\n",
      "                \"layer_type_source\": {},\n",
      "                \"integration_direction\": [\n",
      "                    1.0,\n",
      "                    -0.0,\n",
      "                    -0.0\n",
      "                ],\n",
      "                \"ray_file_type\": \"RayFileNone\"\n",
      "            },\n",
      "            \"description\": \"\",\n",
      "            \"metadata\": {}\n",
      "        }\n",
      "    ],\n",
      "    \"simulations\": [\n",
      "        {\n",
      "            \"name\": \"ASSEMBLY1.DS (0)\",\n",
      "            \"simulation_guid\": \"e41940d0-091d-40a6-bdf9-06fc08775381\",\n",
      "            \"sensor_paths\": [\n",
      "                \"Dom Irradiance Sensor (0)\"\n",
      "            ],\n",
      "            \"source_paths\": [\n",
      "                \"Dom Source 2 (0) in SOURCE2\",\n",
      "                \"Surface Source (0) in SOURCE1\"\n",
      "            ],\n",
      "            \"description\": \"\",\n",
      "            \"metadata\": {}\n",
      "        }\n",
      "    ],\n",
      "    \"materials\": [\n",
      "        {\n",
      "            \"name\": \"Material.1\",\n",
      "            \"sop_guids\": [\n",
      "                \"665e6df0-885b-422a-800c-0e11cbfb49c4\"\n",
      "            ],\n",
      "            \"geometries\": {\n",
      "                \"geo_paths\": [\n",
      "                    \"Solid Body in GUIDE:1379760262/Face in GUIDE:169\"\n",
      "                ]\n",
      "            },\n",
      "            \"description\": \"\",\n",
      "            \"metadata\": {}\n",
      "        },\n",
      "        {\n",
      "            \"name\": \"Material.2\",\n",
      "            \"vop_guid\": \"d289f3b2-b778-4096-83f0-aad3ccb9c5c4\",\n",
      "            \"sop_guids\": [\n",
      "                \"7119bad6-f8f0-4deb-8b22-fcf4a80039bd\"\n",
      "            ],\n",
      "            \"geometries\": {\n",
      "                \"geo_paths\": [\n",
      "                    \"Solid Body in GUIDE:1379760262\"\n",
      "                ]\n",
      "            },\n",
      "            \"description\": \"\",\n",
      "            \"metadata\": {}\n",
      "        },\n",
      "        {\n",
      "            \"name\": \"Material.3\",\n",
      "            \"vop_guid\": \"3b3e9e31-837d-4d7d-8b8e-956735518b2c\",\n",
      "            \"sop_guids\": [\n",
      "                \"665e6df0-885b-422a-800c-0e11cbfb49c4\"\n",
      "            ],\n",
      "            \"geometries\": {\n",
      "                \"geo_paths\": [\n",
      "                    \"Solid Body in SOURCE2:2920204960\",\n",
      "                    \"Solid Body in SOURCE1:2494956811\"\n",
      "                ]\n",
      "            },\n",
      "            \"description\": \"\",\n",
      "            \"metadata\": {}\n",
      "        },\n",
      "        {\n",
      "            \"name\": \"Material.4\",\n",
      "            \"vop_guid\": \"eab1a20f-b2ee-4202-92cf-9aec0b2f791d\",\n",
      "            \"description\": \"\",\n",
      "            \"metadata\": {},\n",
      "            \"sop_guids\": []\n",
      "        }\n",
      "    ],\n",
      "    \"metadata\": {},\n",
      "    \"scenes\": []\n",
      "}\n"
     ]
    }
   ],
   "source": [
    "print(my_scene)"
   ]
  },
  {
   "cell_type": "markdown",
   "id": "d56cbfc2",
   "metadata": {},
   "source": [
    "## Job"
   ]
  },
  {
   "cell_type": "markdown",
   "id": "f62b278c",
   "metadata": {},
   "source": [
    "Create a job for the first simulation. When loaded from a speos file, there is always only one\n",
    "simulation in the scene."
   ]
  },
  {
   "cell_type": "code",
   "execution_count": 6,
   "id": "c415690f",
   "metadata": {
    "execution": {
     "iopub.execute_input": "2025-03-28T09:27:43.086427Z",
     "iopub.status.busy": "2025-03-28T09:27:43.085924Z",
     "iopub.status.idle": "2025-03-28T09:27:43.165339Z",
     "shell.execute_reply": "2025-03-28T09:27:43.164642Z"
    }
   },
   "outputs": [],
   "source": [
    "# First create the protobuf message\n",
    "job_message = ProtoJob(name=\"my_job\")\n",
    "job_message.scene_guid = my_scene.key  # The job needs a scene guid\n",
    "job_message.simulation_path = (\n",
    "    my_scene.get().simulations[0].name\n",
    ")  # And needs to know which simulation in the scene is involved.\n",
    "job_message.job_type = ProtoJob.Type.CPU  # Choose type of job, can also be GPU.\n",
    "job_message.direct_mc_simulation_properties.automatic_save_frequency = 1800\n",
    "job_message.direct_mc_simulation_properties.stop_condition_rays_number = (\n",
    "    200000  # Stop condition, here 200000 rays will be sent.\n",
    ")\n",
    "\n",
    "# Create the JobLink\n",
    "job_link = speos.client.jobs().create(message=job_message)"
   ]
  },
  {
   "cell_type": "markdown",
   "id": "56be8e3c",
   "metadata": {},
   "source": [
    "Start the job"
   ]
  },
  {
   "cell_type": "code",
   "execution_count": 7,
   "id": "b5cbf1e8",
   "metadata": {
    "execution": {
     "iopub.execute_input": "2025-03-28T09:27:43.167618Z",
     "iopub.status.busy": "2025-03-28T09:27:43.167414Z",
     "iopub.status.idle": "2025-03-28T09:27:43.170723Z",
     "shell.execute_reply": "2025-03-28T09:27:43.170167Z"
    }
   },
   "outputs": [],
   "source": [
    "job_link.start()"
   ]
  },
  {
   "cell_type": "markdown",
   "id": "df2860ef",
   "metadata": {},
   "source": [
    "Verify state of the job"
   ]
  },
  {
   "cell_type": "code",
   "execution_count": 8,
   "id": "20ec9351",
   "metadata": {
    "execution": {
     "iopub.execute_input": "2025-03-28T09:27:43.172629Z",
     "iopub.status.busy": "2025-03-28T09:27:43.172432Z",
     "iopub.status.idle": "2025-03-28T09:27:43.179046Z",
     "shell.execute_reply": "2025-03-28T09:27:43.178487Z"
    }
   },
   "outputs": [
    {
     "data": {
      "text/plain": [
       "state: RUNNING"
      ]
     },
     "execution_count": 8,
     "metadata": {},
     "output_type": "execute_result"
    }
   ],
   "source": [
    "job_link.get_state()"
   ]
  },
  {
   "cell_type": "markdown",
   "id": "dbb05db0",
   "metadata": {},
   "source": [
    "Wait that the job is finished"
   ]
  },
  {
   "cell_type": "code",
   "execution_count": 9,
   "id": "04c742b0",
   "metadata": {
    "execution": {
     "iopub.execute_input": "2025-03-28T09:27:43.180820Z",
     "iopub.status.busy": "2025-03-28T09:27:43.180613Z",
     "iopub.status.idle": "2025-03-28T09:27:49.195008Z",
     "shell.execute_reply": "2025-03-28T09:27:49.194408Z"
    }
   },
   "outputs": [],
   "source": [
    "job_state_res = job_link.get_state()\n",
    "while (\n",
    "    job_state_res.state != ProtoJob.State.FINISHED\n",
    "    and job_state_res.state != ProtoJob.State.STOPPED\n",
    "    and job_state_res.state != ProtoJob.State.IN_ERROR\n",
    "):\n",
    "    time.sleep(2)\n",
    "\n",
    "    job_state_res = job_link.get_state()"
   ]
  },
  {
   "cell_type": "markdown",
   "id": "2ed49470",
   "metadata": {},
   "source": [
    "Retrieve results of the job"
   ]
  },
  {
   "cell_type": "markdown",
   "id": "9606a21a",
   "metadata": {},
   "source": [
    "Two results are generated : the result of irradiance sensor:\n",
    "\"ASSEMBLY1.DS (0).Dom Irradiance Sensor (0).xmp\" and the simulation report in html"
   ]
  },
  {
   "cell_type": "code",
   "execution_count": 10,
   "id": "7fc33bff",
   "metadata": {
    "execution": {
     "iopub.execute_input": "2025-03-28T09:27:49.197095Z",
     "iopub.status.busy": "2025-03-28T09:27:49.196913Z",
     "iopub.status.idle": "2025-03-28T09:27:49.204146Z",
     "shell.execute_reply": "2025-03-28T09:27:49.203604Z"
    }
   },
   "outputs": [
    {
     "name": "stdout",
     "output_type": "stream",
     "text": [
      "[upload_response {\n",
      "  info {\n",
      "    uri: \"a551b63d-2d2f-431a-8235-5a4b20e616ab\"\n",
      "    file_name: \"ASSEMBLY1.DS (0).Dom Irradiance Sensor (0).xmp\"\n",
      "    file_size: 1441509\n",
      "  }\n",
      "  upload_duration {\n",
      "    nanos: 2324139\n",
      "  }\n",
      "}\n",
      ", upload_response {\n",
      "  info {\n",
      "    uri: \"1b4f7650-24bb-4721-b08d-62dbe45839f1\"\n",
      "    file_name: \"ASSEMBLY1.DS (0).html\"\n",
      "    file_size: 513190\n",
      "  }\n",
      "  upload_duration {\n",
      "    nanos: 742420\n",
      "  }\n",
      "}\n",
      "]\n"
     ]
    }
   ],
   "source": [
    "results = job_link.get_results().results\n",
    "print(results)"
   ]
  },
  {
   "cell_type": "markdown",
   "id": "e7658669",
   "metadata": {},
   "source": [
    "Once no more needed: delete the job"
   ]
  },
  {
   "cell_type": "code",
   "execution_count": 11,
   "id": "acda3e26",
   "metadata": {
    "execution": {
     "iopub.execute_input": "2025-03-28T09:27:49.206223Z",
     "iopub.status.busy": "2025-03-28T09:27:49.205842Z",
     "iopub.status.idle": "2025-03-28T09:27:49.214740Z",
     "shell.execute_reply": "2025-03-28T09:27:49.214254Z"
    },
    "lines_to_next_cell": 2
   },
   "outputs": [],
   "source": [
    "job_link.delete()"
   ]
  },
  {
   "cell_type": "markdown",
   "id": "5b0286ab",
   "metadata": {},
   "source": [
    "When loading a speos file into a scene, this creates many objects\n",
    "(source templates, sensor templates, vop template, sop templates).\n",
    "Then at the end of the example, we just clean all databases"
   ]
  },
  {
   "cell_type": "code",
   "execution_count": 12,
   "id": "186730ef",
   "metadata": {
    "execution": {
     "iopub.execute_input": "2025-03-28T09:27:49.216707Z",
     "iopub.status.busy": "2025-03-28T09:27:49.216334Z",
     "iopub.status.idle": "2025-03-28T09:27:49.235951Z",
     "shell.execute_reply": "2025-03-28T09:27:49.235426Z"
    }
   },
   "outputs": [],
   "source": [
    "for item in (\n",
    "    speos.client.scenes().list()\n",
    "    + speos.client.simulation_templates().list()\n",
    "    + speos.client.sensor_templates().list()\n",
    "    + speos.client.source_templates().list()\n",
    "    + speos.client.intensity_templates().list()\n",
    "    + speos.client.spectrums().list()\n",
    "    + speos.client.vop_templates().list()\n",
    "    + speos.client.sop_templates().list()\n",
    "    + speos.client.parts().list()\n",
    "    + speos.client.bodies().list()\n",
    "    + speos.client.faces().list()\n",
    "):\n",
    "    item.delete()"
   ]
  }
 ],
 "metadata": {
  "jupytext": {
   "cell_metadata_filter": "-all",
   "main_language": "python",
   "notebook_metadata_filter": "-all",
   "text_representation": {
    "extension": ".py",
    "format_name": "light"
   }
  },
  "language_info": {
   "codemirror_mode": {
    "name": "ipython",
    "version": 3
   },
   "file_extension": ".py",
   "mimetype": "text/x-python",
   "name": "python",
   "nbconvert_exporter": "python",
   "pygments_lexer": "ipython3",
   "version": "3.10.16"
  }
 },
 "nbformat": 4,
 "nbformat_minor": 5
}
