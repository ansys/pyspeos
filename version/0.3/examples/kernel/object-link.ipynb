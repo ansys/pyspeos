{
 "cells": [
  {
   "cell_type": "markdown",
   "id": "70c0eaf3",
   "metadata": {},
   "source": [
    "# How to use an ObjectLink"
   ]
  },
  {
   "cell_type": "markdown",
   "id": "e1ae46f5",
   "metadata": {},
   "source": [
    "This tutorial demonstrates how to use speos objects in layer core."
   ]
  },
  {
   "cell_type": "markdown",
   "id": "d4d0ecf5",
   "metadata": {},
   "source": [
    "## What is an ObjectLink?"
   ]
  },
  {
   "cell_type": "markdown",
   "id": "0fd011ee",
   "metadata": {},
   "source": [
    "The ObjectLink is an object that is created from a protobuf message and then stored in the server\n",
    "database."
   ]
  },
  {
   "cell_type": "markdown",
   "id": "aca6cb34",
   "metadata": {},
   "source": [
    "## Which speos objects are used via ObjectLink?"
   ]
  },
  {
   "cell_type": "markdown",
   "id": "c212173a",
   "metadata": {},
   "source": [
    "Almost all speos objects are used via ObjectLink: like sources, sensors, simulations and more.\n",
    "For this tutorial we will use as example the surface optical property (sop)"
   ]
  },
  {
   "cell_type": "code",
   "execution_count": 1,
   "id": "3f485f37",
   "metadata": {
    "execution": {
     "iopub.execute_input": "2025-03-28T09:27:40.118628Z",
     "iopub.status.busy": "2025-03-28T09:27:40.118440Z",
     "iopub.status.idle": "2025-03-28T09:27:40.693968Z",
     "shell.execute_reply": "2025-03-28T09:27:40.693312Z"
    }
   },
   "outputs": [],
   "source": [
    "from ansys.speos.core.kernel.sop_template import ProtoSOPTemplate\n",
    "from ansys.speos.core.speos import Speos\n"
   ]
  },
  {
   "cell_type": "markdown",
   "id": "1168f2a3",
   "metadata": {},
   "source": [
    "Create connection with speos rpc server"
   ]
  },
  {
   "cell_type": "code",
   "execution_count": 2,
   "id": "bffca33b",
   "metadata": {
    "execution": {
     "iopub.execute_input": "2025-03-28T09:27:40.696435Z",
     "iopub.status.busy": "2025-03-28T09:27:40.695980Z",
     "iopub.status.idle": "2025-03-28T09:27:40.702122Z",
     "shell.execute_reply": "2025-03-28T09:27:40.701599Z"
    }
   },
   "outputs": [],
   "source": [
    "speos = Speos(host=\"localhost\", port=50098)"
   ]
  },
  {
   "cell_type": "markdown",
   "id": "7ce7bd57",
   "metadata": {},
   "source": [
    "## Create an ObjectLink"
   ]
  },
  {
   "cell_type": "markdown",
   "id": "253ef9c5",
   "metadata": {},
   "source": [
    "Retrieve the access to the database."
   ]
  },
  {
   "cell_type": "code",
   "execution_count": 3,
   "id": "081aee10",
   "metadata": {
    "execution": {
     "iopub.execute_input": "2025-03-28T09:27:40.704225Z",
     "iopub.status.busy": "2025-03-28T09:27:40.703854Z",
     "iopub.status.idle": "2025-03-28T09:27:40.706741Z",
     "shell.execute_reply": "2025-03-28T09:27:40.706233Z"
    }
   },
   "outputs": [],
   "source": [
    "sop_t_db = speos.client.sop_templates()"
   ]
  },
  {
   "cell_type": "markdown",
   "id": "8fd96073",
   "metadata": {},
   "source": [
    "Create the protobuf message."
   ]
  },
  {
   "cell_type": "code",
   "execution_count": 4,
   "id": "3c718705",
   "metadata": {
    "execution": {
     "iopub.execute_input": "2025-03-28T09:27:40.708422Z",
     "iopub.status.busy": "2025-03-28T09:27:40.708234Z",
     "iopub.status.idle": "2025-03-28T09:27:40.711311Z",
     "shell.execute_reply": "2025-03-28T09:27:40.710764Z"
    }
   },
   "outputs": [],
   "source": [
    "sop_t = ProtoSOPTemplate()\n",
    "sop_t.name = \"Mirror_90\"\n",
    "sop_t.mirror.reflectance = 90.0"
   ]
  },
  {
   "cell_type": "markdown",
   "id": "aee6188e",
   "metadata": {},
   "source": [
    "Create the ObjectLink (here a SOPTemplateLink)."
   ]
  },
  {
   "cell_type": "code",
   "execution_count": 5,
   "id": "fe4f7448",
   "metadata": {
    "execution": {
     "iopub.execute_input": "2025-03-28T09:27:40.713379Z",
     "iopub.status.busy": "2025-03-28T09:27:40.712912Z",
     "iopub.status.idle": "2025-03-28T09:27:40.718821Z",
     "shell.execute_reply": "2025-03-28T09:27:40.718148Z"
    }
   },
   "outputs": [
    {
     "name": "stdout",
     "output_type": "stream",
     "text": [
      "ansys.api.speos.sop.v1.SOPTemplate\n",
      "{\n",
      "    \"name\": \"Mirror_90\",\n",
      "    \"mirror\": {\n",
      "        \"reflectance\": 90.0\n",
      "    },\n",
      "    \"description\": \"\",\n",
      "    \"metadata\": {}\n",
      "}\n"
     ]
    }
   ],
   "source": [
    "mirror_90_link = sop_t_db.create(message=sop_t)\n",
    "print(mirror_90_link)"
   ]
  },
  {
   "cell_type": "markdown",
   "id": "d5e73512",
   "metadata": {},
   "source": [
    "Create another ObjectLink from another protobuf message."
   ]
  },
  {
   "cell_type": "code",
   "execution_count": 6,
   "id": "90375527",
   "metadata": {
    "execution": {
     "iopub.execute_input": "2025-03-28T09:27:40.720968Z",
     "iopub.status.busy": "2025-03-28T09:27:40.720579Z",
     "iopub.status.idle": "2025-03-28T09:27:40.724113Z",
     "shell.execute_reply": "2025-03-28T09:27:40.723465Z"
    }
   },
   "outputs": [],
   "source": [
    "sop_t = ProtoSOPTemplate()\n",
    "sop_t.name = \"Mirror_100\"\n",
    "sop_t.mirror.reflectance = 100.0\n",
    "\n",
    "mirror_100_link = sop_t_db.create(message=sop_t)"
   ]
  },
  {
   "cell_type": "markdown",
   "id": "cbbeb6ad",
   "metadata": {},
   "source": [
    "## Modify an ObjectLink"
   ]
  },
  {
   "cell_type": "markdown",
   "id": "5ae9f516",
   "metadata": {},
   "source": [
    "Retrieve the protobuf message corresponding to the ObjectLink."
   ]
  },
  {
   "cell_type": "code",
   "execution_count": 7,
   "id": "e72a59bb",
   "metadata": {
    "execution": {
     "iopub.execute_input": "2025-03-28T09:27:40.726021Z",
     "iopub.status.busy": "2025-03-28T09:27:40.725844Z",
     "iopub.status.idle": "2025-03-28T09:27:40.728907Z",
     "shell.execute_reply": "2025-03-28T09:27:40.728345Z"
    }
   },
   "outputs": [],
   "source": [
    "mirror_data = mirror_90_link.get()"
   ]
  },
  {
   "cell_type": "markdown",
   "id": "ee955360",
   "metadata": {},
   "source": [
    "Modify data locally"
   ]
  },
  {
   "cell_type": "code",
   "execution_count": 8,
   "id": "b8bb9170",
   "metadata": {
    "execution": {
     "iopub.execute_input": "2025-03-28T09:27:40.730859Z",
     "iopub.status.busy": "2025-03-28T09:27:40.730462Z",
     "iopub.status.idle": "2025-03-28T09:27:40.733439Z",
     "shell.execute_reply": "2025-03-28T09:27:40.732905Z"
    }
   },
   "outputs": [],
   "source": [
    "mirror_data.name = \"Mirror_50\"\n",
    "mirror_data.mirror.reflectance = 50"
   ]
  },
  {
   "cell_type": "markdown",
   "id": "83eefa1e",
   "metadata": {},
   "source": [
    "Update on db"
   ]
  },
  {
   "cell_type": "code",
   "execution_count": 9,
   "id": "f37c7783",
   "metadata": {
    "execution": {
     "iopub.execute_input": "2025-03-28T09:27:40.735414Z",
     "iopub.status.busy": "2025-03-28T09:27:40.735062Z",
     "iopub.status.idle": "2025-03-28T09:27:40.739061Z",
     "shell.execute_reply": "2025-03-28T09:27:40.738524Z"
    }
   },
   "outputs": [
    {
     "name": "stdout",
     "output_type": "stream",
     "text": [
      "ansys.api.speos.sop.v1.SOPTemplate\n",
      "{\n",
      "    \"name\": \"Mirror_50\",\n",
      "    \"mirror\": {\n",
      "        \"reflectance\": 50.0\n",
      "    },\n",
      "    \"description\": \"\",\n",
      "    \"metadata\": {}\n",
      "}\n"
     ]
    }
   ],
   "source": [
    "mirror_90_link.set(data=mirror_data)\n",
    "print(mirror_90_link)"
   ]
  },
  {
   "cell_type": "markdown",
   "id": "ee9dc5fa",
   "metadata": {},
   "source": [
    "## Delete an ObjectLink"
   ]
  },
  {
   "cell_type": "markdown",
   "id": "3f36772e",
   "metadata": {},
   "source": [
    "This means deleting data in db"
   ]
  },
  {
   "cell_type": "code",
   "execution_count": 10,
   "id": "b52bb54f",
   "metadata": {
    "execution": {
     "iopub.execute_input": "2025-03-28T09:27:40.741165Z",
     "iopub.status.busy": "2025-03-28T09:27:40.740760Z",
     "iopub.status.idle": "2025-03-28T09:27:40.748220Z",
     "shell.execute_reply": "2025-03-28T09:27:40.747654Z"
    }
   },
   "outputs": [
    {
     "data": {
      "text/plain": [
       "[]"
      ]
     },
     "execution_count": 10,
     "metadata": {},
     "output_type": "execute_result"
    }
   ],
   "source": [
    "mirror_100_link.delete()\n",
    "mirror_90_link.delete()\n",
    "sop_t_db.list()"
   ]
  }
 ],
 "metadata": {
  "jupytext": {
   "cell_metadata_filter": "-all",
   "main_language": "python",
   "notebook_metadata_filter": "-all",
   "text_representation": {
    "extension": ".py",
    "format_name": "light"
   }
  },
  "language_info": {
   "codemirror_mode": {
    "name": "ipython",
    "version": 3
   },
   "file_extension": ".py",
   "mimetype": "text/x-python",
   "name": "python",
   "nbconvert_exporter": "python",
   "pygments_lexer": "ipython3",
   "version": "3.10.16"
  }
 },
 "nbformat": 4,
 "nbformat_minor": 5
}
