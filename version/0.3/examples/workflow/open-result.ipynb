{
 "cells": [
  {
   "cell_type": "markdown",
   "id": "48e64cf0",
   "metadata": {},
   "source": [
    "# How to open result (windows os)"
   ]
  },
  {
   "cell_type": "markdown",
   "id": "98ee1e86",
   "metadata": {},
   "source": [
    "This tutorial demonstrates how to open and review results using workflow method."
   ]
  },
  {
   "cell_type": "code",
   "execution_count": 1,
   "id": "c53061f6",
   "metadata": {
    "execution": {
     "iopub.execute_input": "2025-03-28T09:28:46.662913Z",
     "iopub.status.busy": "2025-03-28T09:28:46.662679Z",
     "iopub.status.idle": "2025-03-28T09:28:47.242617Z",
     "shell.execute_reply": "2025-03-28T09:28:47.241833Z"
    }
   },
   "outputs": [],
   "source": [
    "import os\n",
    "from pathlib import Path\n",
    "\n",
    "from ansys.speos.core import Project, Speos\n",
    "from ansys.speos.core.simulation import SimulationDirect\n",
    "\n",
    "# If using docker container\n",
    "assets_data_path = Path(\"/app\") / \"assets\"\n",
    "# If using local server\n",
    "# assets_data_path = Path().resolve().parent.parent / \"tests\" / \"assets\"\n",
    "# If using a different path\n",
    "# assets_data_path = Path(\"path/to/downloaded/example/assets\")"
   ]
  },
  {
   "cell_type": "markdown",
   "id": "a72c7d50",
   "metadata": {},
   "source": [
    "## Create connection with speos rpc server"
   ]
  },
  {
   "cell_type": "code",
   "execution_count": 2,
   "id": "3099c0f6",
   "metadata": {
    "execution": {
     "iopub.execute_input": "2025-03-28T09:28:47.245189Z",
     "iopub.status.busy": "2025-03-28T09:28:47.244647Z",
     "iopub.status.idle": "2025-03-28T09:28:47.251085Z",
     "shell.execute_reply": "2025-03-28T09:28:47.250530Z"
    }
   },
   "outputs": [],
   "source": [
    "speos = Speos(host=\"localhost\", port=50098)"
   ]
  },
  {
   "cell_type": "markdown",
   "id": "b255e9ad",
   "metadata": {},
   "source": [
    "## Create project from speos file"
   ]
  },
  {
   "cell_type": "code",
   "execution_count": 3,
   "id": "777793fb",
   "metadata": {
    "execution": {
     "iopub.execute_input": "2025-03-28T09:28:47.253157Z",
     "iopub.status.busy": "2025-03-28T09:28:47.252739Z",
     "iopub.status.idle": "2025-03-28T09:28:47.426113Z",
     "shell.execute_reply": "2025-03-28T09:28:47.425458Z"
    }
   },
   "outputs": [
    {
     "name": "stdout",
     "output_type": "stream",
     "text": [
      "{\n",
      "    \"name\": \"LG_50M_Colorimetric_short\",\n",
      "    \"description\": \"From /app/assets/LG_50M_Colorimetric_short.sv5/LG_50M_Colorimetric_short.sv5\",\n",
      "    \"part_guid\": \"3d34ae0e-87a1-4fd4-9b8e-764a67a762a9\",\n",
      "    \"sources\": [\n",
      "        {\n",
      "            \"name\": \"Dom Source 2 (0) in SOURCE2\",\n",
      "            \"metadata\": {\n",
      "                \"UniqueId\": \"86386a96-7930-47b2-949a-5ff16432eb00\"\n",
      "            },\n",
      "            \"source_guid\": \"a2614aba-6758-4b7c-af94-f4a86be31487\",\n",
      "            \"description\": \"\",\n",
      "            \"source\": {\n",
      "                \"name\": \"Dom Source 2 (0) in SOURCE2\",\n",
      "                \"surface\": {\n",
      "                    \"radiant_flux\": {\n",
      "                        \"radiant_value\": 6.590041607465698\n",
      "                    },\n",
      "                    \"intensity_guid\": \"65824fe2-62d8-4ff7-8772-9b82bfe7e0df\",\n",
      "                    \"exitance_constant\": {\n",
      "                        \"geo_paths\": [\n",
      "                            {\n",
      "                                \"geo_path\": \"Solid Body in SOURCE2:2920204960/Face in SOURCE2:222\",\n",
      "                                \"reverse_normal\": false\n",
      "                            }\n",
      "                        ]\n",
      "                    },\n",
      "                    \"spectrum_guid\": \"34a017e9-6b44-4d33-8c0c-bfae9a84e2e6\",\n",
      "                    \"intensity\": {\n",
      "                        \"cos\": {\n",
      "                            \"N\": 1.0,\n",
      "                            \"total_angle\": 180.0\n",
      "                        },\n",
      "                        \"name\": \"\",\n",
      "                        \"description\": \"\",\n",
      "                        \"metadata\": {}\n",
      "                    },\n",
      "                    \"spectrum\": {\n",
      "                        \"library\": {\n",
      "                            \"file_uri\": \"/app/assets/LG_50M_Colorimetric_short.sv5/Red Spectrum.spectrum\"\n",
      "                        },\n",
      "                        \"name\": \"\",\n",
      "                        \"description\": \"\",\n",
      "                        \"metadata\": {}\n",
      "                    }\n",
      "                },\n",
      "                \"description\": \"\",\n",
      "                \"metadata\": {}\n",
      "            }\n",
      "        },\n",
      "        {\n",
      "            \"name\": \"Surface Source (0) in SOURCE1\",\n",
      "            \"metadata\": {\n",
      "                \"UniqueId\": \"713b1300-b693-4033-8235-ae5e16072405\"\n",
      "            },\n",
      "            \"source_guid\": \"06ed7c0f-7fff-4640-b254-ccc8956bbcbc\",\n",
      "            \"description\": \"\",\n",
      "            \"source\": {\n",
      "                \"name\": \"Surface Source (0) in SOURCE1\",\n",
      "                \"surface\": {\n",
      "                    \"radiant_flux\": {\n",
      "                        \"radiant_value\": 9.290411220389682\n",
      "                    },\n",
      "                    \"intensity_guid\": \"d3c9d8f9-addf-4995-874d-e15d7c8a0e47\",\n",
      "                    \"exitance_constant\": {\n",
      "                        \"geo_paths\": [\n",
      "                            {\n",
      "                                \"geo_path\": \"Solid Body in SOURCE1:2494956811/Face in SOURCE1:187\",\n",
      "                                \"reverse_normal\": false\n",
      "                            }\n",
      "                        ]\n",
      "                    },\n",
      "                    \"spectrum_guid\": \"bb40acb7-b1e7-408c-8439-38f4709786a4\",\n",
      "                    \"intensity\": {\n",
      "                        \"cos\": {\n",
      "                            \"N\": 1.0,\n",
      "                            \"total_angle\": 180.0\n",
      "                        },\n",
      "                        \"name\": \"\",\n",
      "                        \"description\": \"\",\n",
      "                        \"metadata\": {}\n",
      "                    },\n",
      "                    \"spectrum\": {\n",
      "                        \"library\": {\n",
      "                            \"file_uri\": \"/app/assets/LG_50M_Colorimetric_short.sv5/Blue Spectrum.spectrum\"\n",
      "                        },\n",
      "                        \"name\": \"\",\n",
      "                        \"description\": \"\",\n",
      "                        \"metadata\": {}\n",
      "                    }\n",
      "                },\n",
      "                \"description\": \"\",\n",
      "                \"metadata\": {}\n",
      "            }\n",
      "        }\n",
      "    ],\n",
      "    \"sensors\": [\n",
      "        {\n",
      "            \"name\": \"Dom Irradiance Sensor (0)\",\n",
      "            \"metadata\": {\n",
      "                \"UniqueId\": \"98e4f290-736c-46fc-955e-b4bc98b07f43\"\n",
      "            },\n",
      "            \"sensor_guid\": \"5e0dfb3d-f304-43ef-aded-f0298eaf4edc\",\n",
      "            \"result_file_name\": \"ASSEMBLY1.DS (0).Dom Irradiance Sensor (0)\",\n",
      "            \"description\": \"\",\n",
      "            \"sensor\": {\n",
      "                \"irradiance_sensor_template\": {\n",
      "                    \"sensor_type_colorimetric\": {\n",
      "                        \"wavelengths_range\": {\n",
      "                            \"w_start\": 400.0,\n",
      "                            \"w_end\": 700.0,\n",
      "                            \"w_sampling\": 25\n",
      "                        }\n",
      "                    },\n",
      "                    \"illuminance_type_planar\": {},\n",
      "                    \"dimensions\": {\n",
      "                        \"x_start\": -20.0,\n",
      "                        \"x_end\": 20.0,\n",
      "                        \"x_sampling\": 500,\n",
      "                        \"y_start\": -20.0,\n",
      "                        \"y_end\": 20.0,\n",
      "                        \"y_sampling\": 500\n",
      "                    },\n",
      "                    \"axis_system\": [\n",
      "                        -42.0,\n",
      "                        2.0,\n",
      "                        5.0,\n",
      "                        0.0,\n",
      "                        1.0,\n",
      "                        0.0,\n",
      "                        0.0,\n",
      "                        0.0,\n",
      "                        -1.0,\n",
      "                        -1.0,\n",
      "                        0.0,\n",
      "                        0.0\n",
      "                    ],\n",
      "                    \"layer_type_source\": {},\n",
      "                    \"integration_direction\": [\n",
      "                        1.0,\n",
      "                        -0.0,\n",
      "                        -0.0\n",
      "                    ],\n",
      "                    \"ray_file_type\": \"RayFileNone\"\n",
      "                },\n",
      "                \"name\": \"Dom Irradiance Sensor (0)\",\n",
      "                \"description\": \"\",\n",
      "                \"metadata\": {}\n",
      "            }\n",
      "        }\n",
      "    ],\n",
      "    \"simulations\": [\n",
      "        {\n",
      "            \"name\": \"ASSEMBLY1.DS (0)\",\n",
      "            \"metadata\": {\n",
      "                \"UniqueId\": \"397fd49d-0ae4-4dfe-97fd-2aa39f03961d\"\n",
      "            },\n",
      "            \"simulation_guid\": \"e4ca919f-cab3-4062-ac2d-a2aaeb68617e\",\n",
      "            \"sensor_paths\": [\n",
      "                \"Dom Irradiance Sensor (0)\"\n",
      "            ],\n",
      "            \"source_paths\": [\n",
      "                \"Dom Source 2 (0) in SOURCE2\",\n",
      "                \"Surface Source (0) in SOURCE1\"\n",
      "            ],\n",
      "            \"description\": \"\",\n",
      "            \"simulation\": {\n",
      "                \"direct_mc_simulation_template\": {\n",
      "                    \"geom_distance_tolerance\": 0.05,\n",
      "                    \"max_impact\": 100,\n",
      "                    \"weight\": {\n",
      "                        \"minimum_energy_percentage\": 0.005\n",
      "                    },\n",
      "                    \"dispersion\": true,\n",
      "                    \"colorimetric_standard\": \"CIE_1931\",\n",
      "                    \"fast_transmission_gathering\": false,\n",
      "                    \"ambient_material_uri\": \"\"\n",
      "                },\n",
      "                \"name\": \"ASSEMBLY1.DS (0)\",\n",
      "                \"metadata\": {},\n",
      "                \"description\": \"\",\n",
      "                \"scene_guid\": \"0fb9a7ce-50ed-4987-8e9b-4518b1783442\",\n",
      "                \"simulation_path\": \"ASSEMBLY1.DS (0)\",\n",
      "                \"job_type\": \"CPU\"\n",
      "            }\n",
      "        }\n",
      "    ],\n",
      "    \"materials\": [\n",
      "        {\n",
      "            \"name\": \"Material.1\",\n",
      "            \"metadata\": {\n",
      "                \"UniqueId\": \"76d337fa-38bd-452a-8f77-53bf5d7cd878\"\n",
      "            },\n",
      "            \"sop_guids\": [\n",
      "                \"779ab7ed-8fe4-4761-b059-7a9e8b1d4888\"\n",
      "            ],\n",
      "            \"geometries\": {\n",
      "                \"geo_paths\": [\n",
      "                    \"Solid Body in GUIDE:1379760262/Face in GUIDE:169\"\n",
      "                ]\n",
      "            },\n",
      "            \"description\": \"\",\n",
      "            \"sops\": [\n",
      "                {\n",
      "                    \"mirror\": {\n",
      "                        \"reflectance\": 100.0\n",
      "                    },\n",
      "                    \"name\": \"\",\n",
      "                    \"description\": \"\",\n",
      "                    \"metadata\": {}\n",
      "                }\n",
      "            ]\n",
      "        },\n",
      "        {\n",
      "            \"name\": \"Material.2\",\n",
      "            \"metadata\": {\n",
      "                \"UniqueId\": \"aeda246e-ffb5-49f0-ada1-361f8fab2fca\"\n",
      "            },\n",
      "            \"vop_guid\": \"cb4abbfd-46cb-47e2-af5f-f38ec8a7230e\",\n",
      "            \"sop_guids\": [\n",
      "                \"779ab7ed-8fe4-4761-b059-7a9e8b1d4888\"\n",
      "            ],\n",
      "            \"geometries\": {\n",
      "                \"geo_paths\": [\n",
      "                    \"Solid Body in SOURCE2:2920204960\",\n",
      "                    \"Solid Body in SOURCE1:2494956811\"\n",
      "                ]\n",
      "            },\n",
      "            \"description\": \"\",\n",
      "            \"vop\": {\n",
      "                \"opaque\": {},\n",
      "                \"name\": \"\",\n",
      "                \"description\": \"\",\n",
      "                \"metadata\": {}\n",
      "            },\n",
      "            \"sops\": [\n",
      "                {\n",
      "                    \"mirror\": {\n",
      "                        \"reflectance\": 100.0\n",
      "                    },\n",
      "                    \"name\": \"\",\n",
      "                    \"description\": \"\",\n",
      "                    \"metadata\": {}\n",
      "                }\n",
      "            ]\n",
      "        },\n",
      "        {\n",
      "            \"name\": \"Material.3\",\n",
      "            \"metadata\": {\n",
      "                \"UniqueId\": \"23414c6e-9b43-4156-ba64-e52efd8da355\"\n",
      "            },\n",
      "            \"vop_guid\": \"7ec26a34-02ec-441f-b3dc-03ec859d9fe3\",\n",
      "            \"sop_guids\": [\n",
      "                \"2e08a147-3a95-4fc2-a7aa-1f3b4afef750\"\n",
      "            ],\n",
      "            \"geometries\": {\n",
      "                \"geo_paths\": [\n",
      "                    \"Solid Body in GUIDE:1379760262\"\n",
      "                ]\n",
      "            },\n",
      "            \"description\": \"\",\n",
      "            \"vop\": {\n",
      "                \"optic\": {\n",
      "                    \"index\": 1.4,\n",
      "                    \"constringence\": 60.0,\n",
      "                    \"absorption\": 0.0\n",
      "                },\n",
      "                \"name\": \"\",\n",
      "                \"description\": \"\",\n",
      "                \"metadata\": {}\n",
      "            },\n",
      "            \"sops\": [\n",
      "                {\n",
      "                    \"optical_polished\": {},\n",
      "                    \"name\": \"\",\n",
      "                    \"description\": \"\",\n",
      "                    \"metadata\": {}\n",
      "                }\n",
      "            ]\n",
      "        },\n",
      "        {\n",
      "            \"name\": \"Material.4\",\n",
      "            \"metadata\": {\n",
      "                \"UniqueId\": \"b6af9b7c-31e9-4772-826f-dcc1864efdaa\"\n",
      "            },\n",
      "            \"vop_guid\": \"b9cf2e81-1229-455a-9e40-af473a0f11d8\",\n",
      "            \"description\": \"\",\n",
      "            \"sop_guids\": [],\n",
      "            \"vop\": {\n",
      "                \"optic\": {\n",
      "                    \"index\": 1.0,\n",
      "                    \"absorption\": 0.0\n",
      "                },\n",
      "                \"name\": \"\",\n",
      "                \"description\": \"\",\n",
      "                \"metadata\": {}\n",
      "            }\n",
      "        }\n",
      "    ],\n",
      "    \"metadata\": {},\n",
      "    \"scenes\": []\n",
      "}\n"
     ]
    }
   ],
   "source": [
    "p = Project(\n",
    "    speos=speos,\n",
    "    path=str(assets_data_path / \"LG_50M_Colorimetric_short.sv5\" / \"LG_50M_Colorimetric_short.sv5\"),\n",
    ")\n",
    "print(p)"
   ]
  },
  {
   "cell_type": "markdown",
   "id": "ac6a9f7e",
   "metadata": {},
   "source": [
    "## Retrieve the simulation feature"
   ]
  },
  {
   "cell_type": "markdown",
   "id": "db0d7628",
   "metadata": {},
   "source": [
    "Use find method from project class to retrieve the simulation feature."
   ]
  },
  {
   "cell_type": "code",
   "execution_count": 4,
   "id": "1b3958cf",
   "metadata": {
    "execution": {
     "iopub.execute_input": "2025-03-28T09:28:47.428063Z",
     "iopub.status.busy": "2025-03-28T09:28:47.427875Z",
     "iopub.status.idle": "2025-03-28T09:28:47.431073Z",
     "shell.execute_reply": "2025-03-28T09:28:47.430536Z"
    }
   },
   "outputs": [],
   "source": [
    "sim = p.find(name=\".*\", name_regex=True, feature_type=SimulationDirect)[0]"
   ]
  },
  {
   "cell_type": "markdown",
   "id": "db2669a5",
   "metadata": {},
   "source": [
    "## Run simulation"
   ]
  },
  {
   "cell_type": "markdown",
   "id": "4fd508c8",
   "metadata": {},
   "source": [
    "simulation can be run using CPU via compute_CPU method or using GPU via compute_GPU method."
   ]
  },
  {
   "cell_type": "code",
   "execution_count": 5,
   "id": "ef199284",
   "metadata": {
    "execution": {
     "iopub.execute_input": "2025-03-28T09:28:47.433100Z",
     "iopub.status.busy": "2025-03-28T09:28:47.432716Z",
     "iopub.status.idle": "2025-03-28T09:28:57.528160Z",
     "shell.execute_reply": "2025-03-28T09:28:57.527549Z"
    }
   },
   "outputs": [
    {
     "name": "stdout",
     "output_type": "stream",
     "text": [
      "[upload_response {\n",
      "  info {\n",
      "    uri: \"4dc7efec-2664-4d19-b7a7-35ec5e07afd6\"\n",
      "    file_name: \"ASSEMBLY1.DS (0).Dom Irradiance Sensor (0).xmp\"\n",
      "    file_size: 2156974\n",
      "  }\n",
      "  upload_duration {\n",
      "    nanos: 2764845\n",
      "  }\n",
      "}\n",
      ", upload_response {\n",
      "  info {\n",
      "    uri: \"2efcc37d-07bd-4c1b-8dfb-1b72349a3b06\"\n",
      "    file_name: \"ASSEMBLY1.DS (0).html\"\n",
      "    file_size: 646289\n",
      "  }\n",
      "  upload_duration {\n",
      "    nanos: 964915\n",
      "  }\n",
      "}\n",
      "]\n"
     ]
    }
   ],
   "source": [
    "results = sim.compute_CPU()  # run in CPU\n",
    "print(results)"
   ]
  },
  {
   "cell_type": "markdown",
   "id": "857eb4a9",
   "metadata": {},
   "source": [
    "## Open result (only windows):"
   ]
  },
  {
   "cell_type": "markdown",
   "id": "ee2d4a82",
   "metadata": {},
   "source": [
    "Display one result as image."
   ]
  },
  {
   "cell_type": "markdown",
   "id": "4d952876",
   "metadata": {},
   "source": [
    "A full path can be given, or the name of the result."
   ]
  },
  {
   "cell_type": "code",
   "execution_count": 6,
   "id": "f86c480e",
   "metadata": {
    "execution": {
     "iopub.execute_input": "2025-03-28T09:28:57.530134Z",
     "iopub.status.busy": "2025-03-28T09:28:57.529934Z",
     "iopub.status.idle": "2025-03-28T09:28:57.533267Z",
     "shell.execute_reply": "2025-03-28T09:28:57.532651Z"
    }
   },
   "outputs": [],
   "source": [
    "if os.name == \"nt\":\n",
    "    from ansys.speos.core.workflow.open_result import open_result_image\n",
    "\n",
    "    open_result_image(\n",
    "        simulation_feature=sim,\n",
    "        result_name=\"ASSEMBLY1.DS (0).Dom Irradiance Sensor (0).xmp\",\n",
    "    )"
   ]
  },
  {
   "cell_type": "markdown",
   "id": "93cbf30a",
   "metadata": {},
   "source": [
    "## Display result in viewer (only windows)."
   ]
  },
  {
   "cell_type": "markdown",
   "id": "e7cef6cc",
   "metadata": {},
   "source": [
    "Display one result in a result viewer."
   ]
  },
  {
   "cell_type": "markdown",
   "id": "e1d89de9",
   "metadata": {},
   "source": [
    "A full path can be given, or the name of the result."
   ]
  },
  {
   "cell_type": "code",
   "execution_count": 7,
   "id": "b1ff8996",
   "metadata": {
    "execution": {
     "iopub.execute_input": "2025-03-28T09:28:57.535486Z",
     "iopub.status.busy": "2025-03-28T09:28:57.534871Z",
     "iopub.status.idle": "2025-03-28T09:28:57.538389Z",
     "shell.execute_reply": "2025-03-28T09:28:57.537740Z"
    }
   },
   "outputs": [],
   "source": [
    "if os.name == \"nt\":\n",
    "    from ansys.speos.core.workflow.open_result import open_result_in_viewer\n",
    "\n",
    "    open_result_in_viewer(\n",
    "        simulation_feature=sim,\n",
    "        result_name=\"ASSEMBLY1.DS (0).Dom Irradiance Sensor (0).xmp\",\n",
    "    )"
   ]
  }
 ],
 "metadata": {
  "jupytext": {
   "cell_metadata_filter": "-all",
   "main_language": "python",
   "notebook_metadata_filter": "-all",
   "text_representation": {
    "extension": ".py",
    "format_name": "light"
   }
  },
  "language_info": {
   "codemirror_mode": {
    "name": "ipython",
    "version": 3
   },
   "file_extension": ".py",
   "mimetype": "text/x-python",
   "name": "python",
   "nbconvert_exporter": "python",
   "pygments_lexer": "ipython3",
   "version": "3.10.16"
  }
 },
 "nbformat": 4,
 "nbformat_minor": 5
}
