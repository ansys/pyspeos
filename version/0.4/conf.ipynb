{
 "cells": [
  {
   "cell_type": "code",
   "execution_count": 1,
   "id": "eab0770c",
   "metadata": {
    "execution": {
     "iopub.execute_input": "2025-04-17T12:01:06.041813Z",
     "iopub.status.busy": "2025-04-17T12:01:06.041198Z",
     "iopub.status.idle": "2025-04-17T12:01:06.050869Z",
     "shell.execute_reply": "2025-04-17T12:01:06.050329Z"
    }
   },
   "outputs": [
    {
     "data": {
      "text/plain": [
       "'Sphinx documentation configuration file.'"
      ]
     },
     "execution_count": 1,
     "metadata": {},
     "output_type": "execute_result"
    }
   ],
   "source": [
    "\"\"\"Sphinx documentation configuration file.\"\"\""
   ]
  },
  {
   "cell_type": "code",
   "execution_count": 2,
   "id": "0b875519",
   "metadata": {
    "execution": {
     "iopub.execute_input": "2025-04-17T12:01:06.052933Z",
     "iopub.status.busy": "2025-04-17T12:01:06.052545Z",
     "iopub.status.idle": "2025-04-17T12:01:06.055257Z",
     "shell.execute_reply": "2025-04-17T12:01:06.054749Z"
    }
   },
   "outputs": [],
   "source": [
    "from datetime import datetime\n",
    "import os\n",
    "import pathlib\n",
    "import shutil"
   ]
  },
  {
   "cell_type": "code",
   "execution_count": 3,
   "id": "d18cba5c",
   "metadata": {
    "execution": {
     "iopub.execute_input": "2025-04-17T12:01:06.057166Z",
     "iopub.status.busy": "2025-04-17T12:01:06.056788Z",
     "iopub.status.idle": "2025-04-17T12:01:06.168359Z",
     "shell.execute_reply": "2025-04-17T12:01:06.167715Z"
    }
   },
   "outputs": [],
   "source": [
    "from ansys_sphinx_theme import ansys_favicon, get_version_match\n",
    "import sphinx\n",
    "from sphinx.builders.latex import LaTeXBuilder\n",
    "from sphinx.util import logging\n",
    "from sphinx.util.display import status_iterator"
   ]
  },
  {
   "cell_type": "code",
   "execution_count": 4,
   "id": "a1817d4e",
   "metadata": {
    "execution": {
     "iopub.execute_input": "2025-04-17T12:01:06.170704Z",
     "iopub.status.busy": "2025-04-17T12:01:06.170273Z",
     "iopub.status.idle": "2025-04-17T12:01:06.950264Z",
     "shell.execute_reply": "2025-04-17T12:01:06.949581Z"
    }
   },
   "outputs": [],
   "source": [
    "from ansys.speos.core import __version__"
   ]
  },
  {
   "cell_type": "code",
   "execution_count": 5,
   "id": "d8aa3bc2",
   "metadata": {
    "execution": {
     "iopub.execute_input": "2025-04-17T12:01:06.952942Z",
     "iopub.status.busy": "2025-04-17T12:01:06.952437Z",
     "iopub.status.idle": "2025-04-17T12:01:06.956211Z",
     "shell.execute_reply": "2025-04-17T12:01:06.955530Z"
    }
   },
   "outputs": [],
   "source": [
    "LaTeXBuilder.supported_image_types = [\"image/png\", \"image/pdf\", \"image/svg+xml\"]\n",
    "os.environ[\"DOCUMENTATION_BUILDING\"] = \"true\"\n",
    "os.environ[\"PYANSYS_VISUALIZER_HTML_BACKEND\"] = \"true\"\n",
    "logger = logging.getLogger(__name__)"
   ]
  },
  {
   "cell_type": "code",
   "execution_count": 6,
   "id": "e505e354",
   "metadata": {
    "execution": {
     "iopub.execute_input": "2025-04-17T12:01:06.958358Z",
     "iopub.status.busy": "2025-04-17T12:01:06.957900Z",
     "iopub.status.idle": "2025-04-17T12:01:06.961161Z",
     "shell.execute_reply": "2025-04-17T12:01:06.960637Z"
    }
   },
   "outputs": [],
   "source": [
    "# Project information\n",
    "project = \"ansys-speos-core\"\n",
    "copyright = f\"(c) {datetime.now().year} ANSYS, Inc. All rights reserved\"\n",
    "author = \"Ansys Inc.\"\n",
    "release = version = __version__\n",
    "cname = os.getenv(\"DOCUMENTATION_CNAME\", default=\"speos.docs.pyansys.com\")"
   ]
  },
  {
   "cell_type": "code",
   "execution_count": 7,
   "id": "11ea019f",
   "metadata": {
    "execution": {
     "iopub.execute_input": "2025-04-17T12:01:06.962896Z",
     "iopub.status.busy": "2025-04-17T12:01:06.962705Z",
     "iopub.status.idle": "2025-04-17T12:01:06.965441Z",
     "shell.execute_reply": "2025-04-17T12:01:06.964934Z"
    }
   },
   "outputs": [],
   "source": [
    "# use the default pyansys logo\n",
    "html_theme = \"ansys_sphinx_theme\"\n",
    "html_favicon = ansys_favicon"
   ]
  },
  {
   "cell_type": "code",
   "execution_count": 8,
   "id": "481c3165",
   "metadata": {
    "execution": {
     "iopub.execute_input": "2025-04-17T12:01:06.967206Z",
     "iopub.status.busy": "2025-04-17T12:01:06.967016Z",
     "iopub.status.idle": "2025-04-17T12:01:06.971278Z",
     "shell.execute_reply": "2025-04-17T12:01:06.970730Z"
    }
   },
   "outputs": [],
   "source": [
    "# specify the location of your github repo\n",
    "html_theme_options = {\n",
    "    \"logo\": \"pyansys\",\n",
    "    \"github_url\": \"https://github.com/ansys/pyspeos\",\n",
    "    \"show_prev_next\": False,\n",
    "    \"switcher\": {\n",
    "        \"json_url\": f\"https://{cname}/versions.json\",\n",
    "        \"version_match\": get_version_match(__version__),\n",
    "    },\n",
    "    \"check_switcher\": False,\n",
    "    \"ansys_sphinx_theme_autoapi\": {\n",
    "        \"project\": project,\n",
    "    },\n",
    "}\n",
    "BUILD_CHEATSHEET = os.environ.get(\"BUILD_CHEATSHEET\", \"false\").lower() == \"true\"\n",
    "if BUILD_CHEATSHEET:\n",
    "    html_theme_options[\"cheatsheet\"] = {\n",
    "        \"file\": \"cheat_sheet/cheat_sheet_script.qmd\",\n",
    "        \"title\": \"PySpeos cheat sheet\",\n",
    "        \"version\": f\"v{version}\",\n",
    "        \"pages\": [\"index\"],\n",
    "    }"
   ]
  },
  {
   "cell_type": "code",
   "execution_count": 9,
   "id": "5d68755c",
   "metadata": {
    "execution": {
     "iopub.execute_input": "2025-04-17T12:01:06.972986Z",
     "iopub.status.busy": "2025-04-17T12:01:06.972773Z",
     "iopub.status.idle": "2025-04-17T12:01:06.975893Z",
     "shell.execute_reply": "2025-04-17T12:01:06.975375Z"
    }
   },
   "outputs": [],
   "source": [
    "# Sphinx extensions\n",
    "extensions = [\n",
    "    \"numpydoc\",\n",
    "    \"sphinx.ext.intersphinx\",\n",
    "    \"sphinx_copybutton\",\n",
    "    \"sphinx.ext.autodoc\",\n",
    "    \"sphinx_design\",\n",
    "    \"sphinx_jinja\",\n",
    "    \"ansys_sphinx_theme.extension.autoapi\",\n",
    "    \"nbsphinx\",\n",
    "    \"myst_parser\",\n",
    "    \"sphinxcontrib.mermaid\",\n",
    "]"
   ]
  },
  {
   "cell_type": "code",
   "execution_count": 10,
   "id": "a34fc606",
   "metadata": {
    "execution": {
     "iopub.execute_input": "2025-04-17T12:01:06.977840Z",
     "iopub.status.busy": "2025-04-17T12:01:06.977489Z",
     "iopub.status.idle": "2025-04-17T12:01:06.980780Z",
     "shell.execute_reply": "2025-04-17T12:01:06.980167Z"
    }
   },
   "outputs": [],
   "source": [
    "# Intersphinx mapping\n",
    "intersphinx_mapping = {\n",
    "    \"python\": (\"https://docs.python.org/3/\", None),\n",
    "    \"grpc\": (\"https://grpc.github.io/grpc/python/\", None),\n",
    "    \"pypim\": (\"https://pypim.docs.pyansys.com/version/stable\", None),\n",
    "    # kept here as an example\n",
    "    # \"scipy\": (\"https://docs.scipy.org/doc/scipy/reference\", None),\n",
    "    # \"numpy\": (\"https://numpy.org/devdocs\", None),\n",
    "    # \"matplotlib\": (\"https://matplotlib.org/stable\", None),\n",
    "    # \"pandas\": (\"https://pandas.pydata.org/pandas-docs/stable\", None),\n",
    "    # \"pyvista\": (\"https://docs.pyvista.org/\", None),\n",
    "}"
   ]
  },
  {
   "cell_type": "code",
   "execution_count": 11,
   "id": "2a94fc8e",
   "metadata": {
    "execution": {
     "iopub.execute_input": "2025-04-17T12:01:06.982826Z",
     "iopub.status.busy": "2025-04-17T12:01:06.982473Z",
     "iopub.status.idle": "2025-04-17T12:01:06.986039Z",
     "shell.execute_reply": "2025-04-17T12:01:06.985377Z"
    }
   },
   "outputs": [],
   "source": [
    "numpydoc_show_class_members = False\n",
    "numpydoc_xref_param_type = True\n",
    "numpydoc_validate = True\n",
    "numpydoc_validation_checks = {\n",
    "    \"GL06\",  # Found unknown section\n",
    "    \"GL07\",  # Sections are in the wrong order.\n",
    "    # \"GL08\",  # The object does not have a docstring\n",
    "    \"GL09\",  # Deprecation warning should precede extended summary\n",
    "    \"GL10\",  # reST directives {directives} must be followed by two colons\n",
    "    \"SS01\",  # No summary found\n",
    "    \"SS02\",  # Summary does not start with a capital letter\n",
    "    # \"SS03\", # Summary does not end with a period\n",
    "    \"SS04\",  # Summary contains heading whitespaces\n",
    "    # \"SS05\", # Summary must start with infinitive verb, not third person\n",
    "    \"RT02\",  # The first line of the Returns section should contain only the\n",
    "    # type, unless multiple values are being returned\"\n",
    "}"
   ]
  },
  {
   "cell_type": "code",
   "execution_count": 12,
   "id": "4fbe253c",
   "metadata": {
    "execution": {
     "iopub.execute_input": "2025-04-17T12:01:06.988071Z",
     "iopub.status.busy": "2025-04-17T12:01:06.987703Z",
     "iopub.status.idle": "2025-04-17T12:01:06.990658Z",
     "shell.execute_reply": "2025-04-17T12:01:06.990127Z"
    }
   },
   "outputs": [],
   "source": [
    "# static path\n",
    "html_static_path = [\"_static\"]\n",
    "html_css_files = [\"custom.css\"]"
   ]
  },
  {
   "cell_type": "code",
   "execution_count": 13,
   "id": "193e7b12",
   "metadata": {
    "execution": {
     "iopub.execute_input": "2025-04-17T12:01:06.992412Z",
     "iopub.status.busy": "2025-04-17T12:01:06.992218Z",
     "iopub.status.idle": "2025-04-17T12:01:06.995122Z",
     "shell.execute_reply": "2025-04-17T12:01:06.994581Z"
    }
   },
   "outputs": [],
   "source": [
    "# Add any paths that contain templates here, relative to this directory.\n",
    "templates_path = [\"_templates\"]"
   ]
  },
  {
   "cell_type": "code",
   "execution_count": 14,
   "id": "3d7c77cf",
   "metadata": {
    "execution": {
     "iopub.execute_input": "2025-04-17T12:01:06.996997Z",
     "iopub.status.busy": "2025-04-17T12:01:06.996610Z",
     "iopub.status.idle": "2025-04-17T12:01:06.999522Z",
     "shell.execute_reply": "2025-04-17T12:01:06.998873Z"
    }
   },
   "outputs": [],
   "source": [
    "# The suffix(es) of source filenames.\n",
    "source_suffix = \".rst\""
   ]
  },
  {
   "cell_type": "code",
   "execution_count": 15,
   "id": "b3035308",
   "metadata": {
    "execution": {
     "iopub.execute_input": "2025-04-17T12:01:07.001569Z",
     "iopub.status.busy": "2025-04-17T12:01:07.001216Z",
     "iopub.status.idle": "2025-04-17T12:01:07.004277Z",
     "shell.execute_reply": "2025-04-17T12:01:07.003631Z"
    }
   },
   "outputs": [],
   "source": [
    "# The master toctree document.\n",
    "master_doc = \"index\"\n",
    "suppress_warnings = [\"autoapi\"]\n",
    "autodoc_typehints = \"description\""
   ]
  },
  {
   "cell_type": "code",
   "execution_count": 16,
   "id": "eaff1292",
   "metadata": {
    "execution": {
     "iopub.execute_input": "2025-04-17T12:01:07.006207Z",
     "iopub.status.busy": "2025-04-17T12:01:07.005819Z",
     "iopub.status.idle": "2025-04-17T12:01:07.011428Z",
     "shell.execute_reply": "2025-04-17T12:01:07.010774Z"
    },
    "lines_to_next_cell": 2
   },
   "outputs": [],
   "source": [
    "# -- Declare the Jinja context -----------------------------------------------\n",
    "BUILD_EXAMPLES = True if os.environ.get(\"BUILD_EXAMPLES\", \"true\") == \"true\" else False\n",
    "if BUILD_EXAMPLES:\n",
    "    extensions.extend([\"myst_parser\", \"nbsphinx\"])\n",
    "    nbsphinx_execute = \"always\"\n",
    "    nbsphinx_custom_formats = {\n",
    "        \".mystnb\": [\"jupytext.reads\", {\"fmt\": \"mystnb\"}],\n",
    "        \".py\": [\"jupytext.reads\", {\"fmt\": \"\"}],\n",
    "    }\n",
    "    nbsphinx_thumbnails = {\n",
    "        \"examples/core/opt-prop\": \"_static/thumbnails/property_520x520.png\",\n",
    "        \"examples/core/source\": \"_static/thumbnails/source_520x520.png\",\n",
    "        \"examples/core/sensor\": \"_static/thumbnails/sensor_520x520.png\",\n",
    "        \"examples/core/part\": \"_static/thumbnails/part_520x520.png\",\n",
    "        \"examples/core/simulation\": \"_static/thumbnails/simulation_520x520.png\",\n",
    "        \"examples/core/project\": \"_static/thumbnails/how_to_create_a_project.PNG\",\n",
    "        \"examples/core/lpf-preview\": \"_static/thumbnails/script_lpf_preview.PNG\",\n",
    "        \"examples/core/prism-example\": \"_static/thumbnails/prism_example_using_script_layer.PNG\",\n",
    "        \"examples/kernel/object-link\": \"_static/thumbnails/pySpeos_520x520.png\",\n",
    "        \"examples/kernel/scene-job\": \"_static/thumbnails/pySpeos_520x520.png\",\n",
    "        \"examples/kernel/modify-scene\": \"_static/thumbnails/pySpeos_520x520.png\",\n",
    "        \"examples/workflow/open-result\": \"_static/thumbnails/workflow_open_result.png\",\n",
    "        \"examples/workflow/combine-speos\": \"_static/thumbnails/workflow_moving_car.PNG\",\n",
    "    }\n",
    "    nbsphinx_prompt_width = \"\"\n",
    "    nbsphinx_prolog = \"\"\"\n",
    "\n",
    "    .. grid:: 5\n",
    "\n",
    "        .. grid-item::\n",
    "\n",
    "        .. grid-item::\n",
    "            :child-align: center\n",
    "\n",
    "            .. button-link:: {cname_pref}/{python_file_loc}\n",
    "                :color: primary\n",
    "                :shadow:\n",
    "\n",
    "                Download as Python script :fab:`python`\n",
    "\n",
    "        .. grid-item::\n",
    "            :child-align: center\n",
    "\n",
    "            .. button-link:: {cname_pref}/{ipynb_file_loc}\n",
    "               :color: primary\n",
    "               :shadow:\n",
    "\n",
    "                Download as Jupyter notebook :fas:`book`\n",
    "\n",
    "        .. grid-item::\n",
    "            :child-align: center\n",
    "\n",
    "            .. button-link:: {cname_pref}/{assets_loc}\n",
    "               :color: primary\n",
    "               :shadow:\n",
    "\n",
    "                Download example's assets :fa:`file`\n",
    "\n",
    "        .. grid-item::\n",
    "\n",
    "----\n",
    "\n",
    "    \"\"\".format(\n",
    "        cname_pref=f\"https://{cname}/version/{get_version_match(version)}\",\n",
    "        python_file_loc=\"{{ env.docname }}.py\",\n",
    "        ipynb_file_loc=\"{{ env.docname }}.ipynb\",\n",
    "        assets_loc=\"_static/assets/download/assets.zip\",\n",
    "    )"
   ]
  },
  {
   "cell_type": "code",
   "execution_count": 17,
   "id": "0d6f7991",
   "metadata": {
    "execution": {
     "iopub.execute_input": "2025-04-17T12:01:07.013403Z",
     "iopub.status.busy": "2025-04-17T12:01:07.013027Z",
     "iopub.status.idle": "2025-04-17T12:01:07.016080Z",
     "shell.execute_reply": "2025-04-17T12:01:07.015428Z"
    }
   },
   "outputs": [],
   "source": [
    "jinja_contexts = {\n",
    "    \"linux_containers\": {},\n",
    "    \"main_toctree\": {\n",
    "        \"build_examples\": BUILD_EXAMPLES,\n",
    "    },\n",
    "}"
   ]
  },
  {
   "cell_type": "code",
   "execution_count": 18,
   "id": "731294b7",
   "metadata": {
    "execution": {
     "iopub.execute_input": "2025-04-17T12:01:07.018038Z",
     "iopub.status.busy": "2025-04-17T12:01:07.017641Z",
     "iopub.status.idle": "2025-04-17T12:01:07.023744Z",
     "shell.execute_reply": "2025-04-17T12:01:07.023197Z"
    }
   },
   "outputs": [],
   "source": [
    "def copy_examples_to_output_dir(app: sphinx.application.Sphinx, exception: Exception):\n",
    "    \"\"\"\n",
    "    Copy the examples directory to the output directory of the documentation.\n",
    "\n",
    "    Parameters\n",
    "    ----------\n",
    "    app : sphinx.application.Sphinx\n",
    "        Sphinx application instance containing the all the doc build configuration.\n",
    "    exception : Exception\n",
    "        Exception encountered during the building of the documentation.\n",
    "\n",
    "    \"\"\"\n",
    "    OUTPUT_EXAMPLES = pathlib.Path(app.outdir) / \"examples\"\n",
    "    OUTPUT_IMAGES = OUTPUT_EXAMPLES / \"img\"\n",
    "    OUTPUT_CORE = OUTPUT_EXAMPLES / \"core\"\n",
    "    OUTPUT_KERNEL = OUTPUT_EXAMPLES / \"kernel\"\n",
    "    OUTPUT_WORKFLOW = OUTPUT_EXAMPLES / \"workflow\"\n",
    "    for directory in [\n",
    "        OUTPUT_EXAMPLES,\n",
    "        OUTPUT_IMAGES,\n",
    "        OUTPUT_CORE,\n",
    "        OUTPUT_KERNEL,\n",
    "        OUTPUT_WORKFLOW,\n",
    "    ]:\n",
    "        if not directory.exists():\n",
    "            directory.mkdir(parents=True, exist_ok=True)\n",
    "\n",
    "    SOURCE_EXAMPLES = pathlib.Path(app.srcdir) / \"examples\"\n",
    "    EXAMPLES_DIRECTORY = SOURCE_EXAMPLES.parent.parent.parent / \"examples\"\n",
    "\n",
    "    # Copyt the examples\n",
    "    examples = list(EXAMPLES_DIRECTORY.glob(\"**/*.py\"))\n",
    "    for file in status_iterator(\n",
    "        examples,\n",
    "        \"Copying example to doc/_build/examples/\",\n",
    "        \"green\",\n",
    "        len(examples),\n",
    "        verbosity=1,\n",
    "        stringify_func=(lambda file: file.name),\n",
    "    ):\n",
    "        destination_file = OUTPUT_EXAMPLES / file.parent.name / file.name\n",
    "        destination_file.write_text(file.read_text(encoding=\"utf-8\"), encoding=\"utf-8\")"
   ]
  },
  {
   "cell_type": "code",
   "execution_count": 19,
   "id": "195deb09",
   "metadata": {
    "execution": {
     "iopub.execute_input": "2025-04-17T12:01:07.025578Z",
     "iopub.status.busy": "2025-04-17T12:01:07.025226Z",
     "iopub.status.idle": "2025-04-17T12:01:07.030426Z",
     "shell.execute_reply": "2025-04-17T12:01:07.029763Z"
    }
   },
   "outputs": [],
   "source": [
    "def copy_examples_files_to_source_dir(app: sphinx.application.Sphinx):\n",
    "    \"\"\"\n",
    "    Copy the examples directory to the source directory of the documentation.\n",
    "\n",
    "    Parameters\n",
    "    ----------\n",
    "    app : sphinx.application.Sphinx\n",
    "        Sphinx application instance containing the all the doc build configuration.\n",
    "\n",
    "    \"\"\"\n",
    "    SOURCE_EXAMPLES = pathlib.Path(app.srcdir) / \"examples\"\n",
    "    SOURCE_IMAGES = SOURCE_EXAMPLES / \"img\"\n",
    "    CORE_EXAMPLES = SOURCE_EXAMPLES / \"core\"\n",
    "    KERNEL_EXAMPLES = SOURCE_EXAMPLES / \"kernel\"\n",
    "    WORKFLOW_EXAMPLES = SOURCE_EXAMPLES / \"workflow\"\n",
    "    for directory in [\n",
    "        SOURCE_EXAMPLES,\n",
    "        SOURCE_IMAGES,\n",
    "        CORE_EXAMPLES,\n",
    "        KERNEL_EXAMPLES,\n",
    "        WORKFLOW_EXAMPLES,\n",
    "    ]:\n",
    "        if not directory.exists():\n",
    "            directory.mkdir(parents=True, exist_ok=True)\n",
    "\n",
    "    EXAMPLES_DIRECTORY = SOURCE_EXAMPLES.parent.parent.parent / \"examples\"\n",
    "\n",
    "    # Copy the the examples\n",
    "    examples = list(EXAMPLES_DIRECTORY.glob(\"**/*.py\"))\n",
    "    for file in status_iterator(\n",
    "        examples,\n",
    "        \"Copying example to doc/source/examples/\",\n",
    "        \"green\",\n",
    "        len(examples),\n",
    "        verbosity=1,\n",
    "        stringify_func=(lambda file: file.name),\n",
    "    ):\n",
    "        destination_file = SOURCE_EXAMPLES / file.parent.name / file.name\n",
    "        destination_file.write_text(file.read_text(encoding=\"utf-8\"), encoding=\"utf-8\")"
   ]
  },
  {
   "cell_type": "code",
   "execution_count": 20,
   "id": "13739f32",
   "metadata": {
    "execution": {
     "iopub.execute_input": "2025-04-17T12:01:07.032495Z",
     "iopub.status.busy": "2025-04-17T12:01:07.032047Z",
     "iopub.status.idle": "2025-04-17T12:01:07.036416Z",
     "shell.execute_reply": "2025-04-17T12:01:07.035875Z"
    }
   },
   "outputs": [],
   "source": [
    "def copy_assets_to_output_dir(app: sphinx.application.Sphinx, exception: Exception):\n",
    "    \"\"\"Copy the assets directory to the output directory of the documentation.\n",
    "\n",
    "    Parameters\n",
    "    ----------\n",
    "    app : sphinx.application.Sphinx\n",
    "        Sphinx application instance containing the all the doc build configuration.\n",
    "    exception : Exception\n",
    "        Exception encountered during the building of the documentation.\n",
    "    \"\"\"\n",
    "    if app.builder.name == \"html\":\n",
    "        SOURCE_ASSETS = pathlib.Path(app.outdir) / \"_static\" / \"assets\" / \"download\"\n",
    "        ASSETS_DIRECTORY = pathlib.Path(app.outdir).parent.parent.parent / \"tests\" / \"assets\"\n",
    "\n",
    "        logger.info(\"Extracting assets to output directory...\")\n",
    "        zip_path = pathlib.Path(shutil.make_archive(\"assets\", \"zip\", ASSETS_DIRECTORY))\n",
    "        zip_path = shutil.move(zip_path, SOURCE_ASSETS / zip_path.name)\n",
    "        logger.info(f\"Extracted assets to {zip_path}.\")\n",
    "    else:\n",
    "        logger.info(f\"Skip assets extraction with build {app.builder.name}.\")"
   ]
  },
  {
   "cell_type": "code",
   "execution_count": 21,
   "id": "27c46e2f",
   "metadata": {
    "execution": {
     "iopub.execute_input": "2025-04-17T12:01:07.038366Z",
     "iopub.status.busy": "2025-04-17T12:01:07.037994Z",
     "iopub.status.idle": "2025-04-17T12:01:07.041389Z",
     "shell.execute_reply": "2025-04-17T12:01:07.040864Z"
    }
   },
   "outputs": [],
   "source": [
    "def remove_examples_from_source_dir(app: sphinx.application.Sphinx, exception: Exception):\n",
    "    \"\"\"\n",
    "    Remove the example files from the documentation source directory.\n",
    "\n",
    "    Parameters\n",
    "    ----------\n",
    "    app : sphinx.application.Sphinx\n",
    "        Sphinx application instance containing the all the doc build configuration.\n",
    "    exception : Exception\n",
    "        Exception encountered during the building of the documentation.\n",
    "\n",
    "    \"\"\"\n",
    "    EXAMPLES_DIRECTORY = pathlib.Path(app.srcdir) / \"examples\"\n",
    "    logger.info(f\"\\nRemoving {EXAMPLES_DIRECTORY} directory...\")\n",
    "    shutil.rmtree(EXAMPLES_DIRECTORY)"
   ]
  },
  {
   "cell_type": "code",
   "execution_count": 22,
   "id": "93d03af1",
   "metadata": {
    "execution": {
     "iopub.execute_input": "2025-04-17T12:01:07.043376Z",
     "iopub.status.busy": "2025-04-17T12:01:07.043010Z",
     "iopub.status.idle": "2025-04-17T12:01:07.046516Z",
     "shell.execute_reply": "2025-04-17T12:01:07.046016Z"
    }
   },
   "outputs": [],
   "source": [
    "def setup(app: sphinx.application.Sphinx):\n",
    "    \"\"\"\n",
    "    Run different hook functions during the documentation build.\n",
    "\n",
    "    Parameters\n",
    "    ----------\n",
    "    app : sphinx.application.Sphinx\n",
    "        Sphinx application instance containing the all the doc build configuration.\n",
    "\n",
    "    \"\"\"\n",
    "    # HACK: rST files are copied to the doc/source directory before the build.\n",
    "    # Sphinx needs all source files to be in the source directory to build.\n",
    "    # However, the examples are desired to be kept in the root directory. Once the\n",
    "    # build has completed, no matter its success, the examples are removed from\n",
    "    # the source directory.\n",
    "    if BUILD_EXAMPLES:\n",
    "        app.connect(\"builder-inited\", copy_examples_files_to_source_dir)\n",
    "        app.connect(\"build-finished\", remove_examples_from_source_dir)\n",
    "        app.connect(\"build-finished\", copy_assets_to_output_dir)\n",
    "        app.connect(\"build-finished\", copy_examples_to_output_dir)"
   ]
  }
 ],
 "metadata": {
  "jupytext": {
   "cell_metadata_filter": "-all",
   "main_language": "python",
   "notebook_metadata_filter": "-all",
   "text_representation": {
    "extension": ".py",
    "format_name": "light"
   }
  },
  "language_info": {
   "codemirror_mode": {
    "name": "ipython",
    "version": 3
   },
   "file_extension": ".py",
   "mimetype": "text/x-python",
   "name": "python",
   "nbconvert_exporter": "python",
   "pygments_lexer": "ipython3",
   "version": "3.10.17"
  }
 },
 "nbformat": 4,
 "nbformat_minor": 5
}
