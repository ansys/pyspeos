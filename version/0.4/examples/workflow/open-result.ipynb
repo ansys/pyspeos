{
 "cells": [
  {
   "cell_type": "markdown",
   "id": "b3d8c26f",
   "metadata": {},
   "source": [
    "# How to open result (MS Windows OS only)"
   ]
  },
  {
   "cell_type": "markdown",
   "id": "62b0c3a3",
   "metadata": {},
   "source": [
    "This tutorial demonstrates how to open and review results using workflow method."
   ]
  },
  {
   "cell_type": "markdown",
   "id": "bc390f61",
   "metadata": {},
   "source": [
    "## Prerequisites\n",
    "\n",
    "### Perform imports"
   ]
  },
  {
   "cell_type": "code",
   "execution_count": 1,
   "id": "38fec750",
   "metadata": {
    "execution": {
     "iopub.execute_input": "2025-04-17T12:04:26.749235Z",
     "iopub.status.busy": "2025-04-17T12:04:26.749040Z",
     "iopub.status.idle": "2025-04-17T12:04:27.480816Z",
     "shell.execute_reply": "2025-04-17T12:04:27.480111Z"
    }
   },
   "outputs": [],
   "source": [
    "import os\n",
    "from pathlib import Path\n",
    "\n",
    "from ansys.speos.core import Project, Speos\n",
    "from ansys.speos.core.simulation import SimulationDirect\n"
   ]
  },
  {
   "cell_type": "markdown",
   "id": "55d530a1",
   "metadata": {},
   "source": [
    "### Define constants\n",
    "Constants help ensure consistency and avoid repetition throughout the example."
   ]
  },
  {
   "cell_type": "code",
   "execution_count": 2,
   "id": "31cfe11f",
   "metadata": {
    "execution": {
     "iopub.execute_input": "2025-04-17T12:04:27.483514Z",
     "iopub.status.busy": "2025-04-17T12:04:27.482932Z",
     "iopub.status.idle": "2025-04-17T12:04:27.486442Z",
     "shell.execute_reply": "2025-04-17T12:04:27.485866Z"
    }
   },
   "outputs": [],
   "source": [
    "HOSTNAME = \"localhost\"\n",
    "GRPC_PORT = 50098  # Be sure the Speos GRPC Server has been started on this port.\n",
    "FILE_NAME = \"LG_50M_Colorimetric_short.sv5\"\n",
    "RESULT_NAME = \"ASSEMBLY1.DS (0).Dom Irradiance Sensor (0).xmp\"\n",
    "USE_DOCKER = True  # Set to False if you're running this example locally as a Notebook.\n",
    "USE_GPU = False"
   ]
  },
  {
   "cell_type": "markdown",
   "id": "bcadb3b3",
   "metadata": {},
   "source": [
    "## Model Setup\n",
    "\n",
    "### Load assets\n",
    "The assets used to run this example are available in the\n",
    "[PySpeos repository](https://github.com/ansys/pyspeos/) on GitHub.\n",
    "\n",
    "> **Note:** Make sure you\n",
    "> have downloaded simulation assets and set ``assets_data_path``\n",
    "> to point to the assets folder."
   ]
  },
  {
   "cell_type": "code",
   "execution_count": 3,
   "id": "1a66b997",
   "metadata": {
    "execution": {
     "iopub.execute_input": "2025-04-17T12:04:27.488534Z",
     "iopub.status.busy": "2025-04-17T12:04:27.488070Z",
     "iopub.status.idle": "2025-04-17T12:04:27.491303Z",
     "shell.execute_reply": "2025-04-17T12:04:27.490666Z"
    }
   },
   "outputs": [],
   "source": [
    "if USE_DOCKER:  # Running on the remote server.\n",
    "    assets_data_path = Path(\"/app\") / \"assets\"\n",
    "else:\n",
    "    assets_data_path = Path(\"/path/to/your/download/assets/directory\")"
   ]
  },
  {
   "cell_type": "markdown",
   "id": "f9a827d9",
   "metadata": {},
   "source": [
    "### Connect to the RPC Server\n",
    "This Python client connects to a server where the Speos engine\n",
    "is running as a service. In this example, the server and\n",
    "client are the same\n",
    "machine."
   ]
  },
  {
   "cell_type": "code",
   "execution_count": 4,
   "id": "8bf9a1ca",
   "metadata": {
    "execution": {
     "iopub.execute_input": "2025-04-17T12:04:27.493188Z",
     "iopub.status.busy": "2025-04-17T12:04:27.492999Z",
     "iopub.status.idle": "2025-04-17T12:04:27.498862Z",
     "shell.execute_reply": "2025-04-17T12:04:27.498357Z"
    }
   },
   "outputs": [],
   "source": [
    "speos = Speos(host=HOSTNAME, port=GRPC_PORT)"
   ]
  },
  {
   "cell_type": "markdown",
   "id": "189e7bda",
   "metadata": {},
   "source": [
    "### Create project from a Speos file\n",
    "\n",
    "The ``Project`` class is instantiated by passing a ``Speos`` instance and the name of the Speos\n",
    "project file."
   ]
  },
  {
   "cell_type": "code",
   "execution_count": 5,
   "id": "57609311",
   "metadata": {
    "execution": {
     "iopub.execute_input": "2025-04-17T12:04:27.500949Z",
     "iopub.status.busy": "2025-04-17T12:04:27.500459Z",
     "iopub.status.idle": "2025-04-17T12:04:27.717353Z",
     "shell.execute_reply": "2025-04-17T12:04:27.716665Z"
    }
   },
   "outputs": [
    {
     "name": "stdout",
     "output_type": "stream",
     "text": [
      "{\n",
      "    \"name\": \"LG_50M_Colorimetric_short\",\n",
      "    \"description\": \"From /app/assets/LG_50M_Colorimetric_short.sv5/LG_50M_Colorimetric_short.sv5\",\n",
      "    \"part_guid\": \"9ca66ab1-d620-43f1-8398-25e77439f7d4\",\n",
      "    \"sources\": [\n",
      "        {\n",
      "            \"name\": \"Dom Source 2 (0) in SOURCE2\",\n",
      "            \"metadata\": {\n",
      "                \"UniqueId\": \"4c86f07a-263a-4109-b9cd-0748f33aa2bb\"\n",
      "            },\n",
      "            \"source_guid\": \"e0687c6e-c810-4552-860c-21df41e34371\",\n",
      "            \"description\": \"\",\n",
      "            \"source\": {\n",
      "                \"name\": \"Dom Source 2 (0) in SOURCE2\",\n",
      "                \"surface\": {\n",
      "                    \"radiant_flux\": {\n",
      "                        \"radiant_value\": 6.590041607465698\n",
      "                    },\n",
      "                    \"intensity_guid\": \"efb495bc-bb5e-4316-b581-16ed76918645\",\n",
      "                    \"exitance_constant\": {\n",
      "                        \"geo_paths\": [\n",
      "                            {\n",
      "                                \"geo_path\": \"Solid Body in SOURCE2:2920204960/Face in SOURCE2:222\",\n",
      "                                \"reverse_normal\": false\n",
      "                            }\n",
      "                        ]\n",
      "                    },\n",
      "                    \"spectrum_guid\": \"0c323164-663e-486d-b8a8-7843bf75ea4c\",\n",
      "                    \"intensity\": {\n",
      "                        \"cos\": {\n",
      "                            \"N\": 1.0,\n",
      "                            \"total_angle\": 180.0\n",
      "                        },\n",
      "                        \"name\": \"\",\n",
      "                        \"description\": \"\",\n",
      "                        \"metadata\": {}\n",
      "                    },\n",
      "                    \"spectrum\": {\n",
      "                        \"library\": {\n",
      "                            \"file_uri\": \"/app/assets/LG_50M_Colorimetric_short.sv5/Red Spectrum.spectrum\"\n",
      "                        },\n",
      "                        \"name\": \"\",\n",
      "                        \"description\": \"\",\n",
      "                        \"metadata\": {}\n",
      "                    }\n",
      "                },\n",
      "                \"description\": \"\",\n",
      "                \"metadata\": {}\n",
      "            }\n",
      "        },\n",
      "        {\n",
      "            \"name\": \"Surface Source (0) in SOURCE1\",\n",
      "            \"metadata\": {\n",
      "                \"UniqueId\": \"a18e4142-a9f5-4041-bbd4-4bb807cee842\"\n",
      "            },\n",
      "            \"source_guid\": \"1f105889-092e-4797-b628-e07d0a7b8873\",\n",
      "            \"description\": \"\",\n",
      "            \"source\": {\n",
      "                \"name\": \"Surface Source (0) in SOURCE1\",\n",
      "                \"surface\": {\n",
      "                    \"radiant_flux\": {\n",
      "                        \"radiant_value\": 9.290411220389682\n",
      "                    },\n",
      "                    \"intensity_guid\": \"559fd756-8d84-4d4b-a4be-67d9402bd75d\",\n",
      "                    \"exitance_constant\": {\n",
      "                        \"geo_paths\": [\n",
      "                            {\n",
      "                                \"geo_path\": \"Solid Body in SOURCE1:2494956811/Face in SOURCE1:187\",\n",
      "                                \"reverse_normal\": false\n",
      "                            }\n",
      "                        ]\n",
      "                    },\n",
      "                    \"spectrum_guid\": \"b76b13b7-a4f1-43fe-8ab1-06c068f4a26f\",\n",
      "                    \"intensity\": {\n",
      "                        \"cos\": {\n",
      "                            \"N\": 1.0,\n",
      "                            \"total_angle\": 180.0\n",
      "                        },\n",
      "                        \"name\": \"\",\n",
      "                        \"description\": \"\",\n",
      "                        \"metadata\": {}\n",
      "                    },\n",
      "                    \"spectrum\": {\n",
      "                        \"library\": {\n",
      "                            \"file_uri\": \"/app/assets/LG_50M_Colorimetric_short.sv5/Blue Spectrum.spectrum\"\n",
      "                        },\n",
      "                        \"name\": \"\",\n",
      "                        \"description\": \"\",\n",
      "                        \"metadata\": {}\n",
      "                    }\n",
      "                },\n",
      "                \"description\": \"\",\n",
      "                \"metadata\": {}\n",
      "            }\n",
      "        }\n",
      "    ],\n",
      "    \"sensors\": [\n",
      "        {\n",
      "            \"name\": \"Dom Irradiance Sensor (0)\",\n",
      "            \"metadata\": {\n",
      "                \"UniqueId\": \"35e70ab8-f4fb-4cbe-acb2-1f41919db1d0\"\n",
      "            },\n",
      "            \"sensor_guid\": \"36c7005c-e86f-4ebc-a294-6922753e37b6\",\n",
      "            \"result_file_name\": \"ASSEMBLY1.DS (0).Dom Irradiance Sensor (0)\",\n",
      "            \"description\": \"\",\n",
      "            \"sensor\": {\n",
      "                \"irradiance_sensor_template\": {\n",
      "                    \"sensor_type_colorimetric\": {\n",
      "                        \"wavelengths_range\": {\n",
      "                            \"w_start\": 400.0,\n",
      "                            \"w_end\": 700.0,\n",
      "                            \"w_sampling\": 25\n",
      "                        }\n",
      "                    },\n",
      "                    \"illuminance_type_planar\": {},\n",
      "                    \"dimensions\": {\n",
      "                        \"x_start\": -20.0,\n",
      "                        \"x_end\": 20.0,\n",
      "                        \"x_sampling\": 500,\n",
      "                        \"y_start\": -20.0,\n",
      "                        \"y_end\": 20.0,\n",
      "                        \"y_sampling\": 500\n",
      "                    },\n",
      "                    \"axis_system\": [\n",
      "                        -42.0,\n",
      "                        2.0,\n",
      "                        5.0,\n",
      "                        0.0,\n",
      "                        1.0,\n",
      "                        0.0,\n",
      "                        0.0,\n",
      "                        0.0,\n",
      "                        -1.0,\n",
      "                        -1.0,\n",
      "                        0.0,\n",
      "                        0.0\n",
      "                    ],\n",
      "                    \"layer_type_source\": {},\n",
      "                    \"integration_direction\": [\n",
      "                        1.0,\n",
      "                        -0.0,\n",
      "                        -0.0\n",
      "                    ],\n",
      "                    \"ray_file_type\": \"RayFileNone\"\n",
      "                },\n",
      "                \"name\": \"Dom Irradiance Sensor (0)\",\n",
      "                \"description\": \"\",\n",
      "                \"metadata\": {}\n",
      "            }\n",
      "        }\n",
      "    ],\n",
      "    \"simulations\": [\n",
      "        {\n",
      "            \"name\": \"ASSEMBLY1.DS (0)\",\n",
      "            \"metadata\": {\n",
      "                \"UniqueId\": \"ac4193fe-0227-4356-94aa-d50f60efb115\"\n",
      "            },\n",
      "            \"simulation_guid\": \"99471f26-9f44-4406-b2e5-7d22e08768c2\",\n",
      "            \"sensor_paths\": [\n",
      "                \"Dom Irradiance Sensor (0)\"\n",
      "            ],\n",
      "            \"source_paths\": [\n",
      "                \"Dom Source 2 (0) in SOURCE2\",\n",
      "                \"Surface Source (0) in SOURCE1\"\n",
      "            ],\n",
      "            \"description\": \"\",\n",
      "            \"simulation\": {\n",
      "                \"direct_mc_simulation_template\": {\n",
      "                    \"geom_distance_tolerance\": 0.05,\n",
      "                    \"max_impact\": 100,\n",
      "                    \"weight\": {\n",
      "                        \"minimum_energy_percentage\": 0.005\n",
      "                    },\n",
      "                    \"dispersion\": true,\n",
      "                    \"colorimetric_standard\": \"CIE_1931\",\n",
      "                    \"fast_transmission_gathering\": false,\n",
      "                    \"ambient_material_uri\": \"\"\n",
      "                },\n",
      "                \"name\": \"ASSEMBLY1.DS (0)\",\n",
      "                \"metadata\": {},\n",
      "                \"description\": \"\",\n",
      "                \"scene_guid\": \"4452f256-71e0-4d40-818f-57f58b5358bc\",\n",
      "                \"simulation_path\": \"ASSEMBLY1.DS (0)\",\n",
      "                \"job_type\": \"CPU\"\n",
      "            }\n",
      "        }\n",
      "    ],\n",
      "    \"materials\": [\n",
      "        {\n",
      "            \"name\": \"Material.1\",\n",
      "            \"metadata\": {\n",
      "                \"UniqueId\": \"020cadb1-36b8-432d-a50d-13a56f320d75\"\n",
      "            },\n",
      "            \"sop_guids\": [\n",
      "                \"9a3a2a54-bf05-44b6-9ad1-f8f7e6c471ad\"\n",
      "            ],\n",
      "            \"geometries\": {\n",
      "                \"geo_paths\": [\n",
      "                    \"Solid Body in GUIDE:1379760262/Face in GUIDE:169\"\n",
      "                ]\n",
      "            },\n",
      "            \"description\": \"\",\n",
      "            \"sops\": [\n",
      "                {\n",
      "                    \"mirror\": {\n",
      "                        \"reflectance\": 100.0\n",
      "                    },\n",
      "                    \"name\": \"\",\n",
      "                    \"description\": \"\",\n",
      "                    \"metadata\": {}\n",
      "                }\n",
      "            ]\n",
      "        },\n",
      "        {\n",
      "            \"name\": \"Material.2\",\n",
      "            \"metadata\": {\n",
      "                \"UniqueId\": \"14e0f4fa-c9ea-44d4-bc30-fcdea8cf1e28\"\n",
      "            },\n",
      "            \"vop_guid\": \"e11ccaf7-c88b-46c1-895f-887b8e4bfb2b\",\n",
      "            \"sop_guids\": [\n",
      "                \"d02ecebd-3681-492b-8f0c-ca50d4ae39cc\"\n",
      "            ],\n",
      "            \"geometries\": {\n",
      "                \"geo_paths\": [\n",
      "                    \"Solid Body in GUIDE:1379760262\"\n",
      "                ]\n",
      "            },\n",
      "            \"description\": \"\",\n",
      "            \"vop\": {\n",
      "                \"optic\": {\n",
      "                    \"index\": 1.4,\n",
      "                    \"constringence\": 60.0,\n",
      "                    \"absorption\": 0.0\n",
      "                },\n",
      "                \"name\": \"\",\n",
      "                \"description\": \"\",\n",
      "                \"metadata\": {}\n",
      "            },\n",
      "            \"sops\": [\n",
      "                {\n",
      "                    \"optical_polished\": {},\n",
      "                    \"name\": \"\",\n",
      "                    \"description\": \"\",\n",
      "                    \"metadata\": {}\n",
      "                }\n",
      "            ]\n",
      "        },\n",
      "        {\n",
      "            \"name\": \"Material.3\",\n",
      "            \"metadata\": {\n",
      "                \"UniqueId\": \"b029715f-dc53-4d13-933e-5009e504dd50\"\n",
      "            },\n",
      "            \"vop_guid\": \"e0415bef-8784-4dec-921a-153b7379df01\",\n",
      "            \"sop_guids\": [\n",
      "                \"9a3a2a54-bf05-44b6-9ad1-f8f7e6c471ad\"\n",
      "            ],\n",
      "            \"geometries\": {\n",
      "                \"geo_paths\": [\n",
      "                    \"Solid Body in SOURCE2:2920204960\",\n",
      "                    \"Solid Body in SOURCE1:2494956811\"\n",
      "                ]\n",
      "            },\n",
      "            \"description\": \"\",\n",
      "            \"vop\": {\n",
      "                \"opaque\": {},\n",
      "                \"name\": \"\",\n",
      "                \"description\": \"\",\n",
      "                \"metadata\": {}\n",
      "            },\n",
      "            \"sops\": [\n",
      "                {\n",
      "                    \"mirror\": {\n",
      "                        \"reflectance\": 100.0\n",
      "                    },\n",
      "                    \"name\": \"\",\n",
      "                    \"description\": \"\",\n",
      "                    \"metadata\": {}\n",
      "                }\n",
      "            ]\n",
      "        },\n",
      "        {\n",
      "            \"name\": \"Material.4\",\n",
      "            \"metadata\": {\n",
      "                \"UniqueId\": \"700b86b6-a08f-4d34-aebd-c735172f0561\"\n",
      "            },\n",
      "            \"vop_guid\": \"b3acade9-bb60-4c97-b12a-0f0a58d802a1\",\n",
      "            \"description\": \"\",\n",
      "            \"sop_guids\": [],\n",
      "            \"vop\": {\n",
      "                \"optic\": {\n",
      "                    \"index\": 1.0,\n",
      "                    \"absorption\": 0.0\n",
      "                },\n",
      "                \"name\": \"\",\n",
      "                \"description\": \"\",\n",
      "                \"metadata\": {}\n",
      "            }\n",
      "        }\n",
      "    ],\n",
      "    \"metadata\": {},\n",
      "    \"scenes\": []\n",
      "}\n"
     ]
    }
   ],
   "source": [
    "p = Project(\n",
    "    speos=speos,\n",
    "    path=str(assets_data_path / FILE_NAME / FILE_NAME),\n",
    ")\n",
    "print(p)"
   ]
  },
  {
   "cell_type": "markdown",
   "id": "81df41c8",
   "metadata": {},
   "source": [
    "### Retrieve the simulation feature\n",
    "\n",
    "Use the method ``Project.find()`` to retrieve an instance\n",
    "of the ``SimulationDirect`` feature."
   ]
  },
  {
   "cell_type": "code",
   "execution_count": 6,
   "id": "570ba4f1",
   "metadata": {
    "execution": {
     "iopub.execute_input": "2025-04-17T12:04:27.719498Z",
     "iopub.status.busy": "2025-04-17T12:04:27.719292Z",
     "iopub.status.idle": "2025-04-17T12:04:27.722449Z",
     "shell.execute_reply": "2025-04-17T12:04:27.721935Z"
    }
   },
   "outputs": [],
   "source": [
    "sim = p.find(name=\".*\", name_regex=True, feature_type=SimulationDirect)[0]"
   ]
  },
  {
   "cell_type": "markdown",
   "id": "8f266016",
   "metadata": {},
   "source": [
    "## Run simulation\n",
    "\n",
    "The simulation can be run using either the CPU or with GPU acceleration. The following cell shows\n",
    "how Python is used to assign the appropriate method to ``run_sim``."
   ]
  },
  {
   "cell_type": "code",
   "execution_count": 7,
   "id": "1682148c",
   "metadata": {
    "execution": {
     "iopub.execute_input": "2025-04-17T12:04:27.724251Z",
     "iopub.status.busy": "2025-04-17T12:04:27.724060Z",
     "iopub.status.idle": "2025-04-17T12:04:37.821493Z",
     "shell.execute_reply": "2025-04-17T12:04:37.820890Z"
    },
    "lines_to_next_cell": 2
   },
   "outputs": [
    {
     "name": "stdout",
     "output_type": "stream",
     "text": [
      "[upload_response {\n",
      "  info {\n",
      "    uri: \"708c0cd4-ebc0-42ca-9c93-0bdea6e9b653\"\n",
      "    file_name: \"ASSEMBLY1.DS (0).Dom Irradiance Sensor (0).xmp\"\n",
      "    file_size: 2155237\n",
      "  }\n",
      "  upload_duration {\n",
      "    nanos: 2757421\n",
      "  }\n",
      "}\n",
      ", upload_response {\n",
      "  info {\n",
      "    uri: \"1ab1eb36-be83-4ee6-9a08-1dc410c0dc83\"\n",
      "    file_name: \"ASSEMBLY1.DS (0).html\"\n",
      "    file_size: 649373\n",
      "  }\n",
      "  upload_duration {\n",
      "    nanos: 933283\n",
      "  }\n",
      "}\n",
      "]\n"
     ]
    }
   ],
   "source": [
    "run_sim = sim.compute_GPU if USE_GPU else sim.compute_CPU\n",
    "results = run_sim()  # run the simulation\n",
    "print(results)"
   ]
  },
  {
   "cell_type": "markdown",
   "id": "c56e2037",
   "metadata": {},
   "source": [
    "## Postprocessing\n",
    "### Open the results (MS Windows OS only):\n",
    "\n",
    "Display one result as image.\n",
    "\n",
    "A full path can be given, or the name of the result."
   ]
  },
  {
   "cell_type": "code",
   "execution_count": 8,
   "id": "3e22fb0a",
   "metadata": {
    "execution": {
     "iopub.execute_input": "2025-04-17T12:04:37.823584Z",
     "iopub.status.busy": "2025-04-17T12:04:37.823202Z",
     "iopub.status.idle": "2025-04-17T12:04:37.826515Z",
     "shell.execute_reply": "2025-04-17T12:04:37.825897Z"
    }
   },
   "outputs": [],
   "source": [
    "if os.name == \"nt\":  # Are we running on Windows OS?\n",
    "    from ansys.speos.core.workflow.open_result import open_result_image\n",
    "\n",
    "    open_result_image(simulation_feature=sim, result_name=RESULT_NAME)"
   ]
  },
  {
   "cell_type": "markdown",
   "id": "1aa6d6f1",
   "metadata": {},
   "source": [
    "### Display the image\n",
    "\n",
    "Display one result in a result viewer.\n",
    "\n",
    "A full path can be given, or the name of the result."
   ]
  },
  {
   "cell_type": "code",
   "execution_count": 9,
   "id": "c7af21d8",
   "metadata": {
    "execution": {
     "iopub.execute_input": "2025-04-17T12:04:37.828482Z",
     "iopub.status.busy": "2025-04-17T12:04:37.828131Z",
     "iopub.status.idle": "2025-04-17T12:04:37.831397Z",
     "shell.execute_reply": "2025-04-17T12:04:37.830741Z"
    }
   },
   "outputs": [],
   "source": [
    "if os.name == \"nt\":\n",
    "    from ansys.speos.core.workflow.open_result import open_result_in_viewer\n",
    "\n",
    "    open_result_in_viewer(\n",
    "        simulation_feature=sim,\n",
    "        result_name=RESULT_NAME,\n",
    "    )"
   ]
  }
 ],
 "metadata": {
  "jupytext": {
   "cell_metadata_filter": "-all",
   "main_language": "python",
   "notebook_metadata_filter": "-all",
   "text_representation": {
    "extension": ".py",
    "format_name": "light"
   }
  },
  "language_info": {
   "codemirror_mode": {
    "name": "ipython",
    "version": 3
   },
   "file_extension": ".py",
   "mimetype": "text/x-python",
   "name": "python",
   "nbconvert_exporter": "python",
   "pygments_lexer": "ipython3",
   "version": "3.10.17"
  }
 },
 "nbformat": 4,
 "nbformat_minor": 5
}
