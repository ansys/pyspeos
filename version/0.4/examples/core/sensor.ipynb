{
 "cells": [
  {
   "cell_type": "markdown",
   "id": "a23fbba4",
   "metadata": {},
   "source": [
    "# How to create a sensor\n",
    "\n",
    "This tutorial demonstrates how to create a sensor.\n",
    "\n",
    "There are different type of sensors available: irradiance sensor, radiance sensor, camera sensor."
   ]
  },
  {
   "cell_type": "markdown",
   "id": "3341e871",
   "metadata": {},
   "source": [
    "## Prerequisites\n",
    "\n",
    "### Perform imports"
   ]
  },
  {
   "cell_type": "code",
   "execution_count": 1,
   "id": "7c4548e0",
   "metadata": {
    "execution": {
     "iopub.execute_input": "2025-04-17T12:03:10.668261Z",
     "iopub.status.busy": "2025-04-17T12:03:10.668065Z",
     "iopub.status.idle": "2025-04-17T12:03:10.674381Z",
     "shell.execute_reply": "2025-04-17T12:03:10.673763Z"
    }
   },
   "outputs": [],
   "source": [
    "from pathlib import Path"
   ]
  },
  {
   "cell_type": "code",
   "execution_count": 2,
   "id": "1267f84d",
   "metadata": {
    "execution": {
     "iopub.execute_input": "2025-04-17T12:03:10.676424Z",
     "iopub.status.busy": "2025-04-17T12:03:10.676063Z",
     "iopub.status.idle": "2025-04-17T12:03:11.423664Z",
     "shell.execute_reply": "2025-04-17T12:03:11.423013Z"
    }
   },
   "outputs": [],
   "source": [
    "from ansys.speos.core import Project, Speos\n",
    "from ansys.speos.core.sensor import (\n",
    "    SensorCamera,\n",
    "    SensorIrradiance,\n",
    "    SensorRadiance,\n",
    ")"
   ]
  },
  {
   "cell_type": "markdown",
   "id": "abbfb33a",
   "metadata": {},
   "source": [
    "### Define constants\n",
    "\n",
    "The constants help ensure consistency and avoid repetition throughout the example."
   ]
  },
  {
   "cell_type": "code",
   "execution_count": 3,
   "id": "711bac00",
   "metadata": {
    "execution": {
     "iopub.execute_input": "2025-04-17T12:03:11.426231Z",
     "iopub.status.busy": "2025-04-17T12:03:11.425764Z",
     "iopub.status.idle": "2025-04-17T12:03:11.428864Z",
     "shell.execute_reply": "2025-04-17T12:03:11.428371Z"
    }
   },
   "outputs": [],
   "source": [
    "HOSTNAME = \"localhost\"\n",
    "GRPC_PORT = 50098  # Be sure the Speos GRPC Server has been started on this port.\n",
    "USE_DOCKER = True  # Set to False if you're running this example locally as a Notebook.\n",
    "FILES = \"CameraInputFiles\""
   ]
  },
  {
   "cell_type": "markdown",
   "id": "ec2a7fba",
   "metadata": {},
   "source": [
    "## Model Setup\n",
    "\n",
    "### Load assets\n",
    "The assets used to run this example are available in the\n",
    "[PySpeos repository](https://github.com/ansys/pyspeos/) on GitHub.\n",
    "\n",
    "> **Note:** Make sure you\n",
    "> have downloaded simulation assets and set ``assets_data_path``\n",
    "> to point to the assets folder."
   ]
  },
  {
   "cell_type": "code",
   "execution_count": 4,
   "id": "d339f3fc",
   "metadata": {
    "execution": {
     "iopub.execute_input": "2025-04-17T12:03:11.430669Z",
     "iopub.status.busy": "2025-04-17T12:03:11.430493Z",
     "iopub.status.idle": "2025-04-17T12:03:11.433587Z",
     "shell.execute_reply": "2025-04-17T12:03:11.433069Z"
    }
   },
   "outputs": [],
   "source": [
    "if USE_DOCKER:  # Running on the remote server.\n",
    "    assets_data_path = Path(\"/app\") / \"assets\"\n",
    "else:\n",
    "    assets_data_path = Path(\"/path/to/your/download/assets/directory\")"
   ]
  },
  {
   "cell_type": "markdown",
   "id": "263b0c15",
   "metadata": {},
   "source": [
    "### Connect to the RPC Server\n",
    "This Python client connects to a server where the Speos engine\n",
    "is running as a service. In this example, the server and\n",
    "client are the same machine."
   ]
  },
  {
   "cell_type": "code",
   "execution_count": 5,
   "id": "538cd4c4",
   "metadata": {
    "execution": {
     "iopub.execute_input": "2025-04-17T12:03:11.435476Z",
     "iopub.status.busy": "2025-04-17T12:03:11.435132Z",
     "iopub.status.idle": "2025-04-17T12:03:11.443944Z",
     "shell.execute_reply": "2025-04-17T12:03:11.443411Z"
    }
   },
   "outputs": [],
   "source": [
    "speos = Speos(host=HOSTNAME, port=GRPC_PORT)"
   ]
  },
  {
   "cell_type": "markdown",
   "id": "8775e1b1",
   "metadata": {},
   "source": [
    "## Create a new project\n",
    "\n",
    "The only way to create a sensor, is to create it from a project."
   ]
  },
  {
   "cell_type": "code",
   "execution_count": 6,
   "id": "5ea97a02",
   "metadata": {
    "execution": {
     "iopub.execute_input": "2025-04-17T12:03:11.445967Z",
     "iopub.status.busy": "2025-04-17T12:03:11.445569Z",
     "iopub.status.idle": "2025-04-17T12:03:11.451288Z",
     "shell.execute_reply": "2025-04-17T12:03:11.450746Z"
    }
   },
   "outputs": [
    {
     "name": "stdout",
     "output_type": "stream",
     "text": [
      "{\n",
      "    \"name\": \"\",\n",
      "    \"description\": \"\",\n",
      "    \"metadata\": {},\n",
      "    \"part_guid\": \"\",\n",
      "    \"sources\": [],\n",
      "    \"sensors\": [],\n",
      "    \"simulations\": [],\n",
      "    \"materials\": [],\n",
      "    \"scenes\": []\n",
      "}\n"
     ]
    }
   ],
   "source": [
    "p = Project(speos=speos)\n",
    "print(p)"
   ]
  },
  {
   "cell_type": "markdown",
   "id": "3c3a9de2",
   "metadata": {},
   "source": [
    "## Create\n",
    "\n",
    "Create locally."
   ]
  },
  {
   "cell_type": "markdown",
   "id": "2f6de278",
   "metadata": {},
   "source": [
    "The mention \"local: \" is added when printing the sensor"
   ]
  },
  {
   "cell_type": "code",
   "execution_count": 7,
   "id": "65218e5d",
   "metadata": {
    "execution": {
     "iopub.execute_input": "2025-04-17T12:03:11.453300Z",
     "iopub.status.busy": "2025-04-17T12:03:11.452880Z",
     "iopub.status.idle": "2025-04-17T12:03:11.462943Z",
     "shell.execute_reply": "2025-04-17T12:03:11.462378Z"
    }
   },
   "outputs": [
    {
     "name": "stdout",
     "output_type": "stream",
     "text": [
      "local: {\n",
      "    \"name\": \"Camera.1\",\n",
      "    \"description\": \"\",\n",
      "    \"metadata\": {},\n",
      "    \"sensor_guid\": \"\",\n",
      "    \"result_file_name\": \"\",\n",
      "    \"sensor\": {\n",
      "        \"camera_sensor_template\": {\n",
      "            \"sensor_mode_photometric\": {\n",
      "                \"acquisition_integration\": 0.01,\n",
      "                \"transmittance_file_uri\": \"/app/assets/CameraInputFiles/CameraTransmittance.spectrum\",\n",
      "                \"gamma_correction\": 2.2,\n",
      "                \"png_bits\": \"PNG_16\",\n",
      "                \"color_mode_color\": {\n",
      "                    \"red_spectrum_file_uri\": \"/app/assets/CameraInputFiles/CameraSensitivityRed.spectrum\",\n",
      "                    \"green_spectrum_file_uri\": \"/app/assets/CameraInputFiles/CameraSensitivityGreen.spectrum\",\n",
      "                    \"blue_spectrum_file_uri\": \"/app/assets/CameraInputFiles/CameraSensitivityBlue.spectrum\",\n",
      "                    \"balance_mode_none\": {}\n",
      "                },\n",
      "                \"wavelengths_range\": {\n",
      "                    \"w_start\": 400.0,\n",
      "                    \"w_end\": 700.0,\n",
      "                    \"w_sampling\": 13\n",
      "                },\n",
      "                \"acquisition_lag_time\": 0.0\n",
      "            },\n",
      "            \"focal_length\": 5.0,\n",
      "            \"imager_distance\": 10.0,\n",
      "            \"f_number\": 20.0,\n",
      "            \"horz_pixel\": 640,\n",
      "            \"vert_pixel\": 480,\n",
      "            \"width\": 5.0,\n",
      "            \"height\": 5.0,\n",
      "            \"distortion_file_uri\": \"/app/assets/CameraInputFiles/CameraDistortion_130deg.OPTDistortion\",\n",
      "            \"distorsion_file_uri\": \"\",\n",
      "            \"axis_system\": [\n",
      "                0.0,\n",
      "                0.0,\n",
      "                0.0,\n",
      "                1.0,\n",
      "                0.0,\n",
      "                0.0,\n",
      "                0.0,\n",
      "                1.0,\n",
      "                0.0,\n",
      "                0.0,\n",
      "                0.0,\n",
      "                1.0\n",
      "            ],\n",
      "            \"layer_type_none\": {},\n",
      "            \"trajectory_file_uri\": \"\"\n",
      "        },\n",
      "        \"name\": \"Camera.1\",\n",
      "        \"description\": \"\",\n",
      "        \"metadata\": {}\n",
      "    }\n",
      "}\n"
     ]
    }
   ],
   "source": [
    "\n",
    "distortion_file_path = str(assets_data_path / FILES / \"CameraDistortion_130deg.OPTDistortion\")\n",
    "transmittance_file_path = str(assets_data_path / FILES / \"CameraTransmittance.spectrum\")\n",
    "blue_spectrum_path = str(assets_data_path / FILES / \"CameraSensitivityBlue.spectrum\")\n",
    "green_spectrum_path = str(assets_data_path / FILES / \"CameraSensitivityGreen.spectrum\")\n",
    "red_spectrum_path = str(assets_data_path / FILES / \"CameraSensitivityRed.spectrum\")\n",
    "\n",
    "sensor1 = p.create_sensor(name=\"Camera.1\", feature_type=SensorCamera)\n",
    "sensor1.set_distortion_file_uri(uri=distortion_file_path)\n",
    "# Choose photometric mode\n",
    "sensor1.set_mode_photometric().set_transmittance_file_uri(uri=transmittance_file_path)\n",
    "# Choose color mode (will imply to give spectrum file for blue, green and red)\n",
    "sensor1.set_mode_photometric().set_mode_color().set_blue_spectrum_file_uri(uri=blue_spectrum_path)\n",
    "sensor1.set_mode_photometric().set_mode_color().set_green_spectrum_file_uri(uri=green_spectrum_path)\n",
    "sensor1.set_mode_photometric().set_mode_color().set_red_spectrum_file_uri(uri=red_spectrum_path)\n",
    "print(sensor1)"
   ]
  },
  {
   "cell_type": "markdown",
   "id": "1d982cda",
   "metadata": {},
   "source": [
    "## Push it to the server.\n",
    "\n",
    "Now that it is committed to the server, the mention \"local: \" is no more present when printing the\n",
    "sensor."
   ]
  },
  {
   "cell_type": "code",
   "execution_count": 8,
   "id": "905a420e",
   "metadata": {
    "execution": {
     "iopub.execute_input": "2025-04-17T12:03:11.464634Z",
     "iopub.status.busy": "2025-04-17T12:03:11.464453Z",
     "iopub.status.idle": "2025-04-17T12:03:12.756759Z",
     "shell.execute_reply": "2025-04-17T12:03:12.756195Z"
    }
   },
   "outputs": [
    {
     "name": "stdout",
     "output_type": "stream",
     "text": [
      "{\n",
      "    \"name\": \"Camera.1\",\n",
      "    \"metadata\": {\n",
      "        \"UniqueId\": \"c6154de1-c3ca-4ab4-b1a3-7be448a9b0c8\"\n",
      "    },\n",
      "    \"sensor_guid\": \"d6ed4031-1c89-4715-9646-705a491270ae\",\n",
      "    \"description\": \"\",\n",
      "    \"result_file_name\": \"\",\n",
      "    \"sensor\": {\n",
      "        \"camera_sensor_template\": {\n",
      "            \"sensor_mode_photometric\": {\n",
      "                \"acquisition_integration\": 0.01,\n",
      "                \"transmittance_file_uri\": \"/app/assets/CameraInputFiles/CameraTransmittance.spectrum\",\n",
      "                \"gamma_correction\": 2.2,\n",
      "                \"png_bits\": \"PNG_16\",\n",
      "                \"color_mode_color\": {\n",
      "                    \"red_spectrum_file_uri\": \"/app/assets/CameraInputFiles/CameraSensitivityRed.spectrum\",\n",
      "                    \"green_spectrum_file_uri\": \"/app/assets/CameraInputFiles/CameraSensitivityGreen.spectrum\",\n",
      "                    \"blue_spectrum_file_uri\": \"/app/assets/CameraInputFiles/CameraSensitivityBlue.spectrum\",\n",
      "                    \"balance_mode_none\": {}\n",
      "                },\n",
      "                \"wavelengths_range\": {\n",
      "                    \"w_start\": 400.0,\n",
      "                    \"w_end\": 700.0,\n",
      "                    \"w_sampling\": 13\n",
      "                },\n",
      "                \"acquisition_lag_time\": 0.0\n",
      "            },\n",
      "            \"focal_length\": 5.0,\n",
      "            \"imager_distance\": 10.0,\n",
      "            \"f_number\": 20.0,\n",
      "            \"horz_pixel\": 640,\n",
      "            \"vert_pixel\": 480,\n",
      "            \"width\": 5.0,\n",
      "            \"height\": 5.0,\n",
      "            \"distortion_file_uri\": \"/app/assets/CameraInputFiles/CameraDistortion_130deg.OPTDistortion\",\n",
      "            \"distorsion_file_uri\": \"\",\n",
      "            \"axis_system\": [\n",
      "                0.0,\n",
      "                0.0,\n",
      "                0.0,\n",
      "                1.0,\n",
      "                0.0,\n",
      "                0.0,\n",
      "                0.0,\n",
      "                1.0,\n",
      "                0.0,\n",
      "                0.0,\n",
      "                0.0,\n",
      "                1.0\n",
      "            ],\n",
      "            \"layer_type_none\": {},\n",
      "            \"trajectory_file_uri\": \"\"\n",
      "        },\n",
      "        \"name\": \"Camera.1\",\n",
      "        \"description\": \"\",\n",
      "        \"metadata\": {}\n",
      "    }\n",
      "}\n"
     ]
    }
   ],
   "source": [
    "sensor1.commit()\n",
    "print(sensor1)"
   ]
  },
  {
   "cell_type": "markdown",
   "id": "8fd21050",
   "metadata": {},
   "source": [
    "## Another example\n",
    "\n",
    "Set more characteristics.\n",
    "\n",
    "Camera feature is created with the same default values as the GUI speos.\n",
    "\n",
    "If the user would like to modify the camera characteristics,\n",
    "it is possible to do so as below."
   ]
  },
  {
   "cell_type": "code",
   "execution_count": 9,
   "id": "cabc8c5e",
   "metadata": {
    "execution": {
     "iopub.execute_input": "2025-04-17T12:03:12.758789Z",
     "iopub.status.busy": "2025-04-17T12:03:12.758589Z",
     "iopub.status.idle": "2025-04-17T12:03:12.772879Z",
     "shell.execute_reply": "2025-04-17T12:03:12.772329Z"
    },
    "lines_to_next_cell": 2
   },
   "outputs": [
    {
     "name": "stdout",
     "output_type": "stream",
     "text": [
      "{\n",
      "    \"name\": \"Camera.2\",\n",
      "    \"metadata\": {\n",
      "        \"UniqueId\": \"c4029497-abf0-4e1c-a6ef-11214b35dc9c\"\n",
      "    },\n",
      "    \"sensor_guid\": \"d3451928-6980-4682-bbb9-be39f63505b5\",\n",
      "    \"description\": \"\",\n",
      "    \"result_file_name\": \"\",\n",
      "    \"sensor\": {\n",
      "        \"camera_sensor_template\": {\n",
      "            \"sensor_mode_photometric\": {\n",
      "                \"acquisition_integration\": 0.01,\n",
      "                \"transmittance_file_uri\": \"/app/assets/CameraInputFiles/CameraTransmittance.spectrum\",\n",
      "                \"gamma_correction\": 2.2,\n",
      "                \"png_bits\": \"PNG_16\",\n",
      "                \"color_mode_color\": {\n",
      "                    \"red_spectrum_file_uri\": \"/app/assets/CameraInputFiles/CameraSensitivityRed.spectrum\",\n",
      "                    \"green_spectrum_file_uri\": \"/app/assets/CameraInputFiles/CameraSensitivityGreen.spectrum\",\n",
      "                    \"blue_spectrum_file_uri\": \"/app/assets/CameraInputFiles/CameraSensitivityBlue.spectrum\",\n",
      "                    \"balance_mode_none\": {}\n",
      "                },\n",
      "                \"wavelengths_range\": {\n",
      "                    \"w_start\": 400.0,\n",
      "                    \"w_end\": 700.0,\n",
      "                    \"w_sampling\": 13\n",
      "                },\n",
      "                \"acquisition_lag_time\": 0.0\n",
      "            },\n",
      "            \"focal_length\": 5.5,\n",
      "            \"imager_distance\": 10.0,\n",
      "            \"f_number\": 20.0,\n",
      "            \"horz_pixel\": 640,\n",
      "            \"vert_pixel\": 480,\n",
      "            \"width\": 6.0,\n",
      "            \"height\": 6.0,\n",
      "            \"distortion_file_uri\": \"/app/assets/CameraInputFiles/CameraDistortion_130deg.OPTDistortion\",\n",
      "            \"distorsion_file_uri\": \"\",\n",
      "            \"axis_system\": [\n",
      "                20.0,\n",
      "                10.0,\n",
      "                40.0,\n",
      "                1.0,\n",
      "                0.0,\n",
      "                0.0,\n",
      "                0.0,\n",
      "                1.0,\n",
      "                0.0,\n",
      "                0.0,\n",
      "                0.0,\n",
      "                1.0\n",
      "            ],\n",
      "            \"layer_type_source\": {},\n",
      "            \"trajectory_file_uri\": \"\"\n",
      "        },\n",
      "        \"name\": \"Camera.2\",\n",
      "        \"description\": \"\",\n",
      "        \"metadata\": {}\n",
      "    }\n",
      "}\n"
     ]
    }
   ],
   "source": [
    "distortion_file_path = str(assets_data_path / FILES / \"CameraDistortion_130deg.OPTDistortion\")\n",
    "transmittance_file_path = str(assets_data_path / FILES / \"CameraTransmittance.spectrum\")\n",
    "blue_spectrum_path = str(assets_data_path / FILES / \"CameraSensitivityBlue.spectrum\")\n",
    "green_spectrum_path = str(assets_data_path / FILES / \"CameraSensitivityGreen.spectrum\")\n",
    "red_spectrum_path = str(assets_data_path / FILES / \"CameraSensitivityRed.spectrum\")\n",
    "\n",
    "sensor2 = p.create_sensor(name=\"Camera.2\", feature_type=SensorCamera)\n",
    "sensor2.set_distortion_file_uri(uri=distortion_file_path)\n",
    "sensor2.set_mode_photometric().set_transmittance_file_uri(uri=transmittance_file_path)\n",
    "sensor2.set_mode_photometric().set_layer_type_source()\n",
    "sensor2.set_mode_photometric().set_mode_color().set_blue_spectrum_file_uri(uri=blue_spectrum_path)\n",
    "sensor2.set_mode_photometric().set_mode_color().set_green_spectrum_file_uri(uri=green_spectrum_path)\n",
    "sensor2.set_mode_photometric().set_mode_color().set_red_spectrum_file_uri(uri=red_spectrum_path)\n",
    "sensor2.set_focal_length(5.5)\n",
    "sensor2.set_height(value=6).set_width(value=6)  # dimensions\n",
    "sensor2.set_axis_system(\n",
    "    [20, 10, 40, 1, 0, 0, 0, 1, 0, 0, 0, 1]\n",
    ")  # camera location [Origin, Xvector, Yvector, Zvector]\n",
    "sensor2.commit()\n",
    "\n",
    "print(sensor2)"
   ]
  },
  {
   "cell_type": "markdown",
   "id": "0c688e85",
   "metadata": {},
   "source": [
    "## Read\n",
    "\n",
    "### Sensor Instance\n",
    "\n",
    "A mention \"local: \" is added if it is not yet committed to the server"
   ]
  },
  {
   "cell_type": "code",
   "execution_count": 10,
   "id": "b37384f3",
   "metadata": {
    "execution": {
     "iopub.execute_input": "2025-04-17T12:03:12.775072Z",
     "iopub.status.busy": "2025-04-17T12:03:12.774609Z",
     "iopub.status.idle": "2025-04-17T12:03:12.781136Z",
     "shell.execute_reply": "2025-04-17T12:03:12.780600Z"
    }
   },
   "outputs": [
    {
     "name": "stdout",
     "output_type": "stream",
     "text": [
      "{\n",
      "    \"name\": \"Camera.1\",\n",
      "    \"metadata\": {\n",
      "        \"UniqueId\": \"c6154de1-c3ca-4ab4-b1a3-7be448a9b0c8\"\n",
      "    },\n",
      "    \"sensor_guid\": \"d6ed4031-1c89-4715-9646-705a491270ae\",\n",
      "    \"description\": \"\",\n",
      "    \"result_file_name\": \"\",\n",
      "    \"sensor\": {\n",
      "        \"camera_sensor_template\": {\n",
      "            \"sensor_mode_photometric\": {\n",
      "                \"acquisition_integration\": 0.01,\n",
      "                \"transmittance_file_uri\": \"/app/assets/CameraInputFiles/CameraTransmittance.spectrum\",\n",
      "                \"gamma_correction\": 2.2,\n",
      "                \"png_bits\": \"PNG_16\",\n",
      "                \"color_mode_color\": {\n",
      "                    \"red_spectrum_file_uri\": \"/app/assets/CameraInputFiles/CameraSensitivityRed.spectrum\",\n",
      "                    \"green_spectrum_file_uri\": \"/app/assets/CameraInputFiles/CameraSensitivityGreen.spectrum\",\n",
      "                    \"blue_spectrum_file_uri\": \"/app/assets/CameraInputFiles/CameraSensitivityBlue.spectrum\",\n",
      "                    \"balance_mode_none\": {}\n",
      "                },\n",
      "                \"wavelengths_range\": {\n",
      "                    \"w_start\": 400.0,\n",
      "                    \"w_end\": 700.0,\n",
      "                    \"w_sampling\": 13\n",
      "                },\n",
      "                \"acquisition_lag_time\": 0.0\n",
      "            },\n",
      "            \"focal_length\": 5.0,\n",
      "            \"imager_distance\": 10.0,\n",
      "            \"f_number\": 20.0,\n",
      "            \"horz_pixel\": 640,\n",
      "            \"vert_pixel\": 480,\n",
      "            \"width\": 5.0,\n",
      "            \"height\": 5.0,\n",
      "            \"distortion_file_uri\": \"/app/assets/CameraInputFiles/CameraDistortion_130deg.OPTDistortion\",\n",
      "            \"distorsion_file_uri\": \"\",\n",
      "            \"axis_system\": [\n",
      "                0.0,\n",
      "                0.0,\n",
      "                0.0,\n",
      "                1.0,\n",
      "                0.0,\n",
      "                0.0,\n",
      "                0.0,\n",
      "                1.0,\n",
      "                0.0,\n",
      "                0.0,\n",
      "                0.0,\n",
      "                1.0\n",
      "            ],\n",
      "            \"layer_type_none\": {},\n",
      "            \"trajectory_file_uri\": \"\"\n",
      "        },\n",
      "        \"name\": \"Camera.1\",\n",
      "        \"description\": \"\",\n",
      "        \"metadata\": {}\n",
      "    }\n",
      "}\n"
     ]
    }
   ],
   "source": [
    "print(sensor1)"
   ]
  },
  {
   "cell_type": "markdown",
   "id": "72cdeb7b",
   "metadata": {},
   "source": [
    "### Project"
   ]
  },
  {
   "cell_type": "markdown",
   "id": "ffa22a74",
   "metadata": {},
   "source": [
    "Committed feature will appear in the project."
   ]
  },
  {
   "cell_type": "code",
   "execution_count": 11,
   "id": "d7d17c12",
   "metadata": {
    "execution": {
     "iopub.execute_input": "2025-04-17T12:03:12.783025Z",
     "iopub.status.busy": "2025-04-17T12:03:12.782819Z",
     "iopub.status.idle": "2025-04-17T12:03:12.791668Z",
     "shell.execute_reply": "2025-04-17T12:03:12.791144Z"
    }
   },
   "outputs": [
    {
     "name": "stdout",
     "output_type": "stream",
     "text": [
      "{\n",
      "    \"sensors\": [\n",
      "        {\n",
      "            \"name\": \"Camera.1\",\n",
      "            \"metadata\": {\n",
      "                \"UniqueId\": \"c6154de1-c3ca-4ab4-b1a3-7be448a9b0c8\"\n",
      "            },\n",
      "            \"sensor_guid\": \"d6ed4031-1c89-4715-9646-705a491270ae\",\n",
      "            \"description\": \"\",\n",
      "            \"result_file_name\": \"\",\n",
      "            \"sensor\": {\n",
      "                \"camera_sensor_template\": {\n",
      "                    \"sensor_mode_photometric\": {\n",
      "                        \"acquisition_integration\": 0.01,\n",
      "                        \"transmittance_file_uri\": \"/app/assets/CameraInputFiles/CameraTransmittance.spectrum\",\n",
      "                        \"gamma_correction\": 2.2,\n",
      "                        \"png_bits\": \"PNG_16\",\n",
      "                        \"color_mode_color\": {\n",
      "                            \"red_spectrum_file_uri\": \"/app/assets/CameraInputFiles/CameraSensitivityRed.spectrum\",\n",
      "                            \"green_spectrum_file_uri\": \"/app/assets/CameraInputFiles/CameraSensitivityGreen.spectrum\",\n",
      "                            \"blue_spectrum_file_uri\": \"/app/assets/CameraInputFiles/CameraSensitivityBlue.spectrum\",\n",
      "                            \"balance_mode_none\": {}\n",
      "                        },\n",
      "                        \"wavelengths_range\": {\n",
      "                            \"w_start\": 400.0,\n",
      "                            \"w_end\": 700.0,\n",
      "                            \"w_sampling\": 13\n",
      "                        },\n",
      "                        \"acquisition_lag_time\": 0.0\n",
      "                    },\n",
      "                    \"focal_length\": 5.0,\n",
      "                    \"imager_distance\": 10.0,\n",
      "                    \"f_number\": 20.0,\n",
      "                    \"horz_pixel\": 640,\n",
      "                    \"vert_pixel\": 480,\n",
      "                    \"width\": 5.0,\n",
      "                    \"height\": 5.0,\n",
      "                    \"distortion_file_uri\": \"/app/assets/CameraInputFiles/CameraDistortion_130deg.OPTDistortion\",\n",
      "                    \"distorsion_file_uri\": \"\",\n",
      "                    \"axis_system\": [\n",
      "                        0.0,\n",
      "                        0.0,\n",
      "                        0.0,\n",
      "                        1.0,\n",
      "                        0.0,\n",
      "                        0.0,\n",
      "                        0.0,\n",
      "                        1.0,\n",
      "                        0.0,\n",
      "                        0.0,\n",
      "                        0.0,\n",
      "                        1.0\n",
      "                    ],\n",
      "                    \"layer_type_none\": {},\n",
      "                    \"trajectory_file_uri\": \"\"\n",
      "                },\n",
      "                \"name\": \"Camera.1\",\n",
      "                \"description\": \"\",\n",
      "                \"metadata\": {}\n",
      "            }\n",
      "        },\n",
      "        {\n",
      "            \"name\": \"Camera.2\",\n",
      "            \"metadata\": {\n",
      "                \"UniqueId\": \"c4029497-abf0-4e1c-a6ef-11214b35dc9c\"\n",
      "            },\n",
      "            \"sensor_guid\": \"d3451928-6980-4682-bbb9-be39f63505b5\",\n",
      "            \"description\": \"\",\n",
      "            \"result_file_name\": \"\",\n",
      "            \"sensor\": {\n",
      "                \"camera_sensor_template\": {\n",
      "                    \"sensor_mode_photometric\": {\n",
      "                        \"acquisition_integration\": 0.01,\n",
      "                        \"transmittance_file_uri\": \"/app/assets/CameraInputFiles/CameraTransmittance.spectrum\",\n",
      "                        \"gamma_correction\": 2.2,\n",
      "                        \"png_bits\": \"PNG_16\",\n",
      "                        \"color_mode_color\": {\n",
      "                            \"red_spectrum_file_uri\": \"/app/assets/CameraInputFiles/CameraSensitivityRed.spectrum\",\n",
      "                            \"green_spectrum_file_uri\": \"/app/assets/CameraInputFiles/CameraSensitivityGreen.spectrum\",\n",
      "                            \"blue_spectrum_file_uri\": \"/app/assets/CameraInputFiles/CameraSensitivityBlue.spectrum\",\n",
      "                            \"balance_mode_none\": {}\n",
      "                        },\n",
      "                        \"wavelengths_range\": {\n",
      "                            \"w_start\": 400.0,\n",
      "                            \"w_end\": 700.0,\n",
      "                            \"w_sampling\": 13\n",
      "                        },\n",
      "                        \"acquisition_lag_time\": 0.0\n",
      "                    },\n",
      "                    \"focal_length\": 5.5,\n",
      "                    \"imager_distance\": 10.0,\n",
      "                    \"f_number\": 20.0,\n",
      "                    \"horz_pixel\": 640,\n",
      "                    \"vert_pixel\": 480,\n",
      "                    \"width\": 6.0,\n",
      "                    \"height\": 6.0,\n",
      "                    \"distortion_file_uri\": \"/app/assets/CameraInputFiles/CameraDistortion_130deg.OPTDistortion\",\n",
      "                    \"distorsion_file_uri\": \"\",\n",
      "                    \"axis_system\": [\n",
      "                        20.0,\n",
      "                        10.0,\n",
      "                        40.0,\n",
      "                        1.0,\n",
      "                        0.0,\n",
      "                        0.0,\n",
      "                        0.0,\n",
      "                        1.0,\n",
      "                        0.0,\n",
      "                        0.0,\n",
      "                        0.0,\n",
      "                        1.0\n",
      "                    ],\n",
      "                    \"layer_type_source\": {},\n",
      "                    \"trajectory_file_uri\": \"\"\n",
      "                },\n",
      "                \"name\": \"Camera.2\",\n",
      "                \"description\": \"\",\n",
      "                \"metadata\": {}\n",
      "            }\n",
      "        }\n",
      "    ],\n",
      "    \"name\": \"\",\n",
      "    \"description\": \"\",\n",
      "    \"metadata\": {},\n",
      "    \"part_guid\": \"\",\n",
      "    \"sources\": [],\n",
      "    \"simulations\": [],\n",
      "    \"materials\": [],\n",
      "    \"scenes\": []\n",
      "}\n"
     ]
    }
   ],
   "source": [
    "print(p)"
   ]
  },
  {
   "cell_type": "markdown",
   "id": "f619ba08",
   "metadata": {},
   "source": [
    "## Update\n",
    "\n",
    "Tipp: if you are manipulating a sensor already committed, don't forget to commit your changes.\n",
    "\n",
    "If you don't, you will still only watch what is committed on the server."
   ]
  },
  {
   "cell_type": "code",
   "execution_count": 12,
   "id": "362e05f8",
   "metadata": {
    "execution": {
     "iopub.execute_input": "2025-04-17T12:03:12.793849Z",
     "iopub.status.busy": "2025-04-17T12:03:12.793477Z",
     "iopub.status.idle": "2025-04-17T12:03:12.802010Z",
     "shell.execute_reply": "2025-04-17T12:03:12.801477Z"
    }
   },
   "outputs": [
    {
     "name": "stdout",
     "output_type": "stream",
     "text": [
      "{\n",
      "    \"name\": \"Camera.1\",\n",
      "    \"metadata\": {\n",
      "        \"UniqueId\": \"c6154de1-c3ca-4ab4-b1a3-7be448a9b0c8\"\n",
      "    },\n",
      "    \"sensor_guid\": \"d6ed4031-1c89-4715-9646-705a491270ae\",\n",
      "    \"description\": \"\",\n",
      "    \"result_file_name\": \"\",\n",
      "    \"sensor\": {\n",
      "        \"camera_sensor_template\": {\n",
      "            \"sensor_mode_photometric\": {\n",
      "                \"acquisition_integration\": 0.01,\n",
      "                \"transmittance_file_uri\": \"/app/assets/CameraInputFiles/CameraTransmittance.spectrum\",\n",
      "                \"gamma_correction\": 2.2,\n",
      "                \"png_bits\": \"PNG_16\",\n",
      "                \"color_mode_color\": {\n",
      "                    \"red_spectrum_file_uri\": \"/app/assets/CameraInputFiles/CameraSensitivityRed.spectrum\",\n",
      "                    \"green_spectrum_file_uri\": \"/app/assets/CameraInputFiles/CameraSensitivityGreen.spectrum\",\n",
      "                    \"blue_spectrum_file_uri\": \"/app/assets/CameraInputFiles/CameraSensitivityBlue.spectrum\",\n",
      "                    \"balance_mode_none\": {}\n",
      "                },\n",
      "                \"wavelengths_range\": {\n",
      "                    \"w_start\": 400.0,\n",
      "                    \"w_end\": 700.0,\n",
      "                    \"w_sampling\": 13\n",
      "                },\n",
      "                \"acquisition_lag_time\": 0.0\n",
      "            },\n",
      "            \"focal_length\": 5.0,\n",
      "            \"imager_distance\": 10.0,\n",
      "            \"f_number\": 11.0,\n",
      "            \"horz_pixel\": 640,\n",
      "            \"vert_pixel\": 480,\n",
      "            \"width\": 5.0,\n",
      "            \"height\": 5.0,\n",
      "            \"distortion_file_uri\": \"/app/assets/CameraInputFiles/CameraDistortion_130deg.OPTDistortion\",\n",
      "            \"distorsion_file_uri\": \"\",\n",
      "            \"axis_system\": [\n",
      "                17.0,\n",
      "                10.0,\n",
      "                10.0,\n",
      "                1.0,\n",
      "                0.0,\n",
      "                0.0,\n",
      "                0.0,\n",
      "                1.0,\n",
      "                0.0,\n",
      "                0.0,\n",
      "                0.0,\n",
      "                1.0\n",
      "            ],\n",
      "            \"layer_type_none\": {},\n",
      "            \"trajectory_file_uri\": \"\"\n",
      "        },\n",
      "        \"name\": \"Camera.1\",\n",
      "        \"description\": \"\",\n",
      "        \"metadata\": {}\n",
      "    }\n",
      "}\n"
     ]
    }
   ],
   "source": [
    "# modify f number and axis system\n",
    "sensor1.set_f_number(value=11).set_axis_system([17, 10, 10, 1, 0, 0, 0, 1, 0, 0, 0, 1])\n",
    "sensor1.commit()\n",
    "print(sensor1)"
   ]
  },
  {
   "cell_type": "markdown",
   "id": "c99b3fe2",
   "metadata": {},
   "source": [
    "## Reset\n",
    "\n",
    "Possibility to reset local values from the one available in the server."
   ]
  },
  {
   "cell_type": "code",
   "execution_count": 13,
   "id": "06aa7ca1",
   "metadata": {
    "execution": {
     "iopub.execute_input": "2025-04-17T12:03:12.804066Z",
     "iopub.status.busy": "2025-04-17T12:03:12.803664Z",
     "iopub.status.idle": "2025-04-17T12:03:12.809168Z",
     "shell.execute_reply": "2025-04-17T12:03:12.808515Z"
    }
   },
   "outputs": [
    {
     "name": "stdout",
     "output_type": "stream",
     "text": [
      "ansys.api.speos.sensor.v1.SensorTemplate\n",
      "{\n",
      "    \"camera_sensor_template\": {\n",
      "        \"sensor_mode_photometric\": {\n",
      "            \"acquisition_integration\": 0.01,\n",
      "            \"transmittance_file_uri\": \"/app/assets/CameraInputFiles/CameraTransmittance.spectrum\",\n",
      "            \"gamma_correction\": 2.2,\n",
      "            \"png_bits\": \"PNG_16\",\n",
      "            \"color_mode_color\": {\n",
      "                \"red_spectrum_file_uri\": \"/app/assets/CameraInputFiles/CameraSensitivityRed.spectrum\",\n",
      "                \"green_spectrum_file_uri\": \"/app/assets/CameraInputFiles/CameraSensitivityGreen.spectrum\",\n",
      "                \"blue_spectrum_file_uri\": \"/app/assets/CameraInputFiles/CameraSensitivityBlue.spectrum\",\n",
      "                \"balance_mode_none\": {}\n",
      "            },\n",
      "            \"wavelengths_range\": {\n",
      "                \"w_start\": 400.0,\n",
      "                \"w_end\": 700.0,\n",
      "                \"w_sampling\": 13\n",
      "            },\n",
      "            \"acquisition_lag_time\": 0.0\n",
      "        },\n",
      "        \"focal_length\": 5.0,\n",
      "        \"imager_distance\": 10.0,\n",
      "        \"f_number\": 11.0,\n",
      "        \"horz_pixel\": 640,\n",
      "        \"vert_pixel\": 480,\n",
      "        \"width\": 5.0,\n",
      "        \"height\": 5.0,\n",
      "        \"distortion_file_uri\": \"/app/assets/CameraInputFiles/CameraDistortion_130deg.OPTDistortion\",\n",
      "        \"distorsion_file_uri\": \"\"\n",
      "    },\n",
      "    \"name\": \"Camera.1\",\n",
      "    \"description\": \"\",\n",
      "    \"metadata\": {}\n",
      "}\n"
     ]
    }
   ],
   "source": [
    "sensor1.set_mode_geometric()  # set camera in geometric mode but no commit\n",
    "sensor1.reset()  # reset -> this will apply the server value (photometric mode) to the local value\n",
    "sensor1.delete()  # delete (to display the local value with the below print)\n",
    "print(sensor1._sensor_template)"
   ]
  },
  {
   "cell_type": "markdown",
   "id": "d59b4803",
   "metadata": {},
   "source": [
    "## Delete\n",
    "\n",
    "Once the data is deleted from the server, you can still work with local data and maybe commit\n",
    "later."
   ]
  },
  {
   "cell_type": "code",
   "execution_count": 14,
   "id": "bb6c99a6",
   "metadata": {
    "execution": {
     "iopub.execute_input": "2025-04-17T12:03:12.811316Z",
     "iopub.status.busy": "2025-04-17T12:03:12.810799Z",
     "iopub.status.idle": "2025-04-17T12:03:12.815820Z",
     "shell.execute_reply": "2025-04-17T12:03:12.815275Z"
    }
   },
   "outputs": [
    {
     "name": "stdout",
     "output_type": "stream",
     "text": [
      "local: {\n",
      "    \"name\": \"Camera.2\",\n",
      "    \"description\": \"\",\n",
      "    \"metadata\": {},\n",
      "    \"sensor_guid\": \"\",\n",
      "    \"result_file_name\": \"\",\n",
      "    \"sensor\": {\n",
      "        \"camera_sensor_template\": {\n",
      "            \"sensor_mode_photometric\": {\n",
      "                \"acquisition_integration\": 0.01,\n",
      "                \"transmittance_file_uri\": \"/app/assets/CameraInputFiles/CameraTransmittance.spectrum\",\n",
      "                \"gamma_correction\": 2.2,\n",
      "                \"png_bits\": \"PNG_16\",\n",
      "                \"color_mode_color\": {\n",
      "                    \"red_spectrum_file_uri\": \"/app/assets/CameraInputFiles/CameraSensitivityRed.spectrum\",\n",
      "                    \"green_spectrum_file_uri\": \"/app/assets/CameraInputFiles/CameraSensitivityGreen.spectrum\",\n",
      "                    \"blue_spectrum_file_uri\": \"/app/assets/CameraInputFiles/CameraSensitivityBlue.spectrum\",\n",
      "                    \"balance_mode_none\": {}\n",
      "                },\n",
      "                \"wavelengths_range\": {\n",
      "                    \"w_start\": 400.0,\n",
      "                    \"w_end\": 700.0,\n",
      "                    \"w_sampling\": 13\n",
      "                },\n",
      "                \"acquisition_lag_time\": 0.0\n",
      "            },\n",
      "            \"focal_length\": 5.5,\n",
      "            \"imager_distance\": 10.0,\n",
      "            \"f_number\": 20.0,\n",
      "            \"horz_pixel\": 640,\n",
      "            \"vert_pixel\": 480,\n",
      "            \"width\": 6.0,\n",
      "            \"height\": 6.0,\n",
      "            \"distortion_file_uri\": \"/app/assets/CameraInputFiles/CameraDistortion_130deg.OPTDistortion\",\n",
      "            \"distorsion_file_uri\": \"\",\n",
      "            \"axis_system\": [\n",
      "                20.0,\n",
      "                10.0,\n",
      "                40.0,\n",
      "                1.0,\n",
      "                0.0,\n",
      "                0.0,\n",
      "                0.0,\n",
      "                1.0,\n",
      "                0.0,\n",
      "                0.0,\n",
      "                0.0,\n",
      "                1.0\n",
      "            ],\n",
      "            \"layer_type_source\": {},\n",
      "            \"trajectory_file_uri\": \"\"\n",
      "        },\n",
      "        \"name\": \"Camera.2\",\n",
      "        \"description\": \"\",\n",
      "        \"metadata\": {}\n",
      "    }\n",
      "}\n"
     ]
    }
   ],
   "source": [
    "sensor2.delete()\n",
    "print(sensor2)"
   ]
  },
  {
   "cell_type": "code",
   "execution_count": 15,
   "id": "16040690",
   "metadata": {
    "execution": {
     "iopub.execute_input": "2025-04-17T12:03:12.817775Z",
     "iopub.status.busy": "2025-04-17T12:03:12.817398Z",
     "iopub.status.idle": "2025-04-17T12:03:12.824108Z",
     "shell.execute_reply": "2025-04-17T12:03:12.823557Z"
    },
    "lines_to_next_cell": 2
   },
   "outputs": [
    {
     "data": {
      "text/plain": [
       "<ansys.speos.core.sensor.SensorCamera at 0x7fcecd7de800>"
      ]
     },
     "execution_count": 15,
     "metadata": {},
     "output_type": "execute_result"
    }
   ],
   "source": [
    "sensor1.delete()"
   ]
  },
  {
   "cell_type": "markdown",
   "id": "17bbfde1",
   "metadata": {},
   "source": [
    "## Other sensors\n",
    "\n",
    "### Irradiance sensor"
   ]
  },
  {
   "cell_type": "code",
   "execution_count": 16,
   "id": "2d212d5c",
   "metadata": {
    "execution": {
     "iopub.execute_input": "2025-04-17T12:03:12.825869Z",
     "iopub.status.busy": "2025-04-17T12:03:12.825691Z",
     "iopub.status.idle": "2025-04-17T12:03:12.836446Z",
     "shell.execute_reply": "2025-04-17T12:03:12.835944Z"
    }
   },
   "outputs": [
    {
     "name": "stdout",
     "output_type": "stream",
     "text": [
      "{\n",
      "    \"name\": \"Irradiance.1\",\n",
      "    \"metadata\": {\n",
      "        \"UniqueId\": \"9cb35a08-3c8c-4e4f-bb2e-20fbd95d0ae2\"\n",
      "    },\n",
      "    \"sensor_guid\": \"63c58bdf-0e87-4ccf-90b7-4a61c6bcee0c\",\n",
      "    \"description\": \"\",\n",
      "    \"result_file_name\": \"\",\n",
      "    \"sensor\": {\n",
      "        \"irradiance_sensor_template\": {\n",
      "            \"sensor_type_photometric\": {},\n",
      "            \"illuminance_type_planar\": {},\n",
      "            \"dimensions\": {\n",
      "                \"x_start\": -50.0,\n",
      "                \"x_end\": 50.0,\n",
      "                \"x_sampling\": 100,\n",
      "                \"y_start\": -50.0,\n",
      "                \"y_end\": 50.0,\n",
      "                \"y_sampling\": 100\n",
      "            },\n",
      "            \"axis_system\": [\n",
      "                0.0,\n",
      "                0.0,\n",
      "                0.0,\n",
      "                1.0,\n",
      "                0.0,\n",
      "                0.0,\n",
      "                0.0,\n",
      "                1.0,\n",
      "                0.0,\n",
      "                0.0,\n",
      "                0.0,\n",
      "                1.0\n",
      "            ],\n",
      "            \"layer_type_none\": {},\n",
      "            \"ray_file_type\": \"RayFileNone\",\n",
      "            \"integration_direction\": []\n",
      "        },\n",
      "        \"name\": \"Irradiance.1\",\n",
      "        \"description\": \"\",\n",
      "        \"metadata\": {}\n",
      "    }\n",
      "}\n"
     ]
    }
   ],
   "source": [
    "sensor3 = p.create_sensor(name=\"Irradiance.1\", feature_type=SensorIrradiance)\n",
    "sensor3.commit()\n",
    "print(sensor3)"
   ]
  },
  {
   "cell_type": "code",
   "execution_count": 17,
   "id": "e52d8fb5",
   "metadata": {
    "execution": {
     "iopub.execute_input": "2025-04-17T12:03:12.838145Z",
     "iopub.status.busy": "2025-04-17T12:03:12.837967Z",
     "iopub.status.idle": "2025-04-17T12:03:12.845815Z",
     "shell.execute_reply": "2025-04-17T12:03:12.845309Z"
    }
   },
   "outputs": [
    {
     "name": "stdout",
     "output_type": "stream",
     "text": [
      "{\n",
      "    \"name\": \"Irradiance.1\",\n",
      "    \"metadata\": {\n",
      "        \"UniqueId\": \"9cb35a08-3c8c-4e4f-bb2e-20fbd95d0ae2\"\n",
      "    },\n",
      "    \"sensor_guid\": \"63c58bdf-0e87-4ccf-90b7-4a61c6bcee0c\",\n",
      "    \"description\": \"\",\n",
      "    \"result_file_name\": \"\",\n",
      "    \"sensor\": {\n",
      "        \"irradiance_sensor_template\": {\n",
      "            \"sensor_type_radiometric\": {},\n",
      "            \"illuminance_type_planar\": {},\n",
      "            \"dimensions\": {\n",
      "                \"x_start\": -50.0,\n",
      "                \"x_end\": 50.0,\n",
      "                \"x_sampling\": 100,\n",
      "                \"y_start\": -50.0,\n",
      "                \"y_end\": 50.0,\n",
      "                \"y_sampling\": 100\n",
      "            },\n",
      "            \"axis_system\": [\n",
      "                0.0,\n",
      "                0.0,\n",
      "                0.0,\n",
      "                1.0,\n",
      "                0.0,\n",
      "                0.0,\n",
      "                0.0,\n",
      "                1.0,\n",
      "                0.0,\n",
      "                0.0,\n",
      "                0.0,\n",
      "                1.0\n",
      "            ],\n",
      "            \"layer_type_polarization\": {},\n",
      "            \"ray_file_type\": \"RayFileNone\",\n",
      "            \"integration_direction\": []\n",
      "        },\n",
      "        \"name\": \"Irradiance.1\",\n",
      "        \"description\": \"\",\n",
      "        \"metadata\": {}\n",
      "    }\n",
      "}\n"
     ]
    }
   ],
   "source": [
    "sensor3.set_type_radiometric()\n",
    "sensor3.set_layer_type_polarization()\n",
    "sensor3.commit()\n",
    "print(sensor3)"
   ]
  },
  {
   "cell_type": "code",
   "execution_count": 18,
   "id": "c703359c",
   "metadata": {
    "execution": {
     "iopub.execute_input": "2025-04-17T12:03:12.847802Z",
     "iopub.status.busy": "2025-04-17T12:03:12.847428Z",
     "iopub.status.idle": "2025-04-17T12:03:12.852372Z",
     "shell.execute_reply": "2025-04-17T12:03:12.851820Z"
    }
   },
   "outputs": [
    {
     "data": {
      "text/plain": [
       "<ansys.speos.core.sensor.SensorIrradiance at 0x7fcec81034c0>"
      ]
     },
     "execution_count": 18,
     "metadata": {},
     "output_type": "execute_result"
    }
   ],
   "source": [
    "sensor3.delete()"
   ]
  },
  {
   "cell_type": "markdown",
   "id": "e9c75bdd",
   "metadata": {},
   "source": [
    "### radiance sensor"
   ]
  },
  {
   "cell_type": "code",
   "execution_count": 19,
   "id": "ff16e105",
   "metadata": {
    "execution": {
     "iopub.execute_input": "2025-04-17T12:03:12.854327Z",
     "iopub.status.busy": "2025-04-17T12:03:12.853857Z",
     "iopub.status.idle": "2025-04-17T12:03:12.865590Z",
     "shell.execute_reply": "2025-04-17T12:03:12.864957Z"
    }
   },
   "outputs": [
    {
     "name": "stdout",
     "output_type": "stream",
     "text": [
      "{\n",
      "    \"name\": \"Radiance.1\",\n",
      "    \"metadata\": {\n",
      "        \"UniqueId\": \"1bc211e4-a8b3-4fb4-bc0b-c397cfc807d0\"\n",
      "    },\n",
      "    \"sensor_guid\": \"d00e960b-7e8f-4a81-b217-48d61ff89bcc\",\n",
      "    \"description\": \"\",\n",
      "    \"result_file_name\": \"\",\n",
      "    \"sensor\": {\n",
      "        \"radiance_sensor_template\": {\n",
      "            \"sensor_type_photometric\": {},\n",
      "            \"focal\": 250.0,\n",
      "            \"integration_angle\": 5.0,\n",
      "            \"dimensions\": {\n",
      "                \"x_start\": -50.0,\n",
      "                \"x_end\": 50.0,\n",
      "                \"x_sampling\": 100,\n",
      "                \"y_start\": -50.0,\n",
      "                \"y_end\": 50.0,\n",
      "                \"y_sampling\": 100\n",
      "            },\n",
      "            \"axis_system\": [\n",
      "                0.0,\n",
      "                0.0,\n",
      "                0.0,\n",
      "                1.0,\n",
      "                0.0,\n",
      "                0.0,\n",
      "                0.0,\n",
      "                1.0,\n",
      "                0.0,\n",
      "                0.0,\n",
      "                0.0,\n",
      "                1.0\n",
      "            ],\n",
      "            \"layer_type_none\": {},\n",
      "            \"observer_point\": []\n",
      "        },\n",
      "        \"name\": \"Radiance.1\",\n",
      "        \"description\": \"\",\n",
      "        \"metadata\": {}\n",
      "    }\n",
      "}\n"
     ]
    }
   ],
   "source": [
    "sensor4 = p.create_sensor(name=\"Radiance.1\", feature_type=SensorRadiance)\n",
    "sensor4.commit()\n",
    "print(sensor4)"
   ]
  },
  {
   "cell_type": "code",
   "execution_count": 20,
   "id": "897466e2",
   "metadata": {
    "execution": {
     "iopub.execute_input": "2025-04-17T12:03:12.867431Z",
     "iopub.status.busy": "2025-04-17T12:03:12.867251Z",
     "iopub.status.idle": "2025-04-17T12:03:12.875631Z",
     "shell.execute_reply": "2025-04-17T12:03:12.875093Z"
    }
   },
   "outputs": [
    {
     "name": "stdout",
     "output_type": "stream",
     "text": [
      "{\n",
      "    \"name\": \"Radiance.1\",\n",
      "    \"metadata\": {\n",
      "        \"UniqueId\": \"1bc211e4-a8b3-4fb4-bc0b-c397cfc807d0\"\n",
      "    },\n",
      "    \"sensor_guid\": \"d00e960b-7e8f-4a81-b217-48d61ff89bcc\",\n",
      "    \"description\": \"\",\n",
      "    \"result_file_name\": \"\",\n",
      "    \"sensor\": {\n",
      "        \"radiance_sensor_template\": {\n",
      "            \"sensor_type_spectral\": {\n",
      "                \"wavelengths_range\": {\n",
      "                    \"w_start\": 400.0,\n",
      "                    \"w_end\": 700.0,\n",
      "                    \"w_sampling\": 13\n",
      "                }\n",
      "            },\n",
      "            \"focal\": 200.0,\n",
      "            \"integration_angle\": 5.0,\n",
      "            \"dimensions\": {\n",
      "                \"x_start\": -50.0,\n",
      "                \"x_end\": 50.0,\n",
      "                \"x_sampling\": 100,\n",
      "                \"y_start\": -50.0,\n",
      "                \"y_end\": 50.0,\n",
      "                \"y_sampling\": 100\n",
      "            },\n",
      "            \"axis_system\": [\n",
      "                0.0,\n",
      "                0.0,\n",
      "                0.0,\n",
      "                1.0,\n",
      "                0.0,\n",
      "                0.0,\n",
      "                0.0,\n",
      "                1.0,\n",
      "                0.0,\n",
      "                0.0,\n",
      "                0.0,\n",
      "                1.0\n",
      "            ],\n",
      "            \"layer_type_source\": {},\n",
      "            \"observer_point\": []\n",
      "        },\n",
      "        \"name\": \"Radiance.1\",\n",
      "        \"description\": \"\",\n",
      "        \"metadata\": {}\n",
      "    }\n",
      "}\n"
     ]
    }
   ],
   "source": [
    "sensor4.set_focal(value=200).set_type_spectral()\n",
    "sensor4.set_layer_type_source()\n",
    "sensor4.commit()\n",
    "print(sensor4)"
   ]
  },
  {
   "cell_type": "code",
   "execution_count": 21,
   "id": "294ed9a8",
   "metadata": {
    "execution": {
     "iopub.execute_input": "2025-04-17T12:03:12.877378Z",
     "iopub.status.busy": "2025-04-17T12:03:12.877184Z",
     "iopub.status.idle": "2025-04-17T12:03:12.881496Z",
     "shell.execute_reply": "2025-04-17T12:03:12.880996Z"
    }
   },
   "outputs": [
    {
     "name": "stdout",
     "output_type": "stream",
     "text": [
      "local: {\n",
      "    \"name\": \"Radiance.1\",\n",
      "    \"description\": \"\",\n",
      "    \"metadata\": {},\n",
      "    \"sensor_guid\": \"\",\n",
      "    \"result_file_name\": \"\",\n",
      "    \"sensor\": {\n",
      "        \"radiance_sensor_template\": {\n",
      "            \"sensor_type_spectral\": {\n",
      "                \"wavelengths_range\": {\n",
      "                    \"w_start\": 400.0,\n",
      "                    \"w_end\": 700.0,\n",
      "                    \"w_sampling\": 13\n",
      "                }\n",
      "            },\n",
      "            \"focal\": 200.0,\n",
      "            \"integration_angle\": 5.0,\n",
      "            \"dimensions\": {\n",
      "                \"x_start\": -50.0,\n",
      "                \"x_end\": 50.0,\n",
      "                \"x_sampling\": 100,\n",
      "                \"y_start\": -50.0,\n",
      "                \"y_end\": 50.0,\n",
      "                \"y_sampling\": 100\n",
      "            },\n",
      "            \"axis_system\": [\n",
      "                0.0,\n",
      "                0.0,\n",
      "                0.0,\n",
      "                1.0,\n",
      "                0.0,\n",
      "                0.0,\n",
      "                0.0,\n",
      "                1.0,\n",
      "                0.0,\n",
      "                0.0,\n",
      "                0.0,\n",
      "                1.0\n",
      "            ],\n",
      "            \"layer_type_source\": {},\n",
      "            \"observer_point\": []\n",
      "        },\n",
      "        \"name\": \"Radiance.1\",\n",
      "        \"description\": \"\",\n",
      "        \"metadata\": {}\n",
      "    }\n",
      "}\n"
     ]
    }
   ],
   "source": [
    "sensor4.delete()\n",
    "print(sensor4)"
   ]
  }
 ],
 "metadata": {
  "jupytext": {
   "cell_metadata_filter": "-all",
   "main_language": "python",
   "notebook_metadata_filter": "-all",
   "text_representation": {
    "extension": ".py",
    "format_name": "light"
   }
  },
  "language_info": {
   "codemirror_mode": {
    "name": "ipython",
    "version": 3
   },
   "file_extension": ".py",
   "mimetype": "text/x-python",
   "name": "python",
   "nbconvert_exporter": "python",
   "pygments_lexer": "ipython3",
   "version": "3.10.17"
  }
 },
 "nbformat": 4,
 "nbformat_minor": 5
}
