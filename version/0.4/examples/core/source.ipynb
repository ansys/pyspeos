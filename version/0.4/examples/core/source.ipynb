{
 "cells": [
  {
   "cell_type": "markdown",
   "id": "4abd4cc9",
   "metadata": {},
   "source": [
    "# How to create a source"
   ]
  },
  {
   "cell_type": "markdown",
   "id": "3b462dc5",
   "metadata": {},
   "source": [
    "This tutorial demonstrates how to create a source.\n",
    "\n",
    "There are different type of sources available: luminaire source, surface source, ray file source.\n",
    "\n",
    "## Prerequisites\n",
    "\n",
    "### Perform imports"
   ]
  },
  {
   "cell_type": "code",
   "execution_count": 1,
   "id": "2318ff1c",
   "metadata": {
    "execution": {
     "iopub.execute_input": "2025-04-17T12:03:18.277265Z",
     "iopub.status.busy": "2025-04-17T12:03:18.277074Z",
     "iopub.status.idle": "2025-04-17T12:03:19.023311Z",
     "shell.execute_reply": "2025-04-17T12:03:19.022571Z"
    }
   },
   "outputs": [],
   "source": [
    "from pathlib import Path\n",
    "\n",
    "from ansys.speos.core import GeoRef, Project, Speos\n",
    "from ansys.speos.core.source import (\n",
    "    SourceLuminaire,\n",
    "    SourceRayFile,\n",
    "    SourceSurface,\n",
    ")\n"
   ]
  },
  {
   "cell_type": "markdown",
   "id": "73c5c6ca",
   "metadata": {},
   "source": [
    "### Define constants\n",
    "Constants help ensure consistency and avoid repetition throughout the example."
   ]
  },
  {
   "cell_type": "code",
   "execution_count": 2,
   "id": "a1ab6f1f",
   "metadata": {
    "execution": {
     "iopub.execute_input": "2025-04-17T12:03:19.025708Z",
     "iopub.status.busy": "2025-04-17T12:03:19.025434Z",
     "iopub.status.idle": "2025-04-17T12:03:19.028820Z",
     "shell.execute_reply": "2025-04-17T12:03:19.028280Z"
    }
   },
   "outputs": [],
   "source": [
    "HOSTNAME = \"localhost\"\n",
    "GRPC_PORT = 50098  # Be sure the Speos GRPC Server has been started on this port.\n",
    "USE_DOCKER = True  # Set to False if you're running this example locally as a Notebook.\n",
    "IES = \"IES_C_DETECTOR.ies\""
   ]
  },
  {
   "cell_type": "markdown",
   "id": "48981bf9",
   "metadata": {
    "lines_to_next_cell": 2
   },
   "source": [
    "### Define helper functions"
   ]
  },
  {
   "cell_type": "code",
   "execution_count": 3,
   "id": "009dfa02",
   "metadata": {
    "execution": {
     "iopub.execute_input": "2025-04-17T12:03:19.030736Z",
     "iopub.status.busy": "2025-04-17T12:03:19.030540Z",
     "iopub.status.idle": "2025-04-17T12:03:19.035689Z",
     "shell.execute_reply": "2025-04-17T12:03:19.035177Z"
    }
   },
   "outputs": [],
   "source": [
    "def create_helper_geometries(project: Project):\n",
    "    \"\"\"Create bodies and faces.\"\"\"\n",
    "\n",
    "    def create_face(body):\n",
    "        (\n",
    "            body.create_face(name=\"TheFaceF\")\n",
    "            .set_vertices([0, 0, 0, 1, 0, 0, 0, 1, 0])\n",
    "            .set_facets([0, 1, 2])\n",
    "            .set_normals([0, 0, 1, 0, 0, 1, 0, 0, 1])\n",
    "            .commit()\n",
    "        )\n",
    "\n",
    "    root_part = project.create_root_part().commit()\n",
    "    body_b1 = root_part.create_body(name=\"TheBodyB\").commit()\n",
    "    body_b2 = root_part.create_body(name=\"TheBodyC\").commit()\n",
    "    body_b3 = root_part.create_body(name=\"TheBodyD\").commit()\n",
    "    body_b4 = root_part.create_body(name=\"TheBodyE\").commit()\n",
    "    for b in [body_b1, body_b2, body_b3, body_b4]:\n",
    "        create_face(b)"
   ]
  },
  {
   "cell_type": "markdown",
   "id": "de5694ac",
   "metadata": {},
   "source": [
    "## Model Setup\n",
    "\n",
    "### Load assets\n",
    "The assets used to run this example are available in the\n",
    "[PySpeos repository](https://github.com/ansys/pyspeos/) on GitHub.\n",
    "\n",
    "> **Note:** Make sure you\n",
    "> have downloaded simulation assets and set ``assets_data_path``\n",
    "> to point to the assets folder."
   ]
  },
  {
   "cell_type": "code",
   "execution_count": 4,
   "id": "acc0599e",
   "metadata": {
    "execution": {
     "iopub.execute_input": "2025-04-17T12:03:19.037473Z",
     "iopub.status.busy": "2025-04-17T12:03:19.037280Z",
     "iopub.status.idle": "2025-04-17T12:03:19.040477Z",
     "shell.execute_reply": "2025-04-17T12:03:19.039961Z"
    }
   },
   "outputs": [],
   "source": [
    "if USE_DOCKER:  # Running on the remote server.\n",
    "    assets_data_path = Path(\"/app\") / \"assets\"\n",
    "else:\n",
    "    assets_data_path = Path(\"/path/to/your/download/assets/directory\")"
   ]
  },
  {
   "cell_type": "markdown",
   "id": "57abc764",
   "metadata": {},
   "source": [
    "### Connect to the RPC Server\n",
    "This Python client connects to a server where the Speos engine\n",
    "is running as a service. In this example, the server and\n",
    "client are the same machine."
   ]
  },
  {
   "cell_type": "code",
   "execution_count": 5,
   "id": "1da4535f",
   "metadata": {
    "execution": {
     "iopub.execute_input": "2025-04-17T12:03:19.042242Z",
     "iopub.status.busy": "2025-04-17T12:03:19.042047Z",
     "iopub.status.idle": "2025-04-17T12:03:19.048269Z",
     "shell.execute_reply": "2025-04-17T12:03:19.047719Z"
    }
   },
   "outputs": [],
   "source": [
    "speos = Speos(host=HOSTNAME, port=GRPC_PORT)"
   ]
  },
  {
   "cell_type": "markdown",
   "id": "6fbdb65b",
   "metadata": {},
   "source": [
    "### Create a new project\n",
    "\n",
    "The only way to create a source using the core layer, is to create it from a project.\n",
    "The ``Project`` class is instantiated by passing a ``Speos`` instance"
   ]
  },
  {
   "cell_type": "code",
   "execution_count": 6,
   "id": "209f748a",
   "metadata": {
    "execution": {
     "iopub.execute_input": "2025-04-17T12:03:19.050186Z",
     "iopub.status.busy": "2025-04-17T12:03:19.049785Z",
     "iopub.status.idle": "2025-04-17T12:03:19.056405Z",
     "shell.execute_reply": "2025-04-17T12:03:19.055862Z"
    },
    "lines_to_next_cell": 2
   },
   "outputs": [
    {
     "name": "stdout",
     "output_type": "stream",
     "text": [
      "{\n",
      "    \"name\": \"\",\n",
      "    \"description\": \"\",\n",
      "    \"metadata\": {},\n",
      "    \"part_guid\": \"\",\n",
      "    \"sources\": [],\n",
      "    \"sensors\": [],\n",
      "    \"simulations\": [],\n",
      "    \"materials\": [],\n",
      "    \"scenes\": []\n",
      "}\n"
     ]
    }
   ],
   "source": [
    "p = Project(speos=speos)\n",
    "print(p)"
   ]
  },
  {
   "cell_type": "markdown",
   "id": "499ade12",
   "metadata": {},
   "source": [
    "### Source Creation\n",
    "\n",
    "**Create locally:**\n",
    "The mention \"local: \" is added when printing the source data and information is not yet\n",
    "pushed to the RPC server"
   ]
  },
  {
   "cell_type": "code",
   "execution_count": 7,
   "id": "b64cd7ff",
   "metadata": {
    "execution": {
     "iopub.execute_input": "2025-04-17T12:03:19.058412Z",
     "iopub.status.busy": "2025-04-17T12:03:19.058045Z",
     "iopub.status.idle": "2025-04-17T12:03:19.062171Z",
     "shell.execute_reply": "2025-04-17T12:03:19.061616Z"
    }
   },
   "outputs": [
    {
     "name": "stdout",
     "output_type": "stream",
     "text": [
      "local: {\n",
      "    \"name\": \"Luminaire.1\",\n",
      "    \"description\": \"\",\n",
      "    \"metadata\": {},\n",
      "    \"source_guid\": \"\",\n",
      "    \"source\": {\n",
      "        \"name\": \"Luminaire.1\",\n",
      "        \"luminaire\": {\n",
      "            \"flux_from_intensity_file\": {},\n",
      "            \"intensity_file_uri\": \"/app/assets/IES_C_DETECTOR.ies\",\n",
      "            \"spectrum_guid\": \"\",\n",
      "            \"axis_system\": [\n",
      "                0.0,\n",
      "                0.0,\n",
      "                0.0,\n",
      "                1.0,\n",
      "                0.0,\n",
      "                0.0,\n",
      "                0.0,\n",
      "                1.0,\n",
      "                0.0,\n",
      "                0.0,\n",
      "                0.0,\n",
      "                1.0\n",
      "            ]\n",
      "        },\n",
      "        \"description\": \"\",\n",
      "        \"metadata\": {}\n",
      "    }\n",
      "}\n"
     ]
    }
   ],
   "source": [
    "intensity_file_path = str(assets_data_path / IES)\n",
    "source1 = p.create_source(name=\"Luminaire.1\", feature_type=SourceLuminaire)  # type luminaire\n",
    "source1.set_intensity_file_uri(uri=intensity_file_path)\n",
    "print(source1)"
   ]
  },
  {
   "cell_type": "markdown",
   "id": "b41439cc",
   "metadata": {},
   "source": [
    "**Push it to the server.**\n",
    "\n",
    "After it is committed to the server, the mention \"local: \" is no more present when printing the\n",
    "source."
   ]
  },
  {
   "cell_type": "code",
   "execution_count": 8,
   "id": "74cb93e2",
   "metadata": {
    "execution": {
     "iopub.execute_input": "2025-04-17T12:03:19.064138Z",
     "iopub.status.busy": "2025-04-17T12:03:19.063736Z",
     "iopub.status.idle": "2025-04-17T12:03:19.123646Z",
     "shell.execute_reply": "2025-04-17T12:03:19.123010Z"
    }
   },
   "outputs": [
    {
     "name": "stdout",
     "output_type": "stream",
     "text": [
      "{\n",
      "    \"name\": \"Luminaire.1\",\n",
      "    \"metadata\": {\n",
      "        \"UniqueId\": \"41049daf-2491-4f12-9aa1-52ac42bd3890\"\n",
      "    },\n",
      "    \"source_guid\": \"3dbbb700-1579-48fc-8d2c-907a87ac0bbc\",\n",
      "    \"description\": \"\",\n",
      "    \"source\": {\n",
      "        \"name\": \"Luminaire.1\",\n",
      "        \"luminaire\": {\n",
      "            \"flux_from_intensity_file\": {},\n",
      "            \"intensity_file_uri\": \"/app/assets/IES_C_DETECTOR.ies\",\n",
      "            \"spectrum_guid\": \"5fc71729-6966-425a-a3ee-3c194c4c203d\",\n",
      "            \"spectrum\": {\n",
      "                \"name\": \"Luminaire.1.Spectrum\",\n",
      "                \"predefined\": {\n",
      "                    \"incandescent\": {}\n",
      "                },\n",
      "                \"description\": \"\",\n",
      "                \"metadata\": {}\n",
      "            },\n",
      "            \"axis_system\": [\n",
      "                0.0,\n",
      "                0.0,\n",
      "                0.0,\n",
      "                1.0,\n",
      "                0.0,\n",
      "                0.0,\n",
      "                0.0,\n",
      "                1.0,\n",
      "                0.0,\n",
      "                0.0,\n",
      "                0.0,\n",
      "                1.0\n",
      "            ]\n",
      "        },\n",
      "        \"description\": \"\",\n",
      "        \"metadata\": {}\n",
      "    }\n",
      "}\n"
     ]
    }
   ],
   "source": [
    "source1.commit()\n",
    "print(source1)"
   ]
  },
  {
   "cell_type": "markdown",
   "id": "60335b56",
   "metadata": {
    "lines_to_next_cell": 2
   },
   "source": [
    "**Changing additional Source Properties**\n",
    "\n",
    "Setting several more characteristics."
   ]
  },
  {
   "cell_type": "code",
   "execution_count": 9,
   "id": "47501b87",
   "metadata": {
    "execution": {
     "iopub.execute_input": "2025-04-17T12:03:19.125870Z",
     "iopub.status.busy": "2025-04-17T12:03:19.125448Z",
     "iopub.status.idle": "2025-04-17T12:03:19.139600Z",
     "shell.execute_reply": "2025-04-17T12:03:19.139021Z"
    }
   },
   "outputs": [
    {
     "name": "stdout",
     "output_type": "stream",
     "text": [
      "{\n",
      "    \"name\": \"Luminaire.2\",\n",
      "    \"metadata\": {\n",
      "        \"UniqueId\": \"1c6a1d7d-a877-41ec-bec2-d298fec40122\"\n",
      "    },\n",
      "    \"source_guid\": \"d3cd85d2-7526-498e-b7ce-a54d7707ec44\",\n",
      "    \"description\": \"\",\n",
      "    \"source\": {\n",
      "        \"name\": \"Luminaire.2\",\n",
      "        \"luminaire\": {\n",
      "            \"radiant_flux\": {\n",
      "                \"radiant_value\": 1.0\n",
      "            },\n",
      "            \"intensity_file_uri\": \"/app/assets/IES_C_DETECTOR.ies\",\n",
      "            \"spectrum_guid\": \"dbe1107c-ed48-4e0e-900d-014b858e0826\",\n",
      "            \"spectrum\": {\n",
      "                \"name\": \"Luminaire.2.Spectrum\",\n",
      "                \"blackbody\": {\n",
      "                    \"temperature\": 2856.0\n",
      "                },\n",
      "                \"description\": \"\",\n",
      "                \"metadata\": {}\n",
      "            },\n",
      "            \"axis_system\": [\n",
      "                20.0,\n",
      "                50.0,\n",
      "                10.0,\n",
      "                1.0,\n",
      "                0.0,\n",
      "                0.0,\n",
      "                0.0,\n",
      "                1.0,\n",
      "                0.0,\n",
      "                0.0,\n",
      "                0.0,\n",
      "                1.0\n",
      "            ]\n",
      "        },\n",
      "        \"description\": \"\",\n",
      "        \"metadata\": {}\n",
      "    }\n",
      "}\n"
     ]
    }
   ],
   "source": [
    "intensity_file_path = str(assets_data_path / IES)\n",
    "source2 = p.create_source(name=\"Luminaire.2\", feature_type=SourceLuminaire)\n",
    "source2.set_intensity_file_uri(uri=intensity_file_path)\n",
    "source2.set_flux_radiant()  # select flux radiant with default value\n",
    "# choose the source location [Origin, Xvector, Yvector, Zvector]\n",
    "source2.set_axis_system(axis_system=[20, 50, 10, 1, 0, 0, 0, 1, 0, 0, 0, 1])\n",
    "source2.set_spectrum().set_blackbody()  # choose blackbody with default value for the spectrum\n",
    "source2.commit()  # Push to the server\n",
    "print(source2)"
   ]
  },
  {
   "cell_type": "markdown",
   "id": "cb99971b",
   "metadata": {},
   "source": [
    "**Source Instance**\n",
    "\n",
    "As mention \"local: \" is added if it is not yet committed to the server."
   ]
  },
  {
   "cell_type": "code",
   "execution_count": 10,
   "id": "246ff54e",
   "metadata": {
    "execution": {
     "iopub.execute_input": "2025-04-17T12:03:19.141781Z",
     "iopub.status.busy": "2025-04-17T12:03:19.141395Z",
     "iopub.status.idle": "2025-04-17T12:03:19.149372Z",
     "shell.execute_reply": "2025-04-17T12:03:19.148801Z"
    }
   },
   "outputs": [
    {
     "name": "stdout",
     "output_type": "stream",
     "text": [
      "{\n",
      "    \"name\": \"Luminaire.1\",\n",
      "    \"metadata\": {\n",
      "        \"UniqueId\": \"41049daf-2491-4f12-9aa1-52ac42bd3890\"\n",
      "    },\n",
      "    \"source_guid\": \"3dbbb700-1579-48fc-8d2c-907a87ac0bbc\",\n",
      "    \"description\": \"\",\n",
      "    \"source\": {\n",
      "        \"name\": \"Luminaire.1\",\n",
      "        \"luminaire\": {\n",
      "            \"flux_from_intensity_file\": {},\n",
      "            \"intensity_file_uri\": \"/app/assets/IES_C_DETECTOR.ies\",\n",
      "            \"spectrum_guid\": \"5fc71729-6966-425a-a3ee-3c194c4c203d\",\n",
      "            \"spectrum\": {\n",
      "                \"name\": \"Luminaire.1.Spectrum\",\n",
      "                \"predefined\": {\n",
      "                    \"incandescent\": {}\n",
      "                },\n",
      "                \"description\": \"\",\n",
      "                \"metadata\": {}\n",
      "            },\n",
      "            \"axis_system\": [\n",
      "                0.0,\n",
      "                0.0,\n",
      "                0.0,\n",
      "                1.0,\n",
      "                0.0,\n",
      "                0.0,\n",
      "                0.0,\n",
      "                1.0,\n",
      "                0.0,\n",
      "                0.0,\n",
      "                0.0,\n",
      "                1.0\n",
      "            ]\n",
      "        },\n",
      "        \"description\": \"\",\n",
      "        \"metadata\": {}\n",
      "    }\n",
      "}\n"
     ]
    }
   ],
   "source": [
    "print(source1)"
   ]
  },
  {
   "cell_type": "markdown",
   "id": "b3609ecd",
   "metadata": {},
   "source": [
    "**Project:**\n",
    "\n",
    "Committed feature will appear inside the project information."
   ]
  },
  {
   "cell_type": "code",
   "execution_count": 11,
   "id": "2f6e3bb5",
   "metadata": {
    "execution": {
     "iopub.execute_input": "2025-04-17T12:03:19.151325Z",
     "iopub.status.busy": "2025-04-17T12:03:19.151075Z",
     "iopub.status.idle": "2025-04-17T12:03:19.162503Z",
     "shell.execute_reply": "2025-04-17T12:03:19.161942Z"
    }
   },
   "outputs": [
    {
     "name": "stdout",
     "output_type": "stream",
     "text": [
      "{\n",
      "    \"sources\": [\n",
      "        {\n",
      "            \"name\": \"Luminaire.1\",\n",
      "            \"metadata\": {\n",
      "                \"UniqueId\": \"41049daf-2491-4f12-9aa1-52ac42bd3890\"\n",
      "            },\n",
      "            \"source_guid\": \"3dbbb700-1579-48fc-8d2c-907a87ac0bbc\",\n",
      "            \"description\": \"\",\n",
      "            \"source\": {\n",
      "                \"name\": \"Luminaire.1\",\n",
      "                \"luminaire\": {\n",
      "                    \"flux_from_intensity_file\": {},\n",
      "                    \"intensity_file_uri\": \"/app/assets/IES_C_DETECTOR.ies\",\n",
      "                    \"spectrum_guid\": \"5fc71729-6966-425a-a3ee-3c194c4c203d\",\n",
      "                    \"spectrum\": {\n",
      "                        \"name\": \"Luminaire.1.Spectrum\",\n",
      "                        \"predefined\": {\n",
      "                            \"incandescent\": {}\n",
      "                        },\n",
      "                        \"description\": \"\",\n",
      "                        \"metadata\": {}\n",
      "                    },\n",
      "                    \"axis_system\": [\n",
      "                        0.0,\n",
      "                        0.0,\n",
      "                        0.0,\n",
      "                        1.0,\n",
      "                        0.0,\n",
      "                        0.0,\n",
      "                        0.0,\n",
      "                        1.0,\n",
      "                        0.0,\n",
      "                        0.0,\n",
      "                        0.0,\n",
      "                        1.0\n",
      "                    ]\n",
      "                },\n",
      "                \"description\": \"\",\n",
      "                \"metadata\": {}\n",
      "            }\n",
      "        },\n",
      "        {\n",
      "            \"name\": \"Luminaire.2\",\n",
      "            \"metadata\": {\n",
      "                \"UniqueId\": \"1c6a1d7d-a877-41ec-bec2-d298fec40122\"\n",
      "            },\n",
      "            \"source_guid\": \"d3cd85d2-7526-498e-b7ce-a54d7707ec44\",\n",
      "            \"description\": \"\",\n",
      "            \"source\": {\n",
      "                \"name\": \"Luminaire.2\",\n",
      "                \"luminaire\": {\n",
      "                    \"radiant_flux\": {\n",
      "                        \"radiant_value\": 1.0\n",
      "                    },\n",
      "                    \"intensity_file_uri\": \"/app/assets/IES_C_DETECTOR.ies\",\n",
      "                    \"spectrum_guid\": \"dbe1107c-ed48-4e0e-900d-014b858e0826\",\n",
      "                    \"spectrum\": {\n",
      "                        \"name\": \"Luminaire.2.Spectrum\",\n",
      "                        \"blackbody\": {\n",
      "                            \"temperature\": 2856.0\n",
      "                        },\n",
      "                        \"description\": \"\",\n",
      "                        \"metadata\": {}\n",
      "                    },\n",
      "                    \"axis_system\": [\n",
      "                        20.0,\n",
      "                        50.0,\n",
      "                        10.0,\n",
      "                        1.0,\n",
      "                        0.0,\n",
      "                        0.0,\n",
      "                        0.0,\n",
      "                        1.0,\n",
      "                        0.0,\n",
      "                        0.0,\n",
      "                        0.0,\n",
      "                        1.0\n",
      "                    ]\n",
      "                },\n",
      "                \"description\": \"\",\n",
      "                \"metadata\": {}\n",
      "            }\n",
      "        }\n",
      "    ],\n",
      "    \"name\": \"\",\n",
      "    \"description\": \"\",\n",
      "    \"metadata\": {},\n",
      "    \"part_guid\": \"\",\n",
      "    \"sensors\": [],\n",
      "    \"simulations\": [],\n",
      "    \"materials\": [],\n",
      "    \"scenes\": []\n",
      "}\n"
     ]
    }
   ],
   "source": [
    "print(p)"
   ]
  },
  {
   "cell_type": "markdown",
   "id": "e90466af",
   "metadata": {},
   "source": [
    "**Update:**\n",
    "\n",
    "> **Note:** If you are manipulating a source already committed, don't forget to commit your\n",
    "> changes.\n",
    "> If you don't, you will still only watch what is committed on the server."
   ]
  },
  {
   "cell_type": "code",
   "execution_count": 12,
   "id": "5b78cef5",
   "metadata": {
    "execution": {
     "iopub.execute_input": "2025-04-17T12:03:19.164726Z",
     "iopub.status.busy": "2025-04-17T12:03:19.164340Z",
     "iopub.status.idle": "2025-04-17T12:03:19.176693Z",
     "shell.execute_reply": "2025-04-17T12:03:19.176130Z"
    }
   },
   "outputs": [
    {
     "name": "stdout",
     "output_type": "stream",
     "text": [
      "{\n",
      "    \"name\": \"Luminaire.1\",\n",
      "    \"metadata\": {\n",
      "        \"UniqueId\": \"41049daf-2491-4f12-9aa1-52ac42bd3890\"\n",
      "    },\n",
      "    \"source_guid\": \"3dbbb700-1579-48fc-8d2c-907a87ac0bbc\",\n",
      "    \"description\": \"\",\n",
      "    \"source\": {\n",
      "        \"name\": \"Luminaire.1\",\n",
      "        \"luminaire\": {\n",
      "            \"radiant_flux\": {\n",
      "                \"radiant_value\": 1.2\n",
      "            },\n",
      "            \"intensity_file_uri\": \"/app/assets/IES_C_DETECTOR.ies\",\n",
      "            \"spectrum_guid\": \"5fc71729-6966-425a-a3ee-3c194c4c203d\",\n",
      "            \"spectrum\": {\n",
      "                \"name\": \"Luminaire.1.Spectrum\",\n",
      "                \"predefined\": {\n",
      "                    \"halogen\": {}\n",
      "                },\n",
      "                \"description\": \"\",\n",
      "                \"metadata\": {}\n",
      "            },\n",
      "            \"axis_system\": [\n",
      "                17.0,\n",
      "                10.0,\n",
      "                10.0,\n",
      "                1.0,\n",
      "                0.0,\n",
      "                0.0,\n",
      "                0.0,\n",
      "                1.0,\n",
      "                0.0,\n",
      "                0.0,\n",
      "                0.0,\n",
      "                1.0\n",
      "            ]\n",
      "        },\n",
      "        \"description\": \"\",\n",
      "        \"metadata\": {}\n",
      "    }\n",
      "}\n"
     ]
    }
   ],
   "source": [
    "source1.set_flux_radiant(value=1.2)  # modify radiant flux value\n",
    "source1.set_axis_system(axis_system=[17, 10, 10, 1, 0, 0, 0, 1, 0, 0, 0, 1])  # modify axis system\n",
    "source1.set_spectrum().set_halogen()  # modify spectrum by choosing halogen\n",
    "source1.commit()  # Push changes to the server\n",
    "print(source1)"
   ]
  },
  {
   "cell_type": "markdown",
   "id": "ec04c2f5",
   "metadata": {},
   "source": [
    "**Reset**\n",
    "\n",
    "Possibility to reset local values from the one available in the server."
   ]
  },
  {
   "cell_type": "code",
   "execution_count": 13,
   "id": "e553e495",
   "metadata": {
    "execution": {
     "iopub.execute_input": "2025-04-17T12:03:19.178453Z",
     "iopub.status.busy": "2025-04-17T12:03:19.178274Z",
     "iopub.status.idle": "2025-04-17T12:03:19.185715Z",
     "shell.execute_reply": "2025-04-17T12:03:19.185170Z"
    },
    "lines_to_next_cell": 2
   },
   "outputs": [
    {
     "name": "stdout",
     "output_type": "stream",
     "text": [
      "local: {\n",
      "    \"name\": \"Luminaire.1\",\n",
      "    \"description\": \"\",\n",
      "    \"metadata\": {},\n",
      "    \"source_guid\": \"\",\n",
      "    \"source\": {\n",
      "        \"name\": \"Luminaire.1\",\n",
      "        \"luminaire\": {\n",
      "            \"radiant_flux\": {\n",
      "                \"radiant_value\": 1.2\n",
      "            },\n",
      "            \"intensity_file_uri\": \"/app/assets/IES_C_DETECTOR.ies\",\n",
      "            \"spectrum_guid\": \"5fc71729-6966-425a-a3ee-3c194c4c203d\",\n",
      "            \"spectrum\": {\n",
      "                \"name\": \"Luminaire.1.Spectrum\",\n",
      "                \"predefined\": {\n",
      "                    \"halogen\": {}\n",
      "                },\n",
      "                \"description\": \"\",\n",
      "                \"metadata\": {}\n",
      "            },\n",
      "            \"axis_system\": [\n",
      "                17.0,\n",
      "                10.0,\n",
      "                10.0,\n",
      "                1.0,\n",
      "                0.0,\n",
      "                0.0,\n",
      "                0.0,\n",
      "                1.0,\n",
      "                0.0,\n",
      "                0.0,\n",
      "                0.0,\n",
      "                1.0\n",
      "            ]\n",
      "        },\n",
      "        \"description\": \"\",\n",
      "        \"metadata\": {}\n",
      "    }\n",
      "}\n"
     ]
    }
   ],
   "source": [
    "source1.set_flux_luminous()  # modify to luminous flux BUT no commit\n",
    "source1.reset()\n",
    "# reset -> this will apply the server value to the local value the local value will be back to\n",
    "# halogen\n",
    "source1.delete()  # delete (to display the local value with the below print)\n",
    "print(source1)"
   ]
  },
  {
   "cell_type": "markdown",
   "id": "d0607aab",
   "metadata": {},
   "source": [
    "**Delete**\n",
    "\n",
    "Once the data is deleted from the server, you can still work with local data and maybe commit\n",
    "later."
   ]
  },
  {
   "cell_type": "code",
   "execution_count": 14,
   "id": "364bed76",
   "metadata": {
    "execution": {
     "iopub.execute_input": "2025-04-17T12:03:19.187718Z",
     "iopub.status.busy": "2025-04-17T12:03:19.187338Z",
     "iopub.status.idle": "2025-04-17T12:03:19.194518Z",
     "shell.execute_reply": "2025-04-17T12:03:19.193968Z"
    }
   },
   "outputs": [
    {
     "name": "stdout",
     "output_type": "stream",
     "text": [
      "local: {\n",
      "    \"name\": \"Luminaire.2\",\n",
      "    \"description\": \"\",\n",
      "    \"metadata\": {},\n",
      "    \"source_guid\": \"\",\n",
      "    \"source\": {\n",
      "        \"name\": \"Luminaire.2\",\n",
      "        \"luminaire\": {\n",
      "            \"radiant_flux\": {\n",
      "                \"radiant_value\": 1.0\n",
      "            },\n",
      "            \"intensity_file_uri\": \"/app/assets/IES_C_DETECTOR.ies\",\n",
      "            \"spectrum_guid\": \"dbe1107c-ed48-4e0e-900d-014b858e0826\",\n",
      "            \"spectrum\": {\n",
      "                \"name\": \"Luminaire.2.Spectrum\",\n",
      "                \"blackbody\": {\n",
      "                    \"temperature\": 2856.0\n",
      "                },\n",
      "                \"description\": \"\",\n",
      "                \"metadata\": {}\n",
      "            },\n",
      "            \"axis_system\": [\n",
      "                20.0,\n",
      "                50.0,\n",
      "                10.0,\n",
      "                1.0,\n",
      "                0.0,\n",
      "                0.0,\n",
      "                0.0,\n",
      "                1.0,\n",
      "                0.0,\n",
      "                0.0,\n",
      "                0.0,\n",
      "                1.0\n",
      "            ]\n",
      "        },\n",
      "        \"description\": \"\",\n",
      "        \"metadata\": {}\n",
      "    }\n",
      "}\n",
      "{\n",
      "    \"name\": \"\",\n",
      "    \"description\": \"\",\n",
      "    \"metadata\": {},\n",
      "    \"part_guid\": \"\",\n",
      "    \"sources\": [],\n",
      "    \"sensors\": [],\n",
      "    \"simulations\": [],\n",
      "    \"materials\": [],\n",
      "    \"scenes\": []\n",
      "}\n"
     ]
    }
   ],
   "source": [
    "source2.delete()\n",
    "print(source2)\n",
    "source1.delete()\n",
    "print(p)"
   ]
  },
  {
   "cell_type": "markdown",
   "id": "a34a0ce4",
   "metadata": {},
   "source": [
    "## Other Sources Examples"
   ]
  },
  {
   "cell_type": "markdown",
   "id": "5215eaf5",
   "metadata": {},
   "source": [
    "### Ray-file source"
   ]
  },
  {
   "cell_type": "code",
   "execution_count": 15,
   "id": "0c2a2a9e",
   "metadata": {
    "execution": {
     "iopub.execute_input": "2025-04-17T12:03:19.196595Z",
     "iopub.status.busy": "2025-04-17T12:03:19.196216Z",
     "iopub.status.idle": "2025-04-17T12:03:19.204457Z",
     "shell.execute_reply": "2025-04-17T12:03:19.203824Z"
    }
   },
   "outputs": [
    {
     "name": "stdout",
     "output_type": "stream",
     "text": [
      "{\n",
      "    \"name\": \"Ray-file.1\",\n",
      "    \"metadata\": {\n",
      "        \"UniqueId\": \"7dfda81f-8acd-4ba1-ac23-9ec0b4da8c52\"\n",
      "    },\n",
      "    \"source_guid\": \"4c948e30-bf94-4c1c-882a-0e4ddd0d06a9\",\n",
      "    \"description\": \"\",\n",
      "    \"source\": {\n",
      "        \"name\": \"Ray-file.1\",\n",
      "        \"rayfile\": {\n",
      "            \"ray_file_uri\": \"/app/assets/Rays.ray\",\n",
      "            \"flux_from_ray_file\": {},\n",
      "            \"spectrum_from_ray_file\": {},\n",
      "            \"axis_system\": [\n",
      "                0.0,\n",
      "                0.0,\n",
      "                0.0,\n",
      "                1.0,\n",
      "                0.0,\n",
      "                0.0,\n",
      "                0.0,\n",
      "                1.0,\n",
      "                0.0,\n",
      "                0.0,\n",
      "                0.0,\n",
      "                1.0\n",
      "            ]\n",
      "        },\n",
      "        \"description\": \"\",\n",
      "        \"metadata\": {}\n",
      "    }\n",
      "}\n"
     ]
    }
   ],
   "source": [
    "ray_file_path = str(assets_data_path / \"Rays.ray\")\n",
    "\n",
    "source3 = p.create_source(name=\"Ray-file.1\", feature_type=SourceRayFile)  # type ray file\n",
    "source3.set_ray_file_uri(uri=ray_file_path)\n",
    "source3.commit()\n",
    "print(source3)"
   ]
  },
  {
   "cell_type": "code",
   "execution_count": 16,
   "id": "5fac6f33",
   "metadata": {
    "execution": {
     "iopub.execute_input": "2025-04-17T12:03:19.206526Z",
     "iopub.status.busy": "2025-04-17T12:03:19.206135Z",
     "iopub.status.idle": "2025-04-17T12:03:19.213935Z",
     "shell.execute_reply": "2025-04-17T12:03:19.213328Z"
    }
   },
   "outputs": [
    {
     "name": "stdout",
     "output_type": "stream",
     "text": [
      "{\n",
      "    \"name\": \"Ray-file.1\",\n",
      "    \"metadata\": {\n",
      "        \"UniqueId\": \"7dfda81f-8acd-4ba1-ac23-9ec0b4da8c52\"\n",
      "    },\n",
      "    \"source_guid\": \"4c948e30-bf94-4c1c-882a-0e4ddd0d06a9\",\n",
      "    \"description\": \"\",\n",
      "    \"source\": {\n",
      "        \"name\": \"Ray-file.1\",\n",
      "        \"rayfile\": {\n",
      "            \"ray_file_uri\": \"/app/assets/Rays.ray\",\n",
      "            \"luminous_flux\": {\n",
      "                \"luminous_value\": 683.0\n",
      "            },\n",
      "            \"spectrum_from_ray_file\": {},\n",
      "            \"axis_system\": [\n",
      "                0.0,\n",
      "                0.0,\n",
      "                0.0,\n",
      "                1.0,\n",
      "                0.0,\n",
      "                0.0,\n",
      "                0.0,\n",
      "                1.0,\n",
      "                0.0,\n",
      "                0.0,\n",
      "                0.0,\n",
      "                1.0\n",
      "            ]\n",
      "        },\n",
      "        \"description\": \"\",\n",
      "        \"metadata\": {}\n",
      "    }\n",
      "}\n"
     ]
    }
   ],
   "source": [
    "source3.set_flux_luminous()\n",
    "source3.commit()\n",
    "print(source3)"
   ]
  },
  {
   "cell_type": "code",
   "execution_count": 17,
   "id": "f68c0b16",
   "metadata": {
    "execution": {
     "iopub.execute_input": "2025-04-17T12:03:19.216108Z",
     "iopub.status.busy": "2025-04-17T12:03:19.215660Z",
     "iopub.status.idle": "2025-04-17T12:03:19.223358Z",
     "shell.execute_reply": "2025-04-17T12:03:19.222814Z"
    }
   },
   "outputs": [
    {
     "data": {
      "text/plain": [
       "<ansys.speos.core.source.SourceRayFile at 0x7f2ffb705870>"
      ]
     },
     "execution_count": 17,
     "metadata": {},
     "output_type": "execute_result"
    }
   ],
   "source": [
    "source3.delete()"
   ]
  },
  {
   "cell_type": "markdown",
   "id": "99e790bf",
   "metadata": {},
   "source": [
    "### Surface source"
   ]
  },
  {
   "cell_type": "code",
   "execution_count": 18,
   "id": "d17a0106",
   "metadata": {
    "execution": {
     "iopub.execute_input": "2025-04-17T12:03:19.225294Z",
     "iopub.status.busy": "2025-04-17T12:03:19.225092Z",
     "iopub.status.idle": "2025-04-17T12:03:19.249267Z",
     "shell.execute_reply": "2025-04-17T12:03:19.248587Z"
    }
   },
   "outputs": [
    {
     "name": "stdout",
     "output_type": "stream",
     "text": [
      "{\n",
      "    \"name\": \"Surface.1\",\n",
      "    \"metadata\": {\n",
      "        \"UniqueId\": \"f980b057-d258-4b53-b86b-28bd15d9f3ce\"\n",
      "    },\n",
      "    \"source_guid\": \"a6a94f00-795d-4a02-b082-9fddcfd16ce1\",\n",
      "    \"description\": \"\",\n",
      "    \"source\": {\n",
      "        \"name\": \"Surface.1\",\n",
      "        \"surface\": {\n",
      "            \"luminous_flux\": {\n",
      "                \"luminous_value\": 683.0\n",
      "            },\n",
      "            \"intensity_guid\": \"44743ac0-acd8-4713-8308-c672c56666cc\",\n",
      "            \"exitance_constant\": {\n",
      "                \"geo_paths\": [\n",
      "                    {\n",
      "                        \"geo_path\": \"TheBodyB/TheFaceF\",\n",
      "                        \"reverse_normal\": false\n",
      "                    },\n",
      "                    {\n",
      "                        \"geo_path\": \"TheBodyC/TheFaceF\",\n",
      "                        \"reverse_normal\": true\n",
      "                    }\n",
      "                ]\n",
      "            },\n",
      "            \"spectrum_guid\": \"25421e6e-2448-45da-b496-9aac476c8441\",\n",
      "            \"intensity\": {\n",
      "                \"name\": \"Surface.1.Intensity\",\n",
      "                \"cos\": {\n",
      "                    \"N\": 1.0,\n",
      "                    \"total_angle\": 180.0\n",
      "                },\n",
      "                \"description\": \"\",\n",
      "                \"metadata\": {}\n",
      "            },\n",
      "            \"spectrum\": {\n",
      "                \"name\": \"Surface.1.Spectrum\",\n",
      "                \"monochromatic\": {\n",
      "                    \"wavelength\": 555.0\n",
      "                },\n",
      "                \"description\": \"\",\n",
      "                \"metadata\": {}\n",
      "            }\n",
      "        },\n",
      "        \"description\": \"\",\n",
      "        \"metadata\": {}\n",
      "    }\n",
      "}\n"
     ]
    }
   ],
   "source": [
    "create_helper_geometries(p)\n",
    "source4 = p.create_source(name=\"Surface.1\", feature_type=SourceSurface)\n",
    "source4.set_exitance_constant(\n",
    "    geometries=[\n",
    "        (GeoRef.from_native_link(\"TheBodyB/TheFaceF\"), False),\n",
    "        (GeoRef.from_native_link(\"TheBodyC/TheFaceF\"), True),\n",
    "    ]\n",
    ")\n",
    "source4.commit()\n",
    "print(source4)"
   ]
  },
  {
   "cell_type": "code",
   "execution_count": 19,
   "id": "8370faf1",
   "metadata": {
    "execution": {
     "iopub.execute_input": "2025-04-17T12:03:19.251282Z",
     "iopub.status.busy": "2025-04-17T12:03:19.250860Z",
     "iopub.status.idle": "2025-04-17T12:03:19.274867Z",
     "shell.execute_reply": "2025-04-17T12:03:19.274288Z"
    }
   },
   "outputs": [
    {
     "name": "stdout",
     "output_type": "stream",
     "text": [
      "{\n",
      "    \"name\": \"Surface.1\",\n",
      "    \"metadata\": {\n",
      "        \"UniqueId\": \"f980b057-d258-4b53-b86b-28bd15d9f3ce\"\n",
      "    },\n",
      "    \"source_guid\": \"a6a94f00-795d-4a02-b082-9fddcfd16ce1\",\n",
      "    \"description\": \"\",\n",
      "    \"source\": {\n",
      "        \"name\": \"Surface.1\",\n",
      "        \"surface\": {\n",
      "            \"luminous_intensity_flux\": {\n",
      "                \"luminous_intensity_value\": 5.0\n",
      "            },\n",
      "            \"intensity_guid\": \"44743ac0-acd8-4713-8308-c672c56666cc\",\n",
      "            \"exitance_constant\": {\n",
      "                \"geo_paths\": [\n",
      "                    {\n",
      "                        \"geo_path\": \"TheBodyB/TheFaceF\",\n",
      "                        \"reverse_normal\": false\n",
      "                    },\n",
      "                    {\n",
      "                        \"geo_path\": \"TheBodyC/TheFaceF\",\n",
      "                        \"reverse_normal\": true\n",
      "                    }\n",
      "                ]\n",
      "            },\n",
      "            \"spectrum_guid\": \"25421e6e-2448-45da-b496-9aac476c8441\",\n",
      "            \"intensity\": {\n",
      "                \"name\": \"Surface.1.Intensity\",\n",
      "                \"gaussian\": {\n",
      "                    \"FWHM_angle_x\": 30.0,\n",
      "                    \"FWHM_angle_y\": 30.0,\n",
      "                    \"total_angle\": 180.0,\n",
      "                    \"axis_system\": [\n",
      "                        10.0,\n",
      "                        50.0,\n",
      "                        20.0,\n",
      "                        1.0,\n",
      "                        0.0,\n",
      "                        0.0,\n",
      "                        0.0,\n",
      "                        1.0,\n",
      "                        0.0,\n",
      "                        0.0,\n",
      "                        0.0,\n",
      "                        1.0\n",
      "                    ]\n",
      "                },\n",
      "                \"description\": \"\",\n",
      "                \"metadata\": {}\n",
      "            },\n",
      "            \"spectrum\": {\n",
      "                \"name\": \"Surface.1.Spectrum\",\n",
      "                \"monochromatic\": {\n",
      "                    \"wavelength\": 555.0\n",
      "                },\n",
      "                \"description\": \"\",\n",
      "                \"metadata\": {}\n",
      "            }\n",
      "        },\n",
      "        \"description\": \"\",\n",
      "        \"metadata\": {}\n",
      "    }\n",
      "}\n"
     ]
    }
   ],
   "source": [
    "source4.set_flux_luminous_intensity()\n",
    "source4.set_intensity().set_gaussian().set_axis_system(\n",
    "    axis_system=[10, 50, 20, 1, 0, 0, 0, 1, 0, 0, 0, 1]\n",
    ")\n",
    "source4.commit()\n",
    "print(source4)"
   ]
  },
  {
   "cell_type": "code",
   "execution_count": 20,
   "id": "ddeff8cc",
   "metadata": {
    "execution": {
     "iopub.execute_input": "2025-04-17T12:03:19.276878Z",
     "iopub.status.busy": "2025-04-17T12:03:19.276567Z",
     "iopub.status.idle": "2025-04-17T12:03:19.284304Z",
     "shell.execute_reply": "2025-04-17T12:03:19.283733Z"
    }
   },
   "outputs": [
    {
     "name": "stdout",
     "output_type": "stream",
     "text": [
      "local: {\n",
      "    \"name\": \"Surface.1\",\n",
      "    \"description\": \"\",\n",
      "    \"metadata\": {},\n",
      "    \"source_guid\": \"\",\n",
      "    \"source\": {\n",
      "        \"name\": \"Surface.1\",\n",
      "        \"surface\": {\n",
      "            \"luminous_intensity_flux\": {\n",
      "                \"luminous_intensity_value\": 5.0\n",
      "            },\n",
      "            \"intensity_guid\": \"44743ac0-acd8-4713-8308-c672c56666cc\",\n",
      "            \"exitance_constant\": {\n",
      "                \"geo_paths\": [\n",
      "                    {\n",
      "                        \"geo_path\": \"TheBodyB/TheFaceF\",\n",
      "                        \"reverse_normal\": false\n",
      "                    },\n",
      "                    {\n",
      "                        \"geo_path\": \"TheBodyC/TheFaceF\",\n",
      "                        \"reverse_normal\": true\n",
      "                    }\n",
      "                ]\n",
      "            },\n",
      "            \"spectrum_guid\": \"25421e6e-2448-45da-b496-9aac476c8441\",\n",
      "            \"intensity\": {\n",
      "                \"name\": \"Surface.1.Intensity\",\n",
      "                \"gaussian\": {\n",
      "                    \"FWHM_angle_x\": 30.0,\n",
      "                    \"FWHM_angle_y\": 30.0,\n",
      "                    \"total_angle\": 180.0,\n",
      "                    \"axis_system\": [\n",
      "                        10.0,\n",
      "                        50.0,\n",
      "                        20.0,\n",
      "                        1.0,\n",
      "                        0.0,\n",
      "                        0.0,\n",
      "                        0.0,\n",
      "                        1.0,\n",
      "                        0.0,\n",
      "                        0.0,\n",
      "                        0.0,\n",
      "                        1.0\n",
      "                    ]\n",
      "                },\n",
      "                \"description\": \"\",\n",
      "                \"metadata\": {}\n",
      "            },\n",
      "            \"spectrum\": {\n",
      "                \"name\": \"Surface.1.Spectrum\",\n",
      "                \"monochromatic\": {\n",
      "                    \"wavelength\": 555.0\n",
      "                },\n",
      "                \"description\": \"\",\n",
      "                \"metadata\": {}\n",
      "            }\n",
      "        },\n",
      "        \"description\": \"\",\n",
      "        \"metadata\": {}\n",
      "    }\n",
      "}\n"
     ]
    }
   ],
   "source": [
    "source4.delete()\n",
    "print(source4)"
   ]
  },
  {
   "cell_type": "markdown",
   "id": "3d5b4ed1",
   "metadata": {},
   "source": [
    "When creating sources, this creates some intermediate objects (spectrums, intensity templates).\n",
    "\n",
    "Deleting a source does not delete in cascade those objects\n",
    "because they could be used by some other entities from core layer.\n",
    "\n",
    "Then at the end of the example, we just clean all databases"
   ]
  },
  {
   "cell_type": "code",
   "execution_count": 21,
   "id": "5eed9d04",
   "metadata": {
    "execution": {
     "iopub.execute_input": "2025-04-17T12:03:19.286259Z",
     "iopub.status.busy": "2025-04-17T12:03:19.285942Z",
     "iopub.status.idle": "2025-04-17T12:03:19.293941Z",
     "shell.execute_reply": "2025-04-17T12:03:19.293418Z"
    }
   },
   "outputs": [],
   "source": [
    "for item in speos.client.intensity_templates().list() + speos.client.spectrums().list():\n",
    "    item.delete()"
   ]
  }
 ],
 "metadata": {
  "jupytext": {
   "cell_metadata_filter": "-all",
   "main_language": "python",
   "notebook_metadata_filter": "-all",
   "text_representation": {
    "extension": ".py",
    "format_name": "light"
   }
  },
  "language_info": {
   "codemirror_mode": {
    "name": "ipython",
    "version": 3
   },
   "file_extension": ".py",
   "mimetype": "text/x-python",
   "name": "python",
   "nbconvert_exporter": "python",
   "pygments_lexer": "ipython3",
   "version": "3.10.17"
  }
 },
 "nbformat": 4,
 "nbformat_minor": 5
}
