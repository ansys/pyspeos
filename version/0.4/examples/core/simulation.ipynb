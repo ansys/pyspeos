{
 "cells": [
  {
   "cell_type": "markdown",
   "id": "eef942f6",
   "metadata": {},
   "source": [
    "# How to create a simulation"
   ]
  },
  {
   "cell_type": "markdown",
   "id": "4c9edd14",
   "metadata": {},
   "source": [
    "This tutorial demonstrates how to create a simulation.\n",
    "\n",
    "## What is a simulation?\n",
    "\n",
    "A simulation contains selected sensors, sources to model ray-trace in space.\n",
    "\n",
    "## Prerequisites\n",
    "\n",
    "### Perform imports"
   ]
  },
  {
   "cell_type": "code",
   "execution_count": 1,
   "id": "871dcca2",
   "metadata": {
    "execution": {
     "iopub.execute_input": "2025-04-17T12:03:14.963150Z",
     "iopub.status.busy": "2025-04-17T12:03:14.962957Z",
     "iopub.status.idle": "2025-04-17T12:03:15.713600Z",
     "shell.execute_reply": "2025-04-17T12:03:15.712875Z"
    }
   },
   "outputs": [],
   "source": [
    "from pathlib import Path\n",
    "\n",
    "from ansys.speos.core import GeoRef, Project, Speos\n",
    "from ansys.speos.core.simulation import SimulationInteractive, SimulationInverse\n"
   ]
  },
  {
   "cell_type": "markdown",
   "id": "5b0934f1",
   "metadata": {},
   "source": [
    "### Define constants\n",
    "\n",
    "The constants help ensure consistency and avoid repetition throughout the example."
   ]
  },
  {
   "cell_type": "code",
   "execution_count": 2,
   "id": "87cc99da",
   "metadata": {
    "execution": {
     "iopub.execute_input": "2025-04-17T12:03:15.716046Z",
     "iopub.status.busy": "2025-04-17T12:03:15.715763Z",
     "iopub.status.idle": "2025-04-17T12:03:15.718928Z",
     "shell.execute_reply": "2025-04-17T12:03:15.718422Z"
    }
   },
   "outputs": [],
   "source": [
    "HOSTNAME = \"localhost\"\n",
    "GRPC_PORT = 50098  # Be sure the Speos GRPC Server has been started on this port.\n",
    "USE_DOCKER = True  # Set to False if you're running this example locally as a Notebook.\n",
    "SOURCE_NAME = \"Surface.1\"\n",
    "SENSOR_NAME = \"Irradiance.1\""
   ]
  },
  {
   "cell_type": "markdown",
   "id": "9470ec3b",
   "metadata": {},
   "source": [
    "## Model Setup\n",
    "\n",
    "### Load assets\n",
    "The assets used to run this example are available in the\n",
    "[PySpeos repository](https://github.com/ansys/pyspeos/) on GitHub.\n",
    "\n",
    "> **Note:** Make sure you\n",
    "> have downloaded simulation assets and set ``assets_data_path``\n",
    "> to point to the assets folder."
   ]
  },
  {
   "cell_type": "code",
   "execution_count": 3,
   "id": "eebba074",
   "metadata": {
    "execution": {
     "iopub.execute_input": "2025-04-17T12:03:15.720869Z",
     "iopub.status.busy": "2025-04-17T12:03:15.720493Z",
     "iopub.status.idle": "2025-04-17T12:03:15.723451Z",
     "shell.execute_reply": "2025-04-17T12:03:15.722944Z"
    }
   },
   "outputs": [],
   "source": [
    "if USE_DOCKER:  # Running on the remote server.\n",
    "    assets_data_path = Path(\"/app\") / \"assets\"\n",
    "else:\n",
    "    assets_data_path = Path(\"/path/to/your/download/assets/directory\")"
   ]
  },
  {
   "cell_type": "markdown",
   "id": "c6c5a7dc",
   "metadata": {},
   "source": [
    "### Connect to the RPC Server\n",
    "This Python client connects to a server where the Speos engine\n",
    "is running as a service. In this example, the server and\n",
    "client are the same machine."
   ]
  },
  {
   "cell_type": "code",
   "execution_count": 4,
   "id": "a4aeeef0",
   "metadata": {
    "execution": {
     "iopub.execute_input": "2025-04-17T12:03:15.725174Z",
     "iopub.status.busy": "2025-04-17T12:03:15.724985Z",
     "iopub.status.idle": "2025-04-17T12:03:15.731115Z",
     "shell.execute_reply": "2025-04-17T12:03:15.730582Z"
    }
   },
   "outputs": [],
   "source": [
    "speos = Speos(host=\"localhost\", port=50098)"
   ]
  },
  {
   "cell_type": "markdown",
   "id": "a628eea8",
   "metadata": {},
   "source": [
    "### Create a new project\n",
    "\n",
    "The only way to create a simulation using the core layer, is to create it from a\n",
    "project. The ``Project`` class is instantiated by passing a ``Speos`` instance."
   ]
  },
  {
   "cell_type": "code",
   "execution_count": 5,
   "id": "663e9502",
   "metadata": {
    "execution": {
     "iopub.execute_input": "2025-04-17T12:03:15.733062Z",
     "iopub.status.busy": "2025-04-17T12:03:15.732665Z",
     "iopub.status.idle": "2025-04-17T12:03:15.738312Z",
     "shell.execute_reply": "2025-04-17T12:03:15.737779Z"
    }
   },
   "outputs": [
    {
     "name": "stdout",
     "output_type": "stream",
     "text": [
      "{\n",
      "    \"name\": \"\",\n",
      "    \"description\": \"\",\n",
      "    \"metadata\": {},\n",
      "    \"part_guid\": \"\",\n",
      "    \"sources\": [],\n",
      "    \"sensors\": [],\n",
      "    \"simulations\": [],\n",
      "    \"materials\": [],\n",
      "    \"scenes\": []\n",
      "}\n"
     ]
    }
   ],
   "source": [
    "p = Project(speos=speos)\n",
    "print(p)"
   ]
  },
  {
   "cell_type": "markdown",
   "id": "f472525e",
   "metadata": {},
   "source": [
    "### Prepare prerequisites\n",
    "\n",
    "Create the necessary elements for a simulation: Sensor, source, root part, optical property are\n",
    "prerequisites."
   ]
  },
  {
   "cell_type": "markdown",
   "id": "244395fe",
   "metadata": {},
   "source": [
    "### Prepare the root part"
   ]
  },
  {
   "cell_type": "code",
   "execution_count": 6,
   "id": "375ea18f",
   "metadata": {
    "execution": {
     "iopub.execute_input": "2025-04-17T12:03:15.740165Z",
     "iopub.status.busy": "2025-04-17T12:03:15.739971Z",
     "iopub.status.idle": "2025-04-17T12:03:15.751108Z",
     "shell.execute_reply": "2025-04-17T12:03:15.750429Z"
    }
   },
   "outputs": [
    {
     "data": {
      "text/plain": [
       "<ansys.speos.core.part.Part at 0x7f5b9ada7850>"
      ]
     },
     "execution_count": 6,
     "metadata": {},
     "output_type": "execute_result"
    }
   ],
   "source": [
    "root_part = p.create_root_part()\n",
    "root_part.create_body(name=\"Body.1\").create_face(name=\"Face.1\").set_vertices(\n",
    "    [0, 1, 2, 0, 2, 2, 1, 2, 2]\n",
    ").set_facets([0, 1, 2]).set_normals([0, 0, 1, 0, 0, 1, 0, 0, 1])\n",
    "root_part.commit()"
   ]
  },
  {
   "cell_type": "markdown",
   "id": "e55dee1a",
   "metadata": {},
   "source": [
    "### Prepare an optical property\n",
    "Create Optical Property"
   ]
  },
  {
   "cell_type": "code",
   "execution_count": 7,
   "id": "3bb87943",
   "metadata": {
    "execution": {
     "iopub.execute_input": "2025-04-17T12:03:15.753217Z",
     "iopub.status.busy": "2025-04-17T12:03:15.752835Z",
     "iopub.status.idle": "2025-04-17T12:03:15.757091Z",
     "shell.execute_reply": "2025-04-17T12:03:15.756456Z"
    }
   },
   "outputs": [
    {
     "data": {
      "text/plain": [
       "<ansys.speos.core.opt_prop.OptProp at 0x7f5b9ada7040>"
      ]
     },
     "execution_count": 7,
     "metadata": {},
     "output_type": "execute_result"
    }
   ],
   "source": [
    "opt_prop = p.create_optical_property(\"Material.1\")\n",
    "opt_prop.set_volume_opaque().set_surface_mirror()"
   ]
  },
  {
   "cell_type": "markdown",
   "id": "3677b2b6",
   "metadata": {},
   "source": [
    "Choose the geometry for this optical property : Body.1"
   ]
  },
  {
   "cell_type": "code",
   "execution_count": 8,
   "id": "11311d87",
   "metadata": {
    "execution": {
     "iopub.execute_input": "2025-04-17T12:03:15.759088Z",
     "iopub.status.busy": "2025-04-17T12:03:15.758735Z",
     "iopub.status.idle": "2025-04-17T12:03:15.764570Z",
     "shell.execute_reply": "2025-04-17T12:03:15.764032Z"
    },
    "lines_to_next_cell": 2
   },
   "outputs": [
    {
     "data": {
      "text/plain": [
       "<ansys.speos.core.opt_prop.OptProp at 0x7f5b9ada7040>"
      ]
     },
     "execution_count": 8,
     "metadata": {},
     "output_type": "execute_result"
    }
   ],
   "source": [
    "opt_prop.set_geometries(geometries=[GeoRef.from_native_link(geopath=\"Body.1\")])\n",
    "opt_prop.commit()"
   ]
  },
  {
   "cell_type": "markdown",
   "id": "12ed58f9",
   "metadata": {
    "lines_to_next_cell": 2
   },
   "source": [
    "### Prepare an irradiance sensor"
   ]
  },
  {
   "cell_type": "code",
   "execution_count": 9,
   "id": "d34576c0",
   "metadata": {
    "execution": {
     "iopub.execute_input": "2025-04-17T12:03:15.766535Z",
     "iopub.status.busy": "2025-04-17T12:03:15.766158Z",
     "iopub.status.idle": "2025-04-17T12:03:15.825554Z",
     "shell.execute_reply": "2025-04-17T12:03:15.824981Z"
    }
   },
   "outputs": [
    {
     "data": {
      "text/plain": [
       "<ansys.speos.core.sensor.SensorIrradiance at 0x7f5b9ada6ef0>"
      ]
     },
     "execution_count": 9,
     "metadata": {},
     "output_type": "execute_result"
    }
   ],
   "source": [
    "sensor1 = p.create_sensor(name=SENSOR_NAME)\n",
    "# set type to colorimetric or spectral so that the sensor can be used both in\n",
    "# direct and inverse simulation\n",
    "sensor1.set_type_colorimetric()\n",
    "sensor1.commit()"
   ]
  },
  {
   "cell_type": "markdown",
   "id": "bb245533",
   "metadata": {},
   "source": [
    "### Prepare a surface source"
   ]
  },
  {
   "cell_type": "code",
   "execution_count": 10,
   "id": "0d35d6a5",
   "metadata": {
    "execution": {
     "iopub.execute_input": "2025-04-17T12:03:15.827479Z",
     "iopub.status.busy": "2025-04-17T12:03:15.827290Z",
     "iopub.status.idle": "2025-04-17T12:03:15.837481Z",
     "shell.execute_reply": "2025-04-17T12:03:15.836973Z"
    }
   },
   "outputs": [
    {
     "data": {
      "text/plain": [
       "<ansys.speos.core.source.SourceSurface at 0x7f5b95704460>"
      ]
     },
     "execution_count": 10,
     "metadata": {},
     "output_type": "execute_result"
    }
   ],
   "source": [
    "source1 = p.create_source(name=SOURCE_NAME)\n",
    "source1.set_exitance_constant(geometries=[(GeoRef.from_native_link(geopath=\"Body.1/Face.1\"), True)])\n",
    "# define a spectrum which is not monochromatic so it can be used in both direct and inverse\n",
    "# simulation\n",
    "source1.set_spectrum().set_blackbody()\n",
    "source1.commit()"
   ]
  },
  {
   "cell_type": "markdown",
   "id": "14016a7c",
   "metadata": {},
   "source": [
    "## Create a simulation"
   ]
  },
  {
   "cell_type": "code",
   "execution_count": 11,
   "id": "16c6c89a",
   "metadata": {
    "execution": {
     "iopub.execute_input": "2025-04-17T12:03:15.839442Z",
     "iopub.status.busy": "2025-04-17T12:03:15.839132Z",
     "iopub.status.idle": "2025-04-17T12:03:15.861153Z",
     "shell.execute_reply": "2025-04-17T12:03:15.860595Z"
    },
    "lines_to_next_cell": 2
   },
   "outputs": [
    {
     "name": "stdout",
     "output_type": "stream",
     "text": [
      "local: {\n",
      "    \"name\": \"Simulation.1\",\n",
      "    \"sensor_paths\": [\n",
      "        \"Irradiance.1\"\n",
      "    ],\n",
      "    \"source_paths\": [\n",
      "        \"Surface.1\"\n",
      "    ],\n",
      "    \"description\": \"\",\n",
      "    \"metadata\": {},\n",
      "    \"simulation_guid\": \"\",\n",
      "    \"simulation\": {\n",
      "        \"direct_mc_simulation_template\": {\n",
      "            \"geom_distance_tolerance\": 0.01,\n",
      "            \"max_impact\": 100,\n",
      "            \"weight\": {\n",
      "                \"minimum_energy_percentage\": 0.005\n",
      "            },\n",
      "            \"dispersion\": true,\n",
      "            \"colorimetric_standard\": \"CIE_1931\",\n",
      "            \"fast_transmission_gathering\": false,\n",
      "            \"ambient_material_uri\": \"\",\n",
      "            \"stop_condition_rays_number\": \"200000\",\n",
      "            \"automatic_save_frequency\": 1800\n",
      "        },\n",
      "        \"name\": \"Simulation.1\",\n",
      "        \"description\": \"\",\n",
      "        \"metadata\": {},\n",
      "        \"scene_guid\": \"cd7a908b-0941-4e23-b4d8-1fae502b6e7f\",\n",
      "        \"simulation_path\": \"Simulation.1\",\n",
      "        \"job_type\": \"CPU\"\n",
      "    }\n",
      "}\n",
      "{\n",
      "    \"name\": \"Simulation.1\",\n",
      "    \"metadata\": {\n",
      "        \"UniqueId\": \"a25508ec-fd26-4826-ab61-82275f9370ec\"\n",
      "    },\n",
      "    \"simulation_guid\": \"8a3431ee-8140-47a1-963f-5c9f9eb32f61\",\n",
      "    \"sensor_paths\": [\n",
      "        \"Irradiance.1\"\n",
      "    ],\n",
      "    \"source_paths\": [\n",
      "        \"Surface.1\"\n",
      "    ],\n",
      "    \"description\": \"\",\n",
      "    \"simulation\": {\n",
      "        \"direct_mc_simulation_template\": {\n",
      "            \"geom_distance_tolerance\": 0.01,\n",
      "            \"max_impact\": 100,\n",
      "            \"weight\": {\n",
      "                \"minimum_energy_percentage\": 0.005\n",
      "            },\n",
      "            \"dispersion\": true,\n",
      "            \"colorimetric_standard\": \"CIE_1931\",\n",
      "            \"fast_transmission_gathering\": false,\n",
      "            \"ambient_material_uri\": \"\",\n",
      "            \"stop_condition_rays_number\": \"200000\",\n",
      "            \"automatic_save_frequency\": 1800\n",
      "        },\n",
      "        \"name\": \"Simulation.1\",\n",
      "        \"description\": \"\",\n",
      "        \"metadata\": {},\n",
      "        \"scene_guid\": \"cd7a908b-0941-4e23-b4d8-1fae502b6e7f\",\n",
      "        \"simulation_path\": \"Simulation.1\",\n",
      "        \"job_type\": \"CPU\"\n",
      "    }\n",
      "}\n"
     ]
    }
   ],
   "source": [
    "simulation1 = p.create_simulation(name=\"Simulation.1\")\n",
    "simulation1.set_sensor_paths([SENSOR_NAME]).set_source_paths([SOURCE_NAME])\n",
    "print(simulation1)\n",
    "simulation1.commit()\n",
    "print(simulation1)"
   ]
  },
  {
   "cell_type": "markdown",
   "id": "3715382e",
   "metadata": {
    "lines_to_next_cell": 2
   },
   "source": [
    "### Set simulation characteristics\n",
    "\n",
    "Simulation is defined with the same default values as the GUI speos.\n",
    "\n",
    "If the user would like to modify the simulation characteristics,\n",
    "it is possible to do so by setting the simulation characteristics as below."
   ]
  },
  {
   "cell_type": "code",
   "execution_count": 12,
   "id": "47586da3",
   "metadata": {
    "execution": {
     "iopub.execute_input": "2025-04-17T12:03:15.862973Z",
     "iopub.status.busy": "2025-04-17T12:03:15.862752Z",
     "iopub.status.idle": "2025-04-17T12:03:15.896938Z",
     "shell.execute_reply": "2025-04-17T12:03:15.896288Z"
    },
    "lines_to_next_cell": 2
   },
   "outputs": [
    {
     "name": "stdout",
     "output_type": "stream",
     "text": [
      "{\n",
      "    \"name\": \"Simulation.2\",\n",
      "    \"metadata\": {\n",
      "        \"UniqueId\": \"fb1f9c9b-e574-413f-8c7d-ae78b1e74904\"\n",
      "    },\n",
      "    \"simulation_guid\": \"6cc9917f-ed0f-4a18-b65a-00405b87714a\",\n",
      "    \"sensor_paths\": [\n",
      "        \"Irradiance.1\"\n",
      "    ],\n",
      "    \"source_paths\": [\n",
      "        \"Surface.1\"\n",
      "    ],\n",
      "    \"description\": \"\",\n",
      "    \"simulation\": {\n",
      "        \"direct_mc_simulation_template\": {\n",
      "            \"geom_distance_tolerance\": 0.01,\n",
      "            \"max_impact\": 200,\n",
      "            \"colorimetric_standard\": \"CIE_1964\",\n",
      "            \"ambient_material_uri\": \"/app/assets/AIR.material\",\n",
      "            \"dispersion\": false,\n",
      "            \"fast_transmission_gathering\": false,\n",
      "            \"stop_condition_rays_number\": \"200000\",\n",
      "            \"automatic_save_frequency\": 1800\n",
      "        },\n",
      "        \"name\": \"Simulation.2\",\n",
      "        \"description\": \"\",\n",
      "        \"metadata\": {},\n",
      "        \"scene_guid\": \"cd7a908b-0941-4e23-b4d8-1fae502b6e7f\",\n",
      "        \"simulation_path\": \"Simulation.2\",\n",
      "        \"job_type\": \"CPU\"\n",
      "    }\n",
      "}\n"
     ]
    }
   ],
   "source": [
    "simulation2_direct = p.create_simulation(name=\"Simulation.2\")\n",
    "simulation2_direct.set_ambient_material_file_uri(\n",
    "    uri=str(assets_data_path / \"AIR.material\")\n",
    ").set_colorimetric_standard_CIE_1964().set_weight_none().set_geom_distance_tolerance(\n",
    "    0.01\n",
    ").set_max_impact(200).set_dispersion(False)\n",
    "simulation2_direct.set_sensor_paths([SENSOR_NAME]).set_source_paths([SOURCE_NAME]).commit()\n",
    "print(simulation2_direct)"
   ]
  },
  {
   "cell_type": "markdown",
   "id": "e20e8947",
   "metadata": {},
   "source": [
    "### Read information\n",
    "\n",
    "Read simulation information"
   ]
  },
  {
   "cell_type": "code",
   "execution_count": 13,
   "id": "8736cb11",
   "metadata": {
    "execution": {
     "iopub.execute_input": "2025-04-17T12:03:15.899057Z",
     "iopub.status.busy": "2025-04-17T12:03:15.898590Z",
     "iopub.status.idle": "2025-04-17T12:03:15.905751Z",
     "shell.execute_reply": "2025-04-17T12:03:15.905135Z"
    }
   },
   "outputs": [
    {
     "name": "stdout",
     "output_type": "stream",
     "text": [
      "{\n",
      "    \"name\": \"Simulation.1\",\n",
      "    \"metadata\": {\n",
      "        \"UniqueId\": \"a25508ec-fd26-4826-ab61-82275f9370ec\"\n",
      "    },\n",
      "    \"simulation_guid\": \"8a3431ee-8140-47a1-963f-5c9f9eb32f61\",\n",
      "    \"sensor_paths\": [\n",
      "        \"Irradiance.1\"\n",
      "    ],\n",
      "    \"source_paths\": [\n",
      "        \"Surface.1\"\n",
      "    ],\n",
      "    \"description\": \"\",\n",
      "    \"simulation\": {\n",
      "        \"direct_mc_simulation_template\": {\n",
      "            \"geom_distance_tolerance\": 0.01,\n",
      "            \"max_impact\": 100,\n",
      "            \"weight\": {\n",
      "                \"minimum_energy_percentage\": 0.005\n",
      "            },\n",
      "            \"dispersion\": true,\n",
      "            \"colorimetric_standard\": \"CIE_1931\",\n",
      "            \"fast_transmission_gathering\": false,\n",
      "            \"ambient_material_uri\": \"\",\n",
      "            \"stop_condition_rays_number\": \"200000\",\n",
      "            \"automatic_save_frequency\": 1800\n",
      "        },\n",
      "        \"name\": \"Simulation.1\",\n",
      "        \"description\": \"\",\n",
      "        \"metadata\": {},\n",
      "        \"scene_guid\": \"cd7a908b-0941-4e23-b4d8-1fae502b6e7f\",\n",
      "        \"simulation_path\": \"Simulation.1\",\n",
      "        \"job_type\": \"CPU\"\n",
      "    }\n",
      "}\n"
     ]
    }
   ],
   "source": [
    "print(simulation1)"
   ]
  },
  {
   "cell_type": "markdown",
   "id": "7eba03ed",
   "metadata": {},
   "source": [
    "Read project information"
   ]
  },
  {
   "cell_type": "code",
   "execution_count": 14,
   "id": "21b2f0d4",
   "metadata": {
    "execution": {
     "iopub.execute_input": "2025-04-17T12:03:15.907679Z",
     "iopub.status.busy": "2025-04-17T12:03:15.907325Z",
     "iopub.status.idle": "2025-04-17T12:03:15.927594Z",
     "shell.execute_reply": "2025-04-17T12:03:15.926924Z"
    }
   },
   "outputs": [
    {
     "name": "stdout",
     "output_type": "stream",
     "text": [
      "{\n",
      "    \"part_guid\": \"c8cf75f3-e670-4744-9e6c-fe5d8702f90b\",\n",
      "    \"sources\": [\n",
      "        {\n",
      "            \"name\": \"Surface.1\",\n",
      "            \"metadata\": {\n",
      "                \"UniqueId\": \"4a7f2163-5989-4b8c-839b-0e78b842db78\"\n",
      "            },\n",
      "            \"source_guid\": \"3a515c14-4cad-4cd9-8ccd-b2fc8222ca6b\",\n",
      "            \"description\": \"\",\n",
      "            \"source\": {\n",
      "                \"name\": \"Surface.1\",\n",
      "                \"surface\": {\n",
      "                    \"luminous_flux\": {\n",
      "                        \"luminous_value\": 683.0\n",
      "                    },\n",
      "                    \"intensity_guid\": \"42f309ac-57b9-4a6a-b59a-be0c0d22a63d\",\n",
      "                    \"exitance_constant\": {\n",
      "                        \"geo_paths\": [\n",
      "                            {\n",
      "                                \"geo_path\": \"Body.1/Face.1\",\n",
      "                                \"reverse_normal\": true\n",
      "                            }\n",
      "                        ]\n",
      "                    },\n",
      "                    \"spectrum_guid\": \"64007b26-4132-46d2-8bb2-8183f3b15321\",\n",
      "                    \"intensity\": {\n",
      "                        \"name\": \"Surface.1.Intensity\",\n",
      "                        \"cos\": {\n",
      "                            \"N\": 1.0,\n",
      "                            \"total_angle\": 180.0\n",
      "                        },\n",
      "                        \"description\": \"\",\n",
      "                        \"metadata\": {}\n",
      "                    },\n",
      "                    \"spectrum\": {\n",
      "                        \"name\": \"Surface.1.Spectrum\",\n",
      "                        \"blackbody\": {\n",
      "                            \"temperature\": 2856.0\n",
      "                        },\n",
      "                        \"description\": \"\",\n",
      "                        \"metadata\": {}\n",
      "                    }\n",
      "                },\n",
      "                \"description\": \"\",\n",
      "                \"metadata\": {}\n",
      "            }\n",
      "        }\n",
      "    ],\n",
      "    \"sensors\": [\n",
      "        {\n",
      "            \"name\": \"Irradiance.1\",\n",
      "            \"metadata\": {\n",
      "                \"UniqueId\": \"a37bcc6e-1adc-4acf-9bbd-df0fb7227628\"\n",
      "            },\n",
      "            \"sensor_guid\": \"a3147c78-0e05-4d85-9b7b-dccfd53c3d4f\",\n",
      "            \"description\": \"\",\n",
      "            \"result_file_name\": \"\",\n",
      "            \"sensor\": {\n",
      "                \"irradiance_sensor_template\": {\n",
      "                    \"sensor_type_colorimetric\": {\n",
      "                        \"wavelengths_range\": {\n",
      "                            \"w_start\": 400.0,\n",
      "                            \"w_end\": 700.0,\n",
      "                            \"w_sampling\": 13\n",
      "                        }\n",
      "                    },\n",
      "                    \"illuminance_type_planar\": {},\n",
      "                    \"dimensions\": {\n",
      "                        \"x_start\": -50.0,\n",
      "                        \"x_end\": 50.0,\n",
      "                        \"x_sampling\": 100,\n",
      "                        \"y_start\": -50.0,\n",
      "                        \"y_end\": 50.0,\n",
      "                        \"y_sampling\": 100\n",
      "                    },\n",
      "                    \"axis_system\": [\n",
      "                        0.0,\n",
      "                        0.0,\n",
      "                        0.0,\n",
      "                        1.0,\n",
      "                        0.0,\n",
      "                        0.0,\n",
      "                        0.0,\n",
      "                        1.0,\n",
      "                        0.0,\n",
      "                        0.0,\n",
      "                        0.0,\n",
      "                        1.0\n",
      "                    ],\n",
      "                    \"layer_type_none\": {},\n",
      "                    \"ray_file_type\": \"RayFileNone\",\n",
      "                    \"integration_direction\": []\n",
      "                },\n",
      "                \"name\": \"Irradiance.1\",\n",
      "                \"description\": \"\",\n",
      "                \"metadata\": {}\n",
      "            }\n",
      "        }\n",
      "    ],\n",
      "    \"simulations\": [\n",
      "        {\n",
      "            \"name\": \"Simulation.1\",\n",
      "            \"metadata\": {\n",
      "                \"UniqueId\": \"a25508ec-fd26-4826-ab61-82275f9370ec\"\n",
      "            },\n",
      "            \"simulation_guid\": \"8a3431ee-8140-47a1-963f-5c9f9eb32f61\",\n",
      "            \"sensor_paths\": [\n",
      "                \"Irradiance.1\"\n",
      "            ],\n",
      "            \"source_paths\": [\n",
      "                \"Surface.1\"\n",
      "            ],\n",
      "            \"description\": \"\",\n",
      "            \"simulation\": {\n",
      "                \"direct_mc_simulation_template\": {\n",
      "                    \"geom_distance_tolerance\": 0.01,\n",
      "                    \"max_impact\": 100,\n",
      "                    \"weight\": {\n",
      "                        \"minimum_energy_percentage\": 0.005\n",
      "                    },\n",
      "                    \"dispersion\": true,\n",
      "                    \"colorimetric_standard\": \"CIE_1931\",\n",
      "                    \"fast_transmission_gathering\": false,\n",
      "                    \"ambient_material_uri\": \"\",\n",
      "                    \"stop_condition_rays_number\": \"200000\",\n",
      "                    \"automatic_save_frequency\": 1800\n",
      "                },\n",
      "                \"name\": \"Simulation.1\",\n",
      "                \"description\": \"\",\n",
      "                \"metadata\": {},\n",
      "                \"scene_guid\": \"cd7a908b-0941-4e23-b4d8-1fae502b6e7f\",\n",
      "                \"simulation_path\": \"Simulation.1\",\n",
      "                \"job_type\": \"CPU\"\n",
      "            }\n",
      "        },\n",
      "        {\n",
      "            \"name\": \"Simulation.2\",\n",
      "            \"metadata\": {\n",
      "                \"UniqueId\": \"fb1f9c9b-e574-413f-8c7d-ae78b1e74904\"\n",
      "            },\n",
      "            \"simulation_guid\": \"6cc9917f-ed0f-4a18-b65a-00405b87714a\",\n",
      "            \"sensor_paths\": [\n",
      "                \"Irradiance.1\"\n",
      "            ],\n",
      "            \"source_paths\": [\n",
      "                \"Surface.1\"\n",
      "            ],\n",
      "            \"description\": \"\",\n",
      "            \"simulation\": {\n",
      "                \"direct_mc_simulation_template\": {\n",
      "                    \"geom_distance_tolerance\": 0.01,\n",
      "                    \"max_impact\": 200,\n",
      "                    \"colorimetric_standard\": \"CIE_1964\",\n",
      "                    \"ambient_material_uri\": \"/app/assets/AIR.material\",\n",
      "                    \"dispersion\": false,\n",
      "                    \"fast_transmission_gathering\": false,\n",
      "                    \"stop_condition_rays_number\": \"200000\",\n",
      "                    \"automatic_save_frequency\": 1800\n",
      "                },\n",
      "                \"name\": \"Simulation.2\",\n",
      "                \"description\": \"\",\n",
      "                \"metadata\": {},\n",
      "                \"scene_guid\": \"cd7a908b-0941-4e23-b4d8-1fae502b6e7f\",\n",
      "                \"simulation_path\": \"Simulation.2\",\n",
      "                \"job_type\": \"CPU\"\n",
      "            }\n",
      "        }\n",
      "    ],\n",
      "    \"materials\": [\n",
      "        {\n",
      "            \"name\": \"Material.1\",\n",
      "            \"metadata\": {\n",
      "                \"UniqueId\": \"e5bb8cca-45d2-4e7f-aa65-91663e24486a\"\n",
      "            },\n",
      "            \"vop_guid\": \"e7c14a1d-0a19-4bc1-88fc-1130807e355e\",\n",
      "            \"sop_guids\": [\n",
      "                \"bcd60179-5379-4d2f-be78-95cb0dab7729\"\n",
      "            ],\n",
      "            \"geometries\": {\n",
      "                \"geo_paths\": [\n",
      "                    \"Body.1\"\n",
      "                ]\n",
      "            },\n",
      "            \"description\": \"\",\n",
      "            \"vop\": {\n",
      "                \"name\": \"Material.1.VOP\",\n",
      "                \"opaque\": {},\n",
      "                \"description\": \"\",\n",
      "                \"metadata\": {}\n",
      "            },\n",
      "            \"sops\": [\n",
      "                {\n",
      "                    \"name\": \"Material.1.SOP\",\n",
      "                    \"mirror\": {\n",
      "                        \"reflectance\": 100.0\n",
      "                    },\n",
      "                    \"description\": \"\",\n",
      "                    \"metadata\": {}\n",
      "                }\n",
      "            ]\n",
      "        }\n",
      "    ],\n",
      "    \"name\": \"\",\n",
      "    \"description\": \"\",\n",
      "    \"metadata\": {},\n",
      "    \"scenes\": []\n",
      "}\n"
     ]
    }
   ],
   "source": [
    "print(p)"
   ]
  },
  {
   "cell_type": "markdown",
   "id": "df276838",
   "metadata": {},
   "source": [
    "## Update simulation settings\n",
    "\n",
    "If you are manipulating a simulation already committed, remember to commit your changes.\n",
    "\n",
    "If you don't, you will still only watch what is committed on the server."
   ]
  },
  {
   "cell_type": "code",
   "execution_count": 15,
   "id": "36473b83",
   "metadata": {
    "execution": {
     "iopub.execute_input": "2025-04-17T12:03:15.930047Z",
     "iopub.status.busy": "2025-04-17T12:03:15.929545Z",
     "iopub.status.idle": "2025-04-17T12:03:15.938682Z",
     "shell.execute_reply": "2025-04-17T12:03:15.938007Z"
    },
    "lines_to_next_cell": 2
   },
   "outputs": [
    {
     "name": "stdout",
     "output_type": "stream",
     "text": [
      "{\n",
      "    \"name\": \"Simulation.1\",\n",
      "    \"metadata\": {\n",
      "        \"UniqueId\": \"a25508ec-fd26-4826-ab61-82275f9370ec\"\n",
      "    },\n",
      "    \"simulation_guid\": \"8a3431ee-8140-47a1-963f-5c9f9eb32f61\",\n",
      "    \"sensor_paths\": [\n",
      "        \"Irradiance.1\"\n",
      "    ],\n",
      "    \"source_paths\": [\n",
      "        \"Surface.1\"\n",
      "    ],\n",
      "    \"description\": \"\",\n",
      "    \"simulation\": {\n",
      "        \"direct_mc_simulation_template\": {\n",
      "            \"geom_distance_tolerance\": 0.01,\n",
      "            \"max_impact\": 100,\n",
      "            \"weight\": {\n",
      "                \"minimum_energy_percentage\": 0.005\n",
      "            },\n",
      "            \"dispersion\": true,\n",
      "            \"ambient_material_uri\": \"/app/assets/AIR.material\",\n",
      "            \"colorimetric_standard\": \"CIE_1931\",\n",
      "            \"fast_transmission_gathering\": false,\n",
      "            \"stop_condition_rays_number\": \"200000\",\n",
      "            \"automatic_save_frequency\": 1800\n",
      "        },\n",
      "        \"name\": \"Simulation.1\",\n",
      "        \"description\": \"\",\n",
      "        \"metadata\": {},\n",
      "        \"scene_guid\": \"cd7a908b-0941-4e23-b4d8-1fae502b6e7f\",\n",
      "        \"simulation_path\": \"Simulation.1\",\n",
      "        \"job_type\": \"CPU\"\n",
      "    }\n",
      "}\n"
     ]
    }
   ],
   "source": [
    "simulation1.set_ambient_material_file_uri(uri=str(assets_data_path / \"AIR.material\"))\n",
    "simulation1.commit()\n",
    "print(simulation1)"
   ]
  },
  {
   "cell_type": "markdown",
   "id": "4d50fd78",
   "metadata": {},
   "source": [
    "## Reset\n",
    "\n",
    "Possibility to reset local values from the one available in the server."
   ]
  },
  {
   "cell_type": "code",
   "execution_count": 16,
   "id": "d156de68",
   "metadata": {
    "execution": {
     "iopub.execute_input": "2025-04-17T12:03:15.940811Z",
     "iopub.status.busy": "2025-04-17T12:03:15.940353Z",
     "iopub.status.idle": "2025-04-17T12:03:15.959397Z",
     "shell.execute_reply": "2025-04-17T12:03:15.958714Z"
    },
    "lines_to_next_cell": 2
   },
   "outputs": [
    {
     "name": "stdout",
     "output_type": "stream",
     "text": [
      "local: {\n",
      "    \"name\": \"Simulation.1\",\n",
      "    \"sensor_paths\": [\n",
      "        \"Irradiance.1\"\n",
      "    ],\n",
      "    \"source_paths\": [\n",
      "        \"Surface.1\"\n",
      "    ],\n",
      "    \"description\": \"\",\n",
      "    \"metadata\": {},\n",
      "    \"simulation_guid\": \"\",\n",
      "    \"simulation\": {\n",
      "        \"direct_mc_simulation_template\": {\n",
      "            \"geom_distance_tolerance\": 0.01,\n",
      "            \"max_impact\": 100,\n",
      "            \"weight\": {\n",
      "                \"minimum_energy_percentage\": 0.005\n",
      "            },\n",
      "            \"dispersion\": true,\n",
      "            \"ambient_material_uri\": \"/app/assets/AIR.material\",\n",
      "            \"colorimetric_standard\": \"CIE_1931\",\n",
      "            \"fast_transmission_gathering\": false,\n",
      "            \"stop_condition_rays_number\": \"200000\",\n",
      "            \"automatic_save_frequency\": 1800\n",
      "        },\n",
      "        \"name\": \"Simulation.1\",\n",
      "        \"description\": \"\",\n",
      "        \"metadata\": {},\n",
      "        \"scene_guid\": \"cd7a908b-0941-4e23-b4d8-1fae502b6e7f\",\n",
      "        \"simulation_path\": \"Simulation.1\",\n",
      "        \"job_type\": \"CPU\"\n",
      "    }\n",
      "}\n"
     ]
    }
   ],
   "source": [
    "simulation1.set_max_impact(1000)  # adjust max impact but no commit\n",
    "simulation1.reset()  # reset -> this will apply the server value to the local value\n",
    "simulation1.delete()  # delete (to display the local value with the below print)\n",
    "print(simulation1)"
   ]
  },
  {
   "cell_type": "markdown",
   "id": "d854aa02",
   "metadata": {},
   "source": [
    "## Other simulation examples\n",
    "\n",
    "### Inverse simulation"
   ]
  },
  {
   "cell_type": "code",
   "execution_count": 17,
   "id": "8a84b1ed",
   "metadata": {
    "execution": {
     "iopub.execute_input": "2025-04-17T12:03:15.961384Z",
     "iopub.status.busy": "2025-04-17T12:03:15.961189Z",
     "iopub.status.idle": "2025-04-17T12:03:15.996031Z",
     "shell.execute_reply": "2025-04-17T12:03:15.995365Z"
    }
   },
   "outputs": [
    {
     "name": "stdout",
     "output_type": "stream",
     "text": [
      "{\n",
      "    \"name\": \"Simulation.3\",\n",
      "    \"metadata\": {\n",
      "        \"UniqueId\": \"561f4479-8f2e-4859-b4e3-a3faed65268e\"\n",
      "    },\n",
      "    \"simulation_guid\": \"1b240dae-7977-4fb0-974a-6969e3f25dd1\",\n",
      "    \"sensor_paths\": [\n",
      "        \"Irradiance.1\"\n",
      "    ],\n",
      "    \"source_paths\": [\n",
      "        \"Surface.1\"\n",
      "    ],\n",
      "    \"description\": \"\",\n",
      "    \"simulation\": {\n",
      "        \"inverse_mc_simulation_template\": {\n",
      "            \"geom_distance_tolerance\": 0.01,\n",
      "            \"max_impact\": 100,\n",
      "            \"weight\": {\n",
      "                \"minimum_energy_percentage\": 0.005\n",
      "            },\n",
      "            \"number_of_gathering_rays_per_source\": 1,\n",
      "            \"colorimetric_standard\": \"CIE_1931\",\n",
      "            \"dispersion\": false,\n",
      "            \"splitting\": false,\n",
      "            \"maximum_gathering_error\": 0,\n",
      "            \"maximum_gathering_error_percentage\": 0.0,\n",
      "            \"fast_transmission_gathering\": false,\n",
      "            \"ambient_material_uri\": \"\",\n",
      "            \"optimized_propagation_none\": {\n",
      "                \"stop_condition_passes_number\": 5\n",
      "            },\n",
      "            \"automatic_save_frequency\": 1800\n",
      "        },\n",
      "        \"name\": \"Simulation.3\",\n",
      "        \"description\": \"\",\n",
      "        \"metadata\": {},\n",
      "        \"scene_guid\": \"cd7a908b-0941-4e23-b4d8-1fae502b6e7f\",\n",
      "        \"simulation_path\": \"Simulation.3\",\n",
      "        \"job_type\": \"CPU\"\n",
      "    }\n",
      "}\n"
     ]
    }
   ],
   "source": [
    "simulation3 = p.create_simulation(name=\"Simulation.3\", feature_type=SimulationInverse)\n",
    "simulation3.set_sensor_paths(sensor_paths=[SENSOR_NAME]).set_source_paths(\n",
    "    source_paths=[SOURCE_NAME]\n",
    ").commit()\n",
    "print(simulation3)"
   ]
  },
  {
   "cell_type": "markdown",
   "id": "8adfbb5d",
   "metadata": {},
   "source": [
    "### Interactive simulation"
   ]
  },
  {
   "cell_type": "code",
   "execution_count": 18,
   "id": "e4e7b15a",
   "metadata": {
    "execution": {
     "iopub.execute_input": "2025-04-17T12:03:15.998032Z",
     "iopub.status.busy": "2025-04-17T12:03:15.997804Z",
     "iopub.status.idle": "2025-04-17T12:03:16.044746Z",
     "shell.execute_reply": "2025-04-17T12:03:16.044126Z"
    }
   },
   "outputs": [
    {
     "name": "stdout",
     "output_type": "stream",
     "text": [
      "{\n",
      "    \"name\": \"Simulation.4\",\n",
      "    \"metadata\": {\n",
      "        \"UniqueId\": \"cb059798-d012-49e8-9896-e073b963706d\"\n",
      "    },\n",
      "    \"simulation_guid\": \"d92959f1-502e-446a-a124-6342d67ef464\",\n",
      "    \"source_paths\": [\n",
      "        \"Surface.1\"\n",
      "    ],\n",
      "    \"description\": \"\",\n",
      "    \"sensor_paths\": [],\n",
      "    \"simulation\": {\n",
      "        \"name\": \"Simulation.4\",\n",
      "        \"interactive_simulation_template\": {\n",
      "            \"geom_distance_tolerance\": 0.01,\n",
      "            \"max_impact\": 100,\n",
      "            \"weight\": {\n",
      "                \"minimum_energy_percentage\": 0.005\n",
      "            },\n",
      "            \"colorimetric_standard\": \"CIE_1931\",\n",
      "            \"ambient_material_uri\": \"\",\n",
      "            \"rays_number_per_sources\": [],\n",
      "            \"light_expert\": false,\n",
      "            \"impact_report\": false\n",
      "        },\n",
      "        \"description\": \"\",\n",
      "        \"metadata\": {},\n",
      "        \"scene_guid\": \"cd7a908b-0941-4e23-b4d8-1fae502b6e7f\",\n",
      "        \"simulation_path\": \"Simulation.4\",\n",
      "        \"job_type\": \"CPU\"\n",
      "    }\n",
      "}"
     ]
    },
    {
     "name": "stdout",
     "output_type": "stream",
     "text": [
      "\n"
     ]
    }
   ],
   "source": [
    "simulation4 = p.create_simulation(name=\"Simulation.4\", feature_type=SimulationInteractive)\n",
    "simulation4.set_source_paths(source_paths=[SOURCE_NAME]).commit()\n",
    "print(simulation4)"
   ]
  }
 ],
 "metadata": {
  "jupytext": {
   "cell_metadata_filter": "-all",
   "main_language": "python",
   "notebook_metadata_filter": "-all",
   "text_representation": {
    "extension": ".py",
    "format_name": "light"
   }
  },
  "language_info": {
   "codemirror_mode": {
    "name": "ipython",
    "version": 3
   },
   "file_extension": ".py",
   "mimetype": "text/x-python",
   "name": "python",
   "nbconvert_exporter": "python",
   "pygments_lexer": "ipython3",
   "version": "3.10.17"
  }
 },
 "nbformat": 4,
 "nbformat_minor": 5
}
