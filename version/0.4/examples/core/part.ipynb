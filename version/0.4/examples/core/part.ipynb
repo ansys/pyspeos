{
 "cells": [
  {
   "cell_type": "markdown",
   "id": "64c07f45",
   "metadata": {},
   "source": [
    "# How to create a part"
   ]
  },
  {
   "cell_type": "markdown",
   "id": "2e7553e7",
   "metadata": {},
   "source": [
    "This tutorial demonstrates how to create a part."
   ]
  },
  {
   "cell_type": "markdown",
   "id": "5799e237",
   "metadata": {},
   "source": [
    "## What is a part?"
   ]
  },
  {
   "cell_type": "markdown",
   "id": "b42507b9",
   "metadata": {},
   "source": [
    "A part is either a volume or a face type bodies that are defined by a number of mesh triangles."
   ]
  },
  {
   "cell_type": "markdown",
   "id": "b8340613",
   "metadata": {},
   "source": [
    "Then a material optical property can be then applied to a part (like bodies, faces)."
   ]
  },
  {
   "cell_type": "code",
   "execution_count": 1,
   "id": "f2a58e1f",
   "metadata": {
    "execution": {
     "iopub.execute_input": "2025-04-17T12:01:32.696889Z",
     "iopub.status.busy": "2025-04-17T12:01:32.696538Z",
     "iopub.status.idle": "2025-04-17T12:01:33.435614Z",
     "shell.execute_reply": "2025-04-17T12:01:33.434963Z"
    }
   },
   "outputs": [],
   "source": [
    "from pathlib import Path\n",
    "\n",
    "from ansys.speos.core import Body, Face, Part, Project, Speos\n",
    "\n",
    "# If using docker container\n",
    "assets_data_path = Path(\"/app\") / \"assets\"\n",
    "# If using local server\n",
    "# assets_data_path = Path().resolve().parent.parent / \"tests\" / \"assets\"\n",
    "# If using a different path\n",
    "# assets_data_path = Path(\"path/to/downloaded/example/assets\")"
   ]
  },
  {
   "cell_type": "markdown",
   "id": "d90cd8be",
   "metadata": {},
   "source": [
    "## Create connection with speos rpc server"
   ]
  },
  {
   "cell_type": "code",
   "execution_count": 2,
   "id": "35e15b4a",
   "metadata": {
    "execution": {
     "iopub.execute_input": "2025-04-17T12:01:33.438159Z",
     "iopub.status.busy": "2025-04-17T12:01:33.437694Z",
     "iopub.status.idle": "2025-04-17T12:01:33.447188Z",
     "shell.execute_reply": "2025-04-17T12:01:33.446644Z"
    }
   },
   "outputs": [],
   "source": [
    "speos = Speos(host=\"localhost\", port=50098)"
   ]
  },
  {
   "cell_type": "markdown",
   "id": "fbdb313e",
   "metadata": {},
   "source": [
    "## New Project"
   ]
  },
  {
   "cell_type": "markdown",
   "id": "4e90ccef",
   "metadata": {},
   "source": [
    "The only way to create an optical property, is to create it from a project."
   ]
  },
  {
   "cell_type": "code",
   "execution_count": 3,
   "id": "de09719d",
   "metadata": {
    "execution": {
     "iopub.execute_input": "2025-04-17T12:01:33.449315Z",
     "iopub.status.busy": "2025-04-17T12:01:33.448944Z",
     "iopub.status.idle": "2025-04-17T12:01:33.454597Z",
     "shell.execute_reply": "2025-04-17T12:01:33.454047Z"
    }
   },
   "outputs": [
    {
     "name": "stdout",
     "output_type": "stream",
     "text": [
      "{\n",
      "    \"name\": \"\",\n",
      "    \"description\": \"\",\n",
      "    \"metadata\": {},\n",
      "    \"part_guid\": \"\",\n",
      "    \"sources\": [],\n",
      "    \"sensors\": [],\n",
      "    \"simulations\": [],\n",
      "    \"materials\": [],\n",
      "    \"scenes\": []\n",
      "}\n"
     ]
    }
   ],
   "source": [
    "p = Project(speos=speos)\n",
    "print(p)"
   ]
  },
  {
   "cell_type": "markdown",
   "id": "6bcc1eca",
   "metadata": {},
   "source": [
    "## Create"
   ]
  },
  {
   "cell_type": "markdown",
   "id": "5d718e53",
   "metadata": {},
   "source": [
    "Before creating a body, a Root part needs to be created and committed."
   ]
  },
  {
   "cell_type": "code",
   "execution_count": 4,
   "id": "70e86b20",
   "metadata": {
    "execution": {
     "iopub.execute_input": "2025-04-17T12:01:33.456478Z",
     "iopub.status.busy": "2025-04-17T12:01:33.456285Z",
     "iopub.status.idle": "2025-04-17T12:01:33.461452Z",
     "shell.execute_reply": "2025-04-17T12:01:33.460935Z"
    }
   },
   "outputs": [
    {
     "name": "stdout",
     "output_type": "stream",
     "text": [
      "{\n",
      "    \"name\": \"RootPart\",\n",
      "    \"description\": \"\",\n",
      "    \"metadata\": {},\n",
      "    \"body_guids\": [],\n",
      "    \"parts\": []\n",
      "}\n"
     ]
    }
   ],
   "source": [
    "root_part = p.create_root_part().commit()\n",
    "print(root_part)"
   ]
  },
  {
   "cell_type": "markdown",
   "id": "8d56bce1",
   "metadata": {},
   "source": [
    "### Create bodies in root part.\n",
    "A body can either a volume or face type. Both use the method named \"create_body\"."
   ]
  },
  {
   "cell_type": "code",
   "execution_count": 5,
   "id": "31f77f15",
   "metadata": {
    "execution": {
     "iopub.execute_input": "2025-04-17T12:01:33.463455Z",
     "iopub.status.busy": "2025-04-17T12:01:33.463022Z",
     "iopub.status.idle": "2025-04-17T12:01:33.526131Z",
     "shell.execute_reply": "2025-04-17T12:01:33.525424Z"
    }
   },
   "outputs": [
    {
     "name": "stdout",
     "output_type": "stream",
     "text": [
      "{\n",
      "    \"name\": \"RootPart\",\n",
      "    \"body_guids\": [\n",
      "        \"6fe6bae4-1da1-4f91-b95e-d7d131b7a362\",\n",
      "        \"5d04b9d9-74e4-4847-82ff-967ba3ab8377\"\n",
      "    ],\n",
      "    \"description\": \"\",\n",
      "    \"metadata\": {},\n",
      "    \"parts\": [],\n",
      "    \"bodys\": [\n",
      "        {\n",
      "            \"name\": \"TheBodyB1\",\n",
      "            \"description\": \"\",\n",
      "            \"metadata\": {},\n",
      "            \"face_guids\": []\n",
      "        },\n",
      "        {\n",
      "            \"name\": \"TheBodyB2\",\n",
      "            \"description\": \"\",\n",
      "            \"metadata\": {},\n",
      "            \"face_guids\": []\n",
      "        }\n",
      "    ]\n",
      "}\n"
     ]
    }
   ],
   "source": [
    "body_b1 = root_part.create_body(name=\"TheBodyB1\").commit()\n",
    "body_b2 = root_part.create_body(name=\"TheBodyB2\").commit()\n",
    "print(root_part)"
   ]
  },
  {
   "cell_type": "markdown",
   "id": "cb75897a",
   "metadata": {},
   "source": [
    "### Create faces inside a body.\n",
    "A body can have one (example, surface/open-volume type of body) or multiple faces\n",
    "(close-volume type of body)."
   ]
  },
  {
   "cell_type": "markdown",
   "id": "ce4ba0ce",
   "metadata": {},
   "source": [
    "Each face is then defined by a number of triangles/facets."
   ]
  },
  {
   "cell_type": "markdown",
   "id": "108a6f69",
   "metadata": {},
   "source": [
    "Each triangle/facet is defined by vertices and vertice normals."
   ]
  },
  {
   "cell_type": "code",
   "execution_count": 6,
   "id": "55e83175",
   "metadata": {
    "execution": {
     "iopub.execute_input": "2025-04-17T12:01:33.528487Z",
     "iopub.status.busy": "2025-04-17T12:01:33.528027Z",
     "iopub.status.idle": "2025-04-17T12:01:33.547282Z",
     "shell.execute_reply": "2025-04-17T12:01:33.546713Z"
    }
   },
   "outputs": [
    {
     "name": "stdout",
     "output_type": "stream",
     "text": [
      "{\n",
      "    \"name\": \"RootPart\",\n",
      "    \"body_guids\": [\n",
      "        \"6fe6bae4-1da1-4f91-b95e-d7d131b7a362\",\n",
      "        \"5d04b9d9-74e4-4847-82ff-967ba3ab8377\"\n",
      "    ],\n",
      "    \"description\": \"\",\n",
      "    \"metadata\": {},\n",
      "    \"parts\": [],\n",
      "    \"bodys\": [\n",
      "        {\n",
      "            \"name\": \"TheBodyB1\",\n",
      "            \"face_guids\": [\n",
      "                \"7f90463c-f695-4e80-b881-fb98721fc17a\"\n",
      "            ],\n",
      "            \"description\": \"\",\n",
      "            \"metadata\": {},\n",
      "            \"faces\": [\n",
      "                {\n",
      "                    \"name\": \"TheFaceF1\",\n",
      "                    \"vertices\": [\n",
      "                        0.0,\n",
      "                        0.0,\n",
      "                        0.0,\n",
      "                        1.0,\n",
      "                        0.0,\n",
      "                        0.0,\n",
      "                        0.0,\n",
      "                        1.0,\n",
      "                        0.0\n",
      "                    ],\n",
      "                    \"facets\": [\n",
      "                        0,\n",
      "                        1,\n",
      "                        2\n",
      "                    ],\n",
      "                    \"normals\": [\n",
      "                        0.0,\n",
      "                        0.0,\n",
      "                        1.0,\n",
      "                        0.0,\n",
      "                        0.0,\n",
      "                        1.0,\n",
      "                        0.0,\n",
      "                        0.0,\n",
      "                        1.0\n",
      "                    ],\n",
      "                    \"description\": \"\",\n",
      "                    \"metadata\": {},\n",
      "                    \"texture_coordinates_channels\": []\n",
      "                }\n",
      "            ]\n",
      "        },\n",
      "        {\n",
      "            \"name\": \"TheBodyB2\",\n",
      "            \"description\": \"\",\n",
      "            \"metadata\": {},\n",
      "            \"face_guids\": []\n",
      "        }\n",
      "    ]\n",
      "}\n"
     ]
    }
   ],
   "source": [
    "face_b1_f1 = (\n",
    "    body_b1.create_face(name=\"TheFaceF1\")\n",
    "    .set_vertices([0, 0, 0, 1, 0, 0, 0, 1, 0])\n",
    "    .set_facets([0, 1, 2])\n",
    "    .set_normals([0, 0, 1, 0, 0, 1, 0, 0, 1])\n",
    "    .commit()\n",
    ")\n",
    "print(root_part)"
   ]
  },
  {
   "cell_type": "markdown",
   "id": "c55094e2",
   "metadata": {},
   "source": [
    "### Create bodies in sub part."
   ]
  },
  {
   "cell_type": "markdown",
   "id": "37fcd5d1",
   "metadata": {},
   "source": [
    "Part can also be created under a sub-part."
   ]
  },
  {
   "cell_type": "markdown",
   "id": "ef7685c8",
   "metadata": {},
   "source": [
    "The location sub-part can be defined using set_axis_system method."
   ]
  },
  {
   "cell_type": "code",
   "execution_count": 7,
   "id": "75b2dc06",
   "metadata": {
    "execution": {
     "iopub.execute_input": "2025-04-17T12:01:33.549486Z",
     "iopub.status.busy": "2025-04-17T12:01:33.549087Z",
     "iopub.status.idle": "2025-04-17T12:01:33.571325Z",
     "shell.execute_reply": "2025-04-17T12:01:33.570705Z"
    }
   },
   "outputs": [
    {
     "name": "stdout",
     "output_type": "stream",
     "text": [
      "{\n",
      "    \"name\": \"RootPart\",\n",
      "    \"body_guids\": [\n",
      "        \"6fe6bae4-1da1-4f91-b95e-d7d131b7a362\",\n",
      "        \"5d04b9d9-74e4-4847-82ff-967ba3ab8377\"\n",
      "    ],\n",
      "    \"parts\": [\n",
      "        {\n",
      "            \"name\": \"TheSubPartSP1\",\n",
      "            \"description\": \"UniqueId_0b48d392-5004-4fc6-b9fd-8d2c3bf3b153\",\n",
      "            \"part_guid\": \"e33bb7c7-7ae9-4524-b30c-9c336a977f0f\",\n",
      "            \"axis_system\": [\n",
      "                5.0,\n",
      "                5.0,\n",
      "                5.0,\n",
      "                1.0,\n",
      "                0.0,\n",
      "                0.0,\n",
      "                0.0,\n",
      "                1.0,\n",
      "                0.0,\n",
      "                0.0,\n",
      "                0.0,\n",
      "                1.0\n",
      "            ],\n",
      "            \"part\": {\n",
      "                \"name\": \"TheSubPartSP1\",\n",
      "                \"description\": \"\",\n",
      "                \"metadata\": {},\n",
      "                \"body_guids\": [],\n",
      "                \"parts\": []\n",
      "            }\n",
      "        }\n",
      "    ],\n",
      "    \"description\": \"\",\n",
      "    \"metadata\": {},\n",
      "    \"bodys\": [\n",
      "        {\n",
      "            \"name\": \"TheBodyB1\",\n",
      "            \"face_guids\": [\n",
      "                \"7f90463c-f695-4e80-b881-fb98721fc17a\"\n",
      "            ],\n",
      "            \"description\": \"\",\n",
      "            \"metadata\": {},\n",
      "            \"faces\": [\n",
      "                {\n",
      "                    \"name\": \"TheFaceF1\",\n",
      "                    \"vertices\": [\n",
      "                        0.0,\n",
      "                        0.0,\n",
      "                        0.0,\n",
      "                        1.0,\n",
      "                        0.0,\n",
      "                        0.0,\n",
      "                        0.0,\n",
      "                        1.0,\n",
      "                        0.0\n",
      "                    ],\n",
      "                    \"facets\": [\n",
      "                        0,\n",
      "                        1,\n",
      "                        2\n",
      "                    ],\n",
      "                    \"normals\": [\n",
      "                        0.0,\n",
      "                        0.0,\n",
      "                        1.0,\n",
      "                        0.0,\n",
      "                        0.0,\n",
      "                        1.0,\n",
      "                        0.0,\n",
      "                        0.0,\n",
      "                        1.0\n",
      "                    ],\n",
      "                    \"description\": \"\",\n",
      "                    \"metadata\": {},\n",
      "                    \"texture_coordinates_channels\": []\n",
      "                }\n",
      "            ]\n",
      "        },\n",
      "        {\n",
      "            \"name\": \"TheBodyB2\",\n",
      "            \"description\": \"\",\n",
      "            \"metadata\": {},\n",
      "            \"face_guids\": []\n",
      "        }\n",
      "    ]\n",
      "}\n"
     ]
    }
   ],
   "source": [
    "sub_part1 = (\n",
    "    root_part.create_sub_part(name=\"TheSubPartSP1\")\n",
    "    .set_axis_system(axis_system=[5, 5, 5, 1, 0, 0, 0, 1, 0, 0, 0, 1])\n",
    "    .commit()\n",
    ")\n",
    "print(root_part)"
   ]
  },
  {
   "cell_type": "markdown",
   "id": "f9e8c233",
   "metadata": {},
   "source": [
    "### Create body and faces in sub part body"
   ]
  },
  {
   "cell_type": "code",
   "execution_count": 8,
   "id": "a8bc475f",
   "metadata": {
    "execution": {
     "iopub.execute_input": "2025-04-17T12:01:33.573530Z",
     "iopub.status.busy": "2025-04-17T12:01:33.573126Z",
     "iopub.status.idle": "2025-04-17T12:01:33.626067Z",
     "shell.execute_reply": "2025-04-17T12:01:33.625461Z"
    }
   },
   "outputs": [
    {
     "name": "stdout",
     "output_type": "stream",
     "text": [
      "{\n",
      "    \"name\": \"RootPart\",\n",
      "    \"body_guids\": [\n",
      "        \"6fe6bae4-1da1-4f91-b95e-d7d131b7a362\",\n",
      "        \"5d04b9d9-74e4-4847-82ff-967ba3ab8377\"\n",
      "    ],\n",
      "    \"parts\": [\n",
      "        {\n",
      "            \"name\": \"TheSubPartSP1\",\n",
      "            \"description\": \"UniqueId_0b48d392-5004-4fc6-b9fd-8d2c3bf3b153\",\n",
      "            \"part_guid\": \"e33bb7c7-7ae9-4524-b30c-9c336a977f0f\",\n",
      "            \"axis_system\": [\n",
      "                5.0,\n",
      "                5.0,\n",
      "                5.0,\n",
      "                1.0,\n",
      "                0.0,\n",
      "                0.0,\n",
      "                0.0,\n",
      "                1.0,\n",
      "                0.0,\n",
      "                0.0,\n",
      "                0.0,\n",
      "                1.0\n",
      "            ],\n",
      "            \"part\": {\n",
      "                \"name\": \"TheSubPartSP1\",\n",
      "                \"body_guids\": [\n",
      "                    \"26e081ae-88dd-4379-abfd-4316b6145d1b\"\n",
      "                ],\n",
      "                \"description\": \"\",\n",
      "                \"metadata\": {},\n",
      "                \"parts\": [],\n",
      "                \"bodys\": [\n",
      "                    {\n",
      "                        \"name\": \"TheBodySP1_B1\",\n",
      "                        \"description\": \"\",\n",
      "                        \"metadata\": {},\n",
      "                        \"face_guids\": []\n",
      "                    }\n",
      "                ]\n",
      "            }\n",
      "        }\n",
      "    ],\n",
      "    \"description\": \"\",\n",
      "    \"metadata\": {},\n",
      "    \"bodys\": [\n",
      "        {\n",
      "            \"name\": \"TheBodyB1\",\n",
      "            \"face_guids\": [\n",
      "                \"7f90463c-f695-4e80-b881-fb98721fc17a\"\n",
      "            ],\n",
      "            \"description\": \"\",\n",
      "            \"metadata\": {},\n",
      "            \"faces\": [\n",
      "                {\n",
      "                    \"name\": \"TheFaceF1\",\n",
      "                    \"vertices\": [\n",
      "                        0.0,\n",
      "                        0.0,\n",
      "                        0.0,\n",
      "                        1.0,\n",
      "                        0.0,\n",
      "                        0.0,\n",
      "                        0.0,\n",
      "                        1.0,\n",
      "                        0.0\n",
      "                    ],\n",
      "                    \"facets\": [\n",
      "                        0,\n",
      "                        1,\n",
      "                        2\n",
      "                    ],\n",
      "                    \"normals\": [\n",
      "                        0.0,\n",
      "                        0.0,\n",
      "                        1.0,\n",
      "                        0.0,\n",
      "                        0.0,\n",
      "                        1.0,\n",
      "                        0.0,\n",
      "                        0.0,\n",
      "                        1.0\n",
      "                    ],\n",
      "                    \"description\": \"\",\n",
      "                    \"metadata\": {},\n",
      "                    \"texture_coordinates_channels\": []\n",
      "                }\n",
      "            ]\n",
      "        },\n",
      "        {\n",
      "            \"name\": \"TheBodyB2\",\n",
      "            \"description\": \"\",\n",
      "            \"metadata\": {},\n",
      "            \"face_guids\": []\n",
      "        }\n",
      "    ]\n",
      "}\n",
      "{\n",
      "    \"name\": \"RootPart\",\n",
      "    \"body_guids\": [\n",
      "        \"6fe6bae4-1da1-4f91-b95e-d7d131b7a362\",\n",
      "        \"5d04b9d9-74e4-4847-82ff-967ba3ab8377\"\n",
      "    ],\n",
      "    \"parts\": [\n",
      "        {\n",
      "            \"name\": \"TheSubPartSP1\",\n",
      "            \"description\": \"UniqueId_0b48d392-5004-4fc6-b9fd-8d2c3bf3b153\",\n",
      "            \"part_guid\": \"e33bb7c7-7ae9-4524-b30c-9c336a977f0f\",\n",
      "            \"axis_system\": [\n",
      "                5.0,\n",
      "                5.0,\n",
      "                5.0,\n",
      "                1.0,\n",
      "                0.0,\n",
      "                0.0,\n",
      "                0.0,\n",
      "                1.0,\n",
      "                0.0,\n",
      "                0.0,\n",
      "                0.0,\n",
      "                1.0\n",
      "            ],\n",
      "            \"part\": {\n",
      "                \"name\": \"TheSubPartSP1\",\n",
      "                \"body_guids\": [\n",
      "                    \"26e081ae-88dd-4379-abfd-4316b6145d1b\"\n",
      "                ],\n",
      "                \"description\": \"\",\n",
      "                \"metadata\": {},\n",
      "                \"parts\": [],\n",
      "                \"bodys\": [\n",
      "                    {\n",
      "                        \"name\": \"TheBodySP1_B1\",\n",
      "                        \"face_guids\": [\n",
      "                            \"ab6975b8-48a1-4234-a7f3-9e37290d8c1c\"\n",
      "                        ],\n",
      "                        \"description\": \"\",\n",
      "                        \"metadata\": {},\n",
      "                        \"faces\": [\n",
      "                            {\n",
      "                                \"name\": \"TheFaceSP1_B1_F1\",\n",
      "                                \"vertices\": [\n",
      "                                    0.0,\n",
      "                                    1.0,\n",
      "                                    0.0,\n",
      "                                    0.0,\n",
      "                                    2.0,\n",
      "                                    0.0,\n",
      "                                    1.0,\n",
      "                                    2.0,\n",
      "                                    0.0\n",
      "                                ],\n",
      "                                \"facets\": [\n",
      "                                    0,\n",
      "                                    1,\n",
      "                                    2\n",
      "                                ],\n",
      "                                \"normals\": [\n",
      "                                    0.0,\n",
      "                                    0.0,\n",
      "                                    1.0,\n",
      "                                    0.0,\n",
      "                                    0.0,\n",
      "                                    1.0,\n",
      "                                    0.0,\n",
      "                                    0.0,\n",
      "                                    1.0\n",
      "                                ],\n",
      "                                \"description\": \"\",\n",
      "                                \"metadata\": {},\n",
      "                                \"texture_coordinates_channels\": []\n",
      "                            }\n",
      "                        ]\n",
      "                    }\n",
      "                ]\n",
      "            }\n",
      "        }\n",
      "    ],\n",
      "    \"description\": \"\",\n",
      "    \"metadata\": {},\n",
      "    \"bodys\": [\n",
      "        {\n",
      "            \"name\": \"TheBodyB1\",\n",
      "            \"face_guids\": [\n",
      "                \"7f90463c-f695-4e80-b881-fb98721fc17a\"\n",
      "            ],\n",
      "            \"description\": \"\",\n",
      "            \"metadata\": {},\n",
      "            \"faces\": [\n",
      "                {\n",
      "                    \"name\": \"TheFaceF1\",\n",
      "                    \"vertices\": [\n",
      "                        0.0,\n",
      "                        0.0,\n",
      "                        0.0,\n",
      "                        1.0,\n",
      "                        0.0,\n",
      "                        0.0,\n",
      "                        0.0,\n",
      "                        1.0,\n",
      "                        0.0\n",
      "                    ],\n",
      "                    \"facets\": [\n",
      "                        0,\n",
      "                        1,\n",
      "                        2\n",
      "                    ],\n",
      "                    \"normals\": [\n",
      "                        0.0,\n",
      "                        0.0,\n",
      "                        1.0,\n",
      "                        0.0,\n",
      "                        0.0,\n",
      "                        1.0,\n",
      "                        0.0,\n",
      "                        0.0,\n",
      "                        1.0\n",
      "                    ],\n",
      "                    \"description\": \"\",\n",
      "                    \"metadata\": {},\n",
      "                    \"texture_coordinates_channels\": []\n",
      "                }\n",
      "            ]\n",
      "        },\n",
      "        {\n",
      "            \"name\": \"TheBodyB2\",\n",
      "            \"description\": \"\",\n",
      "            \"metadata\": {},\n",
      "            \"face_guids\": []\n",
      "        }\n",
      "    ]\n",
      "}\n"
     ]
    }
   ],
   "source": [
    "body_sp1_b1 = sub_part1.create_body(name=\"TheBodySP1_B1\").commit()\n",
    "print(root_part)\n",
    "face_sp1_b1_f1 = (\n",
    "    body_sp1_b1.create_face(name=\"TheFaceSP1_B1_F1\")\n",
    "    .set_vertices([0, 1, 0, 0, 2, 0, 1, 2, 0])\n",
    "    .set_facets([0, 1, 2])\n",
    "    .set_normals([0, 0, 1, 0, 0, 1, 0, 0, 1])\n",
    "    .commit()\n",
    ")\n",
    "print(root_part)\n",
    "# -"
   ]
  },
  {
   "cell_type": "markdown",
   "id": "d77498da",
   "metadata": {},
   "source": [
    "### Create sub parts in sub part"
   ]
  },
  {
   "cell_type": "code",
   "execution_count": 9,
   "id": "5ed28027",
   "metadata": {
    "execution": {
     "iopub.execute_input": "2025-04-17T12:01:33.628415Z",
     "iopub.status.busy": "2025-04-17T12:01:33.627941Z",
     "iopub.status.idle": "2025-04-17T12:01:33.661786Z",
     "shell.execute_reply": "2025-04-17T12:01:33.661099Z"
    }
   },
   "outputs": [
    {
     "name": "stdout",
     "output_type": "stream",
     "text": [
      "{\n",
      "    \"name\": \"RootPart\",\n",
      "    \"body_guids\": [\n",
      "        \"6fe6bae4-1da1-4f91-b95e-d7d131b7a362\",\n",
      "        \"5d04b9d9-74e4-4847-82ff-967ba3ab8377\"\n",
      "    ],\n",
      "    \"parts\": [\n",
      "        {\n",
      "            \"name\": \"TheSubPartSP1\",\n",
      "            \"description\": \"UniqueId_0b48d392-5004-4fc6-b9fd-8d2c3bf3b153\",\n",
      "            \"part_guid\": \"e33bb7c7-7ae9-4524-b30c-9c336a977f0f\",\n",
      "            \"axis_system\": [\n",
      "                5.0,\n",
      "                5.0,\n",
      "                5.0,\n",
      "                1.0,\n",
      "                0.0,\n",
      "                0.0,\n",
      "                0.0,\n",
      "                1.0,\n",
      "                0.0,\n",
      "                0.0,\n",
      "                0.0,\n",
      "                1.0\n",
      "            ],\n",
      "            \"part\": {\n",
      "                \"name\": \"TheSubPartSP1\",\n",
      "                \"body_guids\": [\n",
      "                    \"26e081ae-88dd-4379-abfd-4316b6145d1b\"\n",
      "                ],\n",
      "                \"parts\": [\n",
      "                    {\n",
      "                        \"name\": \"TheSubPartSP11\",\n",
      "                        \"description\": \"UniqueId_581ba15f-7c86-4d06-bd88-94fcd4286c68\",\n",
      "                        \"part_guid\": \"f3a92b47-ff13-4000-92cb-0f6089dde9eb\",\n",
      "                        \"axis_system\": [\n",
      "                            1.0,\n",
      "                            1.0,\n",
      "                            1.0,\n",
      "                            1.0,\n",
      "                            0.0,\n",
      "                            0.0,\n",
      "                            0.0,\n",
      "                            1.0,\n",
      "                            0.0,\n",
      "                            0.0,\n",
      "                            0.0,\n",
      "                            1.0\n",
      "                        ],\n",
      "                        \"part\": {\n",
      "                            \"name\": \"TheSubPartSP11\",\n",
      "                            \"description\": \"\",\n",
      "                            \"metadata\": {},\n",
      "                            \"body_guids\": [],\n",
      "                            \"parts\": []\n",
      "                        }\n",
      "                    }\n",
      "                ],\n",
      "                \"description\": \"\",\n",
      "                \"metadata\": {},\n",
      "                \"bodys\": [\n",
      "                    {\n",
      "                        \"name\": \"TheBodySP1_B1\",\n",
      "                        \"face_guids\": [\n",
      "                            \"ab6975b8-48a1-4234-a7f3-9e37290d8c1c\"\n",
      "                        ],\n",
      "                        \"description\": \"\",\n",
      "                        \"metadata\": {},\n",
      "                        \"faces\": [\n",
      "                            {\n",
      "                                \"name\": \"TheFaceSP1_B1_F1\",\n",
      "                                \"vertices\": [\n",
      "                                    0.0,\n",
      "                                    1.0,\n",
      "                                    0.0,\n",
      "                                    0.0,\n",
      "                                    2.0,\n",
      "                                    0.0,\n",
      "                                    1.0,\n",
      "                                    2.0,\n",
      "                                    0.0\n",
      "                                ],\n",
      "                                \"facets\": [\n",
      "                                    0,\n",
      "                                    1,\n",
      "                                    2\n",
      "                                ],\n",
      "                                \"normals\": [\n",
      "                                    0.0,\n",
      "                                    0.0,\n",
      "                                    1.0,\n",
      "                                    0.0,\n",
      "                                    0.0,\n",
      "                                    1.0,\n",
      "                                    0.0,\n",
      "                                    0.0,\n",
      "                                    1.0\n",
      "                                ],\n",
      "                                \"description\": \"\",\n",
      "                                \"metadata\": {},\n",
      "                                \"texture_coordinates_channels\": []\n",
      "                            }\n",
      "                        ]\n",
      "                    }\n",
      "                ]\n",
      "            }\n",
      "        }\n",
      "    ],\n",
      "    \"description\": \"\",\n",
      "    \"metadata\": {},\n",
      "    \"bodys\": [\n",
      "        {\n",
      "            \"name\": \"TheBodyB1\",\n",
      "            \"face_guids\": [\n",
      "                \"7f90463c-f695-4e80-b881-fb98721fc17a\"\n",
      "            ],\n",
      "            \"description\": \"\",\n",
      "            \"metadata\": {},\n",
      "            \"faces\": [\n",
      "                {\n",
      "                    \"name\": \"TheFaceF1\",\n",
      "                    \"vertices\": [\n",
      "                        0.0,\n",
      "                        0.0,\n",
      "                        0.0,\n",
      "                        1.0,\n",
      "                        0.0,\n",
      "                        0.0,\n",
      "                        0.0,\n",
      "                        1.0,\n",
      "                        0.0\n",
      "                    ],\n",
      "                    \"facets\": [\n",
      "                        0,\n",
      "                        1,\n",
      "                        2\n",
      "                    ],\n",
      "                    \"normals\": [\n",
      "                        0.0,\n",
      "                        0.0,\n",
      "                        1.0,\n",
      "                        0.0,\n",
      "                        0.0,\n",
      "                        1.0,\n",
      "                        0.0,\n",
      "                        0.0,\n",
      "                        1.0\n",
      "                    ],\n",
      "                    \"description\": \"\",\n",
      "                    \"metadata\": {},\n",
      "                    \"texture_coordinates_channels\": []\n",
      "                }\n",
      "            ]\n",
      "        },\n",
      "        {\n",
      "            \"name\": \"TheBodyB2\",\n",
      "            \"description\": \"\",\n",
      "            \"metadata\": {},\n",
      "            \"face_guids\": []\n",
      "        }\n",
      "    ]\n",
      "}\n"
     ]
    }
   ],
   "source": [
    "sub_part11 = (\n",
    "    sub_part1.create_sub_part(name=\"TheSubPartSP11\")\n",
    "    .set_axis_system([1, 1, 1, 1, 0, 0, 0, 1, 0, 0, 0, 1])\n",
    "    .commit()\n",
    ")\n",
    "print(root_part)"
   ]
  },
  {
   "cell_type": "markdown",
   "id": "79bd2b2c",
   "metadata": {},
   "source": [
    "## Read"
   ]
  },
  {
   "cell_type": "markdown",
   "id": "4d54e82e",
   "metadata": {},
   "source": [
    "### Find with exact name"
   ]
  },
  {
   "cell_type": "markdown",
   "id": "6cb846f4",
   "metadata": {},
   "source": [
    "Find the root part"
   ]
  },
  {
   "cell_type": "code",
   "execution_count": 10,
   "id": "d7f51eee",
   "metadata": {
    "execution": {
     "iopub.execute_input": "2025-04-17T12:01:33.664114Z",
     "iopub.status.busy": "2025-04-17T12:01:33.663692Z",
     "iopub.status.idle": "2025-04-17T12:01:33.694371Z",
     "shell.execute_reply": "2025-04-17T12:01:33.693668Z"
    }
   },
   "outputs": [
    {
     "name": "stdout",
     "output_type": "stream",
     "text": [
      "{\n",
      "    \"name\": \"RootPart\",\n",
      "    \"body_guids\": [\n",
      "        \"6fe6bae4-1da1-4f91-b95e-d7d131b7a362\",\n",
      "        \"5d04b9d9-74e4-4847-82ff-967ba3ab8377\"\n",
      "    ],\n",
      "    \"parts\": [\n",
      "        {\n",
      "            \"name\": \"TheSubPartSP1\",\n",
      "            \"description\": \"UniqueId_0b48d392-5004-4fc6-b9fd-8d2c3bf3b153\",\n",
      "            \"part_guid\": \"e33bb7c7-7ae9-4524-b30c-9c336a977f0f\",\n",
      "            \"axis_system\": [\n",
      "                5.0,\n",
      "                5.0,\n",
      "                5.0,\n",
      "                1.0,\n",
      "                0.0,\n",
      "                0.0,\n",
      "                0.0,\n",
      "                1.0,\n",
      "                0.0,\n",
      "                0.0,\n",
      "                0.0,\n",
      "                1.0\n",
      "            ],\n",
      "            \"part\": {\n",
      "                \"name\": \"TheSubPartSP1\",\n",
      "                \"body_guids\": [\n",
      "                    \"26e081ae-88dd-4379-abfd-4316b6145d1b\"\n",
      "                ],\n",
      "                \"parts\": [\n",
      "                    {\n",
      "                        \"name\": \"TheSubPartSP11\",\n",
      "                        \"description\": \"UniqueId_581ba15f-7c86-4d06-bd88-94fcd4286c68\",\n",
      "                        \"part_guid\": \"f3a92b47-ff13-4000-92cb-0f6089dde9eb\",\n",
      "                        \"axis_system\": [\n",
      "                            1.0,\n",
      "                            1.0,\n",
      "                            1.0,\n",
      "                            1.0,\n",
      "                            0.0,\n",
      "                            0.0,\n",
      "                            0.0,\n",
      "                            1.0,\n",
      "                            0.0,\n",
      "                            0.0,\n",
      "                            0.0,\n",
      "                            1.0\n",
      "                        ],\n",
      "                        \"part\": {\n",
      "                            \"name\": \"TheSubPartSP11\",\n",
      "                            \"description\": \"\",\n",
      "                            \"metadata\": {},\n",
      "                            \"body_guids\": [],\n",
      "                            \"parts\": []\n",
      "                        }\n",
      "                    }\n",
      "                ],\n",
      "                \"description\": \"\",\n",
      "                \"metadata\": {},\n",
      "                \"bodys\": [\n",
      "                    {\n",
      "                        \"name\": \"TheBodySP1_B1\",\n",
      "                        \"face_guids\": [\n",
      "                            \"ab6975b8-48a1-4234-a7f3-9e37290d8c1c\"\n",
      "                        ],\n",
      "                        \"description\": \"\",\n",
      "                        \"metadata\": {},\n",
      "                        \"faces\": [\n",
      "                            {\n",
      "                                \"name\": \"TheFaceSP1_B1_F1\",\n",
      "                                \"vertices\": [\n",
      "                                    0.0,\n",
      "                                    1.0,\n",
      "                                    0.0,\n",
      "                                    0.0,\n",
      "                                    2.0,\n",
      "                                    0.0,\n",
      "                                    1.0,\n",
      "                                    2.0,\n",
      "                                    0.0\n",
      "                                ],\n",
      "                                \"facets\": [\n",
      "                                    0,\n",
      "                                    1,\n",
      "                                    2\n",
      "                                ],\n",
      "                                \"normals\": [\n",
      "                                    0.0,\n",
      "                                    0.0,\n",
      "                                    1.0,\n",
      "                                    0.0,\n",
      "                                    0.0,\n",
      "                                    1.0,\n",
      "                                    0.0,\n",
      "                                    0.0,\n",
      "                                    1.0\n",
      "                                ],\n",
      "                                \"description\": \"\",\n",
      "                                \"metadata\": {},\n",
      "                                \"texture_coordinates_channels\": []\n",
      "                            }\n",
      "                        ]\n",
      "                    }\n",
      "                ]\n",
      "            }\n",
      "        }\n",
      "    ],\n",
      "    \"description\": \"\",\n",
      "    \"metadata\": {},\n",
      "    \"bodys\": [\n",
      "        {\n",
      "            \"name\": \"TheBodyB1\",\n",
      "            \"face_guids\": [\n",
      "                \"7f90463c-f695-4e80-b881-fb98721fc17a\"\n",
      "            ],\n",
      "            \"description\": \"\",\n",
      "            \"metadata\": {},\n",
      "            \"faces\": [\n",
      "                {\n",
      "                    \"name\": \"TheFaceF1\",\n",
      "                    \"vertices\": [\n",
      "                        0.0,\n",
      "                        0.0,\n",
      "                        0.0,\n",
      "                        1.0,\n",
      "                        0.0,\n",
      "                        0.0,\n",
      "                        0.0,\n",
      "                        1.0,\n",
      "                        0.0\n",
      "                    ],\n",
      "                    \"facets\": [\n",
      "                        0,\n",
      "                        1,\n",
      "                        2\n",
      "                    ],\n",
      "                    \"normals\": [\n",
      "                        0.0,\n",
      "                        0.0,\n",
      "                        1.0,\n",
      "                        0.0,\n",
      "                        0.0,\n",
      "                        1.0,\n",
      "                        0.0,\n",
      "                        0.0,\n",
      "                        1.0\n",
      "                    ],\n",
      "                    \"description\": \"\",\n",
      "                    \"metadata\": {},\n",
      "                    \"texture_coordinates_channels\": []\n",
      "                }\n",
      "            ]\n",
      "        },\n",
      "        {\n",
      "            \"name\": \"TheBodyB2\",\n",
      "            \"description\": \"\",\n",
      "            \"metadata\": {},\n",
      "            \"face_guids\": []\n",
      "        }\n",
      "    ]\n",
      "}\n"
     ]
    }
   ],
   "source": [
    "features = p.find(name=\"\", feature_type=Part)\n",
    "print(features[0])"
   ]
  },
  {
   "cell_type": "markdown",
   "id": "3c3ecd41",
   "metadata": {},
   "source": [
    "Find a specific body in root part"
   ]
  },
  {
   "cell_type": "code",
   "execution_count": 11,
   "id": "c17e4d4e",
   "metadata": {
    "execution": {
     "iopub.execute_input": "2025-04-17T12:01:33.696558Z",
     "iopub.status.busy": "2025-04-17T12:01:33.696186Z",
     "iopub.status.idle": "2025-04-17T12:01:33.705043Z",
     "shell.execute_reply": "2025-04-17T12:01:33.704444Z"
    }
   },
   "outputs": [
    {
     "name": "stdout",
     "output_type": "stream",
     "text": [
      "{\n",
      "    \"name\": \"TheBodyB1\",\n",
      "    \"face_guids\": [\n",
      "        \"7f90463c-f695-4e80-b881-fb98721fc17a\"\n",
      "    ],\n",
      "    \"description\": \"\",\n",
      "    \"metadata\": {},\n",
      "    \"faces\": [\n",
      "        {\n",
      "            \"name\": \"TheFaceF1\",\n",
      "            \"vertices\": [\n",
      "                0.0,\n",
      "                0.0,\n",
      "                0.0,\n",
      "                1.0,\n",
      "                0.0,\n",
      "                0.0,\n",
      "                0.0,\n",
      "                1.0,\n",
      "                0.0\n",
      "            ],\n",
      "            \"facets\": [\n",
      "                0,\n",
      "                1,\n",
      "                2\n",
      "            ],\n",
      "            \"normals\": [\n",
      "                0.0,\n",
      "                0.0,\n",
      "                1.0,\n",
      "                0.0,\n",
      "                0.0,\n",
      "                1.0,\n",
      "                0.0,\n",
      "                0.0,\n",
      "                1.0\n",
      "            ],\n",
      "            \"description\": \"\",\n",
      "            \"metadata\": {},\n",
      "            \"texture_coordinates_channels\": []\n",
      "        }\n",
      "    ]\n",
      "}\n"
     ]
    }
   ],
   "source": [
    "features = p.find(name=\"TheBodyB1\", feature_type=Body)\n",
    "print(features[0])"
   ]
  },
  {
   "cell_type": "markdown",
   "id": "5d9976c9",
   "metadata": {},
   "source": [
    "Find a specific face of a body in root part"
   ]
  },
  {
   "cell_type": "code",
   "execution_count": 12,
   "id": "0b3d7d35",
   "metadata": {
    "execution": {
     "iopub.execute_input": "2025-04-17T12:01:33.707211Z",
     "iopub.status.busy": "2025-04-17T12:01:33.706751Z",
     "iopub.status.idle": "2025-04-17T12:01:33.711480Z",
     "shell.execute_reply": "2025-04-17T12:01:33.710845Z"
    }
   },
   "outputs": [
    {
     "name": "stdout",
     "output_type": "stream",
     "text": [
      "{\n",
      "    \"name\": \"TheFaceF1\",\n",
      "    \"vertices\": [\n",
      "        0.0,\n",
      "        0.0,\n",
      "        0.0,\n",
      "        1.0,\n",
      "        0.0,\n",
      "        0.0,\n",
      "        0.0,\n",
      "        1.0,\n",
      "        0.0\n",
      "    ],\n",
      "    \"facets\": [\n",
      "        0,\n",
      "        1,\n",
      "        2\n",
      "    ],\n",
      "    \"normals\": [\n",
      "        0.0,\n",
      "        0.0,\n",
      "        1.0,\n",
      "        0.0,\n",
      "        0.0,\n",
      "        1.0,\n",
      "        0.0,\n",
      "        0.0,\n",
      "        1.0\n",
      "    ],\n",
      "    \"description\": \"\",\n",
      "    \"metadata\": {},\n",
      "    \"texture_coordinates_channels\": []\n",
      "}\n"
     ]
    }
   ],
   "source": [
    "features = p.find(name=\"TheBodyB1/TheFaceF1\", feature_type=Face)\n",
    "print(features[0])"
   ]
  },
  {
   "cell_type": "markdown",
   "id": "4bf19508",
   "metadata": {},
   "source": [
    "Find a sub part"
   ]
  },
  {
   "cell_type": "code",
   "execution_count": 13,
   "id": "7ee75d69",
   "metadata": {
    "execution": {
     "iopub.execute_input": "2025-04-17T12:01:33.713455Z",
     "iopub.status.busy": "2025-04-17T12:01:33.713122Z",
     "iopub.status.idle": "2025-04-17T12:01:33.732192Z",
     "shell.execute_reply": "2025-04-17T12:01:33.731528Z"
    },
    "lines_to_next_cell": 2
   },
   "outputs": [
    {
     "name": "stdout",
     "output_type": "stream",
     "text": [
      "{\n",
      "    \"name\": \"TheSubPartSP1\",\n",
      "    \"description\": \"UniqueId_0b48d392-5004-4fc6-b9fd-8d2c3bf3b153\",\n",
      "    \"part_guid\": \"e33bb7c7-7ae9-4524-b30c-9c336a977f0f\",\n",
      "    \"axis_system\": [\n",
      "        5.0,\n",
      "        5.0,\n",
      "        5.0,\n",
      "        1.0,\n",
      "        0.0,\n",
      "        0.0,\n",
      "        0.0,\n",
      "        1.0,\n",
      "        0.0,\n",
      "        0.0,\n",
      "        0.0,\n",
      "        1.0\n",
      "    ],\n",
      "    \"part\": {\n",
      "        \"name\": \"TheSubPartSP1\",\n",
      "        \"body_guids\": [\n",
      "            \"26e081ae-88dd-4379-abfd-4316b6145d1b\"\n",
      "        ],\n",
      "        \"parts\": [\n",
      "            {\n",
      "                \"name\": \"TheSubPartSP11\",\n",
      "                \"description\": \"UniqueId_581ba15f-7c86-4d06-bd88-94fcd4286c68\",\n",
      "                \"part_guid\": \"f3a92b47-ff13-4000-92cb-0f6089dde9eb\",\n",
      "                \"axis_system\": [\n",
      "                    1.0,\n",
      "                    1.0,\n",
      "                    1.0,\n",
      "                    1.0,\n",
      "                    0.0,\n",
      "                    0.0,\n",
      "                    0.0,\n",
      "                    1.0,\n",
      "                    0.0,\n",
      "                    0.0,\n",
      "                    0.0,\n",
      "                    1.0\n",
      "                ],\n",
      "                \"part\": {\n",
      "                    \"name\": \"TheSubPartSP11\",\n",
      "                    \"description\": \"\",\n",
      "                    \"metadata\": {},\n",
      "                    \"body_guids\": [],\n",
      "                    \"parts\": []\n",
      "                }\n",
      "            }\n",
      "        ],\n",
      "        \"description\": \"\",\n",
      "        \"metadata\": {},\n",
      "        \"bodys\": [\n",
      "            {\n",
      "                \"name\": \"TheBodySP1_B1\",\n",
      "                \"face_guids\": [\n",
      "                    \"ab6975b8-48a1-4234-a7f3-9e37290d8c1c\"\n",
      "                ],\n",
      "                \"description\": \"\",\n",
      "                \"metadata\": {},\n",
      "                \"faces\": [\n",
      "                    {\n",
      "                        \"name\": \"TheFaceSP1_B1_F1\",\n",
      "                        \"vertices\": [\n",
      "                            0.0,\n",
      "                            1.0,\n",
      "                            0.0,\n",
      "                            0.0,\n",
      "                            2.0,\n",
      "                            0.0,\n",
      "                            1.0,\n",
      "                            2.0,\n",
      "                            0.0\n",
      "                        ],\n",
      "                        \"facets\": [\n",
      "                            0,\n",
      "                            1,\n",
      "                            2\n",
      "                        ],\n",
      "                        \"normals\": [\n",
      "                            0.0,\n",
      "                            0.0,\n",
      "                            1.0,\n",
      "                            0.0,\n",
      "                            0.0,\n",
      "                            1.0,\n",
      "                            0.0,\n",
      "                            0.0,\n",
      "                            1.0\n",
      "                        ],\n",
      "                        \"description\": \"\",\n",
      "                        \"metadata\": {},\n",
      "                        \"texture_coordinates_channels\": []\n",
      "                    }\n",
      "                ]\n",
      "            }\n",
      "        ]\n",
      "    }\n",
      "}\n"
     ]
    }
   ],
   "source": [
    "features = p.find(name=\"TheSubPartSP1\", feature_type=Part.SubPart)\n",
    "print(features[0])"
   ]
  },
  {
   "cell_type": "markdown",
   "id": "c363b247",
   "metadata": {},
   "source": [
    "Find a specific body in sub part"
   ]
  },
  {
   "cell_type": "code",
   "execution_count": 14,
   "id": "11356e90",
   "metadata": {
    "execution": {
     "iopub.execute_input": "2025-04-17T12:01:33.734059Z",
     "iopub.status.busy": "2025-04-17T12:01:33.733840Z",
     "iopub.status.idle": "2025-04-17T12:01:33.742542Z",
     "shell.execute_reply": "2025-04-17T12:01:33.741892Z"
    }
   },
   "outputs": [
    {
     "name": "stdout",
     "output_type": "stream",
     "text": [
      "{\n",
      "    \"name\": \"TheBodySP1_B1\",\n",
      "    \"face_guids\": [\n",
      "        \"ab6975b8-48a1-4234-a7f3-9e37290d8c1c\"\n",
      "    ],\n",
      "    \"description\": \"\",\n",
      "    \"metadata\": {},\n",
      "    \"faces\": [\n",
      "        {\n",
      "            \"name\": \"TheFaceSP1_B1_F1\",\n",
      "            \"vertices\": [\n",
      "                0.0,\n",
      "                1.0,\n",
      "                0.0,\n",
      "                0.0,\n",
      "                2.0,\n",
      "                0.0,\n",
      "                1.0,\n",
      "                2.0,\n",
      "                0.0\n",
      "            ],\n",
      "            \"facets\": [\n",
      "                0,\n",
      "                1,\n",
      "                2\n",
      "            ],\n",
      "            \"normals\": [\n",
      "                0.0,\n",
      "                0.0,\n",
      "                1.0,\n",
      "                0.0,\n",
      "                0.0,\n",
      "                1.0,\n",
      "                0.0,\n",
      "                0.0,\n",
      "                1.0\n",
      "            ],\n",
      "            \"description\": \"\",\n",
      "            \"metadata\": {},\n",
      "            \"texture_coordinates_channels\": []\n",
      "        }\n",
      "    ]\n",
      "}\n"
     ]
    }
   ],
   "source": [
    "features = p.find(name=\"TheSubPartSP1/TheBodySP1_B1\", feature_type=Body)\n",
    "print(features[0])"
   ]
  },
  {
   "cell_type": "markdown",
   "id": "257898c6",
   "metadata": {},
   "source": [
    "Find a specific face of a body in sub part"
   ]
  },
  {
   "cell_type": "code",
   "execution_count": 15,
   "id": "49e4f490",
   "metadata": {
    "execution": {
     "iopub.execute_input": "2025-04-17T12:01:33.744282Z",
     "iopub.status.busy": "2025-04-17T12:01:33.744099Z",
     "iopub.status.idle": "2025-04-17T12:01:33.748665Z",
     "shell.execute_reply": "2025-04-17T12:01:33.748142Z"
    }
   },
   "outputs": [
    {
     "name": "stdout",
     "output_type": "stream",
     "text": [
      "{\n",
      "    \"name\": \"TheFaceSP1_B1_F1\",\n",
      "    \"vertices\": [\n",
      "        0.0,\n",
      "        1.0,\n",
      "        0.0,\n",
      "        0.0,\n",
      "        2.0,\n",
      "        0.0,\n",
      "        1.0,\n",
      "        2.0,\n",
      "        0.0\n",
      "    ],\n",
      "    \"facets\": [\n",
      "        0,\n",
      "        1,\n",
      "        2\n",
      "    ],\n",
      "    \"normals\": [\n",
      "        0.0,\n",
      "        0.0,\n",
      "        1.0,\n",
      "        0.0,\n",
      "        0.0,\n",
      "        1.0,\n",
      "        0.0,\n",
      "        0.0,\n",
      "        1.0\n",
      "    ],\n",
      "    \"description\": \"\",\n",
      "    \"metadata\": {},\n",
      "    \"texture_coordinates_channels\": []\n",
      "}\n"
     ]
    }
   ],
   "source": [
    "features = p.find(name=\"TheSubPartSP1/TheBodySP1_B1/TheFaceSP1_B1_F1\", feature_type=Face)\n",
    "print(features[0])"
   ]
  },
  {
   "cell_type": "markdown",
   "id": "dc8ad646",
   "metadata": {},
   "source": [
    "### Find with approximation name"
   ]
  },
  {
   "cell_type": "markdown",
   "id": "069facb2",
   "metadata": {},
   "source": [
    "Find all bodies in root part"
   ]
  },
  {
   "cell_type": "code",
   "execution_count": 16,
   "id": "b7924306",
   "metadata": {
    "execution": {
     "iopub.execute_input": "2025-04-17T12:01:33.750733Z",
     "iopub.status.busy": "2025-04-17T12:01:33.750303Z",
     "iopub.status.idle": "2025-04-17T12:01:33.754109Z",
     "shell.execute_reply": "2025-04-17T12:01:33.753443Z"
    }
   },
   "outputs": [
    {
     "name": "stdout",
     "output_type": "stream",
     "text": [
      "TheBodyB1\n",
      "TheBodyB2\n"
     ]
    }
   ],
   "source": [
    "features = p.find(name=\".*\", name_regex=True, feature_type=Body)\n",
    "for feat in features:\n",
    "    print(feat._name)"
   ]
  },
  {
   "cell_type": "markdown",
   "id": "8299b3f1",
   "metadata": {},
   "source": [
    "Find all faces inside body called \"TheBodyB1\""
   ]
  },
  {
   "cell_type": "code",
   "execution_count": 17,
   "id": "4dc50bd6",
   "metadata": {
    "execution": {
     "iopub.execute_input": "2025-04-17T12:01:33.756016Z",
     "iopub.status.busy": "2025-04-17T12:01:33.755677Z",
     "iopub.status.idle": "2025-04-17T12:01:33.759250Z",
     "shell.execute_reply": "2025-04-17T12:01:33.758625Z"
    },
    "lines_to_next_cell": 2
   },
   "outputs": [
    {
     "name": "stdout",
     "output_type": "stream",
     "text": [
      "TheFaceF1\n"
     ]
    }
   ],
   "source": [
    "features = p.find(name=\"TheBodyB1/.*\", name_regex=True, feature_type=Face)\n",
    "for feat in features:\n",
    "    print(feat._name)"
   ]
  },
  {
   "cell_type": "markdown",
   "id": "ca865c51",
   "metadata": {},
   "source": [
    "If you want to retrieve several kind of geometry features at a certain level, give\n",
    "feature_type=Part"
   ]
  },
  {
   "cell_type": "markdown",
   "id": "70b8cff9",
   "metadata": {},
   "source": [
    "all the geometry features at root part level:"
   ]
  },
  {
   "cell_type": "code",
   "execution_count": 18,
   "id": "59ebc457",
   "metadata": {
    "execution": {
     "iopub.execute_input": "2025-04-17T12:01:33.761223Z",
     "iopub.status.busy": "2025-04-17T12:01:33.760847Z",
     "iopub.status.idle": "2025-04-17T12:01:33.764514Z",
     "shell.execute_reply": "2025-04-17T12:01:33.763893Z"
    }
   },
   "outputs": [
    {
     "name": "stdout",
     "output_type": "stream",
     "text": [
      "<class 'ansys.speos.core.body.Body'> : name=TheBodyB1\n",
      "<class 'ansys.speos.core.body.Body'> : name=TheBodyB2\n",
      "<class 'ansys.speos.core.part.Part.SubPart'> : name=TheSubPartSP1\n"
     ]
    }
   ],
   "source": [
    "features = p.find(name=\".*\", name_regex=True, feature_type=Part)\n",
    "for feat in features:\n",
    "    print(str(type(feat)) + \" : name=\" + feat._name)"
   ]
  },
  {
   "cell_type": "markdown",
   "id": "c7a74d2d",
   "metadata": {
    "lines_to_next_cell": 2
   },
   "source": [
    "all the geometry features at second level: e.g.:\n",
    "- TheBodyB1's all faces\n",
    "- TheSubPartSP1's all bodies\n",
    "- TheSubPartSP1's all sub part"
   ]
  },
  {
   "cell_type": "code",
   "execution_count": 19,
   "id": "20831df9",
   "metadata": {
    "execution": {
     "iopub.execute_input": "2025-04-17T12:01:33.766606Z",
     "iopub.status.busy": "2025-04-17T12:01:33.766257Z",
     "iopub.status.idle": "2025-04-17T12:01:33.770164Z",
     "shell.execute_reply": "2025-04-17T12:01:33.769578Z"
    }
   },
   "outputs": [
    {
     "name": "stdout",
     "output_type": "stream",
     "text": [
      "<class 'ansys.speos.core.face.Face'> : name=TheFaceF1\n",
      "<class 'ansys.speos.core.body.Body'> : name=TheBodySP1_B1\n",
      "<class 'ansys.speos.core.part.Part.SubPart'> : name=TheSubPartSP11\n"
     ]
    }
   ],
   "source": [
    "features = p.find(name=\".*/.*\", name_regex=True, feature_type=Part)\n",
    "for feat in features:\n",
    "    print(str(type(feat)) + \" : name=\" + feat._name)"
   ]
  },
  {
   "cell_type": "code",
   "execution_count": 20,
   "id": "5d2e33d8",
   "metadata": {
    "execution": {
     "iopub.execute_input": "2025-04-17T12:01:33.772023Z",
     "iopub.status.busy": "2025-04-17T12:01:33.771653Z",
     "iopub.status.idle": "2025-04-17T12:01:33.775609Z",
     "shell.execute_reply": "2025-04-17T12:01:33.774992Z"
    }
   },
   "outputs": [
    {
     "name": "stdout",
     "output_type": "stream",
     "text": [
      "<class 'ansys.speos.core.face.Face'> : name=TheFaceSP1_B1_F1\n"
     ]
    }
   ],
   "source": [
    "# all the geometry features at the third level:\n",
    "# e.g. TheSubPartSP1's all bodies' faces\n",
    "features = p.find(name=\".*/.*/.*\", name_regex=True, feature_type=Part)\n",
    "for feat in features:\n",
    "    print(str(type(feat)) + \" : name=\" + feat._name)\n",
    "# -"
   ]
  },
  {
   "cell_type": "markdown",
   "id": "2f20ca28",
   "metadata": {},
   "source": [
    "## Delete"
   ]
  },
  {
   "cell_type": "code",
   "execution_count": 21,
   "id": "85e64ac4",
   "metadata": {
    "execution": {
     "iopub.execute_input": "2025-04-17T12:01:33.777428Z",
     "iopub.status.busy": "2025-04-17T12:01:33.777238Z",
     "iopub.status.idle": "2025-04-17T12:01:33.786358Z",
     "shell.execute_reply": "2025-04-17T12:01:33.785724Z"
    }
   },
   "outputs": [
    {
     "name": "stdout",
     "output_type": "stream",
     "text": [
      "local: {\n",
      "    \"name\": \"RootPart\",\n",
      "    \"description\": \"\",\n",
      "    \"metadata\": {},\n",
      "    \"body_guids\": [],\n",
      "    \"parts\": []\n",
      "}\n"
     ]
    }
   ],
   "source": [
    "root_part.delete()\n",
    "print(root_part)"
   ]
  }
 ],
 "metadata": {
  "jupytext": {
   "cell_metadata_filter": "-all",
   "main_language": "python",
   "notebook_metadata_filter": "-all",
   "text_representation": {
    "extension": ".py",
    "format_name": "light"
   }
  },
  "language_info": {
   "codemirror_mode": {
    "name": "ipython",
    "version": 3
   },
   "file_extension": ".py",
   "mimetype": "text/x-python",
   "name": "python",
   "nbconvert_exporter": "python",
   "pygments_lexer": "ipython3",
   "version": "3.10.17"
  }
 },
 "nbformat": 4,
 "nbformat_minor": 5
}
