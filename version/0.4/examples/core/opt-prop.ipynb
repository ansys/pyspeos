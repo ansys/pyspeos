{
 "cells": [
  {
   "cell_type": "markdown",
   "id": "3b594bf3",
   "metadata": {},
   "source": [
    "# How to create an optical property"
   ]
  },
  {
   "cell_type": "markdown",
   "id": "61a40a3f",
   "metadata": {},
   "source": [
    "This tutorial demonstrates how to create an optical property."
   ]
  },
  {
   "cell_type": "markdown",
   "id": "d227850b",
   "metadata": {},
   "source": [
    "## What is an optical property?"
   ]
  },
  {
   "cell_type": "markdown",
   "id": "52f4b5a6",
   "metadata": {},
   "source": [
    "An optical property (also named material), gathers two notions:\n",
    "the surface optical property (SOP) and the volume optical property (VOP)."
   ]
  },
  {
   "cell_type": "markdown",
   "id": "48ebae91",
   "metadata": {},
   "source": [
    "The property is then applied to a geometry (like bodies, faces).\n",
    "\n",
    "## Prerequisites\n",
    "\n",
    "### Perform imports"
   ]
  },
  {
   "cell_type": "code",
   "execution_count": 1,
   "id": "00844ccf",
   "metadata": {
    "execution": {
     "iopub.execute_input": "2025-04-17T12:01:29.758362Z",
     "iopub.status.busy": "2025-04-17T12:01:29.757758Z",
     "iopub.status.idle": "2025-04-17T12:01:30.503854Z",
     "shell.execute_reply": "2025-04-17T12:01:30.503182Z"
    }
   },
   "outputs": [],
   "source": [
    "from pathlib import Path\n",
    "\n",
    "from ansys.speos.core import GeoRef, Project, Speos\n"
   ]
  },
  {
   "cell_type": "markdown",
   "id": "76fb7e07",
   "metadata": {},
   "source": [
    "### Define constants\n",
    "Constants help ensure consistency and avoid repetition throughout the example."
   ]
  },
  {
   "cell_type": "code",
   "execution_count": 2,
   "id": "a45c838e",
   "metadata": {
    "execution": {
     "iopub.execute_input": "2025-04-17T12:01:30.506265Z",
     "iopub.status.busy": "2025-04-17T12:01:30.505977Z",
     "iopub.status.idle": "2025-04-17T12:01:30.509126Z",
     "shell.execute_reply": "2025-04-17T12:01:30.508595Z"
    }
   },
   "outputs": [],
   "source": [
    "HOSTNAME = \"localhost\"\n",
    "GRPC_PORT = 50098  # Be sure the Speos GRPC Server has been started on this port.\n",
    "USE_DOCKER = True  # Set to False if you're running this example locally as a Notebook."
   ]
  },
  {
   "cell_type": "markdown",
   "id": "51663581",
   "metadata": {
    "lines_to_next_cell": 2
   },
   "source": [
    "### Define helper functions"
   ]
  },
  {
   "cell_type": "code",
   "execution_count": 3,
   "id": "a7e55649",
   "metadata": {
    "execution": {
     "iopub.execute_input": "2025-04-17T12:01:30.511062Z",
     "iopub.status.busy": "2025-04-17T12:01:30.510669Z",
     "iopub.status.idle": "2025-04-17T12:01:30.515887Z",
     "shell.execute_reply": "2025-04-17T12:01:30.515387Z"
    }
   },
   "outputs": [],
   "source": [
    "def create_helper_geometries(project: Project):\n",
    "    \"\"\"Create bodies and faces.\"\"\"\n",
    "\n",
    "    def create_face(body):\n",
    "        (\n",
    "            body.create_face(name=\"TheFaceF\")\n",
    "            .set_vertices([0, 0, 0, 1, 0, 0, 0, 1, 0])\n",
    "            .set_facets([0, 1, 2])\n",
    "            .set_normals([0, 0, 1, 0, 0, 1, 0, 0, 1])\n",
    "            .commit()\n",
    "        )\n",
    "\n",
    "    root_part = project.create_root_part().commit()\n",
    "    body_b1 = root_part.create_body(name=\"TheBodyB\").commit()\n",
    "    body_b2 = root_part.create_body(name=\"TheBodyC\").commit()\n",
    "    body_b3 = root_part.create_body(name=\"TheBodyD\").commit()\n",
    "    body_b4 = root_part.create_body(name=\"TheBodyE\").commit()\n",
    "    for b in [body_b1, body_b2, body_b3, body_b4]:\n",
    "        create_face(b)"
   ]
  },
  {
   "cell_type": "markdown",
   "id": "d74e0f63",
   "metadata": {},
   "source": [
    "## Model Setup\n",
    "\n",
    "### Load assets\n",
    "The assets used to run this example are available in the\n",
    "[PySpeos repository](https://github.com/ansys/pyspeos/) on GitHub.\n",
    "\n",
    "> **Note:** Make sure you\n",
    "> have downloaded simulation assets and set ``assets_data_path``\n",
    "> to point to the assets folder."
   ]
  },
  {
   "cell_type": "code",
   "execution_count": 4,
   "id": "49141cb0",
   "metadata": {
    "execution": {
     "iopub.execute_input": "2025-04-17T12:01:30.517639Z",
     "iopub.status.busy": "2025-04-17T12:01:30.517457Z",
     "iopub.status.idle": "2025-04-17T12:01:30.520325Z",
     "shell.execute_reply": "2025-04-17T12:01:30.519794Z"
    }
   },
   "outputs": [],
   "source": [
    "if USE_DOCKER:  # Running on the remote server.\n",
    "    assets_data_path = Path(\"/app\") / \"assets\"\n",
    "else:\n",
    "    assets_data_path = Path(\"/path/to/your/download/assets/directory\")"
   ]
  },
  {
   "cell_type": "markdown",
   "id": "0929fcdf",
   "metadata": {},
   "source": [
    "### Connect to the RPC Server\n",
    "This Python client connects to a server where the Speos engine\n",
    "is running as a service. In this example, the server and\n",
    "client are the same machine."
   ]
  },
  {
   "cell_type": "code",
   "execution_count": 5,
   "id": "8292f83c",
   "metadata": {
    "execution": {
     "iopub.execute_input": "2025-04-17T12:01:30.522098Z",
     "iopub.status.busy": "2025-04-17T12:01:30.521856Z",
     "iopub.status.idle": "2025-04-17T12:01:30.527927Z",
     "shell.execute_reply": "2025-04-17T12:01:30.527386Z"
    }
   },
   "outputs": [],
   "source": [
    "speos = Speos(host=HOSTNAME, port=GRPC_PORT)"
   ]
  },
  {
   "cell_type": "markdown",
   "id": "061b9bb4",
   "metadata": {},
   "source": [
    "### Create a new project\n",
    "\n",
    "The only way to create an optical property using the core layer, is to create it from a project.\n",
    "The ``Project`` class is instantiated by passing a ``Speos`` instance"
   ]
  },
  {
   "cell_type": "code",
   "execution_count": 6,
   "id": "7a81611a",
   "metadata": {
    "execution": {
     "iopub.execute_input": "2025-04-17T12:01:30.530056Z",
     "iopub.status.busy": "2025-04-17T12:01:30.529596Z",
     "iopub.status.idle": "2025-04-17T12:01:30.547050Z",
     "shell.execute_reply": "2025-04-17T12:01:30.546488Z"
    }
   },
   "outputs": [
    {
     "name": "stdout",
     "output_type": "stream",
     "text": [
      "{\n",
      "    \"name\": \"\",\n",
      "    \"description\": \"\",\n",
      "    \"metadata\": {},\n",
      "    \"part_guid\": \"\",\n",
      "    \"sources\": [],\n",
      "    \"sensors\": [],\n",
      "    \"simulations\": [],\n",
      "    \"materials\": [],\n",
      "    \"scenes\": []\n",
      "}\n"
     ]
    }
   ],
   "source": [
    "p = Project(speos=speos)\n",
    "print(p)\n",
    "create_helper_geometries(p)"
   ]
  },
  {
   "cell_type": "markdown",
   "id": "da022ffd",
   "metadata": {},
   "source": [
    "## Create VOP (volume optical property)\n",
    "\n",
    "Create locally.\n",
    "The mention \"local: \" is added when printing the optical property."
   ]
  },
  {
   "cell_type": "code",
   "execution_count": 7,
   "id": "e0ea3d9b",
   "metadata": {
    "execution": {
     "iopub.execute_input": "2025-04-17T12:01:30.549195Z",
     "iopub.status.busy": "2025-04-17T12:01:30.548823Z",
     "iopub.status.idle": "2025-04-17T12:01:30.604898Z",
     "shell.execute_reply": "2025-04-17T12:01:30.604233Z"
    },
    "lines_to_next_cell": 2
   },
   "outputs": [
    {
     "name": "stdout",
     "output_type": "stream",
     "text": [
      "local: {\n",
      "    \"name\": \"Material.1\",\n",
      "    \"geometries\": {\n",
      "        \"geo_paths\": [\n",
      "            \"TheBodyB\",\n",
      "            \"TheBodyC\"\n",
      "        ]\n",
      "    },\n",
      "    \"description\": \"\",\n",
      "    \"metadata\": {},\n",
      "    \"sop_guids\": [],\n",
      "    \"vop\": {\n",
      "        \"name\": \"Material.1.VOP\",\n",
      "        \"opaque\": {},\n",
      "        \"description\": \"\",\n",
      "        \"metadata\": {}\n",
      "    },\n",
      "    \"sops\": [\n",
      "        {\n",
      "            \"name\": \"Material.1.SOP\",\n",
      "            \"mirror\": {\n",
      "                \"reflectance\": 80.0\n",
      "            },\n",
      "            \"description\": \"\",\n",
      "            \"metadata\": {}\n",
      "        }\n",
      "    ]\n",
      "}\n"
     ]
    }
   ],
   "source": [
    "op1 = p.create_optical_property(name=\"Material.1\")\n",
    "op1.set_surface_mirror(reflectance=80)  # SOP : mirror\n",
    "op1.set_volume_opaque()  # VOP : opaque\n",
    "# This optical property will be applied to two bodies named : \"TheBodyB\" and \"TheBodyC\".\n",
    "op1.set_geometries(\n",
    "    geometries=[\n",
    "        GeoRef.from_native_link(geopath=\"TheBodyB\"),\n",
    "        GeoRef.from_native_link(geopath=\"TheBodyC\"),\n",
    "    ]\n",
    ")\n",
    "print(op1)"
   ]
  },
  {
   "cell_type": "markdown",
   "id": "2aa7a049",
   "metadata": {},
   "source": [
    "### Push it to the server.\n",
    "\n",
    "Now that it is committed to the server,\n",
    "the mention \"local: \" is no more present when printing the optical property."
   ]
  },
  {
   "cell_type": "code",
   "execution_count": 8,
   "id": "61e12220",
   "metadata": {
    "execution": {
     "iopub.execute_input": "2025-04-17T12:01:30.607190Z",
     "iopub.status.busy": "2025-04-17T12:01:30.606728Z",
     "iopub.status.idle": "2025-04-17T12:01:30.614658Z",
     "shell.execute_reply": "2025-04-17T12:01:30.614131Z"
    }
   },
   "outputs": [
    {
     "name": "stdout",
     "output_type": "stream",
     "text": [
      "{\n",
      "    \"name\": \"Material.1\",\n",
      "    \"metadata\": {\n",
      "        \"UniqueId\": \"851bde96-8864-4ed9-90e0-fc7c63d64686\"\n",
      "    },\n",
      "    \"vop_guid\": \"595cf4f1-ead3-4c79-85d1-c168bc736591\",\n",
      "    \"sop_guids\": [\n",
      "        \"262291df-7429-47c1-b715-19b7dee8318e\"\n",
      "    ],\n",
      "    \"geometries\": {\n",
      "        \"geo_paths\": [\n",
      "            \"TheBodyB\",\n",
      "            \"TheBodyC\"\n",
      "        ]\n",
      "    },\n",
      "    \"description\": \"\",\n",
      "    \"vop\": {\n",
      "        \"name\": \"Material.1.VOP\",\n",
      "        \"opaque\": {},\n",
      "        \"description\": \"\",\n",
      "        \"metadata\": {}\n",
      "    },\n",
      "    \"sops\": [\n",
      "        {\n",
      "            \"name\": \"Material.1.SOP\",\n",
      "            \"mirror\": {\n",
      "                \"reflectance\": 80.0\n",
      "            },\n",
      "            \"description\": \"\",\n",
      "            \"metadata\": {}\n",
      "        }\n",
      "    ]\n",
      "}\n"
     ]
    }
   ],
   "source": [
    "op1.commit()\n",
    "print(op1)"
   ]
  },
  {
   "cell_type": "markdown",
   "id": "7b173cac",
   "metadata": {},
   "source": [
    "## Another example.\n",
    "\n",
    "Setting several more characteristics."
   ]
  },
  {
   "cell_type": "code",
   "execution_count": 9,
   "id": "aac68c9b",
   "metadata": {
    "execution": {
     "iopub.execute_input": "2025-04-17T12:01:30.616814Z",
     "iopub.status.busy": "2025-04-17T12:01:30.616364Z",
     "iopub.status.idle": "2025-04-17T12:01:30.625162Z",
     "shell.execute_reply": "2025-04-17T12:01:30.624568Z"
    },
    "lines_to_next_cell": 2
   },
   "outputs": [
    {
     "name": "stdout",
     "output_type": "stream",
     "text": [
      "{\n",
      "    \"name\": \"Material.2\",\n",
      "    \"metadata\": {\n",
      "        \"UniqueId\": \"7f465afc-4cae-408b-89cd-bfad4f4b781d\"\n",
      "    },\n",
      "    \"vop_guid\": \"63abb387-5fc6-453a-9bd5-bbc74e13b72d\",\n",
      "    \"sop_guids\": [\n",
      "        \"1e777c76-e3b3-4a92-b557-7032d40756d4\"\n",
      "    ],\n",
      "    \"geometries\": {\n",
      "        \"geo_paths\": [\n",
      "            \"TheBodyD\",\n",
      "            \"TheBodyE\"\n",
      "        ]\n",
      "    },\n",
      "    \"description\": \"\",\n",
      "    \"vop\": {\n",
      "        \"name\": \"Material.2.VOP\",\n",
      "        \"library\": {\n",
      "            \"material_file_uri\": \"/app/assets/AIR.material\"\n",
      "        },\n",
      "        \"description\": \"\",\n",
      "        \"metadata\": {}\n",
      "    },\n",
      "    \"sops\": [\n",
      "        {\n",
      "            \"name\": \"Material.2.SOP\",\n",
      "            \"optical_polished\": {},\n",
      "            \"description\": \"\",\n",
      "            \"metadata\": {}\n",
      "        }\n",
      "    ]\n",
      "}\n"
     ]
    }
   ],
   "source": [
    "op2 = p.create_optical_property(name=\"Material.2\")\n",
    "op2.set_surface_opticalpolished()  # SOP : optical polished\n",
    "op2.set_volume_library(\n",
    "    path=str(assets_data_path / \"AIR.material\")\n",
    ")  # VOP : selected library via a file .material\n",
    "# This optical property will be applied to two bodies named : \"TheBodyD\" and \"TheBodyE\".\n",
    "op2.set_geometries(\n",
    "    geometries=[\n",
    "        GeoRef.from_native_link(geopath=\"TheBodyD\"),\n",
    "        GeoRef.from_native_link(geopath=\"TheBodyE\"),\n",
    "    ]\n",
    ")\n",
    "op2.commit()\n",
    "print(op2)"
   ]
  },
  {
   "cell_type": "markdown",
   "id": "05a59e04",
   "metadata": {},
   "source": [
    "## Create FOP (face optical property)\n",
    "\n",
    "Sometimes it is needed to create property but only for surface.\n",
    "\n",
    "In this case, no call for set_volume_xxx function is needed, and we will select a face for the\n",
    "geometries."
   ]
  },
  {
   "cell_type": "code",
   "execution_count": 10,
   "id": "2dde6786",
   "metadata": {
    "execution": {
     "iopub.execute_input": "2025-04-17T12:01:30.626972Z",
     "iopub.status.busy": "2025-04-17T12:01:30.626768Z",
     "iopub.status.idle": "2025-04-17T12:01:30.633496Z",
     "shell.execute_reply": "2025-04-17T12:01:30.632930Z"
    }
   },
   "outputs": [
    {
     "name": "stdout",
     "output_type": "stream",
     "text": [
      "{\n",
      "    \"name\": \"Material.FOP\",\n",
      "    \"metadata\": {\n",
      "        \"UniqueId\": \"bbd60bd5-c0d1-4fa6-bf28-39b8a930ab17\"\n",
      "    },\n",
      "    \"sop_guids\": [\n",
      "        \"a36fe600-77c7-4a5a-9f50-869480c8323b\"\n",
      "    ],\n",
      "    \"geometries\": {\n",
      "        \"geo_paths\": [\n",
      "            \"TheBodyD/TheFaceF\"\n",
      "        ]\n",
      "    },\n",
      "    \"description\": \"\",\n",
      "    \"sops\": [\n",
      "        {\n",
      "            \"name\": \"Material.FOP.SOP\",\n",
      "            \"mirror\": {\n",
      "                \"reflectance\": 90.0\n",
      "            },\n",
      "            \"description\": \"\",\n",
      "            \"metadata\": {}\n",
      "        }\n",
      "    ]\n",
      "}\n"
     ]
    }
   ],
   "source": [
    "op3 = p.create_optical_property(name=\"Material.FOP\")\n",
    "op3.set_surface_mirror(reflectance=90)  # SOP : mirror\n",
    "# This optical property will be applied a face from TheBodyD named : \"TheFaceF\".\n",
    "op3.set_geometries(geometries=[GeoRef.from_native_link(geopath=\"TheBodyD/TheFaceF\")])\n",
    "op3.commit()\n",
    "print(op3)"
   ]
  },
  {
   "cell_type": "markdown",
   "id": "21aaff6b",
   "metadata": {},
   "source": [
    "### Default values\n",
    "\n",
    "Some default values are available when applicable in every methods and class."
   ]
  },
  {
   "cell_type": "code",
   "execution_count": 11,
   "id": "06ae4e3c",
   "metadata": {
    "execution": {
     "iopub.execute_input": "2025-04-17T12:01:30.635646Z",
     "iopub.status.busy": "2025-04-17T12:01:30.635189Z",
     "iopub.status.idle": "2025-04-17T12:01:30.641183Z",
     "shell.execute_reply": "2025-04-17T12:01:30.640643Z"
    }
   },
   "outputs": [
    {
     "name": "stdout",
     "output_type": "stream",
     "text": [
      "{\n",
      "    \"name\": \"Material.3\",\n",
      "    \"metadata\": {\n",
      "        \"UniqueId\": \"b837d3d9-9454-4592-9c66-405419ca7b08\"\n",
      "    },\n",
      "    \"sop_guids\": [\n",
      "        \"8c3b48de-08ba-4f69-abf4-ee2bbe4399b3\"\n",
      "    ],\n",
      "    \"description\": \"\",\n",
      "    \"sops\": [\n",
      "        {\n",
      "            \"name\": \"Material.3.SOP\",\n",
      "            \"mirror\": {\n",
      "                \"reflectance\": 100.0\n",
      "            },\n",
      "            \"description\": \"\",\n",
      "            \"metadata\": {}\n",
      "        }\n",
      "    ]\n",
      "}\n"
     ]
    }
   ],
   "source": [
    "op4 = p.create_optical_property(name=\"Material.3\").commit()\n",
    "print(op4)"
   ]
  },
  {
   "cell_type": "markdown",
   "id": "4ee22e72",
   "metadata": {},
   "source": [
    "## Read\n",
    "### Material Instance Information\n",
    "\n",
    "A mention \"local: \" is added if it is not yet committed to the server."
   ]
  },
  {
   "cell_type": "code",
   "execution_count": 12,
   "id": "15aec4fb",
   "metadata": {
    "execution": {
     "iopub.execute_input": "2025-04-17T12:01:30.643102Z",
     "iopub.status.busy": "2025-04-17T12:01:30.642878Z",
     "iopub.status.idle": "2025-04-17T12:01:30.648872Z",
     "shell.execute_reply": "2025-04-17T12:01:30.648305Z"
    }
   },
   "outputs": [
    {
     "name": "stdout",
     "output_type": "stream",
     "text": [
      "{\n",
      "    \"name\": \"Material.1\",\n",
      "    \"metadata\": {\n",
      "        \"UniqueId\": \"851bde96-8864-4ed9-90e0-fc7c63d64686\"\n",
      "    },\n",
      "    \"vop_guid\": \"595cf4f1-ead3-4c79-85d1-c168bc736591\",\n",
      "    \"sop_guids\": [\n",
      "        \"262291df-7429-47c1-b715-19b7dee8318e\"\n",
      "    ],\n",
      "    \"geometries\": {\n",
      "        \"geo_paths\": [\n",
      "            \"TheBodyB\",\n",
      "            \"TheBodyC\"\n",
      "        ]\n",
      "    },\n",
      "    \"description\": \"\",\n",
      "    \"vop\": {\n",
      "        \"name\": \"Material.1.VOP\",\n",
      "        \"opaque\": {},\n",
      "        \"description\": \"\",\n",
      "        \"metadata\": {}\n",
      "    },\n",
      "    \"sops\": [\n",
      "        {\n",
      "            \"name\": \"Material.1.SOP\",\n",
      "            \"mirror\": {\n",
      "                \"reflectance\": 80.0\n",
      "            },\n",
      "            \"description\": \"\",\n",
      "            \"metadata\": {}\n",
      "        }\n",
      "    ]\n",
      "}\n"
     ]
    }
   ],
   "source": [
    "print(op1)"
   ]
  },
  {
   "cell_type": "markdown",
   "id": "8adc0dde",
   "metadata": {},
   "source": [
    "The get methods allows you to get some properties of your feature"
   ]
  },
  {
   "cell_type": "code",
   "execution_count": 13,
   "id": "df8a7050",
   "metadata": {
    "execution": {
     "iopub.execute_input": "2025-04-17T12:01:30.650653Z",
     "iopub.status.busy": "2025-04-17T12:01:30.650465Z",
     "iopub.status.idle": "2025-04-17T12:01:30.681241Z",
     "shell.execute_reply": "2025-04-17T12:01:30.680568Z"
    }
   },
   "outputs": [
    {
     "name": "stdout",
     "output_type": "stream",
     "text": [
      "op1 name: Material.1\n",
      "geometries linked to op1: ['TheBodyB', 'TheBodyC']\n",
      "op1 surface optical properties info: [{'name': 'Material.1.SOP', 'mirror': {'reflectance': 80.0}, 'description': '', 'metadata': {}}]\n",
      "op1 volume optical property info: {'name': 'Material.1.VOP', 'opaque': {}, 'description': '', 'metadata': {}}\n",
      "op1 is opaque type volume optical property\n",
      "{\n",
      "    \"name\": \"Material.2\",\n",
      "    \"metadata\": {\n",
      "        \"UniqueId\": \"7f465afc-4cae-408b-89cd-bfad4f4b781d\"\n",
      "    },\n",
      "    \"vop_guid\": \"63abb387-5fc6-453a-9bd5-bbc74e13b72d\",\n",
      "    \"sop_guids\": [\n",
      "        \"1e777c76-e3b3-4a92-b557-7032d40756d4\"\n",
      "    ],\n",
      "    \"geometries\": {\n",
      "        \"geo_paths\": [\n",
      "            \"TheBodyD\",\n",
      "            \"TheBodyE\"\n",
      "        ]\n",
      "    },\n",
      "    \"description\": \"\",\n",
      "    \"vop\": {\n",
      "        \"name\": \"Material.2.VOP\",\n",
      "        \"library\": {\n",
      "            \"material_file_uri\": \"/app/assets/AIR.material\"\n",
      "        },\n",
      "        \"description\": \"\",\n",
      "        \"metadata\": {}\n",
      "    },\n",
      "    \"sops\": [\n",
      "        {\n",
      "            \"name\": \"Material.2.SOP\",\n",
      "            \"optical_polished\": {},\n",
      "            \"description\": \"\",\n",
      "            \"metadata\": {}\n",
      "        }\n",
      "    ]\n",
      "}\n",
      "op2 name: Material.2\n",
      "op2 is optical polished type surface property\n",
      "op2 is library type volume optical property\n",
      "{\n",
      "    \"name\": \"Material.FOP\",\n",
      "    \"metadata\": {\n",
      "        \"UniqueId\": \"bbd60bd5-c0d1-4fa6-bf28-39b8a930ab17\"\n",
      "    },\n",
      "    \"sop_guids\": [\n",
      "        \"a36fe600-77c7-4a5a-9f50-869480c8323b\"\n",
      "    ],\n",
      "    \"geometries\": {\n",
      "        \"geo_paths\": [\n",
      "            \"TheBodyD/TheFaceF\"\n",
      "        ]\n",
      "    },\n",
      "    \"description\": \"\",\n",
      "    \"sops\": [\n",
      "        {\n",
      "            \"name\": \"Material.FOP.SOP\",\n",
      "            \"mirror\": {\n",
      "                \"reflectance\": 90.0\n",
      "            },\n",
      "            \"description\": \"\",\n",
      "            \"metadata\": {}\n",
      "        }\n",
      "    ]\n",
      "}\n",
      "op3 name: Material.FOP\n",
      "op3 has reflectance value of 90.0\n"
     ]
    }
   ],
   "source": [
    "print(\"op1 name: {}\".format(op1.get(key=\"name\")))\n",
    "print(\"geometries linked to op1: {}\".format(op1.get(key=\"geo_paths\")))\n",
    "print(\"op1 surface optical properties info: {}\".format(op1.get(key=\"sops\")))\n",
    "print(\"op1 volume optical property info: {}\".format(op1.get(key=\"vop\")))\n",
    "# user can use get with vop type as key word to check volume property type\n",
    "print(\n",
    "    \"op1 {} opaque type volume optical property\".format(\n",
    "        \"is\" if op1.get(key=\"opaque\") is not None else \"is not\"\n",
    "    )\n",
    ")\n",
    "\n",
    "print(op2)\n",
    "print(\"op2 name: {}\".format(op2.get(key=\"name\")))\n",
    "print(\n",
    "    \"op2 {} optical polished type surface property\".format(\n",
    "        (\"is\" if \"optical_polished\" in op2.get(key=\"sops\")[0] else \"is not\")\n",
    "    )\n",
    ")\n",
    "# an alternative way to check the type of optical property\n",
    "print(\n",
    "    \"op2 {} library type volume optical property\".format(\n",
    "        \"is\" if \"library\" in op2.get(key=\"vop\") is not None else \"is not\"\n",
    "    )\n",
    ")\n",
    "\n",
    "print(op3)\n",
    "print(\"op3 name: {}\".format(op3.get(key=\"name\")))\n",
    "print(\"op3 has reflectance value of {}\".format(op3.get(key=\"sops\")[0][\"mirror\"][\"reflectance\"]))"
   ]
  },
  {
   "cell_type": "markdown",
   "id": "0a2101ff",
   "metadata": {},
   "source": [
    "### Project Information\n",
    "Committed feature information will appear inside a project information."
   ]
  },
  {
   "cell_type": "code",
   "execution_count": 14,
   "id": "a57a1846",
   "metadata": {
    "execution": {
     "iopub.execute_input": "2025-04-17T12:01:30.683344Z",
     "iopub.status.busy": "2025-04-17T12:01:30.682969Z",
     "iopub.status.idle": "2025-04-17T12:01:30.692032Z",
     "shell.execute_reply": "2025-04-17T12:01:30.691387Z"
    }
   },
   "outputs": [
    {
     "name": "stdout",
     "output_type": "stream",
     "text": [
      "{\n",
      "    \"part_guid\": \"1db4d021-218f-4c35-9177-29ee18cb2591\",\n",
      "    \"materials\": [\n",
      "        {\n",
      "            \"name\": \"Material.1\",\n",
      "            \"metadata\": {\n",
      "                \"UniqueId\": \"851bde96-8864-4ed9-90e0-fc7c63d64686\"\n",
      "            },\n",
      "            \"vop_guid\": \"595cf4f1-ead3-4c79-85d1-c168bc736591\",\n",
      "            \"sop_guids\": [\n",
      "                \"262291df-7429-47c1-b715-19b7dee8318e\"\n",
      "            ],\n",
      "            \"geometries\": {\n",
      "                \"geo_paths\": [\n",
      "                    \"TheBodyB\",\n",
      "                    \"TheBodyC\"\n",
      "                ]\n",
      "            },\n",
      "            \"description\": \"\",\n",
      "            \"vop\": {\n",
      "                \"name\": \"Material.1.VOP\",\n",
      "                \"opaque\": {},\n",
      "                \"description\": \"\",\n",
      "                \"metadata\": {}\n",
      "            },\n",
      "            \"sops\": [\n",
      "                {\n",
      "                    \"name\": \"Material.1.SOP\",\n",
      "                    \"mirror\": {\n",
      "                        \"reflectance\": 80.0\n",
      "                    },\n",
      "                    \"description\": \"\",\n",
      "                    \"metadata\": {}\n",
      "                }\n",
      "            ]\n",
      "        },\n",
      "        {\n",
      "            \"name\": \"Material.2\",\n",
      "            \"metadata\": {\n",
      "                \"UniqueId\": \"7f465afc-4cae-408b-89cd-bfad4f4b781d\"\n",
      "            },\n",
      "            \"vop_guid\": \"63abb387-5fc6-453a-9bd5-bbc74e13b72d\",\n",
      "            \"sop_guids\": [\n",
      "                \"1e777c76-e3b3-4a92-b557-7032d40756d4\"\n",
      "            ],\n",
      "            \"geometries\": {\n",
      "                \"geo_paths\": [\n",
      "                    \"TheBodyD\",\n",
      "                    \"TheBodyE\"\n",
      "                ]\n",
      "            },\n",
      "            \"description\": \"\",\n",
      "            \"vop\": {\n",
      "                \"name\": \"Material.2.VOP\",\n",
      "                \"library\": {\n",
      "                    \"material_file_uri\": \"/app/assets/AIR.material\"\n",
      "                },\n",
      "                \"description\": \"\",\n",
      "                \"metadata\": {}\n",
      "            },\n",
      "            \"sops\": [\n",
      "                {\n",
      "                    \"name\": \"Material.2.SOP\",\n",
      "                    \"optical_polished\": {},\n",
      "                    \"description\": \"\",\n",
      "                    \"metadata\": {}\n",
      "                }\n",
      "            ]\n",
      "        },\n",
      "        {\n",
      "            \"name\": \"Material.FOP\",\n",
      "            \"metadata\": {\n",
      "                \"UniqueId\": \"bbd60bd5-c0d1-4fa6-bf28-39b8a930ab17\"\n",
      "            },\n",
      "            \"sop_guids\": [\n",
      "                \"a36fe600-77c7-4a5a-9f50-869480c8323b\"\n",
      "            ],\n",
      "            \"geometries\": {\n",
      "                \"geo_paths\": [\n",
      "                    \"TheBodyD/TheFaceF\"\n",
      "                ]\n",
      "            },\n",
      "            \"description\": \"\",\n",
      "            \"sops\": [\n",
      "                {\n",
      "                    \"name\": \"Material.FOP.SOP\",\n",
      "                    \"mirror\": {\n",
      "                        \"reflectance\": 90.0\n",
      "                    },\n",
      "                    \"description\": \"\",\n",
      "                    \"metadata\": {}\n",
      "                }\n",
      "            ]\n",
      "        },\n",
      "        {\n",
      "            \"name\": \"Material.3\",\n",
      "            \"metadata\": {\n",
      "                \"UniqueId\": \"b837d3d9-9454-4592-9c66-405419ca7b08\"\n",
      "            },\n",
      "            \"sop_guids\": [\n",
      "                \"8c3b48de-08ba-4f69-abf4-ee2bbe4399b3\"\n",
      "            ],\n",
      "            \"description\": \"\",\n",
      "            \"sops\": [\n",
      "                {\n",
      "                    \"name\": \"Material.3.SOP\",\n",
      "                    \"mirror\": {\n",
      "                        \"reflectance\": 100.0\n",
      "                    },\n",
      "                    \"description\": \"\",\n",
      "                    \"metadata\": {}\n",
      "                }\n",
      "            ]\n",
      "        }\n",
      "    ],\n",
      "    \"name\": \"\",\n",
      "    \"description\": \"\",\n",
      "    \"metadata\": {},\n",
      "    \"sources\": [],\n",
      "    \"sensors\": [],\n",
      "    \"simulations\": [],\n",
      "    \"scenes\": []\n",
      "}\n"
     ]
    }
   ],
   "source": [
    "print(p)"
   ]
  },
  {
   "cell_type": "markdown",
   "id": "d0d31406",
   "metadata": {
    "lines_to_next_cell": 2
   },
   "source": [
    "## Update\n",
    "\n",
    "Tipp: if you are manipulating an optical property already committed, don't forget to commit your\n",
    "changes.\n",
    "\n",
    "If you don't, you will still only watch what is committed on the server."
   ]
  },
  {
   "cell_type": "code",
   "execution_count": 15,
   "id": "c0e8919d",
   "metadata": {
    "execution": {
     "iopub.execute_input": "2025-04-17T12:01:30.693860Z",
     "iopub.status.busy": "2025-04-17T12:01:30.693670Z",
     "iopub.status.idle": "2025-04-17T12:01:30.706082Z",
     "shell.execute_reply": "2025-04-17T12:01:30.705561Z"
    },
    "lines_to_next_cell": 2
   },
   "outputs": [
    {
     "name": "stdout",
     "output_type": "stream",
     "text": [
      "op1 surface type before update: {'name': 'Material.1.SOP', 'mirror': {'reflectance': 80.0}, 'description': '', 'metadata': {}}\n",
      "{\n",
      "    \"name\": \"Material.1\",\n",
      "    \"metadata\": {\n",
      "        \"UniqueId\": \"851bde96-8864-4ed9-90e0-fc7c63d64686\"\n",
      "    },\n",
      "    \"vop_guid\": \"595cf4f1-ead3-4c79-85d1-c168bc736591\",\n",
      "    \"sop_guids\": [\n",
      "        \"262291df-7429-47c1-b715-19b7dee8318e\"\n",
      "    ],\n",
      "    \"geometries\": {\n",
      "        \"geo_paths\": [\n",
      "            \"TheBodyB\",\n",
      "            \"TheBodyC\"\n",
      "        ]\n",
      "    },\n",
      "    \"description\": \"\",\n",
      "    \"vop\": {\n",
      "        \"name\": \"Material.1.VOP\",\n",
      "        \"optic\": {\n",
      "            \"index\": 1.5,\n",
      "            \"absorption\": 0.0\n",
      "        },\n",
      "        \"description\": \"\",\n",
      "        \"metadata\": {}\n",
      "    },\n",
      "    \"sops\": [\n",
      "        {\n",
      "            \"name\": \"Material.1.SOP\",\n",
      "            \"optical_polished\": {},\n",
      "            \"description\": \"\",\n",
      "            \"metadata\": {}\n",
      "        }\n",
      "    ]\n",
      "}\n",
      "op1 surface type after update: {'name': 'Material.1.SOP', 'optical_polished': {}, 'description': '', 'metadata': {}}\n"
     ]
    }
   ],
   "source": [
    "print(\"op1 surface type before update: {}\".format(op1.get(key=\"sops\")[0]))\n",
    "op1.set_volume_optic().set_surface_opticalpolished().commit()\n",
    "print(op1)\n",
    "print(\"op1 surface type after update: {}\".format(op1.get(key=\"sops\")[0]))"
   ]
  },
  {
   "cell_type": "markdown",
   "id": "fb575100",
   "metadata": {},
   "source": [
    "## Reset\n",
    "\n",
    "Possibility to reset local values from the one available in the server."
   ]
  },
  {
   "cell_type": "code",
   "execution_count": 16,
   "id": "ec240943",
   "metadata": {
    "execution": {
     "iopub.execute_input": "2025-04-17T12:01:30.707845Z",
     "iopub.status.busy": "2025-04-17T12:01:30.707649Z",
     "iopub.status.idle": "2025-04-17T12:01:30.713897Z",
     "shell.execute_reply": "2025-04-17T12:01:30.713376Z"
    },
    "lines_to_next_cell": 2
   },
   "outputs": [
    {
     "name": "stdout",
     "output_type": "stream",
     "text": [
      "local: {\n",
      "    \"name\": \"Material.1\",\n",
      "    \"vop_guid\": \"\",\n",
      "    \"geometries\": {\n",
      "        \"geo_paths\": [\n",
      "            \"TheBodyB\",\n",
      "            \"TheBodyC\"\n",
      "        ]\n",
      "    },\n",
      "    \"description\": \"\",\n",
      "    \"metadata\": {},\n",
      "    \"sop_guids\": [],\n",
      "    \"vop\": {\n",
      "        \"name\": \"Material.1.VOP\",\n",
      "        \"optic\": {\n",
      "            \"index\": 1.5,\n",
      "            \"absorption\": 0.0\n",
      "        },\n",
      "        \"description\": \"\",\n",
      "        \"metadata\": {}\n",
      "    },\n",
      "    \"sops\": [\n",
      "        {\n",
      "            \"name\": \"Material.1.SOP\",\n",
      "            \"optical_polished\": {},\n",
      "            \"description\": \"\",\n",
      "            \"metadata\": {}\n",
      "        }\n",
      "    ]\n",
      "}\n"
     ]
    }
   ],
   "source": [
    "op1.set_surface_mirror()  # set surface as a mirror but no commit\n",
    "op1.reset()  # reset -> this will apply the server value to the local value\n",
    "op1.delete()  # delete (to display the local value with the below print)\n",
    "print(op1)"
   ]
  },
  {
   "cell_type": "markdown",
   "id": "1a28800f",
   "metadata": {
    "lines_to_next_cell": 2
   },
   "source": [
    "## Delete\n",
    "\n",
    "Once the data is deleted from the server, you can still work with local data and maybe commit\n",
    "later."
   ]
  },
  {
   "cell_type": "code",
   "execution_count": 17,
   "id": "4fba2250",
   "metadata": {
    "execution": {
     "iopub.execute_input": "2025-04-17T12:01:30.715867Z",
     "iopub.status.busy": "2025-04-17T12:01:30.715492Z",
     "iopub.status.idle": "2025-04-17T12:01:30.720378Z",
     "shell.execute_reply": "2025-04-17T12:01:30.719818Z"
    }
   },
   "outputs": [
    {
     "name": "stdout",
     "output_type": "stream",
     "text": [
      "local: {\n",
      "    \"name\": \"Material.2\",\n",
      "    \"vop_guid\": \"\",\n",
      "    \"geometries\": {\n",
      "        \"geo_paths\": [\n",
      "            \"TheBodyD\",\n",
      "            \"TheBodyE\"\n",
      "        ]\n",
      "    },\n",
      "    \"description\": \"\",\n",
      "    \"metadata\": {},\n",
      "    \"sop_guids\": [],\n",
      "    \"vop\": {\n",
      "        \"name\": \"Material.2.VOP\",\n",
      "        \"library\": {\n",
      "            \"material_file_uri\": \"/app/assets/AIR.material\"\n",
      "        },\n",
      "        \"description\": \"\",\n",
      "        \"metadata\": {}\n",
      "    },\n",
      "    \"sops\": [\n",
      "        {\n",
      "            \"name\": \"Material.2.SOP\",\n",
      "            \"optical_polished\": {},\n",
      "            \"description\": \"\",\n",
      "            \"metadata\": {}\n",
      "        }\n",
      "    ]\n",
      "}\n"
     ]
    }
   ],
   "source": [
    "op2.delete()\n",
    "print(op2)"
   ]
  },
  {
   "cell_type": "markdown",
   "id": "a30b5571",
   "metadata": {},
   "source": [
    "Clean up all Optical properties"
   ]
  },
  {
   "cell_type": "code",
   "execution_count": 18,
   "id": "ff6b0ce0",
   "metadata": {
    "execution": {
     "iopub.execute_input": "2025-04-17T12:01:30.722444Z",
     "iopub.status.busy": "2025-04-17T12:01:30.722054Z",
     "iopub.status.idle": "2025-04-17T12:01:30.730851Z",
     "shell.execute_reply": "2025-04-17T12:01:30.730297Z"
    }
   },
   "outputs": [
    {
     "data": {
      "text/plain": [
       "<ansys.speos.core.opt_prop.OptProp at 0x7fca432d4d30>"
      ]
     },
     "execution_count": 18,
     "metadata": {},
     "output_type": "execute_result"
    }
   ],
   "source": [
    "op1.delete()\n",
    "op3.delete()\n",
    "op4.delete()"
   ]
  }
 ],
 "metadata": {
  "jupytext": {
   "cell_metadata_filter": "-all",
   "main_language": "python",
   "notebook_metadata_filter": "-all",
   "text_representation": {
    "extension": ".py",
    "format_name": "light"
   }
  },
  "language_info": {
   "codemirror_mode": {
    "name": "ipython",
    "version": 3
   },
   "file_extension": ".py",
   "mimetype": "text/x-python",
   "name": "python",
   "nbconvert_exporter": "python",
   "pygments_lexer": "ipython3",
   "version": "3.10.17"
  }
 },
 "nbformat": 4,
 "nbformat_minor": 5
}
