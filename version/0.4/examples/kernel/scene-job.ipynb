{
 "cells": [
  {
   "cell_type": "markdown",
   "id": "07d06f45",
   "metadata": {},
   "source": [
    "# How to use scene and job"
   ]
  },
  {
   "cell_type": "markdown",
   "id": "1b7fc7e7",
   "metadata": {},
   "source": [
    "This tutorial demonstrates how to create a scene, and fill it from a speos file.\n",
    "Then this demonstrates how to create a job from the scene, and run it."
   ]
  },
  {
   "cell_type": "code",
   "execution_count": 1,
   "id": "38fb76c7",
   "metadata": {
    "execution": {
     "iopub.execute_input": "2025-04-17T12:03:27.219056Z",
     "iopub.status.busy": "2025-04-17T12:03:27.218818Z",
     "iopub.status.idle": "2025-04-17T12:03:27.968090Z",
     "shell.execute_reply": "2025-04-17T12:03:27.967410Z"
    }
   },
   "outputs": [],
   "source": [
    "from pathlib import Path\n",
    "import time\n",
    "\n",
    "from ansys.speos.core.kernel.job import ProtoJob\n",
    "from ansys.speos.core.speos import Speos\n",
    "\n",
    "# If using docker container\n",
    "assets_data_path = Path(\"/app\") / \"assets\"\n",
    "# If using local server\n",
    "# assets_data_path = Path().resolve().parent.parent / \"tests\" / \"assets\"\n",
    "# If using a different path\n",
    "# assets_data_path = Path(\"path/to/downloaded/example/assets\")"
   ]
  },
  {
   "cell_type": "markdown",
   "id": "70d2a55e",
   "metadata": {},
   "source": [
    "Create connection with speos rpc server"
   ]
  },
  {
   "cell_type": "code",
   "execution_count": 2,
   "id": "4de53c5a",
   "metadata": {
    "execution": {
     "iopub.execute_input": "2025-04-17T12:03:27.970585Z",
     "iopub.status.busy": "2025-04-17T12:03:27.970104Z",
     "iopub.status.idle": "2025-04-17T12:03:27.976985Z",
     "shell.execute_reply": "2025-04-17T12:03:27.976333Z"
    }
   },
   "outputs": [],
   "source": [
    "speos = Speos(host=\"localhost\", port=50098)"
   ]
  },
  {
   "cell_type": "markdown",
   "id": "d2d713c0",
   "metadata": {},
   "source": [
    "## Scene"
   ]
  },
  {
   "cell_type": "markdown",
   "id": "005ae444",
   "metadata": {},
   "source": [
    "Create an empty scene"
   ]
  },
  {
   "cell_type": "code",
   "execution_count": 3,
   "id": "2a064d7b",
   "metadata": {
    "execution": {
     "iopub.execute_input": "2025-04-17T12:03:27.979260Z",
     "iopub.status.busy": "2025-04-17T12:03:27.978860Z",
     "iopub.status.idle": "2025-04-17T12:03:27.982671Z",
     "shell.execute_reply": "2025-04-17T12:03:27.982151Z"
    }
   },
   "outputs": [],
   "source": [
    "my_scene = speos.client.scenes().create()"
   ]
  },
  {
   "cell_type": "markdown",
   "id": "2362decb",
   "metadata": {},
   "source": [
    "Load a file to fill the scene"
   ]
  },
  {
   "cell_type": "code",
   "execution_count": 4,
   "id": "75d6588a",
   "metadata": {
    "execution": {
     "iopub.execute_input": "2025-04-17T12:03:27.984670Z",
     "iopub.status.busy": "2025-04-17T12:03:27.984364Z",
     "iopub.status.idle": "2025-04-17T12:03:27.993223Z",
     "shell.execute_reply": "2025-04-17T12:03:27.992636Z"
    }
   },
   "outputs": [],
   "source": [
    "speos_file = str(\n",
    "    assets_data_path / \"LG_50M_Colorimetric_short.sv5\" / \"LG_50M_Colorimetric_short.sv5\"\n",
    ")\n",
    "my_scene.load_file(file_uri=speos_file)"
   ]
  },
  {
   "cell_type": "markdown",
   "id": "f1a57786",
   "metadata": {},
   "source": [
    "Print scene data model"
   ]
  },
  {
   "cell_type": "markdown",
   "id": "4eecd3c3",
   "metadata": {},
   "source": [
    "Here it is possible to see that the scene contains two surface sources, one irradiance sensor."
   ]
  },
  {
   "cell_type": "code",
   "execution_count": 5,
   "id": "07e71aaf",
   "metadata": {
    "execution": {
     "iopub.execute_input": "2025-04-17T12:03:27.995201Z",
     "iopub.status.busy": "2025-04-17T12:03:27.995008Z",
     "iopub.status.idle": "2025-04-17T12:03:28.000638Z",
     "shell.execute_reply": "2025-04-17T12:03:28.000078Z"
    }
   },
   "outputs": [
    {
     "name": "stdout",
     "output_type": "stream",
     "text": [
      "ansys.api.speos.scene.v2.Scene\n",
      "{\n",
      "    \"name\": \"LG_50M_Colorimetric_short\",\n",
      "    \"description\": \"From /app/assets/LG_50M_Colorimetric_short.sv5/LG_50M_Colorimetric_short.sv5\",\n",
      "    \"part_guid\": \"ccf7cb1b-73f6-43d3-8445-0c06123d638f\",\n",
      "    \"sources\": [\n",
      "        {\n",
      "            \"name\": \"Dom Source 2 (0) in SOURCE2\",\n",
      "            \"source_guid\": \"f71597e8-9261-41e2-93a1-203bc02a34ec\",\n",
      "            \"surface_properties\": {\n",
      "                \"exitance_constant_properties\": {\n",
      "                    \"geo_paths\": [\n",
      "                        {\n",
      "                            \"geo_path\": \"Solid Body in SOURCE2:2920204960/Face in SOURCE2:222\",\n",
      "                            \"reverse_normal\": false\n",
      "                        }\n",
      "                    ]\n",
      "                }\n",
      "            },\n",
      "            \"description\": \"\",\n",
      "            \"metadata\": {}\n",
      "        },\n",
      "        {\n",
      "            \"name\": \"Surface Source (0) in SOURCE1\",\n",
      "            \"source_guid\": \"eec83682-4129-46e5-934c-548a6dc7d950\",\n",
      "            \"surface_properties\": {\n",
      "                \"exitance_constant_properties\": {\n",
      "                    \"geo_paths\": [\n",
      "                        {\n",
      "                            \"geo_path\": \"Solid Body in SOURCE1:2494956811/Face in SOURCE1:187\",\n",
      "                            \"reverse_normal\": false\n",
      "                        }\n",
      "                    ]\n",
      "                }\n",
      "            },\n",
      "            \"description\": \"\",\n",
      "            \"metadata\": {}\n",
      "        }\n",
      "    ],\n",
      "    \"sensors\": [\n",
      "        {\n",
      "            \"name\": \"Dom Irradiance Sensor (0)\",\n",
      "            \"sensor_guid\": \"37f04cc7-9606-4275-9ebf-df66359930e5\",\n",
      "            \"result_file_name\": \"ASSEMBLY1.DS (0).Dom Irradiance Sensor (0)\",\n",
      "            \"irradiance_properties\": {\n",
      "                \"axis_system\": [\n",
      "                    -42.0,\n",
      "                    2.0,\n",
      "                    5.0,\n",
      "                    0.0,\n",
      "                    1.0,\n",
      "                    0.0,\n",
      "                    0.0,\n",
      "                    0.0,\n",
      "                    -1.0,\n",
      "                    -1.0,\n",
      "                    0.0,\n",
      "                    0.0\n",
      "                ],\n",
      "                \"layer_type_source\": {},\n",
      "                \"integration_direction\": [\n",
      "                    1.0,\n",
      "                    -0.0,\n",
      "                    -0.0\n",
      "                ],\n",
      "                \"ray_file_type\": \"RayFileNone\"\n",
      "            },\n",
      "            \"description\": \"\",\n",
      "            \"metadata\": {}\n",
      "        }\n",
      "    ],\n",
      "    \"simulations\": [\n",
      "        {\n",
      "            \"name\": \"ASSEMBLY1.DS (0)\",\n",
      "            \"simulation_guid\": \"86e32b38-2c44-4f62-bd49-d8fd71f4aa7f\",\n",
      "            \"sensor_paths\": [\n",
      "                \"Dom Irradiance Sensor (0)\"\n",
      "            ],\n",
      "            \"source_paths\": [\n",
      "                \"Dom Source 2 (0) in SOURCE2\",\n",
      "                \"Surface Source (0) in SOURCE1\"\n",
      "            ],\n",
      "            \"description\": \"\",\n",
      "            \"metadata\": {}\n",
      "        }\n",
      "    ],\n",
      "    \"materials\": [\n",
      "        {\n",
      "            \"name\": \"Material.1\",\n",
      "            \"sop_guids\": [\n",
      "                \"9892b9ef-e825-41b5-ad39-b61be9ba3a3b\"\n",
      "            ],\n",
      "            \"geometries\": {\n",
      "                \"geo_paths\": [\n",
      "                    \"Solid Body in GUIDE:1379760262/Face in GUIDE:169\"\n",
      "                ]\n",
      "            },\n",
      "            \"description\": \"\",\n",
      "            \"metadata\": {}\n",
      "        },\n",
      "        {\n",
      "            \"name\": \"Material.2\",\n",
      "            \"vop_guid\": \"b972a956-cfca-4171-bdff-76bd60e349f3\",\n",
      "            \"sop_guids\": [\n",
      "                \"ee4b4748-8c7c-44bf-ad03-e1b329af0903\"\n",
      "            ],\n",
      "            \"geometries\": {\n",
      "                \"geo_paths\": [\n",
      "                    \"Solid Body in GUIDE:1379760262\"\n",
      "                ]\n",
      "            },\n",
      "            \"description\": \"\",\n",
      "            \"metadata\": {}\n",
      "        },\n",
      "        {\n",
      "            \"name\": \"Material.3\",\n",
      "            \"vop_guid\": \"3abdda6d-4d8a-4295-8e8e-3e0adfa7c39f\",\n",
      "            \"sop_guids\": [\n",
      "                \"9892b9ef-e825-41b5-ad39-b61be9ba3a3b\"\n",
      "            ],\n",
      "            \"geometries\": {\n",
      "                \"geo_paths\": [\n",
      "                    \"Solid Body in SOURCE2:2920204960\",\n",
      "                    \"Solid Body in SOURCE1:2494956811\"\n",
      "                ]\n",
      "            },\n",
      "            \"description\": \"\",\n",
      "            \"metadata\": {}\n",
      "        },\n",
      "        {\n",
      "            \"name\": \"Material.4\",\n",
      "            \"vop_guid\": \"e4da2c63-adb4-4dbf-831e-8ecca3f37e81\",\n",
      "            \"description\": \"\",\n",
      "            \"metadata\": {},\n",
      "            \"sop_guids\": []\n",
      "        }\n",
      "    ],\n",
      "    \"metadata\": {},\n",
      "    \"scenes\": []\n",
      "}\n"
     ]
    }
   ],
   "source": [
    "print(my_scene)"
   ]
  },
  {
   "cell_type": "markdown",
   "id": "f7f0d3ae",
   "metadata": {},
   "source": [
    "## Job"
   ]
  },
  {
   "cell_type": "markdown",
   "id": "85bfa78f",
   "metadata": {},
   "source": [
    "Create a job for the first simulation. When loaded from a speos file, there is always only one\n",
    "simulation in the scene."
   ]
  },
  {
   "cell_type": "code",
   "execution_count": 6,
   "id": "9870dd02",
   "metadata": {
    "execution": {
     "iopub.execute_input": "2025-04-17T12:03:28.002514Z",
     "iopub.status.busy": "2025-04-17T12:03:28.002315Z",
     "iopub.status.idle": "2025-04-17T12:03:28.083685Z",
     "shell.execute_reply": "2025-04-17T12:03:28.083025Z"
    }
   },
   "outputs": [],
   "source": [
    "# First create the protobuf message\n",
    "job_message = ProtoJob(name=\"my_job\")\n",
    "job_message.scene_guid = my_scene.key  # The job needs a scene guid\n",
    "job_message.simulation_path = (\n",
    "    my_scene.get().simulations[0].name\n",
    ")  # And needs to know which simulation in the scene is involved.\n",
    "job_message.job_type = ProtoJob.Type.CPU  # Choose type of job, can also be GPU.\n",
    "job_message.direct_mc_simulation_properties.automatic_save_frequency = 1800\n",
    "job_message.direct_mc_simulation_properties.stop_condition_rays_number = (\n",
    "    200000  # Stop condition, here 200000 rays will be sent.\n",
    ")\n",
    "\n",
    "# Create the JobLink\n",
    "job_link = speos.client.jobs().create(message=job_message)"
   ]
  },
  {
   "cell_type": "markdown",
   "id": "91e5ea78",
   "metadata": {},
   "source": [
    "Start the job"
   ]
  },
  {
   "cell_type": "code",
   "execution_count": 7,
   "id": "68b3cf16",
   "metadata": {
    "execution": {
     "iopub.execute_input": "2025-04-17T12:03:28.085959Z",
     "iopub.status.busy": "2025-04-17T12:03:28.085719Z",
     "iopub.status.idle": "2025-04-17T12:03:28.089902Z",
     "shell.execute_reply": "2025-04-17T12:03:28.089239Z"
    }
   },
   "outputs": [],
   "source": [
    "job_link.start()"
   ]
  },
  {
   "cell_type": "markdown",
   "id": "965561db",
   "metadata": {},
   "source": [
    "Verify state of the job"
   ]
  },
  {
   "cell_type": "code",
   "execution_count": 8,
   "id": "eedf013a",
   "metadata": {
    "execution": {
     "iopub.execute_input": "2025-04-17T12:03:28.092254Z",
     "iopub.status.busy": "2025-04-17T12:03:28.091832Z",
     "iopub.status.idle": "2025-04-17T12:03:28.098677Z",
     "shell.execute_reply": "2025-04-17T12:03:28.098085Z"
    }
   },
   "outputs": [
    {
     "data": {
      "text/plain": [
       "state: RUNNING"
      ]
     },
     "execution_count": 8,
     "metadata": {},
     "output_type": "execute_result"
    }
   ],
   "source": [
    "job_link.get_state()"
   ]
  },
  {
   "cell_type": "markdown",
   "id": "ea59c0d1",
   "metadata": {},
   "source": [
    "Wait that the job is finished"
   ]
  },
  {
   "cell_type": "code",
   "execution_count": 9,
   "id": "46729c71",
   "metadata": {
    "execution": {
     "iopub.execute_input": "2025-04-17T12:03:28.100971Z",
     "iopub.status.busy": "2025-04-17T12:03:28.100452Z",
     "iopub.status.idle": "2025-04-17T12:03:34.117052Z",
     "shell.execute_reply": "2025-04-17T12:03:34.116306Z"
    }
   },
   "outputs": [],
   "source": [
    "job_state_res = job_link.get_state()\n",
    "while (\n",
    "    job_state_res.state != ProtoJob.State.FINISHED\n",
    "    and job_state_res.state != ProtoJob.State.STOPPED\n",
    "    and job_state_res.state != ProtoJob.State.IN_ERROR\n",
    "):\n",
    "    time.sleep(2)\n",
    "\n",
    "    job_state_res = job_link.get_state()"
   ]
  },
  {
   "cell_type": "markdown",
   "id": "ae52521c",
   "metadata": {},
   "source": [
    "Retrieve results of the job"
   ]
  },
  {
   "cell_type": "markdown",
   "id": "987970b6",
   "metadata": {},
   "source": [
    "Two results are generated : the result of irradiance sensor:\n",
    "\"ASSEMBLY1.DS (0).Dom Irradiance Sensor (0).xmp\" and the simulation report in html"
   ]
  },
  {
   "cell_type": "code",
   "execution_count": 10,
   "id": "b12eaa02",
   "metadata": {
    "execution": {
     "iopub.execute_input": "2025-04-17T12:03:34.119468Z",
     "iopub.status.busy": "2025-04-17T12:03:34.119111Z",
     "iopub.status.idle": "2025-04-17T12:03:34.127551Z",
     "shell.execute_reply": "2025-04-17T12:03:34.126880Z"
    }
   },
   "outputs": [
    {
     "name": "stdout",
     "output_type": "stream",
     "text": [
      "[upload_response {\n",
      "  info {\n",
      "    uri: \"90697b90-1e67-467e-a23e-36de528e3759\"\n",
      "    file_name: \"ASSEMBLY1.DS (0).Dom Irradiance Sensor (0).xmp\"\n",
      "    file_size: 1437361\n",
      "  }\n",
      "  upload_duration {\n",
      "    nanos: 2263824\n",
      "  }\n",
      "}\n",
      ", upload_response {\n",
      "  info {\n",
      "    uri: \"55fe9812-640e-4756-9d35-b6d6f8ace115\"\n",
      "    file_name: \"ASSEMBLY1.DS (0).html\"\n",
      "    file_size: 508290\n",
      "  }\n",
      "  upload_duration {\n",
      "    nanos: 1420347\n",
      "  }\n",
      "}\n",
      "]\n"
     ]
    }
   ],
   "source": [
    "results = job_link.get_results().results\n",
    "print(results)"
   ]
  },
  {
   "cell_type": "markdown",
   "id": "693182aa",
   "metadata": {},
   "source": [
    "Once no more needed: delete the job"
   ]
  },
  {
   "cell_type": "code",
   "execution_count": 11,
   "id": "6f037591",
   "metadata": {
    "execution": {
     "iopub.execute_input": "2025-04-17T12:03:34.129598Z",
     "iopub.status.busy": "2025-04-17T12:03:34.129170Z",
     "iopub.status.idle": "2025-04-17T12:03:34.138683Z",
     "shell.execute_reply": "2025-04-17T12:03:34.138025Z"
    },
    "lines_to_next_cell": 2
   },
   "outputs": [],
   "source": [
    "job_link.delete()"
   ]
  },
  {
   "cell_type": "markdown",
   "id": "d0cb193c",
   "metadata": {},
   "source": [
    "When loading a speos file into a scene, this creates many objects\n",
    "(source templates, sensor templates, vop template, sop templates).\n",
    "Then at the end of the example, we just clean all databases"
   ]
  },
  {
   "cell_type": "code",
   "execution_count": 12,
   "id": "e8773260",
   "metadata": {
    "execution": {
     "iopub.execute_input": "2025-04-17T12:03:34.140967Z",
     "iopub.status.busy": "2025-04-17T12:03:34.140563Z",
     "iopub.status.idle": "2025-04-17T12:03:34.208004Z",
     "shell.execute_reply": "2025-04-17T12:03:34.207236Z"
    }
   },
   "outputs": [],
   "source": [
    "for item in (\n",
    "    speos.client.scenes().list()\n",
    "    + speos.client.simulation_templates().list()\n",
    "    + speos.client.sensor_templates().list()\n",
    "    + speos.client.source_templates().list()\n",
    "    + speos.client.intensity_templates().list()\n",
    "    + speos.client.spectrums().list()\n",
    "    + speos.client.vop_templates().list()\n",
    "    + speos.client.sop_templates().list()\n",
    "    + speos.client.parts().list()\n",
    "    + speos.client.bodies().list()\n",
    "    + speos.client.faces().list()\n",
    "):\n",
    "    item.delete()"
   ]
  }
 ],
 "metadata": {
  "jupytext": {
   "cell_metadata_filter": "-all",
   "main_language": "python",
   "notebook_metadata_filter": "-all",
   "text_representation": {
    "extension": ".py",
    "format_name": "light"
   }
  },
  "language_info": {
   "codemirror_mode": {
    "name": "ipython",
    "version": 3
   },
   "file_extension": ".py",
   "mimetype": "text/x-python",
   "name": "python",
   "nbconvert_exporter": "python",
   "pygments_lexer": "ipython3",
   "version": "3.10.17"
  }
 },
 "nbformat": 4,
 "nbformat_minor": 5
}
