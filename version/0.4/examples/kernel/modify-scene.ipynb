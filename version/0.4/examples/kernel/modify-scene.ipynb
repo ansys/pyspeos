{
 "cells": [
  {
   "cell_type": "markdown",
   "id": "f1b944f4",
   "metadata": {},
   "source": [
    "# How to modify scene elements"
   ]
  },
  {
   "cell_type": "markdown",
   "id": "6c00887f",
   "metadata": {},
   "source": [
    "This tutorial demonstrates how to modify a scene. For example how to modify an existing sensor,\n",
    "how to add a new sensor.\n",
    "The logic is the same to modify sources, simulations, materials."
   ]
  },
  {
   "cell_type": "markdown",
   "id": "a64d7b18",
   "metadata": {},
   "source": [
    "## Template vs Instance"
   ]
  },
  {
   "cell_type": "markdown",
   "id": "8e948d31",
   "metadata": {},
   "source": [
    "When applicable, the speos objects are separated in two different notions: template and instance.\n",
    "The template represents the feature with its inherent characteristics.\n",
    "The instance represents the completion of a template by adding properties such as spatial\n",
    "position, link to geometry, etc."
   ]
  },
  {
   "cell_type": "markdown",
   "id": "5b33e4e1",
   "metadata": {},
   "source": [
    "### Template"
   ]
  },
  {
   "cell_type": "markdown",
   "id": "b2e3dad5",
   "metadata": {},
   "source": [
    "The template objects are handled by a manager.\n",
    "It was explained how to interact with them in the kernel-object-link example\n",
    "(\"How to use an ObjectLink\"). The interesting thing about the template notion is that the same\n",
    "template can be used several times with different properties."
   ]
  },
  {
   "cell_type": "markdown",
   "id": "f1afff52",
   "metadata": {},
   "source": [
    "### Instance"
   ]
  },
  {
   "cell_type": "markdown",
   "id": "0ceecdb1",
   "metadata": {},
   "source": [
    "The template objects are instantiated in the Scene object, with properties needed to place them at\n",
    "the wanted position, or attached to the wanted geometry.\n",
    "The Scene object will gather all features that you need to run a job (compute a simulation)."
   ]
  },
  {
   "cell_type": "code",
   "execution_count": 1,
   "id": "8d0b94f0",
   "metadata": {
    "execution": {
     "iopub.execute_input": "2025-04-17T12:03:21.216897Z",
     "iopub.status.busy": "2025-04-17T12:03:21.216699Z",
     "iopub.status.idle": "2025-04-17T12:03:21.966159Z",
     "shell.execute_reply": "2025-04-17T12:03:21.965488Z"
    }
   },
   "outputs": [],
   "source": [
    "from pathlib import Path\n",
    "\n",
    "from ansys.api.speos.sensor.v1 import camera_sensor_pb2\n",
    "from ansys.speos.core import Speos\n",
    "from ansys.speos.core.kernel.scene import ProtoScene\n",
    "from ansys.speos.core.kernel.sensor_template import ProtoSensorTemplate\n",
    "\n",
    "# If using docker container\n",
    "assets_data_path = Path(\"/app\") / \"assets\"\n",
    "# If using local server\n",
    "# assets_data_path = Path().resolve().parent.parent / \"tests\" / \"assets\"\n",
    "# If using a different path\n",
    "# assets_data_path = Path(\"path/to/downloaded/example/assets\")"
   ]
  },
  {
   "cell_type": "markdown",
   "id": "685cb637",
   "metadata": {},
   "source": [
    "Create connection with speos rpc server"
   ]
  },
  {
   "cell_type": "code",
   "execution_count": 2,
   "id": "84ca6f31",
   "metadata": {
    "execution": {
     "iopub.execute_input": "2025-04-17T12:03:21.968491Z",
     "iopub.status.busy": "2025-04-17T12:03:21.968222Z",
     "iopub.status.idle": "2025-04-17T12:03:21.974781Z",
     "shell.execute_reply": "2025-04-17T12:03:21.974261Z"
    }
   },
   "outputs": [],
   "source": [
    "speos = Speos(host=\"localhost\", port=50098)"
   ]
  },
  {
   "cell_type": "markdown",
   "id": "4a7520a4",
   "metadata": {},
   "source": [
    "Create an empty scene and load speos file to fill it."
   ]
  },
  {
   "cell_type": "code",
   "execution_count": 3,
   "id": "8da49204",
   "metadata": {
    "execution": {
     "iopub.execute_input": "2025-04-17T12:03:21.976607Z",
     "iopub.status.busy": "2025-04-17T12:03:21.976409Z",
     "iopub.status.idle": "2025-04-17T12:03:21.992315Z",
     "shell.execute_reply": "2025-04-17T12:03:21.991633Z"
    }
   },
   "outputs": [],
   "source": [
    "my_scene = speos.client.scenes().create()\n",
    "\n",
    "speos_file = str(assets_data_path / \"Inverse_SeveralSensors.speos\" / \"Inverse_SeveralSensors.speos\")\n",
    "my_scene.load_file(file_uri=speos_file)"
   ]
  },
  {
   "cell_type": "markdown",
   "id": "8cacbe52",
   "metadata": {},
   "source": [
    "## Print data models"
   ]
  },
  {
   "cell_type": "markdown",
   "id": "4624097d",
   "metadata": {},
   "source": [
    "### Whole scene"
   ]
  },
  {
   "cell_type": "code",
   "execution_count": 4,
   "id": "949ac353",
   "metadata": {
    "execution": {
     "iopub.execute_input": "2025-04-17T12:03:21.994293Z",
     "iopub.status.busy": "2025-04-17T12:03:21.994092Z",
     "iopub.status.idle": "2025-04-17T12:03:21.999589Z",
     "shell.execute_reply": "2025-04-17T12:03:21.999069Z"
    }
   },
   "outputs": [
    {
     "name": "stdout",
     "output_type": "stream",
     "text": [
      "ansys.api.speos.scene.v2.Scene\n",
      "{\n",
      "    \"name\": \"Inverse_SeveralSensors\",\n",
      "    \"description\": \"From /app/assets/Inverse_SeveralSensors.speos/Inverse_SeveralSensors.speos\",\n",
      "    \"part_guid\": \"0b37ce74-dce2-4b63-a2f7-945da95c6273\",\n",
      "    \"sources\": [\n",
      "        {\n",
      "            \"name\": \"Surface.1:1\",\n",
      "            \"source_guid\": \"36f31803-e84c-4026-bbf5-a4b882b2f8d5\",\n",
      "            \"surface_properties\": {\n",
      "                \"exitance_constant_properties\": {\n",
      "                    \"geo_paths\": [\n",
      "                        {\n",
      "                            \"geo_path\": \"Corps:2408912477/face.1:3892963602\",\n",
      "                            \"reverse_normal\": false\n",
      "                        }\n",
      "                    ]\n",
      "                }\n",
      "            },\n",
      "            \"description\": \"\",\n",
      "            \"metadata\": {}\n",
      "        },\n",
      "        {\n",
      "            \"name\": \"Surface.2:1\",\n",
      "            \"source_guid\": \"37bb8544-1f13-4f04-b79f-ee44861a0058\",\n",
      "            \"surface_properties\": {\n",
      "                \"exitance_constant_properties\": {\n",
      "                    \"geo_paths\": [\n",
      "                        {\n",
      "                            \"geo_path\": \"Corps:1976534910/face.1:889032133\",\n",
      "                            \"reverse_normal\": false\n",
      "                        }\n",
      "                    ]\n",
      "                }\n",
      "            },\n",
      "            \"description\": \"\",\n",
      "            \"metadata\": {}\n",
      "        }\n",
      "    ],\n",
      "    \"sensors\": [\n",
      "        {\n",
      "            \"name\": \"Camera.1:21\",\n",
      "            \"sensor_guid\": \"7b950285-5675-48f8-a6ff-8ba9983b6628\",\n",
      "            \"result_file_name\": \"Inverse.1.Camera.1\",\n",
      "            \"camera_properties\": {\n",
      "                \"axis_system\": [\n",
      "                    17.0,\n",
      "                    10.050000000000002,\n",
      "                    14.499999999999998,\n",
      "                    -0.0,\n",
      "                    -0.0,\n",
      "                    -1.0,\n",
      "                    0.0,\n",
      "                    1.0,\n",
      "                    0.0,\n",
      "                    1.0,\n",
      "                    0.0,\n",
      "                    0.0\n",
      "                ],\n",
      "                \"layer_type_source\": {},\n",
      "                \"trajectory_file_uri\": \"\"\n",
      "            },\n",
      "            \"description\": \"\",\n",
      "            \"metadata\": {}\n",
      "        },\n",
      "        {\n",
      "            \"name\": \"Irradiance.1:28\",\n",
      "            \"sensor_guid\": \"f38956b4-fa24-4c89-8b94-c1b8e6ecd25e\",\n",
      "            \"result_file_name\": \"Inverse.1.Irradiance.1\",\n",
      "            \"irradiance_properties\": {\n",
      "                \"axis_system\": [\n",
      "                    0.0,\n",
      "                    0.0,\n",
      "                    0.0,\n",
      "                    0.0,\n",
      "                    0.0,\n",
      "                    1.0,\n",
      "                    0.0,\n",
      "                    1.0,\n",
      "                    -0.0,\n",
      "                    -1.0,\n",
      "                    0.0,\n",
      "                    0.0\n",
      "                ],\n",
      "                \"layer_type_sequence\": {\n",
      "                    \"maximum_nb_of_sequence\": 10,\n",
      "                    \"define_sequence_per\": \"Faces\"\n",
      "                },\n",
      "                \"ray_file_type\": \"RayFileNone\",\n",
      "                \"integration_direction\": []\n",
      "            },\n",
      "            \"description\": \"\",\n",
      "            \"metadata\": {}\n",
      "        }\n",
      "    ],\n",
      "    \"simulations\": [\n",
      "        {\n",
      "            \"name\": \"Inverse.1\",\n",
      "            \"simulation_guid\": \"9ac0e77e-9a34-4374-9454-646ead7f1f6d\",\n",
      "            \"sensor_paths\": [\n",
      "                \"Camera.1:21\",\n",
      "                \"Irradiance.1:28\"\n",
      "            ],\n",
      "            \"source_paths\": [\n",
      "                \"Surface.1:1\",\n",
      "                \"Surface.2:1\"\n",
      "            ],\n",
      "            \"description\": \"\",\n",
      "            \"metadata\": {}\n",
      "        }\n",
      "    ],\n",
      "    \"materials\": [\n",
      "        {\n",
      "            \"name\": \"Material.1\",\n",
      "            \"vop_guid\": \"cf195f0d-5979-4272-9eda-ed6afd7b4ee5\",\n",
      "            \"sop_guids\": [\n",
      "                \"955ff747-7692-4c80-a636-cf74acd1e17a\"\n",
      "            ],\n",
      "            \"geometries\": {\n",
      "                \"geo_paths\": [\n",
      "                    \"Corps:2408912477\",\n",
      "                    \"Corps:1976534910\"\n",
      "                ]\n",
      "            },\n",
      "            \"description\": \"\",\n",
      "            \"metadata\": {}\n",
      "        },\n",
      "        {\n",
      "            \"name\": \"Material.2\",\n",
      "            \"vop_guid\": \"cd7dc913-4dd0-4a50-97ee-49813efe6cb0\",\n",
      "            \"description\": \"\",\n",
      "            \"metadata\": {},\n",
      "            \"sop_guids\": []\n",
      "        }\n",
      "    ],\n",
      "    \"metadata\": {},\n",
      "    \"scenes\": []\n",
      "}\n"
     ]
    }
   ],
   "source": [
    "print(my_scene)"
   ]
  },
  {
   "cell_type": "markdown",
   "id": "1fdec8fe",
   "metadata": {},
   "source": [
    "### Sensors (instance + template) in this scene"
   ]
  },
  {
   "cell_type": "code",
   "execution_count": 5,
   "id": "c22754ea",
   "metadata": {
    "execution": {
     "iopub.execute_input": "2025-04-17T12:03:22.001383Z",
     "iopub.status.busy": "2025-04-17T12:03:22.001187Z",
     "iopub.status.idle": "2025-04-17T12:03:22.011652Z",
     "shell.execute_reply": "2025-04-17T12:03:22.011099Z"
    }
   },
   "outputs": [
    {
     "name": "stdout",
     "output_type": "stream",
     "text": [
      "ansys.api.speos.scene.v2.Scene.SensorInstance\n",
      "{\n",
      "    \"name\": \"Camera.1:21\",\n",
      "    \"sensor_guid\": \"7b950285-5675-48f8-a6ff-8ba9983b6628\",\n",
      "    \"result_file_name\": \"Inverse.1.Camera.1\",\n",
      "    \"camera_properties\": {\n",
      "        \"axis_system\": [\n",
      "            17.0,\n",
      "            10.050000000000002,\n",
      "            14.499999999999998,\n",
      "            -0.0,\n",
      "            -0.0,\n",
      "            -1.0,\n",
      "            0.0,\n",
      "            1.0,\n",
      "            0.0,\n",
      "            1.0,\n",
      "            0.0,\n",
      "            0.0\n",
      "        ],\n",
      "        \"layer_type_source\": {},\n",
      "        \"trajectory_file_uri\": \"\"\n",
      "    },\n",
      "    \"description\": \"\",\n",
      "    \"metadata\": {}\n",
      "}\n",
      "ansys.api.speos.sensor.v1.SensorTemplate\n",
      "{\n",
      "    \"camera_sensor_template\": {\n",
      "        \"sensor_mode_photometric\": {\n",
      "            \"transmittance_file_uri\": \"/app/assets/Inverse_SeveralSensors.speos/CameraTransmittance_7906-9f99-c97d-838a..spectrum\",\n",
      "            \"gamma_correction\": 2.2,\n",
      "            \"color_mode_color\": {\n",
      "                \"red_spectrum_file_uri\": \"/app/assets/Inverse_SeveralSensors.speos/CameraSensitivityRed_adf4-0b27-cefc-fa35..spectrum\",\n",
      "                \"green_spectrum_file_uri\": \"/app/assets/Inverse_SeveralSensors.speos/CameraSensitivityGreen_7c86-e7df-6de8-cb15..spectrum\",\n",
      "                \"blue_spectrum_file_uri\": \"/app/assets/Inverse_SeveralSensors.speos/CameraSensitivityBlue_8072-c4fe-d903-ca3f..spectrum\",\n",
      "                \"balance_mode_none\": {}\n",
      "            },\n",
      "            \"wavelengths_range\": {\n",
      "                \"w_start\": 400.0,\n",
      "                \"w_end\": 700.0,\n",
      "                \"w_sampling\": 13\n",
      "            },\n",
      "            \"acquisition_integration\": 0.0,\n",
      "            \"acquisition_lag_time\": 0.0,\n",
      "            \"png_bits\": \"PNG_08\"\n",
      "        },\n",
      "        \"focal_length\": 4.0,\n",
      "        \"imager_distance\": 10.0,\n",
      "        \"f_number\": 30.0,\n",
      "        \"distorsion_file_uri\": \"/app/assets/Inverse_SeveralSensors.speos/CameraDistortion.OPTDistortion\",\n",
      "        \"horz_pixel\": 640,\n",
      "        \"vert_pixel\": 480,\n",
      "        \"width\": 5.0,\n",
      "        \"height\": 5.0,\n",
      "        \"distortion_file_uri\": \"/app/assets/Inverse_SeveralSensors.speos/CameraDistortion.OPTDistortion\"\n",
      "    },\n",
      "    \"name\": \"Camera.1:21\",\n",
      "    \"description\": \"\",\n",
      "    \"metadata\": {}\n",
      "}\n",
      "\n",
      "\n",
      "ansys.api.speos.scene.v2.Scene.SensorInstance\n",
      "{\n",
      "    \"name\": \"Irradiance.1:28\",\n",
      "    \"sensor_guid\": \"f38956b4-fa24-4c89-8b94-c1b8e6ecd25e\",\n",
      "    \"result_file_name\": \"Inverse.1.Irradiance.1\",\n",
      "    \"irradiance_properties\": {\n",
      "        \"axis_system\": [\n",
      "            0.0,\n",
      "            0.0,\n",
      "            0.0,\n",
      "            0.0,\n",
      "            0.0,\n",
      "            1.0,\n",
      "            0.0,\n",
      "            1.0,\n",
      "            -0.0,\n",
      "            -1.0,\n",
      "            0.0,\n",
      "            0.0\n",
      "        ],\n",
      "        \"layer_type_sequence\": {\n",
      "            \"maximum_nb_of_sequence\": 10,\n",
      "            \"define_sequence_per\": \"Faces\"\n",
      "        },\n",
      "        \"ray_file_type\": \"RayFileNone\",\n",
      "        \"integration_direction\": []\n",
      "    },\n",
      "    \"description\": \"\",\n",
      "    \"metadata\": {}\n",
      "}\n",
      "ansys.api.speos.sensor.v1.SensorTemplate\n",
      "{\n",
      "    \"irradiance_sensor_template\": {\n",
      "        \"sensor_type_colorimetric\": {\n",
      "            \"wavelengths_range\": {\n",
      "                \"w_start\": 400.0,\n",
      "                \"w_end\": 700.0,\n",
      "                \"w_sampling\": 13\n",
      "            }\n",
      "        },\n",
      "        \"illuminance_type_planar\": {},\n",
      "        \"dimensions\": {\n",
      "            \"x_start\": -50.0,\n",
      "            \"x_end\": 50.0,\n",
      "            \"x_sampling\": 100,\n",
      "            \"y_start\": -50.0,\n",
      "            \"y_end\": 50.0,\n",
      "            \"y_sampling\": 100\n",
      "        }\n",
      "    },\n",
      "    \"name\": \"Irradiance.1:28\",\n",
      "    \"description\": \"\",\n",
      "    \"metadata\": {}\n",
      "}\n",
      "\n",
      "\n"
     ]
    }
   ],
   "source": [
    "for sensor_i in my_scene.get().sensors:\n",
    "    print(sensor_i)  # Print instance data model\n",
    "    print(speos.client[sensor_i.sensor_guid])  # Print template data model\n",
    "    print(\"\\n\")"
   ]
  },
  {
   "cell_type": "markdown",
   "id": "85a1137a",
   "metadata": {},
   "source": [
    "### Camera sensors in this scene"
   ]
  },
  {
   "cell_type": "code",
   "execution_count": 6,
   "id": "7b3e81cd",
   "metadata": {
    "execution": {
     "iopub.execute_input": "2025-04-17T12:03:22.013839Z",
     "iopub.status.busy": "2025-04-17T12:03:22.013453Z",
     "iopub.status.idle": "2025-04-17T12:03:22.020249Z",
     "shell.execute_reply": "2025-04-17T12:03:22.019701Z"
    }
   },
   "outputs": [
    {
     "name": "stdout",
     "output_type": "stream",
     "text": [
      "ansys.api.speos.scene.v2.Scene.SensorInstance\n",
      "{\n",
      "    \"name\": \"Camera.1:21\",\n",
      "    \"sensor_guid\": \"7b950285-5675-48f8-a6ff-8ba9983b6628\",\n",
      "    \"result_file_name\": \"Inverse.1.Camera.1\",\n",
      "    \"camera_properties\": {\n",
      "        \"axis_system\": [\n",
      "            17.0,\n",
      "            10.050000000000002,\n",
      "            14.499999999999998,\n",
      "            -0.0,\n",
      "            -0.0,\n",
      "            -1.0,\n",
      "            0.0,\n",
      "            1.0,\n",
      "            0.0,\n",
      "            1.0,\n",
      "            0.0,\n",
      "            0.0\n",
      "        ],\n",
      "        \"layer_type_source\": {},\n",
      "        \"trajectory_file_uri\": \"\"\n",
      "    },\n",
      "    \"description\": \"\",\n",
      "    \"metadata\": {}\n",
      "}\n",
      "ansys.api.speos.sensor.v1.SensorTemplate\n",
      "{\n",
      "    \"camera_sensor_template\": {\n",
      "        \"sensor_mode_photometric\": {\n",
      "            \"transmittance_file_uri\": \"/app/assets/Inverse_SeveralSensors.speos/CameraTransmittance_7906-9f99-c97d-838a..spectrum\",\n",
      "            \"gamma_correction\": 2.2,\n",
      "            \"color_mode_color\": {\n",
      "                \"red_spectrum_file_uri\": \"/app/assets/Inverse_SeveralSensors.speos/CameraSensitivityRed_adf4-0b27-cefc-fa35..spectrum\",\n",
      "                \"green_spectrum_file_uri\": \"/app/assets/Inverse_SeveralSensors.speos/CameraSensitivityGreen_7c86-e7df-6de8-cb15..spectrum\",\n",
      "                \"blue_spectrum_file_uri\": \"/app/assets/Inverse_SeveralSensors.speos/CameraSensitivityBlue_8072-c4fe-d903-ca3f..spectrum\",\n",
      "                \"balance_mode_none\": {}\n",
      "            },\n",
      "            \"wavelengths_range\": {\n",
      "                \"w_start\": 400.0,\n",
      "                \"w_end\": 700.0,\n",
      "                \"w_sampling\": 13\n",
      "            },\n",
      "            \"acquisition_integration\": 0.0,\n",
      "            \"acquisition_lag_time\": 0.0,\n",
      "            \"png_bits\": \"PNG_08\"\n",
      "        },\n",
      "        \"focal_length\": 4.0,\n",
      "        \"imager_distance\": 10.0,\n",
      "        \"f_number\": 30.0,\n",
      "        \"distorsion_file_uri\": \"/app/assets/Inverse_SeveralSensors.speos/CameraDistortion.OPTDistortion\",\n",
      "        \"horz_pixel\": 640,\n",
      "        \"vert_pixel\": 480,\n",
      "        \"width\": 5.0,\n",
      "        \"height\": 5.0,\n",
      "        \"distortion_file_uri\": \"/app/assets/Inverse_SeveralSensors.speos/CameraDistortion.OPTDistortion\"\n",
      "    },\n",
      "    \"name\": \"Camera.1:21\",\n",
      "    \"description\": \"\",\n",
      "    \"metadata\": {}\n",
      "}\n",
      "\n",
      "\n"
     ]
    }
   ],
   "source": [
    "for sensor_i in my_scene.get().sensors:\n",
    "    if sensor_i.HasField(\"camera_properties\"):\n",
    "        print(sensor_i)  # Print instance data model\n",
    "        print(speos.client[sensor_i.sensor_guid])  # Print template data model\n",
    "        print(\"\\n\")"
   ]
  },
  {
   "cell_type": "markdown",
   "id": "894371db",
   "metadata": {},
   "source": [
    "## Modify existing data"
   ]
  },
  {
   "cell_type": "markdown",
   "id": "a4263a43",
   "metadata": {},
   "source": [
    "### Modify a camera instance"
   ]
  },
  {
   "cell_type": "code",
   "execution_count": 7,
   "id": "ec49abe0",
   "metadata": {
    "execution": {
     "iopub.execute_input": "2025-04-17T12:03:22.022276Z",
     "iopub.status.busy": "2025-04-17T12:03:22.021866Z",
     "iopub.status.idle": "2025-04-17T12:03:22.108472Z",
     "shell.execute_reply": "2025-04-17T12:03:22.107789Z"
    }
   },
   "outputs": [
    {
     "name": "stdout",
     "output_type": "stream",
     "text": [
      "ansys.api.speos.scene.v2.Scene.SensorInstance\n",
      "{\n",
      "    \"name\": \"Camera.1:21\",\n",
      "    \"sensor_guid\": \"7b950285-5675-48f8-a6ff-8ba9983b6628\",\n",
      "    \"result_file_name\": \"Inverse.1.Camera.1\",\n",
      "    \"camera_properties\": {\n",
      "        \"axis_system\": [\n",
      "            17.0,\n",
      "            10.0,\n",
      "            15.0,\n",
      "            0.0,\n",
      "            0.0,\n",
      "            -1.0,\n",
      "            0.0,\n",
      "            1.0,\n",
      "            0.0,\n",
      "            1.0,\n",
      "            0.0,\n",
      "            0.0\n",
      "        ],\n",
      "        \"layer_type_none\": {},\n",
      "        \"trajectory_file_uri\": \"\"\n",
      "    },\n",
      "    \"description\": \"\",\n",
      "    \"metadata\": {}\n",
      "}\n"
     ]
    }
   ],
   "source": [
    "my_scene_data = my_scene.get()  # get() = retrieve datamodel corresponding to my_scene\n",
    "camera_i_0 = my_scene_data.sensors[\n",
    "    0\n",
    "]  # retrieve the specific part of the message corresponding to the first sensor\n",
    "assert camera_i_0.HasField(\"camera_properties\")  # verify that it is a camera\n",
    "\n",
    "# Modification on protobuf message : axis system + layer type\n",
    "camera_i_0.camera_properties.ClearField(\"axis_system\")\n",
    "camera_i_0.camera_properties.axis_system.extend(\n",
    "    [17.0, 10.0, 15.0] + [0.0, 0.0, -1.0] + [0.0, 1.0, 0.0] + [1.0, 0.0, 0.0]\n",
    ")  # Origin + Xvector + Yvector + Zvector\n",
    "camera_i_0.camera_properties.layer_type_none.SetInParent()\n",
    "\n",
    "# Until now, we only modified the data locally. We need to push the changes to the server:\n",
    "my_scene.set(my_scene_data)  # set = Update using modified datamodel\n",
    "\n",
    "print(my_scene.get().sensors[0])  # Do another get() to check new value on database"
   ]
  },
  {
   "cell_type": "markdown",
   "id": "14bcf7ae",
   "metadata": {},
   "source": [
    "### Modify a camera template"
   ]
  },
  {
   "cell_type": "code",
   "execution_count": 8,
   "id": "8a4d0d15",
   "metadata": {
    "execution": {
     "iopub.execute_input": "2025-04-17T12:03:22.110717Z",
     "iopub.status.busy": "2025-04-17T12:03:22.110327Z",
     "iopub.status.idle": "2025-04-17T12:03:22.118431Z",
     "shell.execute_reply": "2025-04-17T12:03:22.117900Z"
    }
   },
   "outputs": [
    {
     "name": "stdout",
     "output_type": "stream",
     "text": [
      "ansys.api.speos.sensor.v1.SensorTemplate\n",
      "{\n",
      "    \"camera_sensor_template\": {\n",
      "        \"sensor_mode_photometric\": {\n",
      "            \"transmittance_file_uri\": \"/app/assets/Inverse_SeveralSensors.speos/CameraTransmittance_7906-9f99-c97d-838a..spectrum\",\n",
      "            \"gamma_correction\": 2.2,\n",
      "            \"color_mode_color\": {\n",
      "                \"red_spectrum_file_uri\": \"/app/assets/Inverse_SeveralSensors.speos/CameraSensitivityRed_adf4-0b27-cefc-fa35..spectrum\",\n",
      "                \"green_spectrum_file_uri\": \"/app/assets/Inverse_SeveralSensors.speos/CameraSensitivityGreen_7c86-e7df-6de8-cb15..spectrum\",\n",
      "                \"blue_spectrum_file_uri\": \"/app/assets/Inverse_SeveralSensors.speos/CameraSensitivityBlue_8072-c4fe-d903-ca3f..spectrum\",\n",
      "                \"balance_mode_none\": {}\n",
      "            },\n",
      "            \"wavelengths_range\": {\n",
      "                \"w_start\": 400.0,\n",
      "                \"w_end\": 700.0,\n",
      "                \"w_sampling\": 13\n",
      "            },\n",
      "            \"acquisition_integration\": 0.0,\n",
      "            \"acquisition_lag_time\": 0.0,\n",
      "            \"png_bits\": \"PNG_08\"\n",
      "        },\n",
      "        \"focal_length\": 4.5,\n",
      "        \"imager_distance\": 10.0,\n",
      "        \"f_number\": 30.0,\n",
      "        \"distorsion_file_uri\": \"/app/assets/Inverse_SeveralSensors.speos/CameraDistortion.OPTDistortion\",\n",
      "        \"horz_pixel\": 640,\n",
      "        \"vert_pixel\": 480,\n",
      "        \"width\": 5.0,\n",
      "        \"height\": 5.0,\n",
      "        \"distortion_file_uri\": \"/app/assets/CameraInputFiles/CameraDistortion_150deg.OPTDistortion\"\n",
      "    },\n",
      "    \"name\": \"Camera.1:21\",\n",
      "    \"description\": \"\",\n",
      "    \"metadata\": {}\n",
      "}\n"
     ]
    }
   ],
   "source": [
    "new_distortion_file = str(\n",
    "    assets_data_path / \"CameraInputFiles\" / \"CameraDistortion_150deg.OPTDistortion\"\n",
    ")\n",
    "\n",
    "# Retrieve SensorTemplateLink corresponding to camera_i_0.sensor_guid\n",
    "camera_t_0 = speos.client[camera_i_0.sensor_guid]\n",
    "\n",
    "# get() = retrieve datamodel corresponding to camera_t_0 from database\n",
    "camera_t_0_data = camera_t_0.get()\n",
    "\n",
    "# Modification on protobuf message : distortion_file_uri + focal_length\n",
    "assert camera_t_0_data.HasField(\"camera_sensor_template\")\n",
    "camera_t_0_data.camera_sensor_template.distortion_file_uri = new_distortion_file\n",
    "camera_t_0_data.camera_sensor_template.focal_length = 4.5\n",
    "\n",
    "# set = Update using modified datamodel (push modified data to the server)\n",
    "camera_t_0.set(camera_t_0_data)\n",
    "\n",
    "print(camera_t_0)  # Print ObjectLink to see its datamodel in database"
   ]
  },
  {
   "cell_type": "markdown",
   "id": "f107892d",
   "metadata": {},
   "source": [
    "## Add new data (like a new sensor)"
   ]
  },
  {
   "cell_type": "markdown",
   "id": "84c69d1b",
   "metadata": {},
   "source": [
    "### Create a camera template"
   ]
  },
  {
   "cell_type": "code",
   "execution_count": 9,
   "id": "28667af9",
   "metadata": {
    "execution": {
     "iopub.execute_input": "2025-04-17T12:03:22.120314Z",
     "iopub.status.busy": "2025-04-17T12:03:22.120119Z",
     "iopub.status.idle": "2025-04-17T12:03:22.127789Z",
     "shell.execute_reply": "2025-04-17T12:03:22.127167Z"
    }
   },
   "outputs": [
    {
     "name": "stdout",
     "output_type": "stream",
     "text": [
      "ansys.api.speos.sensor.v1.SensorTemplate\n",
      "{\n",
      "    \"camera_sensor_template\": {\n",
      "        \"sensor_mode_photometric\": {\n",
      "            \"acquisition_integration\": 0.01,\n",
      "            \"transmittance_file_uri\": \"/app/assets/CameraInputFiles/CameraTransmittance.spectrum\",\n",
      "            \"gamma_correction\": 2.2,\n",
      "            \"png_bits\": \"PNG_16\",\n",
      "            \"color_mode_color\": {\n",
      "                \"red_spectrum_file_uri\": \"/app/assets/CameraInputFiles/CameraSensitivityRed.spectrum\",\n",
      "                \"green_spectrum_file_uri\": \"/app/assets/CameraInputFiles/CameraSensitivityGreen.spectrum\",\n",
      "                \"blue_spectrum_file_uri\": \"/app/assets/CameraInputFiles/CameraSensitivityBlue.spectrum\",\n",
      "                \"balance_mode_none\": {}\n",
      "            },\n",
      "            \"wavelengths_range\": {\n",
      "                \"w_start\": 400.0,\n",
      "                \"w_end\": 700.0,\n",
      "                \"w_sampling\": 13\n",
      "            },\n",
      "            \"acquisition_lag_time\": 0.0\n",
      "        },\n",
      "        \"focal_length\": 5.0,\n",
      "        \"imager_distance\": 10.0,\n",
      "        \"f_number\": 20.0,\n",
      "        \"horz_pixel\": 640,\n",
      "        \"vert_pixel\": 480,\n",
      "        \"width\": 5.0,\n",
      "        \"height\": 5.0,\n",
      "        \"distortion_file_uri\": \"/app/assets/CameraInputFiles/CameraDistortion_130deg.OPTDistortion\",\n",
      "        \"distorsion_file_uri\": \"\"\n",
      "    },\n",
      "    \"name\": \"CameraFromScratch\",\n",
      "    \"description\": \"\",\n",
      "    \"metadata\": {}\n",
      "}\n"
     ]
    }
   ],
   "source": [
    "sensor_t_db = speos.client.sensor_templates()  # Retrieve access to sensor templates db\n",
    "\n",
    "# Create protobuf message SensorTemplate\n",
    "sensor_t_data = ProtoSensorTemplate(name=\"CameraFromScratch\")\n",
    "photometric = sensor_t_data.camera_sensor_template.sensor_mode_photometric\n",
    "photometric.acquisition_integration = 0.01\n",
    "photometric.acquisition_lag_time = 0\n",
    "photometric.transmittance_file_uri = str(\n",
    "    assets_data_path / \"CameraInputFiles\" / \"CameraTransmittance.spectrum\"\n",
    ")\n",
    "photometric.gamma_correction = 2.2\n",
    "photometric.png_bits = camera_sensor_pb2.EnumSensorCameraPNGBits.PNG_16\n",
    "photometric.color_mode_color.red_spectrum_file_uri = str(\n",
    "    assets_data_path / \"CameraInputFiles\" / \"CameraSensitivityRed.spectrum\"\n",
    ")\n",
    "photometric.color_mode_color.green_spectrum_file_uri = str(\n",
    "    assets_data_path / \"CameraInputFiles\" / \"CameraSensitivityGreen.spectrum\"\n",
    ")\n",
    "photometric.color_mode_color.blue_spectrum_file_uri = str(\n",
    "    assets_data_path / \"CameraInputFiles\" / \"CameraSensitivityBlue.spectrum\"\n",
    ")\n",
    "photometric.color_mode_color.balance_mode_none.SetInParent()\n",
    "photometric.wavelengths_range.w_start = 400\n",
    "photometric.wavelengths_range.w_end = 700\n",
    "photometric.wavelengths_range.w_sampling = 13\n",
    "sensor_t_data.camera_sensor_template.focal_length = 5\n",
    "sensor_t_data.camera_sensor_template.imager_distance = 10\n",
    "sensor_t_data.camera_sensor_template.f_number = 20\n",
    "sensor_t_data.camera_sensor_template.distortion_file_uri = str(\n",
    "    assets_data_path / \"CameraInputFiles\" / \"CameraDistortion_130deg.OPTDistortion\"\n",
    ")\n",
    "sensor_t_data.camera_sensor_template.horz_pixel = 640\n",
    "sensor_t_data.camera_sensor_template.vert_pixel = 480\n",
    "sensor_t_data.camera_sensor_template.width = 5\n",
    "sensor_t_data.camera_sensor_template.height = 5\n",
    "\n",
    "# Store it in db and retrieve SensorTemplateLink\n",
    "sensor_t_new = sensor_t_db.create(message=sensor_t_data)\n",
    "print(sensor_t_new)"
   ]
  },
  {
   "cell_type": "markdown",
   "id": "201512b5",
   "metadata": {},
   "source": [
    "### Create a camera instance"
   ]
  },
  {
   "cell_type": "code",
   "execution_count": 10,
   "id": "590ed890",
   "metadata": {
    "execution": {
     "iopub.execute_input": "2025-04-17T12:03:22.129685Z",
     "iopub.status.busy": "2025-04-17T12:03:22.129487Z",
     "iopub.status.idle": "2025-04-17T12:03:22.133516Z",
     "shell.execute_reply": "2025-04-17T12:03:22.133010Z"
    }
   },
   "outputs": [],
   "source": [
    "camera_i_2 = ProtoScene.SensorInstance(name=sensor_t_new.get().name + \".1\")\n",
    "# An instance has to reference a template - here we use the SensorTemplateLink's key that we got\n",
    "camera_i_2.sensor_guid = sensor_t_new.key\n",
    "# just above.\n",
    "camera_i_2.camera_properties.axis_system.extend(\n",
    "    [50, 50, 50, 1, 0, 0, 0, 1, 0, 0, 0, 1]\n",
    ")  # Choose axis system\n",
    "camera_i_2.camera_properties.layer_type_source.SetInParent()  # choose separation by source"
   ]
  },
  {
   "cell_type": "markdown",
   "id": "f91f84f8",
   "metadata": {},
   "source": [
    "### Add this instance in our scene"
   ]
  },
  {
   "cell_type": "code",
   "execution_count": 11,
   "id": "cbb64e79",
   "metadata": {
    "execution": {
     "iopub.execute_input": "2025-04-17T12:03:22.135502Z",
     "iopub.status.busy": "2025-04-17T12:03:22.135122Z",
     "iopub.status.idle": "2025-04-17T12:03:22.170902Z",
     "shell.execute_reply": "2025-04-17T12:03:22.170209Z"
    }
   },
   "outputs": [
    {
     "name": "stdout",
     "output_type": "stream",
     "text": [
      "ansys.api.speos.scene.v2.Scene\n",
      "{\n",
      "    \"name\": \"Inverse_SeveralSensors\",\n",
      "    \"description\": \"From /app/assets/Inverse_SeveralSensors.speos/Inverse_SeveralSensors.speos\",\n",
      "    \"part_guid\": \"0b37ce74-dce2-4b63-a2f7-945da95c6273\",\n",
      "    \"sources\": [\n",
      "        {\n",
      "            \"name\": \"Surface.1:1\",\n",
      "            \"source_guid\": \"36f31803-e84c-4026-bbf5-a4b882b2f8d5\",\n",
      "            \"surface_properties\": {\n",
      "                \"exitance_constant_properties\": {\n",
      "                    \"geo_paths\": [\n",
      "                        {\n",
      "                            \"geo_path\": \"Corps:2408912477/face.1:3892963602\",\n",
      "                            \"reverse_normal\": false\n",
      "                        }\n",
      "                    ]\n",
      "                }\n",
      "            },\n",
      "            \"description\": \"\",\n",
      "            \"metadata\": {}\n",
      "        },\n",
      "        {\n",
      "            \"name\": \"Surface.2:1\",\n",
      "            \"source_guid\": \"37bb8544-1f13-4f04-b79f-ee44861a0058\",\n",
      "            \"surface_properties\": {\n",
      "                \"exitance_constant_properties\": {\n",
      "                    \"geo_paths\": [\n",
      "                        {\n",
      "                            \"geo_path\": \"Corps:1976534910/face.1:889032133\",\n",
      "                            \"reverse_normal\": false\n",
      "                        }\n",
      "                    ]\n",
      "                }\n",
      "            },\n",
      "            \"description\": \"\",\n",
      "            \"metadata\": {}\n",
      "        }\n",
      "    ],\n",
      "    \"sensors\": [\n",
      "        {\n",
      "            \"name\": \"Camera.1:21\",\n",
      "            \"sensor_guid\": \"7b950285-5675-48f8-a6ff-8ba9983b6628\",\n",
      "            \"result_file_name\": \"Inverse.1.Camera.1\",\n",
      "            \"camera_properties\": {\n",
      "                \"axis_system\": [\n",
      "                    17.0,\n",
      "                    10.0,\n",
      "                    15.0,\n",
      "                    0.0,\n",
      "                    0.0,\n",
      "                    -1.0,\n",
      "                    0.0,\n",
      "                    1.0,\n",
      "                    0.0,\n",
      "                    1.0,\n",
      "                    0.0,\n",
      "                    0.0\n",
      "                ],\n",
      "                \"layer_type_none\": {},\n",
      "                \"trajectory_file_uri\": \"\"\n",
      "            },\n",
      "            \"description\": \"\",\n",
      "            \"metadata\": {}\n",
      "        },\n",
      "        {\n",
      "            \"name\": \"Irradiance.1:28\",\n",
      "            \"sensor_guid\": \"f38956b4-fa24-4c89-8b94-c1b8e6ecd25e\",\n",
      "            \"result_file_name\": \"Inverse.1.Irradiance.1\",\n",
      "            \"irradiance_properties\": {\n",
      "                \"axis_system\": [\n",
      "                    0.0,\n",
      "                    0.0,\n",
      "                    0.0,\n",
      "                    0.0,\n",
      "                    0.0,\n",
      "                    1.0,\n",
      "                    0.0,\n",
      "                    1.0,\n",
      "                    -0.0,\n",
      "                    -1.0,\n",
      "                    0.0,\n",
      "                    0.0\n",
      "                ],\n",
      "                \"layer_type_sequence\": {\n",
      "                    \"maximum_nb_of_sequence\": 10,\n",
      "                    \"define_sequence_per\": \"Faces\"\n",
      "                },\n",
      "                \"ray_file_type\": \"RayFileNone\",\n",
      "                \"integration_direction\": []\n",
      "            },\n",
      "            \"description\": \"\",\n",
      "            \"metadata\": {}\n",
      "        },\n",
      "        {\n",
      "            \"name\": \"CameraFromScratch.1\",\n",
      "            \"sensor_guid\": \"d31435ca-60f2-4e90-bf9f-250dc4ae1c57\",\n",
      "            \"camera_properties\": {\n",
      "                \"axis_system\": [\n",
      "                    50.0,\n",
      "                    50.0,\n",
      "                    50.0,\n",
      "                    1.0,\n",
      "                    0.0,\n",
      "                    0.0,\n",
      "                    0.0,\n",
      "                    1.0,\n",
      "                    0.0,\n",
      "                    0.0,\n",
      "                    0.0,\n",
      "                    1.0\n",
      "                ],\n",
      "                \"layer_type_source\": {},\n",
      "                \"trajectory_file_uri\": \"\"\n",
      "            },\n",
      "            \"description\": \"\",\n",
      "            \"metadata\": {},\n",
      "            \"result_file_name\": \"\"\n",
      "        }\n",
      "    ],\n",
      "    \"simulations\": [\n",
      "        {\n",
      "            \"name\": \"Inverse.1\",\n",
      "            \"simulation_guid\": \"9ac0e77e-9a34-4374-9454-646ead7f1f6d\",\n",
      "            \"sensor_paths\": [\n",
      "                \"Camera.1:21\",\n",
      "                \"Irradiance.1:28\",\n",
      "                \"CameraFromScratch.1\"\n",
      "            ],\n",
      "            \"source_paths\": [\n",
      "                \"Surface.1:1\",\n",
      "                \"Surface.2:1\"\n",
      "            ],\n",
      "            \"description\": \"\",\n",
      "            \"metadata\": {}\n",
      "        }\n",
      "    ],\n",
      "    \"materials\": [\n",
      "        {\n",
      "            \"name\": \"Material.1\",\n",
      "            \"vop_guid\": \"cf195f0d-5979-4272-9eda-ed6afd7b4ee5\",\n",
      "            \"sop_guids\": [\n",
      "                \"955ff747-7692-4c80-a636-cf74acd1e17a\"\n",
      "            ],\n",
      "            \"geometries\": {\n",
      "                \"geo_paths\": [\n",
      "                    \"Corps:2408912477\",\n",
      "                    \"Corps:1976534910\"\n",
      "                ]\n",
      "            },\n",
      "            \"description\": \"\",\n",
      "            \"metadata\": {}\n",
      "        },\n",
      "        {\n",
      "            \"name\": \"Material.2\",\n",
      "            \"vop_guid\": \"cd7dc913-4dd0-4a50-97ee-49813efe6cb0\",\n",
      "            \"description\": \"\",\n",
      "            \"metadata\": {},\n",
      "            \"sop_guids\": []\n",
      "        }\n",
      "    ],\n",
      "    \"metadata\": {},\n",
      "    \"scenes\": []\n",
      "}\n"
     ]
    }
   ],
   "source": [
    "my_scene_data = my_scene.get()  # Retrieve scene datamodel\n",
    "\n",
    "# Modify scene datamodel to add our camera instance\n",
    "my_scene_data.sensors.append(camera_i_2)\n",
    "\n",
    "# We can also reference it in the first simulation, so that it will be taken into account by this\n",
    "# simulation\n",
    "my_scene_data.simulations[0].sensor_paths.append(camera_i_2.name)  # We reference by name\n",
    "\n",
    "# Update value in db\n",
    "my_scene.set(my_scene_data)\n",
    "\n",
    "# Check scene data after update\n",
    "print(my_scene)"
   ]
  },
  {
   "cell_type": "markdown",
   "id": "4840d848",
   "metadata": {},
   "source": [
    "When loading a speos file into a scene, this creates many objects\n",
    "(source templates, sensor templates, vop template, sop templates).\n",
    "Then at the end of the example, we just clean all databases"
   ]
  },
  {
   "cell_type": "code",
   "execution_count": 12,
   "id": "210624ac",
   "metadata": {
    "execution": {
     "iopub.execute_input": "2025-04-17T12:03:22.173214Z",
     "iopub.status.busy": "2025-04-17T12:03:22.172732Z",
     "iopub.status.idle": "2025-04-17T12:03:22.224716Z",
     "shell.execute_reply": "2025-04-17T12:03:22.224148Z"
    }
   },
   "outputs": [],
   "source": [
    "for item in (\n",
    "    speos.client.scenes().list()\n",
    "    + speos.client.simulation_templates().list()\n",
    "    + speos.client.sensor_templates().list()\n",
    "    + speos.client.source_templates().list()\n",
    "    + speos.client.intensity_templates().list()\n",
    "    + speos.client.spectrums().list()\n",
    "    + speos.client.vop_templates().list()\n",
    "    + speos.client.sop_templates().list()\n",
    "    + speos.client.parts().list()\n",
    "    + speos.client.bodies().list()\n",
    "    + speos.client.faces().list()\n",
    "):\n",
    "    item.delete()"
   ]
  }
 ],
 "metadata": {
  "jupytext": {
   "cell_metadata_filter": "-all",
   "main_language": "python",
   "notebook_metadata_filter": "-all",
   "text_representation": {
    "extension": ".py",
    "format_name": "light"
   }
  },
  "language_info": {
   "codemirror_mode": {
    "name": "ipython",
    "version": 3
   },
   "file_extension": ".py",
   "mimetype": "text/x-python",
   "name": "python",
   "nbconvert_exporter": "python",
   "pygments_lexer": "ipython3",
   "version": "3.10.17"
  }
 },
 "nbformat": 4,
 "nbformat_minor": 5
}
