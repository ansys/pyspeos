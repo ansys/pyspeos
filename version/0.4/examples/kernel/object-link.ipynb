{
 "cells": [
  {
   "cell_type": "markdown",
   "id": "e28f9c90",
   "metadata": {},
   "source": [
    "# How to use an ObjectLink"
   ]
  },
  {
   "cell_type": "markdown",
   "id": "6f876adc",
   "metadata": {},
   "source": [
    "This tutorial demonstrates how to use speos objects in layer core."
   ]
  },
  {
   "cell_type": "markdown",
   "id": "da7c3922",
   "metadata": {},
   "source": [
    "## What is an ObjectLink?"
   ]
  },
  {
   "cell_type": "markdown",
   "id": "e8b39a41",
   "metadata": {},
   "source": [
    "The ObjectLink is an object that is created from a protobuf message and then stored in the server\n",
    "database."
   ]
  },
  {
   "cell_type": "markdown",
   "id": "b7487909",
   "metadata": {},
   "source": [
    "## Which speos objects are used via ObjectLink?"
   ]
  },
  {
   "cell_type": "markdown",
   "id": "37196ed1",
   "metadata": {},
   "source": [
    "Almost all speos objects are used via ObjectLink: like sources, sensors, simulations and more.\n",
    "For this tutorial we will use as example the surface optical property (sop)"
   ]
  },
  {
   "cell_type": "code",
   "execution_count": 1,
   "id": "9982488a",
   "metadata": {
    "execution": {
     "iopub.execute_input": "2025-04-17T12:03:24.366408Z",
     "iopub.status.busy": "2025-04-17T12:03:24.365893Z",
     "iopub.status.idle": "2025-04-17T12:03:25.111773Z",
     "shell.execute_reply": "2025-04-17T12:03:25.111170Z"
    }
   },
   "outputs": [],
   "source": [
    "from ansys.speos.core.kernel.sop_template import ProtoSOPTemplate\n",
    "from ansys.speos.core.speos import Speos\n"
   ]
  },
  {
   "cell_type": "markdown",
   "id": "02f70a58",
   "metadata": {},
   "source": [
    "Create connection with speos rpc server"
   ]
  },
  {
   "cell_type": "code",
   "execution_count": 2,
   "id": "b9ea140a",
   "metadata": {
    "execution": {
     "iopub.execute_input": "2025-04-17T12:03:25.114196Z",
     "iopub.status.busy": "2025-04-17T12:03:25.113890Z",
     "iopub.status.idle": "2025-04-17T12:03:25.120147Z",
     "shell.execute_reply": "2025-04-17T12:03:25.119602Z"
    }
   },
   "outputs": [],
   "source": [
    "speos = Speos(host=\"localhost\", port=50098)"
   ]
  },
  {
   "cell_type": "markdown",
   "id": "82747a2a",
   "metadata": {},
   "source": [
    "## Create an ObjectLink"
   ]
  },
  {
   "cell_type": "markdown",
   "id": "43e20c6a",
   "metadata": {},
   "source": [
    "Retrieve the access to the database."
   ]
  },
  {
   "cell_type": "code",
   "execution_count": 3,
   "id": "9b141d2d",
   "metadata": {
    "execution": {
     "iopub.execute_input": "2025-04-17T12:03:25.122172Z",
     "iopub.status.busy": "2025-04-17T12:03:25.121784Z",
     "iopub.status.idle": "2025-04-17T12:03:25.124989Z",
     "shell.execute_reply": "2025-04-17T12:03:25.124329Z"
    }
   },
   "outputs": [],
   "source": [
    "sop_t_db = speos.client.sop_templates()"
   ]
  },
  {
   "cell_type": "markdown",
   "id": "59d44164",
   "metadata": {},
   "source": [
    "Create the protobuf message."
   ]
  },
  {
   "cell_type": "code",
   "execution_count": 4,
   "id": "8b744f03",
   "metadata": {
    "execution": {
     "iopub.execute_input": "2025-04-17T12:03:25.127070Z",
     "iopub.status.busy": "2025-04-17T12:03:25.126688Z",
     "iopub.status.idle": "2025-04-17T12:03:25.129582Z",
     "shell.execute_reply": "2025-04-17T12:03:25.129079Z"
    }
   },
   "outputs": [],
   "source": [
    "sop_t = ProtoSOPTemplate()\n",
    "sop_t.name = \"Mirror_90\"\n",
    "sop_t.mirror.reflectance = 90.0"
   ]
  },
  {
   "cell_type": "markdown",
   "id": "6195eba9",
   "metadata": {},
   "source": [
    "Create the ObjectLink (here a SOPTemplateLink)."
   ]
  },
  {
   "cell_type": "code",
   "execution_count": 5,
   "id": "8f5b296f",
   "metadata": {
    "execution": {
     "iopub.execute_input": "2025-04-17T12:03:25.131511Z",
     "iopub.status.busy": "2025-04-17T12:03:25.131140Z",
     "iopub.status.idle": "2025-04-17T12:03:25.136686Z",
     "shell.execute_reply": "2025-04-17T12:03:25.136182Z"
    }
   },
   "outputs": [
    {
     "name": "stdout",
     "output_type": "stream",
     "text": [
      "ansys.api.speos.sop.v1.SOPTemplate\n",
      "{\n",
      "    \"name\": \"Mirror_90\",\n",
      "    \"mirror\": {\n",
      "        \"reflectance\": 90.0\n",
      "    },\n",
      "    \"description\": \"\",\n",
      "    \"metadata\": {}\n",
      "}\n"
     ]
    }
   ],
   "source": [
    "mirror_90_link = sop_t_db.create(message=sop_t)\n",
    "print(mirror_90_link)"
   ]
  },
  {
   "cell_type": "markdown",
   "id": "a4ff97f0",
   "metadata": {},
   "source": [
    "Create another ObjectLink from another protobuf message."
   ]
  },
  {
   "cell_type": "code",
   "execution_count": 6,
   "id": "81f78c9e",
   "metadata": {
    "execution": {
     "iopub.execute_input": "2025-04-17T12:03:25.138615Z",
     "iopub.status.busy": "2025-04-17T12:03:25.138267Z",
     "iopub.status.idle": "2025-04-17T12:03:25.141641Z",
     "shell.execute_reply": "2025-04-17T12:03:25.141156Z"
    }
   },
   "outputs": [],
   "source": [
    "sop_t = ProtoSOPTemplate()\n",
    "sop_t.name = \"Mirror_100\"\n",
    "sop_t.mirror.reflectance = 100.0\n",
    "\n",
    "mirror_100_link = sop_t_db.create(message=sop_t)"
   ]
  },
  {
   "cell_type": "markdown",
   "id": "ffe6959b",
   "metadata": {},
   "source": [
    "## Modify an ObjectLink"
   ]
  },
  {
   "cell_type": "markdown",
   "id": "b31798d4",
   "metadata": {},
   "source": [
    "Retrieve the protobuf message corresponding to the ObjectLink."
   ]
  },
  {
   "cell_type": "code",
   "execution_count": 7,
   "id": "d5320c5e",
   "metadata": {
    "execution": {
     "iopub.execute_input": "2025-04-17T12:03:25.143601Z",
     "iopub.status.busy": "2025-04-17T12:03:25.143226Z",
     "iopub.status.idle": "2025-04-17T12:03:25.146295Z",
     "shell.execute_reply": "2025-04-17T12:03:25.145783Z"
    }
   },
   "outputs": [],
   "source": [
    "mirror_data = mirror_90_link.get()"
   ]
  },
  {
   "cell_type": "markdown",
   "id": "c967b413",
   "metadata": {},
   "source": [
    "Modify data locally"
   ]
  },
  {
   "cell_type": "code",
   "execution_count": 8,
   "id": "d5aba55f",
   "metadata": {
    "execution": {
     "iopub.execute_input": "2025-04-17T12:03:25.148157Z",
     "iopub.status.busy": "2025-04-17T12:03:25.147813Z",
     "iopub.status.idle": "2025-04-17T12:03:25.150754Z",
     "shell.execute_reply": "2025-04-17T12:03:25.150123Z"
    }
   },
   "outputs": [],
   "source": [
    "mirror_data.name = \"Mirror_50\"\n",
    "mirror_data.mirror.reflectance = 50"
   ]
  },
  {
   "cell_type": "markdown",
   "id": "7a5d8ce8",
   "metadata": {},
   "source": [
    "Update on db"
   ]
  },
  {
   "cell_type": "code",
   "execution_count": 9,
   "id": "f000c90f",
   "metadata": {
    "execution": {
     "iopub.execute_input": "2025-04-17T12:03:25.152744Z",
     "iopub.status.busy": "2025-04-17T12:03:25.152372Z",
     "iopub.status.idle": "2025-04-17T12:03:25.156349Z",
     "shell.execute_reply": "2025-04-17T12:03:25.155827Z"
    }
   },
   "outputs": [
    {
     "name": "stdout",
     "output_type": "stream",
     "text": [
      "ansys.api.speos.sop.v1.SOPTemplate\n",
      "{\n",
      "    \"name\": \"Mirror_50\",\n",
      "    \"mirror\": {\n",
      "        \"reflectance\": 50.0\n",
      "    },\n",
      "    \"description\": \"\",\n",
      "    \"metadata\": {}\n",
      "}\n"
     ]
    }
   ],
   "source": [
    "mirror_90_link.set(data=mirror_data)\n",
    "print(mirror_90_link)"
   ]
  },
  {
   "cell_type": "markdown",
   "id": "4f4731d9",
   "metadata": {},
   "source": [
    "## Delete an ObjectLink"
   ]
  },
  {
   "cell_type": "markdown",
   "id": "426ca378",
   "metadata": {},
   "source": [
    "This means deleting data in db"
   ]
  },
  {
   "cell_type": "code",
   "execution_count": 10,
   "id": "ddf73540",
   "metadata": {
    "execution": {
     "iopub.execute_input": "2025-04-17T12:03:25.158481Z",
     "iopub.status.busy": "2025-04-17T12:03:25.158115Z",
     "iopub.status.idle": "2025-04-17T12:03:25.166257Z",
     "shell.execute_reply": "2025-04-17T12:03:25.165584Z"
    }
   },
   "outputs": [
    {
     "data": {
      "text/plain": [
       "[]"
      ]
     },
     "execution_count": 10,
     "metadata": {},
     "output_type": "execute_result"
    }
   ],
   "source": [
    "mirror_100_link.delete()\n",
    "mirror_90_link.delete()\n",
    "sop_t_db.list()"
   ]
  }
 ],
 "metadata": {
  "jupytext": {
   "cell_metadata_filter": "-all",
   "main_language": "python",
   "notebook_metadata_filter": "-all",
   "text_representation": {
    "extension": ".py",
    "format_name": "light"
   }
  },
  "language_info": {
   "codemirror_mode": {
    "name": "ipython",
    "version": 3
   },
   "file_extension": ".py",
   "mimetype": "text/x-python",
   "name": "python",
   "nbconvert_exporter": "python",
   "pygments_lexer": "ipython3",
   "version": "3.10.17"
  }
 },
 "nbformat": 4,
 "nbformat_minor": 5
}
