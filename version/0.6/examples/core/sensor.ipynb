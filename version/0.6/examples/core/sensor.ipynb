{
 "cells": [
  {
   "cell_type": "markdown",
   "id": "d24f44a6",
   "metadata": {},
   "source": [
    "# How to create a sensor\n",
    "\n",
    "This tutorial demonstrates how to create a sensor.\n",
    "\n",
    "There are different type of sensors available: irradiance sensor, radiance sensor, camera sensor."
   ]
  },
  {
   "cell_type": "markdown",
   "id": "d68ed1ad",
   "metadata": {},
   "source": [
    "## Prerequisites\n",
    "\n",
    "### Perform imports"
   ]
  },
  {
   "cell_type": "code",
   "execution_count": 1,
   "id": "f151d822",
   "metadata": {
    "execution": {
     "iopub.execute_input": "2025-09-18T14:33:33.835092Z",
     "iopub.status.busy": "2025-09-18T14:33:33.834912Z",
     "iopub.status.idle": "2025-09-18T14:33:33.840970Z",
     "shell.execute_reply": "2025-09-18T14:33:33.840438Z"
    }
   },
   "outputs": [],
   "source": [
    "from pathlib import Path"
   ]
  },
  {
   "cell_type": "code",
   "execution_count": 2,
   "id": "1567ae5a",
   "metadata": {
    "execution": {
     "iopub.execute_input": "2025-09-18T14:33:33.842626Z",
     "iopub.status.busy": "2025-09-18T14:33:33.842450Z",
     "iopub.status.idle": "2025-09-18T14:33:34.657241Z",
     "shell.execute_reply": "2025-09-18T14:33:34.656569Z"
    }
   },
   "outputs": [],
   "source": [
    "from ansys.speos.core import GeoRef, Project, Speos, launcher\n",
    "from ansys.speos.core.sensor import (\n",
    "    Sensor3DIrradiance,\n",
    "    SensorCamera,\n",
    "    SensorIrradiance,\n",
    "    SensorRadiance,\n",
    ")"
   ]
  },
  {
   "cell_type": "markdown",
   "id": "24db23c8",
   "metadata": {},
   "source": [
    "### Define constants\n",
    "\n",
    "The constants help ensure consistency and avoid repetition throughout the example."
   ]
  },
  {
   "cell_type": "code",
   "execution_count": 3,
   "id": "85926116",
   "metadata": {
    "execution": {
     "iopub.execute_input": "2025-09-18T14:33:34.659430Z",
     "iopub.status.busy": "2025-09-18T14:33:34.659163Z",
     "iopub.status.idle": "2025-09-18T14:33:34.662416Z",
     "shell.execute_reply": "2025-09-18T14:33:34.661862Z"
    }
   },
   "outputs": [],
   "source": [
    "HOSTNAME = \"localhost\"\n",
    "GRPC_PORT = 50098  # Be sure the Speos GRPC Server has been started on this port.\n",
    "USE_DOCKER = True  # Set to False if you're running this example locally as a Notebook.\n",
    "FILES = \"CameraInputFiles\""
   ]
  },
  {
   "cell_type": "markdown",
   "id": "364f6de3",
   "metadata": {
    "lines_to_next_cell": 2
   },
   "source": [
    "### Define helper functions"
   ]
  },
  {
   "cell_type": "code",
   "execution_count": 4,
   "id": "8b3c0e8b",
   "metadata": {
    "execution": {
     "iopub.execute_input": "2025-09-18T14:33:34.664216Z",
     "iopub.status.busy": "2025-09-18T14:33:34.664022Z",
     "iopub.status.idle": "2025-09-18T14:33:34.668913Z",
     "shell.execute_reply": "2025-09-18T14:33:34.668376Z"
    }
   },
   "outputs": [],
   "source": [
    "def create_helper_geometries(project: Project):\n",
    "    \"\"\"Create bodies and faces.\"\"\"\n",
    "\n",
    "    def create_face(body):\n",
    "        (\n",
    "            body.create_face(name=\"TheFaceF\")\n",
    "            .set_vertices([0, 0, 0, 1, 0, 0, 0, 1, 0])\n",
    "            .set_facets([0, 1, 2])\n",
    "            .set_normals([0, 0, 1, 0, 0, 1, 0, 0, 1])\n",
    "            .commit()\n",
    "        )\n",
    "\n",
    "    root_part = project.create_root_part().commit()\n",
    "    body_b1 = root_part.create_body(name=\"TheBodyB\").commit()\n",
    "    body_b2 = root_part.create_body(name=\"TheBodyC\").commit()\n",
    "    body_b3 = root_part.create_body(name=\"TheBodyD\").commit()\n",
    "    body_b4 = root_part.create_body(name=\"TheBodyE\").commit()\n",
    "    for b in [body_b1, body_b2, body_b3, body_b4]:\n",
    "        create_face(b)"
   ]
  },
  {
   "cell_type": "markdown",
   "id": "6c7a30bc",
   "metadata": {},
   "source": [
    "## Model Setup\n",
    "\n",
    "### Load assets\n",
    "The assets used to run this example are available in the\n",
    "[PySpeos repository](https://github.com/ansys/pyspeos/) on GitHub.\n",
    "\n",
    "> **Note:** Make sure you\n",
    "> have downloaded simulation assets and set ``assets_data_path``\n",
    "> to point to the assets folder."
   ]
  },
  {
   "cell_type": "code",
   "execution_count": 5,
   "id": "053a4471",
   "metadata": {
    "execution": {
     "iopub.execute_input": "2025-09-18T14:33:34.670689Z",
     "iopub.status.busy": "2025-09-18T14:33:34.670506Z",
     "iopub.status.idle": "2025-09-18T14:33:34.673353Z",
     "shell.execute_reply": "2025-09-18T14:33:34.672805Z"
    }
   },
   "outputs": [],
   "source": [
    "if USE_DOCKER:  # Running on the remote server.\n",
    "    assets_data_path = Path(\"/app\") / \"assets\"\n",
    "else:\n",
    "    assets_data_path = Path(\"/path/to/your/download/assets/directory\")"
   ]
  },
  {
   "cell_type": "markdown",
   "id": "f18ffb9c",
   "metadata": {},
   "source": [
    "### Connect to the RPC Server\n",
    "This Python client connects to a server where the Speos engine\n",
    "is running as a service. In this example, the server and\n",
    "client are the same machine. The launch_local_speos_rpc_method can\n",
    "be used to start a local instance of the service."
   ]
  },
  {
   "cell_type": "code",
   "execution_count": 6,
   "id": "86a46e2a",
   "metadata": {
    "execution": {
     "iopub.execute_input": "2025-09-18T14:33:34.675087Z",
     "iopub.status.busy": "2025-09-18T14:33:34.674911Z",
     "iopub.status.idle": "2025-09-18T14:33:34.680608Z",
     "shell.execute_reply": "2025-09-18T14:33:34.680101Z"
    }
   },
   "outputs": [],
   "source": [
    "if USE_DOCKER:\n",
    "    speos = Speos(host=HOSTNAME, port=GRPC_PORT)\n",
    "else:\n",
    "    speos = launcher.launch_local_speos_rpc_server(port=GRPC_PORT)"
   ]
  },
  {
   "cell_type": "markdown",
   "id": "028e800e",
   "metadata": {},
   "source": [
    "## Create a new project\n",
    "\n",
    "The only way to create a sensor, is to create it from a project."
   ]
  },
  {
   "cell_type": "code",
   "execution_count": 7,
   "id": "e4bf69b6",
   "metadata": {
    "execution": {
     "iopub.execute_input": "2025-09-18T14:33:34.682371Z",
     "iopub.status.busy": "2025-09-18T14:33:34.682179Z",
     "iopub.status.idle": "2025-09-18T14:33:34.689584Z",
     "shell.execute_reply": "2025-09-18T14:33:34.689052Z"
    }
   },
   "outputs": [
    {
     "name": "stdout",
     "output_type": "stream",
     "text": [
      "{\n",
      "    \"name\": \"\",\n",
      "    \"description\": \"\",\n",
      "    \"metadata\": {},\n",
      "    \"part_guid\": \"\",\n",
      "    \"sources\": [],\n",
      "    \"sensors\": [],\n",
      "    \"simulations\": [],\n",
      "    \"materials\": [],\n",
      "    \"scenes\": []\n",
      "}\n"
     ]
    }
   ],
   "source": [
    "p = Project(speos=speos)\n",
    "print(p)"
   ]
  },
  {
   "cell_type": "markdown",
   "id": "db451587",
   "metadata": {},
   "source": [
    "## Create\n",
    "\n",
    "Create locally."
   ]
  },
  {
   "cell_type": "markdown",
   "id": "85603c93",
   "metadata": {},
   "source": [
    "The mention \"local: \" is added when printing the sensor"
   ]
  },
  {
   "cell_type": "code",
   "execution_count": 8,
   "id": "66577ea0",
   "metadata": {
    "execution": {
     "iopub.execute_input": "2025-09-18T14:33:34.691335Z",
     "iopub.status.busy": "2025-09-18T14:33:34.691159Z",
     "iopub.status.idle": "2025-09-18T14:33:34.702250Z",
     "shell.execute_reply": "2025-09-18T14:33:34.701681Z"
    }
   },
   "outputs": [
    {
     "name": "stdout",
     "output_type": "stream",
     "text": [
      "local: {\n",
      "    \"name\": \"Camera.1\",\n",
      "    \"description\": \"\",\n",
      "    \"metadata\": {},\n",
      "    \"sensor_guid\": \"\",\n",
      "    \"result_file_name\": \"\",\n",
      "    \"sensor\": {\n",
      "        \"camera_sensor_template\": {\n",
      "            \"sensor_mode_photometric\": {\n",
      "                \"acquisition_integration\": 0.01,\n",
      "                \"transmittance_file_uri\": \"/app/assets/CameraInputFiles/CameraTransmittance.spectrum\",\n",
      "                \"gamma_correction\": 2.2,\n",
      "                \"png_bits\": \"PNG_16\",\n",
      "                \"color_mode_color\": {\n",
      "                    \"red_spectrum_file_uri\": \"/app/assets/CameraInputFiles/CameraSensitivityRed.spectrum\",\n",
      "                    \"green_spectrum_file_uri\": \"/app/assets/CameraInputFiles/CameraSensitivityGreen.spectrum\",\n",
      "                    \"blue_spectrum_file_uri\": \"/app/assets/CameraInputFiles/CameraSensitivityBlue.spectrum\",\n",
      "                    \"balance_mode_none\": {}\n",
      "                },\n",
      "                \"wavelengths_range\": {\n",
      "                    \"w_start\": 400.0,\n",
      "                    \"w_end\": 700.0,\n",
      "                    \"w_sampling\": 13\n",
      "                },\n",
      "                \"acquisition_lag_time\": 0.0\n",
      "            },\n",
      "            \"focal_length\": 5.0,\n",
      "            \"imager_distance\": 10.0,\n",
      "            \"f_number\": 20.0,\n",
      "            \"horz_pixel\": 640,\n",
      "            \"vert_pixel\": 480,\n",
      "            \"width\": 5.0,\n",
      "            \"height\": 5.0,\n",
      "            \"distortion_file_uri\": \"/app/assets/CameraInputFiles/CameraDistortion_130deg.OPTDistortion\",\n",
      "            \"distorsion_file_uri\": \"\",\n",
      "            \"axis_system\": [\n",
      "                0.0,\n",
      "                0.0,\n",
      "                0.0,\n",
      "                1.0,\n",
      "                0.0,\n",
      "                0.0,\n",
      "                0.0,\n",
      "                1.0,\n",
      "                0.0,\n",
      "                0.0,\n",
      "                0.0,\n",
      "                1.0\n",
      "            ],\n",
      "            \"layer_type_none\": {},\n",
      "            \"trajectory_file_uri\": \"\"\n",
      "        },\n",
      "        \"name\": \"Camera.1\",\n",
      "        \"description\": \"\",\n",
      "        \"metadata\": {}\n",
      "    }\n",
      "}\n"
     ]
    }
   ],
   "source": [
    "\n",
    "distortion_file_path = str(assets_data_path / FILES / \"CameraDistortion_130deg.OPTDistortion\")\n",
    "transmittance_file_path = str(assets_data_path / FILES / \"CameraTransmittance.spectrum\")\n",
    "blue_spectrum_path = str(assets_data_path / FILES / \"CameraSensitivityBlue.spectrum\")\n",
    "green_spectrum_path = str(assets_data_path / FILES / \"CameraSensitivityGreen.spectrum\")\n",
    "red_spectrum_path = str(assets_data_path / FILES / \"CameraSensitivityRed.spectrum\")\n",
    "\n",
    "sensor1 = p.create_sensor(name=\"Camera.1\", feature_type=SensorCamera)\n",
    "sensor1.set_distortion_file_uri(uri=distortion_file_path)\n",
    "# Choose photometric mode\n",
    "sensor1.set_mode_photometric().set_transmittance_file_uri(uri=transmittance_file_path)\n",
    "# Choose color mode (will imply to give spectrum file for blue, green and red)\n",
    "sensor1.set_mode_photometric().set_mode_color().set_blue_spectrum_file_uri(uri=blue_spectrum_path)\n",
    "sensor1.set_mode_photometric().set_mode_color().set_green_spectrum_file_uri(uri=green_spectrum_path)\n",
    "sensor1.set_mode_photometric().set_mode_color().set_red_spectrum_file_uri(uri=red_spectrum_path)\n",
    "print(sensor1)"
   ]
  },
  {
   "cell_type": "markdown",
   "id": "3bd0f497",
   "metadata": {},
   "source": [
    "## Push it to the server.\n",
    "\n",
    "Now that it is committed to the server, the mention \"local: \" is no more present when printing the\n",
    "sensor."
   ]
  },
  {
   "cell_type": "code",
   "execution_count": 9,
   "id": "3e6b893f",
   "metadata": {
    "execution": {
     "iopub.execute_input": "2025-09-18T14:33:34.704019Z",
     "iopub.status.busy": "2025-09-18T14:33:34.703806Z",
     "iopub.status.idle": "2025-09-18T14:33:34.917070Z",
     "shell.execute_reply": "2025-09-18T14:33:34.916378Z"
    }
   },
   "outputs": [
    {
     "name": "stdout",
     "output_type": "stream",
     "text": [
      "{\n",
      "    \"name\": \"Camera.1\",\n",
      "    \"metadata\": {\n",
      "        \"UniqueId\": \"e88cddf2-bdb9-421a-81f5-df39a1657557\"\n",
      "    },\n",
      "    \"sensor_guid\": \"203791ca-dbf2-4466-8b6e-11cf1dcc6c44\",\n",
      "    \"description\": \"\",\n",
      "    \"result_file_name\": \"\",\n",
      "    \"sensor\": {\n",
      "        \"camera_sensor_template\": {\n",
      "            \"sensor_mode_photometric\": {\n",
      "                \"acquisition_integration\": 0.01,\n",
      "                \"transmittance_file_uri\": \"/app/assets/CameraInputFiles/CameraTransmittance.spectrum\",\n",
      "                \"gamma_correction\": 2.2,\n",
      "                \"png_bits\": \"PNG_16\",\n",
      "                \"color_mode_color\": {\n",
      "                    \"red_spectrum_file_uri\": \"/app/assets/CameraInputFiles/CameraSensitivityRed.spectrum\",\n",
      "                    \"green_spectrum_file_uri\": \"/app/assets/CameraInputFiles/CameraSensitivityGreen.spectrum\",\n",
      "                    \"blue_spectrum_file_uri\": \"/app/assets/CameraInputFiles/CameraSensitivityBlue.spectrum\",\n",
      "                    \"balance_mode_none\": {}\n",
      "                },\n",
      "                \"wavelengths_range\": {\n",
      "                    \"w_start\": 400.0,\n",
      "                    \"w_end\": 700.0,\n",
      "                    \"w_sampling\": 13\n",
      "                },\n",
      "                \"acquisition_lag_time\": 0.0\n",
      "            },\n",
      "            \"focal_length\": 5.0,\n",
      "            \"imager_distance\": 10.0,\n",
      "            \"f_number\": 20.0,\n",
      "            \"horz_pixel\": 640,\n",
      "            \"vert_pixel\": 480,\n",
      "            \"width\": 5.0,\n",
      "            \"height\": 5.0,\n",
      "            \"distortion_file_uri\": \"/app/assets/CameraInputFiles/CameraDistortion_130deg.OPTDistortion\",\n",
      "            \"distorsion_file_uri\": \"\",\n",
      "            \"axis_system\": [\n",
      "                0.0,\n",
      "                0.0,\n",
      "                0.0,\n",
      "                1.0,\n",
      "                0.0,\n",
      "                0.0,\n",
      "                0.0,\n",
      "                1.0,\n",
      "                0.0,\n",
      "                0.0,\n",
      "                0.0,\n",
      "                1.0\n",
      "            ],\n",
      "            \"layer_type_none\": {},\n",
      "            \"trajectory_file_uri\": \"\"\n",
      "        },\n",
      "        \"name\": \"Camera.1\",\n",
      "        \"description\": \"\",\n",
      "        \"metadata\": {}\n",
      "    }\n",
      "}\n"
     ]
    }
   ],
   "source": [
    "sensor1.commit()\n",
    "print(sensor1)"
   ]
  },
  {
   "cell_type": "markdown",
   "id": "13109478",
   "metadata": {},
   "source": [
    "## Another example\n",
    "\n",
    "Set more characteristics.\n",
    "\n",
    "Camera feature is created with the same default values as the GUI speos.\n",
    "\n",
    "If the user would like to modify the camera characteristics,\n",
    "it is possible to do so as below."
   ]
  },
  {
   "cell_type": "code",
   "execution_count": 10,
   "id": "755262f8",
   "metadata": {
    "execution": {
     "iopub.execute_input": "2025-09-18T14:33:34.919074Z",
     "iopub.status.busy": "2025-09-18T14:33:34.918888Z",
     "iopub.status.idle": "2025-09-18T14:33:34.936378Z",
     "shell.execute_reply": "2025-09-18T14:33:34.935819Z"
    },
    "lines_to_next_cell": 2
   },
   "outputs": [
    {
     "name": "stdout",
     "output_type": "stream",
     "text": [
      "{\n",
      "    \"name\": \"Camera.2\",\n",
      "    \"metadata\": {\n",
      "        \"UniqueId\": \"73ce8e21-32b0-40f3-9d6d-431df5a79386\"\n",
      "    },\n",
      "    \"sensor_guid\": \"4f6a6c4f-8ae5-42ef-a138-31191fb55e0a\",\n",
      "    \"description\": \"\",\n",
      "    \"result_file_name\": \"\",\n",
      "    \"sensor\": {\n",
      "        \"camera_sensor_template\": {\n",
      "            \"sensor_mode_photometric\": {\n",
      "                \"acquisition_integration\": 0.01,\n",
      "                \"transmittance_file_uri\": \"/app/assets/CameraInputFiles/CameraTransmittance.spectrum\",\n",
      "                \"gamma_correction\": 2.2,\n",
      "                \"png_bits\": \"PNG_16\",\n",
      "                \"color_mode_color\": {\n",
      "                    \"red_spectrum_file_uri\": \"/app/assets/CameraInputFiles/CameraSensitivityRed.spectrum\",\n",
      "                    \"green_spectrum_file_uri\": \"/app/assets/CameraInputFiles/CameraSensitivityGreen.spectrum\",\n",
      "                    \"blue_spectrum_file_uri\": \"/app/assets/CameraInputFiles/CameraSensitivityBlue.spectrum\",\n",
      "                    \"balance_mode_none\": {}\n",
      "                },\n",
      "                \"wavelengths_range\": {\n",
      "                    \"w_start\": 400.0,\n",
      "                    \"w_end\": 700.0,\n",
      "                    \"w_sampling\": 13\n",
      "                },\n",
      "                \"acquisition_lag_time\": 0.0\n",
      "            },\n",
      "            \"focal_length\": 5.5,\n",
      "            \"imager_distance\": 10.0,\n",
      "            \"f_number\": 20.0,\n",
      "            \"horz_pixel\": 640,\n",
      "            \"vert_pixel\": 480,\n",
      "            \"width\": 6.0,\n",
      "            \"height\": 6.0,\n",
      "            \"distortion_file_uri\": \"/app/assets/CameraInputFiles/CameraDistortion_130deg.OPTDistortion\",\n",
      "            \"distorsion_file_uri\": \"\",\n",
      "            \"axis_system\": [\n",
      "                20.0,\n",
      "                10.0,\n",
      "                40.0,\n",
      "                1.0,\n",
      "                0.0,\n",
      "                0.0,\n",
      "                0.0,\n",
      "                1.0,\n",
      "                0.0,\n",
      "                0.0,\n",
      "                0.0,\n",
      "                1.0\n",
      "            ],\n",
      "            \"layer_type_source\": {},\n",
      "            \"trajectory_file_uri\": \"\"\n",
      "        },\n",
      "        \"name\": \"Camera.2\",\n",
      "        \"description\": \"\",\n",
      "        \"metadata\": {}\n",
      "    }\n",
      "}\n"
     ]
    }
   ],
   "source": [
    "distortion_file_path = str(assets_data_path / FILES / \"CameraDistortion_130deg.OPTDistortion\")\n",
    "transmittance_file_path = str(assets_data_path / FILES / \"CameraTransmittance.spectrum\")\n",
    "blue_spectrum_path = str(assets_data_path / FILES / \"CameraSensitivityBlue.spectrum\")\n",
    "green_spectrum_path = str(assets_data_path / FILES / \"CameraSensitivityGreen.spectrum\")\n",
    "red_spectrum_path = str(assets_data_path / FILES / \"CameraSensitivityRed.spectrum\")\n",
    "\n",
    "sensor2 = p.create_sensor(name=\"Camera.2\", feature_type=SensorCamera)\n",
    "sensor2.set_distortion_file_uri(uri=distortion_file_path)\n",
    "sensor2.set_mode_photometric().set_transmittance_file_uri(uri=transmittance_file_path)\n",
    "sensor2.set_mode_photometric().set_layer_type_source()\n",
    "sensor2.set_mode_photometric().set_mode_color().set_blue_spectrum_file_uri(uri=blue_spectrum_path)\n",
    "sensor2.set_mode_photometric().set_mode_color().set_green_spectrum_file_uri(uri=green_spectrum_path)\n",
    "sensor2.set_mode_photometric().set_mode_color().set_red_spectrum_file_uri(uri=red_spectrum_path)\n",
    "sensor2.set_focal_length(5.5)\n",
    "sensor2.set_height(value=6).set_width(value=6)  # dimensions\n",
    "sensor2.set_axis_system(\n",
    "    [20, 10, 40, 1, 0, 0, 0, 1, 0, 0, 0, 1]\n",
    ")  # camera location [Origin, Xvector, Yvector, Zvector]\n",
    "sensor2.commit()\n",
    "\n",
    "print(sensor2)"
   ]
  },
  {
   "cell_type": "markdown",
   "id": "b87d6e99",
   "metadata": {},
   "source": [
    "## Read\n",
    "\n",
    "### Sensor Instance\n",
    "\n",
    "A mention \"local: \" is added if it is not yet committed to the server"
   ]
  },
  {
   "cell_type": "code",
   "execution_count": 11,
   "id": "678e2c31",
   "metadata": {
    "execution": {
     "iopub.execute_input": "2025-09-18T14:33:34.938138Z",
     "iopub.status.busy": "2025-09-18T14:33:34.937959Z",
     "iopub.status.idle": "2025-09-18T14:33:34.944279Z",
     "shell.execute_reply": "2025-09-18T14:33:34.943735Z"
    }
   },
   "outputs": [
    {
     "name": "stdout",
     "output_type": "stream",
     "text": [
      "{\n",
      "    \"name\": \"Camera.1\",\n",
      "    \"metadata\": {\n",
      "        \"UniqueId\": \"e88cddf2-bdb9-421a-81f5-df39a1657557\"\n",
      "    },\n",
      "    \"sensor_guid\": \"203791ca-dbf2-4466-8b6e-11cf1dcc6c44\",\n",
      "    \"description\": \"\",\n",
      "    \"result_file_name\": \"\",\n",
      "    \"sensor\": {\n",
      "        \"camera_sensor_template\": {\n",
      "            \"sensor_mode_photometric\": {\n",
      "                \"acquisition_integration\": 0.01,\n",
      "                \"transmittance_file_uri\": \"/app/assets/CameraInputFiles/CameraTransmittance.spectrum\",\n",
      "                \"gamma_correction\": 2.2,\n",
      "                \"png_bits\": \"PNG_16\",\n",
      "                \"color_mode_color\": {\n",
      "                    \"red_spectrum_file_uri\": \"/app/assets/CameraInputFiles/CameraSensitivityRed.spectrum\",\n",
      "                    \"green_spectrum_file_uri\": \"/app/assets/CameraInputFiles/CameraSensitivityGreen.spectrum\",\n",
      "                    \"blue_spectrum_file_uri\": \"/app/assets/CameraInputFiles/CameraSensitivityBlue.spectrum\",\n",
      "                    \"balance_mode_none\": {}\n",
      "                },\n",
      "                \"wavelengths_range\": {\n",
      "                    \"w_start\": 400.0,\n",
      "                    \"w_end\": 700.0,\n",
      "                    \"w_sampling\": 13\n",
      "                },\n",
      "                \"acquisition_lag_time\": 0.0\n",
      "            },\n",
      "            \"focal_length\": 5.0,\n",
      "            \"imager_distance\": 10.0,\n",
      "            \"f_number\": 20.0,\n",
      "            \"horz_pixel\": 640,\n",
      "            \"vert_pixel\": 480,\n",
      "            \"width\": 5.0,\n",
      "            \"height\": 5.0,\n",
      "            \"distortion_file_uri\": \"/app/assets/CameraInputFiles/CameraDistortion_130deg.OPTDistortion\",\n",
      "            \"distorsion_file_uri\": \"\",\n",
      "            \"axis_system\": [\n",
      "                0.0,\n",
      "                0.0,\n",
      "                0.0,\n",
      "                1.0,\n",
      "                0.0,\n",
      "                0.0,\n",
      "                0.0,\n",
      "                1.0,\n",
      "                0.0,\n",
      "                0.0,\n",
      "                0.0,\n",
      "                1.0\n",
      "            ],\n",
      "            \"layer_type_none\": {},\n",
      "            \"trajectory_file_uri\": \"\"\n",
      "        },\n",
      "        \"name\": \"Camera.1\",\n",
      "        \"description\": \"\",\n",
      "        \"metadata\": {}\n",
      "    }\n",
      "}\n"
     ]
    }
   ],
   "source": [
    "print(sensor1)"
   ]
  },
  {
   "cell_type": "markdown",
   "id": "0896ffd8",
   "metadata": {},
   "source": [
    "### Project"
   ]
  },
  {
   "cell_type": "markdown",
   "id": "eee27f62",
   "metadata": {},
   "source": [
    "Committed feature will appear in the project."
   ]
  },
  {
   "cell_type": "code",
   "execution_count": 12,
   "id": "c8b85955",
   "metadata": {
    "execution": {
     "iopub.execute_input": "2025-09-18T14:33:34.946082Z",
     "iopub.status.busy": "2025-09-18T14:33:34.945900Z",
     "iopub.status.idle": "2025-09-18T14:33:34.954545Z",
     "shell.execute_reply": "2025-09-18T14:33:34.953983Z"
    }
   },
   "outputs": [
    {
     "name": "stdout",
     "output_type": "stream",
     "text": [
      "{\n",
      "    \"sensors\": [\n",
      "        {\n",
      "            \"name\": \"Camera.1\",\n",
      "            \"metadata\": {\n",
      "                \"UniqueId\": \"e88cddf2-bdb9-421a-81f5-df39a1657557\"\n",
      "            },\n",
      "            \"sensor_guid\": \"203791ca-dbf2-4466-8b6e-11cf1dcc6c44\",\n",
      "            \"description\": \"\",\n",
      "            \"result_file_name\": \"\",\n",
      "            \"sensor\": {\n",
      "                \"camera_sensor_template\": {\n",
      "                    \"sensor_mode_photometric\": {\n",
      "                        \"acquisition_integration\": 0.01,\n",
      "                        \"transmittance_file_uri\": \"/app/assets/CameraInputFiles/CameraTransmittance.spectrum\",\n",
      "                        \"gamma_correction\": 2.2,\n",
      "                        \"png_bits\": \"PNG_16\",\n",
      "                        \"color_mode_color\": {\n",
      "                            \"red_spectrum_file_uri\": \"/app/assets/CameraInputFiles/CameraSensitivityRed.spectrum\",\n",
      "                            \"green_spectrum_file_uri\": \"/app/assets/CameraInputFiles/CameraSensitivityGreen.spectrum\",\n",
      "                            \"blue_spectrum_file_uri\": \"/app/assets/CameraInputFiles/CameraSensitivityBlue.spectrum\",\n",
      "                            \"balance_mode_none\": {}\n",
      "                        },\n",
      "                        \"wavelengths_range\": {\n",
      "                            \"w_start\": 400.0,\n",
      "                            \"w_end\": 700.0,\n",
      "                            \"w_sampling\": 13\n",
      "                        },\n",
      "                        \"acquisition_lag_time\": 0.0\n",
      "                    },\n",
      "                    \"focal_length\": 5.0,\n",
      "                    \"imager_distance\": 10.0,\n",
      "                    \"f_number\": 20.0,\n",
      "                    \"horz_pixel\": 640,\n",
      "                    \"vert_pixel\": 480,\n",
      "                    \"width\": 5.0,\n",
      "                    \"height\": 5.0,\n",
      "                    \"distortion_file_uri\": \"/app/assets/CameraInputFiles/CameraDistortion_130deg.OPTDistortion\",\n",
      "                    \"distorsion_file_uri\": \"\",\n",
      "                    \"axis_system\": [\n",
      "                        0.0,\n",
      "                        0.0,\n",
      "                        0.0,\n",
      "                        1.0,\n",
      "                        0.0,\n",
      "                        0.0,\n",
      "                        0.0,\n",
      "                        1.0,\n",
      "                        0.0,\n",
      "                        0.0,\n",
      "                        0.0,\n",
      "                        1.0\n",
      "                    ],\n",
      "                    \"layer_type_none\": {},\n",
      "                    \"trajectory_file_uri\": \"\"\n",
      "                },\n",
      "                \"name\": \"Camera.1\",\n",
      "                \"description\": \"\",\n",
      "                \"metadata\": {}\n",
      "            }\n",
      "        },\n",
      "        {\n",
      "            \"name\": \"Camera.2\",\n",
      "            \"metadata\": {\n",
      "                \"UniqueId\": \"73ce8e21-32b0-40f3-9d6d-431df5a79386\"\n",
      "            },\n",
      "            \"sensor_guid\": \"4f6a6c4f-8ae5-42ef-a138-31191fb55e0a\",\n",
      "            \"description\": \"\",\n",
      "            \"result_file_name\": \"\",\n",
      "            \"sensor\": {\n",
      "                \"camera_sensor_template\": {\n",
      "                    \"sensor_mode_photometric\": {\n",
      "                        \"acquisition_integration\": 0.01,\n",
      "                        \"transmittance_file_uri\": \"/app/assets/CameraInputFiles/CameraTransmittance.spectrum\",\n",
      "                        \"gamma_correction\": 2.2,\n",
      "                        \"png_bits\": \"PNG_16\",\n",
      "                        \"color_mode_color\": {\n",
      "                            \"red_spectrum_file_uri\": \"/app/assets/CameraInputFiles/CameraSensitivityRed.spectrum\",\n",
      "                            \"green_spectrum_file_uri\": \"/app/assets/CameraInputFiles/CameraSensitivityGreen.spectrum\",\n",
      "                            \"blue_spectrum_file_uri\": \"/app/assets/CameraInputFiles/CameraSensitivityBlue.spectrum\",\n",
      "                            \"balance_mode_none\": {}\n",
      "                        },\n",
      "                        \"wavelengths_range\": {\n",
      "                            \"w_start\": 400.0,\n",
      "                            \"w_end\": 700.0,\n",
      "                            \"w_sampling\": 13\n",
      "                        },\n",
      "                        \"acquisition_lag_time\": 0.0\n",
      "                    },\n",
      "                    \"focal_length\": 5.5,\n",
      "                    \"imager_distance\": 10.0,\n",
      "                    \"f_number\": 20.0,\n",
      "                    \"horz_pixel\": 640,\n",
      "                    \"vert_pixel\": 480,\n",
      "                    \"width\": 6.0,\n",
      "                    \"height\": 6.0,\n",
      "                    \"distortion_file_uri\": \"/app/assets/CameraInputFiles/CameraDistortion_130deg.OPTDistortion\",\n",
      "                    \"distorsion_file_uri\": \"\",\n",
      "                    \"axis_system\": [\n",
      "                        20.0,\n",
      "                        10.0,\n",
      "                        40.0,\n",
      "                        1.0,\n",
      "                        0.0,\n",
      "                        0.0,\n",
      "                        0.0,\n",
      "                        1.0,\n",
      "                        0.0,\n",
      "                        0.0,\n",
      "                        0.0,\n",
      "                        1.0\n",
      "                    ],\n",
      "                    \"layer_type_source\": {},\n",
      "                    \"trajectory_file_uri\": \"\"\n",
      "                },\n",
      "                \"name\": \"Camera.2\",\n",
      "                \"description\": \"\",\n",
      "                \"metadata\": {}\n",
      "            }\n",
      "        }\n",
      "    ],\n",
      "    \"name\": \"\",\n",
      "    \"description\": \"\",\n",
      "    \"metadata\": {},\n",
      "    \"part_guid\": \"\",\n",
      "    \"sources\": [],\n",
      "    \"simulations\": [],\n",
      "    \"materials\": [],\n",
      "    \"scenes\": []\n",
      "}\n"
     ]
    }
   ],
   "source": [
    "print(p)"
   ]
  },
  {
   "cell_type": "markdown",
   "id": "b188ba33",
   "metadata": {},
   "source": [
    "## Update\n",
    "\n",
    "Tipp: if you are manipulating a sensor already committed, don't forget to commit your changes.\n",
    "\n",
    "If you don't, you will still only watch what is committed on the server."
   ]
  },
  {
   "cell_type": "code",
   "execution_count": 13,
   "id": "617134db",
   "metadata": {
    "execution": {
     "iopub.execute_input": "2025-09-18T14:33:34.956329Z",
     "iopub.status.busy": "2025-09-18T14:33:34.956147Z",
     "iopub.status.idle": "2025-09-18T14:33:34.966465Z",
     "shell.execute_reply": "2025-09-18T14:33:34.965801Z"
    }
   },
   "outputs": [
    {
     "name": "stdout",
     "output_type": "stream",
     "text": [
      "{\n",
      "    \"name\": \"Camera.1\",\n",
      "    \"metadata\": {\n",
      "        \"UniqueId\": \"e88cddf2-bdb9-421a-81f5-df39a1657557\"\n",
      "    },\n",
      "    \"sensor_guid\": \"203791ca-dbf2-4466-8b6e-11cf1dcc6c44\",\n",
      "    \"description\": \"\",\n",
      "    \"result_file_name\": \"\",\n",
      "    \"sensor\": {\n",
      "        \"camera_sensor_template\": {\n",
      "            \"sensor_mode_photometric\": {\n",
      "                \"acquisition_integration\": 0.01,\n",
      "                \"transmittance_file_uri\": \"/app/assets/CameraInputFiles/CameraTransmittance.spectrum\",\n",
      "                \"gamma_correction\": 2.2,\n",
      "                \"png_bits\": \"PNG_16\",\n",
      "                \"color_mode_color\": {\n",
      "                    \"red_spectrum_file_uri\": \"/app/assets/CameraInputFiles/CameraSensitivityRed.spectrum\",\n",
      "                    \"green_spectrum_file_uri\": \"/app/assets/CameraInputFiles/CameraSensitivityGreen.spectrum\",\n",
      "                    \"blue_spectrum_file_uri\": \"/app/assets/CameraInputFiles/CameraSensitivityBlue.spectrum\",\n",
      "                    \"balance_mode_none\": {}\n",
      "                },\n",
      "                \"wavelengths_range\": {\n",
      "                    \"w_start\": 400.0,\n",
      "                    \"w_end\": 700.0,\n",
      "                    \"w_sampling\": 13\n",
      "                },\n",
      "                \"acquisition_lag_time\": 0.0\n",
      "            },\n",
      "            \"focal_length\": 5.0,\n",
      "            \"imager_distance\": 10.0,\n",
      "            \"f_number\": 11.0,\n",
      "            \"horz_pixel\": 640,\n",
      "            \"vert_pixel\": 480,\n",
      "            \"width\": 5.0,\n",
      "            \"height\": 5.0,\n",
      "            \"distortion_file_uri\": \"/app/assets/CameraInputFiles/CameraDistortion_130deg.OPTDistortion\",\n",
      "            \"distorsion_file_uri\": \"\",\n",
      "            \"axis_system\": [\n",
      "                17.0,\n",
      "                10.0,\n",
      "                10.0,\n",
      "                1.0,\n",
      "                0.0,\n",
      "                0.0,\n",
      "                0.0,\n",
      "                1.0,\n",
      "                0.0,\n",
      "                0.0,\n",
      "                0.0,\n",
      "                1.0\n",
      "            ],\n",
      "            \"layer_type_none\": {},\n",
      "            \"trajectory_file_uri\": \"\"\n",
      "        },\n",
      "        \"name\": \"Camera.1\",\n",
      "        \"description\": \"\",\n",
      "        \"metadata\": {}\n",
      "    }\n",
      "}\n"
     ]
    }
   ],
   "source": [
    "# modify f number and axis system\n",
    "sensor1.set_f_number(value=11).set_axis_system([17, 10, 10, 1, 0, 0, 0, 1, 0, 0, 0, 1])\n",
    "sensor1.commit()\n",
    "print(sensor1)"
   ]
  },
  {
   "cell_type": "markdown",
   "id": "62b61e7f",
   "metadata": {},
   "source": [
    "## Reset\n",
    "\n",
    "Possibility to reset local values from the one available in the server."
   ]
  },
  {
   "cell_type": "code",
   "execution_count": 14,
   "id": "4e625836",
   "metadata": {
    "execution": {
     "iopub.execute_input": "2025-09-18T14:33:34.968317Z",
     "iopub.status.busy": "2025-09-18T14:33:34.968135Z",
     "iopub.status.idle": "2025-09-18T14:33:34.974542Z",
     "shell.execute_reply": "2025-09-18T14:33:34.973985Z"
    }
   },
   "outputs": [
    {
     "name": "stdout",
     "output_type": "stream",
     "text": [
      "ansys.api.speos.sensor.v1.SensorTemplate\n",
      "{\n",
      "    \"camera_sensor_template\": {\n",
      "        \"sensor_mode_photometric\": {\n",
      "            \"acquisition_integration\": 0.01,\n",
      "            \"transmittance_file_uri\": \"/app/assets/CameraInputFiles/CameraTransmittance.spectrum\",\n",
      "            \"gamma_correction\": 2.2,\n",
      "            \"png_bits\": \"PNG_16\",\n",
      "            \"color_mode_color\": {\n",
      "                \"red_spectrum_file_uri\": \"/app/assets/CameraInputFiles/CameraSensitivityRed.spectrum\",\n",
      "                \"green_spectrum_file_uri\": \"/app/assets/CameraInputFiles/CameraSensitivityGreen.spectrum\",\n",
      "                \"blue_spectrum_file_uri\": \"/app/assets/CameraInputFiles/CameraSensitivityBlue.spectrum\",\n",
      "                \"balance_mode_none\": {}\n",
      "            },\n",
      "            \"wavelengths_range\": {\n",
      "                \"w_start\": 400.0,\n",
      "                \"w_end\": 700.0,\n",
      "                \"w_sampling\": 13\n",
      "            },\n",
      "            \"acquisition_lag_time\": 0.0\n",
      "        },\n",
      "        \"focal_length\": 5.0,\n",
      "        \"imager_distance\": 10.0,\n",
      "        \"f_number\": 11.0,\n",
      "        \"horz_pixel\": 640,\n",
      "        \"vert_pixel\": 480,\n",
      "        \"width\": 5.0,\n",
      "        \"height\": 5.0,\n",
      "        \"distortion_file_uri\": \"/app/assets/CameraInputFiles/CameraDistortion_130deg.OPTDistortion\",\n",
      "        \"distorsion_file_uri\": \"\"\n",
      "    },\n",
      "    \"name\": \"Camera.1\",\n",
      "    \"description\": \"\",\n",
      "    \"metadata\": {}\n",
      "}\n"
     ]
    }
   ],
   "source": [
    "sensor1.set_mode_geometric()  # set camera in geometric mode but no commit\n",
    "sensor1.reset()  # reset -> this will apply the server value (photometric mode) to the local value\n",
    "sensor1.delete()  # delete (to display the local value with the below print)\n",
    "print(sensor1._sensor_template)"
   ]
  },
  {
   "cell_type": "markdown",
   "id": "e25e6f46",
   "metadata": {},
   "source": [
    "## Delete\n",
    "\n",
    "Once the data is deleted from the server, you can still work with local data and maybe commit\n",
    "later."
   ]
  },
  {
   "cell_type": "code",
   "execution_count": 15,
   "id": "2b81388b",
   "metadata": {
    "execution": {
     "iopub.execute_input": "2025-09-18T14:33:34.976308Z",
     "iopub.status.busy": "2025-09-18T14:33:34.976127Z",
     "iopub.status.idle": "2025-09-18T14:33:34.980736Z",
     "shell.execute_reply": "2025-09-18T14:33:34.980179Z"
    }
   },
   "outputs": [
    {
     "name": "stdout",
     "output_type": "stream",
     "text": [
      "local: {\n",
      "    \"name\": \"Camera.2\",\n",
      "    \"description\": \"\",\n",
      "    \"metadata\": {},\n",
      "    \"sensor_guid\": \"\",\n",
      "    \"result_file_name\": \"\",\n",
      "    \"sensor\": {\n",
      "        \"camera_sensor_template\": {\n",
      "            \"sensor_mode_photometric\": {\n",
      "                \"acquisition_integration\": 0.01,\n",
      "                \"transmittance_file_uri\": \"/app/assets/CameraInputFiles/CameraTransmittance.spectrum\",\n",
      "                \"gamma_correction\": 2.2,\n",
      "                \"png_bits\": \"PNG_16\",\n",
      "                \"color_mode_color\": {\n",
      "                    \"red_spectrum_file_uri\": \"/app/assets/CameraInputFiles/CameraSensitivityRed.spectrum\",\n",
      "                    \"green_spectrum_file_uri\": \"/app/assets/CameraInputFiles/CameraSensitivityGreen.spectrum\",\n",
      "                    \"blue_spectrum_file_uri\": \"/app/assets/CameraInputFiles/CameraSensitivityBlue.spectrum\",\n",
      "                    \"balance_mode_none\": {}\n",
      "                },\n",
      "                \"wavelengths_range\": {\n",
      "                    \"w_start\": 400.0,\n",
      "                    \"w_end\": 700.0,\n",
      "                    \"w_sampling\": 13\n",
      "                },\n",
      "                \"acquisition_lag_time\": 0.0\n",
      "            },\n",
      "            \"focal_length\": 5.5,\n",
      "            \"imager_distance\": 10.0,\n",
      "            \"f_number\": 20.0,\n",
      "            \"horz_pixel\": 640,\n",
      "            \"vert_pixel\": 480,\n",
      "            \"width\": 6.0,\n",
      "            \"height\": 6.0,\n",
      "            \"distortion_file_uri\": \"/app/assets/CameraInputFiles/CameraDistortion_130deg.OPTDistortion\",\n",
      "            \"distorsion_file_uri\": \"\",\n",
      "            \"axis_system\": [\n",
      "                20.0,\n",
      "                10.0,\n",
      "                40.0,\n",
      "                1.0,\n",
      "                0.0,\n",
      "                0.0,\n",
      "                0.0,\n",
      "                1.0,\n",
      "                0.0,\n",
      "                0.0,\n",
      "                0.0,\n",
      "                1.0\n",
      "            ],\n",
      "            \"layer_type_source\": {},\n",
      "            \"trajectory_file_uri\": \"\"\n",
      "        },\n",
      "        \"name\": \"Camera.2\",\n",
      "        \"description\": \"\",\n",
      "        \"metadata\": {}\n",
      "    }\n",
      "}\n"
     ]
    }
   ],
   "source": [
    "sensor2.delete()\n",
    "print(sensor2)"
   ]
  },
  {
   "cell_type": "code",
   "execution_count": 16,
   "id": "261e798a",
   "metadata": {
    "execution": {
     "iopub.execute_input": "2025-09-18T14:33:34.982439Z",
     "iopub.status.busy": "2025-09-18T14:33:34.982263Z",
     "iopub.status.idle": "2025-09-18T14:33:34.988545Z",
     "shell.execute_reply": "2025-09-18T14:33:34.987901Z"
    },
    "lines_to_next_cell": 2
   },
   "outputs": [
    {
     "data": {
      "text/plain": [
       "<ansys.speos.core.sensor.SensorCamera at 0x7f6ded785de0>"
      ]
     },
     "execution_count": 16,
     "metadata": {},
     "output_type": "execute_result"
    }
   ],
   "source": [
    "sensor1.delete()"
   ]
  },
  {
   "cell_type": "markdown",
   "id": "2b805a58",
   "metadata": {},
   "source": [
    "## Other sensors\n",
    "\n",
    "### Irradiance sensor"
   ]
  },
  {
   "cell_type": "code",
   "execution_count": 17,
   "id": "d5c3d1ba",
   "metadata": {
    "execution": {
     "iopub.execute_input": "2025-09-18T14:33:34.990378Z",
     "iopub.status.busy": "2025-09-18T14:33:34.990181Z",
     "iopub.status.idle": "2025-09-18T14:33:35.004005Z",
     "shell.execute_reply": "2025-09-18T14:33:35.003409Z"
    }
   },
   "outputs": [
    {
     "name": "stdout",
     "output_type": "stream",
     "text": [
      "{\n",
      "    \"name\": \"Irradiance.1\",\n",
      "    \"metadata\": {\n",
      "        \"UniqueId\": \"52d979e6-f6b5-4945-8d54-fe9abc179269\"\n",
      "    },\n",
      "    \"sensor_guid\": \"441dacd4-7f09-4fa7-b0c5-edbfc4891a89\",\n",
      "    \"description\": \"\",\n",
      "    \"result_file_name\": \"\",\n",
      "    \"sensor\": {\n",
      "        \"irradiance_sensor_template\": {\n",
      "            \"sensor_type_photometric\": {},\n",
      "            \"illuminance_type_planar\": {},\n",
      "            \"dimensions\": {\n",
      "                \"x_start\": -50.0,\n",
      "                \"x_end\": 50.0,\n",
      "                \"x_sampling\": 100,\n",
      "                \"y_start\": -50.0,\n",
      "                \"y_end\": 50.0,\n",
      "                \"y_sampling\": 100\n",
      "            },\n",
      "            \"axis_system\": [\n",
      "                0.0,\n",
      "                0.0,\n",
      "                0.0,\n",
      "                1.0,\n",
      "                0.0,\n",
      "                0.0,\n",
      "                0.0,\n",
      "                1.0,\n",
      "                0.0,\n",
      "                0.0,\n",
      "                0.0,\n",
      "                1.0\n",
      "            ],\n",
      "            \"layer_type_none\": {},\n",
      "            \"ray_file_type\": \"RayFileNone\",\n",
      "            \"integration_direction\": []\n",
      "        },\n",
      "        \"name\": \"Irradiance.1\",\n",
      "        \"description\": \"\",\n",
      "        \"metadata\": {}\n",
      "    }\n",
      "}\n"
     ]
    }
   ],
   "source": [
    "sensor3 = p.create_sensor(name=\"Irradiance.1\", feature_type=SensorIrradiance)\n",
    "sensor3.commit()\n",
    "print(sensor3)"
   ]
  },
  {
   "cell_type": "code",
   "execution_count": 18,
   "id": "cf020afd",
   "metadata": {
    "execution": {
     "iopub.execute_input": "2025-09-18T14:33:35.005726Z",
     "iopub.status.busy": "2025-09-18T14:33:35.005541Z",
     "iopub.status.idle": "2025-09-18T14:33:35.013584Z",
     "shell.execute_reply": "2025-09-18T14:33:35.013057Z"
    }
   },
   "outputs": [
    {
     "name": "stdout",
     "output_type": "stream",
     "text": [
      "{\n",
      "    \"name\": \"Irradiance.1\",\n",
      "    \"metadata\": {\n",
      "        \"UniqueId\": \"52d979e6-f6b5-4945-8d54-fe9abc179269\"\n",
      "    },\n",
      "    \"sensor_guid\": \"441dacd4-7f09-4fa7-b0c5-edbfc4891a89\",\n",
      "    \"description\": \"\",\n",
      "    \"result_file_name\": \"\",\n",
      "    \"sensor\": {\n",
      "        \"irradiance_sensor_template\": {\n",
      "            \"sensor_type_radiometric\": {},\n",
      "            \"illuminance_type_planar\": {},\n",
      "            \"dimensions\": {\n",
      "                \"x_start\": -50.0,\n",
      "                \"x_end\": 50.0,\n",
      "                \"x_sampling\": 100,\n",
      "                \"y_start\": -50.0,\n",
      "                \"y_end\": 50.0,\n",
      "                \"y_sampling\": 100\n",
      "            },\n",
      "            \"axis_system\": [\n",
      "                0.0,\n",
      "                0.0,\n",
      "                0.0,\n",
      "                1.0,\n",
      "                0.0,\n",
      "                0.0,\n",
      "                0.0,\n",
      "                1.0,\n",
      "                0.0,\n",
      "                0.0,\n",
      "                0.0,\n",
      "                1.0\n",
      "            ],\n",
      "            \"layer_type_polarization\": {},\n",
      "            \"ray_file_type\": \"RayFileNone\",\n",
      "            \"integration_direction\": []\n",
      "        },\n",
      "        \"name\": \"Irradiance.1\",\n",
      "        \"description\": \"\",\n",
      "        \"metadata\": {}\n",
      "    }\n",
      "}\n"
     ]
    }
   ],
   "source": [
    "sensor3.set_type_radiometric()\n",
    "sensor3.set_layer_type_polarization()\n",
    "sensor3.commit()\n",
    "print(sensor3)"
   ]
  },
  {
   "cell_type": "code",
   "execution_count": 19,
   "id": "e4905bc0",
   "metadata": {
    "execution": {
     "iopub.execute_input": "2025-09-18T14:33:35.015298Z",
     "iopub.status.busy": "2025-09-18T14:33:35.015104Z",
     "iopub.status.idle": "2025-09-18T14:33:35.020132Z",
     "shell.execute_reply": "2025-09-18T14:33:35.019554Z"
    }
   },
   "outputs": [
    {
     "data": {
      "text/plain": [
       "<ansys.speos.core.sensor.SensorIrradiance at 0x7f6de81d2a40>"
      ]
     },
     "execution_count": 19,
     "metadata": {},
     "output_type": "execute_result"
    }
   ],
   "source": [
    "sensor3.delete()"
   ]
  },
  {
   "cell_type": "markdown",
   "id": "757b8a91",
   "metadata": {},
   "source": [
    "### radiance sensor"
   ]
  },
  {
   "cell_type": "code",
   "execution_count": 20,
   "id": "92865168",
   "metadata": {
    "execution": {
     "iopub.execute_input": "2025-09-18T14:33:35.021879Z",
     "iopub.status.busy": "2025-09-18T14:33:35.021677Z",
     "iopub.status.idle": "2025-09-18T14:33:35.034721Z",
     "shell.execute_reply": "2025-09-18T14:33:35.034068Z"
    }
   },
   "outputs": [
    {
     "name": "stdout",
     "output_type": "stream",
     "text": [
      "{\n",
      "    \"name\": \"Radiance.1\",\n",
      "    \"metadata\": {\n",
      "        \"UniqueId\": \"f8431caf-572d-49d3-8ac0-e45c8029ba65\"\n",
      "    },\n",
      "    \"sensor_guid\": \"6557e352-2de0-4b35-a03c-1f5c5e5caa2b\",\n",
      "    \"description\": \"\",\n",
      "    \"result_file_name\": \"\",\n",
      "    \"sensor\": {\n",
      "        \"radiance_sensor_template\": {\n",
      "            \"sensor_type_photometric\": {},\n",
      "            \"focal\": 250.0,\n",
      "            \"integration_angle\": 5.0,\n",
      "            \"dimensions\": {\n",
      "                \"x_start\": -50.0,\n",
      "                \"x_end\": 50.0,\n",
      "                \"x_sampling\": 100,\n",
      "                \"y_start\": -50.0,\n",
      "                \"y_end\": 50.0,\n",
      "                \"y_sampling\": 100\n",
      "            },\n",
      "            \"axis_system\": [\n",
      "                0.0,\n",
      "                0.0,\n",
      "                0.0,\n",
      "                1.0,\n",
      "                0.0,\n",
      "                0.0,\n",
      "                0.0,\n",
      "                1.0,\n",
      "                0.0,\n",
      "                0.0,\n",
      "                0.0,\n",
      "                1.0\n",
      "            ],\n",
      "            \"layer_type_none\": {},\n",
      "            \"observer_point\": []\n",
      "        },\n",
      "        \"name\": \"Radiance.1\",\n",
      "        \"description\": \"\",\n",
      "        \"metadata\": {}\n",
      "    }\n",
      "}\n"
     ]
    }
   ],
   "source": [
    "sensor4 = p.create_sensor(name=\"Radiance.1\", feature_type=SensorRadiance)\n",
    "sensor4.commit()\n",
    "print(sensor4)"
   ]
  },
  {
   "cell_type": "code",
   "execution_count": 21,
   "id": "f0b8d16b",
   "metadata": {
    "execution": {
     "iopub.execute_input": "2025-09-18T14:33:35.036445Z",
     "iopub.status.busy": "2025-09-18T14:33:35.036263Z",
     "iopub.status.idle": "2025-09-18T14:33:35.044663Z",
     "shell.execute_reply": "2025-09-18T14:33:35.044110Z"
    }
   },
   "outputs": [
    {
     "name": "stdout",
     "output_type": "stream",
     "text": [
      "{\n",
      "    \"name\": \"Radiance.1\",\n",
      "    \"metadata\": {\n",
      "        \"UniqueId\": \"f8431caf-572d-49d3-8ac0-e45c8029ba65\"\n",
      "    },\n",
      "    \"sensor_guid\": \"6557e352-2de0-4b35-a03c-1f5c5e5caa2b\",\n",
      "    \"description\": \"\",\n",
      "    \"result_file_name\": \"\",\n",
      "    \"sensor\": {\n",
      "        \"radiance_sensor_template\": {\n",
      "            \"sensor_type_spectral\": {\n",
      "                \"wavelengths_range\": {\n",
      "                    \"w_start\": 400.0,\n",
      "                    \"w_end\": 700.0,\n",
      "                    \"w_sampling\": 13\n",
      "                }\n",
      "            },\n",
      "            \"focal\": 200.0,\n",
      "            \"integration_angle\": 5.0,\n",
      "            \"dimensions\": {\n",
      "                \"x_start\": -50.0,\n",
      "                \"x_end\": 50.0,\n",
      "                \"x_sampling\": 100,\n",
      "                \"y_start\": -50.0,\n",
      "                \"y_end\": 50.0,\n",
      "                \"y_sampling\": 100\n",
      "            },\n",
      "            \"axis_system\": [\n",
      "                0.0,\n",
      "                0.0,\n",
      "                0.0,\n",
      "                1.0,\n",
      "                0.0,\n",
      "                0.0,\n",
      "                0.0,\n",
      "                1.0,\n",
      "                0.0,\n",
      "                0.0,\n",
      "                0.0,\n",
      "                1.0\n",
      "            ],\n",
      "            \"layer_type_source\": {},\n",
      "            \"observer_point\": []\n",
      "        },\n",
      "        \"name\": \"Radiance.1\",\n",
      "        \"description\": \"\",\n",
      "        \"metadata\": {}\n",
      "    }\n",
      "}\n"
     ]
    }
   ],
   "source": [
    "sensor4.set_focal(value=200).set_type_spectral()\n",
    "sensor4.set_layer_type_source()\n",
    "sensor4.commit()\n",
    "print(sensor4)"
   ]
  },
  {
   "cell_type": "code",
   "execution_count": 22,
   "id": "925df2b9",
   "metadata": {
    "execution": {
     "iopub.execute_input": "2025-09-18T14:33:35.046283Z",
     "iopub.status.busy": "2025-09-18T14:33:35.046103Z",
     "iopub.status.idle": "2025-09-18T14:33:35.050189Z",
     "shell.execute_reply": "2025-09-18T14:33:35.049637Z"
    }
   },
   "outputs": [
    {
     "name": "stdout",
     "output_type": "stream",
     "text": [
      "local: {\n",
      "    \"name\": \"Radiance.1\",\n",
      "    \"description\": \"\",\n",
      "    \"metadata\": {},\n",
      "    \"sensor_guid\": \"\",\n",
      "    \"result_file_name\": \"\",\n",
      "    \"sensor\": {\n",
      "        \"radiance_sensor_template\": {\n",
      "            \"sensor_type_spectral\": {\n",
      "                \"wavelengths_range\": {\n",
      "                    \"w_start\": 400.0,\n",
      "                    \"w_end\": 700.0,\n",
      "                    \"w_sampling\": 13\n",
      "                }\n",
      "            },\n",
      "            \"focal\": 200.0,\n",
      "            \"integration_angle\": 5.0,\n",
      "            \"dimensions\": {\n",
      "                \"x_start\": -50.0,\n",
      "                \"x_end\": 50.0,\n",
      "                \"x_sampling\": 100,\n",
      "                \"y_start\": -50.0,\n",
      "                \"y_end\": 50.0,\n",
      "                \"y_sampling\": 100\n",
      "            },\n",
      "            \"axis_system\": [\n",
      "                0.0,\n",
      "                0.0,\n",
      "                0.0,\n",
      "                1.0,\n",
      "                0.0,\n",
      "                0.0,\n",
      "                0.0,\n",
      "                1.0,\n",
      "                0.0,\n",
      "                0.0,\n",
      "                0.0,\n",
      "                1.0\n",
      "            ],\n",
      "            \"layer_type_source\": {},\n",
      "            \"observer_point\": []\n",
      "        },\n",
      "        \"name\": \"Radiance.1\",\n",
      "        \"description\": \"\",\n",
      "        \"metadata\": {}\n",
      "    }\n",
      "}\n"
     ]
    }
   ],
   "source": [
    "sensor4.delete()\n",
    "print(sensor4)"
   ]
  },
  {
   "cell_type": "markdown",
   "id": "036d1273",
   "metadata": {},
   "source": [
    "### 3D irradiance sensor"
   ]
  },
  {
   "cell_type": "code",
   "execution_count": 23,
   "id": "9863e536",
   "metadata": {
    "execution": {
     "iopub.execute_input": "2025-09-18T14:33:35.052015Z",
     "iopub.status.busy": "2025-09-18T14:33:35.051808Z",
     "iopub.status.idle": "2025-09-18T14:33:35.100054Z",
     "shell.execute_reply": "2025-09-18T14:33:35.099387Z"
    }
   },
   "outputs": [
    {
     "name": "stdout",
     "output_type": "stream",
     "text": [
      "{\n",
      "    \"name\": \"3D_Irradiance.2\",\n",
      "    \"metadata\": {\n",
      "        \"UniqueId\": \"275d0721-4523-46d2-b434-30e99d1534ec\"\n",
      "    },\n",
      "    \"sensor_guid\": \"3abc8f75-c344-4188-bf05-3684ae52809d\",\n",
      "    \"description\": \"\",\n",
      "    \"result_file_name\": \"\",\n",
      "    \"sensor\": {\n",
      "        \"name\": \"3D_Irradiance.2\",\n",
      "        \"irradiance_3d\": {\n",
      "            \"type_photometric\": {\n",
      "                \"integration_type_planar\": {\n",
      "                    \"reflection\": true,\n",
      "                    \"transmission\": true,\n",
      "                    \"absorption\": true\n",
      "                }\n",
      "            },\n",
      "            \"layer_type_none\": {},\n",
      "            \"geometries\": {\n",
      "                \"geo_paths\": [\n",
      "                    \"TheBodyB/TheFaceF\"\n",
      "                ]\n",
      "            },\n",
      "            \"ray_file_type\": \"RayFileNone\"\n",
      "        },\n",
      "        \"description\": \"\",\n",
      "        \"metadata\": {}\n",
      "    }\n",
      "}\n"
     ]
    }
   ],
   "source": [
    "create_helper_geometries(p)\n",
    "sensor5 = p.create_sensor(name=\"3D_Irradiance.2\", feature_type=Sensor3DIrradiance)\n",
    "sensor5.set_geometries([GeoRef.from_native_link(\"TheBodyB/TheFaceF\")])\n",
    "sensor5.commit()\n",
    "print(sensor5)"
   ]
  },
  {
   "cell_type": "code",
   "execution_count": 24,
   "id": "8e0dd08f",
   "metadata": {
    "execution": {
     "iopub.execute_input": "2025-09-18T14:33:35.101784Z",
     "iopub.status.busy": "2025-09-18T14:33:35.101594Z",
     "iopub.status.idle": "2025-09-18T14:33:35.105726Z",
     "shell.execute_reply": "2025-09-18T14:33:35.105086Z"
    }
   },
   "outputs": [
    {
     "data": {
      "text/plain": [
       "True"
      ]
     },
     "execution_count": 24,
     "metadata": {},
     "output_type": "execute_result"
    }
   ],
   "source": [
    "speos.close()"
   ]
  }
 ],
 "metadata": {
  "jupytext": {
   "cell_metadata_filter": "-all",
   "main_language": "python",
   "notebook_metadata_filter": "-all",
   "text_representation": {
    "extension": ".py",
    "format_name": "light"
   }
  },
  "language_info": {
   "codemirror_mode": {
    "name": "ipython",
    "version": 3
   },
   "file_extension": ".py",
   "mimetype": "text/x-python",
   "name": "python",
   "nbconvert_exporter": "python",
   "pygments_lexer": "ipython3",
   "version": "3.10.18"
  }
 },
 "nbformat": 4,
 "nbformat_minor": 5
}
