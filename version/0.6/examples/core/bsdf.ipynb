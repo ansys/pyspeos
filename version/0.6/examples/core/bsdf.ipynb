{
 "cells": [
  {
   "cell_type": "markdown",
   "id": "d9c6d643",
   "metadata": {},
   "source": [
    "# How to create a anisotropic bsdf file"
   ]
  },
  {
   "cell_type": "markdown",
   "id": "74163c19",
   "metadata": {},
   "source": [
    "This tutorial demonstrates how to create bsdf file using pyspeos"
   ]
  },
  {
   "cell_type": "markdown",
   "id": "095f6bbd",
   "metadata": {},
   "source": [
    "## What is a BSDF"
   ]
  },
  {
   "cell_type": "markdown",
   "id": "a0803356",
   "metadata": {},
   "source": [
    "BSDF stands for Bidirectional Scattering Distribution Function, which is\n",
    "a mathematical function that characterizes how light is scattered from a\n",
    "surface.\n",
    "In Speos we have two models to represent BSDF data: Spectral BSDF(*.brdf)\n",
    "and Anisotropic BSDF (*.anisotropicbsdf).\n",
    "The first allows for each wavelength to store a full bsdf description with\n",
    "this it allows for great color representation.\n",
    "the second uses spectral modulation to represent the color but allows for\n",
    "anisotropic behaviour by taking a BSDF for each anistropic angle.\n",
    "Both formats need an interpolation between incident/anistropic angles and wavelength\n",
    "In many cases the data comes from measurements and need coordinate transformations\n",
    "to be used"
   ]
  },
  {
   "cell_type": "markdown",
   "id": "e5ca2d15",
   "metadata": {},
   "source": [
    "## Prerequisites\n",
    "\n",
    "### Perform imports"
   ]
  },
  {
   "cell_type": "code",
   "execution_count": 1,
   "id": "2e526ae7",
   "metadata": {
    "execution": {
     "iopub.execute_input": "2025-09-18T14:31:23.676978Z",
     "iopub.status.busy": "2025-09-18T14:31:23.676669Z",
     "iopub.status.idle": "2025-09-18T14:31:24.508485Z",
     "shell.execute_reply": "2025-09-18T14:31:24.507762Z"
    }
   },
   "outputs": [],
   "source": [
    "from pathlib import Path\n",
    "\n",
    "import numpy as np\n",
    "\n",
    "from ansys.speos.core import Speos\n",
    "from ansys.speos.core.bsdf import AnisotropicBSDF, BxdfDatapoint\n",
    "from ansys.speos.core.launcher import launch_local_speos_rpc_server\n",
    "from ansys.speos.core.speos import SpeosClient\n"
   ]
  },
  {
   "cell_type": "markdown",
   "id": "c2d21686",
   "metadata": {},
   "source": [
    "### Define constants\n",
    "Constants help ensure consistency and avoid repetition throughout the example."
   ]
  },
  {
   "cell_type": "code",
   "execution_count": 2,
   "id": "5ea57ea2",
   "metadata": {
    "execution": {
     "iopub.execute_input": "2025-09-18T14:31:24.510986Z",
     "iopub.status.busy": "2025-09-18T14:31:24.510668Z",
     "iopub.status.idle": "2025-09-18T14:31:24.513895Z",
     "shell.execute_reply": "2025-09-18T14:31:24.513262Z"
    }
   },
   "outputs": [],
   "source": [
    "HOSTNAME = \"localhost\"\n",
    "GRPC_PORT = 50098  # Be sure the Speos GRPC Server has been started on this port.\n",
    "USE_DOCKER = True  # Set to False if you're running this example locally as a Notebook."
   ]
  },
  {
   "cell_type": "markdown",
   "id": "8c01ce4c",
   "metadata": {
    "lines_to_next_cell": 2
   },
   "source": [
    "### Define helper functions"
   ]
  },
  {
   "cell_type": "code",
   "execution_count": 3,
   "id": "4a8474fc",
   "metadata": {
    "execution": {
     "iopub.execute_input": "2025-09-18T14:31:24.515585Z",
     "iopub.status.busy": "2025-09-18T14:31:24.515392Z",
     "iopub.status.idle": "2025-09-18T14:31:24.519972Z",
     "shell.execute_reply": "2025-09-18T14:31:24.519349Z"
    }
   },
   "outputs": [],
   "source": [
    "def clean_all_dbs(speos_client: SpeosClient):\n",
    "    \"\"\"Clean all database entries of a current SpeosRPC client.\n",
    "\n",
    "    Parameters\n",
    "    ----------\n",
    "    speos_client : ansys.speos.core.kernel.client.SpeosClient\n",
    "        SpeosRPC server client\n",
    "\n",
    "    Returns\n",
    "    -------\n",
    "    None\n",
    "    \"\"\"\n",
    "    for item in (\n",
    "        speos_client.jobs().list()\n",
    "        + speos_client.scenes().list()\n",
    "        + speos_client.simulation_templates().list()\n",
    "        + speos_client.sensor_templates().list()\n",
    "        + speos_client.source_templates().list()\n",
    "        + speos_client.intensity_templates().list()\n",
    "        + speos_client.spectrums().list()\n",
    "        + speos_client.vop_templates().list()\n",
    "        + speos_client.sop_templates().list()\n",
    "        + speos_client.parts().list()\n",
    "        + speos_client.bodies().list()\n",
    "        + speos_client.faces().list()\n",
    "    ):\n",
    "        item.delete()"
   ]
  },
  {
   "cell_type": "code",
   "execution_count": 4,
   "id": "ea6795f6",
   "metadata": {
    "execution": {
     "iopub.execute_input": "2025-09-18T14:31:24.521760Z",
     "iopub.status.busy": "2025-09-18T14:31:24.521581Z",
     "iopub.status.idle": "2025-09-18T14:31:24.526800Z",
     "shell.execute_reply": "2025-09-18T14:31:24.526179Z"
    }
   },
   "outputs": [],
   "source": [
    "def create_lambertian_bsdf(is_brdf, nb_theta=5, nb_phi=5):\n",
    "    \"\"\"\n",
    "    Create a lambertian Distribution as np.array.\n",
    "\n",
    "    Parameters\n",
    "    ----------\n",
    "    is_brdf: bool\n",
    "        True if generating brdf data, False btdf data\n",
    "    nb_theta: int\n",
    "        number of theta samplings\n",
    "    nb_phi: int\n",
    "        number of phi samplings\n",
    "\n",
    "    Returns\n",
    "    -------\n",
    "    theta: np.array,\n",
    "        shape (nb_theta, 3)\n",
    "    phi: np.array,\n",
    "        shape (nb_phi, 3)\n",
    "    brdf: np.array,\n",
    "        shape (nb_theta, nb_phi)\n",
    "\n",
    "    \"\"\"\n",
    "    thetas = np.zeros(nb_theta)\n",
    "    phis = np.zeros(nb_phi)\n",
    "    bxdf = np.zeros((nb_theta, nb_phi))\n",
    "    if is_brdf:\n",
    "        for t in range(nb_theta):\n",
    "            thetas[t] = t * np.pi * 0.5 / (nb_theta - 1)\n",
    "            for p in range(nb_phi):\n",
    "                phis[p] = p * 2 * np.pi / (nb_phi - 1)\n",
    "                bxdf[t, p] = np.cos(thetas[t]) / np.pi\n",
    "    else:\n",
    "        for t in range(nb_theta):\n",
    "            thetas[t] = np.pi * 0.5 * (1 + t / (nb_theta - 1))\n",
    "            for p in range(nb_phi):\n",
    "                phis[p] = p * 2 * np.pi / (nb_phi - 1)\n",
    "    return thetas, phis, bxdf"
   ]
  },
  {
   "cell_type": "code",
   "execution_count": 5,
   "id": "d838a28b",
   "metadata": {
    "execution": {
     "iopub.execute_input": "2025-09-18T14:31:24.528676Z",
     "iopub.status.busy": "2025-09-18T14:31:24.528487Z",
     "iopub.status.idle": "2025-09-18T14:31:24.532232Z",
     "shell.execute_reply": "2025-09-18T14:31:24.531596Z"
    }
   },
   "outputs": [],
   "source": [
    "def create_spectrum(value, w_start=380.0, w_end=780.0, w_step=10):\n",
    "    \"\"\"\n",
    "    Create a spectrum for a bsdf.\n",
    "\n",
    "    Parameters\n",
    "    ----------\n",
    "    value: float\n",
    "        spectrum value\n",
    "    w_start: float\n",
    "        wavelength start\n",
    "    w_end: float\n",
    "        wavelength end\n",
    "    w_step: int\n",
    "        wavelength sampling number\n",
    "\n",
    "    Returns\n",
    "    -------\n",
    "    spectrum: np.array,\n",
    "\n",
    "    \"\"\"\n",
    "    spectrum = np.zeros((2, w_step))\n",
    "    for w in range(w_step):\n",
    "        spectrum[0, w] = w_start + w * (w_end - w_start) / (w_step - 1)\n",
    "        spectrum[1, w] = value\n",
    "    return spectrum"
   ]
  },
  {
   "cell_type": "markdown",
   "id": "183c2323",
   "metadata": {},
   "source": [
    "## Model Setup\n",
    "\n",
    "### Load assets\n",
    "The assets used to run this example are available in the\n",
    "[PySpeos repository](https://github.com/ansys/pyspeos/) on GitHub.\n",
    "\n",
    "> **Note:** Make sure you have downloaded simulation assets and\n",
    "> set ``assets_data_path`` to point to the assets folder."
   ]
  },
  {
   "cell_type": "code",
   "execution_count": 6,
   "id": "994c655a",
   "metadata": {
    "execution": {
     "iopub.execute_input": "2025-09-18T14:31:24.533961Z",
     "iopub.status.busy": "2025-09-18T14:31:24.533763Z",
     "iopub.status.idle": "2025-09-18T14:31:24.536544Z",
     "shell.execute_reply": "2025-09-18T14:31:24.536046Z"
    },
    "lines_to_next_cell": 2
   },
   "outputs": [],
   "source": [
    "if USE_DOCKER:  # Running on the remote server.\n",
    "    assets_data_path = Path(\"/app\") / \"assets\"\n",
    "else:\n",
    "    assets_data_path = Path(\"/path/to/your/download/assets/directory\")"
   ]
  },
  {
   "cell_type": "markdown",
   "id": "91b1042b",
   "metadata": {},
   "source": [
    "### Create Anisotropic BSDF from datapoints\n",
    "To create and save a bsdf we need to first create a connection to the SpeosRPC server\n",
    "### Connect to the RPC Server\n",
    "This Python client connects to a server where the Speos engine\n",
    "is running as a service. In this example, the server and\n",
    "client are the same machine. The launch_local_speos_rpc_method can\n",
    "be used to start a local instance of the service."
   ]
  },
  {
   "cell_type": "code",
   "execution_count": 7,
   "id": "6436861d",
   "metadata": {
    "execution": {
     "iopub.execute_input": "2025-09-18T14:31:24.538262Z",
     "iopub.status.busy": "2025-09-18T14:31:24.538093Z",
     "iopub.status.idle": "2025-09-18T14:31:24.546093Z",
     "shell.execute_reply": "2025-09-18T14:31:24.545557Z"
    }
   },
   "outputs": [],
   "source": [
    "if USE_DOCKER:\n",
    "    speos = Speos(host=HOSTNAME, port=GRPC_PORT)\n",
    "else:\n",
    "    speos = launch_local_speos_rpc_server(port=GRPC_PORT)"
   ]
  },
  {
   "cell_type": "markdown",
   "id": "d825850f",
   "metadata": {},
   "source": [
    "### Create a BXDFDatapoint\n",
    "to create a bsdf we need the bsdf for multiple incident angles.\n",
    "In this example we assume the color doesn't change over the icnident\n",
    "angles so we can use anisotropic bsdf and we assume the data has no\n",
    "anisotropy"
   ]
  },
  {
   "cell_type": "code",
   "execution_count": 8,
   "id": "2f07444d",
   "metadata": {
    "execution": {
     "iopub.execute_input": "2025-09-18T14:31:24.547808Z",
     "iopub.status.busy": "2025-09-18T14:31:24.547631Z",
     "iopub.status.idle": "2025-09-18T14:31:24.562064Z",
     "shell.execute_reply": "2025-09-18T14:31:24.561505Z"
    }
   },
   "outputs": [
    {
     "name": "stdout",
     "output_type": "stream",
     "text": [
      "{'anisotropy': 0, 'bxdf': array([[3.18309886e-01, 3.18309886e-01, 3.18309886e-01, 3.18309886e-01,\n",
      "        3.18309886e-01],\n",
      "       [2.94079989e-01, 2.94079989e-01, 2.94079989e-01, 2.94079989e-01,\n",
      "        2.94079989e-01],\n",
      "       [2.25079079e-01, 2.25079079e-01, 2.25079079e-01, 2.25079079e-01,\n",
      "        2.25079079e-01],\n",
      "       [1.21811920e-01, 1.21811920e-01, 1.21811920e-01, 1.21811920e-01,\n",
      "        1.21811920e-01],\n",
      "       [1.94908592e-17, 1.94908592e-17, 1.94908592e-17, 1.94908592e-17,\n",
      "        1.94908592e-17]]), 'is_brdf': True, 'incident_angle': np.float64(0.08726646259971647), 'theta_values': array([0.        , 0.39269908, 0.78539816, 1.17809725, 1.57079633]), 'phi_values': array([0.        , 1.57079633, 3.14159265, 4.71238898, 6.28318531])}\n"
     ]
    }
   ],
   "source": [
    "clean_all_dbs(speos.client)  # clean all the database entries\n",
    "incident_angles = [np.radians(5), np.radians(25), np.radians(45), np.radians(65), np.radians(85)]\n",
    "all_brdfs = []\n",
    "for inc in incident_angles:\n",
    "    thetas, phis, brdf = create_lambertian_bsdf(True)\n",
    "    all_brdfs.append(BxdfDatapoint(True, inc, thetas, phis, brdf))\n",
    "print(all_brdfs[0])"
   ]
  },
  {
   "cell_type": "markdown",
   "id": "8f7a3db6",
   "metadata": {},
   "source": [
    "### Create Anistropic BSDF class instance"
   ]
  },
  {
   "cell_type": "code",
   "execution_count": 9,
   "id": "95278ba3",
   "metadata": {
    "execution": {
     "iopub.execute_input": "2025-09-18T14:31:24.563898Z",
     "iopub.status.busy": "2025-09-18T14:31:24.563694Z",
     "iopub.status.idle": "2025-09-18T14:31:24.566758Z",
     "shell.execute_reply": "2025-09-18T14:31:24.566243Z"
    }
   },
   "outputs": [],
   "source": [
    "new_bsdf = AnisotropicBSDF(speos)\n",
    "new_bsdf.description = \"PySpeos BSDF Example\"\n",
    "new_bsdf.anisotropy_vector = [1, 0, 0]"
   ]
  },
  {
   "cell_type": "markdown",
   "id": "dec778f5",
   "metadata": {},
   "source": [
    "Create Spectrum with 80% reflectivity"
   ]
  },
  {
   "cell_type": "code",
   "execution_count": 10,
   "id": "7ab89f38",
   "metadata": {
    "execution": {
     "iopub.execute_input": "2025-09-18T14:31:24.568490Z",
     "iopub.status.busy": "2025-09-18T14:31:24.568315Z",
     "iopub.status.idle": "2025-09-18T14:31:24.570988Z",
     "shell.execute_reply": "2025-09-18T14:31:24.570450Z"
    }
   },
   "outputs": [],
   "source": [
    "spectrum = create_spectrum(0.8)"
   ]
  },
  {
   "cell_type": "markdown",
   "id": "a945687c",
   "metadata": {},
   "source": [
    "Assign reflection spectrum to bsdf"
   ]
  },
  {
   "cell_type": "code",
   "execution_count": 11,
   "id": "3e2ce10c",
   "metadata": {
    "execution": {
     "iopub.execute_input": "2025-09-18T14:31:24.572707Z",
     "iopub.status.busy": "2025-09-18T14:31:24.572521Z",
     "iopub.status.idle": "2025-09-18T14:31:24.575669Z",
     "shell.execute_reply": "2025-09-18T14:31:24.575021Z"
    }
   },
   "outputs": [],
   "source": [
    "new_bsdf.has_reflection = True\n",
    "new_bsdf.spectrum_incidence = np.radians(0)\n",
    "new_bsdf.spectrum_anisotropy = np.radians(0)\n",
    "new_bsdf.reflection_spectrum = spectrum"
   ]
  },
  {
   "cell_type": "markdown",
   "id": "89d2beff",
   "metadata": {},
   "source": [
    "Assign brdf data"
   ]
  },
  {
   "cell_type": "code",
   "execution_count": 12,
   "id": "0d929cd1",
   "metadata": {
    "execution": {
     "iopub.execute_input": "2025-09-18T14:31:24.577481Z",
     "iopub.status.busy": "2025-09-18T14:31:24.577307Z",
     "iopub.status.idle": "2025-09-18T14:31:24.582180Z",
     "shell.execute_reply": "2025-09-18T14:31:24.581642Z"
    }
   },
   "outputs": [
    {
     "name": "stdout",
     "output_type": "stream",
     "text": [
      "{'has_transmission': False, 'has_reflection': True, 'brdf': [<ansys.speos.core.bsdf.BxdfDatapoint object at 0x7f8b89b4cee0>, <ansys.speos.core.bsdf.BxdfDatapoint object at 0x7f8b89b4d300>, <ansys.speos.core.bsdf.BxdfDatapoint object at 0x7f8b89b4cdc0>, <ansys.speos.core.bsdf.BxdfDatapoint object at 0x7f8b89b4d570>, <ansys.speos.core.bsdf.BxdfDatapoint object at 0x7f8b89b4cd60>], 'btdf': None, 'nb_incidents': [5, 0], 'incident_angles': [[np.float64(0.08726646259971647), np.float64(0.4363323129985824), np.float64(0.7853981633974483), np.float64(1.1344640137963142), np.float64(1.4835298641951802)], []], 'interpolation_settings': None, 'anisotropic_angles': [[0], []], 'spectrum_incidence': [np.float64(0.0), 0], 'spectrum_anisotropy': [np.float64(0.0), 0], 'reflection_spectrum': array([[380.        , 424.44444444, 468.88888889, 513.33333333,\n",
      "        557.77777778, 602.22222222, 646.66666667, 691.11111111,\n",
      "        735.55555556, 780.        ],\n",
      "       [  0.8       ,   0.8       ,   0.8       ,   0.8       ,\n",
      "          0.8       ,   0.8       ,   0.8       ,   0.8       ,\n",
      "          0.8       ,   0.8       ]]), 'transmission_spectrum': None}\n"
     ]
    }
   ],
   "source": [
    "new_bsdf.brdf = all_brdfs\n",
    "save_path = assets_data_path / \"example_bsdf.anisotropicbsdf\"\n",
    "new_bsdf.save(save_path)\n",
    "print(new_bsdf)"
   ]
  },
  {
   "cell_type": "markdown",
   "id": "10bb65f6",
   "metadata": {},
   "source": [
    "### BSDF Interpolation Enhancement\n",
    "This section shows:\n",
    "- How to apply automatic interpolation settings and save a post-processed bsdf file.\n",
    "- How to change interpolation settings, apply the new settings to bsdf,\n",
    "and save the post-processed file\n",
    "- How to re-load a bsdf file has interpolation enhanced and retrieve the interpolation settings."
   ]
  },
  {
   "cell_type": "code",
   "execution_count": 13,
   "id": "6b2e0d90",
   "metadata": {
    "execution": {
     "iopub.execute_input": "2025-09-18T14:31:24.583829Z",
     "iopub.status.busy": "2025-09-18T14:31:24.583656Z",
     "iopub.status.idle": "2025-09-18T14:31:24.594478Z",
     "shell.execute_reply": "2025-09-18T14:31:24.593950Z"
    }
   },
   "outputs": [
    {
     "name": "stdout",
     "output_type": "stream",
     "text": [
      "None\n",
      "<ansys.speos.core.bsdf.InterpolationEnhancement object at 0x7f8bd081bfa0>\n"
     ]
    },
    {
     "data": {
      "text/plain": [
       "PosixPath('/app/assets/example_bsdf_automatic_interpolation.anisotropicbsdf')"
      ]
     },
     "execution_count": 13,
     "metadata": {},
     "output_type": "execute_result"
    }
   ],
   "source": [
    "print(\n",
    "    new_bsdf.interpolation_settings\n",
    ")  # user can check if there was interpolation settings, here is None\n",
    "new_bsdf.create_interpolation_enhancement(index_1=1.0, index_2=1.4)\n",
    "print(new_bsdf.interpolation_settings)  # Now interpolation settings is not None\n",
    "new_bsdf.save(file_path=assets_data_path / \"example_bsdf_automatic_interpolation.anisotropicbsdf\")"
   ]
  },
  {
   "cell_type": "markdown",
   "id": "c6020264",
   "metadata": {},
   "source": [
    "Apply user defined interpolation enhancement"
   ]
  },
  {
   "cell_type": "code",
   "execution_count": 14,
   "id": "5528e912",
   "metadata": {
    "execution": {
     "iopub.execute_input": "2025-09-18T14:31:24.596269Z",
     "iopub.status.busy": "2025-09-18T14:31:24.596092Z",
     "iopub.status.idle": "2025-09-18T14:31:24.601744Z",
     "shell.execute_reply": "2025-09-18T14:31:24.601090Z"
    }
   },
   "outputs": [
    {
     "name": "stdout",
     "output_type": "stream",
     "text": [
      "{'0': {'0.08726646259971647': {'half_angle': 1.5533430342749535, 'height': 0.3141551883034776}, '0.4363323129985824': {'half_angle': 1.5533430342749535, 'height': 0.3141551883034776}, '0.7853981633974483': {'half_angle': 1.5533430342749535, 'height': 0.3141551883034776}, '1.1344640137963142': {'half_angle': 1.5533430342749535, 'height': 0.3141551883034776}, '1.4835298641951802': {'half_angle': 1.5533430342749535, 'height': 0.3141551883034776}}}\n"
     ]
    }
   ],
   "source": [
    "interpolation_settings = new_bsdf.create_interpolation_enhancement(index_1=1.0, index_2=1.4)\n",
    "interpolation_settings_reflection = (\n",
    "    interpolation_settings.get_reflection_interpolation_settings\n",
    ")  # return as fixed dictionary, user cannot add/remove item\n",
    "print(interpolation_settings_reflection)"
   ]
  },
  {
   "cell_type": "markdown",
   "id": "218bb7e9",
   "metadata": {},
   "source": [
    "Change interpolation settings"
   ]
  },
  {
   "cell_type": "code",
   "execution_count": 15,
   "id": "14aeaf9f",
   "metadata": {
    "execution": {
     "iopub.execute_input": "2025-09-18T14:31:24.603523Z",
     "iopub.status.busy": "2025-09-18T14:31:24.603308Z",
     "iopub.status.idle": "2025-09-18T14:31:24.606474Z",
     "shell.execute_reply": "2025-09-18T14:31:24.605861Z"
    }
   },
   "outputs": [],
   "source": [
    "interpolation_settings_reflection[\"0\"][str(np.radians(5))][\"half_angle\"] = 0.523\n",
    "interpolation_settings_reflection[\"0\"][str(np.radians(5))][\"height\"] = 0.5"
   ]
  },
  {
   "cell_type": "markdown",
   "id": "10c52ab0",
   "metadata": {},
   "source": [
    "Set the changed interpolation settings back to bsdf file and save"
   ]
  },
  {
   "cell_type": "code",
   "execution_count": 16,
   "id": "2a6b9852",
   "metadata": {
    "execution": {
     "iopub.execute_input": "2025-09-18T14:31:24.608207Z",
     "iopub.status.busy": "2025-09-18T14:31:24.608005Z",
     "iopub.status.idle": "2025-09-18T14:31:24.614085Z",
     "shell.execute_reply": "2025-09-18T14:31:24.613557Z"
    }
   },
   "outputs": [
    {
     "data": {
      "text/plain": [
       "PosixPath('/app/assets/example_bsdf_user_interpolation.anisotropicbsdf')"
      ]
     },
     "execution_count": 16,
     "metadata": {},
     "output_type": "execute_result"
    }
   ],
   "source": [
    "interpolation_settings.set_interpolation_settings(\n",
    "    is_brdf=True, settings=interpolation_settings_reflection\n",
    ")\n",
    "new_bsdf.save(file_path=assets_data_path / \"example_bsdf_user_interpolation.anisotropicbsdf\")"
   ]
  },
  {
   "cell_type": "markdown",
   "id": "d5682f7d",
   "metadata": {},
   "source": [
    "Load a bsdf file with interpolation enhanced"
   ]
  },
  {
   "cell_type": "code",
   "execution_count": 17,
   "id": "89312fe3",
   "metadata": {
    "execution": {
     "iopub.execute_input": "2025-09-18T14:31:24.615774Z",
     "iopub.status.busy": "2025-09-18T14:31:24.615603Z",
     "iopub.status.idle": "2025-09-18T14:31:24.627979Z",
     "shell.execute_reply": "2025-09-18T14:31:24.627326Z"
    }
   },
   "outputs": [
    {
     "name": "stdout",
     "output_type": "stream",
     "text": [
      "<ansys.speos.core.bsdf.InterpolationEnhancement object at 0x7f8b89b4e5f0>\n",
      "{'0.0': {'0.08726646259971647': {'half_angle': 0.523, 'height': 0.5}, '0.4363323129985824': {'half_angle': 1.5533430342749535, 'height': 0.3141551883034776}, '0.7853981633974483': {'half_angle': 1.5533430342749535, 'height': 0.3141551883034776}, '1.1344640137963142': {'half_angle': 1.5533430342749535, 'height': 0.3141551883034776}, '1.4835298641951802': {'half_angle': 1.5533430342749535, 'height': 0.3141551883034776}}}\n",
      "{'0.0': {'0.08726646259971647': {'half_angle': 1.5533430342749535, 'height': 0.3141551883034776}, '0.4363323129985824': {'half_angle': 1.5533430342749535, 'height': 0.3141551883034776}, '0.7853981633974483': {'half_angle': 1.5533430342749535, 'height': 0.3141551883034776}, '1.1344640137963142': {'half_angle': 1.5533430342749535, 'height': 0.3141551883034776}, '1.4835298641951802': {'half_angle': 1.5533430342749535, 'height': 0.3141551883034776}}}\n"
     ]
    }
   ],
   "source": [
    "clean_all_dbs(speos.client)\n",
    "saved_bsdf = AnisotropicBSDF(\n",
    "    speos=speos, file_path=assets_data_path / \"example_bsdf_user_interpolation.anisotropicbsdf\"\n",
    ")\n",
    "print(\n",
    "    saved_bsdf.interpolation_settings\n",
    ")  # here an InterpolationEnhancement Class object is returned\n",
    "previous_settings = saved_bsdf.interpolation_settings\n",
    "print(\n",
    "    previous_settings.get_reflection_interpolation_settings\n",
    ")  # user can review the previous settings\n",
    "previous_settings = saved_bsdf.create_interpolation_enhancement(index_1=1.0, index_2=1.4)\n",
    "print(\n",
    "    previous_settings.get_reflection_interpolation_settings\n",
    ")  # with same index values, user use create_interpolation_enhancement to create a new settings"
   ]
  },
  {
   "cell_type": "markdown",
   "id": "fedbde1f",
   "metadata": {},
   "source": [
    "Defined new interpolation settings for an already enhanced bsdf file"
   ]
  },
  {
   "cell_type": "code",
   "execution_count": 18,
   "id": "9fd758cf",
   "metadata": {
    "execution": {
     "iopub.execute_input": "2025-09-18T14:31:24.629852Z",
     "iopub.status.busy": "2025-09-18T14:31:24.629648Z",
     "iopub.status.idle": "2025-09-18T14:31:24.635152Z",
     "shell.execute_reply": "2025-09-18T14:31:24.634480Z"
    }
   },
   "outputs": [
    {
     "name": "stdout",
     "output_type": "stream",
     "text": [
      "{'0.0': {'0.08726646259971647': {'half_angle': 1.5533430342749535, 'height': 0.3141551883034776}, '0.4363323129985824': {'half_angle': 1.5533430342749535, 'height': 0.3141551883034776}, '0.7853981633974483': {'half_angle': 1.5533430342749535, 'height': 0.3141551883034776}, '1.1344640137963142': {'half_angle': 1.5533430342749535, 'height': 0.3141551883034776}, '1.4835298641951802': {'half_angle': 1.5533430342749535, 'height': 0.3141551883034776}}}\n"
     ]
    }
   ],
   "source": [
    "previous_settings_diff_index = saved_bsdf.create_interpolation_enhancement(index_1=1.0, index_2=1.5)\n",
    "print(\n",
    "    previous_settings.get_reflection_interpolation_settings\n",
    ")  # with different index values, a new automatic settings is returned"
   ]
  },
  {
   "cell_type": "code",
   "execution_count": 19,
   "id": "8e8e8dec",
   "metadata": {
    "execution": {
     "iopub.execute_input": "2025-09-18T14:31:24.636884Z",
     "iopub.status.busy": "2025-09-18T14:31:24.636683Z",
     "iopub.status.idle": "2025-09-18T14:31:24.750112Z",
     "shell.execute_reply": "2025-09-18T14:31:24.749550Z"
    }
   },
   "outputs": [
    {
     "data": {
      "text/plain": [
       "True"
      ]
     },
     "execution_count": 19,
     "metadata": {},
     "output_type": "execute_result"
    }
   ],
   "source": [
    "speos.close()"
   ]
  }
 ],
 "metadata": {
  "jupytext": {
   "cell_metadata_filter": "-all",
   "main_language": "python",
   "notebook_metadata_filter": "-all",
   "text_representation": {
    "extension": ".py",
    "format_name": "light"
   }
  },
  "language_info": {
   "codemirror_mode": {
    "name": "ipython",
    "version": 3
   },
   "file_extension": ".py",
   "mimetype": "text/x-python",
   "name": "python",
   "nbconvert_exporter": "python",
   "pygments_lexer": "ipython3",
   "version": "3.10.18"
  }
 },
 "nbformat": 4,
 "nbformat_minor": 5
}
