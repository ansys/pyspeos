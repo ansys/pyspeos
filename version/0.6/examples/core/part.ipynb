{
 "cells": [
  {
   "cell_type": "markdown",
   "id": "ad944e4f",
   "metadata": {},
   "source": [
    "# How to create a part\n",
    "\n",
    "This tutorial demonstrates how to create a part.\n",
    "\n",
    "## What is a part?\n",
    "\n",
    "A part is either a volume or a face type bodies that are defined by a number of mesh triangles.\n",
    "\n",
    "Then a material optical property can be then applied to a part (like bodies, faces)."
   ]
  },
  {
   "cell_type": "markdown",
   "id": "b88d46a2",
   "metadata": {},
   "source": [
    "## Prerequisites\n",
    "\n",
    "### Perform imports"
   ]
  },
  {
   "cell_type": "code",
   "execution_count": 1,
   "id": "0b895637",
   "metadata": {
    "execution": {
     "iopub.execute_input": "2025-09-18T14:31:57.774535Z",
     "iopub.status.busy": "2025-09-18T14:31:57.774341Z",
     "iopub.status.idle": "2025-09-18T14:31:58.601483Z",
     "shell.execute_reply": "2025-09-18T14:31:58.600747Z"
    }
   },
   "outputs": [],
   "source": [
    "from pathlib import Path\n",
    "\n",
    "from ansys.speos.core import Body, Face, Part, Project, Speos\n",
    "from ansys.speos.core.launcher import launch_local_speos_rpc_server\n"
   ]
  },
  {
   "cell_type": "markdown",
   "id": "1e11330a",
   "metadata": {},
   "source": [
    "### Define constants\n",
    "\n",
    "The constants help ensure consistency and avoid repetition throughout the example."
   ]
  },
  {
   "cell_type": "code",
   "execution_count": 2,
   "id": "02f7700c",
   "metadata": {
    "execution": {
     "iopub.execute_input": "2025-09-18T14:31:58.603763Z",
     "iopub.status.busy": "2025-09-18T14:31:58.603483Z",
     "iopub.status.idle": "2025-09-18T14:31:58.606798Z",
     "shell.execute_reply": "2025-09-18T14:31:58.606108Z"
    }
   },
   "outputs": [],
   "source": [
    "HOSTNAME = \"localhost\"\n",
    "GRPC_PORT = 50098  # Be sure the Speos GRPC Server has been started on this port.\n",
    "USE_DOCKER = True  # Set to False if you're running this example locally as a Notebook."
   ]
  },
  {
   "cell_type": "markdown",
   "id": "014f7dfc",
   "metadata": {},
   "source": [
    "## Model Setup\n",
    "\n",
    "### Load assets\n",
    "The assets used to run this example are available in the\n",
    "[PySpeos repository](https://github.com/ansys/pyspeos/) on GitHub.\n",
    "\n",
    "> **Note:** Make sure you have downloaded the simulation assets\n",
    "> and set ``assets_data_path`` to point to the assets folder."
   ]
  },
  {
   "cell_type": "code",
   "execution_count": 3,
   "id": "e11caa99",
   "metadata": {
    "execution": {
     "iopub.execute_input": "2025-09-18T14:31:58.608668Z",
     "iopub.status.busy": "2025-09-18T14:31:58.608478Z",
     "iopub.status.idle": "2025-09-18T14:31:58.611390Z",
     "shell.execute_reply": "2025-09-18T14:31:58.610868Z"
    },
    "lines_to_next_cell": 2
   },
   "outputs": [],
   "source": [
    "if USE_DOCKER:  # Running on the remote server.\n",
    "    assets_data_path = Path(\"/app\") / \"assets\"\n",
    "else:\n",
    "    assets_data_path = Path(\"/path/to/your/download/assets/directory\")"
   ]
  },
  {
   "cell_type": "markdown",
   "id": "c1a933aa",
   "metadata": {},
   "source": [
    "### Start/Connect to Speos RPC Server\n",
    "This Python client connects to a server where the Speos engine\n",
    "is running as a service. In this example, the server and\n",
    "client are the same machine. The launch_local_speos_rpc_method can\n",
    "be used to start a local instance of the service."
   ]
  },
  {
   "cell_type": "code",
   "execution_count": 4,
   "id": "de0ed88b",
   "metadata": {
    "execution": {
     "iopub.execute_input": "2025-09-18T14:31:58.613145Z",
     "iopub.status.busy": "2025-09-18T14:31:58.612969Z",
     "iopub.status.idle": "2025-09-18T14:31:58.619246Z",
     "shell.execute_reply": "2025-09-18T14:31:58.618706Z"
    },
    "lines_to_next_cell": 2
   },
   "outputs": [],
   "source": [
    "if USE_DOCKER:\n",
    "    speos = Speos(host=HOSTNAME, port=GRPC_PORT)\n",
    "else:\n",
    "    speos = launch_local_speos_rpc_server(port=GRPC_PORT)"
   ]
  },
  {
   "cell_type": "markdown",
   "id": "32bbc0b9",
   "metadata": {},
   "source": [
    "## New Project\n",
    "\n",
    "The only way to create parts, bodies and faces is from a project."
   ]
  },
  {
   "cell_type": "code",
   "execution_count": 5,
   "id": "4e7cd27d",
   "metadata": {
    "execution": {
     "iopub.execute_input": "2025-09-18T14:31:58.620978Z",
     "iopub.status.busy": "2025-09-18T14:31:58.620764Z",
     "iopub.status.idle": "2025-09-18T14:31:58.628478Z",
     "shell.execute_reply": "2025-09-18T14:31:58.627954Z"
    }
   },
   "outputs": [
    {
     "name": "stdout",
     "output_type": "stream",
     "text": [
      "{\n",
      "    \"name\": \"\",\n",
      "    \"description\": \"\",\n",
      "    \"metadata\": {},\n",
      "    \"part_guid\": \"\",\n",
      "    \"sources\": [],\n",
      "    \"sensors\": [],\n",
      "    \"simulations\": [],\n",
      "    \"materials\": [],\n",
      "    \"scenes\": []\n",
      "}\n"
     ]
    }
   ],
   "source": [
    "p = Project(speos=speos)\n",
    "print(p)"
   ]
  },
  {
   "cell_type": "markdown",
   "id": "4406b8f1",
   "metadata": {},
   "source": [
    "## Create\n",
    "\n",
    "Before creating a body, a Root part needs to be created and committed."
   ]
  },
  {
   "cell_type": "code",
   "execution_count": 6,
   "id": "dd803421",
   "metadata": {
    "execution": {
     "iopub.execute_input": "2025-09-18T14:31:58.630258Z",
     "iopub.status.busy": "2025-09-18T14:31:58.630077Z",
     "iopub.status.idle": "2025-09-18T14:31:58.634940Z",
     "shell.execute_reply": "2025-09-18T14:31:58.634364Z"
    }
   },
   "outputs": [
    {
     "name": "stdout",
     "output_type": "stream",
     "text": [
      "{\n",
      "    \"name\": \"RootPart\",\n",
      "    \"description\": \"\",\n",
      "    \"metadata\": {},\n",
      "    \"body_guids\": [],\n",
      "    \"parts\": []\n",
      "}\n"
     ]
    }
   ],
   "source": [
    "root_part = p.create_root_part().commit()\n",
    "print(root_part)"
   ]
  },
  {
   "cell_type": "markdown",
   "id": "c7c0e83b",
   "metadata": {},
   "source": [
    "### Create bodies in root part.\n",
    "A body can either a volume or face type. Both use the method named \"create_body\"."
   ]
  },
  {
   "cell_type": "code",
   "execution_count": 7,
   "id": "5b7d60a8",
   "metadata": {
    "execution": {
     "iopub.execute_input": "2025-09-18T14:31:58.636629Z",
     "iopub.status.busy": "2025-09-18T14:31:58.636450Z",
     "iopub.status.idle": "2025-09-18T14:31:58.661590Z",
     "shell.execute_reply": "2025-09-18T14:31:58.661030Z"
    }
   },
   "outputs": [
    {
     "name": "stdout",
     "output_type": "stream",
     "text": [
      "{\n",
      "    \"name\": \"RootPart\",\n",
      "    \"body_guids\": [\n",
      "        \"0785116f-05f0-4518-9529-ed4025c3ea4b\",\n",
      "        \"208b7b44-4fd2-4b0d-b0da-85af9e968d03\"\n",
      "    ],\n",
      "    \"description\": \"\",\n",
      "    \"metadata\": {},\n",
      "    \"parts\": [],\n",
      "    \"bodys\": [\n",
      "        {\n",
      "            \"name\": \"TheBodyB1\",\n",
      "            \"description\": \"\",\n",
      "            \"metadata\": {},\n",
      "            \"face_guids\": []\n",
      "        },\n",
      "        {\n",
      "            \"name\": \"TheBodyB2\",\n",
      "            \"description\": \"\",\n",
      "            \"metadata\": {},\n",
      "            \"face_guids\": []\n",
      "        }\n",
      "    ]\n",
      "}\n"
     ]
    }
   ],
   "source": [
    "body_b1 = root_part.create_body(name=\"TheBodyB1\").commit()\n",
    "body_b2 = root_part.create_body(name=\"TheBodyB2\").commit()\n",
    "print(root_part)"
   ]
  },
  {
   "cell_type": "markdown",
   "id": "c5842b95",
   "metadata": {},
   "source": [
    "### Create faces inside a body.\n",
    "A body can have one (example, surface/open-volume type of body) or multiple faces\n",
    "(close-volume type of body).\n",
    "\n",
    "Each face is then defined by a number of triangles/facets.\n",
    "\n",
    "Each triangle/facet is defined by vertices and vertice normals."
   ]
  },
  {
   "cell_type": "code",
   "execution_count": 8,
   "id": "bfeb24b7",
   "metadata": {
    "execution": {
     "iopub.execute_input": "2025-09-18T14:31:58.663454Z",
     "iopub.status.busy": "2025-09-18T14:31:58.663265Z",
     "iopub.status.idle": "2025-09-18T14:31:58.683643Z",
     "shell.execute_reply": "2025-09-18T14:31:58.683116Z"
    }
   },
   "outputs": [
    {
     "name": "stdout",
     "output_type": "stream",
     "text": [
      "{\n",
      "    \"name\": \"RootPart\",\n",
      "    \"body_guids\": [\n",
      "        \"0785116f-05f0-4518-9529-ed4025c3ea4b\",\n",
      "        \"208b7b44-4fd2-4b0d-b0da-85af9e968d03\"\n",
      "    ],\n",
      "    \"description\": \"\",\n",
      "    \"metadata\": {},\n",
      "    \"parts\": [],\n",
      "    \"bodys\": [\n",
      "        {\n",
      "            \"name\": \"TheBodyB1\",\n",
      "            \"face_guids\": [\n",
      "                \"b583a3bb-943b-46d2-ad4c-e5df00c711c0\"\n",
      "            ],\n",
      "            \"description\": \"\",\n",
      "            \"metadata\": {},\n",
      "            \"faces\": [\n",
      "                {\n",
      "                    \"name\": \"TheFaceF1\",\n",
      "                    \"vertices\": [\n",
      "                        0.0,\n",
      "                        0.0,\n",
      "                        0.0,\n",
      "                        1.0,\n",
      "                        0.0,\n",
      "                        0.0,\n",
      "                        0.0,\n",
      "                        1.0,\n",
      "                        0.0\n",
      "                    ],\n",
      "                    \"facets\": [\n",
      "                        0,\n",
      "                        1,\n",
      "                        2\n",
      "                    ],\n",
      "                    \"normals\": [\n",
      "                        0.0,\n",
      "                        0.0,\n",
      "                        1.0,\n",
      "                        0.0,\n",
      "                        0.0,\n",
      "                        1.0,\n",
      "                        0.0,\n",
      "                        0.0,\n",
      "                        1.0\n",
      "                    ],\n",
      "                    \"description\": \"\",\n",
      "                    \"metadata\": {},\n",
      "                    \"vertices_data\": [],\n",
      "                    \"facets_data\": []\n",
      "                }\n",
      "            ]\n",
      "        },\n",
      "        {\n",
      "            \"name\": \"TheBodyB2\",\n",
      "            \"description\": \"\",\n",
      "            \"metadata\": {},\n",
      "            \"face_guids\": []\n",
      "        }\n",
      "    ]\n",
      "}\n"
     ]
    }
   ],
   "source": [
    "face_b1_f1 = (\n",
    "    body_b1.create_face(name=\"TheFaceF1\")\n",
    "    .set_vertices([0, 0, 0, 1, 0, 0, 0, 1, 0])\n",
    "    .set_facets([0, 1, 2])\n",
    "    .set_normals([0, 0, 1, 0, 0, 1, 0, 0, 1])\n",
    "    .commit()\n",
    ")\n",
    "print(root_part)"
   ]
  },
  {
   "cell_type": "markdown",
   "id": "44e3db70",
   "metadata": {},
   "source": [
    "### Create bodies in sub part.\n",
    "\n",
    "Part can also be created under a sub-part.\n",
    "\n",
    "The location sub-part can be defined using set_axis_system method."
   ]
  },
  {
   "cell_type": "code",
   "execution_count": 9,
   "id": "4416b5e2",
   "metadata": {
    "execution": {
     "iopub.execute_input": "2025-09-18T14:31:58.685392Z",
     "iopub.status.busy": "2025-09-18T14:31:58.685206Z",
     "iopub.status.idle": "2025-09-18T14:31:58.707396Z",
     "shell.execute_reply": "2025-09-18T14:31:58.706694Z"
    }
   },
   "outputs": [
    {
     "name": "stdout",
     "output_type": "stream",
     "text": [
      "{\n",
      "    \"name\": \"RootPart\",\n",
      "    \"body_guids\": [\n",
      "        \"0785116f-05f0-4518-9529-ed4025c3ea4b\",\n",
      "        \"208b7b44-4fd2-4b0d-b0da-85af9e968d03\"\n",
      "    ],\n",
      "    \"parts\": [\n",
      "        {\n",
      "            \"name\": \"TheSubPartSP1\",\n",
      "            \"description\": \"UniqueId_f4feeb80-5a4a-43c7-8fe6-ecc95fd4d179\",\n",
      "            \"part_guid\": \"954e6940-fe4c-462b-9867-1e4852722b2e\",\n",
      "            \"axis_system\": [\n",
      "                5.0,\n",
      "                5.0,\n",
      "                5.0,\n",
      "                1.0,\n",
      "                0.0,\n",
      "                0.0,\n",
      "                0.0,\n",
      "                1.0,\n",
      "                0.0,\n",
      "                0.0,\n",
      "                0.0,\n",
      "                1.0\n",
      "            ],\n",
      "            \"part\": {\n",
      "                \"name\": \"TheSubPartSP1\",\n",
      "                \"description\": \"\",\n",
      "                \"metadata\": {},\n",
      "                \"body_guids\": [],\n",
      "                \"parts\": []\n",
      "            }\n",
      "        }\n",
      "    ],\n",
      "    \"description\": \"\",\n",
      "    \"metadata\": {},\n",
      "    \"bodys\": [\n",
      "        {\n",
      "            \"name\": \"TheBodyB1\",\n",
      "            \"face_guids\": [\n",
      "                \"b583a3bb-943b-46d2-ad4c-e5df00c711c0\"\n",
      "            ],\n",
      "            \"description\": \"\",\n",
      "            \"metadata\": {},\n",
      "            \"faces\": [\n",
      "                {\n",
      "                    \"name\": \"TheFaceF1\",\n",
      "                    \"vertices\": [\n",
      "                        0.0,\n",
      "                        0.0,\n",
      "                        0.0,\n",
      "                        1.0,\n",
      "                        0.0,\n",
      "                        0.0,\n",
      "                        0.0,\n",
      "                        1.0,\n",
      "                        0.0\n",
      "                    ],\n",
      "                    \"facets\": [\n",
      "                        0,\n",
      "                        1,\n",
      "                        2\n",
      "                    ],\n",
      "                    \"normals\": [\n",
      "                        0.0,\n",
      "                        0.0,\n",
      "                        1.0,\n",
      "                        0.0,\n",
      "                        0.0,\n",
      "                        1.0,\n",
      "                        0.0,\n",
      "                        0.0,\n",
      "                        1.0\n",
      "                    ],\n",
      "                    \"description\": \"\",\n",
      "                    \"metadata\": {},\n",
      "                    \"vertices_data\": [],\n",
      "                    \"facets_data\": []\n",
      "                }\n",
      "            ]\n",
      "        },\n",
      "        {\n",
      "            \"name\": \"TheBodyB2\",\n",
      "            \"description\": \"\",\n",
      "            \"metadata\": {},\n",
      "            \"face_guids\": []\n",
      "        }\n",
      "    ]\n",
      "}\n"
     ]
    }
   ],
   "source": [
    "sub_part1 = (\n",
    "    root_part.create_sub_part(name=\"TheSubPartSP1\")\n",
    "    .set_axis_system(axis_system=[5, 5, 5, 1, 0, 0, 0, 1, 0, 0, 0, 1])\n",
    "    .commit()\n",
    ")\n",
    "print(root_part)"
   ]
  },
  {
   "cell_type": "markdown",
   "id": "ee520af2",
   "metadata": {},
   "source": [
    "### Create body and faces in sub part body"
   ]
  },
  {
   "cell_type": "code",
   "execution_count": 10,
   "id": "a9c6309f",
   "metadata": {
    "execution": {
     "iopub.execute_input": "2025-09-18T14:31:58.709205Z",
     "iopub.status.busy": "2025-09-18T14:31:58.709006Z",
     "iopub.status.idle": "2025-09-18T14:31:58.769534Z",
     "shell.execute_reply": "2025-09-18T14:31:58.768946Z"
    }
   },
   "outputs": [
    {
     "name": "stdout",
     "output_type": "stream",
     "text": [
      "{\n",
      "    \"name\": \"RootPart\",\n",
      "    \"body_guids\": [\n",
      "        \"0785116f-05f0-4518-9529-ed4025c3ea4b\",\n",
      "        \"208b7b44-4fd2-4b0d-b0da-85af9e968d03\"\n",
      "    ],\n",
      "    \"parts\": [\n",
      "        {\n",
      "            \"name\": \"TheSubPartSP1\",\n",
      "            \"description\": \"UniqueId_f4feeb80-5a4a-43c7-8fe6-ecc95fd4d179\",\n",
      "            \"part_guid\": \"954e6940-fe4c-462b-9867-1e4852722b2e\",\n",
      "            \"axis_system\": [\n",
      "                5.0,\n",
      "                5.0,\n",
      "                5.0,\n",
      "                1.0,\n",
      "                0.0,\n",
      "                0.0,\n",
      "                0.0,\n",
      "                1.0,\n",
      "                0.0,\n",
      "                0.0,\n",
      "                0.0,\n",
      "                1.0\n",
      "            ],\n",
      "            \"part\": {\n",
      "                \"name\": \"TheSubPartSP1\",\n",
      "                \"body_guids\": [\n",
      "                    \"1f065c30-627a-4357-ae69-7c7d39c1050e\"\n",
      "                ],\n",
      "                \"description\": \"\",\n",
      "                \"metadata\": {},\n",
      "                \"parts\": [],\n",
      "                \"bodys\": [\n",
      "                    {\n",
      "                        \"name\": \"TheBodySP1_B1\",\n",
      "                        \"description\": \"\",\n",
      "                        \"metadata\": {},\n",
      "                        \"face_guids\": []\n",
      "                    }\n",
      "                ]\n",
      "            }\n",
      "        }\n",
      "    ],\n",
      "    \"description\": \"\",\n",
      "    \"metadata\": {},\n",
      "    \"bodys\": [\n",
      "        {\n",
      "            \"name\": \"TheBodyB1\",\n",
      "            \"face_guids\": [\n",
      "                \"b583a3bb-943b-46d2-ad4c-e5df00c711c0\"\n",
      "            ],\n",
      "            \"description\": \"\",\n",
      "            \"metadata\": {},\n",
      "            \"faces\": [\n",
      "                {\n",
      "                    \"name\": \"TheFaceF1\",\n",
      "                    \"vertices\": [\n",
      "                        0.0,\n",
      "                        0.0,\n",
      "                        0.0,\n",
      "                        1.0,\n",
      "                        0.0,\n",
      "                        0.0,\n",
      "                        0.0,\n",
      "                        1.0,\n",
      "                        0.0\n",
      "                    ],\n",
      "                    \"facets\": [\n",
      "                        0,\n",
      "                        1,\n",
      "                        2\n",
      "                    ],\n",
      "                    \"normals\": [\n",
      "                        0.0,\n",
      "                        0.0,\n",
      "                        1.0,\n",
      "                        0.0,\n",
      "                        0.0,\n",
      "                        1.0,\n",
      "                        0.0,\n",
      "                        0.0,\n",
      "                        1.0\n",
      "                    ],\n",
      "                    \"description\": \"\",\n",
      "                    \"metadata\": {},\n",
      "                    \"vertices_data\": [],\n",
      "                    \"facets_data\": []\n",
      "                }\n",
      "            ]\n",
      "        },\n",
      "        {\n",
      "            \"name\": \"TheBodyB2\",\n",
      "            \"description\": \"\",\n",
      "            \"metadata\": {},\n",
      "            \"face_guids\": []\n",
      "        }\n",
      "    ]\n",
      "}\n",
      "{\n",
      "    \"name\": \"RootPart\",\n",
      "    \"body_guids\": [\n",
      "        \"0785116f-05f0-4518-9529-ed4025c3ea4b\",\n",
      "        \"208b7b44-4fd2-4b0d-b0da-85af9e968d03\"\n",
      "    ],\n",
      "    \"parts\": [\n",
      "        {\n",
      "            \"name\": \"TheSubPartSP1\",\n",
      "            \"description\": \"UniqueId_f4feeb80-5a4a-43c7-8fe6-ecc95fd4d179\",\n",
      "            \"part_guid\": \"954e6940-fe4c-462b-9867-1e4852722b2e\",\n",
      "            \"axis_system\": [\n",
      "                5.0,\n",
      "                5.0,\n",
      "                5.0,\n",
      "                1.0,\n",
      "                0.0,\n",
      "                0.0,\n",
      "                0.0,\n",
      "                1.0,\n",
      "                0.0,\n",
      "                0.0,\n",
      "                0.0,\n",
      "                1.0\n",
      "            ],\n",
      "            \"part\": {\n",
      "                \"name\": \"TheSubPartSP1\",\n",
      "                \"body_guids\": [\n",
      "                    \"1f065c30-627a-4357-ae69-7c7d39c1050e\"\n",
      "                ],\n",
      "                \"description\": \"\",\n",
      "                \"metadata\": {},\n",
      "                \"parts\": [],\n",
      "                \"bodys\": [\n",
      "                    {\n",
      "                        \"name\": \"TheBodySP1_B1\",\n",
      "                        \"face_guids\": [\n",
      "                            \"f2b15fc2-e36f-498f-a2a3-f5eb5445fa61\"\n",
      "                        ],\n",
      "                        \"description\": \"\",\n",
      "                        \"metadata\": {},\n",
      "                        \"faces\": [\n",
      "                            {\n",
      "                                \"name\": \"TheFaceSP1_B1_F1\",\n",
      "                                \"vertices\": [\n",
      "                                    0.0,\n",
      "                                    1.0,\n",
      "                                    0.0,\n",
      "                                    0.0,\n",
      "                                    2.0,\n",
      "                                    0.0,\n",
      "                                    1.0,\n",
      "                                    2.0,\n",
      "                                    0.0\n",
      "                                ],\n",
      "                                \"facets\": [\n",
      "                                    0,\n",
      "                                    1,\n",
      "                                    2\n",
      "                                ],\n",
      "                                \"normals\": [\n",
      "                                    0.0,\n",
      "                                    0.0,\n",
      "                                    1.0,\n",
      "                                    0.0,\n",
      "                                    0.0,\n",
      "                                    1.0,\n",
      "                                    0.0,\n",
      "                                    0.0,\n",
      "                                    1.0\n",
      "                                ],\n",
      "                                \"description\": \"\",\n",
      "                                \"metadata\": {},\n",
      "                                \"vertices_data\": [],\n",
      "                                \"facets_data\": []\n",
      "                            }\n",
      "                        ]\n",
      "                    }\n",
      "                ]\n",
      "            }\n",
      "        }\n",
      "    ],\n",
      "    \"description\": \"\",\n",
      "    \"metadata\": {},\n",
      "    \"bodys\": [\n",
      "        {\n",
      "            \"name\": \"TheBodyB1\",\n",
      "            \"face_guids\": [\n",
      "                \"b583a3bb-943b-46d2-ad4c-e5df00c711c0\"\n",
      "            ],\n",
      "            \"description\": \"\",\n",
      "            \"metadata\": {},\n",
      "            \"faces\": [\n",
      "                {\n",
      "                    \"name\": \"TheFaceF1\",\n",
      "                    \"vertices\": [\n",
      "                        0.0,\n",
      "                        0.0,\n",
      "                        0.0,\n",
      "                        1.0,\n",
      "                        0.0,\n",
      "                        0.0,\n",
      "                        0.0,\n",
      "                        1.0,\n",
      "                        0.0\n",
      "                    ],\n",
      "                    \"facets\": [\n",
      "                        0,\n",
      "                        1,\n",
      "                        2\n",
      "                    ],\n",
      "                    \"normals\": [\n",
      "                        0.0,\n",
      "                        0.0,\n",
      "                        1.0,\n",
      "                        0.0,\n",
      "                        0.0,\n",
      "                        1.0,\n",
      "                        0.0,\n",
      "                        0.0,\n",
      "                        1.0\n",
      "                    ],\n",
      "                    \"description\": \"\",\n",
      "                    \"metadata\": {},\n",
      "                    \"vertices_data\": [],\n",
      "                    \"facets_data\": []\n",
      "                }\n",
      "            ]\n",
      "        },\n",
      "        {\n",
      "            \"name\": \"TheBodyB2\",\n",
      "            \"description\": \"\",\n",
      "            \"metadata\": {},\n",
      "            \"face_guids\": []\n",
      "        }\n",
      "    ]\n",
      "}\n"
     ]
    }
   ],
   "source": [
    "body_sp1_b1 = sub_part1.create_body(name=\"TheBodySP1_B1\").commit()\n",
    "print(root_part)\n",
    "face_sp1_b1_f1 = (\n",
    "    body_sp1_b1.create_face(name=\"TheFaceSP1_B1_F1\")\n",
    "    .set_vertices([0, 1, 0, 0, 2, 0, 1, 2, 0])\n",
    "    .set_facets([0, 1, 2])\n",
    "    .set_normals([0, 0, 1, 0, 0, 1, 0, 0, 1])\n",
    "    .commit()\n",
    ")\n",
    "print(root_part)"
   ]
  },
  {
   "cell_type": "markdown",
   "id": "8b5a72f1",
   "metadata": {},
   "source": [
    "### Create sub parts in sub part"
   ]
  },
  {
   "cell_type": "code",
   "execution_count": 11,
   "id": "7f953881",
   "metadata": {
    "execution": {
     "iopub.execute_input": "2025-09-18T14:31:58.771333Z",
     "iopub.status.busy": "2025-09-18T14:31:58.771144Z",
     "iopub.status.idle": "2025-09-18T14:31:58.805514Z",
     "shell.execute_reply": "2025-09-18T14:31:58.804867Z"
    }
   },
   "outputs": [
    {
     "name": "stdout",
     "output_type": "stream",
     "text": [
      "{\n",
      "    \"name\": \"RootPart\",\n",
      "    \"body_guids\": [\n",
      "        \"0785116f-05f0-4518-9529-ed4025c3ea4b\",\n",
      "        \"208b7b44-4fd2-4b0d-b0da-85af9e968d03\"\n",
      "    ],\n",
      "    \"parts\": [\n",
      "        {\n",
      "            \"name\": \"TheSubPartSP1\",\n",
      "            \"description\": \"UniqueId_f4feeb80-5a4a-43c7-8fe6-ecc95fd4d179\",\n",
      "            \"part_guid\": \"954e6940-fe4c-462b-9867-1e4852722b2e\",\n",
      "            \"axis_system\": [\n",
      "                5.0,\n",
      "                5.0,\n",
      "                5.0,\n",
      "                1.0,\n",
      "                0.0,\n",
      "                0.0,\n",
      "                0.0,\n",
      "                1.0,\n",
      "                0.0,\n",
      "                0.0,\n",
      "                0.0,\n",
      "                1.0\n",
      "            ],\n",
      "            \"part\": {\n",
      "                \"name\": \"TheSubPartSP1\",\n",
      "                \"body_guids\": [\n",
      "                    \"1f065c30-627a-4357-ae69-7c7d39c1050e\"\n",
      "                ],\n",
      "                \"parts\": [\n",
      "                    {\n",
      "                        \"name\": \"TheSubPartSP11\",\n",
      "                        \"description\": \"UniqueId_e4dc70a6-4c69-482d-934d-2a46a13c2042\",\n",
      "                        \"part_guid\": \"a3c7902a-fe34-4996-bba0-03592b84d12e\",\n",
      "                        \"axis_system\": [\n",
      "                            1.0,\n",
      "                            1.0,\n",
      "                            1.0,\n",
      "                            1.0,\n",
      "                            0.0,\n",
      "                            0.0,\n",
      "                            0.0,\n",
      "                            1.0,\n",
      "                            0.0,\n",
      "                            0.0,\n",
      "                            0.0,\n",
      "                            1.0\n",
      "                        ],\n",
      "                        \"part\": {\n",
      "                            \"name\": \"TheSubPartSP11\",\n",
      "                            \"description\": \"\",\n",
      "                            \"metadata\": {},\n",
      "                            \"body_guids\": [],\n",
      "                            \"parts\": []\n",
      "                        }\n",
      "                    }\n",
      "                ],\n",
      "                \"description\": \"\",\n",
      "                \"metadata\": {},\n",
      "                \"bodys\": [\n",
      "                    {\n",
      "                        \"name\": \"TheBodySP1_B1\",\n",
      "                        \"face_guids\": [\n",
      "                            \"f2b15fc2-e36f-498f-a2a3-f5eb5445fa61\"\n",
      "                        ],\n",
      "                        \"description\": \"\",\n",
      "                        \"metadata\": {},\n",
      "                        \"faces\": [\n",
      "                            {\n",
      "                                \"name\": \"TheFaceSP1_B1_F1\",\n",
      "                                \"vertices\": [\n",
      "                                    0.0,\n",
      "                                    1.0,\n",
      "                                    0.0,\n",
      "                                    0.0,\n",
      "                                    2.0,\n",
      "                                    0.0,\n",
      "                                    1.0,\n",
      "                                    2.0,\n",
      "                                    0.0\n",
      "                                ],\n",
      "                                \"facets\": [\n",
      "                                    0,\n",
      "                                    1,\n",
      "                                    2\n",
      "                                ],\n",
      "                                \"normals\": [\n",
      "                                    0.0,\n",
      "                                    0.0,\n",
      "                                    1.0,\n",
      "                                    0.0,\n",
      "                                    0.0,\n",
      "                                    1.0,\n",
      "                                    0.0,\n",
      "                                    0.0,\n",
      "                                    1.0\n",
      "                                ],\n",
      "                                \"description\": \"\",\n",
      "                                \"metadata\": {},\n",
      "                                \"vertices_data\": [],\n",
      "                                \"facets_data\": []\n",
      "                            }\n",
      "                        ]\n",
      "                    }\n",
      "                ]\n",
      "            }\n",
      "        }\n",
      "    ],\n",
      "    \"description\": \"\",\n",
      "    \"metadata\": {},\n",
      "    \"bodys\": [\n",
      "        {\n",
      "            \"name\": \"TheBodyB1\",\n",
      "            \"face_guids\": [\n",
      "                \"b583a3bb-943b-46d2-ad4c-e5df00c711c0\"\n",
      "            ],\n",
      "            \"description\": \"\",\n",
      "            \"metadata\": {},\n",
      "            \"faces\": [\n",
      "                {\n",
      "                    \"name\": \"TheFaceF1\",\n",
      "                    \"vertices\": [\n",
      "                        0.0,\n",
      "                        0.0,\n",
      "                        0.0,\n",
      "                        1.0,\n",
      "                        0.0,\n",
      "                        0.0,\n",
      "                        0.0,\n",
      "                        1.0,\n",
      "                        0.0\n",
      "                    ],\n",
      "                    \"facets\": [\n",
      "                        0,\n",
      "                        1,\n",
      "                        2\n",
      "                    ],\n",
      "                    \"normals\": [\n",
      "                        0.0,\n",
      "                        0.0,\n",
      "                        1.0,\n",
      "                        0.0,\n",
      "                        0.0,\n",
      "                        1.0,\n",
      "                        0.0,\n",
      "                        0.0,\n",
      "                        1.0\n",
      "                    ],\n",
      "                    \"description\": \"\",\n",
      "                    \"metadata\": {},\n",
      "                    \"vertices_data\": [],\n",
      "                    \"facets_data\": []\n",
      "                }\n",
      "            ]\n",
      "        },\n",
      "        {\n",
      "            \"name\": \"TheBodyB2\",\n",
      "            \"description\": \"\",\n",
      "            \"metadata\": {},\n",
      "            \"face_guids\": []\n",
      "        }\n",
      "    ]\n",
      "}\n"
     ]
    }
   ],
   "source": [
    "sub_part11 = (\n",
    "    sub_part1.create_sub_part(name=\"TheSubPartSP11\")\n",
    "    .set_axis_system([1, 1, 1, 1, 0, 0, 0, 1, 0, 0, 0, 1])\n",
    "    .commit()\n",
    ")\n",
    "print(root_part)"
   ]
  },
  {
   "cell_type": "markdown",
   "id": "e785f3ee",
   "metadata": {},
   "source": [
    "## Read\n",
    "\n",
    "### Find with exact name\n",
    "\n",
    "Find the root part"
   ]
  },
  {
   "cell_type": "code",
   "execution_count": 12,
   "id": "e137912a",
   "metadata": {
    "execution": {
     "iopub.execute_input": "2025-09-18T14:31:58.807728Z",
     "iopub.status.busy": "2025-09-18T14:31:58.807534Z",
     "iopub.status.idle": "2025-09-18T14:31:58.842354Z",
     "shell.execute_reply": "2025-09-18T14:31:58.841676Z"
    }
   },
   "outputs": [
    {
     "name": "stdout",
     "output_type": "stream",
     "text": [
      "{\n",
      "    \"name\": \"RootPart\",\n",
      "    \"body_guids\": [\n",
      "        \"0785116f-05f0-4518-9529-ed4025c3ea4b\",\n",
      "        \"208b7b44-4fd2-4b0d-b0da-85af9e968d03\"\n",
      "    ],\n",
      "    \"parts\": [\n",
      "        {\n",
      "            \"name\": \"TheSubPartSP1\",\n",
      "            \"description\": \"UniqueId_f4feeb80-5a4a-43c7-8fe6-ecc95fd4d179\",\n",
      "            \"part_guid\": \"954e6940-fe4c-462b-9867-1e4852722b2e\",\n",
      "            \"axis_system\": [\n",
      "                5.0,\n",
      "                5.0,\n",
      "                5.0,\n",
      "                1.0,\n",
      "                0.0,\n",
      "                0.0,\n",
      "                0.0,\n",
      "                1.0,\n",
      "                0.0,\n",
      "                0.0,\n",
      "                0.0,\n",
      "                1.0\n",
      "            ],\n",
      "            \"part\": {\n",
      "                \"name\": \"TheSubPartSP1\",\n",
      "                \"body_guids\": [\n",
      "                    \"1f065c30-627a-4357-ae69-7c7d39c1050e\"\n",
      "                ],\n",
      "                \"parts\": [\n",
      "                    {\n",
      "                        \"name\": \"TheSubPartSP11\",\n",
      "                        \"description\": \"UniqueId_e4dc70a6-4c69-482d-934d-2a46a13c2042\",\n",
      "                        \"part_guid\": \"a3c7902a-fe34-4996-bba0-03592b84d12e\",\n",
      "                        \"axis_system\": [\n",
      "                            1.0,\n",
      "                            1.0,\n",
      "                            1.0,\n",
      "                            1.0,\n",
      "                            0.0,\n",
      "                            0.0,\n",
      "                            0.0,\n",
      "                            1.0,\n",
      "                            0.0,\n",
      "                            0.0,\n",
      "                            0.0,\n",
      "                            1.0\n",
      "                        ],\n",
      "                        \"part\": {\n",
      "                            \"name\": \"TheSubPartSP11\",\n",
      "                            \"description\": \"\",\n",
      "                            \"metadata\": {},\n",
      "                            \"body_guids\": [],\n",
      "                            \"parts\": []\n",
      "                        }\n",
      "                    }\n",
      "                ],\n",
      "                \"description\": \"\",\n",
      "                \"metadata\": {},\n",
      "                \"bodys\": [\n",
      "                    {\n",
      "                        \"name\": \"TheBodySP1_B1\",\n",
      "                        \"face_guids\": [\n",
      "                            \"f2b15fc2-e36f-498f-a2a3-f5eb5445fa61\"\n",
      "                        ],\n",
      "                        \"description\": \"\",\n",
      "                        \"metadata\": {},\n",
      "                        \"faces\": [\n",
      "                            {\n",
      "                                \"name\": \"TheFaceSP1_B1_F1\",\n",
      "                                \"vertices\": [\n",
      "                                    0.0,\n",
      "                                    1.0,\n",
      "                                    0.0,\n",
      "                                    0.0,\n",
      "                                    2.0,\n",
      "                                    0.0,\n",
      "                                    1.0,\n",
      "                                    2.0,\n",
      "                                    0.0\n",
      "                                ],\n",
      "                                \"facets\": [\n",
      "                                    0,\n",
      "                                    1,\n",
      "                                    2\n",
      "                                ],\n",
      "                                \"normals\": [\n",
      "                                    0.0,\n",
      "                                    0.0,\n",
      "                                    1.0,\n",
      "                                    0.0,\n",
      "                                    0.0,\n",
      "                                    1.0,\n",
      "                                    0.0,\n",
      "                                    0.0,\n",
      "                                    1.0\n",
      "                                ],\n",
      "                                \"description\": \"\",\n",
      "                                \"metadata\": {},\n",
      "                                \"vertices_data\": [],\n",
      "                                \"facets_data\": []\n",
      "                            }\n",
      "                        ]\n",
      "                    }\n",
      "                ]\n",
      "            }\n",
      "        }\n",
      "    ],\n",
      "    \"description\": \"\",\n",
      "    \"metadata\": {},\n",
      "    \"bodys\": [\n",
      "        {\n",
      "            \"name\": \"TheBodyB1\",\n",
      "            \"face_guids\": [\n",
      "                \"b583a3bb-943b-46d2-ad4c-e5df00c711c0\"\n",
      "            ],\n",
      "            \"description\": \"\",\n",
      "            \"metadata\": {},\n",
      "            \"faces\": [\n",
      "                {\n",
      "                    \"name\": \"TheFaceF1\",\n",
      "                    \"vertices\": [\n",
      "                        0.0,\n",
      "                        0.0,\n",
      "                        0.0,\n",
      "                        1.0,\n",
      "                        0.0,\n",
      "                        0.0,\n",
      "                        0.0,\n",
      "                        1.0,\n",
      "                        0.0\n",
      "                    ],\n",
      "                    \"facets\": [\n",
      "                        0,\n",
      "                        1,\n",
      "                        2\n",
      "                    ],\n",
      "                    \"normals\": [\n",
      "                        0.0,\n",
      "                        0.0,\n",
      "                        1.0,\n",
      "                        0.0,\n",
      "                        0.0,\n",
      "                        1.0,\n",
      "                        0.0,\n",
      "                        0.0,\n",
      "                        1.0\n",
      "                    ],\n",
      "                    \"description\": \"\",\n",
      "                    \"metadata\": {},\n",
      "                    \"vertices_data\": [],\n",
      "                    \"facets_data\": []\n",
      "                }\n",
      "            ]\n",
      "        },\n",
      "        {\n",
      "            \"name\": \"TheBodyB2\",\n",
      "            \"description\": \"\",\n",
      "            \"metadata\": {},\n",
      "            \"face_guids\": []\n",
      "        }\n",
      "    ]\n",
      "}\n"
     ]
    }
   ],
   "source": [
    "features = p.find(name=\"\", feature_type=Part)\n",
    "print(features[0])"
   ]
  },
  {
   "cell_type": "markdown",
   "id": "e4c493c8",
   "metadata": {},
   "source": [
    "Find a specific body in root part"
   ]
  },
  {
   "cell_type": "code",
   "execution_count": 13,
   "id": "c685cf1c",
   "metadata": {
    "execution": {
     "iopub.execute_input": "2025-09-18T14:31:58.844201Z",
     "iopub.status.busy": "2025-09-18T14:31:58.844004Z",
     "iopub.status.idle": "2025-09-18T14:31:58.852412Z",
     "shell.execute_reply": "2025-09-18T14:31:58.851871Z"
    }
   },
   "outputs": [
    {
     "name": "stdout",
     "output_type": "stream",
     "text": [
      "{\n",
      "    \"name\": \"TheBodyB1\",\n",
      "    \"face_guids\": [\n",
      "        \"b583a3bb-943b-46d2-ad4c-e5df00c711c0\"\n",
      "    ],\n",
      "    \"description\": \"\",\n",
      "    \"metadata\": {},\n",
      "    \"faces\": [\n",
      "        {\n",
      "            \"name\": \"TheFaceF1\",\n",
      "            \"vertices\": [\n",
      "                0.0,\n",
      "                0.0,\n",
      "                0.0,\n",
      "                1.0,\n",
      "                0.0,\n",
      "                0.0,\n",
      "                0.0,\n",
      "                1.0,\n",
      "                0.0\n",
      "            ],\n",
      "            \"facets\": [\n",
      "                0,\n",
      "                1,\n",
      "                2\n",
      "            ],\n",
      "            \"normals\": [\n",
      "                0.0,\n",
      "                0.0,\n",
      "                1.0,\n",
      "                0.0,\n",
      "                0.0,\n",
      "                1.0,\n",
      "                0.0,\n",
      "                0.0,\n",
      "                1.0\n",
      "            ],\n",
      "            \"description\": \"\",\n",
      "            \"metadata\": {},\n",
      "            \"vertices_data\": [],\n",
      "            \"facets_data\": []\n",
      "        }\n",
      "    ]\n",
      "}\n"
     ]
    }
   ],
   "source": [
    "features = p.find(name=\"TheBodyB1\", feature_type=Body)\n",
    "print(features[0])"
   ]
  },
  {
   "cell_type": "markdown",
   "id": "4f3a070d",
   "metadata": {},
   "source": [
    "Find a specific face of a body in root part"
   ]
  },
  {
   "cell_type": "code",
   "execution_count": 14,
   "id": "e19172b8",
   "metadata": {
    "execution": {
     "iopub.execute_input": "2025-09-18T14:31:58.854174Z",
     "iopub.status.busy": "2025-09-18T14:31:58.853991Z",
     "iopub.status.idle": "2025-09-18T14:31:58.858590Z",
     "shell.execute_reply": "2025-09-18T14:31:58.857956Z"
    }
   },
   "outputs": [
    {
     "name": "stdout",
     "output_type": "stream",
     "text": [
      "{\n",
      "    \"name\": \"TheFaceF1\",\n",
      "    \"vertices\": [\n",
      "        0.0,\n",
      "        0.0,\n",
      "        0.0,\n",
      "        1.0,\n",
      "        0.0,\n",
      "        0.0,\n",
      "        0.0,\n",
      "        1.0,\n",
      "        0.0\n",
      "    ],\n",
      "    \"facets\": [\n",
      "        0,\n",
      "        1,\n",
      "        2\n",
      "    ],\n",
      "    \"normals\": [\n",
      "        0.0,\n",
      "        0.0,\n",
      "        1.0,\n",
      "        0.0,\n",
      "        0.0,\n",
      "        1.0,\n",
      "        0.0,\n",
      "        0.0,\n",
      "        1.0\n",
      "    ],\n",
      "    \"description\": \"\",\n",
      "    \"metadata\": {},\n",
      "    \"vertices_data\": [],\n",
      "    \"facets_data\": []\n",
      "}\n"
     ]
    }
   ],
   "source": [
    "features = p.find(name=\"TheBodyB1/TheFaceF1\", feature_type=Face)\n",
    "print(features[0])"
   ]
  },
  {
   "cell_type": "markdown",
   "id": "41389e48",
   "metadata": {},
   "source": [
    "Find a sub part"
   ]
  },
  {
   "cell_type": "code",
   "execution_count": 15,
   "id": "5a65f289",
   "metadata": {
    "execution": {
     "iopub.execute_input": "2025-09-18T14:31:58.860337Z",
     "iopub.status.busy": "2025-09-18T14:31:58.860122Z",
     "iopub.status.idle": "2025-09-18T14:31:58.879244Z",
     "shell.execute_reply": "2025-09-18T14:31:58.878610Z"
    },
    "lines_to_next_cell": 2
   },
   "outputs": [
    {
     "name": "stdout",
     "output_type": "stream",
     "text": [
      "{\n",
      "    \"name\": \"TheSubPartSP1\",\n",
      "    \"description\": \"UniqueId_f4feeb80-5a4a-43c7-8fe6-ecc95fd4d179\",\n",
      "    \"part_guid\": \"954e6940-fe4c-462b-9867-1e4852722b2e\",\n",
      "    \"axis_system\": [\n",
      "        5.0,\n",
      "        5.0,\n",
      "        5.0,\n",
      "        1.0,\n",
      "        0.0,\n",
      "        0.0,\n",
      "        0.0,\n",
      "        1.0,\n",
      "        0.0,\n",
      "        0.0,\n",
      "        0.0,\n",
      "        1.0\n",
      "    ],\n",
      "    \"part\": {\n",
      "        \"name\": \"TheSubPartSP1\",\n",
      "        \"body_guids\": [\n",
      "            \"1f065c30-627a-4357-ae69-7c7d39c1050e\"\n",
      "        ],\n",
      "        \"parts\": [\n",
      "            {\n",
      "                \"name\": \"TheSubPartSP11\",\n",
      "                \"description\": \"UniqueId_e4dc70a6-4c69-482d-934d-2a46a13c2042\",\n",
      "                \"part_guid\": \"a3c7902a-fe34-4996-bba0-03592b84d12e\",\n",
      "                \"axis_system\": [\n",
      "                    1.0,\n",
      "                    1.0,\n",
      "                    1.0,\n",
      "                    1.0,\n",
      "                    0.0,\n",
      "                    0.0,\n",
      "                    0.0,\n",
      "                    1.0,\n",
      "                    0.0,\n",
      "                    0.0,\n",
      "                    0.0,\n",
      "                    1.0\n",
      "                ],\n",
      "                \"part\": {\n",
      "                    \"name\": \"TheSubPartSP11\",\n",
      "                    \"description\": \"\",\n",
      "                    \"metadata\": {},\n",
      "                    \"body_guids\": [],\n",
      "                    \"parts\": []\n",
      "                }\n",
      "            }\n",
      "        ],\n",
      "        \"description\": \"\",\n",
      "        \"metadata\": {},\n",
      "        \"bodys\": [\n",
      "            {\n",
      "                \"name\": \"TheBodySP1_B1\",\n",
      "                \"face_guids\": [\n",
      "                    \"f2b15fc2-e36f-498f-a2a3-f5eb5445fa61\"\n",
      "                ],\n",
      "                \"description\": \"\",\n",
      "                \"metadata\": {},\n",
      "                \"faces\": [\n",
      "                    {\n",
      "                        \"name\": \"TheFaceSP1_B1_F1\",\n",
      "                        \"vertices\": [\n",
      "                            0.0,\n",
      "                            1.0,\n",
      "                            0.0,\n",
      "                            0.0,\n",
      "                            2.0,\n",
      "                            0.0,\n",
      "                            1.0,\n",
      "                            2.0,\n",
      "                            0.0\n",
      "                        ],\n",
      "                        \"facets\": [\n",
      "                            0,\n",
      "                            1,\n",
      "                            2\n",
      "                        ],\n",
      "                        \"normals\": [\n",
      "                            0.0,\n",
      "                            0.0,\n",
      "                            1.0,\n",
      "                            0.0,\n",
      "                            0.0,\n",
      "                            1.0,\n",
      "                            0.0,\n",
      "                            0.0,\n",
      "                            1.0\n",
      "                        ],\n",
      "                        \"description\": \"\",\n",
      "                        \"metadata\": {},\n",
      "                        \"vertices_data\": [],\n",
      "                        \"facets_data\": []\n",
      "                    }\n",
      "                ]\n",
      "            }\n",
      "        ]\n",
      "    }\n",
      "}\n"
     ]
    }
   ],
   "source": [
    "features = p.find(name=\"TheSubPartSP1\", feature_type=Part.SubPart)\n",
    "print(features[0])"
   ]
  },
  {
   "cell_type": "markdown",
   "id": "9a03c146",
   "metadata": {},
   "source": [
    "Find a specific body in sub part"
   ]
  },
  {
   "cell_type": "code",
   "execution_count": 16,
   "id": "dd604b61",
   "metadata": {
    "execution": {
     "iopub.execute_input": "2025-09-18T14:31:58.881022Z",
     "iopub.status.busy": "2025-09-18T14:31:58.880802Z",
     "iopub.status.idle": "2025-09-18T14:31:58.889269Z",
     "shell.execute_reply": "2025-09-18T14:31:58.888620Z"
    }
   },
   "outputs": [
    {
     "name": "stdout",
     "output_type": "stream",
     "text": [
      "{\n",
      "    \"name\": \"TheBodySP1_B1\",\n",
      "    \"face_guids\": [\n",
      "        \"f2b15fc2-e36f-498f-a2a3-f5eb5445fa61\"\n",
      "    ],\n",
      "    \"description\": \"\",\n",
      "    \"metadata\": {},\n",
      "    \"faces\": [\n",
      "        {\n",
      "            \"name\": \"TheFaceSP1_B1_F1\",\n",
      "            \"vertices\": [\n",
      "                0.0,\n",
      "                1.0,\n",
      "                0.0,\n",
      "                0.0,\n",
      "                2.0,\n",
      "                0.0,\n",
      "                1.0,\n",
      "                2.0,\n",
      "                0.0\n",
      "            ],\n",
      "            \"facets\": [\n",
      "                0,\n",
      "                1,\n",
      "                2\n",
      "            ],\n",
      "            \"normals\": [\n",
      "                0.0,\n",
      "                0.0,\n",
      "                1.0,\n",
      "                0.0,\n",
      "                0.0,\n",
      "                1.0,\n",
      "                0.0,\n",
      "                0.0,\n",
      "                1.0\n",
      "            ],\n",
      "            \"description\": \"\",\n",
      "            \"metadata\": {},\n",
      "            \"vertices_data\": [],\n",
      "            \"facets_data\": []\n",
      "        }\n",
      "    ]\n",
      "}\n"
     ]
    }
   ],
   "source": [
    "features = p.find(name=\"TheSubPartSP1/TheBodySP1_B1\", feature_type=Body)\n",
    "print(features[0])"
   ]
  },
  {
   "cell_type": "markdown",
   "id": "f2c44de8",
   "metadata": {},
   "source": [
    "Find a specific face of a body in sub part"
   ]
  },
  {
   "cell_type": "code",
   "execution_count": 17,
   "id": "8d22266d",
   "metadata": {
    "execution": {
     "iopub.execute_input": "2025-09-18T14:31:58.891154Z",
     "iopub.status.busy": "2025-09-18T14:31:58.890966Z",
     "iopub.status.idle": "2025-09-18T14:31:58.895542Z",
     "shell.execute_reply": "2025-09-18T14:31:58.894905Z"
    }
   },
   "outputs": [
    {
     "name": "stdout",
     "output_type": "stream",
     "text": [
      "{\n",
      "    \"name\": \"TheFaceSP1_B1_F1\",\n",
      "    \"vertices\": [\n",
      "        0.0,\n",
      "        1.0,\n",
      "        0.0,\n",
      "        0.0,\n",
      "        2.0,\n",
      "        0.0,\n",
      "        1.0,\n",
      "        2.0,\n",
      "        0.0\n",
      "    ],\n",
      "    \"facets\": [\n",
      "        0,\n",
      "        1,\n",
      "        2\n",
      "    ],\n",
      "    \"normals\": [\n",
      "        0.0,\n",
      "        0.0,\n",
      "        1.0,\n",
      "        0.0,\n",
      "        0.0,\n",
      "        1.0,\n",
      "        0.0,\n",
      "        0.0,\n",
      "        1.0\n",
      "    ],\n",
      "    \"description\": \"\",\n",
      "    \"metadata\": {},\n",
      "    \"vertices_data\": [],\n",
      "    \"facets_data\": []\n",
      "}\n"
     ]
    }
   ],
   "source": [
    "features = p.find(name=\"TheSubPartSP1/TheBodySP1_B1/TheFaceSP1_B1_F1\", feature_type=Face)\n",
    "print(features[0])"
   ]
  },
  {
   "cell_type": "markdown",
   "id": "74449873",
   "metadata": {},
   "source": [
    "### Find with approximation name"
   ]
  },
  {
   "cell_type": "markdown",
   "id": "10082718",
   "metadata": {},
   "source": [
    "Find all bodies in root part"
   ]
  },
  {
   "cell_type": "code",
   "execution_count": 18,
   "id": "bc1d1125",
   "metadata": {
    "execution": {
     "iopub.execute_input": "2025-09-18T14:31:58.897445Z",
     "iopub.status.busy": "2025-09-18T14:31:58.897261Z",
     "iopub.status.idle": "2025-09-18T14:31:58.900832Z",
     "shell.execute_reply": "2025-09-18T14:31:58.900134Z"
    }
   },
   "outputs": [
    {
     "name": "stdout",
     "output_type": "stream",
     "text": [
      "TheBodyB1\n",
      "TheBodyB2\n"
     ]
    }
   ],
   "source": [
    "features = p.find(name=\".*\", name_regex=True, feature_type=Body)\n",
    "for feat in features:\n",
    "    print(feat._name)"
   ]
  },
  {
   "cell_type": "markdown",
   "id": "3f6afec3",
   "metadata": {},
   "source": [
    "Find all faces inside body called \"TheBodyB1\""
   ]
  },
  {
   "cell_type": "code",
   "execution_count": 19,
   "id": "0f84b618",
   "metadata": {
    "execution": {
     "iopub.execute_input": "2025-09-18T14:31:58.902696Z",
     "iopub.status.busy": "2025-09-18T14:31:58.902514Z",
     "iopub.status.idle": "2025-09-18T14:31:58.906100Z",
     "shell.execute_reply": "2025-09-18T14:31:58.905440Z"
    },
    "lines_to_next_cell": 2
   },
   "outputs": [
    {
     "name": "stdout",
     "output_type": "stream",
     "text": [
      "TheFaceF1\n"
     ]
    }
   ],
   "source": [
    "features = p.find(name=\"TheBodyB1/.*\", name_regex=True, feature_type=Face)\n",
    "for feat in features:\n",
    "    print(feat._name)"
   ]
  },
  {
   "cell_type": "markdown",
   "id": "597e2ca7",
   "metadata": {},
   "source": [
    "If you want to retrieve several kind of geometry features at a certain level, give\n",
    "feature_type=Part"
   ]
  },
  {
   "cell_type": "markdown",
   "id": "489f21cc",
   "metadata": {},
   "source": [
    "All the geometry features at root part level:"
   ]
  },
  {
   "cell_type": "code",
   "execution_count": 20,
   "id": "8a292e55",
   "metadata": {
    "execution": {
     "iopub.execute_input": "2025-09-18T14:31:58.908081Z",
     "iopub.status.busy": "2025-09-18T14:31:58.907888Z",
     "iopub.status.idle": "2025-09-18T14:31:58.911468Z",
     "shell.execute_reply": "2025-09-18T14:31:58.910863Z"
    }
   },
   "outputs": [
    {
     "name": "stdout",
     "output_type": "stream",
     "text": [
      "<class 'ansys.speos.core.body.Body'> : name=TheBodyB1\n",
      "<class 'ansys.speos.core.body.Body'> : name=TheBodyB2\n",
      "<class 'ansys.speos.core.part.Part.SubPart'> : name=TheSubPartSP1\n"
     ]
    }
   ],
   "source": [
    "features = p.find(name=\".*\", name_regex=True, feature_type=Part)\n",
    "for feat in features:\n",
    "    print(str(type(feat)) + \" : name=\" + feat._name)"
   ]
  },
  {
   "cell_type": "markdown",
   "id": "db890079",
   "metadata": {},
   "source": [
    "All the geometry features at second level: e.g.:\n",
    "- TheBodyB1's all faces\n",
    "- TheSubPartSP1's all bodies\n",
    "- TheSubPartSP1's all sub part"
   ]
  },
  {
   "cell_type": "code",
   "execution_count": 21,
   "id": "e6442b00",
   "metadata": {
    "execution": {
     "iopub.execute_input": "2025-09-18T14:31:58.913208Z",
     "iopub.status.busy": "2025-09-18T14:31:58.913016Z",
     "iopub.status.idle": "2025-09-18T14:31:58.916416Z",
     "shell.execute_reply": "2025-09-18T14:31:58.915897Z"
    }
   },
   "outputs": [
    {
     "name": "stdout",
     "output_type": "stream",
     "text": [
      "<class 'ansys.speos.core.face.Face'> : name=TheFaceF1\n",
      "<class 'ansys.speos.core.body.Body'> : name=TheBodySP1_B1\n",
      "<class 'ansys.speos.core.part.Part.SubPart'> : name=TheSubPartSP11\n"
     ]
    }
   ],
   "source": [
    "features = p.find(name=\".*/.*\", name_regex=True, feature_type=Part)\n",
    "for feat in features:\n",
    "    print(str(type(feat)) + \" : name=\" + feat._name)"
   ]
  },
  {
   "cell_type": "markdown",
   "id": "d276527e",
   "metadata": {},
   "source": [
    "All the geometry features at the third level:\n",
    "e.g. TheSubPartSP1's all bodies' faces"
   ]
  },
  {
   "cell_type": "code",
   "execution_count": 22,
   "id": "03f324d7",
   "metadata": {
    "execution": {
     "iopub.execute_input": "2025-09-18T14:31:58.918165Z",
     "iopub.status.busy": "2025-09-18T14:31:58.917981Z",
     "iopub.status.idle": "2025-09-18T14:31:58.921261Z",
     "shell.execute_reply": "2025-09-18T14:31:58.920674Z"
    },
    "lines_to_next_cell": 2
   },
   "outputs": [
    {
     "name": "stdout",
     "output_type": "stream",
     "text": [
      "<class 'ansys.speos.core.face.Face'> : name=TheFaceSP1_B1_F1\n"
     ]
    }
   ],
   "source": [
    "features = p.find(name=\".*/.*/.*\", name_regex=True, feature_type=Part)\n",
    "for feat in features:\n",
    "    print(str(type(feat)) + \" : name=\" + feat._name)"
   ]
  },
  {
   "cell_type": "markdown",
   "id": "2060a4df",
   "metadata": {},
   "source": [
    "## Delete"
   ]
  },
  {
   "cell_type": "code",
   "execution_count": 23,
   "id": "5a8096e6",
   "metadata": {
    "execution": {
     "iopub.execute_input": "2025-09-18T14:31:58.923012Z",
     "iopub.status.busy": "2025-09-18T14:31:58.922804Z",
     "iopub.status.idle": "2025-09-18T14:31:58.931506Z",
     "shell.execute_reply": "2025-09-18T14:31:58.930990Z"
    }
   },
   "outputs": [
    {
     "name": "stdout",
     "output_type": "stream",
     "text": [
      "local: {\n",
      "    \"name\": \"RootPart\",\n",
      "    \"description\": \"\",\n",
      "    \"metadata\": {},\n",
      "    \"body_guids\": [],\n",
      "    \"parts\": []\n",
      "}\n"
     ]
    }
   ],
   "source": [
    "root_part.delete()\n",
    "print(root_part)"
   ]
  },
  {
   "cell_type": "code",
   "execution_count": 24,
   "id": "040d95da",
   "metadata": {
    "execution": {
     "iopub.execute_input": "2025-09-18T14:31:58.933209Z",
     "iopub.status.busy": "2025-09-18T14:31:58.933028Z",
     "iopub.status.idle": "2025-09-18T14:31:58.939312Z",
     "shell.execute_reply": "2025-09-18T14:31:58.938636Z"
    }
   },
   "outputs": [
    {
     "data": {
      "text/plain": [
       "True"
      ]
     },
     "execution_count": 24,
     "metadata": {},
     "output_type": "execute_result"
    }
   ],
   "source": [
    "speos.close()"
   ]
  }
 ],
 "metadata": {
  "jupytext": {
   "cell_metadata_filter": "-all",
   "main_language": "python",
   "notebook_metadata_filter": "-all",
   "text_representation": {
    "extension": ".py",
    "format_name": "light"
   }
  },
  "language_info": {
   "codemirror_mode": {
    "name": "ipython",
    "version": 3
   },
   "file_extension": ".py",
   "mimetype": "text/x-python",
   "name": "python",
   "nbconvert_exporter": "python",
   "pygments_lexer": "ipython3",
   "version": "3.10.18"
  }
 },
 "nbformat": 4,
 "nbformat_minor": 5
}
