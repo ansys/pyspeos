{
 "cells": [
  {
   "cell_type": "markdown",
   "id": "35daecd7",
   "metadata": {},
   "source": [
    "# How to create a source"
   ]
  },
  {
   "cell_type": "markdown",
   "id": "1f2b8fd8",
   "metadata": {},
   "source": [
    "This tutorial demonstrates how to create a source.\n",
    "\n",
    "There are different type of sources available: luminaire source, surface source, ray file source.\n",
    "\n",
    "## Prerequisites\n",
    "\n",
    "### Perform imports"
   ]
  },
  {
   "cell_type": "code",
   "execution_count": 1,
   "id": "267f87ea",
   "metadata": {
    "execution": {
     "iopub.execute_input": "2025-09-18T14:33:40.405928Z",
     "iopub.status.busy": "2025-09-18T14:33:40.405720Z",
     "iopub.status.idle": "2025-09-18T14:33:41.232162Z",
     "shell.execute_reply": "2025-09-18T14:33:41.231522Z"
    }
   },
   "outputs": [],
   "source": [
    "from pathlib import Path\n",
    "\n",
    "from ansys.speos.core import GeoRef, Project, Speos, launcher\n",
    "from ansys.speos.core.source import (\n",
    "    SourceAmbientNaturalLight,\n",
    "    SourceLuminaire,\n",
    "    SourceRayFile,\n",
    "    SourceSurface,\n",
    ")\n"
   ]
  },
  {
   "cell_type": "markdown",
   "id": "27a279a6",
   "metadata": {},
   "source": [
    "### Define constants\n",
    "Constants help ensure consistency and avoid repetition throughout the example."
   ]
  },
  {
   "cell_type": "code",
   "execution_count": 2,
   "id": "36480e56",
   "metadata": {
    "execution": {
     "iopub.execute_input": "2025-09-18T14:33:41.234397Z",
     "iopub.status.busy": "2025-09-18T14:33:41.234121Z",
     "iopub.status.idle": "2025-09-18T14:33:41.237389Z",
     "shell.execute_reply": "2025-09-18T14:33:41.236740Z"
    }
   },
   "outputs": [],
   "source": [
    "HOSTNAME = \"localhost\"\n",
    "GRPC_PORT = 50098  # Be sure the Speos GRPC Server has been started on this port.\n",
    "USE_DOCKER = True  # Set to False if you're running this example locally as a Notebook.\n",
    "IES = \"IES_C_DETECTOR.ies\""
   ]
  },
  {
   "cell_type": "markdown",
   "id": "0b9982d3",
   "metadata": {
    "lines_to_next_cell": 2
   },
   "source": [
    "### Define helper functions"
   ]
  },
  {
   "cell_type": "code",
   "execution_count": 3,
   "id": "1969102c",
   "metadata": {
    "execution": {
     "iopub.execute_input": "2025-09-18T14:33:41.239092Z",
     "iopub.status.busy": "2025-09-18T14:33:41.238899Z",
     "iopub.status.idle": "2025-09-18T14:33:41.244043Z",
     "shell.execute_reply": "2025-09-18T14:33:41.243478Z"
    }
   },
   "outputs": [],
   "source": [
    "def create_helper_geometries(project: Project):\n",
    "    \"\"\"Create bodies and faces.\"\"\"\n",
    "\n",
    "    def create_face(body):\n",
    "        (\n",
    "            body.create_face(name=\"TheFaceF\")\n",
    "            .set_vertices([0, 0, 0, 1, 0, 0, 0, 1, 0])\n",
    "            .set_facets([0, 1, 2])\n",
    "            .set_normals([0, 0, 1, 0, 0, 1, 0, 0, 1])\n",
    "            .commit()\n",
    "        )\n",
    "\n",
    "    root_part = project.create_root_part().commit()\n",
    "    body_b1 = root_part.create_body(name=\"TheBodyB\").commit()\n",
    "    body_b2 = root_part.create_body(name=\"TheBodyC\").commit()\n",
    "    body_b3 = root_part.create_body(name=\"TheBodyD\").commit()\n",
    "    body_b4 = root_part.create_body(name=\"TheBodyE\").commit()\n",
    "    for b in [body_b1, body_b2, body_b3, body_b4]:\n",
    "        create_face(b)"
   ]
  },
  {
   "cell_type": "markdown",
   "id": "8da64a4f",
   "metadata": {},
   "source": [
    "## Model Setup\n",
    "\n",
    "### Load assets\n",
    "The assets used to run this example are available in the\n",
    "[PySpeos repository](https://github.com/ansys/pyspeos/) on GitHub.\n",
    "\n",
    "> **Note:** Make sure you\n",
    "> have downloaded simulation assets and set ``assets_data_path``\n",
    "> to point to the assets folder."
   ]
  },
  {
   "cell_type": "code",
   "execution_count": 4,
   "id": "5862a44a",
   "metadata": {
    "execution": {
     "iopub.execute_input": "2025-09-18T14:33:41.245801Z",
     "iopub.status.busy": "2025-09-18T14:33:41.245593Z",
     "iopub.status.idle": "2025-09-18T14:33:41.248630Z",
     "shell.execute_reply": "2025-09-18T14:33:41.248107Z"
    }
   },
   "outputs": [],
   "source": [
    "if USE_DOCKER:  # Running on the remote server.\n",
    "    assets_data_path = Path(\"/app\") / \"assets\"\n",
    "else:\n",
    "    assets_data_path = Path(\"/path/to/your/download/assets/directory\")"
   ]
  },
  {
   "cell_type": "markdown",
   "id": "4d32e231",
   "metadata": {},
   "source": [
    "### Connect to the RPC Server\n",
    "This Python client connects to a server where the Speos engine\n",
    "is running as a service. In this example, the server and\n",
    "client are the same machine. The launch_local_speos_rpc_method can\n",
    "be used to start a local instance of the service."
   ]
  },
  {
   "cell_type": "code",
   "execution_count": 5,
   "id": "4f4bf2da",
   "metadata": {
    "execution": {
     "iopub.execute_input": "2025-09-18T14:33:41.250270Z",
     "iopub.status.busy": "2025-09-18T14:33:41.250090Z",
     "iopub.status.idle": "2025-09-18T14:33:41.256155Z",
     "shell.execute_reply": "2025-09-18T14:33:41.255516Z"
    }
   },
   "outputs": [],
   "source": [
    "if USE_DOCKER:\n",
    "    speos = Speos(host=HOSTNAME, port=GRPC_PORT)\n",
    "else:\n",
    "    speos = launcher.launch_local_speos_rpc_server(port=GRPC_PORT)"
   ]
  },
  {
   "cell_type": "markdown",
   "id": "535bef7b",
   "metadata": {},
   "source": [
    "### Create a new project\n",
    "\n",
    "The only way to create a source using the core layer, is to create it from a project.\n",
    "The ``Project`` class is instantiated by passing a ``Speos`` instance"
   ]
  },
  {
   "cell_type": "code",
   "execution_count": 6,
   "id": "2cc55d05",
   "metadata": {
    "execution": {
     "iopub.execute_input": "2025-09-18T14:33:41.257887Z",
     "iopub.status.busy": "2025-09-18T14:33:41.257682Z",
     "iopub.status.idle": "2025-09-18T14:33:41.265337Z",
     "shell.execute_reply": "2025-09-18T14:33:41.264770Z"
    },
    "lines_to_next_cell": 2
   },
   "outputs": [
    {
     "name": "stdout",
     "output_type": "stream",
     "text": [
      "{\n",
      "    \"name\": \"\",\n",
      "    \"description\": \"\",\n",
      "    \"metadata\": {},\n",
      "    \"part_guid\": \"\",\n",
      "    \"sources\": [],\n",
      "    \"sensors\": [],\n",
      "    \"simulations\": [],\n",
      "    \"materials\": [],\n",
      "    \"scenes\": []\n",
      "}\n"
     ]
    }
   ],
   "source": [
    "p = Project(speos=speos)\n",
    "print(p)"
   ]
  },
  {
   "cell_type": "markdown",
   "id": "fc4bbf41",
   "metadata": {},
   "source": [
    "### Source Creation\n",
    "\n",
    "**Create locally:**\n",
    "The mention \"local: \" is added when printing the source data and information is not yet\n",
    "pushed to the RPC server"
   ]
  },
  {
   "cell_type": "code",
   "execution_count": 7,
   "id": "27e92ab7",
   "metadata": {
    "execution": {
     "iopub.execute_input": "2025-09-18T14:33:41.267008Z",
     "iopub.status.busy": "2025-09-18T14:33:41.266810Z",
     "iopub.status.idle": "2025-09-18T14:33:41.276773Z",
     "shell.execute_reply": "2025-09-18T14:33:41.276219Z"
    }
   },
   "outputs": [
    {
     "name": "stdout",
     "output_type": "stream",
     "text": [
      "local: {\n",
      "    \"name\": \"Luminaire.1\",\n",
      "    \"description\": \"\",\n",
      "    \"metadata\": {},\n",
      "    \"source_guid\": \"\",\n",
      "    \"source\": {\n",
      "        \"name\": \"Luminaire.1\",\n",
      "        \"luminaire\": {\n",
      "            \"flux_from_intensity_file\": {},\n",
      "            \"intensity_file_uri\": \"/app/assets/IES_C_DETECTOR.ies\",\n",
      "            \"spectrum_guid\": \"\",\n",
      "            \"axis_system\": [\n",
      "                0.0,\n",
      "                0.0,\n",
      "                0.0,\n",
      "                1.0,\n",
      "                0.0,\n",
      "                0.0,\n",
      "                0.0,\n",
      "                1.0,\n",
      "                0.0,\n",
      "                0.0,\n",
      "                0.0,\n",
      "                1.0\n",
      "            ]\n",
      "        },\n",
      "        \"description\": \"\",\n",
      "        \"metadata\": {}\n",
      "    }\n",
      "}\n"
     ]
    },
    {
     "name": "stderr",
     "output_type": "stream",
     "text": [
      "/home/runner/work/pyspeos/pyspeos/.venv/lib/python3.10/site-packages/ansys/speos/core/project.py:214: UserWarning: The pySpeos feature : SourceLuminaire needs a Speos Version of 2025 R2 SP0 or higher.\n",
      "  feature = SourceLuminaire(\n"
     ]
    }
   ],
   "source": [
    "intensity_file_path = str(assets_data_path / IES)\n",
    "source1 = p.create_source(name=\"Luminaire.1\", feature_type=SourceLuminaire)  # type luminaire\n",
    "source1.set_intensity_file_uri(uri=intensity_file_path)\n",
    "print(source1)"
   ]
  },
  {
   "cell_type": "markdown",
   "id": "718bedbb",
   "metadata": {},
   "source": [
    "**Push it to the server.**\n",
    "\n",
    "After it is committed to the server, the mention \"local: \" is no more present when printing the\n",
    "source."
   ]
  },
  {
   "cell_type": "code",
   "execution_count": 8,
   "id": "a75c5fe6",
   "metadata": {
    "execution": {
     "iopub.execute_input": "2025-09-18T14:33:41.278480Z",
     "iopub.status.busy": "2025-09-18T14:33:41.278304Z",
     "iopub.status.idle": "2025-09-18T14:33:41.292060Z",
     "shell.execute_reply": "2025-09-18T14:33:41.291525Z"
    }
   },
   "outputs": [
    {
     "name": "stdout",
     "output_type": "stream",
     "text": [
      "{\n",
      "    \"name\": \"Luminaire.1\",\n",
      "    \"metadata\": {\n",
      "        \"UniqueId\": \"d8e3994f-5316-429b-8e26-c613dc5f72a2\"\n",
      "    },\n",
      "    \"source_guid\": \"a87e2522-d568-461e-b80c-3f410e70b353\",\n",
      "    \"description\": \"\",\n",
      "    \"source\": {\n",
      "        \"name\": \"Luminaire.1\",\n",
      "        \"luminaire\": {\n",
      "            \"flux_from_intensity_file\": {},\n",
      "            \"intensity_file_uri\": \"/app/assets/IES_C_DETECTOR.ies\",\n",
      "            \"spectrum_guid\": \"4dac0e69-d0d3-48fa-8517-6fd29234dfb2\",\n",
      "            \"spectrum\": {\n",
      "                \"name\": \"Luminaire.1.Spectrum\",\n",
      "                \"predefined\": {\n",
      "                    \"incandescent\": {}\n",
      "                },\n",
      "                \"description\": \"\",\n",
      "                \"metadata\": {}\n",
      "            },\n",
      "            \"axis_system\": [\n",
      "                0.0,\n",
      "                0.0,\n",
      "                0.0,\n",
      "                1.0,\n",
      "                0.0,\n",
      "                0.0,\n",
      "                0.0,\n",
      "                1.0,\n",
      "                0.0,\n",
      "                0.0,\n",
      "                0.0,\n",
      "                1.0\n",
      "            ]\n",
      "        },\n",
      "        \"description\": \"\",\n",
      "        \"metadata\": {}\n",
      "    }\n",
      "}\n"
     ]
    }
   ],
   "source": [
    "source1.commit()\n",
    "print(source1)"
   ]
  },
  {
   "cell_type": "markdown",
   "id": "c873f62f",
   "metadata": {
    "lines_to_next_cell": 2
   },
   "source": [
    "**Changing additional Source Properties**\n",
    "\n",
    "Setting several more characteristics."
   ]
  },
  {
   "cell_type": "code",
   "execution_count": 9,
   "id": "7d01f388",
   "metadata": {
    "execution": {
     "iopub.execute_input": "2025-09-18T14:33:41.293753Z",
     "iopub.status.busy": "2025-09-18T14:33:41.293576Z",
     "iopub.status.idle": "2025-09-18T14:33:41.318718Z",
     "shell.execute_reply": "2025-09-18T14:33:41.318190Z"
    }
   },
   "outputs": [
    {
     "name": "stdout",
     "output_type": "stream",
     "text": [
      "{\n",
      "    \"name\": \"Luminaire.2\",\n",
      "    \"metadata\": {\n",
      "        \"UniqueId\": \"06c594a3-173b-4cac-8ce8-7a43188c7ce6\"\n",
      "    },\n",
      "    \"source_guid\": \"8ae1a4eb-62ed-40cf-85ad-f0b0f6908964\",\n",
      "    \"description\": \"\",\n",
      "    \"source\": {\n",
      "        \"name\": \"Luminaire.2\",\n",
      "        \"luminaire\": {\n",
      "            \"radiant_flux\": {\n",
      "                \"radiant_value\": 1.0\n",
      "            },\n",
      "            \"intensity_file_uri\": \"/app/assets/IES_C_DETECTOR.ies\",\n",
      "            \"spectrum_guid\": \"12be3621-1a33-40d1-a49b-1cec0e7c2e98\",\n",
      "            \"spectrum\": {\n",
      "                \"name\": \"Luminaire.2.Spectrum\",\n",
      "                \"blackbody\": {\n",
      "                    \"temperature\": 2856.0\n",
      "                },\n",
      "                \"description\": \"\",\n",
      "                \"metadata\": {}\n",
      "            },\n",
      "            \"axis_system\": [\n",
      "                20.0,\n",
      "                50.0,\n",
      "                10.0,\n",
      "                1.0,\n",
      "                0.0,\n",
      "                0.0,\n",
      "                0.0,\n",
      "                1.0,\n",
      "                0.0,\n",
      "                0.0,\n",
      "                0.0,\n",
      "                1.0\n",
      "            ]\n",
      "        },\n",
      "        \"description\": \"\",\n",
      "        \"metadata\": {}\n",
      "    }\n",
      "}\n"
     ]
    }
   ],
   "source": [
    "intensity_file_path = str(assets_data_path / IES)\n",
    "source2 = p.create_source(name=\"Luminaire.2\", feature_type=SourceLuminaire)\n",
    "source2.set_intensity_file_uri(uri=intensity_file_path)\n",
    "source2.set_flux_radiant()  # select flux radiant with default value\n",
    "# choose the source location [Origin, Xvector, Yvector, Zvector]\n",
    "source2.set_axis_system(axis_system=[20, 50, 10, 1, 0, 0, 0, 1, 0, 0, 0, 1])\n",
    "source2.set_spectrum().set_blackbody()  # choose blackbody with default value for the spectrum\n",
    "source2.commit()  # Push to the server\n",
    "print(source2)"
   ]
  },
  {
   "cell_type": "markdown",
   "id": "fc6e51bf",
   "metadata": {},
   "source": [
    "**Source Instance**\n",
    "\n",
    "As mention \"local: \" is added if it is not yet committed to the server."
   ]
  },
  {
   "cell_type": "code",
   "execution_count": 10,
   "id": "0c380ae1",
   "metadata": {
    "execution": {
     "iopub.execute_input": "2025-09-18T14:33:41.320421Z",
     "iopub.status.busy": "2025-09-18T14:33:41.320242Z",
     "iopub.status.idle": "2025-09-18T14:33:41.327758Z",
     "shell.execute_reply": "2025-09-18T14:33:41.327207Z"
    }
   },
   "outputs": [
    {
     "name": "stdout",
     "output_type": "stream",
     "text": [
      "{\n",
      "    \"name\": \"Luminaire.1\",\n",
      "    \"metadata\": {\n",
      "        \"UniqueId\": \"d8e3994f-5316-429b-8e26-c613dc5f72a2\"\n",
      "    },\n",
      "    \"source_guid\": \"a87e2522-d568-461e-b80c-3f410e70b353\",\n",
      "    \"description\": \"\",\n",
      "    \"source\": {\n",
      "        \"name\": \"Luminaire.1\",\n",
      "        \"luminaire\": {\n",
      "            \"flux_from_intensity_file\": {},\n",
      "            \"intensity_file_uri\": \"/app/assets/IES_C_DETECTOR.ies\",\n",
      "            \"spectrum_guid\": \"4dac0e69-d0d3-48fa-8517-6fd29234dfb2\",\n",
      "            \"spectrum\": {\n",
      "                \"name\": \"Luminaire.1.Spectrum\",\n",
      "                \"predefined\": {\n",
      "                    \"incandescent\": {}\n",
      "                },\n",
      "                \"description\": \"\",\n",
      "                \"metadata\": {}\n",
      "            },\n",
      "            \"axis_system\": [\n",
      "                0.0,\n",
      "                0.0,\n",
      "                0.0,\n",
      "                1.0,\n",
      "                0.0,\n",
      "                0.0,\n",
      "                0.0,\n",
      "                1.0,\n",
      "                0.0,\n",
      "                0.0,\n",
      "                0.0,\n",
      "                1.0\n",
      "            ]\n",
      "        },\n",
      "        \"description\": \"\",\n",
      "        \"metadata\": {}\n",
      "    }\n",
      "}\n"
     ]
    }
   ],
   "source": [
    "print(source1)"
   ]
  },
  {
   "cell_type": "markdown",
   "id": "c151ea1d",
   "metadata": {},
   "source": [
    "**Project:**\n",
    "\n",
    "Committed feature will appear inside the project information."
   ]
  },
  {
   "cell_type": "code",
   "execution_count": 11,
   "id": "990b4729",
   "metadata": {
    "execution": {
     "iopub.execute_input": "2025-09-18T14:33:41.329380Z",
     "iopub.status.busy": "2025-09-18T14:33:41.329202Z",
     "iopub.status.idle": "2025-09-18T14:33:41.340233Z",
     "shell.execute_reply": "2025-09-18T14:33:41.339669Z"
    }
   },
   "outputs": [
    {
     "name": "stdout",
     "output_type": "stream",
     "text": [
      "{\n",
      "    \"sources\": [\n",
      "        {\n",
      "            \"name\": \"Luminaire.1\",\n",
      "            \"metadata\": {\n",
      "                \"UniqueId\": \"d8e3994f-5316-429b-8e26-c613dc5f72a2\"\n",
      "            },\n",
      "            \"source_guid\": \"a87e2522-d568-461e-b80c-3f410e70b353\",\n",
      "            \"description\": \"\",\n",
      "            \"source\": {\n",
      "                \"name\": \"Luminaire.1\",\n",
      "                \"luminaire\": {\n",
      "                    \"flux_from_intensity_file\": {},\n",
      "                    \"intensity_file_uri\": \"/app/assets/IES_C_DETECTOR.ies\",\n",
      "                    \"spectrum_guid\": \"4dac0e69-d0d3-48fa-8517-6fd29234dfb2\",\n",
      "                    \"spectrum\": {\n",
      "                        \"name\": \"Luminaire.1.Spectrum\",\n",
      "                        \"predefined\": {\n",
      "                            \"incandescent\": {}\n",
      "                        },\n",
      "                        \"description\": \"\",\n",
      "                        \"metadata\": {}\n",
      "                    },\n",
      "                    \"axis_system\": [\n",
      "                        0.0,\n",
      "                        0.0,\n",
      "                        0.0,\n",
      "                        1.0,\n",
      "                        0.0,\n",
      "                        0.0,\n",
      "                        0.0,\n",
      "                        1.0,\n",
      "                        0.0,\n",
      "                        0.0,\n",
      "                        0.0,\n",
      "                        1.0\n",
      "                    ]\n",
      "                },\n",
      "                \"description\": \"\",\n",
      "                \"metadata\": {}\n",
      "            }\n",
      "        },\n",
      "        {\n",
      "            \"name\": \"Luminaire.2\",\n",
      "            \"metadata\": {\n",
      "                \"UniqueId\": \"06c594a3-173b-4cac-8ce8-7a43188c7ce6\"\n",
      "            },\n",
      "            \"source_guid\": \"8ae1a4eb-62ed-40cf-85ad-f0b0f6908964\",\n",
      "            \"description\": \"\",\n",
      "            \"source\": {\n",
      "                \"name\": \"Luminaire.2\",\n",
      "                \"luminaire\": {\n",
      "                    \"radiant_flux\": {\n",
      "                        \"radiant_value\": 1.0\n",
      "                    },\n",
      "                    \"intensity_file_uri\": \"/app/assets/IES_C_DETECTOR.ies\",\n",
      "                    \"spectrum_guid\": \"12be3621-1a33-40d1-a49b-1cec0e7c2e98\",\n",
      "                    \"spectrum\": {\n",
      "                        \"name\": \"Luminaire.2.Spectrum\",\n",
      "                        \"blackbody\": {\n",
      "                            \"temperature\": 2856.0\n",
      "                        },\n",
      "                        \"description\": \"\",\n",
      "                        \"metadata\": {}\n",
      "                    },\n",
      "                    \"axis_system\": [\n",
      "                        20.0,\n",
      "                        50.0,\n",
      "                        10.0,\n",
      "                        1.0,\n",
      "                        0.0,\n",
      "                        0.0,\n",
      "                        0.0,\n",
      "                        1.0,\n",
      "                        0.0,\n",
      "                        0.0,\n",
      "                        0.0,\n",
      "                        1.0\n",
      "                    ]\n",
      "                },\n",
      "                \"description\": \"\",\n",
      "                \"metadata\": {}\n",
      "            }\n",
      "        }\n",
      "    ],\n",
      "    \"name\": \"\",\n",
      "    \"description\": \"\",\n",
      "    \"metadata\": {},\n",
      "    \"part_guid\": \"\",\n",
      "    \"sensors\": [],\n",
      "    \"simulations\": [],\n",
      "    \"materials\": [],\n",
      "    \"scenes\": []\n",
      "}\n"
     ]
    }
   ],
   "source": [
    "print(p)"
   ]
  },
  {
   "cell_type": "markdown",
   "id": "c849c0a2",
   "metadata": {},
   "source": [
    "**Update:**\n",
    "\n",
    "> **Note:** If you are manipulating a source already committed, don't forget to commit your\n",
    "> changes.\n",
    "> If you don't, you will still only watch what is committed on the server."
   ]
  },
  {
   "cell_type": "code",
   "execution_count": 12,
   "id": "363b1464",
   "metadata": {
    "execution": {
     "iopub.execute_input": "2025-09-18T14:33:41.341986Z",
     "iopub.status.busy": "2025-09-18T14:33:41.341783Z",
     "iopub.status.idle": "2025-09-18T14:33:41.361312Z",
     "shell.execute_reply": "2025-09-18T14:33:41.360570Z"
    }
   },
   "outputs": [
    {
     "name": "stdout",
     "output_type": "stream",
     "text": [
      "{\n",
      "    \"name\": \"Luminaire.1\",\n",
      "    \"metadata\": {\n",
      "        \"UniqueId\": \"d8e3994f-5316-429b-8e26-c613dc5f72a2\"\n",
      "    },\n",
      "    \"source_guid\": \"a87e2522-d568-461e-b80c-3f410e70b353\",\n",
      "    \"description\": \"\",\n",
      "    \"source\": {\n",
      "        \"name\": \"Luminaire.1\",\n",
      "        \"luminaire\": {\n",
      "            \"radiant_flux\": {\n",
      "                \"radiant_value\": 1.2\n",
      "            },\n",
      "            \"intensity_file_uri\": \"/app/assets/IES_C_DETECTOR.ies\",\n",
      "            \"spectrum_guid\": \"4dac0e69-d0d3-48fa-8517-6fd29234dfb2\",\n",
      "            \"spectrum\": {\n",
      "                \"name\": \"Luminaire.1.Spectrum\",\n",
      "                \"predefined\": {\n",
      "                    \"halogen\": {}\n",
      "                },\n",
      "                \"description\": \"\",\n",
      "                \"metadata\": {}\n",
      "            },\n",
      "            \"axis_system\": [\n",
      "                17.0,\n",
      "                10.0,\n",
      "                10.0,\n",
      "                1.0,\n",
      "                0.0,\n",
      "                0.0,\n",
      "                0.0,\n",
      "                1.0,\n",
      "                0.0,\n",
      "                0.0,\n",
      "                0.0,\n",
      "                1.0\n",
      "            ]\n",
      "        },\n",
      "        \"description\": \"\",\n",
      "        \"metadata\": {}\n",
      "    }\n",
      "}\n"
     ]
    }
   ],
   "source": [
    "source1.set_flux_radiant(value=1.2)  # modify radiant flux value\n",
    "source1.set_axis_system(axis_system=[17, 10, 10, 1, 0, 0, 0, 1, 0, 0, 0, 1])  # modify axis system\n",
    "source1.set_spectrum().set_halogen()  # modify spectrum by choosing halogen\n",
    "source1.commit()  # Push changes to the server\n",
    "print(source1)"
   ]
  },
  {
   "cell_type": "markdown",
   "id": "f4c293d2",
   "metadata": {},
   "source": [
    "**Reset**\n",
    "\n",
    "Possibility to reset local values from the one available in the server."
   ]
  },
  {
   "cell_type": "code",
   "execution_count": 13,
   "id": "e3f20a4c",
   "metadata": {
    "execution": {
     "iopub.execute_input": "2025-09-18T14:33:41.363152Z",
     "iopub.status.busy": "2025-09-18T14:33:41.362969Z",
     "iopub.status.idle": "2025-09-18T14:33:41.375584Z",
     "shell.execute_reply": "2025-09-18T14:33:41.375063Z"
    },
    "lines_to_next_cell": 2
   },
   "outputs": [
    {
     "name": "stdout",
     "output_type": "stream",
     "text": [
      "local: {\n",
      "    \"name\": \"Luminaire.1\",\n",
      "    \"description\": \"\",\n",
      "    \"metadata\": {},\n",
      "    \"source_guid\": \"\",\n",
      "    \"source\": {\n",
      "        \"name\": \"Luminaire.1\",\n",
      "        \"luminaire\": {\n",
      "            \"radiant_flux\": {\n",
      "                \"radiant_value\": 1.2\n",
      "            },\n",
      "            \"intensity_file_uri\": \"/app/assets/IES_C_DETECTOR.ies\",\n",
      "            \"spectrum_guid\": \"4dac0e69-d0d3-48fa-8517-6fd29234dfb2\",\n",
      "            \"spectrum\": {\n",
      "                \"name\": \"Luminaire.1.Spectrum\",\n",
      "                \"predefined\": {\n",
      "                    \"halogen\": {}\n",
      "                },\n",
      "                \"description\": \"\",\n",
      "                \"metadata\": {}\n",
      "            },\n",
      "            \"axis_system\": [\n",
      "                17.0,\n",
      "                10.0,\n",
      "                10.0,\n",
      "                1.0,\n",
      "                0.0,\n",
      "                0.0,\n",
      "                0.0,\n",
      "                1.0,\n",
      "                0.0,\n",
      "                0.0,\n",
      "                0.0,\n",
      "                1.0\n",
      "            ]\n",
      "        },\n",
      "        \"description\": \"\",\n",
      "        \"metadata\": {}\n",
      "    }\n",
      "}\n"
     ]
    }
   ],
   "source": [
    "source1.set_flux_luminous()  # modify to luminous flux BUT no commit\n",
    "source1.reset()\n",
    "# reset -> this will apply the server value to the local value the local value will be back to\n",
    "# halogen\n",
    "source1.delete()  # delete (to display the local value with the below print)\n",
    "print(source1)"
   ]
  },
  {
   "cell_type": "markdown",
   "id": "fe0b9212",
   "metadata": {},
   "source": [
    "**Delete**\n",
    "\n",
    "Once the data is deleted from the server, you can still work with local data and maybe commit\n",
    "later."
   ]
  },
  {
   "cell_type": "code",
   "execution_count": 14,
   "id": "f34f6926",
   "metadata": {
    "execution": {
     "iopub.execute_input": "2025-09-18T14:33:41.377350Z",
     "iopub.status.busy": "2025-09-18T14:33:41.377172Z",
     "iopub.status.idle": "2025-09-18T14:33:41.383977Z",
     "shell.execute_reply": "2025-09-18T14:33:41.383451Z"
    }
   },
   "outputs": [
    {
     "name": "stdout",
     "output_type": "stream",
     "text": [
      "local: {\n",
      "    \"name\": \"Luminaire.2\",\n",
      "    \"description\": \"\",\n",
      "    \"metadata\": {},\n",
      "    \"source_guid\": \"\",\n",
      "    \"source\": {\n",
      "        \"name\": \"Luminaire.2\",\n",
      "        \"luminaire\": {\n",
      "            \"radiant_flux\": {\n",
      "                \"radiant_value\": 1.0\n",
      "            },\n",
      "            \"intensity_file_uri\": \"/app/assets/IES_C_DETECTOR.ies\",\n",
      "            \"spectrum_guid\": \"12be3621-1a33-40d1-a49b-1cec0e7c2e98\",\n",
      "            \"spectrum\": {\n",
      "                \"name\": \"Luminaire.2.Spectrum\",\n",
      "                \"blackbody\": {\n",
      "                    \"temperature\": 2856.0\n",
      "                },\n",
      "                \"description\": \"\",\n",
      "                \"metadata\": {}\n",
      "            },\n",
      "            \"axis_system\": [\n",
      "                20.0,\n",
      "                50.0,\n",
      "                10.0,\n",
      "                1.0,\n",
      "                0.0,\n",
      "                0.0,\n",
      "                0.0,\n",
      "                1.0,\n",
      "                0.0,\n",
      "                0.0,\n",
      "                0.0,\n",
      "                1.0\n",
      "            ]\n",
      "        },\n",
      "        \"description\": \"\",\n",
      "        \"metadata\": {}\n",
      "    }\n",
      "}\n",
      "{\n",
      "    \"name\": \"\",\n",
      "    \"description\": \"\",\n",
      "    \"metadata\": {},\n",
      "    \"part_guid\": \"\",\n",
      "    \"sources\": [],\n",
      "    \"sensors\": [],\n",
      "    \"simulations\": [],\n",
      "    \"materials\": [],\n",
      "    \"scenes\": []\n",
      "}\n"
     ]
    }
   ],
   "source": [
    "source2.delete()\n",
    "print(source2)\n",
    "source1.delete()\n",
    "print(p)"
   ]
  },
  {
   "cell_type": "markdown",
   "id": "36601b9e",
   "metadata": {},
   "source": [
    "## Other Sources Examples"
   ]
  },
  {
   "cell_type": "markdown",
   "id": "4d83990a",
   "metadata": {},
   "source": [
    "### Ray-file source"
   ]
  },
  {
   "cell_type": "code",
   "execution_count": 15,
   "id": "eb71b6f8",
   "metadata": {
    "execution": {
     "iopub.execute_input": "2025-09-18T14:33:41.385724Z",
     "iopub.status.busy": "2025-09-18T14:33:41.385529Z",
     "iopub.status.idle": "2025-09-18T14:33:41.400272Z",
     "shell.execute_reply": "2025-09-18T14:33:41.399689Z"
    }
   },
   "outputs": [
    {
     "name": "stdout",
     "output_type": "stream",
     "text": [
      "{\n",
      "    \"name\": \"Ray-file.1\",\n",
      "    \"metadata\": {\n",
      "        \"UniqueId\": \"7101a6f7-2693-48f3-a6f6-974f0b188161\"\n",
      "    },\n",
      "    \"source_guid\": \"3d840457-f717-432f-8f49-9b5c9b5b203f\",\n",
      "    \"description\": \"\",\n",
      "    \"source\": {\n",
      "        \"name\": \"Ray-file.1\",\n",
      "        \"rayfile\": {\n",
      "            \"ray_file_uri\": \"/app/assets/Rays.ray\",\n",
      "            \"flux_from_ray_file\": {},\n",
      "            \"spectrum_from_ray_file\": {},\n",
      "            \"axis_system\": [\n",
      "                0.0,\n",
      "                0.0,\n",
      "                0.0,\n",
      "                1.0,\n",
      "                0.0,\n",
      "                0.0,\n",
      "                0.0,\n",
      "                1.0,\n",
      "                0.0,\n",
      "                0.0,\n",
      "                0.0,\n",
      "                1.0\n",
      "            ]\n",
      "        },\n",
      "        \"description\": \"\",\n",
      "        \"metadata\": {}\n",
      "    }\n",
      "}\n"
     ]
    },
    {
     "name": "stderr",
     "output_type": "stream",
     "text": [
      "/home/runner/work/pyspeos/pyspeos/.venv/lib/python3.10/site-packages/ansys/speos/core/project.py:207: UserWarning: The pySpeos feature : SourceRayFile needs a Speos Version of 2025 R2 SP0 or higher.\n",
      "  feature = SourceRayFile(\n"
     ]
    }
   ],
   "source": [
    "ray_file_path = str(assets_data_path / \"Rays.ray\")\n",
    "\n",
    "source3 = p.create_source(name=\"Ray-file.1\", feature_type=SourceRayFile)  # type ray file\n",
    "source3.set_ray_file_uri(uri=ray_file_path)\n",
    "source3.commit()\n",
    "print(source3)"
   ]
  },
  {
   "cell_type": "code",
   "execution_count": 16,
   "id": "d6c11f22",
   "metadata": {
    "execution": {
     "iopub.execute_input": "2025-09-18T14:33:41.401902Z",
     "iopub.status.busy": "2025-09-18T14:33:41.401701Z",
     "iopub.status.idle": "2025-09-18T14:33:41.408945Z",
     "shell.execute_reply": "2025-09-18T14:33:41.408382Z"
    }
   },
   "outputs": [
    {
     "name": "stdout",
     "output_type": "stream",
     "text": [
      "{\n",
      "    \"name\": \"Ray-file.1\",\n",
      "    \"metadata\": {\n",
      "        \"UniqueId\": \"7101a6f7-2693-48f3-a6f6-974f0b188161\"\n",
      "    },\n",
      "    \"source_guid\": \"3d840457-f717-432f-8f49-9b5c9b5b203f\",\n",
      "    \"description\": \"\",\n",
      "    \"source\": {\n",
      "        \"name\": \"Ray-file.1\",\n",
      "        \"rayfile\": {\n",
      "            \"ray_file_uri\": \"/app/assets/Rays.ray\",\n",
      "            \"luminous_flux\": {\n",
      "                \"luminous_value\": 683.0\n",
      "            },\n",
      "            \"spectrum_from_ray_file\": {},\n",
      "            \"axis_system\": [\n",
      "                0.0,\n",
      "                0.0,\n",
      "                0.0,\n",
      "                1.0,\n",
      "                0.0,\n",
      "                0.0,\n",
      "                0.0,\n",
      "                1.0,\n",
      "                0.0,\n",
      "                0.0,\n",
      "                0.0,\n",
      "                1.0\n",
      "            ]\n",
      "        },\n",
      "        \"description\": \"\",\n",
      "        \"metadata\": {}\n",
      "    }\n",
      "}\n"
     ]
    }
   ],
   "source": [
    "source3.set_flux_luminous()\n",
    "source3.commit()\n",
    "print(source3)"
   ]
  },
  {
   "cell_type": "code",
   "execution_count": 17,
   "id": "838218b9",
   "metadata": {
    "execution": {
     "iopub.execute_input": "2025-09-18T14:33:41.410589Z",
     "iopub.status.busy": "2025-09-18T14:33:41.410404Z",
     "iopub.status.idle": "2025-09-18T14:33:41.417321Z",
     "shell.execute_reply": "2025-09-18T14:33:41.416777Z"
    }
   },
   "outputs": [
    {
     "data": {
      "text/plain": [
       "<ansys.speos.core.source.SourceRayFile at 0x7fbf783c87f0>"
      ]
     },
     "execution_count": 17,
     "metadata": {},
     "output_type": "execute_result"
    }
   ],
   "source": [
    "source3.delete()"
   ]
  },
  {
   "cell_type": "markdown",
   "id": "5f3adf8a",
   "metadata": {},
   "source": [
    "### Surface source"
   ]
  },
  {
   "cell_type": "code",
   "execution_count": 18,
   "id": "9d0209f4",
   "metadata": {
    "execution": {
     "iopub.execute_input": "2025-09-18T14:33:41.418973Z",
     "iopub.status.busy": "2025-09-18T14:33:41.418772Z",
     "iopub.status.idle": "2025-09-18T14:33:41.471761Z",
     "shell.execute_reply": "2025-09-18T14:33:41.471129Z"
    }
   },
   "outputs": [
    {
     "name": "stdout",
     "output_type": "stream",
     "text": [
      "{\n",
      "    \"name\": \"Surface.1\",\n",
      "    \"metadata\": {\n",
      "        \"UniqueId\": \"d7d729e9-ff5e-454d-8990-8ba6f49643be\"\n",
      "    },\n",
      "    \"source_guid\": \"063272d5-5b2e-496a-96e4-17570903f6bb\",\n",
      "    \"description\": \"\",\n",
      "    \"source\": {\n",
      "        \"name\": \"Surface.1\",\n",
      "        \"surface\": {\n",
      "            \"luminous_flux\": {\n",
      "                \"luminous_value\": 683.0\n",
      "            },\n",
      "            \"intensity_guid\": \"ed001a3a-bbde-4422-9704-8ef9a039dd8f\",\n",
      "            \"exitance_constant\": {\n",
      "                \"geo_paths\": [\n",
      "                    {\n",
      "                        \"geo_path\": \"TheBodyB/TheFaceF\",\n",
      "                        \"reverse_normal\": false\n",
      "                    },\n",
      "                    {\n",
      "                        \"geo_path\": \"TheBodyC/TheFaceF\",\n",
      "                        \"reverse_normal\": true\n",
      "                    }\n",
      "                ]\n",
      "            },\n",
      "            \"spectrum_guid\": \"603e97d8-a290-4707-a5ac-5a46ac9eacb8\",\n",
      "            \"intensity\": {\n",
      "                \"name\": \"Surface.1.Intensity\",\n",
      "                \"cos\": {\n",
      "                    \"N\": 1.0,\n",
      "                    \"total_angle\": 180.0\n",
      "                },\n",
      "                \"description\": \"\",\n",
      "                \"metadata\": {}\n",
      "            },\n",
      "            \"spectrum\": {\n",
      "                \"name\": \"Surface.1.Spectrum\",\n",
      "                \"monochromatic\": {\n",
      "                    \"wavelength\": 555.0\n",
      "                },\n",
      "                \"description\": \"\",\n",
      "                \"metadata\": {}\n",
      "            }\n",
      "        },\n",
      "        \"description\": \"\",\n",
      "        \"metadata\": {}\n",
      "    }\n",
      "}\n"
     ]
    },
    {
     "name": "stderr",
     "output_type": "stream",
     "text": [
      "/home/runner/work/pyspeos/pyspeos/.venv/lib/python3.10/site-packages/ansys/speos/core/project.py:200: UserWarning: The pySpeos feature : SourceSurface needs a Speos Version of 2025 R2 SP0 or higher.\n",
      "  feature = SourceSurface(\n"
     ]
    }
   ],
   "source": [
    "create_helper_geometries(p)\n",
    "source4 = p.create_source(name=\"Surface.1\", feature_type=SourceSurface)\n",
    "source4.set_exitance_constant(\n",
    "    geometries=[\n",
    "        (GeoRef.from_native_link(\"TheBodyB/TheFaceF\"), False),\n",
    "        (GeoRef.from_native_link(\"TheBodyC/TheFaceF\"), True),\n",
    "    ]\n",
    ")\n",
    "source4.commit()\n",
    "print(source4)"
   ]
  },
  {
   "cell_type": "code",
   "execution_count": 19,
   "id": "bfdb7ef1",
   "metadata": {
    "execution": {
     "iopub.execute_input": "2025-09-18T14:33:41.473479Z",
     "iopub.status.busy": "2025-09-18T14:33:41.473290Z",
     "iopub.status.idle": "2025-09-18T14:33:41.511486Z",
     "shell.execute_reply": "2025-09-18T14:33:41.510930Z"
    }
   },
   "outputs": [
    {
     "name": "stdout",
     "output_type": "stream",
     "text": [
      "{\n",
      "    \"name\": \"Surface.1\",\n",
      "    \"metadata\": {\n",
      "        \"UniqueId\": \"d7d729e9-ff5e-454d-8990-8ba6f49643be\"\n",
      "    },\n",
      "    \"source_guid\": \"063272d5-5b2e-496a-96e4-17570903f6bb\",\n",
      "    \"description\": \"\",\n",
      "    \"source\": {\n",
      "        \"name\": \"Surface.1\",\n",
      "        \"surface\": {\n",
      "            \"luminous_intensity_flux\": {\n",
      "                \"luminous_intensity_value\": 5.0\n",
      "            },\n",
      "            \"intensity_guid\": \"ed001a3a-bbde-4422-9704-8ef9a039dd8f\",\n",
      "            \"exitance_constant\": {\n",
      "                \"geo_paths\": [\n",
      "                    {\n",
      "                        \"geo_path\": \"TheBodyB/TheFaceF\",\n",
      "                        \"reverse_normal\": false\n",
      "                    },\n",
      "                    {\n",
      "                        \"geo_path\": \"TheBodyC/TheFaceF\",\n",
      "                        \"reverse_normal\": true\n",
      "                    }\n",
      "                ]\n",
      "            },\n",
      "            \"spectrum_guid\": \"603e97d8-a290-4707-a5ac-5a46ac9eacb8\",\n",
      "            \"intensity\": {\n",
      "                \"name\": \"Surface.1.Intensity\",\n",
      "                \"gaussian\": {\n",
      "                    \"FWHM_angle_x\": 30.0,\n",
      "                    \"FWHM_angle_y\": 30.0,\n",
      "                    \"total_angle\": 180.0,\n",
      "                    \"axis_system\": [\n",
      "                        10.0,\n",
      "                        50.0,\n",
      "                        20.0,\n",
      "                        1.0,\n",
      "                        0.0,\n",
      "                        0.0,\n",
      "                        0.0,\n",
      "                        1.0,\n",
      "                        0.0,\n",
      "                        0.0,\n",
      "                        0.0,\n",
      "                        1.0\n",
      "                    ]\n",
      "                },\n",
      "                \"description\": \"\",\n",
      "                \"metadata\": {}\n",
      "            },\n",
      "            \"spectrum\": {\n",
      "                \"name\": \"Surface.1.Spectrum\",\n",
      "                \"monochromatic\": {\n",
      "                    \"wavelength\": 555.0\n",
      "                },\n",
      "                \"description\": \"\",\n",
      "                \"metadata\": {}\n",
      "            }\n",
      "        },\n",
      "        \"description\": \"\",\n",
      "        \"metadata\": {}\n",
      "    }\n",
      "}\n"
     ]
    }
   ],
   "source": [
    "source4.set_flux_luminous_intensity()\n",
    "source4.set_intensity().set_gaussian().set_axis_system(\n",
    "    axis_system=[10, 50, 20, 1, 0, 0, 0, 1, 0, 0, 0, 1]\n",
    ")\n",
    "source4.commit()\n",
    "print(source4)"
   ]
  },
  {
   "cell_type": "code",
   "execution_count": 20,
   "id": "7c788d1c",
   "metadata": {
    "execution": {
     "iopub.execute_input": "2025-09-18T14:33:41.513184Z",
     "iopub.status.busy": "2025-09-18T14:33:41.513000Z",
     "iopub.status.idle": "2025-09-18T14:33:41.523561Z",
     "shell.execute_reply": "2025-09-18T14:33:41.523023Z"
    }
   },
   "outputs": [
    {
     "name": "stdout",
     "output_type": "stream",
     "text": [
      "local: {\n",
      "    \"name\": \"Surface.1\",\n",
      "    \"description\": \"\",\n",
      "    \"metadata\": {},\n",
      "    \"source_guid\": \"\",\n",
      "    \"source\": {\n",
      "        \"name\": \"Surface.1\",\n",
      "        \"surface\": {\n",
      "            \"luminous_intensity_flux\": {\n",
      "                \"luminous_intensity_value\": 5.0\n",
      "            },\n",
      "            \"intensity_guid\": \"ed001a3a-bbde-4422-9704-8ef9a039dd8f\",\n",
      "            \"exitance_constant\": {\n",
      "                \"geo_paths\": [\n",
      "                    {\n",
      "                        \"geo_path\": \"TheBodyB/TheFaceF\",\n",
      "                        \"reverse_normal\": false\n",
      "                    },\n",
      "                    {\n",
      "                        \"geo_path\": \"TheBodyC/TheFaceF\",\n",
      "                        \"reverse_normal\": true\n",
      "                    }\n",
      "                ]\n",
      "            },\n",
      "            \"spectrum_guid\": \"603e97d8-a290-4707-a5ac-5a46ac9eacb8\",\n",
      "            \"intensity\": {\n",
      "                \"name\": \"Surface.1.Intensity\",\n",
      "                \"gaussian\": {\n",
      "                    \"FWHM_angle_x\": 30.0,\n",
      "                    \"FWHM_angle_y\": 30.0,\n",
      "                    \"total_angle\": 180.0,\n",
      "                    \"axis_system\": [\n",
      "                        10.0,\n",
      "                        50.0,\n",
      "                        20.0,\n",
      "                        1.0,\n",
      "                        0.0,\n",
      "                        0.0,\n",
      "                        0.0,\n",
      "                        1.0,\n",
      "                        0.0,\n",
      "                        0.0,\n",
      "                        0.0,\n",
      "                        1.0\n",
      "                    ]\n",
      "                },\n",
      "                \"description\": \"\",\n",
      "                \"metadata\": {}\n",
      "            },\n",
      "            \"spectrum\": {\n",
      "                \"name\": \"Surface.1.Spectrum\",\n",
      "                \"monochromatic\": {\n",
      "                    \"wavelength\": 555.0\n",
      "                },\n",
      "                \"description\": \"\",\n",
      "                \"metadata\": {}\n",
      "            }\n",
      "        },\n",
      "        \"description\": \"\",\n",
      "        \"metadata\": {}\n",
      "    }\n",
      "}\n"
     ]
    }
   ],
   "source": [
    "source4.delete()\n",
    "print(source4)"
   ]
  },
  {
   "cell_type": "markdown",
   "id": "63f659cc",
   "metadata": {},
   "source": [
    "### Ambient natural light source"
   ]
  },
  {
   "cell_type": "code",
   "execution_count": 21,
   "id": "578a93b9",
   "metadata": {
    "execution": {
     "iopub.execute_input": "2025-09-18T14:33:41.525342Z",
     "iopub.status.busy": "2025-09-18T14:33:41.525145Z",
     "iopub.status.idle": "2025-09-18T14:33:41.560317Z",
     "shell.execute_reply": "2025-09-18T14:33:41.559743Z"
    }
   },
   "outputs": [
    {
     "name": "stdout",
     "output_type": "stream",
     "text": [
      "[0.0, 0.0, 1.0]\n",
      "[0.0, 1.0, 0.0]\n",
      "local: {\n",
      "    \"name\": \"NaturalLight.1\",\n",
      "    \"description\": \"\",\n",
      "    \"metadata\": {},\n",
      "    \"source_guid\": \"\",\n",
      "    \"source\": {\n",
      "        \"name\": \"NaturalLight.1\",\n",
      "        \"ambient\": {\n",
      "            \"natural_light\": {\n",
      "                \"turbidity\": 4.0,\n",
      "                \"with_sky\": true,\n",
      "                \"north_direction\": [\n",
      "                    0.0,\n",
      "                    1.0,\n",
      "                    0.0\n",
      "                ],\n",
      "                \"reverse_north\": true,\n",
      "                \"sun_axis_system\": {\n",
      "                    \"automatic_sun\": {\n",
      "                        \"time_zone_uri\": \"CET\",\n",
      "                        \"year\": 2025,\n",
      "                        \"month\": 9,\n",
      "                        \"day\": 18,\n",
      "                        \"hour\": 14,\n",
      "                        \"minute\": 33,\n",
      "                        \"longitude\": 0.0,\n",
      "                        \"latitude\": 0.0\n",
      "                    }\n",
      "                }\n",
      "            },\n",
      "            \"zenith_direction\": [\n",
      "                0.0,\n",
      "                0.0,\n",
      "                1.0\n",
      "            ],\n",
      "            \"reverse_zenith\": false\n",
      "        },\n",
      "        \"description\": \"\",\n",
      "        \"metadata\": {}\n",
      "    }\n",
      "}\n"
     ]
    },
    {
     "name": "stdout",
     "output_type": "stream",
     "text": [
      "{\n",
      "    \"name\": \"NaturalLight.1\",\n",
      "    \"metadata\": {\n",
      "        \"UniqueId\": \"3a49f2c9-78fe-4c9b-b7ce-f5b0a9ffdc64\"\n",
      "    },\n",
      "    \"source_guid\": \"15eecb1e-b088-4fa1-817f-3fb8d9576c54\",\n",
      "    \"description\": \"\",\n",
      "    \"source\": {\n",
      "        \"name\": \"NaturalLight.1\",\n",
      "        \"ambient\": {\n",
      "            \"natural_light\": {\n",
      "                \"turbidity\": 4.0,\n",
      "                \"with_sky\": true,\n",
      "                \"north_direction\": [\n",
      "                    0.0,\n",
      "                    1.0,\n",
      "                    0.0\n",
      "                ],\n",
      "                \"reverse_north\": true,\n",
      "                \"sun_axis_system\": {\n",
      "                    \"automatic_sun\": {\n",
      "                        \"time_zone_uri\": \"CET\",\n",
      "                        \"year\": 2025,\n",
      "                        \"month\": 9,\n",
      "                        \"day\": 18,\n",
      "                        \"hour\": 14,\n",
      "                        \"minute\": 33,\n",
      "                        \"longitude\": 0.0,\n",
      "                        \"latitude\": 0.0\n",
      "                    }\n",
      "                }\n",
      "            },\n",
      "            \"zenith_direction\": [\n",
      "                0.0,\n",
      "                0.0,\n",
      "                1.0\n",
      "            ],\n",
      "            \"reverse_zenith\": false\n",
      "        },\n",
      "        \"description\": \"\",\n",
      "        \"metadata\": {}\n",
      "    }\n",
      "}\n"
     ]
    }
   ],
   "source": [
    "source5 = p.create_source(name=\"NaturalLight.1\", feature_type=SourceAmbientNaturalLight)\n",
    "source5.turbidity = 4\n",
    "source5.with_sky = True\n",
    "print(source5.zenith_direction)  # default zenith direction\n",
    "print(source5.north_direction)  # default north direction\n",
    "source5.reverse_north_direction = True\n",
    "print(source5)\n",
    "\n",
    "source5.commit()\n",
    "print(source5)"
   ]
  },
  {
   "cell_type": "code",
   "execution_count": 22,
   "id": "10aa16a0",
   "metadata": {
    "execution": {
     "iopub.execute_input": "2025-09-18T14:33:41.562114Z",
     "iopub.status.busy": "2025-09-18T14:33:41.561927Z",
     "iopub.status.idle": "2025-09-18T14:33:41.588721Z",
     "shell.execute_reply": "2025-09-18T14:33:41.588172Z"
    }
   },
   "outputs": [
    {
     "name": "stdout",
     "output_type": "stream",
     "text": [
      "{\n",
      "    \"name\": \"NaturalLight.1\",\n",
      "    \"metadata\": {\n",
      "        \"UniqueId\": \"3a49f2c9-78fe-4c9b-b7ce-f5b0a9ffdc64\"\n",
      "    },\n",
      "    \"source_guid\": \"15eecb1e-b088-4fa1-817f-3fb8d9576c54\",\n",
      "    \"description\": \"\",\n",
      "    \"source\": {\n",
      "        \"name\": \"NaturalLight.1\",\n",
      "        \"ambient\": {\n",
      "            \"natural_light\": {\n",
      "                \"turbidity\": 4.0,\n",
      "                \"with_sky\": true,\n",
      "                \"north_direction\": [\n",
      "                    0.0,\n",
      "                    1.0,\n",
      "                    0.0\n",
      "                ],\n",
      "                \"reverse_north\": true,\n",
      "                \"sun_axis_system\": {\n",
      "                    \"automatic_sun\": {\n",
      "                        \"time_zone_uri\": \"CST\",\n",
      "                        \"year\": 2026,\n",
      "                        \"month\": 12,\n",
      "                        \"day\": 31,\n",
      "                        \"hour\": 12,\n",
      "                        \"minute\": 23,\n",
      "                        \"longitude\": 10.0,\n",
      "                        \"latitude\": 45.0\n",
      "                    }\n",
      "                }\n",
      "            },\n",
      "            \"zenith_direction\": [\n",
      "                0.0,\n",
      "                0.0,\n",
      "                1.0\n",
      "            ],\n",
      "            \"reverse_zenith\": false\n",
      "        },\n",
      "        \"description\": \"\",\n",
      "        \"metadata\": {}\n",
      "    }\n",
      "}\n"
     ]
    }
   ],
   "source": [
    "source5.set_sun_automatic().year = 2026\n",
    "source5.set_sun_automatic().month = 12\n",
    "source5.set_sun_automatic().day = 31\n",
    "source5.set_sun_automatic().hour = 12\n",
    "source5.set_sun_automatic().minute = 23\n",
    "source5.set_sun_automatic().longitude = 10\n",
    "source5.set_sun_automatic().latitude = 45\n",
    "source5.set_sun_automatic().time_zone = \"CST\"\n",
    "source5.commit()\n",
    "print(source5)"
   ]
  },
  {
   "cell_type": "code",
   "execution_count": 23,
   "id": "ea3d983d",
   "metadata": {
    "execution": {
     "iopub.execute_input": "2025-09-18T14:33:41.590501Z",
     "iopub.status.busy": "2025-09-18T14:33:41.590316Z",
     "iopub.status.idle": "2025-09-18T14:33:41.598143Z",
     "shell.execute_reply": "2025-09-18T14:33:41.597499Z"
    }
   },
   "outputs": [
    {
     "data": {
      "text/plain": [
       "<ansys.speos.core.source.SourceAmbientNaturalLight at 0x7fbf783ddf90>"
      ]
     },
     "execution_count": 23,
     "metadata": {},
     "output_type": "execute_result"
    }
   ],
   "source": [
    "source5.delete()"
   ]
  },
  {
   "cell_type": "markdown",
   "id": "cab1b0ae",
   "metadata": {},
   "source": [
    "When creating sources, this creates some intermediate objects (spectrums, intensity templates).\n",
    "\n",
    "Deleting a source does not delete in cascade those objects\n",
    "because they could be used by some other entities from core layer.\n",
    "\n",
    "Then at the end of the example, we just clean all databases"
   ]
  },
  {
   "cell_type": "code",
   "execution_count": 24,
   "id": "b9118997",
   "metadata": {
    "execution": {
     "iopub.execute_input": "2025-09-18T14:33:41.599811Z",
     "iopub.status.busy": "2025-09-18T14:33:41.599622Z",
     "iopub.status.idle": "2025-09-18T14:33:41.609185Z",
     "shell.execute_reply": "2025-09-18T14:33:41.608555Z"
    }
   },
   "outputs": [
    {
     "data": {
      "text/plain": [
       "True"
      ]
     },
     "execution_count": 24,
     "metadata": {},
     "output_type": "execute_result"
    }
   ],
   "source": [
    "for item in speos.client.intensity_templates().list() + speos.client.spectrums().list():\n",
    "    item.delete()\n",
    "\n",
    "speos.close()"
   ]
  }
 ],
 "metadata": {
  "jupytext": {
   "cell_metadata_filter": "-all",
   "main_language": "python",
   "notebook_metadata_filter": "-all",
   "text_representation": {
    "extension": ".py",
    "format_name": "light"
   }
  },
  "language_info": {
   "codemirror_mode": {
    "name": "ipython",
    "version": 3
   },
   "file_extension": ".py",
   "mimetype": "text/x-python",
   "name": "python",
   "nbconvert_exporter": "python",
   "pygments_lexer": "ipython3",
   "version": "3.10.18"
  }
 },
 "nbformat": 4,
 "nbformat_minor": 5
}
