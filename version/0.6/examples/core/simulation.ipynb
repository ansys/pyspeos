{
 "cells": [
  {
   "cell_type": "markdown",
   "id": "dbe94b27",
   "metadata": {},
   "source": [
    "# How to create a simulation"
   ]
  },
  {
   "cell_type": "markdown",
   "id": "f8ff7349",
   "metadata": {},
   "source": [
    "This tutorial demonstrates how to create a simulation.\n",
    "\n",
    "## What is a simulation?\n",
    "\n",
    "A simulation contains selected sensors, sources to model ray-trace in space.\n",
    "\n",
    "## Prerequisites\n",
    "\n",
    "### Perform imports"
   ]
  },
  {
   "cell_type": "code",
   "execution_count": 1,
   "id": "39a261ae",
   "metadata": {
    "execution": {
     "iopub.execute_input": "2025-09-18T14:33:37.090032Z",
     "iopub.status.busy": "2025-09-18T14:33:37.089854Z",
     "iopub.status.idle": "2025-09-18T14:33:37.905230Z",
     "shell.execute_reply": "2025-09-18T14:33:37.904573Z"
    }
   },
   "outputs": [],
   "source": [
    "from pathlib import Path\n",
    "\n",
    "from ansys.speos.core import Project, Speos, launcher\n",
    "from ansys.speos.core.simulation import SimulationInteractive, SimulationInverse\n"
   ]
  },
  {
   "cell_type": "markdown",
   "id": "87bf1ac1",
   "metadata": {},
   "source": [
    "### Define constants\n",
    "\n",
    "The constants help ensure consistency and avoid repetition throughout the example."
   ]
  },
  {
   "cell_type": "code",
   "execution_count": 2,
   "id": "0f519c05",
   "metadata": {
    "execution": {
     "iopub.execute_input": "2025-09-18T14:33:37.907567Z",
     "iopub.status.busy": "2025-09-18T14:33:37.907299Z",
     "iopub.status.idle": "2025-09-18T14:33:37.910381Z",
     "shell.execute_reply": "2025-09-18T14:33:37.909870Z"
    }
   },
   "outputs": [],
   "source": [
    "HOSTNAME = \"localhost\"\n",
    "GRPC_PORT = 50098  # Be sure the Speos GRPC Server has been started on this port.\n",
    "USE_DOCKER = True  # Set to False if you're running this example locally as a Notebook.\n",
    "SOURCE_NAME = \"Surface.1\"\n",
    "SENSOR_NAME = \"Irradiance.1\""
   ]
  },
  {
   "cell_type": "markdown",
   "id": "f24dcfa4",
   "metadata": {},
   "source": [
    "## Model Setup\n",
    "\n",
    "### Load assets\n",
    "The assets used to run this example are available in the\n",
    "[PySpeos repository](https://github.com/ansys/pyspeos/) on GitHub.\n",
    "\n",
    "> **Note:** Make sure you\n",
    "> have downloaded simulation assets and set ``assets_data_path``\n",
    "> to point to the assets folder."
   ]
  },
  {
   "cell_type": "code",
   "execution_count": 3,
   "id": "6743f322",
   "metadata": {
    "execution": {
     "iopub.execute_input": "2025-09-18T14:33:37.912126Z",
     "iopub.status.busy": "2025-09-18T14:33:37.911947Z",
     "iopub.status.idle": "2025-09-18T14:33:37.914740Z",
     "shell.execute_reply": "2025-09-18T14:33:37.914226Z"
    }
   },
   "outputs": [],
   "source": [
    "if USE_DOCKER:  # Running on the remote server.\n",
    "    assets_data_path = Path(\"/app\") / \"assets\"\n",
    "else:\n",
    "    assets_data_path = Path(\"/path/to/your/download/assets/directory\")"
   ]
  },
  {
   "cell_type": "markdown",
   "id": "7b97d2ad",
   "metadata": {},
   "source": [
    "### Connect to the RPC Server\n",
    "This Python client connects to a server where the Speos engine\n",
    "is running as a service. In this example, the server and\n",
    "client are the same machine. The launch_local_speos_rpc_method can\n",
    "be used to start a local instance of the service.."
   ]
  },
  {
   "cell_type": "code",
   "execution_count": 4,
   "id": "9d5fa6db",
   "metadata": {
    "execution": {
     "iopub.execute_input": "2025-09-18T14:33:37.916470Z",
     "iopub.status.busy": "2025-09-18T14:33:37.916291Z",
     "iopub.status.idle": "2025-09-18T14:33:37.924650Z",
     "shell.execute_reply": "2025-09-18T14:33:37.924138Z"
    }
   },
   "outputs": [],
   "source": [
    "if USE_DOCKER:\n",
    "    speos = Speos(host=HOSTNAME, port=GRPC_PORT)\n",
    "else:\n",
    "    speos = launcher.launch_local_speos_rpc_server(port=GRPC_PORT)"
   ]
  },
  {
   "cell_type": "markdown",
   "id": "7b378979",
   "metadata": {},
   "source": [
    "### Create a new project\n",
    "\n",
    "The only way to create a simulation using the core layer, is to create it from a\n",
    "project. The ``Project`` class is instantiated by passing a ``Speos`` instance."
   ]
  },
  {
   "cell_type": "code",
   "execution_count": 5,
   "id": "26143ac8",
   "metadata": {
    "execution": {
     "iopub.execute_input": "2025-09-18T14:33:37.926339Z",
     "iopub.status.busy": "2025-09-18T14:33:37.926146Z",
     "iopub.status.idle": "2025-09-18T14:33:37.933758Z",
     "shell.execute_reply": "2025-09-18T14:33:37.933218Z"
    }
   },
   "outputs": [
    {
     "name": "stdout",
     "output_type": "stream",
     "text": [
      "{\n",
      "    \"name\": \"\",\n",
      "    \"description\": \"\",\n",
      "    \"metadata\": {},\n",
      "    \"part_guid\": \"\",\n",
      "    \"sources\": [],\n",
      "    \"sensors\": [],\n",
      "    \"simulations\": [],\n",
      "    \"materials\": [],\n",
      "    \"scenes\": []\n",
      "}\n"
     ]
    }
   ],
   "source": [
    "p = Project(speos=speos)\n",
    "print(p)"
   ]
  },
  {
   "cell_type": "markdown",
   "id": "eaef1b73",
   "metadata": {},
   "source": [
    "### Prepare prerequisites\n",
    "\n",
    "Create the necessary elements for a simulation: Sensor, source, root part, optical property are\n",
    "prerequisites."
   ]
  },
  {
   "cell_type": "markdown",
   "id": "4b59514c",
   "metadata": {},
   "source": [
    "### Prepare the root part"
   ]
  },
  {
   "cell_type": "code",
   "execution_count": 6,
   "id": "a6dffc48",
   "metadata": {
    "execution": {
     "iopub.execute_input": "2025-09-18T14:33:37.935460Z",
     "iopub.status.busy": "2025-09-18T14:33:37.935286Z",
     "iopub.status.idle": "2025-09-18T14:33:37.953956Z",
     "shell.execute_reply": "2025-09-18T14:33:37.953414Z"
    }
   },
   "outputs": [
    {
     "data": {
      "text/plain": [
       "<ansys.speos.core.part.Part at 0x7fe39f5a9a50>"
      ]
     },
     "execution_count": 6,
     "metadata": {},
     "output_type": "execute_result"
    }
   ],
   "source": [
    "root_part = p.create_root_part()\n",
    "body_1 = root_part.create_body(name=\"Body.1\")\n",
    "face_1 = (\n",
    "    body_1.create_face(name=\"Face.1\")\n",
    "    .set_vertices([0, 1, 2, 0, 2, 2, 1, 2, 2])\n",
    "    .set_facets([0, 1, 2])\n",
    "    .set_normals([0, 0, 1, 0, 0, 1, 0, 0, 1])\n",
    ")\n",
    "root_part.commit()"
   ]
  },
  {
   "cell_type": "markdown",
   "id": "14ba8de1",
   "metadata": {},
   "source": [
    "### Prepare an optical property\n",
    "Create Optical Property"
   ]
  },
  {
   "cell_type": "code",
   "execution_count": 7,
   "id": "59a772ee",
   "metadata": {
    "execution": {
     "iopub.execute_input": "2025-09-18T14:33:37.955725Z",
     "iopub.status.busy": "2025-09-18T14:33:37.955532Z",
     "iopub.status.idle": "2025-09-18T14:33:37.959560Z",
     "shell.execute_reply": "2025-09-18T14:33:37.958966Z"
    }
   },
   "outputs": [
    {
     "data": {
      "text/plain": [
       "<ansys.speos.core.opt_prop.OptProp at 0x7fe39f5a9d80>"
      ]
     },
     "execution_count": 7,
     "metadata": {},
     "output_type": "execute_result"
    }
   ],
   "source": [
    "opt_prop = p.create_optical_property(\"Material.1\")\n",
    "opt_prop.set_volume_opaque().set_surface_mirror()"
   ]
  },
  {
   "cell_type": "markdown",
   "id": "72309be2",
   "metadata": {},
   "source": [
    "Choose the geometry for this optical property : Body.1"
   ]
  },
  {
   "cell_type": "code",
   "execution_count": 8,
   "id": "bf1b4552",
   "metadata": {
    "execution": {
     "iopub.execute_input": "2025-09-18T14:33:37.961490Z",
     "iopub.status.busy": "2025-09-18T14:33:37.961307Z",
     "iopub.status.idle": "2025-09-18T14:33:37.966889Z",
     "shell.execute_reply": "2025-09-18T14:33:37.966330Z"
    },
    "lines_to_next_cell": 2
   },
   "outputs": [
    {
     "data": {
      "text/plain": [
       "<ansys.speos.core.opt_prop.OptProp at 0x7fe39f5a9d80>"
      ]
     },
     "execution_count": 8,
     "metadata": {},
     "output_type": "execute_result"
    }
   ],
   "source": [
    "opt_prop.set_geometries(geometries=[body_1])\n",
    "opt_prop.commit()"
   ]
  },
  {
   "cell_type": "markdown",
   "id": "2b2642bf",
   "metadata": {
    "lines_to_next_cell": 2
   },
   "source": [
    "### Prepare an irradiance sensor"
   ]
  },
  {
   "cell_type": "code",
   "execution_count": 9,
   "id": "312b02b9",
   "metadata": {
    "execution": {
     "iopub.execute_input": "2025-09-18T14:33:37.968577Z",
     "iopub.status.busy": "2025-09-18T14:33:37.968401Z",
     "iopub.status.idle": "2025-09-18T14:33:37.979505Z",
     "shell.execute_reply": "2025-09-18T14:33:37.978975Z"
    }
   },
   "outputs": [
    {
     "data": {
      "text/plain": [
       "<ansys.speos.core.sensor.SensorIrradiance at 0x7fe39f5aaef0>"
      ]
     },
     "execution_count": 9,
     "metadata": {},
     "output_type": "execute_result"
    }
   ],
   "source": [
    "sensor1 = p.create_sensor(name=SENSOR_NAME)\n",
    "# set type to colorimetric or spectral so that the sensor can be used both in\n",
    "# direct and inverse simulation\n",
    "sensor1.set_type_colorimetric()\n",
    "sensor1.commit()"
   ]
  },
  {
   "cell_type": "markdown",
   "id": "d4adac08",
   "metadata": {},
   "source": [
    "### Prepare a surface source"
   ]
  },
  {
   "cell_type": "code",
   "execution_count": 10,
   "id": "a826b1f7",
   "metadata": {
    "execution": {
     "iopub.execute_input": "2025-09-18T14:33:37.981181Z",
     "iopub.status.busy": "2025-09-18T14:33:37.981000Z",
     "iopub.status.idle": "2025-09-18T14:33:38.008537Z",
     "shell.execute_reply": "2025-09-18T14:33:38.007918Z"
    }
   },
   "outputs": [
    {
     "name": "stderr",
     "output_type": "stream",
     "text": [
      "/home/runner/work/pyspeos/pyspeos/.venv/lib/python3.10/site-packages/ansys/speos/core/project.py:200: UserWarning: The pySpeos feature : SourceSurface needs a Speos Version of 2025 R2 SP0 or higher.\n",
      "  feature = SourceSurface(\n"
     ]
    },
    {
     "data": {
      "text/plain": [
       "<ansys.speos.core.source.SourceSurface at 0x7fe3e832a170>"
      ]
     },
     "execution_count": 10,
     "metadata": {},
     "output_type": "execute_result"
    }
   ],
   "source": [
    "source1 = p.create_source(name=SOURCE_NAME)\n",
    "source1.set_exitance_constant(geometries=[(face_1, True)])\n",
    "# define a spectrum which is not monochromatic so it can be used in both direct and inverse\n",
    "# simulation\n",
    "source1.set_spectrum().set_blackbody()\n",
    "source1.commit()"
   ]
  },
  {
   "cell_type": "markdown",
   "id": "1d8b872e",
   "metadata": {},
   "source": [
    "## Create a simulation"
   ]
  },
  {
   "cell_type": "code",
   "execution_count": 11,
   "id": "0ca1cd91",
   "metadata": {
    "execution": {
     "iopub.execute_input": "2025-09-18T14:33:38.010435Z",
     "iopub.status.busy": "2025-09-18T14:33:38.010243Z",
     "iopub.status.idle": "2025-09-18T14:33:38.045753Z",
     "shell.execute_reply": "2025-09-18T14:33:38.045123Z"
    },
    "lines_to_next_cell": 2
   },
   "outputs": [
    {
     "name": "stdout",
     "output_type": "stream",
     "text": [
      "local: {\n",
      "    \"name\": \"Simulation.1\",\n",
      "    \"sensor_paths\": [\n",
      "        \"Irradiance.1\"\n",
      "    ],\n",
      "    \"source_paths\": [\n",
      "        \"Surface.1\"\n",
      "    ],\n",
      "    \"description\": \"\",\n",
      "    \"metadata\": {},\n",
      "    \"simulation_guid\": \"\",\n",
      "    \"simulation\": {\n",
      "        \"direct_mc_simulation_template\": {\n",
      "            \"geom_distance_tolerance\": 0.01,\n",
      "            \"max_impact\": 100,\n",
      "            \"weight\": {\n",
      "                \"minimum_energy_percentage\": 0.005\n",
      "            },\n",
      "            \"dispersion\": true,\n",
      "            \"colorimetric_standard\": \"CIE_1931\",\n",
      "            \"fast_transmission_gathering\": false,\n",
      "            \"ambient_material_uri\": \"\",\n",
      "            \"stop_condition_rays_number\": \"200000\",\n",
      "            \"automatic_save_frequency\": 1800\n",
      "        },\n",
      "        \"name\": \"Simulation.1\",\n",
      "        \"description\": \"\",\n",
      "        \"metadata\": {},\n",
      "        \"scene_guid\": \"b7a2a11e-33bd-421f-94f5-ae90cb485472\",\n",
      "        \"simulation_path\": \"Simulation.1\",\n",
      "        \"job_type\": \"CPU\"\n",
      "    }\n",
      "}\n",
      "{\n",
      "    \"name\": \"Simulation.1\",\n",
      "    \"metadata\": {\n",
      "        \"UniqueId\": \"e685b763-4367-47d3-8fcb-117195c914f8\"\n",
      "    },\n",
      "    \"simulation_guid\": \"aea7cb0d-4f0b-4f2b-9a6b-24daf018618a\",\n",
      "    \"sensor_paths\": [\n",
      "        \"Irradiance.1\"\n",
      "    ],\n",
      "    \"source_paths\": [\n",
      "        \"Surface.1\"\n",
      "    ],\n",
      "    \"description\": \"\",\n",
      "    \"simulation\": {\n",
      "        \"direct_mc_simulation_template\": {\n",
      "            \"geom_distance_tolerance\": 0.01,\n",
      "            \"max_impact\": 100,\n",
      "            \"weight\": {\n",
      "                \"minimum_energy_percentage\": 0.005\n",
      "            },\n",
      "            \"dispersion\": true,\n",
      "            \"colorimetric_standard\": \"CIE_1931\",\n",
      "            \"fast_transmission_gathering\": false,\n",
      "            \"ambient_material_uri\": \"\",\n",
      "            \"stop_condition_rays_number\": \"200000\",\n",
      "            \"automatic_save_frequency\": 1800\n",
      "        },\n",
      "        \"name\": \"Simulation.1\",\n",
      "        \"description\": \"\",\n",
      "        \"metadata\": {},\n",
      "        \"scene_guid\": \"b7a2a11e-33bd-421f-94f5-ae90cb485472\",\n",
      "        \"simulation_path\": \"Simulation.1\",\n",
      "        \"job_type\": \"CPU\"\n",
      "    }\n",
      "}\n"
     ]
    },
    {
     "name": "stderr",
     "output_type": "stream",
     "text": [
      "/home/runner/work/pyspeos/pyspeos/.venv/lib/python3.10/site-packages/ansys/speos/core/project.py:280: UserWarning: The pySpeos feature : SimulationDirect needs a Speos Version of 2025 R2 SP0 or higher.\n",
      "  feature = SimulationDirect(\n",
      "/home/runner/work/pyspeos/pyspeos/.venv/lib/python3.10/site-packages/ansys/speos/core/simulation.py:677: UserWarning: Please note that setting a value for light expert option forces a sensorcommit when committing the Simulation class\n",
      "  self.set_light_expert()\n"
     ]
    }
   ],
   "source": [
    "simulation1 = p.create_simulation(name=\"Simulation.1\")\n",
    "simulation1.set_sensor_paths([SENSOR_NAME]).set_source_paths([SOURCE_NAME])\n",
    "print(simulation1)\n",
    "simulation1.commit()\n",
    "print(simulation1)"
   ]
  },
  {
   "cell_type": "markdown",
   "id": "b8b39efa",
   "metadata": {
    "lines_to_next_cell": 2
   },
   "source": [
    "### Set simulation characteristics\n",
    "\n",
    "Simulation is defined with the same default values as the GUI speos.\n",
    "\n",
    "If the user would like to modify the simulation characteristics,\n",
    "it is possible to do so by setting the simulation characteristics as below."
   ]
  },
  {
   "cell_type": "code",
   "execution_count": 12,
   "id": "1c95d445",
   "metadata": {
    "execution": {
     "iopub.execute_input": "2025-09-18T14:33:38.047650Z",
     "iopub.status.busy": "2025-09-18T14:33:38.047465Z",
     "iopub.status.idle": "2025-09-18T14:33:38.094435Z",
     "shell.execute_reply": "2025-09-18T14:33:38.093782Z"
    },
    "lines_to_next_cell": 2
   },
   "outputs": [
    {
     "name": "stdout",
     "output_type": "stream",
     "text": [
      "{\n",
      "    \"name\": \"Simulation.2\",\n",
      "    \"metadata\": {\n",
      "        \"UniqueId\": \"1958b1f9-2013-4adf-b2b3-11a8d123b116\"\n",
      "    },\n",
      "    \"simulation_guid\": \"d7c84951-eb6e-4b59-8e92-941abd6fc546\",\n",
      "    \"sensor_paths\": [\n",
      "        \"Irradiance.1\"\n",
      "    ],\n",
      "    \"source_paths\": [\n",
      "        \"Surface.1\"\n",
      "    ],\n",
      "    \"description\": \"\",\n",
      "    \"simulation\": {\n",
      "        \"direct_mc_simulation_template\": {\n",
      "            \"geom_distance_tolerance\": 0.01,\n",
      "            \"max_impact\": 200,\n",
      "            \"colorimetric_standard\": \"CIE_1964\",\n",
      "            \"ambient_material_uri\": \"/app/assets/AIR.material\",\n",
      "            \"dispersion\": false,\n",
      "            \"fast_transmission_gathering\": false,\n",
      "            \"stop_condition_rays_number\": \"200000\",\n",
      "            \"automatic_save_frequency\": 1800\n",
      "        },\n",
      "        \"name\": \"Simulation.2\",\n",
      "        \"description\": \"\",\n",
      "        \"metadata\": {},\n",
      "        \"scene_guid\": \"b7a2a11e-33bd-421f-94f5-ae90cb485472\",\n",
      "        \"simulation_path\": \"Simulation.2\",\n",
      "        \"job_type\": \"CPU\"\n",
      "    }\n",
      "}\n"
     ]
    }
   ],
   "source": [
    "simulation2_direct = p.create_simulation(name=\"Simulation.2\")\n",
    "simulation2_direct.set_ambient_material_file_uri(\n",
    "    uri=str(assets_data_path / \"AIR.material\")\n",
    ").set_colorimetric_standard_CIE_1964().set_weight_none().set_geom_distance_tolerance(\n",
    "    0.01\n",
    ").set_max_impact(200).set_dispersion(False)\n",
    "simulation2_direct.set_sensor_paths([SENSOR_NAME]).set_source_paths([SOURCE_NAME]).commit()\n",
    "print(simulation2_direct)"
   ]
  },
  {
   "cell_type": "markdown",
   "id": "072e2d37",
   "metadata": {},
   "source": [
    "### Read information\n",
    "\n",
    "Read simulation information"
   ]
  },
  {
   "cell_type": "code",
   "execution_count": 13,
   "id": "32d9462d",
   "metadata": {
    "execution": {
     "iopub.execute_input": "2025-09-18T14:33:38.096273Z",
     "iopub.status.busy": "2025-09-18T14:33:38.096094Z",
     "iopub.status.idle": "2025-09-18T14:33:38.103151Z",
     "shell.execute_reply": "2025-09-18T14:33:38.102499Z"
    }
   },
   "outputs": [
    {
     "name": "stdout",
     "output_type": "stream",
     "text": [
      "{\n",
      "    \"name\": \"Simulation.1\",\n",
      "    \"metadata\": {\n",
      "        \"UniqueId\": \"e685b763-4367-47d3-8fcb-117195c914f8\"\n",
      "    },\n",
      "    \"simulation_guid\": \"aea7cb0d-4f0b-4f2b-9a6b-24daf018618a\",\n",
      "    \"sensor_paths\": [\n",
      "        \"Irradiance.1\"\n",
      "    ],\n",
      "    \"source_paths\": [\n",
      "        \"Surface.1\"\n",
      "    ],\n",
      "    \"description\": \"\",\n",
      "    \"simulation\": {\n",
      "        \"direct_mc_simulation_template\": {\n",
      "            \"geom_distance_tolerance\": 0.01,\n",
      "            \"max_impact\": 100,\n",
      "            \"weight\": {\n",
      "                \"minimum_energy_percentage\": 0.005\n",
      "            },\n",
      "            \"dispersion\": true,\n",
      "            \"colorimetric_standard\": \"CIE_1931\",\n",
      "            \"fast_transmission_gathering\": false,\n",
      "            \"ambient_material_uri\": \"\",\n",
      "            \"stop_condition_rays_number\": \"200000\",\n",
      "            \"automatic_save_frequency\": 1800\n",
      "        },\n",
      "        \"name\": \"Simulation.1\",\n",
      "        \"description\": \"\",\n",
      "        \"metadata\": {},\n",
      "        \"scene_guid\": \"b7a2a11e-33bd-421f-94f5-ae90cb485472\",\n",
      "        \"simulation_path\": \"Simulation.1\",\n",
      "        \"job_type\": \"CPU\"\n",
      "    }\n",
      "}\n"
     ]
    }
   ],
   "source": [
    "print(simulation1)"
   ]
  },
  {
   "cell_type": "markdown",
   "id": "aa27e30a",
   "metadata": {},
   "source": [
    "Read project information"
   ]
  },
  {
   "cell_type": "code",
   "execution_count": 14,
   "id": "f3625ef3",
   "metadata": {
    "execution": {
     "iopub.execute_input": "2025-09-18T14:33:38.104881Z",
     "iopub.status.busy": "2025-09-18T14:33:38.104671Z",
     "iopub.status.idle": "2025-09-18T14:33:38.124378Z",
     "shell.execute_reply": "2025-09-18T14:33:38.123863Z"
    }
   },
   "outputs": [
    {
     "name": "stdout",
     "output_type": "stream",
     "text": [
      "{\n",
      "    \"part_guid\": \"7473d5b8-09f7-4ff0-b9c0-ee6e737571db\",\n",
      "    \"sources\": [\n",
      "        {\n",
      "            \"name\": \"Surface.1\",\n",
      "            \"metadata\": {\n",
      "                \"UniqueId\": \"8e094e9b-34a9-4e1a-9ce9-8058f6b572aa\"\n",
      "            },\n",
      "            \"source_guid\": \"f91ec535-f5a8-4769-a589-d8468e723b02\",\n",
      "            \"description\": \"\",\n",
      "            \"source\": {\n",
      "                \"name\": \"Surface.1\",\n",
      "                \"surface\": {\n",
      "                    \"luminous_flux\": {\n",
      "                        \"luminous_value\": 683.0\n",
      "                    },\n",
      "                    \"intensity_guid\": \"47c3d3de-4012-4bc4-bd01-ea0eecc12dcd\",\n",
      "                    \"exitance_constant\": {\n",
      "                        \"geo_paths\": [\n",
      "                            {\n",
      "                                \"geo_path\": \"Body.1/Face.1\",\n",
      "                                \"reverse_normal\": true\n",
      "                            }\n",
      "                        ]\n",
      "                    },\n",
      "                    \"spectrum_guid\": \"163da0fb-286f-4469-ae2b-4504e80e6c25\",\n",
      "                    \"intensity\": {\n",
      "                        \"name\": \"Surface.1.Intensity\",\n",
      "                        \"cos\": {\n",
      "                            \"N\": 1.0,\n",
      "                            \"total_angle\": 180.0\n",
      "                        },\n",
      "                        \"description\": \"\",\n",
      "                        \"metadata\": {}\n",
      "                    },\n",
      "                    \"spectrum\": {\n",
      "                        \"name\": \"Surface.1.Spectrum\",\n",
      "                        \"blackbody\": {\n",
      "                            \"temperature\": 2856.0\n",
      "                        },\n",
      "                        \"description\": \"\",\n",
      "                        \"metadata\": {}\n",
      "                    }\n",
      "                },\n",
      "                \"description\": \"\",\n",
      "                \"metadata\": {}\n",
      "            }\n",
      "        }\n",
      "    ],\n",
      "    \"sensors\": [\n",
      "        {\n",
      "            \"name\": \"Irradiance.1\",\n",
      "            \"metadata\": {\n",
      "                \"UniqueId\": \"83c94320-a37d-4ab0-8e35-5680581969b2\"\n",
      "            },\n",
      "            \"sensor_guid\": \"75f710cb-a1ff-4e66-b306-303754c237e4\",\n",
      "            \"description\": \"\",\n",
      "            \"result_file_name\": \"\",\n",
      "            \"sensor\": {\n",
      "                \"irradiance_sensor_template\": {\n",
      "                    \"sensor_type_colorimetric\": {\n",
      "                        \"wavelengths_range\": {\n",
      "                            \"w_start\": 400.0,\n",
      "                            \"w_end\": 700.0,\n",
      "                            \"w_sampling\": 13\n",
      "                        }\n",
      "                    },\n",
      "                    \"illuminance_type_planar\": {},\n",
      "                    \"dimensions\": {\n",
      "                        \"x_start\": -50.0,\n",
      "                        \"x_end\": 50.0,\n",
      "                        \"x_sampling\": 100,\n",
      "                        \"y_start\": -50.0,\n",
      "                        \"y_end\": 50.0,\n",
      "                        \"y_sampling\": 100\n",
      "                    },\n",
      "                    \"axis_system\": [\n",
      "                        0.0,\n",
      "                        0.0,\n",
      "                        0.0,\n",
      "                        1.0,\n",
      "                        0.0,\n",
      "                        0.0,\n",
      "                        0.0,\n",
      "                        1.0,\n",
      "                        0.0,\n",
      "                        0.0,\n",
      "                        0.0,\n",
      "                        1.0\n",
      "                    ],\n",
      "                    \"layer_type_none\": {},\n",
      "                    \"ray_file_type\": \"RayFileNone\",\n",
      "                    \"integration_direction\": []\n",
      "                },\n",
      "                \"name\": \"Irradiance.1\",\n",
      "                \"description\": \"\",\n",
      "                \"metadata\": {}\n",
      "            }\n",
      "        }\n",
      "    ],\n",
      "    \"simulations\": [\n",
      "        {\n",
      "            \"name\": \"Simulation.1\",\n",
      "            \"metadata\": {\n",
      "                \"UniqueId\": \"e685b763-4367-47d3-8fcb-117195c914f8\"\n",
      "            },\n",
      "            \"simulation_guid\": \"aea7cb0d-4f0b-4f2b-9a6b-24daf018618a\",\n",
      "            \"sensor_paths\": [\n",
      "                \"Irradiance.1\"\n",
      "            ],\n",
      "            \"source_paths\": [\n",
      "                \"Surface.1\"\n",
      "            ],\n",
      "            \"description\": \"\",\n",
      "            \"simulation\": {\n",
      "                \"direct_mc_simulation_template\": {\n",
      "                    \"geom_distance_tolerance\": 0.01,\n",
      "                    \"max_impact\": 100,\n",
      "                    \"weight\": {\n",
      "                        \"minimum_energy_percentage\": 0.005\n",
      "                    },\n",
      "                    \"dispersion\": true,\n",
      "                    \"colorimetric_standard\": \"CIE_1931\",\n",
      "                    \"fast_transmission_gathering\": false,\n",
      "                    \"ambient_material_uri\": \"\",\n",
      "                    \"stop_condition_rays_number\": \"200000\",\n",
      "                    \"automatic_save_frequency\": 1800\n",
      "                },\n",
      "                \"name\": \"Simulation.1\",\n",
      "                \"description\": \"\",\n",
      "                \"metadata\": {},\n",
      "                \"scene_guid\": \"b7a2a11e-33bd-421f-94f5-ae90cb485472\",\n",
      "                \"simulation_path\": \"Simulation.1\",\n",
      "                \"job_type\": \"CPU\"\n",
      "            }\n",
      "        },\n",
      "        {\n",
      "            \"name\": \"Simulation.2\",\n",
      "            \"metadata\": {\n",
      "                \"UniqueId\": \"1958b1f9-2013-4adf-b2b3-11a8d123b116\"\n",
      "            },\n",
      "            \"simulation_guid\": \"d7c84951-eb6e-4b59-8e92-941abd6fc546\",\n",
      "            \"sensor_paths\": [\n",
      "                \"Irradiance.1\"\n",
      "            ],\n",
      "            \"source_paths\": [\n",
      "                \"Surface.1\"\n",
      "            ],\n",
      "            \"description\": \"\",\n",
      "            \"simulation\": {\n",
      "                \"direct_mc_simulation_template\": {\n",
      "                    \"geom_distance_tolerance\": 0.01,\n",
      "                    \"max_impact\": 200,\n",
      "                    \"colorimetric_standard\": \"CIE_1964\",\n",
      "                    \"ambient_material_uri\": \"/app/assets/AIR.material\",\n",
      "                    \"dispersion\": false,\n",
      "                    \"fast_transmission_gathering\": false,\n",
      "                    \"stop_condition_rays_number\": \"200000\",\n",
      "                    \"automatic_save_frequency\": 1800\n",
      "                },\n",
      "                \"name\": \"Simulation.2\",\n",
      "                \"description\": \"\",\n",
      "                \"metadata\": {},\n",
      "                \"scene_guid\": \"b7a2a11e-33bd-421f-94f5-ae90cb485472\",\n",
      "                \"simulation_path\": \"Simulation.2\",\n",
      "                \"job_type\": \"CPU\"\n",
      "            }\n",
      "        }\n",
      "    ],\n",
      "    \"materials\": [\n",
      "        {\n",
      "            \"name\": \"Material.1\",\n",
      "            \"metadata\": {\n",
      "                \"UniqueId\": \"e57dc135-574c-41bd-ab0e-ff5a9e5231d8\"\n",
      "            },\n",
      "            \"vop_guid\": \"ac3fd7c6-5fa6-460c-a863-b16e00276fc7\",\n",
      "            \"geometries\": {\n",
      "                \"geo_paths\": [\n",
      "                    \"Body.1\"\n",
      "                ]\n",
      "            },\n",
      "            \"sop_guid\": \"387d207a-1ecd-4ef1-8f4f-a1946584bfec\",\n",
      "            \"description\": \"\",\n",
      "            \"sop_guids\": [],\n",
      "            \"vop\": {\n",
      "                \"name\": \"Material.1.VOP\",\n",
      "                \"opaque\": {},\n",
      "                \"description\": \"\",\n",
      "                \"metadata\": {}\n",
      "            },\n",
      "            \"sop\": {\n",
      "                \"name\": \"Material.1.SOP\",\n",
      "                \"mirror\": {\n",
      "                    \"reflectance\": 100.0\n",
      "                },\n",
      "                \"description\": \"\",\n",
      "                \"metadata\": {}\n",
      "            }\n",
      "        }\n",
      "    ],\n",
      "    \"name\": \"\",\n",
      "    \"description\": \"\",\n",
      "    \"metadata\": {},\n",
      "    \"scenes\": []\n",
      "}\n"
     ]
    }
   ],
   "source": [
    "print(p)"
   ]
  },
  {
   "cell_type": "markdown",
   "id": "9b977f7a",
   "metadata": {},
   "source": [
    "## Update simulation settings\n",
    "\n",
    "If you are manipulating a simulation already committed, remember to commit your changes.\n",
    "\n",
    "If you don't, you will still only watch what is committed on the server."
   ]
  },
  {
   "cell_type": "code",
   "execution_count": 15,
   "id": "adcbd097",
   "metadata": {
    "execution": {
     "iopub.execute_input": "2025-09-18T14:33:38.126209Z",
     "iopub.status.busy": "2025-09-18T14:33:38.126025Z",
     "iopub.status.idle": "2025-09-18T14:33:38.133972Z",
     "shell.execute_reply": "2025-09-18T14:33:38.133414Z"
    },
    "lines_to_next_cell": 2
   },
   "outputs": [
    {
     "name": "stdout",
     "output_type": "stream",
     "text": [
      "{\n",
      "    \"name\": \"Simulation.1\",\n",
      "    \"metadata\": {\n",
      "        \"UniqueId\": \"e685b763-4367-47d3-8fcb-117195c914f8\"\n",
      "    },\n",
      "    \"simulation_guid\": \"aea7cb0d-4f0b-4f2b-9a6b-24daf018618a\",\n",
      "    \"sensor_paths\": [\n",
      "        \"Irradiance.1\"\n",
      "    ],\n",
      "    \"source_paths\": [\n",
      "        \"Surface.1\"\n",
      "    ],\n",
      "    \"description\": \"\",\n",
      "    \"simulation\": {\n",
      "        \"direct_mc_simulation_template\": {\n",
      "            \"geom_distance_tolerance\": 0.01,\n",
      "            \"max_impact\": 100,\n",
      "            \"weight\": {\n",
      "                \"minimum_energy_percentage\": 0.005\n",
      "            },\n",
      "            \"dispersion\": true,\n",
      "            \"ambient_material_uri\": \"/app/assets/AIR.material\",\n",
      "            \"colorimetric_standard\": \"CIE_1931\",\n",
      "            \"fast_transmission_gathering\": false,\n",
      "            \"stop_condition_rays_number\": \"200000\",\n",
      "            \"automatic_save_frequency\": 1800\n",
      "        },\n",
      "        \"name\": \"Simulation.1\",\n",
      "        \"description\": \"\",\n",
      "        \"metadata\": {},\n",
      "        \"scene_guid\": \"b7a2a11e-33bd-421f-94f5-ae90cb485472\",\n",
      "        \"simulation_path\": \"Simulation.1\",\n",
      "        \"job_type\": \"CPU\"\n",
      "    }\n",
      "}\n"
     ]
    }
   ],
   "source": [
    "simulation1.set_ambient_material_file_uri(uri=str(assets_data_path / \"AIR.material\"))\n",
    "simulation1.commit()\n",
    "print(simulation1)"
   ]
  },
  {
   "cell_type": "markdown",
   "id": "6573ca2d",
   "metadata": {},
   "source": [
    "## Reset\n",
    "\n",
    "Possibility to reset local values from the one available in the server."
   ]
  },
  {
   "cell_type": "code",
   "execution_count": 16,
   "id": "f545d84d",
   "metadata": {
    "execution": {
     "iopub.execute_input": "2025-09-18T14:33:38.135641Z",
     "iopub.status.busy": "2025-09-18T14:33:38.135459Z",
     "iopub.status.idle": "2025-09-18T14:33:38.165259Z",
     "shell.execute_reply": "2025-09-18T14:33:38.164686Z"
    },
    "lines_to_next_cell": 2
   },
   "outputs": [
    {
     "name": "stdout",
     "output_type": "stream",
     "text": [
      "local: {\n",
      "    \"name\": \"Simulation.1\",\n",
      "    \"sensor_paths\": [\n",
      "        \"Irradiance.1\"\n",
      "    ],\n",
      "    \"source_paths\": [\n",
      "        \"Surface.1\"\n",
      "    ],\n",
      "    \"description\": \"\",\n",
      "    \"metadata\": {},\n",
      "    \"simulation_guid\": \"\",\n",
      "    \"simulation\": {\n",
      "        \"direct_mc_simulation_template\": {\n",
      "            \"geom_distance_tolerance\": 0.01,\n",
      "            \"max_impact\": 100,\n",
      "            \"weight\": {\n",
      "                \"minimum_energy_percentage\": 0.005\n",
      "            },\n",
      "            \"dispersion\": true,\n",
      "            \"ambient_material_uri\": \"/app/assets/AIR.material\",\n",
      "            \"colorimetric_standard\": \"CIE_1931\",\n",
      "            \"fast_transmission_gathering\": false,\n",
      "            \"stop_condition_rays_number\": \"200000\",\n",
      "            \"automatic_save_frequency\": 1800\n",
      "        },\n",
      "        \"name\": \"Simulation.1\",\n",
      "        \"description\": \"\",\n",
      "        \"metadata\": {},\n",
      "        \"scene_guid\": \"b7a2a11e-33bd-421f-94f5-ae90cb485472\",\n",
      "        \"simulation_path\": \"Simulation.1\",\n",
      "        \"job_type\": \"CPU\"\n",
      "    }\n",
      "}\n"
     ]
    }
   ],
   "source": [
    "simulation1.set_max_impact(1000)  # adjust max impact but no commit\n",
    "simulation1.reset()  # reset -> this will apply the server value to the local value\n",
    "simulation1.delete()  # delete (to display the local value with the below print)\n",
    "print(simulation1)"
   ]
  },
  {
   "cell_type": "markdown",
   "id": "a9b531b3",
   "metadata": {},
   "source": [
    "## Other simulation examples\n",
    "\n",
    "### Inverse simulation"
   ]
  },
  {
   "cell_type": "code",
   "execution_count": 17,
   "id": "e12a3870",
   "metadata": {
    "execution": {
     "iopub.execute_input": "2025-09-18T14:33:38.167016Z",
     "iopub.status.busy": "2025-09-18T14:33:38.166789Z",
     "iopub.status.idle": "2025-09-18T14:33:38.212757Z",
     "shell.execute_reply": "2025-09-18T14:33:38.212130Z"
    }
   },
   "outputs": [
    {
     "name": "stderr",
     "output_type": "stream",
     "text": [
      "/home/runner/work/pyspeos/pyspeos/.venv/lib/python3.10/site-packages/ansys/speos/core/project.py:287: UserWarning: The pySpeos feature : SimulationInverse needs a Speos Version of 2025 R2 SP0 or higher.\n",
      "  feature = SimulationInverse(\n"
     ]
    },
    {
     "name": "stdout",
     "output_type": "stream",
     "text": [
      "{\n",
      "    \"name\": \"Simulation.3\",\n",
      "    \"metadata\": {\n",
      "        \"UniqueId\": \"6f8348f1-5923-4704-b0c1-b6e254e2cca3\"\n",
      "    },\n",
      "    \"simulation_guid\": \"f2d5e097-a223-448f-9e44-90cdbec258ec\",\n",
      "    \"sensor_paths\": [\n",
      "        \"Irradiance.1\"\n",
      "    ],\n",
      "    \"source_paths\": [\n",
      "        \"Surface.1\"\n",
      "    ],\n",
      "    \"description\": \"\",\n",
      "    \"simulation\": {\n",
      "        \"inverse_mc_simulation_template\": {\n",
      "            \"geom_distance_tolerance\": 0.01,\n",
      "            \"max_impact\": 100,\n",
      "            \"weight\": {\n",
      "                \"minimum_energy_percentage\": 0.005\n",
      "            },\n",
      "            \"number_of_gathering_rays_per_source\": 1,\n",
      "            \"colorimetric_standard\": \"CIE_1931\",\n",
      "            \"dispersion\": false,\n",
      "            \"splitting\": false,\n",
      "            \"maximum_gathering_error\": 0,\n",
      "            \"maximum_gathering_error_percentage\": 0.0,\n",
      "            \"fast_transmission_gathering\": false,\n",
      "            \"ambient_material_uri\": \"\",\n",
      "            \"optimized_propagation_none\": {\n",
      "                \"stop_condition_passes_number\": 5\n",
      "            },\n",
      "            \"automatic_save_frequency\": 1800\n",
      "        },\n",
      "        \"name\": \"Simulation.3\",\n",
      "        \"description\": \"\",\n",
      "        \"metadata\": {},\n",
      "        \"scene_guid\": \"b7a2a11e-33bd-421f-94f5-ae90cb485472\",\n",
      "        \"simulation_path\": \"Simulation.3\",\n",
      "        \"job_type\": \"CPU\"\n",
      "    }\n",
      "}\n"
     ]
    }
   ],
   "source": [
    "simulation3 = p.create_simulation(name=\"Simulation.3\", feature_type=SimulationInverse)\n",
    "simulation3.set_sensor_paths(sensor_paths=[SENSOR_NAME]).set_source_paths(\n",
    "    source_paths=[SOURCE_NAME]\n",
    ").commit()\n",
    "print(simulation3)"
   ]
  },
  {
   "cell_type": "markdown",
   "id": "7c3c2235",
   "metadata": {},
   "source": [
    "### Interactive simulation"
   ]
  },
  {
   "cell_type": "code",
   "execution_count": 18,
   "id": "71bfd543",
   "metadata": {
    "execution": {
     "iopub.execute_input": "2025-09-18T14:33:38.214554Z",
     "iopub.status.busy": "2025-09-18T14:33:38.214368Z",
     "iopub.status.idle": "2025-09-18T14:33:38.271220Z",
     "shell.execute_reply": "2025-09-18T14:33:38.270673Z"
    }
   },
   "outputs": [
    {
     "name": "stdout",
     "output_type": "stream",
     "text": [
      "{\n",
      "    \"name\": \"Simulation.4\",\n",
      "    \"metadata\": {\n",
      "        \"UniqueId\": \"38fd90a3-2ce8-4d50-a267-37125f233a14\"\n",
      "    },\n",
      "    \"simulation_guid\": \"ebad3c2c-4161-4305-a6b9-07205f8d0d81\",\n",
      "    \"source_paths\": [\n",
      "        \"Surface.1\"\n",
      "    ],\n",
      "    \"description\": \"\",\n",
      "    \"sensor_paths\": [],\n",
      "    \"simulation\": {\n",
      "        \"name\": \"Simulation.4\",\n",
      "        \"interactive_simulation_template\": {\n",
      "            \"geom_distance_tolerance\": 0.01,\n",
      "            \"max_impact\": 100,\n",
      "            \"weight\": {\n",
      "                \"minimum_energy_percentage\": 0.005\n",
      "            },\n",
      "            \"colorimetric_standard\": \"CIE_1931\",\n",
      "            \"ambient_material_uri\": \"\",\n",
      "            \"rays_number_per_sources\": [],\n",
      "            \"light_expert\": false,\n",
      "            \"impact_report\": false\n",
      "        },\n",
      "        \"description\": \"\",\n",
      "        \"metadata\": {},\n",
      "        \"scene_guid\": \"b7a2a11e-33bd-421f-94f5-ae90cb485472\",\n",
      "        \"simulation_path\": \"Simulation.4\",\n",
      "        \"job_type\": \"CPU\"\n",
      "    }\n",
      "}\n"
     ]
    }
   ],
   "source": [
    "simulation4 = p.create_simulation(name=\"Simulation.4\", feature_type=SimulationInteractive)\n",
    "simulation4.set_source_paths(source_paths=[SOURCE_NAME]).commit()\n",
    "print(simulation4)"
   ]
  },
  {
   "cell_type": "code",
   "execution_count": 19,
   "id": "faeed3df",
   "metadata": {
    "execution": {
     "iopub.execute_input": "2025-09-18T14:33:38.272886Z",
     "iopub.status.busy": "2025-09-18T14:33:38.272677Z",
     "iopub.status.idle": "2025-09-18T14:33:38.276688Z",
     "shell.execute_reply": "2025-09-18T14:33:38.276062Z"
    }
   },
   "outputs": [
    {
     "data": {
      "text/plain": [
       "True"
      ]
     },
     "execution_count": 19,
     "metadata": {},
     "output_type": "execute_result"
    }
   ],
   "source": [
    "speos.close()"
   ]
  }
 ],
 "metadata": {
  "jupytext": {
   "cell_metadata_filter": "-all",
   "main_language": "python",
   "notebook_metadata_filter": "-all",
   "text_representation": {
    "extension": ".py",
    "format_name": "light"
   }
  },
  "language_info": {
   "codemirror_mode": {
    "name": "ipython",
    "version": 3
   },
   "file_extension": ".py",
   "mimetype": "text/x-python",
   "name": "python",
   "nbconvert_exporter": "python",
   "pygments_lexer": "ipython3",
   "version": "3.10.18"
  }
 },
 "nbformat": 4,
 "nbformat_minor": 5
}
