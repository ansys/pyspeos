{
 "cells": [
  {
   "cell_type": "code",
   "execution_count": 1,
   "id": "6b31c19f",
   "metadata": {
    "execution": {
     "iopub.execute_input": "2025-09-18T14:33:46.861969Z",
     "iopub.status.busy": "2025-09-18T14:33:46.861762Z",
     "iopub.status.idle": "2025-09-18T14:33:47.685105Z",
     "shell.execute_reply": "2025-09-18T14:33:47.684491Z"
    }
   },
   "outputs": [],
   "source": [
    "# # How to use an ObjectLink\n",
    "from ansys.speos.core import launcher"
   ]
  },
  {
   "cell_type": "code",
   "execution_count": 2,
   "id": "74bc1fb5",
   "metadata": {
    "execution": {
     "iopub.execute_input": "2025-09-18T14:33:47.687257Z",
     "iopub.status.busy": "2025-09-18T14:33:47.686974Z",
     "iopub.status.idle": "2025-09-18T14:33:47.689997Z",
     "shell.execute_reply": "2025-09-18T14:33:47.689440Z"
    },
    "lines_to_next_cell": 0
   },
   "outputs": [],
   "source": [
    "# This tutorial demonstrates how to use speos objects in layer core.\n",
    "# ## What is an ObjectLink?\n",
    "# The ObjectLink is an object that is created from a protobuf message and then stored in the server\n",
    "# database.\n",
    "# ## Which speos objects are used via ObjectLink?\n",
    "# Almost all speos objects are used via ObjectLink: like sources, sensors, simulations and more.\n",
    "# For this tutorial we will use as example the surface optical property (sop)\n",
    "# ## Prerequisites\n",
    "#\n",
    "# ### Perform imports"
   ]
  },
  {
   "cell_type": "code",
   "execution_count": 3,
   "id": "696fa440",
   "metadata": {
    "execution": {
     "iopub.execute_input": "2025-09-18T14:33:47.691603Z",
     "iopub.status.busy": "2025-09-18T14:33:47.691411Z",
     "iopub.status.idle": "2025-09-18T14:33:47.694374Z",
     "shell.execute_reply": "2025-09-18T14:33:47.693806Z"
    },
    "lines_to_next_cell": 0
   },
   "outputs": [],
   "source": [
    "from ansys.speos.core.kernel.sop_template import ProtoSOPTemplate\n",
    "from ansys.speos.core.speos import Speos\n"
   ]
  },
  {
   "cell_type": "markdown",
   "id": "c0abac72",
   "metadata": {},
   "source": [
    "### Define constants\n",
    "Constants help ensure consistency and avoid repetition throughout the example."
   ]
  },
  {
   "cell_type": "code",
   "execution_count": 4,
   "id": "26eab083",
   "metadata": {
    "execution": {
     "iopub.execute_input": "2025-09-18T14:33:47.696062Z",
     "iopub.status.busy": "2025-09-18T14:33:47.695869Z",
     "iopub.status.idle": "2025-09-18T14:33:47.698752Z",
     "shell.execute_reply": "2025-09-18T14:33:47.698140Z"
    }
   },
   "outputs": [],
   "source": [
    "HOSTNAME = \"localhost\"\n",
    "GRPC_PORT = 50098  # Be sure the Speos GRPC Server has been started on this port.\n",
    "USE_DOCKER = True  # Set to False if you're running this example locally as a Notebook."
   ]
  },
  {
   "cell_type": "markdown",
   "id": "342e2f8b",
   "metadata": {},
   "source": [
    "### Start/Connect to Speos RPC Server\n",
    "This Python client connects to a server where the Speos engine\n",
    "is running as a service. In this example, the server and\n",
    "client are the same machine. The launch_local_speos_rpc_method can\n",
    "be used to start a local instance of the service."
   ]
  },
  {
   "cell_type": "code",
   "execution_count": 5,
   "id": "00755427",
   "metadata": {
    "execution": {
     "iopub.execute_input": "2025-09-18T14:33:47.700517Z",
     "iopub.status.busy": "2025-09-18T14:33:47.700329Z",
     "iopub.status.idle": "2025-09-18T14:33:47.706373Z",
     "shell.execute_reply": "2025-09-18T14:33:47.705866Z"
    }
   },
   "outputs": [],
   "source": [
    "if USE_DOCKER:\n",
    "    speos = Speos(host=HOSTNAME, port=GRPC_PORT)\n",
    "else:\n",
    "    speos = launcher.launch_local_speos_rpc_server(port=GRPC_PORT)"
   ]
  },
  {
   "cell_type": "markdown",
   "id": "67f39048",
   "metadata": {},
   "source": [
    "## Create an ObjectLink"
   ]
  },
  {
   "cell_type": "markdown",
   "id": "e512e497",
   "metadata": {},
   "source": [
    "Retrieve the access to the database."
   ]
  },
  {
   "cell_type": "code",
   "execution_count": 6,
   "id": "920c22be",
   "metadata": {
    "execution": {
     "iopub.execute_input": "2025-09-18T14:33:47.708103Z",
     "iopub.status.busy": "2025-09-18T14:33:47.707917Z",
     "iopub.status.idle": "2025-09-18T14:33:47.710903Z",
     "shell.execute_reply": "2025-09-18T14:33:47.710329Z"
    }
   },
   "outputs": [],
   "source": [
    "sop_t_db = speos.client.sop_templates()"
   ]
  },
  {
   "cell_type": "markdown",
   "id": "b8e27ef0",
   "metadata": {},
   "source": [
    "Create the protobuf message."
   ]
  },
  {
   "cell_type": "code",
   "execution_count": 7,
   "id": "cdb4decf",
   "metadata": {
    "execution": {
     "iopub.execute_input": "2025-09-18T14:33:47.712552Z",
     "iopub.status.busy": "2025-09-18T14:33:47.712378Z",
     "iopub.status.idle": "2025-09-18T14:33:47.715265Z",
     "shell.execute_reply": "2025-09-18T14:33:47.714714Z"
    }
   },
   "outputs": [],
   "source": [
    "sop_t = ProtoSOPTemplate()\n",
    "sop_t.name = \"Mirror_90\"\n",
    "sop_t.mirror.reflectance = 90.0"
   ]
  },
  {
   "cell_type": "markdown",
   "id": "4cf95513",
   "metadata": {},
   "source": [
    "Create the ObjectLink (here a SOPTemplateLink)."
   ]
  },
  {
   "cell_type": "code",
   "execution_count": 8,
   "id": "1e611c50",
   "metadata": {
    "execution": {
     "iopub.execute_input": "2025-09-18T14:33:47.717047Z",
     "iopub.status.busy": "2025-09-18T14:33:47.716872Z",
     "iopub.status.idle": "2025-09-18T14:33:47.725617Z",
     "shell.execute_reply": "2025-09-18T14:33:47.725106Z"
    }
   },
   "outputs": [
    {
     "name": "stdout",
     "output_type": "stream",
     "text": [
      "ansys.api.speos.sop.v1.SOPTemplate\n",
      "{\n",
      "    \"name\": \"Mirror_90\",\n",
      "    \"mirror\": {\n",
      "        \"reflectance\": 90.0\n",
      "    },\n",
      "    \"description\": \"\",\n",
      "    \"metadata\": {}\n",
      "}\n"
     ]
    }
   ],
   "source": [
    "mirror_90_link = sop_t_db.create(message=sop_t)\n",
    "print(mirror_90_link)"
   ]
  },
  {
   "cell_type": "markdown",
   "id": "237fa9b1",
   "metadata": {},
   "source": [
    "Create another ObjectLink from another protobuf message."
   ]
  },
  {
   "cell_type": "code",
   "execution_count": 9,
   "id": "dc23bb83",
   "metadata": {
    "execution": {
     "iopub.execute_input": "2025-09-18T14:33:47.727295Z",
     "iopub.status.busy": "2025-09-18T14:33:47.727101Z",
     "iopub.status.idle": "2025-09-18T14:33:47.730498Z",
     "shell.execute_reply": "2025-09-18T14:33:47.729947Z"
    }
   },
   "outputs": [],
   "source": [
    "sop_t = ProtoSOPTemplate()\n",
    "sop_t.name = \"Mirror_100\"\n",
    "sop_t.mirror.reflectance = 100.0\n",
    "\n",
    "mirror_100_link = sop_t_db.create(message=sop_t)"
   ]
  },
  {
   "cell_type": "markdown",
   "id": "4b7a40b9",
   "metadata": {},
   "source": [
    "## Modify an ObjectLink"
   ]
  },
  {
   "cell_type": "markdown",
   "id": "44e90555",
   "metadata": {},
   "source": [
    "Retrieve the protobuf message corresponding to the ObjectLink."
   ]
  },
  {
   "cell_type": "code",
   "execution_count": 10,
   "id": "2ccfa652",
   "metadata": {
    "execution": {
     "iopub.execute_input": "2025-09-18T14:33:47.732198Z",
     "iopub.status.busy": "2025-09-18T14:33:47.732021Z",
     "iopub.status.idle": "2025-09-18T14:33:47.734870Z",
     "shell.execute_reply": "2025-09-18T14:33:47.734346Z"
    }
   },
   "outputs": [],
   "source": [
    "mirror_data = mirror_90_link.get()"
   ]
  },
  {
   "cell_type": "markdown",
   "id": "b730c3b6",
   "metadata": {},
   "source": [
    "Modify data locally"
   ]
  },
  {
   "cell_type": "code",
   "execution_count": 11,
   "id": "61d394c3",
   "metadata": {
    "execution": {
     "iopub.execute_input": "2025-09-18T14:33:47.736614Z",
     "iopub.status.busy": "2025-09-18T14:33:47.736438Z",
     "iopub.status.idle": "2025-09-18T14:33:47.739076Z",
     "shell.execute_reply": "2025-09-18T14:33:47.738558Z"
    }
   },
   "outputs": [],
   "source": [
    "mirror_data.name = \"Mirror_50\"\n",
    "mirror_data.mirror.reflectance = 50"
   ]
  },
  {
   "cell_type": "markdown",
   "id": "b0f3898e",
   "metadata": {},
   "source": [
    "Update on db"
   ]
  },
  {
   "cell_type": "code",
   "execution_count": 12,
   "id": "1ffcdc18",
   "metadata": {
    "execution": {
     "iopub.execute_input": "2025-09-18T14:33:47.740732Z",
     "iopub.status.busy": "2025-09-18T14:33:47.740558Z",
     "iopub.status.idle": "2025-09-18T14:33:47.744354Z",
     "shell.execute_reply": "2025-09-18T14:33:47.743799Z"
    }
   },
   "outputs": [
    {
     "name": "stdout",
     "output_type": "stream",
     "text": [
      "ansys.api.speos.sop.v1.SOPTemplate\n",
      "{\n",
      "    \"name\": \"Mirror_50\",\n",
      "    \"mirror\": {\n",
      "        \"reflectance\": 50.0\n",
      "    },\n",
      "    \"description\": \"\",\n",
      "    \"metadata\": {}\n",
      "}\n"
     ]
    }
   ],
   "source": [
    "mirror_90_link.set(data=mirror_data)\n",
    "print(mirror_90_link)"
   ]
  },
  {
   "cell_type": "markdown",
   "id": "572e5000",
   "metadata": {},
   "source": [
    "## Delete an ObjectLink"
   ]
  },
  {
   "cell_type": "markdown",
   "id": "a7c449fb",
   "metadata": {},
   "source": [
    "This means deleting data in db"
   ]
  },
  {
   "cell_type": "code",
   "execution_count": 13,
   "id": "68aefb4c",
   "metadata": {
    "execution": {
     "iopub.execute_input": "2025-09-18T14:33:47.746048Z",
     "iopub.status.busy": "2025-09-18T14:33:47.745871Z",
     "iopub.status.idle": "2025-09-18T14:33:47.752890Z",
     "shell.execute_reply": "2025-09-18T14:33:47.752365Z"
    }
   },
   "outputs": [
    {
     "data": {
      "text/plain": [
       "[]"
      ]
     },
     "execution_count": 13,
     "metadata": {},
     "output_type": "execute_result"
    }
   ],
   "source": [
    "mirror_100_link.delete()\n",
    "mirror_90_link.delete()\n",
    "sop_t_db.list()"
   ]
  },
  {
   "cell_type": "code",
   "execution_count": 14,
   "id": "9fc4b51b",
   "metadata": {
    "execution": {
     "iopub.execute_input": "2025-09-18T14:33:47.754530Z",
     "iopub.status.busy": "2025-09-18T14:33:47.754355Z",
     "iopub.status.idle": "2025-09-18T14:33:47.910023Z",
     "shell.execute_reply": "2025-09-18T14:33:47.909463Z"
    }
   },
   "outputs": [
    {
     "data": {
      "text/plain": [
       "True"
      ]
     },
     "execution_count": 14,
     "metadata": {},
     "output_type": "execute_result"
    }
   ],
   "source": [
    "speos.close()"
   ]
  }
 ],
 "metadata": {
  "jupytext": {
   "cell_metadata_filter": "-all",
   "main_language": "python",
   "notebook_metadata_filter": "-all",
   "text_representation": {
    "extension": ".py",
    "format_name": "light"
   }
  },
  "language_info": {
   "codemirror_mode": {
    "name": "ipython",
    "version": 3
   },
   "file_extension": ".py",
   "mimetype": "text/x-python",
   "name": "python",
   "nbconvert_exporter": "python",
   "pygments_lexer": "ipython3",
   "version": "3.10.18"
  }
 },
 "nbformat": 4,
 "nbformat_minor": 5
}
