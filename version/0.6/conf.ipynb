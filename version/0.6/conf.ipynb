{
 "cells": [
  {
   "cell_type": "code",
   "execution_count": 1,
   "id": "56727176",
   "metadata": {
    "execution": {
     "iopub.execute_input": "2025-09-18T14:31:20.866890Z",
     "iopub.status.busy": "2025-09-18T14:31:20.866696Z",
     "iopub.status.idle": "2025-09-18T14:31:20.875743Z",
     "shell.execute_reply": "2025-09-18T14:31:20.875122Z"
    }
   },
   "outputs": [
    {
     "data": {
      "text/plain": [
       "'Sphinx documentation configuration file.'"
      ]
     },
     "execution_count": 1,
     "metadata": {},
     "output_type": "execute_result"
    }
   ],
   "source": [
    "\"\"\"Sphinx documentation configuration file.\"\"\""
   ]
  },
  {
   "cell_type": "code",
   "execution_count": 2,
   "id": "9d5aa151",
   "metadata": {
    "execution": {
     "iopub.execute_input": "2025-09-18T14:31:20.877624Z",
     "iopub.status.busy": "2025-09-18T14:31:20.877450Z",
     "iopub.status.idle": "2025-09-18T14:31:20.880038Z",
     "shell.execute_reply": "2025-09-18T14:31:20.879533Z"
    }
   },
   "outputs": [],
   "source": [
    "from datetime import datetime\n",
    "import os\n",
    "import pathlib\n",
    "import shutil"
   ]
  },
  {
   "cell_type": "code",
   "execution_count": 3,
   "id": "9bcaa4fc",
   "metadata": {
    "execution": {
     "iopub.execute_input": "2025-09-18T14:31:20.881684Z",
     "iopub.status.busy": "2025-09-18T14:31:20.881505Z",
     "iopub.status.idle": "2025-09-18T14:31:21.170529Z",
     "shell.execute_reply": "2025-09-18T14:31:21.169879Z"
    }
   },
   "outputs": [],
   "source": [
    "from ansys_sphinx_theme import ansys_favicon, get_version_match\n",
    "import sphinx\n",
    "from sphinx.builders.latex import LaTeXBuilder\n",
    "from sphinx.util import logging\n",
    "from sphinx.util.display import status_iterator"
   ]
  },
  {
   "cell_type": "code",
   "execution_count": 4,
   "id": "c633c96f",
   "metadata": {
    "execution": {
     "iopub.execute_input": "2025-09-18T14:31:21.172798Z",
     "iopub.status.busy": "2025-09-18T14:31:21.172540Z",
     "iopub.status.idle": "2025-09-18T14:31:22.019663Z",
     "shell.execute_reply": "2025-09-18T14:31:22.019023Z"
    }
   },
   "outputs": [],
   "source": [
    "from ansys.speos.core import __version__"
   ]
  },
  {
   "cell_type": "code",
   "execution_count": 5,
   "id": "0a01f4ae",
   "metadata": {
    "execution": {
     "iopub.execute_input": "2025-09-18T14:31:22.021859Z",
     "iopub.status.busy": "2025-09-18T14:31:22.021574Z",
     "iopub.status.idle": "2025-09-18T14:31:22.024890Z",
     "shell.execute_reply": "2025-09-18T14:31:22.024364Z"
    }
   },
   "outputs": [],
   "source": [
    "LaTeXBuilder.supported_image_types = [\"image/png\", \"image/pdf\", \"image/svg+xml\"]\n",
    "os.environ[\"DOCUMENTATION_BUILDING\"] = \"true\"\n",
    "os.environ[\"PYANSYS_VISUALIZER_HTML_BACKEND\"] = \"true\"\n",
    "logger = logging.getLogger(__name__)"
   ]
  },
  {
   "cell_type": "code",
   "execution_count": 6,
   "id": "e04816cf",
   "metadata": {
    "execution": {
     "iopub.execute_input": "2025-09-18T14:31:22.026553Z",
     "iopub.status.busy": "2025-09-18T14:31:22.026362Z",
     "iopub.status.idle": "2025-09-18T14:31:22.029580Z",
     "shell.execute_reply": "2025-09-18T14:31:22.028964Z"
    }
   },
   "outputs": [],
   "source": [
    "# Project information\n",
    "project = \"ansys-speos-core\"\n",
    "copyright = f\"(c) {datetime.now().year} ANSYS, Inc. All rights reserved\"\n",
    "author = \"Ansys Inc.\"\n",
    "release = version = __version__\n",
    "cname = os.getenv(\"DOCUMENTATION_CNAME\", default=\"speos.docs.pyansys.com\")"
   ]
  },
  {
   "cell_type": "code",
   "execution_count": 7,
   "id": "9ee2badc",
   "metadata": {
    "execution": {
     "iopub.execute_input": "2025-09-18T14:31:22.031369Z",
     "iopub.status.busy": "2025-09-18T14:31:22.031194Z",
     "iopub.status.idle": "2025-09-18T14:31:22.033746Z",
     "shell.execute_reply": "2025-09-18T14:31:22.033227Z"
    }
   },
   "outputs": [],
   "source": [
    "# use the default pyansys logo\n",
    "html_theme = \"ansys_sphinx_theme\"\n",
    "html_favicon = ansys_favicon"
   ]
  },
  {
   "cell_type": "code",
   "execution_count": 8,
   "id": "50192507",
   "metadata": {
    "execution": {
     "iopub.execute_input": "2025-09-18T14:31:22.035520Z",
     "iopub.status.busy": "2025-09-18T14:31:22.035343Z",
     "iopub.status.idle": "2025-09-18T14:31:22.038140Z",
     "shell.execute_reply": "2025-09-18T14:31:22.037608Z"
    }
   },
   "outputs": [],
   "source": [
    "# Specify the location of the github repo\n",
    "html_context = {\n",
    "    \"github_user\": \"ansys\",\n",
    "    \"github_repo\": \"pyspeos\",\n",
    "    \"github_version\": \"main\",\n",
    "    \"doc_path\": \"doc/source\",\n",
    "    \"pyansys_tags\": [\"Optics\"],\n",
    "}"
   ]
  },
  {
   "cell_type": "code",
   "execution_count": 9,
   "id": "5314c041",
   "metadata": {
    "execution": {
     "iopub.execute_input": "2025-09-18T14:31:22.039860Z",
     "iopub.status.busy": "2025-09-18T14:31:22.039664Z",
     "iopub.status.idle": "2025-09-18T14:31:22.043708Z",
     "shell.execute_reply": "2025-09-18T14:31:22.043176Z"
    }
   },
   "outputs": [],
   "source": [
    "# specify the location of your github repo\n",
    "html_theme_options = {\n",
    "    \"logo\": \"pyansys\",\n",
    "    \"github_url\": \"https://github.com/ansys/pyspeos\",\n",
    "    \"show_prev_next\": False,\n",
    "    \"switcher\": {\n",
    "        \"json_url\": f\"https://{cname}/versions.json\",\n",
    "        \"version_match\": get_version_match(__version__),\n",
    "    },\n",
    "    \"check_switcher\": False,\n",
    "    \"ansys_sphinx_theme_autoapi\": {\n",
    "        \"project\": project,\n",
    "    },\n",
    "}\n",
    "BUILD_CHEATSHEET = os.environ.get(\"BUILD_CHEATSHEET\", \"false\").lower() == \"true\"\n",
    "if BUILD_CHEATSHEET:\n",
    "    html_theme_options[\"cheatsheet\"] = {\n",
    "        \"file\": \"cheat_sheet/cheat_sheet_script.qmd\",\n",
    "        \"title\": \"PySpeos cheat sheet\",\n",
    "        \"version\": f\"v{version}\",\n",
    "        \"pages\": [\"index\"],\n",
    "    }"
   ]
  },
  {
   "cell_type": "code",
   "execution_count": 10,
   "id": "00cdcbd7",
   "metadata": {
    "execution": {
     "iopub.execute_input": "2025-09-18T14:31:22.045465Z",
     "iopub.status.busy": "2025-09-18T14:31:22.045286Z",
     "iopub.status.idle": "2025-09-18T14:31:22.048063Z",
     "shell.execute_reply": "2025-09-18T14:31:22.047538Z"
    }
   },
   "outputs": [],
   "source": [
    "# Sphinx extensions\n",
    "extensions = [\n",
    "    \"numpydoc\",\n",
    "    \"sphinx.ext.intersphinx\",\n",
    "    \"sphinx_copybutton\",\n",
    "    \"sphinx.ext.autodoc\",\n",
    "    \"sphinx_design\",\n",
    "    \"sphinx_jinja\",\n",
    "    \"ansys_sphinx_theme.extension.autoapi\",\n",
    "    \"nbsphinx\",\n",
    "    \"myst_parser\",\n",
    "    \"sphinxcontrib.mermaid\",\n",
    "]"
   ]
  },
  {
   "cell_type": "code",
   "execution_count": 11,
   "id": "0bc30334",
   "metadata": {
    "execution": {
     "iopub.execute_input": "2025-09-18T14:31:22.049706Z",
     "iopub.status.busy": "2025-09-18T14:31:22.049533Z",
     "iopub.status.idle": "2025-09-18T14:31:22.052379Z",
     "shell.execute_reply": "2025-09-18T14:31:22.051877Z"
    }
   },
   "outputs": [],
   "source": [
    "# Intersphinx mapping\n",
    "intersphinx_mapping = {\n",
    "    \"python\": (\"https://docs.python.org/3/\", None),\n",
    "    \"grpc\": (\"https://grpc.github.io/grpc/python/\", None),\n",
    "    \"pypim\": (\"https://pypim.docs.pyansys.com/version/stable\", None),\n",
    "    # kept here as an example\n",
    "    # \"scipy\": (\"https://docs.scipy.org/doc/scipy/reference\", None),\n",
    "    # \"numpy\": (\"https://numpy.org/devdocs\", None),\n",
    "    # \"matplotlib\": (\"https://matplotlib.org/stable\", None),\n",
    "    # \"pandas\": (\"https://pandas.pydata.org/pandas-docs/stable\", None),\n",
    "    # \"pyvista\": (\"https://docs.pyvista.org/\", None),\n",
    "}"
   ]
  },
  {
   "cell_type": "code",
   "execution_count": 12,
   "id": "ecc8655f",
   "metadata": {
    "execution": {
     "iopub.execute_input": "2025-09-18T14:31:22.054042Z",
     "iopub.status.busy": "2025-09-18T14:31:22.053865Z",
     "iopub.status.idle": "2025-09-18T14:31:22.057166Z",
     "shell.execute_reply": "2025-09-18T14:31:22.056620Z"
    }
   },
   "outputs": [],
   "source": [
    "numpydoc_show_class_members = False\n",
    "numpydoc_xref_param_type = True\n",
    "numpydoc_validate = True\n",
    "numpydoc_validation_checks = {\n",
    "    \"GL06\",  # Found unknown section\n",
    "    \"GL07\",  # Sections are in the wrong order.\n",
    "    # \"GL08\",  # The object does not have a docstring\n",
    "    \"GL09\",  # Deprecation warning should precede extended summary\n",
    "    \"GL10\",  # reST directives {directives} must be followed by two colons\n",
    "    \"SS01\",  # No summary found\n",
    "    \"SS02\",  # Summary does not start with a capital letter\n",
    "    # \"SS03\", # Summary does not end with a period\n",
    "    \"SS04\",  # Summary contains heading whitespaces\n",
    "    # \"SS05\", # Summary must start with infinitive verb, not third person\n",
    "    \"RT02\",  # The first line of the Returns section should contain only the\n",
    "    # type, unless multiple values are being returned\"\n",
    "}"
   ]
  },
  {
   "cell_type": "code",
   "execution_count": 13,
   "id": "95d93220",
   "metadata": {
    "execution": {
     "iopub.execute_input": "2025-09-18T14:31:22.058948Z",
     "iopub.status.busy": "2025-09-18T14:31:22.058748Z",
     "iopub.status.idle": "2025-09-18T14:31:22.061334Z",
     "shell.execute_reply": "2025-09-18T14:31:22.060781Z"
    }
   },
   "outputs": [],
   "source": [
    "# static path\n",
    "html_static_path = [\"_static\"]\n",
    "html_css_files = [\"custom.css\"]"
   ]
  },
  {
   "cell_type": "code",
   "execution_count": 14,
   "id": "783bde0d",
   "metadata": {
    "execution": {
     "iopub.execute_input": "2025-09-18T14:31:22.063043Z",
     "iopub.status.busy": "2025-09-18T14:31:22.062746Z",
     "iopub.status.idle": "2025-09-18T14:31:22.065365Z",
     "shell.execute_reply": "2025-09-18T14:31:22.064861Z"
    }
   },
   "outputs": [],
   "source": [
    "# Add any paths that contain templates here, relative to this directory.\n",
    "templates_path = [\"_templates\"]"
   ]
  },
  {
   "cell_type": "code",
   "execution_count": 15,
   "id": "2e8bc682",
   "metadata": {
    "execution": {
     "iopub.execute_input": "2025-09-18T14:31:22.067046Z",
     "iopub.status.busy": "2025-09-18T14:31:22.066851Z",
     "iopub.status.idle": "2025-09-18T14:31:22.069562Z",
     "shell.execute_reply": "2025-09-18T14:31:22.068948Z"
    }
   },
   "outputs": [],
   "source": [
    "# The suffix(es) of source filenames.\n",
    "source_suffix = \".rst\""
   ]
  },
  {
   "cell_type": "code",
   "execution_count": 16,
   "id": "be7e945e",
   "metadata": {
    "execution": {
     "iopub.execute_input": "2025-09-18T14:31:22.071317Z",
     "iopub.status.busy": "2025-09-18T14:31:22.071141Z",
     "iopub.status.idle": "2025-09-18T14:31:22.073993Z",
     "shell.execute_reply": "2025-09-18T14:31:22.073343Z"
    }
   },
   "outputs": [],
   "source": [
    "# The master toctree document.\n",
    "master_doc = \"index\"\n",
    "suppress_warnings = [\"autoapi\"]\n",
    "autodoc_typehints = \"description\""
   ]
  },
  {
   "cell_type": "code",
   "execution_count": 17,
   "id": "f341dafd",
   "metadata": {
    "execution": {
     "iopub.execute_input": "2025-09-18T14:31:22.075674Z",
     "iopub.status.busy": "2025-09-18T14:31:22.075501Z",
     "iopub.status.idle": "2025-09-18T14:31:22.080632Z",
     "shell.execute_reply": "2025-09-18T14:31:22.080118Z"
    },
    "lines_to_next_cell": 2
   },
   "outputs": [],
   "source": [
    "# -- Declare the Jinja context -----------------------------------------------\n",
    "BUILD_EXAMPLES = True if os.environ.get(\"BUILD_EXAMPLES\", \"true\") == \"true\" else False\n",
    "if BUILD_EXAMPLES:\n",
    "    extensions.extend([\"myst_parser\", \"nbsphinx\"])\n",
    "    nbsphinx_execute = \"always\"\n",
    "    nbsphinx_custom_formats = {\n",
    "        \".mystnb\": [\"jupytext.reads\", {\"fmt\": \"mystnb\"}],\n",
    "        \".py\": [\"jupytext.reads\", {\"fmt\": \"\"}],\n",
    "    }\n",
    "    nbsphinx_thumbnails = {\n",
    "        \"examples/core/bsdf\": \"_static/thumbnails/bsdf.png\",\n",
    "        \"examples/core/opt-prop\": \"_static/thumbnails/property_520x520.png\",\n",
    "        \"examples/core/source\": \"_static/thumbnails/source_520x520.png\",\n",
    "        \"examples/core/sensor\": \"_static/thumbnails/sensor_520x520.png\",\n",
    "        \"examples/core/part\": \"_static/thumbnails/part_520x520.png\",\n",
    "        \"examples/core/simulation\": \"_static/thumbnails/simulation_520x520.png\",\n",
    "        \"examples/core/project\": \"_static/thumbnails/how_to_create_a_project.PNG\",\n",
    "        \"examples/core/lpf-preview\": \"_static/thumbnails/script_lpf_preview.PNG\",\n",
    "        \"examples/core/prism-example\": \"_static/thumbnails/prism_example_using_script_layer.PNG\",\n",
    "        \"examples/kernel/object-link\": \"_static/thumbnails/pySpeos_520x520.png\",\n",
    "        \"examples/kernel/scene-job\": \"_static/thumbnails/pySpeos_520x520.png\",\n",
    "        \"examples/kernel/modify-scene\": \"_static/thumbnails/pySpeos_520x520.png\",\n",
    "        \"examples/workflow/open-result\": \"_static/thumbnails/workflow_open_result.png\",\n",
    "        \"examples/workflow/combine-speos\": \"_static/thumbnails/workflow_moving_car.PNG\",\n",
    "    }\n",
    "    nbsphinx_prompt_width = \"\"\n",
    "    nbsphinx_prolog = \"\"\"\n",
    "\n",
    "    .. grid:: 5\n",
    "\n",
    "        .. grid-item::\n",
    "\n",
    "        .. grid-item::\n",
    "            :child-align: center\n",
    "\n",
    "            .. button-link:: {cname_pref}/{python_file_loc}\n",
    "                :color: primary\n",
    "                :shadow:\n",
    "\n",
    "                Download as Python script :fab:`python`\n",
    "\n",
    "        .. grid-item::\n",
    "            :child-align: center\n",
    "\n",
    "            .. button-link:: {cname_pref}/{ipynb_file_loc}\n",
    "               :color: primary\n",
    "               :shadow:\n",
    "\n",
    "                Download as Jupyter notebook :fas:`book`\n",
    "\n",
    "        .. grid-item::\n",
    "            :child-align: center\n",
    "\n",
    "            .. button-link:: {cname_pref}/{assets_loc}\n",
    "               :color: primary\n",
    "               :shadow:\n",
    "\n",
    "                Download example's assets :fa:`file`\n",
    "\n",
    "        .. grid-item::\n",
    "\n",
    "----\n",
    "\n",
    "    \"\"\".format(\n",
    "        cname_pref=f\"https://{cname}/version/{get_version_match(version)}\",\n",
    "        python_file_loc=\"{{ env.docname }}.py\",\n",
    "        ipynb_file_loc=\"{{ env.docname }}.ipynb\",\n",
    "        assets_loc=\"_static/assets/download/assets.zip\",\n",
    "    )"
   ]
  },
  {
   "cell_type": "code",
   "execution_count": 18,
   "id": "74324230",
   "metadata": {
    "execution": {
     "iopub.execute_input": "2025-09-18T14:31:22.082398Z",
     "iopub.status.busy": "2025-09-18T14:31:22.082219Z",
     "iopub.status.idle": "2025-09-18T14:31:22.084861Z",
     "shell.execute_reply": "2025-09-18T14:31:22.084329Z"
    }
   },
   "outputs": [],
   "source": [
    "jinja_contexts = {\n",
    "    \"linux_containers\": {},\n",
    "    \"main_toctree\": {\n",
    "        \"build_examples\": BUILD_EXAMPLES,\n",
    "    },\n",
    "}"
   ]
  },
  {
   "cell_type": "code",
   "execution_count": 19,
   "id": "da267bde",
   "metadata": {
    "execution": {
     "iopub.execute_input": "2025-09-18T14:31:22.086493Z",
     "iopub.status.busy": "2025-09-18T14:31:22.086305Z",
     "iopub.status.idle": "2025-09-18T14:31:22.091635Z",
     "shell.execute_reply": "2025-09-18T14:31:22.091007Z"
    }
   },
   "outputs": [],
   "source": [
    "def copy_examples_to_output_dir(app: sphinx.application.Sphinx, exception: Exception):\n",
    "    \"\"\"\n",
    "    Copy the examples directory to the output directory of the documentation.\n",
    "\n",
    "    Parameters\n",
    "    ----------\n",
    "    app : sphinx.application.Sphinx\n",
    "        Sphinx application instance containing the all the doc build configuration.\n",
    "    exception : Exception\n",
    "        Exception encountered during the building of the documentation.\n",
    "\n",
    "    \"\"\"\n",
    "    OUTPUT_EXAMPLES = pathlib.Path(app.outdir) / \"examples\"\n",
    "    OUTPUT_IMAGES = OUTPUT_EXAMPLES / \"img\"\n",
    "    OUTPUT_CORE = OUTPUT_EXAMPLES / \"core\"\n",
    "    OUTPUT_KERNEL = OUTPUT_EXAMPLES / \"kernel\"\n",
    "    OUTPUT_WORKFLOW = OUTPUT_EXAMPLES / \"workflow\"\n",
    "    for directory in [\n",
    "        OUTPUT_EXAMPLES,\n",
    "        OUTPUT_IMAGES,\n",
    "        OUTPUT_CORE,\n",
    "        OUTPUT_KERNEL,\n",
    "        OUTPUT_WORKFLOW,\n",
    "    ]:\n",
    "        if not directory.exists():\n",
    "            directory.mkdir(parents=True, exist_ok=True)\n",
    "\n",
    "    SOURCE_EXAMPLES = pathlib.Path(app.srcdir) / \"examples\"\n",
    "    EXAMPLES_DIRECTORY = SOURCE_EXAMPLES.parent.parent.parent / \"examples\"\n",
    "\n",
    "    # Copyt the examples\n",
    "    examples = list(EXAMPLES_DIRECTORY.glob(\"**/*.py\"))\n",
    "    for file in status_iterator(\n",
    "        examples,\n",
    "        \"Copying example to doc/_build/examples/\",\n",
    "        \"green\",\n",
    "        len(examples),\n",
    "        verbosity=1,\n",
    "        stringify_func=(lambda file: file.name),\n",
    "    ):\n",
    "        destination_file = OUTPUT_EXAMPLES / file.parent.name / file.name\n",
    "        destination_file.write_text(file.read_text(encoding=\"utf-8\"), encoding=\"utf-8\")"
   ]
  },
  {
   "cell_type": "code",
   "execution_count": 20,
   "id": "11bcc0a8",
   "metadata": {
    "execution": {
     "iopub.execute_input": "2025-09-18T14:31:22.093518Z",
     "iopub.status.busy": "2025-09-18T14:31:22.093323Z",
     "iopub.status.idle": "2025-09-18T14:31:22.098377Z",
     "shell.execute_reply": "2025-09-18T14:31:22.097719Z"
    }
   },
   "outputs": [],
   "source": [
    "def copy_examples_files_to_source_dir(app: sphinx.application.Sphinx):\n",
    "    \"\"\"\n",
    "    Copy the examples directory to the source directory of the documentation.\n",
    "\n",
    "    Parameters\n",
    "    ----------\n",
    "    app : sphinx.application.Sphinx\n",
    "        Sphinx application instance containing the all the doc build configuration.\n",
    "\n",
    "    \"\"\"\n",
    "    SOURCE_EXAMPLES = pathlib.Path(app.srcdir) / \"examples\"\n",
    "    SOURCE_IMAGES = SOURCE_EXAMPLES / \"img\"\n",
    "    CORE_EXAMPLES = SOURCE_EXAMPLES / \"core\"\n",
    "    KERNEL_EXAMPLES = SOURCE_EXAMPLES / \"kernel\"\n",
    "    WORKFLOW_EXAMPLES = SOURCE_EXAMPLES / \"workflow\"\n",
    "    for directory in [\n",
    "        SOURCE_EXAMPLES,\n",
    "        SOURCE_IMAGES,\n",
    "        CORE_EXAMPLES,\n",
    "        KERNEL_EXAMPLES,\n",
    "        WORKFLOW_EXAMPLES,\n",
    "    ]:\n",
    "        if not directory.exists():\n",
    "            directory.mkdir(parents=True, exist_ok=True)\n",
    "\n",
    "    EXAMPLES_DIRECTORY = SOURCE_EXAMPLES.parent.parent.parent / \"examples\"\n",
    "\n",
    "    # Copy the the examples\n",
    "    examples = list(EXAMPLES_DIRECTORY.glob(\"**/*.py\"))\n",
    "    for file in status_iterator(\n",
    "        examples,\n",
    "        \"Copying example to doc/source/examples/\",\n",
    "        \"green\",\n",
    "        len(examples),\n",
    "        verbosity=1,\n",
    "        stringify_func=(lambda file: file.name),\n",
    "    ):\n",
    "        destination_file = SOURCE_EXAMPLES / file.parent.name / file.name\n",
    "        destination_file.write_text(file.read_text(encoding=\"utf-8\"), encoding=\"utf-8\")"
   ]
  },
  {
   "cell_type": "code",
   "execution_count": 21,
   "id": "fc92b61b",
   "metadata": {
    "execution": {
     "iopub.execute_input": "2025-09-18T14:31:22.100078Z",
     "iopub.status.busy": "2025-09-18T14:31:22.099889Z",
     "iopub.status.idle": "2025-09-18T14:31:22.104083Z",
     "shell.execute_reply": "2025-09-18T14:31:22.103526Z"
    }
   },
   "outputs": [],
   "source": [
    "def copy_assets_to_output_dir(app: sphinx.application.Sphinx, exception: Exception):\n",
    "    \"\"\"Copy the assets directory to the output directory of the documentation.\n",
    "\n",
    "    Parameters\n",
    "    ----------\n",
    "    app : sphinx.application.Sphinx\n",
    "        Sphinx application instance containing the all the doc build configuration.\n",
    "    exception : Exception\n",
    "        Exception encountered during the building of the documentation.\n",
    "    \"\"\"\n",
    "    if app.builder.name == \"html\":\n",
    "        SOURCE_ASSETS = pathlib.Path(app.outdir) / \"_static\" / \"assets\" / \"download\"\n",
    "        ASSETS_DIRECTORY = pathlib.Path(app.outdir).parent.parent.parent / \"tests\" / \"assets\"\n",
    "\n",
    "        logger.info(\"Extracting assets to output directory...\")\n",
    "        zip_path = pathlib.Path(shutil.make_archive(\"assets\", \"zip\", ASSETS_DIRECTORY))\n",
    "        zip_path = shutil.move(zip_path, SOURCE_ASSETS / zip_path.name)\n",
    "        logger.info(f\"Extracted assets to {zip_path}.\")\n",
    "    else:\n",
    "        logger.info(f\"Skip assets extraction with build {app.builder.name}.\")"
   ]
  },
  {
   "cell_type": "code",
   "execution_count": 22,
   "id": "7029bc75",
   "metadata": {
    "execution": {
     "iopub.execute_input": "2025-09-18T14:31:22.105705Z",
     "iopub.status.busy": "2025-09-18T14:31:22.105526Z",
     "iopub.status.idle": "2025-09-18T14:31:22.108997Z",
     "shell.execute_reply": "2025-09-18T14:31:22.108453Z"
    }
   },
   "outputs": [],
   "source": [
    "def remove_examples_from_source_dir(app: sphinx.application.Sphinx, exception: Exception):\n",
    "    \"\"\"\n",
    "    Remove the example files from the documentation source directory.\n",
    "\n",
    "    Parameters\n",
    "    ----------\n",
    "    app : sphinx.application.Sphinx\n",
    "        Sphinx application instance containing the all the doc build configuration.\n",
    "    exception : Exception\n",
    "        Exception encountered during the building of the documentation.\n",
    "\n",
    "    \"\"\"\n",
    "    EXAMPLES_DIRECTORY = pathlib.Path(app.srcdir) / \"examples\"\n",
    "    logger.info(f\"\\nRemoving {EXAMPLES_DIRECTORY} directory...\")\n",
    "    shutil.rmtree(EXAMPLES_DIRECTORY)"
   ]
  },
  {
   "cell_type": "code",
   "execution_count": 23,
   "id": "183a4a4d",
   "metadata": {
    "execution": {
     "iopub.execute_input": "2025-09-18T14:31:22.110696Z",
     "iopub.status.busy": "2025-09-18T14:31:22.110517Z",
     "iopub.status.idle": "2025-09-18T14:31:22.113974Z",
     "shell.execute_reply": "2025-09-18T14:31:22.113447Z"
    }
   },
   "outputs": [],
   "source": [
    "def setup(app: sphinx.application.Sphinx):\n",
    "    \"\"\"\n",
    "    Run different hook functions during the documentation build.\n",
    "\n",
    "    Parameters\n",
    "    ----------\n",
    "    app : sphinx.application.Sphinx\n",
    "        Sphinx application instance containing the all the doc build configuration.\n",
    "\n",
    "    \"\"\"\n",
    "    # HACK: rST files are copied to the doc/source directory before the build.\n",
    "    # Sphinx needs all source files to be in the source directory to build.\n",
    "    # However, the examples are desired to be kept in the root directory. Once the\n",
    "    # build has completed, no matter its success, the examples are removed from\n",
    "    # the source directory.\n",
    "    if BUILD_EXAMPLES:\n",
    "        app.connect(\"builder-inited\", copy_examples_files_to_source_dir)\n",
    "        app.connect(\"build-finished\", remove_examples_from_source_dir)\n",
    "        app.connect(\"build-finished\", copy_assets_to_output_dir)\n",
    "        app.connect(\"build-finished\", copy_examples_to_output_dir)"
   ]
  }
 ],
 "metadata": {
  "jupytext": {
   "cell_metadata_filter": "-all",
   "main_language": "python",
   "notebook_metadata_filter": "-all",
   "text_representation": {
    "extension": ".py",
    "format_name": "light"
   }
  },
  "language_info": {
   "codemirror_mode": {
    "name": "ipython",
    "version": 3
   },
   "file_extension": ".py",
   "mimetype": "text/x-python",
   "name": "python",
   "nbconvert_exporter": "python",
   "pygments_lexer": "ipython3",
   "version": "3.10.18"
  }
 },
 "nbformat": 4,
 "nbformat_minor": 5
}
