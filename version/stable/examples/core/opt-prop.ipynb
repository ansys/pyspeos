{
 "cells": [
  {
   "cell_type": "markdown",
   "id": "04a1dc36",
   "metadata": {},
   "source": [
    "# How to create an optical property"
   ]
  },
  {
   "cell_type": "markdown",
   "id": "4c9f20e4",
   "metadata": {},
   "source": [
    "This tutorial demonstrates how to create an optical property."
   ]
  },
  {
   "cell_type": "markdown",
   "id": "f999cd01",
   "metadata": {},
   "source": [
    "## What is an optical property?"
   ]
  },
  {
   "cell_type": "markdown",
   "id": "5f35118f",
   "metadata": {},
   "source": [
    "An optical property (also named material), gathers two notions:\n",
    "the surface optical property (SOP) and the volume optical property (VOP)."
   ]
  },
  {
   "cell_type": "markdown",
   "id": "83486938",
   "metadata": {},
   "source": [
    "The property is then applied to a geometry (like bodies, faces).\n",
    "\n",
    "## Prerequisites\n",
    "\n",
    "### Perform imports"
   ]
  },
  {
   "cell_type": "code",
   "execution_count": 1,
   "id": "c7708842",
   "metadata": {
    "execution": {
     "iopub.execute_input": "2025-09-18T14:31:54.280919Z",
     "iopub.status.busy": "2025-09-18T14:31:54.280714Z",
     "iopub.status.idle": "2025-09-18T14:31:55.200649Z",
     "shell.execute_reply": "2025-09-18T14:31:55.199790Z"
    }
   },
   "outputs": [],
   "source": [
    "from pathlib import Path\n",
    "\n",
    "from ansys.speos.core import Project, Speos, launcher\n"
   ]
  },
  {
   "cell_type": "markdown",
   "id": "6c50d078",
   "metadata": {},
   "source": [
    "### Define constants\n",
    "Constants help ensure consistency and avoid repetition throughout the example."
   ]
  },
  {
   "cell_type": "code",
   "execution_count": 2,
   "id": "b096fe07",
   "metadata": {
    "execution": {
     "iopub.execute_input": "2025-09-18T14:31:55.203614Z",
     "iopub.status.busy": "2025-09-18T14:31:55.203236Z",
     "iopub.status.idle": "2025-09-18T14:31:55.206789Z",
     "shell.execute_reply": "2025-09-18T14:31:55.206158Z"
    }
   },
   "outputs": [],
   "source": [
    "HOSTNAME = \"localhost\"\n",
    "GRPC_PORT = 50098  # Be sure the Speos GRPC Server has been started on this port.\n",
    "USE_DOCKER = True  # Set to False if you're running this example locally as a Notebook."
   ]
  },
  {
   "cell_type": "markdown",
   "id": "565bda11",
   "metadata": {
    "lines_to_next_cell": 2
   },
   "source": [
    "### Define helper functions"
   ]
  },
  {
   "cell_type": "code",
   "execution_count": 3,
   "id": "57152043",
   "metadata": {
    "execution": {
     "iopub.execute_input": "2025-09-18T14:31:55.209239Z",
     "iopub.status.busy": "2025-09-18T14:31:55.209036Z",
     "iopub.status.idle": "2025-09-18T14:31:55.215099Z",
     "shell.execute_reply": "2025-09-18T14:31:55.214515Z"
    }
   },
   "outputs": [],
   "source": [
    "def create_helper_geometries(project: Project):\n",
    "    \"\"\"Create bodies and faces.\"\"\"\n",
    "\n",
    "    def create_face(body):\n",
    "        face = (\n",
    "            body.create_face(name=\"TheFaceF\")\n",
    "            .set_vertices([0, 0, 0, 1, 0, 0, 0, 1, 0])\n",
    "            .set_facets([0, 1, 2])\n",
    "            .set_normals([0, 0, 1, 0, 0, 1, 0, 0, 1])\n",
    "            .commit()\n",
    "        )\n",
    "        return face\n",
    "\n",
    "    data = {\"bodies\": [], \"faces\": []}\n",
    "    root_part = project.create_root_part().commit()\n",
    "    data[\"bodies\"].append(root_part.create_body(name=\"TheBodyB\").commit())\n",
    "    data[\"bodies\"].append(root_part.create_body(name=\"TheBodyC\").commit())\n",
    "    data[\"bodies\"].append(root_part.create_body(name=\"TheBodyD\").commit())\n",
    "    data[\"bodies\"].append(root_part.create_body(name=\"TheBodyE\").commit())\n",
    "    for b in data[\"bodies\"]:\n",
    "        data[\"faces\"].append(create_face(b))\n",
    "    return data"
   ]
  },
  {
   "cell_type": "markdown",
   "id": "15a970f5",
   "metadata": {},
   "source": [
    "## Model Setup\n",
    "\n",
    "### Load assets\n",
    "The assets used to run this example are available in the\n",
    "[PySpeos repository](https://github.com/ansys/pyspeos/) on GitHub.\n",
    "\n",
    "> **Note:** Make sure you\n",
    "> have downloaded simulation assets and set ``assets_data_path``\n",
    "> to point to the assets folder."
   ]
  },
  {
   "cell_type": "code",
   "execution_count": 4,
   "id": "5942e116",
   "metadata": {
    "execution": {
     "iopub.execute_input": "2025-09-18T14:31:55.216867Z",
     "iopub.status.busy": "2025-09-18T14:31:55.216664Z",
     "iopub.status.idle": "2025-09-18T14:31:55.219392Z",
     "shell.execute_reply": "2025-09-18T14:31:55.218879Z"
    }
   },
   "outputs": [],
   "source": [
    "if USE_DOCKER:  # Running on the remote server.\n",
    "    assets_data_path = Path(\"/app\") / \"assets\"\n",
    "else:\n",
    "    assets_data_path = Path(\"/path/to/your/download/assets/directory\")"
   ]
  },
  {
   "cell_type": "markdown",
   "id": "19030f78",
   "metadata": {},
   "source": [
    "### Connect to the RPC Server\n",
    "This Python client connects to a server where the Speos engine\n",
    "is running as a service. In this example, the server and\n",
    "client are the same machine. The launch_local_speos_rpc_method can\n",
    "be used to start a local instance of the service."
   ]
  },
  {
   "cell_type": "code",
   "execution_count": 5,
   "id": "52ab02d9",
   "metadata": {
    "execution": {
     "iopub.execute_input": "2025-09-18T14:31:55.221206Z",
     "iopub.status.busy": "2025-09-18T14:31:55.221028Z",
     "iopub.status.idle": "2025-09-18T14:31:55.227559Z",
     "shell.execute_reply": "2025-09-18T14:31:55.227035Z"
    }
   },
   "outputs": [],
   "source": [
    "if USE_DOCKER:\n",
    "    speos = Speos(host=HOSTNAME, port=GRPC_PORT)\n",
    "else:\n",
    "    speos = launcher.launch_local_speos_rpc_server(port=GRPC_PORT)"
   ]
  },
  {
   "cell_type": "markdown",
   "id": "1a1bae69",
   "metadata": {},
   "source": [
    "### Create a new project\n",
    "\n",
    "The only way to create an optical property using the core layer, is to create it from a project.\n",
    "The ``Project`` class is instantiated by passing a ``Speos`` instance"
   ]
  },
  {
   "cell_type": "code",
   "execution_count": 6,
   "id": "ce0c0c24",
   "metadata": {
    "execution": {
     "iopub.execute_input": "2025-09-18T14:31:55.229253Z",
     "iopub.status.busy": "2025-09-18T14:31:55.229077Z",
     "iopub.status.idle": "2025-09-18T14:31:55.271699Z",
     "shell.execute_reply": "2025-09-18T14:31:55.271114Z"
    }
   },
   "outputs": [
    {
     "name": "stdout",
     "output_type": "stream",
     "text": [
      "{\n",
      "    \"name\": \"\",\n",
      "    \"description\": \"\",\n",
      "    \"metadata\": {},\n",
      "    \"part_guid\": \"\",\n",
      "    \"sources\": [],\n",
      "    \"sensors\": [],\n",
      "    \"simulations\": [],\n",
      "    \"materials\": [],\n",
      "    \"scenes\": []\n",
      "}\n"
     ]
    }
   ],
   "source": [
    "p = Project(speos=speos)\n",
    "print(p)\n",
    "data = create_helper_geometries(p)\n",
    "bodies = data[\"bodies\"]\n",
    "faces = data[\"faces\"]"
   ]
  },
  {
   "cell_type": "markdown",
   "id": "f4d32f9d",
   "metadata": {},
   "source": [
    "## Create VOP (volume optical property)\n",
    "\n",
    "Create locally.\n",
    "The mention \"local: \" is added when printing the optical property."
   ]
  },
  {
   "cell_type": "code",
   "execution_count": 7,
   "id": "92d46db0",
   "metadata": {
    "execution": {
     "iopub.execute_input": "2025-09-18T14:31:55.273668Z",
     "iopub.status.busy": "2025-09-18T14:31:55.273464Z",
     "iopub.status.idle": "2025-09-18T14:31:55.277764Z",
     "shell.execute_reply": "2025-09-18T14:31:55.277216Z"
    },
    "lines_to_next_cell": 2
   },
   "outputs": [
    {
     "name": "stdout",
     "output_type": "stream",
     "text": [
      "local: {\n",
      "    \"name\": \"Material.1\",\n",
      "    \"geometries\": {\n",
      "        \"geo_paths\": [\n",
      "            \"TheBodyB\",\n",
      "            \"TheBodyC\"\n",
      "        ]\n",
      "    },\n",
      "    \"description\": \"\",\n",
      "    \"metadata\": {},\n",
      "    \"sop_guids\": [],\n",
      "    \"vop\": {\n",
      "        \"name\": \"Material.1.VOP\",\n",
      "        \"opaque\": {},\n",
      "        \"description\": \"\",\n",
      "        \"metadata\": {}\n",
      "    },\n",
      "    \"sops\": [\n",
      "        {\n",
      "            \"name\": \"Material.1.SOP\",\n",
      "            \"mirror\": {\n",
      "                \"reflectance\": 80.0\n",
      "            },\n",
      "            \"description\": \"\",\n",
      "            \"metadata\": {}\n",
      "        }\n",
      "    ]\n",
      "}\n"
     ]
    }
   ],
   "source": [
    "op1 = p.create_optical_property(name=\"Material.1\")\n",
    "op1.set_surface_mirror(reflectance=80)  # SOP : mirror\n",
    "op1.set_volume_opaque()  # VOP : opaque\n",
    "# This optical property will be applied to two bodies named : \"TheBodyB\" and \"TheBodyC\".\n",
    "op1.set_geometries(\n",
    "    geometries=[\n",
    "        bodies[0],\n",
    "        bodies[1],\n",
    "    ]\n",
    ")\n",
    "print(op1)"
   ]
  },
  {
   "cell_type": "markdown",
   "id": "1eea60ad",
   "metadata": {},
   "source": [
    "### Push it to the server.\n",
    "\n",
    "Now that it is committed to the server,\n",
    "the mention \"local: \" is no more present when printing the optical property."
   ]
  },
  {
   "cell_type": "code",
   "execution_count": 8,
   "id": "865709a2",
   "metadata": {
    "execution": {
     "iopub.execute_input": "2025-09-18T14:31:55.279505Z",
     "iopub.status.busy": "2025-09-18T14:31:55.279312Z",
     "iopub.status.idle": "2025-09-18T14:31:55.289363Z",
     "shell.execute_reply": "2025-09-18T14:31:55.288817Z"
    }
   },
   "outputs": [
    {
     "name": "stdout",
     "output_type": "stream",
     "text": [
      "{\n",
      "    \"name\": \"Material.1\",\n",
      "    \"metadata\": {\n",
      "        \"UniqueId\": \"152f77e2-c69a-4bf7-b794-61c6d25e7f38\"\n",
      "    },\n",
      "    \"vop_guid\": \"ffbd1fdc-8a54-4da5-8e38-9ce365d2b2cc\",\n",
      "    \"geometries\": {\n",
      "        \"geo_paths\": [\n",
      "            \"TheBodyB\",\n",
      "            \"TheBodyC\"\n",
      "        ]\n",
      "    },\n",
      "    \"sop_guid\": \"f6a1198a-18c2-4775-9997-796c26e3be33\",\n",
      "    \"description\": \"\",\n",
      "    \"sop_guids\": [],\n",
      "    \"vop\": {\n",
      "        \"name\": \"Material.1.VOP\",\n",
      "        \"opaque\": {},\n",
      "        \"description\": \"\",\n",
      "        \"metadata\": {}\n",
      "    },\n",
      "    \"sop\": {\n",
      "        \"name\": \"Material.1.SOP\",\n",
      "        \"mirror\": {\n",
      "            \"reflectance\": 80.0\n",
      "        },\n",
      "        \"description\": \"\",\n",
      "        \"metadata\": {}\n",
      "    },\n",
      "    \"sops\": [\n",
      "        {\n",
      "            \"name\": \"Material.1.SOP\",\n",
      "            \"mirror\": {\n",
      "                \"reflectance\": 80.0\n",
      "            },\n",
      "            \"description\": \"\",\n",
      "            \"metadata\": {}\n",
      "        }\n",
      "    ]\n",
      "}\n"
     ]
    }
   ],
   "source": [
    "op1.commit()\n",
    "print(op1)"
   ]
  },
  {
   "cell_type": "markdown",
   "id": "f0c15736",
   "metadata": {},
   "source": [
    "## Another example.\n",
    "\n",
    "Setting several more characteristics."
   ]
  },
  {
   "cell_type": "code",
   "execution_count": 9,
   "id": "06d66695",
   "metadata": {
    "execution": {
     "iopub.execute_input": "2025-09-18T14:31:55.291160Z",
     "iopub.status.busy": "2025-09-18T14:31:55.290979Z",
     "iopub.status.idle": "2025-09-18T14:31:55.300740Z",
     "shell.execute_reply": "2025-09-18T14:31:55.300084Z"
    },
    "lines_to_next_cell": 2
   },
   "outputs": [
    {
     "name": "stdout",
     "output_type": "stream",
     "text": [
      "{\n",
      "    \"name\": \"Material.2\",\n",
      "    \"metadata\": {\n",
      "        \"UniqueId\": \"ffed9515-5fc7-4808-83b1-90308722e64b\"\n",
      "    },\n",
      "    \"vop_guid\": \"d6d2d84e-f87f-4175-9aa1-82f688af22c6\",\n",
      "    \"geometries\": {\n",
      "        \"geo_paths\": [\n",
      "            \"TheBodyD\",\n",
      "            \"TheBodyE\"\n",
      "        ]\n",
      "    },\n",
      "    \"sop_guid\": \"739efb59-1653-4999-be1a-827b75e95a3e\",\n",
      "    \"description\": \"\",\n",
      "    \"sop_guids\": [],\n",
      "    \"vop\": {\n",
      "        \"name\": \"Material.2.VOP\",\n",
      "        \"library\": {\n",
      "            \"material_file_uri\": \"/app/assets/AIR.material\"\n",
      "        },\n",
      "        \"description\": \"\",\n",
      "        \"metadata\": {}\n",
      "    },\n",
      "    \"sop\": {\n",
      "        \"name\": \"Material.2.SOP\",\n",
      "        \"optical_polished\": {},\n",
      "        \"description\": \"\",\n",
      "        \"metadata\": {}\n",
      "    },\n",
      "    \"sops\": [\n",
      "        {\n",
      "            \"name\": \"Material.2.SOP\",\n",
      "            \"optical_polished\": {},\n",
      "            \"description\": \"\",\n",
      "            \"metadata\": {}\n",
      "        }\n",
      "    ]\n",
      "}\n"
     ]
    }
   ],
   "source": [
    "op2 = p.create_optical_property(name=\"Material.2\")\n",
    "op2.set_surface_opticalpolished()  # SOP : optical polished\n",
    "op2.set_volume_library(\n",
    "    path=str(assets_data_path / \"AIR.material\")\n",
    ")  # VOP : selected library via a file .material\n",
    "# This optical property will be applied to two bodies named : \"TheBodyD\" and \"TheBodyE\".\n",
    "op2.set_geometries(\n",
    "    geometries=[\n",
    "        bodies[2],\n",
    "        bodies[3],\n",
    "    ]\n",
    ")\n",
    "op2.commit()\n",
    "print(op2)"
   ]
  },
  {
   "cell_type": "markdown",
   "id": "dcd14ca1",
   "metadata": {},
   "source": [
    "## Create FOP (face optical property)\n",
    "\n",
    "Sometimes it is needed to create property but only for surface.\n",
    "\n",
    "In this case, no call for set_volume_xxx function is needed, and we will select a face for the\n",
    "geometries."
   ]
  },
  {
   "cell_type": "code",
   "execution_count": 10,
   "id": "eb02ed73",
   "metadata": {
    "execution": {
     "iopub.execute_input": "2025-09-18T14:31:55.302657Z",
     "iopub.status.busy": "2025-09-18T14:31:55.302474Z",
     "iopub.status.idle": "2025-09-18T14:31:55.310473Z",
     "shell.execute_reply": "2025-09-18T14:31:55.309941Z"
    }
   },
   "outputs": [
    {
     "name": "stdout",
     "output_type": "stream",
     "text": [
      "{\n",
      "    \"name\": \"Material.FOP\",\n",
      "    \"metadata\": {\n",
      "        \"UniqueId\": \"8c15136d-9ecf-4e31-965d-18fc8560151c\"\n",
      "    },\n",
      "    \"geometries\": {\n",
      "        \"geo_paths\": [\n",
      "            \"TheBodyD/TheFaceF\"\n",
      "        ]\n",
      "    },\n",
      "    \"sop_guid\": \"dca7ce2f-28f6-4874-bff2-08f1f75f0124\",\n",
      "    \"description\": \"\",\n",
      "    \"sop_guids\": [],\n",
      "    \"sop\": {\n",
      "        \"name\": \"Material.FOP.SOP\",\n",
      "        \"mirror\": {\n",
      "            \"reflectance\": 90.0\n",
      "        },\n",
      "        \"description\": \"\",\n",
      "        \"metadata\": {}\n",
      "    },\n",
      "    \"sops\": [\n",
      "        {\n",
      "            \"name\": \"Material.FOP.SOP\",\n",
      "            \"mirror\": {\n",
      "                \"reflectance\": 90.0\n",
      "            },\n",
      "            \"description\": \"\",\n",
      "            \"metadata\": {}\n",
      "        }\n",
      "    ]\n",
      "}\n"
     ]
    }
   ],
   "source": [
    "op3 = p.create_optical_property(name=\"Material.FOP\")\n",
    "op3.set_surface_mirror(reflectance=90)  # SOP : mirror\n",
    "# This optical property will be applied a face from TheBodyD named : \"TheFaceF\".\n",
    "op3.set_geometries(geometries=[faces[2]])\n",
    "op3.commit()\n",
    "print(op3)"
   ]
  },
  {
   "cell_type": "markdown",
   "id": "3ccc1aa9",
   "metadata": {},
   "source": [
    "### Default values\n",
    "\n",
    "Some default values are available when applicable in every methods and class."
   ]
  },
  {
   "cell_type": "code",
   "execution_count": 11,
   "id": "8d90036b",
   "metadata": {
    "execution": {
     "iopub.execute_input": "2025-09-18T14:31:55.312232Z",
     "iopub.status.busy": "2025-09-18T14:31:55.312054Z",
     "iopub.status.idle": "2025-09-18T14:31:55.319399Z",
     "shell.execute_reply": "2025-09-18T14:31:55.318860Z"
    }
   },
   "outputs": [
    {
     "name": "stdout",
     "output_type": "stream",
     "text": [
      "{\n",
      "    \"name\": \"Material.3\",\n",
      "    \"metadata\": {\n",
      "        \"UniqueId\": \"be8032e7-1326-4e4c-9417-397ca961f051\"\n",
      "    },\n",
      "    \"sop_guid\": \"91c0f5eb-e704-4d07-a35a-843afe3d3c2f\",\n",
      "    \"description\": \"\",\n",
      "    \"sop_guids\": [],\n",
      "    \"sop\": {\n",
      "        \"name\": \"Material.3.SOP\",\n",
      "        \"mirror\": {\n",
      "            \"reflectance\": 100.0\n",
      "        },\n",
      "        \"description\": \"\",\n",
      "        \"metadata\": {}\n",
      "    },\n",
      "    \"sops\": [\n",
      "        {\n",
      "            \"name\": \"Material.3.SOP\",\n",
      "            \"mirror\": {\n",
      "                \"reflectance\": 100.0\n",
      "            },\n",
      "            \"description\": \"\",\n",
      "            \"metadata\": {}\n",
      "        }\n",
      "    ]\n",
      "}\n"
     ]
    }
   ],
   "source": [
    "op4 = p.create_optical_property(name=\"Material.3\").commit()\n",
    "print(op4)"
   ]
  },
  {
   "cell_type": "markdown",
   "id": "6ba7eaa8",
   "metadata": {},
   "source": [
    "## Read\n",
    "### Material Instance Information\n",
    "\n",
    "A mention \"local: \" is added if it is not yet committed to the server."
   ]
  },
  {
   "cell_type": "code",
   "execution_count": 12,
   "id": "3c5a189f",
   "metadata": {
    "execution": {
     "iopub.execute_input": "2025-09-18T14:31:55.321199Z",
     "iopub.status.busy": "2025-09-18T14:31:55.321022Z",
     "iopub.status.idle": "2025-09-18T14:31:55.327330Z",
     "shell.execute_reply": "2025-09-18T14:31:55.326767Z"
    }
   },
   "outputs": [
    {
     "name": "stdout",
     "output_type": "stream",
     "text": [
      "{\n",
      "    \"name\": \"Material.1\",\n",
      "    \"metadata\": {\n",
      "        \"UniqueId\": \"152f77e2-c69a-4bf7-b794-61c6d25e7f38\"\n",
      "    },\n",
      "    \"vop_guid\": \"ffbd1fdc-8a54-4da5-8e38-9ce365d2b2cc\",\n",
      "    \"geometries\": {\n",
      "        \"geo_paths\": [\n",
      "            \"TheBodyB\",\n",
      "            \"TheBodyC\"\n",
      "        ]\n",
      "    },\n",
      "    \"sop_guid\": \"f6a1198a-18c2-4775-9997-796c26e3be33\",\n",
      "    \"description\": \"\",\n",
      "    \"sop_guids\": [],\n",
      "    \"vop\": {\n",
      "        \"name\": \"Material.1.VOP\",\n",
      "        \"opaque\": {},\n",
      "        \"description\": \"\",\n",
      "        \"metadata\": {}\n",
      "    },\n",
      "    \"sop\": {\n",
      "        \"name\": \"Material.1.SOP\",\n",
      "        \"mirror\": {\n",
      "            \"reflectance\": 80.0\n",
      "        },\n",
      "        \"description\": \"\",\n",
      "        \"metadata\": {}\n",
      "    },\n",
      "    \"sops\": [\n",
      "        {\n",
      "            \"name\": \"Material.1.SOP\",\n",
      "            \"mirror\": {\n",
      "                \"reflectance\": 80.0\n",
      "            },\n",
      "            \"description\": \"\",\n",
      "            \"metadata\": {}\n",
      "        }\n",
      "    ]\n",
      "}\n"
     ]
    }
   ],
   "source": [
    "print(op1)"
   ]
  },
  {
   "cell_type": "markdown",
   "id": "bd584c1b",
   "metadata": {},
   "source": [
    "The get methods allows you to get some properties of your feature"
   ]
  },
  {
   "cell_type": "code",
   "execution_count": 13,
   "id": "652b1683",
   "metadata": {
    "execution": {
     "iopub.execute_input": "2025-09-18T14:31:55.329081Z",
     "iopub.status.busy": "2025-09-18T14:31:55.328903Z",
     "iopub.status.idle": "2025-09-18T14:31:55.368746Z",
     "shell.execute_reply": "2025-09-18T14:31:55.368165Z"
    }
   },
   "outputs": [
    {
     "name": "stdout",
     "output_type": "stream",
     "text": [
      "op1 name: Material.1\n",
      "geometries linked to op1: ['TheBodyB', 'TheBodyC']\n",
      "op1 surface optical properties info: [{'name': 'Material.1.SOP', 'mirror': {'reflectance': 80.0}, 'description': '', 'metadata': {}}]\n",
      "op1 volume optical property info: {'name': 'Material.1.VOP', 'opaque': {}, 'description': '', 'metadata': {}}\n",
      "op1 is opaque type volume optical property\n",
      "{\n",
      "    \"name\": \"Material.2\",\n",
      "    \"metadata\": {\n",
      "        \"UniqueId\": \"ffed9515-5fc7-4808-83b1-90308722e64b\"\n",
      "    },\n",
      "    \"vop_guid\": \"d6d2d84e-f87f-4175-9aa1-82f688af22c6\",\n",
      "    \"geometries\": {\n",
      "        \"geo_paths\": [\n",
      "            \"TheBodyD\",\n",
      "            \"TheBodyE\"\n",
      "        ]\n",
      "    },\n",
      "    \"sop_guid\": \"739efb59-1653-4999-be1a-827b75e95a3e\",\n",
      "    \"description\": \"\",\n",
      "    \"sop_guids\": [],\n",
      "    \"vop\": {\n",
      "        \"name\": \"Material.2.VOP\",\n",
      "        \"library\": {\n",
      "            \"material_file_uri\": \"/app/assets/AIR.material\"\n",
      "        },\n",
      "        \"description\": \"\",\n",
      "        \"metadata\": {}\n",
      "    },\n",
      "    \"sop\": {\n",
      "        \"name\": \"Material.2.SOP\",\n",
      "        \"optical_polished\": {},\n",
      "        \"description\": \"\",\n",
      "        \"metadata\": {}\n",
      "    },\n",
      "    \"sops\": [\n",
      "        {\n",
      "            \"name\": \"Material.2.SOP\",\n",
      "            \"optical_polished\": {},\n",
      "            \"description\": \"\",\n",
      "            \"metadata\": {}\n",
      "        }\n",
      "    ]\n",
      "}\n",
      "op2 name: Material.2\n",
      "op2 is optical polished type surface property\n",
      "op2 is library type volume optical property\n",
      "{\n",
      "    \"name\": \"Material.FOP\",\n",
      "    \"metadata\": {\n",
      "        \"UniqueId\": \"8c15136d-9ecf-4e31-965d-18fc8560151c\"\n",
      "    },\n",
      "    \"geometries\": {\n",
      "        \"geo_paths\": [\n",
      "            \"TheBodyD/TheFaceF\"\n",
      "        ]\n",
      "    },\n",
      "    \"sop_guid\": \"dca7ce2f-28f6-4874-bff2-08f1f75f0124\",\n",
      "    \"description\": \"\",\n",
      "    \"sop_guids\": [],\n",
      "    \"sop\": {\n",
      "        \"name\": \"Material.FOP.SOP\",\n",
      "        \"mirror\": {\n",
      "            \"reflectance\": 90.0\n",
      "        },\n",
      "        \"description\": \"\",\n",
      "        \"metadata\": {}\n",
      "    },\n",
      "    \"sops\": [\n",
      "        {\n",
      "            \"name\": \"Material.FOP.SOP\",\n",
      "            \"mirror\": {\n",
      "                \"reflectance\": 90.0\n",
      "            },\n",
      "            \"description\": \"\",\n",
      "            \"metadata\": {}\n",
      "        }\n",
      "    ]\n",
      "}\n",
      "op3 name: Material.FOP\n",
      "op3 has reflectance value of 90.0\n"
     ]
    }
   ],
   "source": [
    "print(\"op1 name: {}\".format(op1.get(key=\"name\")))\n",
    "print(\"geometries linked to op1: {}\".format(op1.get(key=\"geo_paths\")))\n",
    "print(\"op1 surface optical properties info: {}\".format(op1.get(key=\"sops\")))\n",
    "print(\"op1 volume optical property info: {}\".format(op1.get(key=\"vop\")))\n",
    "# user can use get with vop type as key word to check volume property type\n",
    "print(\n",
    "    \"op1 {} opaque type volume optical property\".format(\n",
    "        \"is\" if op1.get(key=\"opaque\") is not None else \"is not\"\n",
    "    )\n",
    ")\n",
    "\n",
    "print(op2)\n",
    "print(\"op2 name: {}\".format(op2.get(key=\"name\")))\n",
    "print(\n",
    "    \"op2 {} optical polished type surface property\".format(\n",
    "        (\"is\" if \"optical_polished\" in op2.get(key=\"sops\")[0] else \"is not\")\n",
    "    )\n",
    ")\n",
    "# an alternative way to check the type of optical property\n",
    "print(\n",
    "    \"op2 {} library type volume optical property\".format(\n",
    "        \"is\" if \"library\" in op2.get(key=\"vop\") is not None else \"is not\"\n",
    "    )\n",
    ")\n",
    "\n",
    "print(op3)\n",
    "print(\"op3 name: {}\".format(op3.get(key=\"name\")))\n",
    "print(\"op3 has reflectance value of {}\".format(op3.get(key=\"sops\")[0][\"mirror\"][\"reflectance\"]))"
   ]
  },
  {
   "cell_type": "markdown",
   "id": "27a2b474",
   "metadata": {},
   "source": [
    "### Project Information\n",
    "Committed feature information will appear inside a project information."
   ]
  },
  {
   "cell_type": "code",
   "execution_count": 14,
   "id": "08fa3bc0",
   "metadata": {
    "execution": {
     "iopub.execute_input": "2025-09-18T14:31:55.370604Z",
     "iopub.status.busy": "2025-09-18T14:31:55.370406Z",
     "iopub.status.idle": "2025-09-18T14:31:55.379785Z",
     "shell.execute_reply": "2025-09-18T14:31:55.379114Z"
    }
   },
   "outputs": [
    {
     "name": "stdout",
     "output_type": "stream",
     "text": [
      "{\n",
      "    \"part_guid\": \"299c827d-14cb-4e6a-90fc-34cedd1c9c39\",\n",
      "    \"materials\": [\n",
      "        {\n",
      "            \"name\": \"Material.1\",\n",
      "            \"metadata\": {\n",
      "                \"UniqueId\": \"152f77e2-c69a-4bf7-b794-61c6d25e7f38\"\n",
      "            },\n",
      "            \"vop_guid\": \"ffbd1fdc-8a54-4da5-8e38-9ce365d2b2cc\",\n",
      "            \"geometries\": {\n",
      "                \"geo_paths\": [\n",
      "                    \"TheBodyB\",\n",
      "                    \"TheBodyC\"\n",
      "                ]\n",
      "            },\n",
      "            \"sop_guid\": \"f6a1198a-18c2-4775-9997-796c26e3be33\",\n",
      "            \"description\": \"\",\n",
      "            \"sop_guids\": [],\n",
      "            \"vop\": {\n",
      "                \"name\": \"Material.1.VOP\",\n",
      "                \"opaque\": {},\n",
      "                \"description\": \"\",\n",
      "                \"metadata\": {}\n",
      "            },\n",
      "            \"sop\": {\n",
      "                \"name\": \"Material.1.SOP\",\n",
      "                \"mirror\": {\n",
      "                    \"reflectance\": 80.0\n",
      "                },\n",
      "                \"description\": \"\",\n",
      "                \"metadata\": {}\n",
      "            }\n",
      "        },\n",
      "        {\n",
      "            \"name\": \"Material.2\",\n",
      "            \"metadata\": {\n",
      "                \"UniqueId\": \"ffed9515-5fc7-4808-83b1-90308722e64b\"\n",
      "            },\n",
      "            \"vop_guid\": \"d6d2d84e-f87f-4175-9aa1-82f688af22c6\",\n",
      "            \"geometries\": {\n",
      "                \"geo_paths\": [\n",
      "                    \"TheBodyD\",\n",
      "                    \"TheBodyE\"\n",
      "                ]\n",
      "            },\n",
      "            \"sop_guid\": \"739efb59-1653-4999-be1a-827b75e95a3e\",\n",
      "            \"description\": \"\",\n",
      "            \"sop_guids\": [],\n",
      "            \"vop\": {\n",
      "                \"name\": \"Material.2.VOP\",\n",
      "                \"library\": {\n",
      "                    \"material_file_uri\": \"/app/assets/AIR.material\"\n",
      "                },\n",
      "                \"description\": \"\",\n",
      "                \"metadata\": {}\n",
      "            },\n",
      "            \"sop\": {\n",
      "                \"name\": \"Material.2.SOP\",\n",
      "                \"optical_polished\": {},\n",
      "                \"description\": \"\",\n",
      "                \"metadata\": {}\n",
      "            }\n",
      "        },\n",
      "        {\n",
      "            \"name\": \"Material.FOP\",\n",
      "            \"metadata\": {\n",
      "                \"UniqueId\": \"8c15136d-9ecf-4e31-965d-18fc8560151c\"\n",
      "            },\n",
      "            \"geometries\": {\n",
      "                \"geo_paths\": [\n",
      "                    \"TheBodyD/TheFaceF\"\n",
      "                ]\n",
      "            },\n",
      "            \"sop_guid\": \"dca7ce2f-28f6-4874-bff2-08f1f75f0124\",\n",
      "            \"description\": \"\",\n",
      "            \"sop_guids\": [],\n",
      "            \"sop\": {\n",
      "                \"name\": \"Material.FOP.SOP\",\n",
      "                \"mirror\": {\n",
      "                    \"reflectance\": 90.0\n",
      "                },\n",
      "                \"description\": \"\",\n",
      "                \"metadata\": {}\n",
      "            }\n",
      "        },\n",
      "        {\n",
      "            \"name\": \"Material.3\",\n",
      "            \"metadata\": {\n",
      "                \"UniqueId\": \"be8032e7-1326-4e4c-9417-397ca961f051\"\n",
      "            },\n",
      "            \"sop_guid\": \"91c0f5eb-e704-4d07-a35a-843afe3d3c2f\",\n",
      "            \"description\": \"\",\n",
      "            \"sop_guids\": [],\n",
      "            \"sop\": {\n",
      "                \"name\": \"Material.3.SOP\",\n",
      "                \"mirror\": {\n",
      "                    \"reflectance\": 100.0\n",
      "                },\n",
      "                \"description\": \"\",\n",
      "                \"metadata\": {}\n",
      "            }\n",
      "        }\n",
      "    ],\n",
      "    \"name\": \"\",\n",
      "    \"description\": \"\",\n",
      "    \"metadata\": {},\n",
      "    \"sources\": [],\n",
      "    \"sensors\": [],\n",
      "    \"simulations\": [],\n",
      "    \"scenes\": []\n",
      "}\n"
     ]
    }
   ],
   "source": [
    "print(p)"
   ]
  },
  {
   "cell_type": "markdown",
   "id": "87f7bdca",
   "metadata": {
    "lines_to_next_cell": 2
   },
   "source": [
    "## Update\n",
    "\n",
    "Tipp: if you are manipulating an optical property already committed, don't forget to commit your\n",
    "changes.\n",
    "\n",
    "If you don't, you will still only watch what is committed on the server."
   ]
  },
  {
   "cell_type": "code",
   "execution_count": 15,
   "id": "985fe449",
   "metadata": {
    "execution": {
     "iopub.execute_input": "2025-09-18T14:31:55.381707Z",
     "iopub.status.busy": "2025-09-18T14:31:55.381521Z",
     "iopub.status.idle": "2025-09-18T14:31:55.395587Z",
     "shell.execute_reply": "2025-09-18T14:31:55.395071Z"
    },
    "lines_to_next_cell": 2
   },
   "outputs": [
    {
     "name": "stdout",
     "output_type": "stream",
     "text": [
      "op1 surface type before update: {'name': 'Material.1.SOP', 'mirror': {'reflectance': 80.0}, 'description': '', 'metadata': {}}\n",
      "{\n",
      "    \"name\": \"Material.1\",\n",
      "    \"metadata\": {\n",
      "        \"UniqueId\": \"152f77e2-c69a-4bf7-b794-61c6d25e7f38\"\n",
      "    },\n",
      "    \"vop_guid\": \"ffbd1fdc-8a54-4da5-8e38-9ce365d2b2cc\",\n",
      "    \"geometries\": {\n",
      "        \"geo_paths\": [\n",
      "            \"TheBodyB\",\n",
      "            \"TheBodyC\"\n",
      "        ]\n",
      "    },\n",
      "    \"sop_guid\": \"f6a1198a-18c2-4775-9997-796c26e3be33\",\n",
      "    \"description\": \"\",\n",
      "    \"sop_guids\": [],\n",
      "    \"vop\": {\n",
      "        \"name\": \"Material.1.VOP\",\n",
      "        \"optic\": {\n",
      "            \"index\": 1.5,\n",
      "            \"absorption\": 0.0\n",
      "        },\n",
      "        \"description\": \"\",\n",
      "        \"metadata\": {}\n",
      "    },\n",
      "    \"sop\": {\n",
      "        \"name\": \"Material.1.SOP\",\n",
      "        \"optical_polished\": {},\n",
      "        \"description\": \"\",\n",
      "        \"metadata\": {}\n",
      "    },\n",
      "    \"sops\": [\n",
      "        {\n",
      "            \"name\": \"Material.1.SOP\",\n",
      "            \"optical_polished\": {},\n",
      "            \"description\": \"\",\n",
      "            \"metadata\": {}\n",
      "        }\n",
      "    ]\n",
      "}\n",
      "op1 surface type after update: {'name': 'Material.1.SOP', 'optical_polished': {}, 'description': '', 'metadata': {}}\n"
     ]
    }
   ],
   "source": [
    "print(\"op1 surface type before update: {}\".format(op1.get(key=\"sops\")[0]))\n",
    "op1.set_volume_optic().set_surface_opticalpolished().commit()\n",
    "print(op1)\n",
    "print(\"op1 surface type after update: {}\".format(op1.get(key=\"sops\")[0]))"
   ]
  },
  {
   "cell_type": "markdown",
   "id": "85a1911e",
   "metadata": {},
   "source": [
    "## Reset\n",
    "\n",
    "Possibility to reset local values from the one available in the server."
   ]
  },
  {
   "cell_type": "code",
   "execution_count": 16,
   "id": "135c3f9d",
   "metadata": {
    "execution": {
     "iopub.execute_input": "2025-09-18T14:31:55.397433Z",
     "iopub.status.busy": "2025-09-18T14:31:55.397249Z",
     "iopub.status.idle": "2025-09-18T14:31:55.405979Z",
     "shell.execute_reply": "2025-09-18T14:31:55.405320Z"
    },
    "lines_to_next_cell": 2
   },
   "outputs": [
    {
     "name": "stdout",
     "output_type": "stream",
     "text": [
      "local: {\n",
      "    \"name\": \"Material.1\",\n",
      "    \"vop_guid\": \"\",\n",
      "    \"geometries\": {\n",
      "        \"geo_paths\": [\n",
      "            \"TheBodyB\",\n",
      "            \"TheBodyC\"\n",
      "        ]\n",
      "    },\n",
      "    \"description\": \"\",\n",
      "    \"metadata\": {},\n",
      "    \"sop_guids\": [],\n",
      "    \"vop\": {\n",
      "        \"name\": \"Material.1.VOP\",\n",
      "        \"optic\": {\n",
      "            \"index\": 1.5,\n",
      "            \"absorption\": 0.0\n",
      "        },\n",
      "        \"description\": \"\",\n",
      "        \"metadata\": {}\n",
      "    },\n",
      "    \"sops\": [\n",
      "        {\n",
      "            \"name\": \"Material.1.SOP\",\n",
      "            \"optical_polished\": {},\n",
      "            \"description\": \"\",\n",
      "            \"metadata\": {}\n",
      "        }\n",
      "    ]\n",
      "}\n"
     ]
    }
   ],
   "source": [
    "op1.set_surface_mirror()  # set surface as a mirror but no commit\n",
    "op1.reset()  # reset -> this will apply the server value to the local value\n",
    "op1.delete()  # delete (to display the local value with the below print)\n",
    "print(op1)"
   ]
  },
  {
   "cell_type": "markdown",
   "id": "395c7f60",
   "metadata": {
    "lines_to_next_cell": 2
   },
   "source": [
    "## Delete\n",
    "\n",
    "Once the data is deleted from the server, you can still work with local data and maybe commit\n",
    "later."
   ]
  },
  {
   "cell_type": "code",
   "execution_count": 17,
   "id": "227a84c7",
   "metadata": {
    "execution": {
     "iopub.execute_input": "2025-09-18T14:31:55.407998Z",
     "iopub.status.busy": "2025-09-18T14:31:55.407792Z",
     "iopub.status.idle": "2025-09-18T14:31:55.414712Z",
     "shell.execute_reply": "2025-09-18T14:31:55.414202Z"
    }
   },
   "outputs": [
    {
     "name": "stdout",
     "output_type": "stream",
     "text": [
      "local: {\n",
      "    \"name\": \"Material.2\",\n",
      "    \"vop_guid\": \"\",\n",
      "    \"geometries\": {\n",
      "        \"geo_paths\": [\n",
      "            \"TheBodyD\",\n",
      "            \"TheBodyE\"\n",
      "        ]\n",
      "    },\n",
      "    \"description\": \"\",\n",
      "    \"metadata\": {},\n",
      "    \"sop_guids\": [],\n",
      "    \"vop\": {\n",
      "        \"name\": \"Material.2.VOP\",\n",
      "        \"library\": {\n",
      "            \"material_file_uri\": \"/app/assets/AIR.material\"\n",
      "        },\n",
      "        \"description\": \"\",\n",
      "        \"metadata\": {}\n",
      "    },\n",
      "    \"sops\": [\n",
      "        {\n",
      "            \"name\": \"Material.2.SOP\",\n",
      "            \"optical_polished\": {},\n",
      "            \"description\": \"\",\n",
      "            \"metadata\": {}\n",
      "        }\n",
      "    ]\n",
      "}\n"
     ]
    }
   ],
   "source": [
    "op2.delete()\n",
    "print(op2)"
   ]
  },
  {
   "cell_type": "markdown",
   "id": "1b3c2bff",
   "metadata": {},
   "source": [
    "Clean up all Optical properties"
   ]
  },
  {
   "cell_type": "code",
   "execution_count": 18,
   "id": "a061bcb7",
   "metadata": {
    "execution": {
     "iopub.execute_input": "2025-09-18T14:31:55.416509Z",
     "iopub.status.busy": "2025-09-18T14:31:55.416303Z",
     "iopub.status.idle": "2025-09-18T14:31:55.431049Z",
     "shell.execute_reply": "2025-09-18T14:31:55.430404Z"
    }
   },
   "outputs": [
    {
     "data": {
      "text/plain": [
       "<ansys.speos.core.opt_prop.OptProp at 0x7feac0bcea10>"
      ]
     },
     "execution_count": 18,
     "metadata": {},
     "output_type": "execute_result"
    }
   ],
   "source": [
    "op1.delete()\n",
    "op3.delete()\n",
    "op4.delete()"
   ]
  },
  {
   "cell_type": "code",
   "execution_count": 19,
   "id": "99f5b721",
   "metadata": {
    "execution": {
     "iopub.execute_input": "2025-09-18T14:31:55.432763Z",
     "iopub.status.busy": "2025-09-18T14:31:55.432573Z",
     "iopub.status.idle": "2025-09-18T14:31:55.436564Z",
     "shell.execute_reply": "2025-09-18T14:31:55.435928Z"
    }
   },
   "outputs": [
    {
     "data": {
      "text/plain": [
       "True"
      ]
     },
     "execution_count": 19,
     "metadata": {},
     "output_type": "execute_result"
    }
   ],
   "source": [
    "speos.close()"
   ]
  }
 ],
 "metadata": {
  "jupytext": {
   "cell_metadata_filter": "-all",
   "main_language": "python",
   "notebook_metadata_filter": "-all",
   "text_representation": {
    "extension": ".py",
    "format_name": "light"
   }
  },
  "language_info": {
   "codemirror_mode": {
    "name": "ipython",
    "version": 3
   },
   "file_extension": ".py",
   "mimetype": "text/x-python",
   "name": "python",
   "nbconvert_exporter": "python",
   "pygments_lexer": "ipython3",
   "version": "3.10.18"
  }
 },
 "nbformat": 4,
 "nbformat_minor": 5
}
