{
 "cells": [
  {
   "cell_type": "markdown",
   "id": "d0685c55",
   "metadata": {},
   "source": [
    "# How to open result (MS Windows OS only)"
   ]
  },
  {
   "cell_type": "markdown",
   "id": "3616c82d",
   "metadata": {},
   "source": [
    "This tutorial demonstrates how to open and review results using workflow method."
   ]
  },
  {
   "cell_type": "markdown",
   "id": "e7edfd28",
   "metadata": {},
   "source": [
    "## Prerequisites\n",
    "\n",
    "### Perform imports"
   ]
  },
  {
   "cell_type": "code",
   "execution_count": 1,
   "id": "ff19fdf8",
   "metadata": {
    "execution": {
     "iopub.execute_input": "2025-09-18T14:34:48.716720Z",
     "iopub.status.busy": "2025-09-18T14:34:48.716547Z",
     "iopub.status.idle": "2025-09-18T14:34:49.531926Z",
     "shell.execute_reply": "2025-09-18T14:34:49.531190Z"
    }
   },
   "outputs": [],
   "source": [
    "import os\n",
    "from pathlib import Path\n",
    "\n",
    "from ansys.speos.core import Project, Speos\n",
    "from ansys.speos.core.simulation import SimulationDirect\n"
   ]
  },
  {
   "cell_type": "markdown",
   "id": "b8019d0b",
   "metadata": {},
   "source": [
    "### Define constants\n",
    "Constants help ensure consistency and avoid repetition throughout the example."
   ]
  },
  {
   "cell_type": "code",
   "execution_count": 2,
   "id": "1b0c5283",
   "metadata": {
    "execution": {
     "iopub.execute_input": "2025-09-18T14:34:49.534323Z",
     "iopub.status.busy": "2025-09-18T14:34:49.534057Z",
     "iopub.status.idle": "2025-09-18T14:34:49.537603Z",
     "shell.execute_reply": "2025-09-18T14:34:49.537004Z"
    }
   },
   "outputs": [],
   "source": [
    "HOSTNAME = \"localhost\"\n",
    "GRPC_PORT = 50098  # Be sure the Speos GRPC Server has been started on this port.\n",
    "FILE_NAME = \"LG_50M_Colorimetric_short.sv5\"\n",
    "RESULT_NAME = \"ASSEMBLY1.DS (0).Dom Irradiance Sensor (0).xmp\"\n",
    "USE_DOCKER = True  # Set to False if you're running this example locally as a Notebook.\n",
    "USE_GPU = False"
   ]
  },
  {
   "cell_type": "markdown",
   "id": "286ba23b",
   "metadata": {},
   "source": [
    "## Model Setup\n",
    "\n",
    "### Load assets\n",
    "The assets used to run this example are available in the\n",
    "[PySpeos repository](https://github.com/ansys/pyspeos/) on GitHub.\n",
    "\n",
    "> **Note:** Make sure you\n",
    "> have downloaded simulation assets and set ``assets_data_path``\n",
    "> to point to the assets folder."
   ]
  },
  {
   "cell_type": "code",
   "execution_count": 3,
   "id": "9e9c3901",
   "metadata": {
    "execution": {
     "iopub.execute_input": "2025-09-18T14:34:49.539234Z",
     "iopub.status.busy": "2025-09-18T14:34:49.539047Z",
     "iopub.status.idle": "2025-09-18T14:34:49.542138Z",
     "shell.execute_reply": "2025-09-18T14:34:49.541556Z"
    }
   },
   "outputs": [],
   "source": [
    "if USE_DOCKER:  # Running on the remote server.\n",
    "    assets_data_path = Path(\"/app\") / \"assets\"\n",
    "else:\n",
    "    assets_data_path = Path(\"/path/to/your/download/assets/directory\")"
   ]
  },
  {
   "cell_type": "markdown",
   "id": "9df0bede",
   "metadata": {},
   "source": [
    "### Connect to the RPC Server\n",
    "This Python client connects to a server where the Speos engine\n",
    "is running as a service. In this example, the server and\n",
    "client are the same\n",
    "machine."
   ]
  },
  {
   "cell_type": "code",
   "execution_count": 4,
   "id": "8b14cdb7",
   "metadata": {
    "execution": {
     "iopub.execute_input": "2025-09-18T14:34:49.543862Z",
     "iopub.status.busy": "2025-09-18T14:34:49.543664Z",
     "iopub.status.idle": "2025-09-18T14:34:49.549347Z",
     "shell.execute_reply": "2025-09-18T14:34:49.548810Z"
    }
   },
   "outputs": [],
   "source": [
    "speos = Speos(host=HOSTNAME, port=GRPC_PORT)"
   ]
  },
  {
   "cell_type": "markdown",
   "id": "3f3866a8",
   "metadata": {},
   "source": [
    "### Create project from a Speos file\n",
    "\n",
    "The ``Project`` class is instantiated by passing a ``Speos`` instance and the name of the Speos\n",
    "project file."
   ]
  },
  {
   "cell_type": "code",
   "execution_count": 5,
   "id": "cff4e36a",
   "metadata": {
    "execution": {
     "iopub.execute_input": "2025-09-18T14:34:49.551011Z",
     "iopub.status.busy": "2025-09-18T14:34:49.550803Z",
     "iopub.status.idle": "2025-09-18T14:34:49.754303Z",
     "shell.execute_reply": "2025-09-18T14:34:49.753524Z"
    }
   },
   "outputs": [
    {
     "name": "stdout",
     "output_type": "stream",
     "text": [
      "{\n",
      "    \"name\": \"LG_50M_Colorimetric_short\",\n",
      "    \"description\": \"From /app/assets/LG_50M_Colorimetric_short.sv5/LG_50M_Colorimetric_short.sv5\",\n",
      "    \"part_guid\": \"35201881-a70d-4353-9f2a-a16cf43e578d\",\n",
      "    \"sources\": [\n",
      "        {\n",
      "            \"name\": \"Dom Source 2 (0) in SOURCE2\",\n",
      "            \"metadata\": {\n",
      "                \"UniqueId\": \"e9e2fc70-4e0f-4d7c-86e1-0fa136530545\"\n",
      "            },\n",
      "            \"source_guid\": \"6cbe2d2b-7dd6-42aa-a833-9e9637f3391f\",\n",
      "            \"description\": \"\",\n",
      "            \"source\": {\n",
      "                \"name\": \"Dom Source 2 (0) in SOURCE2\",\n",
      "                \"surface\": {\n",
      "                    \"radiant_flux\": {\n",
      "                        \"radiant_value\": 6.590041607465698\n",
      "                    },\n",
      "                    \"intensity_guid\": \"fcdc6d27-b33c-472a-820d-dc02a695a49c\",\n",
      "                    \"exitance_constant\": {\n",
      "                        \"geo_paths\": [\n",
      "                            {\n",
      "                                \"geo_path\": \"Solid Body in SOURCE2:2920204960/Face in SOURCE2:222\",\n",
      "                                \"reverse_normal\": false\n",
      "                            }\n",
      "                        ]\n",
      "                    },\n",
      "                    \"spectrum_guid\": \"fe20ca61-02d9-4ebc-9ce6-8c8acb0eea8e\",\n",
      "                    \"intensity\": {\n",
      "                        \"cos\": {\n",
      "                            \"N\": 1.0,\n",
      "                            \"total_angle\": 180.0\n",
      "                        },\n",
      "                        \"name\": \"\",\n",
      "                        \"description\": \"\",\n",
      "                        \"metadata\": {}\n",
      "                    },\n",
      "                    \"spectrum\": {\n",
      "                        \"library\": {\n",
      "                            \"file_uri\": \"/app/assets/LG_50M_Colorimetric_short.sv5/Red Spectrum.spectrum\"\n",
      "                        },\n",
      "                        \"name\": \"\",\n",
      "                        \"description\": \"\",\n",
      "                        \"metadata\": {}\n",
      "                    }\n",
      "                },\n",
      "                \"description\": \"\",\n",
      "                \"metadata\": {}\n",
      "            }\n",
      "        },\n",
      "        {\n",
      "            \"name\": \"Surface Source (0) in SOURCE1\",\n",
      "            \"metadata\": {\n",
      "                \"UniqueId\": \"2dd162f8-841d-4dc9-8902-7ace2d7baed1\"\n",
      "            },\n",
      "            \"source_guid\": \"aa01c8ee-e7e5-41e3-a597-f7b6d7238475\",\n",
      "            \"description\": \"\",\n",
      "            \"source\": {\n",
      "                \"name\": \"Surface Source (0) in SOURCE1\",\n",
      "                \"surface\": {\n",
      "                    \"radiant_flux\": {\n",
      "                        \"radiant_value\": 9.290411220389682\n",
      "                    },\n",
      "                    \"intensity_guid\": \"28a50024-8435-493f-b966-bd9d73b744d0\",\n",
      "                    \"exitance_constant\": {\n",
      "                        \"geo_paths\": [\n",
      "                            {\n",
      "                                \"geo_path\": \"Solid Body in SOURCE1:2494956811/Face in SOURCE1:187\",\n",
      "                                \"reverse_normal\": false\n",
      "                            }\n",
      "                        ]\n",
      "                    },\n",
      "                    \"spectrum_guid\": \"66ce89ae-8c40-4024-96ea-360ac51ed06b\",\n",
      "                    \"intensity\": {\n",
      "                        \"cos\": {\n",
      "                            \"N\": 1.0,\n",
      "                            \"total_angle\": 180.0\n",
      "                        },\n",
      "                        \"name\": \"\",\n",
      "                        \"description\": \"\",\n",
      "                        \"metadata\": {}\n",
      "                    },\n",
      "                    \"spectrum\": {\n",
      "                        \"library\": {\n",
      "                            \"file_uri\": \"/app/assets/LG_50M_Colorimetric_short.sv5/Blue Spectrum.spectrum\"\n",
      "                        },\n",
      "                        \"name\": \"\",\n",
      "                        \"description\": \"\",\n",
      "                        \"metadata\": {}\n",
      "                    }\n",
      "                },\n",
      "                \"description\": \"\",\n",
      "                \"metadata\": {}\n",
      "            }\n",
      "        }\n",
      "    ],\n",
      "    \"sensors\": [\n",
      "        {\n",
      "            \"name\": \"Dom Irradiance Sensor (0)\",\n",
      "            \"metadata\": {\n",
      "                \"UniqueId\": \"e25933f2-dc4c-4029-9855-83ef5c8de542\"\n",
      "            },\n",
      "            \"sensor_guid\": \"3e16cde7-7a20-4928-8160-105276e89c8a\",\n",
      "            \"result_file_name\": \"ASSEMBLY1.DS (0).Dom Irradiance Sensor (0)\",\n",
      "            \"description\": \"\",\n",
      "            \"sensor\": {\n",
      "                \"irradiance_sensor_template\": {\n",
      "                    \"sensor_type_colorimetric\": {\n",
      "                        \"wavelengths_range\": {\n",
      "                            \"w_start\": 400.0,\n",
      "                            \"w_end\": 700.0,\n",
      "                            \"w_sampling\": 25\n",
      "                        }\n",
      "                    },\n",
      "                    \"illuminance_type_planar\": {},\n",
      "                    \"dimensions\": {\n",
      "                        \"x_start\": -20.0,\n",
      "                        \"x_end\": 20.0,\n",
      "                        \"x_sampling\": 500,\n",
      "                        \"y_start\": -20.0,\n",
      "                        \"y_end\": 20.0,\n",
      "                        \"y_sampling\": 500\n",
      "                    },\n",
      "                    \"axis_system\": [\n",
      "                        -42.0,\n",
      "                        2.0,\n",
      "                        5.0,\n",
      "                        0.0,\n",
      "                        1.0,\n",
      "                        0.0,\n",
      "                        0.0,\n",
      "                        0.0,\n",
      "                        -1.0,\n",
      "                        -1.0,\n",
      "                        0.0,\n",
      "                        0.0\n",
      "                    ],\n",
      "                    \"layer_type_source\": {},\n",
      "                    \"integration_direction\": [\n",
      "                        1.0,\n",
      "                        -0.0,\n",
      "                        -0.0\n",
      "                    ],\n",
      "                    \"ray_file_type\": \"RayFileNone\"\n",
      "                },\n",
      "                \"name\": \"Dom Irradiance Sensor (0)\",\n",
      "                \"description\": \"\",\n",
      "                \"metadata\": {}\n",
      "            }\n",
      "        }\n",
      "    ],\n",
      "    \"simulations\": [\n",
      "        {\n",
      "            \"name\": \"ASSEMBLY1.DS (0)\",\n",
      "            \"metadata\": {\n",
      "                \"UniqueId\": \"9966726a-95f8-4b06-9ab2-539cdaf59265\"\n",
      "            },\n",
      "            \"simulation_guid\": \"f3a1950c-7a13-4ad4-9aa1-19f1e8a56d1b\",\n",
      "            \"sensor_paths\": [\n",
      "                \"Dom Irradiance Sensor (0)\"\n",
      "            ],\n",
      "            \"source_paths\": [\n",
      "                \"Dom Source 2 (0) in SOURCE2\",\n",
      "                \"Surface Source (0) in SOURCE1\"\n",
      "            ],\n",
      "            \"description\": \"\",\n",
      "            \"simulation\": {\n",
      "                \"direct_mc_simulation_template\": {\n",
      "                    \"geom_distance_tolerance\": 0.05,\n",
      "                    \"max_impact\": 100,\n",
      "                    \"weight\": {\n",
      "                        \"minimum_energy_percentage\": 0.005\n",
      "                    },\n",
      "                    \"dispersion\": true,\n",
      "                    \"colorimetric_standard\": \"CIE_1931\",\n",
      "                    \"fast_transmission_gathering\": false,\n",
      "                    \"ambient_material_uri\": \"\"\n",
      "                },\n",
      "                \"name\": \"ASSEMBLY1.DS (0)\",\n",
      "                \"metadata\": {},\n",
      "                \"description\": \"\",\n",
      "                \"scene_guid\": \"26cae5c0-bd3a-4d5f-b5c9-f0993968333a\",\n",
      "                \"simulation_path\": \"ASSEMBLY1.DS (0)\",\n",
      "                \"job_type\": \"CPU\"\n",
      "            }\n",
      "        }\n",
      "    ],\n",
      "    \"materials\": [\n",
      "        {\n",
      "            \"name\": \"Material.1\",\n",
      "            \"metadata\": {\n",
      "                \"UniqueId\": \"a25a994f-a45c-4bea-98ec-2d31cb572b2c\"\n",
      "            },\n",
      "            \"geometries\": {\n",
      "                \"geo_paths\": [\n",
      "                    \"Solid Body in GUIDE:1379760262/Face in GUIDE:169\"\n",
      "                ]\n",
      "            },\n",
      "            \"sop_guid\": \"74efc9be-9bb0-4dbd-8f48-42c5cf099007\",\n",
      "            \"description\": \"\",\n",
      "            \"sop_guids\": [],\n",
      "            \"sop\": {\n",
      "                \"mirror\": {\n",
      "                    \"reflectance\": 100.0\n",
      "                },\n",
      "                \"name\": \"\",\n",
      "                \"description\": \"\",\n",
      "                \"metadata\": {}\n",
      "            }\n",
      "        },\n",
      "        {\n",
      "            \"name\": \"Material.2\",\n",
      "            \"metadata\": {\n",
      "                \"UniqueId\": \"2c3ae2f3-f4d7-440e-a42d-632676ba496c\"\n",
      "            },\n",
      "            \"vop_guid\": \"9c00fe68-f173-471b-9bcd-680fb7cc3894\",\n",
      "            \"geometries\": {\n",
      "                \"geo_paths\": [\n",
      "                    \"Solid Body in SOURCE2:2920204960\",\n",
      "                    \"Solid Body in SOURCE1:2494956811\"\n",
      "                ]\n",
      "            },\n",
      "            \"sop_guid\": \"74efc9be-9bb0-4dbd-8f48-42c5cf099007\",\n",
      "            \"description\": \"\",\n",
      "            \"sop_guids\": [],\n",
      "            \"vop\": {\n",
      "                \"opaque\": {},\n",
      "                \"name\": \"\",\n",
      "                \"description\": \"\",\n",
      "                \"metadata\": {}\n",
      "            },\n",
      "            \"sop\": {\n",
      "                \"mirror\": {\n",
      "                    \"reflectance\": 100.0\n",
      "                },\n",
      "                \"name\": \"\",\n",
      "                \"description\": \"\",\n",
      "                \"metadata\": {}\n",
      "            }\n",
      "        },\n",
      "        {\n",
      "            \"name\": \"Material.3\",\n",
      "            \"metadata\": {\n",
      "                \"UniqueId\": \"38edf31a-2459-4963-84f0-a6b102f9a17a\"\n",
      "            },\n",
      "            \"vop_guid\": \"5fc1df7b-f57a-42ae-b422-97708c837502\",\n",
      "            \"geometries\": {\n",
      "                \"geo_paths\": [\n",
      "                    \"Solid Body in GUIDE:1379760262\"\n",
      "                ]\n",
      "            },\n",
      "            \"sop_guid\": \"fd10bd64-3c7d-4241-8b85-919ea9756897\",\n",
      "            \"description\": \"\",\n",
      "            \"sop_guids\": [],\n",
      "            \"vop\": {\n",
      "                \"optic\": {\n",
      "                    \"index\": 1.4,\n",
      "                    \"constringence\": 60.0,\n",
      "                    \"absorption\": 0.0\n",
      "                },\n",
      "                \"name\": \"\",\n",
      "                \"description\": \"\",\n",
      "                \"metadata\": {}\n",
      "            },\n",
      "            \"sop\": {\n",
      "                \"optical_polished\": {},\n",
      "                \"name\": \"\",\n",
      "                \"description\": \"\",\n",
      "                \"metadata\": {}\n",
      "            }\n",
      "        },\n",
      "        {\n",
      "            \"name\": \"Material.4\",\n",
      "            \"metadata\": {\n",
      "                \"UniqueId\": \"317a3332-bb36-486e-8938-5ad1586cdc93\"\n",
      "            },\n",
      "            \"vop_guid\": \"4fd41e77-c1ce-4e44-b4ed-36491d939cb7\",\n",
      "            \"description\": \"\",\n",
      "            \"sop_guids\": [],\n",
      "            \"vop\": {\n",
      "                \"optic\": {\n",
      "                    \"index\": 1.0,\n",
      "                    \"absorption\": 0.0\n",
      "                },\n",
      "                \"name\": \"\",\n",
      "                \"description\": \"\",\n",
      "                \"metadata\": {}\n",
      "            }\n",
      "        }\n",
      "    ],\n",
      "    \"metadata\": {},\n",
      "    \"scenes\": []\n",
      "}\n"
     ]
    },
    {
     "name": "stderr",
     "output_type": "stream",
     "text": [
      "/home/runner/work/pyspeos/pyspeos/.venv/lib/python3.10/site-packages/ansys/speos/core/project.py:698: UserWarning: The pySpeos feature : FaceStub.read_batch needs a Speos Version of 2025 R2 SP0 or higher.\n",
      "  f_data_list = face_db.read_batch(refs=f_links)\n",
      "/home/runner/work/pyspeos/pyspeos/.venv/lib/python3.10/site-packages/ansys/speos/core/project.py:804: UserWarning: The pySpeos feature : SourceSurface needs a Speos Version of 2025 R2 SP0 or higher.\n",
      "  src_feat = SourceSurface(\n",
      "/home/runner/work/pyspeos/pyspeos/.venv/lib/python3.10/site-packages/ansys/speos/core/project.py:862: UserWarning: The pySpeos feature : SimulationDirect needs a Speos Version of 2025 R2 SP0 or higher.\n",
      "  sim_feat = SimulationDirect(\n"
     ]
    }
   ],
   "source": [
    "p = Project(\n",
    "    speos=speos,\n",
    "    path=str(assets_data_path / FILE_NAME / FILE_NAME),\n",
    ")\n",
    "print(p)"
   ]
  },
  {
   "cell_type": "markdown",
   "id": "4f245853",
   "metadata": {},
   "source": [
    "### Retrieve the simulation feature\n",
    "\n",
    "Use the method ``Project.find()`` to retrieve an instance\n",
    "of the ``SimulationDirect`` feature."
   ]
  },
  {
   "cell_type": "code",
   "execution_count": 6,
   "id": "9c1c9ee2",
   "metadata": {
    "execution": {
     "iopub.execute_input": "2025-09-18T14:34:49.756162Z",
     "iopub.status.busy": "2025-09-18T14:34:49.755971Z",
     "iopub.status.idle": "2025-09-18T14:34:49.759117Z",
     "shell.execute_reply": "2025-09-18T14:34:49.758573Z"
    }
   },
   "outputs": [],
   "source": [
    "sim = p.find(name=\".*\", name_regex=True, feature_type=SimulationDirect)[0]"
   ]
  },
  {
   "cell_type": "markdown",
   "id": "b28ba7e2",
   "metadata": {},
   "source": [
    "## Run simulation\n",
    "\n",
    "The simulation can be run using either the CPU or with GPU acceleration. The following cell shows\n",
    "how Python is used to assign the appropriate method to ``run_sim``."
   ]
  },
  {
   "cell_type": "code",
   "execution_count": 7,
   "id": "8a36c4d0",
   "metadata": {
    "execution": {
     "iopub.execute_input": "2025-09-18T14:34:49.760907Z",
     "iopub.status.busy": "2025-09-18T14:34:49.760696Z",
     "iopub.status.idle": "2025-09-18T14:34:54.851611Z",
     "shell.execute_reply": "2025-09-18T14:34:54.850810Z"
    },
    "lines_to_next_cell": 2
   },
   "outputs": [
    {
     "name": "stdout",
     "output_type": "stream",
     "text": [
      "[upload_response {\n",
      "  info {\n",
      "    uri: \"20def341-b575-4648-88ff-45a799670032\"\n",
      "    file_name: \"ASSEMBLY1.DS (0).Dom Irradiance Sensor (0).xmp\"\n",
      "    file_size: 2154315\n",
      "  }\n",
      "  upload_duration {\n",
      "    nanos: 3948354\n",
      "  }\n",
      "}\n",
      ", upload_response {\n",
      "  info {\n",
      "    uri: \"c89f2eff-9c25-4a83-ac71-28afbe998101\"\n",
      "    file_name: \"ASSEMBLY1.DS (0).html\"\n",
      "    file_size: 646042\n",
      "  }\n",
      "  upload_duration {\n",
      "    nanos: 1223332\n",
      "  }\n",
      "}\n",
      "]\n"
     ]
    }
   ],
   "source": [
    "run_sim = sim.compute_GPU if USE_GPU else sim.compute_CPU\n",
    "results = run_sim()  # run the simulation\n",
    "print(results)"
   ]
  },
  {
   "cell_type": "markdown",
   "id": "7adfc6b8",
   "metadata": {},
   "source": [
    "## Postprocessing\n",
    "### Open the results (MS Windows OS only):\n",
    "\n",
    "Display one result as image.\n",
    "\n",
    "A full path can be given, or the name of the result."
   ]
  },
  {
   "cell_type": "code",
   "execution_count": 8,
   "id": "d8eea830",
   "metadata": {
    "execution": {
     "iopub.execute_input": "2025-09-18T14:34:54.853734Z",
     "iopub.status.busy": "2025-09-18T14:34:54.853535Z",
     "iopub.status.idle": "2025-09-18T14:34:54.856869Z",
     "shell.execute_reply": "2025-09-18T14:34:54.856315Z"
    }
   },
   "outputs": [],
   "source": [
    "if os.name == \"nt\":  # Are we running on Windows OS?\n",
    "    from ansys.speos.core.workflow.open_result import open_result_image\n",
    "\n",
    "    open_result_image(simulation_feature=sim, result_name=RESULT_NAME)"
   ]
  },
  {
   "cell_type": "markdown",
   "id": "8c901410",
   "metadata": {},
   "source": [
    "### Display the image\n",
    "\n",
    "Display one result in a result viewer.\n",
    "\n",
    "A full path can be given, or the name of the result."
   ]
  },
  {
   "cell_type": "code",
   "execution_count": 9,
   "id": "37905702",
   "metadata": {
    "execution": {
     "iopub.execute_input": "2025-09-18T14:34:54.858581Z",
     "iopub.status.busy": "2025-09-18T14:34:54.858405Z",
     "iopub.status.idle": "2025-09-18T14:34:54.865457Z",
     "shell.execute_reply": "2025-09-18T14:34:54.864832Z"
    }
   },
   "outputs": [
    {
     "data": {
      "text/plain": [
       "True"
      ]
     },
     "execution_count": 9,
     "metadata": {},
     "output_type": "execute_result"
    }
   ],
   "source": [
    "if os.name == \"nt\":\n",
    "    from ansys.speos.core.workflow.open_result import open_result_in_viewer\n",
    "\n",
    "    open_result_in_viewer(\n",
    "        simulation_feature=sim,\n",
    "        result_name=RESULT_NAME,\n",
    "    )\n",
    "speos.close()"
   ]
  }
 ],
 "metadata": {
  "jupytext": {
   "cell_metadata_filter": "-all",
   "main_language": "python",
   "notebook_metadata_filter": "-all",
   "text_representation": {
    "extension": ".py",
    "format_name": "light"
   }
  },
  "language_info": {
   "codemirror_mode": {
    "name": "ipython",
    "version": 3
   },
   "file_extension": ".py",
   "mimetype": "text/x-python",
   "name": "python",
   "nbconvert_exporter": "python",
   "pygments_lexer": "ipython3",
   "version": "3.10.18"
  }
 },
 "nbformat": 4,
 "nbformat_minor": 5
}
