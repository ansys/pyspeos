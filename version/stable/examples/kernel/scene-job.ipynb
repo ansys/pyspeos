{
 "cells": [
  {
   "cell_type": "markdown",
   "id": "129b3ccc",
   "metadata": {},
   "source": [
    "# How to use scene and job"
   ]
  },
  {
   "cell_type": "markdown",
   "id": "39798070",
   "metadata": {},
   "source": [
    "This tutorial demonstrates how to create a scene, and fill it from a speos file.\n",
    "Then this demonstrates how to create a job from the scene, and run it."
   ]
  },
  {
   "cell_type": "markdown",
   "id": "262017a0",
   "metadata": {},
   "source": [
    "## Prerequisites\n",
    "\n",
    "### Perform imports"
   ]
  },
  {
   "cell_type": "code",
   "execution_count": 1,
   "id": "fa1a6577",
   "metadata": {
    "execution": {
     "iopub.execute_input": "2025-09-18T14:33:49.580472Z",
     "iopub.status.busy": "2025-09-18T14:33:49.580191Z",
     "iopub.status.idle": "2025-09-18T14:33:50.425459Z",
     "shell.execute_reply": "2025-09-18T14:33:50.424825Z"
    }
   },
   "outputs": [],
   "source": [
    "from pathlib import Path\n",
    "import time\n",
    "\n",
    "from ansys.speos.core import launcher\n",
    "from ansys.speos.core.kernel.job import ProtoJob\n",
    "from ansys.speos.core.speos import Speos\n",
    "\n",
    "# ### Define constants\n",
    "# Constants help ensure consistency and avoid repetition throughout the example.\n",
    "\n",
    "HOSTNAME = \"localhost\"\n",
    "GRPC_PORT = 50098  # Be sure the Speos GRPC Server has been started on this port.\n",
    "USE_DOCKER = True  # Set to False if you're running this example locally as a Notebook.\n",
    "\n",
    "# ### Load assets\n",
    "# The assets used to run this example are available in the\n",
    "# [PySpeos repository](https://github.com/ansys/pyspeos/) on GitHub.\n",
    "#\n",
    "# > **Note:** Make sure you\n",
    "# > have downloaded simulation assets and set ``assets_data_path``\n",
    "# > to point to the assets folder.\n",
    "\n",
    "if USE_DOCKER:  # Running on the remote server.\n",
    "    assets_data_path = Path(\"/app\") / \"assets\"\n",
    "else:\n",
    "    assets_data_path = Path(\"/path/to/your/download/assets/directory\")\n",
    "\n",
    "\n",
    "# ### Start/Connect to Speos RPC Server\n",
    "# This Python client connects to a server where the Speos engine\n",
    "# is running as a service. In this example, the server and\n",
    "# client are the same machine. The launch_local_speos_rpc_method can\n",
    "# be used to start a local instance of the service.\n",
    "\n",
    "if USE_DOCKER:\n",
    "    speos = Speos(host=HOSTNAME, port=GRPC_PORT)\n",
    "else:\n",
    "    speos = launcher.launch_local_speos_rpc_server(port=GRPC_PORT)\n",
    "\n",
    "# ## Scene\n",
    "\n",
    "# Create an empty scene"
   ]
  },
  {
   "cell_type": "code",
   "execution_count": 2,
   "id": "de45e84d",
   "metadata": {
    "execution": {
     "iopub.execute_input": "2025-09-18T14:33:50.427707Z",
     "iopub.status.busy": "2025-09-18T14:33:50.427433Z",
     "iopub.status.idle": "2025-09-18T14:33:50.433297Z",
     "shell.execute_reply": "2025-09-18T14:33:50.432763Z"
    }
   },
   "outputs": [],
   "source": [
    "my_scene = speos.client.scenes().create()"
   ]
  },
  {
   "cell_type": "markdown",
   "id": "f04b5db2",
   "metadata": {},
   "source": [
    "Load a file to fill the scene"
   ]
  },
  {
   "cell_type": "code",
   "execution_count": 3,
   "id": "2bc7d400",
   "metadata": {
    "execution": {
     "iopub.execute_input": "2025-09-18T14:33:50.435108Z",
     "iopub.status.busy": "2025-09-18T14:33:50.434920Z",
     "iopub.status.idle": "2025-09-18T14:33:50.444157Z",
     "shell.execute_reply": "2025-09-18T14:33:50.443624Z"
    }
   },
   "outputs": [],
   "source": [
    "speos_file = str(\n",
    "    assets_data_path / \"LG_50M_Colorimetric_short.sv5\" / \"LG_50M_Colorimetric_short.sv5\"\n",
    ")\n",
    "my_scene.load_file(file_uri=speos_file)"
   ]
  },
  {
   "cell_type": "markdown",
   "id": "042a82a3",
   "metadata": {},
   "source": [
    "Print scene data model"
   ]
  },
  {
   "cell_type": "markdown",
   "id": "7e8583bb",
   "metadata": {},
   "source": [
    "Here it is possible to see that the scene contains two surface sources, one irradiance sensor."
   ]
  },
  {
   "cell_type": "code",
   "execution_count": 4,
   "id": "b8f4d5a3",
   "metadata": {
    "execution": {
     "iopub.execute_input": "2025-09-18T14:33:50.446002Z",
     "iopub.status.busy": "2025-09-18T14:33:50.445790Z",
     "iopub.status.idle": "2025-09-18T14:33:50.450855Z",
     "shell.execute_reply": "2025-09-18T14:33:50.450322Z"
    }
   },
   "outputs": [
    {
     "name": "stdout",
     "output_type": "stream",
     "text": [
      "ansys.api.speos.scene.v2.Scene\n",
      "{\n",
      "    \"name\": \"LG_50M_Colorimetric_short\",\n",
      "    \"description\": \"From /app/assets/LG_50M_Colorimetric_short.sv5/LG_50M_Colorimetric_short.sv5\",\n",
      "    \"part_guid\": \"47eedcde-590c-4bd1-ac98-250dbfec30f0\",\n",
      "    \"sources\": [\n",
      "        {\n",
      "            \"name\": \"Dom Source 2 (0) in SOURCE2\",\n",
      "            \"source_guid\": \"06c064cf-951f-449f-8555-17e607d52ada\",\n",
      "            \"surface_properties\": {\n",
      "                \"exitance_constant_properties\": {\n",
      "                    \"geo_paths\": [\n",
      "                        {\n",
      "                            \"geo_path\": \"Solid Body in SOURCE2:2920204960/Face in SOURCE2:222\",\n",
      "                            \"reverse_normal\": false\n",
      "                        }\n",
      "                    ]\n",
      "                }\n",
      "            },\n",
      "            \"description\": \"\",\n",
      "            \"metadata\": {}\n",
      "        },\n",
      "        {\n",
      "            \"name\": \"Surface Source (0) in SOURCE1\",\n",
      "            \"source_guid\": \"550e4611-1643-40e4-8b8f-e2ed1a55b0a8\",\n",
      "            \"surface_properties\": {\n",
      "                \"exitance_constant_properties\": {\n",
      "                    \"geo_paths\": [\n",
      "                        {\n",
      "                            \"geo_path\": \"Solid Body in SOURCE1:2494956811/Face in SOURCE1:187\",\n",
      "                            \"reverse_normal\": false\n",
      "                        }\n",
      "                    ]\n",
      "                }\n",
      "            },\n",
      "            \"description\": \"\",\n",
      "            \"metadata\": {}\n",
      "        }\n",
      "    ],\n",
      "    \"sensors\": [\n",
      "        {\n",
      "            \"name\": \"Dom Irradiance Sensor (0)\",\n",
      "            \"sensor_guid\": \"ef5da0c7-c0a8-4810-af2f-6f1c7c7c3c4b\",\n",
      "            \"result_file_name\": \"ASSEMBLY1.DS (0).Dom Irradiance Sensor (0)\",\n",
      "            \"irradiance_properties\": {\n",
      "                \"axis_system\": [\n",
      "                    -42.0,\n",
      "                    2.0,\n",
      "                    5.0,\n",
      "                    0.0,\n",
      "                    1.0,\n",
      "                    0.0,\n",
      "                    0.0,\n",
      "                    0.0,\n",
      "                    -1.0,\n",
      "                    -1.0,\n",
      "                    0.0,\n",
      "                    0.0\n",
      "                ],\n",
      "                \"layer_type_source\": {},\n",
      "                \"integration_direction\": [\n",
      "                    1.0,\n",
      "                    -0.0,\n",
      "                    -0.0\n",
      "                ],\n",
      "                \"ray_file_type\": \"RayFileNone\"\n",
      "            },\n",
      "            \"description\": \"\",\n",
      "            \"metadata\": {}\n",
      "        }\n",
      "    ],\n",
      "    \"simulations\": [\n",
      "        {\n",
      "            \"name\": \"ASSEMBLY1.DS (0)\",\n",
      "            \"simulation_guid\": \"428701bb-6b57-4d82-9e45-e41169e1f8a1\",\n",
      "            \"sensor_paths\": [\n",
      "                \"Dom Irradiance Sensor (0)\"\n",
      "            ],\n",
      "            \"source_paths\": [\n",
      "                \"Dom Source 2 (0) in SOURCE2\",\n",
      "                \"Surface Source (0) in SOURCE1\"\n",
      "            ],\n",
      "            \"description\": \"\",\n",
      "            \"metadata\": {}\n",
      "        }\n",
      "    ],\n",
      "    \"materials\": [\n",
      "        {\n",
      "            \"name\": \"Material.1\",\n",
      "            \"geometries\": {\n",
      "                \"geo_paths\": [\n",
      "                    \"Solid Body in GUIDE:1379760262/Face in GUIDE:169\"\n",
      "                ]\n",
      "            },\n",
      "            \"sop_guid\": \"3cbc9ad4-d72b-4ea6-a797-8a2e0b198376\",\n",
      "            \"description\": \"\",\n",
      "            \"metadata\": {},\n",
      "            \"sop_guids\": []\n",
      "        },\n",
      "        {\n",
      "            \"name\": \"Material.2\",\n",
      "            \"vop_guid\": \"af384026-083e-44cb-aa9d-7de5592ca6bf\",\n",
      "            \"geometries\": {\n",
      "                \"geo_paths\": [\n",
      "                    \"Solid Body in SOURCE2:2920204960\",\n",
      "                    \"Solid Body in SOURCE1:2494956811\"\n",
      "                ]\n",
      "            },\n",
      "            \"sop_guid\": \"3cbc9ad4-d72b-4ea6-a797-8a2e0b198376\",\n",
      "            \"description\": \"\",\n",
      "            \"metadata\": {},\n",
      "            \"sop_guids\": []\n",
      "        },\n",
      "        {\n",
      "            \"name\": \"Material.3\",\n",
      "            \"vop_guid\": \"0a76f77a-bbba-4f62-969d-417063ff6eb0\",\n",
      "            \"geometries\": {\n",
      "                \"geo_paths\": [\n",
      "                    \"Solid Body in GUIDE:1379760262\"\n",
      "                ]\n",
      "            },\n",
      "            \"sop_guid\": \"9a761e19-8eff-41e3-9de0-da0c326f9ebd\",\n",
      "            \"description\": \"\",\n",
      "            \"metadata\": {},\n",
      "            \"sop_guids\": []\n",
      "        },\n",
      "        {\n",
      "            \"name\": \"Material.4\",\n",
      "            \"vop_guid\": \"d304d590-c5ad-49b2-9f7b-e67d829b32e4\",\n",
      "            \"description\": \"\",\n",
      "            \"metadata\": {},\n",
      "            \"sop_guids\": []\n",
      "        }\n",
      "    ],\n",
      "    \"metadata\": {},\n",
      "    \"scenes\": []\n",
      "}\n"
     ]
    }
   ],
   "source": [
    "print(my_scene)"
   ]
  },
  {
   "cell_type": "markdown",
   "id": "5c2f9084",
   "metadata": {},
   "source": [
    "## Job"
   ]
  },
  {
   "cell_type": "markdown",
   "id": "504510b9",
   "metadata": {},
   "source": [
    "Create a job for the first simulation. When loaded from a speos file, there is always only one\n",
    "simulation in the scene."
   ]
  },
  {
   "cell_type": "code",
   "execution_count": 5,
   "id": "fb73bb5c",
   "metadata": {
    "execution": {
     "iopub.execute_input": "2025-09-18T14:33:50.452692Z",
     "iopub.status.busy": "2025-09-18T14:33:50.452496Z",
     "iopub.status.idle": "2025-09-18T14:33:50.532587Z",
     "shell.execute_reply": "2025-09-18T14:33:50.531934Z"
    }
   },
   "outputs": [],
   "source": [
    "# First create the protobuf message\n",
    "job_message = ProtoJob(name=\"my_job\")\n",
    "job_message.scene_guid = my_scene.key  # The job needs a scene guid\n",
    "job_message.simulation_path = (\n",
    "    my_scene.get().simulations[0].name\n",
    ")  # And needs to know which simulation in the scene is involved.\n",
    "job_message.job_type = ProtoJob.Type.CPU  # Choose type of job, can also be GPU.\n",
    "job_message.direct_mc_simulation_properties.automatic_save_frequency = 1800\n",
    "job_message.direct_mc_simulation_properties.stop_condition_rays_number = (\n",
    "    200000  # Stop condition, here 200000 rays will be sent.\n",
    ")\n",
    "\n",
    "# Create the JobLink\n",
    "job_link = speos.client.jobs().create(message=job_message)"
   ]
  },
  {
   "cell_type": "markdown",
   "id": "c744980e",
   "metadata": {},
   "source": [
    "Start the job"
   ]
  },
  {
   "cell_type": "code",
   "execution_count": 6,
   "id": "a1c5bd33",
   "metadata": {
    "execution": {
     "iopub.execute_input": "2025-09-18T14:33:50.534381Z",
     "iopub.status.busy": "2025-09-18T14:33:50.534197Z",
     "iopub.status.idle": "2025-09-18T14:33:50.537485Z",
     "shell.execute_reply": "2025-09-18T14:33:50.536756Z"
    }
   },
   "outputs": [],
   "source": [
    "job_link.start()"
   ]
  },
  {
   "cell_type": "markdown",
   "id": "d81263d8",
   "metadata": {},
   "source": [
    "Verify state of the job"
   ]
  },
  {
   "cell_type": "code",
   "execution_count": 7,
   "id": "a8ad4018",
   "metadata": {
    "execution": {
     "iopub.execute_input": "2025-09-18T14:33:50.539747Z",
     "iopub.status.busy": "2025-09-18T14:33:50.539500Z",
     "iopub.status.idle": "2025-09-18T14:33:50.546212Z",
     "shell.execute_reply": "2025-09-18T14:33:50.545635Z"
    }
   },
   "outputs": [
    {
     "data": {
      "text/plain": [
       "state: RUNNING"
      ]
     },
     "execution_count": 7,
     "metadata": {},
     "output_type": "execute_result"
    }
   ],
   "source": [
    "job_link.get_state()"
   ]
  },
  {
   "cell_type": "markdown",
   "id": "8c6c2bf7",
   "metadata": {},
   "source": [
    "Wait that the job is finished"
   ]
  },
  {
   "cell_type": "code",
   "execution_count": 8,
   "id": "afbf2916",
   "metadata": {
    "execution": {
     "iopub.execute_input": "2025-09-18T14:33:50.547993Z",
     "iopub.status.busy": "2025-09-18T14:33:50.547789Z",
     "iopub.status.idle": "2025-09-18T14:33:56.561163Z",
     "shell.execute_reply": "2025-09-18T14:33:56.560551Z"
    }
   },
   "outputs": [],
   "source": [
    "job_state_res = job_link.get_state()\n",
    "while (\n",
    "    job_state_res.state != ProtoJob.State.FINISHED\n",
    "    and job_state_res.state != ProtoJob.State.STOPPED\n",
    "    and job_state_res.state != ProtoJob.State.IN_ERROR\n",
    "):\n",
    "    time.sleep(2)\n",
    "\n",
    "    job_state_res = job_link.get_state()"
   ]
  },
  {
   "cell_type": "markdown",
   "id": "b80ca639",
   "metadata": {},
   "source": [
    "Retrieve results of the job"
   ]
  },
  {
   "cell_type": "markdown",
   "id": "a29a9f0c",
   "metadata": {},
   "source": [
    "Two results are generated : the result of irradiance sensor:\n",
    "\"ASSEMBLY1.DS (0).Dom Irradiance Sensor (0).xmp\" and the simulation report in html"
   ]
  },
  {
   "cell_type": "code",
   "execution_count": 9,
   "id": "b765e485",
   "metadata": {
    "execution": {
     "iopub.execute_input": "2025-09-18T14:33:56.563358Z",
     "iopub.status.busy": "2025-09-18T14:33:56.563172Z",
     "iopub.status.idle": "2025-09-18T14:33:56.570475Z",
     "shell.execute_reply": "2025-09-18T14:33:56.569863Z"
    }
   },
   "outputs": [
    {
     "name": "stdout",
     "output_type": "stream",
     "text": [
      "[upload_response {\n",
      "  info {\n",
      "    uri: \"988788e6-0df4-4c6c-a62e-c3fed872fabc\"\n",
      "    file_name: \"ASSEMBLY1.DS (0).Dom Irradiance Sensor (0).xmp\"\n",
      "    file_size: 1443219\n",
      "  }\n",
      "  upload_duration {\n",
      "    nanos: 2162423\n",
      "  }\n",
      "}\n",
      ", upload_response {\n",
      "  info {\n",
      "    uri: \"5681bbe7-3b87-4b82-8242-e86639a38565\"\n",
      "    file_name: \"ASSEMBLY1.DS (0).html\"\n",
      "    file_size: 510148\n",
      "  }\n",
      "  upload_duration {\n",
      "    nanos: 794051\n",
      "  }\n",
      "}\n",
      "]\n"
     ]
    }
   ],
   "source": [
    "results = job_link.get_results().results\n",
    "print(results)"
   ]
  },
  {
   "cell_type": "markdown",
   "id": "2febab1c",
   "metadata": {
    "lines_to_next_cell": 2
   },
   "source": [
    "Once no more needed: delete the job"
   ]
  },
  {
   "cell_type": "code",
   "execution_count": 10,
   "id": "abba997b",
   "metadata": {
    "execution": {
     "iopub.execute_input": "2025-09-18T14:33:56.572367Z",
     "iopub.status.busy": "2025-09-18T14:33:56.572177Z",
     "iopub.status.idle": "2025-09-18T14:33:56.575960Z",
     "shell.execute_reply": "2025-09-18T14:33:56.575398Z"
    },
    "lines_to_next_cell": 2
   },
   "outputs": [],
   "source": [
    "job_link.delete()"
   ]
  },
  {
   "cell_type": "markdown",
   "id": "6b955349",
   "metadata": {
    "lines_to_next_cell": 2
   },
   "source": [
    "When loading a speos file into a scene, this creates many objects\n",
    "(source templates, sensor templates, vop template, sop templates).\n",
    "Then at the end of the example, we just clean all databases"
   ]
  },
  {
   "cell_type": "code",
   "execution_count": 11,
   "id": "6942c91c",
   "metadata": {
    "execution": {
     "iopub.execute_input": "2025-09-18T14:33:56.577664Z",
     "iopub.status.busy": "2025-09-18T14:33:56.577482Z",
     "iopub.status.idle": "2025-09-18T14:33:56.599180Z",
     "shell.execute_reply": "2025-09-18T14:33:56.598507Z"
    }
   },
   "outputs": [],
   "source": [
    "for item in (\n",
    "    speos.client.scenes().list()\n",
    "    + speos.client.simulation_templates().list()\n",
    "    + speos.client.sensor_templates().list()\n",
    "    + speos.client.source_templates().list()\n",
    "    + speos.client.intensity_templates().list()\n",
    "    + speos.client.spectrums().list()\n",
    "    + speos.client.vop_templates().list()\n",
    "    + speos.client.sop_templates().list()\n",
    "    + speos.client.parts().list()\n",
    "    + speos.client.bodies().list()\n",
    "    + speos.client.faces().list()\n",
    "):\n",
    "    item.delete()"
   ]
  },
  {
   "cell_type": "code",
   "execution_count": 12,
   "id": "edb0343d",
   "metadata": {
    "execution": {
     "iopub.execute_input": "2025-09-18T14:33:56.600970Z",
     "iopub.status.busy": "2025-09-18T14:33:56.600769Z",
     "iopub.status.idle": "2025-09-18T14:33:56.604852Z",
     "shell.execute_reply": "2025-09-18T14:33:56.604316Z"
    }
   },
   "outputs": [
    {
     "data": {
      "text/plain": [
       "True"
      ]
     },
     "execution_count": 12,
     "metadata": {},
     "output_type": "execute_result"
    }
   ],
   "source": [
    "speos.close()"
   ]
  }
 ],
 "metadata": {
  "jupytext": {
   "cell_metadata_filter": "-all",
   "main_language": "python",
   "notebook_metadata_filter": "-all",
   "text_representation": {
    "extension": ".py",
    "format_name": "light"
   }
  },
  "language_info": {
   "codemirror_mode": {
    "name": "ipython",
    "version": 3
   },
   "file_extension": ".py",
   "mimetype": "text/x-python",
   "name": "python",
   "nbconvert_exporter": "python",
   "pygments_lexer": "ipython3",
   "version": "3.10.18"
  }
 },
 "nbformat": 4,
 "nbformat_minor": 5
}
