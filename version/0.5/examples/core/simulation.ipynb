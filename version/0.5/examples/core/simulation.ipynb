{
 "cells": [
  {
   "cell_type": "markdown",
   "id": "9dd0e9eb",
   "metadata": {},
   "source": [
    "# How to create a simulation"
   ]
  },
  {
   "cell_type": "markdown",
   "id": "fbdefaf4",
   "metadata": {},
   "source": [
    "This tutorial demonstrates how to create a simulation.\n",
    "\n",
    "## What is a simulation?\n",
    "\n",
    "A simulation contains selected sensors, sources to model ray-trace in space.\n",
    "\n",
    "## Prerequisites\n",
    "\n",
    "### Perform imports"
   ]
  },
  {
   "cell_type": "code",
   "execution_count": 1,
   "id": "ad03d20e",
   "metadata": {
    "execution": {
     "iopub.execute_input": "2025-06-17T07:16:01.063809Z",
     "iopub.status.busy": "2025-06-17T07:16:01.063616Z",
     "iopub.status.idle": "2025-06-17T07:16:01.909994Z",
     "shell.execute_reply": "2025-06-17T07:16:01.909207Z"
    }
   },
   "outputs": [],
   "source": [
    "from pathlib import Path\n",
    "\n",
    "from ansys.speos.core import Project, Speos, launcher\n",
    "from ansys.speos.core.simulation import SimulationInteractive, SimulationInverse\n"
   ]
  },
  {
   "cell_type": "markdown",
   "id": "5e6ca7f2",
   "metadata": {},
   "source": [
    "### Define constants\n",
    "\n",
    "The constants help ensure consistency and avoid repetition throughout the example."
   ]
  },
  {
   "cell_type": "code",
   "execution_count": 2,
   "id": "4562f95b",
   "metadata": {
    "execution": {
     "iopub.execute_input": "2025-06-17T07:16:01.912587Z",
     "iopub.status.busy": "2025-06-17T07:16:01.912281Z",
     "iopub.status.idle": "2025-06-17T07:16:01.915963Z",
     "shell.execute_reply": "2025-06-17T07:16:01.915302Z"
    }
   },
   "outputs": [],
   "source": [
    "HOSTNAME = \"localhost\"\n",
    "GRPC_PORT = 50098  # Be sure the Speos GRPC Server has been started on this port.\n",
    "USE_DOCKER = True  # Set to False if you're running this example locally as a Notebook.\n",
    "SOURCE_NAME = \"Surface.1\"\n",
    "SENSOR_NAME = \"Irradiance.1\""
   ]
  },
  {
   "cell_type": "markdown",
   "id": "78f19752",
   "metadata": {},
   "source": [
    "## Model Setup\n",
    "\n",
    "### Load assets\n",
    "The assets used to run this example are available in the\n",
    "[PySpeos repository](https://github.com/ansys/pyspeos/) on GitHub.\n",
    "\n",
    "> **Note:** Make sure you\n",
    "> have downloaded simulation assets and set ``assets_data_path``\n",
    "> to point to the assets folder."
   ]
  },
  {
   "cell_type": "code",
   "execution_count": 3,
   "id": "f23385e3",
   "metadata": {
    "execution": {
     "iopub.execute_input": "2025-06-17T07:16:01.918098Z",
     "iopub.status.busy": "2025-06-17T07:16:01.917633Z",
     "iopub.status.idle": "2025-06-17T07:16:01.920913Z",
     "shell.execute_reply": "2025-06-17T07:16:01.920352Z"
    }
   },
   "outputs": [],
   "source": [
    "if USE_DOCKER:  # Running on the remote server.\n",
    "    assets_data_path = Path(\"/app\") / \"assets\"\n",
    "else:\n",
    "    assets_data_path = Path(\"/path/to/your/download/assets/directory\")"
   ]
  },
  {
   "cell_type": "markdown",
   "id": "5b78141b",
   "metadata": {},
   "source": [
    "### Connect to the RPC Server\n",
    "This Python client connects to a server where the Speos engine\n",
    "is running as a service. In this example, the server and\n",
    "client are the same machine. The launch_local_speos_rpc_method can\n",
    "be used to start a local instance of the service.."
   ]
  },
  {
   "cell_type": "code",
   "execution_count": 4,
   "id": "7451702e",
   "metadata": {
    "execution": {
     "iopub.execute_input": "2025-06-17T07:16:01.922875Z",
     "iopub.status.busy": "2025-06-17T07:16:01.922500Z",
     "iopub.status.idle": "2025-06-17T07:16:01.929208Z",
     "shell.execute_reply": "2025-06-17T07:16:01.928646Z"
    }
   },
   "outputs": [],
   "source": [
    "if USE_DOCKER:\n",
    "    speos = Speos(host=HOSTNAME, port=GRPC_PORT)\n",
    "else:\n",
    "    speos = launcher.launch_local_speos_rpc_server(port=GRPC_PORT)"
   ]
  },
  {
   "cell_type": "markdown",
   "id": "551f8e86",
   "metadata": {},
   "source": [
    "### Create a new project\n",
    "\n",
    "The only way to create a simulation using the core layer, is to create it from a\n",
    "project. The ``Project`` class is instantiated by passing a ``Speos`` instance."
   ]
  },
  {
   "cell_type": "code",
   "execution_count": 5,
   "id": "743f7489",
   "metadata": {
    "execution": {
     "iopub.execute_input": "2025-06-17T07:16:01.931204Z",
     "iopub.status.busy": "2025-06-17T07:16:01.930784Z",
     "iopub.status.idle": "2025-06-17T07:16:01.936733Z",
     "shell.execute_reply": "2025-06-17T07:16:01.936181Z"
    }
   },
   "outputs": [
    {
     "name": "stdout",
     "output_type": "stream",
     "text": [
      "{\n",
      "    \"name\": \"\",\n",
      "    \"description\": \"\",\n",
      "    \"metadata\": {},\n",
      "    \"part_guid\": \"\",\n",
      "    \"sources\": [],\n",
      "    \"sensors\": [],\n",
      "    \"simulations\": [],\n",
      "    \"materials\": [],\n",
      "    \"scenes\": []\n",
      "}\n"
     ]
    }
   ],
   "source": [
    "p = Project(speos=speos)\n",
    "print(p)"
   ]
  },
  {
   "cell_type": "markdown",
   "id": "76abea12",
   "metadata": {},
   "source": [
    "### Prepare prerequisites\n",
    "\n",
    "Create the necessary elements for a simulation: Sensor, source, root part, optical property are\n",
    "prerequisites."
   ]
  },
  {
   "cell_type": "markdown",
   "id": "0df22168",
   "metadata": {},
   "source": [
    "### Prepare the root part"
   ]
  },
  {
   "cell_type": "code",
   "execution_count": 6,
   "id": "ed65c251",
   "metadata": {
    "execution": {
     "iopub.execute_input": "2025-06-17T07:16:01.938795Z",
     "iopub.status.busy": "2025-06-17T07:16:01.938338Z",
     "iopub.status.idle": "2025-06-17T07:16:01.949292Z",
     "shell.execute_reply": "2025-06-17T07:16:01.948727Z"
    }
   },
   "outputs": [
    {
     "data": {
      "text/plain": [
       "<ansys.speos.core.part.Part at 0x7f484e4faec0>"
      ]
     },
     "execution_count": 6,
     "metadata": {},
     "output_type": "execute_result"
    }
   ],
   "source": [
    "root_part = p.create_root_part()\n",
    "body_1 = root_part.create_body(name=\"Body.1\")\n",
    "face_1 = (\n",
    "    body_1.create_face(name=\"Face.1\")\n",
    "    .set_vertices([0, 1, 2, 0, 2, 2, 1, 2, 2])\n",
    "    .set_facets([0, 1, 2])\n",
    "    .set_normals([0, 0, 1, 0, 0, 1, 0, 0, 1])\n",
    ")\n",
    "root_part.commit()"
   ]
  },
  {
   "cell_type": "markdown",
   "id": "a15ae315",
   "metadata": {},
   "source": [
    "### Prepare an optical property\n",
    "Create Optical Property"
   ]
  },
  {
   "cell_type": "code",
   "execution_count": 7,
   "id": "d59ce588",
   "metadata": {
    "execution": {
     "iopub.execute_input": "2025-06-17T07:16:01.951308Z",
     "iopub.status.busy": "2025-06-17T07:16:01.951105Z",
     "iopub.status.idle": "2025-06-17T07:16:01.955435Z",
     "shell.execute_reply": "2025-06-17T07:16:01.954889Z"
    }
   },
   "outputs": [
    {
     "data": {
      "text/plain": [
       "<ansys.speos.core.opt_prop.OptProp at 0x7f484e4fb790>"
      ]
     },
     "execution_count": 7,
     "metadata": {},
     "output_type": "execute_result"
    }
   ],
   "source": [
    "opt_prop = p.create_optical_property(\"Material.1\")\n",
    "opt_prop.set_volume_opaque().set_surface_mirror()"
   ]
  },
  {
   "cell_type": "markdown",
   "id": "d193caca",
   "metadata": {},
   "source": [
    "Choose the geometry for this optical property : Body.1"
   ]
  },
  {
   "cell_type": "code",
   "execution_count": 8,
   "id": "3df78b86",
   "metadata": {
    "execution": {
     "iopub.execute_input": "2025-06-17T07:16:01.957359Z",
     "iopub.status.busy": "2025-06-17T07:16:01.957157Z",
     "iopub.status.idle": "2025-06-17T07:16:01.963065Z",
     "shell.execute_reply": "2025-06-17T07:16:01.962378Z"
    },
    "lines_to_next_cell": 2
   },
   "outputs": [
    {
     "data": {
      "text/plain": [
       "<ansys.speos.core.opt_prop.OptProp at 0x7f484e4fb790>"
      ]
     },
     "execution_count": 8,
     "metadata": {},
     "output_type": "execute_result"
    }
   ],
   "source": [
    "opt_prop.set_geometries(geometries=[body_1])\n",
    "opt_prop.commit()"
   ]
  },
  {
   "cell_type": "markdown",
   "id": "cdd61d3d",
   "metadata": {
    "lines_to_next_cell": 2
   },
   "source": [
    "### Prepare an irradiance sensor"
   ]
  },
  {
   "cell_type": "code",
   "execution_count": 9,
   "id": "89e87d4f",
   "metadata": {
    "execution": {
     "iopub.execute_input": "2025-06-17T07:16:01.965046Z",
     "iopub.status.busy": "2025-06-17T07:16:01.964812Z",
     "iopub.status.idle": "2025-06-17T07:16:01.975853Z",
     "shell.execute_reply": "2025-06-17T07:16:01.975193Z"
    }
   },
   "outputs": [
    {
     "data": {
      "text/plain": [
       "<ansys.speos.core.sensor.SensorIrradiance at 0x7f483cf04b80>"
      ]
     },
     "execution_count": 9,
     "metadata": {},
     "output_type": "execute_result"
    }
   ],
   "source": [
    "sensor1 = p.create_sensor(name=SENSOR_NAME)\n",
    "# set type to colorimetric or spectral so that the sensor can be used both in\n",
    "# direct and inverse simulation\n",
    "sensor1.set_type_colorimetric()\n",
    "sensor1.commit()"
   ]
  },
  {
   "cell_type": "markdown",
   "id": "f75ce86a",
   "metadata": {},
   "source": [
    "### Prepare a surface source"
   ]
  },
  {
   "cell_type": "code",
   "execution_count": 10,
   "id": "392ac6ed",
   "metadata": {
    "execution": {
     "iopub.execute_input": "2025-06-17T07:16:01.978003Z",
     "iopub.status.busy": "2025-06-17T07:16:01.977623Z",
     "iopub.status.idle": "2025-06-17T07:16:01.987571Z",
     "shell.execute_reply": "2025-06-17T07:16:01.987003Z"
    }
   },
   "outputs": [
    {
     "data": {
      "text/plain": [
       "<ansys.speos.core.source.SourceSurface at 0x7f483cf05c30>"
      ]
     },
     "execution_count": 10,
     "metadata": {},
     "output_type": "execute_result"
    }
   ],
   "source": [
    "source1 = p.create_source(name=SOURCE_NAME)\n",
    "source1.set_exitance_constant(geometries=[(face_1, True)])\n",
    "# define a spectrum which is not monochromatic so it can be used in both direct and inverse\n",
    "# simulation\n",
    "source1.set_spectrum().set_blackbody()\n",
    "source1.commit()"
   ]
  },
  {
   "cell_type": "markdown",
   "id": "ade253d2",
   "metadata": {},
   "source": [
    "## Create a simulation"
   ]
  },
  {
   "cell_type": "code",
   "execution_count": 11,
   "id": "98dd843d",
   "metadata": {
    "execution": {
     "iopub.execute_input": "2025-06-17T07:16:01.989406Z",
     "iopub.status.busy": "2025-06-17T07:16:01.989217Z",
     "iopub.status.idle": "2025-06-17T07:16:02.011772Z",
     "shell.execute_reply": "2025-06-17T07:16:02.011178Z"
    },
    "lines_to_next_cell": 2
   },
   "outputs": [
    {
     "name": "stdout",
     "output_type": "stream",
     "text": [
      "local: {\n",
      "    \"name\": \"Simulation.1\",\n",
      "    \"sensor_paths\": [\n",
      "        \"Irradiance.1\"\n",
      "    ],\n",
      "    \"source_paths\": [\n",
      "        \"Surface.1\"\n",
      "    ],\n",
      "    \"description\": \"\",\n",
      "    \"metadata\": {},\n",
      "    \"simulation_guid\": \"\",\n",
      "    \"simulation\": {\n",
      "        \"direct_mc_simulation_template\": {\n",
      "            \"geom_distance_tolerance\": 0.01,\n",
      "            \"max_impact\": 100,\n",
      "            \"weight\": {\n",
      "                \"minimum_energy_percentage\": 0.005\n",
      "            },\n",
      "            \"dispersion\": true,\n",
      "            \"colorimetric_standard\": \"CIE_1931\",\n",
      "            \"fast_transmission_gathering\": false,\n",
      "            \"ambient_material_uri\": \"\",\n",
      "            \"stop_condition_rays_number\": \"200000\",\n",
      "            \"automatic_save_frequency\": 1800\n",
      "        },\n",
      "        \"name\": \"Simulation.1\",\n",
      "        \"description\": \"\",\n",
      "        \"metadata\": {},\n",
      "        \"scene_guid\": \"5cb62a3b-6ea6-4c3a-88ac-597c5f76ce46\",\n",
      "        \"simulation_path\": \"Simulation.1\",\n",
      "        \"job_type\": \"CPU\"\n",
      "    }\n",
      "}\n",
      "{\n",
      "    \"name\": \"Simulation.1\",\n",
      "    \"metadata\": {\n",
      "        \"UniqueId\": \"116ec9db-3189-48fe-9fe5-77b7f5bd5f21\"\n",
      "    },\n",
      "    \"simulation_guid\": \"f29df5dc-b738-4fa6-8cfa-e86d005d86eb\",\n",
      "    \"sensor_paths\": [\n",
      "        \"Irradiance.1\"\n",
      "    ],\n",
      "    \"source_paths\": [\n",
      "        \"Surface.1\"\n",
      "    ],\n",
      "    \"description\": \"\",\n",
      "    \"simulation\": {\n",
      "        \"direct_mc_simulation_template\": {\n",
      "            \"geom_distance_tolerance\": 0.01,\n",
      "            \"max_impact\": 100,\n",
      "            \"weight\": {\n",
      "                \"minimum_energy_percentage\": 0.005\n",
      "            },\n",
      "            \"dispersion\": true,\n",
      "            \"colorimetric_standard\": \"CIE_1931\",\n",
      "            \"fast_transmission_gathering\": false,\n",
      "            \"ambient_material_uri\": \"\",\n",
      "            \"stop_condition_rays_number\": \"200000\",\n",
      "            \"automatic_save_frequency\": 1800\n",
      "        },\n",
      "        \"name\": \"Simulation.1\",\n",
      "        \"description\": \"\",\n",
      "        \"metadata\": {},\n",
      "        \"scene_guid\": \"5cb62a3b-6ea6-4c3a-88ac-597c5f76ce46\",\n",
      "        \"simulation_path\": \"Simulation.1\",\n",
      "        \"job_type\": \"CPU\"\n",
      "    }\n",
      "}\n"
     ]
    }
   ],
   "source": [
    "simulation1 = p.create_simulation(name=\"Simulation.1\")\n",
    "simulation1.set_sensor_paths([SENSOR_NAME]).set_source_paths([SOURCE_NAME])\n",
    "print(simulation1)\n",
    "simulation1.commit()\n",
    "print(simulation1)"
   ]
  },
  {
   "cell_type": "markdown",
   "id": "af4e0ceb",
   "metadata": {
    "lines_to_next_cell": 2
   },
   "source": [
    "### Set simulation characteristics\n",
    "\n",
    "Simulation is defined with the same default values as the GUI speos.\n",
    "\n",
    "If the user would like to modify the simulation characteristics,\n",
    "it is possible to do so by setting the simulation characteristics as below."
   ]
  },
  {
   "cell_type": "code",
   "execution_count": 12,
   "id": "107213b5",
   "metadata": {
    "execution": {
     "iopub.execute_input": "2025-06-17T07:16:02.013908Z",
     "iopub.status.busy": "2025-06-17T07:16:02.013507Z",
     "iopub.status.idle": "2025-06-17T07:16:02.049315Z",
     "shell.execute_reply": "2025-06-17T07:16:02.048558Z"
    },
    "lines_to_next_cell": 2
   },
   "outputs": [
    {
     "name": "stdout",
     "output_type": "stream",
     "text": [
      "{\n",
      "    \"name\": \"Simulation.2\",\n",
      "    \"metadata\": {\n",
      "        \"UniqueId\": \"d92caf99-86ba-49a6-adcd-7104aa60787b\"\n",
      "    },\n",
      "    \"simulation_guid\": \"1ab128ab-2aa4-4e66-bce3-0b08449df4c8\",\n",
      "    \"sensor_paths\": [\n",
      "        \"Irradiance.1\"\n",
      "    ],\n",
      "    \"source_paths\": [\n",
      "        \"Surface.1\"\n",
      "    ],\n",
      "    \"description\": \"\",\n",
      "    \"simulation\": {\n",
      "        \"direct_mc_simulation_template\": {\n",
      "            \"geom_distance_tolerance\": 0.01,\n",
      "            \"max_impact\": 200,\n",
      "            \"colorimetric_standard\": \"CIE_1964\",\n",
      "            \"ambient_material_uri\": \"/app/assets/AIR.material\",\n",
      "            \"dispersion\": false,\n",
      "            \"fast_transmission_gathering\": false,\n",
      "            \"stop_condition_rays_number\": \"200000\",\n",
      "            \"automatic_save_frequency\": 1800\n",
      "        },\n",
      "        \"name\": \"Simulation.2\",\n",
      "        \"description\": \"\",\n",
      "        \"metadata\": {},\n",
      "        \"scene_guid\": \"5cb62a3b-6ea6-4c3a-88ac-597c5f76ce46\",\n",
      "        \"simulation_path\": \"Simulation.2\",\n",
      "        \"job_type\": \"CPU\"\n",
      "    }\n",
      "}\n"
     ]
    }
   ],
   "source": [
    "simulation2_direct = p.create_simulation(name=\"Simulation.2\")\n",
    "simulation2_direct.set_ambient_material_file_uri(\n",
    "    uri=str(assets_data_path / \"AIR.material\")\n",
    ").set_colorimetric_standard_CIE_1964().set_weight_none().set_geom_distance_tolerance(\n",
    "    0.01\n",
    ").set_max_impact(200).set_dispersion(False)\n",
    "simulation2_direct.set_sensor_paths([SENSOR_NAME]).set_source_paths([SOURCE_NAME]).commit()\n",
    "print(simulation2_direct)"
   ]
  },
  {
   "cell_type": "markdown",
   "id": "36ee38ba",
   "metadata": {},
   "source": [
    "### Read information\n",
    "\n",
    "Read simulation information"
   ]
  },
  {
   "cell_type": "code",
   "execution_count": 13,
   "id": "01184c37",
   "metadata": {
    "execution": {
     "iopub.execute_input": "2025-06-17T07:16:02.051618Z",
     "iopub.status.busy": "2025-06-17T07:16:02.051223Z",
     "iopub.status.idle": "2025-06-17T07:16:02.058585Z",
     "shell.execute_reply": "2025-06-17T07:16:02.058028Z"
    }
   },
   "outputs": [
    {
     "name": "stdout",
     "output_type": "stream",
     "text": [
      "{\n",
      "    \"name\": \"Simulation.1\",\n",
      "    \"metadata\": {\n",
      "        \"UniqueId\": \"116ec9db-3189-48fe-9fe5-77b7f5bd5f21\"\n",
      "    },\n",
      "    \"simulation_guid\": \"f29df5dc-b738-4fa6-8cfa-e86d005d86eb\",\n",
      "    \"sensor_paths\": [\n",
      "        \"Irradiance.1\"\n",
      "    ],\n",
      "    \"source_paths\": [\n",
      "        \"Surface.1\"\n",
      "    ],\n",
      "    \"description\": \"\",\n",
      "    \"simulation\": {\n",
      "        \"direct_mc_simulation_template\": {\n",
      "            \"geom_distance_tolerance\": 0.01,\n",
      "            \"max_impact\": 100,\n",
      "            \"weight\": {\n",
      "                \"minimum_energy_percentage\": 0.005\n",
      "            },\n",
      "            \"dispersion\": true,\n",
      "            \"colorimetric_standard\": \"CIE_1931\",\n",
      "            \"fast_transmission_gathering\": false,\n",
      "            \"ambient_material_uri\": \"\",\n",
      "            \"stop_condition_rays_number\": \"200000\",\n",
      "            \"automatic_save_frequency\": 1800\n",
      "        },\n",
      "        \"name\": \"Simulation.1\",\n",
      "        \"description\": \"\",\n",
      "        \"metadata\": {},\n",
      "        \"scene_guid\": \"5cb62a3b-6ea6-4c3a-88ac-597c5f76ce46\",\n",
      "        \"simulation_path\": \"Simulation.1\",\n",
      "        \"job_type\": \"CPU\"\n",
      "    }\n",
      "}\n"
     ]
    }
   ],
   "source": [
    "print(simulation1)"
   ]
  },
  {
   "cell_type": "markdown",
   "id": "6802b9df",
   "metadata": {},
   "source": [
    "Read project information"
   ]
  },
  {
   "cell_type": "code",
   "execution_count": 14,
   "id": "d402fb11",
   "metadata": {
    "execution": {
     "iopub.execute_input": "2025-06-17T07:16:02.060596Z",
     "iopub.status.busy": "2025-06-17T07:16:02.060383Z",
     "iopub.status.idle": "2025-06-17T07:16:02.081324Z",
     "shell.execute_reply": "2025-06-17T07:16:02.080603Z"
    }
   },
   "outputs": [
    {
     "name": "stdout",
     "output_type": "stream",
     "text": [
      "{\n",
      "    \"part_guid\": \"724a16fa-1192-4d54-8891-9a28b555d58b\",\n",
      "    \"sources\": [\n",
      "        {\n",
      "            \"name\": \"Surface.1\",\n",
      "            \"metadata\": {\n",
      "                \"UniqueId\": \"e07ede7d-d8e1-410e-b855-1a27e8db9dac\"\n",
      "            },\n",
      "            \"source_guid\": \"1e1af1ea-8f4e-4d97-a26d-4ce578fb1304\",\n",
      "            \"description\": \"\",\n",
      "            \"source\": {\n",
      "                \"name\": \"Surface.1\",\n",
      "                \"surface\": {\n",
      "                    \"luminous_flux\": {\n",
      "                        \"luminous_value\": 683.0\n",
      "                    },\n",
      "                    \"intensity_guid\": \"b0994d6b-0766-4021-81d6-52a73cf643c2\",\n",
      "                    \"exitance_constant\": {\n",
      "                        \"geo_paths\": [\n",
      "                            {\n",
      "                                \"geo_path\": \"Body.1/Face.1\",\n",
      "                                \"reverse_normal\": true\n",
      "                            }\n",
      "                        ]\n",
      "                    },\n",
      "                    \"spectrum_guid\": \"28b5598f-02a5-4de0-8f94-4f992a8d02e8\",\n",
      "                    \"intensity\": {\n",
      "                        \"name\": \"Surface.1.Intensity\",\n",
      "                        \"cos\": {\n",
      "                            \"N\": 1.0,\n",
      "                            \"total_angle\": 180.0\n",
      "                        },\n",
      "                        \"description\": \"\",\n",
      "                        \"metadata\": {}\n",
      "                    },\n",
      "                    \"spectrum\": {\n",
      "                        \"name\": \"Surface.1.Spectrum\",\n",
      "                        \"blackbody\": {\n",
      "                            \"temperature\": 2856.0\n",
      "                        },\n",
      "                        \"description\": \"\",\n",
      "                        \"metadata\": {}\n",
      "                    }\n",
      "                },\n",
      "                \"description\": \"\",\n",
      "                \"metadata\": {}\n",
      "            }\n",
      "        }\n",
      "    ],\n",
      "    \"sensors\": [\n",
      "        {\n",
      "            \"name\": \"Irradiance.1\",\n",
      "            \"metadata\": {\n",
      "                \"UniqueId\": \"18f75eb7-8129-419c-937a-f95c95eab37b\"\n",
      "            },\n",
      "            \"sensor_guid\": \"fece0bd5-300a-41f5-b4da-34d100c4edf5\",\n",
      "            \"description\": \"\",\n",
      "            \"result_file_name\": \"\",\n",
      "            \"sensor\": {\n",
      "                \"irradiance_sensor_template\": {\n",
      "                    \"sensor_type_colorimetric\": {\n",
      "                        \"wavelengths_range\": {\n",
      "                            \"w_start\": 400.0,\n",
      "                            \"w_end\": 700.0,\n",
      "                            \"w_sampling\": 13\n",
      "                        }\n",
      "                    },\n",
      "                    \"illuminance_type_planar\": {},\n",
      "                    \"dimensions\": {\n",
      "                        \"x_start\": -50.0,\n",
      "                        \"x_end\": 50.0,\n",
      "                        \"x_sampling\": 100,\n",
      "                        \"y_start\": -50.0,\n",
      "                        \"y_end\": 50.0,\n",
      "                        \"y_sampling\": 100\n",
      "                    },\n",
      "                    \"axis_system\": [\n",
      "                        0.0,\n",
      "                        0.0,\n",
      "                        0.0,\n",
      "                        1.0,\n",
      "                        0.0,\n",
      "                        0.0,\n",
      "                        0.0,\n",
      "                        1.0,\n",
      "                        0.0,\n",
      "                        0.0,\n",
      "                        0.0,\n",
      "                        1.0\n",
      "                    ],\n",
      "                    \"layer_type_none\": {},\n",
      "                    \"ray_file_type\": \"RayFileNone\",\n",
      "                    \"integration_direction\": []\n",
      "                },\n",
      "                \"name\": \"Irradiance.1\",\n",
      "                \"description\": \"\",\n",
      "                \"metadata\": {}\n",
      "            }\n",
      "        }\n",
      "    ],\n",
      "    \"simulations\": [\n",
      "        {\n",
      "            \"name\": \"Simulation.1\",\n",
      "            \"metadata\": {\n",
      "                \"UniqueId\": \"116ec9db-3189-48fe-9fe5-77b7f5bd5f21\"\n",
      "            },\n",
      "            \"simulation_guid\": \"f29df5dc-b738-4fa6-8cfa-e86d005d86eb\",\n",
      "            \"sensor_paths\": [\n",
      "                \"Irradiance.1\"\n",
      "            ],\n",
      "            \"source_paths\": [\n",
      "                \"Surface.1\"\n",
      "            ],\n",
      "            \"description\": \"\",\n",
      "            \"simulation\": {\n",
      "                \"direct_mc_simulation_template\": {\n",
      "                    \"geom_distance_tolerance\": 0.01,\n",
      "                    \"max_impact\": 100,\n",
      "                    \"weight\": {\n",
      "                        \"minimum_energy_percentage\": 0.005\n",
      "                    },\n",
      "                    \"dispersion\": true,\n",
      "                    \"colorimetric_standard\": \"CIE_1931\",\n",
      "                    \"fast_transmission_gathering\": false,\n",
      "                    \"ambient_material_uri\": \"\",\n",
      "                    \"stop_condition_rays_number\": \"200000\",\n",
      "                    \"automatic_save_frequency\": 1800\n",
      "                },\n",
      "                \"name\": \"Simulation.1\",\n",
      "                \"description\": \"\",\n",
      "                \"metadata\": {},\n",
      "                \"scene_guid\": \"5cb62a3b-6ea6-4c3a-88ac-597c5f76ce46\",\n",
      "                \"simulation_path\": \"Simulation.1\",\n",
      "                \"job_type\": \"CPU\"\n",
      "            }\n",
      "        },\n",
      "        {\n",
      "            \"name\": \"Simulation.2\",\n",
      "            \"metadata\": {\n",
      "                \"UniqueId\": \"d92caf99-86ba-49a6-adcd-7104aa60787b\"\n",
      "            },\n",
      "            \"simulation_guid\": \"1ab128ab-2aa4-4e66-bce3-0b08449df4c8\",\n",
      "            \"sensor_paths\": [\n",
      "                \"Irradiance.1\"\n",
      "            ],\n",
      "            \"source_paths\": [\n",
      "                \"Surface.1\"\n",
      "            ],\n",
      "            \"description\": \"\",\n",
      "            \"simulation\": {\n",
      "                \"direct_mc_simulation_template\": {\n",
      "                    \"geom_distance_tolerance\": 0.01,\n",
      "                    \"max_impact\": 200,\n",
      "                    \"colorimetric_standard\": \"CIE_1964\",\n",
      "                    \"ambient_material_uri\": \"/app/assets/AIR.material\",\n",
      "                    \"dispersion\": false,\n",
      "                    \"fast_transmission_gathering\": false,\n",
      "                    \"stop_condition_rays_number\": \"200000\",\n",
      "                    \"automatic_save_frequency\": 1800\n",
      "                },\n",
      "                \"name\": \"Simulation.2\",\n",
      "                \"description\": \"\",\n",
      "                \"metadata\": {},\n",
      "                \"scene_guid\": \"5cb62a3b-6ea6-4c3a-88ac-597c5f76ce46\",\n",
      "                \"simulation_path\": \"Simulation.2\",\n",
      "                \"job_type\": \"CPU\"\n",
      "            }\n",
      "        }\n",
      "    ],\n",
      "    \"materials\": [\n",
      "        {\n",
      "            \"name\": \"Material.1\",\n",
      "            \"metadata\": {\n",
      "                \"UniqueId\": \"6216d20c-f840-4647-b2c0-aed20a1d360c\"\n",
      "            },\n",
      "            \"vop_guid\": \"d06067f8-3f61-44af-a524-d9dee6dba7f5\",\n",
      "            \"sop_guids\": [\n",
      "                \"1779563a-df2b-4ff3-ab94-4aff3857da76\"\n",
      "            ],\n",
      "            \"geometries\": {\n",
      "                \"geo_paths\": [\n",
      "                    \"Body.1\"\n",
      "                ]\n",
      "            },\n",
      "            \"description\": \"\",\n",
      "            \"vop\": {\n",
      "                \"name\": \"Material.1.VOP\",\n",
      "                \"opaque\": {},\n",
      "                \"description\": \"\",\n",
      "                \"metadata\": {}\n",
      "            },\n",
      "            \"sops\": [\n",
      "                {\n",
      "                    \"name\": \"Material.1.SOP\",\n",
      "                    \"mirror\": {\n",
      "                        \"reflectance\": 100.0\n",
      "                    },\n",
      "                    \"description\": \"\",\n",
      "                    \"metadata\": {}\n",
      "                }\n",
      "            ]\n",
      "        }\n",
      "    ],\n",
      "    \"name\": \"\",\n",
      "    \"description\": \"\",\n",
      "    \"metadata\": {},\n",
      "    \"scenes\": []\n",
      "}\n"
     ]
    }
   ],
   "source": [
    "print(p)"
   ]
  },
  {
   "cell_type": "markdown",
   "id": "49ce40f2",
   "metadata": {},
   "source": [
    "## Update simulation settings\n",
    "\n",
    "If you are manipulating a simulation already committed, remember to commit your changes.\n",
    "\n",
    "If you don't, you will still only watch what is committed on the server."
   ]
  },
  {
   "cell_type": "code",
   "execution_count": 15,
   "id": "3619ce51",
   "metadata": {
    "execution": {
     "iopub.execute_input": "2025-06-17T07:16:02.083750Z",
     "iopub.status.busy": "2025-06-17T07:16:02.083242Z",
     "iopub.status.idle": "2025-06-17T07:16:02.092513Z",
     "shell.execute_reply": "2025-06-17T07:16:02.091951Z"
    },
    "lines_to_next_cell": 2
   },
   "outputs": [
    {
     "name": "stdout",
     "output_type": "stream",
     "text": [
      "{\n",
      "    \"name\": \"Simulation.1\",\n",
      "    \"metadata\": {\n",
      "        \"UniqueId\": \"116ec9db-3189-48fe-9fe5-77b7f5bd5f21\"\n",
      "    },\n",
      "    \"simulation_guid\": \"f29df5dc-b738-4fa6-8cfa-e86d005d86eb\",\n",
      "    \"sensor_paths\": [\n",
      "        \"Irradiance.1\"\n",
      "    ],\n",
      "    \"source_paths\": [\n",
      "        \"Surface.1\"\n",
      "    ],\n",
      "    \"description\": \"\",\n",
      "    \"simulation\": {\n",
      "        \"direct_mc_simulation_template\": {\n",
      "            \"geom_distance_tolerance\": 0.01,\n",
      "            \"max_impact\": 100,\n",
      "            \"weight\": {\n",
      "                \"minimum_energy_percentage\": 0.005\n",
      "            },\n",
      "            \"dispersion\": true,\n",
      "            \"ambient_material_uri\": \"/app/assets/AIR.material\",\n",
      "            \"colorimetric_standard\": \"CIE_1931\",\n",
      "            \"fast_transmission_gathering\": false,\n",
      "            \"stop_condition_rays_number\": \"200000\",\n",
      "            \"automatic_save_frequency\": 1800\n",
      "        },\n",
      "        \"name\": \"Simulation.1\",\n",
      "        \"description\": \"\",\n",
      "        \"metadata\": {},\n",
      "        \"scene_guid\": \"5cb62a3b-6ea6-4c3a-88ac-597c5f76ce46\",\n",
      "        \"simulation_path\": \"Simulation.1\",\n",
      "        \"job_type\": \"CPU\"\n",
      "    }\n",
      "}\n"
     ]
    }
   ],
   "source": [
    "simulation1.set_ambient_material_file_uri(uri=str(assets_data_path / \"AIR.material\"))\n",
    "simulation1.commit()\n",
    "print(simulation1)"
   ]
  },
  {
   "cell_type": "markdown",
   "id": "10e7390a",
   "metadata": {},
   "source": [
    "## Reset\n",
    "\n",
    "Possibility to reset local values from the one available in the server."
   ]
  },
  {
   "cell_type": "code",
   "execution_count": 16,
   "id": "5f403d13",
   "metadata": {
    "execution": {
     "iopub.execute_input": "2025-06-17T07:16:02.094784Z",
     "iopub.status.busy": "2025-06-17T07:16:02.094382Z",
     "iopub.status.idle": "2025-06-17T07:16:02.113682Z",
     "shell.execute_reply": "2025-06-17T07:16:02.113024Z"
    },
    "lines_to_next_cell": 2
   },
   "outputs": [
    {
     "name": "stdout",
     "output_type": "stream",
     "text": [
      "local: {\n",
      "    \"name\": \"Simulation.1\",\n",
      "    \"sensor_paths\": [\n",
      "        \"Irradiance.1\"\n",
      "    ],\n",
      "    \"source_paths\": [\n",
      "        \"Surface.1\"\n",
      "    ],\n",
      "    \"description\": \"\",\n",
      "    \"metadata\": {},\n",
      "    \"simulation_guid\": \"\",\n",
      "    \"simulation\": {\n",
      "        \"direct_mc_simulation_template\": {\n",
      "            \"geom_distance_tolerance\": 0.01,\n",
      "            \"max_impact\": 100,\n",
      "            \"weight\": {\n",
      "                \"minimum_energy_percentage\": 0.005\n",
      "            },\n",
      "            \"dispersion\": true,\n",
      "            \"ambient_material_uri\": \"/app/assets/AIR.material\",\n",
      "            \"colorimetric_standard\": \"CIE_1931\",\n",
      "            \"fast_transmission_gathering\": false,\n",
      "            \"stop_condition_rays_number\": \"200000\",\n",
      "            \"automatic_save_frequency\": 1800\n",
      "        },\n",
      "        \"name\": \"Simulation.1\",\n",
      "        \"description\": \"\",\n",
      "        \"metadata\": {},\n",
      "        \"scene_guid\": \"5cb62a3b-6ea6-4c3a-88ac-597c5f76ce46\",\n",
      "        \"simulation_path\": \"Simulation.1\",\n",
      "        \"job_type\": \"CPU\"\n",
      "    }\n",
      "}\n"
     ]
    }
   ],
   "source": [
    "simulation1.set_max_impact(1000)  # adjust max impact but no commit\n",
    "simulation1.reset()  # reset -> this will apply the server value to the local value\n",
    "simulation1.delete()  # delete (to display the local value with the below print)\n",
    "print(simulation1)"
   ]
  },
  {
   "cell_type": "markdown",
   "id": "df3649e9",
   "metadata": {},
   "source": [
    "## Other simulation examples\n",
    "\n",
    "### Inverse simulation"
   ]
  },
  {
   "cell_type": "code",
   "execution_count": 17,
   "id": "3eb29adb",
   "metadata": {
    "execution": {
     "iopub.execute_input": "2025-06-17T07:16:02.116105Z",
     "iopub.status.busy": "2025-06-17T07:16:02.115668Z",
     "iopub.status.idle": "2025-06-17T07:16:02.151245Z",
     "shell.execute_reply": "2025-06-17T07:16:02.150494Z"
    }
   },
   "outputs": [
    {
     "name": "stdout",
     "output_type": "stream",
     "text": [
      "{\n",
      "    \"name\": \"Simulation.3\",\n",
      "    \"metadata\": {\n",
      "        \"UniqueId\": \"06a2aa2f-b74e-40c3-9f35-16efa32ccb7f\"\n",
      "    },\n",
      "    \"simulation_guid\": \"c1cd5a47-f6ce-4ffa-82aa-bdf6e6f3c139\",\n",
      "    \"sensor_paths\": [\n",
      "        \"Irradiance.1\"\n",
      "    ],\n",
      "    \"source_paths\": [\n",
      "        \"Surface.1\"\n",
      "    ],\n",
      "    \"description\": \"\",\n",
      "    \"simulation\": {\n",
      "        \"inverse_mc_simulation_template\": {\n",
      "            \"geom_distance_tolerance\": 0.01,\n",
      "            \"max_impact\": 100,\n",
      "            \"weight\": {\n",
      "                \"minimum_energy_percentage\": 0.005\n",
      "            },\n",
      "            \"number_of_gathering_rays_per_source\": 1,\n",
      "            \"colorimetric_standard\": \"CIE_1931\",\n",
      "            \"dispersion\": false,\n",
      "            \"splitting\": false,\n",
      "            \"maximum_gathering_error\": 0,\n",
      "            \"maximum_gathering_error_percentage\": 0.0,\n",
      "            \"fast_transmission_gathering\": false,\n",
      "            \"ambient_material_uri\": \"\",\n",
      "            \"optimized_propagation_none\": {\n",
      "                \"stop_condition_passes_number\": 5\n",
      "            },\n",
      "            \"automatic_save_frequency\": 1800\n",
      "        },\n",
      "        \"name\": \"Simulation.3\",\n",
      "        \"description\": \"\",\n",
      "        \"metadata\": {},\n",
      "        \"scene_guid\": \"5cb62a3b-6ea6-4c3a-88ac-597c5f76ce46\",\n",
      "        \"simulation_path\": \"Simulation.3\",\n",
      "        \"job_type\": \"CPU\"\n",
      "    }\n",
      "}\n"
     ]
    }
   ],
   "source": [
    "simulation3 = p.create_simulation(name=\"Simulation.3\", feature_type=SimulationInverse)\n",
    "simulation3.set_sensor_paths(sensor_paths=[SENSOR_NAME]).set_source_paths(\n",
    "    source_paths=[SOURCE_NAME]\n",
    ").commit()\n",
    "print(simulation3)"
   ]
  },
  {
   "cell_type": "markdown",
   "id": "d9b610d6",
   "metadata": {},
   "source": [
    "### Interactive simulation"
   ]
  },
  {
   "cell_type": "code",
   "execution_count": 18,
   "id": "f0b98b37",
   "metadata": {
    "execution": {
     "iopub.execute_input": "2025-06-17T07:16:02.153324Z",
     "iopub.status.busy": "2025-06-17T07:16:02.153111Z",
     "iopub.status.idle": "2025-06-17T07:16:02.199396Z",
     "shell.execute_reply": "2025-06-17T07:16:02.198705Z"
    }
   },
   "outputs": [
    {
     "name": "stdout",
     "output_type": "stream",
     "text": [
      "{\n",
      "    \"name\": \"Simulation.4\",\n",
      "    \"metadata\": {\n",
      "        \"UniqueId\": \"8f088a15-89ac-4a84-8020-eca8b6adb4b8\"\n",
      "    },\n",
      "    \"simulation_guid\": \"3dcbe567-db23-430b-a377-0707ebb13e8b\",\n",
      "    \"source_paths\": [\n",
      "        \"Surface.1\"\n",
      "    ],\n",
      "    \"description\": \"\",\n",
      "    \"sensor_paths\": [],\n",
      "    \"simulation\": {\n",
      "        \"name\": \"Simulation.4\",\n",
      "        \"interactive_simulation_template\": {\n",
      "            \"geom_distance_tolerance\": 0.01,\n",
      "            \"max_impact\": 100,\n",
      "            \"weight\": {\n",
      "                \"minimum_energy_percentage\": 0.005\n",
      "            },\n",
      "            \"colorimetric_standard\": \"CIE_1931\",\n",
      "            \"ambient_material_uri\": \"\",\n",
      "            \"rays_number_per_sources\": [],\n",
      "            \"light_expert\": false,\n",
      "            \"impact_report\": false\n",
      "        },\n",
      "        \"description\": \"\",\n",
      "        \"metadata\": {},\n",
      "        \"scene_guid\": \"5cb62a3b-6ea6-4c3a-88ac-597c5f76ce46\",\n",
      "        \"simulation_path\": \"Simulation.4\",\n",
      "        \"job_type\": \"CPU\"\n",
      "    }\n",
      "}\n"
     ]
    }
   ],
   "source": [
    "simulation4 = p.create_simulation(name=\"Simulation.4\", feature_type=SimulationInteractive)\n",
    "simulation4.set_source_paths(source_paths=[SOURCE_NAME]).commit()\n",
    "print(simulation4)"
   ]
  },
  {
   "cell_type": "code",
   "execution_count": 19,
   "id": "6ac1d70d",
   "metadata": {
    "execution": {
     "iopub.execute_input": "2025-06-17T07:16:02.201599Z",
     "iopub.status.busy": "2025-06-17T07:16:02.201206Z",
     "iopub.status.idle": "2025-06-17T07:16:02.206157Z",
     "shell.execute_reply": "2025-06-17T07:16:02.205492Z"
    }
   },
   "outputs": [
    {
     "data": {
      "text/plain": [
       "True"
      ]
     },
     "execution_count": 19,
     "metadata": {},
     "output_type": "execute_result"
    }
   ],
   "source": [
    "speos.close()"
   ]
  }
 ],
 "metadata": {
  "jupytext": {
   "cell_metadata_filter": "-all",
   "main_language": "python",
   "notebook_metadata_filter": "-all",
   "text_representation": {
    "extension": ".py",
    "format_name": "light"
   }
  },
  "language_info": {
   "codemirror_mode": {
    "name": "ipython",
    "version": 3
   },
   "file_extension": ".py",
   "mimetype": "text/x-python",
   "name": "python",
   "nbconvert_exporter": "python",
   "pygments_lexer": "ipython3",
   "version": "3.10.17"
  }
 },
 "nbformat": 4,
 "nbformat_minor": 5
}
