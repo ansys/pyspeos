{
 "cells": [
  {
   "cell_type": "markdown",
   "id": "e48f25b5",
   "metadata": {},
   "source": [
    "# How to create a anisotropic bsdf file"
   ]
  },
  {
   "cell_type": "markdown",
   "id": "e1a8b999",
   "metadata": {},
   "source": [
    "This tutorial demonstrates how to create bsdf file using pyspeos"
   ]
  },
  {
   "cell_type": "markdown",
   "id": "b41bd482",
   "metadata": {},
   "source": [
    "## What is a BSDF"
   ]
  },
  {
   "cell_type": "markdown",
   "id": "9b0ab615",
   "metadata": {},
   "source": [
    "BSDF stands for Bidirectional Scattering Distribution Function, which is\n",
    "a mathematical function that characterizes how light is scattered from a\n",
    "surface.\n",
    "In Speos we have two models to represent BSDF data: Spectral BSDF(*.brdf)\n",
    "and Anisotropic BSDF (*.anisotropicbsdf).\n",
    "The first allows for each wavelength to store a full bsdf description with\n",
    "this it allows for great color representation.\n",
    "the second uses spectral modulation to represent the color but allows for\n",
    "anisotropic behaviour by taking a BSDF for each anistropic angle.\n",
    "Both formats need an interpolation between incident/anistropic angles and wavelength\n",
    "In many cases the data comes from measurements and need coordinate transformations\n",
    "to be used"
   ]
  },
  {
   "cell_type": "markdown",
   "id": "4f84bd1e",
   "metadata": {},
   "source": [
    "## Prerequisites\n",
    "\n",
    "### Perform imports"
   ]
  },
  {
   "cell_type": "code",
   "execution_count": 1,
   "id": "0bda79b9",
   "metadata": {
    "execution": {
     "iopub.execute_input": "2025-06-17T07:13:52.272155Z",
     "iopub.status.busy": "2025-06-17T07:13:52.271753Z",
     "iopub.status.idle": "2025-06-17T07:13:53.091472Z",
     "shell.execute_reply": "2025-06-17T07:13:53.090778Z"
    }
   },
   "outputs": [],
   "source": [
    "from pathlib import Path\n",
    "\n",
    "import numpy as np\n",
    "\n",
    "from ansys.speos.core import Speos\n",
    "from ansys.speos.core.bsdf import AnisotropicBSDF, BxdfDatapoint\n",
    "from ansys.speos.core.launcher import launch_local_speos_rpc_server\n",
    "from ansys.speos.core.speos import SpeosClient\n"
   ]
  },
  {
   "cell_type": "markdown",
   "id": "f77c5bdc",
   "metadata": {},
   "source": [
    "### Define constants\n",
    "Constants help ensure consistency and avoid repetition throughout the example."
   ]
  },
  {
   "cell_type": "code",
   "execution_count": 2,
   "id": "ae3e3c3e",
   "metadata": {
    "execution": {
     "iopub.execute_input": "2025-06-17T07:13:53.094271Z",
     "iopub.status.busy": "2025-06-17T07:13:53.093736Z",
     "iopub.status.idle": "2025-06-17T07:13:53.096960Z",
     "shell.execute_reply": "2025-06-17T07:13:53.096381Z"
    }
   },
   "outputs": [],
   "source": [
    "HOSTNAME = \"localhost\"\n",
    "GRPC_PORT = 50098  # Be sure the Speos GRPC Server has been started on this port.\n",
    "USE_DOCKER = True  # Set to False if you're running this example locally as a Notebook."
   ]
  },
  {
   "cell_type": "markdown",
   "id": "05b27e9f",
   "metadata": {
    "lines_to_next_cell": 2
   },
   "source": [
    "### Define helper functions"
   ]
  },
  {
   "cell_type": "code",
   "execution_count": 3,
   "id": "9a37006a",
   "metadata": {
    "execution": {
     "iopub.execute_input": "2025-06-17T07:13:53.099118Z",
     "iopub.status.busy": "2025-06-17T07:13:53.098712Z",
     "iopub.status.idle": "2025-06-17T07:13:53.103373Z",
     "shell.execute_reply": "2025-06-17T07:13:53.102857Z"
    }
   },
   "outputs": [],
   "source": [
    "def clean_all_dbs(speos_client: SpeosClient):\n",
    "    \"\"\"Clean all database entries of a current SpeosRPC client.\n",
    "\n",
    "    Parameters\n",
    "    ----------\n",
    "    speos_client : ansys.speos.core.kernel.client.SpeosClient\n",
    "        SpeosRPC server client\n",
    "\n",
    "    Returns\n",
    "    -------\n",
    "    None\n",
    "    \"\"\"\n",
    "    for item in (\n",
    "        speos_client.jobs().list()\n",
    "        + speos_client.scenes().list()\n",
    "        + speos_client.simulation_templates().list()\n",
    "        + speos_client.sensor_templates().list()\n",
    "        + speos_client.source_templates().list()\n",
    "        + speos_client.intensity_templates().list()\n",
    "        + speos_client.spectrums().list()\n",
    "        + speos_client.vop_templates().list()\n",
    "        + speos_client.sop_templates().list()\n",
    "        + speos_client.parts().list()\n",
    "        + speos_client.bodies().list()\n",
    "        + speos_client.faces().list()\n",
    "    ):\n",
    "        item.delete()"
   ]
  },
  {
   "cell_type": "code",
   "execution_count": 4,
   "id": "bf8f336e",
   "metadata": {
    "execution": {
     "iopub.execute_input": "2025-06-17T07:13:53.105353Z",
     "iopub.status.busy": "2025-06-17T07:13:53.104966Z",
     "iopub.status.idle": "2025-06-17T07:13:53.110006Z",
     "shell.execute_reply": "2025-06-17T07:13:53.109453Z"
    }
   },
   "outputs": [],
   "source": [
    "def create_lambertian_bsdf(is_brdf, nb_theta=5, nb_phi=5):\n",
    "    \"\"\"\n",
    "    Create a lambertian Distribution as np.array.\n",
    "\n",
    "    Parameters\n",
    "    ----------\n",
    "    is_brdf: bool\n",
    "        True if generating brdf data, False btdf data\n",
    "    nb_theta: int\n",
    "        number of theta samplings\n",
    "    nb_phi: int\n",
    "        number of phi samplings\n",
    "\n",
    "    Returns\n",
    "    -------\n",
    "    theta: np.array,\n",
    "        shape (nb_theta, 3)\n",
    "    phi: np.array,\n",
    "        shape (nb_phi, 3)\n",
    "    brdf: np.array,\n",
    "        shape (nb_theta, nb_phi)\n",
    "\n",
    "    \"\"\"\n",
    "    thetas = np.zeros(nb_theta)\n",
    "    phis = np.zeros(nb_phi)\n",
    "    bxdf = np.zeros((nb_theta, nb_phi))\n",
    "    if is_brdf:\n",
    "        for t in range(nb_theta):\n",
    "            thetas[t] = t * np.pi * 0.5 / (nb_theta - 1)\n",
    "            for p in range(nb_phi):\n",
    "                phis[p] = p * 2 * np.pi / (nb_phi - 1)\n",
    "                bxdf[t, p] = np.cos(thetas[t]) / np.pi\n",
    "    else:\n",
    "        for t in range(nb_theta):\n",
    "            thetas[t] = np.pi * 0.5 * (1 + t / (nb_theta - 1))\n",
    "            for p in range(nb_phi):\n",
    "                phis[p] = p * 2 * np.pi / (nb_phi - 1)\n",
    "    return thetas, phis, bxdf"
   ]
  },
  {
   "cell_type": "code",
   "execution_count": 5,
   "id": "3554636d",
   "metadata": {
    "execution": {
     "iopub.execute_input": "2025-06-17T07:13:53.111900Z",
     "iopub.status.busy": "2025-06-17T07:13:53.111501Z",
     "iopub.status.idle": "2025-06-17T07:13:53.115249Z",
     "shell.execute_reply": "2025-06-17T07:13:53.114702Z"
    }
   },
   "outputs": [],
   "source": [
    "def create_spectrum(value, w_start=380.0, w_end=780.0, w_step=10):\n",
    "    \"\"\"\n",
    "    Create a spectrum for a bsdf.\n",
    "\n",
    "    Parameters\n",
    "    ----------\n",
    "    value: float\n",
    "        spectrum value\n",
    "    w_start: float\n",
    "        wavelength start\n",
    "    w_end: float\n",
    "        wavelength end\n",
    "    w_step: int\n",
    "        wavelength sampling number\n",
    "\n",
    "    Returns\n",
    "    -------\n",
    "    spectrum: np.array,\n",
    "\n",
    "    \"\"\"\n",
    "    spectrum = np.zeros((2, w_step))\n",
    "    for w in range(w_step):\n",
    "        spectrum[0, w] = w_start + w * (w_end - w_start) / (w_step - 1)\n",
    "        spectrum[1, w] = value\n",
    "    return spectrum"
   ]
  },
  {
   "cell_type": "markdown",
   "id": "fa3ff84c",
   "metadata": {},
   "source": [
    "## Model Setup\n",
    "\n",
    "### Load assets\n",
    "The assets used to run this example are available in the\n",
    "[PySpeos repository](https://github.com/ansys/pyspeos/) on GitHub.\n",
    "\n",
    "> **Note:** Make sure you have downloaded simulation assets and\n",
    "> set ``assets_data_path`` to point to the assets folder."
   ]
  },
  {
   "cell_type": "code",
   "execution_count": 6,
   "id": "b7edac7b",
   "metadata": {
    "execution": {
     "iopub.execute_input": "2025-06-17T07:13:53.117306Z",
     "iopub.status.busy": "2025-06-17T07:13:53.116933Z",
     "iopub.status.idle": "2025-06-17T07:13:53.120132Z",
     "shell.execute_reply": "2025-06-17T07:13:53.119566Z"
    },
    "lines_to_next_cell": 2
   },
   "outputs": [],
   "source": [
    "if USE_DOCKER:  # Running on the remote server.\n",
    "    assets_data_path = Path(\"/app\") / \"assets\"\n",
    "else:\n",
    "    assets_data_path = Path(\"/path/to/your/download/assets/directory\")"
   ]
  },
  {
   "cell_type": "markdown",
   "id": "582285e9",
   "metadata": {},
   "source": [
    "### Create Anisotropic BSDF from datapoints\n",
    "To create and save a bsdf we need to first create a connection to the SpeosRPC server\n",
    "### Connect to the RPC Server\n",
    "This Python client connects to a server where the Speos engine\n",
    "is running as a service. In this example, the server and\n",
    "client are the same machine. The launch_local_speos_rpc_method can\n",
    "be used to start a local instance of the service."
   ]
  },
  {
   "cell_type": "code",
   "execution_count": 7,
   "id": "ce722fb2",
   "metadata": {
    "execution": {
     "iopub.execute_input": "2025-06-17T07:13:53.121912Z",
     "iopub.status.busy": "2025-06-17T07:13:53.121716Z",
     "iopub.status.idle": "2025-06-17T07:13:53.130102Z",
     "shell.execute_reply": "2025-06-17T07:13:53.129497Z"
    }
   },
   "outputs": [],
   "source": [
    "if USE_DOCKER:\n",
    "    speos = Speos(host=HOSTNAME, port=GRPC_PORT)\n",
    "else:\n",
    "    speos = launch_local_speos_rpc_server(port=GRPC_PORT)"
   ]
  },
  {
   "cell_type": "markdown",
   "id": "06d21ed3",
   "metadata": {},
   "source": [
    "### Create a BXDFDatapoint\n",
    "to create a bsdf we need the bsdf for multiple incident angles.\n",
    "In this example we assume the color doesn't change over the icnident\n",
    "angles so we can use anisotropic bsdf and we assume the data has no\n",
    "anisotropy"
   ]
  },
  {
   "cell_type": "code",
   "execution_count": 8,
   "id": "42fbbc82",
   "metadata": {
    "execution": {
     "iopub.execute_input": "2025-06-17T07:13:53.132075Z",
     "iopub.status.busy": "2025-06-17T07:13:53.131677Z",
     "iopub.status.idle": "2025-06-17T07:13:53.142527Z",
     "shell.execute_reply": "2025-06-17T07:13:53.141981Z"
    }
   },
   "outputs": [
    {
     "name": "stdout",
     "output_type": "stream",
     "text": [
      "{'anisotropy': 0, 'bxdf': array([[3.18309886e-01, 3.18309886e-01, 3.18309886e-01, 3.18309886e-01,\n",
      "        3.18309886e-01],\n",
      "       [2.94079989e-01, 2.94079989e-01, 2.94079989e-01, 2.94079989e-01,\n",
      "        2.94079989e-01],\n",
      "       [2.25079079e-01, 2.25079079e-01, 2.25079079e-01, 2.25079079e-01,\n",
      "        2.25079079e-01],\n",
      "       [1.21811920e-01, 1.21811920e-01, 1.21811920e-01, 1.21811920e-01,\n",
      "        1.21811920e-01],\n",
      "       [1.94908592e-17, 1.94908592e-17, 1.94908592e-17, 1.94908592e-17,\n",
      "        1.94908592e-17]]), 'is_brdf': True, 'incident_angle': np.float64(0.08726646259971647), 'theta_values': array([0.        , 0.39269908, 0.78539816, 1.17809725, 1.57079633]), 'phi_values': array([0.        , 1.57079633, 3.14159265, 4.71238898, 6.28318531])}\n"
     ]
    }
   ],
   "source": [
    "clean_all_dbs(speos.client)  # clean all the database entries\n",
    "incident_angles = [np.radians(5), np.radians(25), np.radians(45), np.radians(65), np.radians(85)]\n",
    "all_brdfs = []\n",
    "for inc in incident_angles:\n",
    "    thetas, phis, brdf = create_lambertian_bsdf(True)\n",
    "    all_brdfs.append(BxdfDatapoint(True, inc, thetas, phis, brdf))\n",
    "print(all_brdfs[0])"
   ]
  },
  {
   "cell_type": "markdown",
   "id": "885bf0c9",
   "metadata": {},
   "source": [
    "### Create Anistropic BSDF class instance"
   ]
  },
  {
   "cell_type": "code",
   "execution_count": 9,
   "id": "f95ef281",
   "metadata": {
    "execution": {
     "iopub.execute_input": "2025-06-17T07:13:53.144411Z",
     "iopub.status.busy": "2025-06-17T07:13:53.144209Z",
     "iopub.status.idle": "2025-06-17T07:13:53.147568Z",
     "shell.execute_reply": "2025-06-17T07:13:53.147033Z"
    }
   },
   "outputs": [],
   "source": [
    "new_bsdf = AnisotropicBSDF(speos)\n",
    "new_bsdf.description = \"PySpeos BSDF Example\"\n",
    "new_bsdf.anisotropy_vector = [1, 0, 0]"
   ]
  },
  {
   "cell_type": "markdown",
   "id": "82ddd52e",
   "metadata": {},
   "source": [
    "Create Spectrum with 80% reflectivity"
   ]
  },
  {
   "cell_type": "code",
   "execution_count": 10,
   "id": "d679a036",
   "metadata": {
    "execution": {
     "iopub.execute_input": "2025-06-17T07:13:53.149454Z",
     "iopub.status.busy": "2025-06-17T07:13:53.149086Z",
     "iopub.status.idle": "2025-06-17T07:13:53.152165Z",
     "shell.execute_reply": "2025-06-17T07:13:53.151590Z"
    }
   },
   "outputs": [],
   "source": [
    "spectrum = create_spectrum(0.8)"
   ]
  },
  {
   "cell_type": "markdown",
   "id": "ca3b24c7",
   "metadata": {},
   "source": [
    "Assign reflection spectrum to bsdf"
   ]
  },
  {
   "cell_type": "code",
   "execution_count": 11,
   "id": "0e816932",
   "metadata": {
    "execution": {
     "iopub.execute_input": "2025-06-17T07:13:53.153938Z",
     "iopub.status.busy": "2025-06-17T07:13:53.153719Z",
     "iopub.status.idle": "2025-06-17T07:13:53.156810Z",
     "shell.execute_reply": "2025-06-17T07:13:53.156277Z"
    }
   },
   "outputs": [],
   "source": [
    "new_bsdf.has_reflection = True\n",
    "new_bsdf.spectrum_incidence = np.radians(0)\n",
    "new_bsdf.spectrum_anisotropy = np.radians(0)\n",
    "new_bsdf.reflection_spectrum = spectrum"
   ]
  },
  {
   "cell_type": "markdown",
   "id": "ec434996",
   "metadata": {},
   "source": [
    "Assign brdf data"
   ]
  },
  {
   "cell_type": "code",
   "execution_count": 12,
   "id": "b78b940f",
   "metadata": {
    "execution": {
     "iopub.execute_input": "2025-06-17T07:13:53.158748Z",
     "iopub.status.busy": "2025-06-17T07:13:53.158552Z",
     "iopub.status.idle": "2025-06-17T07:13:53.163686Z",
     "shell.execute_reply": "2025-06-17T07:13:53.163148Z"
    }
   },
   "outputs": [
    {
     "name": "stdout",
     "output_type": "stream",
     "text": [
      "{'has_transmission': False, 'has_reflection': True, 'brdf': [<ansys.speos.core.bsdf.BxdfDatapoint object at 0x7f66a771e4d0>, <ansys.speos.core.bsdf.BxdfDatapoint object at 0x7f66a771e4a0>, <ansys.speos.core.bsdf.BxdfDatapoint object at 0x7f66a771e5c0>, <ansys.speos.core.bsdf.BxdfDatapoint object at 0x7f66a771e530>, <ansys.speos.core.bsdf.BxdfDatapoint object at 0x7f66a771e560>], 'btdf': None, 'nb_incidents': [5, 0], 'incident_angles': [[np.float64(0.08726646259971647), np.float64(0.4363323129985824), np.float64(0.7853981633974483), np.float64(1.1344640137963142), np.float64(1.4835298641951802)], []], 'interpolation_settings': None, 'anisotropic_angles': [[0], []], 'spectrum_incidence': [np.float64(0.0), 0], 'spectrum_anisotropy': [np.float64(0.0), 0], 'reflection_spectrum': array([[380.        , 424.44444444, 468.88888889, 513.33333333,\n",
      "        557.77777778, 602.22222222, 646.66666667, 691.11111111,\n",
      "        735.55555556, 780.        ],\n",
      "       [  0.8       ,   0.8       ,   0.8       ,   0.8       ,\n",
      "          0.8       ,   0.8       ,   0.8       ,   0.8       ,\n",
      "          0.8       ,   0.8       ]]), 'transmission_spectrum': None}\n"
     ]
    }
   ],
   "source": [
    "new_bsdf.brdf = all_brdfs\n",
    "save_path = assets_data_path / \"example_bsdf.anisotropicbsdf\"\n",
    "new_bsdf.save(save_path)\n",
    "print(new_bsdf)"
   ]
  },
  {
   "cell_type": "markdown",
   "id": "4c67421c",
   "metadata": {},
   "source": [
    "### BSDF Interpolation Enhancement\n",
    "This section shows:\n",
    "- How to apply automatic interpolation settings and save a post-processed bsdf file.\n",
    "- How to change interpolation settings, apply the new settings to bsdf,\n",
    "and save the post-processed file\n",
    "- How to re-load a bsdf file has interpolation enhanced and retrieve the interpolation settings."
   ]
  },
  {
   "cell_type": "code",
   "execution_count": 13,
   "id": "3f1bbbfe",
   "metadata": {
    "execution": {
     "iopub.execute_input": "2025-06-17T07:13:53.165489Z",
     "iopub.status.busy": "2025-06-17T07:13:53.165305Z",
     "iopub.status.idle": "2025-06-17T07:13:53.176095Z",
     "shell.execute_reply": "2025-06-17T07:13:53.175539Z"
    }
   },
   "outputs": [
    {
     "name": "stdout",
     "output_type": "stream",
     "text": [
      "None\n",
      "<ansys.speos.core.bsdf.InterpolationEnhancement object at 0x7f66a775b8e0>\n"
     ]
    },
    {
     "data": {
      "text/plain": [
       "PosixPath('/app/assets/example_bsdf_automatic_interpolation.anisotropicbsdf')"
      ]
     },
     "execution_count": 13,
     "metadata": {},
     "output_type": "execute_result"
    }
   ],
   "source": [
    "print(\n",
    "    new_bsdf.interpolation_settings\n",
    ")  # user can check if there was interpolation settings, here is None\n",
    "new_bsdf.create_interpolation_enhancement(index_1=1.0, index_2=1.4)\n",
    "print(new_bsdf.interpolation_settings)  # Now interpolation settings is not None\n",
    "new_bsdf.save(file_path=assets_data_path / \"example_bsdf_automatic_interpolation.anisotropicbsdf\")"
   ]
  },
  {
   "cell_type": "markdown",
   "id": "bc3508a7",
   "metadata": {},
   "source": [
    "Apply user defined interpolation enhancement"
   ]
  },
  {
   "cell_type": "code",
   "execution_count": 14,
   "id": "c52eb10a",
   "metadata": {
    "execution": {
     "iopub.execute_input": "2025-06-17T07:13:53.178101Z",
     "iopub.status.busy": "2025-06-17T07:13:53.177742Z",
     "iopub.status.idle": "2025-06-17T07:13:53.183465Z",
     "shell.execute_reply": "2025-06-17T07:13:53.182931Z"
    }
   },
   "outputs": [
    {
     "name": "stdout",
     "output_type": "stream",
     "text": [
      "{'0': {'0.08726646259971647': {'half_angle': 1.5533430342749535, 'height': 0.3141551883034776}, '0.4363323129985824': {'half_angle': 1.5533430342749535, 'height': 0.3141551883034776}, '0.7853981633974483': {'half_angle': 1.5533430342749535, 'height': 0.3141551883034776}, '1.1344640137963142': {'half_angle': 1.5533430342749535, 'height': 0.3141551883034776}, '1.4835298641951802': {'half_angle': 1.5533430342749535, 'height': 0.3141551883034776}}}\n"
     ]
    }
   ],
   "source": [
    "interpolation_settings = new_bsdf.create_interpolation_enhancement(index_1=1.0, index_2=1.4)\n",
    "interpolation_settings_reflection = (\n",
    "    interpolation_settings.get_reflection_interpolation_settings\n",
    ")  # return as fixed dictionary, user cannot add/remove item\n",
    "print(interpolation_settings_reflection)"
   ]
  },
  {
   "cell_type": "markdown",
   "id": "d8de8fc4",
   "metadata": {},
   "source": [
    "Change interpolation settings"
   ]
  },
  {
   "cell_type": "code",
   "execution_count": 15,
   "id": "6e7f89c0",
   "metadata": {
    "execution": {
     "iopub.execute_input": "2025-06-17T07:13:53.185493Z",
     "iopub.status.busy": "2025-06-17T07:13:53.185034Z",
     "iopub.status.idle": "2025-06-17T07:13:53.188527Z",
     "shell.execute_reply": "2025-06-17T07:13:53.187872Z"
    }
   },
   "outputs": [],
   "source": [
    "interpolation_settings_reflection[\"0\"][str(np.radians(5))][\"half_angle\"] = 0.523\n",
    "interpolation_settings_reflection[\"0\"][str(np.radians(5))][\"height\"] = 0.5"
   ]
  },
  {
   "cell_type": "markdown",
   "id": "2c7b4001",
   "metadata": {},
   "source": [
    "Set the changed interpolation settings back to bsdf file and save"
   ]
  },
  {
   "cell_type": "code",
   "execution_count": 16,
   "id": "73b6576f",
   "metadata": {
    "execution": {
     "iopub.execute_input": "2025-06-17T07:13:53.190471Z",
     "iopub.status.busy": "2025-06-17T07:13:53.190284Z",
     "iopub.status.idle": "2025-06-17T07:13:53.197258Z",
     "shell.execute_reply": "2025-06-17T07:13:53.196569Z"
    }
   },
   "outputs": [
    {
     "data": {
      "text/plain": [
       "PosixPath('/app/assets/example_bsdf_user_interpolation.anisotropicbsdf')"
      ]
     },
     "execution_count": 16,
     "metadata": {},
     "output_type": "execute_result"
    }
   ],
   "source": [
    "interpolation_settings.set_interpolation_settings(\n",
    "    is_brdf=True, settings=interpolation_settings_reflection\n",
    ")\n",
    "new_bsdf.save(file_path=assets_data_path / \"example_bsdf_user_interpolation.anisotropicbsdf\")"
   ]
  },
  {
   "cell_type": "markdown",
   "id": "47d193f2",
   "metadata": {},
   "source": [
    "Load a bsdf file with interpolation enhanced"
   ]
  },
  {
   "cell_type": "code",
   "execution_count": 17,
   "id": "163f6abb",
   "metadata": {
    "execution": {
     "iopub.execute_input": "2025-06-17T07:13:53.199350Z",
     "iopub.status.busy": "2025-06-17T07:13:53.198990Z",
     "iopub.status.idle": "2025-06-17T07:13:53.211912Z",
     "shell.execute_reply": "2025-06-17T07:13:53.211319Z"
    }
   },
   "outputs": [
    {
     "name": "stdout",
     "output_type": "stream",
     "text": [
      "<ansys.speos.core.bsdf.InterpolationEnhancement object at 0x7f66a7739630>\n",
      "{'0.0': {'0.08726646259971647': {'half_angle': 0.523, 'height': 0.5}, '0.4363323129985824': {'half_angle': 1.5533430342749535, 'height': 0.3141551883034776}, '0.7853981633974483': {'half_angle': 1.5533430342749535, 'height': 0.3141551883034776}, '1.1344640137963142': {'half_angle': 1.5533430342749535, 'height': 0.3141551883034776}, '1.4835298641951802': {'half_angle': 1.5533430342749535, 'height': 0.3141551883034776}}}\n",
      "{'0.0': {'0.08726646259971647': {'half_angle': 1.5533430342749535, 'height': 0.3141551883034776}, '0.4363323129985824': {'half_angle': 1.5533430342749535, 'height': 0.3141551883034776}, '0.7853981633974483': {'half_angle': 1.5533430342749535, 'height': 0.3141551883034776}, '1.1344640137963142': {'half_angle': 1.5533430342749535, 'height': 0.3141551883034776}, '1.4835298641951802': {'half_angle': 1.5533430342749535, 'height': 0.3141551883034776}}}\n"
     ]
    }
   ],
   "source": [
    "clean_all_dbs(speos.client)\n",
    "saved_bsdf = AnisotropicBSDF(\n",
    "    speos=speos, file_path=assets_data_path / \"example_bsdf_user_interpolation.anisotropicbsdf\"\n",
    ")\n",
    "print(\n",
    "    saved_bsdf.interpolation_settings\n",
    ")  # here an InterpolationEnhancement Class object is returned\n",
    "previous_settings = saved_bsdf.interpolation_settings\n",
    "print(\n",
    "    previous_settings.get_reflection_interpolation_settings\n",
    ")  # user can review the previous settings\n",
    "previous_settings = saved_bsdf.create_interpolation_enhancement(index_1=1.0, index_2=1.4)\n",
    "print(\n",
    "    previous_settings.get_reflection_interpolation_settings\n",
    ")  # with same index values, user use create_interpolation_enhancement to create a new settings"
   ]
  },
  {
   "cell_type": "markdown",
   "id": "b46666c1",
   "metadata": {},
   "source": [
    "Defined new interpolation settings for an already enhanced bsdf file"
   ]
  },
  {
   "cell_type": "code",
   "execution_count": 18,
   "id": "f04eae78",
   "metadata": {
    "execution": {
     "iopub.execute_input": "2025-06-17T07:13:53.213831Z",
     "iopub.status.busy": "2025-06-17T07:13:53.213629Z",
     "iopub.status.idle": "2025-06-17T07:13:53.219256Z",
     "shell.execute_reply": "2025-06-17T07:13:53.218591Z"
    }
   },
   "outputs": [
    {
     "name": "stdout",
     "output_type": "stream",
     "text": [
      "{'0.0': {'0.08726646259971647': {'half_angle': 1.5533430342749535, 'height': 0.3141551883034776}, '0.4363323129985824': {'half_angle': 1.5533430342749535, 'height': 0.3141551883034776}, '0.7853981633974483': {'half_angle': 1.5533430342749535, 'height': 0.3141551883034776}, '1.1344640137963142': {'half_angle': 1.5533430342749535, 'height': 0.3141551883034776}, '1.4835298641951802': {'half_angle': 1.5533430342749535, 'height': 0.3141551883034776}}}\n"
     ]
    }
   ],
   "source": [
    "previous_settings_diff_index = saved_bsdf.create_interpolation_enhancement(index_1=1.0, index_2=1.5)\n",
    "print(\n",
    "    previous_settings.get_reflection_interpolation_settings\n",
    ")  # with different index values, a new automatic settings is returned"
   ]
  },
  {
   "cell_type": "code",
   "execution_count": 19,
   "id": "35caf2f1",
   "metadata": {
    "execution": {
     "iopub.execute_input": "2025-06-17T07:13:53.221212Z",
     "iopub.status.busy": "2025-06-17T07:13:53.220821Z",
     "iopub.status.idle": "2025-06-17T07:13:53.334180Z",
     "shell.execute_reply": "2025-06-17T07:13:53.333442Z"
    }
   },
   "outputs": [
    {
     "data": {
      "text/plain": [
       "True"
      ]
     },
     "execution_count": 19,
     "metadata": {},
     "output_type": "execute_result"
    }
   ],
   "source": [
    "speos.close()"
   ]
  }
 ],
 "metadata": {
  "jupytext": {
   "cell_metadata_filter": "-all",
   "main_language": "python",
   "notebook_metadata_filter": "-all",
   "text_representation": {
    "extension": ".py",
    "format_name": "light"
   }
  },
  "language_info": {
   "codemirror_mode": {
    "name": "ipython",
    "version": 3
   },
   "file_extension": ".py",
   "mimetype": "text/x-python",
   "name": "python",
   "nbconvert_exporter": "python",
   "pygments_lexer": "ipython3",
   "version": "3.10.17"
  }
 },
 "nbformat": 4,
 "nbformat_minor": 5
}
