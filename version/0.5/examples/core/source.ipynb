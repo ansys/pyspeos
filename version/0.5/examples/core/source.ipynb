{
 "cells": [
  {
   "cell_type": "markdown",
   "id": "ad50eb4c",
   "metadata": {},
   "source": [
    "# How to create a source"
   ]
  },
  {
   "cell_type": "markdown",
   "id": "d9da06cc",
   "metadata": {},
   "source": [
    "This tutorial demonstrates how to create a source.\n",
    "\n",
    "There are different type of sources available: luminaire source, surface source, ray file source.\n",
    "\n",
    "## Prerequisites\n",
    "\n",
    "### Perform imports"
   ]
  },
  {
   "cell_type": "code",
   "execution_count": 1,
   "id": "4dcf3958",
   "metadata": {
    "execution": {
     "iopub.execute_input": "2025-06-17T07:16:04.290610Z",
     "iopub.status.busy": "2025-06-17T07:16:04.290405Z",
     "iopub.status.idle": "2025-06-17T07:16:05.142965Z",
     "shell.execute_reply": "2025-06-17T07:16:05.142233Z"
    }
   },
   "outputs": [],
   "source": [
    "from pathlib import Path\n",
    "\n",
    "from ansys.speos.core import GeoRef, Project, Speos, launcher\n",
    "from ansys.speos.core.source import (\n",
    "    SourceLuminaire,\n",
    "    SourceRayFile,\n",
    "    SourceSurface,\n",
    ")\n"
   ]
  },
  {
   "cell_type": "markdown",
   "id": "3eb0ba78",
   "metadata": {},
   "source": [
    "### Define constants\n",
    "Constants help ensure consistency and avoid repetition throughout the example."
   ]
  },
  {
   "cell_type": "code",
   "execution_count": 2,
   "id": "bc80358a",
   "metadata": {
    "execution": {
     "iopub.execute_input": "2025-06-17T07:16:05.145757Z",
     "iopub.status.busy": "2025-06-17T07:16:05.145138Z",
     "iopub.status.idle": "2025-06-17T07:16:05.148698Z",
     "shell.execute_reply": "2025-06-17T07:16:05.148142Z"
    }
   },
   "outputs": [],
   "source": [
    "HOSTNAME = \"localhost\"\n",
    "GRPC_PORT = 50098  # Be sure the Speos GRPC Server has been started on this port.\n",
    "USE_DOCKER = True  # Set to False if you're running this example locally as a Notebook.\n",
    "IES = \"IES_C_DETECTOR.ies\""
   ]
  },
  {
   "cell_type": "markdown",
   "id": "c0c0a83a",
   "metadata": {
    "lines_to_next_cell": 2
   },
   "source": [
    "### Define helper functions"
   ]
  },
  {
   "cell_type": "code",
   "execution_count": 3,
   "id": "82825b8d",
   "metadata": {
    "execution": {
     "iopub.execute_input": "2025-06-17T07:16:05.150538Z",
     "iopub.status.busy": "2025-06-17T07:16:05.150334Z",
     "iopub.status.idle": "2025-06-17T07:16:05.155871Z",
     "shell.execute_reply": "2025-06-17T07:16:05.155204Z"
    }
   },
   "outputs": [],
   "source": [
    "def create_helper_geometries(project: Project):\n",
    "    \"\"\"Create bodies and faces.\"\"\"\n",
    "\n",
    "    def create_face(body):\n",
    "        (\n",
    "            body.create_face(name=\"TheFaceF\")\n",
    "            .set_vertices([0, 0, 0, 1, 0, 0, 0, 1, 0])\n",
    "            .set_facets([0, 1, 2])\n",
    "            .set_normals([0, 0, 1, 0, 0, 1, 0, 0, 1])\n",
    "            .commit()\n",
    "        )\n",
    "\n",
    "    root_part = project.create_root_part().commit()\n",
    "    body_b1 = root_part.create_body(name=\"TheBodyB\").commit()\n",
    "    body_b2 = root_part.create_body(name=\"TheBodyC\").commit()\n",
    "    body_b3 = root_part.create_body(name=\"TheBodyD\").commit()\n",
    "    body_b4 = root_part.create_body(name=\"TheBodyE\").commit()\n",
    "    for b in [body_b1, body_b2, body_b3, body_b4]:\n",
    "        create_face(b)"
   ]
  },
  {
   "cell_type": "markdown",
   "id": "0371f6cb",
   "metadata": {},
   "source": [
    "## Model Setup\n",
    "\n",
    "### Load assets\n",
    "The assets used to run this example are available in the\n",
    "[PySpeos repository](https://github.com/ansys/pyspeos/) on GitHub.\n",
    "\n",
    "> **Note:** Make sure you\n",
    "> have downloaded simulation assets and set ``assets_data_path``\n",
    "> to point to the assets folder."
   ]
  },
  {
   "cell_type": "code",
   "execution_count": 4,
   "id": "6b220b54",
   "metadata": {
    "execution": {
     "iopub.execute_input": "2025-06-17T07:16:05.158075Z",
     "iopub.status.busy": "2025-06-17T07:16:05.157686Z",
     "iopub.status.idle": "2025-06-17T07:16:05.161034Z",
     "shell.execute_reply": "2025-06-17T07:16:05.160367Z"
    }
   },
   "outputs": [],
   "source": [
    "if USE_DOCKER:  # Running on the remote server.\n",
    "    assets_data_path = Path(\"/app\") / \"assets\"\n",
    "else:\n",
    "    assets_data_path = Path(\"/path/to/your/download/assets/directory\")"
   ]
  },
  {
   "cell_type": "markdown",
   "id": "9987e632",
   "metadata": {},
   "source": [
    "### Connect to the RPC Server\n",
    "This Python client connects to a server where the Speos engine\n",
    "is running as a service. In this example, the server and\n",
    "client are the same machine. The launch_local_speos_rpc_method can\n",
    "be used to start a local instance of the service."
   ]
  },
  {
   "cell_type": "code",
   "execution_count": 5,
   "id": "a16dd831",
   "metadata": {
    "execution": {
     "iopub.execute_input": "2025-06-17T07:16:05.163199Z",
     "iopub.status.busy": "2025-06-17T07:16:05.162784Z",
     "iopub.status.idle": "2025-06-17T07:16:05.169369Z",
     "shell.execute_reply": "2025-06-17T07:16:05.168801Z"
    }
   },
   "outputs": [],
   "source": [
    "if USE_DOCKER:\n",
    "    speos = Speos(host=HOSTNAME, port=GRPC_PORT)\n",
    "else:\n",
    "    speos = launcher.launch_local_speos_rpc_server(port=GRPC_PORT)"
   ]
  },
  {
   "cell_type": "markdown",
   "id": "3103126a",
   "metadata": {},
   "source": [
    "### Create a new project\n",
    "\n",
    "The only way to create a source using the core layer, is to create it from a project.\n",
    "The ``Project`` class is instantiated by passing a ``Speos`` instance"
   ]
  },
  {
   "cell_type": "code",
   "execution_count": 6,
   "id": "a5b32334",
   "metadata": {
    "execution": {
     "iopub.execute_input": "2025-06-17T07:16:05.171530Z",
     "iopub.status.busy": "2025-06-17T07:16:05.171058Z",
     "iopub.status.idle": "2025-06-17T07:16:05.177411Z",
     "shell.execute_reply": "2025-06-17T07:16:05.176864Z"
    },
    "lines_to_next_cell": 2
   },
   "outputs": [
    {
     "name": "stdout",
     "output_type": "stream",
     "text": [
      "{\n",
      "    \"name\": \"\",\n",
      "    \"description\": \"\",\n",
      "    \"metadata\": {},\n",
      "    \"part_guid\": \"\",\n",
      "    \"sources\": [],\n",
      "    \"sensors\": [],\n",
      "    \"simulations\": [],\n",
      "    \"materials\": [],\n",
      "    \"scenes\": []\n",
      "}\n"
     ]
    }
   ],
   "source": [
    "p = Project(speos=speos)\n",
    "print(p)"
   ]
  },
  {
   "cell_type": "markdown",
   "id": "7d50eb47",
   "metadata": {},
   "source": [
    "### Source Creation\n",
    "\n",
    "**Create locally:**\n",
    "The mention \"local: \" is added when printing the source data and information is not yet\n",
    "pushed to the RPC server"
   ]
  },
  {
   "cell_type": "code",
   "execution_count": 7,
   "id": "704d36d5",
   "metadata": {
    "execution": {
     "iopub.execute_input": "2025-06-17T07:16:05.179549Z",
     "iopub.status.busy": "2025-06-17T07:16:05.179149Z",
     "iopub.status.idle": "2025-06-17T07:16:05.183468Z",
     "shell.execute_reply": "2025-06-17T07:16:05.182810Z"
    }
   },
   "outputs": [
    {
     "name": "stdout",
     "output_type": "stream",
     "text": [
      "local: {\n",
      "    \"name\": \"Luminaire.1\",\n",
      "    \"description\": \"\",\n",
      "    \"metadata\": {},\n",
      "    \"source_guid\": \"\",\n",
      "    \"source\": {\n",
      "        \"name\": \"Luminaire.1\",\n",
      "        \"luminaire\": {\n",
      "            \"flux_from_intensity_file\": {},\n",
      "            \"intensity_file_uri\": \"/app/assets/IES_C_DETECTOR.ies\",\n",
      "            \"spectrum_guid\": \"\",\n",
      "            \"axis_system\": [\n",
      "                0.0,\n",
      "                0.0,\n",
      "                0.0,\n",
      "                1.0,\n",
      "                0.0,\n",
      "                0.0,\n",
      "                0.0,\n",
      "                1.0,\n",
      "                0.0,\n",
      "                0.0,\n",
      "                0.0,\n",
      "                1.0\n",
      "            ]\n",
      "        },\n",
      "        \"description\": \"\",\n",
      "        \"metadata\": {}\n",
      "    }\n",
      "}\n"
     ]
    }
   ],
   "source": [
    "intensity_file_path = str(assets_data_path / IES)\n",
    "source1 = p.create_source(name=\"Luminaire.1\", feature_type=SourceLuminaire)  # type luminaire\n",
    "source1.set_intensity_file_uri(uri=intensity_file_path)\n",
    "print(source1)"
   ]
  },
  {
   "cell_type": "markdown",
   "id": "bda4629c",
   "metadata": {},
   "source": [
    "**Push it to the server.**\n",
    "\n",
    "After it is committed to the server, the mention \"local: \" is no more present when printing the\n",
    "source."
   ]
  },
  {
   "cell_type": "code",
   "execution_count": 8,
   "id": "30a6ba0c",
   "metadata": {
    "execution": {
     "iopub.execute_input": "2025-06-17T07:16:05.185429Z",
     "iopub.status.busy": "2025-06-17T07:16:05.185230Z",
     "iopub.status.idle": "2025-06-17T07:16:05.196907Z",
     "shell.execute_reply": "2025-06-17T07:16:05.196224Z"
    }
   },
   "outputs": [
    {
     "name": "stdout",
     "output_type": "stream",
     "text": [
      "{\n",
      "    \"name\": \"Luminaire.1\",\n",
      "    \"metadata\": {\n",
      "        \"UniqueId\": \"1b5e86e9-a11c-4b23-a7e2-5a659ac49558\"\n",
      "    },\n",
      "    \"source_guid\": \"17e878e1-69c1-4c8d-b1fb-58b3bac777ac\",\n",
      "    \"description\": \"\",\n",
      "    \"source\": {\n",
      "        \"name\": \"Luminaire.1\",\n",
      "        \"luminaire\": {\n",
      "            \"flux_from_intensity_file\": {},\n",
      "            \"intensity_file_uri\": \"/app/assets/IES_C_DETECTOR.ies\",\n",
      "            \"spectrum_guid\": \"d1f62f4b-e9e7-4f8c-9712-c34b35b1b70f\",\n",
      "            \"spectrum\": {\n",
      "                \"name\": \"Luminaire.1.Spectrum\",\n",
      "                \"predefined\": {\n",
      "                    \"incandescent\": {}\n",
      "                },\n",
      "                \"description\": \"\",\n",
      "                \"metadata\": {}\n",
      "            },\n",
      "            \"axis_system\": [\n",
      "                0.0,\n",
      "                0.0,\n",
      "                0.0,\n",
      "                1.0,\n",
      "                0.0,\n",
      "                0.0,\n",
      "                0.0,\n",
      "                1.0,\n",
      "                0.0,\n",
      "                0.0,\n",
      "                0.0,\n",
      "                1.0\n",
      "            ]\n",
      "        },\n",
      "        \"description\": \"\",\n",
      "        \"metadata\": {}\n",
      "    }\n",
      "}\n"
     ]
    }
   ],
   "source": [
    "source1.commit()\n",
    "print(source1)"
   ]
  },
  {
   "cell_type": "markdown",
   "id": "03ad93a3",
   "metadata": {
    "lines_to_next_cell": 2
   },
   "source": [
    "**Changing additional Source Properties**\n",
    "\n",
    "Setting several more characteristics."
   ]
  },
  {
   "cell_type": "code",
   "execution_count": 9,
   "id": "308f19b6",
   "metadata": {
    "execution": {
     "iopub.execute_input": "2025-06-17T07:16:05.199104Z",
     "iopub.status.busy": "2025-06-17T07:16:05.198657Z",
     "iopub.status.idle": "2025-06-17T07:16:05.212665Z",
     "shell.execute_reply": "2025-06-17T07:16:05.211984Z"
    }
   },
   "outputs": [
    {
     "name": "stdout",
     "output_type": "stream",
     "text": [
      "{\n",
      "    \"name\": \"Luminaire.2\",\n",
      "    \"metadata\": {\n",
      "        \"UniqueId\": \"90b72945-1b1f-40ac-b050-cc2159a0c07a\"\n",
      "    },\n",
      "    \"source_guid\": \"870bad75-6891-490b-aabb-4eb63df17e19\",\n",
      "    \"description\": \"\",\n",
      "    \"source\": {\n",
      "        \"name\": \"Luminaire.2\",\n",
      "        \"luminaire\": {\n",
      "            \"radiant_flux\": {\n",
      "                \"radiant_value\": 1.0\n",
      "            },\n",
      "            \"intensity_file_uri\": \"/app/assets/IES_C_DETECTOR.ies\",\n",
      "            \"spectrum_guid\": \"f0a5fe8c-76f4-4911-bebc-176b14acae28\",\n",
      "            \"spectrum\": {\n",
      "                \"name\": \"Luminaire.2.Spectrum\",\n",
      "                \"blackbody\": {\n",
      "                    \"temperature\": 2856.0\n",
      "                },\n",
      "                \"description\": \"\",\n",
      "                \"metadata\": {}\n",
      "            },\n",
      "            \"axis_system\": [\n",
      "                20.0,\n",
      "                50.0,\n",
      "                10.0,\n",
      "                1.0,\n",
      "                0.0,\n",
      "                0.0,\n",
      "                0.0,\n",
      "                1.0,\n",
      "                0.0,\n",
      "                0.0,\n",
      "                0.0,\n",
      "                1.0\n",
      "            ]\n",
      "        },\n",
      "        \"description\": \"\",\n",
      "        \"metadata\": {}\n",
      "    }\n",
      "}\n"
     ]
    }
   ],
   "source": [
    "intensity_file_path = str(assets_data_path / IES)\n",
    "source2 = p.create_source(name=\"Luminaire.2\", feature_type=SourceLuminaire)\n",
    "source2.set_intensity_file_uri(uri=intensity_file_path)\n",
    "source2.set_flux_radiant()  # select flux radiant with default value\n",
    "# choose the source location [Origin, Xvector, Yvector, Zvector]\n",
    "source2.set_axis_system(axis_system=[20, 50, 10, 1, 0, 0, 0, 1, 0, 0, 0, 1])\n",
    "source2.set_spectrum().set_blackbody()  # choose blackbody with default value for the spectrum\n",
    "source2.commit()  # Push to the server\n",
    "print(source2)"
   ]
  },
  {
   "cell_type": "markdown",
   "id": "c21883d8",
   "metadata": {},
   "source": [
    "**Source Instance**\n",
    "\n",
    "As mention \"local: \" is added if it is not yet committed to the server."
   ]
  },
  {
   "cell_type": "code",
   "execution_count": 10,
   "id": "f89f50a0",
   "metadata": {
    "execution": {
     "iopub.execute_input": "2025-06-17T07:16:05.214931Z",
     "iopub.status.busy": "2025-06-17T07:16:05.214433Z",
     "iopub.status.idle": "2025-06-17T07:16:05.222810Z",
     "shell.execute_reply": "2025-06-17T07:16:05.222141Z"
    }
   },
   "outputs": [
    {
     "name": "stdout",
     "output_type": "stream",
     "text": [
      "{\n",
      "    \"name\": \"Luminaire.1\",\n",
      "    \"metadata\": {\n",
      "        \"UniqueId\": \"1b5e86e9-a11c-4b23-a7e2-5a659ac49558\"\n",
      "    },\n",
      "    \"source_guid\": \"17e878e1-69c1-4c8d-b1fb-58b3bac777ac\",\n",
      "    \"description\": \"\",\n",
      "    \"source\": {\n",
      "        \"name\": \"Luminaire.1\",\n",
      "        \"luminaire\": {\n",
      "            \"flux_from_intensity_file\": {},\n",
      "            \"intensity_file_uri\": \"/app/assets/IES_C_DETECTOR.ies\",\n",
      "            \"spectrum_guid\": \"d1f62f4b-e9e7-4f8c-9712-c34b35b1b70f\",\n",
      "            \"spectrum\": {\n",
      "                \"name\": \"Luminaire.1.Spectrum\",\n",
      "                \"predefined\": {\n",
      "                    \"incandescent\": {}\n",
      "                },\n",
      "                \"description\": \"\",\n",
      "                \"metadata\": {}\n",
      "            },\n",
      "            \"axis_system\": [\n",
      "                0.0,\n",
      "                0.0,\n",
      "                0.0,\n",
      "                1.0,\n",
      "                0.0,\n",
      "                0.0,\n",
      "                0.0,\n",
      "                1.0,\n",
      "                0.0,\n",
      "                0.0,\n",
      "                0.0,\n",
      "                1.0\n",
      "            ]\n",
      "        },\n",
      "        \"description\": \"\",\n",
      "        \"metadata\": {}\n",
      "    }\n",
      "}\n"
     ]
    }
   ],
   "source": [
    "print(source1)"
   ]
  },
  {
   "cell_type": "markdown",
   "id": "75fd9f11",
   "metadata": {},
   "source": [
    "**Project:**\n",
    "\n",
    "Committed feature will appear inside the project information."
   ]
  },
  {
   "cell_type": "code",
   "execution_count": 11,
   "id": "04466e2f",
   "metadata": {
    "execution": {
     "iopub.execute_input": "2025-06-17T07:16:05.225114Z",
     "iopub.status.busy": "2025-06-17T07:16:05.224696Z",
     "iopub.status.idle": "2025-06-17T07:16:05.235986Z",
     "shell.execute_reply": "2025-06-17T07:16:05.235390Z"
    }
   },
   "outputs": [
    {
     "name": "stdout",
     "output_type": "stream",
     "text": [
      "{\n",
      "    \"sources\": [\n",
      "        {\n",
      "            \"name\": \"Luminaire.1\",\n",
      "            \"metadata\": {\n",
      "                \"UniqueId\": \"1b5e86e9-a11c-4b23-a7e2-5a659ac49558\"\n",
      "            },\n",
      "            \"source_guid\": \"17e878e1-69c1-4c8d-b1fb-58b3bac777ac\",\n",
      "            \"description\": \"\",\n",
      "            \"source\": {\n",
      "                \"name\": \"Luminaire.1\",\n",
      "                \"luminaire\": {\n",
      "                    \"flux_from_intensity_file\": {},\n",
      "                    \"intensity_file_uri\": \"/app/assets/IES_C_DETECTOR.ies\",\n",
      "                    \"spectrum_guid\": \"d1f62f4b-e9e7-4f8c-9712-c34b35b1b70f\",\n",
      "                    \"spectrum\": {\n",
      "                        \"name\": \"Luminaire.1.Spectrum\",\n",
      "                        \"predefined\": {\n",
      "                            \"incandescent\": {}\n",
      "                        },\n",
      "                        \"description\": \"\",\n",
      "                        \"metadata\": {}\n",
      "                    },\n",
      "                    \"axis_system\": [\n",
      "                        0.0,\n",
      "                        0.0,\n",
      "                        0.0,\n",
      "                        1.0,\n",
      "                        0.0,\n",
      "                        0.0,\n",
      "                        0.0,\n",
      "                        1.0,\n",
      "                        0.0,\n",
      "                        0.0,\n",
      "                        0.0,\n",
      "                        1.0\n",
      "                    ]\n",
      "                },\n",
      "                \"description\": \"\",\n",
      "                \"metadata\": {}\n",
      "            }\n",
      "        },\n",
      "        {\n",
      "            \"name\": \"Luminaire.2\",\n",
      "            \"metadata\": {\n",
      "                \"UniqueId\": \"90b72945-1b1f-40ac-b050-cc2159a0c07a\"\n",
      "            },\n",
      "            \"source_guid\": \"870bad75-6891-490b-aabb-4eb63df17e19\",\n",
      "            \"description\": \"\",\n",
      "            \"source\": {\n",
      "                \"name\": \"Luminaire.2\",\n",
      "                \"luminaire\": {\n",
      "                    \"radiant_flux\": {\n",
      "                        \"radiant_value\": 1.0\n",
      "                    },\n",
      "                    \"intensity_file_uri\": \"/app/assets/IES_C_DETECTOR.ies\",\n",
      "                    \"spectrum_guid\": \"f0a5fe8c-76f4-4911-bebc-176b14acae28\",\n",
      "                    \"spectrum\": {\n",
      "                        \"name\": \"Luminaire.2.Spectrum\",\n",
      "                        \"blackbody\": {\n",
      "                            \"temperature\": 2856.0\n",
      "                        },\n",
      "                        \"description\": \"\",\n",
      "                        \"metadata\": {}\n",
      "                    },\n",
      "                    \"axis_system\": [\n",
      "                        20.0,\n",
      "                        50.0,\n",
      "                        10.0,\n",
      "                        1.0,\n",
      "                        0.0,\n",
      "                        0.0,\n",
      "                        0.0,\n",
      "                        1.0,\n",
      "                        0.0,\n",
      "                        0.0,\n",
      "                        0.0,\n",
      "                        1.0\n",
      "                    ]\n",
      "                },\n",
      "                \"description\": \"\",\n",
      "                \"metadata\": {}\n",
      "            }\n",
      "        }\n",
      "    ],\n",
      "    \"name\": \"\",\n",
      "    \"description\": \"\",\n",
      "    \"metadata\": {},\n",
      "    \"part_guid\": \"\",\n",
      "    \"sensors\": [],\n",
      "    \"simulations\": [],\n",
      "    \"materials\": [],\n",
      "    \"scenes\": []\n",
      "}\n"
     ]
    }
   ],
   "source": [
    "print(p)"
   ]
  },
  {
   "cell_type": "markdown",
   "id": "0bd69ffd",
   "metadata": {},
   "source": [
    "**Update:**\n",
    "\n",
    "> **Note:** If you are manipulating a source already committed, don't forget to commit your\n",
    "> changes.\n",
    "> If you don't, you will still only watch what is committed on the server."
   ]
  },
  {
   "cell_type": "code",
   "execution_count": 12,
   "id": "7fbec947",
   "metadata": {
    "execution": {
     "iopub.execute_input": "2025-06-17T07:16:05.238104Z",
     "iopub.status.busy": "2025-06-17T07:16:05.237756Z",
     "iopub.status.idle": "2025-06-17T07:16:05.250692Z",
     "shell.execute_reply": "2025-06-17T07:16:05.250134Z"
    }
   },
   "outputs": [
    {
     "name": "stdout",
     "output_type": "stream",
     "text": [
      "{\n",
      "    \"name\": \"Luminaire.1\",\n",
      "    \"metadata\": {\n",
      "        \"UniqueId\": \"1b5e86e9-a11c-4b23-a7e2-5a659ac49558\"\n",
      "    },\n",
      "    \"source_guid\": \"17e878e1-69c1-4c8d-b1fb-58b3bac777ac\",\n",
      "    \"description\": \"\",\n",
      "    \"source\": {\n",
      "        \"name\": \"Luminaire.1\",\n",
      "        \"luminaire\": {\n",
      "            \"radiant_flux\": {\n",
      "                \"radiant_value\": 1.2\n",
      "            },\n",
      "            \"intensity_file_uri\": \"/app/assets/IES_C_DETECTOR.ies\",\n",
      "            \"spectrum_guid\": \"d1f62f4b-e9e7-4f8c-9712-c34b35b1b70f\",\n",
      "            \"spectrum\": {\n",
      "                \"name\": \"Luminaire.1.Spectrum\",\n",
      "                \"predefined\": {\n",
      "                    \"halogen\": {}\n",
      "                },\n",
      "                \"description\": \"\",\n",
      "                \"metadata\": {}\n",
      "            },\n",
      "            \"axis_system\": [\n",
      "                17.0,\n",
      "                10.0,\n",
      "                10.0,\n",
      "                1.0,\n",
      "                0.0,\n",
      "                0.0,\n",
      "                0.0,\n",
      "                1.0,\n",
      "                0.0,\n",
      "                0.0,\n",
      "                0.0,\n",
      "                1.0\n",
      "            ]\n",
      "        },\n",
      "        \"description\": \"\",\n",
      "        \"metadata\": {}\n",
      "    }\n",
      "}\n"
     ]
    }
   ],
   "source": [
    "source1.set_flux_radiant(value=1.2)  # modify radiant flux value\n",
    "source1.set_axis_system(axis_system=[17, 10, 10, 1, 0, 0, 0, 1, 0, 0, 0, 1])  # modify axis system\n",
    "source1.set_spectrum().set_halogen()  # modify spectrum by choosing halogen\n",
    "source1.commit()  # Push changes to the server\n",
    "print(source1)"
   ]
  },
  {
   "cell_type": "markdown",
   "id": "9db0ce58",
   "metadata": {},
   "source": [
    "**Reset**\n",
    "\n",
    "Possibility to reset local values from the one available in the server."
   ]
  },
  {
   "cell_type": "code",
   "execution_count": 13,
   "id": "678948ff",
   "metadata": {
    "execution": {
     "iopub.execute_input": "2025-06-17T07:16:05.252972Z",
     "iopub.status.busy": "2025-06-17T07:16:05.252551Z",
     "iopub.status.idle": "2025-06-17T07:16:05.260357Z",
     "shell.execute_reply": "2025-06-17T07:16:05.259790Z"
    },
    "lines_to_next_cell": 2
   },
   "outputs": [
    {
     "name": "stdout",
     "output_type": "stream",
     "text": [
      "local: {\n",
      "    \"name\": \"Luminaire.1\",\n",
      "    \"description\": \"\",\n",
      "    \"metadata\": {},\n",
      "    \"source_guid\": \"\",\n",
      "    \"source\": {\n",
      "        \"name\": \"Luminaire.1\",\n",
      "        \"luminaire\": {\n",
      "            \"radiant_flux\": {\n",
      "                \"radiant_value\": 1.2\n",
      "            },\n",
      "            \"intensity_file_uri\": \"/app/assets/IES_C_DETECTOR.ies\",\n",
      "            \"spectrum_guid\": \"d1f62f4b-e9e7-4f8c-9712-c34b35b1b70f\",\n",
      "            \"spectrum\": {\n",
      "                \"name\": \"Luminaire.1.Spectrum\",\n",
      "                \"predefined\": {\n",
      "                    \"halogen\": {}\n",
      "                },\n",
      "                \"description\": \"\",\n",
      "                \"metadata\": {}\n",
      "            },\n",
      "            \"axis_system\": [\n",
      "                17.0,\n",
      "                10.0,\n",
      "                10.0,\n",
      "                1.0,\n",
      "                0.0,\n",
      "                0.0,\n",
      "                0.0,\n",
      "                1.0,\n",
      "                0.0,\n",
      "                0.0,\n",
      "                0.0,\n",
      "                1.0\n",
      "            ]\n",
      "        },\n",
      "        \"description\": \"\",\n",
      "        \"metadata\": {}\n",
      "    }\n",
      "}\n"
     ]
    }
   ],
   "source": [
    "source1.set_flux_luminous()  # modify to luminous flux BUT no commit\n",
    "source1.reset()\n",
    "# reset -> this will apply the server value to the local value the local value will be back to\n",
    "# halogen\n",
    "source1.delete()  # delete (to display the local value with the below print)\n",
    "print(source1)"
   ]
  },
  {
   "cell_type": "markdown",
   "id": "7c0ea0e2",
   "metadata": {},
   "source": [
    "**Delete**\n",
    "\n",
    "Once the data is deleted from the server, you can still work with local data and maybe commit\n",
    "later."
   ]
  },
  {
   "cell_type": "code",
   "execution_count": 14,
   "id": "1b7e6641",
   "metadata": {
    "execution": {
     "iopub.execute_input": "2025-06-17T07:16:05.262530Z",
     "iopub.status.busy": "2025-06-17T07:16:05.262148Z",
     "iopub.status.idle": "2025-06-17T07:16:05.269488Z",
     "shell.execute_reply": "2025-06-17T07:16:05.268804Z"
    }
   },
   "outputs": [
    {
     "name": "stdout",
     "output_type": "stream",
     "text": [
      "local: {\n",
      "    \"name\": \"Luminaire.2\",\n",
      "    \"description\": \"\",\n",
      "    \"metadata\": {},\n",
      "    \"source_guid\": \"\",\n",
      "    \"source\": {\n",
      "        \"name\": \"Luminaire.2\",\n",
      "        \"luminaire\": {\n",
      "            \"radiant_flux\": {\n",
      "                \"radiant_value\": 1.0\n",
      "            },\n",
      "            \"intensity_file_uri\": \"/app/assets/IES_C_DETECTOR.ies\",\n",
      "            \"spectrum_guid\": \"f0a5fe8c-76f4-4911-bebc-176b14acae28\",\n",
      "            \"spectrum\": {\n",
      "                \"name\": \"Luminaire.2.Spectrum\",\n",
      "                \"blackbody\": {\n",
      "                    \"temperature\": 2856.0\n",
      "                },\n",
      "                \"description\": \"\",\n",
      "                \"metadata\": {}\n",
      "            },\n",
      "            \"axis_system\": [\n",
      "                20.0,\n",
      "                50.0,\n",
      "                10.0,\n",
      "                1.0,\n",
      "                0.0,\n",
      "                0.0,\n",
      "                0.0,\n",
      "                1.0,\n",
      "                0.0,\n",
      "                0.0,\n",
      "                0.0,\n",
      "                1.0\n",
      "            ]\n",
      "        },\n",
      "        \"description\": \"\",\n",
      "        \"metadata\": {}\n",
      "    }\n",
      "}\n",
      "{\n",
      "    \"name\": \"\",\n",
      "    \"description\": \"\",\n",
      "    \"metadata\": {},\n",
      "    \"part_guid\": \"\",\n",
      "    \"sources\": [],\n",
      "    \"sensors\": [],\n",
      "    \"simulations\": [],\n",
      "    \"materials\": [],\n",
      "    \"scenes\": []\n",
      "}\n"
     ]
    }
   ],
   "source": [
    "source2.delete()\n",
    "print(source2)\n",
    "source1.delete()\n",
    "print(p)"
   ]
  },
  {
   "cell_type": "markdown",
   "id": "2a18100d",
   "metadata": {},
   "source": [
    "## Other Sources Examples"
   ]
  },
  {
   "cell_type": "markdown",
   "id": "9a2042f8",
   "metadata": {},
   "source": [
    "### Ray-file source"
   ]
  },
  {
   "cell_type": "code",
   "execution_count": 15,
   "id": "f9530008",
   "metadata": {
    "execution": {
     "iopub.execute_input": "2025-06-17T07:16:05.271631Z",
     "iopub.status.busy": "2025-06-17T07:16:05.271246Z",
     "iopub.status.idle": "2025-06-17T07:16:05.282935Z",
     "shell.execute_reply": "2025-06-17T07:16:05.282334Z"
    }
   },
   "outputs": [
    {
     "name": "stdout",
     "output_type": "stream",
     "text": [
      "{\n",
      "    \"name\": \"Ray-file.1\",\n",
      "    \"metadata\": {\n",
      "        \"UniqueId\": \"f48edbf5-0667-48ab-9634-1d2981e3eb17\"\n",
      "    },\n",
      "    \"source_guid\": \"3dfd4318-5a69-4aee-9fc9-ad570f355eb4\",\n",
      "    \"description\": \"\",\n",
      "    \"source\": {\n",
      "        \"name\": \"Ray-file.1\",\n",
      "        \"rayfile\": {\n",
      "            \"ray_file_uri\": \"/app/assets/Rays.ray\",\n",
      "            \"flux_from_ray_file\": {},\n",
      "            \"spectrum_from_ray_file\": {},\n",
      "            \"axis_system\": [\n",
      "                0.0,\n",
      "                0.0,\n",
      "                0.0,\n",
      "                1.0,\n",
      "                0.0,\n",
      "                0.0,\n",
      "                0.0,\n",
      "                1.0,\n",
      "                0.0,\n",
      "                0.0,\n",
      "                0.0,\n",
      "                1.0\n",
      "            ]\n",
      "        },\n",
      "        \"description\": \"\",\n",
      "        \"metadata\": {}\n",
      "    }\n",
      "}\n"
     ]
    }
   ],
   "source": [
    "ray_file_path = str(assets_data_path / \"Rays.ray\")\n",
    "\n",
    "source3 = p.create_source(name=\"Ray-file.1\", feature_type=SourceRayFile)  # type ray file\n",
    "source3.set_ray_file_uri(uri=ray_file_path)\n",
    "source3.commit()\n",
    "print(source3)"
   ]
  },
  {
   "cell_type": "code",
   "execution_count": 16,
   "id": "09bf8169",
   "metadata": {
    "execution": {
     "iopub.execute_input": "2025-06-17T07:16:05.284813Z",
     "iopub.status.busy": "2025-06-17T07:16:05.284603Z",
     "iopub.status.idle": "2025-06-17T07:16:05.292424Z",
     "shell.execute_reply": "2025-06-17T07:16:05.291854Z"
    }
   },
   "outputs": [
    {
     "name": "stdout",
     "output_type": "stream",
     "text": [
      "{\n",
      "    \"name\": \"Ray-file.1\",\n",
      "    \"metadata\": {\n",
      "        \"UniqueId\": \"f48edbf5-0667-48ab-9634-1d2981e3eb17\"\n",
      "    },\n",
      "    \"source_guid\": \"3dfd4318-5a69-4aee-9fc9-ad570f355eb4\",\n",
      "    \"description\": \"\",\n",
      "    \"source\": {\n",
      "        \"name\": \"Ray-file.1\",\n",
      "        \"rayfile\": {\n",
      "            \"ray_file_uri\": \"/app/assets/Rays.ray\",\n",
      "            \"luminous_flux\": {\n",
      "                \"luminous_value\": 683.0\n",
      "            },\n",
      "            \"spectrum_from_ray_file\": {},\n",
      "            \"axis_system\": [\n",
      "                0.0,\n",
      "                0.0,\n",
      "                0.0,\n",
      "                1.0,\n",
      "                0.0,\n",
      "                0.0,\n",
      "                0.0,\n",
      "                1.0,\n",
      "                0.0,\n",
      "                0.0,\n",
      "                0.0,\n",
      "                1.0\n",
      "            ]\n",
      "        },\n",
      "        \"description\": \"\",\n",
      "        \"metadata\": {}\n",
      "    }\n",
      "}\n"
     ]
    }
   ],
   "source": [
    "source3.set_flux_luminous()\n",
    "source3.commit()\n",
    "print(source3)"
   ]
  },
  {
   "cell_type": "code",
   "execution_count": 17,
   "id": "d865b4e2",
   "metadata": {
    "execution": {
     "iopub.execute_input": "2025-06-17T07:16:05.294523Z",
     "iopub.status.busy": "2025-06-17T07:16:05.294145Z",
     "iopub.status.idle": "2025-06-17T07:16:05.301860Z",
     "shell.execute_reply": "2025-06-17T07:16:05.301170Z"
    }
   },
   "outputs": [
    {
     "data": {
      "text/plain": [
       "<ansys.speos.core.source.SourceRayFile at 0x7f6da1d812a0>"
      ]
     },
     "execution_count": 17,
     "metadata": {},
     "output_type": "execute_result"
    }
   ],
   "source": [
    "source3.delete()"
   ]
  },
  {
   "cell_type": "markdown",
   "id": "4e5eb4f8",
   "metadata": {},
   "source": [
    "### Surface source"
   ]
  },
  {
   "cell_type": "code",
   "execution_count": 18,
   "id": "b5fa8a7d",
   "metadata": {
    "execution": {
     "iopub.execute_input": "2025-06-17T07:16:05.304109Z",
     "iopub.status.busy": "2025-06-17T07:16:05.303753Z",
     "iopub.status.idle": "2025-06-17T07:16:05.328763Z",
     "shell.execute_reply": "2025-06-17T07:16:05.328051Z"
    }
   },
   "outputs": [
    {
     "name": "stdout",
     "output_type": "stream",
     "text": [
      "{\n",
      "    \"name\": \"Surface.1\",\n",
      "    \"metadata\": {\n",
      "        \"UniqueId\": \"01f1d742-74b7-4ef8-8dee-c3a32467baa6\"\n",
      "    },\n",
      "    \"source_guid\": \"3727a11b-1208-4f9d-a5fe-42d98f28627c\",\n",
      "    \"description\": \"\",\n",
      "    \"source\": {\n",
      "        \"name\": \"Surface.1\",\n",
      "        \"surface\": {\n",
      "            \"luminous_flux\": {\n",
      "                \"luminous_value\": 683.0\n",
      "            },\n",
      "            \"intensity_guid\": \"7225063f-212f-417f-be62-e8f5a8f066ce\",\n",
      "            \"exitance_constant\": {\n",
      "                \"geo_paths\": [\n",
      "                    {\n",
      "                        \"geo_path\": \"TheBodyB/TheFaceF\",\n",
      "                        \"reverse_normal\": false\n",
      "                    },\n",
      "                    {\n",
      "                        \"geo_path\": \"TheBodyC/TheFaceF\",\n",
      "                        \"reverse_normal\": true\n",
      "                    }\n",
      "                ]\n",
      "            },\n",
      "            \"spectrum_guid\": \"213f21fb-d068-4377-a235-9fb635a162af\",\n",
      "            \"intensity\": {\n",
      "                \"name\": \"Surface.1.Intensity\",\n",
      "                \"cos\": {\n",
      "                    \"N\": 1.0,\n",
      "                    \"total_angle\": 180.0\n",
      "                },\n",
      "                \"description\": \"\",\n",
      "                \"metadata\": {}\n",
      "            },\n",
      "            \"spectrum\": {\n",
      "                \"name\": \"Surface.1.Spectrum\",\n",
      "                \"monochromatic\": {\n",
      "                    \"wavelength\": 555.0\n",
      "                },\n",
      "                \"description\": \"\",\n",
      "                \"metadata\": {}\n",
      "            }\n",
      "        },\n",
      "        \"description\": \"\",\n",
      "        \"metadata\": {}\n",
      "    }\n",
      "}\n"
     ]
    }
   ],
   "source": [
    "create_helper_geometries(p)\n",
    "source4 = p.create_source(name=\"Surface.1\", feature_type=SourceSurface)\n",
    "source4.set_exitance_constant(\n",
    "    geometries=[\n",
    "        (GeoRef.from_native_link(\"TheBodyB/TheFaceF\"), False),\n",
    "        (GeoRef.from_native_link(\"TheBodyC/TheFaceF\"), True),\n",
    "    ]\n",
    ")\n",
    "source4.commit()\n",
    "print(source4)"
   ]
  },
  {
   "cell_type": "code",
   "execution_count": 19,
   "id": "610dcaea",
   "metadata": {
    "execution": {
     "iopub.execute_input": "2025-06-17T07:16:05.331115Z",
     "iopub.status.busy": "2025-06-17T07:16:05.330554Z",
     "iopub.status.idle": "2025-06-17T07:16:05.356111Z",
     "shell.execute_reply": "2025-06-17T07:16:05.355380Z"
    }
   },
   "outputs": [
    {
     "name": "stdout",
     "output_type": "stream",
     "text": [
      "{\n",
      "    \"name\": \"Surface.1\",\n",
      "    \"metadata\": {\n",
      "        \"UniqueId\": \"01f1d742-74b7-4ef8-8dee-c3a32467baa6\"\n",
      "    },\n",
      "    \"source_guid\": \"3727a11b-1208-4f9d-a5fe-42d98f28627c\",\n",
      "    \"description\": \"\",\n",
      "    \"source\": {\n",
      "        \"name\": \"Surface.1\",\n",
      "        \"surface\": {\n",
      "            \"luminous_intensity_flux\": {\n",
      "                \"luminous_intensity_value\": 5.0\n",
      "            },\n",
      "            \"intensity_guid\": \"7225063f-212f-417f-be62-e8f5a8f066ce\",\n",
      "            \"exitance_constant\": {\n",
      "                \"geo_paths\": [\n",
      "                    {\n",
      "                        \"geo_path\": \"TheBodyB/TheFaceF\",\n",
      "                        \"reverse_normal\": false\n",
      "                    },\n",
      "                    {\n",
      "                        \"geo_path\": \"TheBodyC/TheFaceF\",\n",
      "                        \"reverse_normal\": true\n",
      "                    }\n",
      "                ]\n",
      "            },\n",
      "            \"spectrum_guid\": \"213f21fb-d068-4377-a235-9fb635a162af\",\n",
      "            \"intensity\": {\n",
      "                \"name\": \"Surface.1.Intensity\",\n",
      "                \"gaussian\": {\n",
      "                    \"FWHM_angle_x\": 30.0,\n",
      "                    \"FWHM_angle_y\": 30.0,\n",
      "                    \"total_angle\": 180.0,\n",
      "                    \"axis_system\": [\n",
      "                        10.0,\n",
      "                        50.0,\n",
      "                        20.0,\n",
      "                        1.0,\n",
      "                        0.0,\n",
      "                        0.0,\n",
      "                        0.0,\n",
      "                        1.0,\n",
      "                        0.0,\n",
      "                        0.0,\n",
      "                        0.0,\n",
      "                        1.0\n",
      "                    ]\n",
      "                },\n",
      "                \"description\": \"\",\n",
      "                \"metadata\": {}\n",
      "            },\n",
      "            \"spectrum\": {\n",
      "                \"name\": \"Surface.1.Spectrum\",\n",
      "                \"monochromatic\": {\n",
      "                    \"wavelength\": 555.0\n",
      "                },\n",
      "                \"description\": \"\",\n",
      "                \"metadata\": {}\n",
      "            }\n",
      "        },\n",
      "        \"description\": \"\",\n",
      "        \"metadata\": {}\n",
      "    }\n",
      "}\n"
     ]
    }
   ],
   "source": [
    "source4.set_flux_luminous_intensity()\n",
    "source4.set_intensity().set_gaussian().set_axis_system(\n",
    "    axis_system=[10, 50, 20, 1, 0, 0, 0, 1, 0, 0, 0, 1]\n",
    ")\n",
    "source4.commit()\n",
    "print(source4)"
   ]
  },
  {
   "cell_type": "code",
   "execution_count": 20,
   "id": "9f6861a2",
   "metadata": {
    "execution": {
     "iopub.execute_input": "2025-06-17T07:16:05.358265Z",
     "iopub.status.busy": "2025-06-17T07:16:05.357889Z",
     "iopub.status.idle": "2025-06-17T07:16:05.366461Z",
     "shell.execute_reply": "2025-06-17T07:16:05.365787Z"
    }
   },
   "outputs": [
    {
     "name": "stdout",
     "output_type": "stream",
     "text": [
      "local: {\n",
      "    \"name\": \"Surface.1\",\n",
      "    \"description\": \"\",\n",
      "    \"metadata\": {},\n",
      "    \"source_guid\": \"\",\n",
      "    \"source\": {\n",
      "        \"name\": \"Surface.1\",\n",
      "        \"surface\": {\n",
      "            \"luminous_intensity_flux\": {\n",
      "                \"luminous_intensity_value\": 5.0\n",
      "            },\n",
      "            \"intensity_guid\": \"7225063f-212f-417f-be62-e8f5a8f066ce\",\n",
      "            \"exitance_constant\": {\n",
      "                \"geo_paths\": [\n",
      "                    {\n",
      "                        \"geo_path\": \"TheBodyB/TheFaceF\",\n",
      "                        \"reverse_normal\": false\n",
      "                    },\n",
      "                    {\n",
      "                        \"geo_path\": \"TheBodyC/TheFaceF\",\n",
      "                        \"reverse_normal\": true\n",
      "                    }\n",
      "                ]\n",
      "            },\n",
      "            \"spectrum_guid\": \"213f21fb-d068-4377-a235-9fb635a162af\",\n",
      "            \"intensity\": {\n",
      "                \"name\": \"Surface.1.Intensity\",\n",
      "                \"gaussian\": {\n",
      "                    \"FWHM_angle_x\": 30.0,\n",
      "                    \"FWHM_angle_y\": 30.0,\n",
      "                    \"total_angle\": 180.0,\n",
      "                    \"axis_system\": [\n",
      "                        10.0,\n",
      "                        50.0,\n",
      "                        20.0,\n",
      "                        1.0,\n",
      "                        0.0,\n",
      "                        0.0,\n",
      "                        0.0,\n",
      "                        1.0,\n",
      "                        0.0,\n",
      "                        0.0,\n",
      "                        0.0,\n",
      "                        1.0\n",
      "                    ]\n",
      "                },\n",
      "                \"description\": \"\",\n",
      "                \"metadata\": {}\n",
      "            },\n",
      "            \"spectrum\": {\n",
      "                \"name\": \"Surface.1.Spectrum\",\n",
      "                \"monochromatic\": {\n",
      "                    \"wavelength\": 555.0\n",
      "                },\n",
      "                \"description\": \"\",\n",
      "                \"metadata\": {}\n",
      "            }\n",
      "        },\n",
      "        \"description\": \"\",\n",
      "        \"metadata\": {}\n",
      "    }\n",
      "}\n"
     ]
    }
   ],
   "source": [
    "source4.delete()\n",
    "print(source4)"
   ]
  },
  {
   "cell_type": "markdown",
   "id": "c86fc4f3",
   "metadata": {},
   "source": [
    "When creating sources, this creates some intermediate objects (spectrums, intensity templates).\n",
    "\n",
    "Deleting a source does not delete in cascade those objects\n",
    "because they could be used by some other entities from core layer.\n",
    "\n",
    "Then at the end of the example, we just clean all databases"
   ]
  },
  {
   "cell_type": "code",
   "execution_count": 21,
   "id": "5ac2eda5",
   "metadata": {
    "execution": {
     "iopub.execute_input": "2025-06-17T07:16:05.368559Z",
     "iopub.status.busy": "2025-06-17T07:16:05.368334Z",
     "iopub.status.idle": "2025-06-17T07:16:05.378809Z",
     "shell.execute_reply": "2025-06-17T07:16:05.378145Z"
    }
   },
   "outputs": [
    {
     "data": {
      "text/plain": [
       "True"
      ]
     },
     "execution_count": 21,
     "metadata": {},
     "output_type": "execute_result"
    }
   ],
   "source": [
    "for item in speos.client.intensity_templates().list() + speos.client.spectrums().list():\n",
    "    item.delete()\n",
    "\n",
    "speos.close()"
   ]
  }
 ],
 "metadata": {
  "jupytext": {
   "cell_metadata_filter": "-all",
   "main_language": "python",
   "notebook_metadata_filter": "-all",
   "text_representation": {
    "extension": ".py",
    "format_name": "light"
   }
  },
  "language_info": {
   "codemirror_mode": {
    "name": "ipython",
    "version": 3
   },
   "file_extension": ".py",
   "mimetype": "text/x-python",
   "name": "python",
   "nbconvert_exporter": "python",
   "pygments_lexer": "ipython3",
   "version": "3.10.17"
  }
 },
 "nbformat": 4,
 "nbformat_minor": 5
}
