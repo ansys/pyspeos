{
 "cells": [
  {
   "cell_type": "markdown",
   "id": "f9949cf7",
   "metadata": {},
   "source": [
    "# How to create a part\n",
    "\n",
    "This tutorial demonstrates how to create a part.\n",
    "\n",
    "## What is a part?\n",
    "\n",
    "A part is either a volume or a face type bodies that are defined by a number of mesh triangles.\n",
    "\n",
    "Then a material optical property can be then applied to a part (like bodies, faces)."
   ]
  },
  {
   "cell_type": "markdown",
   "id": "f62993b4",
   "metadata": {},
   "source": [
    "## Prerequisites\n",
    "\n",
    "### Perform imports"
   ]
  },
  {
   "cell_type": "code",
   "execution_count": 1,
   "id": "53a35e1f",
   "metadata": {
    "execution": {
     "iopub.execute_input": "2025-06-17T07:14:15.015108Z",
     "iopub.status.busy": "2025-06-17T07:14:15.014903Z",
     "iopub.status.idle": "2025-06-17T07:14:15.854155Z",
     "shell.execute_reply": "2025-06-17T07:14:15.853474Z"
    }
   },
   "outputs": [],
   "source": [
    "from pathlib import Path\n",
    "\n",
    "from ansys.speos.core import Body, Face, Part, Project, Speos\n",
    "from ansys.speos.core.launcher import launch_local_speos_rpc_server\n"
   ]
  },
  {
   "cell_type": "markdown",
   "id": "ef5f9b94",
   "metadata": {},
   "source": [
    "### Define constants\n",
    "\n",
    "The constants help ensure consistency and avoid repetition throughout the example."
   ]
  },
  {
   "cell_type": "code",
   "execution_count": 2,
   "id": "e76f3fc2",
   "metadata": {
    "execution": {
     "iopub.execute_input": "2025-06-17T07:14:15.856775Z",
     "iopub.status.busy": "2025-06-17T07:14:15.856262Z",
     "iopub.status.idle": "2025-06-17T07:14:15.859473Z",
     "shell.execute_reply": "2025-06-17T07:14:15.858947Z"
    }
   },
   "outputs": [],
   "source": [
    "HOSTNAME = \"localhost\"\n",
    "GRPC_PORT = 50098  # Be sure the Speos GRPC Server has been started on this port.\n",
    "USE_DOCKER = True  # Set to False if you're running this example locally as a Notebook."
   ]
  },
  {
   "cell_type": "markdown",
   "id": "19858308",
   "metadata": {},
   "source": [
    "## Model Setup\n",
    "\n",
    "### Load assets\n",
    "The assets used to run this example are available in the\n",
    "[PySpeos repository](https://github.com/ansys/pyspeos/) on GitHub.\n",
    "\n",
    "> **Note:** Make sure you have downloaded the simulation assets\n",
    "> and set ``assets_data_path`` to point to the assets folder."
   ]
  },
  {
   "cell_type": "code",
   "execution_count": 3,
   "id": "3e04f7dc",
   "metadata": {
    "execution": {
     "iopub.execute_input": "2025-06-17T07:14:15.861481Z",
     "iopub.status.busy": "2025-06-17T07:14:15.861092Z",
     "iopub.status.idle": "2025-06-17T07:14:15.864422Z",
     "shell.execute_reply": "2025-06-17T07:14:15.863862Z"
    },
    "lines_to_next_cell": 2
   },
   "outputs": [],
   "source": [
    "if USE_DOCKER:  # Running on the remote server.\n",
    "    assets_data_path = Path(\"/app\") / \"assets\"\n",
    "else:\n",
    "    assets_data_path = Path(\"/path/to/your/download/assets/directory\")"
   ]
  },
  {
   "cell_type": "markdown",
   "id": "d660678c",
   "metadata": {},
   "source": [
    "### Start/Connect to Speos RPC Server\n",
    "This Python client connects to a server where the Speos engine\n",
    "is running as a service. In this example, the server and\n",
    "client are the same machine. The launch_local_speos_rpc_method can\n",
    "be used to start a local instance of the service."
   ]
  },
  {
   "cell_type": "code",
   "execution_count": 4,
   "id": "e8f33ed5",
   "metadata": {
    "execution": {
     "iopub.execute_input": "2025-06-17T07:14:15.866373Z",
     "iopub.status.busy": "2025-06-17T07:14:15.865985Z",
     "iopub.status.idle": "2025-06-17T07:14:15.874994Z",
     "shell.execute_reply": "2025-06-17T07:14:15.874433Z"
    },
    "lines_to_next_cell": 2
   },
   "outputs": [],
   "source": [
    "if USE_DOCKER:\n",
    "    speos = Speos(host=HOSTNAME, port=GRPC_PORT)\n",
    "else:\n",
    "    speos = launch_local_speos_rpc_server(port=GRPC_PORT)"
   ]
  },
  {
   "cell_type": "markdown",
   "id": "fd8a2a71",
   "metadata": {},
   "source": [
    "## New Project\n",
    "\n",
    "The only way to create parts, bodies and faces is from a project."
   ]
  },
  {
   "cell_type": "code",
   "execution_count": 5,
   "id": "0e359e90",
   "metadata": {
    "execution": {
     "iopub.execute_input": "2025-06-17T07:14:15.877027Z",
     "iopub.status.busy": "2025-06-17T07:14:15.876618Z",
     "iopub.status.idle": "2025-06-17T07:14:15.882715Z",
     "shell.execute_reply": "2025-06-17T07:14:15.882154Z"
    }
   },
   "outputs": [
    {
     "name": "stdout",
     "output_type": "stream",
     "text": [
      "{\n",
      "    \"name\": \"\",\n",
      "    \"description\": \"\",\n",
      "    \"metadata\": {},\n",
      "    \"part_guid\": \"\",\n",
      "    \"sources\": [],\n",
      "    \"sensors\": [],\n",
      "    \"simulations\": [],\n",
      "    \"materials\": [],\n",
      "    \"scenes\": []\n",
      "}\n"
     ]
    }
   ],
   "source": [
    "p = Project(speos=speos)\n",
    "print(p)"
   ]
  },
  {
   "cell_type": "markdown",
   "id": "f3adf9aa",
   "metadata": {},
   "source": [
    "## Create\n",
    "\n",
    "Before creating a body, a Root part needs to be created and committed."
   ]
  },
  {
   "cell_type": "code",
   "execution_count": 6,
   "id": "bdef4fda",
   "metadata": {
    "execution": {
     "iopub.execute_input": "2025-06-17T07:14:15.884515Z",
     "iopub.status.busy": "2025-06-17T07:14:15.884331Z",
     "iopub.status.idle": "2025-06-17T07:14:15.889348Z",
     "shell.execute_reply": "2025-06-17T07:14:15.888766Z"
    }
   },
   "outputs": [
    {
     "name": "stdout",
     "output_type": "stream",
     "text": [
      "{\n",
      "    \"name\": \"RootPart\",\n",
      "    \"description\": \"\",\n",
      "    \"metadata\": {},\n",
      "    \"body_guids\": [],\n",
      "    \"parts\": []\n",
      "}\n"
     ]
    }
   ],
   "source": [
    "root_part = p.create_root_part().commit()\n",
    "print(root_part)"
   ]
  },
  {
   "cell_type": "markdown",
   "id": "b1a242a6",
   "metadata": {},
   "source": [
    "### Create bodies in root part.\n",
    "A body can either a volume or face type. Both use the method named \"create_body\"."
   ]
  },
  {
   "cell_type": "code",
   "execution_count": 7,
   "id": "071ae324",
   "metadata": {
    "execution": {
     "iopub.execute_input": "2025-06-17T07:14:15.891132Z",
     "iopub.status.busy": "2025-06-17T07:14:15.890945Z",
     "iopub.status.idle": "2025-06-17T07:14:15.905263Z",
     "shell.execute_reply": "2025-06-17T07:14:15.904663Z"
    }
   },
   "outputs": [
    {
     "name": "stdout",
     "output_type": "stream",
     "text": [
      "{\n",
      "    \"name\": \"RootPart\",\n",
      "    \"body_guids\": [\n",
      "        \"c915c2fb-4cbb-436b-97f6-adc4ba80bb22\",\n",
      "        \"61dc4080-4e12-453f-b417-18111867e67e\"\n",
      "    ],\n",
      "    \"description\": \"\",\n",
      "    \"metadata\": {},\n",
      "    \"parts\": [],\n",
      "    \"bodys\": [\n",
      "        {\n",
      "            \"name\": \"TheBodyB1\",\n",
      "            \"description\": \"\",\n",
      "            \"metadata\": {},\n",
      "            \"face_guids\": []\n",
      "        },\n",
      "        {\n",
      "            \"name\": \"TheBodyB2\",\n",
      "            \"description\": \"\",\n",
      "            \"metadata\": {},\n",
      "            \"face_guids\": []\n",
      "        }\n",
      "    ]\n",
      "}\n"
     ]
    }
   ],
   "source": [
    "body_b1 = root_part.create_body(name=\"TheBodyB1\").commit()\n",
    "body_b2 = root_part.create_body(name=\"TheBodyB2\").commit()\n",
    "print(root_part)"
   ]
  },
  {
   "cell_type": "markdown",
   "id": "fcd1587d",
   "metadata": {},
   "source": [
    "### Create faces inside a body.\n",
    "A body can have one (example, surface/open-volume type of body) or multiple faces\n",
    "(close-volume type of body).\n",
    "\n",
    "Each face is then defined by a number of triangles/facets.\n",
    "\n",
    "Each triangle/facet is defined by vertices and vertice normals."
   ]
  },
  {
   "cell_type": "code",
   "execution_count": 8,
   "id": "72e16460",
   "metadata": {
    "execution": {
     "iopub.execute_input": "2025-06-17T07:14:15.907199Z",
     "iopub.status.busy": "2025-06-17T07:14:15.907004Z",
     "iopub.status.idle": "2025-06-17T07:14:15.926887Z",
     "shell.execute_reply": "2025-06-17T07:14:15.926308Z"
    }
   },
   "outputs": [
    {
     "name": "stdout",
     "output_type": "stream",
     "text": [
      "{\n",
      "    \"name\": \"RootPart\",\n",
      "    \"body_guids\": [\n",
      "        \"c915c2fb-4cbb-436b-97f6-adc4ba80bb22\",\n",
      "        \"61dc4080-4e12-453f-b417-18111867e67e\"\n",
      "    ],\n",
      "    \"description\": \"\",\n",
      "    \"metadata\": {},\n",
      "    \"parts\": [],\n",
      "    \"bodys\": [\n",
      "        {\n",
      "            \"name\": \"TheBodyB1\",\n",
      "            \"face_guids\": [\n",
      "                \"7af4683a-d020-4b71-bbd3-7e899ff918fb\"\n",
      "            ],\n",
      "            \"description\": \"\",\n",
      "            \"metadata\": {},\n",
      "            \"faces\": [\n",
      "                {\n",
      "                    \"name\": \"TheFaceF1\",\n",
      "                    \"vertices\": [\n",
      "                        0.0,\n",
      "                        0.0,\n",
      "                        0.0,\n",
      "                        1.0,\n",
      "                        0.0,\n",
      "                        0.0,\n",
      "                        0.0,\n",
      "                        1.0,\n",
      "                        0.0\n",
      "                    ],\n",
      "                    \"facets\": [\n",
      "                        0,\n",
      "                        1,\n",
      "                        2\n",
      "                    ],\n",
      "                    \"normals\": [\n",
      "                        0.0,\n",
      "                        0.0,\n",
      "                        1.0,\n",
      "                        0.0,\n",
      "                        0.0,\n",
      "                        1.0,\n",
      "                        0.0,\n",
      "                        0.0,\n",
      "                        1.0\n",
      "                    ],\n",
      "                    \"description\": \"\",\n",
      "                    \"metadata\": {},\n",
      "                    \"texture_coordinates_channels\": []\n",
      "                }\n",
      "            ]\n",
      "        },\n",
      "        {\n",
      "            \"name\": \"TheBodyB2\",\n",
      "            \"description\": \"\",\n",
      "            \"metadata\": {},\n",
      "            \"face_guids\": []\n",
      "        }\n",
      "    ]\n",
      "}\n"
     ]
    }
   ],
   "source": [
    "face_b1_f1 = (\n",
    "    body_b1.create_face(name=\"TheFaceF1\")\n",
    "    .set_vertices([0, 0, 0, 1, 0, 0, 0, 1, 0])\n",
    "    .set_facets([0, 1, 2])\n",
    "    .set_normals([0, 0, 1, 0, 0, 1, 0, 0, 1])\n",
    "    .commit()\n",
    ")\n",
    "print(root_part)"
   ]
  },
  {
   "cell_type": "markdown",
   "id": "274d4dd6",
   "metadata": {},
   "source": [
    "### Create bodies in sub part.\n",
    "\n",
    "Part can also be created under a sub-part.\n",
    "\n",
    "The location sub-part can be defined using set_axis_system method."
   ]
  },
  {
   "cell_type": "code",
   "execution_count": 9,
   "id": "c5f1f438",
   "metadata": {
    "execution": {
     "iopub.execute_input": "2025-06-17T07:14:15.928855Z",
     "iopub.status.busy": "2025-06-17T07:14:15.928508Z",
     "iopub.status.idle": "2025-06-17T07:14:15.949953Z",
     "shell.execute_reply": "2025-06-17T07:14:15.949374Z"
    }
   },
   "outputs": [
    {
     "name": "stdout",
     "output_type": "stream",
     "text": [
      "{\n",
      "    \"name\": \"RootPart\",\n",
      "    \"body_guids\": [\n",
      "        \"c915c2fb-4cbb-436b-97f6-adc4ba80bb22\",\n",
      "        \"61dc4080-4e12-453f-b417-18111867e67e\"\n",
      "    ],\n",
      "    \"parts\": [\n",
      "        {\n",
      "            \"name\": \"TheSubPartSP1\",\n",
      "            \"description\": \"UniqueId_fa4bd62a-edb0-47c1-af0e-2b7685a011c0\",\n",
      "            \"part_guid\": \"ebf0fc31-960e-4d88-b74a-baeded305009\",\n",
      "            \"axis_system\": [\n",
      "                5.0,\n",
      "                5.0,\n",
      "                5.0,\n",
      "                1.0,\n",
      "                0.0,\n",
      "                0.0,\n",
      "                0.0,\n",
      "                1.0,\n",
      "                0.0,\n",
      "                0.0,\n",
      "                0.0,\n",
      "                1.0\n",
      "            ],\n",
      "            \"part\": {\n",
      "                \"name\": \"TheSubPartSP1\",\n",
      "                \"description\": \"\",\n",
      "                \"metadata\": {},\n",
      "                \"body_guids\": [],\n",
      "                \"parts\": []\n",
      "            }\n",
      "        }\n",
      "    ],\n",
      "    \"description\": \"\",\n",
      "    \"metadata\": {},\n",
      "    \"bodys\": [\n",
      "        {\n",
      "            \"name\": \"TheBodyB1\",\n",
      "            \"face_guids\": [\n",
      "                \"7af4683a-d020-4b71-bbd3-7e899ff918fb\"\n",
      "            ],\n",
      "            \"description\": \"\",\n",
      "            \"metadata\": {},\n",
      "            \"faces\": [\n",
      "                {\n",
      "                    \"name\": \"TheFaceF1\",\n",
      "                    \"vertices\": [\n",
      "                        0.0,\n",
      "                        0.0,\n",
      "                        0.0,\n",
      "                        1.0,\n",
      "                        0.0,\n",
      "                        0.0,\n",
      "                        0.0,\n",
      "                        1.0,\n",
      "                        0.0\n",
      "                    ],\n",
      "                    \"facets\": [\n",
      "                        0,\n",
      "                        1,\n",
      "                        2\n",
      "                    ],\n",
      "                    \"normals\": [\n",
      "                        0.0,\n",
      "                        0.0,\n",
      "                        1.0,\n",
      "                        0.0,\n",
      "                        0.0,\n",
      "                        1.0,\n",
      "                        0.0,\n",
      "                        0.0,\n",
      "                        1.0\n",
      "                    ],\n",
      "                    \"description\": \"\",\n",
      "                    \"metadata\": {},\n",
      "                    \"texture_coordinates_channels\": []\n",
      "                }\n",
      "            ]\n",
      "        },\n",
      "        {\n",
      "            \"name\": \"TheBodyB2\",\n",
      "            \"description\": \"\",\n",
      "            \"metadata\": {},\n",
      "            \"face_guids\": []\n",
      "        }\n",
      "    ]\n",
      "}\n"
     ]
    }
   ],
   "source": [
    "sub_part1 = (\n",
    "    root_part.create_sub_part(name=\"TheSubPartSP1\")\n",
    "    .set_axis_system(axis_system=[5, 5, 5, 1, 0, 0, 0, 1, 0, 0, 0, 1])\n",
    "    .commit()\n",
    ")\n",
    "print(root_part)"
   ]
  },
  {
   "cell_type": "markdown",
   "id": "bfb32cff",
   "metadata": {},
   "source": [
    "### Create body and faces in sub part body"
   ]
  },
  {
   "cell_type": "code",
   "execution_count": 10,
   "id": "f9bd02bf",
   "metadata": {
    "execution": {
     "iopub.execute_input": "2025-06-17T07:14:15.951953Z",
     "iopub.status.busy": "2025-06-17T07:14:15.951566Z",
     "iopub.status.idle": "2025-06-17T07:14:16.004936Z",
     "shell.execute_reply": "2025-06-17T07:14:16.004249Z"
    }
   },
   "outputs": [
    {
     "name": "stdout",
     "output_type": "stream",
     "text": [
      "{\n",
      "    \"name\": \"RootPart\",\n",
      "    \"body_guids\": [\n",
      "        \"c915c2fb-4cbb-436b-97f6-adc4ba80bb22\",\n",
      "        \"61dc4080-4e12-453f-b417-18111867e67e\"\n",
      "    ],\n",
      "    \"parts\": [\n",
      "        {\n",
      "            \"name\": \"TheSubPartSP1\",\n",
      "            \"description\": \"UniqueId_fa4bd62a-edb0-47c1-af0e-2b7685a011c0\",\n",
      "            \"part_guid\": \"ebf0fc31-960e-4d88-b74a-baeded305009\",\n",
      "            \"axis_system\": [\n",
      "                5.0,\n",
      "                5.0,\n",
      "                5.0,\n",
      "                1.0,\n",
      "                0.0,\n",
      "                0.0,\n",
      "                0.0,\n",
      "                1.0,\n",
      "                0.0,\n",
      "                0.0,\n",
      "                0.0,\n",
      "                1.0\n",
      "            ],\n",
      "            \"part\": {\n",
      "                \"name\": \"TheSubPartSP1\",\n",
      "                \"body_guids\": [\n",
      "                    \"1baf34fe-62b2-4516-a039-4e2bc673e11d\"\n",
      "                ],\n",
      "                \"description\": \"\",\n",
      "                \"metadata\": {},\n",
      "                \"parts\": [],\n",
      "                \"bodys\": [\n",
      "                    {\n",
      "                        \"name\": \"TheBodySP1_B1\",\n",
      "                        \"description\": \"\",\n",
      "                        \"metadata\": {},\n",
      "                        \"face_guids\": []\n",
      "                    }\n",
      "                ]\n",
      "            }\n",
      "        }\n",
      "    ],\n",
      "    \"description\": \"\",\n",
      "    \"metadata\": {},\n",
      "    \"bodys\": [\n",
      "        {\n",
      "            \"name\": \"TheBodyB1\",\n",
      "            \"face_guids\": [\n",
      "                \"7af4683a-d020-4b71-bbd3-7e899ff918fb\"\n",
      "            ],\n",
      "            \"description\": \"\",\n",
      "            \"metadata\": {},\n",
      "            \"faces\": [\n",
      "                {\n",
      "                    \"name\": \"TheFaceF1\",\n",
      "                    \"vertices\": [\n",
      "                        0.0,\n",
      "                        0.0,\n",
      "                        0.0,\n",
      "                        1.0,\n",
      "                        0.0,\n",
      "                        0.0,\n",
      "                        0.0,\n",
      "                        1.0,\n",
      "                        0.0\n",
      "                    ],\n",
      "                    \"facets\": [\n",
      "                        0,\n",
      "                        1,\n",
      "                        2\n",
      "                    ],\n",
      "                    \"normals\": [\n",
      "                        0.0,\n",
      "                        0.0,\n",
      "                        1.0,\n",
      "                        0.0,\n",
      "                        0.0,\n",
      "                        1.0,\n",
      "                        0.0,\n",
      "                        0.0,\n",
      "                        1.0\n",
      "                    ],\n",
      "                    \"description\": \"\",\n",
      "                    \"metadata\": {},\n",
      "                    \"texture_coordinates_channels\": []\n",
      "                }\n",
      "            ]\n",
      "        },\n",
      "        {\n",
      "            \"name\": \"TheBodyB2\",\n",
      "            \"description\": \"\",\n",
      "            \"metadata\": {},\n",
      "            \"face_guids\": []\n",
      "        }\n",
      "    ]\n",
      "}\n",
      "{\n",
      "    \"name\": \"RootPart\",\n",
      "    \"body_guids\": [\n",
      "        \"c915c2fb-4cbb-436b-97f6-adc4ba80bb22\",\n",
      "        \"61dc4080-4e12-453f-b417-18111867e67e\"\n",
      "    ],\n",
      "    \"parts\": [\n",
      "        {\n",
      "            \"name\": \"TheSubPartSP1\",\n",
      "            \"description\": \"UniqueId_fa4bd62a-edb0-47c1-af0e-2b7685a011c0\",\n",
      "            \"part_guid\": \"ebf0fc31-960e-4d88-b74a-baeded305009\",\n",
      "            \"axis_system\": [\n",
      "                5.0,\n",
      "                5.0,\n",
      "                5.0,\n",
      "                1.0,\n",
      "                0.0,\n",
      "                0.0,\n",
      "                0.0,\n",
      "                1.0,\n",
      "                0.0,\n",
      "                0.0,\n",
      "                0.0,\n",
      "                1.0\n",
      "            ],\n",
      "            \"part\": {\n",
      "                \"name\": \"TheSubPartSP1\",\n",
      "                \"body_guids\": [\n",
      "                    \"1baf34fe-62b2-4516-a039-4e2bc673e11d\"\n",
      "                ],\n",
      "                \"description\": \"\",\n",
      "                \"metadata\": {},\n",
      "                \"parts\": [],\n",
      "                \"bodys\": [\n",
      "                    {\n",
      "                        \"name\": \"TheBodySP1_B1\",\n",
      "                        \"face_guids\": [\n",
      "                            \"5504cec9-6746-4bc3-bad5-3da14b359279\"\n",
      "                        ],\n",
      "                        \"description\": \"\",\n",
      "                        \"metadata\": {},\n",
      "                        \"faces\": [\n",
      "                            {\n",
      "                                \"name\": \"TheFaceSP1_B1_F1\",\n",
      "                                \"vertices\": [\n",
      "                                    0.0,\n",
      "                                    1.0,\n",
      "                                    0.0,\n",
      "                                    0.0,\n",
      "                                    2.0,\n",
      "                                    0.0,\n",
      "                                    1.0,\n",
      "                                    2.0,\n",
      "                                    0.0\n",
      "                                ],\n",
      "                                \"facets\": [\n",
      "                                    0,\n",
      "                                    1,\n",
      "                                    2\n",
      "                                ],\n",
      "                                \"normals\": [\n",
      "                                    0.0,\n",
      "                                    0.0,\n",
      "                                    1.0,\n",
      "                                    0.0,\n",
      "                                    0.0,\n",
      "                                    1.0,\n",
      "                                    0.0,\n",
      "                                    0.0,\n",
      "                                    1.0\n",
      "                                ],\n",
      "                                \"description\": \"\",\n",
      "                                \"metadata\": {},\n",
      "                                \"texture_coordinates_channels\": []\n",
      "                            }\n",
      "                        ]\n",
      "                    }\n",
      "                ]\n",
      "            }\n",
      "        }\n",
      "    ],\n",
      "    \"description\": \"\",\n",
      "    \"metadata\": {},\n",
      "    \"bodys\": [\n",
      "        {\n",
      "            \"name\": \"TheBodyB1\",\n",
      "            \"face_guids\": [\n",
      "                \"7af4683a-d020-4b71-bbd3-7e899ff918fb\"\n",
      "            ],\n",
      "            \"description\": \"\",\n",
      "            \"metadata\": {},\n",
      "            \"faces\": [\n",
      "                {\n",
      "                    \"name\": \"TheFaceF1\",\n",
      "                    \"vertices\": [\n",
      "                        0.0,\n",
      "                        0.0,\n",
      "                        0.0,\n",
      "                        1.0,\n",
      "                        0.0,\n",
      "                        0.0,\n",
      "                        0.0,\n",
      "                        1.0,\n",
      "                        0.0\n",
      "                    ],\n",
      "                    \"facets\": [\n",
      "                        0,\n",
      "                        1,\n",
      "                        2\n",
      "                    ],\n",
      "                    \"normals\": [\n",
      "                        0.0,\n",
      "                        0.0,\n",
      "                        1.0,\n",
      "                        0.0,\n",
      "                        0.0,\n",
      "                        1.0,\n",
      "                        0.0,\n",
      "                        0.0,\n",
      "                        1.0\n",
      "                    ],\n",
      "                    \"description\": \"\",\n",
      "                    \"metadata\": {},\n",
      "                    \"texture_coordinates_channels\": []\n",
      "                }\n",
      "            ]\n",
      "        },\n",
      "        {\n",
      "            \"name\": \"TheBodyB2\",\n",
      "            \"description\": \"\",\n",
      "            \"metadata\": {},\n",
      "            \"face_guids\": []\n",
      "        }\n",
      "    ]\n",
      "}\n"
     ]
    }
   ],
   "source": [
    "body_sp1_b1 = sub_part1.create_body(name=\"TheBodySP1_B1\").commit()\n",
    "print(root_part)\n",
    "face_sp1_b1_f1 = (\n",
    "    body_sp1_b1.create_face(name=\"TheFaceSP1_B1_F1\")\n",
    "    .set_vertices([0, 1, 0, 0, 2, 0, 1, 2, 0])\n",
    "    .set_facets([0, 1, 2])\n",
    "    .set_normals([0, 0, 1, 0, 0, 1, 0, 0, 1])\n",
    "    .commit()\n",
    ")\n",
    "print(root_part)"
   ]
  },
  {
   "cell_type": "markdown",
   "id": "37c0f366",
   "metadata": {},
   "source": [
    "### Create sub parts in sub part"
   ]
  },
  {
   "cell_type": "code",
   "execution_count": 11,
   "id": "86c1b539",
   "metadata": {
    "execution": {
     "iopub.execute_input": "2025-06-17T07:14:16.007150Z",
     "iopub.status.busy": "2025-06-17T07:14:16.006678Z",
     "iopub.status.idle": "2025-06-17T07:14:16.041695Z",
     "shell.execute_reply": "2025-06-17T07:14:16.041018Z"
    }
   },
   "outputs": [
    {
     "name": "stdout",
     "output_type": "stream",
     "text": [
      "{\n",
      "    \"name\": \"RootPart\",\n",
      "    \"body_guids\": [\n",
      "        \"c915c2fb-4cbb-436b-97f6-adc4ba80bb22\",\n",
      "        \"61dc4080-4e12-453f-b417-18111867e67e\"\n",
      "    ],\n",
      "    \"parts\": [\n",
      "        {\n",
      "            \"name\": \"TheSubPartSP1\",\n",
      "            \"description\": \"UniqueId_fa4bd62a-edb0-47c1-af0e-2b7685a011c0\",\n",
      "            \"part_guid\": \"ebf0fc31-960e-4d88-b74a-baeded305009\",\n",
      "            \"axis_system\": [\n",
      "                5.0,\n",
      "                5.0,\n",
      "                5.0,\n",
      "                1.0,\n",
      "                0.0,\n",
      "                0.0,\n",
      "                0.0,\n",
      "                1.0,\n",
      "                0.0,\n",
      "                0.0,\n",
      "                0.0,\n",
      "                1.0\n",
      "            ],\n",
      "            \"part\": {\n",
      "                \"name\": \"TheSubPartSP1\",\n",
      "                \"body_guids\": [\n",
      "                    \"1baf34fe-62b2-4516-a039-4e2bc673e11d\"\n",
      "                ],\n",
      "                \"parts\": [\n",
      "                    {\n",
      "                        \"name\": \"TheSubPartSP11\",\n",
      "                        \"description\": \"UniqueId_ae855179-5ecb-4684-9ec1-2e5852b99d0e\",\n",
      "                        \"part_guid\": \"821ad91f-17a4-43c7-8a29-3e1b80ef1ddc\",\n",
      "                        \"axis_system\": [\n",
      "                            1.0,\n",
      "                            1.0,\n",
      "                            1.0,\n",
      "                            1.0,\n",
      "                            0.0,\n",
      "                            0.0,\n",
      "                            0.0,\n",
      "                            1.0,\n",
      "                            0.0,\n",
      "                            0.0,\n",
      "                            0.0,\n",
      "                            1.0\n",
      "                        ],\n",
      "                        \"part\": {\n",
      "                            \"name\": \"TheSubPartSP11\",\n",
      "                            \"description\": \"\",\n",
      "                            \"metadata\": {},\n",
      "                            \"body_guids\": [],\n",
      "                            \"parts\": []\n",
      "                        }\n",
      "                    }\n",
      "                ],\n",
      "                \"description\": \"\",\n",
      "                \"metadata\": {},\n",
      "                \"bodys\": [\n",
      "                    {\n",
      "                        \"name\": \"TheBodySP1_B1\",\n",
      "                        \"face_guids\": [\n",
      "                            \"5504cec9-6746-4bc3-bad5-3da14b359279\"\n",
      "                        ],\n",
      "                        \"description\": \"\",\n",
      "                        \"metadata\": {},\n",
      "                        \"faces\": [\n",
      "                            {\n",
      "                                \"name\": \"TheFaceSP1_B1_F1\",\n",
      "                                \"vertices\": [\n",
      "                                    0.0,\n",
      "                                    1.0,\n",
      "                                    0.0,\n",
      "                                    0.0,\n",
      "                                    2.0,\n",
      "                                    0.0,\n",
      "                                    1.0,\n",
      "                                    2.0,\n",
      "                                    0.0\n",
      "                                ],\n",
      "                                \"facets\": [\n",
      "                                    0,\n",
      "                                    1,\n",
      "                                    2\n",
      "                                ],\n",
      "                                \"normals\": [\n",
      "                                    0.0,\n",
      "                                    0.0,\n",
      "                                    1.0,\n",
      "                                    0.0,\n",
      "                                    0.0,\n",
      "                                    1.0,\n",
      "                                    0.0,\n",
      "                                    0.0,\n",
      "                                    1.0\n",
      "                                ],\n",
      "                                \"description\": \"\",\n",
      "                                \"metadata\": {},\n",
      "                                \"texture_coordinates_channels\": []\n",
      "                            }\n",
      "                        ]\n",
      "                    }\n",
      "                ]\n",
      "            }\n",
      "        }\n",
      "    ],\n",
      "    \"description\": \"\",\n",
      "    \"metadata\": {},\n",
      "    \"bodys\": [\n",
      "        {\n",
      "            \"name\": \"TheBodyB1\",\n",
      "            \"face_guids\": [\n",
      "                \"7af4683a-d020-4b71-bbd3-7e899ff918fb\"\n",
      "            ],\n",
      "            \"description\": \"\",\n",
      "            \"metadata\": {},\n",
      "            \"faces\": [\n",
      "                {\n",
      "                    \"name\": \"TheFaceF1\",\n",
      "                    \"vertices\": [\n",
      "                        0.0,\n",
      "                        0.0,\n",
      "                        0.0,\n",
      "                        1.0,\n",
      "                        0.0,\n",
      "                        0.0,\n",
      "                        0.0,\n",
      "                        1.0,\n",
      "                        0.0\n",
      "                    ],\n",
      "                    \"facets\": [\n",
      "                        0,\n",
      "                        1,\n",
      "                        2\n",
      "                    ],\n",
      "                    \"normals\": [\n",
      "                        0.0,\n",
      "                        0.0,\n",
      "                        1.0,\n",
      "                        0.0,\n",
      "                        0.0,\n",
      "                        1.0,\n",
      "                        0.0,\n",
      "                        0.0,\n",
      "                        1.0\n",
      "                    ],\n",
      "                    \"description\": \"\",\n",
      "                    \"metadata\": {},\n",
      "                    \"texture_coordinates_channels\": []\n",
      "                }\n",
      "            ]\n",
      "        },\n",
      "        {\n",
      "            \"name\": \"TheBodyB2\",\n",
      "            \"description\": \"\",\n",
      "            \"metadata\": {},\n",
      "            \"face_guids\": []\n",
      "        }\n",
      "    ]\n",
      "}\n"
     ]
    }
   ],
   "source": [
    "sub_part11 = (\n",
    "    sub_part1.create_sub_part(name=\"TheSubPartSP11\")\n",
    "    .set_axis_system([1, 1, 1, 1, 0, 0, 0, 1, 0, 0, 0, 1])\n",
    "    .commit()\n",
    ")\n",
    "print(root_part)"
   ]
  },
  {
   "cell_type": "markdown",
   "id": "cfacb8aa",
   "metadata": {},
   "source": [
    "## Read\n",
    "\n",
    "### Find with exact name\n",
    "\n",
    "Find the root part"
   ]
  },
  {
   "cell_type": "code",
   "execution_count": 12,
   "id": "e28025f6",
   "metadata": {
    "execution": {
     "iopub.execute_input": "2025-06-17T07:14:16.044143Z",
     "iopub.status.busy": "2025-06-17T07:14:16.043733Z",
     "iopub.status.idle": "2025-06-17T07:14:16.077596Z",
     "shell.execute_reply": "2025-06-17T07:14:16.076900Z"
    }
   },
   "outputs": [
    {
     "name": "stdout",
     "output_type": "stream",
     "text": [
      "{\n",
      "    \"name\": \"RootPart\",\n",
      "    \"body_guids\": [\n",
      "        \"c915c2fb-4cbb-436b-97f6-adc4ba80bb22\",\n",
      "        \"61dc4080-4e12-453f-b417-18111867e67e\"\n",
      "    ],\n",
      "    \"parts\": [\n",
      "        {\n",
      "            \"name\": \"TheSubPartSP1\",\n",
      "            \"description\": \"UniqueId_fa4bd62a-edb0-47c1-af0e-2b7685a011c0\",\n",
      "            \"part_guid\": \"ebf0fc31-960e-4d88-b74a-baeded305009\",\n",
      "            \"axis_system\": [\n",
      "                5.0,\n",
      "                5.0,\n",
      "                5.0,\n",
      "                1.0,\n",
      "                0.0,\n",
      "                0.0,\n",
      "                0.0,\n",
      "                1.0,\n",
      "                0.0,\n",
      "                0.0,\n",
      "                0.0,\n",
      "                1.0\n",
      "            ],\n",
      "            \"part\": {\n",
      "                \"name\": \"TheSubPartSP1\",\n",
      "                \"body_guids\": [\n",
      "                    \"1baf34fe-62b2-4516-a039-4e2bc673e11d\"\n",
      "                ],\n",
      "                \"parts\": [\n",
      "                    {\n",
      "                        \"name\": \"TheSubPartSP11\",\n",
      "                        \"description\": \"UniqueId_ae855179-5ecb-4684-9ec1-2e5852b99d0e\",\n",
      "                        \"part_guid\": \"821ad91f-17a4-43c7-8a29-3e1b80ef1ddc\",\n",
      "                        \"axis_system\": [\n",
      "                            1.0,\n",
      "                            1.0,\n",
      "                            1.0,\n",
      "                            1.0,\n",
      "                            0.0,\n",
      "                            0.0,\n",
      "                            0.0,\n",
      "                            1.0,\n",
      "                            0.0,\n",
      "                            0.0,\n",
      "                            0.0,\n",
      "                            1.0\n",
      "                        ],\n",
      "                        \"part\": {\n",
      "                            \"name\": \"TheSubPartSP11\",\n",
      "                            \"description\": \"\",\n",
      "                            \"metadata\": {},\n",
      "                            \"body_guids\": [],\n",
      "                            \"parts\": []\n",
      "                        }\n",
      "                    }\n",
      "                ],\n",
      "                \"description\": \"\",\n",
      "                \"metadata\": {},\n",
      "                \"bodys\": [\n",
      "                    {\n",
      "                        \"name\": \"TheBodySP1_B1\",\n",
      "                        \"face_guids\": [\n",
      "                            \"5504cec9-6746-4bc3-bad5-3da14b359279\"\n",
      "                        ],\n",
      "                        \"description\": \"\",\n",
      "                        \"metadata\": {},\n",
      "                        \"faces\": [\n",
      "                            {\n",
      "                                \"name\": \"TheFaceSP1_B1_F1\",\n",
      "                                \"vertices\": [\n",
      "                                    0.0,\n",
      "                                    1.0,\n",
      "                                    0.0,\n",
      "                                    0.0,\n",
      "                                    2.0,\n",
      "                                    0.0,\n",
      "                                    1.0,\n",
      "                                    2.0,\n",
      "                                    0.0\n",
      "                                ],\n",
      "                                \"facets\": [\n",
      "                                    0,\n",
      "                                    1,\n",
      "                                    2\n",
      "                                ],\n",
      "                                \"normals\": [\n",
      "                                    0.0,\n",
      "                                    0.0,\n",
      "                                    1.0,\n",
      "                                    0.0,\n",
      "                                    0.0,\n",
      "                                    1.0,\n",
      "                                    0.0,\n",
      "                                    0.0,\n",
      "                                    1.0\n",
      "                                ],\n",
      "                                \"description\": \"\",\n",
      "                                \"metadata\": {},\n",
      "                                \"texture_coordinates_channels\": []\n",
      "                            }\n",
      "                        ]\n",
      "                    }\n",
      "                ]\n",
      "            }\n",
      "        }\n",
      "    ],\n",
      "    \"description\": \"\",\n",
      "    \"metadata\": {},\n",
      "    \"bodys\": [\n",
      "        {\n",
      "            \"name\": \"TheBodyB1\",\n",
      "            \"face_guids\": [\n",
      "                \"7af4683a-d020-4b71-bbd3-7e899ff918fb\"\n",
      "            ],\n",
      "            \"description\": \"\",\n",
      "            \"metadata\": {},\n",
      "            \"faces\": [\n",
      "                {\n",
      "                    \"name\": \"TheFaceF1\",\n",
      "                    \"vertices\": [\n",
      "                        0.0,\n",
      "                        0.0,\n",
      "                        0.0,\n",
      "                        1.0,\n",
      "                        0.0,\n",
      "                        0.0,\n",
      "                        0.0,\n",
      "                        1.0,\n",
      "                        0.0\n",
      "                    ],\n",
      "                    \"facets\": [\n",
      "                        0,\n",
      "                        1,\n",
      "                        2\n",
      "                    ],\n",
      "                    \"normals\": [\n",
      "                        0.0,\n",
      "                        0.0,\n",
      "                        1.0,\n",
      "                        0.0,\n",
      "                        0.0,\n",
      "                        1.0,\n",
      "                        0.0,\n",
      "                        0.0,\n",
      "                        1.0\n",
      "                    ],\n",
      "                    \"description\": \"\",\n",
      "                    \"metadata\": {},\n",
      "                    \"texture_coordinates_channels\": []\n",
      "                }\n",
      "            ]\n",
      "        },\n",
      "        {\n",
      "            \"name\": \"TheBodyB2\",\n",
      "            \"description\": \"\",\n",
      "            \"metadata\": {},\n",
      "            \"face_guids\": []\n",
      "        }\n",
      "    ]\n",
      "}\n"
     ]
    }
   ],
   "source": [
    "features = p.find(name=\"\", feature_type=Part)\n",
    "print(features[0])"
   ]
  },
  {
   "cell_type": "markdown",
   "id": "abc2e4e4",
   "metadata": {},
   "source": [
    "Find a specific body in root part"
   ]
  },
  {
   "cell_type": "code",
   "execution_count": 13,
   "id": "cdb5a872",
   "metadata": {
    "execution": {
     "iopub.execute_input": "2025-06-17T07:14:16.079914Z",
     "iopub.status.busy": "2025-06-17T07:14:16.079443Z",
     "iopub.status.idle": "2025-06-17T07:14:16.088039Z",
     "shell.execute_reply": "2025-06-17T07:14:16.087405Z"
    }
   },
   "outputs": [
    {
     "name": "stdout",
     "output_type": "stream",
     "text": [
      "{\n",
      "    \"name\": \"TheBodyB1\",\n",
      "    \"face_guids\": [\n",
      "        \"7af4683a-d020-4b71-bbd3-7e899ff918fb\"\n",
      "    ],\n",
      "    \"description\": \"\",\n",
      "    \"metadata\": {},\n",
      "    \"faces\": [\n",
      "        {\n",
      "            \"name\": \"TheFaceF1\",\n",
      "            \"vertices\": [\n",
      "                0.0,\n",
      "                0.0,\n",
      "                0.0,\n",
      "                1.0,\n",
      "                0.0,\n",
      "                0.0,\n",
      "                0.0,\n",
      "                1.0,\n",
      "                0.0\n",
      "            ],\n",
      "            \"facets\": [\n",
      "                0,\n",
      "                1,\n",
      "                2\n",
      "            ],\n",
      "            \"normals\": [\n",
      "                0.0,\n",
      "                0.0,\n",
      "                1.0,\n",
      "                0.0,\n",
      "                0.0,\n",
      "                1.0,\n",
      "                0.0,\n",
      "                0.0,\n",
      "                1.0\n",
      "            ],\n",
      "            \"description\": \"\",\n",
      "            \"metadata\": {},\n",
      "            \"texture_coordinates_channels\": []\n",
      "        }\n",
      "    ]\n",
      "}\n"
     ]
    }
   ],
   "source": [
    "features = p.find(name=\"TheBodyB1\", feature_type=Body)\n",
    "print(features[0])"
   ]
  },
  {
   "cell_type": "markdown",
   "id": "10fff4bc",
   "metadata": {},
   "source": [
    "Find a specific face of a body in root part"
   ]
  },
  {
   "cell_type": "code",
   "execution_count": 14,
   "id": "44e3aa17",
   "metadata": {
    "execution": {
     "iopub.execute_input": "2025-06-17T07:14:16.089934Z",
     "iopub.status.busy": "2025-06-17T07:14:16.089700Z",
     "iopub.status.idle": "2025-06-17T07:14:16.094517Z",
     "shell.execute_reply": "2025-06-17T07:14:16.093869Z"
    }
   },
   "outputs": [
    {
     "name": "stdout",
     "output_type": "stream",
     "text": [
      "{\n",
      "    \"name\": \"TheFaceF1\",\n",
      "    \"vertices\": [\n",
      "        0.0,\n",
      "        0.0,\n",
      "        0.0,\n",
      "        1.0,\n",
      "        0.0,\n",
      "        0.0,\n",
      "        0.0,\n",
      "        1.0,\n",
      "        0.0\n",
      "    ],\n",
      "    \"facets\": [\n",
      "        0,\n",
      "        1,\n",
      "        2\n",
      "    ],\n",
      "    \"normals\": [\n",
      "        0.0,\n",
      "        0.0,\n",
      "        1.0,\n",
      "        0.0,\n",
      "        0.0,\n",
      "        1.0,\n",
      "        0.0,\n",
      "        0.0,\n",
      "        1.0\n",
      "    ],\n",
      "    \"description\": \"\",\n",
      "    \"metadata\": {},\n",
      "    \"texture_coordinates_channels\": []\n",
      "}\n"
     ]
    }
   ],
   "source": [
    "features = p.find(name=\"TheBodyB1/TheFaceF1\", feature_type=Face)\n",
    "print(features[0])"
   ]
  },
  {
   "cell_type": "markdown",
   "id": "fdd1ca23",
   "metadata": {},
   "source": [
    "Find a sub part"
   ]
  },
  {
   "cell_type": "code",
   "execution_count": 15,
   "id": "e6bda852",
   "metadata": {
    "execution": {
     "iopub.execute_input": "2025-06-17T07:14:16.096542Z",
     "iopub.status.busy": "2025-06-17T07:14:16.096235Z",
     "iopub.status.idle": "2025-06-17T07:14:16.115958Z",
     "shell.execute_reply": "2025-06-17T07:14:16.115365Z"
    },
    "lines_to_next_cell": 2
   },
   "outputs": [
    {
     "name": "stdout",
     "output_type": "stream",
     "text": [
      "{\n",
      "    \"name\": \"TheSubPartSP1\",\n",
      "    \"description\": \"UniqueId_fa4bd62a-edb0-47c1-af0e-2b7685a011c0\",\n",
      "    \"part_guid\": \"ebf0fc31-960e-4d88-b74a-baeded305009\",\n",
      "    \"axis_system\": [\n",
      "        5.0,\n",
      "        5.0,\n",
      "        5.0,\n",
      "        1.0,\n",
      "        0.0,\n",
      "        0.0,\n",
      "        0.0,\n",
      "        1.0,\n",
      "        0.0,\n",
      "        0.0,\n",
      "        0.0,\n",
      "        1.0\n",
      "    ],\n",
      "    \"part\": {\n",
      "        \"name\": \"TheSubPartSP1\",\n",
      "        \"body_guids\": [\n",
      "            \"1baf34fe-62b2-4516-a039-4e2bc673e11d\"\n",
      "        ],\n",
      "        \"parts\": [\n",
      "            {\n",
      "                \"name\": \"TheSubPartSP11\",\n",
      "                \"description\": \"UniqueId_ae855179-5ecb-4684-9ec1-2e5852b99d0e\",\n",
      "                \"part_guid\": \"821ad91f-17a4-43c7-8a29-3e1b80ef1ddc\",\n",
      "                \"axis_system\": [\n",
      "                    1.0,\n",
      "                    1.0,\n",
      "                    1.0,\n",
      "                    1.0,\n",
      "                    0.0,\n",
      "                    0.0,\n",
      "                    0.0,\n",
      "                    1.0,\n",
      "                    0.0,\n",
      "                    0.0,\n",
      "                    0.0,\n",
      "                    1.0\n",
      "                ],\n",
      "                \"part\": {\n",
      "                    \"name\": \"TheSubPartSP11\",\n",
      "                    \"description\": \"\",\n",
      "                    \"metadata\": {},\n",
      "                    \"body_guids\": [],\n",
      "                    \"parts\": []\n",
      "                }\n",
      "            }\n",
      "        ],\n",
      "        \"description\": \"\",\n",
      "        \"metadata\": {},\n",
      "        \"bodys\": [\n",
      "            {\n",
      "                \"name\": \"TheBodySP1_B1\",\n",
      "                \"face_guids\": [\n",
      "                    \"5504cec9-6746-4bc3-bad5-3da14b359279\"\n",
      "                ],\n",
      "                \"description\": \"\",\n",
      "                \"metadata\": {},\n",
      "                \"faces\": [\n",
      "                    {\n",
      "                        \"name\": \"TheFaceSP1_B1_F1\",\n",
      "                        \"vertices\": [\n",
      "                            0.0,\n",
      "                            1.0,\n",
      "                            0.0,\n",
      "                            0.0,\n",
      "                            2.0,\n",
      "                            0.0,\n",
      "                            1.0,\n",
      "                            2.0,\n",
      "                            0.0\n",
      "                        ],\n",
      "                        \"facets\": [\n",
      "                            0,\n",
      "                            1,\n",
      "                            2\n",
      "                        ],\n",
      "                        \"normals\": [\n",
      "                            0.0,\n",
      "                            0.0,\n",
      "                            1.0,\n",
      "                            0.0,\n",
      "                            0.0,\n",
      "                            1.0,\n",
      "                            0.0,\n",
      "                            0.0,\n",
      "                            1.0\n",
      "                        ],\n",
      "                        \"description\": \"\",\n",
      "                        \"metadata\": {},\n",
      "                        \"texture_coordinates_channels\": []\n",
      "                    }\n",
      "                ]\n",
      "            }\n",
      "        ]\n",
      "    }\n",
      "}\n"
     ]
    }
   ],
   "source": [
    "features = p.find(name=\"TheSubPartSP1\", feature_type=Part.SubPart)\n",
    "print(features[0])"
   ]
  },
  {
   "cell_type": "markdown",
   "id": "e259ff7d",
   "metadata": {},
   "source": [
    "Find a specific body in sub part"
   ]
  },
  {
   "cell_type": "code",
   "execution_count": 16,
   "id": "a6ab95de",
   "metadata": {
    "execution": {
     "iopub.execute_input": "2025-06-17T07:14:16.118084Z",
     "iopub.status.busy": "2025-06-17T07:14:16.117676Z",
     "iopub.status.idle": "2025-06-17T07:14:16.126266Z",
     "shell.execute_reply": "2025-06-17T07:14:16.125686Z"
    }
   },
   "outputs": [
    {
     "name": "stdout",
     "output_type": "stream",
     "text": [
      "{\n",
      "    \"name\": \"TheBodySP1_B1\",\n",
      "    \"face_guids\": [\n",
      "        \"5504cec9-6746-4bc3-bad5-3da14b359279\"\n",
      "    ],\n",
      "    \"description\": \"\",\n",
      "    \"metadata\": {},\n",
      "    \"faces\": [\n",
      "        {\n",
      "            \"name\": \"TheFaceSP1_B1_F1\",\n",
      "            \"vertices\": [\n",
      "                0.0,\n",
      "                1.0,\n",
      "                0.0,\n",
      "                0.0,\n",
      "                2.0,\n",
      "                0.0,\n",
      "                1.0,\n",
      "                2.0,\n",
      "                0.0\n",
      "            ],\n",
      "            \"facets\": [\n",
      "                0,\n",
      "                1,\n",
      "                2\n",
      "            ],\n",
      "            \"normals\": [\n",
      "                0.0,\n",
      "                0.0,\n",
      "                1.0,\n",
      "                0.0,\n",
      "                0.0,\n",
      "                1.0,\n",
      "                0.0,\n",
      "                0.0,\n",
      "                1.0\n",
      "            ],\n",
      "            \"description\": \"\",\n",
      "            \"metadata\": {},\n",
      "            \"texture_coordinates_channels\": []\n",
      "        }\n",
      "    ]\n",
      "}\n"
     ]
    }
   ],
   "source": [
    "features = p.find(name=\"TheSubPartSP1/TheBodySP1_B1\", feature_type=Body)\n",
    "print(features[0])"
   ]
  },
  {
   "cell_type": "markdown",
   "id": "519d477a",
   "metadata": {},
   "source": [
    "Find a specific face of a body in sub part"
   ]
  },
  {
   "cell_type": "code",
   "execution_count": 17,
   "id": "1be7c6f1",
   "metadata": {
    "execution": {
     "iopub.execute_input": "2025-06-17T07:14:16.128088Z",
     "iopub.status.busy": "2025-06-17T07:14:16.127898Z",
     "iopub.status.idle": "2025-06-17T07:14:16.132278Z",
     "shell.execute_reply": "2025-06-17T07:14:16.131721Z"
    }
   },
   "outputs": [
    {
     "name": "stdout",
     "output_type": "stream",
     "text": [
      "{\n",
      "    \"name\": \"TheFaceSP1_B1_F1\",\n",
      "    \"vertices\": [\n",
      "        0.0,\n",
      "        1.0,\n",
      "        0.0,\n",
      "        0.0,\n",
      "        2.0,\n",
      "        0.0,\n",
      "        1.0,\n",
      "        2.0,\n",
      "        0.0\n",
      "    ],\n",
      "    \"facets\": [\n",
      "        0,\n",
      "        1,\n",
      "        2\n",
      "    ],\n",
      "    \"normals\": [\n",
      "        0.0,\n",
      "        0.0,\n",
      "        1.0,\n",
      "        0.0,\n",
      "        0.0,\n",
      "        1.0,\n",
      "        0.0,\n",
      "        0.0,\n",
      "        1.0\n",
      "    ],\n",
      "    \"description\": \"\",\n",
      "    \"metadata\": {},\n",
      "    \"texture_coordinates_channels\": []\n",
      "}\n"
     ]
    }
   ],
   "source": [
    "features = p.find(name=\"TheSubPartSP1/TheBodySP1_B1/TheFaceSP1_B1_F1\", feature_type=Face)\n",
    "print(features[0])"
   ]
  },
  {
   "cell_type": "markdown",
   "id": "48935eef",
   "metadata": {},
   "source": [
    "### Find with approximation name"
   ]
  },
  {
   "cell_type": "markdown",
   "id": "a2e34379",
   "metadata": {},
   "source": [
    "Find all bodies in root part"
   ]
  },
  {
   "cell_type": "code",
   "execution_count": 18,
   "id": "46d7f616",
   "metadata": {
    "execution": {
     "iopub.execute_input": "2025-06-17T07:14:16.134317Z",
     "iopub.status.busy": "2025-06-17T07:14:16.133959Z",
     "iopub.status.idle": "2025-06-17T07:14:16.137797Z",
     "shell.execute_reply": "2025-06-17T07:14:16.137151Z"
    }
   },
   "outputs": [
    {
     "name": "stdout",
     "output_type": "stream",
     "text": [
      "TheBodyB1\n",
      "TheBodyB2\n"
     ]
    }
   ],
   "source": [
    "features = p.find(name=\".*\", name_regex=True, feature_type=Body)\n",
    "for feat in features:\n",
    "    print(feat._name)"
   ]
  },
  {
   "cell_type": "markdown",
   "id": "01eb067d",
   "metadata": {},
   "source": [
    "Find all faces inside body called \"TheBodyB1\""
   ]
  },
  {
   "cell_type": "code",
   "execution_count": 19,
   "id": "15b2c843",
   "metadata": {
    "execution": {
     "iopub.execute_input": "2025-06-17T07:14:16.139786Z",
     "iopub.status.busy": "2025-06-17T07:14:16.139428Z",
     "iopub.status.idle": "2025-06-17T07:14:16.143171Z",
     "shell.execute_reply": "2025-06-17T07:14:16.142516Z"
    },
    "lines_to_next_cell": 2
   },
   "outputs": [
    {
     "name": "stdout",
     "output_type": "stream",
     "text": [
      "TheFaceF1\n"
     ]
    }
   ],
   "source": [
    "features = p.find(name=\"TheBodyB1/.*\", name_regex=True, feature_type=Face)\n",
    "for feat in features:\n",
    "    print(feat._name)"
   ]
  },
  {
   "cell_type": "markdown",
   "id": "a81d904a",
   "metadata": {},
   "source": [
    "If you want to retrieve several kind of geometry features at a certain level, give\n",
    "feature_type=Part"
   ]
  },
  {
   "cell_type": "markdown",
   "id": "f779b0da",
   "metadata": {},
   "source": [
    "All the geometry features at root part level:"
   ]
  },
  {
   "cell_type": "code",
   "execution_count": 20,
   "id": "af2556bb",
   "metadata": {
    "execution": {
     "iopub.execute_input": "2025-06-17T07:14:16.145238Z",
     "iopub.status.busy": "2025-06-17T07:14:16.144875Z",
     "iopub.status.idle": "2025-06-17T07:14:16.148639Z",
     "shell.execute_reply": "2025-06-17T07:14:16.147999Z"
    }
   },
   "outputs": [
    {
     "name": "stdout",
     "output_type": "stream",
     "text": [
      "<class 'ansys.speos.core.body.Body'> : name=TheBodyB1\n",
      "<class 'ansys.speos.core.body.Body'> : name=TheBodyB2\n",
      "<class 'ansys.speos.core.part.Part.SubPart'> : name=TheSubPartSP1\n"
     ]
    }
   ],
   "source": [
    "features = p.find(name=\".*\", name_regex=True, feature_type=Part)\n",
    "for feat in features:\n",
    "    print(str(type(feat)) + \" : name=\" + feat._name)"
   ]
  },
  {
   "cell_type": "markdown",
   "id": "8472a948",
   "metadata": {},
   "source": [
    "All the geometry features at second level: e.g.:\n",
    "- TheBodyB1's all faces\n",
    "- TheSubPartSP1's all bodies\n",
    "- TheSubPartSP1's all sub part"
   ]
  },
  {
   "cell_type": "code",
   "execution_count": 21,
   "id": "dbe2a677",
   "metadata": {
    "execution": {
     "iopub.execute_input": "2025-06-17T07:14:16.150739Z",
     "iopub.status.busy": "2025-06-17T07:14:16.150290Z",
     "iopub.status.idle": "2025-06-17T07:14:16.154146Z",
     "shell.execute_reply": "2025-06-17T07:14:16.153485Z"
    }
   },
   "outputs": [
    {
     "name": "stdout",
     "output_type": "stream",
     "text": [
      "<class 'ansys.speos.core.face.Face'> : name=TheFaceF1\n",
      "<class 'ansys.speos.core.body.Body'> : name=TheBodySP1_B1\n",
      "<class 'ansys.speos.core.part.Part.SubPart'> : name=TheSubPartSP11\n"
     ]
    }
   ],
   "source": [
    "features = p.find(name=\".*/.*\", name_regex=True, feature_type=Part)\n",
    "for feat in features:\n",
    "    print(str(type(feat)) + \" : name=\" + feat._name)"
   ]
  },
  {
   "cell_type": "markdown",
   "id": "0efd07fb",
   "metadata": {},
   "source": [
    "All the geometry features at the third level:\n",
    "e.g. TheSubPartSP1's all bodies' faces"
   ]
  },
  {
   "cell_type": "code",
   "execution_count": 22,
   "id": "8b5cc157",
   "metadata": {
    "execution": {
     "iopub.execute_input": "2025-06-17T07:14:16.156131Z",
     "iopub.status.busy": "2025-06-17T07:14:16.155793Z",
     "iopub.status.idle": "2025-06-17T07:14:16.159677Z",
     "shell.execute_reply": "2025-06-17T07:14:16.159046Z"
    },
    "lines_to_next_cell": 2
   },
   "outputs": [
    {
     "name": "stdout",
     "output_type": "stream",
     "text": [
      "<class 'ansys.speos.core.face.Face'> : name=TheFaceSP1_B1_F1\n"
     ]
    }
   ],
   "source": [
    "features = p.find(name=\".*/.*/.*\", name_regex=True, feature_type=Part)\n",
    "for feat in features:\n",
    "    print(str(type(feat)) + \" : name=\" + feat._name)"
   ]
  },
  {
   "cell_type": "markdown",
   "id": "15ee2bd6",
   "metadata": {},
   "source": [
    "## Delete"
   ]
  },
  {
   "cell_type": "code",
   "execution_count": 23,
   "id": "4efdcf5d",
   "metadata": {
    "execution": {
     "iopub.execute_input": "2025-06-17T07:14:16.161696Z",
     "iopub.status.busy": "2025-06-17T07:14:16.161336Z",
     "iopub.status.idle": "2025-06-17T07:14:16.170284Z",
     "shell.execute_reply": "2025-06-17T07:14:16.169622Z"
    }
   },
   "outputs": [
    {
     "name": "stdout",
     "output_type": "stream",
     "text": [
      "local: {\n",
      "    \"name\": \"RootPart\",\n",
      "    \"description\": \"\",\n",
      "    \"metadata\": {},\n",
      "    \"body_guids\": [],\n",
      "    \"parts\": []\n",
      "}\n"
     ]
    }
   ],
   "source": [
    "root_part.delete()\n",
    "print(root_part)"
   ]
  },
  {
   "cell_type": "code",
   "execution_count": 24,
   "id": "0b72ba86",
   "metadata": {
    "execution": {
     "iopub.execute_input": "2025-06-17T07:14:16.172376Z",
     "iopub.status.busy": "2025-06-17T07:14:16.172017Z",
     "iopub.status.idle": "2025-06-17T07:14:16.178640Z",
     "shell.execute_reply": "2025-06-17T07:14:16.177994Z"
    }
   },
   "outputs": [
    {
     "data": {
      "text/plain": [
       "True"
      ]
     },
     "execution_count": 24,
     "metadata": {},
     "output_type": "execute_result"
    }
   ],
   "source": [
    "speos.close()"
   ]
  }
 ],
 "metadata": {
  "jupytext": {
   "cell_metadata_filter": "-all",
   "main_language": "python",
   "notebook_metadata_filter": "-all",
   "text_representation": {
    "extension": ".py",
    "format_name": "light"
   }
  },
  "language_info": {
   "codemirror_mode": {
    "name": "ipython",
    "version": 3
   },
   "file_extension": ".py",
   "mimetype": "text/x-python",
   "name": "python",
   "nbconvert_exporter": "python",
   "pygments_lexer": "ipython3",
   "version": "3.10.17"
  }
 },
 "nbformat": 4,
 "nbformat_minor": 5
}
