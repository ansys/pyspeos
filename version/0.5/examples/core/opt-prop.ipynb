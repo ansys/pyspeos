{
 "cells": [
  {
   "cell_type": "markdown",
   "id": "13e7b612",
   "metadata": {},
   "source": [
    "# How to create an optical property"
   ]
  },
  {
   "cell_type": "markdown",
   "id": "20e21ec3",
   "metadata": {},
   "source": [
    "This tutorial demonstrates how to create an optical property."
   ]
  },
  {
   "cell_type": "markdown",
   "id": "8be85333",
   "metadata": {},
   "source": [
    "## What is an optical property?"
   ]
  },
  {
   "cell_type": "markdown",
   "id": "91e250f5",
   "metadata": {},
   "source": [
    "An optical property (also named material), gathers two notions:\n",
    "the surface optical property (SOP) and the volume optical property (VOP)."
   ]
  },
  {
   "cell_type": "markdown",
   "id": "5d36163b",
   "metadata": {},
   "source": [
    "The property is then applied to a geometry (like bodies, faces).\n",
    "\n",
    "## Prerequisites\n",
    "\n",
    "### Perform imports"
   ]
  },
  {
   "cell_type": "code",
   "execution_count": 1,
   "id": "1a28c6ac",
   "metadata": {
    "execution": {
     "iopub.execute_input": "2025-06-17T07:14:11.924250Z",
     "iopub.status.busy": "2025-06-17T07:14:11.924046Z",
     "iopub.status.idle": "2025-06-17T07:14:12.758080Z",
     "shell.execute_reply": "2025-06-17T07:14:12.757402Z"
    }
   },
   "outputs": [],
   "source": [
    "from pathlib import Path\n",
    "\n",
    "from ansys.speos.core import Project, Speos, launcher\n"
   ]
  },
  {
   "cell_type": "markdown",
   "id": "26fae22a",
   "metadata": {},
   "source": [
    "### Define constants\n",
    "Constants help ensure consistency and avoid repetition throughout the example."
   ]
  },
  {
   "cell_type": "code",
   "execution_count": 2,
   "id": "d54fa85c",
   "metadata": {
    "execution": {
     "iopub.execute_input": "2025-06-17T07:14:12.760669Z",
     "iopub.status.busy": "2025-06-17T07:14:12.760349Z",
     "iopub.status.idle": "2025-06-17T07:14:12.763814Z",
     "shell.execute_reply": "2025-06-17T07:14:12.763162Z"
    }
   },
   "outputs": [],
   "source": [
    "HOSTNAME = \"localhost\"\n",
    "GRPC_PORT = 50098  # Be sure the Speos GRPC Server has been started on this port.\n",
    "USE_DOCKER = True  # Set to False if you're running this example locally as a Notebook."
   ]
  },
  {
   "cell_type": "markdown",
   "id": "a58f4e42",
   "metadata": {
    "lines_to_next_cell": 2
   },
   "source": [
    "### Define helper functions"
   ]
  },
  {
   "cell_type": "code",
   "execution_count": 3,
   "id": "e5117cf0",
   "metadata": {
    "execution": {
     "iopub.execute_input": "2025-06-17T07:14:12.765742Z",
     "iopub.status.busy": "2025-06-17T07:14:12.765546Z",
     "iopub.status.idle": "2025-06-17T07:14:12.771360Z",
     "shell.execute_reply": "2025-06-17T07:14:12.770809Z"
    }
   },
   "outputs": [],
   "source": [
    "def create_helper_geometries(project: Project):\n",
    "    \"\"\"Create bodies and faces.\"\"\"\n",
    "\n",
    "    def create_face(body):\n",
    "        face = (\n",
    "            body.create_face(name=\"TheFaceF\")\n",
    "            .set_vertices([0, 0, 0, 1, 0, 0, 0, 1, 0])\n",
    "            .set_facets([0, 1, 2])\n",
    "            .set_normals([0, 0, 1, 0, 0, 1, 0, 0, 1])\n",
    "            .commit()\n",
    "        )\n",
    "        return face\n",
    "\n",
    "    data = {\"bodies\": [], \"faces\": []}\n",
    "    root_part = project.create_root_part().commit()\n",
    "    data[\"bodies\"].append(root_part.create_body(name=\"TheBodyB\").commit())\n",
    "    data[\"bodies\"].append(root_part.create_body(name=\"TheBodyC\").commit())\n",
    "    data[\"bodies\"].append(root_part.create_body(name=\"TheBodyD\").commit())\n",
    "    data[\"bodies\"].append(root_part.create_body(name=\"TheBodyE\").commit())\n",
    "    for b in data[\"bodies\"]:\n",
    "        data[\"faces\"].append(create_face(b))\n",
    "    return data"
   ]
  },
  {
   "cell_type": "markdown",
   "id": "47825368",
   "metadata": {},
   "source": [
    "## Model Setup\n",
    "\n",
    "### Load assets\n",
    "The assets used to run this example are available in the\n",
    "[PySpeos repository](https://github.com/ansys/pyspeos/) on GitHub.\n",
    "\n",
    "> **Note:** Make sure you\n",
    "> have downloaded simulation assets and set ``assets_data_path``\n",
    "> to point to the assets folder."
   ]
  },
  {
   "cell_type": "code",
   "execution_count": 4,
   "id": "cca1d453",
   "metadata": {
    "execution": {
     "iopub.execute_input": "2025-06-17T07:14:12.773208Z",
     "iopub.status.busy": "2025-06-17T07:14:12.773012Z",
     "iopub.status.idle": "2025-06-17T07:14:12.776242Z",
     "shell.execute_reply": "2025-06-17T07:14:12.775571Z"
    }
   },
   "outputs": [],
   "source": [
    "if USE_DOCKER:  # Running on the remote server.\n",
    "    assets_data_path = Path(\"/app\") / \"assets\"\n",
    "else:\n",
    "    assets_data_path = Path(\"/path/to/your/download/assets/directory\")"
   ]
  },
  {
   "cell_type": "markdown",
   "id": "191115f7",
   "metadata": {},
   "source": [
    "### Connect to the RPC Server\n",
    "This Python client connects to a server where the Speos engine\n",
    "is running as a service. In this example, the server and\n",
    "client are the same machine. The launch_local_speos_rpc_method can\n",
    "be used to start a local instance of the service."
   ]
  },
  {
   "cell_type": "code",
   "execution_count": 5,
   "id": "466d6692",
   "metadata": {
    "execution": {
     "iopub.execute_input": "2025-06-17T07:14:12.778167Z",
     "iopub.status.busy": "2025-06-17T07:14:12.777984Z",
     "iopub.status.idle": "2025-06-17T07:14:12.784566Z",
     "shell.execute_reply": "2025-06-17T07:14:12.784011Z"
    }
   },
   "outputs": [],
   "source": [
    "if USE_DOCKER:\n",
    "    speos = Speos(host=HOSTNAME, port=GRPC_PORT)\n",
    "else:\n",
    "    speos = launcher.launch_local_speos_rpc_server(port=GRPC_PORT)"
   ]
  },
  {
   "cell_type": "markdown",
   "id": "a35bc057",
   "metadata": {},
   "source": [
    "### Create a new project\n",
    "\n",
    "The only way to create an optical property using the core layer, is to create it from a project.\n",
    "The ``Project`` class is instantiated by passing a ``Speos`` instance"
   ]
  },
  {
   "cell_type": "code",
   "execution_count": 6,
   "id": "1a0278d3",
   "metadata": {
    "execution": {
     "iopub.execute_input": "2025-06-17T07:14:12.786550Z",
     "iopub.status.busy": "2025-06-17T07:14:12.786182Z",
     "iopub.status.idle": "2025-06-17T07:14:12.803855Z",
     "shell.execute_reply": "2025-06-17T07:14:12.803250Z"
    }
   },
   "outputs": [
    {
     "name": "stdout",
     "output_type": "stream",
     "text": [
      "{\n",
      "    \"name\": \"\",\n",
      "    \"description\": \"\",\n",
      "    \"metadata\": {},\n",
      "    \"part_guid\": \"\",\n",
      "    \"sources\": [],\n",
      "    \"sensors\": [],\n",
      "    \"simulations\": [],\n",
      "    \"materials\": [],\n",
      "    \"scenes\": []\n",
      "}\n"
     ]
    }
   ],
   "source": [
    "p = Project(speos=speos)\n",
    "print(p)\n",
    "data = create_helper_geometries(p)\n",
    "bodies = data[\"bodies\"]\n",
    "faces = data[\"faces\"]"
   ]
  },
  {
   "cell_type": "markdown",
   "id": "d1ac32ba",
   "metadata": {},
   "source": [
    "## Create VOP (volume optical property)\n",
    "\n",
    "Create locally.\n",
    "The mention \"local: \" is added when printing the optical property."
   ]
  },
  {
   "cell_type": "code",
   "execution_count": 7,
   "id": "0f1c4185",
   "metadata": {
    "execution": {
     "iopub.execute_input": "2025-06-17T07:14:12.805965Z",
     "iopub.status.busy": "2025-06-17T07:14:12.805557Z",
     "iopub.status.idle": "2025-06-17T07:14:12.810160Z",
     "shell.execute_reply": "2025-06-17T07:14:12.809575Z"
    },
    "lines_to_next_cell": 2
   },
   "outputs": [
    {
     "name": "stdout",
     "output_type": "stream",
     "text": [
      "local: {\n",
      "    \"name\": \"Material.1\",\n",
      "    \"geometries\": {\n",
      "        \"geo_paths\": [\n",
      "            \"TheBodyB\",\n",
      "            \"TheBodyC\"\n",
      "        ]\n",
      "    },\n",
      "    \"description\": \"\",\n",
      "    \"metadata\": {},\n",
      "    \"sop_guids\": [],\n",
      "    \"vop\": {\n",
      "        \"name\": \"Material.1.VOP\",\n",
      "        \"opaque\": {},\n",
      "        \"description\": \"\",\n",
      "        \"metadata\": {}\n",
      "    },\n",
      "    \"sops\": [\n",
      "        {\n",
      "            \"name\": \"Material.1.SOP\",\n",
      "            \"mirror\": {\n",
      "                \"reflectance\": 80.0\n",
      "            },\n",
      "            \"description\": \"\",\n",
      "            \"metadata\": {}\n",
      "        }\n",
      "    ]\n",
      "}\n"
     ]
    }
   ],
   "source": [
    "op1 = p.create_optical_property(name=\"Material.1\")\n",
    "op1.set_surface_mirror(reflectance=80)  # SOP : mirror\n",
    "op1.set_volume_opaque()  # VOP : opaque\n",
    "# This optical property will be applied to two bodies named : \"TheBodyB\" and \"TheBodyC\".\n",
    "op1.set_geometries(\n",
    "    geometries=[\n",
    "        bodies[0],\n",
    "        bodies[1],\n",
    "    ]\n",
    ")\n",
    "print(op1)"
   ]
  },
  {
   "cell_type": "markdown",
   "id": "4a3fcb5a",
   "metadata": {},
   "source": [
    "### Push it to the server.\n",
    "\n",
    "Now that it is committed to the server,\n",
    "the mention \"local: \" is no more present when printing the optical property."
   ]
  },
  {
   "cell_type": "code",
   "execution_count": 8,
   "id": "6dae9f61",
   "metadata": {
    "execution": {
     "iopub.execute_input": "2025-06-17T07:14:12.812092Z",
     "iopub.status.busy": "2025-06-17T07:14:12.811893Z",
     "iopub.status.idle": "2025-06-17T07:14:12.819604Z",
     "shell.execute_reply": "2025-06-17T07:14:12.818956Z"
    }
   },
   "outputs": [
    {
     "name": "stdout",
     "output_type": "stream",
     "text": [
      "{\n",
      "    \"name\": \"Material.1\",\n",
      "    \"metadata\": {\n",
      "        \"UniqueId\": \"901d4498-db98-4903-b4e0-b4ae4911faf5\"\n",
      "    },\n",
      "    \"vop_guid\": \"a9aaf645-1548-4c91-a676-19a4f60ddf38\",\n",
      "    \"sop_guids\": [\n",
      "        \"2bb22673-25f7-4751-afc1-e7632a1523d1\"\n",
      "    ],\n",
      "    \"geometries\": {\n",
      "        \"geo_paths\": [\n",
      "            \"TheBodyB\",\n",
      "            \"TheBodyC\"\n",
      "        ]\n",
      "    },\n",
      "    \"description\": \"\",\n",
      "    \"vop\": {\n",
      "        \"name\": \"Material.1.VOP\",\n",
      "        \"opaque\": {},\n",
      "        \"description\": \"\",\n",
      "        \"metadata\": {}\n",
      "    },\n",
      "    \"sops\": [\n",
      "        {\n",
      "            \"name\": \"Material.1.SOP\",\n",
      "            \"mirror\": {\n",
      "                \"reflectance\": 80.0\n",
      "            },\n",
      "            \"description\": \"\",\n",
      "            \"metadata\": {}\n",
      "        }\n",
      "    ]\n",
      "}\n"
     ]
    }
   ],
   "source": [
    "op1.commit()\n",
    "print(op1)"
   ]
  },
  {
   "cell_type": "markdown",
   "id": "1bd0ea50",
   "metadata": {},
   "source": [
    "## Another example.\n",
    "\n",
    "Setting several more characteristics."
   ]
  },
  {
   "cell_type": "code",
   "execution_count": 9,
   "id": "2de84c72",
   "metadata": {
    "execution": {
     "iopub.execute_input": "2025-06-17T07:14:12.821695Z",
     "iopub.status.busy": "2025-06-17T07:14:12.821500Z",
     "iopub.status.idle": "2025-06-17T07:14:12.833250Z",
     "shell.execute_reply": "2025-06-17T07:14:12.832562Z"
    },
    "lines_to_next_cell": 2
   },
   "outputs": [
    {
     "name": "stdout",
     "output_type": "stream",
     "text": [
      "{\n",
      "    \"name\": \"Material.2\",\n",
      "    \"metadata\": {\n",
      "        \"UniqueId\": \"a8a63a68-5db6-4f7c-a5c0-4c688b7f5dad\"\n",
      "    },\n",
      "    \"vop_guid\": \"a8457ce1-cf7b-4212-a991-a720bf3bf9cd\",\n",
      "    \"sop_guids\": [\n",
      "        \"84fd311b-9441-47fe-9c22-9c48b3ea8ad8\"\n",
      "    ],\n",
      "    \"geometries\": {\n",
      "        \"geo_paths\": [\n",
      "            \"TheBodyD\",\n",
      "            \"TheBodyE\"\n",
      "        ]\n",
      "    },\n",
      "    \"description\": \"\",\n",
      "    \"vop\": {\n",
      "        \"name\": \"Material.2.VOP\",\n",
      "        \"library\": {\n",
      "            \"material_file_uri\": \"/app/assets/AIR.material\"\n",
      "        },\n",
      "        \"description\": \"\",\n",
      "        \"metadata\": {}\n",
      "    },\n",
      "    \"sops\": [\n",
      "        {\n",
      "            \"name\": \"Material.2.SOP\",\n",
      "            \"optical_polished\": {},\n",
      "            \"description\": \"\",\n",
      "            \"metadata\": {}\n",
      "        }\n",
      "    ]\n",
      "}\n"
     ]
    }
   ],
   "source": [
    "op2 = p.create_optical_property(name=\"Material.2\")\n",
    "op2.set_surface_opticalpolished()  # SOP : optical polished\n",
    "op2.set_volume_library(\n",
    "    path=str(assets_data_path / \"AIR.material\")\n",
    ")  # VOP : selected library via a file .material\n",
    "# This optical property will be applied to two bodies named : \"TheBodyD\" and \"TheBodyE\".\n",
    "op2.set_geometries(\n",
    "    geometries=[\n",
    "        bodies[2],\n",
    "        bodies[3],\n",
    "    ]\n",
    ")\n",
    "op2.commit()\n",
    "print(op2)"
   ]
  },
  {
   "cell_type": "markdown",
   "id": "d7b06589",
   "metadata": {},
   "source": [
    "## Create FOP (face optical property)\n",
    "\n",
    "Sometimes it is needed to create property but only for surface.\n",
    "\n",
    "In this case, no call for set_volume_xxx function is needed, and we will select a face for the\n",
    "geometries."
   ]
  },
  {
   "cell_type": "code",
   "execution_count": 10,
   "id": "afb21ff5",
   "metadata": {
    "execution": {
     "iopub.execute_input": "2025-06-17T07:14:12.835222Z",
     "iopub.status.busy": "2025-06-17T07:14:12.835023Z",
     "iopub.status.idle": "2025-06-17T07:14:12.841761Z",
     "shell.execute_reply": "2025-06-17T07:14:12.841243Z"
    }
   },
   "outputs": [
    {
     "name": "stdout",
     "output_type": "stream",
     "text": [
      "{\n",
      "    \"name\": \"Material.FOP\",\n",
      "    \"metadata\": {\n",
      "        \"UniqueId\": \"ac407e12-6a67-4cc8-9617-e7fa01010b27\"\n",
      "    },\n",
      "    \"sop_guids\": [\n",
      "        \"4ba7657d-0579-416c-80fd-2ef34d2e72f0\"\n",
      "    ],\n",
      "    \"geometries\": {\n",
      "        \"geo_paths\": [\n",
      "            \"TheBodyD/TheFaceF\"\n",
      "        ]\n",
      "    },\n",
      "    \"description\": \"\",\n",
      "    \"sops\": [\n",
      "        {\n",
      "            \"name\": \"Material.FOP.SOP\",\n",
      "            \"mirror\": {\n",
      "                \"reflectance\": 90.0\n",
      "            },\n",
      "            \"description\": \"\",\n",
      "            \"metadata\": {}\n",
      "        }\n",
      "    ]\n",
      "}\n"
     ]
    }
   ],
   "source": [
    "op3 = p.create_optical_property(name=\"Material.FOP\")\n",
    "op3.set_surface_mirror(reflectance=90)  # SOP : mirror\n",
    "# This optical property will be applied a face from TheBodyD named : \"TheFaceF\".\n",
    "op3.set_geometries(geometries=[faces[2]])\n",
    "op3.commit()\n",
    "print(op3)"
   ]
  },
  {
   "cell_type": "markdown",
   "id": "bd2b6ba1",
   "metadata": {},
   "source": [
    "### Default values\n",
    "\n",
    "Some default values are available when applicable in every methods and class."
   ]
  },
  {
   "cell_type": "code",
   "execution_count": 11,
   "id": "23ddaeaa",
   "metadata": {
    "execution": {
     "iopub.execute_input": "2025-06-17T07:14:12.843662Z",
     "iopub.status.busy": "2025-06-17T07:14:12.843463Z",
     "iopub.status.idle": "2025-06-17T07:14:12.849761Z",
     "shell.execute_reply": "2025-06-17T07:14:12.849116Z"
    }
   },
   "outputs": [
    {
     "name": "stdout",
     "output_type": "stream",
     "text": [
      "{\n",
      "    \"name\": \"Material.3\",\n",
      "    \"metadata\": {\n",
      "        \"UniqueId\": \"8aad97d3-a4fb-4942-bdd8-b0de54a32b63\"\n",
      "    },\n",
      "    \"sop_guids\": [\n",
      "        \"bfe963ed-74a7-4338-9e99-b53b84642413\"\n",
      "    ],\n",
      "    \"description\": \"\",\n",
      "    \"sops\": [\n",
      "        {\n",
      "            \"name\": \"Material.3.SOP\",\n",
      "            \"mirror\": {\n",
      "                \"reflectance\": 100.0\n",
      "            },\n",
      "            \"description\": \"\",\n",
      "            \"metadata\": {}\n",
      "        }\n",
      "    ]\n",
      "}\n"
     ]
    }
   ],
   "source": [
    "op4 = p.create_optical_property(name=\"Material.3\").commit()\n",
    "print(op4)"
   ]
  },
  {
   "cell_type": "markdown",
   "id": "459b73c2",
   "metadata": {},
   "source": [
    "## Read\n",
    "### Material Instance Information\n",
    "\n",
    "A mention \"local: \" is added if it is not yet committed to the server."
   ]
  },
  {
   "cell_type": "code",
   "execution_count": 12,
   "id": "e082c1e0",
   "metadata": {
    "execution": {
     "iopub.execute_input": "2025-06-17T07:14:12.851657Z",
     "iopub.status.busy": "2025-06-17T07:14:12.851458Z",
     "iopub.status.idle": "2025-06-17T07:14:12.857579Z",
     "shell.execute_reply": "2025-06-17T07:14:12.857036Z"
    }
   },
   "outputs": [
    {
     "name": "stdout",
     "output_type": "stream",
     "text": [
      "{\n",
      "    \"name\": \"Material.1\",\n",
      "    \"metadata\": {\n",
      "        \"UniqueId\": \"901d4498-db98-4903-b4e0-b4ae4911faf5\"\n",
      "    },\n",
      "    \"vop_guid\": \"a9aaf645-1548-4c91-a676-19a4f60ddf38\",\n",
      "    \"sop_guids\": [\n",
      "        \"2bb22673-25f7-4751-afc1-e7632a1523d1\"\n",
      "    ],\n",
      "    \"geometries\": {\n",
      "        \"geo_paths\": [\n",
      "            \"TheBodyB\",\n",
      "            \"TheBodyC\"\n",
      "        ]\n",
      "    },\n",
      "    \"description\": \"\",\n",
      "    \"vop\": {\n",
      "        \"name\": \"Material.1.VOP\",\n",
      "        \"opaque\": {},\n",
      "        \"description\": \"\",\n",
      "        \"metadata\": {}\n",
      "    },\n",
      "    \"sops\": [\n",
      "        {\n",
      "            \"name\": \"Material.1.SOP\",\n",
      "            \"mirror\": {\n",
      "                \"reflectance\": 80.0\n",
      "            },\n",
      "            \"description\": \"\",\n",
      "            \"metadata\": {}\n",
      "        }\n",
      "    ]\n",
      "}\n"
     ]
    }
   ],
   "source": [
    "print(op1)"
   ]
  },
  {
   "cell_type": "markdown",
   "id": "f3fadc78",
   "metadata": {},
   "source": [
    "The get methods allows you to get some properties of your feature"
   ]
  },
  {
   "cell_type": "code",
   "execution_count": 13,
   "id": "6638d8c1",
   "metadata": {
    "execution": {
     "iopub.execute_input": "2025-06-17T07:14:12.859565Z",
     "iopub.status.busy": "2025-06-17T07:14:12.859182Z",
     "iopub.status.idle": "2025-06-17T07:14:12.890452Z",
     "shell.execute_reply": "2025-06-17T07:14:12.889826Z"
    }
   },
   "outputs": [
    {
     "name": "stdout",
     "output_type": "stream",
     "text": [
      "op1 name: Material.1\n",
      "geometries linked to op1: ['TheBodyB', 'TheBodyC']\n",
      "op1 surface optical properties info: [{'name': 'Material.1.SOP', 'mirror': {'reflectance': 80.0}, 'description': '', 'metadata': {}}]\n",
      "op1 volume optical property info: {'name': 'Material.1.VOP', 'opaque': {}, 'description': '', 'metadata': {}}\n",
      "op1 is opaque type volume optical property\n",
      "{\n",
      "    \"name\": \"Material.2\",\n",
      "    \"metadata\": {\n",
      "        \"UniqueId\": \"a8a63a68-5db6-4f7c-a5c0-4c688b7f5dad\"\n",
      "    },\n",
      "    \"vop_guid\": \"a8457ce1-cf7b-4212-a991-a720bf3bf9cd\",\n",
      "    \"sop_guids\": [\n",
      "        \"84fd311b-9441-47fe-9c22-9c48b3ea8ad8\"\n",
      "    ],\n",
      "    \"geometries\": {\n",
      "        \"geo_paths\": [\n",
      "            \"TheBodyD\",\n",
      "            \"TheBodyE\"\n",
      "        ]\n",
      "    },\n",
      "    \"description\": \"\",\n",
      "    \"vop\": {\n",
      "        \"name\": \"Material.2.VOP\",\n",
      "        \"library\": {\n",
      "            \"material_file_uri\": \"/app/assets/AIR.material\"\n",
      "        },\n",
      "        \"description\": \"\",\n",
      "        \"metadata\": {}\n",
      "    },\n",
      "    \"sops\": [\n",
      "        {\n",
      "            \"name\": \"Material.2.SOP\",\n",
      "            \"optical_polished\": {},\n",
      "            \"description\": \"\",\n",
      "            \"metadata\": {}\n",
      "        }\n",
      "    ]\n",
      "}\n",
      "op2 name: Material.2\n",
      "op2 is optical polished type surface property\n",
      "op2 is library type volume optical property\n",
      "{\n",
      "    \"name\": \"Material.FOP\",\n",
      "    \"metadata\": {\n",
      "        \"UniqueId\": \"ac407e12-6a67-4cc8-9617-e7fa01010b27\"\n",
      "    },\n",
      "    \"sop_guids\": [\n",
      "        \"4ba7657d-0579-416c-80fd-2ef34d2e72f0\"\n",
      "    ],\n",
      "    \"geometries\": {\n",
      "        \"geo_paths\": [\n",
      "            \"TheBodyD/TheFaceF\"\n",
      "        ]\n",
      "    },\n",
      "    \"description\": \"\",\n",
      "    \"sops\": [\n",
      "        {\n",
      "            \"name\": \"Material.FOP.SOP\",\n",
      "            \"mirror\": {\n",
      "                \"reflectance\": 90.0\n",
      "            },\n",
      "            \"description\": \"\",\n",
      "            \"metadata\": {}\n",
      "        }\n",
      "    ]\n",
      "}\n",
      "op3 name: Material.FOP\n",
      "op3 has reflectance value of 90.0\n"
     ]
    }
   ],
   "source": [
    "print(\"op1 name: {}\".format(op1.get(key=\"name\")))\n",
    "print(\"geometries linked to op1: {}\".format(op1.get(key=\"geo_paths\")))\n",
    "print(\"op1 surface optical properties info: {}\".format(op1.get(key=\"sops\")))\n",
    "print(\"op1 volume optical property info: {}\".format(op1.get(key=\"vop\")))\n",
    "# user can use get with vop type as key word to check volume property type\n",
    "print(\n",
    "    \"op1 {} opaque type volume optical property\".format(\n",
    "        \"is\" if op1.get(key=\"opaque\") is not None else \"is not\"\n",
    "    )\n",
    ")\n",
    "\n",
    "print(op2)\n",
    "print(\"op2 name: {}\".format(op2.get(key=\"name\")))\n",
    "print(\n",
    "    \"op2 {} optical polished type surface property\".format(\n",
    "        (\"is\" if \"optical_polished\" in op2.get(key=\"sops\")[0] else \"is not\")\n",
    "    )\n",
    ")\n",
    "# an alternative way to check the type of optical property\n",
    "print(\n",
    "    \"op2 {} library type volume optical property\".format(\n",
    "        \"is\" if \"library\" in op2.get(key=\"vop\") is not None else \"is not\"\n",
    "    )\n",
    ")\n",
    "\n",
    "print(op3)\n",
    "print(\"op3 name: {}\".format(op3.get(key=\"name\")))\n",
    "print(\"op3 has reflectance value of {}\".format(op3.get(key=\"sops\")[0][\"mirror\"][\"reflectance\"]))"
   ]
  },
  {
   "cell_type": "markdown",
   "id": "32dbbf1c",
   "metadata": {},
   "source": [
    "### Project Information\n",
    "Committed feature information will appear inside a project information."
   ]
  },
  {
   "cell_type": "code",
   "execution_count": 14,
   "id": "de980ecc",
   "metadata": {
    "execution": {
     "iopub.execute_input": "2025-06-17T07:14:12.892372Z",
     "iopub.status.busy": "2025-06-17T07:14:12.892177Z",
     "iopub.status.idle": "2025-06-17T07:14:12.901614Z",
     "shell.execute_reply": "2025-06-17T07:14:12.900969Z"
    }
   },
   "outputs": [
    {
     "name": "stdout",
     "output_type": "stream",
     "text": [
      "{\n",
      "    \"part_guid\": \"d3ada57b-2d67-49be-8963-b227f35047e6\",\n",
      "    \"materials\": [\n",
      "        {\n",
      "            \"name\": \"Material.1\",\n",
      "            \"metadata\": {\n",
      "                \"UniqueId\": \"901d4498-db98-4903-b4e0-b4ae4911faf5\"\n",
      "            },\n",
      "            \"vop_guid\": \"a9aaf645-1548-4c91-a676-19a4f60ddf38\",\n",
      "            \"sop_guids\": [\n",
      "                \"2bb22673-25f7-4751-afc1-e7632a1523d1\"\n",
      "            ],\n",
      "            \"geometries\": {\n",
      "                \"geo_paths\": [\n",
      "                    \"TheBodyB\",\n",
      "                    \"TheBodyC\"\n",
      "                ]\n",
      "            },\n",
      "            \"description\": \"\",\n",
      "            \"vop\": {\n",
      "                \"name\": \"Material.1.VOP\",\n",
      "                \"opaque\": {},\n",
      "                \"description\": \"\",\n",
      "                \"metadata\": {}\n",
      "            },\n",
      "            \"sops\": [\n",
      "                {\n",
      "                    \"name\": \"Material.1.SOP\",\n",
      "                    \"mirror\": {\n",
      "                        \"reflectance\": 80.0\n",
      "                    },\n",
      "                    \"description\": \"\",\n",
      "                    \"metadata\": {}\n",
      "                }\n",
      "            ]\n",
      "        },\n",
      "        {\n",
      "            \"name\": \"Material.2\",\n",
      "            \"metadata\": {\n",
      "                \"UniqueId\": \"a8a63a68-5db6-4f7c-a5c0-4c688b7f5dad\"\n",
      "            },\n",
      "            \"vop_guid\": \"a8457ce1-cf7b-4212-a991-a720bf3bf9cd\",\n",
      "            \"sop_guids\": [\n",
      "                \"84fd311b-9441-47fe-9c22-9c48b3ea8ad8\"\n",
      "            ],\n",
      "            \"geometries\": {\n",
      "                \"geo_paths\": [\n",
      "                    \"TheBodyD\",\n",
      "                    \"TheBodyE\"\n",
      "                ]\n",
      "            },\n",
      "            \"description\": \"\",\n",
      "            \"vop\": {\n",
      "                \"name\": \"Material.2.VOP\",\n",
      "                \"library\": {\n",
      "                    \"material_file_uri\": \"/app/assets/AIR.material\"\n",
      "                },\n",
      "                \"description\": \"\",\n",
      "                \"metadata\": {}\n",
      "            },\n",
      "            \"sops\": [\n",
      "                {\n",
      "                    \"name\": \"Material.2.SOP\",\n",
      "                    \"optical_polished\": {},\n",
      "                    \"description\": \"\",\n",
      "                    \"metadata\": {}\n",
      "                }\n",
      "            ]\n",
      "        },\n",
      "        {\n",
      "            \"name\": \"Material.FOP\",\n",
      "            \"metadata\": {\n",
      "                \"UniqueId\": \"ac407e12-6a67-4cc8-9617-e7fa01010b27\"\n",
      "            },\n",
      "            \"sop_guids\": [\n",
      "                \"4ba7657d-0579-416c-80fd-2ef34d2e72f0\"\n",
      "            ],\n",
      "            \"geometries\": {\n",
      "                \"geo_paths\": [\n",
      "                    \"TheBodyD/TheFaceF\"\n",
      "                ]\n",
      "            },\n",
      "            \"description\": \"\",\n",
      "            \"sops\": [\n",
      "                {\n",
      "                    \"name\": \"Material.FOP.SOP\",\n",
      "                    \"mirror\": {\n",
      "                        \"reflectance\": 90.0\n",
      "                    },\n",
      "                    \"description\": \"\",\n",
      "                    \"metadata\": {}\n",
      "                }\n",
      "            ]\n",
      "        },\n",
      "        {\n",
      "            \"name\": \"Material.3\",\n",
      "            \"metadata\": {\n",
      "                \"UniqueId\": \"8aad97d3-a4fb-4942-bdd8-b0de54a32b63\"\n",
      "            },\n",
      "            \"sop_guids\": [\n",
      "                \"bfe963ed-74a7-4338-9e99-b53b84642413\"\n",
      "            ],\n",
      "            \"description\": \"\",\n",
      "            \"sops\": [\n",
      "                {\n",
      "                    \"name\": \"Material.3.SOP\",\n",
      "                    \"mirror\": {\n",
      "                        \"reflectance\": 100.0\n",
      "                    },\n",
      "                    \"description\": \"\",\n",
      "                    \"metadata\": {}\n",
      "                }\n",
      "            ]\n",
      "        }\n",
      "    ],\n",
      "    \"name\": \"\",\n",
      "    \"description\": \"\",\n",
      "    \"metadata\": {},\n",
      "    \"sources\": [],\n",
      "    \"sensors\": [],\n",
      "    \"simulations\": [],\n",
      "    \"scenes\": []\n",
      "}\n"
     ]
    }
   ],
   "source": [
    "print(p)"
   ]
  },
  {
   "cell_type": "markdown",
   "id": "471abdb8",
   "metadata": {
    "lines_to_next_cell": 2
   },
   "source": [
    "## Update\n",
    "\n",
    "Tipp: if you are manipulating an optical property already committed, don't forget to commit your\n",
    "changes.\n",
    "\n",
    "If you don't, you will still only watch what is committed on the server."
   ]
  },
  {
   "cell_type": "code",
   "execution_count": 15,
   "id": "831e4f7d",
   "metadata": {
    "execution": {
     "iopub.execute_input": "2025-06-17T07:14:12.903614Z",
     "iopub.status.busy": "2025-06-17T07:14:12.903413Z",
     "iopub.status.idle": "2025-06-17T07:14:12.916721Z",
     "shell.execute_reply": "2025-06-17T07:14:12.916042Z"
    },
    "lines_to_next_cell": 2
   },
   "outputs": [
    {
     "name": "stdout",
     "output_type": "stream",
     "text": [
      "op1 surface type before update: {'name': 'Material.1.SOP', 'mirror': {'reflectance': 80.0}, 'description': '', 'metadata': {}}\n",
      "{\n",
      "    \"name\": \"Material.1\",\n",
      "    \"metadata\": {\n",
      "        \"UniqueId\": \"901d4498-db98-4903-b4e0-b4ae4911faf5\"\n",
      "    },\n",
      "    \"vop_guid\": \"a9aaf645-1548-4c91-a676-19a4f60ddf38\",\n",
      "    \"sop_guids\": [\n",
      "        \"2bb22673-25f7-4751-afc1-e7632a1523d1\"\n",
      "    ],\n",
      "    \"geometries\": {\n",
      "        \"geo_paths\": [\n",
      "            \"TheBodyB\",\n",
      "            \"TheBodyC\"\n",
      "        ]\n",
      "    },\n",
      "    \"description\": \"\",\n",
      "    \"vop\": {\n",
      "        \"name\": \"Material.1.VOP\",\n",
      "        \"optic\": {\n",
      "            \"index\": 1.5,\n",
      "            \"absorption\": 0.0\n",
      "        },\n",
      "        \"description\": \"\",\n",
      "        \"metadata\": {}\n",
      "    },\n",
      "    \"sops\": [\n",
      "        {\n",
      "            \"name\": \"Material.1.SOP\",\n",
      "            \"optical_polished\": {},\n",
      "            \"description\": \"\",\n",
      "            \"metadata\": {}\n",
      "        }\n",
      "    ]\n",
      "}\n",
      "op1 surface type after update: {'name': 'Material.1.SOP', 'optical_polished': {}, 'description': '', 'metadata': {}}\n"
     ]
    }
   ],
   "source": [
    "print(\"op1 surface type before update: {}\".format(op1.get(key=\"sops\")[0]))\n",
    "op1.set_volume_optic().set_surface_opticalpolished().commit()\n",
    "print(op1)\n",
    "print(\"op1 surface type after update: {}\".format(op1.get(key=\"sops\")[0]))"
   ]
  },
  {
   "cell_type": "markdown",
   "id": "937f7d65",
   "metadata": {},
   "source": [
    "## Reset\n",
    "\n",
    "Possibility to reset local values from the one available in the server."
   ]
  },
  {
   "cell_type": "code",
   "execution_count": 16,
   "id": "66123f6d",
   "metadata": {
    "execution": {
     "iopub.execute_input": "2025-06-17T07:14:12.918973Z",
     "iopub.status.busy": "2025-06-17T07:14:12.918589Z",
     "iopub.status.idle": "2025-06-17T07:14:12.925583Z",
     "shell.execute_reply": "2025-06-17T07:14:12.925038Z"
    },
    "lines_to_next_cell": 2
   },
   "outputs": [
    {
     "name": "stdout",
     "output_type": "stream",
     "text": [
      "local: {\n",
      "    \"name\": \"Material.1\",\n",
      "    \"vop_guid\": \"\",\n",
      "    \"geometries\": {\n",
      "        \"geo_paths\": [\n",
      "            \"TheBodyB\",\n",
      "            \"TheBodyC\"\n",
      "        ]\n",
      "    },\n",
      "    \"description\": \"\",\n",
      "    \"metadata\": {},\n",
      "    \"sop_guids\": [],\n",
      "    \"vop\": {\n",
      "        \"name\": \"Material.1.VOP\",\n",
      "        \"optic\": {\n",
      "            \"index\": 1.5,\n",
      "            \"absorption\": 0.0\n",
      "        },\n",
      "        \"description\": \"\",\n",
      "        \"metadata\": {}\n",
      "    },\n",
      "    \"sops\": [\n",
      "        {\n",
      "            \"name\": \"Material.1.SOP\",\n",
      "            \"optical_polished\": {},\n",
      "            \"description\": \"\",\n",
      "            \"metadata\": {}\n",
      "        }\n",
      "    ]\n",
      "}\n"
     ]
    }
   ],
   "source": [
    "op1.set_surface_mirror()  # set surface as a mirror but no commit\n",
    "op1.reset()  # reset -> this will apply the server value to the local value\n",
    "op1.delete()  # delete (to display the local value with the below print)\n",
    "print(op1)"
   ]
  },
  {
   "cell_type": "markdown",
   "id": "63ee633c",
   "metadata": {
    "lines_to_next_cell": 2
   },
   "source": [
    "## Delete\n",
    "\n",
    "Once the data is deleted from the server, you can still work with local data and maybe commit\n",
    "later."
   ]
  },
  {
   "cell_type": "code",
   "execution_count": 17,
   "id": "61cf45df",
   "metadata": {
    "execution": {
     "iopub.execute_input": "2025-06-17T07:14:12.927585Z",
     "iopub.status.busy": "2025-06-17T07:14:12.927224Z",
     "iopub.status.idle": "2025-06-17T07:14:12.932254Z",
     "shell.execute_reply": "2025-06-17T07:14:12.931624Z"
    }
   },
   "outputs": [
    {
     "name": "stdout",
     "output_type": "stream",
     "text": [
      "local: {\n",
      "    \"name\": \"Material.2\",\n",
      "    \"vop_guid\": \"\",\n",
      "    \"geometries\": {\n",
      "        \"geo_paths\": [\n",
      "            \"TheBodyD\",\n",
      "            \"TheBodyE\"\n",
      "        ]\n",
      "    },\n",
      "    \"description\": \"\",\n",
      "    \"metadata\": {},\n",
      "    \"sop_guids\": [],\n",
      "    \"vop\": {\n",
      "        \"name\": \"Material.2.VOP\",\n",
      "        \"library\": {\n",
      "            \"material_file_uri\": \"/app/assets/AIR.material\"\n",
      "        },\n",
      "        \"description\": \"\",\n",
      "        \"metadata\": {}\n",
      "    },\n",
      "    \"sops\": [\n",
      "        {\n",
      "            \"name\": \"Material.2.SOP\",\n",
      "            \"optical_polished\": {},\n",
      "            \"description\": \"\",\n",
      "            \"metadata\": {}\n",
      "        }\n",
      "    ]\n",
      "}\n"
     ]
    }
   ],
   "source": [
    "op2.delete()\n",
    "print(op2)"
   ]
  },
  {
   "cell_type": "markdown",
   "id": "151df6c5",
   "metadata": {},
   "source": [
    "Clean up all Optical properties"
   ]
  },
  {
   "cell_type": "code",
   "execution_count": 18,
   "id": "b4dc8189",
   "metadata": {
    "execution": {
     "iopub.execute_input": "2025-06-17T07:14:12.934203Z",
     "iopub.status.busy": "2025-06-17T07:14:12.934005Z",
     "iopub.status.idle": "2025-06-17T07:14:12.942922Z",
     "shell.execute_reply": "2025-06-17T07:14:12.942334Z"
    }
   },
   "outputs": [
    {
     "data": {
      "text/plain": [
       "<ansys.speos.core.opt_prop.OptProp at 0x7fcdb07bf8e0>"
      ]
     },
     "execution_count": 18,
     "metadata": {},
     "output_type": "execute_result"
    }
   ],
   "source": [
    "op1.delete()\n",
    "op3.delete()\n",
    "op4.delete()"
   ]
  },
  {
   "cell_type": "code",
   "execution_count": 19,
   "id": "56b3d290",
   "metadata": {
    "execution": {
     "iopub.execute_input": "2025-06-17T07:14:12.944686Z",
     "iopub.status.busy": "2025-06-17T07:14:12.944490Z",
     "iopub.status.idle": "2025-06-17T07:14:12.988305Z",
     "shell.execute_reply": "2025-06-17T07:14:12.987594Z"
    }
   },
   "outputs": [
    {
     "data": {
      "text/plain": [
       "True"
      ]
     },
     "execution_count": 19,
     "metadata": {},
     "output_type": "execute_result"
    }
   ],
   "source": [
    "speos.close()"
   ]
  }
 ],
 "metadata": {
  "jupytext": {
   "cell_metadata_filter": "-all",
   "main_language": "python",
   "notebook_metadata_filter": "-all",
   "text_representation": {
    "extension": ".py",
    "format_name": "light"
   }
  },
  "language_info": {
   "codemirror_mode": {
    "name": "ipython",
    "version": 3
   },
   "file_extension": ".py",
   "mimetype": "text/x-python",
   "name": "python",
   "nbconvert_exporter": "python",
   "pygments_lexer": "ipython3",
   "version": "3.10.17"
  }
 },
 "nbformat": 4,
 "nbformat_minor": 5
}
