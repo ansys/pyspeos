{
 "cells": [
  {
   "cell_type": "markdown",
   "id": "bd13580d",
   "metadata": {},
   "source": [
    "# How to create a sensor\n",
    "\n",
    "This tutorial demonstrates how to create a sensor.\n",
    "\n",
    "There are different type of sensors available: irradiance sensor, radiance sensor, camera sensor."
   ]
  },
  {
   "cell_type": "markdown",
   "id": "99d9c022",
   "metadata": {},
   "source": [
    "## Prerequisites\n",
    "\n",
    "### Perform imports"
   ]
  },
  {
   "cell_type": "code",
   "execution_count": 1,
   "id": "3cf5ad0a",
   "metadata": {
    "execution": {
     "iopub.execute_input": "2025-06-17T07:15:57.178339Z",
     "iopub.status.busy": "2025-06-17T07:15:57.178121Z",
     "iopub.status.idle": "2025-06-17T07:15:57.184990Z",
     "shell.execute_reply": "2025-06-17T07:15:57.184385Z"
    }
   },
   "outputs": [],
   "source": [
    "from pathlib import Path"
   ]
  },
  {
   "cell_type": "code",
   "execution_count": 2,
   "id": "dec7d56b",
   "metadata": {
    "execution": {
     "iopub.execute_input": "2025-06-17T07:15:57.187140Z",
     "iopub.status.busy": "2025-06-17T07:15:57.186724Z",
     "iopub.status.idle": "2025-06-17T07:15:58.044331Z",
     "shell.execute_reply": "2025-06-17T07:15:58.043657Z"
    }
   },
   "outputs": [],
   "source": [
    "from ansys.speos.core import Project, Speos, launcher\n",
    "from ansys.speos.core.sensor import (\n",
    "    SensorCamera,\n",
    "    SensorIrradiance,\n",
    "    SensorRadiance,\n",
    ")"
   ]
  },
  {
   "cell_type": "markdown",
   "id": "c178129c",
   "metadata": {},
   "source": [
    "### Define constants\n",
    "\n",
    "The constants help ensure consistency and avoid repetition throughout the example."
   ]
  },
  {
   "cell_type": "code",
   "execution_count": 3,
   "id": "c099c190",
   "metadata": {
    "execution": {
     "iopub.execute_input": "2025-06-17T07:15:58.047250Z",
     "iopub.status.busy": "2025-06-17T07:15:58.046608Z",
     "iopub.status.idle": "2025-06-17T07:15:58.050164Z",
     "shell.execute_reply": "2025-06-17T07:15:58.049589Z"
    }
   },
   "outputs": [],
   "source": [
    "HOSTNAME = \"localhost\"\n",
    "GRPC_PORT = 50098  # Be sure the Speos GRPC Server has been started on this port.\n",
    "USE_DOCKER = True  # Set to False if you're running this example locally as a Notebook.\n",
    "FILES = \"CameraInputFiles\""
   ]
  },
  {
   "cell_type": "markdown",
   "id": "e5c11319",
   "metadata": {},
   "source": [
    "## Model Setup\n",
    "\n",
    "### Load assets\n",
    "The assets used to run this example are available in the\n",
    "[PySpeos repository](https://github.com/ansys/pyspeos/) on GitHub.\n",
    "\n",
    "> **Note:** Make sure you\n",
    "> have downloaded simulation assets and set ``assets_data_path``\n",
    "> to point to the assets folder."
   ]
  },
  {
   "cell_type": "code",
   "execution_count": 4,
   "id": "c5d2aa82",
   "metadata": {
    "execution": {
     "iopub.execute_input": "2025-06-17T07:15:58.052014Z",
     "iopub.status.busy": "2025-06-17T07:15:58.051800Z",
     "iopub.status.idle": "2025-06-17T07:15:58.055114Z",
     "shell.execute_reply": "2025-06-17T07:15:58.054556Z"
    }
   },
   "outputs": [],
   "source": [
    "if USE_DOCKER:  # Running on the remote server.\n",
    "    assets_data_path = Path(\"/app\") / \"assets\"\n",
    "else:\n",
    "    assets_data_path = Path(\"/path/to/your/download/assets/directory\")"
   ]
  },
  {
   "cell_type": "markdown",
   "id": "d26187b0",
   "metadata": {},
   "source": [
    "### Connect to the RPC Server\n",
    "This Python client connects to a server where the Speos engine\n",
    "is running as a service. In this example, the server and\n",
    "client are the same machine. The launch_local_speos_rpc_method can\n",
    "be used to start a local instance of the service."
   ]
  },
  {
   "cell_type": "code",
   "execution_count": 5,
   "id": "bda7d526",
   "metadata": {
    "execution": {
     "iopub.execute_input": "2025-06-17T07:15:58.056943Z",
     "iopub.status.busy": "2025-06-17T07:15:58.056733Z",
     "iopub.status.idle": "2025-06-17T07:15:58.066666Z",
     "shell.execute_reply": "2025-06-17T07:15:58.066138Z"
    }
   },
   "outputs": [],
   "source": [
    "if USE_DOCKER:\n",
    "    speos = Speos(host=HOSTNAME, port=GRPC_PORT)\n",
    "else:\n",
    "    speos = launcher.launch_local_speos_rpc_server(port=GRPC_PORT)"
   ]
  },
  {
   "cell_type": "markdown",
   "id": "1285c5e8",
   "metadata": {},
   "source": [
    "## Create a new project\n",
    "\n",
    "The only way to create a sensor, is to create it from a project."
   ]
  },
  {
   "cell_type": "code",
   "execution_count": 6,
   "id": "9c63d9a4",
   "metadata": {
    "execution": {
     "iopub.execute_input": "2025-06-17T07:15:58.068540Z",
     "iopub.status.busy": "2025-06-17T07:15:58.068345Z",
     "iopub.status.idle": "2025-06-17T07:15:58.074415Z",
     "shell.execute_reply": "2025-06-17T07:15:58.073745Z"
    }
   },
   "outputs": [
    {
     "name": "stdout",
     "output_type": "stream",
     "text": [
      "{\n",
      "    \"name\": \"\",\n",
      "    \"description\": \"\",\n",
      "    \"metadata\": {},\n",
      "    \"part_guid\": \"\",\n",
      "    \"sources\": [],\n",
      "    \"sensors\": [],\n",
      "    \"simulations\": [],\n",
      "    \"materials\": [],\n",
      "    \"scenes\": []\n",
      "}\n"
     ]
    }
   ],
   "source": [
    "p = Project(speos=speos)\n",
    "print(p)"
   ]
  },
  {
   "cell_type": "markdown",
   "id": "92d9bfca",
   "metadata": {},
   "source": [
    "## Create\n",
    "\n",
    "Create locally."
   ]
  },
  {
   "cell_type": "markdown",
   "id": "3b499935",
   "metadata": {},
   "source": [
    "The mention \"local: \" is added when printing the sensor"
   ]
  },
  {
   "cell_type": "code",
   "execution_count": 7,
   "id": "0feceb7b",
   "metadata": {
    "execution": {
     "iopub.execute_input": "2025-06-17T07:15:58.076401Z",
     "iopub.status.busy": "2025-06-17T07:15:58.076041Z",
     "iopub.status.idle": "2025-06-17T07:15:58.087062Z",
     "shell.execute_reply": "2025-06-17T07:15:58.086430Z"
    }
   },
   "outputs": [
    {
     "name": "stdout",
     "output_type": "stream",
     "text": [
      "local: {\n",
      "    \"name\": \"Camera.1\",\n",
      "    \"description\": \"\",\n",
      "    \"metadata\": {},\n",
      "    \"sensor_guid\": \"\",\n",
      "    \"result_file_name\": \"\",\n",
      "    \"sensor\": {\n",
      "        \"camera_sensor_template\": {\n",
      "            \"sensor_mode_photometric\": {\n",
      "                \"acquisition_integration\": 0.01,\n",
      "                \"transmittance_file_uri\": \"/app/assets/CameraInputFiles/CameraTransmittance.spectrum\",\n",
      "                \"gamma_correction\": 2.2,\n",
      "                \"png_bits\": \"PNG_16\",\n",
      "                \"color_mode_color\": {\n",
      "                    \"red_spectrum_file_uri\": \"/app/assets/CameraInputFiles/CameraSensitivityRed.spectrum\",\n",
      "                    \"green_spectrum_file_uri\": \"/app/assets/CameraInputFiles/CameraSensitivityGreen.spectrum\",\n",
      "                    \"blue_spectrum_file_uri\": \"/app/assets/CameraInputFiles/CameraSensitivityBlue.spectrum\",\n",
      "                    \"balance_mode_none\": {}\n",
      "                },\n",
      "                \"wavelengths_range\": {\n",
      "                    \"w_start\": 400.0,\n",
      "                    \"w_end\": 700.0,\n",
      "                    \"w_sampling\": 13\n",
      "                },\n",
      "                \"acquisition_lag_time\": 0.0\n",
      "            },\n",
      "            \"focal_length\": 5.0,\n",
      "            \"imager_distance\": 10.0,\n",
      "            \"f_number\": 20.0,\n",
      "            \"horz_pixel\": 640,\n",
      "            \"vert_pixel\": 480,\n",
      "            \"width\": 5.0,\n",
      "            \"height\": 5.0,\n",
      "            \"distortion_file_uri\": \"/app/assets/CameraInputFiles/CameraDistortion_130deg.OPTDistortion\",\n",
      "            \"distorsion_file_uri\": \"\",\n",
      "            \"axis_system\": [\n",
      "                0.0,\n",
      "                0.0,\n",
      "                0.0,\n",
      "                1.0,\n",
      "                0.0,\n",
      "                0.0,\n",
      "                0.0,\n",
      "                1.0,\n",
      "                0.0,\n",
      "                0.0,\n",
      "                0.0,\n",
      "                1.0\n",
      "            ],\n",
      "            \"layer_type_none\": {},\n",
      "            \"trajectory_file_uri\": \"\"\n",
      "        },\n",
      "        \"name\": \"Camera.1\",\n",
      "        \"description\": \"\",\n",
      "        \"metadata\": {}\n",
      "    }\n",
      "}\n"
     ]
    }
   ],
   "source": [
    "\n",
    "distortion_file_path = str(assets_data_path / FILES / \"CameraDistortion_130deg.OPTDistortion\")\n",
    "transmittance_file_path = str(assets_data_path / FILES / \"CameraTransmittance.spectrum\")\n",
    "blue_spectrum_path = str(assets_data_path / FILES / \"CameraSensitivityBlue.spectrum\")\n",
    "green_spectrum_path = str(assets_data_path / FILES / \"CameraSensitivityGreen.spectrum\")\n",
    "red_spectrum_path = str(assets_data_path / FILES / \"CameraSensitivityRed.spectrum\")\n",
    "\n",
    "sensor1 = p.create_sensor(name=\"Camera.1\", feature_type=SensorCamera)\n",
    "sensor1.set_distortion_file_uri(uri=distortion_file_path)\n",
    "# Choose photometric mode\n",
    "sensor1.set_mode_photometric().set_transmittance_file_uri(uri=transmittance_file_path)\n",
    "# Choose color mode (will imply to give spectrum file for blue, green and red)\n",
    "sensor1.set_mode_photometric().set_mode_color().set_blue_spectrum_file_uri(uri=blue_spectrum_path)\n",
    "sensor1.set_mode_photometric().set_mode_color().set_green_spectrum_file_uri(uri=green_spectrum_path)\n",
    "sensor1.set_mode_photometric().set_mode_color().set_red_spectrum_file_uri(uri=red_spectrum_path)\n",
    "print(sensor1)"
   ]
  },
  {
   "cell_type": "markdown",
   "id": "f9550fc7",
   "metadata": {},
   "source": [
    "## Push it to the server.\n",
    "\n",
    "Now that it is committed to the server, the mention \"local: \" is no more present when printing the\n",
    "sensor."
   ]
  },
  {
   "cell_type": "code",
   "execution_count": 8,
   "id": "1477fecc",
   "metadata": {
    "execution": {
     "iopub.execute_input": "2025-06-17T07:15:58.089218Z",
     "iopub.status.busy": "2025-06-17T07:15:58.088723Z",
     "iopub.status.idle": "2025-06-17T07:15:58.232009Z",
     "shell.execute_reply": "2025-06-17T07:15:58.231355Z"
    }
   },
   "outputs": [
    {
     "name": "stdout",
     "output_type": "stream",
     "text": [
      "{\n",
      "    \"name\": \"Camera.1\",\n",
      "    \"metadata\": {\n",
      "        \"UniqueId\": \"c379ab73-2223-4328-9f28-2fa16ba16a85\"\n",
      "    },\n",
      "    \"sensor_guid\": \"9010dbb4-d878-4e3d-abc7-361892483343\",\n",
      "    \"description\": \"\",\n",
      "    \"result_file_name\": \"\",\n",
      "    \"sensor\": {\n",
      "        \"camera_sensor_template\": {\n",
      "            \"sensor_mode_photometric\": {\n",
      "                \"acquisition_integration\": 0.01,\n",
      "                \"transmittance_file_uri\": \"/app/assets/CameraInputFiles/CameraTransmittance.spectrum\",\n",
      "                \"gamma_correction\": 2.2,\n",
      "                \"png_bits\": \"PNG_16\",\n",
      "                \"color_mode_color\": {\n",
      "                    \"red_spectrum_file_uri\": \"/app/assets/CameraInputFiles/CameraSensitivityRed.spectrum\",\n",
      "                    \"green_spectrum_file_uri\": \"/app/assets/CameraInputFiles/CameraSensitivityGreen.spectrum\",\n",
      "                    \"blue_spectrum_file_uri\": \"/app/assets/CameraInputFiles/CameraSensitivityBlue.spectrum\",\n",
      "                    \"balance_mode_none\": {}\n",
      "                },\n",
      "                \"wavelengths_range\": {\n",
      "                    \"w_start\": 400.0,\n",
      "                    \"w_end\": 700.0,\n",
      "                    \"w_sampling\": 13\n",
      "                },\n",
      "                \"acquisition_lag_time\": 0.0\n",
      "            },\n",
      "            \"focal_length\": 5.0,\n",
      "            \"imager_distance\": 10.0,\n",
      "            \"f_number\": 20.0,\n",
      "            \"horz_pixel\": 640,\n",
      "            \"vert_pixel\": 480,\n",
      "            \"width\": 5.0,\n",
      "            \"height\": 5.0,\n",
      "            \"distortion_file_uri\": \"/app/assets/CameraInputFiles/CameraDistortion_130deg.OPTDistortion\",\n",
      "            \"distorsion_file_uri\": \"\",\n",
      "            \"axis_system\": [\n",
      "                0.0,\n",
      "                0.0,\n",
      "                0.0,\n",
      "                1.0,\n",
      "                0.0,\n",
      "                0.0,\n",
      "                0.0,\n",
      "                1.0,\n",
      "                0.0,\n",
      "                0.0,\n",
      "                0.0,\n",
      "                1.0\n",
      "            ],\n",
      "            \"layer_type_none\": {},\n",
      "            \"trajectory_file_uri\": \"\"\n",
      "        },\n",
      "        \"name\": \"Camera.1\",\n",
      "        \"description\": \"\",\n",
      "        \"metadata\": {}\n",
      "    }\n",
      "}\n"
     ]
    }
   ],
   "source": [
    "sensor1.commit()\n",
    "print(sensor1)"
   ]
  },
  {
   "cell_type": "markdown",
   "id": "b3d65c82",
   "metadata": {},
   "source": [
    "## Another example\n",
    "\n",
    "Set more characteristics.\n",
    "\n",
    "Camera feature is created with the same default values as the GUI speos.\n",
    "\n",
    "If the user would like to modify the camera characteristics,\n",
    "it is possible to do so as below."
   ]
  },
  {
   "cell_type": "code",
   "execution_count": 9,
   "id": "71393c5c",
   "metadata": {
    "execution": {
     "iopub.execute_input": "2025-06-17T07:15:58.234151Z",
     "iopub.status.busy": "2025-06-17T07:15:58.233954Z",
     "iopub.status.idle": "2025-06-17T07:15:58.250110Z",
     "shell.execute_reply": "2025-06-17T07:15:58.249497Z"
    },
    "lines_to_next_cell": 2
   },
   "outputs": [
    {
     "name": "stdout",
     "output_type": "stream",
     "text": [
      "{\n",
      "    \"name\": \"Camera.2\",\n",
      "    \"metadata\": {\n",
      "        \"UniqueId\": \"2dbc9800-0467-47ca-82fc-5ab4b08f7e21\"\n",
      "    },\n",
      "    \"sensor_guid\": \"a199f4a4-34b7-4f91-8d21-804316769bdf\",\n",
      "    \"description\": \"\",\n",
      "    \"result_file_name\": \"\",\n",
      "    \"sensor\": {\n",
      "        \"camera_sensor_template\": {\n",
      "            \"sensor_mode_photometric\": {\n",
      "                \"acquisition_integration\": 0.01,\n",
      "                \"transmittance_file_uri\": \"/app/assets/CameraInputFiles/CameraTransmittance.spectrum\",\n",
      "                \"gamma_correction\": 2.2,\n",
      "                \"png_bits\": \"PNG_16\",\n",
      "                \"color_mode_color\": {\n",
      "                    \"red_spectrum_file_uri\": \"/app/assets/CameraInputFiles/CameraSensitivityRed.spectrum\",\n",
      "                    \"green_spectrum_file_uri\": \"/app/assets/CameraInputFiles/CameraSensitivityGreen.spectrum\",\n",
      "                    \"blue_spectrum_file_uri\": \"/app/assets/CameraInputFiles/CameraSensitivityBlue.spectrum\",\n",
      "                    \"balance_mode_none\": {}\n",
      "                },\n",
      "                \"wavelengths_range\": {\n",
      "                    \"w_start\": 400.0,\n",
      "                    \"w_end\": 700.0,\n",
      "                    \"w_sampling\": 13\n",
      "                },\n",
      "                \"acquisition_lag_time\": 0.0\n",
      "            },\n",
      "            \"focal_length\": 5.5,\n",
      "            \"imager_distance\": 10.0,\n",
      "            \"f_number\": 20.0,\n",
      "            \"horz_pixel\": 640,\n",
      "            \"vert_pixel\": 480,\n",
      "            \"width\": 6.0,\n",
      "            \"height\": 6.0,\n",
      "            \"distortion_file_uri\": \"/app/assets/CameraInputFiles/CameraDistortion_130deg.OPTDistortion\",\n",
      "            \"distorsion_file_uri\": \"\",\n",
      "            \"axis_system\": [\n",
      "                20.0,\n",
      "                10.0,\n",
      "                40.0,\n",
      "                1.0,\n",
      "                0.0,\n",
      "                0.0,\n",
      "                0.0,\n",
      "                1.0,\n",
      "                0.0,\n",
      "                0.0,\n",
      "                0.0,\n",
      "                1.0\n",
      "            ],\n",
      "            \"layer_type_source\": {},\n",
      "            \"trajectory_file_uri\": \"\"\n",
      "        },\n",
      "        \"name\": \"Camera.2\",\n",
      "        \"description\": \"\",\n",
      "        \"metadata\": {}\n",
      "    }\n",
      "}\n"
     ]
    }
   ],
   "source": [
    "distortion_file_path = str(assets_data_path / FILES / \"CameraDistortion_130deg.OPTDistortion\")\n",
    "transmittance_file_path = str(assets_data_path / FILES / \"CameraTransmittance.spectrum\")\n",
    "blue_spectrum_path = str(assets_data_path / FILES / \"CameraSensitivityBlue.spectrum\")\n",
    "green_spectrum_path = str(assets_data_path / FILES / \"CameraSensitivityGreen.spectrum\")\n",
    "red_spectrum_path = str(assets_data_path / FILES / \"CameraSensitivityRed.spectrum\")\n",
    "\n",
    "sensor2 = p.create_sensor(name=\"Camera.2\", feature_type=SensorCamera)\n",
    "sensor2.set_distortion_file_uri(uri=distortion_file_path)\n",
    "sensor2.set_mode_photometric().set_transmittance_file_uri(uri=transmittance_file_path)\n",
    "sensor2.set_mode_photometric().set_layer_type_source()\n",
    "sensor2.set_mode_photometric().set_mode_color().set_blue_spectrum_file_uri(uri=blue_spectrum_path)\n",
    "sensor2.set_mode_photometric().set_mode_color().set_green_spectrum_file_uri(uri=green_spectrum_path)\n",
    "sensor2.set_mode_photometric().set_mode_color().set_red_spectrum_file_uri(uri=red_spectrum_path)\n",
    "sensor2.set_focal_length(5.5)\n",
    "sensor2.set_height(value=6).set_width(value=6)  # dimensions\n",
    "sensor2.set_axis_system(\n",
    "    [20, 10, 40, 1, 0, 0, 0, 1, 0, 0, 0, 1]\n",
    ")  # camera location [Origin, Xvector, Yvector, Zvector]\n",
    "sensor2.commit()\n",
    "\n",
    "print(sensor2)"
   ]
  },
  {
   "cell_type": "markdown",
   "id": "c9f348f1",
   "metadata": {},
   "source": [
    "## Read\n",
    "\n",
    "### Sensor Instance\n",
    "\n",
    "A mention \"local: \" is added if it is not yet committed to the server"
   ]
  },
  {
   "cell_type": "code",
   "execution_count": 10,
   "id": "1af9ecab",
   "metadata": {
    "execution": {
     "iopub.execute_input": "2025-06-17T07:15:58.252048Z",
     "iopub.status.busy": "2025-06-17T07:15:58.251826Z",
     "iopub.status.idle": "2025-06-17T07:15:58.258881Z",
     "shell.execute_reply": "2025-06-17T07:15:58.258209Z"
    }
   },
   "outputs": [
    {
     "name": "stdout",
     "output_type": "stream",
     "text": [
      "{\n",
      "    \"name\": \"Camera.1\",\n",
      "    \"metadata\": {\n",
      "        \"UniqueId\": \"c379ab73-2223-4328-9f28-2fa16ba16a85\"\n",
      "    },\n",
      "    \"sensor_guid\": \"9010dbb4-d878-4e3d-abc7-361892483343\",\n",
      "    \"description\": \"\",\n",
      "    \"result_file_name\": \"\",\n",
      "    \"sensor\": {\n",
      "        \"camera_sensor_template\": {\n",
      "            \"sensor_mode_photometric\": {\n",
      "                \"acquisition_integration\": 0.01,\n",
      "                \"transmittance_file_uri\": \"/app/assets/CameraInputFiles/CameraTransmittance.spectrum\",\n",
      "                \"gamma_correction\": 2.2,\n",
      "                \"png_bits\": \"PNG_16\",\n",
      "                \"color_mode_color\": {\n",
      "                    \"red_spectrum_file_uri\": \"/app/assets/CameraInputFiles/CameraSensitivityRed.spectrum\",\n",
      "                    \"green_spectrum_file_uri\": \"/app/assets/CameraInputFiles/CameraSensitivityGreen.spectrum\",\n",
      "                    \"blue_spectrum_file_uri\": \"/app/assets/CameraInputFiles/CameraSensitivityBlue.spectrum\",\n",
      "                    \"balance_mode_none\": {}\n",
      "                },\n",
      "                \"wavelengths_range\": {\n",
      "                    \"w_start\": 400.0,\n",
      "                    \"w_end\": 700.0,\n",
      "                    \"w_sampling\": 13\n",
      "                },\n",
      "                \"acquisition_lag_time\": 0.0\n",
      "            },\n",
      "            \"focal_length\": 5.0,\n",
      "            \"imager_distance\": 10.0,\n",
      "            \"f_number\": 20.0,\n",
      "            \"horz_pixel\": 640,\n",
      "            \"vert_pixel\": 480,\n",
      "            \"width\": 5.0,\n",
      "            \"height\": 5.0,\n",
      "            \"distortion_file_uri\": \"/app/assets/CameraInputFiles/CameraDistortion_130deg.OPTDistortion\",\n",
      "            \"distorsion_file_uri\": \"\",\n",
      "            \"axis_system\": [\n",
      "                0.0,\n",
      "                0.0,\n",
      "                0.0,\n",
      "                1.0,\n",
      "                0.0,\n",
      "                0.0,\n",
      "                0.0,\n",
      "                1.0,\n",
      "                0.0,\n",
      "                0.0,\n",
      "                0.0,\n",
      "                1.0\n",
      "            ],\n",
      "            \"layer_type_none\": {},\n",
      "            \"trajectory_file_uri\": \"\"\n",
      "        },\n",
      "        \"name\": \"Camera.1\",\n",
      "        \"description\": \"\",\n",
      "        \"metadata\": {}\n",
      "    }\n",
      "}\n"
     ]
    }
   ],
   "source": [
    "print(sensor1)"
   ]
  },
  {
   "cell_type": "markdown",
   "id": "e4e26264",
   "metadata": {},
   "source": [
    "### Project"
   ]
  },
  {
   "cell_type": "markdown",
   "id": "f45c12f5",
   "metadata": {},
   "source": [
    "Committed feature will appear in the project."
   ]
  },
  {
   "cell_type": "code",
   "execution_count": 11,
   "id": "89b424c6",
   "metadata": {
    "execution": {
     "iopub.execute_input": "2025-06-17T07:15:58.260869Z",
     "iopub.status.busy": "2025-06-17T07:15:58.260630Z",
     "iopub.status.idle": "2025-06-17T07:15:58.269805Z",
     "shell.execute_reply": "2025-06-17T07:15:58.269266Z"
    }
   },
   "outputs": [
    {
     "name": "stdout",
     "output_type": "stream",
     "text": [
      "{\n",
      "    \"sensors\": [\n",
      "        {\n",
      "            \"name\": \"Camera.1\",\n",
      "            \"metadata\": {\n",
      "                \"UniqueId\": \"c379ab73-2223-4328-9f28-2fa16ba16a85\"\n",
      "            },\n",
      "            \"sensor_guid\": \"9010dbb4-d878-4e3d-abc7-361892483343\",\n",
      "            \"description\": \"\",\n",
      "            \"result_file_name\": \"\",\n",
      "            \"sensor\": {\n",
      "                \"camera_sensor_template\": {\n",
      "                    \"sensor_mode_photometric\": {\n",
      "                        \"acquisition_integration\": 0.01,\n",
      "                        \"transmittance_file_uri\": \"/app/assets/CameraInputFiles/CameraTransmittance.spectrum\",\n",
      "                        \"gamma_correction\": 2.2,\n",
      "                        \"png_bits\": \"PNG_16\",\n",
      "                        \"color_mode_color\": {\n",
      "                            \"red_spectrum_file_uri\": \"/app/assets/CameraInputFiles/CameraSensitivityRed.spectrum\",\n",
      "                            \"green_spectrum_file_uri\": \"/app/assets/CameraInputFiles/CameraSensitivityGreen.spectrum\",\n",
      "                            \"blue_spectrum_file_uri\": \"/app/assets/CameraInputFiles/CameraSensitivityBlue.spectrum\",\n",
      "                            \"balance_mode_none\": {}\n",
      "                        },\n",
      "                        \"wavelengths_range\": {\n",
      "                            \"w_start\": 400.0,\n",
      "                            \"w_end\": 700.0,\n",
      "                            \"w_sampling\": 13\n",
      "                        },\n",
      "                        \"acquisition_lag_time\": 0.0\n",
      "                    },\n",
      "                    \"focal_length\": 5.0,\n",
      "                    \"imager_distance\": 10.0,\n",
      "                    \"f_number\": 20.0,\n",
      "                    \"horz_pixel\": 640,\n",
      "                    \"vert_pixel\": 480,\n",
      "                    \"width\": 5.0,\n",
      "                    \"height\": 5.0,\n",
      "                    \"distortion_file_uri\": \"/app/assets/CameraInputFiles/CameraDistortion_130deg.OPTDistortion\",\n",
      "                    \"distorsion_file_uri\": \"\",\n",
      "                    \"axis_system\": [\n",
      "                        0.0,\n",
      "                        0.0,\n",
      "                        0.0,\n",
      "                        1.0,\n",
      "                        0.0,\n",
      "                        0.0,\n",
      "                        0.0,\n",
      "                        1.0,\n",
      "                        0.0,\n",
      "                        0.0,\n",
      "                        0.0,\n",
      "                        1.0\n",
      "                    ],\n",
      "                    \"layer_type_none\": {},\n",
      "                    \"trajectory_file_uri\": \"\"\n",
      "                },\n",
      "                \"name\": \"Camera.1\",\n",
      "                \"description\": \"\",\n",
      "                \"metadata\": {}\n",
      "            }\n",
      "        },\n",
      "        {\n",
      "            \"name\": \"Camera.2\",\n",
      "            \"metadata\": {\n",
      "                \"UniqueId\": \"2dbc9800-0467-47ca-82fc-5ab4b08f7e21\"\n",
      "            },\n",
      "            \"sensor_guid\": \"a199f4a4-34b7-4f91-8d21-804316769bdf\",\n",
      "            \"description\": \"\",\n",
      "            \"result_file_name\": \"\",\n",
      "            \"sensor\": {\n",
      "                \"camera_sensor_template\": {\n",
      "                    \"sensor_mode_photometric\": {\n",
      "                        \"acquisition_integration\": 0.01,\n",
      "                        \"transmittance_file_uri\": \"/app/assets/CameraInputFiles/CameraTransmittance.spectrum\",\n",
      "                        \"gamma_correction\": 2.2,\n",
      "                        \"png_bits\": \"PNG_16\",\n",
      "                        \"color_mode_color\": {\n",
      "                            \"red_spectrum_file_uri\": \"/app/assets/CameraInputFiles/CameraSensitivityRed.spectrum\",\n",
      "                            \"green_spectrum_file_uri\": \"/app/assets/CameraInputFiles/CameraSensitivityGreen.spectrum\",\n",
      "                            \"blue_spectrum_file_uri\": \"/app/assets/CameraInputFiles/CameraSensitivityBlue.spectrum\",\n",
      "                            \"balance_mode_none\": {}\n",
      "                        },\n",
      "                        \"wavelengths_range\": {\n",
      "                            \"w_start\": 400.0,\n",
      "                            \"w_end\": 700.0,\n",
      "                            \"w_sampling\": 13\n",
      "                        },\n",
      "                        \"acquisition_lag_time\": 0.0\n",
      "                    },\n",
      "                    \"focal_length\": 5.5,\n",
      "                    \"imager_distance\": 10.0,\n",
      "                    \"f_number\": 20.0,\n",
      "                    \"horz_pixel\": 640,\n",
      "                    \"vert_pixel\": 480,\n",
      "                    \"width\": 6.0,\n",
      "                    \"height\": 6.0,\n",
      "                    \"distortion_file_uri\": \"/app/assets/CameraInputFiles/CameraDistortion_130deg.OPTDistortion\",\n",
      "                    \"distorsion_file_uri\": \"\",\n",
      "                    \"axis_system\": [\n",
      "                        20.0,\n",
      "                        10.0,\n",
      "                        40.0,\n",
      "                        1.0,\n",
      "                        0.0,\n",
      "                        0.0,\n",
      "                        0.0,\n",
      "                        1.0,\n",
      "                        0.0,\n",
      "                        0.0,\n",
      "                        0.0,\n",
      "                        1.0\n",
      "                    ],\n",
      "                    \"layer_type_source\": {},\n",
      "                    \"trajectory_file_uri\": \"\"\n",
      "                },\n",
      "                \"name\": \"Camera.2\",\n",
      "                \"description\": \"\",\n",
      "                \"metadata\": {}\n",
      "            }\n",
      "        }\n",
      "    ],\n",
      "    \"name\": \"\",\n",
      "    \"description\": \"\",\n",
      "    \"metadata\": {},\n",
      "    \"part_guid\": \"\",\n",
      "    \"sources\": [],\n",
      "    \"simulations\": [],\n",
      "    \"materials\": [],\n",
      "    \"scenes\": []\n",
      "}\n"
     ]
    }
   ],
   "source": [
    "print(p)"
   ]
  },
  {
   "cell_type": "markdown",
   "id": "c47096fa",
   "metadata": {},
   "source": [
    "## Update\n",
    "\n",
    "Tipp: if you are manipulating a sensor already committed, don't forget to commit your changes.\n",
    "\n",
    "If you don't, you will still only watch what is committed on the server."
   ]
  },
  {
   "cell_type": "code",
   "execution_count": 12,
   "id": "0b0bdf66",
   "metadata": {
    "execution": {
     "iopub.execute_input": "2025-06-17T07:15:58.271941Z",
     "iopub.status.busy": "2025-06-17T07:15:58.271547Z",
     "iopub.status.idle": "2025-06-17T07:15:58.280349Z",
     "shell.execute_reply": "2025-06-17T07:15:58.279798Z"
    }
   },
   "outputs": [
    {
     "name": "stdout",
     "output_type": "stream",
     "text": [
      "{\n",
      "    \"name\": \"Camera.1\",\n",
      "    \"metadata\": {\n",
      "        \"UniqueId\": \"c379ab73-2223-4328-9f28-2fa16ba16a85\"\n",
      "    },\n",
      "    \"sensor_guid\": \"9010dbb4-d878-4e3d-abc7-361892483343\",\n",
      "    \"description\": \"\",\n",
      "    \"result_file_name\": \"\",\n",
      "    \"sensor\": {\n",
      "        \"camera_sensor_template\": {\n",
      "            \"sensor_mode_photometric\": {\n",
      "                \"acquisition_integration\": 0.01,\n",
      "                \"transmittance_file_uri\": \"/app/assets/CameraInputFiles/CameraTransmittance.spectrum\",\n",
      "                \"gamma_correction\": 2.2,\n",
      "                \"png_bits\": \"PNG_16\",\n",
      "                \"color_mode_color\": {\n",
      "                    \"red_spectrum_file_uri\": \"/app/assets/CameraInputFiles/CameraSensitivityRed.spectrum\",\n",
      "                    \"green_spectrum_file_uri\": \"/app/assets/CameraInputFiles/CameraSensitivityGreen.spectrum\",\n",
      "                    \"blue_spectrum_file_uri\": \"/app/assets/CameraInputFiles/CameraSensitivityBlue.spectrum\",\n",
      "                    \"balance_mode_none\": {}\n",
      "                },\n",
      "                \"wavelengths_range\": {\n",
      "                    \"w_start\": 400.0,\n",
      "                    \"w_end\": 700.0,\n",
      "                    \"w_sampling\": 13\n",
      "                },\n",
      "                \"acquisition_lag_time\": 0.0\n",
      "            },\n",
      "            \"focal_length\": 5.0,\n",
      "            \"imager_distance\": 10.0,\n",
      "            \"f_number\": 11.0,\n",
      "            \"horz_pixel\": 640,\n",
      "            \"vert_pixel\": 480,\n",
      "            \"width\": 5.0,\n",
      "            \"height\": 5.0,\n",
      "            \"distortion_file_uri\": \"/app/assets/CameraInputFiles/CameraDistortion_130deg.OPTDistortion\",\n",
      "            \"distorsion_file_uri\": \"\",\n",
      "            \"axis_system\": [\n",
      "                17.0,\n",
      "                10.0,\n",
      "                10.0,\n",
      "                1.0,\n",
      "                0.0,\n",
      "                0.0,\n",
      "                0.0,\n",
      "                1.0,\n",
      "                0.0,\n",
      "                0.0,\n",
      "                0.0,\n",
      "                1.0\n",
      "            ],\n",
      "            \"layer_type_none\": {},\n",
      "            \"trajectory_file_uri\": \"\"\n",
      "        },\n",
      "        \"name\": \"Camera.1\",\n",
      "        \"description\": \"\",\n",
      "        \"metadata\": {}\n",
      "    }\n",
      "}\n"
     ]
    }
   ],
   "source": [
    "# modify f number and axis system\n",
    "sensor1.set_f_number(value=11).set_axis_system([17, 10, 10, 1, 0, 0, 0, 1, 0, 0, 0, 1])\n",
    "sensor1.commit()\n",
    "print(sensor1)"
   ]
  },
  {
   "cell_type": "markdown",
   "id": "c8d6c22a",
   "metadata": {},
   "source": [
    "## Reset\n",
    "\n",
    "Possibility to reset local values from the one available in the server."
   ]
  },
  {
   "cell_type": "code",
   "execution_count": 13,
   "id": "01383fda",
   "metadata": {
    "execution": {
     "iopub.execute_input": "2025-06-17T07:15:58.282402Z",
     "iopub.status.busy": "2025-06-17T07:15:58.282013Z",
     "iopub.status.idle": "2025-06-17T07:15:58.287609Z",
     "shell.execute_reply": "2025-06-17T07:15:58.287041Z"
    }
   },
   "outputs": [
    {
     "name": "stdout",
     "output_type": "stream",
     "text": [
      "ansys.api.speos.sensor.v1.SensorTemplate\n",
      "{\n",
      "    \"camera_sensor_template\": {\n",
      "        \"sensor_mode_photometric\": {\n",
      "            \"acquisition_integration\": 0.01,\n",
      "            \"transmittance_file_uri\": \"/app/assets/CameraInputFiles/CameraTransmittance.spectrum\",\n",
      "            \"gamma_correction\": 2.2,\n",
      "            \"png_bits\": \"PNG_16\",\n",
      "            \"color_mode_color\": {\n",
      "                \"red_spectrum_file_uri\": \"/app/assets/CameraInputFiles/CameraSensitivityRed.spectrum\",\n",
      "                \"green_spectrum_file_uri\": \"/app/assets/CameraInputFiles/CameraSensitivityGreen.spectrum\",\n",
      "                \"blue_spectrum_file_uri\": \"/app/assets/CameraInputFiles/CameraSensitivityBlue.spectrum\",\n",
      "                \"balance_mode_none\": {}\n",
      "            },\n",
      "            \"wavelengths_range\": {\n",
      "                \"w_start\": 400.0,\n",
      "                \"w_end\": 700.0,\n",
      "                \"w_sampling\": 13\n",
      "            },\n",
      "            \"acquisition_lag_time\": 0.0\n",
      "        },\n",
      "        \"focal_length\": 5.0,\n",
      "        \"imager_distance\": 10.0,\n",
      "        \"f_number\": 11.0,\n",
      "        \"horz_pixel\": 640,\n",
      "        \"vert_pixel\": 480,\n",
      "        \"width\": 5.0,\n",
      "        \"height\": 5.0,\n",
      "        \"distortion_file_uri\": \"/app/assets/CameraInputFiles/CameraDistortion_130deg.OPTDistortion\",\n",
      "        \"distorsion_file_uri\": \"\"\n",
      "    },\n",
      "    \"name\": \"Camera.1\",\n",
      "    \"description\": \"\",\n",
      "    \"metadata\": {}\n",
      "}\n"
     ]
    }
   ],
   "source": [
    "sensor1.set_mode_geometric()  # set camera in geometric mode but no commit\n",
    "sensor1.reset()  # reset -> this will apply the server value (photometric mode) to the local value\n",
    "sensor1.delete()  # delete (to display the local value with the below print)\n",
    "print(sensor1._sensor_template)"
   ]
  },
  {
   "cell_type": "markdown",
   "id": "f96140af",
   "metadata": {},
   "source": [
    "## Delete\n",
    "\n",
    "Once the data is deleted from the server, you can still work with local data and maybe commit\n",
    "later."
   ]
  },
  {
   "cell_type": "code",
   "execution_count": 14,
   "id": "9d1cc63e",
   "metadata": {
    "execution": {
     "iopub.execute_input": "2025-06-17T07:15:58.289380Z",
     "iopub.status.busy": "2025-06-17T07:15:58.289185Z",
     "iopub.status.idle": "2025-06-17T07:15:58.294089Z",
     "shell.execute_reply": "2025-06-17T07:15:58.293425Z"
    }
   },
   "outputs": [
    {
     "name": "stdout",
     "output_type": "stream",
     "text": [
      "local: {\n",
      "    \"name\": \"Camera.2\",\n",
      "    \"description\": \"\",\n",
      "    \"metadata\": {},\n",
      "    \"sensor_guid\": \"\",\n",
      "    \"result_file_name\": \"\",\n",
      "    \"sensor\": {\n",
      "        \"camera_sensor_template\": {\n",
      "            \"sensor_mode_photometric\": {\n",
      "                \"acquisition_integration\": 0.01,\n",
      "                \"transmittance_file_uri\": \"/app/assets/CameraInputFiles/CameraTransmittance.spectrum\",\n",
      "                \"gamma_correction\": 2.2,\n",
      "                \"png_bits\": \"PNG_16\",\n",
      "                \"color_mode_color\": {\n",
      "                    \"red_spectrum_file_uri\": \"/app/assets/CameraInputFiles/CameraSensitivityRed.spectrum\",\n",
      "                    \"green_spectrum_file_uri\": \"/app/assets/CameraInputFiles/CameraSensitivityGreen.spectrum\",\n",
      "                    \"blue_spectrum_file_uri\": \"/app/assets/CameraInputFiles/CameraSensitivityBlue.spectrum\",\n",
      "                    \"balance_mode_none\": {}\n",
      "                },\n",
      "                \"wavelengths_range\": {\n",
      "                    \"w_start\": 400.0,\n",
      "                    \"w_end\": 700.0,\n",
      "                    \"w_sampling\": 13\n",
      "                },\n",
      "                \"acquisition_lag_time\": 0.0\n",
      "            },\n",
      "            \"focal_length\": 5.5,\n",
      "            \"imager_distance\": 10.0,\n",
      "            \"f_number\": 20.0,\n",
      "            \"horz_pixel\": 640,\n",
      "            \"vert_pixel\": 480,\n",
      "            \"width\": 6.0,\n",
      "            \"height\": 6.0,\n",
      "            \"distortion_file_uri\": \"/app/assets/CameraInputFiles/CameraDistortion_130deg.OPTDistortion\",\n",
      "            \"distorsion_file_uri\": \"\",\n",
      "            \"axis_system\": [\n",
      "                20.0,\n",
      "                10.0,\n",
      "                40.0,\n",
      "                1.0,\n",
      "                0.0,\n",
      "                0.0,\n",
      "                0.0,\n",
      "                1.0,\n",
      "                0.0,\n",
      "                0.0,\n",
      "                0.0,\n",
      "                1.0\n",
      "            ],\n",
      "            \"layer_type_source\": {},\n",
      "            \"trajectory_file_uri\": \"\"\n",
      "        },\n",
      "        \"name\": \"Camera.2\",\n",
      "        \"description\": \"\",\n",
      "        \"metadata\": {}\n",
      "    }\n",
      "}\n"
     ]
    }
   ],
   "source": [
    "sensor2.delete()\n",
    "print(sensor2)"
   ]
  },
  {
   "cell_type": "code",
   "execution_count": 15,
   "id": "c8947de0",
   "metadata": {
    "execution": {
     "iopub.execute_input": "2025-06-17T07:15:58.295927Z",
     "iopub.status.busy": "2025-06-17T07:15:58.295698Z",
     "iopub.status.idle": "2025-06-17T07:15:58.302387Z",
     "shell.execute_reply": "2025-06-17T07:15:58.301830Z"
    },
    "lines_to_next_cell": 2
   },
   "outputs": [
    {
     "data": {
      "text/plain": [
       "<ansys.speos.core.sensor.SensorCamera at 0x7f2b0c1976a0>"
      ]
     },
     "execution_count": 15,
     "metadata": {},
     "output_type": "execute_result"
    }
   ],
   "source": [
    "sensor1.delete()"
   ]
  },
  {
   "cell_type": "markdown",
   "id": "12f1fa2c",
   "metadata": {},
   "source": [
    "## Other sensors\n",
    "\n",
    "### Irradiance sensor"
   ]
  },
  {
   "cell_type": "code",
   "execution_count": 16,
   "id": "0d5b5ec2",
   "metadata": {
    "execution": {
     "iopub.execute_input": "2025-06-17T07:15:58.304361Z",
     "iopub.status.busy": "2025-06-17T07:15:58.303972Z",
     "iopub.status.idle": "2025-06-17T07:15:58.316960Z",
     "shell.execute_reply": "2025-06-17T07:15:58.316293Z"
    }
   },
   "outputs": [
    {
     "name": "stdout",
     "output_type": "stream",
     "text": [
      "{\n",
      "    \"name\": \"Irradiance.1\",\n",
      "    \"metadata\": {\n",
      "        \"UniqueId\": \"a8b44fee-e831-4496-ba7a-ee595326a634\"\n",
      "    },\n",
      "    \"sensor_guid\": \"bdd3d187-a67b-4992-a40f-9b4b2d9c4903\",\n",
      "    \"description\": \"\",\n",
      "    \"result_file_name\": \"\",\n",
      "    \"sensor\": {\n",
      "        \"irradiance_sensor_template\": {\n",
      "            \"sensor_type_photometric\": {},\n",
      "            \"illuminance_type_planar\": {},\n",
      "            \"dimensions\": {\n",
      "                \"x_start\": -50.0,\n",
      "                \"x_end\": 50.0,\n",
      "                \"x_sampling\": 100,\n",
      "                \"y_start\": -50.0,\n",
      "                \"y_end\": 50.0,\n",
      "                \"y_sampling\": 100\n",
      "            },\n",
      "            \"axis_system\": [\n",
      "                0.0,\n",
      "                0.0,\n",
      "                0.0,\n",
      "                1.0,\n",
      "                0.0,\n",
      "                0.0,\n",
      "                0.0,\n",
      "                1.0,\n",
      "                0.0,\n",
      "                0.0,\n",
      "                0.0,\n",
      "                1.0\n",
      "            ],\n",
      "            \"layer_type_none\": {},\n",
      "            \"ray_file_type\": \"RayFileNone\",\n",
      "            \"integration_direction\": []\n",
      "        },\n",
      "        \"name\": \"Irradiance.1\",\n",
      "        \"description\": \"\",\n",
      "        \"metadata\": {}\n",
      "    }\n",
      "}\n"
     ]
    }
   ],
   "source": [
    "sensor3 = p.create_sensor(name=\"Irradiance.1\", feature_type=SensorIrradiance)\n",
    "sensor3.commit()\n",
    "print(sensor3)"
   ]
  },
  {
   "cell_type": "code",
   "execution_count": 17,
   "id": "8184aaef",
   "metadata": {
    "execution": {
     "iopub.execute_input": "2025-06-17T07:15:58.318851Z",
     "iopub.status.busy": "2025-06-17T07:15:58.318632Z",
     "iopub.status.idle": "2025-06-17T07:15:58.326499Z",
     "shell.execute_reply": "2025-06-17T07:15:58.325961Z"
    }
   },
   "outputs": [
    {
     "name": "stdout",
     "output_type": "stream",
     "text": [
      "{\n",
      "    \"name\": \"Irradiance.1\",\n",
      "    \"metadata\": {\n",
      "        \"UniqueId\": \"a8b44fee-e831-4496-ba7a-ee595326a634\"\n",
      "    },\n",
      "    \"sensor_guid\": \"bdd3d187-a67b-4992-a40f-9b4b2d9c4903\",\n",
      "    \"description\": \"\",\n",
      "    \"result_file_name\": \"\",\n",
      "    \"sensor\": {\n",
      "        \"irradiance_sensor_template\": {\n",
      "            \"sensor_type_radiometric\": {},\n",
      "            \"illuminance_type_planar\": {},\n",
      "            \"dimensions\": {\n",
      "                \"x_start\": -50.0,\n",
      "                \"x_end\": 50.0,\n",
      "                \"x_sampling\": 100,\n",
      "                \"y_start\": -50.0,\n",
      "                \"y_end\": 50.0,\n",
      "                \"y_sampling\": 100\n",
      "            },\n",
      "            \"axis_system\": [\n",
      "                0.0,\n",
      "                0.0,\n",
      "                0.0,\n",
      "                1.0,\n",
      "                0.0,\n",
      "                0.0,\n",
      "                0.0,\n",
      "                1.0,\n",
      "                0.0,\n",
      "                0.0,\n",
      "                0.0,\n",
      "                1.0\n",
      "            ],\n",
      "            \"layer_type_polarization\": {},\n",
      "            \"ray_file_type\": \"RayFileNone\",\n",
      "            \"integration_direction\": []\n",
      "        },\n",
      "        \"name\": \"Irradiance.1\",\n",
      "        \"description\": \"\",\n",
      "        \"metadata\": {}\n",
      "    }\n",
      "}\n"
     ]
    }
   ],
   "source": [
    "sensor3.set_type_radiometric()\n",
    "sensor3.set_layer_type_polarization()\n",
    "sensor3.commit()\n",
    "print(sensor3)"
   ]
  },
  {
   "cell_type": "code",
   "execution_count": 18,
   "id": "e7001cef",
   "metadata": {
    "execution": {
     "iopub.execute_input": "2025-06-17T07:15:58.328307Z",
     "iopub.status.busy": "2025-06-17T07:15:58.328110Z",
     "iopub.status.idle": "2025-06-17T07:15:58.332963Z",
     "shell.execute_reply": "2025-06-17T07:15:58.332403Z"
    }
   },
   "outputs": [
    {
     "data": {
      "text/plain": [
       "<ansys.speos.core.sensor.SensorIrradiance at 0x7f2b04bbd360>"
      ]
     },
     "execution_count": 18,
     "metadata": {},
     "output_type": "execute_result"
    }
   ],
   "source": [
    "sensor3.delete()"
   ]
  },
  {
   "cell_type": "markdown",
   "id": "cb6a9023",
   "metadata": {},
   "source": [
    "### radiance sensor"
   ]
  },
  {
   "cell_type": "code",
   "execution_count": 19,
   "id": "c9edc3c3",
   "metadata": {
    "execution": {
     "iopub.execute_input": "2025-06-17T07:15:58.334770Z",
     "iopub.status.busy": "2025-06-17T07:15:58.334572Z",
     "iopub.status.idle": "2025-06-17T07:15:58.347044Z",
     "shell.execute_reply": "2025-06-17T07:15:58.346428Z"
    }
   },
   "outputs": [
    {
     "name": "stdout",
     "output_type": "stream",
     "text": [
      "{\n",
      "    \"name\": \"Radiance.1\",\n",
      "    \"metadata\": {\n",
      "        \"UniqueId\": \"42a06aaf-a78d-4115-b8cf-641b23aa3488\"\n",
      "    },\n",
      "    \"sensor_guid\": \"eb8ec323-eda1-4cbe-b7ac-61583f5a8306\",\n",
      "    \"description\": \"\",\n",
      "    \"result_file_name\": \"\",\n",
      "    \"sensor\": {\n",
      "        \"radiance_sensor_template\": {\n",
      "            \"sensor_type_photometric\": {},\n",
      "            \"focal\": 250.0,\n",
      "            \"integration_angle\": 5.0,\n",
      "            \"dimensions\": {\n",
      "                \"x_start\": -50.0,\n",
      "                \"x_end\": 50.0,\n",
      "                \"x_sampling\": 100,\n",
      "                \"y_start\": -50.0,\n",
      "                \"y_end\": 50.0,\n",
      "                \"y_sampling\": 100\n",
      "            },\n",
      "            \"axis_system\": [\n",
      "                0.0,\n",
      "                0.0,\n",
      "                0.0,\n",
      "                1.0,\n",
      "                0.0,\n",
      "                0.0,\n",
      "                0.0,\n",
      "                1.0,\n",
      "                0.0,\n",
      "                0.0,\n",
      "                0.0,\n",
      "                1.0\n",
      "            ],\n",
      "            \"layer_type_none\": {},\n",
      "            \"observer_point\": []\n",
      "        },\n",
      "        \"name\": \"Radiance.1\",\n",
      "        \"description\": \"\",\n",
      "        \"metadata\": {}\n",
      "    }\n",
      "}\n"
     ]
    }
   ],
   "source": [
    "sensor4 = p.create_sensor(name=\"Radiance.1\", feature_type=SensorRadiance)\n",
    "sensor4.commit()\n",
    "print(sensor4)"
   ]
  },
  {
   "cell_type": "code",
   "execution_count": 20,
   "id": "ae1a1f77",
   "metadata": {
    "execution": {
     "iopub.execute_input": "2025-06-17T07:15:58.348912Z",
     "iopub.status.busy": "2025-06-17T07:15:58.348687Z",
     "iopub.status.idle": "2025-06-17T07:15:58.357284Z",
     "shell.execute_reply": "2025-06-17T07:15:58.356674Z"
    }
   },
   "outputs": [
    {
     "name": "stdout",
     "output_type": "stream",
     "text": [
      "{\n",
      "    \"name\": \"Radiance.1\",\n",
      "    \"metadata\": {\n",
      "        \"UniqueId\": \"42a06aaf-a78d-4115-b8cf-641b23aa3488\"\n",
      "    },\n",
      "    \"sensor_guid\": \"eb8ec323-eda1-4cbe-b7ac-61583f5a8306\",\n",
      "    \"description\": \"\",\n",
      "    \"result_file_name\": \"\",\n",
      "    \"sensor\": {\n",
      "        \"radiance_sensor_template\": {\n",
      "            \"sensor_type_spectral\": {\n",
      "                \"wavelengths_range\": {\n",
      "                    \"w_start\": 400.0,\n",
      "                    \"w_end\": 700.0,\n",
      "                    \"w_sampling\": 13\n",
      "                }\n",
      "            },\n",
      "            \"focal\": 200.0,\n",
      "            \"integration_angle\": 5.0,\n",
      "            \"dimensions\": {\n",
      "                \"x_start\": -50.0,\n",
      "                \"x_end\": 50.0,\n",
      "                \"x_sampling\": 100,\n",
      "                \"y_start\": -50.0,\n",
      "                \"y_end\": 50.0,\n",
      "                \"y_sampling\": 100\n",
      "            },\n",
      "            \"axis_system\": [\n",
      "                0.0,\n",
      "                0.0,\n",
      "                0.0,\n",
      "                1.0,\n",
      "                0.0,\n",
      "                0.0,\n",
      "                0.0,\n",
      "                1.0,\n",
      "                0.0,\n",
      "                0.0,\n",
      "                0.0,\n",
      "                1.0\n",
      "            ],\n",
      "            \"layer_type_source\": {},\n",
      "            \"observer_point\": []\n",
      "        },\n",
      "        \"name\": \"Radiance.1\",\n",
      "        \"description\": \"\",\n",
      "        \"metadata\": {}\n",
      "    }\n",
      "}\n"
     ]
    }
   ],
   "source": [
    "sensor4.set_focal(value=200).set_type_spectral()\n",
    "sensor4.set_layer_type_source()\n",
    "sensor4.commit()\n",
    "print(sensor4)"
   ]
  },
  {
   "cell_type": "code",
   "execution_count": 21,
   "id": "476a0ac1",
   "metadata": {
    "execution": {
     "iopub.execute_input": "2025-06-17T07:15:58.359505Z",
     "iopub.status.busy": "2025-06-17T07:15:58.359052Z",
     "iopub.status.idle": "2025-06-17T07:15:58.363920Z",
     "shell.execute_reply": "2025-06-17T07:15:58.363332Z"
    }
   },
   "outputs": [
    {
     "name": "stdout",
     "output_type": "stream",
     "text": [
      "local: {\n",
      "    \"name\": \"Radiance.1\",\n",
      "    \"description\": \"\",\n",
      "    \"metadata\": {},\n",
      "    \"sensor_guid\": \"\",\n",
      "    \"result_file_name\": \"\",\n",
      "    \"sensor\": {\n",
      "        \"radiance_sensor_template\": {\n",
      "            \"sensor_type_spectral\": {\n",
      "                \"wavelengths_range\": {\n",
      "                    \"w_start\": 400.0,\n",
      "                    \"w_end\": 700.0,\n",
      "                    \"w_sampling\": 13\n",
      "                }\n",
      "            },\n",
      "            \"focal\": 200.0,\n",
      "            \"integration_angle\": 5.0,\n",
      "            \"dimensions\": {\n",
      "                \"x_start\": -50.0,\n",
      "                \"x_end\": 50.0,\n",
      "                \"x_sampling\": 100,\n",
      "                \"y_start\": -50.0,\n",
      "                \"y_end\": 50.0,\n",
      "                \"y_sampling\": 100\n",
      "            },\n",
      "            \"axis_system\": [\n",
      "                0.0,\n",
      "                0.0,\n",
      "                0.0,\n",
      "                1.0,\n",
      "                0.0,\n",
      "                0.0,\n",
      "                0.0,\n",
      "                1.0,\n",
      "                0.0,\n",
      "                0.0,\n",
      "                0.0,\n",
      "                1.0\n",
      "            ],\n",
      "            \"layer_type_source\": {},\n",
      "            \"observer_point\": []\n",
      "        },\n",
      "        \"name\": \"Radiance.1\",\n",
      "        \"description\": \"\",\n",
      "        \"metadata\": {}\n",
      "    }\n",
      "}\n"
     ]
    }
   ],
   "source": [
    "sensor4.delete()\n",
    "print(sensor4)"
   ]
  },
  {
   "cell_type": "code",
   "execution_count": 22,
   "id": "5f806557",
   "metadata": {
    "execution": {
     "iopub.execute_input": "2025-06-17T07:15:58.366129Z",
     "iopub.status.busy": "2025-06-17T07:15:58.365497Z",
     "iopub.status.idle": "2025-06-17T07:15:58.370408Z",
     "shell.execute_reply": "2025-06-17T07:15:58.369752Z"
    }
   },
   "outputs": [
    {
     "data": {
      "text/plain": [
       "True"
      ]
     },
     "execution_count": 22,
     "metadata": {},
     "output_type": "execute_result"
    }
   ],
   "source": [
    "speos.close()"
   ]
  }
 ],
 "metadata": {
  "jupytext": {
   "cell_metadata_filter": "-all",
   "main_language": "python",
   "notebook_metadata_filter": "-all",
   "text_representation": {
    "extension": ".py",
    "format_name": "light"
   }
  },
  "language_info": {
   "codemirror_mode": {
    "name": "ipython",
    "version": 3
   },
   "file_extension": ".py",
   "mimetype": "text/x-python",
   "name": "python",
   "nbconvert_exporter": "python",
   "pygments_lexer": "ipython3",
   "version": "3.10.17"
  }
 },
 "nbformat": 4,
 "nbformat_minor": 5
}
