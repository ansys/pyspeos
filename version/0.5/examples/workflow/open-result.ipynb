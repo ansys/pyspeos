{
 "cells": [
  {
   "cell_type": "markdown",
   "id": "2cf4bc98",
   "metadata": {},
   "source": [
    "# How to open result (MS Windows OS only)"
   ]
  },
  {
   "cell_type": "markdown",
   "id": "3dcea3e0",
   "metadata": {},
   "source": [
    "This tutorial demonstrates how to open and review results using workflow method."
   ]
  },
  {
   "cell_type": "markdown",
   "id": "af755479",
   "metadata": {},
   "source": [
    "## Prerequisites\n",
    "\n",
    "### Perform imports"
   ]
  },
  {
   "cell_type": "code",
   "execution_count": 1,
   "id": "fd8a7bd4",
   "metadata": {
    "execution": {
     "iopub.execute_input": "2025-06-17T07:17:13.422294Z",
     "iopub.status.busy": "2025-06-17T07:17:13.422099Z",
     "iopub.status.idle": "2025-06-17T07:17:14.259463Z",
     "shell.execute_reply": "2025-06-17T07:17:14.258675Z"
    }
   },
   "outputs": [],
   "source": [
    "import os\n",
    "from pathlib import Path\n",
    "\n",
    "from ansys.speos.core import Project, Speos\n",
    "from ansys.speos.core.simulation import SimulationDirect\n"
   ]
  },
  {
   "cell_type": "markdown",
   "id": "0b5d3694",
   "metadata": {},
   "source": [
    "### Define constants\n",
    "Constants help ensure consistency and avoid repetition throughout the example."
   ]
  },
  {
   "cell_type": "code",
   "execution_count": 2,
   "id": "d358d817",
   "metadata": {
    "execution": {
     "iopub.execute_input": "2025-06-17T07:17:14.262080Z",
     "iopub.status.busy": "2025-06-17T07:17:14.261709Z",
     "iopub.status.idle": "2025-06-17T07:17:14.265439Z",
     "shell.execute_reply": "2025-06-17T07:17:14.264832Z"
    }
   },
   "outputs": [],
   "source": [
    "HOSTNAME = \"localhost\"\n",
    "GRPC_PORT = 50098  # Be sure the Speos GRPC Server has been started on this port.\n",
    "FILE_NAME = \"LG_50M_Colorimetric_short.sv5\"\n",
    "RESULT_NAME = \"ASSEMBLY1.DS (0).Dom Irradiance Sensor (0).xmp\"\n",
    "USE_DOCKER = True  # Set to False if you're running this example locally as a Notebook.\n",
    "USE_GPU = False"
   ]
  },
  {
   "cell_type": "markdown",
   "id": "3db6af46",
   "metadata": {},
   "source": [
    "## Model Setup\n",
    "\n",
    "### Load assets\n",
    "The assets used to run this example are available in the\n",
    "[PySpeos repository](https://github.com/ansys/pyspeos/) on GitHub.\n",
    "\n",
    "> **Note:** Make sure you\n",
    "> have downloaded simulation assets and set ``assets_data_path``\n",
    "> to point to the assets folder."
   ]
  },
  {
   "cell_type": "code",
   "execution_count": 3,
   "id": "d9dbbaef",
   "metadata": {
    "execution": {
     "iopub.execute_input": "2025-06-17T07:17:14.267512Z",
     "iopub.status.busy": "2025-06-17T07:17:14.267136Z",
     "iopub.status.idle": "2025-06-17T07:17:14.270428Z",
     "shell.execute_reply": "2025-06-17T07:17:14.269869Z"
    }
   },
   "outputs": [],
   "source": [
    "if USE_DOCKER:  # Running on the remote server.\n",
    "    assets_data_path = Path(\"/app\") / \"assets\"\n",
    "else:\n",
    "    assets_data_path = Path(\"/path/to/your/download/assets/directory\")"
   ]
  },
  {
   "cell_type": "markdown",
   "id": "d29a7dc1",
   "metadata": {},
   "source": [
    "### Connect to the RPC Server\n",
    "This Python client connects to a server where the Speos engine\n",
    "is running as a service. In this example, the server and\n",
    "client are the same\n",
    "machine."
   ]
  },
  {
   "cell_type": "code",
   "execution_count": 4,
   "id": "370062c0",
   "metadata": {
    "execution": {
     "iopub.execute_input": "2025-06-17T07:17:14.272423Z",
     "iopub.status.busy": "2025-06-17T07:17:14.272024Z",
     "iopub.status.idle": "2025-06-17T07:17:14.278685Z",
     "shell.execute_reply": "2025-06-17T07:17:14.278031Z"
    }
   },
   "outputs": [],
   "source": [
    "speos = Speos(host=HOSTNAME, port=GRPC_PORT)"
   ]
  },
  {
   "cell_type": "markdown",
   "id": "6ba80ec1",
   "metadata": {},
   "source": [
    "### Create project from a Speos file\n",
    "\n",
    "The ``Project`` class is instantiated by passing a ``Speos`` instance and the name of the Speos\n",
    "project file."
   ]
  },
  {
   "cell_type": "code",
   "execution_count": 5,
   "id": "767d2dd9",
   "metadata": {
    "execution": {
     "iopub.execute_input": "2025-06-17T07:17:14.280817Z",
     "iopub.status.busy": "2025-06-17T07:17:14.280344Z",
     "iopub.status.idle": "2025-06-17T07:17:14.456902Z",
     "shell.execute_reply": "2025-06-17T07:17:14.456205Z"
    }
   },
   "outputs": [
    {
     "name": "stdout",
     "output_type": "stream",
     "text": [
      "{\n",
      "    \"name\": \"LG_50M_Colorimetric_short\",\n",
      "    \"description\": \"From /app/assets/LG_50M_Colorimetric_short.sv5/LG_50M_Colorimetric_short.sv5\",\n",
      "    \"part_guid\": \"af85db55-51b6-439c-b8a4-c0d84e389485\",\n",
      "    \"sources\": [\n",
      "        {\n",
      "            \"name\": \"Dom Source 2 (0) in SOURCE2\",\n",
      "            \"metadata\": {\n",
      "                \"UniqueId\": \"54fd24ab-c9bb-4896-a046-ace907c4e0d7\"\n",
      "            },\n",
      "            \"source_guid\": \"d924cb3e-73e3-4252-8194-7a18fed48c26\",\n",
      "            \"description\": \"\",\n",
      "            \"source\": {\n",
      "                \"name\": \"Dom Source 2 (0) in SOURCE2\",\n",
      "                \"surface\": {\n",
      "                    \"radiant_flux\": {\n",
      "                        \"radiant_value\": 6.590041607465698\n",
      "                    },\n",
      "                    \"intensity_guid\": \"319cd30f-3d19-4664-b48c-8c39228f64e6\",\n",
      "                    \"exitance_constant\": {\n",
      "                        \"geo_paths\": [\n",
      "                            {\n",
      "                                \"geo_path\": \"Solid Body in SOURCE2:2920204960/Face in SOURCE2:222\",\n",
      "                                \"reverse_normal\": false\n",
      "                            }\n",
      "                        ]\n",
      "                    },\n",
      "                    \"spectrum_guid\": \"2dae6f43-26ec-4684-8d81-ae828614535a\",\n",
      "                    \"intensity\": {\n",
      "                        \"cos\": {\n",
      "                            \"N\": 1.0,\n",
      "                            \"total_angle\": 180.0\n",
      "                        },\n",
      "                        \"name\": \"\",\n",
      "                        \"description\": \"\",\n",
      "                        \"metadata\": {}\n",
      "                    },\n",
      "                    \"spectrum\": {\n",
      "                        \"library\": {\n",
      "                            \"file_uri\": \"/app/assets/LG_50M_Colorimetric_short.sv5/Red Spectrum.spectrum\"\n",
      "                        },\n",
      "                        \"name\": \"\",\n",
      "                        \"description\": \"\",\n",
      "                        \"metadata\": {}\n",
      "                    }\n",
      "                },\n",
      "                \"description\": \"\",\n",
      "                \"metadata\": {}\n",
      "            }\n",
      "        },\n",
      "        {\n",
      "            \"name\": \"Surface Source (0) in SOURCE1\",\n",
      "            \"metadata\": {\n",
      "                \"UniqueId\": \"2473f337-678e-4cc7-8be2-c8c1af15828f\"\n",
      "            },\n",
      "            \"source_guid\": \"a311a8bd-a658-4a8f-b33c-beeead846f14\",\n",
      "            \"description\": \"\",\n",
      "            \"source\": {\n",
      "                \"name\": \"Surface Source (0) in SOURCE1\",\n",
      "                \"surface\": {\n",
      "                    \"radiant_flux\": {\n",
      "                        \"radiant_value\": 9.290411220389682\n",
      "                    },\n",
      "                    \"intensity_guid\": \"970ec14b-a42a-4c11-9590-c08b0469029d\",\n",
      "                    \"exitance_constant\": {\n",
      "                        \"geo_paths\": [\n",
      "                            {\n",
      "                                \"geo_path\": \"Solid Body in SOURCE1:2494956811/Face in SOURCE1:187\",\n",
      "                                \"reverse_normal\": false\n",
      "                            }\n",
      "                        ]\n",
      "                    },\n",
      "                    \"spectrum_guid\": \"723bd286-b7fa-44bd-a279-8d88027b59bd\",\n",
      "                    \"intensity\": {\n",
      "                        \"cos\": {\n",
      "                            \"N\": 1.0,\n",
      "                            \"total_angle\": 180.0\n",
      "                        },\n",
      "                        \"name\": \"\",\n",
      "                        \"description\": \"\",\n",
      "                        \"metadata\": {}\n",
      "                    },\n",
      "                    \"spectrum\": {\n",
      "                        \"library\": {\n",
      "                            \"file_uri\": \"/app/assets/LG_50M_Colorimetric_short.sv5/Blue Spectrum.spectrum\"\n",
      "                        },\n",
      "                        \"name\": \"\",\n",
      "                        \"description\": \"\",\n",
      "                        \"metadata\": {}\n",
      "                    }\n",
      "                },\n",
      "                \"description\": \"\",\n",
      "                \"metadata\": {}\n",
      "            }\n",
      "        }\n",
      "    ],\n",
      "    \"sensors\": [\n",
      "        {\n",
      "            \"name\": \"Dom Irradiance Sensor (0)\",\n",
      "            \"metadata\": {\n",
      "                \"UniqueId\": \"d44b6ff5-7710-4d97-9e54-9e6534372db2\"\n",
      "            },\n",
      "            \"sensor_guid\": \"13068d5a-308b-47a1-8593-8ef404b68e66\",\n",
      "            \"result_file_name\": \"ASSEMBLY1.DS (0).Dom Irradiance Sensor (0)\",\n",
      "            \"description\": \"\",\n",
      "            \"sensor\": {\n",
      "                \"irradiance_sensor_template\": {\n",
      "                    \"sensor_type_colorimetric\": {\n",
      "                        \"wavelengths_range\": {\n",
      "                            \"w_start\": 400.0,\n",
      "                            \"w_end\": 700.0,\n",
      "                            \"w_sampling\": 25\n",
      "                        }\n",
      "                    },\n",
      "                    \"illuminance_type_planar\": {},\n",
      "                    \"dimensions\": {\n",
      "                        \"x_start\": -20.0,\n",
      "                        \"x_end\": 20.0,\n",
      "                        \"x_sampling\": 500,\n",
      "                        \"y_start\": -20.0,\n",
      "                        \"y_end\": 20.0,\n",
      "                        \"y_sampling\": 500\n",
      "                    },\n",
      "                    \"axis_system\": [\n",
      "                        -42.0,\n",
      "                        2.0,\n",
      "                        5.0,\n",
      "                        0.0,\n",
      "                        1.0,\n",
      "                        0.0,\n",
      "                        0.0,\n",
      "                        0.0,\n",
      "                        -1.0,\n",
      "                        -1.0,\n",
      "                        0.0,\n",
      "                        0.0\n",
      "                    ],\n",
      "                    \"layer_type_source\": {},\n",
      "                    \"integration_direction\": [\n",
      "                        1.0,\n",
      "                        -0.0,\n",
      "                        -0.0\n",
      "                    ],\n",
      "                    \"ray_file_type\": \"RayFileNone\"\n",
      "                },\n",
      "                \"name\": \"Dom Irradiance Sensor (0)\",\n",
      "                \"description\": \"\",\n",
      "                \"metadata\": {}\n",
      "            }\n",
      "        }\n",
      "    ],\n",
      "    \"simulations\": [\n",
      "        {\n",
      "            \"name\": \"ASSEMBLY1.DS (0)\",\n",
      "            \"metadata\": {\n",
      "                \"UniqueId\": \"64af400d-5380-4ec3-b603-ab4f03cd6193\"\n",
      "            },\n",
      "            \"simulation_guid\": \"3c2b9edc-29b1-42f2-be04-ef85cfd8e81a\",\n",
      "            \"sensor_paths\": [\n",
      "                \"Dom Irradiance Sensor (0)\"\n",
      "            ],\n",
      "            \"source_paths\": [\n",
      "                \"Dom Source 2 (0) in SOURCE2\",\n",
      "                \"Surface Source (0) in SOURCE1\"\n",
      "            ],\n",
      "            \"description\": \"\",\n",
      "            \"simulation\": {\n",
      "                \"direct_mc_simulation_template\": {\n",
      "                    \"geom_distance_tolerance\": 0.05,\n",
      "                    \"max_impact\": 100,\n",
      "                    \"weight\": {\n",
      "                        \"minimum_energy_percentage\": 0.005\n",
      "                    },\n",
      "                    \"dispersion\": true,\n",
      "                    \"colorimetric_standard\": \"CIE_1931\",\n",
      "                    \"fast_transmission_gathering\": false,\n",
      "                    \"ambient_material_uri\": \"\"\n",
      "                },\n",
      "                \"name\": \"ASSEMBLY1.DS (0)\",\n",
      "                \"metadata\": {},\n",
      "                \"description\": \"\",\n",
      "                \"scene_guid\": \"2cbdb7f8-543e-4ebf-986a-98749531e4b9\",\n",
      "                \"simulation_path\": \"ASSEMBLY1.DS (0)\",\n",
      "                \"job_type\": \"CPU\"\n",
      "            }\n",
      "        }\n",
      "    ],\n",
      "    \"materials\": [\n",
      "        {\n",
      "            \"name\": \"Material.1\",\n",
      "            \"metadata\": {\n",
      "                \"UniqueId\": \"99edf64e-b640-4765-96fa-b7450c740507\"\n",
      "            },\n",
      "            \"sop_guids\": [\n",
      "                \"0f780d72-24f8-4c4f-8903-63657c82f8b4\"\n",
      "            ],\n",
      "            \"geometries\": {\n",
      "                \"geo_paths\": [\n",
      "                    \"Solid Body in GUIDE:1379760262/Face in GUIDE:169\"\n",
      "                ]\n",
      "            },\n",
      "            \"description\": \"\",\n",
      "            \"sops\": [\n",
      "                {\n",
      "                    \"mirror\": {\n",
      "                        \"reflectance\": 100.0\n",
      "                    },\n",
      "                    \"name\": \"\",\n",
      "                    \"description\": \"\",\n",
      "                    \"metadata\": {}\n",
      "                }\n",
      "            ]\n",
      "        },\n",
      "        {\n",
      "            \"name\": \"Material.2\",\n",
      "            \"metadata\": {\n",
      "                \"UniqueId\": \"314841b5-cbc6-4527-8a87-c13a9570c1fe\"\n",
      "            },\n",
      "            \"vop_guid\": \"1ad73711-ea8f-469c-8e05-f757fe17efb2\",\n",
      "            \"sop_guids\": [\n",
      "                \"0f780d72-24f8-4c4f-8903-63657c82f8b4\"\n",
      "            ],\n",
      "            \"geometries\": {\n",
      "                \"geo_paths\": [\n",
      "                    \"Solid Body in SOURCE2:2920204960\",\n",
      "                    \"Solid Body in SOURCE1:2494956811\"\n",
      "                ]\n",
      "            },\n",
      "            \"description\": \"\",\n",
      "            \"vop\": {\n",
      "                \"opaque\": {},\n",
      "                \"name\": \"\",\n",
      "                \"description\": \"\",\n",
      "                \"metadata\": {}\n",
      "            },\n",
      "            \"sops\": [\n",
      "                {\n",
      "                    \"mirror\": {\n",
      "                        \"reflectance\": 100.0\n",
      "                    },\n",
      "                    \"name\": \"\",\n",
      "                    \"description\": \"\",\n",
      "                    \"metadata\": {}\n",
      "                }\n",
      "            ]\n",
      "        },\n",
      "        {\n",
      "            \"name\": \"Material.3\",\n",
      "            \"metadata\": {\n",
      "                \"UniqueId\": \"03c3065c-c752-4f5d-9e2a-698fba085211\"\n",
      "            },\n",
      "            \"vop_guid\": \"2d09aa84-4764-4f9c-b32a-c0428b0404a3\",\n",
      "            \"sop_guids\": [\n",
      "                \"c92a7bb4-e7ff-47b0-9701-06c766019ae9\"\n",
      "            ],\n",
      "            \"geometries\": {\n",
      "                \"geo_paths\": [\n",
      "                    \"Solid Body in GUIDE:1379760262\"\n",
      "                ]\n",
      "            },\n",
      "            \"description\": \"\",\n",
      "            \"vop\": {\n",
      "                \"optic\": {\n",
      "                    \"index\": 1.4,\n",
      "                    \"constringence\": 60.0,\n",
      "                    \"absorption\": 0.0\n",
      "                },\n",
      "                \"name\": \"\",\n",
      "                \"description\": \"\",\n",
      "                \"metadata\": {}\n",
      "            },\n",
      "            \"sops\": [\n",
      "                {\n",
      "                    \"optical_polished\": {},\n",
      "                    \"name\": \"\",\n",
      "                    \"description\": \"\",\n",
      "                    \"metadata\": {}\n",
      "                }\n",
      "            ]\n",
      "        },\n",
      "        {\n",
      "            \"name\": \"Material.4\",\n",
      "            \"metadata\": {\n",
      "                \"UniqueId\": \"dc3743dc-3c8e-4ec4-9555-0500a10a4669\"\n",
      "            },\n",
      "            \"vop_guid\": \"776426b0-163d-49fb-8cd8-a4aa11286bb9\",\n",
      "            \"description\": \"\",\n",
      "            \"sop_guids\": [],\n",
      "            \"vop\": {\n",
      "                \"optic\": {\n",
      "                    \"index\": 1.0,\n",
      "                    \"absorption\": 0.0\n",
      "                },\n",
      "                \"name\": \"\",\n",
      "                \"description\": \"\",\n",
      "                \"metadata\": {}\n",
      "            }\n",
      "        }\n",
      "    ],\n",
      "    \"metadata\": {},\n",
      "    \"scenes\": []\n",
      "}\n"
     ]
    }
   ],
   "source": [
    "p = Project(\n",
    "    speos=speos,\n",
    "    path=str(assets_data_path / FILE_NAME / FILE_NAME),\n",
    ")\n",
    "print(p)"
   ]
  },
  {
   "cell_type": "markdown",
   "id": "f044b174",
   "metadata": {},
   "source": [
    "### Retrieve the simulation feature\n",
    "\n",
    "Use the method ``Project.find()`` to retrieve an instance\n",
    "of the ``SimulationDirect`` feature."
   ]
  },
  {
   "cell_type": "code",
   "execution_count": 6,
   "id": "1d39bae6",
   "metadata": {
    "execution": {
     "iopub.execute_input": "2025-06-17T07:17:14.459136Z",
     "iopub.status.busy": "2025-06-17T07:17:14.458898Z",
     "iopub.status.idle": "2025-06-17T07:17:14.462638Z",
     "shell.execute_reply": "2025-06-17T07:17:14.462081Z"
    }
   },
   "outputs": [],
   "source": [
    "sim = p.find(name=\".*\", name_regex=True, feature_type=SimulationDirect)[0]"
   ]
  },
  {
   "cell_type": "markdown",
   "id": "5f3e85e9",
   "metadata": {},
   "source": [
    "## Run simulation\n",
    "\n",
    "The simulation can be run using either the CPU or with GPU acceleration. The following cell shows\n",
    "how Python is used to assign the appropriate method to ``run_sim``."
   ]
  },
  {
   "cell_type": "code",
   "execution_count": 7,
   "id": "d8adcbb6",
   "metadata": {
    "execution": {
     "iopub.execute_input": "2025-06-17T07:17:14.464452Z",
     "iopub.status.busy": "2025-06-17T07:17:14.464265Z",
     "iopub.status.idle": "2025-06-17T07:17:19.557217Z",
     "shell.execute_reply": "2025-06-17T07:17:19.556522Z"
    },
    "lines_to_next_cell": 2
   },
   "outputs": [
    {
     "name": "stdout",
     "output_type": "stream",
     "text": [
      "[upload_response {\n",
      "  info {\n",
      "    uri: \"6c7a01b6-b874-4ea3-8132-c6d3f7b88eeb\"\n",
      "    file_name: \"ASSEMBLY1.DS (0).Dom Irradiance Sensor (0).xmp\"\n",
      "    file_size: 2150080\n",
      "  }\n",
      "  upload_duration {\n",
      "    nanos: 2930910\n",
      "  }\n",
      "}\n",
      ", upload_response {\n",
      "  info {\n",
      "    uri: \"b35b8b2d-09f0-4b3b-a8e4-d6ebf6eb9696\"\n",
      "    file_name: \"ASSEMBLY1.DS (0).html\"\n",
      "    file_size: 647122\n",
      "  }\n",
      "  upload_duration {\n",
      "    nanos: 961738\n",
      "  }\n",
      "}\n",
      "]\n"
     ]
    }
   ],
   "source": [
    "run_sim = sim.compute_GPU if USE_GPU else sim.compute_CPU\n",
    "results = run_sim()  # run the simulation\n",
    "print(results)"
   ]
  },
  {
   "cell_type": "markdown",
   "id": "2e6d7ecb",
   "metadata": {},
   "source": [
    "## Postprocessing\n",
    "### Open the results (MS Windows OS only):\n",
    "\n",
    "Display one result as image.\n",
    "\n",
    "A full path can be given, or the name of the result."
   ]
  },
  {
   "cell_type": "code",
   "execution_count": 8,
   "id": "146cd191",
   "metadata": {
    "execution": {
     "iopub.execute_input": "2025-06-17T07:17:19.559316Z",
     "iopub.status.busy": "2025-06-17T07:17:19.559110Z",
     "iopub.status.idle": "2025-06-17T07:17:19.562517Z",
     "shell.execute_reply": "2025-06-17T07:17:19.561864Z"
    }
   },
   "outputs": [],
   "source": [
    "if os.name == \"nt\":  # Are we running on Windows OS?\n",
    "    from ansys.speos.core.workflow.open_result import open_result_image\n",
    "\n",
    "    open_result_image(simulation_feature=sim, result_name=RESULT_NAME)"
   ]
  },
  {
   "cell_type": "markdown",
   "id": "d31c1d15",
   "metadata": {},
   "source": [
    "### Display the image\n",
    "\n",
    "Display one result in a result viewer.\n",
    "\n",
    "A full path can be given, or the name of the result."
   ]
  },
  {
   "cell_type": "code",
   "execution_count": 9,
   "id": "97946a43",
   "metadata": {
    "execution": {
     "iopub.execute_input": "2025-06-17T07:17:19.564374Z",
     "iopub.status.busy": "2025-06-17T07:17:19.564175Z",
     "iopub.status.idle": "2025-06-17T07:17:19.571414Z",
     "shell.execute_reply": "2025-06-17T07:17:19.570852Z"
    }
   },
   "outputs": [
    {
     "data": {
      "text/plain": [
       "True"
      ]
     },
     "execution_count": 9,
     "metadata": {},
     "output_type": "execute_result"
    }
   ],
   "source": [
    "if os.name == \"nt\":\n",
    "    from ansys.speos.core.workflow.open_result import open_result_in_viewer\n",
    "\n",
    "    open_result_in_viewer(\n",
    "        simulation_feature=sim,\n",
    "        result_name=RESULT_NAME,\n",
    "    )\n",
    "speos.close()"
   ]
  }
 ],
 "metadata": {
  "jupytext": {
   "cell_metadata_filter": "-all",
   "main_language": "python",
   "notebook_metadata_filter": "-all",
   "text_representation": {
    "extension": ".py",
    "format_name": "light"
   }
  },
  "language_info": {
   "codemirror_mode": {
    "name": "ipython",
    "version": 3
   },
   "file_extension": ".py",
   "mimetype": "text/x-python",
   "name": "python",
   "nbconvert_exporter": "python",
   "pygments_lexer": "ipython3",
   "version": "3.10.17"
  }
 },
 "nbformat": 4,
 "nbformat_minor": 5
}
