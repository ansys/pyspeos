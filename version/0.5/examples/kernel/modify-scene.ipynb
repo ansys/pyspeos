{
 "cells": [
  {
   "cell_type": "markdown",
   "id": "0d77929d",
   "metadata": {},
   "source": [
    "# How to modify scene elements"
   ]
  },
  {
   "cell_type": "markdown",
   "id": "0b5bbe01",
   "metadata": {},
   "source": [
    "This tutorial demonstrates how to modify a scene. For example how to modify an existing sensor,\n",
    "how to add a new sensor.\n",
    "The logic is the same to modify sources, simulations, materials."
   ]
  },
  {
   "cell_type": "markdown",
   "id": "c94ea133",
   "metadata": {},
   "source": [
    "## Template vs Instance"
   ]
  },
  {
   "cell_type": "markdown",
   "id": "c0f2e1b7",
   "metadata": {},
   "source": [
    "When applicable, the speos objects are separated in two different notions: template and instance.\n",
    "The template represents the feature with its inherent characteristics.\n",
    "The instance represents the completion of a template by adding properties such as spatial\n",
    "position, link to geometry, etc."
   ]
  },
  {
   "cell_type": "markdown",
   "id": "b0293acd",
   "metadata": {},
   "source": [
    "### Template"
   ]
  },
  {
   "cell_type": "markdown",
   "id": "05f3bf29",
   "metadata": {},
   "source": [
    "The template objects are handled by a manager.\n",
    "It was explained how to interact with them in the kernel-object-link example\n",
    "(\"How to use an ObjectLink\"). The interesting thing about the template notion is that the same\n",
    "template can be used several times with different properties."
   ]
  },
  {
   "cell_type": "markdown",
   "id": "627257d5",
   "metadata": {},
   "source": [
    "### Instance"
   ]
  },
  {
   "cell_type": "markdown",
   "id": "71ef195a",
   "metadata": {},
   "source": [
    "The template objects are instantiated in the Scene object, with properties needed to place them at\n",
    "the wanted position, or attached to the wanted geometry.\n",
    "The Scene object will gather all features that you need to run a job (compute a simulation)."
   ]
  },
  {
   "cell_type": "markdown",
   "id": "968503f9",
   "metadata": {},
   "source": [
    "## Prerequisites\n",
    "\n",
    "### Perform imports"
   ]
  },
  {
   "cell_type": "code",
   "execution_count": 1,
   "id": "dd078409",
   "metadata": {
    "execution": {
     "iopub.execute_input": "2025-06-17T07:16:07.619032Z",
     "iopub.status.busy": "2025-06-17T07:16:07.618725Z",
     "iopub.status.idle": "2025-06-17T07:16:08.464424Z",
     "shell.execute_reply": "2025-06-17T07:16:08.463780Z"
    }
   },
   "outputs": [],
   "source": [
    "from pathlib import Path\n",
    "\n",
    "from ansys.api.speos.sensor.v1 import camera_sensor_pb2\n",
    "from ansys.speos.core import Speos, launcher\n",
    "from ansys.speos.core.kernel.scene import ProtoScene\n",
    "from ansys.speos.core.kernel.sensor_template import ProtoSensorTemplate\n"
   ]
  },
  {
   "cell_type": "markdown",
   "id": "91e35cdf",
   "metadata": {},
   "source": [
    "### Define constants\n",
    "Constants help ensure consistency and avoid repetition throughout the example."
   ]
  },
  {
   "cell_type": "code",
   "execution_count": 2,
   "id": "533f4bde",
   "metadata": {
    "execution": {
     "iopub.execute_input": "2025-06-17T07:16:08.467030Z",
     "iopub.status.busy": "2025-06-17T07:16:08.466498Z",
     "iopub.status.idle": "2025-06-17T07:16:08.469930Z",
     "shell.execute_reply": "2025-06-17T07:16:08.469338Z"
    }
   },
   "outputs": [],
   "source": [
    "HOSTNAME = \"localhost\"\n",
    "GRPC_PORT = 50098  # Be sure the Speos GRPC Server has been started on this port.\n",
    "USE_DOCKER = True  # Set to False if you're running this example locally as a Notebook."
   ]
  },
  {
   "cell_type": "markdown",
   "id": "ade656fc",
   "metadata": {},
   "source": [
    "### Load assets\n",
    "The assets used to run this example are available in the\n",
    "[PySpeos repository](https://github.com/ansys/pyspeos/) on GitHub.\n",
    "\n",
    "> **Note:** Make sure you\n",
    "> have downloaded simulation assets and set ``assets_data_path``\n",
    "> to point to the assets folder."
   ]
  },
  {
   "cell_type": "code",
   "execution_count": 3,
   "id": "2f441f2a",
   "metadata": {
    "execution": {
     "iopub.execute_input": "2025-06-17T07:16:08.471927Z",
     "iopub.status.busy": "2025-06-17T07:16:08.471518Z",
     "iopub.status.idle": "2025-06-17T07:16:08.474612Z",
     "shell.execute_reply": "2025-06-17T07:16:08.474104Z"
    },
    "lines_to_next_cell": 2
   },
   "outputs": [],
   "source": [
    "if USE_DOCKER:  # Running on the remote server.\n",
    "    assets_data_path = Path(\"/app\") / \"assets\"\n",
    "else:\n",
    "    assets_data_path = Path(\"/path/to/your/download/assets/directory\")"
   ]
  },
  {
   "cell_type": "markdown",
   "id": "bd8ae9ef",
   "metadata": {},
   "source": [
    "### Start/Connect to Speos RPC Server\n",
    "This Python client connects to a server where the Speos engine\n",
    "is running as a service. In this example, the server and\n",
    "client are the same machine. The launch_local_speos_rpc_method can\n",
    "be used to start a local instance of the service."
   ]
  },
  {
   "cell_type": "code",
   "execution_count": 4,
   "id": "ba52fded",
   "metadata": {
    "execution": {
     "iopub.execute_input": "2025-06-17T07:16:08.476423Z",
     "iopub.status.busy": "2025-06-17T07:16:08.476222Z",
     "iopub.status.idle": "2025-06-17T07:16:08.482999Z",
     "shell.execute_reply": "2025-06-17T07:16:08.482434Z"
    }
   },
   "outputs": [],
   "source": [
    "if USE_DOCKER:\n",
    "    speos = Speos(host=HOSTNAME, port=GRPC_PORT)\n",
    "else:\n",
    "    speos = launcher.launch_local_speos_rpc_server(port=GRPC_PORT)"
   ]
  },
  {
   "cell_type": "markdown",
   "id": "5e2999ad",
   "metadata": {},
   "source": [
    "Create an empty scene and load speos file to fill it."
   ]
  },
  {
   "cell_type": "code",
   "execution_count": 5,
   "id": "c326c15e",
   "metadata": {
    "execution": {
     "iopub.execute_input": "2025-06-17T07:16:08.484899Z",
     "iopub.status.busy": "2025-06-17T07:16:08.484669Z",
     "iopub.status.idle": "2025-06-17T07:16:08.500782Z",
     "shell.execute_reply": "2025-06-17T07:16:08.500208Z"
    },
    "lines_to_next_cell": 2
   },
   "outputs": [],
   "source": [
    "my_scene = speos.client.scenes().create()\n",
    "speos_file = str(assets_data_path / \"Inverse_SeveralSensors.speos\" / \"Inverse_SeveralSensors.speos\")\n",
    "my_scene.load_file(file_uri=speos_file)"
   ]
  },
  {
   "cell_type": "markdown",
   "id": "514ee09a",
   "metadata": {},
   "source": [
    "## Print data models"
   ]
  },
  {
   "cell_type": "markdown",
   "id": "a9cdf003",
   "metadata": {},
   "source": [
    "### Whole scene"
   ]
  },
  {
   "cell_type": "code",
   "execution_count": 6,
   "id": "e0fd68f1",
   "metadata": {
    "execution": {
     "iopub.execute_input": "2025-06-17T07:16:08.503193Z",
     "iopub.status.busy": "2025-06-17T07:16:08.502767Z",
     "iopub.status.idle": "2025-06-17T07:16:08.508603Z",
     "shell.execute_reply": "2025-06-17T07:16:08.507944Z"
    }
   },
   "outputs": [
    {
     "name": "stdout",
     "output_type": "stream",
     "text": [
      "ansys.api.speos.scene.v2.Scene\n",
      "{\n",
      "    \"name\": \"Inverse_SeveralSensors\",\n",
      "    \"description\": \"From /app/assets/Inverse_SeveralSensors.speos/Inverse_SeveralSensors.speos\",\n",
      "    \"part_guid\": \"c2917166-a493-47d6-a0db-928b67b240e2\",\n",
      "    \"sources\": [\n",
      "        {\n",
      "            \"name\": \"Surface.1:1\",\n",
      "            \"source_guid\": \"7d3156d3-760e-4fc0-ab94-776418d63542\",\n",
      "            \"surface_properties\": {\n",
      "                \"exitance_constant_properties\": {\n",
      "                    \"geo_paths\": [\n",
      "                        {\n",
      "                            \"geo_path\": \"Corps:2408912477/face.1:3892963602\",\n",
      "                            \"reverse_normal\": false\n",
      "                        }\n",
      "                    ]\n",
      "                }\n",
      "            },\n",
      "            \"description\": \"\",\n",
      "            \"metadata\": {}\n",
      "        },\n",
      "        {\n",
      "            \"name\": \"Surface.2:1\",\n",
      "            \"source_guid\": \"fdf3bba0-4b75-414e-87cc-235d0bff1682\",\n",
      "            \"surface_properties\": {\n",
      "                \"exitance_constant_properties\": {\n",
      "                    \"geo_paths\": [\n",
      "                        {\n",
      "                            \"geo_path\": \"Corps:1976534910/face.1:889032133\",\n",
      "                            \"reverse_normal\": false\n",
      "                        }\n",
      "                    ]\n",
      "                }\n",
      "            },\n",
      "            \"description\": \"\",\n",
      "            \"metadata\": {}\n",
      "        }\n",
      "    ],\n",
      "    \"sensors\": [\n",
      "        {\n",
      "            \"name\": \"Camera.1:21\",\n",
      "            \"sensor_guid\": \"508e7f58-1f88-4856-90cb-2294e374945d\",\n",
      "            \"result_file_name\": \"Inverse.1.Camera.1\",\n",
      "            \"camera_properties\": {\n",
      "                \"axis_system\": [\n",
      "                    17.0,\n",
      "                    10.050000000000002,\n",
      "                    14.499999999999998,\n",
      "                    -0.0,\n",
      "                    -0.0,\n",
      "                    -1.0,\n",
      "                    0.0,\n",
      "                    1.0,\n",
      "                    0.0,\n",
      "                    1.0,\n",
      "                    0.0,\n",
      "                    0.0\n",
      "                ],\n",
      "                \"layer_type_source\": {},\n",
      "                \"trajectory_file_uri\": \"\"\n",
      "            },\n",
      "            \"description\": \"\",\n",
      "            \"metadata\": {}\n",
      "        },\n",
      "        {\n",
      "            \"name\": \"Irradiance.1:28\",\n",
      "            \"sensor_guid\": \"0fec3381-c1ff-4664-9510-8b8ae05efff2\",\n",
      "            \"result_file_name\": \"Inverse.1.Irradiance.1\",\n",
      "            \"irradiance_properties\": {\n",
      "                \"axis_system\": [\n",
      "                    0.0,\n",
      "                    0.0,\n",
      "                    0.0,\n",
      "                    0.0,\n",
      "                    0.0,\n",
      "                    1.0,\n",
      "                    0.0,\n",
      "                    1.0,\n",
      "                    -0.0,\n",
      "                    -1.0,\n",
      "                    0.0,\n",
      "                    0.0\n",
      "                ],\n",
      "                \"layer_type_sequence\": {\n",
      "                    \"maximum_nb_of_sequence\": 10,\n",
      "                    \"define_sequence_per\": \"Faces\"\n",
      "                },\n",
      "                \"ray_file_type\": \"RayFileNone\",\n",
      "                \"integration_direction\": []\n",
      "            },\n",
      "            \"description\": \"\",\n",
      "            \"metadata\": {}\n",
      "        }\n",
      "    ],\n",
      "    \"simulations\": [\n",
      "        {\n",
      "            \"name\": \"Inverse.1\",\n",
      "            \"simulation_guid\": \"0badf9da-f4e3-4a9c-8e37-ab8f49268558\",\n",
      "            \"sensor_paths\": [\n",
      "                \"Camera.1:21\",\n",
      "                \"Irradiance.1:28\"\n",
      "            ],\n",
      "            \"source_paths\": [\n",
      "                \"Surface.1:1\",\n",
      "                \"Surface.2:1\"\n",
      "            ],\n",
      "            \"description\": \"\",\n",
      "            \"metadata\": {}\n",
      "        }\n",
      "    ],\n",
      "    \"materials\": [\n",
      "        {\n",
      "            \"name\": \"Material.1\",\n",
      "            \"vop_guid\": \"975f32be-a9c6-4420-a121-c78b728a7882\",\n",
      "            \"sop_guids\": [\n",
      "                \"82a9c55a-0ce7-49a2-8047-0b539f4b2092\"\n",
      "            ],\n",
      "            \"geometries\": {\n",
      "                \"geo_paths\": [\n",
      "                    \"Corps:2408912477\",\n",
      "                    \"Corps:1976534910\"\n",
      "                ]\n",
      "            },\n",
      "            \"description\": \"\",\n",
      "            \"metadata\": {}\n",
      "        },\n",
      "        {\n",
      "            \"name\": \"Material.2\",\n",
      "            \"vop_guid\": \"21a70370-6779-432b-bcd6-012280c053b2\",\n",
      "            \"description\": \"\",\n",
      "            \"metadata\": {},\n",
      "            \"sop_guids\": []\n",
      "        }\n",
      "    ],\n",
      "    \"metadata\": {},\n",
      "    \"scenes\": []\n",
      "}\n"
     ]
    }
   ],
   "source": [
    "print(my_scene)"
   ]
  },
  {
   "cell_type": "markdown",
   "id": "b441d2ba",
   "metadata": {},
   "source": [
    "### Sensors (instance + template) in this scene"
   ]
  },
  {
   "cell_type": "code",
   "execution_count": 7,
   "id": "cfb3f3f8",
   "metadata": {
    "execution": {
     "iopub.execute_input": "2025-06-17T07:16:08.510665Z",
     "iopub.status.busy": "2025-06-17T07:16:08.510462Z",
     "iopub.status.idle": "2025-06-17T07:16:08.520306Z",
     "shell.execute_reply": "2025-06-17T07:16:08.519753Z"
    }
   },
   "outputs": [
    {
     "name": "stdout",
     "output_type": "stream",
     "text": [
      "ansys.api.speos.scene.v2.Scene.SensorInstance\n",
      "{\n",
      "    \"name\": \"Camera.1:21\",\n",
      "    \"sensor_guid\": \"508e7f58-1f88-4856-90cb-2294e374945d\",\n",
      "    \"result_file_name\": \"Inverse.1.Camera.1\",\n",
      "    \"camera_properties\": {\n",
      "        \"axis_system\": [\n",
      "            17.0,\n",
      "            10.050000000000002,\n",
      "            14.499999999999998,\n",
      "            -0.0,\n",
      "            -0.0,\n",
      "            -1.0,\n",
      "            0.0,\n",
      "            1.0,\n",
      "            0.0,\n",
      "            1.0,\n",
      "            0.0,\n",
      "            0.0\n",
      "        ],\n",
      "        \"layer_type_source\": {},\n",
      "        \"trajectory_file_uri\": \"\"\n",
      "    },\n",
      "    \"description\": \"\",\n",
      "    \"metadata\": {}\n",
      "}\n",
      "ansys.api.speos.sensor.v1.SensorTemplate\n",
      "{\n",
      "    \"camera_sensor_template\": {\n",
      "        \"sensor_mode_photometric\": {\n",
      "            \"transmittance_file_uri\": \"/app/assets/Inverse_SeveralSensors.speos/CameraTransmittance_7906-9f99-c97d-838a..spectrum\",\n",
      "            \"gamma_correction\": 2.2,\n",
      "            \"color_mode_color\": {\n",
      "                \"red_spectrum_file_uri\": \"/app/assets/Inverse_SeveralSensors.speos/CameraSensitivityRed_adf4-0b27-cefc-fa35..spectrum\",\n",
      "                \"green_spectrum_file_uri\": \"/app/assets/Inverse_SeveralSensors.speos/CameraSensitivityGreen_7c86-e7df-6de8-cb15..spectrum\",\n",
      "                \"blue_spectrum_file_uri\": \"/app/assets/Inverse_SeveralSensors.speos/CameraSensitivityBlue_8072-c4fe-d903-ca3f..spectrum\",\n",
      "                \"balance_mode_none\": {}\n",
      "            },\n",
      "            \"wavelengths_range\": {\n",
      "                \"w_start\": 400.0,\n",
      "                \"w_end\": 700.0,\n",
      "                \"w_sampling\": 13\n",
      "            },\n",
      "            \"acquisition_integration\": 0.0,\n",
      "            \"acquisition_lag_time\": 0.0,\n",
      "            \"png_bits\": \"PNG_08\"\n",
      "        },\n",
      "        \"focal_length\": 4.0,\n",
      "        \"imager_distance\": 10.0,\n",
      "        \"f_number\": 30.0,\n",
      "        \"distorsion_file_uri\": \"/app/assets/Inverse_SeveralSensors.speos/CameraDistortion.OPTDistortion\",\n",
      "        \"horz_pixel\": 640,\n",
      "        \"vert_pixel\": 480,\n",
      "        \"width\": 5.0,\n",
      "        \"height\": 5.0,\n",
      "        \"distortion_file_uri\": \"/app/assets/Inverse_SeveralSensors.speos/CameraDistortion.OPTDistortion\"\n",
      "    },\n",
      "    \"name\": \"Camera.1:21\",\n",
      "    \"description\": \"\",\n",
      "    \"metadata\": {}\n",
      "}\n",
      "\n",
      "\n",
      "ansys.api.speos.scene.v2.Scene.SensorInstance\n",
      "{\n",
      "    \"name\": \"Irradiance.1:28\",\n",
      "    \"sensor_guid\": \"0fec3381-c1ff-4664-9510-8b8ae05efff2\",\n",
      "    \"result_file_name\": \"Inverse.1.Irradiance.1\",\n",
      "    \"irradiance_properties\": {\n",
      "        \"axis_system\": [\n",
      "            0.0,\n",
      "            0.0,\n",
      "            0.0,\n",
      "            0.0,\n",
      "            0.0,\n",
      "            1.0,\n",
      "            0.0,\n",
      "            1.0,\n",
      "            -0.0,\n",
      "            -1.0,\n",
      "            0.0,\n",
      "            0.0\n",
      "        ],\n",
      "        \"layer_type_sequence\": {\n",
      "            \"maximum_nb_of_sequence\": 10,\n",
      "            \"define_sequence_per\": \"Faces\"\n",
      "        },\n",
      "        \"ray_file_type\": \"RayFileNone\",\n",
      "        \"integration_direction\": []\n",
      "    },\n",
      "    \"description\": \"\",\n",
      "    \"metadata\": {}\n",
      "}\n",
      "ansys.api.speos.sensor.v1.SensorTemplate\n",
      "{\n",
      "    \"irradiance_sensor_template\": {\n",
      "        \"sensor_type_colorimetric\": {\n",
      "            \"wavelengths_range\": {\n",
      "                \"w_start\": 400.0,\n",
      "                \"w_end\": 700.0,\n",
      "                \"w_sampling\": 13\n",
      "            }\n",
      "        },\n",
      "        \"illuminance_type_planar\": {},\n",
      "        \"dimensions\": {\n",
      "            \"x_start\": -50.0,\n",
      "            \"x_end\": 50.0,\n",
      "            \"x_sampling\": 100,\n",
      "            \"y_start\": -50.0,\n",
      "            \"y_end\": 50.0,\n",
      "            \"y_sampling\": 100\n",
      "        }\n",
      "    },\n",
      "    \"name\": \"Irradiance.1:28\",\n",
      "    \"description\": \"\",\n",
      "    \"metadata\": {}\n",
      "}\n",
      "\n",
      "\n"
     ]
    }
   ],
   "source": [
    "for sensor_i in my_scene.get().sensors:\n",
    "    print(sensor_i)  # Print instance data model\n",
    "    print(speos.client[sensor_i.sensor_guid])  # Print template data model\n",
    "    print(\"\\n\")"
   ]
  },
  {
   "cell_type": "markdown",
   "id": "87a67ac3",
   "metadata": {},
   "source": [
    "### Camera sensors in this scene"
   ]
  },
  {
   "cell_type": "code",
   "execution_count": 8,
   "id": "c05241b4",
   "metadata": {
    "execution": {
     "iopub.execute_input": "2025-06-17T07:16:08.522376Z",
     "iopub.status.busy": "2025-06-17T07:16:08.521913Z",
     "iopub.status.idle": "2025-06-17T07:16:08.529122Z",
     "shell.execute_reply": "2025-06-17T07:16:08.528435Z"
    }
   },
   "outputs": [
    {
     "name": "stdout",
     "output_type": "stream",
     "text": [
      "ansys.api.speos.scene.v2.Scene.SensorInstance\n",
      "{\n",
      "    \"name\": \"Camera.1:21\",\n",
      "    \"sensor_guid\": \"508e7f58-1f88-4856-90cb-2294e374945d\",\n",
      "    \"result_file_name\": \"Inverse.1.Camera.1\",\n",
      "    \"camera_properties\": {\n",
      "        \"axis_system\": [\n",
      "            17.0,\n",
      "            10.050000000000002,\n",
      "            14.499999999999998,\n",
      "            -0.0,\n",
      "            -0.0,\n",
      "            -1.0,\n",
      "            0.0,\n",
      "            1.0,\n",
      "            0.0,\n",
      "            1.0,\n",
      "            0.0,\n",
      "            0.0\n",
      "        ],\n",
      "        \"layer_type_source\": {},\n",
      "        \"trajectory_file_uri\": \"\"\n",
      "    },\n",
      "    \"description\": \"\",\n",
      "    \"metadata\": {}\n",
      "}\n",
      "ansys.api.speos.sensor.v1.SensorTemplate\n",
      "{\n",
      "    \"camera_sensor_template\": {\n",
      "        \"sensor_mode_photometric\": {\n",
      "            \"transmittance_file_uri\": \"/app/assets/Inverse_SeveralSensors.speos/CameraTransmittance_7906-9f99-c97d-838a..spectrum\",\n",
      "            \"gamma_correction\": 2.2,\n",
      "            \"color_mode_color\": {\n",
      "                \"red_spectrum_file_uri\": \"/app/assets/Inverse_SeveralSensors.speos/CameraSensitivityRed_adf4-0b27-cefc-fa35..spectrum\",\n",
      "                \"green_spectrum_file_uri\": \"/app/assets/Inverse_SeveralSensors.speos/CameraSensitivityGreen_7c86-e7df-6de8-cb15..spectrum\",\n",
      "                \"blue_spectrum_file_uri\": \"/app/assets/Inverse_SeveralSensors.speos/CameraSensitivityBlue_8072-c4fe-d903-ca3f..spectrum\",\n",
      "                \"balance_mode_none\": {}\n",
      "            },\n",
      "            \"wavelengths_range\": {\n",
      "                \"w_start\": 400.0,\n",
      "                \"w_end\": 700.0,\n",
      "                \"w_sampling\": 13\n",
      "            },\n",
      "            \"acquisition_integration\": 0.0,\n",
      "            \"acquisition_lag_time\": 0.0,\n",
      "            \"png_bits\": \"PNG_08\"\n",
      "        },\n",
      "        \"focal_length\": 4.0,\n",
      "        \"imager_distance\": 10.0,\n",
      "        \"f_number\": 30.0,\n",
      "        \"distorsion_file_uri\": \"/app/assets/Inverse_SeveralSensors.speos/CameraDistortion.OPTDistortion\",\n",
      "        \"horz_pixel\": 640,\n",
      "        \"vert_pixel\": 480,\n",
      "        \"width\": 5.0,\n",
      "        \"height\": 5.0,\n",
      "        \"distortion_file_uri\": \"/app/assets/Inverse_SeveralSensors.speos/CameraDistortion.OPTDistortion\"\n",
      "    },\n",
      "    \"name\": \"Camera.1:21\",\n",
      "    \"description\": \"\",\n",
      "    \"metadata\": {}\n",
      "}\n",
      "\n",
      "\n"
     ]
    }
   ],
   "source": [
    "for sensor_i in my_scene.get().sensors:\n",
    "    if sensor_i.HasField(\"camera_properties\"):\n",
    "        print(sensor_i)  # Print instance data model\n",
    "        print(speos.client[sensor_i.sensor_guid])  # Print template data model\n",
    "        print(\"\\n\")"
   ]
  },
  {
   "cell_type": "markdown",
   "id": "0bd7e402",
   "metadata": {},
   "source": [
    "## Modify existing data"
   ]
  },
  {
   "cell_type": "markdown",
   "id": "706e2d31",
   "metadata": {},
   "source": [
    "### Modify a camera instance"
   ]
  },
  {
   "cell_type": "code",
   "execution_count": 9,
   "id": "a0f8da69",
   "metadata": {
    "execution": {
     "iopub.execute_input": "2025-06-17T07:16:08.531463Z",
     "iopub.status.busy": "2025-06-17T07:16:08.530995Z",
     "iopub.status.idle": "2025-06-17T07:16:08.567880Z",
     "shell.execute_reply": "2025-06-17T07:16:08.567086Z"
    }
   },
   "outputs": [
    {
     "name": "stdout",
     "output_type": "stream",
     "text": [
      "ansys.api.speos.scene.v2.Scene.SensorInstance\n",
      "{\n",
      "    \"name\": \"Camera.1:21\",\n",
      "    \"sensor_guid\": \"508e7f58-1f88-4856-90cb-2294e374945d\",\n",
      "    \"result_file_name\": \"Inverse.1.Camera.1\",\n",
      "    \"camera_properties\": {\n",
      "        \"axis_system\": [\n",
      "            17.0,\n",
      "            10.0,\n",
      "            15.0,\n",
      "            0.0,\n",
      "            0.0,\n",
      "            -1.0,\n",
      "            0.0,\n",
      "            1.0,\n",
      "            0.0,\n",
      "            1.0,\n",
      "            0.0,\n",
      "            0.0\n",
      "        ],\n",
      "        \"layer_type_none\": {},\n",
      "        \"trajectory_file_uri\": \"\"\n",
      "    },\n",
      "    \"description\": \"\",\n",
      "    \"metadata\": {}\n",
      "}\n"
     ]
    }
   ],
   "source": [
    "my_scene_data = my_scene.get()  # get() = retrieve datamodel corresponding to my_scene\n",
    "camera_i_0 = my_scene_data.sensors[\n",
    "    0\n",
    "]  # retrieve the specific part of the message corresponding to the first sensor\n",
    "assert camera_i_0.HasField(\"camera_properties\")  # verify that it is a camera\n",
    "\n",
    "# Modification on protobuf message : axis system + layer type\n",
    "camera_i_0.camera_properties.ClearField(\"axis_system\")\n",
    "camera_i_0.camera_properties.axis_system.extend(\n",
    "    [17.0, 10.0, 15.0] + [0.0, 0.0, -1.0] + [0.0, 1.0, 0.0] + [1.0, 0.0, 0.0]\n",
    ")  # Origin + Xvector + Yvector + Zvector\n",
    "camera_i_0.camera_properties.layer_type_none.SetInParent()\n",
    "\n",
    "# Until now, we only modified the data locally. We need to push the changes to the server:\n",
    "my_scene.set(my_scene_data)  # set = Update using modified datamodel\n",
    "\n",
    "print(my_scene.get().sensors[0])  # Do another get() to check new value on database"
   ]
  },
  {
   "cell_type": "markdown",
   "id": "11db8e21",
   "metadata": {},
   "source": [
    "### Modify a camera template"
   ]
  },
  {
   "cell_type": "code",
   "execution_count": 10,
   "id": "c80ce63c",
   "metadata": {
    "execution": {
     "iopub.execute_input": "2025-06-17T07:16:08.570249Z",
     "iopub.status.busy": "2025-06-17T07:16:08.569813Z",
     "iopub.status.idle": "2025-06-17T07:16:08.578402Z",
     "shell.execute_reply": "2025-06-17T07:16:08.577804Z"
    }
   },
   "outputs": [
    {
     "name": "stdout",
     "output_type": "stream",
     "text": [
      "ansys.api.speos.sensor.v1.SensorTemplate\n",
      "{\n",
      "    \"camera_sensor_template\": {\n",
      "        \"sensor_mode_photometric\": {\n",
      "            \"transmittance_file_uri\": \"/app/assets/Inverse_SeveralSensors.speos/CameraTransmittance_7906-9f99-c97d-838a..spectrum\",\n",
      "            \"gamma_correction\": 2.2,\n",
      "            \"color_mode_color\": {\n",
      "                \"red_spectrum_file_uri\": \"/app/assets/Inverse_SeveralSensors.speos/CameraSensitivityRed_adf4-0b27-cefc-fa35..spectrum\",\n",
      "                \"green_spectrum_file_uri\": \"/app/assets/Inverse_SeveralSensors.speos/CameraSensitivityGreen_7c86-e7df-6de8-cb15..spectrum\",\n",
      "                \"blue_spectrum_file_uri\": \"/app/assets/Inverse_SeveralSensors.speos/CameraSensitivityBlue_8072-c4fe-d903-ca3f..spectrum\",\n",
      "                \"balance_mode_none\": {}\n",
      "            },\n",
      "            \"wavelengths_range\": {\n",
      "                \"w_start\": 400.0,\n",
      "                \"w_end\": 700.0,\n",
      "                \"w_sampling\": 13\n",
      "            },\n",
      "            \"acquisition_integration\": 0.0,\n",
      "            \"acquisition_lag_time\": 0.0,\n",
      "            \"png_bits\": \"PNG_08\"\n",
      "        },\n",
      "        \"focal_length\": 4.5,\n",
      "        \"imager_distance\": 10.0,\n",
      "        \"f_number\": 30.0,\n",
      "        \"distorsion_file_uri\": \"/app/assets/Inverse_SeveralSensors.speos/CameraDistortion.OPTDistortion\",\n",
      "        \"horz_pixel\": 640,\n",
      "        \"vert_pixel\": 480,\n",
      "        \"width\": 5.0,\n",
      "        \"height\": 5.0,\n",
      "        \"distortion_file_uri\": \"/app/assets/CameraInputFiles/CameraDistortion_150deg.OPTDistortion\"\n",
      "    },\n",
      "    \"name\": \"Camera.1:21\",\n",
      "    \"description\": \"\",\n",
      "    \"metadata\": {}\n",
      "}\n"
     ]
    }
   ],
   "source": [
    "new_distortion_file = str(\n",
    "    assets_data_path / \"CameraInputFiles\" / \"CameraDistortion_150deg.OPTDistortion\"\n",
    ")\n",
    "\n",
    "# Retrieve SensorTemplateLink corresponding to camera_i_0.sensor_guid\n",
    "camera_t_0 = speos.client[camera_i_0.sensor_guid]\n",
    "\n",
    "# get() = retrieve datamodel corresponding to camera_t_0 from database\n",
    "camera_t_0_data = camera_t_0.get()\n",
    "\n",
    "# Modification on protobuf message : distortion_file_uri + focal_length\n",
    "assert camera_t_0_data.HasField(\"camera_sensor_template\")\n",
    "camera_t_0_data.camera_sensor_template.distortion_file_uri = new_distortion_file\n",
    "camera_t_0_data.camera_sensor_template.focal_length = 4.5\n",
    "\n",
    "# set = Update using modified datamodel (push modified data to the server)\n",
    "camera_t_0.set(camera_t_0_data)\n",
    "\n",
    "print(camera_t_0)  # Print ObjectLink to see its datamodel in database"
   ]
  },
  {
   "cell_type": "markdown",
   "id": "bf40dda0",
   "metadata": {},
   "source": [
    "## Add new data (like a new sensor)"
   ]
  },
  {
   "cell_type": "markdown",
   "id": "f5396433",
   "metadata": {},
   "source": [
    "### Create a camera template"
   ]
  },
  {
   "cell_type": "code",
   "execution_count": 11,
   "id": "694197f1",
   "metadata": {
    "execution": {
     "iopub.execute_input": "2025-06-17T07:16:08.580554Z",
     "iopub.status.busy": "2025-06-17T07:16:08.580209Z",
     "iopub.status.idle": "2025-06-17T07:16:08.588450Z",
     "shell.execute_reply": "2025-06-17T07:16:08.587768Z"
    }
   },
   "outputs": [
    {
     "name": "stdout",
     "output_type": "stream",
     "text": [
      "ansys.api.speos.sensor.v1.SensorTemplate\n",
      "{\n",
      "    \"camera_sensor_template\": {\n",
      "        \"sensor_mode_photometric\": {\n",
      "            \"acquisition_integration\": 0.01,\n",
      "            \"transmittance_file_uri\": \"/app/assets/CameraInputFiles/CameraTransmittance.spectrum\",\n",
      "            \"gamma_correction\": 2.2,\n",
      "            \"png_bits\": \"PNG_16\",\n",
      "            \"color_mode_color\": {\n",
      "                \"red_spectrum_file_uri\": \"/app/assets/CameraInputFiles/CameraSensitivityRed.spectrum\",\n",
      "                \"green_spectrum_file_uri\": \"/app/assets/CameraInputFiles/CameraSensitivityGreen.spectrum\",\n",
      "                \"blue_spectrum_file_uri\": \"/app/assets/CameraInputFiles/CameraSensitivityBlue.spectrum\",\n",
      "                \"balance_mode_none\": {}\n",
      "            },\n",
      "            \"wavelengths_range\": {\n",
      "                \"w_start\": 400.0,\n",
      "                \"w_end\": 700.0,\n",
      "                \"w_sampling\": 13\n",
      "            },\n",
      "            \"acquisition_lag_time\": 0.0\n",
      "        },\n",
      "        \"focal_length\": 5.0,\n",
      "        \"imager_distance\": 10.0,\n",
      "        \"f_number\": 20.0,\n",
      "        \"horz_pixel\": 640,\n",
      "        \"vert_pixel\": 480,\n",
      "        \"width\": 5.0,\n",
      "        \"height\": 5.0,\n",
      "        \"distortion_file_uri\": \"/app/assets/CameraInputFiles/CameraDistortion_130deg.OPTDistortion\",\n",
      "        \"distorsion_file_uri\": \"\"\n",
      "    },\n",
      "    \"name\": \"CameraFromScratch\",\n",
      "    \"description\": \"\",\n",
      "    \"metadata\": {}\n",
      "}\n"
     ]
    }
   ],
   "source": [
    "sensor_t_db = speos.client.sensor_templates()  # Retrieve access to sensor templates db\n",
    "\n",
    "# Create protobuf message SensorTemplate\n",
    "sensor_t_data = ProtoSensorTemplate(name=\"CameraFromScratch\")\n",
    "photometric = sensor_t_data.camera_sensor_template.sensor_mode_photometric\n",
    "photometric.acquisition_integration = 0.01\n",
    "photometric.acquisition_lag_time = 0\n",
    "photometric.transmittance_file_uri = str(\n",
    "    assets_data_path / \"CameraInputFiles\" / \"CameraTransmittance.spectrum\"\n",
    ")\n",
    "photometric.gamma_correction = 2.2\n",
    "photometric.png_bits = camera_sensor_pb2.EnumSensorCameraPNGBits.PNG_16\n",
    "photometric.color_mode_color.red_spectrum_file_uri = str(\n",
    "    assets_data_path / \"CameraInputFiles\" / \"CameraSensitivityRed.spectrum\"\n",
    ")\n",
    "photometric.color_mode_color.green_spectrum_file_uri = str(\n",
    "    assets_data_path / \"CameraInputFiles\" / \"CameraSensitivityGreen.spectrum\"\n",
    ")\n",
    "photometric.color_mode_color.blue_spectrum_file_uri = str(\n",
    "    assets_data_path / \"CameraInputFiles\" / \"CameraSensitivityBlue.spectrum\"\n",
    ")\n",
    "photometric.color_mode_color.balance_mode_none.SetInParent()\n",
    "photometric.wavelengths_range.w_start = 400\n",
    "photometric.wavelengths_range.w_end = 700\n",
    "photometric.wavelengths_range.w_sampling = 13\n",
    "sensor_t_data.camera_sensor_template.focal_length = 5\n",
    "sensor_t_data.camera_sensor_template.imager_distance = 10\n",
    "sensor_t_data.camera_sensor_template.f_number = 20\n",
    "sensor_t_data.camera_sensor_template.distortion_file_uri = str(\n",
    "    assets_data_path / \"CameraInputFiles\" / \"CameraDistortion_130deg.OPTDistortion\"\n",
    ")\n",
    "sensor_t_data.camera_sensor_template.horz_pixel = 640\n",
    "sensor_t_data.camera_sensor_template.vert_pixel = 480\n",
    "sensor_t_data.camera_sensor_template.width = 5\n",
    "sensor_t_data.camera_sensor_template.height = 5\n",
    "\n",
    "# Store it in db and retrieve SensorTemplateLink\n",
    "sensor_t_new = sensor_t_db.create(message=sensor_t_data)\n",
    "print(sensor_t_new)"
   ]
  },
  {
   "cell_type": "markdown",
   "id": "8de128c5",
   "metadata": {},
   "source": [
    "### Create a camera instance"
   ]
  },
  {
   "cell_type": "code",
   "execution_count": 12,
   "id": "63a52d59",
   "metadata": {
    "execution": {
     "iopub.execute_input": "2025-06-17T07:16:08.590685Z",
     "iopub.status.busy": "2025-06-17T07:16:08.590284Z",
     "iopub.status.idle": "2025-06-17T07:16:08.594415Z",
     "shell.execute_reply": "2025-06-17T07:16:08.593879Z"
    }
   },
   "outputs": [],
   "source": [
    "camera_i_2 = ProtoScene.SensorInstance(name=sensor_t_new.get().name + \".1\")\n",
    "# An instance has to reference a template - here we use the SensorTemplateLink's key that we got\n",
    "camera_i_2.sensor_guid = sensor_t_new.key\n",
    "# just above.\n",
    "camera_i_2.camera_properties.axis_system.extend(\n",
    "    [50, 50, 50, 1, 0, 0, 0, 1, 0, 0, 0, 1]\n",
    ")  # Choose axis system\n",
    "camera_i_2.camera_properties.layer_type_source.SetInParent()  # choose separation by source"
   ]
  },
  {
   "cell_type": "markdown",
   "id": "4bb1836c",
   "metadata": {},
   "source": [
    "### Add this instance in our scene"
   ]
  },
  {
   "cell_type": "code",
   "execution_count": 13,
   "id": "d9a3da9c",
   "metadata": {
    "execution": {
     "iopub.execute_input": "2025-06-17T07:16:08.596254Z",
     "iopub.status.busy": "2025-06-17T07:16:08.596066Z",
     "iopub.status.idle": "2025-06-17T07:16:08.632499Z",
     "shell.execute_reply": "2025-06-17T07:16:08.631769Z"
    }
   },
   "outputs": [
    {
     "name": "stdout",
     "output_type": "stream",
     "text": [
      "ansys.api.speos.scene.v2.Scene\n",
      "{\n",
      "    \"name\": \"Inverse_SeveralSensors\",\n",
      "    \"description\": \"From /app/assets/Inverse_SeveralSensors.speos/Inverse_SeveralSensors.speos\",\n",
      "    \"part_guid\": \"c2917166-a493-47d6-a0db-928b67b240e2\",\n",
      "    \"sources\": [\n",
      "        {\n",
      "            \"name\": \"Surface.1:1\",\n",
      "            \"source_guid\": \"7d3156d3-760e-4fc0-ab94-776418d63542\",\n",
      "            \"surface_properties\": {\n",
      "                \"exitance_constant_properties\": {\n",
      "                    \"geo_paths\": [\n",
      "                        {\n",
      "                            \"geo_path\": \"Corps:2408912477/face.1:3892963602\",\n",
      "                            \"reverse_normal\": false\n",
      "                        }\n",
      "                    ]\n",
      "                }\n",
      "            },\n",
      "            \"description\": \"\",\n",
      "            \"metadata\": {}\n",
      "        },\n",
      "        {\n",
      "            \"name\": \"Surface.2:1\",\n",
      "            \"source_guid\": \"fdf3bba0-4b75-414e-87cc-235d0bff1682\",\n",
      "            \"surface_properties\": {\n",
      "                \"exitance_constant_properties\": {\n",
      "                    \"geo_paths\": [\n",
      "                        {\n",
      "                            \"geo_path\": \"Corps:1976534910/face.1:889032133\",\n",
      "                            \"reverse_normal\": false\n",
      "                        }\n",
      "                    ]\n",
      "                }\n",
      "            },\n",
      "            \"description\": \"\",\n",
      "            \"metadata\": {}\n",
      "        }\n",
      "    ],\n",
      "    \"sensors\": [\n",
      "        {\n",
      "            \"name\": \"Camera.1:21\",\n",
      "            \"sensor_guid\": \"508e7f58-1f88-4856-90cb-2294e374945d\",\n",
      "            \"result_file_name\": \"Inverse.1.Camera.1\",\n",
      "            \"camera_properties\": {\n",
      "                \"axis_system\": [\n",
      "                    17.0,\n",
      "                    10.0,\n",
      "                    15.0,\n",
      "                    0.0,\n",
      "                    0.0,\n",
      "                    -1.0,\n",
      "                    0.0,\n",
      "                    1.0,\n",
      "                    0.0,\n",
      "                    1.0,\n",
      "                    0.0,\n",
      "                    0.0\n",
      "                ],\n",
      "                \"layer_type_none\": {},\n",
      "                \"trajectory_file_uri\": \"\"\n",
      "            },\n",
      "            \"description\": \"\",\n",
      "            \"metadata\": {}\n",
      "        },\n",
      "        {\n",
      "            \"name\": \"Irradiance.1:28\",\n",
      "            \"sensor_guid\": \"0fec3381-c1ff-4664-9510-8b8ae05efff2\",\n",
      "            \"result_file_name\": \"Inverse.1.Irradiance.1\",\n",
      "            \"irradiance_properties\": {\n",
      "                \"axis_system\": [\n",
      "                    0.0,\n",
      "                    0.0,\n",
      "                    0.0,\n",
      "                    0.0,\n",
      "                    0.0,\n",
      "                    1.0,\n",
      "                    0.0,\n",
      "                    1.0,\n",
      "                    -0.0,\n",
      "                    -1.0,\n",
      "                    0.0,\n",
      "                    0.0\n",
      "                ],\n",
      "                \"layer_type_sequence\": {\n",
      "                    \"maximum_nb_of_sequence\": 10,\n",
      "                    \"define_sequence_per\": \"Faces\"\n",
      "                },\n",
      "                \"ray_file_type\": \"RayFileNone\",\n",
      "                \"integration_direction\": []\n",
      "            },\n",
      "            \"description\": \"\",\n",
      "            \"metadata\": {}\n",
      "        },\n",
      "        {\n",
      "            \"name\": \"CameraFromScratch.1\",\n",
      "            \"sensor_guid\": \"1e42ffad-b69f-4d6a-a4ea-4381883c79c7\",\n",
      "            \"camera_properties\": {\n",
      "                \"axis_system\": [\n",
      "                    50.0,\n",
      "                    50.0,\n",
      "                    50.0,\n",
      "                    1.0,\n",
      "                    0.0,\n",
      "                    0.0,\n",
      "                    0.0,\n",
      "                    1.0,\n",
      "                    0.0,\n",
      "                    0.0,\n",
      "                    0.0,\n",
      "                    1.0\n",
      "                ],\n",
      "                \"layer_type_source\": {},\n",
      "                \"trajectory_file_uri\": \"\"\n",
      "            },\n",
      "            \"description\": \"\",\n",
      "            \"metadata\": {},\n",
      "            \"result_file_name\": \"\"\n",
      "        }\n",
      "    ],\n",
      "    \"simulations\": [\n",
      "        {\n",
      "            \"name\": \"Inverse.1\",\n",
      "            \"simulation_guid\": \"0badf9da-f4e3-4a9c-8e37-ab8f49268558\",\n",
      "            \"sensor_paths\": [\n",
      "                \"Camera.1:21\",\n",
      "                \"Irradiance.1:28\",\n",
      "                \"CameraFromScratch.1\"\n",
      "            ],\n",
      "            \"source_paths\": [\n",
      "                \"Surface.1:1\",\n",
      "                \"Surface.2:1\"\n",
      "            ],\n",
      "            \"description\": \"\",\n",
      "            \"metadata\": {}\n",
      "        }\n",
      "    ],\n",
      "    \"materials\": [\n",
      "        {\n",
      "            \"name\": \"Material.1\",\n",
      "            \"vop_guid\": \"975f32be-a9c6-4420-a121-c78b728a7882\",\n",
      "            \"sop_guids\": [\n",
      "                \"82a9c55a-0ce7-49a2-8047-0b539f4b2092\"\n",
      "            ],\n",
      "            \"geometries\": {\n",
      "                \"geo_paths\": [\n",
      "                    \"Corps:2408912477\",\n",
      "                    \"Corps:1976534910\"\n",
      "                ]\n",
      "            },\n",
      "            \"description\": \"\",\n",
      "            \"metadata\": {}\n",
      "        },\n",
      "        {\n",
      "            \"name\": \"Material.2\",\n",
      "            \"vop_guid\": \"21a70370-6779-432b-bcd6-012280c053b2\",\n",
      "            \"description\": \"\",\n",
      "            \"metadata\": {},\n",
      "            \"sop_guids\": []\n",
      "        }\n",
      "    ],\n",
      "    \"metadata\": {},\n",
      "    \"scenes\": []\n",
      "}\n"
     ]
    }
   ],
   "source": [
    "my_scene_data = my_scene.get()  # Retrieve scene datamodel\n",
    "\n",
    "# Modify scene datamodel to add our camera instance\n",
    "my_scene_data.sensors.append(camera_i_2)\n",
    "\n",
    "# We can also reference it in the first simulation, so that it will be taken into account by this\n",
    "# simulation\n",
    "my_scene_data.simulations[0].sensor_paths.append(camera_i_2.name)  # We reference by name\n",
    "\n",
    "# Update value in db\n",
    "my_scene.set(my_scene_data)\n",
    "\n",
    "# Check scene data after update\n",
    "print(my_scene)"
   ]
  },
  {
   "cell_type": "markdown",
   "id": "a0ffa637",
   "metadata": {
    "lines_to_next_cell": 2
   },
   "source": [
    "When loading a speos file into a scene, this creates many objects\n",
    "(source templates, sensor templates, vop template, sop templates).\n",
    "Then at the end of the example, we just clean all databases"
   ]
  },
  {
   "cell_type": "code",
   "execution_count": 14,
   "id": "05cb759d",
   "metadata": {
    "execution": {
     "iopub.execute_input": "2025-06-17T07:16:08.634789Z",
     "iopub.status.busy": "2025-06-17T07:16:08.634452Z",
     "iopub.status.idle": "2025-06-17T07:16:08.688540Z",
     "shell.execute_reply": "2025-06-17T07:16:08.687998Z"
    }
   },
   "outputs": [],
   "source": [
    "for item in (\n",
    "    speos.client.scenes().list()\n",
    "    + speos.client.simulation_templates().list()\n",
    "    + speos.client.sensor_templates().list()\n",
    "    + speos.client.source_templates().list()\n",
    "    + speos.client.intensity_templates().list()\n",
    "    + speos.client.spectrums().list()\n",
    "    + speos.client.vop_templates().list()\n",
    "    + speos.client.sop_templates().list()\n",
    "    + speos.client.parts().list()\n",
    "    + speos.client.bodies().list()\n",
    "    + speos.client.faces().list()\n",
    "):\n",
    "    item.delete()"
   ]
  },
  {
   "cell_type": "code",
   "execution_count": 15,
   "id": "3002f620",
   "metadata": {
    "execution": {
     "iopub.execute_input": "2025-06-17T07:16:08.690312Z",
     "iopub.status.busy": "2025-06-17T07:16:08.690125Z",
     "iopub.status.idle": "2025-06-17T07:16:08.696700Z",
     "shell.execute_reply": "2025-06-17T07:16:08.696144Z"
    }
   },
   "outputs": [
    {
     "data": {
      "text/plain": [
       "True"
      ]
     },
     "execution_count": 15,
     "metadata": {},
     "output_type": "execute_result"
    }
   ],
   "source": [
    "speos.close()"
   ]
  }
 ],
 "metadata": {
  "jupytext": {
   "cell_metadata_filter": "-all",
   "main_language": "python",
   "notebook_metadata_filter": "-all",
   "text_representation": {
    "extension": ".py",
    "format_name": "light"
   }
  },
  "language_info": {
   "codemirror_mode": {
    "name": "ipython",
    "version": 3
   },
   "file_extension": ".py",
   "mimetype": "text/x-python",
   "name": "python",
   "nbconvert_exporter": "python",
   "pygments_lexer": "ipython3",
   "version": "3.10.17"
  }
 },
 "nbformat": 4,
 "nbformat_minor": 5
}
