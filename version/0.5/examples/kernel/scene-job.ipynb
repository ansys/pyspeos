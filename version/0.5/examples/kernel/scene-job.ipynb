{
 "cells": [
  {
   "cell_type": "markdown",
   "id": "e235729d",
   "metadata": {},
   "source": [
    "# How to use scene and job"
   ]
  },
  {
   "cell_type": "markdown",
   "id": "f3e058df",
   "metadata": {},
   "source": [
    "This tutorial demonstrates how to create a scene, and fill it from a speos file.\n",
    "Then this demonstrates how to create a job from the scene, and run it."
   ]
  },
  {
   "cell_type": "markdown",
   "id": "68e85bcf",
   "metadata": {},
   "source": [
    "## Prerequisites\n",
    "\n",
    "### Perform imports"
   ]
  },
  {
   "cell_type": "code",
   "execution_count": 1,
   "id": "c128ce93",
   "metadata": {
    "execution": {
     "iopub.execute_input": "2025-06-17T07:16:13.567070Z",
     "iopub.status.busy": "2025-06-17T07:16:13.566875Z",
     "iopub.status.idle": "2025-06-17T07:16:14.399588Z",
     "shell.execute_reply": "2025-06-17T07:16:14.398832Z"
    }
   },
   "outputs": [],
   "source": [
    "from pathlib import Path\n",
    "import time\n",
    "\n",
    "from ansys.speos.core import launcher\n",
    "from ansys.speos.core.kernel.job import ProtoJob\n",
    "from ansys.speos.core.speos import Speos\n",
    "\n",
    "# ### Define constants\n",
    "# Constants help ensure consistency and avoid repetition throughout the example.\n",
    "\n",
    "HOSTNAME = \"localhost\"\n",
    "GRPC_PORT = 50098  # Be sure the Speos GRPC Server has been started on this port.\n",
    "USE_DOCKER = True  # Set to False if you're running this example locally as a Notebook.\n",
    "\n",
    "# ### Load assets\n",
    "# The assets used to run this example are available in the\n",
    "# [PySpeos repository](https://github.com/ansys/pyspeos/) on GitHub.\n",
    "#\n",
    "# > **Note:** Make sure you\n",
    "# > have downloaded simulation assets and set ``assets_data_path``\n",
    "# > to point to the assets folder.\n",
    "\n",
    "if USE_DOCKER:  # Running on the remote server.\n",
    "    assets_data_path = Path(\"/app\") / \"assets\"\n",
    "else:\n",
    "    assets_data_path = Path(\"/path/to/your/download/assets/directory\")\n",
    "\n",
    "\n",
    "# ### Start/Connect to Speos RPC Server\n",
    "# This Python client connects to a server where the Speos engine\n",
    "# is running as a service. In this example, the server and\n",
    "# client are the same machine. The launch_local_speos_rpc_method can\n",
    "# be used to start a local instance of the service.\n",
    "\n",
    "if USE_DOCKER:\n",
    "    speos = Speos(host=HOSTNAME, port=GRPC_PORT)\n",
    "else:\n",
    "    speos = launcher.launch_local_speos_rpc_server(port=GRPC_PORT)\n",
    "\n",
    "# ## Scene\n",
    "\n",
    "# Create an empty scene"
   ]
  },
  {
   "cell_type": "code",
   "execution_count": 2,
   "id": "f7dd3b8c",
   "metadata": {
    "execution": {
     "iopub.execute_input": "2025-06-17T07:16:14.402336Z",
     "iopub.status.busy": "2025-06-17T07:16:14.401688Z",
     "iopub.status.idle": "2025-06-17T07:16:14.406062Z",
     "shell.execute_reply": "2025-06-17T07:16:14.405387Z"
    }
   },
   "outputs": [],
   "source": [
    "my_scene = speos.client.scenes().create()"
   ]
  },
  {
   "cell_type": "markdown",
   "id": "c03628be",
   "metadata": {},
   "source": [
    "Load a file to fill the scene"
   ]
  },
  {
   "cell_type": "code",
   "execution_count": 3,
   "id": "c4df4bbe",
   "metadata": {
    "execution": {
     "iopub.execute_input": "2025-06-17T07:16:14.408272Z",
     "iopub.status.busy": "2025-06-17T07:16:14.407890Z",
     "iopub.status.idle": "2025-06-17T07:16:14.416944Z",
     "shell.execute_reply": "2025-06-17T07:16:14.416383Z"
    }
   },
   "outputs": [],
   "source": [
    "speos_file = str(\n",
    "    assets_data_path / \"LG_50M_Colorimetric_short.sv5\" / \"LG_50M_Colorimetric_short.sv5\"\n",
    ")\n",
    "my_scene.load_file(file_uri=speos_file)"
   ]
  },
  {
   "cell_type": "markdown",
   "id": "b336c957",
   "metadata": {},
   "source": [
    "Print scene data model"
   ]
  },
  {
   "cell_type": "markdown",
   "id": "12353440",
   "metadata": {},
   "source": [
    "Here it is possible to see that the scene contains two surface sources, one irradiance sensor."
   ]
  },
  {
   "cell_type": "code",
   "execution_count": 4,
   "id": "cc4363d5",
   "metadata": {
    "execution": {
     "iopub.execute_input": "2025-06-17T07:16:14.419143Z",
     "iopub.status.busy": "2025-06-17T07:16:14.418737Z",
     "iopub.status.idle": "2025-06-17T07:16:14.424261Z",
     "shell.execute_reply": "2025-06-17T07:16:14.423688Z"
    }
   },
   "outputs": [
    {
     "name": "stdout",
     "output_type": "stream",
     "text": [
      "ansys.api.speos.scene.v2.Scene\n",
      "{\n",
      "    \"name\": \"LG_50M_Colorimetric_short\",\n",
      "    \"description\": \"From /app/assets/LG_50M_Colorimetric_short.sv5/LG_50M_Colorimetric_short.sv5\",\n",
      "    \"part_guid\": \"ec66b9f6-0f49-4e5e-a562-27adbea65496\",\n",
      "    \"sources\": [\n",
      "        {\n",
      "            \"name\": \"Dom Source 2 (0) in SOURCE2\",\n",
      "            \"source_guid\": \"7ab1dbb8-b473-46d1-8673-132814af8b46\",\n",
      "            \"surface_properties\": {\n",
      "                \"exitance_constant_properties\": {\n",
      "                    \"geo_paths\": [\n",
      "                        {\n",
      "                            \"geo_path\": \"Solid Body in SOURCE2:2920204960/Face in SOURCE2:222\",\n",
      "                            \"reverse_normal\": false\n",
      "                        }\n",
      "                    ]\n",
      "                }\n",
      "            },\n",
      "            \"description\": \"\",\n",
      "            \"metadata\": {}\n",
      "        },\n",
      "        {\n",
      "            \"name\": \"Surface Source (0) in SOURCE1\",\n",
      "            \"source_guid\": \"97d86dca-fc95-4f99-89f1-3fc7b0da09cb\",\n",
      "            \"surface_properties\": {\n",
      "                \"exitance_constant_properties\": {\n",
      "                    \"geo_paths\": [\n",
      "                        {\n",
      "                            \"geo_path\": \"Solid Body in SOURCE1:2494956811/Face in SOURCE1:187\",\n",
      "                            \"reverse_normal\": false\n",
      "                        }\n",
      "                    ]\n",
      "                }\n",
      "            },\n",
      "            \"description\": \"\",\n",
      "            \"metadata\": {}\n",
      "        }\n",
      "    ],\n",
      "    \"sensors\": [\n",
      "        {\n",
      "            \"name\": \"Dom Irradiance Sensor (0)\",\n",
      "            \"sensor_guid\": \"ffd71127-4d76-4efc-ac22-ce04a887b08c\",\n",
      "            \"result_file_name\": \"ASSEMBLY1.DS (0).Dom Irradiance Sensor (0)\",\n",
      "            \"irradiance_properties\": {\n",
      "                \"axis_system\": [\n",
      "                    -42.0,\n",
      "                    2.0,\n",
      "                    5.0,\n",
      "                    0.0,\n",
      "                    1.0,\n",
      "                    0.0,\n",
      "                    0.0,\n",
      "                    0.0,\n",
      "                    -1.0,\n",
      "                    -1.0,\n",
      "                    0.0,\n",
      "                    0.0\n",
      "                ],\n",
      "                \"layer_type_source\": {},\n",
      "                \"integration_direction\": [\n",
      "                    1.0,\n",
      "                    -0.0,\n",
      "                    -0.0\n",
      "                ],\n",
      "                \"ray_file_type\": \"RayFileNone\"\n",
      "            },\n",
      "            \"description\": \"\",\n",
      "            \"metadata\": {}\n",
      "        }\n",
      "    ],\n",
      "    \"simulations\": [\n",
      "        {\n",
      "            \"name\": \"ASSEMBLY1.DS (0)\",\n",
      "            \"simulation_guid\": \"f1128668-2a78-49cd-8442-00c73341448a\",\n",
      "            \"sensor_paths\": [\n",
      "                \"Dom Irradiance Sensor (0)\"\n",
      "            ],\n",
      "            \"source_paths\": [\n",
      "                \"Dom Source 2 (0) in SOURCE2\",\n",
      "                \"Surface Source (0) in SOURCE1\"\n",
      "            ],\n",
      "            \"description\": \"\",\n",
      "            \"metadata\": {}\n",
      "        }\n",
      "    ],\n",
      "    \"materials\": [\n",
      "        {\n",
      "            \"name\": \"Material.1\",\n",
      "            \"sop_guids\": [\n",
      "                \"1149f023-8c5c-432a-ae4e-577c51c1649f\"\n",
      "            ],\n",
      "            \"geometries\": {\n",
      "                \"geo_paths\": [\n",
      "                    \"Solid Body in GUIDE:1379760262/Face in GUIDE:169\"\n",
      "                ]\n",
      "            },\n",
      "            \"description\": \"\",\n",
      "            \"metadata\": {}\n",
      "        },\n",
      "        {\n",
      "            \"name\": \"Material.2\",\n",
      "            \"vop_guid\": \"b275cae0-4104-49fe-a7a7-3843b7c8bf39\",\n",
      "            \"sop_guids\": [\n",
      "                \"1149f023-8c5c-432a-ae4e-577c51c1649f\"\n",
      "            ],\n",
      "            \"geometries\": {\n",
      "                \"geo_paths\": [\n",
      "                    \"Solid Body in SOURCE2:2920204960\",\n",
      "                    \"Solid Body in SOURCE1:2494956811\"\n",
      "                ]\n",
      "            },\n",
      "            \"description\": \"\",\n",
      "            \"metadata\": {}\n",
      "        },\n",
      "        {\n",
      "            \"name\": \"Material.3\",\n",
      "            \"vop_guid\": \"fd3af97e-7562-4e0c-a594-f6458d071d6a\",\n",
      "            \"sop_guids\": [\n",
      "                \"f03ea377-e70f-4f5f-8510-24652ae30254\"\n",
      "            ],\n",
      "            \"geometries\": {\n",
      "                \"geo_paths\": [\n",
      "                    \"Solid Body in GUIDE:1379760262\"\n",
      "                ]\n",
      "            },\n",
      "            \"description\": \"\",\n",
      "            \"metadata\": {}\n",
      "        },\n",
      "        {\n",
      "            \"name\": \"Material.4\",\n",
      "            \"vop_guid\": \"f5f9a5ab-dc21-4a34-bb45-96ff318c20e6\",\n",
      "            \"description\": \"\",\n",
      "            \"metadata\": {},\n",
      "            \"sop_guids\": []\n",
      "        }\n",
      "    ],\n",
      "    \"metadata\": {},\n",
      "    \"scenes\": []\n",
      "}\n"
     ]
    }
   ],
   "source": [
    "print(my_scene)"
   ]
  },
  {
   "cell_type": "markdown",
   "id": "63b47ba8",
   "metadata": {},
   "source": [
    "## Job"
   ]
  },
  {
   "cell_type": "markdown",
   "id": "97fde43b",
   "metadata": {},
   "source": [
    "Create a job for the first simulation. When loaded from a speos file, there is always only one\n",
    "simulation in the scene."
   ]
  },
  {
   "cell_type": "code",
   "execution_count": 5,
   "id": "40f14161",
   "metadata": {
    "execution": {
     "iopub.execute_input": "2025-06-17T07:16:14.426351Z",
     "iopub.status.busy": "2025-06-17T07:16:14.425977Z",
     "iopub.status.idle": "2025-06-17T07:16:14.506360Z",
     "shell.execute_reply": "2025-06-17T07:16:14.505670Z"
    }
   },
   "outputs": [],
   "source": [
    "# First create the protobuf message\n",
    "job_message = ProtoJob(name=\"my_job\")\n",
    "job_message.scene_guid = my_scene.key  # The job needs a scene guid\n",
    "job_message.simulation_path = (\n",
    "    my_scene.get().simulations[0].name\n",
    ")  # And needs to know which simulation in the scene is involved.\n",
    "job_message.job_type = ProtoJob.Type.CPU  # Choose type of job, can also be GPU.\n",
    "job_message.direct_mc_simulation_properties.automatic_save_frequency = 1800\n",
    "job_message.direct_mc_simulation_properties.stop_condition_rays_number = (\n",
    "    200000  # Stop condition, here 200000 rays will be sent.\n",
    ")\n",
    "\n",
    "# Create the JobLink\n",
    "job_link = speos.client.jobs().create(message=job_message)"
   ]
  },
  {
   "cell_type": "markdown",
   "id": "9c7567da",
   "metadata": {},
   "source": [
    "Start the job"
   ]
  },
  {
   "cell_type": "code",
   "execution_count": 6,
   "id": "78af15de",
   "metadata": {
    "execution": {
     "iopub.execute_input": "2025-06-17T07:16:14.508865Z",
     "iopub.status.busy": "2025-06-17T07:16:14.508478Z",
     "iopub.status.idle": "2025-06-17T07:16:14.512755Z",
     "shell.execute_reply": "2025-06-17T07:16:14.512042Z"
    }
   },
   "outputs": [],
   "source": [
    "job_link.start()"
   ]
  },
  {
   "cell_type": "markdown",
   "id": "7e778f87",
   "metadata": {},
   "source": [
    "Verify state of the job"
   ]
  },
  {
   "cell_type": "code",
   "execution_count": 7,
   "id": "9afd2d8b",
   "metadata": {
    "execution": {
     "iopub.execute_input": "2025-06-17T07:16:14.515054Z",
     "iopub.status.busy": "2025-06-17T07:16:14.514559Z",
     "iopub.status.idle": "2025-06-17T07:16:14.521301Z",
     "shell.execute_reply": "2025-06-17T07:16:14.520755Z"
    }
   },
   "outputs": [
    {
     "data": {
      "text/plain": [
       "state: RUNNING"
      ]
     },
     "execution_count": 7,
     "metadata": {},
     "output_type": "execute_result"
    }
   ],
   "source": [
    "job_link.get_state()"
   ]
  },
  {
   "cell_type": "markdown",
   "id": "ca6c9ec7",
   "metadata": {},
   "source": [
    "Wait that the job is finished"
   ]
  },
  {
   "cell_type": "code",
   "execution_count": 8,
   "id": "52d0b439",
   "metadata": {
    "execution": {
     "iopub.execute_input": "2025-06-17T07:16:14.523143Z",
     "iopub.status.busy": "2025-06-17T07:16:14.522956Z",
     "iopub.status.idle": "2025-06-17T07:16:20.537271Z",
     "shell.execute_reply": "2025-06-17T07:16:20.536505Z"
    }
   },
   "outputs": [],
   "source": [
    "job_state_res = job_link.get_state()\n",
    "while (\n",
    "    job_state_res.state != ProtoJob.State.FINISHED\n",
    "    and job_state_res.state != ProtoJob.State.STOPPED\n",
    "    and job_state_res.state != ProtoJob.State.IN_ERROR\n",
    "):\n",
    "    time.sleep(2)\n",
    "\n",
    "    job_state_res = job_link.get_state()"
   ]
  },
  {
   "cell_type": "markdown",
   "id": "acff044b",
   "metadata": {},
   "source": [
    "Retrieve results of the job"
   ]
  },
  {
   "cell_type": "markdown",
   "id": "4053e25a",
   "metadata": {},
   "source": [
    "Two results are generated : the result of irradiance sensor:\n",
    "\"ASSEMBLY1.DS (0).Dom Irradiance Sensor (0).xmp\" and the simulation report in html"
   ]
  },
  {
   "cell_type": "code",
   "execution_count": 9,
   "id": "60f68816",
   "metadata": {
    "execution": {
     "iopub.execute_input": "2025-06-17T07:16:20.539602Z",
     "iopub.status.busy": "2025-06-17T07:16:20.539397Z",
     "iopub.status.idle": "2025-06-17T07:16:20.547364Z",
     "shell.execute_reply": "2025-06-17T07:16:20.546775Z"
    }
   },
   "outputs": [
    {
     "name": "stdout",
     "output_type": "stream",
     "text": [
      "[upload_response {\n",
      "  info {\n",
      "    uri: \"931198a3-ea95-4327-b55e-bd187942fb45\"\n",
      "    file_name: \"ASSEMBLY1.DS (0).Dom Irradiance Sensor (0).xmp\"\n",
      "    file_size: 1444015\n",
      "  }\n",
      "  upload_duration {\n",
      "    nanos: 2481561\n",
      "  }\n",
      "}\n",
      ", upload_response {\n",
      "  info {\n",
      "    uri: \"42fc92ee-c067-40d4-88f9-de89dc08cf79\"\n",
      "    file_name: \"ASSEMBLY1.DS (0).html\"\n",
      "    file_size: 511279\n",
      "  }\n",
      "  upload_duration {\n",
      "    nanos: 817529\n",
      "  }\n",
      "}\n",
      "]\n"
     ]
    }
   ],
   "source": [
    "results = job_link.get_results().results\n",
    "print(results)"
   ]
  },
  {
   "cell_type": "markdown",
   "id": "de736b2d",
   "metadata": {
    "lines_to_next_cell": 2
   },
   "source": [
    "Once no more needed: delete the job"
   ]
  },
  {
   "cell_type": "code",
   "execution_count": 10,
   "id": "781ee7bb",
   "metadata": {
    "execution": {
     "iopub.execute_input": "2025-06-17T07:16:20.549245Z",
     "iopub.status.busy": "2025-06-17T07:16:20.549059Z",
     "iopub.status.idle": "2025-06-17T07:16:20.558604Z",
     "shell.execute_reply": "2025-06-17T07:16:20.557954Z"
    },
    "lines_to_next_cell": 2
   },
   "outputs": [],
   "source": [
    "job_link.delete()"
   ]
  },
  {
   "cell_type": "markdown",
   "id": "28877352",
   "metadata": {
    "lines_to_next_cell": 2
   },
   "source": [
    "When loading a speos file into a scene, this creates many objects\n",
    "(source templates, sensor templates, vop template, sop templates).\n",
    "Then at the end of the example, we just clean all databases"
   ]
  },
  {
   "cell_type": "code",
   "execution_count": 11,
   "id": "19fab56d",
   "metadata": {
    "execution": {
     "iopub.execute_input": "2025-06-17T07:16:20.560781Z",
     "iopub.status.busy": "2025-06-17T07:16:20.560404Z",
     "iopub.status.idle": "2025-06-17T07:16:20.581377Z",
     "shell.execute_reply": "2025-06-17T07:16:20.580725Z"
    }
   },
   "outputs": [],
   "source": [
    "for item in (\n",
    "    speos.client.scenes().list()\n",
    "    + speos.client.simulation_templates().list()\n",
    "    + speos.client.sensor_templates().list()\n",
    "    + speos.client.source_templates().list()\n",
    "    + speos.client.intensity_templates().list()\n",
    "    + speos.client.spectrums().list()\n",
    "    + speos.client.vop_templates().list()\n",
    "    + speos.client.sop_templates().list()\n",
    "    + speos.client.parts().list()\n",
    "    + speos.client.bodies().list()\n",
    "    + speos.client.faces().list()\n",
    "):\n",
    "    item.delete()"
   ]
  },
  {
   "cell_type": "code",
   "execution_count": 12,
   "id": "d0257f85",
   "metadata": {
    "execution": {
     "iopub.execute_input": "2025-06-17T07:16:20.583575Z",
     "iopub.status.busy": "2025-06-17T07:16:20.583203Z",
     "iopub.status.idle": "2025-06-17T07:16:20.587930Z",
     "shell.execute_reply": "2025-06-17T07:16:20.587375Z"
    }
   },
   "outputs": [
    {
     "data": {
      "text/plain": [
       "True"
      ]
     },
     "execution_count": 12,
     "metadata": {},
     "output_type": "execute_result"
    }
   ],
   "source": [
    "speos.close()"
   ]
  }
 ],
 "metadata": {
  "jupytext": {
   "cell_metadata_filter": "-all",
   "main_language": "python",
   "notebook_metadata_filter": "-all",
   "text_representation": {
    "extension": ".py",
    "format_name": "light"
   }
  },
  "language_info": {
   "codemirror_mode": {
    "name": "ipython",
    "version": 3
   },
   "file_extension": ".py",
   "mimetype": "text/x-python",
   "name": "python",
   "nbconvert_exporter": "python",
   "pygments_lexer": "ipython3",
   "version": "3.10.17"
  }
 },
 "nbformat": 4,
 "nbformat_minor": 5
}
