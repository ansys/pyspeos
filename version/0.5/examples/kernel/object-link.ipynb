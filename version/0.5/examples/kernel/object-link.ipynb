{
 "cells": [
  {
   "cell_type": "code",
   "execution_count": 1,
   "id": "021774f3",
   "metadata": {
    "execution": {
     "iopub.execute_input": "2025-06-17T07:16:10.805633Z",
     "iopub.status.busy": "2025-06-17T07:16:10.805446Z",
     "iopub.status.idle": "2025-06-17T07:16:11.642325Z",
     "shell.execute_reply": "2025-06-17T07:16:11.641634Z"
    }
   },
   "outputs": [],
   "source": [
    "# # How to use an ObjectLink\n",
    "from ansys.speos.core import launcher"
   ]
  },
  {
   "cell_type": "code",
   "execution_count": 2,
   "id": "8029d8dd",
   "metadata": {
    "execution": {
     "iopub.execute_input": "2025-06-17T07:16:11.645027Z",
     "iopub.status.busy": "2025-06-17T07:16:11.644519Z",
     "iopub.status.idle": "2025-06-17T07:16:11.647571Z",
     "shell.execute_reply": "2025-06-17T07:16:11.647041Z"
    },
    "lines_to_next_cell": 0
   },
   "outputs": [],
   "source": [
    "# This tutorial demonstrates how to use speos objects in layer core.\n",
    "# ## What is an ObjectLink?\n",
    "# The ObjectLink is an object that is created from a protobuf message and then stored in the server\n",
    "# database.\n",
    "# ## Which speos objects are used via ObjectLink?\n",
    "# Almost all speos objects are used via ObjectLink: like sources, sensors, simulations and more.\n",
    "# For this tutorial we will use as example the surface optical property (sop)\n",
    "# ## Prerequisites\n",
    "#\n",
    "# ### Perform imports"
   ]
  },
  {
   "cell_type": "code",
   "execution_count": 3,
   "id": "4eba5492",
   "metadata": {
    "execution": {
     "iopub.execute_input": "2025-06-17T07:16:11.649581Z",
     "iopub.status.busy": "2025-06-17T07:16:11.649203Z",
     "iopub.status.idle": "2025-06-17T07:16:11.652180Z",
     "shell.execute_reply": "2025-06-17T07:16:11.651639Z"
    },
    "lines_to_next_cell": 0
   },
   "outputs": [],
   "source": [
    "from ansys.speos.core.kernel.sop_template import ProtoSOPTemplate\n",
    "from ansys.speos.core.speos import Speos\n"
   ]
  },
  {
   "cell_type": "markdown",
   "id": "92e505a8",
   "metadata": {},
   "source": [
    "### Define constants\n",
    "Constants help ensure consistency and avoid repetition throughout the example."
   ]
  },
  {
   "cell_type": "code",
   "execution_count": 4,
   "id": "a1c59785",
   "metadata": {
    "execution": {
     "iopub.execute_input": "2025-06-17T07:16:11.653948Z",
     "iopub.status.busy": "2025-06-17T07:16:11.653746Z",
     "iopub.status.idle": "2025-06-17T07:16:11.656794Z",
     "shell.execute_reply": "2025-06-17T07:16:11.656238Z"
    }
   },
   "outputs": [],
   "source": [
    "HOSTNAME = \"localhost\"\n",
    "GRPC_PORT = 50098  # Be sure the Speos GRPC Server has been started on this port.\n",
    "USE_DOCKER = True  # Set to False if you're running this example locally as a Notebook."
   ]
  },
  {
   "cell_type": "markdown",
   "id": "51d867e4",
   "metadata": {},
   "source": [
    "### Start/Connect to Speos RPC Server\n",
    "This Python client connects to a server where the Speos engine\n",
    "is running as a service. In this example, the server and\n",
    "client are the same machine. The launch_local_speos_rpc_method can\n",
    "be used to start a local instance of the service."
   ]
  },
  {
   "cell_type": "code",
   "execution_count": 5,
   "id": "99ece323",
   "metadata": {
    "execution": {
     "iopub.execute_input": "2025-06-17T07:16:11.658857Z",
     "iopub.status.busy": "2025-06-17T07:16:11.658470Z",
     "iopub.status.idle": "2025-06-17T07:16:11.664791Z",
     "shell.execute_reply": "2025-06-17T07:16:11.664260Z"
    }
   },
   "outputs": [],
   "source": [
    "if USE_DOCKER:\n",
    "    speos = Speos(host=HOSTNAME, port=GRPC_PORT)\n",
    "else:\n",
    "    speos = launcher.launch_local_speos_rpc_server(port=GRPC_PORT)"
   ]
  },
  {
   "cell_type": "markdown",
   "id": "24459785",
   "metadata": {},
   "source": [
    "## Create an ObjectLink"
   ]
  },
  {
   "cell_type": "markdown",
   "id": "be9f3de0",
   "metadata": {},
   "source": [
    "Retrieve the access to the database."
   ]
  },
  {
   "cell_type": "code",
   "execution_count": 6,
   "id": "b2b689f2",
   "metadata": {
    "execution": {
     "iopub.execute_input": "2025-06-17T07:16:11.666789Z",
     "iopub.status.busy": "2025-06-17T07:16:11.666421Z",
     "iopub.status.idle": "2025-06-17T07:16:11.669600Z",
     "shell.execute_reply": "2025-06-17T07:16:11.669043Z"
    }
   },
   "outputs": [],
   "source": [
    "sop_t_db = speos.client.sop_templates()"
   ]
  },
  {
   "cell_type": "markdown",
   "id": "ea8c87c5",
   "metadata": {},
   "source": [
    "Create the protobuf message."
   ]
  },
  {
   "cell_type": "code",
   "execution_count": 7,
   "id": "48d96d2b",
   "metadata": {
    "execution": {
     "iopub.execute_input": "2025-06-17T07:16:11.671280Z",
     "iopub.status.busy": "2025-06-17T07:16:11.671102Z",
     "iopub.status.idle": "2025-06-17T07:16:11.674227Z",
     "shell.execute_reply": "2025-06-17T07:16:11.673665Z"
    }
   },
   "outputs": [],
   "source": [
    "sop_t = ProtoSOPTemplate()\n",
    "sop_t.name = \"Mirror_90\"\n",
    "sop_t.mirror.reflectance = 90.0"
   ]
  },
  {
   "cell_type": "markdown",
   "id": "3bac99a9",
   "metadata": {},
   "source": [
    "Create the ObjectLink (here a SOPTemplateLink)."
   ]
  },
  {
   "cell_type": "code",
   "execution_count": 8,
   "id": "62ea7be1",
   "metadata": {
    "execution": {
     "iopub.execute_input": "2025-06-17T07:16:11.676219Z",
     "iopub.status.busy": "2025-06-17T07:16:11.675832Z",
     "iopub.status.idle": "2025-06-17T07:16:11.681875Z",
     "shell.execute_reply": "2025-06-17T07:16:11.681219Z"
    }
   },
   "outputs": [
    {
     "name": "stdout",
     "output_type": "stream",
     "text": [
      "ansys.api.speos.sop.v1.SOPTemplate\n",
      "{\n",
      "    \"name\": \"Mirror_90\",\n",
      "    \"mirror\": {\n",
      "        \"reflectance\": 90.0\n",
      "    },\n",
      "    \"description\": \"\",\n",
      "    \"metadata\": {}\n",
      "}\n"
     ]
    }
   ],
   "source": [
    "mirror_90_link = sop_t_db.create(message=sop_t)\n",
    "print(mirror_90_link)"
   ]
  },
  {
   "cell_type": "markdown",
   "id": "b10ac9a7",
   "metadata": {},
   "source": [
    "Create another ObjectLink from another protobuf message."
   ]
  },
  {
   "cell_type": "code",
   "execution_count": 9,
   "id": "d431dccf",
   "metadata": {
    "execution": {
     "iopub.execute_input": "2025-06-17T07:16:11.683993Z",
     "iopub.status.busy": "2025-06-17T07:16:11.683618Z",
     "iopub.status.idle": "2025-06-17T07:16:11.687276Z",
     "shell.execute_reply": "2025-06-17T07:16:11.686624Z"
    }
   },
   "outputs": [],
   "source": [
    "sop_t = ProtoSOPTemplate()\n",
    "sop_t.name = \"Mirror_100\"\n",
    "sop_t.mirror.reflectance = 100.0\n",
    "\n",
    "mirror_100_link = sop_t_db.create(message=sop_t)"
   ]
  },
  {
   "cell_type": "markdown",
   "id": "2afa5e3c",
   "metadata": {},
   "source": [
    "## Modify an ObjectLink"
   ]
  },
  {
   "cell_type": "markdown",
   "id": "dcfaf417",
   "metadata": {},
   "source": [
    "Retrieve the protobuf message corresponding to the ObjectLink."
   ]
  },
  {
   "cell_type": "code",
   "execution_count": 10,
   "id": "99dc30a4",
   "metadata": {
    "execution": {
     "iopub.execute_input": "2025-06-17T07:16:11.689391Z",
     "iopub.status.busy": "2025-06-17T07:16:11.689036Z",
     "iopub.status.idle": "2025-06-17T07:16:11.692452Z",
     "shell.execute_reply": "2025-06-17T07:16:11.691882Z"
    }
   },
   "outputs": [],
   "source": [
    "mirror_data = mirror_90_link.get()"
   ]
  },
  {
   "cell_type": "markdown",
   "id": "bff11d6c",
   "metadata": {},
   "source": [
    "Modify data locally"
   ]
  },
  {
   "cell_type": "code",
   "execution_count": 11,
   "id": "76a78318",
   "metadata": {
    "execution": {
     "iopub.execute_input": "2025-06-17T07:16:11.694330Z",
     "iopub.status.busy": "2025-06-17T07:16:11.694138Z",
     "iopub.status.idle": "2025-06-17T07:16:11.696902Z",
     "shell.execute_reply": "2025-06-17T07:16:11.696363Z"
    }
   },
   "outputs": [],
   "source": [
    "mirror_data.name = \"Mirror_50\"\n",
    "mirror_data.mirror.reflectance = 50"
   ]
  },
  {
   "cell_type": "markdown",
   "id": "0d64e8f1",
   "metadata": {},
   "source": [
    "Update on db"
   ]
  },
  {
   "cell_type": "code",
   "execution_count": 12,
   "id": "e213492f",
   "metadata": {
    "execution": {
     "iopub.execute_input": "2025-06-17T07:16:11.698666Z",
     "iopub.status.busy": "2025-06-17T07:16:11.698476Z",
     "iopub.status.idle": "2025-06-17T07:16:11.702649Z",
     "shell.execute_reply": "2025-06-17T07:16:11.701977Z"
    }
   },
   "outputs": [
    {
     "name": "stdout",
     "output_type": "stream",
     "text": [
      "ansys.api.speos.sop.v1.SOPTemplate\n",
      "{\n",
      "    \"name\": \"Mirror_50\",\n",
      "    \"mirror\": {\n",
      "        \"reflectance\": 50.0\n",
      "    },\n",
      "    \"description\": \"\",\n",
      "    \"metadata\": {}\n",
      "}\n"
     ]
    }
   ],
   "source": [
    "mirror_90_link.set(data=mirror_data)\n",
    "print(mirror_90_link)"
   ]
  },
  {
   "cell_type": "markdown",
   "id": "874f07e9",
   "metadata": {},
   "source": [
    "## Delete an ObjectLink"
   ]
  },
  {
   "cell_type": "markdown",
   "id": "dbe2630b",
   "metadata": {},
   "source": [
    "This means deleting data in db"
   ]
  },
  {
   "cell_type": "code",
   "execution_count": 13,
   "id": "96696635",
   "metadata": {
    "execution": {
     "iopub.execute_input": "2025-06-17T07:16:11.704514Z",
     "iopub.status.busy": "2025-06-17T07:16:11.704322Z",
     "iopub.status.idle": "2025-06-17T07:16:11.711747Z",
     "shell.execute_reply": "2025-06-17T07:16:11.711185Z"
    }
   },
   "outputs": [
    {
     "data": {
      "text/plain": [
       "[]"
      ]
     },
     "execution_count": 13,
     "metadata": {},
     "output_type": "execute_result"
    }
   ],
   "source": [
    "mirror_100_link.delete()\n",
    "mirror_90_link.delete()\n",
    "sop_t_db.list()"
   ]
  },
  {
   "cell_type": "code",
   "execution_count": 14,
   "id": "15b655ed",
   "metadata": {
    "execution": {
     "iopub.execute_input": "2025-06-17T07:16:11.713510Z",
     "iopub.status.busy": "2025-06-17T07:16:11.713316Z",
     "iopub.status.idle": "2025-06-17T07:16:11.869096Z",
     "shell.execute_reply": "2025-06-17T07:16:11.868446Z"
    }
   },
   "outputs": [
    {
     "data": {
      "text/plain": [
       "True"
      ]
     },
     "execution_count": 14,
     "metadata": {},
     "output_type": "execute_result"
    }
   ],
   "source": [
    "speos.close()"
   ]
  }
 ],
 "metadata": {
  "jupytext": {
   "cell_metadata_filter": "-all",
   "main_language": "python",
   "notebook_metadata_filter": "-all",
   "text_representation": {
    "extension": ".py",
    "format_name": "light"
   }
  },
  "language_info": {
   "codemirror_mode": {
    "name": "ipython",
    "version": 3
   },
   "file_extension": ".py",
   "mimetype": "text/x-python",
   "name": "python",
   "nbconvert_exporter": "python",
   "pygments_lexer": "ipython3",
   "version": "3.10.17"
  }
 },
 "nbformat": 4,
 "nbformat_minor": 5
}
