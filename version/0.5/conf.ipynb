{
 "cells": [
  {
   "cell_type": "code",
   "execution_count": 1,
   "id": "eaae8c83",
   "metadata": {
    "execution": {
     "iopub.execute_input": "2025-06-17T07:13:49.641381Z",
     "iopub.status.busy": "2025-06-17T07:13:49.640780Z",
     "iopub.status.idle": "2025-06-17T07:13:49.650662Z",
     "shell.execute_reply": "2025-06-17T07:13:49.650048Z"
    }
   },
   "outputs": [
    {
     "data": {
      "text/plain": [
       "'Sphinx documentation configuration file.'"
      ]
     },
     "execution_count": 1,
     "metadata": {},
     "output_type": "execute_result"
    }
   ],
   "source": [
    "\"\"\"Sphinx documentation configuration file.\"\"\""
   ]
  },
  {
   "cell_type": "code",
   "execution_count": 2,
   "id": "f0a101c4",
   "metadata": {
    "execution": {
     "iopub.execute_input": "2025-06-17T07:13:49.652711Z",
     "iopub.status.busy": "2025-06-17T07:13:49.652341Z",
     "iopub.status.idle": "2025-06-17T07:13:49.655215Z",
     "shell.execute_reply": "2025-06-17T07:13:49.654674Z"
    }
   },
   "outputs": [],
   "source": [
    "from datetime import datetime\n",
    "import os\n",
    "import pathlib\n",
    "import shutil"
   ]
  },
  {
   "cell_type": "code",
   "execution_count": 3,
   "id": "0aef1caa",
   "metadata": {
    "execution": {
     "iopub.execute_input": "2025-06-17T07:13:49.657183Z",
     "iopub.status.busy": "2025-06-17T07:13:49.656719Z",
     "iopub.status.idle": "2025-06-17T07:13:49.776306Z",
     "shell.execute_reply": "2025-06-17T07:13:49.775559Z"
    }
   },
   "outputs": [],
   "source": [
    "from ansys_sphinx_theme import ansys_favicon, get_version_match\n",
    "import sphinx\n",
    "from sphinx.builders.latex import LaTeXBuilder\n",
    "from sphinx.util import logging\n",
    "from sphinx.util.display import status_iterator"
   ]
  },
  {
   "cell_type": "code",
   "execution_count": 4,
   "id": "12f2ebc0",
   "metadata": {
    "execution": {
     "iopub.execute_input": "2025-06-17T07:13:49.778997Z",
     "iopub.status.busy": "2025-06-17T07:13:49.778681Z",
     "iopub.status.idle": "2025-06-17T07:13:50.605574Z",
     "shell.execute_reply": "2025-06-17T07:13:50.604800Z"
    }
   },
   "outputs": [],
   "source": [
    "from ansys.speos.core import __version__"
   ]
  },
  {
   "cell_type": "code",
   "execution_count": 5,
   "id": "7aafa508",
   "metadata": {
    "execution": {
     "iopub.execute_input": "2025-06-17T07:13:50.608338Z",
     "iopub.status.busy": "2025-06-17T07:13:50.608000Z",
     "iopub.status.idle": "2025-06-17T07:13:50.611761Z",
     "shell.execute_reply": "2025-06-17T07:13:50.611231Z"
    }
   },
   "outputs": [],
   "source": [
    "LaTeXBuilder.supported_image_types = [\"image/png\", \"image/pdf\", \"image/svg+xml\"]\n",
    "os.environ[\"DOCUMENTATION_BUILDING\"] = \"true\"\n",
    "os.environ[\"PYANSYS_VISUALIZER_HTML_BACKEND\"] = \"true\"\n",
    "logger = logging.getLogger(__name__)"
   ]
  },
  {
   "cell_type": "code",
   "execution_count": 6,
   "id": "85fd2201",
   "metadata": {
    "execution": {
     "iopub.execute_input": "2025-06-17T07:13:50.613811Z",
     "iopub.status.busy": "2025-06-17T07:13:50.613422Z",
     "iopub.status.idle": "2025-06-17T07:13:50.616731Z",
     "shell.execute_reply": "2025-06-17T07:13:50.616199Z"
    }
   },
   "outputs": [],
   "source": [
    "# Project information\n",
    "project = \"ansys-speos-core\"\n",
    "copyright = f\"(c) {datetime.now().year} ANSYS, Inc. All rights reserved\"\n",
    "author = \"Ansys Inc.\"\n",
    "release = version = __version__\n",
    "cname = os.getenv(\"DOCUMENTATION_CNAME\", default=\"speos.docs.pyansys.com\")"
   ]
  },
  {
   "cell_type": "code",
   "execution_count": 7,
   "id": "ee85450f",
   "metadata": {
    "execution": {
     "iopub.execute_input": "2025-06-17T07:13:50.618738Z",
     "iopub.status.busy": "2025-06-17T07:13:50.618362Z",
     "iopub.status.idle": "2025-06-17T07:13:50.621154Z",
     "shell.execute_reply": "2025-06-17T07:13:50.620619Z"
    }
   },
   "outputs": [],
   "source": [
    "# use the default pyansys logo\n",
    "html_theme = \"ansys_sphinx_theme\"\n",
    "html_favicon = ansys_favicon"
   ]
  },
  {
   "cell_type": "code",
   "execution_count": 8,
   "id": "ddf19564",
   "metadata": {
    "execution": {
     "iopub.execute_input": "2025-06-17T07:13:50.622931Z",
     "iopub.status.busy": "2025-06-17T07:13:50.622711Z",
     "iopub.status.idle": "2025-06-17T07:13:50.626853Z",
     "shell.execute_reply": "2025-06-17T07:13:50.626313Z"
    }
   },
   "outputs": [],
   "source": [
    "# specify the location of your github repo\n",
    "html_theme_options = {\n",
    "    \"logo\": \"pyansys\",\n",
    "    \"github_url\": \"https://github.com/ansys/pyspeos\",\n",
    "    \"show_prev_next\": False,\n",
    "    \"switcher\": {\n",
    "        \"json_url\": f\"https://{cname}/versions.json\",\n",
    "        \"version_match\": get_version_match(__version__),\n",
    "    },\n",
    "    \"check_switcher\": False,\n",
    "    \"ansys_sphinx_theme_autoapi\": {\n",
    "        \"project\": project,\n",
    "    },\n",
    "}\n",
    "BUILD_CHEATSHEET = os.environ.get(\"BUILD_CHEATSHEET\", \"false\").lower() == \"true\"\n",
    "if BUILD_CHEATSHEET:\n",
    "    html_theme_options[\"cheatsheet\"] = {\n",
    "        \"file\": \"cheat_sheet/cheat_sheet_script.qmd\",\n",
    "        \"title\": \"PySpeos cheat sheet\",\n",
    "        \"version\": f\"v{version}\",\n",
    "        \"pages\": [\"index\"],\n",
    "    }"
   ]
  },
  {
   "cell_type": "code",
   "execution_count": 9,
   "id": "d11fe9e0",
   "metadata": {
    "execution": {
     "iopub.execute_input": "2025-06-17T07:13:50.628695Z",
     "iopub.status.busy": "2025-06-17T07:13:50.628334Z",
     "iopub.status.idle": "2025-06-17T07:13:50.631340Z",
     "shell.execute_reply": "2025-06-17T07:13:50.630802Z"
    }
   },
   "outputs": [],
   "source": [
    "# Sphinx extensions\n",
    "extensions = [\n",
    "    \"numpydoc\",\n",
    "    \"sphinx.ext.intersphinx\",\n",
    "    \"sphinx_copybutton\",\n",
    "    \"sphinx.ext.autodoc\",\n",
    "    \"sphinx_design\",\n",
    "    \"sphinx_jinja\",\n",
    "    \"ansys_sphinx_theme.extension.autoapi\",\n",
    "    \"nbsphinx\",\n",
    "    \"myst_parser\",\n",
    "    \"sphinxcontrib.mermaid\",\n",
    "]"
   ]
  },
  {
   "cell_type": "code",
   "execution_count": 10,
   "id": "df5003a6",
   "metadata": {
    "execution": {
     "iopub.execute_input": "2025-06-17T07:13:50.633053Z",
     "iopub.status.busy": "2025-06-17T07:13:50.632853Z",
     "iopub.status.idle": "2025-06-17T07:13:50.636430Z",
     "shell.execute_reply": "2025-06-17T07:13:50.635900Z"
    }
   },
   "outputs": [],
   "source": [
    "# Intersphinx mapping\n",
    "intersphinx_mapping = {\n",
    "    \"python\": (\"https://docs.python.org/3/\", None),\n",
    "    \"grpc\": (\"https://grpc.github.io/grpc/python/\", None),\n",
    "    \"pypim\": (\"https://pypim.docs.pyansys.com/version/stable\", None),\n",
    "    # kept here as an example\n",
    "    # \"scipy\": (\"https://docs.scipy.org/doc/scipy/reference\", None),\n",
    "    # \"numpy\": (\"https://numpy.org/devdocs\", None),\n",
    "    # \"matplotlib\": (\"https://matplotlib.org/stable\", None),\n",
    "    # \"pandas\": (\"https://pandas.pydata.org/pandas-docs/stable\", None),\n",
    "    # \"pyvista\": (\"https://docs.pyvista.org/\", None),\n",
    "}"
   ]
  },
  {
   "cell_type": "code",
   "execution_count": 11,
   "id": "d08b7322",
   "metadata": {
    "execution": {
     "iopub.execute_input": "2025-06-17T07:13:50.638366Z",
     "iopub.status.busy": "2025-06-17T07:13:50.637978Z",
     "iopub.status.idle": "2025-06-17T07:13:50.641376Z",
     "shell.execute_reply": "2025-06-17T07:13:50.640855Z"
    }
   },
   "outputs": [],
   "source": [
    "numpydoc_show_class_members = False\n",
    "numpydoc_xref_param_type = True\n",
    "numpydoc_validate = True\n",
    "numpydoc_validation_checks = {\n",
    "    \"GL06\",  # Found unknown section\n",
    "    \"GL07\",  # Sections are in the wrong order.\n",
    "    # \"GL08\",  # The object does not have a docstring\n",
    "    \"GL09\",  # Deprecation warning should precede extended summary\n",
    "    \"GL10\",  # reST directives {directives} must be followed by two colons\n",
    "    \"SS01\",  # No summary found\n",
    "    \"SS02\",  # Summary does not start with a capital letter\n",
    "    # \"SS03\", # Summary does not end with a period\n",
    "    \"SS04\",  # Summary contains heading whitespaces\n",
    "    # \"SS05\", # Summary must start with infinitive verb, not third person\n",
    "    \"RT02\",  # The first line of the Returns section should contain only the\n",
    "    # type, unless multiple values are being returned\"\n",
    "}"
   ]
  },
  {
   "cell_type": "code",
   "execution_count": 12,
   "id": "48042b0a",
   "metadata": {
    "execution": {
     "iopub.execute_input": "2025-06-17T07:13:50.643338Z",
     "iopub.status.busy": "2025-06-17T07:13:50.642939Z",
     "iopub.status.idle": "2025-06-17T07:13:50.645766Z",
     "shell.execute_reply": "2025-06-17T07:13:50.645245Z"
    }
   },
   "outputs": [],
   "source": [
    "# static path\n",
    "html_static_path = [\"_static\"]\n",
    "html_css_files = [\"custom.css\"]"
   ]
  },
  {
   "cell_type": "code",
   "execution_count": 13,
   "id": "c4695b9e",
   "metadata": {
    "execution": {
     "iopub.execute_input": "2025-06-17T07:13:50.647653Z",
     "iopub.status.busy": "2025-06-17T07:13:50.647290Z",
     "iopub.status.idle": "2025-06-17T07:13:50.650262Z",
     "shell.execute_reply": "2025-06-17T07:13:50.649594Z"
    }
   },
   "outputs": [],
   "source": [
    "# Add any paths that contain templates here, relative to this directory.\n",
    "templates_path = [\"_templates\"]"
   ]
  },
  {
   "cell_type": "code",
   "execution_count": 14,
   "id": "f310a5c3",
   "metadata": {
    "execution": {
     "iopub.execute_input": "2025-06-17T07:13:50.652142Z",
     "iopub.status.busy": "2025-06-17T07:13:50.651735Z",
     "iopub.status.idle": "2025-06-17T07:13:50.654655Z",
     "shell.execute_reply": "2025-06-17T07:13:50.654107Z"
    }
   },
   "outputs": [],
   "source": [
    "# The suffix(es) of source filenames.\n",
    "source_suffix = \".rst\""
   ]
  },
  {
   "cell_type": "code",
   "execution_count": 15,
   "id": "994e2b4e",
   "metadata": {
    "execution": {
     "iopub.execute_input": "2025-06-17T07:13:50.656322Z",
     "iopub.status.busy": "2025-06-17T07:13:50.656140Z",
     "iopub.status.idle": "2025-06-17T07:13:50.659010Z",
     "shell.execute_reply": "2025-06-17T07:13:50.658460Z"
    }
   },
   "outputs": [],
   "source": [
    "# The master toctree document.\n",
    "master_doc = \"index\"\n",
    "suppress_warnings = [\"autoapi\"]\n",
    "autodoc_typehints = \"description\""
   ]
  },
  {
   "cell_type": "code",
   "execution_count": 16,
   "id": "0f0c77db",
   "metadata": {
    "execution": {
     "iopub.execute_input": "2025-06-17T07:13:50.661077Z",
     "iopub.status.busy": "2025-06-17T07:13:50.660677Z",
     "iopub.status.idle": "2025-06-17T07:13:50.666115Z",
     "shell.execute_reply": "2025-06-17T07:13:50.665565Z"
    },
    "lines_to_next_cell": 2
   },
   "outputs": [],
   "source": [
    "# -- Declare the Jinja context -----------------------------------------------\n",
    "BUILD_EXAMPLES = True if os.environ.get(\"BUILD_EXAMPLES\", \"true\") == \"true\" else False\n",
    "if BUILD_EXAMPLES:\n",
    "    extensions.extend([\"myst_parser\", \"nbsphinx\"])\n",
    "    nbsphinx_execute = \"always\"\n",
    "    nbsphinx_custom_formats = {\n",
    "        \".mystnb\": [\"jupytext.reads\", {\"fmt\": \"mystnb\"}],\n",
    "        \".py\": [\"jupytext.reads\", {\"fmt\": \"\"}],\n",
    "    }\n",
    "    nbsphinx_thumbnails = {\n",
    "        \"examples/core/bsdf\": \"_static/thumbnails/bsdf.png\",\n",
    "        \"examples/core/opt-prop\": \"_static/thumbnails/property_520x520.png\",\n",
    "        \"examples/core/source\": \"_static/thumbnails/source_520x520.png\",\n",
    "        \"examples/core/sensor\": \"_static/thumbnails/sensor_520x520.png\",\n",
    "        \"examples/core/part\": \"_static/thumbnails/part_520x520.png\",\n",
    "        \"examples/core/simulation\": \"_static/thumbnails/simulation_520x520.png\",\n",
    "        \"examples/core/project\": \"_static/thumbnails/how_to_create_a_project.PNG\",\n",
    "        \"examples/core/lpf-preview\": \"_static/thumbnails/script_lpf_preview.PNG\",\n",
    "        \"examples/core/prism-example\": \"_static/thumbnails/prism_example_using_script_layer.PNG\",\n",
    "        \"examples/kernel/object-link\": \"_static/thumbnails/pySpeos_520x520.png\",\n",
    "        \"examples/kernel/scene-job\": \"_static/thumbnails/pySpeos_520x520.png\",\n",
    "        \"examples/kernel/modify-scene\": \"_static/thumbnails/pySpeos_520x520.png\",\n",
    "        \"examples/workflow/open-result\": \"_static/thumbnails/workflow_open_result.png\",\n",
    "        \"examples/workflow/combine-speos\": \"_static/thumbnails/workflow_moving_car.PNG\",\n",
    "    }\n",
    "    nbsphinx_prompt_width = \"\"\n",
    "    nbsphinx_prolog = \"\"\"\n",
    "\n",
    "    .. grid:: 5\n",
    "\n",
    "        .. grid-item::\n",
    "\n",
    "        .. grid-item::\n",
    "            :child-align: center\n",
    "\n",
    "            .. button-link:: {cname_pref}/{python_file_loc}\n",
    "                :color: primary\n",
    "                :shadow:\n",
    "\n",
    "                Download as Python script :fab:`python`\n",
    "\n",
    "        .. grid-item::\n",
    "            :child-align: center\n",
    "\n",
    "            .. button-link:: {cname_pref}/{ipynb_file_loc}\n",
    "               :color: primary\n",
    "               :shadow:\n",
    "\n",
    "                Download as Jupyter notebook :fas:`book`\n",
    "\n",
    "        .. grid-item::\n",
    "            :child-align: center\n",
    "\n",
    "            .. button-link:: {cname_pref}/{assets_loc}\n",
    "               :color: primary\n",
    "               :shadow:\n",
    "\n",
    "                Download example's assets :fa:`file`\n",
    "\n",
    "        .. grid-item::\n",
    "\n",
    "----\n",
    "\n",
    "    \"\"\".format(\n",
    "        cname_pref=f\"https://{cname}/version/{get_version_match(version)}\",\n",
    "        python_file_loc=\"{{ env.docname }}.py\",\n",
    "        ipynb_file_loc=\"{{ env.docname }}.ipynb\",\n",
    "        assets_loc=\"_static/assets/download/assets.zip\",\n",
    "    )"
   ]
  },
  {
   "cell_type": "code",
   "execution_count": 17,
   "id": "5d7af799",
   "metadata": {
    "execution": {
     "iopub.execute_input": "2025-06-17T07:13:50.668082Z",
     "iopub.status.busy": "2025-06-17T07:13:50.667600Z",
     "iopub.status.idle": "2025-06-17T07:13:50.670771Z",
     "shell.execute_reply": "2025-06-17T07:13:50.670130Z"
    }
   },
   "outputs": [],
   "source": [
    "jinja_contexts = {\n",
    "    \"linux_containers\": {},\n",
    "    \"main_toctree\": {\n",
    "        \"build_examples\": BUILD_EXAMPLES,\n",
    "    },\n",
    "}"
   ]
  },
  {
   "cell_type": "code",
   "execution_count": 18,
   "id": "127bb75e",
   "metadata": {
    "execution": {
     "iopub.execute_input": "2025-06-17T07:13:50.672620Z",
     "iopub.status.busy": "2025-06-17T07:13:50.672438Z",
     "iopub.status.idle": "2025-06-17T07:13:50.678055Z",
     "shell.execute_reply": "2025-06-17T07:13:50.677459Z"
    }
   },
   "outputs": [],
   "source": [
    "def copy_examples_to_output_dir(app: sphinx.application.Sphinx, exception: Exception):\n",
    "    \"\"\"\n",
    "    Copy the examples directory to the output directory of the documentation.\n",
    "\n",
    "    Parameters\n",
    "    ----------\n",
    "    app : sphinx.application.Sphinx\n",
    "        Sphinx application instance containing the all the doc build configuration.\n",
    "    exception : Exception\n",
    "        Exception encountered during the building of the documentation.\n",
    "\n",
    "    \"\"\"\n",
    "    OUTPUT_EXAMPLES = pathlib.Path(app.outdir) / \"examples\"\n",
    "    OUTPUT_IMAGES = OUTPUT_EXAMPLES / \"img\"\n",
    "    OUTPUT_CORE = OUTPUT_EXAMPLES / \"core\"\n",
    "    OUTPUT_KERNEL = OUTPUT_EXAMPLES / \"kernel\"\n",
    "    OUTPUT_WORKFLOW = OUTPUT_EXAMPLES / \"workflow\"\n",
    "    for directory in [\n",
    "        OUTPUT_EXAMPLES,\n",
    "        OUTPUT_IMAGES,\n",
    "        OUTPUT_CORE,\n",
    "        OUTPUT_KERNEL,\n",
    "        OUTPUT_WORKFLOW,\n",
    "    ]:\n",
    "        if not directory.exists():\n",
    "            directory.mkdir(parents=True, exist_ok=True)\n",
    "\n",
    "    SOURCE_EXAMPLES = pathlib.Path(app.srcdir) / \"examples\"\n",
    "    EXAMPLES_DIRECTORY = SOURCE_EXAMPLES.parent.parent.parent / \"examples\"\n",
    "\n",
    "    # Copyt the examples\n",
    "    examples = list(EXAMPLES_DIRECTORY.glob(\"**/*.py\"))\n",
    "    for file in status_iterator(\n",
    "        examples,\n",
    "        \"Copying example to doc/_build/examples/\",\n",
    "        \"green\",\n",
    "        len(examples),\n",
    "        verbosity=1,\n",
    "        stringify_func=(lambda file: file.name),\n",
    "    ):\n",
    "        destination_file = OUTPUT_EXAMPLES / file.parent.name / file.name\n",
    "        destination_file.write_text(file.read_text(encoding=\"utf-8\"), encoding=\"utf-8\")"
   ]
  },
  {
   "cell_type": "code",
   "execution_count": 19,
   "id": "14d1aecd",
   "metadata": {
    "execution": {
     "iopub.execute_input": "2025-06-17T07:13:50.680143Z",
     "iopub.status.busy": "2025-06-17T07:13:50.679652Z",
     "iopub.status.idle": "2025-06-17T07:13:50.684752Z",
     "shell.execute_reply": "2025-06-17T07:13:50.684207Z"
    }
   },
   "outputs": [],
   "source": [
    "def copy_examples_files_to_source_dir(app: sphinx.application.Sphinx):\n",
    "    \"\"\"\n",
    "    Copy the examples directory to the source directory of the documentation.\n",
    "\n",
    "    Parameters\n",
    "    ----------\n",
    "    app : sphinx.application.Sphinx\n",
    "        Sphinx application instance containing the all the doc build configuration.\n",
    "\n",
    "    \"\"\"\n",
    "    SOURCE_EXAMPLES = pathlib.Path(app.srcdir) / \"examples\"\n",
    "    SOURCE_IMAGES = SOURCE_EXAMPLES / \"img\"\n",
    "    CORE_EXAMPLES = SOURCE_EXAMPLES / \"core\"\n",
    "    KERNEL_EXAMPLES = SOURCE_EXAMPLES / \"kernel\"\n",
    "    WORKFLOW_EXAMPLES = SOURCE_EXAMPLES / \"workflow\"\n",
    "    for directory in [\n",
    "        SOURCE_EXAMPLES,\n",
    "        SOURCE_IMAGES,\n",
    "        CORE_EXAMPLES,\n",
    "        KERNEL_EXAMPLES,\n",
    "        WORKFLOW_EXAMPLES,\n",
    "    ]:\n",
    "        if not directory.exists():\n",
    "            directory.mkdir(parents=True, exist_ok=True)\n",
    "\n",
    "    EXAMPLES_DIRECTORY = SOURCE_EXAMPLES.parent.parent.parent / \"examples\"\n",
    "\n",
    "    # Copy the the examples\n",
    "    examples = list(EXAMPLES_DIRECTORY.glob(\"**/*.py\"))\n",
    "    for file in status_iterator(\n",
    "        examples,\n",
    "        \"Copying example to doc/source/examples/\",\n",
    "        \"green\",\n",
    "        len(examples),\n",
    "        verbosity=1,\n",
    "        stringify_func=(lambda file: file.name),\n",
    "    ):\n",
    "        destination_file = SOURCE_EXAMPLES / file.parent.name / file.name\n",
    "        destination_file.write_text(file.read_text(encoding=\"utf-8\"), encoding=\"utf-8\")"
   ]
  },
  {
   "cell_type": "code",
   "execution_count": 20,
   "id": "0496812a",
   "metadata": {
    "execution": {
     "iopub.execute_input": "2025-06-17T07:13:50.686778Z",
     "iopub.status.busy": "2025-06-17T07:13:50.686395Z",
     "iopub.status.idle": "2025-06-17T07:13:50.690782Z",
     "shell.execute_reply": "2025-06-17T07:13:50.690256Z"
    }
   },
   "outputs": [],
   "source": [
    "def copy_assets_to_output_dir(app: sphinx.application.Sphinx, exception: Exception):\n",
    "    \"\"\"Copy the assets directory to the output directory of the documentation.\n",
    "\n",
    "    Parameters\n",
    "    ----------\n",
    "    app : sphinx.application.Sphinx\n",
    "        Sphinx application instance containing the all the doc build configuration.\n",
    "    exception : Exception\n",
    "        Exception encountered during the building of the documentation.\n",
    "    \"\"\"\n",
    "    if app.builder.name == \"html\":\n",
    "        SOURCE_ASSETS = pathlib.Path(app.outdir) / \"_static\" / \"assets\" / \"download\"\n",
    "        ASSETS_DIRECTORY = pathlib.Path(app.outdir).parent.parent.parent / \"tests\" / \"assets\"\n",
    "\n",
    "        logger.info(\"Extracting assets to output directory...\")\n",
    "        zip_path = pathlib.Path(shutil.make_archive(\"assets\", \"zip\", ASSETS_DIRECTORY))\n",
    "        zip_path = shutil.move(zip_path, SOURCE_ASSETS / zip_path.name)\n",
    "        logger.info(f\"Extracted assets to {zip_path}.\")\n",
    "    else:\n",
    "        logger.info(f\"Skip assets extraction with build {app.builder.name}.\")"
   ]
  },
  {
   "cell_type": "code",
   "execution_count": 21,
   "id": "0d2b61e8",
   "metadata": {
    "execution": {
     "iopub.execute_input": "2025-06-17T07:13:50.692713Z",
     "iopub.status.busy": "2025-06-17T07:13:50.692345Z",
     "iopub.status.idle": "2025-06-17T07:13:50.695994Z",
     "shell.execute_reply": "2025-06-17T07:13:50.695317Z"
    }
   },
   "outputs": [],
   "source": [
    "def remove_examples_from_source_dir(app: sphinx.application.Sphinx, exception: Exception):\n",
    "    \"\"\"\n",
    "    Remove the example files from the documentation source directory.\n",
    "\n",
    "    Parameters\n",
    "    ----------\n",
    "    app : sphinx.application.Sphinx\n",
    "        Sphinx application instance containing the all the doc build configuration.\n",
    "    exception : Exception\n",
    "        Exception encountered during the building of the documentation.\n",
    "\n",
    "    \"\"\"\n",
    "    EXAMPLES_DIRECTORY = pathlib.Path(app.srcdir) / \"examples\"\n",
    "    logger.info(f\"\\nRemoving {EXAMPLES_DIRECTORY} directory...\")\n",
    "    shutil.rmtree(EXAMPLES_DIRECTORY)"
   ]
  },
  {
   "cell_type": "code",
   "execution_count": 22,
   "id": "4e4a84ba",
   "metadata": {
    "execution": {
     "iopub.execute_input": "2025-06-17T07:13:50.698222Z",
     "iopub.status.busy": "2025-06-17T07:13:50.697754Z",
     "iopub.status.idle": "2025-06-17T07:13:50.701398Z",
     "shell.execute_reply": "2025-06-17T07:13:50.700858Z"
    }
   },
   "outputs": [],
   "source": [
    "def setup(app: sphinx.application.Sphinx):\n",
    "    \"\"\"\n",
    "    Run different hook functions during the documentation build.\n",
    "\n",
    "    Parameters\n",
    "    ----------\n",
    "    app : sphinx.application.Sphinx\n",
    "        Sphinx application instance containing the all the doc build configuration.\n",
    "\n",
    "    \"\"\"\n",
    "    # HACK: rST files are copied to the doc/source directory before the build.\n",
    "    # Sphinx needs all source files to be in the source directory to build.\n",
    "    # However, the examples are desired to be kept in the root directory. Once the\n",
    "    # build has completed, no matter its success, the examples are removed from\n",
    "    # the source directory.\n",
    "    if BUILD_EXAMPLES:\n",
    "        app.connect(\"builder-inited\", copy_examples_files_to_source_dir)\n",
    "        app.connect(\"build-finished\", remove_examples_from_source_dir)\n",
    "        app.connect(\"build-finished\", copy_assets_to_output_dir)\n",
    "        app.connect(\"build-finished\", copy_examples_to_output_dir)"
   ]
  }
 ],
 "metadata": {
  "jupytext": {
   "cell_metadata_filter": "-all",
   "main_language": "python",
   "notebook_metadata_filter": "-all",
   "text_representation": {
    "extension": ".py",
    "format_name": "light"
   }
  },
  "language_info": {
   "codemirror_mode": {
    "name": "ipython",
    "version": 3
   },
   "file_extension": ".py",
   "mimetype": "text/x-python",
   "name": "python",
   "nbconvert_exporter": "python",
   "pygments_lexer": "ipython3",
   "version": "3.10.17"
  }
 },
 "nbformat": 4,
 "nbformat_minor": 5
}
